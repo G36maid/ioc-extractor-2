{
 "cells": [
  {
   "cell_type": "code",
   "execution_count": 1,
   "metadata": {
    "ExecuteTime": {
     "end_time": "2021-05-24T07:47:52.874352Z",
     "start_time": "2021-05-24T07:47:52.577987Z"
    }
   },
   "outputs": [
    {
     "data": {
      "application/javascript": "\n            setTimeout(function() {\n                var nbb_cell_id = 1;\n                var nbb_unformatted_code = \"%load_ext nb_black\";\n                var nbb_formatted_code = \"%load_ext nb_black\";\n                var nbb_cells = Jupyter.notebook.get_cells();\n                for (var i = 0; i < nbb_cells.length; ++i) {\n                    if (nbb_cells[i].input_prompt_number == nbb_cell_id) {\n                        if (nbb_cells[i].get_text() == nbb_unformatted_code) {\n                             nbb_cells[i].set_text(nbb_formatted_code);\n                        }\n                        break;\n                    }\n                }\n            }, 500);\n            ",
      "text/plain": [
       "<IPython.core.display.Javascript object>"
      ]
     },
     "metadata": {},
     "output_type": "display_data"
    }
   ],
   "source": [
    "%load_ext nb_black"
   ]
  },
  {
   "cell_type": "markdown",
   "metadata": {},
   "source": [
    "---"
   ]
  },
  {
   "cell_type": "markdown",
   "metadata": {
    "ExecuteTime": {
     "end_time": "2021-05-17T10:15:18.287412Z",
     "start_time": "2021-05-17T10:15:18.279484Z"
    }
   },
   "source": [
    "# Test data"
   ]
  },
  {
   "cell_type": "code",
   "execution_count": 2,
   "metadata": {
    "ExecuteTime": {
     "end_time": "2021-05-24T07:48:29.096749Z",
     "start_time": "2021-05-24T07:48:29.072618Z"
    }
   },
   "outputs": [
    {
     "data": {
      "application/javascript": "\n            setTimeout(function() {\n                var nbb_cell_id = 2;\n                var nbb_unformatted_code = \"hellokitty = \\\"../data/hellokitty-ransomware-lacks-stealth-but-still-strikes-home.html\\\"\\nwastedlocker = \\\"../data/wastedlocker-a-new-ransomware-variant-developed-by-the-evil-corp-group.html\\\"  # file:///Users/edhsu/Projects/magpie/hellokitty/data/wastedlocker-a-new-ransomware-variant-developed-by-the-evil-corp-group.html\\nformbook = \\\"../data/formbook.html\\\"  # https://any.run/malware-trends/formbook\\ncovid19 = \\\"../data/lazarus-covets-covid-19-related-intelligence.html\\\"  # https://securelist.com/lazarus-covets-covid-19-related-intelligence/99906/\\nta09 = \\\"../data/TA09-051A.html\\\"  # https://us-cert.cisa.gov/ncas/alerts/TA09-051A\\nnews = \\\"../data/News.aspx?NewsID=935244\\\"\";\n                var nbb_formatted_code = \"hellokitty = \\\"../data/hellokitty-ransomware-lacks-stealth-but-still-strikes-home.html\\\"\\nwastedlocker = \\\"../data/wastedlocker-a-new-ransomware-variant-developed-by-the-evil-corp-group.html\\\"  # file:///Users/edhsu/Projects/magpie/hellokitty/data/wastedlocker-a-new-ransomware-variant-developed-by-the-evil-corp-group.html\\nformbook = \\\"../data/formbook.html\\\"  # https://any.run/malware-trends/formbook\\ncovid19 = \\\"../data/lazarus-covets-covid-19-related-intelligence.html\\\"  # https://securelist.com/lazarus-covets-covid-19-related-intelligence/99906/\\nta09 = \\\"../data/TA09-051A.html\\\"  # https://us-cert.cisa.gov/ncas/alerts/TA09-051A\\nnews = \\\"../data/News.aspx?NewsID=935244\\\"\";\n                var nbb_cells = Jupyter.notebook.get_cells();\n                for (var i = 0; i < nbb_cells.length; ++i) {\n                    if (nbb_cells[i].input_prompt_number == nbb_cell_id) {\n                        if (nbb_cells[i].get_text() == nbb_unformatted_code) {\n                             nbb_cells[i].set_text(nbb_formatted_code);\n                        }\n                        break;\n                    }\n                }\n            }, 500);\n            ",
      "text/plain": [
       "<IPython.core.display.Javascript object>"
      ]
     },
     "metadata": {},
     "output_type": "display_data"
    }
   ],
   "source": [
    "hellokitty = \"../data/hellokitty-ransomware-lacks-stealth-but-still-strikes-home.html\"\n",
    "wastedlocker = \"../data/wastedlocker-a-new-ransomware-variant-developed-by-the-evil-corp-group.html\"  # file:///Users/edhsu/Projects/magpie/hellokitty/data/wastedlocker-a-new-ransomware-variant-developed-by-the-evil-corp-group.html\n",
    "formbook = \"../data/formbook.html\"  # https://any.run/malware-trends/formbook\n",
    "covid19 = \"../data/lazarus-covets-covid-19-related-intelligence.html\"  # https://securelist.com/lazarus-covets-covid-19-related-intelligence/99906/\n",
    "ta09 = \"../data/TA09-051A.html\"  # https://us-cert.cisa.gov/ncas/alerts/TA09-051A\n",
    "news = \"../data/News.aspx?NewsID=935244\""
   ]
  },
  {
   "cell_type": "markdown",
   "metadata": {},
   "source": [
    "|              |hellokitty    |wastedlocker  |formbook      |covid19       |ta09          |news\n",
    ":--------------|:-------------|:-------------|:-------------|:-------------|:-------------|:-------------|\n",
    "betweenness    |/html/body/div[1]/div/div[2]/div/div|**/html/body/div[1]/div[2]/div/div/main/article/div[2]**|/html/body/section[1]/div|/html/body/div[4]|~~/html/body/div/header/div~~|/html/body/form|\n",
    "closeness      |/html/body/div[1]/div/div[2]/div/div|**/html/body/div[1]/div[2]/div/div/main/article/div[2]**|/html/body/section[1]/div|/html/body/div[4]|~~/html/body/div/header/div~~|/html/body/form|\n",
    "degree         |**/html/body/div[1]/div/div[2]/div/div/div/div[1]/article/div/section/section**|**/html/body/div[1]/div[2]/div/div/main/article/div[2]**|/html/body/section[1]/div/div[5]/div[2]|**/html/body/div[4]/section[2]/div/article/div[1]/div/div[2]/div[1]/div[1]/div[2]/div**|~~/html/body/div/header/div/div[5]/div/section/div[2]/article/div/div[1]~~|~~/html/body/div[3]/div[2]/div/div/div[1]/ul/li[4]/div/ul~~|\n",
    "eigenvector    |**/html/body/div[1]/div/div[2]/div/div/div/div[1]/article/div/section/section**|**/html/body/div[1]/div[2]/div/div/main/article/div[2]**|/html/body/section[1]/div/div[5]/div[2]|**/html/body/div[4]/section[2]/div/article/div[1]/div/div[2]/div[1]/div[1]/div[2]/div**|~~/html/body/div/header/div/div[5]/div/section/div[2]/article/div/div[1]~~|-|\n",
    "pagerank       |**/html/body/div[1]/div/div[2]/div/div/div/div[1]/article/div/section/section**|**/html/body/div[1]/div[2]/div/div/main/article/div[2]**|/html/body/section[1]/div/div[5]/div[2]|**/html/body/div[4]/section[2]/div/article/div[1]/div/div[2]/div[1]/div[1]/div[2]/div**|~~/html/body/div/header/div/div[5]/div/section/div[2]/article/div/div[1]~~|~~/html/body/div[3]/div[2]/div/div/div[1]/ul/li[4]/div/ul~~|\n",
    "hubs           |**/html/body/div[1]/div/div[2]/div/div/div/div[1]/article/div/section/section**|**/html/body/div[1]/div[2]/div/div/main/article/div[2]**|/html/body/section[1]/div/div[5]/div[2]|**/html/body/div[4]/section[2]/div/article/div[1]/div/div[2]/div[1]/div[1]/div[2]/div**|~~/html/body/div/header/div/div[5]/div/section/div[2]/article/div/div[1]~~|-|\n",
    "authorities    |**/html/body/div[1]/div/div[2]/div/div/div/div[1]/article/div/section/section**|**/html/body/div[1]/div[2]/div/div/main/article/div[2]**|/html/body/section[1]/div/div[5]/div[2]|**/html/body/div[4]/section[2]/div/article/div[1]/div/div[2]/div[1]/div[1]/div[2]/div**|~~/html/body/div/header/div/div[5]/div/section/div[2]/article/div/div[1]~~|-|\n",
    "ws(betweenness)|~~/html/body/div[1]~~|~~/html/body~~|/html/body|~~/html/body~~|/html/body/div|~~/html/body~~|\n",
    "ws(closeness)  |~~/html/body~~|/html/body/div[1]/div[2]/div|/html/body|~~/html/body~~|~~/html/body~~|~~/html/body~~|\n",
    "ws(degree)     |~~/html/body~~|~~/html/body~~|/html/body|~~/html/body~~|~~/html/body~~|~~/html/body~~|\n",
    "ws(eigenvector)|/html/body/div[1]/div/div[2]/div/div/div/div[1]/article|/html/body/div[1]/div[2]/div/div/main/article|/html/body/section[1]|/html/body/div[4]/section[2]/div/article/div[1]/div/div[2]/div[1]/div[1]|~~/html/body/div/header/div/div[5]/div/section/div[2]/article~~|-|\n",
    "ws(pagerank)   |~~/html/body~~|~~html/body~~|/html/body|~~/html/body~~|/html/body/div|~~/html/body~~|\n",
    "ws(hubs)       |/html/body/div[1]/div/div[2]/div/div/div/div[1]/article|/html/body/div[1]/div[2]/div/div/main/article|/html/body/section[1]|/html/body/div[4]/section[2]/div/article/div[1]/div/div[2]/div[1]/div[1]/div[2]|~~/html/body/div/header/div/div[5]/div/section/div[2]/article~~|-|\n",
    "ws(authorities)|/html/body/div[1]/div/div[2]/div/div/div/div[1]|/html/body/div[1]/div[2]/div/div/main|/html/body/section[1]/div|/html/body/div[4]/section[2]/div/article/div[1]/div/div[2]/div[1]/div[1]|~~/html/body/div/header/div/div[5]/div/section/div[2]/article~~|-|"
   ]
  },
  {
   "cell_type": "markdown",
   "metadata": {},
   "source": [
    "---"
   ]
  },
  {
   "cell_type": "markdown",
   "metadata": {},
   "source": [
    "# Crawler"
   ]
  },
  {
   "cell_type": "markdown",
   "metadata": {
    "ExecuteTime": {
     "end_time": "2021-05-17T10:09:00.094190Z",
     "start_time": "2021-05-17T10:09:00.077248Z"
    }
   },
   "source": [
    "## Todo\n",
    "\n",
    "- request response metadata\n",
    "    - document hashing (all or main parts)\n",
    "    - request datetime / timestamp for updating\n",
    "- cralwer proxy pool\n",
    "- storage"
   ]
  },
  {
   "cell_type": "code",
   "execution_count": 1,
   "metadata": {
    "ExecuteTime": {
     "end_time": "2021-05-24T07:48:35.312490Z",
     "start_time": "2021-05-24T07:48:34.995922Z"
    }
   },
   "outputs": [],
   "source": [
    "import requests"
   ]
  },
  {
   "cell_type": "code",
   "execution_count": 3,
   "metadata": {
    "ExecuteTime": {
     "end_time": "2021-05-24T07:48:44.789131Z",
     "start_time": "2021-05-24T07:48:43.534179Z"
    }
   },
   "outputs": [],
   "source": [
    "response = requests.get(\n",
    "    \"https://labs.sentinelone.com/hellokitty-ransomware-lacks-stealth-but-still-strikes-home\",\n",
    "    # allow_redirects=False,\n",
    "    timeout=10,\n",
    ")"
   ]
  },
  {
   "cell_type": "code",
   "execution_count": 5,
   "metadata": {
    "ExecuteTime": {
     "end_time": "2021-05-24T07:48:46.766941Z",
     "start_time": "2021-05-24T07:48:46.756027Z"
    }
   },
   "outputs": [
    {
     "data": {
      "application/javascript": "\n            setTimeout(function() {\n                var nbb_cell_id = 5;\n                var nbb_unformatted_code = \"# metadata\\n# print(response.status_code, response.encoding, \\\"\\\\n\\\")\\n# print(response.headers.get(\\\"content-type\\\"), response.headers, \\\"\\\\n\\\")\";\n                var nbb_formatted_code = \"# metadata\\n# print(response.status_code, response.encoding, \\\"\\\\n\\\")\\n# print(response.headers.get(\\\"content-type\\\"), response.headers, \\\"\\\\n\\\")\";\n                var nbb_cells = Jupyter.notebook.get_cells();\n                for (var i = 0; i < nbb_cells.length; ++i) {\n                    if (nbb_cells[i].input_prompt_number == nbb_cell_id) {\n                        if (nbb_cells[i].get_text() == nbb_unformatted_code) {\n                             nbb_cells[i].set_text(nbb_formatted_code);\n                        }\n                        break;\n                    }\n                }\n            }, 500);\n            ",
      "text/plain": [
       "<IPython.core.display.Javascript object>"
      ]
     },
     "metadata": {},
     "output_type": "display_data"
    }
   ],
   "source": [
    "# metadata\n",
    "# print(response.status_code, response.encoding, \"\\n\")\n",
    "# print(response.headers.get(\"content-type\"), response.headers, \"\\n\")"
   ]
  },
  {
   "cell_type": "code",
   "execution_count": 6,
   "metadata": {
    "ExecuteTime": {
     "end_time": "2021-05-24T07:48:47.839344Z",
     "start_time": "2021-05-24T07:48:47.822416Z"
    },
    "scrolled": true
   },
   "outputs": [
    {
     "data": {
      "application/javascript": "\n            setTimeout(function() {\n                var nbb_cell_id = 6;\n                var nbb_unformatted_code = \"# response.content # binary\\n# print(response.text)\";\n                var nbb_formatted_code = \"# response.content # binary\\n# print(response.text)\";\n                var nbb_cells = Jupyter.notebook.get_cells();\n                for (var i = 0; i < nbb_cells.length; ++i) {\n                    if (nbb_cells[i].input_prompt_number == nbb_cell_id) {\n                        if (nbb_cells[i].get_text() == nbb_unformatted_code) {\n                             nbb_cells[i].set_text(nbb_formatted_code);\n                        }\n                        break;\n                    }\n                }\n            }, 500);\n            ",
      "text/plain": [
       "<IPython.core.display.Javascript object>"
      ]
     },
     "metadata": {},
     "output_type": "display_data"
    }
   ],
   "source": [
    "# response.content # binary\n",
    "# print(response.text)"
   ]
  },
  {
   "cell_type": "markdown",
   "metadata": {},
   "source": [
    "---"
   ]
  },
  {
   "cell_type": "markdown",
   "metadata": {},
   "source": [
    "# Preprocessing -  Extraction"
   ]
  },
  {
   "cell_type": "markdown",
   "metadata": {
    "ExecuteTime": {
     "end_time": "2021-05-18T07:57:24.305255Z",
     "start_time": "2021-05-18T07:57:24.278511Z"
    }
   },
   "source": [
    "## Parse document to html element"
   ]
  },
  {
   "cell_type": "code",
   "execution_count": 5,
   "metadata": {
    "ExecuteTime": {
     "end_time": "2021-05-24T07:48:51.531317Z",
     "start_time": "2021-05-24T07:48:51.413304Z"
    }
   },
   "outputs": [],
   "source": [
    "from lxml import etree\n",
    "from functional import seq, pseq"
   ]
  },
  {
   "cell_type": "code",
   "execution_count": 6,
   "metadata": {
    "ExecuteTime": {
     "end_time": "2021-05-24T07:49:12.650310Z",
     "start_time": "2021-05-24T07:49:12.628576Z"
    }
   },
   "outputs": [],
   "source": [
    "#\n",
    "\"\"\"\n",
    "doc = open(\n",
    "    \"../data/hellokitty-ransomware-lacks-stealth-but-still-strikes-home.html\",\n",
    "    \"r\",\n",
    ").read()\n",
    "\"\"\"\n",
    "doc = response.text\n",
    "root = etree.HTML(doc)"
   ]
  },
  {
   "cell_type": "code",
   "execution_count": 9,
   "metadata": {
    "ExecuteTime": {
     "end_time": "2021-05-24T07:49:13.669651Z",
     "start_time": "2021-05-24T07:49:13.660194Z"
    }
   },
   "outputs": [],
   "source": [
    "# Test\n",
    "# check doc is parsable html\n",
    "# root = etree.HTML(\"\")\n",
    "assert isinstance(root, etree._Element)"
   ]
  },
  {
   "cell_type": "code",
   "execution_count": 10,
   "metadata": {
    "ExecuteTime": {
     "end_time": "2021-05-24T07:49:14.100382Z",
     "start_time": "2021-05-24T07:49:14.083376Z"
    }
   },
   "outputs": [],
   "source": [
    "elements = root.xpath(\"//*\")"
   ]
  },
  {
   "cell_type": "markdown",
   "metadata": {},
   "source": [
    "## Filter printable elements"
   ]
  },
  {
   "cell_type": "code",
   "execution_count": 12,
   "metadata": {
    "ExecuteTime": {
     "end_time": "2021-05-24T07:49:17.392316Z",
     "start_time": "2021-05-24T07:49:17.369742Z"
    }
   },
   "outputs": [],
   "source": [
    "def has_printable_content(element):\n",
    "    def check(content):\n",
    "        if content is not None:\n",
    "            return content.isspace()\n",
    "        else:\n",
    "            return True\n",
    "\n",
    "    result = not all((check(element.text), check(element.tail)))\n",
    "    return result\n",
    "\n",
    "\n",
    "def has_printable_tag(element):\n",
    "    result = element.tag not in [\"script\", \"style\"]\n",
    "    return result"
   ]
  },
  {
   "cell_type": "code",
   "execution_count": 13,
   "metadata": {
    "ExecuteTime": {
     "end_time": "2021-05-24T07:49:17.813030Z",
     "start_time": "2021-05-24T07:49:17.790420Z"
    }
   },
   "outputs": [],
   "source": [
    "printable_elements = (\n",
    "    seq(elements)\n",
    "    .filter(lambda element: has_printable_content(element))\n",
    "    .filter(lambda element: has_printable_tag(element))\n",
    "    .cache()\n",
    ")"
   ]
  },
  {
   "cell_type": "markdown",
   "metadata": {},
   "source": [
    "## Get content density of elements"
   ]
  },
  {
   "cell_type": "code",
   "execution_count": 13,
   "metadata": {
    "ExecuteTime": {
     "end_time": "2021-05-24T07:49:18.906780Z",
     "start_time": "2021-05-24T07:49:18.897841Z"
    }
   },
   "outputs": [
    {
     "data": {
      "application/javascript": "\n            setTimeout(function() {\n                var nbb_cell_id = 13;\n                var nbb_unformatted_code = \"from operator import add\";\n                var nbb_formatted_code = \"from operator import add\";\n                var nbb_cells = Jupyter.notebook.get_cells();\n                for (var i = 0; i < nbb_cells.length; ++i) {\n                    if (nbb_cells[i].input_prompt_number == nbb_cell_id) {\n                        if (nbb_cells[i].get_text() == nbb_unformatted_code) {\n                             nbb_cells[i].set_text(nbb_formatted_code);\n                        }\n                        break;\n                    }\n                }\n            }, 500);\n            ",
      "text/plain": [
       "<IPython.core.display.Javascript object>"
      ]
     },
     "metadata": {},
     "output_type": "display_data"
    }
   ],
   "source": [
    "from operator import add"
   ]
  },
  {
   "cell_type": "code",
   "execution_count": 14,
   "metadata": {
    "ExecuteTime": {
     "end_time": "2021-05-24T07:49:19.582400Z",
     "start_time": "2021-05-24T07:49:19.548947Z"
    }
   },
   "outputs": [
    {
     "data": {
      "application/javascript": "\n            setTimeout(function() {\n                var nbb_cell_id = 14;\n                var nbb_unformatted_code = \"def get_content_size(element):\\n\\n    \\\"\\\"\\\"\\n    # original\\n    content = (\\n        seq(element.text, element.tail)\\n        .map(lambda content: content if content is not None else \\\"\\\")\\n        .make_string(\\\"\\\")\\n    )\\n    return len(content)\\n    \\\"\\\"\\\"\\n\\n    \\\"\\\"\\\"\\n    # test\\n    '\\\\ndsa*\\\\nNtrtsca\\\\nds_moni\\\\nNotifie\\\\nTmListe\\\\niVPAgen\\\\nCNTAoSM\\\\nIBM*\\\\nbes10*\\\\nblack*\\\\nrobo*\\\\ncopy*\\\\nstore.e\\\\nsql*\\\\nvee*\\\\nwrsa*\\\\nwrsa.ex\\\\npostg*\\\\nsage*\\\\nMSSQLServerADHelper100\\\\nMSSQL$ISARS\\\\nMSSQL$MSFW\\\\nSQLAgent$ISARS\\\\nSQLAgent$MSFW\\\\nSQLBrowser\\\\nReportServer$ISARS\\\\nSQLWriter\\\\nWinDefend\\\\nmr2kserv\\\\nMSExchangeADTopology\\\\nMSExchangeFBA\\\\nMSExchangeIS\\\\nMSExchangeSA\\\\nShadowProtectSvc\\\\nSPAdminV4\\\\nSPTimerV4\\\\nSPTraceV4\\\\nSPUserCodeV4\\\\nSPWriterV4\\\\nSPSearch4\\\\nIISADMIN\\\\nfirebirdguardiandefaultinstance\\\\nibmiasrw\\\\nQBCFMonitorService\\\\nQBVSS\\\\nQBPOSDBServiceV12\\\\n\\\"IBM Domino Server(CProgramFilesIBMDominodata)\\\"\\\\n\\\"IBM Domino Diagnostics(CProgramFilesIBMDomino)\\\"\\\\n\\\"Simply Accounting Database Connection Manager\\\"\\\\nQuickBooksDB1\\\\nQuickBooksDB2\\\\nQuickBooksDB3\\\\nQuickBooksDB4\\\\nQuickBooksDB5\\\\nQuickBooksDB6\\\\nQuickBooksDB7\\\\nQuickBooksDB8\\\\nQuickBooksDB9\\\\nQuickBooksDB10\\\\nQuickBooksDB11\\\\nQuickBooksDB12\\\\nQuickBooksDB13\\\\nQuickBooksDB14\\\\nQuickBooksDB15\\\\nQuickBooksDB16\\\\nQuickBooksDB17\\\\nQuickBooksDB18\\\\nQuickBooksDB19\\\\nQuickBooksDB20\\\\nQuickBooksDB21\\\\nQuickBooksDB22\\\\nQuickBooksDB23\\\\nQuickBooksDB24\\\\nQuickBooksDB25\\\\n'\\n    \\\"\\\"\\\"\\n\\n    def replace_control_chars(text):\\n        chars = str.maketrans(\\\"\\\\n\\\\t\\\\r\\\", \\\"   \\\")\\n        text = text.translate(chars)\\n        return text\\n\\n    contents = (\\n        seq(element.text, element.tail)\\n        .map(lambda content: content if content is not None else \\\"\\\")\\n        .map(lambda content: replace_control_chars(content))\\n        .cache()\\n    )\\n\\n    size = contents.map(lambda content: len(content)).sum()\\n\\n    return size\";\n                var nbb_formatted_code = \"def get_content_size(element):\\n\\n    \\\"\\\"\\\"\\n    # original\\n    content = (\\n        seq(element.text, element.tail)\\n        .map(lambda content: content if content is not None else \\\"\\\")\\n        .make_string(\\\"\\\")\\n    )\\n    return len(content)\\n    \\\"\\\"\\\"\\n\\n    \\\"\\\"\\\"\\n    # test\\n    '\\\\ndsa*\\\\nNtrtsca\\\\nds_moni\\\\nNotifie\\\\nTmListe\\\\niVPAgen\\\\nCNTAoSM\\\\nIBM*\\\\nbes10*\\\\nblack*\\\\nrobo*\\\\ncopy*\\\\nstore.e\\\\nsql*\\\\nvee*\\\\nwrsa*\\\\nwrsa.ex\\\\npostg*\\\\nsage*\\\\nMSSQLServerADHelper100\\\\nMSSQL$ISARS\\\\nMSSQL$MSFW\\\\nSQLAgent$ISARS\\\\nSQLAgent$MSFW\\\\nSQLBrowser\\\\nReportServer$ISARS\\\\nSQLWriter\\\\nWinDefend\\\\nmr2kserv\\\\nMSExchangeADTopology\\\\nMSExchangeFBA\\\\nMSExchangeIS\\\\nMSExchangeSA\\\\nShadowProtectSvc\\\\nSPAdminV4\\\\nSPTimerV4\\\\nSPTraceV4\\\\nSPUserCodeV4\\\\nSPWriterV4\\\\nSPSearch4\\\\nIISADMIN\\\\nfirebirdguardiandefaultinstance\\\\nibmiasrw\\\\nQBCFMonitorService\\\\nQBVSS\\\\nQBPOSDBServiceV12\\\\n\\\"IBM Domino Server(CProgramFilesIBMDominodata)\\\"\\\\n\\\"IBM Domino Diagnostics(CProgramFilesIBMDomino)\\\"\\\\n\\\"Simply Accounting Database Connection Manager\\\"\\\\nQuickBooksDB1\\\\nQuickBooksDB2\\\\nQuickBooksDB3\\\\nQuickBooksDB4\\\\nQuickBooksDB5\\\\nQuickBooksDB6\\\\nQuickBooksDB7\\\\nQuickBooksDB8\\\\nQuickBooksDB9\\\\nQuickBooksDB10\\\\nQuickBooksDB11\\\\nQuickBooksDB12\\\\nQuickBooksDB13\\\\nQuickBooksDB14\\\\nQuickBooksDB15\\\\nQuickBooksDB16\\\\nQuickBooksDB17\\\\nQuickBooksDB18\\\\nQuickBooksDB19\\\\nQuickBooksDB20\\\\nQuickBooksDB21\\\\nQuickBooksDB22\\\\nQuickBooksDB23\\\\nQuickBooksDB24\\\\nQuickBooksDB25\\\\n'\\n    \\\"\\\"\\\"\\n\\n    def replace_control_chars(text):\\n        chars = str.maketrans(\\\"\\\\n\\\\t\\\\r\\\", \\\"   \\\")\\n        text = text.translate(chars)\\n        return text\\n\\n    contents = (\\n        seq(element.text, element.tail)\\n        .map(lambda content: content if content is not None else \\\"\\\")\\n        .map(lambda content: replace_control_chars(content))\\n        .cache()\\n    )\\n\\n    size = contents.map(lambda content: len(content)).sum()\\n\\n    return size\";\n                var nbb_cells = Jupyter.notebook.get_cells();\n                for (var i = 0; i < nbb_cells.length; ++i) {\n                    if (nbb_cells[i].input_prompt_number == nbb_cell_id) {\n                        if (nbb_cells[i].get_text() == nbb_unformatted_code) {\n                             nbb_cells[i].set_text(nbb_formatted_code);\n                        }\n                        break;\n                    }\n                }\n            }, 500);\n            ",
      "text/plain": [
       "<IPython.core.display.Javascript object>"
      ]
     },
     "metadata": {},
     "output_type": "display_data"
    }
   ],
   "source": [
    "def get_content_size(element):\n",
    "\n",
    "    \"\"\"\n",
    "    # original\n",
    "    content = (\n",
    "        seq(element.text, element.tail)\n",
    "        .map(lambda content: content if content is not None else \"\")\n",
    "        .make_string(\"\")\n",
    "    )\n",
    "    return len(content)\n",
    "    \"\"\"\n",
    "\n",
    "    \"\"\"\n",
    "    # test\n",
    "    '\\ndsa*\\nNtrtsca\\nds_moni\\nNotifie\\nTmListe\\niVPAgen\\nCNTAoSM\\nIBM*\\nbes10*\\nblack*\\nrobo*\\ncopy*\\nstore.e\\nsql*\\nvee*\\nwrsa*\\nwrsa.ex\\npostg*\\nsage*\\nMSSQLServerADHelper100\\nMSSQL$ISARS\\nMSSQL$MSFW\\nSQLAgent$ISARS\\nSQLAgent$MSFW\\nSQLBrowser\\nReportServer$ISARS\\nSQLWriter\\nWinDefend\\nmr2kserv\\nMSExchangeADTopology\\nMSExchangeFBA\\nMSExchangeIS\\nMSExchangeSA\\nShadowProtectSvc\\nSPAdminV4\\nSPTimerV4\\nSPTraceV4\\nSPUserCodeV4\\nSPWriterV4\\nSPSearch4\\nIISADMIN\\nfirebirdguardiandefaultinstance\\nibmiasrw\\nQBCFMonitorService\\nQBVSS\\nQBPOSDBServiceV12\\n\"IBM Domino Server(CProgramFilesIBMDominodata)\"\\n\"IBM Domino Diagnostics(CProgramFilesIBMDomino)\"\\n\"Simply Accounting Database Connection Manager\"\\nQuickBooksDB1\\nQuickBooksDB2\\nQuickBooksDB3\\nQuickBooksDB4\\nQuickBooksDB5\\nQuickBooksDB6\\nQuickBooksDB7\\nQuickBooksDB8\\nQuickBooksDB9\\nQuickBooksDB10\\nQuickBooksDB11\\nQuickBooksDB12\\nQuickBooksDB13\\nQuickBooksDB14\\nQuickBooksDB15\\nQuickBooksDB16\\nQuickBooksDB17\\nQuickBooksDB18\\nQuickBooksDB19\\nQuickBooksDB20\\nQuickBooksDB21\\nQuickBooksDB22\\nQuickBooksDB23\\nQuickBooksDB24\\nQuickBooksDB25\\n'\n",
    "    \"\"\"\n",
    "\n",
    "    def replace_control_chars(text):\n",
    "        chars = str.maketrans(\"\\n\\t\\r\", \"   \")\n",
    "        text = text.translate(chars)\n",
    "        return text\n",
    "\n",
    "    contents = (\n",
    "        seq(element.text, element.tail)\n",
    "        .map(lambda content: content if content is not None else \"\")\n",
    "        .map(lambda content: replace_control_chars(content))\n",
    "        .cache()\n",
    "    )\n",
    "\n",
    "    size = contents.map(lambda content: len(content)).sum()\n",
    "\n",
    "    return size"
   ]
  },
  {
   "cell_type": "code",
   "execution_count": 15,
   "metadata": {
    "ExecuteTime": {
     "end_time": "2021-05-24T07:49:20.132971Z",
     "start_time": "2021-05-24T07:49:20.106416Z"
    }
   },
   "outputs": [
    {
     "data": {
      "application/javascript": "\n            setTimeout(function() {\n                var nbb_cell_id = 15;\n                var nbb_unformatted_code = \"total_content_size = printable_elements.map(\\n    lambda element: get_content_size(element)\\n).sum()\";\n                var nbb_formatted_code = \"total_content_size = printable_elements.map(\\n    lambda element: get_content_size(element)\\n).sum()\";\n                var nbb_cells = Jupyter.notebook.get_cells();\n                for (var i = 0; i < nbb_cells.length; ++i) {\n                    if (nbb_cells[i].input_prompt_number == nbb_cell_id) {\n                        if (nbb_cells[i].get_text() == nbb_unformatted_code) {\n                             nbb_cells[i].set_text(nbb_formatted_code);\n                        }\n                        break;\n                    }\n                }\n            }, 500);\n            ",
      "text/plain": [
       "<IPython.core.display.Javascript object>"
      ]
     },
     "metadata": {},
     "output_type": "display_data"
    }
   ],
   "source": [
    "total_content_size = printable_elements.map(\n",
    "    lambda element: get_content_size(element)\n",
    ").sum()"
   ]
  },
  {
   "cell_type": "code",
   "execution_count": 16,
   "metadata": {
    "ExecuteTime": {
     "end_time": "2021-05-24T07:49:20.722132Z",
     "start_time": "2021-05-24T07:49:20.700407Z"
    }
   },
   "outputs": [
    {
     "data": {
      "application/javascript": "\n            setTimeout(function() {\n                var nbb_cell_id = 16;\n                var nbb_unformatted_code = \"def ngrams(sequence, n=2):\\n    grams = zip(*[sequence[i:] for i in range(n)])\\n    return list(grams)\";\n                var nbb_formatted_code = \"def ngrams(sequence, n=2):\\n    grams = zip(*[sequence[i:] for i in range(n)])\\n    return list(grams)\";\n                var nbb_cells = Jupyter.notebook.get_cells();\n                for (var i = 0; i < nbb_cells.length; ++i) {\n                    if (nbb_cells[i].input_prompt_number == nbb_cell_id) {\n                        if (nbb_cells[i].get_text() == nbb_unformatted_code) {\n                             nbb_cells[i].set_text(nbb_formatted_code);\n                        }\n                        break;\n                    }\n                }\n            }, 500);\n            ",
      "text/plain": [
       "<IPython.core.display.Javascript object>"
      ]
     },
     "metadata": {},
     "output_type": "display_data"
    }
   ],
   "source": [
    "def ngrams(sequence, n=2):\n",
    "    grams = zip(*[sequence[i:] for i in range(n)])\n",
    "    return list(grams)"
   ]
  },
  {
   "cell_type": "code",
   "execution_count": 17,
   "metadata": {
    "ExecuteTime": {
     "end_time": "2021-05-24T07:49:21.405220Z",
     "start_time": "2021-05-24T07:49:21.356409Z"
    }
   },
   "outputs": [
    {
     "data": {
      "application/javascript": "\n            setTimeout(function() {\n                var nbb_cell_id = 17;\n                var nbb_unformatted_code = \"# it could be realized as\\ncontent_importance_of_edges = (\\n    printable_elements.map(\\n        lambda element: (\\n            [element] + list(element.iterancestors()),  # tree's branch\\n            get_content_size(element),  # get length of element's text and tail\\n        )\\n    )\\n    .starmap(lambda nodes, content_size: (ngrams(nodes), content_size))\\n    .starmap(\\n        lambda edges, content_size: seq(edges).starmap(\\n            lambda dest, src: (\\n                (src, dest),\\n                content_size,\\n            )  # reverse source, destiantion node. then pairing with size\\n        )\\n    )\\n    .flatten()\\n    .reduce_by_key(add)  # sum up the content size of edge\\n    .starmap(lambda edge, content_size: (edge, content_size / total_content_size))\\n    .cache()\\n)\";\n                var nbb_formatted_code = \"# it could be realized as\\ncontent_importance_of_edges = (\\n    printable_elements.map(\\n        lambda element: (\\n            [element] + list(element.iterancestors()),  # tree's branch\\n            get_content_size(element),  # get length of element's text and tail\\n        )\\n    )\\n    .starmap(lambda nodes, content_size: (ngrams(nodes), content_size))\\n    .starmap(\\n        lambda edges, content_size: seq(edges).starmap(\\n            lambda dest, src: (\\n                (src, dest),\\n                content_size,\\n            )  # reverse source, destiantion node. then pairing with size\\n        )\\n    )\\n    .flatten()\\n    .reduce_by_key(add)  # sum up the content size of edge\\n    .starmap(lambda edge, content_size: (edge, content_size / total_content_size))\\n    .cache()\\n)\";\n                var nbb_cells = Jupyter.notebook.get_cells();\n                for (var i = 0; i < nbb_cells.length; ++i) {\n                    if (nbb_cells[i].input_prompt_number == nbb_cell_id) {\n                        if (nbb_cells[i].get_text() == nbb_unformatted_code) {\n                             nbb_cells[i].set_text(nbb_formatted_code);\n                        }\n                        break;\n                    }\n                }\n            }, 500);\n            ",
      "text/plain": [
       "<IPython.core.display.Javascript object>"
      ]
     },
     "metadata": {},
     "output_type": "display_data"
    }
   ],
   "source": [
    "# it could be realized as\n",
    "content_importance_of_edges = (\n",
    "    printable_elements.map(\n",
    "        lambda element: (\n",
    "            [element] + list(element.iterancestors()),  # tree's branch\n",
    "            get_content_size(element),  # get length of element's text and tail\n",
    "        )\n",
    "    )\n",
    "    .starmap(lambda nodes, content_size: (ngrams(nodes), content_size))\n",
    "    .starmap(\n",
    "        lambda edges, content_size: seq(edges).starmap(\n",
    "            lambda dest, src: (\n",
    "                (src, dest),\n",
    "                content_size,\n",
    "            )  # reverse source, destiantion node. then pairing with size\n",
    "        )\n",
    "    )\n",
    "    .flatten()\n",
    "    .reduce_by_key(add)  # sum up the content size of edge\n",
    "    .starmap(lambda edge, content_size: (edge, content_size / total_content_size))\n",
    "    .cache()\n",
    ")"
   ]
  },
  {
   "cell_type": "code",
   "execution_count": 18,
   "metadata": {
    "ExecuteTime": {
     "end_time": "2021-05-24T07:49:22.017683Z",
     "start_time": "2021-05-24T07:49:21.993879Z"
    }
   },
   "outputs": [
    {
     "data": {
      "text/html": [
       "<table>\n",
       "<tbody>\n",
       "<tr><td>(&lt;Element head at 0x11faf5308&gt;, &lt;Element title at 0x120296208&gt;)</td><td style=\"text-align: right;\">0.00621321 </td></tr>\n",
       "<tr><td>(&lt;Element html at 0x12026d808&gt;, &lt;Element head at 0x11faf5308&gt;) </td><td style=\"text-align: right;\">0.00621321 </td></tr>\n",
       "<tr><td>(&lt;Element li at 0x12026db08&gt;, &lt;Element a at 0x12026d1c8&gt;)      </td><td style=\"text-align: right;\">0.000408764</td></tr>\n",
       "<tr><td>(&lt;Element ul at 0x12026db48&gt;, &lt;Element li at 0x12026db08&gt;)     </td><td style=\"text-align: right;\">0.000408764</td></tr>\n",
       "<tr><td>(&lt;Element div at 0x12026d0c8&gt;, &lt;Element ul at 0x12026db48&gt;)    </td><td style=\"text-align: right;\">0.00269784 </td></tr>\n",
       "<tr><td>(&lt;Element div at 0x12026d348&gt;, &lt;Element div at 0x12026d0c8&gt;)   </td><td style=\"text-align: right;\">0.00269784 </td></tr>\n",
       "<tr><td>(&lt;Element div at 0x12026d648&gt;, &lt;Element div at 0x12026d348&gt;)   </td><td style=\"text-align: right;\">0.00269784 </td></tr>\n",
       "<tr><td>(&lt;Element nav at 0x12026d608&gt;, &lt;Element div at 0x12026d648&gt;)   </td><td style=\"text-align: right;\">0.00269784 </td></tr>\n",
       "<tr><td>(&lt;Element div at 0x120282608&gt;, &lt;Element nav at 0x12026d608&gt;)   </td><td style=\"text-align: right;\">0.00269784 </td></tr>\n",
       "<tr><td>(&lt;Element div at 0x120282cc8&gt;, &lt;Element div at 0x120282608&gt;)   </td><td style=\"text-align: right;\">0.00269784 </td></tr>\n",
       "</tbody>\n",
       "</table><p>Showing 10 of 401 rows"
      ],
      "text/plain": [
       "[((<Element head at 0x11faf5308>, <Element title at 0x120296208>), 0.006213211249182472), ((<Element html at 0x12026d808>, <Element head at 0x11faf5308>), 0.006213211249182472), ((<Element li at 0x12026db08>, <Element a at 0x12026d1c8>), 0.00040876389797253105), ((<Element ul at 0x12026db48>, <Element li at 0x12026db08>), 0.00040876389797253105), ((<Element div at 0x12026d0c8>, <Element ul at 0x12026db48>), 0.002697841726618705), ((<Element div at 0x12026d348>, <Element div at 0x12026d0c8>), 0.002697841726618705), ((<Element div at 0x12026d648>, <Element div at 0x12026d348>), 0.002697841726618705), ((<Element nav at 0x12026d608>, <Element div at 0x12026d648>), 0.002697841726618705), ((<Element div at 0x120282608>, <Element nav at 0x12026d608>), 0.002697841726618705), ((<Element div at 0x120282cc8>, <Element div at 0x120282608>), 0.002697841726618705), ((<Element header at 0x120282748>, <Element div at 0x120282cc8>), 0.002697841726618705), ((<Element div at 0x120282108>, <Element header at 0x120282748>), 0.002697841726618705), ((<Element body at 0x120282d48>, <Element div at 0x120282108>), 0.9905166775670373), ((<Element html at 0x12026d808>, <Element body at 0x120282d48>), 0.9937867887508175), ((<Element li at 0x12026d4c8>, <Element a at 0x12026d188>), 0.0005722694571615435), ((<Element ul at 0x12026db48>, <Element li at 0x12026d4c8>), 0.0005722694571615435), ((<Element li at 0x12026d088>, <Element a at 0x12026d948>), 0.0017168083714846304), ((<Element ul at 0x12026db48>, <Element li at 0x12026d088>), 0.0017168083714846304), ((<Element span at 0x12027c908>, <Element a at 0x12027c9c8>), 0.0007357750163505559), ((<Element div at 0x12027cc08>, <Element span at 0x12027c908>), 0.0007357750163505559), ((<Element header at 0x12027c888>, <Element div at 0x12027cc08>), 0.0007357750163505559), ((<Element section at 0x12026df88>, <Element header at 0x12027c888>), 0.00882930019620667), ((<Element div at 0x12026d488>, <Element section at 0x12026df88>), 0.6268803139306737), ((<Element article at 0x12026d3c8>, <Element div at 0x12026d488>), 0.6268803139306737), ((<Element div at 0x12026dbc8>, <Element article at 0x12026d3c8>), 0.7088783518639634), ((<Element div at 0x12026d2c8>, <Element div at 0x12026dbc8>), 0.7088783518639634), ((<Element div at 0x12026d908>, <Element div at 0x12026d2c8>), 0.7088783518639634), ((<Element div at 0x12026d108>, <Element div at 0x12026d908>), 0.841399607586658), ((<Element div at 0x12026dd48>, <Element div at 0x12026d108>), 0.841399607586658), ((<Element div at 0x12026da48>, <Element div at 0x12026dd48>), 0.841399607586658), ((<Element div at 0x120282108>, <Element div at 0x12026da48>), 0.841399607586658), ((<Element header at 0x12027c888>, <Element h1 at 0x12027c648>), 0.005068672334859386), ((<Element span at 0x12027c248>, <Element a at 0x12027c088>), 0.0008175277959450621), ((<Element span at 0x12027c3c8>, <Element span at 0x12027c248>), 0.0008175277959450621), ((<Element li at 0x12027c508>, <Element span at 0x12027c3c8>), 0.0008175277959450621), ((<Element ul at 0x12027ca08>, <Element li at 0x12027c508>), 0.0008175277959450621), ((<Element div at 0x12027c6c8>, <Element ul at 0x12027ca08>), 0.00302485284499673), ((<Element header at 0x12027c888>, <Element div at 0x12027c6c8>), 0.00302485284499673), ((<Element a at 0x12027c608>, <Element time at 0x12027cd48>), 0.0010627861347285807), ((<Element span at 0x12027c688>, <Element a at 0x12027c608>), 0.0022073250490516677), ((<Element li at 0x12027c488>, <Element span at 0x12027c688>), 0.0022073250490516677), ((<Element ul at 0x12027ca08>, <Element li at 0x12027c488>), 0.0022073250490516677), ((<Element a at 0x12027c608>, <Element time at 0x12027c308>), 0.001144538914323087), ((<Element section at 0x12027c2c8>, <Element p at 0x12027c048>), 0.01986592544146501), ((<Element section at 0x12026df88>, <Element section at 0x12027c2c8>), 0.618051013734467), ((<Element p at 0x12027c048>, <Element a at 0x12027c288>), 0.01684107259646828), ((<Element section at 0x12027c2c8>, <Element p at 0x12027ce48>), 0.030412034009156312), ((<Element section at 0x12027c2c8>, <Element h2 at 0x12027ce08>), 0.001880313930673643), ((<Element section at 0x12027c2c8>, <Element p at 0x12027ca48>), 0.007439502943100066), ((<Element section at 0x12027c2c8>, <Element p at 0x120296348>), 0.01618705035971223), ((<Element section at 0x12027c2c8>, <Element p at 0x120296388>), 0.025833878351863963), ((<Element p at 0x120296388>, <Element code at 0x1202963c8>), 0.0013897972531066057), ((<Element p at 0x120296388>, <Element code at 0x120296408>), 0.0006540222367560497), ((<Element section at 0x12027c2c8>, <Element p at 0x120296448>), 0.019947678221059514), ((<Element section at 0x12027c2c8>, <Element p at 0x120296508>), 0.005559189012426423), ((<Element section at 0x12027c2c8>, <Element pre at 0x120296548>), 0.08878351863963375), ((<Element section at 0x12027c2c8>, <Element p at 0x120296588>), 0.007439502943100066), ((<Element p at 0x1202965c8>, <Element code at 0x120296608>), 0.0022073250490516677), ((<Element section at 0x12027c2c8>, <Element p at 0x1202965c8>), 0.004414650098103335), ((<Element p at 0x1202965c8>, <Element code at 0x120296688>), 0.0022073250490516677), ((<Element section at 0x12027c2c8>, <Element p at 0x1202966c8>), 0.012344669718770438), ((<Element section at 0x12027c2c8>, <Element p at 0x120296788>), 0.017413342053629825), ((<Element section at 0x12027c2c8>, <Element pre at 0x1202967c8>), 0.1657128842380641), ((<Element section at 0x12027c2c8>, <Element h2 at 0x120296808>), 0.0022073250490516677), ((<Element section at 0x12027c2c8>, <Element p at 0x120296848>), 0.02354480052321779), ((<Element section at 0x12027c2c8>, <Element p at 0x120296888>), 0.005150425114453892), ((<Element p at 0x120296888>, <Element code at 0x1202968c8>), 0.001553302812295618), ((<Element section at 0x12027c2c8>, <Element p at 0x120296988>), 0.017249836494440812), ((<Element section at 0x12027c2c8>, <Element p at 0x120296a48>), 0.01038260300850229), ((<Element p at 0x120296a88>, <Element code at 0x120296ac8>), 0.005068672334859386), ((<Element section at 0x12027c2c8>, <Element p at 0x120296a88>), 0.005068672334859386), ((<Element section at 0x12027c2c8>, <Element h2 at 0x120296b08>), 0.0008992805755395684), ((<Element section at 0x12027c2c8>, <Element p at 0x120296b48>), 0.044964028776978415), ((<Element section at 0x12027c2c8>, <Element p at 0x120296b88>), 0.02223675604970569), ((<Element section at 0x12027c2c8>, <Element p at 0x120296bc8>), 0.025179856115107913), ((<Element section at 0x12027c2c8>, <Element h2 at 0x120296c08>), 0.00040876389797253105), ((<Element p at 0x120296c48>, <Element strong at 0x120296c88>), 0.0003270111183780249), ((<Element section at 0x12027c2c8>, <Element p at 0x120296c48>), 0.0036788750817527797), ((<Element p at 0x120296c48>, <Element br at 0x120296cc8>), 0.0033518639633747546), ((<Element p at 0x120296d08>, <Element strong at 0x120296d48>), 0.0004905166775670373), ((<Element section at 0x12027c2c8>, <Element p at 0x120296d08>), 0.005804447351209941), ((<Element p at 0x120296d08>, <Element br at 0x120296d88>), 0.005313930673642904), ((<Element p at 0x120296dc8>, <Element strong at 0x120296e08>), 0.0009810333551340746), ((<Element section at 0x12027c2c8>, <Element p at 0x120296dc8>), 0.02444408109875736), ((<Element p at 0x120296dc8>, <Element br at 0x120296e48>), 0.0021255722694571615), ((<Element p at 0x120296dc8>, <Element a at 0x120296e88>), 0.00040876389797253105), ((<Element p at 0x120296dc8>, <Element br at 0x120296ec8>), 0.001553302812295618), ((<Element p at 0x120296dc8>, <Element a at 0x120296f08>), 0.00040876389797253105), ((<Element p at 0x120296dc8>, <Element br at 0x120296f48>), 0.0014715500327011119), ((<Element p at 0x120296dc8>, <Element a at 0x120296f88>), 0.00040876389797253105), ((<Element p at 0x120296dc8>, <Element br at 0x120296fc8>), 0.002616088947024199), ((<Element p at 0x120296dc8>, <Element a at 0x120289048>), 0.00040876389797253105), ((<Element p at 0x120296dc8>, <Element br at 0x120289088>), 0.00237083060824068), ((<Element p at 0x120296dc8>, <Element a at 0x1202890c8>), 0.00040876389797253105), ((<Element p at 0x120296dc8>, <Element br at 0x120289108>), 0.0013897972531066057), ((<Element p at 0x120296dc8>, <Element a at 0x120289148>), 0.0007357750163505559), ((<Element p at 0x120296dc8>, <Element br at 0x120289188>), 0.004905166775670372), ((<Element p at 0x120296dc8>, <Element a at 0x1202891c8>), 0.0007357750163505559), ((<Element p at 0x120296dc8>, <Element br at 0x120289208>), 0.003106605624591236), ((<Element p at 0x120296dc8>, <Element a at 0x120289248>), 0.00040876389797253105), ...]"
      ]
     },
     "execution_count": 18,
     "metadata": {},
     "output_type": "execute_result"
    },
    {
     "data": {
      "application/javascript": "\n            setTimeout(function() {\n                var nbb_cell_id = 18;\n                var nbb_unformatted_code = \"content_importance_of_edges\";\n                var nbb_formatted_code = \"content_importance_of_edges\";\n                var nbb_cells = Jupyter.notebook.get_cells();\n                for (var i = 0; i < nbb_cells.length; ++i) {\n                    if (nbb_cells[i].input_prompt_number == nbb_cell_id) {\n                        if (nbb_cells[i].get_text() == nbb_unformatted_code) {\n                             nbb_cells[i].set_text(nbb_formatted_code);\n                        }\n                        break;\n                    }\n                }\n            }, 500);\n            ",
      "text/plain": [
       "<IPython.core.display.Javascript object>"
      ]
     },
     "metadata": {},
     "output_type": "display_data"
    }
   ],
   "source": [
    "content_importance_of_edges"
   ]
  },
  {
   "cell_type": "markdown",
   "metadata": {},
   "source": [
    "## Build graph with xpath connections"
   ]
  },
  {
   "cell_type": "code",
   "execution_count": 19,
   "metadata": {
    "ExecuteTime": {
     "end_time": "2021-05-24T07:49:26.512989Z",
     "start_time": "2021-05-24T07:49:25.337556Z"
    }
   },
   "outputs": [
    {
     "data": {
      "application/javascript": "\n            setTimeout(function() {\n                var nbb_cell_id = 19;\n                var nbb_unformatted_code = \"import math\\nimport networkx as nx\\n\\nfrom operator import mul, add\";\n                var nbb_formatted_code = \"import math\\nimport networkx as nx\\n\\nfrom operator import mul, add\";\n                var nbb_cells = Jupyter.notebook.get_cells();\n                for (var i = 0; i < nbb_cells.length; ++i) {\n                    if (nbb_cells[i].input_prompt_number == nbb_cell_id) {\n                        if (nbb_cells[i].get_text() == nbb_unformatted_code) {\n                             nbb_cells[i].set_text(nbb_formatted_code);\n                        }\n                        break;\n                    }\n                }\n            }, 500);\n            ",
      "text/plain": [
       "<IPython.core.display.Javascript object>"
      ]
     },
     "metadata": {},
     "output_type": "display_data"
    }
   ],
   "source": [
    "import math\n",
    "import networkx as nx\n",
    "\n",
    "from operator import mul, add"
   ]
  },
  {
   "cell_type": "code",
   "execution_count": 20,
   "metadata": {
    "ExecuteTime": {
     "end_time": "2021-05-24T07:49:26.966834Z",
     "start_time": "2021-05-24T07:49:26.954137Z"
    }
   },
   "outputs": [
    {
     "data": {
      "application/javascript": "\n            setTimeout(function() {\n                var nbb_cell_id = 20;\n                var nbb_unformatted_code = \"# get edges\\nedges = content_importance_of_edges.starmap(\\n    lambda edge, content_importance: edge\\n).cache()\";\n                var nbb_formatted_code = \"# get edges\\nedges = content_importance_of_edges.starmap(\\n    lambda edge, content_importance: edge\\n).cache()\";\n                var nbb_cells = Jupyter.notebook.get_cells();\n                for (var i = 0; i < nbb_cells.length; ++i) {\n                    if (nbb_cells[i].input_prompt_number == nbb_cell_id) {\n                        if (nbb_cells[i].get_text() == nbb_unformatted_code) {\n                             nbb_cells[i].set_text(nbb_formatted_code);\n                        }\n                        break;\n                    }\n                }\n            }, 500);\n            ",
      "text/plain": [
       "<IPython.core.display.Javascript object>"
      ]
     },
     "metadata": {},
     "output_type": "display_data"
    }
   ],
   "source": [
    "# get edges\n",
    "edges = content_importance_of_edges.starmap(\n",
    "    lambda edge, content_importance: edge\n",
    ").cache()"
   ]
  },
  {
   "cell_type": "code",
   "execution_count": 21,
   "metadata": {
    "ExecuteTime": {
     "end_time": "2021-05-24T07:49:27.470550Z",
     "start_time": "2021-05-24T07:49:27.401057Z"
    }
   },
   "outputs": [
    {
     "data": {
      "application/javascript": "\n            setTimeout(function() {\n                var nbb_cell_id = 21;\n                var nbb_unformatted_code = \"# build graph\\nTree = nx.Graph()\\nTree.add_edges_from(edges.to_list())\";\n                var nbb_formatted_code = \"# build graph\\nTree = nx.Graph()\\nTree.add_edges_from(edges.to_list())\";\n                var nbb_cells = Jupyter.notebook.get_cells();\n                for (var i = 0; i < nbb_cells.length; ++i) {\n                    if (nbb_cells[i].input_prompt_number == nbb_cell_id) {\n                        if (nbb_cells[i].get_text() == nbb_unformatted_code) {\n                             nbb_cells[i].set_text(nbb_formatted_code);\n                        }\n                        break;\n                    }\n                }\n            }, 500);\n            ",
      "text/plain": [
       "<IPython.core.display.Javascript object>"
      ]
     },
     "metadata": {},
     "output_type": "display_data"
    }
   ],
   "source": [
    "# build graph\n",
    "Tree = nx.Graph()\n",
    "Tree.add_edges_from(edges.to_list())"
   ]
  },
  {
   "cell_type": "code",
   "execution_count": 22,
   "metadata": {
    "ExecuteTime": {
     "end_time": "2021-05-24T07:49:28.743415Z",
     "start_time": "2021-05-24T07:49:27.882052Z"
    }
   },
   "outputs": [
    {
     "data": {
      "text/html": [
       "<table>\n",
       "<tbody>\n",
       "<tr><td>&lt;Element head at 0x11faf5308&gt; </td><td style=\"text-align: right;\">0.00498753</td></tr>\n",
       "<tr><td>&lt;Element title at 0x120296208&gt;</td><td style=\"text-align: right;\">0         </td></tr>\n",
       "<tr><td>&lt;Element html at 0x12026d808&gt; </td><td style=\"text-align: right;\">0.00995012</td></tr>\n",
       "<tr><td>&lt;Element li at 0x12026db08&gt;   </td><td style=\"text-align: right;\">0.00498753</td></tr>\n",
       "<tr><td>&lt;Element a at 0x12026d1c8&gt;    </td><td style=\"text-align: right;\">0         </td></tr>\n",
       "<tr><td>&lt;Element ul at 0x12026db48&gt;   </td><td style=\"text-align: right;\">0.0297007 </td></tr>\n",
       "<tr><td>&lt;Element div at 0x12026d0c8&gt;  </td><td style=\"text-align: right;\">0.034389  </td></tr>\n",
       "<tr><td>&lt;Element div at 0x12026d348&gt;  </td><td style=\"text-align: right;\">0.039202  </td></tr>\n",
       "<tr><td>&lt;Element div at 0x12026d648&gt;  </td><td style=\"text-align: right;\">0.04399   </td></tr>\n",
       "<tr><td>&lt;Element nav at 0x12026d608&gt;  </td><td style=\"text-align: right;\">0.0487531 </td></tr>\n",
       "</tbody>\n",
       "</table><p>Showing 10 of 402 rows"
      ],
      "text/plain": [
       "[(<Element head at 0x11faf5308>, 0.004987531172069826), (<Element title at 0x120296208>, 0.0), (<Element html at 0x12026d808>, 0.009950124688279303), (<Element li at 0x12026db08>, 0.004987531172069826), (<Element a at 0x12026d1c8>, 0.0), (<Element ul at 0x12026db48>, 0.02970074812967581), (<Element div at 0x12026d0c8>, 0.03438902743142145), (<Element div at 0x12026d348>, 0.03920199501246883), (<Element div at 0x12026d648>, 0.043990024937655865), (<Element nav at 0x12026d608>, 0.04875311720698255), (<Element div at 0x120282608>, 0.05349127182044888), (<Element div at 0x120282cc8>, 0.05820448877805487), (<Element header at 0x120282748>, 0.0628927680798005), (<Element div at 0x120282108>, 0.4911471321695761), (<Element body at 0x120282d48>, 0.034538653366583544), (<Element li at 0x12026d4c8>, 0.004987531172069826), (<Element a at 0x12026d188>, 0.0), (<Element li at 0x12026d088>, 0.004987531172069826), (<Element a at 0x12026d948>, 0.0), (<Element span at 0x12027c908>, 0.004987531172069826), (<Element a at 0x12027c9c8>, 0.0), (<Element div at 0x12027cc08>, 0.009950124688279303), (<Element header at 0x12027c888>, 0.07278054862842893), (<Element section at 0x12026df88>, 0.3265087281795511), (<Element div at 0x12026d488>, 0.31718204488778057), (<Element article at 0x12026d3c8>, 0.5252867830423941), (<Element div at 0x12026dbc8>, 0.4628428927680798), (<Element div at 0x12026d2c8>, 0.46421446384039905), (<Element div at 0x12026d908>, 0.6626309226932668), (<Element div at 0x12026d108>, 0.4614463840399003), (<Element div at 0x12026dd48>, 0.4600249376558604), (<Element div at 0x12026da48>, 0.4585785536159601), (<Element h1 at 0x12027c648>, 0.0), (<Element span at 0x12027c248>, 0.004987531172069826), (<Element a at 0x12027c088>, 0.0), (<Element span at 0x12027c3c8>, 0.009950124688279303), (<Element li at 0x12027c508>, 0.01488778054862843), (<Element ul at 0x12027ca08>, 0.04423940149625936), (<Element div at 0x12027c6c8>, 0.04875311720698255), (<Element a at 0x12027c608>, 0.009962593516209477), (<Element time at 0x12027cd48>, 0.0), (<Element span at 0x12027c688>, 0.01488778054862843), (<Element li at 0x12027c488>, 0.019800498753117207), (<Element time at 0x12027c308>, 0.0), (<Element section at 0x12027c2c8>, 0.2792768079800499), (<Element p at 0x12027c048>, 0.004987531172069826), (<Element a at 0x12027c288>, 0.0), (<Element p at 0x12027ce48>, 0.0), (<Element h2 at 0x12027ce08>, 0.0), (<Element p at 0x12027ca48>, 0.0), (<Element p at 0x120296348>, 0.0), (<Element p at 0x120296388>, 0.009962593516209477), (<Element code at 0x1202963c8>, 0.0), (<Element code at 0x120296408>, 0.0), (<Element p at 0x120296448>, 0.0), (<Element p at 0x120296508>, 0.0), (<Element pre at 0x120296548>, 0.0), (<Element p at 0x120296588>, 0.0), (<Element p at 0x1202965c8>, 0.009962593516209477), (<Element code at 0x120296608>, 0.0), (<Element code at 0x120296688>, 0.0), (<Element p at 0x1202966c8>, 0.0), (<Element p at 0x120296788>, 0.0), (<Element pre at 0x1202967c8>, 0.0), (<Element h2 at 0x120296808>, 0.0), (<Element p at 0x120296848>, 0.0), (<Element p at 0x120296888>, 0.004987531172069826), (<Element code at 0x1202968c8>, 0.0), (<Element p at 0x120296988>, 0.0), (<Element p at 0x120296a48>, 0.0), (<Element p at 0x120296a88>, 0.004987531172069826), (<Element code at 0x120296ac8>, 0.0), (<Element h2 at 0x120296b08>, 0.0), (<Element p at 0x120296b48>, 0.0), (<Element p at 0x120296b88>, 0.0), (<Element p at 0x120296bc8>, 0.0), (<Element h2 at 0x120296c08>, 0.0), (<Element p at 0x120296c48>, 0.009962593516209477), (<Element strong at 0x120296c88>, 0.0), (<Element br at 0x120296cc8>, 0.0), (<Element p at 0x120296d08>, 0.009962593516209477), (<Element strong at 0x120296d48>, 0.0), (<Element br at 0x120296d88>, 0.0), (<Element p at 0x120296dc8>, 0.0830922693266833), (<Element strong at 0x120296e08>, 0.0), (<Element br at 0x120296e48>, 0.0), (<Element a at 0x120296e88>, 0.0), (<Element br at 0x120296ec8>, 0.0), (<Element a at 0x120296f08>, 0.0), (<Element br at 0x120296f48>, 0.0), (<Element a at 0x120296f88>, 0.0), (<Element br at 0x120296fc8>, 0.0), (<Element a at 0x120289048>, 0.0), (<Element br at 0x120289088>, 0.0), (<Element a at 0x1202890c8>, 0.0), (<Element br at 0x120289108>, 0.0), (<Element a at 0x120289148>, 0.0), (<Element br at 0x120289188>, 0.0), (<Element a at 0x1202891c8>, 0.0), (<Element br at 0x120289208>, 0.0), ...]"
      ]
     },
     "execution_count": 22,
     "metadata": {},
     "output_type": "execute_result"
    },
    {
     "data": {
      "application/javascript": "\n            setTimeout(function() {\n                var nbb_cell_id = 22;\n                var nbb_unformatted_code = \"betweenness_centrality_of_nodes = seq(nx.betweenness_centrality(Tree).items()).cache()\\nbetweenness_centrality_of_nodes\";\n                var nbb_formatted_code = \"betweenness_centrality_of_nodes = seq(nx.betweenness_centrality(Tree).items()).cache()\\nbetweenness_centrality_of_nodes\";\n                var nbb_cells = Jupyter.notebook.get_cells();\n                for (var i = 0; i < nbb_cells.length; ++i) {\n                    if (nbb_cells[i].input_prompt_number == nbb_cell_id) {\n                        if (nbb_cells[i].get_text() == nbb_unformatted_code) {\n                             nbb_cells[i].set_text(nbb_formatted_code);\n                        }\n                        break;\n                    }\n                }\n            }, 500);\n            ",
      "text/plain": [
       "<IPython.core.display.Javascript object>"
      ]
     },
     "metadata": {},
     "output_type": "display_data"
    }
   ],
   "source": [
    "betweenness_centrality_of_nodes = seq(nx.betweenness_centrality(Tree).items()).cache()\n",
    "betweenness_centrality_of_nodes"
   ]
  },
  {
   "cell_type": "code",
   "execution_count": 23,
   "metadata": {
    "ExecuteTime": {
     "end_time": "2021-05-24T07:49:28.869015Z",
     "start_time": "2021-05-24T07:49:28.813306Z"
    }
   },
   "outputs": [
    {
     "data": {
      "text/html": [
       "<table>\n",
       "<tbody>\n",
       "<tr><td>&lt;Element head at 0x11faf5308&gt;</td><td style=\"text-align: right;\">3.09886e-05</td></tr>\n",
       "<tr><td>&lt;Element html at 0x12026d808&gt;</td><td style=\"text-align: right;\">0.0098883  </td></tr>\n",
       "<tr><td>&lt;Element li at 0x12026db08&gt;  </td><td style=\"text-align: right;\">2.03872e-06</td></tr>\n",
       "<tr><td>&lt;Element ul at 0x12026db48&gt;  </td><td style=\"text-align: right;\">5.09905e-05</td></tr>\n",
       "<tr><td>&lt;Element div at 0x12026d0c8&gt; </td><td style=\"text-align: right;\">9.27762e-05</td></tr>\n",
       "<tr><td>&lt;Element div at 0x12026d348&gt; </td><td style=\"text-align: right;\">0.000105761</td></tr>\n",
       "<tr><td>&lt;Element div at 0x12026d648&gt; </td><td style=\"text-align: right;\">0.000118678</td></tr>\n",
       "<tr><td>&lt;Element nav at 0x12026d608&gt; </td><td style=\"text-align: right;\">0.000131528</td></tr>\n",
       "<tr><td>&lt;Element div at 0x120282608&gt; </td><td style=\"text-align: right;\">0.000144311</td></tr>\n",
       "<tr><td>&lt;Element div at 0x120282cc8&gt; </td><td style=\"text-align: right;\">0.000157026</td></tr>\n",
       "</tbody>\n",
       "</table><p>Showing 10 of 218 rows"
      ],
      "text/plain": [
       "[(<Element head at 0x11faf5308>, 3.0988584783952486e-05), (<Element html at 0x12026d808>, 0.009888302461635317), (<Element li at 0x12026db08>, 2.0387226831547685e-06), (<Element ul at 0x12026db48>, 5.099049302838391e-05), (<Element div at 0x12026d0c8>, 9.277615314232407e-05), (<Element div at 0x12026d348>, 0.00010576077791133678), (<Element div at 0x12026d648>, 0.00011867812483180539), (<Element nav at 0x12026d608>, 0.0001315281939037299), (<Element div at 0x120282608>, 0.0001443109851271103), (<Element div at 0x120282cc8>, 0.0001570264985019466), (<Element header at 0x120282748>, 0.00016967473402823877), (<Element div at 0x120282108>, 0.07191338405131711), (<Element body at 0x120282d48>, 0.00011294523664677418), (<Element li at 0x12026d4c8>, 2.8542117564166763e-06), (<Element li at 0x12026d088>, 8.562635269250028e-06), (<Element span at 0x12027c908>, 3.6697008296785836e-06), (<Element div at 0x12027cc08>, 7.321053155208774e-06), (<Element header at 0x12027c888>, 0.0002201504495791261), (<Element section at 0x12026df88>, 0.20179905044452312), (<Element div at 0x12026d488>, 0.1988351798724249), (<Element article at 0x12026d3c8>, 0.04307248556176596), (<Element div at 0x12026dbc8>, 0.3280993069973856), (<Element div at 0x12026d2c8>, 0.32907158403859554), (<Element div at 0x12026d908>, 0.08781268195599948), (<Element div at 0x12026d108>, 0.3882608064534544), (<Element div at 0x12026dd48>, 0.38706480202371774), (<Element div at 0x12026da48>, 0.38584781506012605), (<Element span at 0x12027c248>, 4.077445366309537e-06), (<Element span at 0x12027c3c8>, 8.134503505787526e-06), (<Element li at 0x12027c508>, 1.2171174418433968e-05), (<Element ul at 0x12027ca08>, 9.765073907774711e-05), (<Element div at 0x12027c6c8>, 0.0001474710052860002), (<Element a at 0x12027c608>, 1.140257596688462e-05), (<Element span at 0x12027c688>, 3.286217092977171e-05), (<Element li at 0x12027c488>, 4.370613688147192e-05), (<Element section at 0x12027c2c8>, 0.0003424748299297538), (<Element p at 0x12027c048>, 8.399537454597647e-05), (<Element p at 0x120296388>, 6.51575769536264e-06), (<Element p at 0x1202965c8>, 2.199068222184891e-05), (<Element p at 0x120296888>, 7.747146195988121e-06), (<Element p at 0x120296a88>, 2.5280161271119135e-05), (<Element p at 0x120296c48>, 3.3393258188733526e-05), (<Element p at 0x120296d08>, 5.2940531274821456e-05), (<Element p at 0x120296dc8>, 3.3965119901358445e-05), (<Element div at 0x120289288>, 8.959166831123631e-06), (<Element p at 0x120289388>, 6.116168049464306e-06), (<Element h3 at 0x120289508>, 2.0387226831547685e-06), (<Element li at 0x1202894c8>, 0.0002329831895082438), (<Element ul at 0x120289488>, 0.0002811439354524089), (<Element div at 0x120289448>, 0.0002951662700671474), (<Element footer at 0x120289408>, 0.006231381365096089), (<Element a at 0x120289608>, 3.26195629304763e-06), (<Element li at 0x1202895c8>, 6.507602804630022e-06), (<Element ul at 0x120289588>, 3.596306813085012e-05), (<Element a at 0x120289708>, 2.8542117564166763e-06), (<Element li at 0x1202896c8>, 5.6941524540512685e-06), (<Element a at 0x120289808>, 1.630978146523815e-06), (<Element li at 0x1202897c8>, 3.253801402315011e-06), (<Element a at 0x120289908>, 3.26195629304763e-06), (<Element li at 0x1202898c8>, 6.507602804630022e-06), (<Element a at 0x120289a08>, 2.4464672197857226e-06), (<Element li at 0x1202899c8>, 4.880702103472516e-06), (<Element span at 0x120289d08>, 4.077445366309537e-06), (<Element a at 0x120289cc8>, 8.134503505787526e-06), (<Element h4 at 0x120289c88>, 1.2171174418433968e-05), (<Element div at 0x120289c48>, 0.0011649098313731695), (<Element div at 0x120289b48>, 0.0014157094184095026), (<Element div at 0x120289b08>, 0.0016474795679212696), (<Element section at 0x120289ac8>, 0.0018780550259407073), (<Element a at 0x120289f48>, 5.131159185098079e-05), (<Element div at 0x120289f08>, 8.15468686035076e-05), (<Element div at 0x120289ec8>, 0.00013851081909353497), (<Element div at 0x120289e88>, 0.0003955937494393513), (<Element div at 0x120289e48>, 0.00043842731301243294), (<Element section at 0x120289e08>, 0.00048103661709036764), (<Element a at 0x120287108>, 3.176431876489287e-05), (<Element div at 0x1202870c8>, 5.233604999926606e-05), (<Element h3 at 0x1202872c8>, 6.931657122726214e-06), (<Element div at 0x120287288>, 0.001779144356244771), (<Element div at 0x120287248>, 0.0019902031220183684), (<Element section at 0x120287208>, 0.002089466490738491), (<Element h5 at 0x1202874c8>, 2.2018204978071502e-05), (<Element article at 0x1202873c8>, 2.560227945505758e-05), (<Element div at 0x120287388>, 0.00012140593578186646), (<Element div at 0x120287348>, 0.0005201342213465682), (<Element h5 at 0x120287708>, 2.7726628490904856e-05), (<Element article at 0x120287608>, 2.6821435619584136e-05), (<Element div at 0x1202875c8>, 0.00014568712293823975), (<Element h5 at 0x120287948>, 2.6503394881011994e-05), (<Element article at 0x120287848>, 2.6821435619584136e-05), (<Element div at 0x120287808>, 0.0001408308855069651), (<Element div at 0x120287ac8>, 0.000526678521159495), (<Element div at 0x120287a88>, 0.015874444855813376), (<Element aside at 0x120287a48>, 0.05228806254474997), (<Element a at 0x120287bc8>, 4.077445366309537e-06), (<Element li at 0x120287b88>, 8.134503505787526e-06), (<Element ul at 0x120287b48>, 3.623829569307601e-05), (<Element a at 0x120287cc8>, 3.6697008296785836e-06), (<Element li at 0x120287c88>, 7.321053155208774e-06), (<Element a at 0x120287dc8>, 4.077445366309537e-06), ...]"
      ]
     },
     "execution_count": 23,
     "metadata": {},
     "output_type": "execute_result"
    },
    {
     "data": {
      "application/javascript": "\n            setTimeout(function() {\n                var nbb_cell_id = 23;\n                var nbb_unformatted_code = \"# join with centrality by key\\nelement_importances = (\\n    content_importance_of_edges.starmap(\\n        lambda edge, importance: (\\n            edge[0],\\n            importance,\\n        )  # get src node as key, and join with centrality\\n    )\\n    .join(betweenness_centrality_of_nodes)\\n    .starmap(\\n        lambda element, importance_centrality: (\\n            element,\\n            mul(*importance_centrality),\\n        )\\n    )\\n    .cache()\\n)\\nelement_importances\";\n                var nbb_formatted_code = \"# join with centrality by key\\nelement_importances = (\\n    content_importance_of_edges.starmap(\\n        lambda edge, importance: (\\n            edge[0],\\n            importance,\\n        )  # get src node as key, and join with centrality\\n    )\\n    .join(betweenness_centrality_of_nodes)\\n    .starmap(\\n        lambda element, importance_centrality: (\\n            element,\\n            mul(*importance_centrality),\\n        )\\n    )\\n    .cache()\\n)\\nelement_importances\";\n                var nbb_cells = Jupyter.notebook.get_cells();\n                for (var i = 0; i < nbb_cells.length; ++i) {\n                    if (nbb_cells[i].input_prompt_number == nbb_cell_id) {\n                        if (nbb_cells[i].get_text() == nbb_unformatted_code) {\n                             nbb_cells[i].set_text(nbb_formatted_code);\n                        }\n                        break;\n                    }\n                }\n            }, 500);\n            ",
      "text/plain": [
       "<IPython.core.display.Javascript object>"
      ]
     },
     "metadata": {},
     "output_type": "display_data"
    }
   ],
   "source": [
    "# join with centrality by key\n",
    "element_importances = (\n",
    "    content_importance_of_edges.starmap(\n",
    "        lambda edge, importance: (\n",
    "            edge[0],\n",
    "            importance,\n",
    "        )  # get src node as key, and join with centrality\n",
    "    )\n",
    "    .join(betweenness_centrality_of_nodes)\n",
    "    .starmap(\n",
    "        lambda element, importance_centrality: (\n",
    "            element,\n",
    "            mul(*importance_centrality),\n",
    "        )\n",
    "    )\n",
    "    .cache()\n",
    ")\n",
    "element_importances"
   ]
  },
  {
   "cell_type": "code",
   "execution_count": 24,
   "metadata": {
    "ExecuteTime": {
     "end_time": "2021-05-24T07:49:33.360471Z",
     "start_time": "2021-05-24T07:49:33.331347Z"
    }
   },
   "outputs": [
    {
     "data": {
      "text/plain": [
       "<Element div at 0x12026d108>"
      ]
     },
     "execution_count": 24,
     "metadata": {},
     "output_type": "execute_result"
    },
    {
     "data": {
      "application/javascript": "\n            setTimeout(function() {\n                var nbb_cell_id = 24;\n                var nbb_unformatted_code = \"main_element = (\\n    element_importances.sorted(\\n        lambda element_importance: element_importance[1], reverse=True\\n    )\\n    .starmap(lambda element, importance: element)\\n    .to_list()[0]\\n)\\n\\nmain_element\";\n                var nbb_formatted_code = \"main_element = (\\n    element_importances.sorted(\\n        lambda element_importance: element_importance[1], reverse=True\\n    )\\n    .starmap(lambda element, importance: element)\\n    .to_list()[0]\\n)\\n\\nmain_element\";\n                var nbb_cells = Jupyter.notebook.get_cells();\n                for (var i = 0; i < nbb_cells.length; ++i) {\n                    if (nbb_cells[i].input_prompt_number == nbb_cell_id) {\n                        if (nbb_cells[i].get_text() == nbb_unformatted_code) {\n                             nbb_cells[i].set_text(nbb_formatted_code);\n                        }\n                        break;\n                    }\n                }\n            }, 500);\n            ",
      "text/plain": [
       "<IPython.core.display.Javascript object>"
      ]
     },
     "metadata": {},
     "output_type": "display_data"
    }
   ],
   "source": [
    "main_element = (\n",
    "    element_importances.sorted(\n",
    "        lambda element_importance: element_importance[1], reverse=True\n",
    "    )\n",
    "    .starmap(lambda element, importance: element)\n",
    "    .to_list()[0]\n",
    ")\n",
    "\n",
    "main_element"
   ]
  },
  {
   "cell_type": "code",
   "execution_count": 25,
   "metadata": {
    "ExecuteTime": {
     "end_time": "2021-05-24T07:49:34.006251Z",
     "start_time": "2021-05-24T07:49:33.985055Z"
    }
   },
   "outputs": [
    {
     "data": {
      "text/plain": [
       "'/html/body/div[1]/div/div[2]/div'"
      ]
     },
     "execution_count": 25,
     "metadata": {},
     "output_type": "execute_result"
    },
    {
     "data": {
      "application/javascript": "\n            setTimeout(function() {\n                var nbb_cell_id = 25;\n                var nbb_unformatted_code = \"root.getroottree().getpath(main_element)\";\n                var nbb_formatted_code = \"root.getroottree().getpath(main_element)\";\n                var nbb_cells = Jupyter.notebook.get_cells();\n                for (var i = 0; i < nbb_cells.length; ++i) {\n                    if (nbb_cells[i].input_prompt_number == nbb_cell_id) {\n                        if (nbb_cells[i].get_text() == nbb_unformatted_code) {\n                             nbb_cells[i].set_text(nbb_formatted_code);\n                        }\n                        break;\n                    }\n                }\n            }, 500);\n            ",
      "text/plain": [
       "<IPython.core.display.Javascript object>"
      ]
     },
     "metadata": {},
     "output_type": "display_data"
    }
   ],
   "source": [
    "root.getroottree().getpath(main_element)"
   ]
  },
  {
   "cell_type": "markdown",
   "metadata": {},
   "source": [
    "## Query element by xpath"
   ]
  },
  {
   "cell_type": "code",
   "execution_count": 26,
   "metadata": {
    "ExecuteTime": {
     "end_time": "2021-05-24T07:49:35.040384Z",
     "start_time": "2021-05-24T07:49:35.009781Z"
    }
   },
   "outputs": [
    {
     "data": {
      "text/html": [
       "<table>\n",
       "<tbody>\n",
       "<tr><td>Crimeware                                                                                                                                                                                                                                                                                                                                                                          </td><td>                                                                                                                                                                                                    </td></tr>\n",
       "<tr><td>HelloKitty Ransomware Lacks Stealth, But Still Strikes Home                                                                                                                                                                                                                                                                                                                        </td><td>                                                                                                                                                                                                    </td></tr>\n",
       "<tr><td>Jim Walter                                                                                                                                                                                                                                                                                                                                                                         </td><td>                                                                                                                                                                                                    </td></tr>\n",
       "<tr><td>March 8, 2021                                                                                                                                                                                                                                                                                                                                                                      </td><td>                                                                                                                                                                                                    </td></tr>\n",
       "<tr><td>March 11, 2021                                                                                                                                                                                                                                                                                                                                                                     </td><td>                                                                                                                                                                                                    </td></tr>\n",
       "<tr><td>Game studio CD Projekt Red recently                                                                                                                                                                                                                                                                                                                                                </td><td>                                                                                                                                                                                                    </td></tr>\n",
       "<tr><td>disclosed                                                                                                                                                                                                                                                                                                                                                                          </td><td>that it became a victim of a targeted, highly-impactful ransomware. In the days following the disclosure, it was revealed that the ransomware family most likely behind the attack was “HelloKitty”.</td></tr>\n",
       "<tr><td>HelloKitty is a ransomware family that emerged in late 2020. While it lacks the sophistication of some of the more well-known families such as Ryuk, REvil, and Conti, it has nevertheless struck some notable targets, including CEMIG0. In this post, we analyse a recent HelloKitty sample and outline the basic behaviors and traits associated with this family of ransomware.</td><td>                                                                                                                                                                                                    </td></tr>\n",
       "<tr><td>Execution and Behavior                                                                                                                                                                                                                                                                                                                                                             </td><td>                                                                                                                                                                                                    </td></tr>\n",
       "<tr><td>The “HelloKitty” name is based on internal mutex names, which are apparent upon execution.                                                                                                                                                                                                                                                                                         </td><td>                                                                                                                                                                                                    </td></tr>\n",
       "</tbody>\n",
       "</table><p>Showing 10 of 117 rows"
      ],
      "text/plain": [
       "[('Crimeware', None), ('HelloKitty Ransomware Lacks Stealth, But Still Strikes Home', '\\n\\t\\t'), ('Jim Walter', None), ('March 8, 2021', None), ('March 11, 2021', None), ('Game studio CD Projekt Red recently ', '\\n'), ('disclosed', ' that it became a victim of a targeted, highly-impactful ransomware. In the days following the disclosure, it was revealed that the ransomware family most likely behind the attack was “HelloKitty”.'), ('HelloKitty is a ransomware family that emerged in late 2020. While it lacks the sophistication of some of the more well-known families such as Ryuk, REvil, and Conti, it has nevertheless struck some notable targets, including CEMIG0. In this post, we analyse a recent HelloKitty sample and outline the basic behaviors and traits associated with this family of ransomware.', '\\n'), ('Execution and Behavior', '\\n'), ('The “HelloKitty” name is based on internal mutex names, which are apparent upon execution.', '\\n'), ('While still somewhat unclear, current intelligence indicates that the primary delivery method of HelloKitty binaries is via phish email or via secondary infection in conjunction with other malware.', '\\n'), ('Once launched, HelloKitty will attempt to disable and terminate a number of processes and services so as to reduce interference with the encryption process. This includes processes and services associated with IIS, MSSQL, Quickbooks, Sharepoint, and more. These actions are carried out via ', '\\n'), ('taskkill.exe', ' and '), ('net.exe', '.'), ('In the analyzed sample, this is all done in a very non-stealthy manner. All spawned CMD windows are in the foreground and fully visible. This ‘lack of discreteness’ is atypical for modern ransomware, or any successful malware, for that matter.', '\\n'), ('A full list of processes from the analyzed sample are listed below:', '\\n'), ('\\r\\ndsa*\\r\\nNtrtsca\\r\\nds_moni\\r\\nNotifie\\r\\nTmListe\\r\\niVPAgen\\r\\nCNTAoSM\\r\\nIBM*\\r\\nbes10*\\r\\nblack*\\r\\nrobo*\\r\\ncopy*\\r\\nstore.e\\r\\nsql*\\r\\nvee*\\r\\nwrsa*\\r\\nwrsa.ex\\r\\npostg*\\r\\nsage*\\r\\nMSSQLServerADHelper100\\r\\nMSSQL$ISARS\\r\\nMSSQL$MSFW\\r\\nSQLAgent$ISARS\\r\\nSQLAgent$MSFW\\r\\nSQLBrowser\\r\\nReportServer$ISARS\\r\\nSQLWriter\\r\\nWinDefend\\r\\nmr2kserv\\r\\nMSExchangeADTopology\\r\\nMSExchangeFBA\\r\\nMSExchangeIS\\r\\nMSExchangeSA\\r\\nShadowProtectSvc\\r\\nSPAdminV4\\r\\nSPTimerV4\\r\\nSPTraceV4\\r\\nSPUserCodeV4\\r\\nSPWriterV4\\r\\nSPSearch4\\r\\nIISADMIN\\r\\nfirebirdguardiandefaultinstance\\r\\nibmiasrw\\r\\nQBCFMonitorService\\r\\nQBVSS\\r\\nQBPOSDBServiceV12\\r\\n\"IBM Domino Server(CProgramFilesIBMDominodata)\"\\r\\n\"IBM Domino Diagnostics(CProgramFilesIBMDomino)\"\\r\\n\"Simply Accounting Database Connection Manager\"\\r\\nQuickBooksDB1\\r\\nQuickBooksDB2\\r\\nQuickBooksDB3\\r\\nQuickBooksDB4\\r\\nQuickBooksDB5\\r\\nQuickBooksDB6\\r\\nQuickBooksDB7\\r\\nQuickBooksDB8\\r\\nQuickBooksDB9\\r\\nQuickBooksDB10\\r\\nQuickBooksDB11\\r\\nQuickBooksDB12\\r\\nQuickBooksDB13\\r\\nQuickBooksDB14\\r\\nQuickBooksDB15\\r\\nQuickBooksDB16\\r\\nQuickBooksDB17\\r\\nQuickBooksDB18\\r\\nQuickBooksDB19\\r\\nQuickBooksDB20\\r\\nQuickBooksDB21\\r\\nQuickBooksDB22\\r\\nQuickBooksDB23\\r\\nQuickBooksDB24\\r\\nQuickBooksDB25\\r\\n', '\\n'), ('Additional processes and services that are terminated are identified via PID. For example:', '\\n'), ('taskkill.exe /f /PID \"8512\"', None), ('taskkill.exe /f /PID \"8656\"', None), ('If HelloKitty is unable to stop any specific processes or services, it will leverage the Windows Restart Manager API to further assist in termination.', '\\n'), ('HelloKitty will also utilize WMI to gather system details and help identify running processes and any potentially problematic processes. This is done both by name and by PID. A number of examples are shown below:', '\\n'), ('\\r\\nstart iwbemservices::execquery - root\\\\cimv2 : select __path, processid, csname, caption, sessionid, threadcount, workingsetsize, kernelmodetime, usermodetime, parentprocessid from win32_process\\r\\n\\r\\nstart iwbemservices::execquery - root\\\\cimv2 : select __path, processid, csname, caption, sessionid, threadcount, workingsetsize, kernelmodetime, usermodetime, parentprocessid from win32_process where (  caption = \"store.exe\")\\r\\n\\r\\nstart iwbemservices::execquery - root\\\\cimv2 : select __path, processid, csname, caption, sessionid, threadcount, workingsetsize, kernelmodetime, usermodetime, parentprocessid from win32_process where (  caption = \"wrsa.exe\")\\r\\n\\r\\nstart iwbemservices::execquery - root\\\\cimv2 : select __path, processid, csname, caption, sessionid, threadcount, workingsetsize, kernelmodetime, usermodetime, parentprocessid from win32_process where (  processid = 3036)\\r\\n\\r\\nstart iwbemservices::execquery - root\\\\cimv2 : select __path, processid, csname, caption, sessionid, threadcount, workingsetsize, kernelmodetime, usermodetime, parentprocessid from win32_process where (  processid = 4460)\\r\\n\\r\\nstart iwbemservices::execquery - root\\\\cimv2 : select __path, processid, csname, caption, sessionid, threadcount, workingsetsize, kernelmodetime, usermodetime, parentprocessid from win32_process where (  processid = 3052)\\r\\n\\r\\nstart iwbemservices::execquery - root\\\\cimv2 : select __path, processid, csname, caption, sessionid, threadcount, workingsetsize, kernelmodetime, usermodetime, parentprocessid from win32_process where (  processid = 4476)\\r\\n\\r\\nstart iwbemservices::execquery - root\\\\cimv2 : select __path, processid, csname, caption, sessionid, threadcount, workingsetsize, kernelmodetime, usermodetime, parentprocessid from win32_process where (  processid = 1560)\\r\\n\\r\\nstart iwbemservices::execquery - root\\\\cimv2 : select __path, processid, csname, caption, sessionid, threadcount, workingsetsize, kernelmodetime, usermodetime, parentprocessid from win32_process where (  processid = 8124)\\r\\n\\r\\nstart iwbemservices::exe\\r\\n', '\\n'), ('Encryption and Ransom Note', '\\n'), ('Encryption is initiated and completed very quickly once applicable services and processes have been terminated. Specific encryption recipes and routines can vary across variants of HelloKitty. Generally speaking, they tend to use a combination of AES-256 & RSA-2048 or even NTRU+AES-128.', '\\n'), ('Once encrypted, affected files receive the ', '\\n'), ('.crypted', ' extension.'), ('Ransom notes are typically customized to directly reference the victim and victim’s environment. Victims are instructed to visit a TOR-based payment and support portal. The following example has been sanitized:', '\\n'), ('It is also important to note that as of this writing, the onion address associated with HelloKitty ransom notes is not active.', '\\n'), ('6x7dp6h3w6q3ugjv4yv5gycj3femb24kysgry5b44hhgfwc5ml5qrdad.onion', None), ('Conclusion', '\\n'), ('HelloKitty may be easier to spot than other modern ransomware families, but upon execution it is no less dangerous. There are currently no known ‘weaknesses’ in the encryption routines, and there are no thirdy-party decrypters available for the HelloKitty ransomware. Therefore, the only true defense is prevention. While this family does not appear to be actively leaking victim data at the moment, that could change at any point, in addition to them choosing to adopt some of the more recent extortion methods that go along with ransomware (DDoS).', '\\n'), ('Actors behind the more recent campaign(s) are reportedly attempting to auction the CD Projekt data off in various ‘underground’ forums. At present this sale of this data does appear to be legitimate. Time will tell if additional victim data is dealt with in the same way.', '\\n'), ('To protect yourself against HelloKitty, make sure you are armed with a modern Endpoint Security platform, which is configured correctly and up to date. The SentinelOne Singularity Platform is fully capable of preventing and detecting all malicious behaviors associated with the HelloKitty ransomware family.', '\\n'), ('IOCs', '\\n'), ('SHA1', None), (None, '\\nfadd8d7c13a18c251ded1f645ffea18a37f1c2de'), ('SHA256', None), (None, '\\n501487b025f25ddf1ca32deb57a2b4db43ccf6635c1edc74b9cff54ce0e5bcfe'), ('MITRE ATT&CK', None), (None, '\\nData from Local System – '), ('T1005', None), (None, '\\nModify Registry – '), ('T1112', None), (None, '\\nQuery Registry – '), ('T1012', None), (None, '\\nSystem Information Discovery – '), ('T1082', None), (None, '\\nData Encrypted for Impact – '), ('T1486', None), (None, '\\nFile Deletion – '), ('T1070.004', None), (None, '\\nCommand and Scripting Interpreter: Windows Command Shell – '), ('T1059.003', None), (None, '\\nWindows Management Instrumentation – '), ('T1047', None), ('Post Views: ', '\\r\\n\\t\\t\\t\\t'), ('11,529', '\\r\\n\\t\\t\\t'), ('Ransomware', '\\t\\t\\t\\t\\t'), ('Share', None), ('Facebook', None), ('Twitter', None), ('Mail', None), ('Linkedin', None), ('Reddit', None), ('Jim Walter', None), ('Jim Walter is a Senior Threat Researcher at SentinelOne focusing on evolving trends, actors, and tactics within the thriving ecosystem of cybercrime and crimeware. He specializes in the discovery and analysis of emerging cybercrime \"services\" and evolving communication channels leveraged by mid-level criminal organizations. Jim joined SentinelOne following ~4 years at a security start-up, also focused on malware research and organized crime. Previously, he spent over 17 years at McAfee/Intel running their Threat Intelligence and Advanced Threat Research teams.', '\\n\\n\\t\\t\\t\\t\\n\\t\\t\\t'), ('Prev', None), ('A Guide to Ghidra Scripting Development for Malware Researchers', None), ('Next', None), ('Top 15 Essential Malware Analysis Tools', None), ('Related Posts', '\\n\\t\\t\\t'), ('Maze Ransomware Update: Extorting and Exposing Victims', None), ('April 17, 2020', '\\n\\n\\t\\t\\t\\t\\t'), ('Greyware’s Anatomy: The “Potentially Unwanted” are Upping Their Game', None), ('January 7, 2021', '\\n\\n\\t\\t\\t\\t\\t'), ('The FONIX RaaS | New Low-Key Threat with Unnecessary Complexities', None), ('October 6, 2020', '\\n\\n\\t\\t\\t\\t\\t'), ('Sign Up', None), ('Facebook', '\\n\\t'), ('Twitter', '\\n\\t'), ('Linkedin', '\\n\\t'), ('Get notified when we post new content.', '\\n\\t'), ('Thanks!  Keep an eye out for new content!', '\\n\\t'), ('Popular Posts', '\\n\\t\\t\\t'), ('Detecting macOS.GMERA Malware Through Behavioral Inspection', None), (None, ' behavioral detection, GMERA malware, macOS, Yara\\t\\t\\t\\t\\t\\t\\t\\t'), ('RIG Exploit Kit Chain Internals', None), (None, ' reverse engineeering, RIG Exploit Kit, Vitali Kremez, Zero2Hero\\t\\t\\t\\t\\t\\t\\t\\t'), ('Trickbot Update: Brief Analysis of a Recent Trickbot Payload', None), (None, ' banking trojan, phishing, trickbot\\t\\t\\t\\t\\t\\t\\t\\t'), ('Gootkit Banking Trojan | Part 3: Retrieving the Final Payload', None), (None, ' banking trojan, Gootkit, reverse engineering, Zero2Hero\\t\\t\\t\\t\\t\\t\\t\\t'), ('Tweets', '\\r\\n\\t\\t\\t\\t\\t\\t'), (' Enhance your attack prevention and accelerate your response to ongoing attacks. Learn how to limit the blast radi… ', None), ('https://t.co/GSFg7sVsDD', None), ('4 hours ago', None), ('Use cases for SentinelOne Cloud Funnel, the ', None), ('#EDR', ' '), ('#DataLake', ' include:\\n\\n⌛ Extended retention.\\n  Regulatory… '), ...]"
      ]
     },
     "execution_count": 26,
     "metadata": {},
     "output_type": "execute_result"
    },
    {
     "data": {
      "application/javascript": "\n            setTimeout(function() {\n                var nbb_cell_id = 26;\n                var nbb_unformatted_code = \"seq(root.xpath(\\\"/html/body/div[1]/div/div[2]/div//*\\\")).filter(\\n    lambda element: has_printable_content(element)\\n).filter(lambda element: has_printable_tag(element)).map(\\n    lambda element: (element.text, element.tail)\\n)\";\n                var nbb_formatted_code = \"seq(root.xpath(\\\"/html/body/div[1]/div/div[2]/div//*\\\")).filter(\\n    lambda element: has_printable_content(element)\\n).filter(lambda element: has_printable_tag(element)).map(\\n    lambda element: (element.text, element.tail)\\n)\";\n                var nbb_cells = Jupyter.notebook.get_cells();\n                for (var i = 0; i < nbb_cells.length; ++i) {\n                    if (nbb_cells[i].input_prompt_number == nbb_cell_id) {\n                        if (nbb_cells[i].get_text() == nbb_unformatted_code) {\n                             nbb_cells[i].set_text(nbb_formatted_code);\n                        }\n                        break;\n                    }\n                }\n            }, 500);\n            ",
      "text/plain": [
       "<IPython.core.display.Javascript object>"
      ]
     },
     "metadata": {},
     "output_type": "display_data"
    }
   ],
   "source": [
    "seq(root.xpath(\"/html/body/div[1]/div/div[2]/div//*\")).filter(\n",
    "    lambda element: has_printable_content(element)\n",
    ").filter(lambda element: has_printable_tag(element)).map(\n",
    "    lambda element: (element.text, element.tail)\n",
    ")"
   ]
  },
  {
   "cell_type": "markdown",
   "metadata": {},
   "source": [
    "---"
   ]
  },
  {
   "cell_type": "markdown",
   "metadata": {},
   "source": [
    "## Manipulate elements (?)"
   ]
  },
  {
   "cell_type": "code",
   "execution_count": 31,
   "metadata": {
    "ExecuteTime": {
     "end_time": "2021-05-24T07:53:37.905006Z",
     "start_time": "2021-05-24T07:53:37.870225Z"
    }
   },
   "outputs": [
    {
     "data": {
      "text/plain": [
       "b'<html lang=\"en-US\">\\n<head>\\n<meta charset=\"UTF-8\"/>\\n<meta name=\"viewport\" content=\"width=device-width, initial-scale=1\"/>\\n<meta http-equiv=\"X-UA-Compatible\" content=\"IE=edge\"/>\\n\\n<link rel=\"profile\" href=\"http://gmpg.org/xfn/11\"/>\\n\\n\\t<!-- This site is optimized with the Yoast SEO Premium plugin v16.2 - https://yoast.com/wordpress/plugins/seo/ -->\\n\\t<title>HelloKitty Ransomware Lacks Stealth, But Still Strikes Home - SentinelLabs</title>\\n\\t<meta name=\"description\" content=\"HelloKitty lacks the stealth of Ryuk, REvil and Conti, but has still struck some notable targets, including CEMIGO. Ransomware overview and IoCs here.\"/>\\n\\t<meta name=\"robots\" content=\"index, follow, max-snippet:-1, max-image-preview:large, max-video-preview:-1\"/>\\n\\t<link rel=\"canonical\" href=\"https://labs.sentinelone.com/hellokitty-ransomware-lacks-stealth-but-still-strikes-home/\"/>\\n\\t<meta property=\"og:locale\" content=\"en_US\"/>\\n\\t<meta property=\"og:type\" content=\"article\"/>\\n\\t<meta property=\"og:title\" content=\"HelloKitty Ransomware Lacks Stealth, But Still Strikes Home - SentinelLabs\"/>\\n\\t<meta property=\"og:description\" content=\"HelloKitty lacks the stealth of Ryuk, REvil and Conti, but has still struck some notable targets, including CEMIGO. Ransomware overview and IoCs here.\"/>\\n\\t<meta property=\"og:url\" content=\"https://labs.sentinelone.com/hellokitty-ransomware-lacks-stealth-but-still-strikes-home/\"/>\\n\\t<meta property=\"og:site_name\" content=\"SentinelLabs\"/>\\n\\t<meta property=\"article:published_time\" content=\"2021-03-08T17:22:44+00:00\"/>\\n\\t<meta property=\"article:modified_time\" content=\"2021-03-11T16:52:38+00:00\"/>\\n\\t<meta property=\"og:image\" content=\"https://labs.sentinelone.com/wp-content/uploads/2021/03/HelloKitty-Ransomware-Lacks-Stealth-But-Still-Strikes-Home.jpg\"/>\\n\\t<meta property=\"og:image:width\" content=\"1200\"/>\\n\\t<meta property=\"og:image:height\" content=\"628\"/>\\n\\t<meta name=\"twitter:card\" content=\"summary_large_image\"/>\\n\\t<meta name=\"twitter:image\" content=\"https://labs.sentinelone.com/wp-content/uploads/2021/03/HelloKitty-Ransomware-Lacks-Stealth-But-Still-Strikes-Home.jpg\"/>\\n\\t<meta name=\"twitter:label1\" content=\"Written by\"/>\\n\\t<meta name=\"twitter:data1\" content=\"Jim Walter\"/>\\n\\t<meta name=\"twitter:label2\" content=\"Est. reading time\"/>\\n\\t<meta name=\"twitter:data2\" content=\"5 minutes\"/>\\n\\t<script type=\"application/ld+json\" class=\"yoast-schema-graph\">{\"@context\":\"https://schema.org\",\"@graph\":[{\"@type\":\"WebSite\",\"@id\":\"https://labs.sentinelone.com/#website\",\"url\":\"https://labs.sentinelone.com/\",\"name\":\"SentinelLabs\",\"description\":\"Intelligence Redefined\",\"potentialAction\":[{\"@type\":\"SearchAction\",\"target\":\"https://labs.sentinelone.com/?s={search_term_string}\",\"query-input\":\"required name=search_term_string\"}],\"inLanguage\":\"en-US\"},{\"@type\":\"ImageObject\",\"@id\":\"https://labs.sentinelone.com/hellokitty-ransomware-lacks-stealth-but-still-strikes-home/#primaryimage\",\"inLanguage\":\"en-US\",\"url\":\"https://labs.sentinelone.com/wp-content/uploads/2021/03/HelloKitty-Ransomware-Lacks-Stealth-But-Still-Strikes-Home.jpg\",\"contentUrl\":\"https://labs.sentinelone.com/wp-content/uploads/2021/03/HelloKitty-Ransomware-Lacks-Stealth-But-Still-Strikes-Home.jpg\",\"width\":1200,\"height\":628},{\"@type\":\"WebPage\",\"@id\":\"https://labs.sentinelone.com/hellokitty-ransomware-lacks-stealth-but-still-strikes-home/#webpage\",\"url\":\"https://labs.sentinelone.com/hellokitty-ransomware-lacks-stealth-but-still-strikes-home/\",\"name\":\"HelloKitty Ransomware Lacks Stealth, But Still Strikes Home - SentinelLabs\",\"isPartOf\":{\"@id\":\"https://labs.sentinelone.com/#website\"},\"primaryImageOfPage\":{\"@id\":\"https://labs.sentinelone.com/hellokitty-ransomware-lacks-stealth-but-still-strikes-home/#primaryimage\"},\"datePublished\":\"2021-03-08T17:22:44+00:00\",\"dateModified\":\"2021-03-11T16:52:38+00:00\",\"author\":{\"@id\":\"https://labs.sentinelone.com/#/schema/person/57512d8904e3226ca825d2159d64c005\"},\"description\":\"HelloKitty lacks the stealth of Ryuk, REvil and Conti, but has still struck some notable targets, including CEMIGO. Ransomware overview and IoCs here.\",\"breadcrumb\":{\"@id\":\"https://labs.sentinelone.com/hellokitty-ransomware-lacks-stealth-but-still-strikes-home/#breadcrumb\"},\"inLanguage\":\"en-US\",\"potentialAction\":[{\"@type\":\"ReadAction\",\"target\":[\"https://labs.sentinelone.com/hellokitty-ransomware-lacks-stealth-but-still-strikes-home/\"]}]},{\"@type\":\"BreadcrumbList\",\"@id\":\"https://labs.sentinelone.com/hellokitty-ransomware-lacks-stealth-but-still-strikes-home/#breadcrumb\",\"itemListElement\":[{\"@type\":\"ListItem\",\"position\":1,\"item\":{\"@type\":\"WebPage\",\"@id\":\"https://labs.sentinelone.com/\",\"url\":\"https://labs.sentinelone.com/\",\"name\":\"Home\"}},{\"@type\":\"ListItem\",\"position\":2,\"item\":{\"@id\":\"https://labs.sentinelone.com/hellokitty-ransomware-lacks-stealth-but-still-strikes-home/#webpage\"}}]},{\"@type\":\"Person\",\"@id\":\"https://labs.sentinelone.com/#/schema/person/57512d8904e3226ca825d2159d64c005\",\"name\":\"Jim Walter\",\"image\":{\"@type\":\"ImageObject\",\"@id\":\"https://labs.sentinelone.com/#personlogo\",\"inLanguage\":\"en-US\",\"url\":\"https://secure.gravatar.com/avatar/eff08e92006c77bdaa5b6c0efbe4ca49?s=96&amp;d=mm&amp;r=g\",\"contentUrl\":\"https://secure.gravatar.com/avatar/eff08e92006c77bdaa5b6c0efbe4ca49?s=96&amp;d=mm&amp;r=g\",\"caption\":\"Jim Walter\"},\"description\":\"Jim Walter is a Senior Threat Researcher at SentinelOne focusing on evolving trends, actors, and tactics within the thriving ecosystem of cybercrime and crimeware. He specializes in the discovery and analysis of emerging cybercrime \\\\\"services\\\\\" and evolving communication channels leveraged by mid-level criminal organizations. Jim joined SentinelOne following ~4 years at a security start-up, also focused on malware research and organized crime. Previously, he spent over 17 years at McAfee/Intel running their Threat Intelligence and Advanced Threat Research teams.\"}]}</script>\\n\\t<!-- / Yoast SEO Premium plugin. -->\\n\\n\\n<link rel=\"dns-prefetch\" href=\"//labs.sentinelone.com\"/>\\n<link rel=\"dns-prefetch\" href=\"//go.sentinelone.com\"/>\\n<link rel=\"dns-prefetch\" href=\"//app.cdn.lookbookhq.com\"/>\\n<link rel=\"dns-prefetch\" href=\"//cdnjs.cloudflare.com\"/>\\n<link rel=\"dns-prefetch\" href=\"//fonts.googleapis.com\"/>\\n<link rel=\"dns-prefetch\" href=\"//cloud.typography.com\"/>\\n<link rel=\"dns-prefetch\" href=\"//s.w.org\"/>\\n<link rel=\"alternate\" type=\"application/rss+xml\" title=\"SentinelLabs &#187; Feed\" href=\"https://labs.sentinelone.com/feed/\"/>\\n<link rel=\"alternate\" type=\"application/rss+xml\" title=\"SentinelLabs &#187; Comments Feed\" href=\"https://labs.sentinelone.com/comments/feed/\"/>\\n<link rel=\"alternate\" type=\"application/rss+xml\" title=\"SentinelLabs &#187; HelloKitty Ransomware Lacks Stealth, But Still Strikes Home Comments Feed\" href=\"https://labs.sentinelone.com/hellokitty-ransomware-lacks-stealth-but-still-strikes-home/feed/\"/>\\n\\t\\t<script type=\"text/javascript\">\\n\\t\\t\\twindow._wpemojiSettings = {\"baseUrl\":\"https:\\\\/\\\\/s.w.org\\\\/images\\\\/core\\\\/emoji\\\\/13.0.1\\\\/72x72\\\\/\",\"ext\":\".png\",\"svgUrl\":\"https:\\\\/\\\\/s.w.org\\\\/images\\\\/core\\\\/emoji\\\\/13.0.1\\\\/svg\\\\/\",\"svgExt\":\".svg\",\"source\":{\"concatemoji\":\"https:\\\\/\\\\/labs.sentinelone.com\\\\/wp-includes\\\\/js\\\\/wp-emoji-release.min.js?ver=660a951873600c5f9b6f4e2588e1174b\"}};\\n\\t\\t\\t!function(e,a,t){var n,r,o,i=a.createElement(\"canvas\"),p=i.getContext&amp;&amp;i.getContext(\"2d\");function s(e,t){var a=String.fromCharCode;p.clearRect(0,0,i.width,i.height),p.fillText(a.apply(this,e),0,0);e=i.toDataURL();return p.clearRect(0,0,i.width,i.height),p.fillText(a.apply(this,t),0,0),e===i.toDataURL()}function c(e){var t=a.createElement(\"script\");t.src=e,t.defer=t.type=\"text/javascript\",a.getElementsByTagName(\"head\")[0].appendChild(t)}for(o=Array(\"flag\",\"emoji\"),t.supports={everything:!0,everythingExceptFlag:!0},r=0;r&lt;o.length;r++)t.supports[o[r]]=function(e){if(!p||!p.fillText)return!1;switch(p.textBaseline=\"top\",p.font=\"600 32px Arial\",e){case\"flag\":return s([127987,65039,8205,9895,65039],[127987,65039,8203,9895,65039])?!1:!s([55356,56826,55356,56819],[55356,56826,8203,55356,56819])&amp;&amp;!s([55356,57332,56128,56423,56128,56418,56128,56421,56128,56430,56128,56423,56128,56447],[55356,57332,8203,56128,56423,8203,56128,56418,8203,56128,56421,8203,56128,56430,8203,56128,56423,8203,56128,56447]);case\"emoji\":return!s([55357,56424,8205,55356,57212],[55357,56424,8203,55356,57212])}return!1}(o[r]),t.supports.everything=t.supports.everything&amp;&amp;t.supports[o[r]],\"flag\"!==o[r]&amp;&amp;(t.supports.everythingExceptFlag=t.supports.everythingExceptFlag&amp;&amp;t.supports[o[r]]);t.supports.everythingExceptFlag=t.supports.everythingExceptFlag&amp;&amp;!t.supports.flag,t.DOMReady=!1,t.readyCallback=function(){t.DOMReady=!0},t.supports.everything||(n=function(){t.readyCallback()},a.addEventListener?(a.addEventListener(\"DOMContentLoaded\",n,!1),e.addEventListener(\"load\",n,!1)):(e.attachEvent(\"onload\",n),a.attachEvent(\"onreadystatechange\",function(){\"complete\"===a.readyState&amp;&amp;t.readyCallback()})),(n=t.source||{}).concatemoji?c(n.concatemoji):n.wpemoji&amp;&amp;n.twemoji&amp;&amp;(c(n.twemoji),c(n.wpemoji)))}(window,document,window._wpemojiSettings);\\n\\t\\t</script>\\n\\t\\t<style type=\"text/css\">\\nimg.wp-smiley,\\nimg.emoji {\\n\\tdisplay: inline !important;\\n\\tborder: none !important;\\n\\tbox-shadow: none !important;\\n\\theight: 1em !important;\\n\\twidth: 1em !important;\\n\\tmargin: 0 .07em !important;\\n\\tvertical-align: -0.1em !important;\\n\\tbackground: none !important;\\n\\tpadding: 0 !important;\\n}\\n</style>\\n\\t<link rel=\"stylesheet\" id=\"wp-block-library-css\" href=\"https://labs.sentinelone.com/wp-includes/css/dist/block-library/style.min.css?ver=660a951873600c5f9b6f4e2588e1174b\" type=\"text/css\" media=\"all\"/>\\n<link rel=\"stylesheet\" id=\"contact-form-7-css\" href=\"https://labs.sentinelone.com/wp-content/plugins/contact-form-7/includes/css/styles.css?ver=5.3.2\" type=\"text/css\" media=\"all\"/>\\n<link rel=\"stylesheet\" id=\"invitations-for-slack-css\" href=\"https://labs.sentinelone.com/wp-content/plugins/invitations-for-slack/invitations-for-slack/assets/style.css?ver=660a951873600c5f9b6f4e2588e1174b\" type=\"text/css\" media=\"all\"/>\\n<link rel=\"stylesheet\" id=\"mks_shortcodes_fntawsm_css-css\" href=\"https://labs.sentinelone.com/wp-content/plugins/meks-flexible-shortcodes/css/font-awesome/css/font-awesome.min.css?ver=1.3.2\" type=\"text/css\" media=\"screen\"/>\\n<link rel=\"stylesheet\" id=\"mks_shortcodes_simple_line_icons-css\" href=\"https://labs.sentinelone.com/wp-content/plugins/meks-flexible-shortcodes/css/simple-line/simple-line-icons.css?ver=1.3.2\" type=\"text/css\" media=\"screen\"/>\\n<link rel=\"stylesheet\" id=\"mks_shortcodes_css-css\" href=\"https://labs.sentinelone.com/wp-content/plugins/meks-flexible-shortcodes/css/style.css?ver=1.3.2\" type=\"text/css\" media=\"screen\"/>\\n<link rel=\"stylesheet\" id=\"dashicons-css\" href=\"https://labs.sentinelone.com/wp-includes/css/dashicons.min.css?ver=660a951873600c5f9b6f4e2588e1174b\" type=\"text/css\" media=\"all\"/>\\n<link rel=\"stylesheet\" id=\"post-views-counter-frontend-css\" href=\"https://labs.sentinelone.com/wp-content/plugins/post-views-counter/css/frontend.css?ver=1.3.3\" type=\"text/css\" media=\"all\"/>\\n<link rel=\"stylesheet\" id=\"tp_twitter_plugin_css-css\" href=\"https://labs.sentinelone.com/wp-content/plugins/recent-tweets-widget/tp_twitter_plugin.css?ver=1.0\" type=\"text/css\" media=\"screen\"/>\\n<link rel=\"stylesheet\" id=\"asiana-plugins-style-css\" href=\"https://labs.sentinelone.com/wp-content/themes/asiana/assets/css/asiana.plugins.css?ver=1.2\" type=\"text/css\" media=\"screen\"/>\\n<link rel=\"stylesheet\" id=\"asiana-main-style-css\" href=\"https://labs.sentinelone.com/wp-content/themes/asiana-child/style.css?ver=1.2\" type=\"text/css\" media=\"screen\"/>\\n<style id=\"asiana-main-style-inline-css\" type=\"text/css\">\\na:hover, a:focus, a:active, .entry-meta__top a, .entry-featured .entry-meta, .entry-title a:hover, .link-more a.more-link:hover, .woocommerce .star-rating, .woocommerce div.product .product_meta a, .woocommerce .woocommerce-MyAccount-navigation ul li.is-active a, .woocommerce-page .woocommerce-MyAccount-navigation ul li.is-active a, .woocommerce .woocommerce-MyAccount-content a:not(.button), .woocommerce-page .woocommerce-MyAccount-content a:not(.button) { color: #7e4aac; }.to-top, .navigation.pagination .page-numbers:hover, .navigation.pagination .page-numbers.current, .widget_tag_cloud a:hover, .single .meta-social-share a:hover, button, input[type=\"button\"], input[type=\"reset\"], input[type=\"submit\"], button:hover, input[type=\"button\"]:hover, input[type=\"reset\"]:hover, input[type=\"submit\"]:hover, .entry-tags a, .woocommerce #respond input#submit, .entry-thumbnail a .fa-link, .woocommerce #respond input#submit:hover, .woocommerce a.button:hover, .woocommerce button.button:hover, .woocommerce input.button:hover, .woocommerce span.onsale, .woocommerce #respond input#submit, .woocommerce a.button, .woocommerce button.button, .woocommerce input.button, .woocommerce a.added_to_cart:hover, .woocommerce .woocommerce-pagination a.page-numbers:hover, .woocommerce .woocommerce-pagination a.page-numbers.current, .woocommerce .woocommerce-pagination span.page-numbers:hover, .woocommerce .woocommerce-pagination span.page-numbers.current, .woocommerce #respond input#submit.alt, .woocommerce a.button.alt, .woocommerce button.button.alt, .woocommerce input.button.alt, .woocommerce #respond input#submit.alt:hover, .woocommerce a.button.alt:hover, .woocommerce button.button.alt:hover, .woocommerce input.button.alt:hover, .woocommerce #respond input#submit.alt.disabled, .woocommerce #respond input#submit.alt.disabled:hover, .woocommerce #respond input#submit.alt:disabled, .woocommerce #respond input#submit.alt:disabled:hover, .woocommerce #respond input#submit.alt:disabled[disabled], .woocommerce #respond input#submit.alt:disabled[disabled]:hover, .woocommerce a.button.alt.disabled, .woocommerce a.button.alt.disabled:hover, .woocommerce a.button.alt:disabled, .woocommerce a.button.alt:disabled:hover, .woocommerce a.button.alt:disabled[disabled], .woocommerce a.button.alt:disabled[disabled]:hover, .woocommerce button.button.alt.disabled, .woocommerce button.button.alt.disabled:hover, .woocommerce button.button.alt:disabled, .woocommerce button.button.alt:disabled:hover, .woocommerce button.button.alt:disabled[disabled], .woocommerce button.button.alt:disabled[disabled]:hover, .woocommerce input.button.alt.disabled, .woocommerce input.button.alt.disabled:hover, .woocommerce input.button.alt:disabled, .woocommerce input.button.alt:disabled:hover, .woocommerce input.button.alt:disabled[disabled], .woocommerce input.button.alt:disabled[disabled]:hover, .woocommerce #respond input#submit.disabled:hover, .woocommerce #respond input#submit:disabled:hover, .woocommerce #respond input#submit:disabled[disabled]:hover, .woocommerce a.button.disabled:hover, .woocommerce a.button:disabled:hover, .woocommerce a.button:disabled[disabled]:hover, .woocommerce button.button.disabled:hover, .woocommerce button.button:disabled:hover, .woocommerce button.button:disabled[disabled]:hover, .woocommerce input.button.disabled:hover, .woocommerce input.button:disabled:hover, .woocommerce input.button:disabled[disabled]:hover, .woocommerce .widget_price_filter .ui-slider .ui-slider-range, .woocommerce-page .widget_price_filter .ui-slider .ui-slider-range, .nav-link__cart .cart-contents-count, .woocommerce .widget_product_tag_cloud a:hover, .woocommerce-page .widget_product_tag_cloud a:hover, .widget.asiana-social ul a:hover, .sticky .stikcy-badge, .entries-page-nav a&gt;span, .post-comments-nav .previous a, .post-comments-nav .next a { background-color: #7e4aac; }.link-more a.more-link:hover, .widget_tag_cloud a:hover, input[type=\"text\"]:focus, input[type=\"email\"]:focus, input[type=\"url\"]:focus, input[type=\"password\"]:focus, input[type=\"search\"]:focus, input[type=\"number\"]:focus, input[type=\"tel\"]:focus, input[type=\"range\"]:focus, input[type=\"date\"]:focus, input[type=\"month\"]:focus, input[type=\"week\"]:focus, input[type=\"time\"]:focus, input[type=\"datetime\"]:focus, input[type=\"datetime-local\"]:focus, input[type=\"color\"]:focus, textarea:focus, .form-control:focus, .single .meta-social-share a:hover, button, input[type=\"button\"], input[type=\"reset\"], input[type=\"submit\"], button:hover, input[type=\"button\"]:hover, input[type=\"reset\"]:hover, input[type=\"submit\"]:hover, .entry-tags a, #add_payment_method table.cart td.actions .coupon .input-text:focus, .woocommerce-cart table.cart td.actions .coupon .input-text:focus, .woocommerce-checkout table.cart td.actions .coupon .input-text:focus, .woocommerce #respond input#submit:hover, .woocommerce a.button:hover, .woocommerce button.button:hover, .woocommerce input.button:hover, .woocommerce #respond input#submit, .woocommerce a.button, .woocommerce button.button, .woocommerce input.button, .woocommerce a.added_to_cart:hover, .woocommerce .widget_price_filter .ui-slider .ui-slider-handle, .woocommerce-page .widget_price_filter .ui-slider .ui-slider-handle, .woocommerce .widget_product_tag_cloud a:hover, .woocommerce-page .widget_product_tag_cloud a:hover, .widget.asiana-social ul a:hover, .link-more a.more-link { border-color: #7e4aac; }.logo-img img { max-width: 175px; };\\n</style>\\n<link rel=\"stylesheet\" id=\"9a3f6f3d9649d0241c9fa0748ac0af81-css\" href=\"//fonts.googleapis.com/css?family=IBM+Plex+Sans:500\" type=\"text/css\" media=\"all\"/>\\n<link rel=\"stylesheet\" id=\"73e1fb245502b58bc25698c6f6ab4329-css\" href=\"//fonts.googleapis.com/css?family=Raleway:600\" type=\"text/css\" media=\"all\"/>\\n<link rel=\"stylesheet\" id=\"asiana-child_no-kirki-css\" href=\"https://labs.sentinelone.com/wp-content/themes/asiana-child/style.css\" type=\"text/css\" media=\"all\"/>\\n<style id=\"asiana-child_no-kirki-inline-css\" type=\"text/css\">\\nbody,button,input,select,textarea{font-family:IBM Plex Sans;font-weight:;font-backup:;font-style:normal;}.site-title{font-family:Raleway;font-weight:;font-backup:;font-style:normal;}.comment-reply-title,.h1,.h2,.h3,.h4,.h5,.h6,h1,h2,h3,h4,h5,h6{font-family:Raleway;font-weight:;font-backup:;font-style:normal;}blockquote{font-family:Raleway;font-weight:;font-backup:;font-style:normal;}.main-navigation ul li a{font-family:IBM Plex Sans;font-weight:;font-backup:;font-style:normal;}.entry-title,.entry-title.h1,.entry-title.h2,.page-title{font-family:Raleway;font-weight:;font-backup:;font-style:normal;}.entry-meta,.popular-post__list-meta,.related-post-time{font-family:IBM Plex Sans;font-weight:;font-backup:;font-style:normal;}.link-more{font-family:IBM Plex Sans;font-weight:;font-backup:;font-style:normal;}.site-main-title{font-family:Raleway;font-weight:;font-backup:;font-style:normal;}.site-main-title small{font-family:IBM Plex Sans;font-weight:;font-backup:;font-style:normal;}.widget .widget-title{font-family:Raleway;font-weight:;font-backup:;font-style:normal;}.site-info{font-family:IBM Plex Sans;font-weight:;font-backup:;font-style:normal;}.footer-instagram .null-instagram-feed p{font-family:IBM Plex Sans;font-weight:;font-backup:;font-style:normal;}\\n</style>\\n<link rel=\"stylesheet\" id=\"pathfactory-css-css\" href=\"//app.cdn.lookbookhq.com/libraries/overlay/overlay.css\" type=\"text/css\" media=\"all\"/>\\n<link rel=\"stylesheet\" id=\"highlightjs-css-css\" href=\"//cdnjs.cloudflare.com/ajax/libs/highlight.js/9.15.10/styles/tomorrow-night-blue.min.css\" type=\"text/css\" media=\"all\"/>\\n<link rel=\"stylesheet\" id=\"carbine-fonts-css\" href=\"https://cloud.typography.com/7197018/6979812/css/fonts.css\" type=\"text/css\" media=\"all\"/>\\n<link rel=\"stylesheet\" id=\"base-style-css\" href=\"https://labs.sentinelone.com/wp-content/themes/asiana-child/assets/css/style.min.css?ver=1621763197\" type=\"text/css\" media=\"all\"/>\\n<script type=\"text/javascript\" src=\"https://labs.sentinelone.com/wp-includes/js/jquery/jquery.min.js?ver=3.5.1\" id=\"jquery-core-js\"/>\\n<script type=\"text/javascript\" src=\"https://labs.sentinelone.com/wp-includes/js/jquery/jquery-migrate.min.js?ver=3.3.2\" id=\"jquery-migrate-js\"/>\\n<script type=\"text/javascript\" id=\"invitations-for-slack-js-extra\">\\n/* &lt;![CDATA[ */\\nvar InvitationsForSlack = {\"endpoints\":{\"invite.send\":\"https:\\\\/\\\\/labs.sentinelone.com\\\\/wp-json\\\\/invitations-for-slack\\\\/v1\\\\/invite.send\",\"team.stats\":\"https:\\\\/\\\\/labs.sentinelone.com\\\\/wp-json\\\\/invitations-for-slack\\\\/v1\\\\/team.stats\"},\"teamInfo\":{\"id\":\"TQW3J2J3C\",\"name\":\"SentinelLabs\",\"domain\":\"sentinellabs\",\"email_domain\":\"sentinelone.com\",\"icon\":{\"image_34\":\"https:\\\\/\\\\/a.slack-edge.com\\\\/80588\\\\/img\\\\/avatars-teams\\\\/ava_0011-34.png\",\"image_44\":\"https:\\\\/\\\\/a.slack-edge.com\\\\/80588\\\\/img\\\\/avatars-teams\\\\/ava_0011-44.png\",\"image_68\":\"https:\\\\/\\\\/a.slack-edge.com\\\\/80588\\\\/img\\\\/avatars-teams\\\\/ava_0011-68.png\",\"image_88\":\"https:\\\\/\\\\/a.slack-edge.com\\\\/80588\\\\/img\\\\/avatars-teams\\\\/ava_0011-88.png\",\"image_102\":\"https:\\\\/\\\\/a.slack-edge.com\\\\/80588\\\\/img\\\\/avatars-teams\\\\/ava_0011-102.png\",\"image_132\":\"https:\\\\/\\\\/a.slack-edge.com\\\\/80588\\\\/img\\\\/avatars-teams\\\\/ava_0011-132.png\",\"image_230\":\"https:\\\\/\\\\/a.slack-edge.com\\\\/80588\\\\/img\\\\/avatars-teams\\\\/ava_0011-230.png\",\"image_default\":true}},\"userIsMember\":\"\",\"template\":\"    &lt;div class=\\\\\"invite-box-wrapper hidden\\\\\"&gt;        &lt;div class=\\\\\"invite-box\\\\\"&gt;             &lt;div class=\\\\\"tagline\\\\\"&gt;Join &lt;strong&gt;[TEAM_NAME]&lt;\\\\/strong&gt; on Slack.&lt;\\\\/div&gt;             &lt;div class=\\\\\"team-stats\\\\\"&gt;&lt;strong class=\\\\\"online\\\\\"&gt;[STATS_ONLINE]&lt;\\\\/strong&gt; users online. &lt;strong class=\\\\\"registered\\\\\"&gt;[STATS_TOTAL]&lt;\\\\/strong&gt; registered.&lt;\\\\/div&gt;             &lt;input type=\\\\\"text\\\\\" placeholder=\\\\\"you@email.com\\\\\" \\\\/&gt;             &lt;button class=\\\\\"invite-button button\\\\\" data-state=\\\\\"active\\\\\"&gt;Yes. Please send my invite.&lt;\\\\/button&gt;&lt;br\\\\/&gt;             &lt;a class=\\\\\"invite-box-reset hidden\\\\\"&gt;Join with another e-mail address?&lt;\\\\/a&gt;        &lt;\\\\/div&gt;    &lt;\\\\/div&gt;\",\"data\":{\"team\":{\"id\":\"TQW3J2J3C\",\"name\":\"SentinelLabs\",\"domain\":\"sentinellabs\",\"email_domain\":\"sentinelone.com\",\"icon\":{\"image_34\":\"https:\\\\/\\\\/a.slack-edge.com\\\\/80588\\\\/img\\\\/avatars-teams\\\\/ava_0011-34.png\",\"image_44\":\"https:\\\\/\\\\/a.slack-edge.com\\\\/80588\\\\/img\\\\/avatars-teams\\\\/ava_0011-44.png\",\"image_68\":\"https:\\\\/\\\\/a.slack-edge.com\\\\/80588\\\\/img\\\\/avatars-teams\\\\/ava_0011-68.png\",\"image_88\":\"https:\\\\/\\\\/a.slack-edge.com\\\\/80588\\\\/img\\\\/avatars-teams\\\\/ava_0011-88.png\",\"image_102\":\"https:\\\\/\\\\/a.slack-edge.com\\\\/80588\\\\/img\\\\/avatars-teams\\\\/ava_0011-102.png\",\"image_132\":\"https:\\\\/\\\\/a.slack-edge.com\\\\/80588\\\\/img\\\\/avatars-teams\\\\/ava_0011-132.png\",\"image_230\":\"https:\\\\/\\\\/a.slack-edge.com\\\\/80588\\\\/img\\\\/avatars-teams\\\\/ava_0011-230.png\",\"image_default\":true}},\"stats\":{\"total\":134,\"online\":0},\"only_logged_in\":false,\"allow_different_email\":true,\"logged_in_message\":\"You need to be logged in to get your invite to join &lt;strong&gt;SentinelLabs&lt;\\\\/strong&gt; on Slack.\",\"user_allowed\":true,\"is_logged_in\":false,\"is_registered\":false,\"user\":false},\"processing_text\":\"Processing...\"};\\n/* ]]&gt; */\\n</script>\\n<script type=\"text/javascript\" src=\"https://labs.sentinelone.com/wp-content/plugins/invitations-for-slack/invitations-for-slack/scripts/script.js?ver=1.0.2\" id=\"invitations-for-slack-js\"/>\\n<script type=\"text/javascript\" src=\"//go.sentinelone.com/js/forms2/js/forms2.min.js\" id=\"marketo-forms-js\"/>\\n<script type=\"text/javascript\" src=\"//app.cdn.lookbookhq.com/libraries/overlay/overlay.js\" id=\"pathfactory-js\"/>\\n<script type=\"text/javascript\" src=\"//cdnjs.cloudflare.com/ajax/libs/highlight.js/9.15.10/highlight.min.js\" id=\"highlightjs-js\"/>\\n<script type=\"text/javascript\" src=\"https://labs.sentinelone.com/wp-content/themes/asiana-child/assets/js/header.min.js?ver=1621763197\" id=\"base-script-header-js\"/>\\n<link rel=\"https://api.w.org/\" href=\"https://labs.sentinelone.com/wp-json/\"/><link rel=\"alternate\" type=\"application/json\" href=\"https://labs.sentinelone.com/wp-json/wp/v2/posts/28566\"/><link rel=\"EditURI\" type=\"application/rsd+xml\" title=\"RSD\" href=\"https://labs.sentinelone.com/xmlrpc.php?rsd\"/>\\n<link rel=\"wlwmanifest\" type=\"application/wlwmanifest+xml\" href=\"https://labs.sentinelone.com/wp-includes/wlwmanifest.xml\"/> \\n\\n<link rel=\"shortlink\" href=\"https://labs.sentinelone.com/?p=28566\"/>\\n<link rel=\"alternate\" type=\"application/json+oembed\" href=\"https://labs.sentinelone.com/wp-json/oembed/1.0/embed?url=https%3A%2F%2Flabs.sentinelone.com%2Fhellokitty-ransomware-lacks-stealth-but-still-strikes-home%2F\"/>\\n<link rel=\"alternate\" type=\"text/xml+oembed\" href=\"https://labs.sentinelone.com/wp-json/oembed/1.0/embed?url=https%3A%2F%2Flabs.sentinelone.com%2Fhellokitty-ransomware-lacks-stealth-but-still-strikes-home%2F&amp;format=xml\"/>\\n\\t<link rel=\"apple-touch-icon\" sizes=\"180x180\" href=\"/apple-touch-icon.png\"/>\\n\\t<link rel=\"icon\" type=\"image/png\" sizes=\"32x32\" href=\"/favicon-32x32.png\"/>\\n\\t<link rel=\"icon\" type=\"image/png\" sizes=\"16x16\" href=\"/favicon-16x16.png\"/>\\n\\t<link rel=\"manifest\" href=\"/site.webmanifest\"/>\\n\\t<link rel=\"mask-icon\" href=\"/safari-pinned-tab.svg\" color=\"#5b0fde\"/>\\n\\t<meta name=\"msapplication-TileColor\" content=\"#5b0fde\"/>\\n\\t<meta name=\"theme-color\" content=\"#ffffff\"/>\\n\\t<!-- Global site tag (gtag.js) - Google Analytics -->\\n\\t<script async=\"\" src=\"https://www.googletagmanager.com/gtag/js?id=UA-38175129-3\"/>\\n\\t<script>\\n\\t\\twindow.dataLayer = window.dataLayer || [];\\n\\t\\tfunction gtag(){dataLayer.push(arguments);}\\n\\t\\tgtag( \\'js\\', new Date() );\\n\\t\\tgtag( \\'config\\', \\'UA-38175129-3\\' );\\n\\t</script>\\n\\t<!-- Google Tag Manager -->\\n\\t<script>(function(w,d,s,l,i){w[l]=w[l]||[];w[l].push({\\'gtm.start\\':\\n\\tnew Date().getTime(),event:\\'gtm.js\\'});var f=d.getElementsByTagName(s)[0],\\n\\tj=d.createElement(s),dl=l!=\\'dataLayer\\'?\\'&amp;l=\\'+l:\\'\\';j.async=true;j.src=\\n\\t\\'https://www.googletagmanager.com/gtm.js?id=\\'+i+dl;f.parentNode.insertBefore(j,f);\\n\\t})(window,document,\\'script\\',\\'dataLayer\\',\\'GTM-M5BKP2C\\');</script>\\n\\t<!-- End Google Tag Manager -->\\n<link rel=\"pingback\" href=\"https://labs.sentinelone.com/xmlrpc.php\"/>      <meta name=\"onesignal\" content=\"wordpress-plugin\"/>\\n            <script>\\n\\n      window.OneSignal = window.OneSignal || [];\\n\\n      OneSignal.push( function() {\\n        OneSignal.SERVICE_WORKER_UPDATER_PATH = \"OneSignalSDKUpdaterWorker.js.php\";\\n        OneSignal.SERVICE_WORKER_PATH = \"OneSignalSDKWorker.js.php\";\\n        OneSignal.SERVICE_WORKER_PARAM = { scope: \\'/\\' };\\n\\n        OneSignal.setDefaultNotificationUrl(\"https://labs.sentinelone.com\");\\n        var oneSignal_options = {};\\n        window._oneSignalInitOptions = oneSignal_options;\\n\\n        oneSignal_options[\\'wordpress\\'] = true;\\noneSignal_options[\\'appId\\'] = \\'a089f20d-a246-43e5-a26b-70ef4aa45d89\\';\\noneSignal_options[\\'allowLocalhostAsSecureOrigin\\'] = true;\\noneSignal_options[\\'welcomeNotification\\'] = { };\\noneSignal_options[\\'welcomeNotification\\'][\\'disable\\'] = true;\\noneSignal_options[\\'path\\'] = \"https://labs.sentinelone.com/wp-content/plugins/onesignal-free-web-push-notifications/sdk_files/\";\\noneSignal_options[\\'safari_web_id\\'] = \"web.onesignal.auto.13a94bce-1224-4d5f-912e-16820eddb8b3\";\\noneSignal_options[\\'persistNotification\\'] = true;\\noneSignal_options[\\'promptOptions\\'] = { };\\n                OneSignal.init(window._oneSignalInitOptions);\\n                OneSignal.showSlidedownPrompt();      });\\n\\n      function documentInitOneSignal() {\\n        var oneSignal_elements = document.getElementsByClassName(\"OneSignal-prompt\");\\n\\n        var oneSignalLinkClickHandler = function(event) { OneSignal.push([\\'registerForPushNotifications\\']); event.preventDefault(); };        for(var i = 0; i &lt; oneSignal_elements.length; i++)\\n          oneSignal_elements[i].addEventListener(\\'click\\', oneSignalLinkClickHandler, false);\\n      }\\n\\n      if (document.readyState === \\'complete\\') {\\n           documentInitOneSignal();\\n      }\\n      else {\\n           window.addEventListener(\"load\", function(event){\\n               documentInitOneSignal();\\n          });\\n      }\\n    </script>\\n<style type=\"text/css\" id=\"custom-background-css\">\\nbody.custom-background { background-image: url(\"https://labs.sentinelone.com/wp-content/uploads/2019/10/BackgroundLines-Copy-4.png\"); background-position: center top; background-size: auto; background-repeat: repeat; background-attachment: scroll; }\\n</style>\\n\\t<!-- Start 6 Sense Code -->&#13;\\n<script>&#13;\\n\\twindow._6si = window._6si || [];&#13;\\n\\twindow._6si.push([\\'enableEventTracking\\', true]);&#13;\\n\\twindow._6si.push([\\'setToken\\', \\'3576c97e67a9b7f8553a44ff1cc54791\\']);&#13;\\n\\twindow._6si.push([\\'setEndpoint\\', \\'b.6sc.co\\']);&#13;\\n\\t(function() {&#13;\\n\\t\\tvar gd = document.createElement(\\'script\\');&#13;\\n\\t\\tgd.type = \\'text/javascript\\';gd.async = true;&#13;\\n\\t\\tgd.src = \\'//j.6sc.co/6si.min.js\\';&#13;\\n\\t\\tvar s = document.getElementsByTagName(\\'script\\')[0];&#13;\\n\\t\\ts.parentNode.insertBefore(gd, s);&#13;\\n\\t})();&#13;\\n</script>&#13;\\n<!-- End 6 Sense Code --></head>\\n\\n<body class=\"post-template-default single single-post postid-28566 single-format-standard custom-background group-blog header-sticky\" itemscope=\"itemscope\" itemtype=\"http://schema.org/WebPage\">\\n\\n<div id=\"page\" class=\"site\">\\n\\n\\t<header id=\"masthead\" class=\"site-header site-header__default\" role=\"banner\" itemscope=\"\" itemtype=\"http://schema.org/WPHeader\">\\n\\n\\t\\t<div class=\"container height-100\">\\n\\n\\t\\t\\t<div class=\"site-header__inner height-100\">\\n\\n\\t\\t\\t\\t<div class=\"site-branding height-100\">\\n\\n\\t\\t\\t\\t\\t<div class=\"display-table height-100\">\\n\\n\\t\\t\\t\\t\\t\\t<div class=\"display-table-cell va-middle\">\\n\\n\\t\\t\\t\\t\\t\\t\\t<div class=\"logo-img\">\\n\\t\\t\\t\\t\\t\\t\\t\\t\\n\\t\\t\\t\\t\\t\\t\\t\\t\\t\\t\\t\\t\\t\\t\\t\\t\\t\\t<a href=\"https://labs.sentinelone.com/\">\\n\\t\\t\\t\\t\\t\\t\\t\\t\\t\\t\\t<img src=\"https://labs.sentinelone.com/wp-content/uploads/2019/10/SentinelLabs_Logo_RGB_WhitePurp.png\" alt=\"SentinelLabs\"/>\\n\\t\\t\\t\\t\\t\\t\\t\\t\\t\\t</a>\\n\\t\\t\\t\\t\\t\\t\\t\\t\\t\\n\\t\\t\\t\\t\\t\\t\\t</div>\\n\\n\\t\\t\\t\\t\\t\\t</div>\\n\\n\\t\\t\\t\\t\\t</div>\\n\\n\\t\\t\\t\\t</div><!-- /.site-branding -->\\t\\n\\n\\t\\t\\t\\t<div class=\"menu-toggle-wrapper height-100\">\\n\\n\\t\\t\\t\\t\\t<div class=\"display-table height-100\">\\n\\n\\t\\t\\t\\t\\t\\t<div class=\"display-table-cell va-middle\">\\n\\n\\t\\t\\t\\t\\t\\t\\t<span class=\"menu-toggle\"/>\\n\\n\\t\\t\\t\\t\\t\\t</div>\\n\\n\\t\\t\\t\\t\\t</div>\\n\\n\\t\\t\\t\\t</div><!-- /.menu-toggle-wrapper -->\\n\\n\\t\\t\\t\\t<div class=\"nav-link-wrapper height-100\">\\n\\n\\t\\t\\t\\t\\t<div class=\"display-table height-100\">\\n\\n\\t\\t\\t\\t\\t\\t<div class=\"display-table-cell va-middle\">\\n\\n\\t\\t\\t\\t\\t\\t\\t\\t\\t\\t\\t\\t\\t\\t\\t<ul class=\"nav-link\">\\n\\t\\t\\t\\t\\t\\t\\t\\t\\t\\t\\t\\t\\t\\t\\t\\t\\t\\t\\t\\t\\t\\t\\t\\t\\t\\t\\t\\t\\t\\t<li class=\"nav-link__sosmed\">\\n\\t\\t\\t\\t\\t\\t\\t\\t\\t\\t\\t\\t<a class=\"link-sosmed-trigger sosmed-trigger\" href=\"#\"><i class=\"fa fa-share-alt\"/></a>\\n\\n\\t\\t\\t\\t\\t\\t\\t\\t\\t\\t\\t\\t<ul class=\"link-sosmed\">\\n\\t\\t\\t\\t\\t\\t\\t\\t\\t\\t\\t\\t\\t\\t\\t\\t\\t\\t\\t\\t\\t\\t\\t\\t\\t\\t<li>\\n\\t\\t\\t\\t\\t\\t\\t\\t\\t\\t\\t\\t\\t\\t<a href=\"https://twitter.com/LabsSentinel\" target=\"_blank\" title=\"Twitter\">\\n\\t\\t\\t\\t\\t\\t\\t\\t\\t\\t\\t\\t\\t\\t\\t<i class=\"fa fa-twitter\"/>\\n\\t\\t\\t\\t\\t\\t\\t\\t\\t\\t\\t\\t\\t\\t</a>\\n\\t\\t\\t\\t\\t\\t\\t\\t\\t\\t\\t\\t\\t</li>\\n\\t\\t\\t\\t\\t\\t\\t\\t\\t\\t\\t\\t\\t\\t\\t\\t\\t\\t\\t\\t\\t\\t\\t\\t\\t\\t<li>\\n\\t\\t\\t\\t\\t\\t\\t\\t\\t\\t\\t\\t\\t\\t<a href=\"https://www.linkedin.com/company/sentinelone\" title=\"LinkedIn\">\\n\\t\\t\\t\\t\\t\\t\\t\\t\\t\\t\\t\\t\\t\\t\\t<i class=\"fa fa-linkedin\"/>\\n\\t\\t\\t\\t\\t\\t\\t\\t\\t\\t\\t\\t\\t\\t</a>\\n\\t\\t\\t\\t\\t\\t\\t\\t\\t\\t\\t\\t\\t</li>\\n\\t\\t\\t\\t\\t\\t\\t\\t\\t\\t\\t\\t\\t\\t\\t\\t\\t\\t\\t\\t\\t\\t\\t\\t\\t\\t<li>\\n\\t\\t\\t\\t\\t\\t\\t\\t\\t\\t\\t\\t\\t\\t<a href=\"https://app.slack.com/client/TQW3J2J3C/CR8SHCU0Y\" title=\"Slack\">\\n\\t\\t\\t\\t\\t\\t\\t\\t\\t\\t\\t\\t\\t\\t\\t<i class=\"fa fa-slack\"/>\\n\\t\\t\\t\\t\\t\\t\\t\\t\\t\\t\\t\\t\\t\\t</a>\\n\\t\\t\\t\\t\\t\\t\\t\\t\\t\\t\\t\\t\\t</li>\\n\\t\\t\\t\\t\\t\\t\\t\\t\\t\\t\\t\\t\\t\\t\\t\\t\\t\\t\\t\\t\\t\\t\\t\\t\\t</ul>\\n\\t\\t\\t\\t\\t\\t\\t\\t\\t\\t\\t</li>\\n\\t\\t\\t\\t\\t\\t\\t\\t\\t\\t\\t\\t\\t\\t\\t\\t\\t\\t\\t\\t\\t\\t\\t\\t\\t\\t\\t\\t\\t\\t\\t\\t\\t\\t\\t\\t\\t\\t\\t\\t<li class=\"nav-link__search\">\\n\\n\\t\\t\\t\\t\\t\\t\\t\\t\\t\\t\\t\\t<a href=\"#\" class=\"link-search\"><i class=\"fa fa-search\"/></a>\\n\\n\\t\\t\\t\\t\\t\\t\\t\\t\\t\\t\\t\\t<form method=\"get\" role=\"form\" class=\"search-form-header\" action=\"https://labs.sentinelone.com/\">\\n\\n\\t\\t\\t\\t\\t\\t\\t\\t\\t\\t\\t\\t\\t<input id=\"search-query\" type=\"text\" class=\"form-control search-header-input\" placeholder=\"To search type &amp; hit enter\" name=\"s\" value=\"\"/>\\n\\n\\t\\t\\t\\t\\t\\t\\t\\t\\t\\t\\t\\t</form>\\n\\n\\t\\t\\t\\t\\t\\t\\t\\t\\t\\t\\t</li>\\n\\t\\t\\t\\t\\t\\t\\t\\t\\t\\t\\t\\t\\t\\t\\t\\t\\t\\t\\t\\t\\t\\t\\t\\t\\t\\t\\t</ul>\\n\\t\\t\\t\\t\\t\\t\\t\\n\\t\\t\\t\\t\\t\\t</div>\\n\\n\\t\\t\\t\\t\\t</div>\\n\\n\\t\\t\\t\\t</div><!-- /.nav-link-wrapper -->\\n\\n\\t\\t\\t\\t<nav id=\"site-navigation\" class=\"main-navigation height-100\" role=\"navigation\">\\n\\n\\t\\t\\t\\t\\t<div class=\"display-table height-100\">\\n\\n\\t\\t\\t\\t\\t\\t<div class=\"display-table-cell va-middle\">\\n\\n\\t\\t\\t\\t\\t\\t\\t<div class=\"menu-blank-container\"><ul id=\"primary-menu\" class=\"menu\"><li id=\"menu-item-25433\" class=\"menu-item menu-item-type-post_type menu-item-object-page menu-item-25433\"><a href=\"https://labs.sentinelone.com/about/\">About</a></li>\\n<li id=\"menu-item-25449\" class=\"menu-item menu-item-type-post_type menu-item-object-page menu-item-25449\"><a href=\"https://labs.sentinelone.com/contact-us/\">Contact</a></li>\\n<li id=\"menu-item-400\" class=\"menu-item menu-item-type-custom menu-item-object-custom menu-item-400\"><a href=\"https://sentinelone.com\">Visit sentinelone.com</a></li>\\n</ul></div>\\n\\t\\t\\t\\t\\t\\t</div>\\n\\n\\t\\t\\t\\t\\t</div>\\n\\n\\t\\t\\t\\t</nav><!-- /.main-navigation -->\\n\\n\\t\\t\\t</div><!-- /.site-header__inner -->\\n\\n\\t\\t</div>\\n\\t\\t\\n\\t</header>\\n\\n<div id=\"content\" class=\"site-content\">\\n\\t\\n\\t<div class=\"ac-single-hero-image container\"><div class=\"row\"><div class=\"_col-md-10 _col-md-push-1\"><img src=\"https://labs.sentinelone.com/wp-content/uploads/2021/03/HelloKitty-Ransomware-Lacks-Stealth-But-Still-Strikes-Home-3-1140x597.jpg\"/></div></div></div>\\t\\n\\t<div class=\"site-main\">\\n\\t\\t\\n\\t\\t<div class=\"container\">\\n\\t\\t\\t\\n\\t\\t\\t<div class=\"row\">\\n\\n\\t\\t\\t\\t<div class=\"col-md-8\"><div id=\"entries-wrapper\" class=\"entries-wrapper entries-wrapper__right entries-layout-\"><article class=\"entry-item post-28566 post type-post status-publish format-standard has-post-thumbnail hentry category-crimeware tag-ransomware\" itemscope=\"\" itemtype=\"http://schema.org/BlogPosting\">\\n\\t\\n\\t<div class=\"entry-inner\">\\n\\n\\t\\t\\t\\t\\n\\t\\t\\n\\t\\t<section class=\"entry-body \">\\n\\t\\t\\t\\n\\t\\t\\t\\n<header class=\"entry-header text-left\">\\t\\t<div class=\"entry-meta entry-meta__top\">\\n\\t\\t<i class=\"fa fa-folder-o\"/> <span class=\"meta-category cat-links\"><a href=\"https://labs.sentinelone.com/category/crimeware/\" rel=\"category tag\">Crimeware</a></span>\\t</div>\\n\\t\\n\\t<h1 class=\"entry-title\" itemprop=\"headline name\">HelloKitty Ransomware Lacks Stealth, But Still Strikes Home</h1>\\n\\t\\t<div class=\"entry-meta\">\\n\\t\\t\\t\\t<ul class=\"list-meta\">\\n\\t\\t\\t<li><span class=\"meta-author byline\"> <i class=\"fa fa-user\"/> <span class=\"author vcard\"><a class=\"url fn n\" href=\"https://labs.sentinelone.com/author/jimw/\">Jim Walter</a></span></span></li><li><i class=\"fa fa-calendar\"/> <span class=\"meta-date posted-on\"><a href=\"https://labs.sentinelone.com/hellokitty-ransomware-lacks-stealth-but-still-strikes-home/\" rel=\"bookmark\"><time class=\"entry-date published\" datetime=\"2021-03-08T17:22:44+00:00\" itemprop=\"datePublished\">March 8, 2021</time><time class=\"updated\" datetime=\"2021-03-11T16:52:38+00:00\">March 11, 2021</time></a></span></li>\\t\\t</ul>\\n\\t\\t\\n\\t</div><!-- .entry-meta -->\\n\\t</header><!-- .entry-header -->\\n\\n\\t\\n\\n\\n\\t\\t\\t<section class=\"entry-content \" itemprop=\"articleBody\">\\n\\t\\t\\t\\t\\n\\t\\t\\t\\t<p>Game studio CD Projekt Red recently <a href=\"https://twitter.com/CDPROJEKTRED/status/1359048125403590660/photo/1\" target=\"_blank\" rel=\"noopener noreferrer\">disclosed</a> that it became a victim of a targeted, highly-impactful ransomware. In the days following the disclosure, it was revealed that the ransomware family most likely behind the attack was &#8220;HelloKitty&#8221;.</p>\\n<p><img loading=\"lazy\" src=\"https://labs.sentinelone.com/wp-content/uploads/2021/03/cdprojekt.jpg\" alt=\"\" width=\"936\" height=\"484\" class=\"alignnone size-full wp-image-28576\" srcset=\"https://labs.sentinelone.com/wp-content/uploads/2021/03/cdprojekt.jpg 936w, https://labs.sentinelone.com/wp-content/uploads/2021/03/cdprojekt-300x155.jpg 300w, https://labs.sentinelone.com/wp-content/uploads/2021/03/cdprojekt-768x397.jpg 768w, https://labs.sentinelone.com/wp-content/uploads/2021/03/cdprojekt-96x50.jpg 96w\" sizes=\"(max-width: 936px) 100vw, 936px\"/></p>\\n<p>HelloKitty is a ransomware family that emerged in late 2020. While it lacks the sophistication of some of the more well-known families such as Ryuk, REvil, and Conti, it has nevertheless struck some notable targets, including CEMIG0. In this post, we analyse a recent HelloKitty sample and outline the basic behaviors and traits associated with this family of ransomware.</p>\\n<h2>Execution and Behavior</h2>\\n<p>The &#8220;HelloKitty&#8221; name is based on internal mutex names, which are apparent upon execution.</p>\\n<p><img loading=\"lazy\" src=\"https://labs.sentinelone.com/wp-content/uploads/2021/03/2-execution.jpg\" alt=\"\" width=\"936\" height=\"190\" class=\"alignnone size-full wp-image-28571\" srcset=\"https://labs.sentinelone.com/wp-content/uploads/2021/03/2-execution.jpg 936w, https://labs.sentinelone.com/wp-content/uploads/2021/03/2-execution-300x61.jpg 300w, https://labs.sentinelone.com/wp-content/uploads/2021/03/2-execution-768x156.jpg 768w, https://labs.sentinelone.com/wp-content/uploads/2021/03/2-execution-96x19.jpg 96w\" sizes=\"(max-width: 936px) 100vw, 936px\"/></p>\\n<p>While still somewhat unclear, current intelligence indicates that the primary delivery method of HelloKitty binaries is via phish email or via secondary infection in conjunction with other malware.</p>\\n<p>Once launched, HelloKitty will attempt to disable and terminate a number of processes and services so as to reduce interference with the encryption process. This includes processes and services associated with IIS, MSSQL, Quickbooks, Sharepoint, and more. These actions are carried out via <code>taskkill.exe</code> and <code>net.exe</code>.</p>\\n<p>In the analyzed sample, this is all done in a very non-stealthy manner. All spawned CMD windows are in the foreground and fully visible. This &#8216;lack of discreteness&#8217; is atypical for modern ransomware, or any successful malware, for that matter.</p>\\n<p><img loading=\"lazy\" src=\"https://labs.sentinelone.com/wp-content/uploads/2021/03/3.-noisyprocspng.jpg\" alt=\"\" width=\"1344\" height=\"782\" class=\"alignnone size-full wp-image-28572\" srcset=\"https://labs.sentinelone.com/wp-content/uploads/2021/03/3.-noisyprocspng.jpg 1344w, https://labs.sentinelone.com/wp-content/uploads/2021/03/3.-noisyprocspng-300x175.jpg 300w, https://labs.sentinelone.com/wp-content/uploads/2021/03/3.-noisyprocspng-1024x596.jpg 1024w, https://labs.sentinelone.com/wp-content/uploads/2021/03/3.-noisyprocspng-768x447.jpg 768w, https://labs.sentinelone.com/wp-content/uploads/2021/03/3.-noisyprocspng-1140x663.jpg 1140w, https://labs.sentinelone.com/wp-content/uploads/2021/03/3.-noisyprocspng-1200x698.jpg 1200w, https://labs.sentinelone.com/wp-content/uploads/2021/03/3.-noisyprocspng-96x56.jpg 96w\" sizes=\"(max-width: 1344px) 100vw, 1344px\"/></p>\\n<p>A full list of processes from the analyzed sample are listed below:</p>\\n<pre>&#13;\\ndsa*&#13;\\nNtrtsca&#13;\\nds_moni&#13;\\nNotifie&#13;\\nTmListe&#13;\\niVPAgen&#13;\\nCNTAoSM&#13;\\nIBM*&#13;\\nbes10*&#13;\\nblack*&#13;\\nrobo*&#13;\\ncopy*&#13;\\nstore.e&#13;\\nsql*&#13;\\nvee*&#13;\\nwrsa*&#13;\\nwrsa.ex&#13;\\npostg*&#13;\\nsage*&#13;\\nMSSQLServerADHelper100&#13;\\nMSSQL$ISARS&#13;\\nMSSQL$MSFW&#13;\\nSQLAgent$ISARS&#13;\\nSQLAgent$MSFW&#13;\\nSQLBrowser&#13;\\nReportServer$ISARS&#13;\\nSQLWriter&#13;\\nWinDefend&#13;\\nmr2kserv&#13;\\nMSExchangeADTopology&#13;\\nMSExchangeFBA&#13;\\nMSExchangeIS&#13;\\nMSExchangeSA&#13;\\nShadowProtectSvc&#13;\\nSPAdminV4&#13;\\nSPTimerV4&#13;\\nSPTraceV4&#13;\\nSPUserCodeV4&#13;\\nSPWriterV4&#13;\\nSPSearch4&#13;\\nIISADMIN&#13;\\nfirebirdguardiandefaultinstance&#13;\\nibmiasrw&#13;\\nQBCFMonitorService&#13;\\nQBVSS&#13;\\nQBPOSDBServiceV12&#13;\\n\"IBM Domino Server(CProgramFilesIBMDominodata)\"&#13;\\n\"IBM Domino Diagnostics(CProgramFilesIBMDomino)\"&#13;\\n\"Simply Accounting Database Connection Manager\"&#13;\\nQuickBooksDB1&#13;\\nQuickBooksDB2&#13;\\nQuickBooksDB3&#13;\\nQuickBooksDB4&#13;\\nQuickBooksDB5&#13;\\nQuickBooksDB6&#13;\\nQuickBooksDB7&#13;\\nQuickBooksDB8&#13;\\nQuickBooksDB9&#13;\\nQuickBooksDB10&#13;\\nQuickBooksDB11&#13;\\nQuickBooksDB12&#13;\\nQuickBooksDB13&#13;\\nQuickBooksDB14&#13;\\nQuickBooksDB15&#13;\\nQuickBooksDB16&#13;\\nQuickBooksDB17&#13;\\nQuickBooksDB18&#13;\\nQuickBooksDB19&#13;\\nQuickBooksDB20&#13;\\nQuickBooksDB21&#13;\\nQuickBooksDB22&#13;\\nQuickBooksDB23&#13;\\nQuickBooksDB24&#13;\\nQuickBooksDB25&#13;\\n</pre>\\n<p>Additional processes and services that are terminated are identified via PID. For example:</p>\\n<p><code>taskkill.exe /f /PID \"8512\"</code><br/>\\n<code>taskkill.exe /f /PID \"8656\"</code></p>\\n<p>If HelloKitty is unable to stop any specific processes or services, it will leverage the Windows Restart Manager API to further assist in termination.</p>\\n<p><img loading=\"lazy\" src=\"https://labs.sentinelone.com/wp-content/uploads/2021/03/5-restart.jpg\" alt=\"\" width=\"936\" height=\"484\" class=\"alignnone size-full wp-image-28574\" srcset=\"https://labs.sentinelone.com/wp-content/uploads/2021/03/5-restart.jpg 936w, https://labs.sentinelone.com/wp-content/uploads/2021/03/5-restart-300x155.jpg 300w, https://labs.sentinelone.com/wp-content/uploads/2021/03/5-restart-768x397.jpg 768w, https://labs.sentinelone.com/wp-content/uploads/2021/03/5-restart-96x50.jpg 96w\" sizes=\"(max-width: 936px) 100vw, 936px\"/></p>\\n<p>HelloKitty will also utilize WMI to gather system details and help identify running processes and any potentially problematic processes. This is done both by name and by PID. A number of examples are shown below:</p>\\n<pre>&#13;\\nstart iwbemservices::execquery - root\\\\cimv2 : select __path, processid, csname, caption, sessionid, threadcount, workingsetsize, kernelmodetime, usermodetime, parentprocessid from win32_process&#13;\\n&#13;\\nstart iwbemservices::execquery - root\\\\cimv2 : select __path, processid, csname, caption, sessionid, threadcount, workingsetsize, kernelmodetime, usermodetime, parentprocessid from win32_process where (  caption = \"store.exe\")&#13;\\n&#13;\\nstart iwbemservices::execquery - root\\\\cimv2 : select __path, processid, csname, caption, sessionid, threadcount, workingsetsize, kernelmodetime, usermodetime, parentprocessid from win32_process where (  caption = \"wrsa.exe\")&#13;\\n&#13;\\nstart iwbemservices::execquery - root\\\\cimv2 : select __path, processid, csname, caption, sessionid, threadcount, workingsetsize, kernelmodetime, usermodetime, parentprocessid from win32_process where (  processid = 3036)&#13;\\n&#13;\\nstart iwbemservices::execquery - root\\\\cimv2 : select __path, processid, csname, caption, sessionid, threadcount, workingsetsize, kernelmodetime, usermodetime, parentprocessid from win32_process where (  processid = 4460)&#13;\\n&#13;\\nstart iwbemservices::execquery - root\\\\cimv2 : select __path, processid, csname, caption, sessionid, threadcount, workingsetsize, kernelmodetime, usermodetime, parentprocessid from win32_process where (  processid = 3052)&#13;\\n&#13;\\nstart iwbemservices::execquery - root\\\\cimv2 : select __path, processid, csname, caption, sessionid, threadcount, workingsetsize, kernelmodetime, usermodetime, parentprocessid from win32_process where (  processid = 4476)&#13;\\n&#13;\\nstart iwbemservices::execquery - root\\\\cimv2 : select __path, processid, csname, caption, sessionid, threadcount, workingsetsize, kernelmodetime, usermodetime, parentprocessid from win32_process where (  processid = 1560)&#13;\\n&#13;\\nstart iwbemservices::execquery - root\\\\cimv2 : select __path, processid, csname, caption, sessionid, threadcount, workingsetsize, kernelmodetime, usermodetime, parentprocessid from win32_process where (  processid = 8124)&#13;\\n&#13;\\nstart iwbemservices::exe&#13;\\n</pre>\\n<h2>Encryption and Ransom Note</h2>\\n<p>Encryption is initiated and completed very quickly once applicable services and processes have been terminated. Specific encryption recipes and routines can vary across variants of HelloKitty. Generally speaking, they tend to use a combination of AES-256 &amp; RSA-2048 or even NTRU+AES-128.</p>\\n<p>Once encrypted, affected files receive the <code>.crypted</code> extension.</p>\\n<p><img loading=\"lazy\" src=\"https://labs.sentinelone.com/wp-content/uploads/2021/03/crypted.jpg\" alt=\"\" width=\"936\" height=\"344\" class=\"alignnone size-full wp-image-28577\" srcset=\"https://labs.sentinelone.com/wp-content/uploads/2021/03/crypted.jpg 936w, https://labs.sentinelone.com/wp-content/uploads/2021/03/crypted-300x110.jpg 300w, https://labs.sentinelone.com/wp-content/uploads/2021/03/crypted-768x282.jpg 768w, https://labs.sentinelone.com/wp-content/uploads/2021/03/crypted-96x35.jpg 96w\" sizes=\"(max-width: 936px) 100vw, 936px\"/></p>\\n<p>Ransom notes are typically customized to directly reference the victim and victim&#8217;s environment. Victims are instructed to visit a TOR-based payment and support portal. The following example has been sanitized:</p>\\n<p><img loading=\"lazy\" src=\"https://labs.sentinelone.com/wp-content/uploads/2021/03/7.-ransomnote.jpg\" alt=\"\" width=\"936\" height=\"518\" class=\"alignnone size-full wp-image-28575\" srcset=\"https://labs.sentinelone.com/wp-content/uploads/2021/03/7.-ransomnote.jpg 936w, https://labs.sentinelone.com/wp-content/uploads/2021/03/7.-ransomnote-300x166.jpg 300w, https://labs.sentinelone.com/wp-content/uploads/2021/03/7.-ransomnote-768x425.jpg 768w, https://labs.sentinelone.com/wp-content/uploads/2021/03/7.-ransomnote-96x53.jpg 96w\" sizes=\"(max-width: 936px) 100vw, 936px\"/></p>\\n<p>It is also important to note that as of this writing, the onion address associated with HelloKitty ransom notes is not active.</p>\\n<p><code>6x7dp6h3w6q3ugjv4yv5gycj3femb24kysgry5b44hhgfwc5ml5qrdad.onion</code></p>\\n<h2>Conclusion</h2>\\n<p>HelloKitty may be easier to spot than other modern ransomware families, but upon execution it is no less dangerous. There are currently no known &#8216;weaknesses&#8217; in the encryption routines, and there are no thirdy-party decrypters available for the HelloKitty ransomware. Therefore, the only true defense is prevention. While this family does not appear to be actively leaking victim data at the moment, that could change at any point, in addition to them choosing to adopt some of the more recent extortion methods that go along with ransomware (DDoS).</p>\\n<p>Actors behind the more recent campaign(s) are reportedly attempting to auction the CD Projekt data off in various &#8216;underground&#8217; forums. At present this sale of this data does appear to be legitimate. Time will tell if additional victim data is dealt with in the same way.</p>\\n<p>To protect yourself against HelloKitty, make sure you are armed with a modern Endpoint Security platform, which is configured correctly and up to date. The SentinelOne Singularity Platform is fully capable of preventing and detecting all malicious behaviors associated with the HelloKitty ransomware family.</p>\\n<h2>IOCs</h2>\\n<p><strong>SHA1</strong><br/>\\nfadd8d7c13a18c251ded1f645ffea18a37f1c2de</p>\\n<p><strong>SHA256</strong><br/>\\n501487b025f25ddf1ca32deb57a2b4db43ccf6635c1edc74b9cff54ce0e5bcfe</p>\\n<p><strong>MITRE ATT&amp;CK</strong><br/>\\nData from Local System &#8211; <a href=\"https://attack.mitre.org/techniques/T1005/\" target=\"_blank\" rel=\"noopener noreferrer\">T1005</a><br/>\\nModify Registry &#8211; <a href=\"https://attack.mitre.org/techniques/T1112/\" target=\"_blank\" rel=\"noopener noreferrer\">T1112</a><br/>\\nQuery Registry &#8211; <a href=\"https://attack.mitre.org/techniques/T1012/\" target=\"_blank\" rel=\"noopener noreferrer\">T1012</a><br/>\\nSystem Information Discovery &#8211; <a href=\"https://attack.mitre.org/techniques/T1082/\" target=\"_blank\" rel=\"noopener noreferrer\">T1082</a><br/>\\nData Encrypted for Impact &#8211; <a href=\"https://attack.mitre.org/techniques/T1486/\" target=\"_blank\" rel=\"noopener noreferrer\">T1486</a><br/>\\nFile Deletion &#8211; <a href=\"https://attack.mitre.org/techniques/T1070/004/\" target=\"_blank\" rel=\"noopener noreferrer\">T1070.004</a><br/>\\nCommand and Scripting Interpreter: Windows Command Shell &#8211; <a href=\"https://attack.mitre.org/techniques/T1059/003/\" target=\"_blank\" rel=\"noopener noreferrer\">T1059.003</a><br/>\\nWindows Management Instrumentation &#8211; <a href=\"https://attack.mitre.org/techniques/T1047/\" target=\"_blank\" rel=\"noopener noreferrer\">T1047</a></p>\\n<div class=\"post-views post-28566 entry-meta\">&#13;\\n\\t\\t\\t\\t<span class=\"post-views-icon dashicons dashicons-chart-bar\"/>&#13;\\n\\t\\t\\t\\t<span class=\"post-views-label\">Post Views: </span>&#13;\\n\\t\\t\\t\\t<span class=\"post-views-count\">11,529</span>&#13;\\n\\t\\t\\t</div><p class=\"entry-tags\">\\n\\t\\t\\t\\t\\t\\t<a href=\"https://labs.sentinelone.com/tag/ransomware/\" rel=\"tag\">Ransomware</a>\\t\\t\\t\\t\\t</p>\\n\\t\\t\\t\\t\\t\\n\\t\\t\\t</section>\\n\\t\\t\\t\\n\\t\\t\\t\\n\\t\\t</section>\\n\\n\\t</div>\\n\\n\\t\\n\\t\\t<footer class=\"entry-footer\">\\n\\t\\n\\t<div class=\"meta-share\">\\n\\t\\n\\t<ul class=\"list-meta-share\">\\n\\n\\t\\t<li>\\n\\t\\t\\t<h3 class=\"show-sosmed-share\"><span class=\"suffix\">Share</span></h3>\\n\\n\\t\\t\\t<ul class=\"meta-social-share\">\\n\\t\\t\\t\\t<li><a href=\"http://www.facebook.com/sharer.php?u=https://labs.sentinelone.com/hellokitty-ransomware-lacks-stealth-but-still-strikes-home/\" target=\"_blank\"><i class=\"fa fa-facebook\"/> <span class=\"suffix-text\">Facebook</span></a></li><li><a href=\"http://twitter.com/share?url=https://labs.sentinelone.com/hellokitty-ransomware-lacks-stealth-but-still-strikes-home/&amp;text=HelloKitty%20Ransomware%20Lacks%20Stealth%2C%20But%20Still%20Strikes%20Home\" target=\"_blank\"><i class=\"fa fa-twitter\"/> <span class=\"suffix-text\">Twitter</span></a></li><li><a href=\"mailto:?subject=HelloKitty%20Ransomware%20Lacks%20Stealth%2C%20But%20Still%20Strikes%20Home&amp;body=https://labs.sentinelone.com/hellokitty-ransomware-lacks-stealth-but-still-strikes-home/\"><i class=\"fa fa-envelope\"/> <span class=\"suffix-text\">Mail</span></a></li><li><a href=\"https://www.linkedin.com/shareArticle?mini=true&amp;url=https://labs.sentinelone.com/hellokitty-ransomware-lacks-stealth-but-still-strikes-home/&amp;title=HelloKitty%20Ransomware%20Lacks%20Stealth%2C%20But%20Still%20Strikes%20Home\" target=\"_blank\"><i class=\"fa fa-linkedin\"/> <span class=\"suffix-text\">Linkedin</span></a></li><li><a href=\"http://reddit.com/submit?url=https://labs.sentinelone.com/hellokitty-ransomware-lacks-stealth-but-still-strikes-home/&amp;name=HelloKitty%20Ransomware%20Lacks%20Stealth%2C%20But%20Still%20Strikes%20Home\" target=\"_blank\"><i class=\"fa fa-reddit\"/> <span class=\"suffix-text\">Reddit</span></a></li>\\t\\t\\t</ul>\\n\\n\\t\\t</li>\\n\\t</ul>\\n</div>\\n\\n<section class=\"entry-footer-section\">\\n\\n\\t<div class=\"entry-footer-section-inner\">\\n\\n\\t\\t<div class=\"entry-author\" itemprop=\"author\" itemscope=\"\" itemtype=\"http://schema.org/Person\">\\n\\n\\t\\t\\t<figure class=\"entry-author-avatar\">\\n\\t\\t\\t\\t<a href=\"https://labs.sentinelone.com/author/jimw/\">\\n\\t\\t\\t\\t\\t<img alt=\"\" src=\"https://secure.gravatar.com/avatar/eff08e92006c77bdaa5b6c0efbe4ca49?s=120&amp;d=mm&amp;r=g\" srcset=\"https://secure.gravatar.com/avatar/eff08e92006c77bdaa5b6c0efbe4ca49?s=240&amp;d=mm&amp;r=g 2x\" class=\"avatar avatar-120 photo\" height=\"120\" width=\"120\" loading=\"lazy\"/>\\t\\t\\t\\t</a>\\n\\t\\t\\t</figure>\\n\\n\\t\\t\\t<div class=\"entry-author-info\">\\n\\n\\t\\t\\t\\t<h4 class=\"entry-author-name\" itemprop=\"name\">\\n\\t\\t\\t\\t\\t<a href=\"https://labs.sentinelone.com/author/jimw/\">\\n\\t\\t\\t\\t\\t\\t<span class=\"author vcard\"><span class=\"fn\">Jim Walter</span></span>\\n\\t\\t\\t\\t\\t</a>\\n\\t\\t\\t\\t</h4>\\n\\n\\t\\t\\t\\t<div class=\"entry-author-description\" itemprop=\"description\">Jim Walter is a Senior Threat Researcher at SentinelOne focusing on evolving trends, actors, and tactics within the thriving ecosystem of cybercrime and crimeware. He specializes in the discovery and analysis of emerging cybercrime \"services\" and evolving communication channels leveraged by mid-level criminal organizations. Jim joined SentinelOne following ~4 years at a security start-up, also focused on malware research and organized crime. Previously, he spent over 17 years at McAfee/Intel running their Threat Intelligence and Advanced Threat Research teams.</div>\\n\\n\\t\\t\\t\\t\\n\\t\\t\\t</div>\\n\\n\\t\\t\\t<div class=\"clearfix\"/>\\n\\n\\t\\t</div>\\n\\n\\t</div>\\n\\n</section>\\n<section class=\"entry-footer-section\">\\n\\n\\t<div class=\"entry-footer-section-inner\">\\n\\n\\t\\t<div class=\"entry-adjacent-posts-nav\">\\n\\n\\t\\t\\t<div class=\"row\"><div class=\"previous col-sm-6\"><a href=\"https://labs.sentinelone.com/a-guide-to-ghidra-scripting-development-for-malware-researchers/\" rel=\"prev\"><span class=\"link-icon fa fa-chevron-left\"/><span class=\"link-label\">Prev</span><h5 class=\"link-title\">A Guide to Ghidra Scripting Development for Malware Researchers</h5></a></div><div class=\"spacer-20\"/><div class=\"next col-sm-6\"><a href=\"https://labs.sentinelone.com/top-15-essential-malware-analysis-tools/\" rel=\"next\"><span class=\"link-label\">Next</span><span class=\"link-icon fa fa-chevron-right\"/><h5 class=\"link-title\">Top 15 Essential Malware Analysis Tools</h5></a></div></div>\\n\\n\\t\\t</div>\\n\\n\\t</div>\\n\\t\\n</section>\\n<section class=\"entry-footer-section\">\\n\\t\\n\\t<div class=\"entry-footer-section-inner\">\\n\\t\\n\\t\\t<div class=\"post-related-wrapper\">\\n\\n\\t\\t\\t<h3 class=\"post-related-section-title\">\\n\\t\\t\\t\\t<span>Related Posts</span>\\n\\t\\t\\t</h3>\\n\\n\\t\\t\\t<div class=\"post-related row\">\\n\\n\\t\\t\\t\\t<div class=\"col-md-4\">\\n\\n\\t\\t\\t\\t\\t<article class=\"related-post\">\\n\\n\\t\\t\\t\\t\\t\\t\\t\\t\\t\\t\\t\\t<div class=\"related-post-media\">\\n\\t\\t\\t\\t\\t\\t\\t<figure class=\"related-post-featured-image\">\\n\\t\\t\\t\\t\\t\\t\\t\\t<img width=\"1200\" height=\"628\" src=\"https://labs.sentinelone.com/wp-content/uploads/2019/12/Maze-Ransomware-Update_-Extorting-and-Exposing-Victims-2.jpg\" class=\"attachment-asiana_thumbnail size-asiana_thumbnail wp-post-image\" alt=\"\" loading=\"lazy\" srcset=\"https://labs.sentinelone.com/wp-content/uploads/2019/12/Maze-Ransomware-Update_-Extorting-and-Exposing-Victims-2.jpg 1200w, https://labs.sentinelone.com/wp-content/uploads/2019/12/Maze-Ransomware-Update_-Extorting-and-Exposing-Victims-2-300x157.jpg 300w, https://labs.sentinelone.com/wp-content/uploads/2019/12/Maze-Ransomware-Update_-Extorting-and-Exposing-Victims-2-1024x536.jpg 1024w, https://labs.sentinelone.com/wp-content/uploads/2019/12/Maze-Ransomware-Update_-Extorting-and-Exposing-Victims-2-768x402.jpg 768w, https://labs.sentinelone.com/wp-content/uploads/2019/12/Maze-Ransomware-Update_-Extorting-and-Exposing-Victims-2-1140x597.jpg 1140w, https://labs.sentinelone.com/wp-content/uploads/2019/12/Maze-Ransomware-Update_-Extorting-and-Exposing-Victims-2-96x50.jpg 96w\" sizes=\"(max-width: 1200px) 100vw, 1200px\"/>\\t\\t\\t\\t\\t\\t\\t</figure>\\n\\t\\t\\t\\t\\t\\t</div>\\n\\t\\t\\t\\t\\t\\t\\n\\t\\t\\t\\t\\t\\t<h5 class=\"related-post-title\"><a href=\"https://labs.sentinelone.com/maze-ransomware-update-extorting-and-exposing-victims/\" rel=\"bookmark\">Maze Ransomware Update: Extorting and Exposing Victims</a></h5>\\n\\t\\t\\t\\t\\t\\t<time class=\"related-post-time\" datetime=\"2020-04-17T18:09:18+00:00\">April 17, 2020</time>\\n\\n\\t\\t\\t\\t\\t</article>\\n\\n\\t\\t\\t\\t\\t<div class=\"spacer-20 hidden-md hidden-lg\"/>\\n\\t\\t\\t\\t\\t\\n\\t\\t\\t\\t</div>\\n\\t\\t\\t\\t<div class=\"col-md-4\">\\n\\n\\t\\t\\t\\t\\t<article class=\"related-post\">\\n\\n\\t\\t\\t\\t\\t\\t\\t\\t\\t\\t\\t\\t<div class=\"related-post-media\">\\n\\t\\t\\t\\t\\t\\t\\t<figure class=\"related-post-featured-image\">\\n\\t\\t\\t\\t\\t\\t\\t\\t<img width=\"1200\" height=\"628\" src=\"https://labs.sentinelone.com/wp-content/uploads/2021/01/Greywares-Anatomy_-The-Potentially-Unwanted-are-Upping-Their-Game-1.jpg\" class=\"attachment-asiana_thumbnail size-asiana_thumbnail wp-post-image\" alt=\"\" loading=\"lazy\" srcset=\"https://labs.sentinelone.com/wp-content/uploads/2021/01/Greywares-Anatomy_-The-Potentially-Unwanted-are-Upping-Their-Game-1.jpg 1200w, https://labs.sentinelone.com/wp-content/uploads/2021/01/Greywares-Anatomy_-The-Potentially-Unwanted-are-Upping-Their-Game-1-300x157.jpg 300w, https://labs.sentinelone.com/wp-content/uploads/2021/01/Greywares-Anatomy_-The-Potentially-Unwanted-are-Upping-Their-Game-1-1024x536.jpg 1024w, https://labs.sentinelone.com/wp-content/uploads/2021/01/Greywares-Anatomy_-The-Potentially-Unwanted-are-Upping-Their-Game-1-768x402.jpg 768w, https://labs.sentinelone.com/wp-content/uploads/2021/01/Greywares-Anatomy_-The-Potentially-Unwanted-are-Upping-Their-Game-1-1140x597.jpg 1140w, https://labs.sentinelone.com/wp-content/uploads/2021/01/Greywares-Anatomy_-The-Potentially-Unwanted-are-Upping-Their-Game-1-96x50.jpg 96w\" sizes=\"(max-width: 1200px) 100vw, 1200px\"/>\\t\\t\\t\\t\\t\\t\\t</figure>\\n\\t\\t\\t\\t\\t\\t</div>\\n\\t\\t\\t\\t\\t\\t\\n\\t\\t\\t\\t\\t\\t<h5 class=\"related-post-title\"><a href=\"https://labs.sentinelone.com/greywares-anatomy-the-potentially-unwanted-are-upping-their-game/\" rel=\"bookmark\">Greyware&#8217;s Anatomy: The &#8220;Potentially Unwanted&#8221; are Upping Their Game</a></h5>\\n\\t\\t\\t\\t\\t\\t<time class=\"related-post-time\" datetime=\"2021-01-07T17:18:38+00:00\">January 7, 2021</time>\\n\\n\\t\\t\\t\\t\\t</article>\\n\\n\\t\\t\\t\\t\\t<div class=\"spacer-20 hidden-md hidden-lg\"/>\\n\\t\\t\\t\\t\\t\\n\\t\\t\\t\\t</div>\\n\\t\\t\\t\\t<div class=\"col-md-4\">\\n\\n\\t\\t\\t\\t\\t<article class=\"related-post\">\\n\\n\\t\\t\\t\\t\\t\\t\\t\\t\\t\\t\\t\\t<div class=\"related-post-media\">\\n\\t\\t\\t\\t\\t\\t\\t<figure class=\"related-post-featured-image\">\\n\\t\\t\\t\\t\\t\\t\\t\\t<img width=\"1200\" height=\"628\" src=\"https://labs.sentinelone.com/wp-content/uploads/2020/10/The-FONIX-RaaS-_-New-Low-Key-Threat-with-Unnecessary-Complexities-6.jpg\" class=\"attachment-asiana_thumbnail size-asiana_thumbnail wp-post-image\" alt=\"\" loading=\"lazy\" srcset=\"https://labs.sentinelone.com/wp-content/uploads/2020/10/The-FONIX-RaaS-_-New-Low-Key-Threat-with-Unnecessary-Complexities-6.jpg 1200w, https://labs.sentinelone.com/wp-content/uploads/2020/10/The-FONIX-RaaS-_-New-Low-Key-Threat-with-Unnecessary-Complexities-6-300x157.jpg 300w, https://labs.sentinelone.com/wp-content/uploads/2020/10/The-FONIX-RaaS-_-New-Low-Key-Threat-with-Unnecessary-Complexities-6-1024x536.jpg 1024w, https://labs.sentinelone.com/wp-content/uploads/2020/10/The-FONIX-RaaS-_-New-Low-Key-Threat-with-Unnecessary-Complexities-6-768x402.jpg 768w, https://labs.sentinelone.com/wp-content/uploads/2020/10/The-FONIX-RaaS-_-New-Low-Key-Threat-with-Unnecessary-Complexities-6-1140x597.jpg 1140w, https://labs.sentinelone.com/wp-content/uploads/2020/10/The-FONIX-RaaS-_-New-Low-Key-Threat-with-Unnecessary-Complexities-6-96x50.jpg 96w\" sizes=\"(max-width: 1200px) 100vw, 1200px\"/>\\t\\t\\t\\t\\t\\t\\t</figure>\\n\\t\\t\\t\\t\\t\\t</div>\\n\\t\\t\\t\\t\\t\\t\\n\\t\\t\\t\\t\\t\\t<h5 class=\"related-post-title\"><a href=\"https://labs.sentinelone.com/the-fonix-raas-new-low-key-threat-with-unnecessary-complexities/\" rel=\"bookmark\">The FONIX RaaS | New Low-Key Threat with Unnecessary Complexities</a></h5>\\n\\t\\t\\t\\t\\t\\t<time class=\"related-post-time\" datetime=\"2020-10-06T15:57:40+00:00\">October 6, 2020</time>\\n\\n\\t\\t\\t\\t\\t</article>\\n\\n\\t\\t\\t\\t\\t\\n\\t\\t\\t\\t</div>\\n\\t\\t\\t\\t\\n\\t\\t\\t</div>\\n\\n\\t\\t</div>\\n\\n\\t</div>\\n\\t\\n</section>\\n\\n</footer>\\n\\n\\t\\n</article>\\n</div><div class=\"clearfix\"/></div>\\n<aside id=\"secondary\" class=\"widget-area sidebar sidebar-default col-md-4 sidebar__has-bg sidebar-sticky\" role=\"complementary\" itemscope=\"\" itemtype=\"http://schema.org/WPSideBar\">\\n\\n\\t<div class=\"sidebar__inner\">\\n\\n\\t\\t<div id=\"s1_signup-2\" class=\"widget widget_s1_signup\"><h3 class=\"widget-title\">Sign Up</h3><ul class=\"meta-social-share\">\\n\\t<li><a href=\"https://www.facebook.com/SentinelOne/\" target=\"_blank\">\\n\\t\\t<i class=\"fa fa-facebook\"/> <span class=\"suffix-text\">Facebook</span>\\n\\t</a></li>\\n\\t<li><a href=\"https://twitter.com/SentinelOne\" target=\"_blank\">\\n\\t\\t<i class=\"fa fa-twitter\"/> <span class=\"suffix-text\">Twitter</span>\\n\\t</a></li>\\n\\t<li><a href=\"https://www.linkedin.com/company/sentinelone\" target=\"_blank\">\\n\\t\\t<i class=\"fa fa-linkedin\"/> <span class=\"suffix-text\">Linkedin</span>\\n\\t</a></li>\\n</ul>\\n<div class=\"marketo-blog-subscribe\">\\n\\t<div class=\"context\">\\n\\t\\t<p>Get notified when we post new content.</p>\\n\\t</div>\\n\\t<form id=\"mktoForm_2673\"/>\\n\\t<div class=\"context\" style=\"display:none\">\\n\\t\\t<p>Thanks!  Keep an eye out for new content!</p>\\n\\t</div>\\n\\t<script>\\n\\t\\tMktoForms2.loadForm(\"//go.sentinelone.com\", \"327-MNM-087\", 2673, function(form){\\n\\t\\t\\tform.onSuccess(function(values, followUpUrl) {\\n\\t\\t\\t\\tform.getFormElem().hide();\\n\\t\\t\\t\\tform.getFormElem().prev().hide();\\n\\t\\t\\t\\tform.getFormElem().next().show();\\n\\t\\t\\t\\treturn false;\\n\\t\\t\\t});\\n\\t\\t});\\n\\t</script>\\n</div>\\n\\n</div><div id=\"asiana-popular-posts-widget-3\" class=\"widget asiana-popular-posts-widget\"><h3 class=\"widget-title\">Popular Posts</h3>\\n\\t\\t\\t<div class=\"inner-popular-post-widget\">\\n\\n\\t\\t\\t\\t<ul class=\"plain-list\">\\n\\n\\t\\t\\t\\t\\n\\t\\t\\t\\t\\t<li>\\n\\t\\t\\t\\t\\t\\t<article class=\"list-popular-post clearfix\">\\n\\t\\t\\t\\t\\t\\t\\t\\t\\t\\t\\t\\t\\t\\t<div class=\"list-popular-post__media\">\\n\\t\\t\\t\\t\\t\\t\\t\\t<figure class=\"list-popular-post__thumbnail\">\\n\\t\\t\\t\\t\\t\\t\\t\\t\\t<img width=\"96\" height=\"50\" src=\"https://labs.sentinelone.com/wp-content/uploads/2019/09/Detecting-macOS.GMERA-Malware-Through-Behavioral-Inspection-1-96x50.jpg\" class=\"attachment-asiana_thumbnail_small size-asiana_thumbnail_small wp-post-image\" alt=\"feature image no text\" loading=\"lazy\" srcset=\"https://labs.sentinelone.com/wp-content/uploads/2019/09/Detecting-macOS.GMERA-Malware-Through-Behavioral-Inspection-1-96x50.jpg 96w, https://labs.sentinelone.com/wp-content/uploads/2019/09/Detecting-macOS.GMERA-Malware-Through-Behavioral-Inspection-1-300x157.jpg 300w, https://labs.sentinelone.com/wp-content/uploads/2019/09/Detecting-macOS.GMERA-Malware-Through-Behavioral-Inspection-1-1024x536.jpg 1024w, https://labs.sentinelone.com/wp-content/uploads/2019/09/Detecting-macOS.GMERA-Malware-Through-Behavioral-Inspection-1-768x402.jpg 768w, https://labs.sentinelone.com/wp-content/uploads/2019/09/Detecting-macOS.GMERA-Malware-Through-Behavioral-Inspection-1-1140x597.jpg 1140w, https://labs.sentinelone.com/wp-content/uploads/2019/09/Detecting-macOS.GMERA-Malware-Through-Behavioral-Inspection-1.jpg 1200w\" sizes=\"(max-width: 96px) 100vw, 96px\"/>\\t\\t\\t\\t\\t\\t\\t\\t</figure>\\n\\t\\t\\t\\t\\t\\t\\t</div>\\n\\t\\t\\t\\t\\t\\t\\t\\n\\t\\t\\t\\t\\t\\t\\t<div class=\"list-popular-post__info\">\\n\\t\\t\\t\\t\\t\\t\\t\\t<h5 class=\"list-popular-post__title\"><a href=\"https://labs.sentinelone.com/detecting-macos-gmera-malware-through-behavioral-inspection/\">Detecting macOS.GMERA Malware Through Behavioral Inspection</a></h5>\\t\\t\\t\\t\\t\\t\\t\\t<div class=\"list-popular-post__meta\">\\n\\t\\t\\t\\t\\t\\t\\t\\t\\t<i class=\"fa fa-tags\"/> behavioral detection, GMERA malware, macOS, Yara\\t\\t\\t\\t\\t\\t\\t\\t</div>\\n\\t\\t\\t\\t\\t\\t\\t</div>\\n\\t\\t\\t\\t\\t\\t</article>\\n\\t\\t\\t\\t\\t</li>\\n\\n\\t\\t\\t\\t\\n\\t\\t\\t\\t\\t<li>\\n\\t\\t\\t\\t\\t\\t<article class=\"list-popular-post clearfix\">\\n\\t\\t\\t\\t\\t\\t\\t\\t\\t\\t\\t\\t\\t\\t<div class=\"list-popular-post__media\">\\n\\t\\t\\t\\t\\t\\t\\t\\t<figure class=\"list-popular-post__thumbnail\">\\n\\t\\t\\t\\t\\t\\t\\t\\t\\t<img width=\"96\" height=\"50\" src=\"https://labs.sentinelone.com/wp-content/uploads/2019/05/Cybercrime_-_Banload_-Banking-Malware-Implements-New-Techniques-for-Fraud-1-96x50.jpg\" class=\"attachment-asiana_thumbnail_small size-asiana_thumbnail_small wp-post-image\" alt=\"Cybercrime_ _Banload_ Banking Malware Implements New Techniques for Fraud\" loading=\"lazy\" srcset=\"https://labs.sentinelone.com/wp-content/uploads/2019/05/Cybercrime_-_Banload_-Banking-Malware-Implements-New-Techniques-for-Fraud-1-96x50.jpg 96w, https://labs.sentinelone.com/wp-content/uploads/2019/05/Cybercrime_-_Banload_-Banking-Malware-Implements-New-Techniques-for-Fraud-1-300x157.jpg 300w, https://labs.sentinelone.com/wp-content/uploads/2019/05/Cybercrime_-_Banload_-Banking-Malware-Implements-New-Techniques-for-Fraud-1-1024x535.jpg 1024w, https://labs.sentinelone.com/wp-content/uploads/2019/05/Cybercrime_-_Banload_-Banking-Malware-Implements-New-Techniques-for-Fraud-1-768x401.jpg 768w, https://labs.sentinelone.com/wp-content/uploads/2019/05/Cybercrime_-_Banload_-Banking-Malware-Implements-New-Techniques-for-Fraud-1-1140x596.jpg 1140w, https://labs.sentinelone.com/wp-content/uploads/2019/05/Cybercrime_-_Banload_-Banking-Malware-Implements-New-Techniques-for-Fraud-1.jpg 1200w\" sizes=\"(max-width: 96px) 100vw, 96px\"/>\\t\\t\\t\\t\\t\\t\\t\\t</figure>\\n\\t\\t\\t\\t\\t\\t\\t</div>\\n\\t\\t\\t\\t\\t\\t\\t\\n\\t\\t\\t\\t\\t\\t\\t<div class=\"list-popular-post__info\">\\n\\t\\t\\t\\t\\t\\t\\t\\t<h5 class=\"list-popular-post__title\"><a href=\"https://labs.sentinelone.com/reversing-rig-exploit-kit-infection-chain-internals-exploits/\">RIG Exploit Kit Chain Internals</a></h5>\\t\\t\\t\\t\\t\\t\\t\\t<div class=\"list-popular-post__meta\">\\n\\t\\t\\t\\t\\t\\t\\t\\t\\t<i class=\"fa fa-tags\"/> reverse engineeering, RIG Exploit Kit, Vitali Kremez, Zero2Hero\\t\\t\\t\\t\\t\\t\\t\\t</div>\\n\\t\\t\\t\\t\\t\\t\\t</div>\\n\\t\\t\\t\\t\\t\\t</article>\\n\\t\\t\\t\\t\\t</li>\\n\\n\\t\\t\\t\\t\\n\\t\\t\\t\\t\\t<li>\\n\\t\\t\\t\\t\\t\\t<article class=\"list-popular-post clearfix\">\\n\\t\\t\\t\\t\\t\\t\\t\\t\\t\\t\\t\\t\\t\\t<div class=\"list-popular-post__media\">\\n\\t\\t\\t\\t\\t\\t\\t\\t<figure class=\"list-popular-post__thumbnail\">\\n\\t\\t\\t\\t\\t\\t\\t\\t\\t<img width=\"96\" height=\"50\" src=\"https://labs.sentinelone.com/wp-content/uploads/2019/09/Trickbot-Update_-Brief-Analysis-of-a-Recent-Trickbot-Payload-1-96x50.jpg\" class=\"attachment-asiana_thumbnail_small size-asiana_thumbnail_small wp-post-image\" alt=\"featured image of trickbot update\" loading=\"lazy\" srcset=\"https://labs.sentinelone.com/wp-content/uploads/2019/09/Trickbot-Update_-Brief-Analysis-of-a-Recent-Trickbot-Payload-1-96x50.jpg 96w, https://labs.sentinelone.com/wp-content/uploads/2019/09/Trickbot-Update_-Brief-Analysis-of-a-Recent-Trickbot-Payload-1-300x157.jpg 300w, https://labs.sentinelone.com/wp-content/uploads/2019/09/Trickbot-Update_-Brief-Analysis-of-a-Recent-Trickbot-Payload-1-1024x536.jpg 1024w, https://labs.sentinelone.com/wp-content/uploads/2019/09/Trickbot-Update_-Brief-Analysis-of-a-Recent-Trickbot-Payload-1-768x402.jpg 768w, https://labs.sentinelone.com/wp-content/uploads/2019/09/Trickbot-Update_-Brief-Analysis-of-a-Recent-Trickbot-Payload-1-1140x597.jpg 1140w, https://labs.sentinelone.com/wp-content/uploads/2019/09/Trickbot-Update_-Brief-Analysis-of-a-Recent-Trickbot-Payload-1.jpg 1200w\" sizes=\"(max-width: 96px) 100vw, 96px\"/>\\t\\t\\t\\t\\t\\t\\t\\t</figure>\\n\\t\\t\\t\\t\\t\\t\\t</div>\\n\\t\\t\\t\\t\\t\\t\\t\\n\\t\\t\\t\\t\\t\\t\\t<div class=\"list-popular-post__info\">\\n\\t\\t\\t\\t\\t\\t\\t\\t<h5 class=\"list-popular-post__title\"><a href=\"https://labs.sentinelone.com/trickbot-update-brief-analysis-of-a-recent-trickbot-payload/\">Trickbot Update: Brief Analysis of a Recent Trickbot Payload</a></h5>\\t\\t\\t\\t\\t\\t\\t\\t<div class=\"list-popular-post__meta\">\\n\\t\\t\\t\\t\\t\\t\\t\\t\\t<i class=\"fa fa-tags\"/> banking trojan, phishing, trickbot\\t\\t\\t\\t\\t\\t\\t\\t</div>\\n\\t\\t\\t\\t\\t\\t\\t</div>\\n\\t\\t\\t\\t\\t\\t</article>\\n\\t\\t\\t\\t\\t</li>\\n\\n\\t\\t\\t\\t\\n\\t\\t\\t\\t\\t<li>\\n\\t\\t\\t\\t\\t\\t<article class=\"list-popular-post clearfix\">\\n\\t\\t\\t\\t\\t\\t\\t\\t\\t\\t\\t\\t\\t\\t<div class=\"list-popular-post__media\">\\n\\t\\t\\t\\t\\t\\t\\t\\t<figure class=\"list-popular-post__thumbnail\">\\n\\t\\t\\t\\t\\t\\t\\t\\t\\t<img width=\"96\" height=\"50\" src=\"https://labs.sentinelone.com/wp-content/uploads/2019/08/Gootkit-Banking-Trojan-_-Part-3_-Retrieving-the-Final-Payload-1-96x50.jpg\" class=\"attachment-asiana_thumbnail_small size-asiana_thumbnail_small wp-post-image\" alt=\"\" loading=\"lazy\" srcset=\"https://labs.sentinelone.com/wp-content/uploads/2019/08/Gootkit-Banking-Trojan-_-Part-3_-Retrieving-the-Final-Payload-1-96x50.jpg 96w, https://labs.sentinelone.com/wp-content/uploads/2019/08/Gootkit-Banking-Trojan-_-Part-3_-Retrieving-the-Final-Payload-1-300x157.jpg 300w, https://labs.sentinelone.com/wp-content/uploads/2019/08/Gootkit-Banking-Trojan-_-Part-3_-Retrieving-the-Final-Payload-1-1024x536.jpg 1024w, https://labs.sentinelone.com/wp-content/uploads/2019/08/Gootkit-Banking-Trojan-_-Part-3_-Retrieving-the-Final-Payload-1-768x402.jpg 768w, https://labs.sentinelone.com/wp-content/uploads/2019/08/Gootkit-Banking-Trojan-_-Part-3_-Retrieving-the-Final-Payload-1-1140x597.jpg 1140w, https://labs.sentinelone.com/wp-content/uploads/2019/08/Gootkit-Banking-Trojan-_-Part-3_-Retrieving-the-Final-Payload-1.jpg 1200w\" sizes=\"(max-width: 96px) 100vw, 96px\"/>\\t\\t\\t\\t\\t\\t\\t\\t</figure>\\n\\t\\t\\t\\t\\t\\t\\t</div>\\n\\t\\t\\t\\t\\t\\t\\t\\n\\t\\t\\t\\t\\t\\t\\t<div class=\"list-popular-post__info\">\\n\\t\\t\\t\\t\\t\\t\\t\\t<h5 class=\"list-popular-post__title\"><a href=\"https://labs.sentinelone.com/gootkit-banking-trojan-retrieving-final-payload/\">Gootkit Banking Trojan | Part 3: Retrieving the Final Payload</a></h5>\\t\\t\\t\\t\\t\\t\\t\\t<div class=\"list-popular-post__meta\">\\n\\t\\t\\t\\t\\t\\t\\t\\t\\t<i class=\"fa fa-tags\"/> banking trojan, Gootkit, reverse engineering, Zero2Hero\\t\\t\\t\\t\\t\\t\\t\\t</div>\\n\\t\\t\\t\\t\\t\\t\\t</div>\\n\\t\\t\\t\\t\\t\\t</article>\\n\\t\\t\\t\\t\\t</li>\\n\\n\\t\\t\\t\\t\\n\\t\\t\\t\\t</ul>\\n\\t\\t\\t\\t\\n\\t\\t\\t</div>\\n\\n\\t\\t</div><div id=\"tp_widget_recent_tweets-3\" class=\"widget widget_tp_widget_recent_tweets\"><h3 class=\"widget-title\">Tweets</h3>&#13;\\n\\t\\t\\t\\t\\t\\t<div class=\"tp_recent_tweets\">&#13;\\n\\t\\t\\t\\t\\t\\t\\t<ul><li><span> Enhance your attack prevention and accelerate your response to ongoing attacks. Learn how to limit the blast radi&#8230; <a href=\"https://t.co/GSFg7sVsDD\" target=\"_blank\">https://t.co/GSFg7sVsDD</a></span><a class=\"twitter_time\" target=\"_blank\" href=\"http://twitter.com/sentinelone/statuses/1396671055482298368\">4 hours ago</a></li><li><span>Use cases for SentinelOne Cloud Funnel, the <a href=\"https://twitter.com/search?q=EDR\" title=\"Search #EDR\" target=\"_blank\">#EDR</a> <a href=\"https://twitter.com/search?q=DataLake\" title=\"Search #DataLake\" target=\"_blank\">#DataLake</a> include:\\n\\n&#8987; Extended retention.\\n  Regulatory&#8230; <a href=\"https://t.co/Q6FfpJw4yu\" target=\"_blank\">https://t.co/Q6FfpJw4yu</a></span><a class=\"twitter_time\" target=\"_blank\" href=\"http://twitter.com/sentinelone/statuses/1396604860204822536\">8 hours ago</a></li><li><span>&#9876;&#65039; WatchTower extends your visibility and actionability to novel attacker techniques, global APT campaigns, and eme&#8230; <a href=\"https://t.co/2fIuxzs7P1\" target=\"_blank\">https://t.co/2fIuxzs7P1</a></span><a class=\"twitter_time\" target=\"_blank\" href=\"http://twitter.com/sentinelone/statuses/1396233916286177280\">yesterday</a></li><li><span>&#9874;&#65039; Get your malware analysis toolkit up-to-speed! From disassemblers and debuggers to hex editors and SSL intercept&#8230; <a href=\"https://t.co/8bC7EbamYc\" target=\"_blank\">https://t.co/8bC7EbamYc</a></span><a class=\"twitter_time\" target=\"_blank\" href=\"http://twitter.com/sentinelone/statuses/1396189876161236995\">yesterday</a></li>&#13;\\n\\t\\t\\t\\t\\t\\t\\t</ul></div></div><div id=\"asiana-latest-posts-widget-1\" class=\"widget asiana-latest-posts-widget\"><h3 class=\"widget-title\">Latest Posts</h3>\\n\\t\\t\\t<div class=\"inner-latest-post-widget\">\\n\\n\\t\\t\\t\\t<ul class=\"plain-list\">\\n\\n\\t\\t\\t\\t\\n\\t\\t\\t\\t\\t<li>\\n\\t\\t\\t\\t\\t\\t<article class=\"list-latest-post clearfix\">\\n\\t\\t\\t\\t\\t\\t\\t\\t\\t\\t\\t\\t\\t\\t<div class=\"list-latest-post__media\">\\n\\t\\t\\t\\t\\t\\t\\t\\t<figure class=\"list-latest-post__thumbnail\">\\n\\t\\t\\t\\t\\t\\t\\t\\t\\t<img width=\"96\" height=\"50\" src=\"https://labs.sentinelone.com/wp-content/uploads/2021/05/Caught-in-the-Cloud-How-a-Minero-Cryptominer-Exploits-Docker-Containers-4-96x50.jpg\" class=\"attachment-asiana_thumbnail_small size-asiana_thumbnail_small wp-post-image\" alt=\"\" loading=\"lazy\" srcset=\"https://labs.sentinelone.com/wp-content/uploads/2021/05/Caught-in-the-Cloud-How-a-Minero-Cryptominer-Exploits-Docker-Containers-4-96x50.jpg 96w, https://labs.sentinelone.com/wp-content/uploads/2021/05/Caught-in-the-Cloud-How-a-Minero-Cryptominer-Exploits-Docker-Containers-4-300x157.jpg 300w, https://labs.sentinelone.com/wp-content/uploads/2021/05/Caught-in-the-Cloud-How-a-Minero-Cryptominer-Exploits-Docker-Containers-4-1024x536.jpg 1024w, https://labs.sentinelone.com/wp-content/uploads/2021/05/Caught-in-the-Cloud-How-a-Minero-Cryptominer-Exploits-Docker-Containers-4-768x402.jpg 768w, https://labs.sentinelone.com/wp-content/uploads/2021/05/Caught-in-the-Cloud-How-a-Minero-Cryptominer-Exploits-Docker-Containers-4-1140x597.jpg 1140w, https://labs.sentinelone.com/wp-content/uploads/2021/05/Caught-in-the-Cloud-How-a-Minero-Cryptominer-Exploits-Docker-Containers-4.jpg 1200w\" sizes=\"(max-width: 96px) 100vw, 96px\"/>\\t\\t\\t\\t\\t\\t\\t\\t</figure>\\n\\t\\t\\t\\t\\t\\t\\t</div>\\n\\t\\t\\t\\t\\t\\t\\t\\n\\t\\t\\t\\t\\t\\t\\t<div class=\"list-latest-post__info\">\\n\\t\\t\\t\\t\\t\\t\\t\\t<h5 class=\"list-latest-post__title\"><a href=\"https://labs.sentinelone.com/caught-in-the-cloud-how-a-monero-cryptominer-exploits-docker-containers/\">Caught in the Cloud | How a Monero Cryptominer Exploits Docker Containers</a></h5>\\t\\t\\t\\t\\t\\t\\t\\t<div class=\"list-latest-post__meta\">\\n\\t\\t\\t\\t\\t\\t\\t\\t\\t\\t\\t\\t\\t\\t\\t\\t\\t\\t\\t<time datetime=\"2021-05-20T16:08:23+00:00\">\\n\\t\\t\\t\\t\\t\\t\\t\\t\\t\\t\\t<i class=\"fa fa-calendar\"/> May 20, 2021\\t\\t\\t\\t\\t\\t\\t\\t\\t\\t</time>\\n\\t\\t\\t\\t\\t\\t\\t\\t\\t\\t\\t\\t\\t\\t\\t\\t\\t\\t</div>\\n\\t\\t\\t\\t\\t\\t\\t</div>\\n\\t\\t\\t\\t\\t\\t</article>\\n\\t\\t\\t\\t\\t</li>\\n\\n\\t\\t\\t\\t\\n\\t\\t\\t\\t\\t<li>\\n\\t\\t\\t\\t\\t\\t<article class=\"list-latest-post clearfix\">\\n\\t\\t\\t\\t\\t\\t\\t\\t\\t\\t\\t\\t\\t\\t<div class=\"list-latest-post__media\">\\n\\t\\t\\t\\t\\t\\t\\t\\t<figure class=\"list-latest-post__thumbnail\">\\n\\t\\t\\t\\t\\t\\t\\t\\t\\t<img width=\"96\" height=\"50\" src=\"https://labs.sentinelone.com/wp-content/uploads/2021/05/Hundreds-Of-Millions-Of-Dell-Computers-At-Risk-Due-to-Multiple-BIOS-Driver-Privilege-Escalation-Flaws-11-96x50.jpg\" class=\"attachment-asiana_thumbnail_small size-asiana_thumbnail_small wp-post-image\" alt=\"\" loading=\"lazy\" srcset=\"https://labs.sentinelone.com/wp-content/uploads/2021/05/Hundreds-Of-Millions-Of-Dell-Computers-At-Risk-Due-to-Multiple-BIOS-Driver-Privilege-Escalation-Flaws-11-96x50.jpg 96w, https://labs.sentinelone.com/wp-content/uploads/2021/05/Hundreds-Of-Millions-Of-Dell-Computers-At-Risk-Due-to-Multiple-BIOS-Driver-Privilege-Escalation-Flaws-11-300x157.jpg 300w, https://labs.sentinelone.com/wp-content/uploads/2021/05/Hundreds-Of-Millions-Of-Dell-Computers-At-Risk-Due-to-Multiple-BIOS-Driver-Privilege-Escalation-Flaws-11-1024x536.jpg 1024w, https://labs.sentinelone.com/wp-content/uploads/2021/05/Hundreds-Of-Millions-Of-Dell-Computers-At-Risk-Due-to-Multiple-BIOS-Driver-Privilege-Escalation-Flaws-11-768x402.jpg 768w, https://labs.sentinelone.com/wp-content/uploads/2021/05/Hundreds-Of-Millions-Of-Dell-Computers-At-Risk-Due-to-Multiple-BIOS-Driver-Privilege-Escalation-Flaws-11-1140x597.jpg 1140w, https://labs.sentinelone.com/wp-content/uploads/2021/05/Hundreds-Of-Millions-Of-Dell-Computers-At-Risk-Due-to-Multiple-BIOS-Driver-Privilege-Escalation-Flaws-11.jpg 1200w\" sizes=\"(max-width: 96px) 100vw, 96px\"/>\\t\\t\\t\\t\\t\\t\\t\\t</figure>\\n\\t\\t\\t\\t\\t\\t\\t</div>\\n\\t\\t\\t\\t\\t\\t\\t\\n\\t\\t\\t\\t\\t\\t\\t<div class=\"list-latest-post__info\">\\n\\t\\t\\t\\t\\t\\t\\t\\t<h5 class=\"list-latest-post__title\"><a href=\"https://labs.sentinelone.com/cve-2021-21551-hundreds-of-millions-of-dell-computers-at-risk-due-to-multiple-bios-driver-privilege-escalation-flaws/\">CVE-2021-21551- Hundreds Of Millions Of Dell Computers At Risk Due to Multiple BIOS Driver Privilege Escalation Flaws</a></h5>\\t\\t\\t\\t\\t\\t\\t\\t<div class=\"list-latest-post__meta\">\\n\\t\\t\\t\\t\\t\\t\\t\\t\\t\\t\\t\\t\\t\\t\\t\\t\\t\\t\\t<time datetime=\"2021-05-04T12:55:35+00:00\">\\n\\t\\t\\t\\t\\t\\t\\t\\t\\t\\t\\t<i class=\"fa fa-calendar\"/> May 04, 2021\\t\\t\\t\\t\\t\\t\\t\\t\\t\\t</time>\\n\\t\\t\\t\\t\\t\\t\\t\\t\\t\\t\\t\\t\\t\\t\\t\\t\\t\\t</div>\\n\\t\\t\\t\\t\\t\\t\\t</div>\\n\\t\\t\\t\\t\\t\\t</article>\\n\\t\\t\\t\\t\\t</li>\\n\\n\\t\\t\\t\\t\\n\\t\\t\\t\\t\\t<li>\\n\\t\\t\\t\\t\\t\\t<article class=\"list-latest-post clearfix\">\\n\\t\\t\\t\\t\\t\\t\\t\\t\\t\\t\\t\\t\\t\\t<div class=\"list-latest-post__media\">\\n\\t\\t\\t\\t\\t\\t\\t\\t<figure class=\"list-latest-post__thumbnail\">\\n\\t\\t\\t\\t\\t\\t\\t\\t\\t<img width=\"96\" height=\"50\" src=\"https://labs.sentinelone.com/wp-content/uploads/2021/04/Copy-of-Relaying-Potatoes_-DCE_RPC-NTLM-Relay-EOP-7-96x50.jpg\" class=\"attachment-asiana_thumbnail_small size-asiana_thumbnail_small wp-post-image\" alt=\"\" loading=\"lazy\" srcset=\"https://labs.sentinelone.com/wp-content/uploads/2021/04/Copy-of-Relaying-Potatoes_-DCE_RPC-NTLM-Relay-EOP-7-96x50.jpg 96w, https://labs.sentinelone.com/wp-content/uploads/2021/04/Copy-of-Relaying-Potatoes_-DCE_RPC-NTLM-Relay-EOP-7-300x157.jpg 300w, https://labs.sentinelone.com/wp-content/uploads/2021/04/Copy-of-Relaying-Potatoes_-DCE_RPC-NTLM-Relay-EOP-7-1024x536.jpg 1024w, https://labs.sentinelone.com/wp-content/uploads/2021/04/Copy-of-Relaying-Potatoes_-DCE_RPC-NTLM-Relay-EOP-7-768x402.jpg 768w, https://labs.sentinelone.com/wp-content/uploads/2021/04/Copy-of-Relaying-Potatoes_-DCE_RPC-NTLM-Relay-EOP-7-1140x597.jpg 1140w, https://labs.sentinelone.com/wp-content/uploads/2021/04/Copy-of-Relaying-Potatoes_-DCE_RPC-NTLM-Relay-EOP-7.jpg 1200w\" sizes=\"(max-width: 96px) 100vw, 96px\"/>\\t\\t\\t\\t\\t\\t\\t\\t</figure>\\n\\t\\t\\t\\t\\t\\t\\t</div>\\n\\t\\t\\t\\t\\t\\t\\t\\n\\t\\t\\t\\t\\t\\t\\t<div class=\"list-latest-post__info\">\\n\\t\\t\\t\\t\\t\\t\\t\\t<h5 class=\"list-latest-post__title\"><a href=\"https://labs.sentinelone.com/relaying-potatoes-dce-rpc-ntlm-relay-eop/\">Relaying Potatoes: Another Unexpected Privilege Escalation Vulnerability in Windows RPC Protocol</a></h5>\\t\\t\\t\\t\\t\\t\\t\\t<div class=\"list-latest-post__meta\">\\n\\t\\t\\t\\t\\t\\t\\t\\t\\t\\t\\t\\t\\t\\t\\t\\t\\t\\t\\t<time datetime=\"2021-04-26T15:03:10+00:00\">\\n\\t\\t\\t\\t\\t\\t\\t\\t\\t\\t\\t<i class=\"fa fa-calendar\"/> April 26, 2021\\t\\t\\t\\t\\t\\t\\t\\t\\t\\t</time>\\n\\t\\t\\t\\t\\t\\t\\t\\t\\t\\t\\t\\t\\t\\t\\t\\t\\t\\t</div>\\n\\t\\t\\t\\t\\t\\t\\t</div>\\n\\t\\t\\t\\t\\t\\t</article>\\n\\t\\t\\t\\t\\t</li>\\n\\n\\t\\t\\t\\t\\n\\t\\t\\t\\t\\t<li>\\n\\t\\t\\t\\t\\t\\t<article class=\"list-latest-post clearfix\">\\n\\t\\t\\t\\t\\t\\t\\t\\t\\t\\t\\t\\t\\t\\t<div class=\"list-latest-post__media\">\\n\\t\\t\\t\\t\\t\\t\\t\\t<figure class=\"list-latest-post__thumbnail\">\\n\\t\\t\\t\\t\\t\\t\\t\\t\\t<img width=\"96\" height=\"50\" src=\"https://labs.sentinelone.com/wp-content/uploads/2021/04/A-Deep-Dive-into-Zebrocys-Dropper-Docs-4-96x50.jpg\" class=\"attachment-asiana_thumbnail_small size-asiana_thumbnail_small wp-post-image\" alt=\"\" loading=\"lazy\" srcset=\"https://labs.sentinelone.com/wp-content/uploads/2021/04/A-Deep-Dive-into-Zebrocys-Dropper-Docs-4-96x50.jpg 96w, https://labs.sentinelone.com/wp-content/uploads/2021/04/A-Deep-Dive-into-Zebrocys-Dropper-Docs-4-300x157.jpg 300w, https://labs.sentinelone.com/wp-content/uploads/2021/04/A-Deep-Dive-into-Zebrocys-Dropper-Docs-4-1024x536.jpg 1024w, https://labs.sentinelone.com/wp-content/uploads/2021/04/A-Deep-Dive-into-Zebrocys-Dropper-Docs-4-768x402.jpg 768w, https://labs.sentinelone.com/wp-content/uploads/2021/04/A-Deep-Dive-into-Zebrocys-Dropper-Docs-4-1140x597.jpg 1140w, https://labs.sentinelone.com/wp-content/uploads/2021/04/A-Deep-Dive-into-Zebrocys-Dropper-Docs-4.jpg 1200w\" sizes=\"(max-width: 96px) 100vw, 96px\"/>\\t\\t\\t\\t\\t\\t\\t\\t</figure>\\n\\t\\t\\t\\t\\t\\t\\t</div>\\n\\t\\t\\t\\t\\t\\t\\t\\n\\t\\t\\t\\t\\t\\t\\t<div class=\"list-latest-post__info\">\\n\\t\\t\\t\\t\\t\\t\\t\\t<h5 class=\"list-latest-post__title\"><a href=\"https://labs.sentinelone.com/a-deep-dive-into-zebrocys-dropper-docs/\">A Deep Dive into Zebrocy&#8217;s Dropper Docs</a></h5>\\t\\t\\t\\t\\t\\t\\t\\t<div class=\"list-latest-post__meta\">\\n\\t\\t\\t\\t\\t\\t\\t\\t\\t\\t\\t\\t\\t\\t\\t\\t\\t\\t\\t<time datetime=\"2021-04-19T17:02:12+00:00\">\\n\\t\\t\\t\\t\\t\\t\\t\\t\\t\\t\\t<i class=\"fa fa-calendar\"/> April 19, 2021\\t\\t\\t\\t\\t\\t\\t\\t\\t\\t</time>\\n\\t\\t\\t\\t\\t\\t\\t\\t\\t\\t\\t\\t\\t\\t\\t\\t\\t\\t</div>\\n\\t\\t\\t\\t\\t\\t\\t</div>\\n\\t\\t\\t\\t\\t\\t</article>\\n\\t\\t\\t\\t\\t</li>\\n\\n\\t\\t\\t\\t\\n\\t\\t\\t\\t</ul>\\n\\t\\t\\t\\t\\n\\t\\t\\t</div>\\n\\n\\t\\t</div>\\t\\n\\n\\t</div>\\n\\n</aside><!-- #secondary -->\\n\\n\\t\\t\\t</div><!-- /.row -->\\n\\n\\t\\t</div><!-- /.container -->\\n\\t\\t\\n\\t</div><!-- /.site-main -->\\n\\n</div><!-- /.site-content -->\\n\\n\\n\\t<footer id=\"colophon\" class=\"site-footer\" role=\"contentinfo\" itemscope=\"\" itemtype=\"http://schema.org/WPFooter\">\\n\\n\\t\\t<div class=\"footer-sidebar\">\\n\\t\\n\\t<div class=\"container\">\\n\\t\\t\\n\\t\\t<div class=\"row\">\\n\\t\\t\\t\\n\\t\\t\\t\\t<div class=\"col-md-3\">\\n\\t\\t\\t\\t\\t<div id=\"text-3\" class=\"widget widget_text\"><h3 class=\"widget-title\">SentinelLabs</h3>\\t\\t\\t<div class=\"textwidget\"><p><span style=\"font-weight: 400;\">In the era of interconnectivity, when markets, geographies, and jurisdictions merge in the melting pot of the digital domain, the perils of the threat ecosystem become unparalleled. Crimeware families achieve an unparalleled level of technical sophistication, APT groups are competing in fully-fledged cyber warfare, while once decentralized and scattered threat actors are forming adamant alliances of operating as elite corporate espionage teams.</span></p>\\n</div>\\n\\t\\t</div>\\t\\t\\t\\t</div>\\n\\n\\t\\t\\t\\t\\n\\t\\t\\t\\t<div class=\"col-md-3\">\\n\\t\\t\\t\\t\\t<div id=\"tp_widget_recent_tweets-1\" class=\"widget widget_tp_widget_recent_tweets\"><h3 class=\"widget-title\">Latest Tweet</h3>&#13;\\n\\t\\t\\t\\t\\t\\t<div class=\"tp_recent_tweets\">&#13;\\n\\t\\t\\t\\t\\t\\t\\t<ul><li><span> Enhance your attack prevention and accelerate your response to ongoing attacks. Learn how to limit the blast radi&#8230; <a href=\"https://t.co/GSFg7sVsDD\" target=\"_blank\">https://t.co/GSFg7sVsDD</a></span><a class=\"twitter_time\" target=\"_blank\" href=\"http://twitter.com/vk_intel/statuses/1396671055482298368\">4 hours ago</a></li><li><span>Use cases for SentinelOne Cloud Funnel, the <a href=\"https://twitter.com/search?q=EDR\" title=\"Search #EDR\" target=\"_blank\">#EDR</a> <a href=\"https://twitter.com/search?q=DataLake\" title=\"Search #DataLake\" target=\"_blank\">#DataLake</a> include:\\n\\n&#8987; Extended retention.\\n  Regulatory&#8230; <a href=\"https://t.co/Q6FfpJw4yu\" target=\"_blank\">https://t.co/Q6FfpJw4yu</a></span><a class=\"twitter_time\" target=\"_blank\" href=\"http://twitter.com/vk_intel/statuses/1396604860204822536\">8 hours ago</a></li><li><span>&#9876;&#65039; WatchTower extends your visibility and actionability to novel attacker techniques, global APT campaigns, and eme&#8230; <a href=\"https://t.co/2fIuxzs7P1\" target=\"_blank\">https://t.co/2fIuxzs7P1</a></span><a class=\"twitter_time\" target=\"_blank\" href=\"http://twitter.com/vk_intel/statuses/1396233916286177280\">yesterday</a></li><li><span>&#9874;&#65039; Get your malware analysis toolkit up-to-speed! From disassemblers and debuggers to hex editors and SSL intercept&#8230; <a href=\"https://t.co/8bC7EbamYc\" target=\"_blank\">https://t.co/8bC7EbamYc</a></span><a class=\"twitter_time\" target=\"_blank\" href=\"http://twitter.com/vk_intel/statuses/1396189876161236995\">yesterday</a></li>&#13;\\n\\t\\t\\t\\t\\t\\t\\t</ul></div></div>\\t\\t\\t\\t</div>\\n\\n\\t\\t\\t\\t\\n\\t\\t\\t\\t<div class=\"col-md-3\">\\n\\t\\t\\t\\t\\t<div id=\"tag_cloud-1\" class=\"widget widget_tag_cloud\"><h3 class=\"widget-title\">Browse Tags</h3><div class=\"tagcloud\"><a href=\"https://labs.sentinelone.com/tag/adware/\" class=\"tag-cloud-link tag-link-141 tag-link-position-1\" style=\"font-size: 10.571428571429pt;\" aria-label=\"adware (2 items)\">adware</a>\\n<a href=\"https://labs.sentinelone.com/tag/anchor/\" class=\"tag-cloud-link tag-link-272 tag-link-position-2\" style=\"font-size: 10.571428571429pt;\" aria-label=\"Anchor (2 items)\">Anchor</a>\\n<a href=\"https://labs.sentinelone.com/tag/apt/\" class=\"tag-cloud-link tag-link-106 tag-link-position-3\" style=\"font-size: 15.857142857143pt;\" aria-label=\"apt (6 items)\">apt</a>\\n<a href=\"https://labs.sentinelone.com/tag/backdoor/\" class=\"tag-cloud-link tag-link-590 tag-link-position-4\" style=\"font-size: 13.714285714286pt;\" aria-label=\"Backdoor (4 items)\">Backdoor</a>\\n<a href=\"https://labs.sentinelone.com/tag/banking-malware/\" class=\"tag-cloud-link tag-link-271 tag-link-position-5\" style=\"font-size: 10.571428571429pt;\" aria-label=\"banking malware (2 items)\">banking malware</a>\\n<a href=\"https://labs.sentinelone.com/tag/banking-trojan/\" class=\"tag-cloud-link tag-link-43 tag-link-position-6\" style=\"font-size: 14.857142857143pt;\" aria-label=\"banking trojan (5 items)\">banking trojan</a>\\n<a href=\"https://labs.sentinelone.com/tag/cryptominer/\" class=\"tag-cloud-link tag-link-1635 tag-link-position-7\" style=\"font-size: 10.571428571429pt;\" aria-label=\"Cryptominer (2 items)\">Cryptominer</a>\\n<a href=\"https://labs.sentinelone.com/tag/cve/\" class=\"tag-cloud-link tag-link-1639 tag-link-position-8\" style=\"font-size: 10.571428571429pt;\" aria-label=\"CVE (2 items)\">CVE</a>\\n<a href=\"https://labs.sentinelone.com/tag/daniel-bunce/\" class=\"tag-cloud-link tag-link-48 tag-link-position-9\" style=\"font-size: 12.285714285714pt;\" aria-label=\"Daniel Bunce (3 items)\">Daniel Bunce</a>\\n<a href=\"https://labs.sentinelone.com/tag/exploitation/\" class=\"tag-cloud-link tag-link-1198 tag-link-position-10\" style=\"font-size: 10.571428571429pt;\" aria-label=\"Exploitation (2 items)\">Exploitation</a>\\n<a href=\"https://labs.sentinelone.com/tag/firmware/\" class=\"tag-cloud-link tag-link-1429 tag-link-position-11\" style=\"font-size: 13.714285714286pt;\" aria-label=\"Firmware (4 items)\">Firmware</a>\\n<a href=\"https://labs.sentinelone.com/tag/ghidra/\" class=\"tag-cloud-link tag-link-1628 tag-link-position-12\" style=\"font-size: 10.571428571429pt;\" aria-label=\"Ghidra (2 items)\">Ghidra</a>\\n<a href=\"https://labs.sentinelone.com/tag/golang/\" class=\"tag-cloud-link tag-link-56 tag-link-position-13\" style=\"font-size: 10.571428571429pt;\" aria-label=\"golang (2 items)\">golang</a>\\n<a href=\"https://labs.sentinelone.com/tag/gootkit/\" class=\"tag-cloud-link tag-link-44 tag-link-position-14\" style=\"font-size: 12.285714285714pt;\" aria-label=\"Gootkit (3 items)\">Gootkit</a>\\n<a href=\"https://labs.sentinelone.com/tag/incident-response/\" class=\"tag-cloud-link tag-link-123 tag-link-position-15\" style=\"font-size: 12.285714285714pt;\" aria-label=\"incident response (3 items)\">incident response</a>\\n<a href=\"https://labs.sentinelone.com/tag/info-stealer/\" class=\"tag-cloud-link tag-link-51 tag-link-position-16\" style=\"font-size: 12.285714285714pt;\" aria-label=\"Info Stealer (3 items)\">Info Stealer</a>\\n<a href=\"https://labs.sentinelone.com/tag/loader/\" class=\"tag-cloud-link tag-link-768 tag-link-position-17\" style=\"font-size: 8pt;\" aria-label=\"loader (1 item)\">loader</a>\\n<a href=\"https://labs.sentinelone.com/tag/lolbins/\" class=\"tag-cloud-link tag-link-1197 tag-link-position-18\" style=\"font-size: 10.571428571429pt;\" aria-label=\"LOLBins (2 items)\">LOLBins</a>\\n<a href=\"https://labs.sentinelone.com/tag/mach-o/\" class=\"tag-cloud-link tag-link-102 tag-link-position-19\" style=\"font-size: 10.571428571429pt;\" aria-label=\"Mach-O (2 items)\">Mach-O</a>\\n<a href=\"https://labs.sentinelone.com/tag/macos/\" class=\"tag-cloud-link tag-link-93 tag-link-position-20\" style=\"font-size: 19.571428571429pt;\" aria-label=\"macOS (12 items)\">macOS</a>\\n<a href=\"https://labs.sentinelone.com/tag/malware/\" class=\"tag-cloud-link tag-link-68 tag-link-position-21\" style=\"font-size: 14.857142857143pt;\" aria-label=\"Malware (5 items)\">Malware</a>\\n<a href=\"https://labs.sentinelone.com/tag/malware-analysis/\" class=\"tag-cloud-link tag-link-100 tag-link-position-22\" style=\"font-size: 13.714285714286pt;\" aria-label=\"Malware Analysis (4 items)\">Malware Analysis</a>\\n<a href=\"https://labs.sentinelone.com/tag/maze/\" class=\"tag-cloud-link tag-link-378 tag-link-position-23\" style=\"font-size: 12.285714285714pt;\" aria-label=\"Maze (3 items)\">Maze</a>\\n<a href=\"https://labs.sentinelone.com/tag/pci/\" class=\"tag-cloud-link tag-link-1428 tag-link-position-24\" style=\"font-size: 12.285714285714pt;\" aria-label=\"PCI (3 items)\">PCI</a>\\n<a href=\"https://labs.sentinelone.com/tag/phishing/\" class=\"tag-cloud-link tag-link-81 tag-link-position-25\" style=\"font-size: 12.285714285714pt;\" aria-label=\"phishing (3 items)\">phishing</a>\\n<a href=\"https://labs.sentinelone.com/tag/powertrick/\" class=\"tag-cloud-link tag-link-589 tag-link-position-26\" style=\"font-size: 10.571428571429pt;\" aria-label=\"PowerTrick (2 items)\">PowerTrick</a>\\n<a href=\"https://labs.sentinelone.com/tag/privilege-escalation/\" class=\"tag-cloud-link tag-link-143 tag-link-position-27\" style=\"font-size: 13.714285714286pt;\" aria-label=\"privilege escalation (4 items)\">privilege escalation</a>\\n<a href=\"https://labs.sentinelone.com/tag/raas/\" class=\"tag-cloud-link tag-link-87 tag-link-position-28\" style=\"font-size: 15.857142857143pt;\" aria-label=\"RaaS (6 items)\">RaaS</a>\\n<a href=\"https://labs.sentinelone.com/tag/ransomware/\" class=\"tag-cloud-link tag-link-57 tag-link-position-29\" style=\"font-size: 22pt;\" aria-label=\"Ransomware (18 items)\">Ransomware</a>\\n<a href=\"https://labs.sentinelone.com/tag/rat/\" class=\"tag-cloud-link tag-link-1536 tag-link-position-30\" style=\"font-size: 8pt;\" aria-label=\"RAT (1 item)\">RAT</a>\\n<a href=\"https://labs.sentinelone.com/tag/researcher/\" class=\"tag-cloud-link tag-link-1477 tag-link-position-31\" style=\"font-size: 14.857142857143pt;\" aria-label=\"Researcher (5 items)\">Researcher</a>\\n<a href=\"https://labs.sentinelone.com/tag/reverse-engineeering/\" class=\"tag-cloud-link tag-link-55 tag-link-position-32\" style=\"font-size: 15.857142857143pt;\" aria-label=\"reverse engineeering (6 items)\">reverse engineeering</a>\\n<a href=\"https://labs.sentinelone.com/tag/reverse-engineering/\" class=\"tag-cloud-link tag-link-45 tag-link-position-33\" style=\"font-size: 16.571428571429pt;\" aria-label=\"reverse engineering (7 items)\">reverse engineering</a>\\n<a href=\"https://labs.sentinelone.com/tag/reverse-engineering-skills/\" class=\"tag-cloud-link tag-link-103 tag-link-position-34\" style=\"font-size: 10.571428571429pt;\" aria-label=\"reverse engineering skills (2 items)\">reverse engineering skills</a>\\n<a href=\"https://labs.sentinelone.com/tag/rig-exploit-kit/\" class=\"tag-cloud-link tag-link-62 tag-link-position-35\" style=\"font-size: 10.571428571429pt;\" aria-label=\"RIG Exploit Kit (2 items)\">RIG Exploit Kit</a>\\n<a href=\"https://labs.sentinelone.com/tag/rootkits/\" class=\"tag-cloud-link tag-link-1426 tag-link-position-36\" style=\"font-size: 12.285714285714pt;\" aria-label=\"Rootkits (3 items)\">Rootkits</a>\\n<a href=\"https://labs.sentinelone.com/tag/solarwinds/\" class=\"tag-cloud-link tag-link-1632 tag-link-position-37\" style=\"font-size: 10.571428571429pt;\" aria-label=\"SolarWinds (2 items)\">SolarWinds</a>\\n<a href=\"https://labs.sentinelone.com/tag/spi/\" class=\"tag-cloud-link tag-link-1427 tag-link-position-38\" style=\"font-size: 12.285714285714pt;\" aria-label=\"SPI (3 items)\">SPI</a>\\n<a href=\"https://labs.sentinelone.com/tag/tools/\" class=\"tag-cloud-link tag-link-92 tag-link-position-39\" style=\"font-size: 12.285714285714pt;\" aria-label=\"tools (3 items)\">tools</a>\\n<a href=\"https://labs.sentinelone.com/tag/trickbot/\" class=\"tag-cloud-link tag-link-66 tag-link-position-40\" style=\"font-size: 18.571428571429pt;\" aria-label=\"trickbot (10 items)\">trickbot</a>\\n<a href=\"https://labs.sentinelone.com/tag/uefi/\" class=\"tag-cloud-link tag-link-1425 tag-link-position-41\" style=\"font-size: 13.714285714286pt;\" aria-label=\"UEFI (4 items)\">UEFI</a>\\n<a href=\"https://labs.sentinelone.com/tag/ursnif/\" class=\"tag-cloud-link tag-link-54 tag-link-position-42\" style=\"font-size: 10.571428571429pt;\" aria-label=\"ursnif (2 items)\">ursnif</a>\\n<a href=\"https://labs.sentinelone.com/tag/vitali-kremez/\" class=\"tag-cloud-link tag-link-63 tag-link-position-43\" style=\"font-size: 12.285714285714pt;\" aria-label=\"Vitali Kremez (3 items)\">Vitali Kremez</a>\\n<a href=\"https://labs.sentinelone.com/tag/vulnerability/\" class=\"tag-cloud-link tag-link-1389 tag-link-position-44\" style=\"font-size: 14.857142857143pt;\" aria-label=\"Vulnerability (5 items)\">Vulnerability</a>\\n<a href=\"https://labs.sentinelone.com/tag/zero2hero/\" class=\"tag-cloud-link tag-link-47 tag-link-position-45\" style=\"font-size: 17.285714285714pt;\" aria-label=\"Zero2Hero (8 items)\">Zero2Hero</a></div>\\n</div>\\t\\t\\t\\t</div>\\n\\n\\t\\t\\t\\t\\n\\t\\t\\t\\t<div class=\"col-md-3\">\\n\\t\\t\\t\\t\\t<div id=\"asiana-popular-posts-widget-1\" class=\"widget asiana-popular-posts-widget\"><h3 class=\"widget-title\">Popular Posts</h3>\\n\\t\\t\\t<div class=\"inner-popular-post-widget\">\\n\\n\\t\\t\\t\\t<ul class=\"plain-list\">\\n\\n\\t\\t\\t\\t\\n\\t\\t\\t\\t\\t<li>\\n\\t\\t\\t\\t\\t\\t<article class=\"list-popular-post clearfix\">\\n\\t\\t\\t\\t\\t\\t\\t\\t\\t\\t\\t\\t\\t\\t<div class=\"list-popular-post__media\">\\n\\t\\t\\t\\t\\t\\t\\t\\t<figure class=\"list-popular-post__thumbnail\">\\n\\t\\t\\t\\t\\t\\t\\t\\t\\t<img width=\"96\" height=\"50\" src=\"https://labs.sentinelone.com/wp-content/uploads/2019/09/Detecting-macOS.GMERA-Malware-Through-Behavioral-Inspection-1-96x50.jpg\" class=\"attachment-asiana_thumbnail_small size-asiana_thumbnail_small wp-post-image\" alt=\"feature image no text\" loading=\"lazy\" srcset=\"https://labs.sentinelone.com/wp-content/uploads/2019/09/Detecting-macOS.GMERA-Malware-Through-Behavioral-Inspection-1-96x50.jpg 96w, https://labs.sentinelone.com/wp-content/uploads/2019/09/Detecting-macOS.GMERA-Malware-Through-Behavioral-Inspection-1-300x157.jpg 300w, https://labs.sentinelone.com/wp-content/uploads/2019/09/Detecting-macOS.GMERA-Malware-Through-Behavioral-Inspection-1-1024x536.jpg 1024w, https://labs.sentinelone.com/wp-content/uploads/2019/09/Detecting-macOS.GMERA-Malware-Through-Behavioral-Inspection-1-768x402.jpg 768w, https://labs.sentinelone.com/wp-content/uploads/2019/09/Detecting-macOS.GMERA-Malware-Through-Behavioral-Inspection-1-1140x597.jpg 1140w, https://labs.sentinelone.com/wp-content/uploads/2019/09/Detecting-macOS.GMERA-Malware-Through-Behavioral-Inspection-1.jpg 1200w\" sizes=\"(max-width: 96px) 100vw, 96px\"/>\\t\\t\\t\\t\\t\\t\\t\\t</figure>\\n\\t\\t\\t\\t\\t\\t\\t</div>\\n\\t\\t\\t\\t\\t\\t\\t\\n\\t\\t\\t\\t\\t\\t\\t<div class=\"list-popular-post__info\">\\n\\t\\t\\t\\t\\t\\t\\t\\t<h5 class=\"list-popular-post__title\"><a href=\"https://labs.sentinelone.com/detecting-macos-gmera-malware-through-behavioral-inspection/\">Detecting macOS.GMERA Malware Through Behavioral Inspection</a></h5>\\t\\t\\t\\t\\t\\t\\t\\t<div class=\"list-popular-post__meta\">\\n\\t\\t\\t\\t\\t\\t\\t\\t\\t\\t\\t\\t\\t\\t\\t\\t\\t\\t\\t<time datetime=\"2019-09-25T09:50:15+00:00\">\\n\\t\\t\\t\\t\\t\\t\\t\\t\\t\\t\\t<i class=\"fa fa-calendar\"/> September 25, 2019\\t\\t\\t\\t\\t\\t\\t\\t\\t\\t</time>\\n\\t\\t\\t\\t\\t\\t\\t\\t\\t\\t\\t\\t\\t\\t\\t\\t\\t\\t</div>\\n\\t\\t\\t\\t\\t\\t\\t</div>\\n\\t\\t\\t\\t\\t\\t</article>\\n\\t\\t\\t\\t\\t</li>\\n\\n\\t\\t\\t\\t\\n\\t\\t\\t\\t\\t<li>\\n\\t\\t\\t\\t\\t\\t<article class=\"list-popular-post clearfix\">\\n\\t\\t\\t\\t\\t\\t\\t\\t\\t\\t\\t\\t\\t\\t<div class=\"list-popular-post__media\">\\n\\t\\t\\t\\t\\t\\t\\t\\t<figure class=\"list-popular-post__thumbnail\">\\n\\t\\t\\t\\t\\t\\t\\t\\t\\t<img width=\"96\" height=\"50\" src=\"https://labs.sentinelone.com/wp-content/uploads/2019/05/Cybercrime_-_Banload_-Banking-Malware-Implements-New-Techniques-for-Fraud-1-96x50.jpg\" class=\"attachment-asiana_thumbnail_small size-asiana_thumbnail_small wp-post-image\" alt=\"Cybercrime_ _Banload_ Banking Malware Implements New Techniques for Fraud\" loading=\"lazy\" srcset=\"https://labs.sentinelone.com/wp-content/uploads/2019/05/Cybercrime_-_Banload_-Banking-Malware-Implements-New-Techniques-for-Fraud-1-96x50.jpg 96w, https://labs.sentinelone.com/wp-content/uploads/2019/05/Cybercrime_-_Banload_-Banking-Malware-Implements-New-Techniques-for-Fraud-1-300x157.jpg 300w, https://labs.sentinelone.com/wp-content/uploads/2019/05/Cybercrime_-_Banload_-Banking-Malware-Implements-New-Techniques-for-Fraud-1-1024x535.jpg 1024w, https://labs.sentinelone.com/wp-content/uploads/2019/05/Cybercrime_-_Banload_-Banking-Malware-Implements-New-Techniques-for-Fraud-1-768x401.jpg 768w, https://labs.sentinelone.com/wp-content/uploads/2019/05/Cybercrime_-_Banload_-Banking-Malware-Implements-New-Techniques-for-Fraud-1-1140x596.jpg 1140w, https://labs.sentinelone.com/wp-content/uploads/2019/05/Cybercrime_-_Banload_-Banking-Malware-Implements-New-Techniques-for-Fraud-1.jpg 1200w\" sizes=\"(max-width: 96px) 100vw, 96px\"/>\\t\\t\\t\\t\\t\\t\\t\\t</figure>\\n\\t\\t\\t\\t\\t\\t\\t</div>\\n\\t\\t\\t\\t\\t\\t\\t\\n\\t\\t\\t\\t\\t\\t\\t<div class=\"list-popular-post__info\">\\n\\t\\t\\t\\t\\t\\t\\t\\t<h5 class=\"list-popular-post__title\"><a href=\"https://labs.sentinelone.com/reversing-rig-exploit-kit-infection-chain-internals-exploits/\">RIG Exploit Kit Chain Internals</a></h5>\\t\\t\\t\\t\\t\\t\\t\\t<div class=\"list-popular-post__meta\">\\n\\t\\t\\t\\t\\t\\t\\t\\t\\t\\t\\t\\t\\t\\t\\t\\t\\t\\t\\t<time datetime=\"2019-09-12T10:11:48+00:00\">\\n\\t\\t\\t\\t\\t\\t\\t\\t\\t\\t\\t<i class=\"fa fa-calendar\"/> September 12, 2019\\t\\t\\t\\t\\t\\t\\t\\t\\t\\t</time>\\n\\t\\t\\t\\t\\t\\t\\t\\t\\t\\t\\t\\t\\t\\t\\t\\t\\t\\t</div>\\n\\t\\t\\t\\t\\t\\t\\t</div>\\n\\t\\t\\t\\t\\t\\t</article>\\n\\t\\t\\t\\t\\t</li>\\n\\n\\t\\t\\t\\t\\n\\t\\t\\t\\t</ul>\\n\\t\\t\\t\\t\\n\\t\\t\\t</div>\\n\\n\\t\\t</div>\\t\\t\\t\\t</div>\\n\\n\\t\\t\\t\\t\\t\\t</div>\\n\\n\\t</div>\\n\\n</div>\\n<div class=\"footer-social\">\\n\\t<div class=\"container\">\\n\\t\\t<div class=\"footer-social__inner\">\\n\\t\\t\\t<ul class=\"footer-social-list\">\\n\\t\\t\\t\\t\\t\\t\\t<li>\\n\\t\\t\\t\\t\\t<a href=\"https://twitter.com/LabsSentinel\" target=\"_blank\" title=\"Twitter\">\\n\\t\\t\\t\\t\\t\\t<i class=\"fa fa-twitter\"/> <span class=\"suffix\">Twitter</span>\\n\\t\\t\\t\\t\\t</a>\\n\\t\\t\\t\\t</li>\\n\\t\\t\\t\\t\\t\\t\\t<li>\\n\\t\\t\\t\\t\\t<a href=\"https://www.linkedin.com/company/sentinelone\" title=\"LinkedIn\">\\n\\t\\t\\t\\t\\t\\t<i class=\"fa fa-linkedin\"/> <span class=\"suffix\">LinkedIn</span>\\n\\t\\t\\t\\t\\t</a>\\n\\t\\t\\t\\t</li>\\n\\t\\t\\t\\t\\t\\t\\t<li>\\n\\t\\t\\t\\t\\t<a href=\"https://app.slack.com/client/TQW3J2J3C/CR8SHCU0Y\" title=\"Slack\">\\n\\t\\t\\t\\t\\t\\t<i class=\"fa fa-slack\"/> <span class=\"suffix\">Slack</span>\\n\\t\\t\\t\\t\\t</a>\\n\\t\\t\\t\\t</li>\\n\\t\\t\\t\\t\\t\\t</ul>\\n\\t\\t</div>\\n\\t</div>\\n</div>\\n<div class=\"footer-copyright\">\\n\\t<div class=\"container\">\\n\\t\\t<div class=\"site-info\">\\n\\t\\t\\tSentinelOne, All Rights Reserved.\\t\\t</div><!-- .site-info -->\\t\\n\\t</div>\\n</div>\\n\\n\\t</footer><!-- #colophon -->\\n\\n\\t<a href=\"#\" class=\"to-top\"><i class=\"fa fa-angle-up\"/></a>\\n\\n</div><!-- #page -->\\n\\n\\t<!-- Google Tag Manager (noscript) -->\\n\\t<noscript><iframe src=\"https://www.googletagmanager.com/ns.html?id=GTM-M5BKP2C\" height=\"0\" width=\"0\" style=\"display:none;visibility:hidden\"/></noscript>\\n\\t<!-- End Google Tag Manager (noscript) -->\\n\\t<script>\\n\\tdocument.addEventListener(\\'DOMContentLoaded\\', (event) =&gt; {\\n\\tdocument.querySelectorAll(\\'pre\\').forEach((block) =&gt; {\\n\\t\\t\\thljs.highlightBlock(block);\\n\\t\\t});\\n\\t});\\n\\t</script>\\n<div class=\"slack-invite-wrapper container\"><div class=\"invitations-for-slack-wrapper\">    <button class=\"join-button button\">Join us on Slack!</button>    <div class=\"team-numbers\">        0 / 134    </div></div></div><script type=\"text/javascript\" id=\"contact-form-7-js-extra\">\\n/* &lt;![CDATA[ */\\nvar wpcf7 = {\"apiSettings\":{\"root\":\"https:\\\\/\\\\/labs.sentinelone.com\\\\/wp-json\\\\/contact-form-7\\\\/v1\",\"namespace\":\"contact-form-7\\\\/v1\"}};\\n/* ]]&gt; */\\n</script>\\n<script type=\"text/javascript\" src=\"https://labs.sentinelone.com/wp-content/plugins/contact-form-7/includes/js/scripts.js?ver=5.3.2\" id=\"contact-form-7-js\"/>\\n<script type=\"text/javascript\" src=\"https://labs.sentinelone.com/wp-content/plugins/meks-flexible-shortcodes/js/main.js?ver=1\" id=\"mks_shortcodes_js-js\"/>\\n<script type=\"text/javascript\" src=\"https://labs.sentinelone.com/wp-includes/js/imagesloaded.min.js?ver=4.1.4\" id=\"imagesloaded-js\"/>\\n<script type=\"text/javascript\" src=\"https://labs.sentinelone.com/wp-includes/js/masonry.min.js?ver=4.2.2\" id=\"masonry-js\"/>\\n<script type=\"text/javascript\" src=\"https://labs.sentinelone.com/wp-content/themes/asiana/assets/js/asiana.plugins.js?ver=1.2\" id=\"asiana-plugins-script-js\"/>\\n<script type=\"text/javascript\" src=\"https://labs.sentinelone.com/wp-content/themes/asiana/assets/js/asiana.main.min.js?ver=1.2\" id=\"asiana-main-script-js\"/>\\n<script type=\"text/javascript\" src=\"https://labs.sentinelone.com/wp-content/themes/asiana-child/assets/js/footer.min.js?ver=1621763197\" id=\"base-script-footer-js\"/>\\n<script type=\"text/javascript\" src=\"https://labs.sentinelone.com/wp-includes/js/wp-embed.min.js?ver=660a951873600c5f9b6f4e2588e1174b\" id=\"wp-embed-js\"/>\\n<script type=\"text/javascript\" src=\"https://cdn.onesignal.com/sdks/OneSignalSDK.js?ver=660a951873600c5f9b6f4e2588e1174b\" async=\"async\" id=\"remote_sdk-js\"/>\\n\\n</body>\\n</html>\\n'"
      ]
     },
     "execution_count": 31,
     "metadata": {},
     "output_type": "execute_result"
    },
    {
     "data": {
      "application/javascript": "\n            setTimeout(function() {\n                var nbb_cell_id = 31;\n                var nbb_unformatted_code = \"etree.tostring(root, pretty_print=True)\";\n                var nbb_formatted_code = \"etree.tostring(root, pretty_print=True)\";\n                var nbb_cells = Jupyter.notebook.get_cells();\n                for (var i = 0; i < nbb_cells.length; ++i) {\n                    if (nbb_cells[i].input_prompt_number == nbb_cell_id) {\n                        if (nbb_cells[i].get_text() == nbb_unformatted_code) {\n                             nbb_cells[i].set_text(nbb_formatted_code);\n                        }\n                        break;\n                    }\n                }\n            }, 500);\n            ",
      "text/plain": [
       "<IPython.core.display.Javascript object>"
      ]
     },
     "metadata": {},
     "output_type": "display_data"
    }
   ],
   "source": [
    "etree.tostring(root, pretty_print=True)"
   ]
  }
 ],
 "metadata": {
  "kernelspec": {
   "display_name": ".venv-magpie",
   "language": "python",
   "name": "python3"
  },
  "language_info": {
   "codemirror_mode": {
    "name": "ipython",
    "version": 3
   },
   "file_extension": ".py",
   "mimetype": "text/x-python",
   "name": "python",
   "nbconvert_exporter": "python",
   "pygments_lexer": "ipython3",
   "version": "3.11.2"
  },
  "varInspector": {
   "cols": {
    "lenName": 16,
    "lenType": 16,
    "lenVar": 40
   },
   "kernels_config": {
    "python": {
     "delete_cmd_postfix": "",
     "delete_cmd_prefix": "del ",
     "library": "var_list.py",
     "varRefreshCmd": "print(var_dic_list())"
    },
    "r": {
     "delete_cmd_postfix": ") ",
     "delete_cmd_prefix": "rm(",
     "library": "var_list.r",
     "varRefreshCmd": "cat(var_dic_list()) "
    }
   },
   "types_to_exclude": [
    "module",
    "function",
    "builtin_function_or_method",
    "instance",
    "_Feature"
   ],
   "window_display": false
  }
 },
 "nbformat": 4,
 "nbformat_minor": 4
}
