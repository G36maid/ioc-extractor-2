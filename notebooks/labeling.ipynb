{
 "cells": [
  {
   "cell_type": "code",
   "execution_count": 1,
   "id": "d4710961-b7d9-46f4-a6e4-48aed074c5db",
   "metadata": {},
   "outputs": [],
   "source": [
    "%load_ext lab_black\n",
    "# %load_ext autotime"
   ]
  },
  {
   "cell_type": "code",
   "execution_count": 2,
   "id": "93333511-e834-49f0-bdc5-6436b9e78b94",
   "metadata": {},
   "outputs": [],
   "source": [
    "import sys\n",
    "\n",
    "sys.path.append(\"../\")"
   ]
  },
  {
   "cell_type": "code",
   "execution_count": 3,
   "id": "97d1bd36-6eba-4894-b87c-4725359493f7",
   "metadata": {},
   "outputs": [],
   "source": [
    "# from magpie.src.label import PulseLabel\n",
    "from functional import seq"
   ]
  },
  {
   "cell_type": "code",
   "execution_count": 4,
   "id": "c8086b61-1a1e-435a-8304-c3531a5bcc20",
   "metadata": {},
   "outputs": [],
   "source": [
    "feed = seq.json(\"../data/hellokitty.feeds.json\").to_dict()"
   ]
  },
  {
   "cell_type": "code",
   "execution_count": 5,
   "id": "c4f7ac89-52fb-4b51-ab09-f22463cc5f97",
   "metadata": {},
   "outputs": [
    {
     "data": {
      "text/plain": [
       "{'id': '6047944bd5bd6b6f323e59fa',\n",
       " 'name': 'HelloKitty Ransomware Lacks Stealth, But Still Strikes Home',\n",
       " 'description': 'HelloKitty is a ransomware family that emerged in late 2020. While it lacks the sophistication of some of the more well-known families such as Ryuk, REvil, and Conti, it has nevertheless struck some notable targets, including CEMIG0. In this post, Sentinel Labs analyzes a recent HelloKitty sample and outlines the basic behaviors and traits associated with this family of ransomware.',\n",
       " 'author_name': 'AlienVault',\n",
       " 'modified': '2021-03-09T15:29:14.999000',\n",
       " 'created': '2021-03-09T15:29:14.999000',\n",
       " 'revision': 1,\n",
       " 'tlp': 'white',\n",
       " 'public': 1,\n",
       " 'adversary': '',\n",
       " 'indicators': [{'id': 2892282605,\n",
       "   'indicator': '136bd70f7aa98f52861879d7dca03cf2',\n",
       "   'type': 'FileHash-MD5',\n",
       "   'created': '2021-03-09T15:29:16',\n",
       "   'content': '',\n",
       "   'title': 'Ransom:Win32/Death.DB!MTB',\n",
       "   'description': 'MD5 of fadd8d7c13a18c251ded1f645ffea18a37f1c2de',\n",
       "   'expiration': None,\n",
       "   'is_active': 1,\n",
       "   'role': None},\n",
       "  {'id': 2892282606,\n",
       "   'indicator': '501487b025f25ddf1ca32deb57a2b4db43ccf6635c1edc74b9cff54ce0e5bcfe',\n",
       "   'type': 'FileHash-SHA256',\n",
       "   'created': '2021-03-09T15:29:16',\n",
       "   'content': '',\n",
       "   'title': 'Ransom:Win32/Death.DB!MTB',\n",
       "   'description': 'SHA256 of fadd8d7c13a18c251ded1f645ffea18a37f1c2de',\n",
       "   'expiration': None,\n",
       "   'is_active': 1,\n",
       "   'role': None},\n",
       "  {'id': 2892282607,\n",
       "   'indicator': 'fadd8d7c13a18c251ded1f645ffea18a37f1c2de',\n",
       "   'type': 'FileHash-SHA1',\n",
       "   'created': '2021-03-09T15:29:16',\n",
       "   'content': '',\n",
       "   'title': 'Ransom:Win32/Death.DB!MTB',\n",
       "   'description': '',\n",
       "   'expiration': None,\n",
       "   'is_active': 1,\n",
       "   'role': None},\n",
       "  {'id': 2892282608,\n",
       "   'indicator': '6x7dp6h3w6q3ugjv4yv5gycj3femb24kysgry5b44hhgfwc5ml5qrdad.onion',\n",
       "   'type': 'domain',\n",
       "   'created': '2021-03-09T15:29:16',\n",
       "   'content': '',\n",
       "   'title': '',\n",
       "   'description': '',\n",
       "   'expiration': None,\n",
       "   'is_active': 1,\n",
       "   'role': None}],\n",
       " 'tags': ['HelloKitty', 'Ransomware'],\n",
       " 'targeted_countries': [],\n",
       " 'malware_families': ['HelloKitty Ransomware',\n",
       "  'Win32:HelloKitty',\n",
       "  'Ransom.HelloKitty'],\n",
       " 'attack_ids': ['T1005',\n",
       "  'T1012',\n",
       "  'T1047',\n",
       "  'T1082',\n",
       "  'T1112',\n",
       "  'T1486',\n",
       "  'T1059.003',\n",
       "  'T1070.004'],\n",
       " 'references': ['https://labs.sentinelone.com/hellokitty-ransomware-lacks-stealth-but-still-strikes-home/'],\n",
       " 'industries': [],\n",
       " 'extract_source': [],\n",
       " 'more_indicators': False}"
      ]
     },
     "execution_count": 5,
     "metadata": {},
     "output_type": "execute_result"
    }
   ],
   "source": [
    "feed"
   ]
  },
  {
   "cell_type": "code",
   "execution_count": 6,
   "id": "824d28b9-d429-48f9-8646-2f8918d86297",
   "metadata": {},
   "outputs": [],
   "source": [
    "from itertools import product\n",
    "from enum import Enum\n",
    "from collections import ChainMap, namedtuple\n",
    "from functools import lru_cache\n",
    "from textdistance import jaro"
   ]
  },
  {
   "cell_type": "code",
   "execution_count": 7,
   "id": "9b918e66-669f-4256-af9a-7d7cfbc354ca",
   "metadata": {},
   "outputs": [],
   "source": [
    "class PulseLabelGenerator(object):\n",
    "\n",
    "    SINGULAR_PARTS = [\"name\", \"description\", \"adversary\"]\n",
    "    PLRUAL_PARTS = [\n",
    "        \"tags\",\n",
    "        \"targeted_countries\",\n",
    "        \"malware_families\",\n",
    "        \"attack_ids\",\n",
    "        \"industries\",\n",
    "    ]\n",
    "\n",
    "    PulseLabel = namedtuple(\"PulseLabel\", [\"category\", \"group\", \"role\"])\n",
    "\n",
    "    def __init__(self, pulse: dict):\n",
    "        self.pulse = pulse\n",
    "\n",
    "    @property\n",
    "    def singular_label(self):\n",
    "        # get items which field is string and not \"\"\n",
    "        items = {\n",
    "            key: self.pulse.get(key)\n",
    "            for key in self.SINGULAR_PARTS\n",
    "            if self.pulse.get(key) != \"\"\n",
    "        }.items()\n",
    "        # make label\n",
    "        label = (\n",
    "            seq(items)\n",
    "            .starmap(lambda key, value: (value, key))\n",
    "            .starmap(lambda string, key: (string, self.PulseLabel(key, 0, None)))\n",
    "        )\n",
    "        return label.to_dict()\n",
    "\n",
    "    @property\n",
    "    def plrual_label(self):\n",
    "        # get items which field is list and not []\n",
    "        items = {\n",
    "            key: self.pulse.get(key)\n",
    "            for key in self.PLRUAL_PARTS\n",
    "            if self.pulse.get(key) != []\n",
    "        }.items()\n",
    "\n",
    "        # key name replacements\n",
    "        substitution = {\n",
    "            \"tags\": \"tag\",\n",
    "            \"targeted_countries\": \"targeted_country\",\n",
    "            \"malware_families\": \"malware_family\",\n",
    "            \"attack_ids\": \"attack_id\",\n",
    "            \"industries\": \"industry\",\n",
    "        }\n",
    "        # make label\n",
    "        label = (\n",
    "            seq(items)\n",
    "            .starmap(lambda key, values: product(values, [key]))\n",
    "            .flatten()\n",
    "            .starmap(\n",
    "                lambda string, key: (\n",
    "                    string,\n",
    "                    self.PulseLabel(substitution.get(key), 0, None),\n",
    "                )\n",
    "            )\n",
    "        )\n",
    "        return label.to_dict()\n",
    "\n",
    "    def get_label(self):\n",
    "        return ChainMap(self.singular_label, self.plrual_label)"
   ]
  },
  {
   "cell_type": "code",
   "execution_count": 8,
   "id": "f0944986-1d93-43c5-bcea-ef77021ac74d",
   "metadata": {},
   "outputs": [],
   "source": [
    "class IndicatorLabelGenerator(object):\n",
    "\n",
    "    IndicatorLabel = namedtuple(\"IndicatorLabel\", [\"category\", \"group\", \"role\"])\n",
    "\n",
    "    def __init__(self, indicators):\n",
    "        self.indicators = indicators\n",
    "\n",
    "    @property\n",
    "    def enumerated_indicators(self):\n",
    "        # enumerate from 1, to distinguish with pulse\n",
    "        indicators = enumerate(self.indicators, 1)\n",
    "        return indicators\n",
    "\n",
    "    @staticmethod\n",
    "    def extract(index, indicator):\n",
    "\n",
    "        # extract from feed's indicator part, lazy but nasty\n",
    "        extractions = (\n",
    "            (\n",
    "                (indicator.get(\"content\"), (indicator.get(\"type\"), index, \"rule\"))\n",
    "                if indicator.get(\"content\").startswith(\"rule\")\n",
    "                and indicator.get(\"type\") is \"YARA\"\n",
    "                else (\n",
    "                    indicator.get(\"indicator\"),\n",
    "                    (indicator.get(\"type\"), index, indicator.get(\"role\")),\n",
    "                )\n",
    "            ),\n",
    "            (indicator.get(\"title\"), (\"title\", index, None)),\n",
    "            (indicator.get(\"description\"), (\"description\", index, None)),\n",
    "        )\n",
    "\n",
    "        return extractions\n",
    "\n",
    "    def get_label(self):\n",
    "\n",
    "        label = (\n",
    "            seq(self.enumerated_indicators)\n",
    "            .starmap(lambda index, indicator: (self.extract(index, indicator)))\n",
    "            .flatten()\n",
    "            .starmap(\n",
    "                lambda string, extraction: (\n",
    "                    string,\n",
    "                    self.IndicatorLabel(*extraction),\n",
    "                )  # formatting with namedtuple\n",
    "            )\n",
    "            .filter(\n",
    "                lambda label: label[0] is not \"\"\n",
    "            )  # if string is not existed, drop out\n",
    "        )\n",
    "\n",
    "        return label.to_dict()"
   ]
  },
  {
   "cell_type": "code",
   "execution_count": 9,
   "id": "222698ef-2dc1-4bb8-970b-edfa82a81ccb",
   "metadata": {},
   "outputs": [],
   "source": [
    "class FeedLabeler(object):\n",
    "\n",
    "    PULSE = [\n",
    "        \"name\",  # pulse.name\n",
    "        \"description\",  # pulse.description\n",
    "        \"adversary\",  # pulse.adversary\n",
    "        \"tags\",  # pulse.tags\n",
    "        \"targeted_countries\",  # pulse.targeted_countries\n",
    "        \"malware_families\",  # pulse.malware_families\n",
    "        \"attack_ids\",  # pulse.attack_ids\n",
    "        \"industries\",  # pulse.industries\n",
    "    ]\n",
    "\n",
    "    class MatchThreshold(Enum):\n",
    "        exactly_match = 1\n",
    "        fuzzy_match = 0.9\n",
    "\n",
    "    def __init__(self, feed):\n",
    "        self.feed = feed\n",
    "\n",
    "    @property\n",
    "    def pulse_label(self):\n",
    "        pulse = {key: self.feed.get(key) for key in self.PULSE}\n",
    "        label_processor = PulseLabelGenerator(pulse)\n",
    "        return label_processor.get_label()\n",
    "\n",
    "    @property\n",
    "    def indicator_label(self):\n",
    "        indicators = self.feed.get(\"indicators\")\n",
    "        label_processor = IndicatorLabelGenerator(indicators)\n",
    "        return label_processor.get_label()\n",
    "\n",
    "    @property\n",
    "    @lru_cache()\n",
    "    def label(self):\n",
    "        return ChainMap(self.pulse_label, self.indicator_label)\n",
    "\n",
    "    def match(self, string, method=\"fuzzy_match\"):\n",
    "        # match\n",
    "        matchings = (\n",
    "            seq(self.label.items())\n",
    "            .starmap(lambda k, v: (jaro.normalized_similarity(k, string), v))\n",
    "            .filter(\n",
    "                lambda similar_string: similar_string[0]\n",
    "                >= self.MatchThreshold[method].value\n",
    "            )\n",
    "            .sorted(lambda similar_string: similar_string[0], reverse=True)\n",
    "            .cache()\n",
    "        )\n",
    "\n",
    "        if matchings.empty():\n",
    "            label = None\n",
    "        else:\n",
    "            label = matchings.starmap(lambda similarity, label: label).first()\n",
    "\n",
    "        return label"
   ]
  },
  {
   "cell_type": "code",
   "execution_count": 10,
   "id": "7abe7b42-8e98-45eb-ae68-9a40e4ad5fa5",
   "metadata": {},
   "outputs": [
    {
     "data": {
      "text/plain": [
       "ChainMap(ChainMap({'HelloKitty Ransomware Lacks Stealth, But Still Strikes Home': PulseLabel(category='name', group=0, role=None), 'HelloKitty is a ransomware family that emerged in late 2020. While it lacks the sophistication of some of the more well-known families such as Ryuk, REvil, and Conti, it has nevertheless struck some notable targets, including CEMIG0. In this post, Sentinel Labs analyzes a recent HelloKitty sample and outlines the basic behaviors and traits associated with this family of ransomware.': PulseLabel(category='description', group=0, role=None)}, {'HelloKitty': PulseLabel(category='tag', group=0, role=None), 'Ransomware': PulseLabel(category='tag', group=0, role=None), 'HelloKitty Ransomware': PulseLabel(category='malware_family', group=0, role=None), 'Win32:HelloKitty': PulseLabel(category='malware_family', group=0, role=None), 'Ransom.HelloKitty': PulseLabel(category='malware_family', group=0, role=None), 'T1005': PulseLabel(category='attack_id', group=0, role=None), 'T1012': PulseLabel(category='attack_id', group=0, role=None), 'T1047': PulseLabel(category='attack_id', group=0, role=None), 'T1082': PulseLabel(category='attack_id', group=0, role=None), 'T1112': PulseLabel(category='attack_id', group=0, role=None), 'T1486': PulseLabel(category='attack_id', group=0, role=None), 'T1059.003': PulseLabel(category='attack_id', group=0, role=None), 'T1070.004': PulseLabel(category='attack_id', group=0, role=None)}), {'136bd70f7aa98f52861879d7dca03cf2': IndicatorLabel(category='FileHash-MD5', group=1, role=None), 'Ransom:Win32/Death.DB!MTB': IndicatorLabel(category='title', group=3, role=None), 'MD5 of fadd8d7c13a18c251ded1f645ffea18a37f1c2de': IndicatorLabel(category='description', group=1, role=None), '501487b025f25ddf1ca32deb57a2b4db43ccf6635c1edc74b9cff54ce0e5bcfe': IndicatorLabel(category='FileHash-SHA256', group=2, role=None), 'SHA256 of fadd8d7c13a18c251ded1f645ffea18a37f1c2de': IndicatorLabel(category='description', group=2, role=None), 'fadd8d7c13a18c251ded1f645ffea18a37f1c2de': IndicatorLabel(category='FileHash-SHA1', group=3, role=None), '6x7dp6h3w6q3ugjv4yv5gycj3femb24kysgry5b44hhgfwc5ml5qrdad.onion': IndicatorLabel(category='domain', group=4, role=None)})"
      ]
     },
     "execution_count": 10,
     "metadata": {},
     "output_type": "execute_result"
    }
   ],
   "source": [
    "FeedLabeler(feed).label"
   ]
  },
  {
   "cell_type": "code",
   "execution_count": 11,
   "id": "575e1823-48ed-4e16-ae36-da2fa6a8d949",
   "metadata": {},
   "outputs": [
    {
     "data": {
      "text/plain": [
       "IndicatorLabel(category='domain', group=4, role=None)"
      ]
     },
     "execution_count": 11,
     "metadata": {},
     "output_type": "execute_result"
    }
   ],
   "source": [
    "FeedLabeler(feed).match(\"6x7dp6h3w6q3ugjv4yv5gycj3femb24kysgry5b44hhgfwc5ml5qrdad\")"
   ]
  },
  {
   "cell_type": "markdown",
   "id": "b77f7815-b9ac-4789-aedf-d5b2d8512f61",
   "metadata": {},
   "source": [
    "---"
   ]
  },
  {
   "cell_type": "code",
   "execution_count": 12,
   "id": "8fa69b60-bdc6-4dd2-970f-21732fd3a732",
   "metadata": {},
   "outputs": [],
   "source": [
    "import sys\n",
    "\n",
    "sys.path.append(\"../\")"
   ]
  },
  {
   "cell_type": "code",
   "execution_count": 13,
   "id": "22d1239a-c3f7-4843-aaaf-ce6c051fabff",
   "metadata": {},
   "outputs": [],
   "source": [
    "from magpie.src.label import PulseLabelGenerator, IndicatorLabelGenerator\n",
    "from magpie.src.labeler import FeedLabeler, ElementLabeler\n",
    "\n",
    "from functional import seq"
   ]
  },
  {
   "cell_type": "code",
   "execution_count": 14,
   "id": "beffc016-deaf-40a8-a621-441c908cd239",
   "metadata": {},
   "outputs": [],
   "source": [
    "feed = seq.json(\"../data/hellokitty.feeds.json\").to_dict()\n",
    "# feed = seq.json(\"../data/hafnium.feeds.json\").to_dict()"
   ]
  },
  {
   "cell_type": "code",
   "execution_count": 15,
   "id": "7a78797a-52a8-4497-8083-2eb077290c98",
   "metadata": {},
   "outputs": [],
   "source": [
    "feed_labeler = FeedLabeler(feed)"
   ]
  },
  {
   "cell_type": "code",
   "execution_count": 16,
   "id": "4b04ad10-935c-48a3-a9c9-e48df03d5238",
   "metadata": {},
   "outputs": [
    {
     "data": {
      "text/plain": [
       "IndicatorLabel(category='domain', group=4, role=None)"
      ]
     },
     "execution_count": 16,
     "metadata": {},
     "output_type": "execute_result"
    }
   ],
   "source": [
    "feed_labeler.match_label(\"6x7dp6h3w6q3ugjv4yv5gycj3femb24kysgry5b44hhgfwc5ml5qrdad\")"
   ]
  },
  {
   "cell_type": "code",
   "execution_count": 17,
   "id": "f1c550f9-0a57-4b02-b546-ab2dff3ef8c0",
   "metadata": {},
   "outputs": [
    {
     "data": {
      "text/plain": [
       "ChainMap(ChainMap({'HelloKitty Ransomware Lacks Stealth, But Still Strikes Home': PulseLabel(category='name', group=0, role=None), 'HelloKitty is a ransomware family that emerged in late 2020. While it lacks the sophistication of some of the more well-known families such as Ryuk, REvil, and Conti, it has nevertheless struck some notable targets, including CEMIG0. In this post, Sentinel Labs analyzes a recent HelloKitty sample and outlines the basic behaviors and traits associated with this family of ransomware.': PulseLabel(category='description', group=0, role=None)}, {'HelloKitty': PulseLabel(category='tag', group=0, role=None), 'Ransomware': PulseLabel(category='tag', group=0, role=None), 'HelloKitty Ransomware': PulseLabel(category='malware_family', group=0, role=None), 'Win32:HelloKitty': PulseLabel(category='malware_family', group=0, role=None), 'Ransom.HelloKitty': PulseLabel(category='malware_family', group=0, role=None), 'T1005': PulseLabel(category='attack_id', group=0, role=None), 'T1012': PulseLabel(category='attack_id', group=0, role=None), 'T1047': PulseLabel(category='attack_id', group=0, role=None), 'T1082': PulseLabel(category='attack_id', group=0, role=None), 'T1112': PulseLabel(category='attack_id', group=0, role=None), 'T1486': PulseLabel(category='attack_id', group=0, role=None), 'T1059.003': PulseLabel(category='attack_id', group=0, role=None), 'T1070.004': PulseLabel(category='attack_id', group=0, role=None)}), {'136bd70f7aa98f52861879d7dca03cf2': IndicatorLabel(category='FileHash-MD5', group=1, role=None), 'Ransom:Win32/Death.DB!MTB': IndicatorLabel(category='title', group=3, role=None), 'MD5 of fadd8d7c13a18c251ded1f645ffea18a37f1c2de': IndicatorLabel(category='description', group=1, role=None), '501487b025f25ddf1ca32deb57a2b4db43ccf6635c1edc74b9cff54ce0e5bcfe': IndicatorLabel(category='FileHash-SHA256', group=2, role=None), 'SHA256 of fadd8d7c13a18c251ded1f645ffea18a37f1c2de': IndicatorLabel(category='description', group=2, role=None), 'fadd8d7c13a18c251ded1f645ffea18a37f1c2de': IndicatorLabel(category='FileHash-SHA1', group=3, role=None), '6x7dp6h3w6q3ugjv4yv5gycj3femb24kysgry5b44hhgfwc5ml5qrdad.onion': IndicatorLabel(category='domain', group=4, role=None)})"
      ]
     },
     "execution_count": 17,
     "metadata": {},
     "output_type": "execute_result"
    }
   ],
   "source": [
    "feed_labeler.label"
   ]
  },
  {
   "cell_type": "markdown",
   "id": "6730070a-45c4-4681-8184-482fa40cd292",
   "metadata": {},
   "source": [
    "---"
   ]
  },
  {
   "cell_type": "code",
   "execution_count": 18,
   "id": "51712f09-3da9-49ce-98f3-4c56d152a4c0",
   "metadata": {},
   "outputs": [],
   "source": [
    "from magpie.src.analyzer import HTMLElementAnalyzer\n",
    "from magpie.src.extractor import ContentExtractor\n",
    "from magpie.src.parser import EntityParser"
   ]
  },
  {
   "cell_type": "code",
   "execution_count": 19,
   "id": "81ec2f82-7859-4bdc-b1e4-d8fd6dbf7f6b",
   "metadata": {},
   "outputs": [],
   "source": [
    "document = open(\n",
    "    \"../data/hellokitty-ransomware-lacks-stealth-but-still-strikes-home.html\",\n",
    "    # \"../data/hafnium-targeting-exchange-servers.html\",\n",
    "    \"r\",\n",
    ").read()"
   ]
  },
  {
   "cell_type": "code",
   "execution_count": 20,
   "id": "2c24e87d-5b33-4c7f-b79f-2d61e1c9ad9f",
   "metadata": {},
   "outputs": [],
   "source": [
    "analyzer = HTMLElementAnalyzer(document)\n",
    "extractor = ContentExtractor()\n",
    "parser = EntityParser(analyzer.keywords)"
   ]
  },
  {
   "cell_type": "code",
   "execution_count": 21,
   "id": "02a91892-10f4-4b24-9415-962451d7afee",
   "metadata": {},
   "outputs": [],
   "source": [
    "element_labeler = ElementLabeler(\n",
    "    analyzer.primary_subtree_leafs,\n",
    "    content_extractor=extractor,\n",
    "    entity_parser=parser,\n",
    "    feed_labeler=feed_labeler,\n",
    ")"
   ]
  },
  {
   "cell_type": "markdown",
   "id": "70aeadf5-159d-4556-a46e-e282789ff293",
   "metadata": {},
   "source": [
    "---"
   ]
  },
  {
   "cell_type": "code",
   "execution_count": 22,
   "id": "8b92c768-58ea-4a66-bf8f-5eb3ffa85c2b",
   "metadata": {},
   "outputs": [],
   "source": [
    "from itertools import product\n",
    "\n",
    "product_by_contents = lambda element: product(\n",
    "    [element], extractor.get_contents(element)\n",
    ")\n",
    "\n",
    "product_by_entities = lambda element, content: product(\n",
    "    [element], [content], parser.iterscan(content)\n",
    ")"
   ]
  },
  {
   "cell_type": "code",
   "execution_count": 23,
   "id": "6f679c28-7947-4c89-8054-171e19a492e9",
   "metadata": {},
   "outputs": [
    {
     "data": {
      "text/html": [
       "<table>\n",
       "<tbody>\n",
       "<tr><td>HelloKitty Ransomware Lacks Stealth, But Still Strikes Home                                                                                                                                                                                                                                                                                                                        </td><td>               </td><td>&lt;Element h1 at 0x12b04ab48&gt;  </td><td>text</td><td>(49, 108)</td><td>(0, 59) </td><td>PulseLabel(category=&#x27;name&#x27;, group=0, role=None)               </td></tr>\n",
       "<tr><td>HelloKitty is a ransomware family that emerged in late 2020. While it lacks the sophistication of some of the more well-known families such as Ryuk, REvil, and Conti, it has nevertheless struck some notable targets, including CEMIG0. In this post, we analyse a recent HelloKitty sample and outline the basic behaviors and traits associated with this family of ransomware.</td><td>               </td><td>&lt;Element p at 0x12b04b048&gt;   </td><td>text</td><td>(3, 374) </td><td>(0, 371)</td><td>PulseLabel(category=&#x27;description&#x27;, group=0, role=None)        </td></tr>\n",
       "<tr><td>6x7dp6h3w6q3ugjv4yv5gycj3femb24kysgry5b44hhgfwc5ml5qrdad.onion                                                                                                                                                                                                                                                                                                                     </td><td>domain         </td><td>&lt;Element code at 0x12b04b908&gt;</td><td>text</td><td>(6, 68)  </td><td>(0, 62) </td><td>IndicatorLabel(category=&#x27;domain&#x27;, group=4, role=None)         </td></tr>\n",
       "<tr><td>fadd8d7c13a18c251ded1f645ffea18a37f1c2de                                                                                                                                                                                                                                                                                                                                           </td><td>FileHash-SHA1  </td><td>&lt;Element br at 0x12b04bb08&gt;  </td><td>tail</td><td>(5, 46)  </td><td>(1, 41) </td><td>IndicatorLabel(category=&#x27;FileHash-SHA1&#x27;, group=3, role=None)  </td></tr>\n",
       "<tr><td>501487b025f25ddf1ca32deb57a2b4db43ccf6635c1edc74b9cff54ce0e5bcfe                                                                                                                                                                                                                                                                                                                   </td><td>FileHash-SHA256</td><td>&lt;Element br at 0x12b04bbc8&gt;  </td><td>tail</td><td>(5, 70)  </td><td>(1, 65) </td><td>IndicatorLabel(category=&#x27;FileHash-SHA256&#x27;, group=2, role=None)</td></tr>\n",
       "<tr><td>T1005                                                                                                                                                                                                                                                                                                                                                                              </td><td>AttackTechnique</td><td>&lt;Element a at 0x12b04bcc8&gt;   </td><td>text</td><td>(45, 50) </td><td>(0, 5)  </td><td>PulseLabel(category=&#x27;attack_id&#x27;, group=0, role=None)          </td></tr>\n",
       "<tr><td>T1112                                                                                                                                                                                                                                                                                                                                                                              </td><td>AttackTechnique</td><td>&lt;Element a at 0x12b04bd48&gt;   </td><td>text</td><td>(45, 50) </td><td>(0, 5)  </td><td>PulseLabel(category=&#x27;attack_id&#x27;, group=0, role=None)          </td></tr>\n",
       "<tr><td>T1012                                                                                                                                                                                                                                                                                                                                                                              </td><td>AttackTechnique</td><td>&lt;Element a at 0x12b04bdc8&gt;   </td><td>text</td><td>(45, 50) </td><td>(0, 5)  </td><td>PulseLabel(category=&#x27;attack_id&#x27;, group=0, role=None)          </td></tr>\n",
       "<tr><td>T1082                                                                                                                                                                                                                                                                                                                                                                              </td><td>AttackTechnique</td><td>&lt;Element a at 0x12b04be48&gt;   </td><td>text</td><td>(45, 50) </td><td>(0, 5)  </td><td>PulseLabel(category=&#x27;attack_id&#x27;, group=0, role=None)          </td></tr>\n",
       "<tr><td>T1486                                                                                                                                                                                                                                                                                                                                                                              </td><td>AttackTechnique</td><td>&lt;Element a at 0x12b04bec8&gt;   </td><td>text</td><td>(45, 50) </td><td>(0, 5)  </td><td>PulseLabel(category=&#x27;attack_id&#x27;, group=0, role=None)          </td></tr>\n",
       "</tbody>\n",
       "</table><p>Showing 10 of 16 rows"
      ],
      "text/plain": [
       "[('HelloKitty Ransomware Lacks Stealth, But Still Strikes Home', None, <Element h1 at 0x12b04ab48>, 'text', (49, 108), (0, 59), PulseLabel(category='name', group=0, role=None)), ('HelloKitty is a ransomware family that emerged in late 2020. While it lacks the sophistication of some of the more well-known families such as Ryuk, REvil, and Conti, it has nevertheless struck some notable targets, including CEMIG0. In this post, we analyse a recent HelloKitty sample and outline the basic behaviors and traits associated with this family of ransomware.', None, <Element p at 0x12b04b048>, 'text', (3, 374), (0, 371), PulseLabel(category='description', group=0, role=None)), ('6x7dp6h3w6q3ugjv4yv5gycj3femb24kysgry5b44hhgfwc5ml5qrdad.onion', 'domain', <Element code at 0x12b04b908>, 'text', (6, 68), (0, 62), IndicatorLabel(category='domain', group=4, role=None)), ('fadd8d7c13a18c251ded1f645ffea18a37f1c2de', 'FileHash-SHA1', <Element br at 0x12b04bb08>, 'tail', (5, 46), (1, 41), IndicatorLabel(category='FileHash-SHA1', group=3, role=None)), ('501487b025f25ddf1ca32deb57a2b4db43ccf6635c1edc74b9cff54ce0e5bcfe', 'FileHash-SHA256', <Element br at 0x12b04bbc8>, 'tail', (5, 70), (1, 65), IndicatorLabel(category='FileHash-SHA256', group=2, role=None)), ('T1005', 'AttackTechnique', <Element a at 0x12b04bcc8>, 'text', (45, 50), (0, 5), PulseLabel(category='attack_id', group=0, role=None)), ('T1112', 'AttackTechnique', <Element a at 0x12b04bd48>, 'text', (45, 50), (0, 5), PulseLabel(category='attack_id', group=0, role=None)), ('T1012', 'AttackTechnique', <Element a at 0x12b04bdc8>, 'text', (45, 50), (0, 5), PulseLabel(category='attack_id', group=0, role=None)), ('T1082', 'AttackTechnique', <Element a at 0x12b04be48>, 'text', (45, 50), (0, 5), PulseLabel(category='attack_id', group=0, role=None)), ('T1486', 'AttackTechnique', <Element a at 0x12b04bec8>, 'text', (45, 50), (0, 5), PulseLabel(category='attack_id', group=0, role=None)), ('T1070.004', 'AttackTechnique', <Element a at 0x12b04bf48>, 'text', (99, 108), (0, 9), PulseLabel(category='attack_id', group=0, role=None)), ('T1059.003', 'AttackTechnique', <Element a at 0x12b04bfc8>, 'text', (99, 108), (0, 9), PulseLabel(category='attack_id', group=0, role=None)), ('T1047', 'AttackTechnique', <Element a at 0x12b04d088>, 'text', (45, 50), (0, 5), PulseLabel(category='attack_id', group=0, role=None)), ('Ransomware', None, <Element a at 0x12b04d208>, 'text', (65, 75), (0, 10), PulseLabel(category='tag', group=0, role=None)), ('#HelloKitty', None, <Element a at 0x12b04fc48>, 'text', (64, 75), (0, 11), PulseLabel(category='tag', group=0, role=None)), ('HelloKitty Ransomware Lacks Stealth, But Still Strikes Home', None, <Element a at 0x12b0508c8>, 'text', (99, 158), (0, 59), PulseLabel(category='name', group=0, role=None))]"
      ]
     },
     "execution_count": 23,
     "metadata": {},
     "output_type": "execute_result"
    }
   ],
   "source": [
    "seq(analyzer.primary_subtree_leafs).map(product_by_contents).flatten().starmap(\n",
    "    product_by_entities\n",
    ").flatten().starmap(\n",
    "    lambda element, content, text: (\n",
    "        text.string,\n",
    "        text.entity,\n",
    "        # element.sourceline,\n",
    "        element,\n",
    "        content.property,\n",
    "        content.span,\n",
    "        text.span,\n",
    "    )\n",
    ").starmap(\n",
    "    lambda string, entity, element, prop, content_span, text_span: (\n",
    "        string,\n",
    "        entity,\n",
    "        element,\n",
    "        prop,\n",
    "        content_span,\n",
    "        text_span,\n",
    "        element_labeler.match_label(element)\n",
    "        if element_labeler.match_label(element) is not None\n",
    "        else feed_labeler.match_label(string, method=\"fuzzy_match\"),\n",
    "    )\n",
    ").distinct().filter(\n",
    "    lambda x: x[6] != None\n",
    ")"
   ]
  },
  {
   "cell_type": "markdown",
   "id": "3128e12e-2eb7-47b3-a81d-f39e382dc53c",
   "metadata": {},
   "source": [
    "---"
   ]
  }
 ],
 "metadata": {
  "kernelspec": {
   "display_name": "magpie-j27h1SjX-py3.6",
   "language": "python",
   "name": "magpie-j27h1sjx-py3.6"
  },
  "language_info": {
   "codemirror_mode": {
    "name": "ipython",
    "version": 3
   },
   "file_extension": ".py",
   "mimetype": "text/x-python",
   "name": "python",
   "nbconvert_exporter": "python",
   "pygments_lexer": "ipython3",
   "version": "3.6.10"
  }
 },
 "nbformat": 4,
 "nbformat_minor": 5
}
