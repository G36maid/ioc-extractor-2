{
 "cells": [
  {
   "cell_type": "code",
   "execution_count": 1,
   "metadata": {
    "ExecuteTime": {
     "end_time": "2021-08-31T03:54:48.863510Z",
     "start_time": "2021-08-31T03:54:48.670140Z"
    }
   },
   "outputs": [
    {
     "data": {
      "application/javascript": "\n            setTimeout(function() {\n                var nbb_cell_id = 1;\n                var nbb_unformatted_code = \"%load_ext nb_black\";\n                var nbb_formatted_code = \"%load_ext nb_black\";\n                var nbb_cells = Jupyter.notebook.get_cells();\n                for (var i = 0; i < nbb_cells.length; ++i) {\n                    if (nbb_cells[i].input_prompt_number == nbb_cell_id) {\n                        if (nbb_cells[i].get_text() == nbb_unformatted_code) {\n                             nbb_cells[i].set_text(nbb_formatted_code);\n                        }\n                        break;\n                    }\n                }\n            }, 500);\n            ",
      "text/plain": [
       "<IPython.core.display.Javascript object>"
      ]
     },
     "metadata": {},
     "output_type": "display_data"
    }
   ],
   "source": [
    "%load_ext nb_black"
   ]
  },
  {
   "cell_type": "code",
   "execution_count": 2,
   "metadata": {
    "ExecuteTime": {
     "end_time": "2021-08-31T03:54:49.853801Z",
     "start_time": "2021-08-31T03:54:49.835954Z"
    }
   },
   "outputs": [
    {
     "data": {
      "application/javascript": "\n            setTimeout(function() {\n                var nbb_cell_id = 2;\n                var nbb_unformatted_code = \"import sys\\n\\nsys.path.append(\\\"../\\\")\";\n                var nbb_formatted_code = \"import sys\\n\\nsys.path.append(\\\"../\\\")\";\n                var nbb_cells = Jupyter.notebook.get_cells();\n                for (var i = 0; i < nbb_cells.length; ++i) {\n                    if (nbb_cells[i].input_prompt_number == nbb_cell_id) {\n                        if (nbb_cells[i].get_text() == nbb_unformatted_code) {\n                             nbb_cells[i].set_text(nbb_formatted_code);\n                        }\n                        break;\n                    }\n                }\n            }, 500);\n            ",
      "text/plain": [
       "<IPython.core.display.Javascript object>"
      ]
     },
     "metadata": {},
     "output_type": "display_data"
    }
   ],
   "source": [
    "import sys\n",
    "\n",
    "sys.path.append(\"../\")"
   ]
  },
  {
   "cell_type": "code",
   "execution_count": 3,
   "metadata": {
    "ExecuteTime": {
     "end_time": "2021-08-31T03:54:52.615228Z",
     "start_time": "2021-08-31T03:54:50.401330Z"
    }
   },
   "outputs": [
    {
     "data": {
      "application/javascript": "\n            setTimeout(function() {\n                var nbb_cell_id = 3;\n                var nbb_unformatted_code = \"from lxml import etree\\nfrom magpie.src.analyzer import HTMLElementAnalyzer\\nfrom magpie.src.extractor import ContentExtractor\\nfrom magpie.src.parser import EntityParser\\nfrom functional import seq, pseq\";\n                var nbb_formatted_code = \"from lxml import etree\\nfrom magpie.src.analyzer import HTMLElementAnalyzer\\nfrom magpie.src.extractor import ContentExtractor\\nfrom magpie.src.parser import EntityParser\\nfrom functional import seq, pseq\";\n                var nbb_cells = Jupyter.notebook.get_cells();\n                for (var i = 0; i < nbb_cells.length; ++i) {\n                    if (nbb_cells[i].input_prompt_number == nbb_cell_id) {\n                        if (nbb_cells[i].get_text() == nbb_unformatted_code) {\n                             nbb_cells[i].set_text(nbb_formatted_code);\n                        }\n                        break;\n                    }\n                }\n            }, 500);\n            ",
      "text/plain": [
       "<IPython.core.display.Javascript object>"
      ]
     },
     "metadata": {},
     "output_type": "display_data"
    }
   ],
   "source": [
    "from lxml import etree\n",
    "from magpie.src.analyzer import HTMLElementAnalyzer\n",
    "from magpie.src.extractor import ContentExtractor\n",
    "from magpie.src.parser import EntityParser\n",
    "from functional import seq, pseq"
   ]
  },
  {
   "cell_type": "code",
   "execution_count": 4,
   "metadata": {
    "ExecuteTime": {
     "end_time": "2021-08-31T03:54:53.140515Z",
     "start_time": "2021-08-31T03:54:53.119722Z"
    }
   },
   "outputs": [
    {
     "data": {
      "application/javascript": "\n            setTimeout(function() {\n                var nbb_cell_id = 4;\n                var nbb_unformatted_code = \"document = open(\\n    \\\"../data/hellokitty-ransomware-lacks-stealth-but-still-strikes-home.html\\\",\\n    # \\\"../data/hafnium-targeting-exchange-servers.html\\\",\\n    \\\"r\\\",\\n).read()\";\n                var nbb_formatted_code = \"document = open(\\n    \\\"../data/hellokitty-ransomware-lacks-stealth-but-still-strikes-home.html\\\",\\n    # \\\"../data/hafnium-targeting-exchange-servers.html\\\",\\n    \\\"r\\\",\\n).read()\";\n                var nbb_cells = Jupyter.notebook.get_cells();\n                for (var i = 0; i < nbb_cells.length; ++i) {\n                    if (nbb_cells[i].input_prompt_number == nbb_cell_id) {\n                        if (nbb_cells[i].get_text() == nbb_unformatted_code) {\n                             nbb_cells[i].set_text(nbb_formatted_code);\n                        }\n                        break;\n                    }\n                }\n            }, 500);\n            ",
      "text/plain": [
       "<IPython.core.display.Javascript object>"
      ]
     },
     "metadata": {},
     "output_type": "display_data"
    }
   ],
   "source": [
    "document = open(\n",
    "    \"../data/hellokitty-ransomware-lacks-stealth-but-still-strikes-home.html\",\n",
    "    # \"../data/hafnium-targeting-exchange-servers.html\",\n",
    "    \"r\",\n",
    ").read()"
   ]
  },
  {
   "cell_type": "code",
   "execution_count": 5,
   "metadata": {
    "ExecuteTime": {
     "end_time": "2021-08-31T03:54:53.575377Z",
     "start_time": "2021-08-31T03:54:53.551999Z"
    }
   },
   "outputs": [
    {
     "data": {
      "application/javascript": "\n            setTimeout(function() {\n                var nbb_cell_id = 5;\n                var nbb_unformatted_code = \"analyzer = HTMLElementAnalyzer(document)\";\n                var nbb_formatted_code = \"analyzer = HTMLElementAnalyzer(document)\";\n                var nbb_cells = Jupyter.notebook.get_cells();\n                for (var i = 0; i < nbb_cells.length; ++i) {\n                    if (nbb_cells[i].input_prompt_number == nbb_cell_id) {\n                        if (nbb_cells[i].get_text() == nbb_unformatted_code) {\n                             nbb_cells[i].set_text(nbb_formatted_code);\n                        }\n                        break;\n                    }\n                }\n            }, 500);\n            ",
      "text/plain": [
       "<IPython.core.display.Javascript object>"
      ]
     },
     "metadata": {},
     "output_type": "display_data"
    }
   ],
   "source": [
    "analyzer = HTMLElementAnalyzer(document)"
   ]
  },
  {
   "cell_type": "code",
   "execution_count": 6,
   "metadata": {
    "ExecuteTime": {
     "end_time": "2021-08-31T03:54:57.332459Z",
     "start_time": "2021-08-31T03:54:56.327327Z"
    }
   },
   "outputs": [
    {
     "data": {
      "text/html": [
       "<table>\n",
       "<tbody>\n",
       "<tr><td>&lt;Element a at 0x1296af848&gt;   </td><td>[Content(property=&#x27;text&#x27;, text=&#x27;Crimeware&#x27;, span=(78, 87))]                                                                                                                                                                                                                                                                                                                                                                                                                                </td></tr>\n",
       "<tr><td>&lt;Element h1 at 0x1296af888&gt;  </td><td>[Content(property=&#x27;text&#x27;, text=&#x27;HelloKitty Ransomware Lacks Stealth, But Still Strikes Home&#x27;, span=(49, 108)), Content(property=&#x27;tail&#x27;, text=&#x27;\\n\\t\\t&#x27;, span=(113, 116))]                                                                                                                                                                                                                                                                                                                   </td></tr>\n",
       "<tr><td>&lt;Element a at 0x1296afa48&gt;   </td><td>[Content(property=&#x27;text&#x27;, text=&#x27;Jim Walter&#x27;, span=(69, 79))]                                                                                                                                                                                                                                                                                                                                                                                                                               </td></tr>\n",
       "<tr><td>&lt;Element time at 0x1296afb88&gt;</td><td>[Content(property=&#x27;text&#x27;, text=&#x27;March 8, 2021&#x27;, span=(97, 110))]                                                                                                                                                                                                                                                                                                                                                                                                                           </td></tr>\n",
       "<tr><td>&lt;Element time at 0x1296afbc8&gt;</td><td>[Content(property=&#x27;text&#x27;, text=&#x27;March 11, 2021&#x27;, span=(59, 73))]                                                                                                                                                                                                                                                                                                                                                                                                                           </td></tr>\n",
       "<tr><td>&lt;Element p at 0x1296afc48&gt;   </td><td>[Content(property=&#x27;text&#x27;, text=&#x27;Game studio CD Projekt Red recently &#x27;, span=(3, 39)), Content(property=&#x27;tail&#x27;, text=&#x27;\\n&#x27;, span=(373, 374))]                                                                                                                                                                                                                                                                                                                                                </td></tr>\n",
       "<tr><td>&lt;Element a at 0x1296afc88&gt;   </td><td>[Content(property=&#x27;text&#x27;, text=&#x27;disclosed&#x27;, span=(120, 129)), Content(property=&#x27;tail&#x27;, text=&#x27; that it became a victim of a targeted, highly-impactful ransomware. In the days following the disclosure, it was revealed that the ransomware family most likely behind the attack was “HelloKitty”.&#x27;, span=(133, 330))]                                                                                                                                                                     </td></tr>\n",
       "<tr><td>&lt;Element p at 0x1296afd48&gt;   </td><td>[Content(property=&#x27;text&#x27;, text=&#x27;HelloKitty is a ransomware family that emerged in late 2020. While it lacks the sophistication of some of the more well-known families such as Ryuk, REvil, and Conti, it has nevertheless struck some notable targets, including CEMIG0. In this post, we analyse a recent HelloKitty sample and outline the basic behaviors and traits associated with this family of ransomware.&#x27;, span=(3, 374)), Content(property=&#x27;tail&#x27;, text=&#x27;\\n&#x27;, span=(378, 379))]</td></tr>\n",
       "<tr><td>&lt;Element h2 at 0x1296afd88&gt;  </td><td>[Content(property=&#x27;text&#x27;, text=&#x27;Execution and Behavior&#x27;, span=(4, 26)), Content(property=&#x27;tail&#x27;, text=&#x27;\\n&#x27;, span=(31, 32))]                                                                                                                                                                                                                                                                                                                                                                </td></tr>\n",
       "<tr><td>&lt;Element p at 0x1296afdc8&gt;   </td><td>[Content(property=&#x27;text&#x27;, text=&#x27;The “HelloKitty” name is based on internal mutex names, which are apparent upon execution.&#x27;, span=(3, 93)), Content(property=&#x27;tail&#x27;, text=&#x27;\\n&#x27;, span=(97, 98))]                                                                                                                                                                                                                                                                                            </td></tr>\n",
       "</tbody>\n",
       "</table><p>Showing 10 of 120 rows"
      ],
      "text/plain": [
       "[(<Element a at 0x1296af848>, [Content(property='text', text='Crimeware', span=(78, 87))]), (<Element h1 at 0x1296af888>, [Content(property='text', text='HelloKitty Ransomware Lacks Stealth, But Still Strikes Home', span=(49, 108)), Content(property='tail', text='\\n\\t\\t', span=(113, 116))]), (<Element a at 0x1296afa48>, [Content(property='text', text='Jim Walter', span=(69, 79))]), (<Element time at 0x1296afb88>, [Content(property='text', text='March 8, 2021', span=(97, 110))]), (<Element time at 0x1296afbc8>, [Content(property='text', text='March 11, 2021', span=(59, 73))]), (<Element p at 0x1296afc48>, [Content(property='text', text='Game studio CD Projekt Red recently ', span=(3, 39)), Content(property='tail', text='\\n', span=(373, 374))]), (<Element a at 0x1296afc88>, [Content(property='text', text='disclosed', span=(120, 129)), Content(property='tail', text=' that it became a victim of a targeted, highly-impactful ransomware. In the days following the disclosure, it was revealed that the ransomware family most likely behind the attack was “HelloKitty”.', span=(133, 330))]), (<Element p at 0x1296afd48>, [Content(property='text', text='HelloKitty is a ransomware family that emerged in late 2020. While it lacks the sophistication of some of the more well-known families such as Ryuk, REvil, and Conti, it has nevertheless struck some notable targets, including CEMIG0. In this post, we analyse a recent HelloKitty sample and outline the basic behaviors and traits associated with this family of ransomware.', span=(3, 374)), Content(property='tail', text='\\n', span=(378, 379))]), (<Element h2 at 0x1296afd88>, [Content(property='text', text='Execution and Behavior', span=(4, 26)), Content(property='tail', text='\\n', span=(31, 32))]), (<Element p at 0x1296afdc8>, [Content(property='text', text='The “HelloKitty” name is based on internal mutex names, which are apparent upon execution.', span=(3, 93)), Content(property='tail', text='\\n', span=(97, 98))]), (<Element p at 0x1296afe88>, [Content(property='text', text='While still somewhat unclear, current intelligence indicates that the primary delivery method of HelloKitty binaries is via phish email or via secondary infection in conjunction with other malware.', span=(3, 200)), Content(property='tail', text='\\n', span=(204, 205))]), (<Element p at 0x1296afec8>, [Content(property='text', text='Once launched, HelloKitty will attempt to disable and terminate a number of processes and services so as to reduce interference with the encryption process. This includes processes and services associated with IIS, MSSQL, Quickbooks, Sharepoint, and more. These actions are carried out via ', span=(3, 293)), Content(property='tail', text='\\n', span=(348, 349))]), (<Element code at 0x1296aff08>, [Content(property='text', text='taskkill.exe', span=(6, 18)), Content(property='tail', text=' and ', span=(25, 30))]), (<Element code at 0x1296aff48>, [Content(property='text', text='net.exe', span=(6, 13)), Content(property='tail', text='.', span=(20, 21))]), (<Element p at 0x1296aff88>, [Content(property='text', text='In the analyzed sample, this is all done in a very non-stealthy manner. All spawned CMD windows are in the foreground and fully visible. This ‘lack of discreteness’ is atypical for modern ransomware, or any successful malware, for that matter.', span=(3, 246)), Content(property='tail', text='\\n', span=(250, 251))]), (<Element p at 0x1296be088>, [Content(property='text', text='A full list of processes from the analyzed sample are listed below:', span=(3, 70)), Content(property='tail', text='\\n', span=(74, 75))]), (<Element pre at 0x1296be0c8>, [Content(property='text', text='\\ndsa*\\nNtrtsca\\nds_moni\\nNotifie\\nTmListe\\niVPAgen\\nCNTAoSM\\nIBM*\\nbes10*\\nblack*\\nrobo*\\ncopy*\\nstore.e\\nsql*\\nvee*\\nwrsa*\\nwrsa.ex\\npostg*\\nsage*\\nMSSQLServerADHelper100\\nMSSQL$ISARS\\nMSSQL$MSFW\\nSQLAgent$ISARS\\nSQLAgent$MSFW\\nSQLBrowser\\nReportServer$ISARS\\nSQLWriter\\nWinDefend\\nmr2kserv\\nMSExchangeADTopology\\nMSExchangeFBA\\nMSExchangeIS\\nMSExchangeSA\\nShadowProtectSvc\\nSPAdminV4\\nSPTimerV4\\nSPTraceV4\\nSPUserCodeV4\\nSPWriterV4\\nSPSearch4\\nIISADMIN\\nfirebirdguardiandefaultinstance\\nibmiasrw\\nQBCFMonitorService\\nQBVSS\\nQBPOSDBServiceV12\\n\"IBM Domino Server(CProgramFilesIBMDominodata)\"\\n\"IBM Domino Diagnostics(CProgramFilesIBMDomino)\"\\n\"Simply Accounting Database Connection Manager\"\\nQuickBooksDB1\\nQuickBooksDB2\\nQuickBooksDB3\\nQuickBooksDB4\\nQuickBooksDB5\\nQuickBooksDB6\\nQuickBooksDB7\\nQuickBooksDB8\\nQuickBooksDB9\\nQuickBooksDB10\\nQuickBooksDB11\\nQuickBooksDB12\\nQuickBooksDB13\\nQuickBooksDB14\\nQuickBooksDB15\\nQuickBooksDB16\\nQuickBooksDB17\\nQuickBooksDB18\\nQuickBooksDB19\\nQuickBooksDB20\\nQuickBooksDB21\\nQuickBooksDB22\\nQuickBooksDB23\\nQuickBooksDB24\\nQuickBooksDB25\\n', span=(5, 1015)), Content(property='tail', text='\\n', span=(1021, 1022))]), (<Element p at 0x1296be108>, [Content(property='text', text='Additional processes and services that are terminated are identified via PID. For example:', span=(3, 93)), Content(property='tail', text='\\n', span=(97, 98))]), (<Element code at 0x1296be188>, [Content(property='text', text='taskkill.exe /f /PID \"8512\"', span=(6, 33))]), (<Element code at 0x1296be208>, [Content(property='text', text='taskkill.exe /f /PID \"8656\"', span=(6, 33))]), (<Element p at 0x1296be248>, [Content(property='text', text='If HelloKitty is unable to stop any specific processes or services, it will leverage the Windows Restart Manager API to further assist in termination.', span=(3, 153)), Content(property='tail', text='\\n', span=(157, 158))]), (<Element p at 0x1296be308>, [Content(property='text', text='HelloKitty will also utilize WMI to gather system details and help identify running processes and any potentially problematic processes. This is done both by name and by PID. A number of examples are shown below:', span=(3, 215)), Content(property='tail', text='\\n', span=(219, 220))]), (<Element pre at 0x1296be348>, [Content(property='text', text='\\nstart iwbemservices::execquery - root\\\\cimv2 : select __path, processid, csname, caption, sessionid, threadcount, workingsetsize, kernelmodetime, usermodetime, parentprocessid from win32_process\\n\\nstart iwbemservices::execquery - root\\\\cimv2 : select __path, processid, csname, caption, sessionid, threadcount, workingsetsize, kernelmodetime, usermodetime, parentprocessid from win32_process where (  caption = \"store.exe\")\\n\\nstart iwbemservices::execquery - root\\\\cimv2 : select __path, processid, csname, caption, sessionid, threadcount, workingsetsize, kernelmodetime, usermodetime, parentprocessid from win32_process where (  caption = \"wrsa.exe\")\\n\\nstart iwbemservices::execquery - root\\\\cimv2 : select __path, processid, csname, caption, sessionid, threadcount, workingsetsize, kernelmodetime, usermodetime, parentprocessid from win32_process where (  processid = 3036)\\n\\nstart iwbemservices::execquery - root\\\\cimv2 : select __path, processid, csname, caption, sessionid, threadcount, workingsetsize, kernelmodetime, usermodetime, parentprocessid from win32_process where (  processid = 4460)\\n\\nstart iwbemservices::execquery - root\\\\cimv2 : select __path, processid, csname, caption, sessionid, threadcount, workingsetsize, kernelmodetime, usermodetime, parentprocessid from win32_process where (  processid = 3052)\\n\\nstart iwbemservices::execquery - root\\\\cimv2 : select __path, processid, csname, caption, sessionid, threadcount, workingsetsize, kernelmodetime, usermodetime, parentprocessid from win32_process where (  processid = 4476)\\n\\nstart iwbemservices::execquery - root\\\\cimv2 : select __path, processid, csname, caption, sessionid, threadcount, workingsetsize, kernelmodetime, usermodetime, parentprocessid from win32_process where (  processid = 1560)\\n\\nstart iwbemservices::execquery - root\\\\cimv2 : select __path, processid, csname, caption, sessionid, threadcount, workingsetsize, kernelmodetime, usermodetime, parentprocessid from win32_process where (  processid = 8124)\\n\\nstart iwbemservices::exe\\n', span=(5, 2011)), Content(property='tail', text='\\n', span=(2017, 2018))]), (<Element h2 at 0x1296be388>, [Content(property='text', text='Encryption and Ransom Note', span=(4, 30)), Content(property='tail', text='\\n', span=(35, 36))]), (<Element p at 0x1296be3c8>, [Content(property='text', text='Encryption is initiated and completed very quickly once applicable services and processes have been terminated. Specific encryption recipes and routines can vary across variants of HelloKitty. Generally speaking, they tend to use a combination of AES-256 & RSA-2048 or even NTRU+AES-128.', span=(3, 290)), Content(property='tail', text='\\n', span=(294, 295))]), (<Element p at 0x1296be408>, [Content(property='text', text='Once encrypted, affected files receive the ', span=(3, 46)), Content(property='tail', text='\\n', span=(82, 83))]), (<Element code at 0x1296be448>, [Content(property='text', text='.crypted', span=(6, 14)), Content(property='tail', text=' extension.', span=(21, 32))]), (<Element p at 0x1296be508>, [Content(property='text', text='Ransom notes are typically customized to directly reference the victim and victim’s environment. Victims are instructed to visit a TOR-based payment and support portal. The following example has been sanitized:', span=(3, 213)), Content(property='tail', text='\\n', span=(217, 218))]), (<Element p at 0x1296be5c8>, [Content(property='text', text='It is also important to note that as of this writing, the onion address associated with HelloKitty ransom notes is not active.', span=(3, 129)), Content(property='tail', text='\\n', span=(133, 134))]), (<Element code at 0x1296be648>, [Content(property='text', text='6x7dp6h3w6q3ugjv4yv5gycj3femb24kysgry5b44hhgfwc5ml5qrdad.onion', span=(6, 68))]), (<Element h2 at 0x1296be688>, [Content(property='text', text='Conclusion', span=(4, 14)), Content(property='tail', text='\\n', span=(19, 20))]), (<Element p at 0x1296be6c8>, [Content(property='text', text='HelloKitty may be easier to spot than other modern ransomware families, but upon execution it is no less dangerous. There are currently no known ‘weaknesses’ in the encryption routines, and there are no thirdy-party decrypters available for the HelloKitty ransomware. Therefore, the only true defense is prevention. While this family does not appear to be actively leaking victim data at the moment, that could change at any point, in addition to them choosing to adopt some of the more recent extortion methods that go along with ransomware (DDoS).', span=(3, 552)), Content(property='tail', text='\\n', span=(556, 557))]), (<Element p at 0x1296be708>, [Content(property='text', text='Actors behind the more recent campaign(s) are reportedly attempting to auction the CD Projekt data off in various ‘underground’ forums. At present this sale of this data does appear to be legitimate. Time will tell if additional victim data is dealt with in the same way.', span=(3, 274)), Content(property='tail', text='\\n', span=(278, 279))]), (<Element p at 0x1296be748>, [Content(property='text', text='To protect yourself against HelloKitty, make sure you are armed with a modern Endpoint Security platform, which is configured correctly and up to date. The SentinelOne Singularity Platform is fully capable of preventing and detecting all malicious behaviors associated with the HelloKitty ransomware family.', span=(3, 310)), Content(property='tail', text='\\n', span=(314, 315))]), (<Element h2 at 0x1296be788>, [Content(property='text', text='IOCs', span=(4, 8)), Content(property='tail', text='\\n', span=(13, 14))]), (<Element strong at 0x1296be808>, [Content(property='text', text='SHA1', span=(8, 12))]), (<Element br at 0x1296be848>, [Content(property='tail', text='\\nfadd8d7c13a18c251ded1f645ffea18a37f1c2de', span=(5, 46))]), (<Element strong at 0x1296be8c8>, [Content(property='text', text='SHA256', span=(8, 14))]), (<Element br at 0x1296be908>, [Content(property='tail', text='\\n501487b025f25ddf1ca32deb57a2b4db43ccf6635c1edc74b9cff54ce0e5bcfe', span=(5, 70))]), (<Element strong at 0x1296be988>, [Content(property='text', text='MITRE ATT&CK', span=(8, 20))]), (<Element br at 0x1296be9c8>, [Content(property='tail', text='\\nData from Local System – ', span=(5, 31))]), (<Element a at 0x1296bea08>, [Content(property='text', text='T1005', span=(45, 50))]), (<Element br at 0x1296bea48>, [Content(property='tail', text='\\nModify Registry – ', span=(5, 24))]), (<Element a at 0x1296bea88>, [Content(property='text', text='T1112', span=(45, 50))]), (<Element br at 0x1296beac8>, [Content(property='tail', text='\\nQuery Registry – ', span=(5, 23))]), (<Element a at 0x1296beb08>, [Content(property='text', text='T1012', span=(45, 50))]), (<Element br at 0x1296beb48>, [Content(property='tail', text='\\nSystem Information Discovery – ', span=(5, 37))]), (<Element a at 0x1296beb88>, [Content(property='text', text='T1082', span=(45, 50))]), (<Element br at 0x1296bebc8>, [Content(property='tail', text='\\nData Encrypted for Impact – ', span=(5, 34))]), (<Element a at 0x1296bec08>, [Content(property='text', text='T1486', span=(45, 50))]), (<Element br at 0x1296bec48>, [Content(property='tail', text='\\nFile Deletion – ', span=(5, 22))]), (<Element a at 0x1296bec88>, [Content(property='text', text='T1070.004', span=(99, 108))]), (<Element br at 0x1296becc8>, [Content(property='tail', text='\\nCommand and Scripting Interpreter: Windows Command Shell – ', span=(5, 65))]), (<Element a at 0x1296bed08>, [Content(property='text', text='T1059.003', span=(99, 108))]), (<Element br at 0x1296bed48>, [Content(property='tail', text='\\nWindows Management Instrumentation – ', span=(5, 43))]), (<Element a at 0x1296bed88>, [Content(property='text', text='T1047', span=(45, 50))]), (<Element span at 0x1296bee48>, [Content(property='text', text='Post Views: ', span=(31, 43)), Content(property='tail', text='\\n\\t\\t\\t\\t', span=(50, 55))]), (<Element span at 0x1296bee88>, [Content(property='text', text='7,278', span=(31, 36)), Content(property='tail', text='\\n\\t\\t\\t', span=(43, 47))]), (<Element a at 0x1296bef08>, [Content(property='text', text='Ransomware', span=(65, 75)), Content(property='tail', text='\\t\\t\\t\\t\\t', span=(79, 84))]), (<Element span at 0x1296ba0c8>, [Content(property='text', text='Share', span=(21, 26))]), (<Element span at 0x1296ba208>, [Content(property='text', text='Facebook', span=(26, 34))]), (<Element span at 0x1296ba308>, [Content(property='text', text='Twitter', span=(26, 33))]), (<Element span at 0x1296ba408>, [Content(property='text', text='Mail', span=(26, 30))]), (<Element span at 0x1296ba508>, [Content(property='text', text='Linkedin', span=(26, 34))]), (<Element span at 0x1296ba608>, [Content(property='text', text='Reddit', span=(26, 32))]), (<Element span at 0x1296ba8c8>, [Content(property='text', text='Jim Walter', span=(17, 27))]), (<Element div at 0x1296ba908>, [Content(property='text', text='Jim Walter is a Senior Threat Researcher at SentinelOne focusing on evolving trends, actors, and tactics within the thriving ecosystem of cybercrime and crimeware. He specializes in the discovery and analysis of emerging cybercrime \"services\" and evolving communication channels leveraged by mid-level criminal organizations. Jim joined SentinelOne following ~4 years at a security start-up, also focused on malware research and organized crime. Previously, he spent over 17 years at McAfee/Intel running their Threat Intelligence and Advanced Threat Research teams.', span=(61, 627)), Content(property='tail', text='\\n\\n\\t\\t\\t\\t\\n\\t\\t\\t', span=(633, 643))]), (<Element span at 0x1296bab48>, [Content(property='text', text='Prev', span=(25, 29))]), (<Element h5 at 0x1296bab88>, [Content(property='text', text='A Guide to Ghidra Scripting Development for Malware Researchers', span=(23, 86))]), (<Element span at 0x1296bac88>, [Content(property='text', text='Next', span=(25, 29))]), (<Element h5 at 0x1296bad08>, [Content(property='text', text='Top 15 Essential Malware Analysis Tools', span=(23, 62))]), (<Element span at 0x1296bae48>, [Content(property='text', text='Related Posts', span=(6, 19)), Content(property='tail', text='\\n\\t\\t\\t', span=(26, 30))]), (<Element a at 0x12969b088>, [Content(property='text', text='Greyware’s Anatomy: The “Potentially Unwanted” are Upping Their Game', span=(120, 188))]), (<Element time at 0x12969b0c8>, [Content(property='text', text='January 7, 2021', span=(69, 84)), Content(property='tail', text='\\n\\n\\t\\t\\t\\t\\t', span=(91, 98))]), (<Element a at 0x12969b2c8>, [Content(property='text', text='Lazarus APT Targets Mac Users with Poisoned Word Document', span=(108, 165))]), (<Element time at 0x12969b308>, [Content(property='text', text='April 25, 2019', span=(69, 83)), Content(property='tail', text='\\n\\n\\t\\t\\t\\t\\t', span=(90, 97))]), (<Element a at 0x12969b508>, [Content(property='text', text='Enter the Maze: Demystifying an Affiliate Involved in Maze (SNOW)', span=(118, 183))]), (<Element time at 0x12969b548>, [Content(property='text', text='July 22, 2020', span=(69, 82)), Content(property='tail', text='\\n\\n\\t\\t\\t\\t\\t', span=(89, 96))]), (<Element h3 at 0x12969b688>, [Content(property='text', text='Sign Up', span=(25, 32))]), (<Element span at 0x12969b7c8>, [Content(property='text', text='Facebook', span=(26, 34)), Content(property='tail', text='\\n\\t', span=(41, 43))]), (<Element span at 0x12969b8c8>, [Content(property='text', text='Twitter', span=(26, 33)), Content(property='tail', text='\\n\\t', span=(40, 42))]), (<Element span at 0x12969b9c8>, [Content(property='text', text='Linkedin', span=(26, 34)), Content(property='tail', text='\\n\\t', span=(41, 43))]), (<Element p at 0x12969ba88>, [Content(property='text', text='Get notified when we post new content.', span=(3, 41)), Content(property='tail', text='\\n\\t', span=(45, 47))]), (<Element p at 0x12969bb48>, [Content(property='text', text='Thanks!  Keep an eye out for new content!', span=(3, 44)), Content(property='tail', text='\\n\\t', span=(48, 50))]), (<Element h3 at 0x12969bc08>, [Content(property='text', text='Popular Posts', span=(25, 38)), Content(property='tail', text='\\n\\t\\t\\t', span=(43, 47))]), (<Element a at 0x12969be88>, [Content(property='text', text='Detecting macOS.GMERA Malware Through Behavioral Inspection', span=(100, 159))]), (<Element i at 0x12969bf08>, [Content(property='tail', text=' behavioral detection, GMERA malware, macOS, Yara\\t\\t\\t\\t\\t\\t\\t\\t', span=(23, 80))]), (<Element a at 0x1296bf148>, [Content(property='text', text='RIG Exploit Kit Chain Internals', span=(101, 132))]), (<Element i at 0x1296bf1c8>, [Content(property='tail', text=' reverse engineeering, RIG Exploit Kit, Vitali Kremez, Zero2Hero\\t\\t\\t\\t\\t\\t\\t\\t', span=(23, 95))]), (<Element a at 0x1296bf3c8>, [Content(property='text', text='Trickbot Update: Brief Analysis of a Recent Trickbot Payload', span=(100, 160))]), (<Element i at 0x1296bf448>, [Content(property='tail', text=' banking trojan, phishing, trickbot\\t\\t\\t\\t\\t\\t\\t\\t', span=(23, 66))]), (<Element a at 0x1296bf648>, [Content(property='text', text='Gootkit Banking Trojan | Part 3: Retrieving the Final Payload', span=(88, 149))]), (<Element i at 0x1296bf6c8>, [Content(property='tail', text=' banking trojan, Gootkit, reverse engineering, Zero2Hero\\t\\t\\t\\t\\t\\t\\t\\t', span=(23, 87))]), (<Element h3 at 0x1296bf748>, [Content(property='text', text='Tweets', span=(25, 31)), Content(property='tail', text='\\n\\t\\t\\t\\t\\t\\t', span=(36, 43))]), (<Element span at 0x1296bf848>, [Content(property='text', text='  Hiding a file, picture, message or even a video within another file can be an effective way for malware authors… ', span=(6, 121))]), (<Element a at 0x1296bf888>, [Content(property='text', text='https://t.co/tFqxVu6TV1', span=(9, 32))]), (<Element a at 0x1296bf8c8>, [Content(property='text', text='7 hours ago', span=(107, 118))]), (<Element a at 0x1296bf988>, [Content(property='text', text='#HelloKitty', span=(64, 75)), Content(property='tail', text=' lacks the stealth of ', span=(108, 130))]), (<Element a at 0x1296bf9c8>, [Content(property='text', text='#Ryuk', span=(58, 63)), Content(property='tail', text=', ', span=(90, 92))]), (<Element a at 0x1296bfa08>, [Content(property='text', text='#REvil', span=(59, 65)), Content(property='tail', text=', and ', span=(93, 99))]), ...]"
      ]
     },
     "execution_count": 6,
     "metadata": {},
     "output_type": "execute_result"
    },
    {
     "data": {
      "application/javascript": "\n            setTimeout(function() {\n                var nbb_cell_id = 6;\n                var nbb_unformatted_code = \"seq(analyzer.primary_subtree_leafs).map(\\n    lambda element: (element, ContentExtractor.get_contents(element))\\n)\";\n                var nbb_formatted_code = \"seq(analyzer.primary_subtree_leafs).map(\\n    lambda element: (element, ContentExtractor.get_contents(element))\\n)\";\n                var nbb_cells = Jupyter.notebook.get_cells();\n                for (var i = 0; i < nbb_cells.length; ++i) {\n                    if (nbb_cells[i].input_prompt_number == nbb_cell_id) {\n                        if (nbb_cells[i].get_text() == nbb_unformatted_code) {\n                             nbb_cells[i].set_text(nbb_formatted_code);\n                        }\n                        break;\n                    }\n                }\n            }, 500);\n            ",
      "text/plain": [
       "<IPython.core.display.Javascript object>"
      ]
     },
     "metadata": {},
     "output_type": "display_data"
    }
   ],
   "source": [
    "seq(analyzer.primary_subtree_leafs).map(\n",
    "    lambda element: (element, ContentExtractor.get_contents(element))\n",
    ")"
   ]
  },
  {
   "cell_type": "markdown",
   "metadata": {},
   "source": [
    "---"
   ]
  },
  {
   "cell_type": "code",
   "execution_count": 23,
   "metadata": {
    "ExecuteTime": {
     "end_time": "2021-08-31T04:14:54.140537Z",
     "start_time": "2021-08-31T04:14:54.104602Z"
    }
   },
   "outputs": [
    {
     "data": {
      "application/javascript": "\n            setTimeout(function() {\n                var nbb_cell_id = 23;\n                var nbb_unformatted_code = \"t = (\\n    seq(analyzer.primary_subtree_leafs)\\n    .map(lambda element: etree.tounicode(element))\\n    .make_string(\\\" \\\")\\n)\";\n                var nbb_formatted_code = \"t = (\\n    seq(analyzer.primary_subtree_leafs)\\n    .map(lambda element: etree.tounicode(element))\\n    .make_string(\\\" \\\")\\n)\";\n                var nbb_cells = Jupyter.notebook.get_cells();\n                for (var i = 0; i < nbb_cells.length; ++i) {\n                    if (nbb_cells[i].input_prompt_number == nbb_cell_id) {\n                        if (nbb_cells[i].get_text() == nbb_unformatted_code) {\n                             nbb_cells[i].set_text(nbb_formatted_code);\n                        }\n                        break;\n                    }\n                }\n            }, 500);\n            ",
      "text/plain": [
       "<IPython.core.display.Javascript object>"
      ]
     },
     "metadata": {},
     "output_type": "display_data"
    }
   ],
   "source": [
    "t = (\n",
    "    seq(analyzer.primary_subtree_leafs)\n",
    "    .filter(lambda element: element.tag not in [\"pre\", \"code\"])\n",
    "    .map(lambda element: etree.tounicode(element))\n",
    "    .make_string(\" \")\n",
    ")"
   ]
  },
  {
   "cell_type": "code",
   "execution_count": 63,
   "metadata": {
    "ExecuteTime": {
     "end_time": "2021-08-31T06:50:07.047029Z",
     "start_time": "2021-08-31T06:50:07.004915Z"
    }
   },
   "outputs": [
    {
     "data": {
      "application/javascript": "\n            setTimeout(function() {\n                var nbb_cell_id = 63;\n                var nbb_unformatted_code = \"t = (\\n    seq(analyzer.primary_subtree_leafs)\\n    # .filter(lambda element: element.tag not in [\\\"pre\\\", \\\"code\\\"])\\n    .filter(lambda element: type(element.text) == str)\\n    .map(lambda element: element.text)\\n    .make_string(\\\" \\\")\\n)\";\n                var nbb_formatted_code = \"t = (\\n    seq(analyzer.primary_subtree_leafs)\\n    # .filter(lambda element: element.tag not in [\\\"pre\\\", \\\"code\\\"])\\n    .filter(lambda element: type(element.text) == str)\\n    .map(lambda element: element.text)\\n    .make_string(\\\" \\\")\\n)\";\n                var nbb_cells = Jupyter.notebook.get_cells();\n                for (var i = 0; i < nbb_cells.length; ++i) {\n                    if (nbb_cells[i].input_prompt_number == nbb_cell_id) {\n                        if (nbb_cells[i].get_text() == nbb_unformatted_code) {\n                             nbb_cells[i].set_text(nbb_formatted_code);\n                        }\n                        break;\n                    }\n                }\n            }, 500);\n            ",
      "text/plain": [
       "<IPython.core.display.Javascript object>"
      ]
     },
     "metadata": {},
     "output_type": "display_data"
    }
   ],
   "source": [
    "t = (\n",
    "    seq(analyzer.primary_subtree_leafs)\n",
    "    # .filter(lambda element: element.tag not in [\"pre\", \"code\"])\n",
    "    .filter(lambda element: type(element.text) == str)\n",
    "    .map(lambda element: element.text)\n",
    "    .make_string(\" \")\n",
    ")"
   ]
  },
  {
   "cell_type": "code",
   "execution_count": 64,
   "metadata": {
    "ExecuteTime": {
     "end_time": "2021-08-31T06:50:07.579812Z",
     "start_time": "2021-08-31T06:50:07.548788Z"
    }
   },
   "outputs": [
    {
     "data": {
      "text/plain": [
       "'Crimeware HelloKitty Ransomware Lacks Stealth, But Still Strikes Home Jim Walter March 8, 2021 March 11, 2021 Game studio CD Projekt Red recently  disclosed HelloKitty is a ransomware family that emerged in late 2020. While it lacks the sophistication of some of the more well-known families such as Ryuk, REvil, and Conti, it has nevertheless struck some notable targets, including CEMIG0. In this post, we analyse a recent HelloKitty sample and outline the basic behaviors and traits associated with this family of ransomware. Execution and Behavior The “HelloKitty” name is based on internal mutex names, which are apparent upon execution. While still somewhat unclear, current intelligence indicates that the primary delivery method of HelloKitty binaries is via phish email or via secondary infection in conjunction with other malware. Once launched, HelloKitty will attempt to disable and terminate a number of processes and services so as to reduce interference with the encryption process. This includes processes and services associated with IIS, MSSQL, Quickbooks, Sharepoint, and more. These actions are carried out via  taskkill.exe net.exe In the analyzed sample, this is all done in a very non-stealthy manner. All spawned CMD windows are in the foreground and fully visible. This ‘lack of discreteness’ is atypical for modern ransomware, or any successful malware, for that matter. A full list of processes from the analyzed sample are listed below: \\ndsa*\\nNtrtsca\\nds_moni\\nNotifie\\nTmListe\\niVPAgen\\nCNTAoSM\\nIBM*\\nbes10*\\nblack*\\nrobo*\\ncopy*\\nstore.e\\nsql*\\nvee*\\nwrsa*\\nwrsa.ex\\npostg*\\nsage*\\nMSSQLServerADHelper100\\nMSSQL$ISARS\\nMSSQL$MSFW\\nSQLAgent$ISARS\\nSQLAgent$MSFW\\nSQLBrowser\\nReportServer$ISARS\\nSQLWriter\\nWinDefend\\nmr2kserv\\nMSExchangeADTopology\\nMSExchangeFBA\\nMSExchangeIS\\nMSExchangeSA\\nShadowProtectSvc\\nSPAdminV4\\nSPTimerV4\\nSPTraceV4\\nSPUserCodeV4\\nSPWriterV4\\nSPSearch4\\nIISADMIN\\nfirebirdguardiandefaultinstance\\nibmiasrw\\nQBCFMonitorService\\nQBVSS\\nQBPOSDBServiceV12\\n\"IBM Domino Server(CProgramFilesIBMDominodata)\"\\n\"IBM Domino Diagnostics(CProgramFilesIBMDomino)\"\\n\"Simply Accounting Database Connection Manager\"\\nQuickBooksDB1\\nQuickBooksDB2\\nQuickBooksDB3\\nQuickBooksDB4\\nQuickBooksDB5\\nQuickBooksDB6\\nQuickBooksDB7\\nQuickBooksDB8\\nQuickBooksDB9\\nQuickBooksDB10\\nQuickBooksDB11\\nQuickBooksDB12\\nQuickBooksDB13\\nQuickBooksDB14\\nQuickBooksDB15\\nQuickBooksDB16\\nQuickBooksDB17\\nQuickBooksDB18\\nQuickBooksDB19\\nQuickBooksDB20\\nQuickBooksDB21\\nQuickBooksDB22\\nQuickBooksDB23\\nQuickBooksDB24\\nQuickBooksDB25\\n Additional processes and services that are terminated are identified via PID. For example: taskkill.exe /f /PID \"8512\" taskkill.exe /f /PID \"8656\" If HelloKitty is unable to stop any specific processes or services, it will leverage the Windows Restart Manager API to further assist in termination. HelloKitty will also utilize WMI to gather system details and help identify running processes and any potentially problematic processes. This is done both by name and by PID. A number of examples are shown below: \\nstart iwbemservices::execquery - root\\\\cimv2 : select __path, processid, csname, caption, sessionid, threadcount, workingsetsize, kernelmodetime, usermodetime, parentprocessid from win32_process\\n\\nstart iwbemservices::execquery - root\\\\cimv2 : select __path, processid, csname, caption, sessionid, threadcount, workingsetsize, kernelmodetime, usermodetime, parentprocessid from win32_process where (  caption = \"store.exe\")\\n\\nstart iwbemservices::execquery - root\\\\cimv2 : select __path, processid, csname, caption, sessionid, threadcount, workingsetsize, kernelmodetime, usermodetime, parentprocessid from win32_process where (  caption = \"wrsa.exe\")\\n\\nstart iwbemservices::execquery - root\\\\cimv2 : select __path, processid, csname, caption, sessionid, threadcount, workingsetsize, kernelmodetime, usermodetime, parentprocessid from win32_process where (  processid = 3036)\\n\\nstart iwbemservices::execquery - root\\\\cimv2 : select __path, processid, csname, caption, sessionid, threadcount, workingsetsize, kernelmodetime, usermodetime, parentprocessid from win32_process where (  processid = 4460)\\n\\nstart iwbemservices::execquery - root\\\\cimv2 : select __path, processid, csname, caption, sessionid, threadcount, workingsetsize, kernelmodetime, usermodetime, parentprocessid from win32_process where (  processid = 3052)\\n\\nstart iwbemservices::execquery - root\\\\cimv2 : select __path, processid, csname, caption, sessionid, threadcount, workingsetsize, kernelmodetime, usermodetime, parentprocessid from win32_process where (  processid = 4476)\\n\\nstart iwbemservices::execquery - root\\\\cimv2 : select __path, processid, csname, caption, sessionid, threadcount, workingsetsize, kernelmodetime, usermodetime, parentprocessid from win32_process where (  processid = 1560)\\n\\nstart iwbemservices::execquery - root\\\\cimv2 : select __path, processid, csname, caption, sessionid, threadcount, workingsetsize, kernelmodetime, usermodetime, parentprocessid from win32_process where (  processid = 8124)\\n\\nstart iwbemservices::exe\\n Encryption and Ransom Note Encryption is initiated and completed very quickly once applicable services and processes have been terminated. Specific encryption recipes and routines can vary across variants of HelloKitty. Generally speaking, they tend to use a combination of AES-256 & RSA-2048 or even NTRU+AES-128. Once encrypted, affected files receive the  .crypted Ransom notes are typically customized to directly reference the victim and victim’s environment. Victims are instructed to visit a TOR-based payment and support portal. The following example has been sanitized: It is also important to note that as of this writing, the onion address associated with HelloKitty ransom notes is not active. 6x7dp6h3w6q3ugjv4yv5gycj3femb24kysgry5b44hhgfwc5ml5qrdad.onion Conclusion HelloKitty may be easier to spot than other modern ransomware families, but upon execution it is no less dangerous. There are currently no known ‘weaknesses’ in the encryption routines, and there are no thirdy-party decrypters available for the HelloKitty ransomware. Therefore, the only true defense is prevention. While this family does not appear to be actively leaking victim data at the moment, that could change at any point, in addition to them choosing to adopt some of the more recent extortion methods that go along with ransomware (DDoS). Actors behind the more recent campaign(s) are reportedly attempting to auction the CD Projekt data off in various ‘underground’ forums. At present this sale of this data does appear to be legitimate. Time will tell if additional victim data is dealt with in the same way. To protect yourself against HelloKitty, make sure you are armed with a modern Endpoint Security platform, which is configured correctly and up to date. The SentinelOne Singularity Platform is fully capable of preventing and detecting all malicious behaviors associated with the HelloKitty ransomware family. IOCs SHA1 SHA256 MITRE ATT&CK T1005 T1112 T1012 T1082 T1486 T1070.004 T1059.003 T1047 Post Views:  7,278 Ransomware Share Facebook Twitter Mail Linkedin Reddit Jim Walter Jim Walter is a Senior Threat Researcher at SentinelOne focusing on evolving trends, actors, and tactics within the thriving ecosystem of cybercrime and crimeware. He specializes in the discovery and analysis of emerging cybercrime \"services\" and evolving communication channels leveraged by mid-level criminal organizations. Jim joined SentinelOne following ~4 years at a security start-up, also focused on malware research and organized crime. Previously, he spent over 17 years at McAfee/Intel running their Threat Intelligence and Advanced Threat Research teams. Prev A Guide to Ghidra Scripting Development for Malware Researchers Next Top 15 Essential Malware Analysis Tools Related Posts Greyware’s Anatomy: The “Potentially Unwanted” are Upping Their Game January 7, 2021 Lazarus APT Targets Mac Users with Poisoned Word Document April 25, 2019 Enter the Maze: Demystifying an Affiliate Involved in Maze (SNOW) July 22, 2020 Sign Up Facebook Twitter Linkedin Get notified when we post new content. Thanks!  Keep an eye out for new content! Popular Posts Detecting macOS.GMERA Malware Through Behavioral Inspection RIG Exploit Kit Chain Internals Trickbot Update: Brief Analysis of a Recent Trickbot Payload Gootkit Banking Trojan | Part 3: Retrieving the Final Payload Tweets   Hiding a file, picture, message or even a video within another file can be an effective way for malware authors…  https://t.co/tFqxVu6TV1 7 hours ago #HelloKitty #Ryuk #REvil #Conti https://t.co/4MmUrFnj9W 8 hours ago ️ Every day until March 28th, compete in SentinelOne\\'s Apex Overdrive. Make it to the top of the leaderboard to wi…  https://t.co/plIa4AtRlY 8 hours ago  Congratulations to Brian Jones of  @Optiv #infosec https://t.co/kBIKxrusD1 8 hours ago Latest Posts New macOS malware XcodeSpy Targets Xcode Developers with EggShell Backdoor Top 15 Essential Malware Analysis Tools HelloKitty Ransomware Lacks Stealth, But Still Strikes Home A Guide to Ghidra Scripting Development for Malware Researchers'"
      ]
     },
     "execution_count": 64,
     "metadata": {},
     "output_type": "execute_result"
    },
    {
     "data": {
      "application/javascript": "\n            setTimeout(function() {\n                var nbb_cell_id = 64;\n                var nbb_unformatted_code = \"t\";\n                var nbb_formatted_code = \"t\";\n                var nbb_cells = Jupyter.notebook.get_cells();\n                for (var i = 0; i < nbb_cells.length; ++i) {\n                    if (nbb_cells[i].input_prompt_number == nbb_cell_id) {\n                        if (nbb_cells[i].get_text() == nbb_unformatted_code) {\n                             nbb_cells[i].set_text(nbb_formatted_code);\n                        }\n                        break;\n                    }\n                }\n            }, 500);\n            ",
      "text/plain": [
       "<IPython.core.display.Javascript object>"
      ]
     },
     "metadata": {},
     "output_type": "display_data"
    }
   ],
   "source": [
    "t"
   ]
  },
  {
   "cell_type": "code",
   "execution_count": 65,
   "metadata": {
    "ExecuteTime": {
     "end_time": "2021-08-31T06:50:08.430284Z",
     "start_time": "2021-08-31T06:50:08.417317Z"
    }
   },
   "outputs": [
    {
     "data": {
      "application/javascript": "\n            setTimeout(function() {\n                var nbb_cell_id = 65;\n                var nbb_unformatted_code = \"from gensim.summarization import keywords\";\n                var nbb_formatted_code = \"from gensim.summarization import keywords\";\n                var nbb_cells = Jupyter.notebook.get_cells();\n                for (var i = 0; i < nbb_cells.length; ++i) {\n                    if (nbb_cells[i].input_prompt_number == nbb_cell_id) {\n                        if (nbb_cells[i].get_text() == nbb_unformatted_code) {\n                             nbb_cells[i].set_text(nbb_formatted_code);\n                        }\n                        break;\n                    }\n                }\n            }, 500);\n            ",
      "text/plain": [
       "<IPython.core.display.Javascript object>"
      ]
     },
     "metadata": {},
     "output_type": "display_data"
    }
   ],
   "source": [
    "from gensim.summarization import keywords"
   ]
  },
  {
   "cell_type": "code",
   "execution_count": 66,
   "metadata": {
    "ExecuteTime": {
     "end_time": "2021-08-31T06:50:11.349186Z",
     "start_time": "2021-08-31T06:50:11.208255Z"
    }
   },
   "outputs": [
    {
     "data": {
      "text/plain": [
       "['hellokitty', 'ransomware', 'malware']"
      ]
     },
     "execution_count": 66,
     "metadata": {},
     "output_type": "execute_result"
    },
    {
     "data": {
      "application/javascript": "\n            setTimeout(function() {\n                var nbb_cell_id = 66;\n                var nbb_unformatted_code = \"keywords(\\n    t,\\n    ratio=0.01,\\n    split=True,\\n    pos_filter=[\\\"NN\\\", \\\"JJ\\\"],\\n    lemmatize=True,\\n    deacc=True,\\n)\";\n                var nbb_formatted_code = \"keywords(\\n    t,\\n    ratio=0.01,\\n    split=True,\\n    pos_filter=[\\\"NN\\\", \\\"JJ\\\"],\\n    lemmatize=True,\\n    deacc=True,\\n)\";\n                var nbb_cells = Jupyter.notebook.get_cells();\n                for (var i = 0; i < nbb_cells.length; ++i) {\n                    if (nbb_cells[i].input_prompt_number == nbb_cell_id) {\n                        if (nbb_cells[i].get_text() == nbb_unformatted_code) {\n                             nbb_cells[i].set_text(nbb_formatted_code);\n                        }\n                        break;\n                    }\n                }\n            }, 500);\n            ",
      "text/plain": [
       "<IPython.core.display.Javascript object>"
      ]
     },
     "metadata": {},
     "output_type": "display_data"
    }
   ],
   "source": [
    "keywords(\n",
    "    t,\n",
    "    ratio=0.01,\n",
    "    split=True,\n",
    "    pos_filter=[\"NN\", \"JJ\"],\n",
    "    lemmatize=True,\n",
    "    deacc=True,\n",
    ")"
   ]
  },
  {
   "cell_type": "markdown",
   "metadata": {},
   "source": [
    "---"
   ]
  },
  {
   "cell_type": "code",
   "execution_count": 7,
   "metadata": {
    "ExecuteTime": {
     "end_time": "2021-08-27T08:25:49.488239Z",
     "start_time": "2021-08-27T08:25:49.475548Z"
    }
   },
   "outputs": [
    {
     "data": {
      "application/javascript": "\n            setTimeout(function() {\n                var nbb_cell_id = 7;\n                var nbb_unformatted_code = \"# init entity parser\\nentity_parser = EntityParser()\";\n                var nbb_formatted_code = \"# init entity parser\\nentity_parser = EntityParser()\";\n                var nbb_cells = Jupyter.notebook.get_cells();\n                for (var i = 0; i < nbb_cells.length; ++i) {\n                    if (nbb_cells[i].input_prompt_number == nbb_cell_id) {\n                        if (nbb_cells[i].get_text() == nbb_unformatted_code) {\n                             nbb_cells[i].set_text(nbb_formatted_code);\n                        }\n                        break;\n                    }\n                }\n            }, 500);\n            ",
      "text/plain": [
       "<IPython.core.display.Javascript object>"
      ]
     },
     "metadata": {},
     "output_type": "display_data"
    }
   ],
   "source": [
    "# init entity parser\n",
    "entity_parser = EntityParser()"
   ]
  },
  {
   "cell_type": "code",
   "execution_count": 8,
   "metadata": {
    "ExecuteTime": {
     "end_time": "2021-08-27T08:25:53.965614Z",
     "start_time": "2021-08-27T08:25:49.505428Z"
    }
   },
   "outputs": [
    {
     "data": {
      "text/html": [
       "<table>\n",
       "<tbody>\n",
       "<tr><td>&lt;code&gt;taskkill.exe&lt;/code&gt; and                                                                           </td><td>[Entity(name=&#x27;FilePath&#x27;, text=&#x27;taskkill.exe&#x27;, span=(6, 18))]                                                           </td></tr>\n",
       "<tr><td>&lt;code&gt;net.exe&lt;/code&gt;.                                                                                   </td><td>[Entity(name=&#x27;FilePath&#x27;, text=&#x27;net.exe&#x27;, span=(6, 13))]                                                                </td></tr>\n",
       "<tr><td>&lt;pre&gt;\n",
       "dsa*\n",
       "Ntrtsca\n",
       "ds_moni\n",
       "Notifie\n",
       "TmListe\n",
       "iVPAgen\n",
       "CNTAoSM\n",
       "IBM*\n",
       "bes10*\n",
       "black*\n",
       "robo*\n",
       "copy*\n",
       "store.e\n",
       "sql*\n",
       "vee*\n",
       "wrsa*\n",
       "wrsa.ex\n",
       "postg*\n",
       "sage*\n",
       "MSSQLServerADHelper100\n",
       "MSSQL$ISARS\n",
       "MSSQL$MSFW\n",
       "SQLAgent$ISARS\n",
       "SQLAgent$MSFW\n",
       "SQLBrowser\n",
       "ReportServer$ISARS\n",
       "SQLWriter\n",
       "WinDefend\n",
       "mr2kserv\n",
       "MSExchangeADTopology\n",
       "MSExchangeFBA\n",
       "MSExchangeIS\n",
       "MSExchangeSA\n",
       "ShadowProtectSvc\n",
       "SPAdminV4\n",
       "SPTimerV4\n",
       "SPTraceV4\n",
       "SPUserCodeV4\n",
       "SPWriterV4\n",
       "SPSearch4\n",
       "IISADMIN\n",
       "firebirdguardiandefaultinstance\n",
       "ibmiasrw\n",
       "QBCFMonitorService\n",
       "QBVSS\n",
       "QBPOSDBServiceV12\n",
       "&quot;IBM Domino Server(CProgramFilesIBMDominodata)&quot;\n",
       "&quot;IBM Domino Diagnostics(CProgramFilesIBMDomino)&quot;\n",
       "&quot;Simply Accounting Database Connection Manager&quot;\n",
       "QuickBooksDB1\n",
       "QuickBooksDB2\n",
       "QuickBooksDB3\n",
       "QuickBooksDB4\n",
       "QuickBooksDB5\n",
       "QuickBooksDB6\n",
       "QuickBooksDB7\n",
       "QuickBooksDB8\n",
       "QuickBooksDB9\n",
       "QuickBooksDB10\n",
       "QuickBooksDB11\n",
       "QuickBooksDB12\n",
       "QuickBooksDB13\n",
       "QuickBooksDB14\n",
       "QuickBooksDB15\n",
       "QuickBooksDB16\n",
       "QuickBooksDB17\n",
       "QuickBooksDB18\n",
       "QuickBooksDB19\n",
       "QuickBooksDB20\n",
       "QuickBooksDB21\n",
       "QuickBooksDB22\n",
       "QuickBooksDB23\n",
       "QuickBooksDB24\n",
       "QuickBooksDB25\n",
       "&lt;/pre&gt;                                                                                                         </td><td>[Entity(name=&#x27;FilePath&#x27;, text=&#x27;store.e&#x27;, span=(90, 97)), Entity(name=&#x27;FilePath&#x27;, text=&#x27;wrsa.ex&#x27;, span=(114, 121))]     </td></tr>\n",
       "<tr><td>&lt;code&gt;taskkill.exe /f /PID &quot;8512&quot;&lt;/code&gt;                                                                </td><td>[Entity(name=&#x27;FilePath&#x27;, text=&#x27;taskkill.exe&#x27;, span=(6, 18))]                                                           </td></tr>\n",
       "<tr><td>&lt;code&gt;taskkill.exe /f /PID &quot;8656&quot;&lt;/code&gt;                                                                </td><td>[Entity(name=&#x27;FilePath&#x27;, text=&#x27;taskkill.exe&#x27;, span=(6, 18))]                                                           </td></tr>\n",
       "<tr><td>&lt;pre&gt;\n",
       "start iwbemservices::execquery - root\\cimv2 : select __path, processid, csname, caption, sessionid, threadcount, workingsetsize, kernelmodetime, usermodetime, parentprocessid from win32_process\n",
       "\n",
       "start iwbemservices::execquery - root\\cimv2 : select __path, processid, csname, caption, sessionid, threadcount, workingsetsize, kernelmodetime, usermodetime, parentprocessid from win32_process where (  caption = &quot;store.exe&quot;)\n",
       "\n",
       "start iwbemservices::execquery - root\\cimv2 : select __path, processid, csname, caption, sessionid, threadcount, workingsetsize, kernelmodetime, usermodetime, parentprocessid from win32_process where (  caption = &quot;wrsa.exe&quot;)\n",
       "\n",
       "start iwbemservices::execquery - root\\cimv2 : select __path, processid, csname, caption, sessionid, threadcount, workingsetsize, kernelmodetime, usermodetime, parentprocessid from win32_process where (  processid = 3036)\n",
       "\n",
       "start iwbemservices::execquery - root\\cimv2 : select __path, processid, csname, caption, sessionid, threadcount, workingsetsize, kernelmodetime, usermodetime, parentprocessid from win32_process where (  processid = 4460)\n",
       "\n",
       "start iwbemservices::execquery - root\\cimv2 : select __path, processid, csname, caption, sessionid, threadcount, workingsetsize, kernelmodetime, usermodetime, parentprocessid from win32_process where (  processid = 3052)\n",
       "\n",
       "start iwbemservices::execquery - root\\cimv2 : select __path, processid, csname, caption, sessionid, threadcount, workingsetsize, kernelmodetime, usermodetime, parentprocessid from win32_process where (  processid = 4476)\n",
       "\n",
       "start iwbemservices::execquery - root\\cimv2 : select __path, processid, csname, caption, sessionid, threadcount, workingsetsize, kernelmodetime, usermodetime, parentprocessid from win32_process where (  processid = 1560)\n",
       "\n",
       "start iwbemservices::execquery - root\\cimv2 : select __path, processid, csname, caption, sessionid, threadcount, workingsetsize, kernelmodetime, usermodetime, parentprocessid from win32_process where (  processid = 8124)\n",
       "\n",
       "start iwbemservices::exe\n",
       "&lt;/pre&gt;                                                                                                         </td><td>[Entity(name=&#x27;FilePath&#x27;, text=&#x27;store.exe&#x27;, span=(415, 424)), Entity(name=&#x27;FilePath&#x27;, text=&#x27;wrsa.exe&#x27;, span=(642, 650))]</td></tr>\n",
       "<tr><td>&lt;code&gt;6x7dp6h3w6q3ugjv4yv5gycj3femb24kysgry5b44hhgfwc5ml5qrdad.onion&lt;/code&gt;                             </td><td>[Entity(name=&#x27;domain&#x27;, text=&#x27;6x7dp6h3w6q3ugjv4yv5gycj3femb24kysgry5b44hhgfwc5ml5qrdad.onion&#x27;, span=(6, 68))]           </td></tr>\n",
       "<tr><td>&lt;br/&gt;\n",
       "fadd8d7c13a18c251ded1f645ffea18a37f1c2de                                                                                                         </td><td>[Entity(name=&#x27;FileHash-SHA1&#x27;, text=&#x27;fadd8d7c13a18c251ded1f645ffea18a37f1c2de&#x27;, span=(6, 46))]                          </td></tr>\n",
       "<tr><td>&lt;br/&gt;\n",
       "501487b025f25ddf1ca32deb57a2b4db43ccf6635c1edc74b9cff54ce0e5bcfe                                                                                                         </td><td>[Entity(name=&#x27;FileHash-SHA256&#x27;, text=&#x27;501487b025f25ddf1ca32deb57a2b4db43ccf6635c1edc74b9cff54ce0e5bcfe&#x27;, span=(6, 70))]</td></tr>\n",
       "<tr><td>&lt;a href=&quot;https://attack.mitre.org/techniques/T1005/&quot; target=&quot;_blank&quot; rel=&quot;noopener noreferrer&quot;&gt;T1005&lt;/a&gt;</td><td>[Entity(name=&#x27;AttackTechnique&#x27;, text=&#x27;T1005&#x27;, span=(45, 50))]                                                          </td></tr>\n",
       "</tbody>\n",
       "</table><p>Showing 10 of 22 rows"
      ],
      "text/plain": [
       "[('<code>taskkill.exe</code> and ', [Entity(name='FilePath', text='taskkill.exe', span=(6, 18))]), ('<code>net.exe</code>.', [Entity(name='FilePath', text='net.exe', span=(6, 13))]), ('<pre>\\ndsa*\\nNtrtsca\\nds_moni\\nNotifie\\nTmListe\\niVPAgen\\nCNTAoSM\\nIBM*\\nbes10*\\nblack*\\nrobo*\\ncopy*\\nstore.e\\nsql*\\nvee*\\nwrsa*\\nwrsa.ex\\npostg*\\nsage*\\nMSSQLServerADHelper100\\nMSSQL$ISARS\\nMSSQL$MSFW\\nSQLAgent$ISARS\\nSQLAgent$MSFW\\nSQLBrowser\\nReportServer$ISARS\\nSQLWriter\\nWinDefend\\nmr2kserv\\nMSExchangeADTopology\\nMSExchangeFBA\\nMSExchangeIS\\nMSExchangeSA\\nShadowProtectSvc\\nSPAdminV4\\nSPTimerV4\\nSPTraceV4\\nSPUserCodeV4\\nSPWriterV4\\nSPSearch4\\nIISADMIN\\nfirebirdguardiandefaultinstance\\nibmiasrw\\nQBCFMonitorService\\nQBVSS\\nQBPOSDBServiceV12\\n\"IBM Domino Server(CProgramFilesIBMDominodata)\"\\n\"IBM Domino Diagnostics(CProgramFilesIBMDomino)\"\\n\"Simply Accounting Database Connection Manager\"\\nQuickBooksDB1\\nQuickBooksDB2\\nQuickBooksDB3\\nQuickBooksDB4\\nQuickBooksDB5\\nQuickBooksDB6\\nQuickBooksDB7\\nQuickBooksDB8\\nQuickBooksDB9\\nQuickBooksDB10\\nQuickBooksDB11\\nQuickBooksDB12\\nQuickBooksDB13\\nQuickBooksDB14\\nQuickBooksDB15\\nQuickBooksDB16\\nQuickBooksDB17\\nQuickBooksDB18\\nQuickBooksDB19\\nQuickBooksDB20\\nQuickBooksDB21\\nQuickBooksDB22\\nQuickBooksDB23\\nQuickBooksDB24\\nQuickBooksDB25\\n</pre>\\n', [Entity(name='FilePath', text='store.e', span=(90, 97)), Entity(name='FilePath', text='wrsa.ex', span=(114, 121))]), ('<code>taskkill.exe /f /PID \"8512\"</code>', [Entity(name='FilePath', text='taskkill.exe', span=(6, 18))]), ('<code>taskkill.exe /f /PID \"8656\"</code>', [Entity(name='FilePath', text='taskkill.exe', span=(6, 18))]), ('<pre>\\nstart iwbemservices::execquery - root\\\\cimv2 : select __path, processid, csname, caption, sessionid, threadcount, workingsetsize, kernelmodetime, usermodetime, parentprocessid from win32_process\\n\\nstart iwbemservices::execquery - root\\\\cimv2 : select __path, processid, csname, caption, sessionid, threadcount, workingsetsize, kernelmodetime, usermodetime, parentprocessid from win32_process where (  caption = \"store.exe\")\\n\\nstart iwbemservices::execquery - root\\\\cimv2 : select __path, processid, csname, caption, sessionid, threadcount, workingsetsize, kernelmodetime, usermodetime, parentprocessid from win32_process where (  caption = \"wrsa.exe\")\\n\\nstart iwbemservices::execquery - root\\\\cimv2 : select __path, processid, csname, caption, sessionid, threadcount, workingsetsize, kernelmodetime, usermodetime, parentprocessid from win32_process where (  processid = 3036)\\n\\nstart iwbemservices::execquery - root\\\\cimv2 : select __path, processid, csname, caption, sessionid, threadcount, workingsetsize, kernelmodetime, usermodetime, parentprocessid from win32_process where (  processid = 4460)\\n\\nstart iwbemservices::execquery - root\\\\cimv2 : select __path, processid, csname, caption, sessionid, threadcount, workingsetsize, kernelmodetime, usermodetime, parentprocessid from win32_process where (  processid = 3052)\\n\\nstart iwbemservices::execquery - root\\\\cimv2 : select __path, processid, csname, caption, sessionid, threadcount, workingsetsize, kernelmodetime, usermodetime, parentprocessid from win32_process where (  processid = 4476)\\n\\nstart iwbemservices::execquery - root\\\\cimv2 : select __path, processid, csname, caption, sessionid, threadcount, workingsetsize, kernelmodetime, usermodetime, parentprocessid from win32_process where (  processid = 1560)\\n\\nstart iwbemservices::execquery - root\\\\cimv2 : select __path, processid, csname, caption, sessionid, threadcount, workingsetsize, kernelmodetime, usermodetime, parentprocessid from win32_process where (  processid = 8124)\\n\\nstart iwbemservices::exe\\n</pre>\\n', [Entity(name='FilePath', text='store.exe', span=(415, 424)), Entity(name='FilePath', text='wrsa.exe', span=(642, 650))]), ('<code>6x7dp6h3w6q3ugjv4yv5gycj3femb24kysgry5b44hhgfwc5ml5qrdad.onion</code>', [Entity(name='domain', text='6x7dp6h3w6q3ugjv4yv5gycj3femb24kysgry5b44hhgfwc5ml5qrdad.onion', span=(6, 68))]), ('<br/>\\nfadd8d7c13a18c251ded1f645ffea18a37f1c2de', [Entity(name='FileHash-SHA1', text='fadd8d7c13a18c251ded1f645ffea18a37f1c2de', span=(6, 46))]), ('<br/>\\n501487b025f25ddf1ca32deb57a2b4db43ccf6635c1edc74b9cff54ce0e5bcfe', [Entity(name='FileHash-SHA256', text='501487b025f25ddf1ca32deb57a2b4db43ccf6635c1edc74b9cff54ce0e5bcfe', span=(6, 70))]), ('<a href=\"https://attack.mitre.org/techniques/T1005/\" target=\"_blank\" rel=\"noopener noreferrer\">T1005</a>', [Entity(name='AttackTechnique', text='T1005', span=(45, 50))]), ('<a href=\"https://attack.mitre.org/techniques/T1112/\" target=\"_blank\" rel=\"noopener noreferrer\">T1112</a>', [Entity(name='AttackTechnique', text='T1112', span=(45, 50))]), ('<a href=\"https://attack.mitre.org/techniques/T1012/\" target=\"_blank\" rel=\"noopener noreferrer\">T1012</a>', [Entity(name='AttackTechnique', text='T1012', span=(45, 50))]), ('<a href=\"https://attack.mitre.org/techniques/T1082/\" target=\"_blank\" rel=\"noopener noreferrer\">T1082</a>', [Entity(name='AttackTechnique', text='T1082', span=(45, 50))]), ('<a href=\"https://attack.mitre.org/techniques/T1486/\" target=\"_blank\" rel=\"noopener noreferrer\">T1486</a>', [Entity(name='AttackTechnique', text='T1486', span=(45, 50))]), ('<a href=\"https://attack.mitre.org/techniques/T1070/004/\" target=\"_blank\" rel=\"noopener noreferrer\">T1070.004</a>', [Entity(name='AttackTechnique', text='T1070.004', span=(99, 108))]), ('<a href=\"https://attack.mitre.org/techniques/T1059/003/\" target=\"_blank\" rel=\"noopener noreferrer\">T1059.003</a>', [Entity(name='AttackTechnique', text='T1059.003', span=(99, 108))]), ('<a href=\"https://attack.mitre.org/techniques/T1047/\" target=\"_blank\" rel=\"noopener noreferrer\">T1047</a>', [Entity(name='AttackTechnique', text='T1047', span=(45, 50))]), ('<a href=\"https://labs.sentinelone.com/detecting-macos-gmera-malware-through-behavioral-inspection/\">Detecting macOS.GMERA Malware Through Behavioral Inspection</a>', [Entity(name='FilePath', text='macOS.GMERA', span=(110, 121))]), ('<a href=\"https://t.co/tFqxVu6TV1\" target=\"_blank\">https://t.co/tFqxVu6TV1</a>', [Entity(name='URI', text='https://t.co/tFqxVu6TV1', span=(9, 32))]), ('<a href=\"https://t.co/4MmUrFnj9W\" target=\"_blank\">https://t.co/4MmUrFnj9W</a>', [Entity(name='URI', text='https://t.co/4MmUrFnj9W', span=(9, 32))]), ('<a href=\"https://t.co/plIa4AtRlY\" target=\"_blank\">https://t.co/plIa4AtRlY</a>', [Entity(name='URI', text='https://t.co/plIa4AtRlY', span=(9, 32))]), ('<a href=\"https://t.co/kBIKxrusD1\" target=\"_blank\">https://t.co/kBIKxrusD1</a>', [Entity(name='URI', text='https://t.co/kBIKxrusD1', span=(9, 32))])]"
      ]
     },
     "execution_count": 8,
     "metadata": {},
     "output_type": "execute_result"
    },
    {
     "data": {
      "application/javascript": "\n            setTimeout(function() {\n                var nbb_cell_id = 8;\n                var nbb_unformatted_code = \"seq(analyzer.primary_subtree_leafs).map(\\n    lambda element: (element, ContentExtractor.get_contents(element))\\n).starmap(\\n    lambda element, contents: (\\n        element,\\n        contents,\\n        seq(contents).flat_map(lambda content: entity_parser.parse(content)),\\n    )\\n).starmap(\\n    lambda element, contents, entities: (etree.tounicode(element), entities)\\n).filter(\\n    lambda x: x[1] != []\\n)\";\n                var nbb_formatted_code = \"seq(analyzer.primary_subtree_leafs).map(\\n    lambda element: (element, ContentExtractor.get_contents(element))\\n).starmap(\\n    lambda element, contents: (\\n        element,\\n        contents,\\n        seq(contents).flat_map(lambda content: entity_parser.parse(content)),\\n    )\\n).starmap(\\n    lambda element, contents, entities: (etree.tounicode(element), entities)\\n).filter(\\n    lambda x: x[1] != []\\n)\";\n                var nbb_cells = Jupyter.notebook.get_cells();\n                for (var i = 0; i < nbb_cells.length; ++i) {\n                    if (nbb_cells[i].input_prompt_number == nbb_cell_id) {\n                        if (nbb_cells[i].get_text() == nbb_unformatted_code) {\n                             nbb_cells[i].set_text(nbb_formatted_code);\n                        }\n                        break;\n                    }\n                }\n            }, 500);\n            ",
      "text/plain": [
       "<IPython.core.display.Javascript object>"
      ]
     },
     "metadata": {},
     "output_type": "display_data"
    }
   ],
   "source": [
    "seq(analyzer.primary_subtree_leafs).map(\n",
    "    lambda element: (element, ContentExtractor.get_contents(element))\n",
    ").starmap(\n",
    "    lambda element, contents: (\n",
    "        element,\n",
    "        contents,\n",
    "        seq(contents).flat_map(lambda content: entity_parser.parse(content)),\n",
    "    )\n",
    ").starmap(\n",
    "    lambda element, contents, entities: (etree.tounicode(element), entities)\n",
    ").filter(\n",
    "    lambda x: x[1] != []\n",
    ")"
   ]
  },
  {
   "cell_type": "markdown",
   "metadata": {},
   "source": [
    "---"
   ]
  },
  {
   "cell_type": "markdown",
   "metadata": {},
   "source": [
    "---"
   ]
  },
  {
   "cell_type": "markdown",
   "metadata": {},
   "source": [
    "# Get information from special elements"
   ]
  },
  {
   "cell_type": "code",
   "execution_count": 9,
   "metadata": {
    "ExecuteTime": {
     "end_time": "2021-08-27T08:25:54.001048Z",
     "start_time": "2021-08-27T08:25:53.975043Z"
    }
   },
   "outputs": [
    {
     "data": {
      "text/html": [
       "<table>\n",
       "<thead>\n",
       "<tr><th>property  </th><th>text                                                       </th><th>span      </th></tr>\n",
       "</thead>\n",
       "<tbody>\n",
       "<tr><td>text      </td><td>HelloKitty Ransomware Lacks Stealth, But Still Strikes Home</td><td>(49, 108) </td></tr>\n",
       "<tr><td>tail      </td><td>                                                           </td><td>(113, 116)</td></tr>\n",
       "</tbody>\n",
       "</table>"
      ],
      "text/plain": [
       "[Content(property='text', text='HelloKitty Ransomware Lacks Stealth, But Still Strikes Home', span=(49, 108)), Content(property='tail', text='\\n\\t\\t', span=(113, 116))]"
      ]
     },
     "execution_count": 9,
     "metadata": {},
     "output_type": "execute_result"
    },
    {
     "data": {
      "application/javascript": "\n            setTimeout(function() {\n                var nbb_cell_id = 9;\n                var nbb_unformatted_code = \"seq(analyzer.elements).filter(lambda element: element.tag == \\\"h1\\\").map(\\n    lambda element: ContentExtractor.get_contents(element)\\n).flatten()\";\n                var nbb_formatted_code = \"seq(analyzer.elements).filter(lambda element: element.tag == \\\"h1\\\").map(\\n    lambda element: ContentExtractor.get_contents(element)\\n).flatten()\";\n                var nbb_cells = Jupyter.notebook.get_cells();\n                for (var i = 0; i < nbb_cells.length; ++i) {\n                    if (nbb_cells[i].input_prompt_number == nbb_cell_id) {\n                        if (nbb_cells[i].get_text() == nbb_unformatted_code) {\n                             nbb_cells[i].set_text(nbb_formatted_code);\n                        }\n                        break;\n                    }\n                }\n            }, 500);\n            ",
      "text/plain": [
       "<IPython.core.display.Javascript object>"
      ]
     },
     "metadata": {},
     "output_type": "display_data"
    }
   ],
   "source": [
    "seq(analyzer.elements).filter(lambda element: element.tag == \"h1\").map(\n",
    "    lambda element: ContentExtractor.get_contents(element)\n",
    ").flatten()"
   ]
  },
  {
   "cell_type": "code",
   "execution_count": 10,
   "metadata": {
    "ExecuteTime": {
     "end_time": "2021-08-27T08:25:54.042322Z",
     "start_time": "2021-08-27T08:25:54.008913Z"
    }
   },
   "outputs": [
    {
     "data": {
      "text/html": [
       "<table>\n",
       "<thead>\n",
       "<tr><th>property  </th><th>text                                                                      </th><th>span    </th></tr>\n",
       "</thead>\n",
       "<tbody>\n",
       "<tr><td>text      </td><td>HelloKitty Ransomware Lacks Stealth, But Still Strikes Home - SentinelLabs</td><td>(7, 81) </td></tr>\n",
       "<tr><td>tail      </td><td>                                                                          </td><td>(89, 91)</td></tr>\n",
       "</tbody>\n",
       "</table>"
      ],
      "text/plain": [
       "[Content(property='text', text='HelloKitty Ransomware Lacks Stealth, But Still Strikes Home - SentinelLabs', span=(7, 81)), Content(property='tail', text='\\n\\n', span=(89, 91))]"
      ]
     },
     "execution_count": 10,
     "metadata": {},
     "output_type": "execute_result"
    },
    {
     "data": {
      "application/javascript": "\n            setTimeout(function() {\n                var nbb_cell_id = 10;\n                var nbb_unformatted_code = \"seq(analyzer.elements).filter(lambda element: element.tag == \\\"title\\\").map(\\n    lambda element: ContentExtractor.get_contents(element)\\n).flatten()\";\n                var nbb_formatted_code = \"seq(analyzer.elements).filter(lambda element: element.tag == \\\"title\\\").map(\\n    lambda element: ContentExtractor.get_contents(element)\\n).flatten()\";\n                var nbb_cells = Jupyter.notebook.get_cells();\n                for (var i = 0; i < nbb_cells.length; ++i) {\n                    if (nbb_cells[i].input_prompt_number == nbb_cell_id) {\n                        if (nbb_cells[i].get_text() == nbb_unformatted_code) {\n                             nbb_cells[i].set_text(nbb_formatted_code);\n                        }\n                        break;\n                    }\n                }\n            }, 500);\n            ",
      "text/plain": [
       "<IPython.core.display.Javascript object>"
      ]
     },
     "metadata": {},
     "output_type": "display_data"
    }
   ],
   "source": [
    "seq(analyzer.elements).filter(lambda element: element.tag == \"title\").map(\n",
    "    lambda element: ContentExtractor.get_contents(element)\n",
    ").flatten()"
   ]
  },
  {
   "cell_type": "code",
   "execution_count": 11,
   "metadata": {
    "ExecuteTime": {
     "end_time": "2021-08-27T08:25:54.074101Z",
     "start_time": "2021-08-27T08:25:54.048182Z"
    }
   },
   "outputs": [
    {
     "data": {
      "text/plain": [
       "['2021-03-08T17:22:44+00:00', '2021-03-11T16:52:38+00:00', '2021-01-07T17:18:38+00:00', '2019-04-25T11:28:33+00:00', '2020-07-22T06:40:37+00:00', '2021-03-18T12:55:58+00:00', '2021-03-11T16:52:19+00:00', '2021-03-08T17:22:44+00:00', '2021-03-03T17:33:57+00:00', '2019-09-25T09:50:15+00:00', '2019-09-12T10:11:48+00:00']"
      ]
     },
     "execution_count": 11,
     "metadata": {},
     "output_type": "execute_result"
    },
    {
     "data": {
      "application/javascript": "\n            setTimeout(function() {\n                var nbb_cell_id = 11;\n                var nbb_unformatted_code = \"# datetime\\nseq(analyzer.elements).filter(lambda element: element.tag == \\\"time\\\").map(\\n    lambda element: element.attrib.get(\\\"datetime\\\")\\n)\";\n                var nbb_formatted_code = \"# datetime\\nseq(analyzer.elements).filter(lambda element: element.tag == \\\"time\\\").map(\\n    lambda element: element.attrib.get(\\\"datetime\\\")\\n)\";\n                var nbb_cells = Jupyter.notebook.get_cells();\n                for (var i = 0; i < nbb_cells.length; ++i) {\n                    if (nbb_cells[i].input_prompt_number == nbb_cell_id) {\n                        if (nbb_cells[i].get_text() == nbb_unformatted_code) {\n                             nbb_cells[i].set_text(nbb_formatted_code);\n                        }\n                        break;\n                    }\n                }\n            }, 500);\n            ",
      "text/plain": [
       "<IPython.core.display.Javascript object>"
      ]
     },
     "metadata": {},
     "output_type": "display_data"
    }
   ],
   "source": [
    "# datetime\n",
    "seq(analyzer.elements).filter(lambda element: element.tag == \"time\").map(\n",
    "    lambda element: element.attrib.get(\"datetime\")\n",
    ")"
   ]
  },
  {
   "cell_type": "markdown",
   "metadata": {},
   "source": [
    "---"
   ]
  },
  {
   "cell_type": "code",
   "execution_count": 12,
   "metadata": {
    "ExecuteTime": {
     "end_time": "2021-08-27T08:25:54.273593Z",
     "start_time": "2021-08-27T08:25:54.084234Z"
    }
   },
   "outputs": [
    {
     "data": {
      "text/html": [
       "<table>\n",
       "<tbody>\n",
       "<tr><td>&lt;Element a at 0x125ef8288&gt;   </td><td>[Content(property=&#x27;text&#x27;, text=&#x27;Crimeware&#x27;, span=(78, 87))]                                                                                                                                                                                                                                                                                                                                                                                                                                </td></tr>\n",
       "<tr><td>&lt;Element h1 at 0x125ef8088&gt;  </td><td>[Content(property=&#x27;text&#x27;, text=&#x27;HelloKitty Ransomware Lacks Stealth, But Still Strikes Home&#x27;, span=(49, 108)), Content(property=&#x27;tail&#x27;, text=&#x27;\\n\\t\\t&#x27;, span=(113, 116))]                                                                                                                                                                                                                                                                                                                   </td></tr>\n",
       "<tr><td>&lt;Element a at 0x125f21dc8&gt;   </td><td>[Content(property=&#x27;text&#x27;, text=&#x27;Jim Walter&#x27;, span=(69, 79))]                                                                                                                                                                                                                                                                                                                                                                                                                               </td></tr>\n",
       "<tr><td>&lt;Element time at 0x125f21f08&gt;</td><td>[Content(property=&#x27;text&#x27;, text=&#x27;March 8, 2021&#x27;, span=(97, 110))]                                                                                                                                                                                                                                                                                                                                                                                                                           </td></tr>\n",
       "<tr><td>&lt;Element time at 0x125f21f48&gt;</td><td>[Content(property=&#x27;text&#x27;, text=&#x27;March 11, 2021&#x27;, span=(59, 73))]                                                                                                                                                                                                                                                                                                                                                                                                                           </td></tr>\n",
       "<tr><td>&lt;Element p at 0x125f21fc8&gt;   </td><td>[Content(property=&#x27;text&#x27;, text=&#x27;Game studio CD Projekt Red recently &#x27;, span=(3, 39)), Content(property=&#x27;tail&#x27;, text=&#x27;\\n&#x27;, span=(373, 374))]                                                                                                                                                                                                                                                                                                                                                </td></tr>\n",
       "<tr><td>&lt;Element a at 0x125f10048&gt;   </td><td>[Content(property=&#x27;text&#x27;, text=&#x27;disclosed&#x27;, span=(120, 129)), Content(property=&#x27;tail&#x27;, text=&#x27; that it became a victim of a targeted, highly-impactful ransomware. In the days following the disclosure, it was revealed that the ransomware family most likely behind the attack was “HelloKitty”.&#x27;, span=(133, 330))]                                                                                                                                                                     </td></tr>\n",
       "<tr><td>&lt;Element p at 0x125f10108&gt;   </td><td>[Content(property=&#x27;text&#x27;, text=&#x27;HelloKitty is a ransomware family that emerged in late 2020. While it lacks the sophistication of some of the more well-known families such as Ryuk, REvil, and Conti, it has nevertheless struck some notable targets, including CEMIG0. In this post, we analyse a recent HelloKitty sample and outline the basic behaviors and traits associated with this family of ransomware.&#x27;, span=(3, 374)), Content(property=&#x27;tail&#x27;, text=&#x27;\\n&#x27;, span=(378, 379))]</td></tr>\n",
       "<tr><td>&lt;Element h2 at 0x125f10148&gt;  </td><td>[Content(property=&#x27;text&#x27;, text=&#x27;Execution and Behavior&#x27;, span=(4, 26)), Content(property=&#x27;tail&#x27;, text=&#x27;\\n&#x27;, span=(31, 32))]                                                                                                                                                                                                                                                                                                                                                                </td></tr>\n",
       "<tr><td>&lt;Element p at 0x125f10188&gt;   </td><td>[Content(property=&#x27;text&#x27;, text=&#x27;The “HelloKitty” name is based on internal mutex names, which are apparent upon execution.&#x27;, span=(3, 93)), Content(property=&#x27;tail&#x27;, text=&#x27;\\n&#x27;, span=(97, 98))]                                                                                                                                                                                                                                                                                            </td></tr>\n",
       "</tbody>\n",
       "</table><p>Showing 10 of 120 rows"
      ],
      "text/plain": [
       "[(<Element a at 0x125ef8288>, [Content(property='text', text='Crimeware', span=(78, 87))]), (<Element h1 at 0x125ef8088>, [Content(property='text', text='HelloKitty Ransomware Lacks Stealth, But Still Strikes Home', span=(49, 108)), Content(property='tail', text='\\n\\t\\t', span=(113, 116))]), (<Element a at 0x125f21dc8>, [Content(property='text', text='Jim Walter', span=(69, 79))]), (<Element time at 0x125f21f08>, [Content(property='text', text='March 8, 2021', span=(97, 110))]), (<Element time at 0x125f21f48>, [Content(property='text', text='March 11, 2021', span=(59, 73))]), (<Element p at 0x125f21fc8>, [Content(property='text', text='Game studio CD Projekt Red recently ', span=(3, 39)), Content(property='tail', text='\\n', span=(373, 374))]), (<Element a at 0x125f10048>, [Content(property='text', text='disclosed', span=(120, 129)), Content(property='tail', text=' that it became a victim of a targeted, highly-impactful ransomware. In the days following the disclosure, it was revealed that the ransomware family most likely behind the attack was “HelloKitty”.', span=(133, 330))]), (<Element p at 0x125f10108>, [Content(property='text', text='HelloKitty is a ransomware family that emerged in late 2020. While it lacks the sophistication of some of the more well-known families such as Ryuk, REvil, and Conti, it has nevertheless struck some notable targets, including CEMIG0. In this post, we analyse a recent HelloKitty sample and outline the basic behaviors and traits associated with this family of ransomware.', span=(3, 374)), Content(property='tail', text='\\n', span=(378, 379))]), (<Element h2 at 0x125f10148>, [Content(property='text', text='Execution and Behavior', span=(4, 26)), Content(property='tail', text='\\n', span=(31, 32))]), (<Element p at 0x125f10188>, [Content(property='text', text='The “HelloKitty” name is based on internal mutex names, which are apparent upon execution.', span=(3, 93)), Content(property='tail', text='\\n', span=(97, 98))]), (<Element p at 0x125f10248>, [Content(property='text', text='While still somewhat unclear, current intelligence indicates that the primary delivery method of HelloKitty binaries is via phish email or via secondary infection in conjunction with other malware.', span=(3, 200)), Content(property='tail', text='\\n', span=(204, 205))]), (<Element p at 0x125f10288>, [Content(property='text', text='Once launched, HelloKitty will attempt to disable and terminate a number of processes and services so as to reduce interference with the encryption process. This includes processes and services associated with IIS, MSSQL, Quickbooks, Sharepoint, and more. These actions are carried out via ', span=(3, 293)), Content(property='tail', text='\\n', span=(348, 349))]), (<Element code at 0x125f102c8>, [Content(property='text', text='taskkill.exe', span=(6, 18)), Content(property='tail', text=' and ', span=(25, 30))]), (<Element code at 0x125f10308>, [Content(property='text', text='net.exe', span=(6, 13)), Content(property='tail', text='.', span=(20, 21))]), (<Element p at 0x125f10348>, [Content(property='text', text='In the analyzed sample, this is all done in a very non-stealthy manner. All spawned CMD windows are in the foreground and fully visible. This ‘lack of discreteness’ is atypical for modern ransomware, or any successful malware, for that matter.', span=(3, 246)), Content(property='tail', text='\\n', span=(250, 251))]), (<Element p at 0x125f10408>, [Content(property='text', text='A full list of processes from the analyzed sample are listed below:', span=(3, 70)), Content(property='tail', text='\\n', span=(74, 75))]), (<Element pre at 0x125f10448>, [Content(property='text', text='\\ndsa*\\nNtrtsca\\nds_moni\\nNotifie\\nTmListe\\niVPAgen\\nCNTAoSM\\nIBM*\\nbes10*\\nblack*\\nrobo*\\ncopy*\\nstore.e\\nsql*\\nvee*\\nwrsa*\\nwrsa.ex\\npostg*\\nsage*\\nMSSQLServerADHelper100\\nMSSQL$ISARS\\nMSSQL$MSFW\\nSQLAgent$ISARS\\nSQLAgent$MSFW\\nSQLBrowser\\nReportServer$ISARS\\nSQLWriter\\nWinDefend\\nmr2kserv\\nMSExchangeADTopology\\nMSExchangeFBA\\nMSExchangeIS\\nMSExchangeSA\\nShadowProtectSvc\\nSPAdminV4\\nSPTimerV4\\nSPTraceV4\\nSPUserCodeV4\\nSPWriterV4\\nSPSearch4\\nIISADMIN\\nfirebirdguardiandefaultinstance\\nibmiasrw\\nQBCFMonitorService\\nQBVSS\\nQBPOSDBServiceV12\\n\"IBM Domino Server(CProgramFilesIBMDominodata)\"\\n\"IBM Domino Diagnostics(CProgramFilesIBMDomino)\"\\n\"Simply Accounting Database Connection Manager\"\\nQuickBooksDB1\\nQuickBooksDB2\\nQuickBooksDB3\\nQuickBooksDB4\\nQuickBooksDB5\\nQuickBooksDB6\\nQuickBooksDB7\\nQuickBooksDB8\\nQuickBooksDB9\\nQuickBooksDB10\\nQuickBooksDB11\\nQuickBooksDB12\\nQuickBooksDB13\\nQuickBooksDB14\\nQuickBooksDB15\\nQuickBooksDB16\\nQuickBooksDB17\\nQuickBooksDB18\\nQuickBooksDB19\\nQuickBooksDB20\\nQuickBooksDB21\\nQuickBooksDB22\\nQuickBooksDB23\\nQuickBooksDB24\\nQuickBooksDB25\\n', span=(5, 1015)), Content(property='tail', text='\\n', span=(1021, 1022))]), (<Element p at 0x125f10488>, [Content(property='text', text='Additional processes and services that are terminated are identified via PID. For example:', span=(3, 93)), Content(property='tail', text='\\n', span=(97, 98))]), (<Element code at 0x125f10508>, [Content(property='text', text='taskkill.exe /f /PID \"8512\"', span=(6, 33))]), (<Element code at 0x125f10588>, [Content(property='text', text='taskkill.exe /f /PID \"8656\"', span=(6, 33))]), (<Element p at 0x125f105c8>, [Content(property='text', text='If HelloKitty is unable to stop any specific processes or services, it will leverage the Windows Restart Manager API to further assist in termination.', span=(3, 153)), Content(property='tail', text='\\n', span=(157, 158))]), (<Element p at 0x125f10688>, [Content(property='text', text='HelloKitty will also utilize WMI to gather system details and help identify running processes and any potentially problematic processes. This is done both by name and by PID. A number of examples are shown below:', span=(3, 215)), Content(property='tail', text='\\n', span=(219, 220))]), (<Element pre at 0x125f106c8>, [Content(property='text', text='\\nstart iwbemservices::execquery - root\\\\cimv2 : select __path, processid, csname, caption, sessionid, threadcount, workingsetsize, kernelmodetime, usermodetime, parentprocessid from win32_process\\n\\nstart iwbemservices::execquery - root\\\\cimv2 : select __path, processid, csname, caption, sessionid, threadcount, workingsetsize, kernelmodetime, usermodetime, parentprocessid from win32_process where (  caption = \"store.exe\")\\n\\nstart iwbemservices::execquery - root\\\\cimv2 : select __path, processid, csname, caption, sessionid, threadcount, workingsetsize, kernelmodetime, usermodetime, parentprocessid from win32_process where (  caption = \"wrsa.exe\")\\n\\nstart iwbemservices::execquery - root\\\\cimv2 : select __path, processid, csname, caption, sessionid, threadcount, workingsetsize, kernelmodetime, usermodetime, parentprocessid from win32_process where (  processid = 3036)\\n\\nstart iwbemservices::execquery - root\\\\cimv2 : select __path, processid, csname, caption, sessionid, threadcount, workingsetsize, kernelmodetime, usermodetime, parentprocessid from win32_process where (  processid = 4460)\\n\\nstart iwbemservices::execquery - root\\\\cimv2 : select __path, processid, csname, caption, sessionid, threadcount, workingsetsize, kernelmodetime, usermodetime, parentprocessid from win32_process where (  processid = 3052)\\n\\nstart iwbemservices::execquery - root\\\\cimv2 : select __path, processid, csname, caption, sessionid, threadcount, workingsetsize, kernelmodetime, usermodetime, parentprocessid from win32_process where (  processid = 4476)\\n\\nstart iwbemservices::execquery - root\\\\cimv2 : select __path, processid, csname, caption, sessionid, threadcount, workingsetsize, kernelmodetime, usermodetime, parentprocessid from win32_process where (  processid = 1560)\\n\\nstart iwbemservices::execquery - root\\\\cimv2 : select __path, processid, csname, caption, sessionid, threadcount, workingsetsize, kernelmodetime, usermodetime, parentprocessid from win32_process where (  processid = 8124)\\n\\nstart iwbemservices::exe\\n', span=(5, 2011)), Content(property='tail', text='\\n', span=(2017, 2018))]), (<Element h2 at 0x125f10708>, [Content(property='text', text='Encryption and Ransom Note', span=(4, 30)), Content(property='tail', text='\\n', span=(35, 36))]), (<Element p at 0x125f10748>, [Content(property='text', text='Encryption is initiated and completed very quickly once applicable services and processes have been terminated. Specific encryption recipes and routines can vary across variants of HelloKitty. Generally speaking, they tend to use a combination of AES-256 & RSA-2048 or even NTRU+AES-128.', span=(3, 290)), Content(property='tail', text='\\n', span=(294, 295))]), (<Element p at 0x125f10788>, [Content(property='text', text='Once encrypted, affected files receive the ', span=(3, 46)), Content(property='tail', text='\\n', span=(82, 83))]), (<Element code at 0x125f107c8>, [Content(property='text', text='.crypted', span=(6, 14)), Content(property='tail', text=' extension.', span=(21, 32))]), (<Element p at 0x125f10888>, [Content(property='text', text='Ransom notes are typically customized to directly reference the victim and victim’s environment. Victims are instructed to visit a TOR-based payment and support portal. The following example has been sanitized:', span=(3, 213)), Content(property='tail', text='\\n', span=(217, 218))]), (<Element p at 0x125f10948>, [Content(property='text', text='It is also important to note that as of this writing, the onion address associated with HelloKitty ransom notes is not active.', span=(3, 129)), Content(property='tail', text='\\n', span=(133, 134))]), (<Element code at 0x125f109c8>, [Content(property='text', text='6x7dp6h3w6q3ugjv4yv5gycj3femb24kysgry5b44hhgfwc5ml5qrdad.onion', span=(6, 68))]), (<Element h2 at 0x125f10a08>, [Content(property='text', text='Conclusion', span=(4, 14)), Content(property='tail', text='\\n', span=(19, 20))]), (<Element p at 0x125f10a48>, [Content(property='text', text='HelloKitty may be easier to spot than other modern ransomware families, but upon execution it is no less dangerous. There are currently no known ‘weaknesses’ in the encryption routines, and there are no thirdy-party decrypters available for the HelloKitty ransomware. Therefore, the only true defense is prevention. While this family does not appear to be actively leaking victim data at the moment, that could change at any point, in addition to them choosing to adopt some of the more recent extortion methods that go along with ransomware (DDoS).', span=(3, 552)), Content(property='tail', text='\\n', span=(556, 557))]), (<Element p at 0x125f10a88>, [Content(property='text', text='Actors behind the more recent campaign(s) are reportedly attempting to auction the CD Projekt data off in various ‘underground’ forums. At present this sale of this data does appear to be legitimate. Time will tell if additional victim data is dealt with in the same way.', span=(3, 274)), Content(property='tail', text='\\n', span=(278, 279))]), (<Element p at 0x125f10ac8>, [Content(property='text', text='To protect yourself against HelloKitty, make sure you are armed with a modern Endpoint Security platform, which is configured correctly and up to date. The SentinelOne Singularity Platform is fully capable of preventing and detecting all malicious behaviors associated with the HelloKitty ransomware family.', span=(3, 310)), Content(property='tail', text='\\n', span=(314, 315))]), (<Element h2 at 0x125f10b08>, [Content(property='text', text='IOCs', span=(4, 8)), Content(property='tail', text='\\n', span=(13, 14))]), (<Element strong at 0x125f10b88>, [Content(property='text', text='SHA1', span=(8, 12))]), (<Element br at 0x125f10bc8>, [Content(property='tail', text='\\nfadd8d7c13a18c251ded1f645ffea18a37f1c2de', span=(5, 46))]), (<Element strong at 0x125f10c48>, [Content(property='text', text='SHA256', span=(8, 14))]), (<Element br at 0x125f10c88>, [Content(property='tail', text='\\n501487b025f25ddf1ca32deb57a2b4db43ccf6635c1edc74b9cff54ce0e5bcfe', span=(5, 70))]), (<Element strong at 0x125f10d08>, [Content(property='text', text='MITRE ATT&CK', span=(8, 20))]), (<Element br at 0x125f10d48>, [Content(property='tail', text='\\nData from Local System – ', span=(5, 31))]), (<Element a at 0x125f10d88>, [Content(property='text', text='T1005', span=(45, 50))]), (<Element br at 0x125f10dc8>, [Content(property='tail', text='\\nModify Registry – ', span=(5, 24))]), (<Element a at 0x125f10e08>, [Content(property='text', text='T1112', span=(45, 50))]), (<Element br at 0x125f10e48>, [Content(property='tail', text='\\nQuery Registry – ', span=(5, 23))]), (<Element a at 0x125f10e88>, [Content(property='text', text='T1012', span=(45, 50))]), (<Element br at 0x125f10ec8>, [Content(property='tail', text='\\nSystem Information Discovery – ', span=(5, 37))]), (<Element a at 0x125f10f08>, [Content(property='text', text='T1082', span=(45, 50))]), (<Element br at 0x125f10f48>, [Content(property='tail', text='\\nData Encrypted for Impact – ', span=(5, 34))]), (<Element a at 0x125f10f88>, [Content(property='text', text='T1486', span=(45, 50))]), (<Element br at 0x125f10fc8>, [Content(property='tail', text='\\nFile Deletion – ', span=(5, 22))]), (<Element a at 0x125f22048>, [Content(property='text', text='T1070.004', span=(99, 108))]), (<Element br at 0x125f22088>, [Content(property='tail', text='\\nCommand and Scripting Interpreter: Windows Command Shell – ', span=(5, 65))]), (<Element a at 0x125f220c8>, [Content(property='text', text='T1059.003', span=(99, 108))]), (<Element br at 0x125f22108>, [Content(property='tail', text='\\nWindows Management Instrumentation – ', span=(5, 43))]), (<Element a at 0x125f22148>, [Content(property='text', text='T1047', span=(45, 50))]), (<Element span at 0x125f22208>, [Content(property='text', text='Post Views: ', span=(31, 43)), Content(property='tail', text='\\n\\t\\t\\t\\t', span=(50, 55))]), (<Element span at 0x125f22248>, [Content(property='text', text='7,278', span=(31, 36)), Content(property='tail', text='\\n\\t\\t\\t', span=(43, 47))]), (<Element a at 0x125f222c8>, [Content(property='text', text='Ransomware', span=(65, 75)), Content(property='tail', text='\\t\\t\\t\\t\\t', span=(79, 84))]), (<Element span at 0x125f22448>, [Content(property='text', text='Share', span=(21, 26))]), (<Element span at 0x125f22588>, [Content(property='text', text='Facebook', span=(26, 34))]), (<Element span at 0x125f22688>, [Content(property='text', text='Twitter', span=(26, 33))]), (<Element span at 0x125f22788>, [Content(property='text', text='Mail', span=(26, 30))]), (<Element span at 0x125f22888>, [Content(property='text', text='Linkedin', span=(26, 34))]), (<Element span at 0x125f22988>, [Content(property='text', text='Reddit', span=(26, 32))]), (<Element span at 0x125f22c48>, [Content(property='text', text='Jim Walter', span=(17, 27))]), (<Element div at 0x125f22c88>, [Content(property='text', text='Jim Walter is a Senior Threat Researcher at SentinelOne focusing on evolving trends, actors, and tactics within the thriving ecosystem of cybercrime and crimeware. He specializes in the discovery and analysis of emerging cybercrime \"services\" and evolving communication channels leveraged by mid-level criminal organizations. Jim joined SentinelOne following ~4 years at a security start-up, also focused on malware research and organized crime. Previously, he spent over 17 years at McAfee/Intel running their Threat Intelligence and Advanced Threat Research teams.', span=(61, 627)), Content(property='tail', text='\\n\\n\\t\\t\\t\\t\\n\\t\\t\\t', span=(633, 643))]), (<Element span at 0x125f22ec8>, [Content(property='text', text='Prev', span=(25, 29))]), (<Element h5 at 0x125f22f08>, [Content(property='text', text='A Guide to Ghidra Scripting Development for Malware Researchers', span=(23, 86))]), (<Element span at 0x125f23048>, [Content(property='text', text='Next', span=(25, 29))]), (<Element h5 at 0x125f230c8>, [Content(property='text', text='Top 15 Essential Malware Analysis Tools', span=(23, 62))]), (<Element span at 0x125f23208>, [Content(property='text', text='Related Posts', span=(6, 19)), Content(property='tail', text='\\n\\t\\t\\t', span=(26, 30))]), (<Element a at 0x125f23408>, [Content(property='text', text='Greyware’s Anatomy: The “Potentially Unwanted” are Upping Their Game', span=(120, 188))]), (<Element time at 0x125f23448>, [Content(property='text', text='January 7, 2021', span=(69, 84)), Content(property='tail', text='\\n\\n\\t\\t\\t\\t\\t', span=(91, 98))]), (<Element a at 0x125f23648>, [Content(property='text', text='Lazarus APT Targets Mac Users with Poisoned Word Document', span=(108, 165))]), (<Element time at 0x125f23688>, [Content(property='text', text='April 25, 2019', span=(69, 83)), Content(property='tail', text='\\n\\n\\t\\t\\t\\t\\t', span=(90, 97))]), (<Element a at 0x125f23888>, [Content(property='text', text='Enter the Maze: Demystifying an Affiliate Involved in Maze (SNOW)', span=(118, 183))]), (<Element time at 0x125f238c8>, [Content(property='text', text='July 22, 2020', span=(69, 82)), Content(property='tail', text='\\n\\n\\t\\t\\t\\t\\t', span=(89, 96))]), (<Element h3 at 0x125f23a08>, [Content(property='text', text='Sign Up', span=(25, 32))]), (<Element span at 0x125f23b48>, [Content(property='text', text='Facebook', span=(26, 34)), Content(property='tail', text='\\n\\t', span=(41, 43))]), (<Element span at 0x125f23c48>, [Content(property='text', text='Twitter', span=(26, 33)), Content(property='tail', text='\\n\\t', span=(40, 42))]), (<Element span at 0x125f23d48>, [Content(property='text', text='Linkedin', span=(26, 34)), Content(property='tail', text='\\n\\t', span=(41, 43))]), (<Element p at 0x125f23e08>, [Content(property='text', text='Get notified when we post new content.', span=(3, 41)), Content(property='tail', text='\\n\\t', span=(45, 47))]), (<Element p at 0x125f23ec8>, [Content(property='text', text='Thanks!  Keep an eye out for new content!', span=(3, 44)), Content(property='tail', text='\\n\\t', span=(48, 50))]), (<Element h3 at 0x125f23f88>, [Content(property='text', text='Popular Posts', span=(25, 38)), Content(property='tail', text='\\n\\t\\t\\t', span=(43, 47))]), (<Element a at 0x125f24248>, [Content(property='text', text='Detecting macOS.GMERA Malware Through Behavioral Inspection', span=(100, 159))]), (<Element i at 0x125f242c8>, [Content(property='tail', text=' behavioral detection, GMERA malware, macOS, Yara\\t\\t\\t\\t\\t\\t\\t\\t', span=(23, 80))]), (<Element a at 0x125f244c8>, [Content(property='text', text='RIG Exploit Kit Chain Internals', span=(101, 132))]), (<Element i at 0x125f24548>, [Content(property='tail', text=' reverse engineeering, RIG Exploit Kit, Vitali Kremez, Zero2Hero\\t\\t\\t\\t\\t\\t\\t\\t', span=(23, 95))]), (<Element a at 0x125f24748>, [Content(property='text', text='Trickbot Update: Brief Analysis of a Recent Trickbot Payload', span=(100, 160))]), (<Element i at 0x125f247c8>, [Content(property='tail', text=' banking trojan, phishing, trickbot\\t\\t\\t\\t\\t\\t\\t\\t', span=(23, 66))]), (<Element a at 0x125f249c8>, [Content(property='text', text='Gootkit Banking Trojan | Part 3: Retrieving the Final Payload', span=(88, 149))]), (<Element i at 0x125f24a48>, [Content(property='tail', text=' banking trojan, Gootkit, reverse engineering, Zero2Hero\\t\\t\\t\\t\\t\\t\\t\\t', span=(23, 87))]), (<Element h3 at 0x125f24ac8>, [Content(property='text', text='Tweets', span=(25, 31)), Content(property='tail', text='\\n\\t\\t\\t\\t\\t\\t', span=(36, 43))]), (<Element span at 0x125f24bc8>, [Content(property='text', text='  Hiding a file, picture, message or even a video within another file can be an effective way for malware authors… ', span=(6, 121))]), (<Element a at 0x125f24c08>, [Content(property='text', text='https://t.co/tFqxVu6TV1', span=(9, 32))]), (<Element a at 0x125f24c48>, [Content(property='text', text='7 hours ago', span=(107, 118))]), (<Element a at 0x125f24d08>, [Content(property='text', text='#HelloKitty', span=(64, 75)), Content(property='tail', text=' lacks the stealth of ', span=(108, 130))]), (<Element a at 0x125f24d48>, [Content(property='text', text='#Ryuk', span=(58, 63)), Content(property='tail', text=', ', span=(90, 92))]), (<Element a at 0x125f24d88>, [Content(property='text', text='#REvil', span=(59, 65)), Content(property='tail', text=', and ', span=(93, 99))]), ...]"
      ]
     },
     "execution_count": 12,
     "metadata": {},
     "output_type": "execute_result"
    },
    {
     "data": {
      "application/javascript": "\n            setTimeout(function() {\n                var nbb_cell_id = 12;\n                var nbb_unformatted_code = \"seq(analyzer.primary_subtree_leafs).map(\\n    lambda element: (element, ContentExtractor.get_contents(element))\\n)\";\n                var nbb_formatted_code = \"seq(analyzer.primary_subtree_leafs).map(\\n    lambda element: (element, ContentExtractor.get_contents(element))\\n)\";\n                var nbb_cells = Jupyter.notebook.get_cells();\n                for (var i = 0; i < nbb_cells.length; ++i) {\n                    if (nbb_cells[i].input_prompt_number == nbb_cell_id) {\n                        if (nbb_cells[i].get_text() == nbb_unformatted_code) {\n                             nbb_cells[i].set_text(nbb_formatted_code);\n                        }\n                        break;\n                    }\n                }\n            }, 500);\n            ",
      "text/plain": [
       "<IPython.core.display.Javascript object>"
      ]
     },
     "metadata": {},
     "output_type": "display_data"
    }
   ],
   "source": [
    "seq(analyzer.primary_subtree_leafs).map(\n",
    "    lambda element: (element, ContentExtractor.get_contents(element))\n",
    ")"
   ]
  },
  {
   "cell_type": "markdown",
   "metadata": {},
   "source": [
    "---"
   ]
  },
  {
   "cell_type": "markdown",
   "metadata": {},
   "source": [
    "---"
   ]
  },
  {
   "cell_type": "markdown",
   "metadata": {},
   "source": [
    "# Refactor"
   ]
  },
  {
   "cell_type": "markdown",
   "metadata": {
    "ExecuteTime": {
     "end_time": "2021-08-10T08:31:16.446209Z",
     "start_time": "2021-08-10T08:31:16.425681Z"
    }
   },
   "source": [
    "```python\n",
    "# testing elements\n",
    "analyzer.primary_subtree_leafs[1] # h1 sample\n",
    "analyzer.primary_subtree_leafs[5]\n",
    "analyzer.primary_subtree_leafs[6]\n",
    "\n",
    "# filepath sample\n",
    "analyzer.primary_subtree_leafs[11]\n",
    "analyzer.primary_subtree_leafs[12] # code element\n",
    "analyzer.primary_subtree_leafs[13] # code element\n",
    "\n",
    "analyzer.primary_subtree_leafs[18] # code element\n",
    "\n",
    "\n",
    "# \n",
    "analyzer.primary_subtree_leafs[16] # pre element (ignored)\n",
    "\n",
    "\n",
    "\n",
    "```"
   ]
  },
  {
   "cell_type": "markdown",
   "metadata": {},
   "source": [
    "---"
   ]
  },
  {
   "cell_type": "code",
   "execution_count": 13,
   "metadata": {
    "ExecuteTime": {
     "end_time": "2021-08-27T08:25:54.334669Z",
     "start_time": "2021-08-27T08:25:54.289403Z"
    }
   },
   "outputs": [
    {
     "data": {
      "application/javascript": "\n            setTimeout(function() {\n                var nbb_cell_id = 13;\n                var nbb_unformatted_code = \"from collections import namedtuple\\nfrom collections import deque\\nfrom more_itertools import pairwise, collapse\\n\\nfrom magpie.src.indicator import (\\n    attack_technique,\\n    bitcoin_address,\\n    cve,\\n    defender_threat,\\n    domain,\\n    email,\\n    filehash_md5,\\n    filehash_sha1,\\n    filehash_sha256,\\n    filepath,\\n    hostname,\\n    ipv4,\\n    ipv6,\\n    sslcert_fingerprint,\\n    uri,\\n    url,\\n)\";\n                var nbb_formatted_code = \"from collections import namedtuple\\nfrom collections import deque\\nfrom more_itertools import pairwise, collapse\\n\\nfrom magpie.src.indicator import (\\n    attack_technique,\\n    bitcoin_address,\\n    cve,\\n    defender_threat,\\n    domain,\\n    email,\\n    filehash_md5,\\n    filehash_sha1,\\n    filehash_sha256,\\n    filepath,\\n    hostname,\\n    ipv4,\\n    ipv6,\\n    sslcert_fingerprint,\\n    uri,\\n    url,\\n)\";\n                var nbb_cells = Jupyter.notebook.get_cells();\n                for (var i = 0; i < nbb_cells.length; ++i) {\n                    if (nbb_cells[i].input_prompt_number == nbb_cell_id) {\n                        if (nbb_cells[i].get_text() == nbb_unformatted_code) {\n                             nbb_cells[i].set_text(nbb_formatted_code);\n                        }\n                        break;\n                    }\n                }\n            }, 500);\n            ",
      "text/plain": [
       "<IPython.core.display.Javascript object>"
      ]
     },
     "metadata": {},
     "output_type": "display_data"
    }
   ],
   "source": [
    "from collections import namedtuple\n",
    "from collections import deque\n",
    "from more_itertools import pairwise, collapse\n",
    "\n",
    "from magpie.src.indicator import (\n",
    "    attack_technique,\n",
    "    bitcoin_address,\n",
    "    cve,\n",
    "    defender_threat,\n",
    "    domain,\n",
    "    email,\n",
    "    filehash_md5,\n",
    "    filehash_sha1,\n",
    "    filehash_sha256,\n",
    "    filepath,\n",
    "    hostname,\n",
    "    ipv4,\n",
    "    ipv6,\n",
    "    sslcert_fingerprint,\n",
    "    uri,\n",
    "    url,\n",
    ")"
   ]
  },
  {
   "cell_type": "code",
   "execution_count": 14,
   "metadata": {
    "ExecuteTime": {
     "end_time": "2021-08-27T08:25:54.411001Z",
     "start_time": "2021-08-27T08:25:54.338950Z"
    }
   },
   "outputs": [
    {
     "data": {
      "application/javascript": "\n            setTimeout(function() {\n                var nbb_cell_id = 14;\n                var nbb_unformatted_code = \"class EntityParser(object):\\n\\n    Text = namedtuple(\\\"Text\\\", [\\\"entity\\\", \\\"string\\\", \\\"span\\\"])\\n\\n    def __init__(self):\\n\\n        self.parser = (\\n            defender_threat.parser\\n            | uri.parser\\n            | url.parser\\n            | email.parser\\n            | hostname.parser\\n            | domain.parser\\n            | sslcert_fingerprint.parser\\n            | ipv6.parser\\n            | ipv4.parser\\n            | cve.parser\\n            | attack_technique.parser\\n            | filepath.parser\\n            | filehash_sha256.parser  # len = 64\\n            | filehash_sha1.parser  # len = 40\\n            | bitcoin_address.parser  # len = 34\\n            | filehash_md5.parser  # len = 32\\n        )\\n\\n    def iterscan(self, content):\\n\\n        \\\"\\\"\\\"\\n        for each scanning result, returns a tuple of:\\n            - matched tokens (packaged as a ParseResults object)\\n            - start location of the matched text in the given source string\\n            - end location in the given source string\\n        \\\"\\\"\\\"\\n\\n        # generator\\n        scanning = self.parser.scanString(content.text)\\n        scan_results = (\\n            seq(scanning)\\n            .starmap(lambda token, start, end: ((start, end), token))\\n            .cache()\\n        )\\n\\n        def refill(spans, text=content.text):\\n\\n            # get head and tail index of content.text\\n            head, tail = 0, len(content.text)\\n\\n            # append head and tail index\\n            indexes = deque(collapse(spans))\\n            indexes.appendleft(head)\\n            indexes.append(tail)\\n            indexes = sorted(set(indexes))\\n\\n            # bi-grams tokenize indexes\\n            filled_spans = pairwise(indexes)\\n\\n            return filled_spans\\n\\n        # filled with other non-entity spans\\n        entity_spans = scan_results.starmap(lambda span, token: span).to_list()\\n        filled_spans = refill(entity_spans, content.text)\\n\\n        scan_results_dict = scan_results.to_dict()\\n\\n        # join together\\n        for span in filled_spans:\\n\\n            token = scan_results_dict.get(span)\\n\\n            if token != None:\\n                entity = token.getName()\\n                string = token.get(entity)\\n                yield self.Text(entity, string, span)\\n\\n            else:\\n                entity = None\\n                start, end = span\\n                string = content.text[start:end]\\n                yield self.Text(None, string, span)\";\n                var nbb_formatted_code = \"class EntityParser(object):\\n\\n    Text = namedtuple(\\\"Text\\\", [\\\"entity\\\", \\\"string\\\", \\\"span\\\"])\\n\\n    def __init__(self):\\n\\n        self.parser = (\\n            defender_threat.parser\\n            | uri.parser\\n            | url.parser\\n            | email.parser\\n            | hostname.parser\\n            | domain.parser\\n            | sslcert_fingerprint.parser\\n            | ipv6.parser\\n            | ipv4.parser\\n            | cve.parser\\n            | attack_technique.parser\\n            | filepath.parser\\n            | filehash_sha256.parser  # len = 64\\n            | filehash_sha1.parser  # len = 40\\n            | bitcoin_address.parser  # len = 34\\n            | filehash_md5.parser  # len = 32\\n        )\\n\\n    def iterscan(self, content):\\n\\n        \\\"\\\"\\\"\\n        for each scanning result, returns a tuple of:\\n            - matched tokens (packaged as a ParseResults object)\\n            - start location of the matched text in the given source string\\n            - end location in the given source string\\n        \\\"\\\"\\\"\\n\\n        # generator\\n        scanning = self.parser.scanString(content.text)\\n        scan_results = (\\n            seq(scanning)\\n            .starmap(lambda token, start, end: ((start, end), token))\\n            .cache()\\n        )\\n\\n        def refill(spans, text=content.text):\\n\\n            # get head and tail index of content.text\\n            head, tail = 0, len(content.text)\\n\\n            # append head and tail index\\n            indexes = deque(collapse(spans))\\n            indexes.appendleft(head)\\n            indexes.append(tail)\\n            indexes = sorted(set(indexes))\\n\\n            # bi-grams tokenize indexes\\n            filled_spans = pairwise(indexes)\\n\\n            return filled_spans\\n\\n        # filled with other non-entity spans\\n        entity_spans = scan_results.starmap(lambda span, token: span).to_list()\\n        filled_spans = refill(entity_spans, content.text)\\n\\n        scan_results_dict = scan_results.to_dict()\\n\\n        # join together\\n        for span in filled_spans:\\n\\n            token = scan_results_dict.get(span)\\n\\n            if token != None:\\n                entity = token.getName()\\n                string = token.get(entity)\\n                yield self.Text(entity, string, span)\\n\\n            else:\\n                entity = None\\n                start, end = span\\n                string = content.text[start:end]\\n                yield self.Text(None, string, span)\";\n                var nbb_cells = Jupyter.notebook.get_cells();\n                for (var i = 0; i < nbb_cells.length; ++i) {\n                    if (nbb_cells[i].input_prompt_number == nbb_cell_id) {\n                        if (nbb_cells[i].get_text() == nbb_unformatted_code) {\n                             nbb_cells[i].set_text(nbb_formatted_code);\n                        }\n                        break;\n                    }\n                }\n            }, 500);\n            ",
      "text/plain": [
       "<IPython.core.display.Javascript object>"
      ]
     },
     "metadata": {},
     "output_type": "display_data"
    }
   ],
   "source": [
    "class EntityParser(object):\n",
    "\n",
    "    Text = namedtuple(\"Text\", [\"entity\", \"string\", \"span\"])\n",
    "\n",
    "    def __init__(self):\n",
    "\n",
    "        self.parser = (\n",
    "            defender_threat.parser\n",
    "            | uri.parser\n",
    "            | url.parser\n",
    "            | email.parser\n",
    "            | hostname.parser\n",
    "            | domain.parser\n",
    "            | sslcert_fingerprint.parser\n",
    "            | ipv6.parser\n",
    "            | ipv4.parser\n",
    "            | cve.parser\n",
    "            | attack_technique.parser\n",
    "            | filepath.parser\n",
    "            | filehash_sha256.parser  # len = 64\n",
    "            | filehash_sha1.parser  # len = 40\n",
    "            | bitcoin_address.parser  # len = 34\n",
    "            | filehash_md5.parser  # len = 32\n",
    "        )\n",
    "\n",
    "    def iterscan(self, content):\n",
    "\n",
    "        \"\"\"\n",
    "        for each scanning result, returns a tuple of:\n",
    "            - matched tokens (packaged as a ParseResults object)\n",
    "            - start location of the matched text in the given source string\n",
    "            - end location in the given source string\n",
    "        \"\"\"\n",
    "\n",
    "        # generator\n",
    "        scanning = self.parser.scanString(content.text)\n",
    "        scan_results = (\n",
    "            seq(scanning)\n",
    "            .starmap(lambda token, start, end: ((start, end), token))\n",
    "            .cache()\n",
    "        )\n",
    "\n",
    "        def refill(spans, text=content.text):\n",
    "\n",
    "            # get head and tail index of content.text\n",
    "            head, tail = 0, len(content.text)\n",
    "\n",
    "            # append head and tail index\n",
    "            indexes = deque(collapse(spans))\n",
    "            indexes.appendleft(head)\n",
    "            indexes.append(tail)\n",
    "            indexes = sorted(set(indexes))\n",
    "\n",
    "            # bi-grams tokenize indexes\n",
    "            filled_spans = pairwise(indexes)\n",
    "\n",
    "            return filled_spans\n",
    "\n",
    "        # filled with other non-entity spans\n",
    "        entity_spans = scan_results.starmap(lambda span, token: span).to_list()\n",
    "        filled_spans = refill(entity_spans, content.text)\n",
    "\n",
    "        scan_results_dict = scan_results.to_dict()\n",
    "\n",
    "        # join together\n",
    "        for span in filled_spans:\n",
    "\n",
    "            token = scan_results_dict.get(span)\n",
    "\n",
    "            if token != None:\n",
    "                entity = token.getName()\n",
    "                string = token.get(entity)\n",
    "                yield self.Text(entity, string, span)\n",
    "\n",
    "            else:\n",
    "                entity = None\n",
    "                start, end = span\n",
    "                string = content.text[start:end]\n",
    "                yield self.Text(None, string, span)"
   ]
  },
  {
   "cell_type": "code",
   "execution_count": 15,
   "metadata": {
    "ExecuteTime": {
     "end_time": "2021-08-27T08:25:54.430358Z",
     "start_time": "2021-08-27T08:25:54.418146Z"
    }
   },
   "outputs": [
    {
     "data": {
      "application/javascript": "\n            setTimeout(function() {\n                var nbb_cell_id = 15;\n                var nbb_unformatted_code = \"parser = EntityParser()\";\n                var nbb_formatted_code = \"parser = EntityParser()\";\n                var nbb_cells = Jupyter.notebook.get_cells();\n                for (var i = 0; i < nbb_cells.length; ++i) {\n                    if (nbb_cells[i].input_prompt_number == nbb_cell_id) {\n                        if (nbb_cells[i].get_text() == nbb_unformatted_code) {\n                             nbb_cells[i].set_text(nbb_formatted_code);\n                        }\n                        break;\n                    }\n                }\n            }, 500);\n            ",
      "text/plain": [
       "<IPython.core.display.Javascript object>"
      ]
     },
     "metadata": {},
     "output_type": "display_data"
    }
   ],
   "source": [
    "parser = EntityParser()"
   ]
  },
  {
   "cell_type": "code",
   "execution_count": 16,
   "metadata": {
    "ExecuteTime": {
     "end_time": "2021-08-27T08:25:54.454861Z",
     "start_time": "2021-08-27T08:25:54.437064Z"
    }
   },
   "outputs": [
    {
     "data": {
      "application/javascript": "\n            setTimeout(function() {\n                var nbb_cell_id = 16;\n                var nbb_unformatted_code = \"c = ContentExtractor.get_contents(analyzer.primary_subtree_leafs[19])\\n# c = ContentExtractor.get_contents(analyzer.primary_subtree_leafs[1])\";\n                var nbb_formatted_code = \"c = ContentExtractor.get_contents(analyzer.primary_subtree_leafs[19])\\n# c = ContentExtractor.get_contents(analyzer.primary_subtree_leafs[1])\";\n                var nbb_cells = Jupyter.notebook.get_cells();\n                for (var i = 0; i < nbb_cells.length; ++i) {\n                    if (nbb_cells[i].input_prompt_number == nbb_cell_id) {\n                        if (nbb_cells[i].get_text() == nbb_unformatted_code) {\n                             nbb_cells[i].set_text(nbb_formatted_code);\n                        }\n                        break;\n                    }\n                }\n            }, 500);\n            ",
      "text/plain": [
       "<IPython.core.display.Javascript object>"
      ]
     },
     "metadata": {},
     "output_type": "display_data"
    }
   ],
   "source": [
    "c = ContentExtractor.get_contents(analyzer.primary_subtree_leafs[19])\n",
    "# c = ContentExtractor.get_contents(analyzer.primary_subtree_leafs[1])"
   ]
  },
  {
   "cell_type": "code",
   "execution_count": 17,
   "metadata": {
    "ExecuteTime": {
     "end_time": "2021-08-27T08:25:54.512165Z",
     "start_time": "2021-08-27T08:25:54.465854Z"
    }
   },
   "outputs": [
    {
     "data": {
      "text/plain": [
       "[Text(entity='FilePath', string='taskkill.exe', span=(0, 12)),\n",
       " Text(entity=None, string=' /f /PID \"8656\"', span=(12, 27))]"
      ]
     },
     "execution_count": 17,
     "metadata": {},
     "output_type": "execute_result"
    },
    {
     "data": {
      "application/javascript": "\n            setTimeout(function() {\n                var nbb_cell_id = 17;\n                var nbb_unformatted_code = \"list(parser.iterscan(c[0]))\";\n                var nbb_formatted_code = \"list(parser.iterscan(c[0]))\";\n                var nbb_cells = Jupyter.notebook.get_cells();\n                for (var i = 0; i < nbb_cells.length; ++i) {\n                    if (nbb_cells[i].input_prompt_number == nbb_cell_id) {\n                        if (nbb_cells[i].get_text() == nbb_unformatted_code) {\n                             nbb_cells[i].set_text(nbb_formatted_code);\n                        }\n                        break;\n                    }\n                }\n            }, 500);\n            ",
      "text/plain": [
       "<IPython.core.display.Javascript object>"
      ]
     },
     "metadata": {},
     "output_type": "display_data"
    }
   ],
   "source": [
    "list(parser.iterscan(c[0]))"
   ]
  },
  {
   "cell_type": "code",
   "execution_count": 18,
   "metadata": {
    "ExecuteTime": {
     "end_time": "2021-08-27T08:25:54.549472Z",
     "start_time": "2021-08-27T08:25:54.520366Z"
    }
   },
   "outputs": [
    {
     "data": {
      "text/plain": [
       "'<a href=\"https://labs.sentinelone.com/category/crimeware/\" rel=\"category tag\">Crimeware</a>'"
      ]
     },
     "execution_count": 18,
     "metadata": {},
     "output_type": "execute_result"
    },
    {
     "data": {
      "application/javascript": "\n            setTimeout(function() {\n                var nbb_cell_id = 18;\n                var nbb_unformatted_code = \"etree.tounicode(analyzer.primary_subtree_leafs[0])\";\n                var nbb_formatted_code = \"etree.tounicode(analyzer.primary_subtree_leafs[0])\";\n                var nbb_cells = Jupyter.notebook.get_cells();\n                for (var i = 0; i < nbb_cells.length; ++i) {\n                    if (nbb_cells[i].input_prompt_number == nbb_cell_id) {\n                        if (nbb_cells[i].get_text() == nbb_unformatted_code) {\n                             nbb_cells[i].set_text(nbb_formatted_code);\n                        }\n                        break;\n                    }\n                }\n            }, 500);\n            ",
      "text/plain": [
       "<IPython.core.display.Javascript object>"
      ]
     },
     "metadata": {},
     "output_type": "display_data"
    }
   ],
   "source": [
    "etree.tounicode(analyzer.primary_subtree_leafs[0])"
   ]
  },
  {
   "cell_type": "code",
   "execution_count": 19,
   "metadata": {
    "ExecuteTime": {
     "end_time": "2021-08-27T08:25:54.604551Z",
     "start_time": "2021-08-27T08:25:54.562487Z"
    }
   },
   "outputs": [
    {
     "data": {
      "text/plain": [
       "'Crimeware'"
      ]
     },
     "execution_count": 19,
     "metadata": {},
     "output_type": "execute_result"
    },
    {
     "data": {
      "application/javascript": "\n            setTimeout(function() {\n                var nbb_cell_id = 19;\n                var nbb_unformatted_code = \"etree.tounicode(analyzer.primary_subtree_leafs[0])[78:87][0:9]\";\n                var nbb_formatted_code = \"etree.tounicode(analyzer.primary_subtree_leafs[0])[78:87][0:9]\";\n                var nbb_cells = Jupyter.notebook.get_cells();\n                for (var i = 0; i < nbb_cells.length; ++i) {\n                    if (nbb_cells[i].input_prompt_number == nbb_cell_id) {\n                        if (nbb_cells[i].get_text() == nbb_unformatted_code) {\n                             nbb_cells[i].set_text(nbb_formatted_code);\n                        }\n                        break;\n                    }\n                }\n            }, 500);\n            ",
      "text/plain": [
       "<IPython.core.display.Javascript object>"
      ]
     },
     "metadata": {},
     "output_type": "display_data"
    }
   ],
   "source": [
    "etree.tounicode(analyzer.primary_subtree_leafs[0])[78:87][0:9]"
   ]
  },
  {
   "cell_type": "code",
   "execution_count": 20,
   "metadata": {
    "ExecuteTime": {
     "end_time": "2021-08-27T08:25:54.632996Z",
     "start_time": "2021-08-27T08:25:54.610583Z"
    }
   },
   "outputs": [
    {
     "data": {
      "text/plain": [
       "'HelloKitty Ransomware Lacks Stealth, But Still Strikes Home'"
      ]
     },
     "execution_count": 20,
     "metadata": {},
     "output_type": "execute_result"
    },
    {
     "data": {
      "application/javascript": "\n            setTimeout(function() {\n                var nbb_cell_id = 20;\n                var nbb_unformatted_code = \"etree.tounicode(analyzer.primary_subtree_leafs[1])[49:108][0:59]\";\n                var nbb_formatted_code = \"etree.tounicode(analyzer.primary_subtree_leafs[1])[49:108][0:59]\";\n                var nbb_cells = Jupyter.notebook.get_cells();\n                for (var i = 0; i < nbb_cells.length; ++i) {\n                    if (nbb_cells[i].input_prompt_number == nbb_cell_id) {\n                        if (nbb_cells[i].get_text() == nbb_unformatted_code) {\n                             nbb_cells[i].set_text(nbb_formatted_code);\n                        }\n                        break;\n                    }\n                }\n            }, 500);\n            ",
      "text/plain": [
       "<IPython.core.display.Javascript object>"
      ]
     },
     "metadata": {},
     "output_type": "display_data"
    }
   ],
   "source": [
    "etree.tounicode(analyzer.primary_subtree_leafs[1])[49:108][0:59]"
   ]
  },
  {
   "cell_type": "code",
   "execution_count": 21,
   "metadata": {
    "ExecuteTime": {
     "end_time": "2021-08-27T08:25:54.659936Z",
     "start_time": "2021-08-27T08:25:54.641973Z"
    }
   },
   "outputs": [
    {
     "data": {
      "text/plain": [
       "'taskkill.exe'"
      ]
     },
     "execution_count": 21,
     "metadata": {},
     "output_type": "execute_result"
    },
    {
     "data": {
      "application/javascript": "\n            setTimeout(function() {\n                var nbb_cell_id = 21;\n                var nbb_unformatted_code = \"etree.tounicode(analyzer.primary_subtree_leafs[19])[6:18][0:12]\";\n                var nbb_formatted_code = \"etree.tounicode(analyzer.primary_subtree_leafs[19])[6:18][0:12]\";\n                var nbb_cells = Jupyter.notebook.get_cells();\n                for (var i = 0; i < nbb_cells.length; ++i) {\n                    if (nbb_cells[i].input_prompt_number == nbb_cell_id) {\n                        if (nbb_cells[i].get_text() == nbb_unformatted_code) {\n                             nbb_cells[i].set_text(nbb_formatted_code);\n                        }\n                        break;\n                    }\n                }\n            }, 500);\n            ",
      "text/plain": [
       "<IPython.core.display.Javascript object>"
      ]
     },
     "metadata": {},
     "output_type": "display_data"
    }
   ],
   "source": [
    "etree.tounicode(analyzer.primary_subtree_leafs[19])[6:18][0:12]"
   ]
  },
  {
   "cell_type": "markdown",
   "metadata": {},
   "source": [
    "---"
   ]
  },
  {
   "cell_type": "markdown",
   "metadata": {},
   "source": [
    "---"
   ]
  },
  {
   "cell_type": "markdown",
   "metadata": {},
   "source": [
    "# Pipe?"
   ]
  },
  {
   "cell_type": "code",
   "execution_count": 22,
   "metadata": {
    "ExecuteTime": {
     "end_time": "2021-08-27T08:25:59.106898Z",
     "start_time": "2021-08-27T08:25:54.667178Z"
    }
   },
   "outputs": [
    {
     "data": {
      "text/html": [
       "<table>\n",
       "<tbody>\n",
       "<tr><td>&lt;Element a at 0x125ef8288&gt;   </td><td>Content(property=&#x27;text&#x27;, text=&#x27;Crimeware&#x27;, span=(78, 87))                                                                                                                                                                                              </td><td>[Text(entity=None, string=&#x27;Crimeware&#x27;, span=(0, 9))]                                                                                                                                                                                              </td></tr>\n",
       "<tr><td>&lt;Element h1 at 0x125ef8088&gt;  </td><td>Content(property=&#x27;text&#x27;, text=&#x27;HelloKitty Ransomware Lacks Stealth, But Still Strikes Home&#x27;, span=(49, 108))                                                                                                                                           </td><td>[Text(entity=None, string=&#x27;HelloKitty Ransomware Lacks Stealth, But Still Strikes Home&#x27;, span=(0, 59))]                                                                                                                                           </td></tr>\n",
       "<tr><td>&lt;Element h1 at 0x125ef8088&gt;  </td><td>Content(property=&#x27;tail&#x27;, text=&#x27;\\n\\t\\t&#x27;, span=(113, 116))                                                                                                                                                                                               </td><td>[Text(entity=None, string=&#x27;\\n\\t\\t&#x27;, span=(0, 3))]                                                                                                                                                                                                 </td></tr>\n",
       "<tr><td>&lt;Element a at 0x125f21dc8&gt;   </td><td>Content(property=&#x27;text&#x27;, text=&#x27;Jim Walter&#x27;, span=(69, 79))                                                                                                                                                                                             </td><td>[Text(entity=None, string=&#x27;Jim Walter&#x27;, span=(0, 10))]                                                                                                                                                                                            </td></tr>\n",
       "<tr><td>&lt;Element time at 0x125f21f08&gt;</td><td>Content(property=&#x27;text&#x27;, text=&#x27;March 8, 2021&#x27;, span=(97, 110))                                                                                                                                                                                         </td><td>[Text(entity=None, string=&#x27;March 8, 2021&#x27;, span=(0, 13))]                                                                                                                                                                                         </td></tr>\n",
       "<tr><td>&lt;Element time at 0x125f21f48&gt;</td><td>Content(property=&#x27;text&#x27;, text=&#x27;March 11, 2021&#x27;, span=(59, 73))                                                                                                                                                                                         </td><td>[Text(entity=None, string=&#x27;March 11, 2021&#x27;, span=(0, 14))]                                                                                                                                                                                        </td></tr>\n",
       "<tr><td>&lt;Element p at 0x125f21fc8&gt;   </td><td>Content(property=&#x27;text&#x27;, text=&#x27;Game studio CD Projekt Red recently &#x27;, span=(3, 39))                                                                                                                                                                    </td><td>[Text(entity=None, string=&#x27;Game studio CD Projekt Red recently &#x27;, span=(0, 36))]                                                                                                                                                                  </td></tr>\n",
       "<tr><td>&lt;Element p at 0x125f21fc8&gt;   </td><td>Content(property=&#x27;tail&#x27;, text=&#x27;\\n&#x27;, span=(373, 374))                                                                                                                                                                                                   </td><td>[Text(entity=None, string=&#x27;\\n&#x27;, span=(0, 1))]                                                                                                                                                                                                     </td></tr>\n",
       "<tr><td>&lt;Element a at 0x125f10048&gt;   </td><td>Content(property=&#x27;text&#x27;, text=&#x27;disclosed&#x27;, span=(120, 129))                                                                                                                                                                                            </td><td>[Text(entity=None, string=&#x27;disclosed&#x27;, span=(0, 9))]                                                                                                                                                                                              </td></tr>\n",
       "<tr><td>&lt;Element a at 0x125f10048&gt;   </td><td>Content(property=&#x27;tail&#x27;, text=&#x27; that it became a victim of a targeted, highly-impactful ransomware. In the days following the disclosure, it was revealed that the ransomware family most likely behind the attack was “HelloKitty”.&#x27;, span=(133, 330))</td><td>[Text(entity=None, string=&#x27; that it became a victim of a targeted, highly-impactful ransomware. In the days following the disclosure, it was revealed that the ransomware family most likely behind the attack was “HelloKitty”.&#x27;, span=(0, 197))]</td></tr>\n",
       "</tbody>\n",
       "</table><p>Showing 10 of 170 rows"
      ],
      "text/plain": [
       "[(<Element a at 0x125ef8288>, Content(property='text', text='Crimeware', span=(78, 87)), [Text(entity=None, string='Crimeware', span=(0, 9))]), (<Element h1 at 0x125ef8088>, Content(property='text', text='HelloKitty Ransomware Lacks Stealth, But Still Strikes Home', span=(49, 108)), [Text(entity=None, string='HelloKitty Ransomware Lacks Stealth, But Still Strikes Home', span=(0, 59))]), (<Element h1 at 0x125ef8088>, Content(property='tail', text='\\n\\t\\t', span=(113, 116)), [Text(entity=None, string='\\n\\t\\t', span=(0, 3))]), (<Element a at 0x125f21dc8>, Content(property='text', text='Jim Walter', span=(69, 79)), [Text(entity=None, string='Jim Walter', span=(0, 10))]), (<Element time at 0x125f21f08>, Content(property='text', text='March 8, 2021', span=(97, 110)), [Text(entity=None, string='March 8, 2021', span=(0, 13))]), (<Element time at 0x125f21f48>, Content(property='text', text='March 11, 2021', span=(59, 73)), [Text(entity=None, string='March 11, 2021', span=(0, 14))]), (<Element p at 0x125f21fc8>, Content(property='text', text='Game studio CD Projekt Red recently ', span=(3, 39)), [Text(entity=None, string='Game studio CD Projekt Red recently ', span=(0, 36))]), (<Element p at 0x125f21fc8>, Content(property='tail', text='\\n', span=(373, 374)), [Text(entity=None, string='\\n', span=(0, 1))]), (<Element a at 0x125f10048>, Content(property='text', text='disclosed', span=(120, 129)), [Text(entity=None, string='disclosed', span=(0, 9))]), (<Element a at 0x125f10048>, Content(property='tail', text=' that it became a victim of a targeted, highly-impactful ransomware. In the days following the disclosure, it was revealed that the ransomware family most likely behind the attack was “HelloKitty”.', span=(133, 330)), [Text(entity=None, string=' that it became a victim of a targeted, highly-impactful ransomware. In the days following the disclosure, it was revealed that the ransomware family most likely behind the attack was “HelloKitty”.', span=(0, 197))]), (<Element p at 0x125f10108>, Content(property='text', text='HelloKitty is a ransomware family that emerged in late 2020. While it lacks the sophistication of some of the more well-known families such as Ryuk, REvil, and Conti, it has nevertheless struck some notable targets, including CEMIG0. In this post, we analyse a recent HelloKitty sample and outline the basic behaviors and traits associated with this family of ransomware.', span=(3, 374)), [Text(entity=None, string='HelloKitty is a ransomware family that emerged in late 2020. While it lacks the sophistication of some of the more well-known families such as Ryuk, REvil, and Conti, it has nevertheless struck some notable targets, including CEMIG0. In this post, we analyse a recent HelloKitty sample and outline the basic behaviors and traits associated with this family of ransomware.', span=(0, 371))]), (<Element p at 0x125f10108>, Content(property='tail', text='\\n', span=(378, 379)), [Text(entity=None, string='\\n', span=(0, 1))]), (<Element h2 at 0x125f10148>, Content(property='text', text='Execution and Behavior', span=(4, 26)), [Text(entity=None, string='Execution and Behavior', span=(0, 22))]), (<Element h2 at 0x125f10148>, Content(property='tail', text='\\n', span=(31, 32)), [Text(entity=None, string='\\n', span=(0, 1))]), (<Element p at 0x125f10188>, Content(property='text', text='The “HelloKitty” name is based on internal mutex names, which are apparent upon execution.', span=(3, 93)), [Text(entity=None, string='The “HelloKitty” name is based on internal mutex names, which are apparent upon execution.', span=(0, 90))]), (<Element p at 0x125f10188>, Content(property='tail', text='\\n', span=(97, 98)), [Text(entity=None, string='\\n', span=(0, 1))]), (<Element p at 0x125f10248>, Content(property='text', text='While still somewhat unclear, current intelligence indicates that the primary delivery method of HelloKitty binaries is via phish email or via secondary infection in conjunction with other malware.', span=(3, 200)), [Text(entity=None, string='While still somewhat unclear, current intelligence indicates that the primary delivery method of HelloKitty binaries is via phish email or via secondary infection in conjunction with other malware.', span=(0, 197))]), (<Element p at 0x125f10248>, Content(property='tail', text='\\n', span=(204, 205)), [Text(entity=None, string='\\n', span=(0, 1))]), (<Element p at 0x125f10288>, Content(property='text', text='Once launched, HelloKitty will attempt to disable and terminate a number of processes and services so as to reduce interference with the encryption process. This includes processes and services associated with IIS, MSSQL, Quickbooks, Sharepoint, and more. These actions are carried out via ', span=(3, 293)), [Text(entity=None, string='Once launched, HelloKitty will attempt to disable and terminate a number of processes and services so as to reduce interference with the encryption process. This includes processes and services associated with IIS, MSSQL, Quickbooks, Sharepoint, and more. These actions are carried out via ', span=(0, 290))]), (<Element p at 0x125f10288>, Content(property='tail', text='\\n', span=(348, 349)), [Text(entity=None, string='\\n', span=(0, 1))]), (<Element code at 0x125f102c8>, Content(property='text', text='taskkill.exe', span=(6, 18)), [Text(entity='FilePath', string='taskkill.exe', span=(0, 12))]), (<Element code at 0x125f102c8>, Content(property='tail', text=' and ', span=(25, 30)), [Text(entity=None, string=' and ', span=(0, 5))]), (<Element code at 0x125f10308>, Content(property='text', text='net.exe', span=(6, 13)), [Text(entity='FilePath', string='net.exe', span=(0, 7))]), (<Element code at 0x125f10308>, Content(property='tail', text='.', span=(20, 21)), [Text(entity=None, string='.', span=(0, 1))]), (<Element p at 0x125f10348>, Content(property='text', text='In the analyzed sample, this is all done in a very non-stealthy manner. All spawned CMD windows are in the foreground and fully visible. This ‘lack of discreteness’ is atypical for modern ransomware, or any successful malware, for that matter.', span=(3, 246)), [Text(entity=None, string='In the analyzed sample, this is all done in a very non-stealthy manner. All spawned CMD windows are in the foreground and fully visible. This ‘lack of discreteness’ is atypical for modern ransomware, or any successful malware, for that matter.', span=(0, 243))]), (<Element p at 0x125f10348>, Content(property='tail', text='\\n', span=(250, 251)), [Text(entity=None, string='\\n', span=(0, 1))]), (<Element p at 0x125f10408>, Content(property='text', text='A full list of processes from the analyzed sample are listed below:', span=(3, 70)), [Text(entity=None, string='A full list of processes from the analyzed sample are listed below:', span=(0, 67))]), (<Element p at 0x125f10408>, Content(property='tail', text='\\n', span=(74, 75)), [Text(entity=None, string='\\n', span=(0, 1))]), (<Element pre at 0x125f10448>, Content(property='text', text='\\ndsa*\\nNtrtsca\\nds_moni\\nNotifie\\nTmListe\\niVPAgen\\nCNTAoSM\\nIBM*\\nbes10*\\nblack*\\nrobo*\\ncopy*\\nstore.e\\nsql*\\nvee*\\nwrsa*\\nwrsa.ex\\npostg*\\nsage*\\nMSSQLServerADHelper100\\nMSSQL$ISARS\\nMSSQL$MSFW\\nSQLAgent$ISARS\\nSQLAgent$MSFW\\nSQLBrowser\\nReportServer$ISARS\\nSQLWriter\\nWinDefend\\nmr2kserv\\nMSExchangeADTopology\\nMSExchangeFBA\\nMSExchangeIS\\nMSExchangeSA\\nShadowProtectSvc\\nSPAdminV4\\nSPTimerV4\\nSPTraceV4\\nSPUserCodeV4\\nSPWriterV4\\nSPSearch4\\nIISADMIN\\nfirebirdguardiandefaultinstance\\nibmiasrw\\nQBCFMonitorService\\nQBVSS\\nQBPOSDBServiceV12\\n\"IBM Domino Server(CProgramFilesIBMDominodata)\"\\n\"IBM Domino Diagnostics(CProgramFilesIBMDomino)\"\\n\"Simply Accounting Database Connection Manager\"\\nQuickBooksDB1\\nQuickBooksDB2\\nQuickBooksDB3\\nQuickBooksDB4\\nQuickBooksDB5\\nQuickBooksDB6\\nQuickBooksDB7\\nQuickBooksDB8\\nQuickBooksDB9\\nQuickBooksDB10\\nQuickBooksDB11\\nQuickBooksDB12\\nQuickBooksDB13\\nQuickBooksDB14\\nQuickBooksDB15\\nQuickBooksDB16\\nQuickBooksDB17\\nQuickBooksDB18\\nQuickBooksDB19\\nQuickBooksDB20\\nQuickBooksDB21\\nQuickBooksDB22\\nQuickBooksDB23\\nQuickBooksDB24\\nQuickBooksDB25\\n', span=(5, 1015)), [Text(entity=None, string='\\ndsa*\\nNtrtsca\\nds_moni\\nNotifie\\nTmListe\\niVPAgen\\nCNTAoSM\\nIBM*\\nbes10*\\nblack*\\nrobo*\\ncopy*\\n', span=(0, 85)), Text(entity='FilePath', string='store.e', span=(85, 92)), Text(entity=None, string='\\nsql*\\nvee*\\nwrsa*\\n', span=(92, 109)), Text(entity='FilePath', string='wrsa.ex', span=(109, 116)), Text(entity=None, string='\\npostg*\\nsage*\\nMSSQLServerADHelper100\\nMSSQL$ISARS\\nMSSQL$MSFW\\nSQLAgent$ISARS\\nSQLAgent$MSFW\\nSQLBrowser\\nReportServer$ISARS\\nSQLWriter\\nWinDefend\\nmr2kserv\\nMSExchangeADTopology\\nMSExchangeFBA\\nMSExchangeIS\\nMSExchangeSA\\nShadowProtectSvc\\nSPAdminV4\\nSPTimerV4\\nSPTraceV4\\nSPUserCodeV4\\nSPWriterV4\\nSPSearch4\\nIISADMIN\\nfirebirdguardiandefaultinstance\\nibmiasrw\\nQBCFMonitorService\\nQBVSS\\nQBPOSDBServiceV12\\n\"IBM Domino Server(CProgramFilesIBMDominodata)\"\\n\"IBM Domino Diagnostics(CProgramFilesIBMDomino)\"\\n\"Simply Accounting Database Connection Manager\"\\nQuickBooksDB1\\nQuickBooksDB2\\nQuickBooksDB3\\nQuickBooksDB4\\nQuickBooksDB5\\nQuickBooksDB6\\nQuickBooksDB7\\nQuickBooksDB8\\nQuickBooksDB9\\nQuickBooksDB10\\nQuickBooksDB11\\nQuickBooksDB12\\nQuickBooksDB13\\nQuickBooksDB14\\nQuickBooksDB15\\nQuickBooksDB16\\nQuickBooksDB17\\nQuickBooksDB18\\nQuickBooksDB19\\nQuickBooksDB20\\nQuickBooksDB21\\nQuickBooksDB22\\nQuickBooksDB23\\nQuickBooksDB24\\nQuickBooksDB25\\n', span=(116, 1010))]), (<Element pre at 0x125f10448>, Content(property='tail', text='\\n', span=(1021, 1022)), [Text(entity=None, string='\\n', span=(0, 1))]), (<Element p at 0x125f10488>, Content(property='text', text='Additional processes and services that are terminated are identified via PID. For example:', span=(3, 93)), [Text(entity=None, string='Additional processes and services that are terminated are identified via PID. For example:', span=(0, 90))]), (<Element p at 0x125f10488>, Content(property='tail', text='\\n', span=(97, 98)), [Text(entity=None, string='\\n', span=(0, 1))]), (<Element code at 0x125f10508>, Content(property='text', text='taskkill.exe /f /PID \"8512\"', span=(6, 33)), [Text(entity='FilePath', string='taskkill.exe', span=(0, 12)), Text(entity=None, string=' /f /PID \"8512\"', span=(12, 27))]), (<Element code at 0x125f10588>, Content(property='text', text='taskkill.exe /f /PID \"8656\"', span=(6, 33)), [Text(entity='FilePath', string='taskkill.exe', span=(0, 12)), Text(entity=None, string=' /f /PID \"8656\"', span=(12, 27))]), (<Element p at 0x125f105c8>, Content(property='text', text='If HelloKitty is unable to stop any specific processes or services, it will leverage the Windows Restart Manager API to further assist in termination.', span=(3, 153)), [Text(entity=None, string='If HelloKitty is unable to stop any specific processes or services, it will leverage the Windows Restart Manager API to further assist in termination.', span=(0, 150))]), (<Element p at 0x125f105c8>, Content(property='tail', text='\\n', span=(157, 158)), [Text(entity=None, string='\\n', span=(0, 1))]), (<Element p at 0x125f10688>, Content(property='text', text='HelloKitty will also utilize WMI to gather system details and help identify running processes and any potentially problematic processes. This is done both by name and by PID. A number of examples are shown below:', span=(3, 215)), [Text(entity=None, string='HelloKitty will also utilize WMI to gather system details and help identify running processes and any potentially problematic processes. This is done both by name and by PID. A number of examples are shown below:', span=(0, 212))]), (<Element p at 0x125f10688>, Content(property='tail', text='\\n', span=(219, 220)), [Text(entity=None, string='\\n', span=(0, 1))]), (<Element pre at 0x125f106c8>, Content(property='text', text='\\nstart iwbemservices::execquery - root\\\\cimv2 : select __path, processid, csname, caption, sessionid, threadcount, workingsetsize, kernelmodetime, usermodetime, parentprocessid from win32_process\\n\\nstart iwbemservices::execquery - root\\\\cimv2 : select __path, processid, csname, caption, sessionid, threadcount, workingsetsize, kernelmodetime, usermodetime, parentprocessid from win32_process where (  caption = \"store.exe\")\\n\\nstart iwbemservices::execquery - root\\\\cimv2 : select __path, processid, csname, caption, sessionid, threadcount, workingsetsize, kernelmodetime, usermodetime, parentprocessid from win32_process where (  caption = \"wrsa.exe\")\\n\\nstart iwbemservices::execquery - root\\\\cimv2 : select __path, processid, csname, caption, sessionid, threadcount, workingsetsize, kernelmodetime, usermodetime, parentprocessid from win32_process where (  processid = 3036)\\n\\nstart iwbemservices::execquery - root\\\\cimv2 : select __path, processid, csname, caption, sessionid, threadcount, workingsetsize, kernelmodetime, usermodetime, parentprocessid from win32_process where (  processid = 4460)\\n\\nstart iwbemservices::execquery - root\\\\cimv2 : select __path, processid, csname, caption, sessionid, threadcount, workingsetsize, kernelmodetime, usermodetime, parentprocessid from win32_process where (  processid = 3052)\\n\\nstart iwbemservices::execquery - root\\\\cimv2 : select __path, processid, csname, caption, sessionid, threadcount, workingsetsize, kernelmodetime, usermodetime, parentprocessid from win32_process where (  processid = 4476)\\n\\nstart iwbemservices::execquery - root\\\\cimv2 : select __path, processid, csname, caption, sessionid, threadcount, workingsetsize, kernelmodetime, usermodetime, parentprocessid from win32_process where (  processid = 1560)\\n\\nstart iwbemservices::execquery - root\\\\cimv2 : select __path, processid, csname, caption, sessionid, threadcount, workingsetsize, kernelmodetime, usermodetime, parentprocessid from win32_process where (  processid = 8124)\\n\\nstart iwbemservices::exe\\n', span=(5, 2011)), [Text(entity=None, string='\\nstart iwbemservices::execquery - root\\\\cimv2 : select __path, processid, csname, caption, sessionid, threadcount, workingsetsize, kernelmodetime, usermodetime, parentprocessid from win32_process\\n\\nstart iwbemservices::execquery - root\\\\cimv2 : select __path, processid, csname, caption, sessionid, threadcount, workingsetsize, kernelmodetime, usermodetime, parentprocessid from win32_process where (  caption = \"', span=(0, 410)), Text(entity='FilePath', string='store.exe', span=(410, 419)), Text(entity=None, string='\")\\n\\nstart iwbemservices::execquery - root\\\\cimv2 : select __path, processid, csname, caption, sessionid, threadcount, workingsetsize, kernelmodetime, usermodetime, parentprocessid from win32_process where (  caption = \"', span=(419, 637)), Text(entity='FilePath', string='wrsa.exe', span=(637, 645)), Text(entity=None, string='\")\\n\\nstart iwbemservices::execquery - root\\\\cimv2 : select __path, processid, csname, caption, sessionid, threadcount, workingsetsize, kernelmodetime, usermodetime, parentprocessid from win32_process where (  processid = 3036)\\n\\nstart iwbemservices::execquery - root\\\\cimv2 : select __path, processid, csname, caption, sessionid, threadcount, workingsetsize, kernelmodetime, usermodetime, parentprocessid from win32_process where (  processid = 4460)\\n\\nstart iwbemservices::execquery - root\\\\cimv2 : select __path, processid, csname, caption, sessionid, threadcount, workingsetsize, kernelmodetime, usermodetime, parentprocessid from win32_process where (  processid = 3052)\\n\\nstart iwbemservices::execquery - root\\\\cimv2 : select __path, processid, csname, caption, sessionid, threadcount, workingsetsize, kernelmodetime, usermodetime, parentprocessid from win32_process where (  processid = 4476)\\n\\nstart iwbemservices::execquery - root\\\\cimv2 : select __path, processid, csname, caption, sessionid, threadcount, workingsetsize, kernelmodetime, usermodetime, parentprocessid from win32_process where (  processid = 1560)\\n\\nstart iwbemservices::execquery - root\\\\cimv2 : select __path, processid, csname, caption, sessionid, threadcount, workingsetsize, kernelmodetime, usermodetime, parentprocessid from win32_process where (  processid = 8124)\\n\\nstart iwbemservices::exe\\n', span=(645, 2006))]), (<Element pre at 0x125f106c8>, Content(property='tail', text='\\n', span=(2017, 2018)), [Text(entity=None, string='\\n', span=(0, 1))]), (<Element h2 at 0x125f10708>, Content(property='text', text='Encryption and Ransom Note', span=(4, 30)), [Text(entity=None, string='Encryption and Ransom Note', span=(0, 26))]), (<Element h2 at 0x125f10708>, Content(property='tail', text='\\n', span=(35, 36)), [Text(entity=None, string='\\n', span=(0, 1))]), (<Element p at 0x125f10748>, Content(property='text', text='Encryption is initiated and completed very quickly once applicable services and processes have been terminated. Specific encryption recipes and routines can vary across variants of HelloKitty. Generally speaking, they tend to use a combination of AES-256 & RSA-2048 or even NTRU+AES-128.', span=(3, 290)), [Text(entity=None, string='Encryption is initiated and completed very quickly once applicable services and processes have been terminated. Specific encryption recipes and routines can vary across variants of HelloKitty. Generally speaking, they tend to use a combination of AES-256 & RSA-2048 or even NTRU+AES-128.', span=(0, 287))]), (<Element p at 0x125f10748>, Content(property='tail', text='\\n', span=(294, 295)), [Text(entity=None, string='\\n', span=(0, 1))]), (<Element p at 0x125f10788>, Content(property='text', text='Once encrypted, affected files receive the ', span=(3, 46)), [Text(entity=None, string='Once encrypted, affected files receive the ', span=(0, 43))]), (<Element p at 0x125f10788>, Content(property='tail', text='\\n', span=(82, 83)), [Text(entity=None, string='\\n', span=(0, 1))]), (<Element code at 0x125f107c8>, Content(property='text', text='.crypted', span=(6, 14)), [Text(entity=None, string='.crypted', span=(0, 8))]), (<Element code at 0x125f107c8>, Content(property='tail', text=' extension.', span=(21, 32)), [Text(entity=None, string=' extension.', span=(0, 11))]), (<Element p at 0x125f10888>, Content(property='text', text='Ransom notes are typically customized to directly reference the victim and victim’s environment. Victims are instructed to visit a TOR-based payment and support portal. The following example has been sanitized:', span=(3, 213)), [Text(entity=None, string='Ransom notes are typically customized to directly reference the victim and victim’s environment. Victims are instructed to visit a TOR-based payment and support portal. The following example has been sanitized:', span=(0, 210))]), (<Element p at 0x125f10888>, Content(property='tail', text='\\n', span=(217, 218)), [Text(entity=None, string='\\n', span=(0, 1))]), (<Element p at 0x125f10948>, Content(property='text', text='It is also important to note that as of this writing, the onion address associated with HelloKitty ransom notes is not active.', span=(3, 129)), [Text(entity=None, string='It is also important to note that as of this writing, the onion address associated with HelloKitty ransom notes is not active.', span=(0, 126))]), (<Element p at 0x125f10948>, Content(property='tail', text='\\n', span=(133, 134)), [Text(entity=None, string='\\n', span=(0, 1))]), (<Element code at 0x125f109c8>, Content(property='text', text='6x7dp6h3w6q3ugjv4yv5gycj3femb24kysgry5b44hhgfwc5ml5qrdad.onion', span=(6, 68)), [Text(entity='domain', string='6x7dp6h3w6q3ugjv4yv5gycj3femb24kysgry5b44hhgfwc5ml5qrdad.onion', span=(0, 62))]), (<Element h2 at 0x125f10a08>, Content(property='text', text='Conclusion', span=(4, 14)), [Text(entity=None, string='Conclusion', span=(0, 10))]), (<Element h2 at 0x125f10a08>, Content(property='tail', text='\\n', span=(19, 20)), [Text(entity=None, string='\\n', span=(0, 1))]), (<Element p at 0x125f10a48>, Content(property='text', text='HelloKitty may be easier to spot than other modern ransomware families, but upon execution it is no less dangerous. There are currently no known ‘weaknesses’ in the encryption routines, and there are no thirdy-party decrypters available for the HelloKitty ransomware. Therefore, the only true defense is prevention. While this family does not appear to be actively leaking victim data at the moment, that could change at any point, in addition to them choosing to adopt some of the more recent extortion methods that go along with ransomware (DDoS).', span=(3, 552)), [Text(entity=None, string='HelloKitty may be easier to spot than other modern ransomware families, but upon execution it is no less dangerous. There are currently no known ‘weaknesses’ in the encryption routines, and there are no thirdy-party decrypters available for the HelloKitty ransomware. Therefore, the only true defense is prevention. While this family does not appear to be actively leaking victim data at the moment, that could change at any point, in addition to them choosing to adopt some of the more recent extortion methods that go along with ransomware (DDoS).', span=(0, 549))]), (<Element p at 0x125f10a48>, Content(property='tail', text='\\n', span=(556, 557)), [Text(entity=None, string='\\n', span=(0, 1))]), (<Element p at 0x125f10a88>, Content(property='text', text='Actors behind the more recent campaign(s) are reportedly attempting to auction the CD Projekt data off in various ‘underground’ forums. At present this sale of this data does appear to be legitimate. Time will tell if additional victim data is dealt with in the same way.', span=(3, 274)), [Text(entity=None, string='Actors behind the more recent campaign(s) are reportedly attempting to auction the CD Projekt data off in various ‘underground’ forums. At present this sale of this data does appear to be legitimate. Time will tell if additional victim data is dealt with in the same way.', span=(0, 271))]), (<Element p at 0x125f10a88>, Content(property='tail', text='\\n', span=(278, 279)), [Text(entity=None, string='\\n', span=(0, 1))]), (<Element p at 0x125f10ac8>, Content(property='text', text='To protect yourself against HelloKitty, make sure you are armed with a modern Endpoint Security platform, which is configured correctly and up to date. The SentinelOne Singularity Platform is fully capable of preventing and detecting all malicious behaviors associated with the HelloKitty ransomware family.', span=(3, 310)), [Text(entity=None, string='To protect yourself against HelloKitty, make sure you are armed with a modern Endpoint Security platform, which is configured correctly and up to date. The SentinelOne Singularity Platform is fully capable of preventing and detecting all malicious behaviors associated with the HelloKitty ransomware family.', span=(0, 307))]), (<Element p at 0x125f10ac8>, Content(property='tail', text='\\n', span=(314, 315)), [Text(entity=None, string='\\n', span=(0, 1))]), (<Element h2 at 0x125f10b08>, Content(property='text', text='IOCs', span=(4, 8)), [Text(entity=None, string='IOCs', span=(0, 4))]), (<Element h2 at 0x125f10b08>, Content(property='tail', text='\\n', span=(13, 14)), [Text(entity=None, string='\\n', span=(0, 1))]), (<Element strong at 0x125f10b88>, Content(property='text', text='SHA1', span=(8, 12)), [Text(entity=None, string='SHA1', span=(0, 4))]), (<Element br at 0x125f10bc8>, Content(property='tail', text='\\nfadd8d7c13a18c251ded1f645ffea18a37f1c2de', span=(5, 46)), [Text(entity=None, string='\\n', span=(0, 1)), Text(entity='FileHash-SHA1', string='fadd8d7c13a18c251ded1f645ffea18a37f1c2de', span=(1, 41))]), (<Element strong at 0x125f10c48>, Content(property='text', text='SHA256', span=(8, 14)), [Text(entity=None, string='SHA256', span=(0, 6))]), (<Element br at 0x125f10c88>, Content(property='tail', text='\\n501487b025f25ddf1ca32deb57a2b4db43ccf6635c1edc74b9cff54ce0e5bcfe', span=(5, 70)), [Text(entity=None, string='\\n', span=(0, 1)), Text(entity='FileHash-SHA256', string='501487b025f25ddf1ca32deb57a2b4db43ccf6635c1edc74b9cff54ce0e5bcfe', span=(1, 65))]), (<Element strong at 0x125f10d08>, Content(property='text', text='MITRE ATT&CK', span=(8, 20)), [Text(entity=None, string='MITRE ATT&CK', span=(0, 12))]), (<Element br at 0x125f10d48>, Content(property='tail', text='\\nData from Local System – ', span=(5, 31)), [Text(entity=None, string='\\nData from Local System – ', span=(0, 26))]), (<Element a at 0x125f10d88>, Content(property='text', text='T1005', span=(45, 50)), [Text(entity='AttackTechnique', string='T1005', span=(0, 5))]), (<Element br at 0x125f10dc8>, Content(property='tail', text='\\nModify Registry – ', span=(5, 24)), [Text(entity=None, string='\\nModify Registry – ', span=(0, 19))]), (<Element a at 0x125f10e08>, Content(property='text', text='T1112', span=(45, 50)), [Text(entity='AttackTechnique', string='T1112', span=(0, 5))]), (<Element br at 0x125f10e48>, Content(property='tail', text='\\nQuery Registry – ', span=(5, 23)), [Text(entity=None, string='\\nQuery Registry – ', span=(0, 18))]), (<Element a at 0x125f10e88>, Content(property='text', text='T1012', span=(45, 50)), [Text(entity='AttackTechnique', string='T1012', span=(0, 5))]), (<Element br at 0x125f10ec8>, Content(property='tail', text='\\nSystem Information Discovery – ', span=(5, 37)), [Text(entity=None, string='\\nSystem Information Discovery – ', span=(0, 32))]), (<Element a at 0x125f10f08>, Content(property='text', text='T1082', span=(45, 50)), [Text(entity='AttackTechnique', string='T1082', span=(0, 5))]), (<Element br at 0x125f10f48>, Content(property='tail', text='\\nData Encrypted for Impact – ', span=(5, 34)), [Text(entity=None, string='\\nData Encrypted for Impact – ', span=(0, 29))]), (<Element a at 0x125f10f88>, Content(property='text', text='T1486', span=(45, 50)), [Text(entity='AttackTechnique', string='T1486', span=(0, 5))]), (<Element br at 0x125f10fc8>, Content(property='tail', text='\\nFile Deletion – ', span=(5, 22)), [Text(entity=None, string='\\nFile Deletion – ', span=(0, 17))]), (<Element a at 0x125f22048>, Content(property='text', text='T1070.004', span=(99, 108)), [Text(entity='AttackTechnique', string='T1070.004', span=(0, 9))]), (<Element br at 0x125f22088>, Content(property='tail', text='\\nCommand and Scripting Interpreter: Windows Command Shell – ', span=(5, 65)), [Text(entity=None, string='\\nCommand and Scripting Interpreter: Windows Command Shell – ', span=(0, 60))]), (<Element a at 0x125f220c8>, Content(property='text', text='T1059.003', span=(99, 108)), [Text(entity='AttackTechnique', string='T1059.003', span=(0, 9))]), (<Element br at 0x125f22108>, Content(property='tail', text='\\nWindows Management Instrumentation – ', span=(5, 43)), [Text(entity=None, string='\\nWindows Management Instrumentation – ', span=(0, 38))]), (<Element a at 0x125f22148>, Content(property='text', text='T1047', span=(45, 50)), [Text(entity='AttackTechnique', string='T1047', span=(0, 5))]), (<Element span at 0x125f22208>, Content(property='text', text='Post Views: ', span=(31, 43)), [Text(entity=None, string='Post Views: ', span=(0, 12))]), (<Element span at 0x125f22208>, Content(property='tail', text='\\n\\t\\t\\t\\t', span=(50, 55)), [Text(entity=None, string='\\n\\t\\t\\t\\t', span=(0, 5))]), (<Element span at 0x125f22248>, Content(property='text', text='7,278', span=(31, 36)), [Text(entity=None, string='7,278', span=(0, 5))]), (<Element span at 0x125f22248>, Content(property='tail', text='\\n\\t\\t\\t', span=(43, 47)), [Text(entity=None, string='\\n\\t\\t\\t', span=(0, 4))]), (<Element a at 0x125f222c8>, Content(property='text', text='Ransomware', span=(65, 75)), [Text(entity=None, string='Ransomware', span=(0, 10))]), (<Element a at 0x125f222c8>, Content(property='tail', text='\\t\\t\\t\\t\\t', span=(79, 84)), [Text(entity=None, string='\\t\\t\\t\\t\\t', span=(0, 5))]), (<Element span at 0x125f22448>, Content(property='text', text='Share', span=(21, 26)), [Text(entity=None, string='Share', span=(0, 5))]), (<Element span at 0x125f22588>, Content(property='text', text='Facebook', span=(26, 34)), [Text(entity=None, string='Facebook', span=(0, 8))]), (<Element span at 0x125f22688>, Content(property='text', text='Twitter', span=(26, 33)), [Text(entity=None, string='Twitter', span=(0, 7))]), (<Element span at 0x125f22788>, Content(property='text', text='Mail', span=(26, 30)), [Text(entity=None, string='Mail', span=(0, 4))]), (<Element span at 0x125f22888>, Content(property='text', text='Linkedin', span=(26, 34)), [Text(entity=None, string='Linkedin', span=(0, 8))]), (<Element span at 0x125f22988>, Content(property='text', text='Reddit', span=(26, 32)), [Text(entity=None, string='Reddit', span=(0, 6))]), (<Element span at 0x125f22c48>, Content(property='text', text='Jim Walter', span=(17, 27)), [Text(entity=None, string='Jim Walter', span=(0, 10))]), (<Element div at 0x125f22c88>, Content(property='text', text='Jim Walter is a Senior Threat Researcher at SentinelOne focusing on evolving trends, actors, and tactics within the thriving ecosystem of cybercrime and crimeware. He specializes in the discovery and analysis of emerging cybercrime \"services\" and evolving communication channels leveraged by mid-level criminal organizations. Jim joined SentinelOne following ~4 years at a security start-up, also focused on malware research and organized crime. Previously, he spent over 17 years at McAfee/Intel running their Threat Intelligence and Advanced Threat Research teams.', span=(61, 627)), [Text(entity=None, string='Jim Walter is a Senior Threat Researcher at SentinelOne focusing on evolving trends, actors, and tactics within the thriving ecosystem of cybercrime and crimeware. He specializes in the discovery and analysis of emerging cybercrime \"services\" and evolving communication channels leveraged by mid-level criminal organizations. Jim joined SentinelOne following ~4 years at a security start-up, also focused on malware research and organized crime. Previously, he spent over 17 years at McAfee/Intel running their Threat Intelligence and Advanced Threat Research teams.', span=(0, 566))]), (<Element div at 0x125f22c88>, Content(property='tail', text='\\n\\n\\t\\t\\t\\t\\n\\t\\t\\t', span=(633, 643)), [Text(entity=None, string='\\n\\n\\t\\t\\t\\t\\n\\t\\t\\t', span=(0, 10))]), (<Element span at 0x125f22ec8>, Content(property='text', text='Prev', span=(25, 29)), [Text(entity=None, string='Prev', span=(0, 4))]), ...]"
      ]
     },
     "execution_count": 22,
     "metadata": {},
     "output_type": "execute_result"
    },
    {
     "data": {
      "application/javascript": "\n            setTimeout(function() {\n                var nbb_cell_id = 22;\n                var nbb_unformatted_code = \"seq(analyzer.primary_subtree_leafs).map(\\n    lambda element: (element, ContentExtractor.get_contents(element))\\n).starmap(\\n    lambda element, contents: seq(contents).map(lambda content: (element, content))\\n).flatten().starmap(\\n    lambda element, content: (\\n        element,\\n        content,\\n        list(parser.iterscan(content)),\\n    )\\n)\";\n                var nbb_formatted_code = \"seq(analyzer.primary_subtree_leafs).map(\\n    lambda element: (element, ContentExtractor.get_contents(element))\\n).starmap(\\n    lambda element, contents: seq(contents).map(lambda content: (element, content))\\n).flatten().starmap(\\n    lambda element, content: (\\n        element,\\n        content,\\n        list(parser.iterscan(content)),\\n    )\\n)\";\n                var nbb_cells = Jupyter.notebook.get_cells();\n                for (var i = 0; i < nbb_cells.length; ++i) {\n                    if (nbb_cells[i].input_prompt_number == nbb_cell_id) {\n                        if (nbb_cells[i].get_text() == nbb_unformatted_code) {\n                             nbb_cells[i].set_text(nbb_formatted_code);\n                        }\n                        break;\n                    }\n                }\n            }, 500);\n            ",
      "text/plain": [
       "<IPython.core.display.Javascript object>"
      ]
     },
     "metadata": {},
     "output_type": "display_data"
    }
   ],
   "source": [
    "seq(analyzer.primary_subtree_leafs).map(\n",
    "    lambda element: (element, ContentExtractor.get_contents(element))\n",
    ").starmap(\n",
    "    lambda element, contents: seq(contents).map(lambda content: (element, content))\n",
    ").flatten().starmap(\n",
    "    lambda element, content: (\n",
    "        element,\n",
    "        content,\n",
    "        list(parser.iterscan(content)),\n",
    "    )\n",
    ")"
   ]
  },
  {
   "cell_type": "markdown",
   "metadata": {},
   "source": [
    "---"
   ]
  },
  {
   "cell_type": "code",
   "execution_count": 23,
   "metadata": {
    "ExecuteTime": {
     "end_time": "2021-08-27T08:26:04.027684Z",
     "start_time": "2021-08-27T08:25:59.130896Z"
    }
   },
   "outputs": [
    {
     "data": {
      "application/javascript": "\n            setTimeout(function() {\n                var nbb_cell_id = 23;\n                var nbb_unformatted_code = \"flatten_texts = (\\n    seq(analyzer.primary_subtree_leafs)\\n    .map(lambda element: (element, ContentExtractor.get_contents(element)))\\n    .starmap(\\n        lambda element, contents: seq(contents).map(lambda content: (element, content))\\n    )\\n    .flatten()\\n    .starmap(lambda element, content: (element, content, parser.iterscan(content)))\\n    .starmap(\\n        lambda element, content, texts: seq(texts).map(\\n            lambda text: (element, content, text)\\n        )\\n    )\\n    .flatten()\\n    .cache()\\n)\";\n                var nbb_formatted_code = \"flatten_texts = (\\n    seq(analyzer.primary_subtree_leafs)\\n    .map(lambda element: (element, ContentExtractor.get_contents(element)))\\n    .starmap(\\n        lambda element, contents: seq(contents).map(lambda content: (element, content))\\n    )\\n    .flatten()\\n    .starmap(lambda element, content: (element, content, parser.iterscan(content)))\\n    .starmap(\\n        lambda element, content, texts: seq(texts).map(\\n            lambda text: (element, content, text)\\n        )\\n    )\\n    .flatten()\\n    .cache()\\n)\";\n                var nbb_cells = Jupyter.notebook.get_cells();\n                for (var i = 0; i < nbb_cells.length; ++i) {\n                    if (nbb_cells[i].input_prompt_number == nbb_cell_id) {\n                        if (nbb_cells[i].get_text() == nbb_unformatted_code) {\n                             nbb_cells[i].set_text(nbb_formatted_code);\n                        }\n                        break;\n                    }\n                }\n            }, 500);\n            ",
      "text/plain": [
       "<IPython.core.display.Javascript object>"
      ]
     },
     "metadata": {},
     "output_type": "display_data"
    }
   ],
   "source": [
    "flatten_texts = (\n",
    "    seq(analyzer.primary_subtree_leafs)\n",
    "    .map(lambda element: (element, ContentExtractor.get_contents(element)))\n",
    "    .starmap(\n",
    "        lambda element, contents: seq(contents).map(lambda content: (element, content))\n",
    "    )\n",
    "    .flatten()\n",
    "    .starmap(lambda element, content: (element, content, parser.iterscan(content)))\n",
    "    .starmap(\n",
    "        lambda element, content, texts: seq(texts).map(\n",
    "            lambda text: (element, content, text)\n",
    "        )\n",
    "    )\n",
    "    .flatten()\n",
    "    .cache()\n",
    ")"
   ]
  },
  {
   "cell_type": "code",
   "execution_count": 24,
   "metadata": {
    "ExecuteTime": {
     "end_time": "2021-08-27T08:26:04.077306Z",
     "start_time": "2021-08-27T08:26:04.047348Z"
    }
   },
   "outputs": [
    {
     "data": {
      "text/html": [
       "<table>\n",
       "<tbody>\n",
       "<tr><td>&lt;Element a at 0x125ef8288&gt;   </td><td>Content(property=&#x27;text&#x27;, text=&#x27;Crimeware&#x27;, span=(78, 87))                                                                                                                                                                                              </td><td>Text(entity=None, string=&#x27;Crimeware&#x27;, span=(0, 9))                                                                                                                                                                                              </td></tr>\n",
       "<tr><td>&lt;Element h1 at 0x125ef8088&gt;  </td><td>Content(property=&#x27;text&#x27;, text=&#x27;HelloKitty Ransomware Lacks Stealth, But Still Strikes Home&#x27;, span=(49, 108))                                                                                                                                           </td><td>Text(entity=None, string=&#x27;HelloKitty Ransomware Lacks Stealth, But Still Strikes Home&#x27;, span=(0, 59))                                                                                                                                           </td></tr>\n",
       "<tr><td>&lt;Element h1 at 0x125ef8088&gt;  </td><td>Content(property=&#x27;tail&#x27;, text=&#x27;\\n\\t\\t&#x27;, span=(113, 116))                                                                                                                                                                                               </td><td>Text(entity=None, string=&#x27;\\n\\t\\t&#x27;, span=(0, 3))                                                                                                                                                                                                 </td></tr>\n",
       "<tr><td>&lt;Element a at 0x125f21dc8&gt;   </td><td>Content(property=&#x27;text&#x27;, text=&#x27;Jim Walter&#x27;, span=(69, 79))                                                                                                                                                                                             </td><td>Text(entity=None, string=&#x27;Jim Walter&#x27;, span=(0, 10))                                                                                                                                                                                            </td></tr>\n",
       "<tr><td>&lt;Element time at 0x125f21f08&gt;</td><td>Content(property=&#x27;text&#x27;, text=&#x27;March 8, 2021&#x27;, span=(97, 110))                                                                                                                                                                                         </td><td>Text(entity=None, string=&#x27;March 8, 2021&#x27;, span=(0, 13))                                                                                                                                                                                         </td></tr>\n",
       "<tr><td>&lt;Element time at 0x125f21f48&gt;</td><td>Content(property=&#x27;text&#x27;, text=&#x27;March 11, 2021&#x27;, span=(59, 73))                                                                                                                                                                                         </td><td>Text(entity=None, string=&#x27;March 11, 2021&#x27;, span=(0, 14))                                                                                                                                                                                        </td></tr>\n",
       "<tr><td>&lt;Element p at 0x125f21fc8&gt;   </td><td>Content(property=&#x27;text&#x27;, text=&#x27;Game studio CD Projekt Red recently &#x27;, span=(3, 39))                                                                                                                                                                    </td><td>Text(entity=None, string=&#x27;Game studio CD Projekt Red recently &#x27;, span=(0, 36))                                                                                                                                                                  </td></tr>\n",
       "<tr><td>&lt;Element p at 0x125f21fc8&gt;   </td><td>Content(property=&#x27;tail&#x27;, text=&#x27;\\n&#x27;, span=(373, 374))                                                                                                                                                                                                   </td><td>Text(entity=None, string=&#x27;\\n&#x27;, span=(0, 1))                                                                                                                                                                                                     </td></tr>\n",
       "<tr><td>&lt;Element a at 0x125f10048&gt;   </td><td>Content(property=&#x27;text&#x27;, text=&#x27;disclosed&#x27;, span=(120, 129))                                                                                                                                                                                            </td><td>Text(entity=None, string=&#x27;disclosed&#x27;, span=(0, 9))                                                                                                                                                                                              </td></tr>\n",
       "<tr><td>&lt;Element a at 0x125f10048&gt;   </td><td>Content(property=&#x27;tail&#x27;, text=&#x27; that it became a victim of a targeted, highly-impactful ransomware. In the days following the disclosure, it was revealed that the ransomware family most likely behind the attack was “HelloKitty”.&#x27;, span=(133, 330))</td><td>Text(entity=None, string=&#x27; that it became a victim of a targeted, highly-impactful ransomware. In the days following the disclosure, it was revealed that the ransomware family most likely behind the attack was “HelloKitty”.&#x27;, span=(0, 197))</td></tr>\n",
       "</tbody>\n",
       "</table><p>Showing 10 of 184 rows"
      ],
      "text/plain": [
       "[(<Element a at 0x125ef8288>, Content(property='text', text='Crimeware', span=(78, 87)), Text(entity=None, string='Crimeware', span=(0, 9))), (<Element h1 at 0x125ef8088>, Content(property='text', text='HelloKitty Ransomware Lacks Stealth, But Still Strikes Home', span=(49, 108)), Text(entity=None, string='HelloKitty Ransomware Lacks Stealth, But Still Strikes Home', span=(0, 59))), (<Element h1 at 0x125ef8088>, Content(property='tail', text='\\n\\t\\t', span=(113, 116)), Text(entity=None, string='\\n\\t\\t', span=(0, 3))), (<Element a at 0x125f21dc8>, Content(property='text', text='Jim Walter', span=(69, 79)), Text(entity=None, string='Jim Walter', span=(0, 10))), (<Element time at 0x125f21f08>, Content(property='text', text='March 8, 2021', span=(97, 110)), Text(entity=None, string='March 8, 2021', span=(0, 13))), (<Element time at 0x125f21f48>, Content(property='text', text='March 11, 2021', span=(59, 73)), Text(entity=None, string='March 11, 2021', span=(0, 14))), (<Element p at 0x125f21fc8>, Content(property='text', text='Game studio CD Projekt Red recently ', span=(3, 39)), Text(entity=None, string='Game studio CD Projekt Red recently ', span=(0, 36))), (<Element p at 0x125f21fc8>, Content(property='tail', text='\\n', span=(373, 374)), Text(entity=None, string='\\n', span=(0, 1))), (<Element a at 0x125f10048>, Content(property='text', text='disclosed', span=(120, 129)), Text(entity=None, string='disclosed', span=(0, 9))), (<Element a at 0x125f10048>, Content(property='tail', text=' that it became a victim of a targeted, highly-impactful ransomware. In the days following the disclosure, it was revealed that the ransomware family most likely behind the attack was “HelloKitty”.', span=(133, 330)), Text(entity=None, string=' that it became a victim of a targeted, highly-impactful ransomware. In the days following the disclosure, it was revealed that the ransomware family most likely behind the attack was “HelloKitty”.', span=(0, 197))), (<Element p at 0x125f10108>, Content(property='text', text='HelloKitty is a ransomware family that emerged in late 2020. While it lacks the sophistication of some of the more well-known families such as Ryuk, REvil, and Conti, it has nevertheless struck some notable targets, including CEMIG0. In this post, we analyse a recent HelloKitty sample and outline the basic behaviors and traits associated with this family of ransomware.', span=(3, 374)), Text(entity=None, string='HelloKitty is a ransomware family that emerged in late 2020. While it lacks the sophistication of some of the more well-known families such as Ryuk, REvil, and Conti, it has nevertheless struck some notable targets, including CEMIG0. In this post, we analyse a recent HelloKitty sample and outline the basic behaviors and traits associated with this family of ransomware.', span=(0, 371))), (<Element p at 0x125f10108>, Content(property='tail', text='\\n', span=(378, 379)), Text(entity=None, string='\\n', span=(0, 1))), (<Element h2 at 0x125f10148>, Content(property='text', text='Execution and Behavior', span=(4, 26)), Text(entity=None, string='Execution and Behavior', span=(0, 22))), (<Element h2 at 0x125f10148>, Content(property='tail', text='\\n', span=(31, 32)), Text(entity=None, string='\\n', span=(0, 1))), (<Element p at 0x125f10188>, Content(property='text', text='The “HelloKitty” name is based on internal mutex names, which are apparent upon execution.', span=(3, 93)), Text(entity=None, string='The “HelloKitty” name is based on internal mutex names, which are apparent upon execution.', span=(0, 90))), (<Element p at 0x125f10188>, Content(property='tail', text='\\n', span=(97, 98)), Text(entity=None, string='\\n', span=(0, 1))), (<Element p at 0x125f10248>, Content(property='text', text='While still somewhat unclear, current intelligence indicates that the primary delivery method of HelloKitty binaries is via phish email or via secondary infection in conjunction with other malware.', span=(3, 200)), Text(entity=None, string='While still somewhat unclear, current intelligence indicates that the primary delivery method of HelloKitty binaries is via phish email or via secondary infection in conjunction with other malware.', span=(0, 197))), (<Element p at 0x125f10248>, Content(property='tail', text='\\n', span=(204, 205)), Text(entity=None, string='\\n', span=(0, 1))), (<Element p at 0x125f10288>, Content(property='text', text='Once launched, HelloKitty will attempt to disable and terminate a number of processes and services so as to reduce interference with the encryption process. This includes processes and services associated with IIS, MSSQL, Quickbooks, Sharepoint, and more. These actions are carried out via ', span=(3, 293)), Text(entity=None, string='Once launched, HelloKitty will attempt to disable and terminate a number of processes and services so as to reduce interference with the encryption process. This includes processes and services associated with IIS, MSSQL, Quickbooks, Sharepoint, and more. These actions are carried out via ', span=(0, 290))), (<Element p at 0x125f10288>, Content(property='tail', text='\\n', span=(348, 349)), Text(entity=None, string='\\n', span=(0, 1))), (<Element code at 0x125f102c8>, Content(property='text', text='taskkill.exe', span=(6, 18)), Text(entity='FilePath', string='taskkill.exe', span=(0, 12))), (<Element code at 0x125f102c8>, Content(property='tail', text=' and ', span=(25, 30)), Text(entity=None, string=' and ', span=(0, 5))), (<Element code at 0x125f10308>, Content(property='text', text='net.exe', span=(6, 13)), Text(entity='FilePath', string='net.exe', span=(0, 7))), (<Element code at 0x125f10308>, Content(property='tail', text='.', span=(20, 21)), Text(entity=None, string='.', span=(0, 1))), (<Element p at 0x125f10348>, Content(property='text', text='In the analyzed sample, this is all done in a very non-stealthy manner. All spawned CMD windows are in the foreground and fully visible. This ‘lack of discreteness’ is atypical for modern ransomware, or any successful malware, for that matter.', span=(3, 246)), Text(entity=None, string='In the analyzed sample, this is all done in a very non-stealthy manner. All spawned CMD windows are in the foreground and fully visible. This ‘lack of discreteness’ is atypical for modern ransomware, or any successful malware, for that matter.', span=(0, 243))), (<Element p at 0x125f10348>, Content(property='tail', text='\\n', span=(250, 251)), Text(entity=None, string='\\n', span=(0, 1))), (<Element p at 0x125f10408>, Content(property='text', text='A full list of processes from the analyzed sample are listed below:', span=(3, 70)), Text(entity=None, string='A full list of processes from the analyzed sample are listed below:', span=(0, 67))), (<Element p at 0x125f10408>, Content(property='tail', text='\\n', span=(74, 75)), Text(entity=None, string='\\n', span=(0, 1))), (<Element pre at 0x125f10448>, Content(property='text', text='\\ndsa*\\nNtrtsca\\nds_moni\\nNotifie\\nTmListe\\niVPAgen\\nCNTAoSM\\nIBM*\\nbes10*\\nblack*\\nrobo*\\ncopy*\\nstore.e\\nsql*\\nvee*\\nwrsa*\\nwrsa.ex\\npostg*\\nsage*\\nMSSQLServerADHelper100\\nMSSQL$ISARS\\nMSSQL$MSFW\\nSQLAgent$ISARS\\nSQLAgent$MSFW\\nSQLBrowser\\nReportServer$ISARS\\nSQLWriter\\nWinDefend\\nmr2kserv\\nMSExchangeADTopology\\nMSExchangeFBA\\nMSExchangeIS\\nMSExchangeSA\\nShadowProtectSvc\\nSPAdminV4\\nSPTimerV4\\nSPTraceV4\\nSPUserCodeV4\\nSPWriterV4\\nSPSearch4\\nIISADMIN\\nfirebirdguardiandefaultinstance\\nibmiasrw\\nQBCFMonitorService\\nQBVSS\\nQBPOSDBServiceV12\\n\"IBM Domino Server(CProgramFilesIBMDominodata)\"\\n\"IBM Domino Diagnostics(CProgramFilesIBMDomino)\"\\n\"Simply Accounting Database Connection Manager\"\\nQuickBooksDB1\\nQuickBooksDB2\\nQuickBooksDB3\\nQuickBooksDB4\\nQuickBooksDB5\\nQuickBooksDB6\\nQuickBooksDB7\\nQuickBooksDB8\\nQuickBooksDB9\\nQuickBooksDB10\\nQuickBooksDB11\\nQuickBooksDB12\\nQuickBooksDB13\\nQuickBooksDB14\\nQuickBooksDB15\\nQuickBooksDB16\\nQuickBooksDB17\\nQuickBooksDB18\\nQuickBooksDB19\\nQuickBooksDB20\\nQuickBooksDB21\\nQuickBooksDB22\\nQuickBooksDB23\\nQuickBooksDB24\\nQuickBooksDB25\\n', span=(5, 1015)), Text(entity=None, string='\\ndsa*\\nNtrtsca\\nds_moni\\nNotifie\\nTmListe\\niVPAgen\\nCNTAoSM\\nIBM*\\nbes10*\\nblack*\\nrobo*\\ncopy*\\n', span=(0, 85))), (<Element pre at 0x125f10448>, Content(property='text', text='\\ndsa*\\nNtrtsca\\nds_moni\\nNotifie\\nTmListe\\niVPAgen\\nCNTAoSM\\nIBM*\\nbes10*\\nblack*\\nrobo*\\ncopy*\\nstore.e\\nsql*\\nvee*\\nwrsa*\\nwrsa.ex\\npostg*\\nsage*\\nMSSQLServerADHelper100\\nMSSQL$ISARS\\nMSSQL$MSFW\\nSQLAgent$ISARS\\nSQLAgent$MSFW\\nSQLBrowser\\nReportServer$ISARS\\nSQLWriter\\nWinDefend\\nmr2kserv\\nMSExchangeADTopology\\nMSExchangeFBA\\nMSExchangeIS\\nMSExchangeSA\\nShadowProtectSvc\\nSPAdminV4\\nSPTimerV4\\nSPTraceV4\\nSPUserCodeV4\\nSPWriterV4\\nSPSearch4\\nIISADMIN\\nfirebirdguardiandefaultinstance\\nibmiasrw\\nQBCFMonitorService\\nQBVSS\\nQBPOSDBServiceV12\\n\"IBM Domino Server(CProgramFilesIBMDominodata)\"\\n\"IBM Domino Diagnostics(CProgramFilesIBMDomino)\"\\n\"Simply Accounting Database Connection Manager\"\\nQuickBooksDB1\\nQuickBooksDB2\\nQuickBooksDB3\\nQuickBooksDB4\\nQuickBooksDB5\\nQuickBooksDB6\\nQuickBooksDB7\\nQuickBooksDB8\\nQuickBooksDB9\\nQuickBooksDB10\\nQuickBooksDB11\\nQuickBooksDB12\\nQuickBooksDB13\\nQuickBooksDB14\\nQuickBooksDB15\\nQuickBooksDB16\\nQuickBooksDB17\\nQuickBooksDB18\\nQuickBooksDB19\\nQuickBooksDB20\\nQuickBooksDB21\\nQuickBooksDB22\\nQuickBooksDB23\\nQuickBooksDB24\\nQuickBooksDB25\\n', span=(5, 1015)), Text(entity='FilePath', string='store.e', span=(85, 92))), (<Element pre at 0x125f10448>, Content(property='text', text='\\ndsa*\\nNtrtsca\\nds_moni\\nNotifie\\nTmListe\\niVPAgen\\nCNTAoSM\\nIBM*\\nbes10*\\nblack*\\nrobo*\\ncopy*\\nstore.e\\nsql*\\nvee*\\nwrsa*\\nwrsa.ex\\npostg*\\nsage*\\nMSSQLServerADHelper100\\nMSSQL$ISARS\\nMSSQL$MSFW\\nSQLAgent$ISARS\\nSQLAgent$MSFW\\nSQLBrowser\\nReportServer$ISARS\\nSQLWriter\\nWinDefend\\nmr2kserv\\nMSExchangeADTopology\\nMSExchangeFBA\\nMSExchangeIS\\nMSExchangeSA\\nShadowProtectSvc\\nSPAdminV4\\nSPTimerV4\\nSPTraceV4\\nSPUserCodeV4\\nSPWriterV4\\nSPSearch4\\nIISADMIN\\nfirebirdguardiandefaultinstance\\nibmiasrw\\nQBCFMonitorService\\nQBVSS\\nQBPOSDBServiceV12\\n\"IBM Domino Server(CProgramFilesIBMDominodata)\"\\n\"IBM Domino Diagnostics(CProgramFilesIBMDomino)\"\\n\"Simply Accounting Database Connection Manager\"\\nQuickBooksDB1\\nQuickBooksDB2\\nQuickBooksDB3\\nQuickBooksDB4\\nQuickBooksDB5\\nQuickBooksDB6\\nQuickBooksDB7\\nQuickBooksDB8\\nQuickBooksDB9\\nQuickBooksDB10\\nQuickBooksDB11\\nQuickBooksDB12\\nQuickBooksDB13\\nQuickBooksDB14\\nQuickBooksDB15\\nQuickBooksDB16\\nQuickBooksDB17\\nQuickBooksDB18\\nQuickBooksDB19\\nQuickBooksDB20\\nQuickBooksDB21\\nQuickBooksDB22\\nQuickBooksDB23\\nQuickBooksDB24\\nQuickBooksDB25\\n', span=(5, 1015)), Text(entity=None, string='\\nsql*\\nvee*\\nwrsa*\\n', span=(92, 109))), (<Element pre at 0x125f10448>, Content(property='text', text='\\ndsa*\\nNtrtsca\\nds_moni\\nNotifie\\nTmListe\\niVPAgen\\nCNTAoSM\\nIBM*\\nbes10*\\nblack*\\nrobo*\\ncopy*\\nstore.e\\nsql*\\nvee*\\nwrsa*\\nwrsa.ex\\npostg*\\nsage*\\nMSSQLServerADHelper100\\nMSSQL$ISARS\\nMSSQL$MSFW\\nSQLAgent$ISARS\\nSQLAgent$MSFW\\nSQLBrowser\\nReportServer$ISARS\\nSQLWriter\\nWinDefend\\nmr2kserv\\nMSExchangeADTopology\\nMSExchangeFBA\\nMSExchangeIS\\nMSExchangeSA\\nShadowProtectSvc\\nSPAdminV4\\nSPTimerV4\\nSPTraceV4\\nSPUserCodeV4\\nSPWriterV4\\nSPSearch4\\nIISADMIN\\nfirebirdguardiandefaultinstance\\nibmiasrw\\nQBCFMonitorService\\nQBVSS\\nQBPOSDBServiceV12\\n\"IBM Domino Server(CProgramFilesIBMDominodata)\"\\n\"IBM Domino Diagnostics(CProgramFilesIBMDomino)\"\\n\"Simply Accounting Database Connection Manager\"\\nQuickBooksDB1\\nQuickBooksDB2\\nQuickBooksDB3\\nQuickBooksDB4\\nQuickBooksDB5\\nQuickBooksDB6\\nQuickBooksDB7\\nQuickBooksDB8\\nQuickBooksDB9\\nQuickBooksDB10\\nQuickBooksDB11\\nQuickBooksDB12\\nQuickBooksDB13\\nQuickBooksDB14\\nQuickBooksDB15\\nQuickBooksDB16\\nQuickBooksDB17\\nQuickBooksDB18\\nQuickBooksDB19\\nQuickBooksDB20\\nQuickBooksDB21\\nQuickBooksDB22\\nQuickBooksDB23\\nQuickBooksDB24\\nQuickBooksDB25\\n', span=(5, 1015)), Text(entity='FilePath', string='wrsa.ex', span=(109, 116))), (<Element pre at 0x125f10448>, Content(property='text', text='\\ndsa*\\nNtrtsca\\nds_moni\\nNotifie\\nTmListe\\niVPAgen\\nCNTAoSM\\nIBM*\\nbes10*\\nblack*\\nrobo*\\ncopy*\\nstore.e\\nsql*\\nvee*\\nwrsa*\\nwrsa.ex\\npostg*\\nsage*\\nMSSQLServerADHelper100\\nMSSQL$ISARS\\nMSSQL$MSFW\\nSQLAgent$ISARS\\nSQLAgent$MSFW\\nSQLBrowser\\nReportServer$ISARS\\nSQLWriter\\nWinDefend\\nmr2kserv\\nMSExchangeADTopology\\nMSExchangeFBA\\nMSExchangeIS\\nMSExchangeSA\\nShadowProtectSvc\\nSPAdminV4\\nSPTimerV4\\nSPTraceV4\\nSPUserCodeV4\\nSPWriterV4\\nSPSearch4\\nIISADMIN\\nfirebirdguardiandefaultinstance\\nibmiasrw\\nQBCFMonitorService\\nQBVSS\\nQBPOSDBServiceV12\\n\"IBM Domino Server(CProgramFilesIBMDominodata)\"\\n\"IBM Domino Diagnostics(CProgramFilesIBMDomino)\"\\n\"Simply Accounting Database Connection Manager\"\\nQuickBooksDB1\\nQuickBooksDB2\\nQuickBooksDB3\\nQuickBooksDB4\\nQuickBooksDB5\\nQuickBooksDB6\\nQuickBooksDB7\\nQuickBooksDB8\\nQuickBooksDB9\\nQuickBooksDB10\\nQuickBooksDB11\\nQuickBooksDB12\\nQuickBooksDB13\\nQuickBooksDB14\\nQuickBooksDB15\\nQuickBooksDB16\\nQuickBooksDB17\\nQuickBooksDB18\\nQuickBooksDB19\\nQuickBooksDB20\\nQuickBooksDB21\\nQuickBooksDB22\\nQuickBooksDB23\\nQuickBooksDB24\\nQuickBooksDB25\\n', span=(5, 1015)), Text(entity=None, string='\\npostg*\\nsage*\\nMSSQLServerADHelper100\\nMSSQL$ISARS\\nMSSQL$MSFW\\nSQLAgent$ISARS\\nSQLAgent$MSFW\\nSQLBrowser\\nReportServer$ISARS\\nSQLWriter\\nWinDefend\\nmr2kserv\\nMSExchangeADTopology\\nMSExchangeFBA\\nMSExchangeIS\\nMSExchangeSA\\nShadowProtectSvc\\nSPAdminV4\\nSPTimerV4\\nSPTraceV4\\nSPUserCodeV4\\nSPWriterV4\\nSPSearch4\\nIISADMIN\\nfirebirdguardiandefaultinstance\\nibmiasrw\\nQBCFMonitorService\\nQBVSS\\nQBPOSDBServiceV12\\n\"IBM Domino Server(CProgramFilesIBMDominodata)\"\\n\"IBM Domino Diagnostics(CProgramFilesIBMDomino)\"\\n\"Simply Accounting Database Connection Manager\"\\nQuickBooksDB1\\nQuickBooksDB2\\nQuickBooksDB3\\nQuickBooksDB4\\nQuickBooksDB5\\nQuickBooksDB6\\nQuickBooksDB7\\nQuickBooksDB8\\nQuickBooksDB9\\nQuickBooksDB10\\nQuickBooksDB11\\nQuickBooksDB12\\nQuickBooksDB13\\nQuickBooksDB14\\nQuickBooksDB15\\nQuickBooksDB16\\nQuickBooksDB17\\nQuickBooksDB18\\nQuickBooksDB19\\nQuickBooksDB20\\nQuickBooksDB21\\nQuickBooksDB22\\nQuickBooksDB23\\nQuickBooksDB24\\nQuickBooksDB25\\n', span=(116, 1010))), (<Element pre at 0x125f10448>, Content(property='tail', text='\\n', span=(1021, 1022)), Text(entity=None, string='\\n', span=(0, 1))), (<Element p at 0x125f10488>, Content(property='text', text='Additional processes and services that are terminated are identified via PID. For example:', span=(3, 93)), Text(entity=None, string='Additional processes and services that are terminated are identified via PID. For example:', span=(0, 90))), (<Element p at 0x125f10488>, Content(property='tail', text='\\n', span=(97, 98)), Text(entity=None, string='\\n', span=(0, 1))), (<Element code at 0x125f10508>, Content(property='text', text='taskkill.exe /f /PID \"8512\"', span=(6, 33)), Text(entity='FilePath', string='taskkill.exe', span=(0, 12))), (<Element code at 0x125f10508>, Content(property='text', text='taskkill.exe /f /PID \"8512\"', span=(6, 33)), Text(entity=None, string=' /f /PID \"8512\"', span=(12, 27))), (<Element code at 0x125f10588>, Content(property='text', text='taskkill.exe /f /PID \"8656\"', span=(6, 33)), Text(entity='FilePath', string='taskkill.exe', span=(0, 12))), (<Element code at 0x125f10588>, Content(property='text', text='taskkill.exe /f /PID \"8656\"', span=(6, 33)), Text(entity=None, string=' /f /PID \"8656\"', span=(12, 27))), (<Element p at 0x125f105c8>, Content(property='text', text='If HelloKitty is unable to stop any specific processes or services, it will leverage the Windows Restart Manager API to further assist in termination.', span=(3, 153)), Text(entity=None, string='If HelloKitty is unable to stop any specific processes or services, it will leverage the Windows Restart Manager API to further assist in termination.', span=(0, 150))), (<Element p at 0x125f105c8>, Content(property='tail', text='\\n', span=(157, 158)), Text(entity=None, string='\\n', span=(0, 1))), (<Element p at 0x125f10688>, Content(property='text', text='HelloKitty will also utilize WMI to gather system details and help identify running processes and any potentially problematic processes. This is done both by name and by PID. A number of examples are shown below:', span=(3, 215)), Text(entity=None, string='HelloKitty will also utilize WMI to gather system details and help identify running processes and any potentially problematic processes. This is done both by name and by PID. A number of examples are shown below:', span=(0, 212))), (<Element p at 0x125f10688>, Content(property='tail', text='\\n', span=(219, 220)), Text(entity=None, string='\\n', span=(0, 1))), (<Element pre at 0x125f106c8>, Content(property='text', text='\\nstart iwbemservices::execquery - root\\\\cimv2 : select __path, processid, csname, caption, sessionid, threadcount, workingsetsize, kernelmodetime, usermodetime, parentprocessid from win32_process\\n\\nstart iwbemservices::execquery - root\\\\cimv2 : select __path, processid, csname, caption, sessionid, threadcount, workingsetsize, kernelmodetime, usermodetime, parentprocessid from win32_process where (  caption = \"store.exe\")\\n\\nstart iwbemservices::execquery - root\\\\cimv2 : select __path, processid, csname, caption, sessionid, threadcount, workingsetsize, kernelmodetime, usermodetime, parentprocessid from win32_process where (  caption = \"wrsa.exe\")\\n\\nstart iwbemservices::execquery - root\\\\cimv2 : select __path, processid, csname, caption, sessionid, threadcount, workingsetsize, kernelmodetime, usermodetime, parentprocessid from win32_process where (  processid = 3036)\\n\\nstart iwbemservices::execquery - root\\\\cimv2 : select __path, processid, csname, caption, sessionid, threadcount, workingsetsize, kernelmodetime, usermodetime, parentprocessid from win32_process where (  processid = 4460)\\n\\nstart iwbemservices::execquery - root\\\\cimv2 : select __path, processid, csname, caption, sessionid, threadcount, workingsetsize, kernelmodetime, usermodetime, parentprocessid from win32_process where (  processid = 3052)\\n\\nstart iwbemservices::execquery - root\\\\cimv2 : select __path, processid, csname, caption, sessionid, threadcount, workingsetsize, kernelmodetime, usermodetime, parentprocessid from win32_process where (  processid = 4476)\\n\\nstart iwbemservices::execquery - root\\\\cimv2 : select __path, processid, csname, caption, sessionid, threadcount, workingsetsize, kernelmodetime, usermodetime, parentprocessid from win32_process where (  processid = 1560)\\n\\nstart iwbemservices::execquery - root\\\\cimv2 : select __path, processid, csname, caption, sessionid, threadcount, workingsetsize, kernelmodetime, usermodetime, parentprocessid from win32_process where (  processid = 8124)\\n\\nstart iwbemservices::exe\\n', span=(5, 2011)), Text(entity=None, string='\\nstart iwbemservices::execquery - root\\\\cimv2 : select __path, processid, csname, caption, sessionid, threadcount, workingsetsize, kernelmodetime, usermodetime, parentprocessid from win32_process\\n\\nstart iwbemservices::execquery - root\\\\cimv2 : select __path, processid, csname, caption, sessionid, threadcount, workingsetsize, kernelmodetime, usermodetime, parentprocessid from win32_process where (  caption = \"', span=(0, 410))), (<Element pre at 0x125f106c8>, Content(property='text', text='\\nstart iwbemservices::execquery - root\\\\cimv2 : select __path, processid, csname, caption, sessionid, threadcount, workingsetsize, kernelmodetime, usermodetime, parentprocessid from win32_process\\n\\nstart iwbemservices::execquery - root\\\\cimv2 : select __path, processid, csname, caption, sessionid, threadcount, workingsetsize, kernelmodetime, usermodetime, parentprocessid from win32_process where (  caption = \"store.exe\")\\n\\nstart iwbemservices::execquery - root\\\\cimv2 : select __path, processid, csname, caption, sessionid, threadcount, workingsetsize, kernelmodetime, usermodetime, parentprocessid from win32_process where (  caption = \"wrsa.exe\")\\n\\nstart iwbemservices::execquery - root\\\\cimv2 : select __path, processid, csname, caption, sessionid, threadcount, workingsetsize, kernelmodetime, usermodetime, parentprocessid from win32_process where (  processid = 3036)\\n\\nstart iwbemservices::execquery - root\\\\cimv2 : select __path, processid, csname, caption, sessionid, threadcount, workingsetsize, kernelmodetime, usermodetime, parentprocessid from win32_process where (  processid = 4460)\\n\\nstart iwbemservices::execquery - root\\\\cimv2 : select __path, processid, csname, caption, sessionid, threadcount, workingsetsize, kernelmodetime, usermodetime, parentprocessid from win32_process where (  processid = 3052)\\n\\nstart iwbemservices::execquery - root\\\\cimv2 : select __path, processid, csname, caption, sessionid, threadcount, workingsetsize, kernelmodetime, usermodetime, parentprocessid from win32_process where (  processid = 4476)\\n\\nstart iwbemservices::execquery - root\\\\cimv2 : select __path, processid, csname, caption, sessionid, threadcount, workingsetsize, kernelmodetime, usermodetime, parentprocessid from win32_process where (  processid = 1560)\\n\\nstart iwbemservices::execquery - root\\\\cimv2 : select __path, processid, csname, caption, sessionid, threadcount, workingsetsize, kernelmodetime, usermodetime, parentprocessid from win32_process where (  processid = 8124)\\n\\nstart iwbemservices::exe\\n', span=(5, 2011)), Text(entity='FilePath', string='store.exe', span=(410, 419))), (<Element pre at 0x125f106c8>, Content(property='text', text='\\nstart iwbemservices::execquery - root\\\\cimv2 : select __path, processid, csname, caption, sessionid, threadcount, workingsetsize, kernelmodetime, usermodetime, parentprocessid from win32_process\\n\\nstart iwbemservices::execquery - root\\\\cimv2 : select __path, processid, csname, caption, sessionid, threadcount, workingsetsize, kernelmodetime, usermodetime, parentprocessid from win32_process where (  caption = \"store.exe\")\\n\\nstart iwbemservices::execquery - root\\\\cimv2 : select __path, processid, csname, caption, sessionid, threadcount, workingsetsize, kernelmodetime, usermodetime, parentprocessid from win32_process where (  caption = \"wrsa.exe\")\\n\\nstart iwbemservices::execquery - root\\\\cimv2 : select __path, processid, csname, caption, sessionid, threadcount, workingsetsize, kernelmodetime, usermodetime, parentprocessid from win32_process where (  processid = 3036)\\n\\nstart iwbemservices::execquery - root\\\\cimv2 : select __path, processid, csname, caption, sessionid, threadcount, workingsetsize, kernelmodetime, usermodetime, parentprocessid from win32_process where (  processid = 4460)\\n\\nstart iwbemservices::execquery - root\\\\cimv2 : select __path, processid, csname, caption, sessionid, threadcount, workingsetsize, kernelmodetime, usermodetime, parentprocessid from win32_process where (  processid = 3052)\\n\\nstart iwbemservices::execquery - root\\\\cimv2 : select __path, processid, csname, caption, sessionid, threadcount, workingsetsize, kernelmodetime, usermodetime, parentprocessid from win32_process where (  processid = 4476)\\n\\nstart iwbemservices::execquery - root\\\\cimv2 : select __path, processid, csname, caption, sessionid, threadcount, workingsetsize, kernelmodetime, usermodetime, parentprocessid from win32_process where (  processid = 1560)\\n\\nstart iwbemservices::execquery - root\\\\cimv2 : select __path, processid, csname, caption, sessionid, threadcount, workingsetsize, kernelmodetime, usermodetime, parentprocessid from win32_process where (  processid = 8124)\\n\\nstart iwbemservices::exe\\n', span=(5, 2011)), Text(entity=None, string='\")\\n\\nstart iwbemservices::execquery - root\\\\cimv2 : select __path, processid, csname, caption, sessionid, threadcount, workingsetsize, kernelmodetime, usermodetime, parentprocessid from win32_process where (  caption = \"', span=(419, 637))), (<Element pre at 0x125f106c8>, Content(property='text', text='\\nstart iwbemservices::execquery - root\\\\cimv2 : select __path, processid, csname, caption, sessionid, threadcount, workingsetsize, kernelmodetime, usermodetime, parentprocessid from win32_process\\n\\nstart iwbemservices::execquery - root\\\\cimv2 : select __path, processid, csname, caption, sessionid, threadcount, workingsetsize, kernelmodetime, usermodetime, parentprocessid from win32_process where (  caption = \"store.exe\")\\n\\nstart iwbemservices::execquery - root\\\\cimv2 : select __path, processid, csname, caption, sessionid, threadcount, workingsetsize, kernelmodetime, usermodetime, parentprocessid from win32_process where (  caption = \"wrsa.exe\")\\n\\nstart iwbemservices::execquery - root\\\\cimv2 : select __path, processid, csname, caption, sessionid, threadcount, workingsetsize, kernelmodetime, usermodetime, parentprocessid from win32_process where (  processid = 3036)\\n\\nstart iwbemservices::execquery - root\\\\cimv2 : select __path, processid, csname, caption, sessionid, threadcount, workingsetsize, kernelmodetime, usermodetime, parentprocessid from win32_process where (  processid = 4460)\\n\\nstart iwbemservices::execquery - root\\\\cimv2 : select __path, processid, csname, caption, sessionid, threadcount, workingsetsize, kernelmodetime, usermodetime, parentprocessid from win32_process where (  processid = 3052)\\n\\nstart iwbemservices::execquery - root\\\\cimv2 : select __path, processid, csname, caption, sessionid, threadcount, workingsetsize, kernelmodetime, usermodetime, parentprocessid from win32_process where (  processid = 4476)\\n\\nstart iwbemservices::execquery - root\\\\cimv2 : select __path, processid, csname, caption, sessionid, threadcount, workingsetsize, kernelmodetime, usermodetime, parentprocessid from win32_process where (  processid = 1560)\\n\\nstart iwbemservices::execquery - root\\\\cimv2 : select __path, processid, csname, caption, sessionid, threadcount, workingsetsize, kernelmodetime, usermodetime, parentprocessid from win32_process where (  processid = 8124)\\n\\nstart iwbemservices::exe\\n', span=(5, 2011)), Text(entity='FilePath', string='wrsa.exe', span=(637, 645))), (<Element pre at 0x125f106c8>, Content(property='text', text='\\nstart iwbemservices::execquery - root\\\\cimv2 : select __path, processid, csname, caption, sessionid, threadcount, workingsetsize, kernelmodetime, usermodetime, parentprocessid from win32_process\\n\\nstart iwbemservices::execquery - root\\\\cimv2 : select __path, processid, csname, caption, sessionid, threadcount, workingsetsize, kernelmodetime, usermodetime, parentprocessid from win32_process where (  caption = \"store.exe\")\\n\\nstart iwbemservices::execquery - root\\\\cimv2 : select __path, processid, csname, caption, sessionid, threadcount, workingsetsize, kernelmodetime, usermodetime, parentprocessid from win32_process where (  caption = \"wrsa.exe\")\\n\\nstart iwbemservices::execquery - root\\\\cimv2 : select __path, processid, csname, caption, sessionid, threadcount, workingsetsize, kernelmodetime, usermodetime, parentprocessid from win32_process where (  processid = 3036)\\n\\nstart iwbemservices::execquery - root\\\\cimv2 : select __path, processid, csname, caption, sessionid, threadcount, workingsetsize, kernelmodetime, usermodetime, parentprocessid from win32_process where (  processid = 4460)\\n\\nstart iwbemservices::execquery - root\\\\cimv2 : select __path, processid, csname, caption, sessionid, threadcount, workingsetsize, kernelmodetime, usermodetime, parentprocessid from win32_process where (  processid = 3052)\\n\\nstart iwbemservices::execquery - root\\\\cimv2 : select __path, processid, csname, caption, sessionid, threadcount, workingsetsize, kernelmodetime, usermodetime, parentprocessid from win32_process where (  processid = 4476)\\n\\nstart iwbemservices::execquery - root\\\\cimv2 : select __path, processid, csname, caption, sessionid, threadcount, workingsetsize, kernelmodetime, usermodetime, parentprocessid from win32_process where (  processid = 1560)\\n\\nstart iwbemservices::execquery - root\\\\cimv2 : select __path, processid, csname, caption, sessionid, threadcount, workingsetsize, kernelmodetime, usermodetime, parentprocessid from win32_process where (  processid = 8124)\\n\\nstart iwbemservices::exe\\n', span=(5, 2011)), Text(entity=None, string='\")\\n\\nstart iwbemservices::execquery - root\\\\cimv2 : select __path, processid, csname, caption, sessionid, threadcount, workingsetsize, kernelmodetime, usermodetime, parentprocessid from win32_process where (  processid = 3036)\\n\\nstart iwbemservices::execquery - root\\\\cimv2 : select __path, processid, csname, caption, sessionid, threadcount, workingsetsize, kernelmodetime, usermodetime, parentprocessid from win32_process where (  processid = 4460)\\n\\nstart iwbemservices::execquery - root\\\\cimv2 : select __path, processid, csname, caption, sessionid, threadcount, workingsetsize, kernelmodetime, usermodetime, parentprocessid from win32_process where (  processid = 3052)\\n\\nstart iwbemservices::execquery - root\\\\cimv2 : select __path, processid, csname, caption, sessionid, threadcount, workingsetsize, kernelmodetime, usermodetime, parentprocessid from win32_process where (  processid = 4476)\\n\\nstart iwbemservices::execquery - root\\\\cimv2 : select __path, processid, csname, caption, sessionid, threadcount, workingsetsize, kernelmodetime, usermodetime, parentprocessid from win32_process where (  processid = 1560)\\n\\nstart iwbemservices::execquery - root\\\\cimv2 : select __path, processid, csname, caption, sessionid, threadcount, workingsetsize, kernelmodetime, usermodetime, parentprocessid from win32_process where (  processid = 8124)\\n\\nstart iwbemservices::exe\\n', span=(645, 2006))), (<Element pre at 0x125f106c8>, Content(property='tail', text='\\n', span=(2017, 2018)), Text(entity=None, string='\\n', span=(0, 1))), (<Element h2 at 0x125f10708>, Content(property='text', text='Encryption and Ransom Note', span=(4, 30)), Text(entity=None, string='Encryption and Ransom Note', span=(0, 26))), (<Element h2 at 0x125f10708>, Content(property='tail', text='\\n', span=(35, 36)), Text(entity=None, string='\\n', span=(0, 1))), (<Element p at 0x125f10748>, Content(property='text', text='Encryption is initiated and completed very quickly once applicable services and processes have been terminated. Specific encryption recipes and routines can vary across variants of HelloKitty. Generally speaking, they tend to use a combination of AES-256 & RSA-2048 or even NTRU+AES-128.', span=(3, 290)), Text(entity=None, string='Encryption is initiated and completed very quickly once applicable services and processes have been terminated. Specific encryption recipes and routines can vary across variants of HelloKitty. Generally speaking, they tend to use a combination of AES-256 & RSA-2048 or even NTRU+AES-128.', span=(0, 287))), (<Element p at 0x125f10748>, Content(property='tail', text='\\n', span=(294, 295)), Text(entity=None, string='\\n', span=(0, 1))), (<Element p at 0x125f10788>, Content(property='text', text='Once encrypted, affected files receive the ', span=(3, 46)), Text(entity=None, string='Once encrypted, affected files receive the ', span=(0, 43))), (<Element p at 0x125f10788>, Content(property='tail', text='\\n', span=(82, 83)), Text(entity=None, string='\\n', span=(0, 1))), (<Element code at 0x125f107c8>, Content(property='text', text='.crypted', span=(6, 14)), Text(entity=None, string='.crypted', span=(0, 8))), (<Element code at 0x125f107c8>, Content(property='tail', text=' extension.', span=(21, 32)), Text(entity=None, string=' extension.', span=(0, 11))), (<Element p at 0x125f10888>, Content(property='text', text='Ransom notes are typically customized to directly reference the victim and victim’s environment. Victims are instructed to visit a TOR-based payment and support portal. The following example has been sanitized:', span=(3, 213)), Text(entity=None, string='Ransom notes are typically customized to directly reference the victim and victim’s environment. Victims are instructed to visit a TOR-based payment and support portal. The following example has been sanitized:', span=(0, 210))), (<Element p at 0x125f10888>, Content(property='tail', text='\\n', span=(217, 218)), Text(entity=None, string='\\n', span=(0, 1))), (<Element p at 0x125f10948>, Content(property='text', text='It is also important to note that as of this writing, the onion address associated with HelloKitty ransom notes is not active.', span=(3, 129)), Text(entity=None, string='It is also important to note that as of this writing, the onion address associated with HelloKitty ransom notes is not active.', span=(0, 126))), (<Element p at 0x125f10948>, Content(property='tail', text='\\n', span=(133, 134)), Text(entity=None, string='\\n', span=(0, 1))), (<Element code at 0x125f109c8>, Content(property='text', text='6x7dp6h3w6q3ugjv4yv5gycj3femb24kysgry5b44hhgfwc5ml5qrdad.onion', span=(6, 68)), Text(entity='domain', string='6x7dp6h3w6q3ugjv4yv5gycj3femb24kysgry5b44hhgfwc5ml5qrdad.onion', span=(0, 62))), (<Element h2 at 0x125f10a08>, Content(property='text', text='Conclusion', span=(4, 14)), Text(entity=None, string='Conclusion', span=(0, 10))), (<Element h2 at 0x125f10a08>, Content(property='tail', text='\\n', span=(19, 20)), Text(entity=None, string='\\n', span=(0, 1))), (<Element p at 0x125f10a48>, Content(property='text', text='HelloKitty may be easier to spot than other modern ransomware families, but upon execution it is no less dangerous. There are currently no known ‘weaknesses’ in the encryption routines, and there are no thirdy-party decrypters available for the HelloKitty ransomware. Therefore, the only true defense is prevention. While this family does not appear to be actively leaking victim data at the moment, that could change at any point, in addition to them choosing to adopt some of the more recent extortion methods that go along with ransomware (DDoS).', span=(3, 552)), Text(entity=None, string='HelloKitty may be easier to spot than other modern ransomware families, but upon execution it is no less dangerous. There are currently no known ‘weaknesses’ in the encryption routines, and there are no thirdy-party decrypters available for the HelloKitty ransomware. Therefore, the only true defense is prevention. While this family does not appear to be actively leaking victim data at the moment, that could change at any point, in addition to them choosing to adopt some of the more recent extortion methods that go along with ransomware (DDoS).', span=(0, 549))), (<Element p at 0x125f10a48>, Content(property='tail', text='\\n', span=(556, 557)), Text(entity=None, string='\\n', span=(0, 1))), (<Element p at 0x125f10a88>, Content(property='text', text='Actors behind the more recent campaign(s) are reportedly attempting to auction the CD Projekt data off in various ‘underground’ forums. At present this sale of this data does appear to be legitimate. Time will tell if additional victim data is dealt with in the same way.', span=(3, 274)), Text(entity=None, string='Actors behind the more recent campaign(s) are reportedly attempting to auction the CD Projekt data off in various ‘underground’ forums. At present this sale of this data does appear to be legitimate. Time will tell if additional victim data is dealt with in the same way.', span=(0, 271))), (<Element p at 0x125f10a88>, Content(property='tail', text='\\n', span=(278, 279)), Text(entity=None, string='\\n', span=(0, 1))), (<Element p at 0x125f10ac8>, Content(property='text', text='To protect yourself against HelloKitty, make sure you are armed with a modern Endpoint Security platform, which is configured correctly and up to date. The SentinelOne Singularity Platform is fully capable of preventing and detecting all malicious behaviors associated with the HelloKitty ransomware family.', span=(3, 310)), Text(entity=None, string='To protect yourself against HelloKitty, make sure you are armed with a modern Endpoint Security platform, which is configured correctly and up to date. The SentinelOne Singularity Platform is fully capable of preventing and detecting all malicious behaviors associated with the HelloKitty ransomware family.', span=(0, 307))), (<Element p at 0x125f10ac8>, Content(property='tail', text='\\n', span=(314, 315)), Text(entity=None, string='\\n', span=(0, 1))), (<Element h2 at 0x125f10b08>, Content(property='text', text='IOCs', span=(4, 8)), Text(entity=None, string='IOCs', span=(0, 4))), (<Element h2 at 0x125f10b08>, Content(property='tail', text='\\n', span=(13, 14)), Text(entity=None, string='\\n', span=(0, 1))), (<Element strong at 0x125f10b88>, Content(property='text', text='SHA1', span=(8, 12)), Text(entity=None, string='SHA1', span=(0, 4))), (<Element br at 0x125f10bc8>, Content(property='tail', text='\\nfadd8d7c13a18c251ded1f645ffea18a37f1c2de', span=(5, 46)), Text(entity=None, string='\\n', span=(0, 1))), (<Element br at 0x125f10bc8>, Content(property='tail', text='\\nfadd8d7c13a18c251ded1f645ffea18a37f1c2de', span=(5, 46)), Text(entity='FileHash-SHA1', string='fadd8d7c13a18c251ded1f645ffea18a37f1c2de', span=(1, 41))), (<Element strong at 0x125f10c48>, Content(property='text', text='SHA256', span=(8, 14)), Text(entity=None, string='SHA256', span=(0, 6))), (<Element br at 0x125f10c88>, Content(property='tail', text='\\n501487b025f25ddf1ca32deb57a2b4db43ccf6635c1edc74b9cff54ce0e5bcfe', span=(5, 70)), Text(entity=None, string='\\n', span=(0, 1))), (<Element br at 0x125f10c88>, Content(property='tail', text='\\n501487b025f25ddf1ca32deb57a2b4db43ccf6635c1edc74b9cff54ce0e5bcfe', span=(5, 70)), Text(entity='FileHash-SHA256', string='501487b025f25ddf1ca32deb57a2b4db43ccf6635c1edc74b9cff54ce0e5bcfe', span=(1, 65))), (<Element strong at 0x125f10d08>, Content(property='text', text='MITRE ATT&CK', span=(8, 20)), Text(entity=None, string='MITRE ATT&CK', span=(0, 12))), (<Element br at 0x125f10d48>, Content(property='tail', text='\\nData from Local System – ', span=(5, 31)), Text(entity=None, string='\\nData from Local System – ', span=(0, 26))), (<Element a at 0x125f10d88>, Content(property='text', text='T1005', span=(45, 50)), Text(entity='AttackTechnique', string='T1005', span=(0, 5))), (<Element br at 0x125f10dc8>, Content(property='tail', text='\\nModify Registry – ', span=(5, 24)), Text(entity=None, string='\\nModify Registry – ', span=(0, 19))), (<Element a at 0x125f10e08>, Content(property='text', text='T1112', span=(45, 50)), Text(entity='AttackTechnique', string='T1112', span=(0, 5))), (<Element br at 0x125f10e48>, Content(property='tail', text='\\nQuery Registry – ', span=(5, 23)), Text(entity=None, string='\\nQuery Registry – ', span=(0, 18))), (<Element a at 0x125f10e88>, Content(property='text', text='T1012', span=(45, 50)), Text(entity='AttackTechnique', string='T1012', span=(0, 5))), (<Element br at 0x125f10ec8>, Content(property='tail', text='\\nSystem Information Discovery – ', span=(5, 37)), Text(entity=None, string='\\nSystem Information Discovery – ', span=(0, 32))), (<Element a at 0x125f10f08>, Content(property='text', text='T1082', span=(45, 50)), Text(entity='AttackTechnique', string='T1082', span=(0, 5))), (<Element br at 0x125f10f48>, Content(property='tail', text='\\nData Encrypted for Impact – ', span=(5, 34)), Text(entity=None, string='\\nData Encrypted for Impact – ', span=(0, 29))), (<Element a at 0x125f10f88>, Content(property='text', text='T1486', span=(45, 50)), Text(entity='AttackTechnique', string='T1486', span=(0, 5))), (<Element br at 0x125f10fc8>, Content(property='tail', text='\\nFile Deletion – ', span=(5, 22)), Text(entity=None, string='\\nFile Deletion – ', span=(0, 17))), (<Element a at 0x125f22048>, Content(property='text', text='T1070.004', span=(99, 108)), Text(entity='AttackTechnique', string='T1070.004', span=(0, 9))), (<Element br at 0x125f22088>, Content(property='tail', text='\\nCommand and Scripting Interpreter: Windows Command Shell – ', span=(5, 65)), Text(entity=None, string='\\nCommand and Scripting Interpreter: Windows Command Shell – ', span=(0, 60))), (<Element a at 0x125f220c8>, Content(property='text', text='T1059.003', span=(99, 108)), Text(entity='AttackTechnique', string='T1059.003', span=(0, 9))), (<Element br at 0x125f22108>, Content(property='tail', text='\\nWindows Management Instrumentation – ', span=(5, 43)), Text(entity=None, string='\\nWindows Management Instrumentation – ', span=(0, 38))), (<Element a at 0x125f22148>, Content(property='text', text='T1047', span=(45, 50)), Text(entity='AttackTechnique', string='T1047', span=(0, 5))), (<Element span at 0x125f22208>, Content(property='text', text='Post Views: ', span=(31, 43)), Text(entity=None, string='Post Views: ', span=(0, 12))), (<Element span at 0x125f22208>, Content(property='tail', text='\\n\\t\\t\\t\\t', span=(50, 55)), Text(entity=None, string='\\n\\t\\t\\t\\t', span=(0, 5))), (<Element span at 0x125f22248>, Content(property='text', text='7,278', span=(31, 36)), Text(entity=None, string='7,278', span=(0, 5))), (<Element span at 0x125f22248>, Content(property='tail', text='\\n\\t\\t\\t', span=(43, 47)), Text(entity=None, string='\\n\\t\\t\\t', span=(0, 4))), ...]"
      ]
     },
     "execution_count": 24,
     "metadata": {},
     "output_type": "execute_result"
    },
    {
     "data": {
      "application/javascript": "\n            setTimeout(function() {\n                var nbb_cell_id = 24;\n                var nbb_unformatted_code = \"flatten_texts\";\n                var nbb_formatted_code = \"flatten_texts\";\n                var nbb_cells = Jupyter.notebook.get_cells();\n                for (var i = 0; i < nbb_cells.length; ++i) {\n                    if (nbb_cells[i].input_prompt_number == nbb_cell_id) {\n                        if (nbb_cells[i].get_text() == nbb_unformatted_code) {\n                             nbb_cells[i].set_text(nbb_formatted_code);\n                        }\n                        break;\n                    }\n                }\n            }, 500);\n            ",
      "text/plain": [
       "<IPython.core.display.Javascript object>"
      ]
     },
     "metadata": {},
     "output_type": "display_data"
    }
   ],
   "source": [
    "flatten_texts"
   ]
  },
  {
   "cell_type": "code",
   "execution_count": 25,
   "metadata": {
    "ExecuteTime": {
     "end_time": "2021-08-27T08:26:04.125913Z",
     "start_time": "2021-08-27T08:26:04.086129Z"
    }
   },
   "outputs": [
    {
     "data": {
      "application/javascript": "\n            setTimeout(function() {\n                var nbb_cell_id = 25;\n                var nbb_unformatted_code = \"all_texts = flatten_texts.starmap(\\n    lambda element, content, text: (\\n        text.string,\\n        text.entity,\\n        # element.sourceline,\\n        element,\\n        content.property,\\n        text.span,\\n    )\\n).cache()\";\n                var nbb_formatted_code = \"all_texts = flatten_texts.starmap(\\n    lambda element, content, text: (\\n        text.string,\\n        text.entity,\\n        # element.sourceline,\\n        element,\\n        content.property,\\n        text.span,\\n    )\\n).cache()\";\n                var nbb_cells = Jupyter.notebook.get_cells();\n                for (var i = 0; i < nbb_cells.length; ++i) {\n                    if (nbb_cells[i].input_prompt_number == nbb_cell_id) {\n                        if (nbb_cells[i].get_text() == nbb_unformatted_code) {\n                             nbb_cells[i].set_text(nbb_formatted_code);\n                        }\n                        break;\n                    }\n                }\n            }, 500);\n            ",
      "text/plain": [
       "<IPython.core.display.Javascript object>"
      ]
     },
     "metadata": {},
     "output_type": "display_data"
    }
   ],
   "source": [
    "all_texts = flatten_texts.starmap(\n",
    "    lambda element, content, text: (\n",
    "        text.string,\n",
    "        text.entity,\n",
    "        # element.sourceline,\n",
    "        element,\n",
    "        content.property,\n",
    "        text.span,\n",
    "    )\n",
    ").cache()"
   ]
  },
  {
   "cell_type": "code",
   "execution_count": 26,
   "metadata": {
    "ExecuteTime": {
     "end_time": "2021-08-27T08:26:04.176099Z",
     "start_time": "2021-08-27T08:26:04.135119Z"
    }
   },
   "outputs": [
    {
     "data": {
      "text/html": [
       "<table>\n",
       "<tbody>\n",
       "<tr><td>Crimeware                                                                                                                                                                                           </td><td></td><td>&lt;Element a at 0x125ef8288&gt;   </td><td>text</td><td>(0, 9)  </td></tr>\n",
       "<tr><td>HelloKitty Ransomware Lacks Stealth, But Still Strikes Home                                                                                                                                         </td><td></td><td>&lt;Element h1 at 0x125ef8088&gt;  </td><td>text</td><td>(0, 59) </td></tr>\n",
       "<tr><td>                                                                                                                                                                                                    </td><td></td><td>&lt;Element h1 at 0x125ef8088&gt;  </td><td>tail</td><td>(0, 3)  </td></tr>\n",
       "<tr><td>Jim Walter                                                                                                                                                                                          </td><td></td><td>&lt;Element a at 0x125f21dc8&gt;   </td><td>text</td><td>(0, 10) </td></tr>\n",
       "<tr><td>March 8, 2021                                                                                                                                                                                       </td><td></td><td>&lt;Element time at 0x125f21f08&gt;</td><td>text</td><td>(0, 13) </td></tr>\n",
       "<tr><td>March 11, 2021                                                                                                                                                                                      </td><td></td><td>&lt;Element time at 0x125f21f48&gt;</td><td>text</td><td>(0, 14) </td></tr>\n",
       "<tr><td>Game studio CD Projekt Red recently                                                                                                                                                                 </td><td></td><td>&lt;Element p at 0x125f21fc8&gt;   </td><td>text</td><td>(0, 36) </td></tr>\n",
       "<tr><td>                                                                                                                                                                                                    </td><td></td><td>&lt;Element p at 0x125f21fc8&gt;   </td><td>tail</td><td>(0, 1)  </td></tr>\n",
       "<tr><td>disclosed                                                                                                                                                                                           </td><td></td><td>&lt;Element a at 0x125f10048&gt;   </td><td>text</td><td>(0, 9)  </td></tr>\n",
       "<tr><td>that it became a victim of a targeted, highly-impactful ransomware. In the days following the disclosure, it was revealed that the ransomware family most likely behind the attack was “HelloKitty”.</td><td></td><td>&lt;Element a at 0x125f10048&gt;   </td><td>tail</td><td>(0, 197)</td></tr>\n",
       "</tbody>\n",
       "</table><p>Showing 10 of 184 rows"
      ],
      "text/plain": [
       "[('Crimeware', None, <Element a at 0x125ef8288>, 'text', (0, 9)), ('HelloKitty Ransomware Lacks Stealth, But Still Strikes Home', None, <Element h1 at 0x125ef8088>, 'text', (0, 59)), ('\\n\\t\\t', None, <Element h1 at 0x125ef8088>, 'tail', (0, 3)), ('Jim Walter', None, <Element a at 0x125f21dc8>, 'text', (0, 10)), ('March 8, 2021', None, <Element time at 0x125f21f08>, 'text', (0, 13)), ('March 11, 2021', None, <Element time at 0x125f21f48>, 'text', (0, 14)), ('Game studio CD Projekt Red recently ', None, <Element p at 0x125f21fc8>, 'text', (0, 36)), ('\\n', None, <Element p at 0x125f21fc8>, 'tail', (0, 1)), ('disclosed', None, <Element a at 0x125f10048>, 'text', (0, 9)), (' that it became a victim of a targeted, highly-impactful ransomware. In the days following the disclosure, it was revealed that the ransomware family most likely behind the attack was “HelloKitty”.', None, <Element a at 0x125f10048>, 'tail', (0, 197)), ('HelloKitty is a ransomware family that emerged in late 2020. While it lacks the sophistication of some of the more well-known families such as Ryuk, REvil, and Conti, it has nevertheless struck some notable targets, including CEMIG0. In this post, we analyse a recent HelloKitty sample and outline the basic behaviors and traits associated with this family of ransomware.', None, <Element p at 0x125f10108>, 'text', (0, 371)), ('\\n', None, <Element p at 0x125f10108>, 'tail', (0, 1)), ('Execution and Behavior', None, <Element h2 at 0x125f10148>, 'text', (0, 22)), ('\\n', None, <Element h2 at 0x125f10148>, 'tail', (0, 1)), ('The “HelloKitty” name is based on internal mutex names, which are apparent upon execution.', None, <Element p at 0x125f10188>, 'text', (0, 90)), ('\\n', None, <Element p at 0x125f10188>, 'tail', (0, 1)), ('While still somewhat unclear, current intelligence indicates that the primary delivery method of HelloKitty binaries is via phish email or via secondary infection in conjunction with other malware.', None, <Element p at 0x125f10248>, 'text', (0, 197)), ('\\n', None, <Element p at 0x125f10248>, 'tail', (0, 1)), ('Once launched, HelloKitty will attempt to disable and terminate a number of processes and services so as to reduce interference with the encryption process. This includes processes and services associated with IIS, MSSQL, Quickbooks, Sharepoint, and more. These actions are carried out via ', None, <Element p at 0x125f10288>, 'text', (0, 290)), ('\\n', None, <Element p at 0x125f10288>, 'tail', (0, 1)), ('taskkill.exe', 'FilePath', <Element code at 0x125f102c8>, 'text', (0, 12)), (' and ', None, <Element code at 0x125f102c8>, 'tail', (0, 5)), ('net.exe', 'FilePath', <Element code at 0x125f10308>, 'text', (0, 7)), ('.', None, <Element code at 0x125f10308>, 'tail', (0, 1)), ('In the analyzed sample, this is all done in a very non-stealthy manner. All spawned CMD windows are in the foreground and fully visible. This ‘lack of discreteness’ is atypical for modern ransomware, or any successful malware, for that matter.', None, <Element p at 0x125f10348>, 'text', (0, 243)), ('\\n', None, <Element p at 0x125f10348>, 'tail', (0, 1)), ('A full list of processes from the analyzed sample are listed below:', None, <Element p at 0x125f10408>, 'text', (0, 67)), ('\\n', None, <Element p at 0x125f10408>, 'tail', (0, 1)), ('\\ndsa*\\nNtrtsca\\nds_moni\\nNotifie\\nTmListe\\niVPAgen\\nCNTAoSM\\nIBM*\\nbes10*\\nblack*\\nrobo*\\ncopy*\\n', None, <Element pre at 0x125f10448>, 'text', (0, 85)), ('store.e', 'FilePath', <Element pre at 0x125f10448>, 'text', (85, 92)), ('\\nsql*\\nvee*\\nwrsa*\\n', None, <Element pre at 0x125f10448>, 'text', (92, 109)), ('wrsa.ex', 'FilePath', <Element pre at 0x125f10448>, 'text', (109, 116)), ('\\npostg*\\nsage*\\nMSSQLServerADHelper100\\nMSSQL$ISARS\\nMSSQL$MSFW\\nSQLAgent$ISARS\\nSQLAgent$MSFW\\nSQLBrowser\\nReportServer$ISARS\\nSQLWriter\\nWinDefend\\nmr2kserv\\nMSExchangeADTopology\\nMSExchangeFBA\\nMSExchangeIS\\nMSExchangeSA\\nShadowProtectSvc\\nSPAdminV4\\nSPTimerV4\\nSPTraceV4\\nSPUserCodeV4\\nSPWriterV4\\nSPSearch4\\nIISADMIN\\nfirebirdguardiandefaultinstance\\nibmiasrw\\nQBCFMonitorService\\nQBVSS\\nQBPOSDBServiceV12\\n\"IBM Domino Server(CProgramFilesIBMDominodata)\"\\n\"IBM Domino Diagnostics(CProgramFilesIBMDomino)\"\\n\"Simply Accounting Database Connection Manager\"\\nQuickBooksDB1\\nQuickBooksDB2\\nQuickBooksDB3\\nQuickBooksDB4\\nQuickBooksDB5\\nQuickBooksDB6\\nQuickBooksDB7\\nQuickBooksDB8\\nQuickBooksDB9\\nQuickBooksDB10\\nQuickBooksDB11\\nQuickBooksDB12\\nQuickBooksDB13\\nQuickBooksDB14\\nQuickBooksDB15\\nQuickBooksDB16\\nQuickBooksDB17\\nQuickBooksDB18\\nQuickBooksDB19\\nQuickBooksDB20\\nQuickBooksDB21\\nQuickBooksDB22\\nQuickBooksDB23\\nQuickBooksDB24\\nQuickBooksDB25\\n', None, <Element pre at 0x125f10448>, 'text', (116, 1010)), ('\\n', None, <Element pre at 0x125f10448>, 'tail', (0, 1)), ('Additional processes and services that are terminated are identified via PID. For example:', None, <Element p at 0x125f10488>, 'text', (0, 90)), ('\\n', None, <Element p at 0x125f10488>, 'tail', (0, 1)), ('taskkill.exe', 'FilePath', <Element code at 0x125f10508>, 'text', (0, 12)), (' /f /PID \"8512\"', None, <Element code at 0x125f10508>, 'text', (12, 27)), ('taskkill.exe', 'FilePath', <Element code at 0x125f10588>, 'text', (0, 12)), (' /f /PID \"8656\"', None, <Element code at 0x125f10588>, 'text', (12, 27)), ('If HelloKitty is unable to stop any specific processes or services, it will leverage the Windows Restart Manager API to further assist in termination.', None, <Element p at 0x125f105c8>, 'text', (0, 150)), ('\\n', None, <Element p at 0x125f105c8>, 'tail', (0, 1)), ('HelloKitty will also utilize WMI to gather system details and help identify running processes and any potentially problematic processes. This is done both by name and by PID. A number of examples are shown below:', None, <Element p at 0x125f10688>, 'text', (0, 212)), ('\\n', None, <Element p at 0x125f10688>, 'tail', (0, 1)), ('\\nstart iwbemservices::execquery - root\\\\cimv2 : select __path, processid, csname, caption, sessionid, threadcount, workingsetsize, kernelmodetime, usermodetime, parentprocessid from win32_process\\n\\nstart iwbemservices::execquery - root\\\\cimv2 : select __path, processid, csname, caption, sessionid, threadcount, workingsetsize, kernelmodetime, usermodetime, parentprocessid from win32_process where (  caption = \"', None, <Element pre at 0x125f106c8>, 'text', (0, 410)), ('store.exe', 'FilePath', <Element pre at 0x125f106c8>, 'text', (410, 419)), ('\")\\n\\nstart iwbemservices::execquery - root\\\\cimv2 : select __path, processid, csname, caption, sessionid, threadcount, workingsetsize, kernelmodetime, usermodetime, parentprocessid from win32_process where (  caption = \"', None, <Element pre at 0x125f106c8>, 'text', (419, 637)), ('wrsa.exe', 'FilePath', <Element pre at 0x125f106c8>, 'text', (637, 645)), ('\")\\n\\nstart iwbemservices::execquery - root\\\\cimv2 : select __path, processid, csname, caption, sessionid, threadcount, workingsetsize, kernelmodetime, usermodetime, parentprocessid from win32_process where (  processid = 3036)\\n\\nstart iwbemservices::execquery - root\\\\cimv2 : select __path, processid, csname, caption, sessionid, threadcount, workingsetsize, kernelmodetime, usermodetime, parentprocessid from win32_process where (  processid = 4460)\\n\\nstart iwbemservices::execquery - root\\\\cimv2 : select __path, processid, csname, caption, sessionid, threadcount, workingsetsize, kernelmodetime, usermodetime, parentprocessid from win32_process where (  processid = 3052)\\n\\nstart iwbemservices::execquery - root\\\\cimv2 : select __path, processid, csname, caption, sessionid, threadcount, workingsetsize, kernelmodetime, usermodetime, parentprocessid from win32_process where (  processid = 4476)\\n\\nstart iwbemservices::execquery - root\\\\cimv2 : select __path, processid, csname, caption, sessionid, threadcount, workingsetsize, kernelmodetime, usermodetime, parentprocessid from win32_process where (  processid = 1560)\\n\\nstart iwbemservices::execquery - root\\\\cimv2 : select __path, processid, csname, caption, sessionid, threadcount, workingsetsize, kernelmodetime, usermodetime, parentprocessid from win32_process where (  processid = 8124)\\n\\nstart iwbemservices::exe\\n', None, <Element pre at 0x125f106c8>, 'text', (645, 2006)), ('\\n', None, <Element pre at 0x125f106c8>, 'tail', (0, 1)), ('Encryption and Ransom Note', None, <Element h2 at 0x125f10708>, 'text', (0, 26)), ('\\n', None, <Element h2 at 0x125f10708>, 'tail', (0, 1)), ('Encryption is initiated and completed very quickly once applicable services and processes have been terminated. Specific encryption recipes and routines can vary across variants of HelloKitty. Generally speaking, they tend to use a combination of AES-256 & RSA-2048 or even NTRU+AES-128.', None, <Element p at 0x125f10748>, 'text', (0, 287)), ('\\n', None, <Element p at 0x125f10748>, 'tail', (0, 1)), ('Once encrypted, affected files receive the ', None, <Element p at 0x125f10788>, 'text', (0, 43)), ('\\n', None, <Element p at 0x125f10788>, 'tail', (0, 1)), ('.crypted', None, <Element code at 0x125f107c8>, 'text', (0, 8)), (' extension.', None, <Element code at 0x125f107c8>, 'tail', (0, 11)), ('Ransom notes are typically customized to directly reference the victim and victim’s environment. Victims are instructed to visit a TOR-based payment and support portal. The following example has been sanitized:', None, <Element p at 0x125f10888>, 'text', (0, 210)), ('\\n', None, <Element p at 0x125f10888>, 'tail', (0, 1)), ('It is also important to note that as of this writing, the onion address associated with HelloKitty ransom notes is not active.', None, <Element p at 0x125f10948>, 'text', (0, 126)), ('\\n', None, <Element p at 0x125f10948>, 'tail', (0, 1)), ('6x7dp6h3w6q3ugjv4yv5gycj3femb24kysgry5b44hhgfwc5ml5qrdad.onion', 'domain', <Element code at 0x125f109c8>, 'text', (0, 62)), ('Conclusion', None, <Element h2 at 0x125f10a08>, 'text', (0, 10)), ('\\n', None, <Element h2 at 0x125f10a08>, 'tail', (0, 1)), ('HelloKitty may be easier to spot than other modern ransomware families, but upon execution it is no less dangerous. There are currently no known ‘weaknesses’ in the encryption routines, and there are no thirdy-party decrypters available for the HelloKitty ransomware. Therefore, the only true defense is prevention. While this family does not appear to be actively leaking victim data at the moment, that could change at any point, in addition to them choosing to adopt some of the more recent extortion methods that go along with ransomware (DDoS).', None, <Element p at 0x125f10a48>, 'text', (0, 549)), ('\\n', None, <Element p at 0x125f10a48>, 'tail', (0, 1)), ('Actors behind the more recent campaign(s) are reportedly attempting to auction the CD Projekt data off in various ‘underground’ forums. At present this sale of this data does appear to be legitimate. Time will tell if additional victim data is dealt with in the same way.', None, <Element p at 0x125f10a88>, 'text', (0, 271)), ('\\n', None, <Element p at 0x125f10a88>, 'tail', (0, 1)), ('To protect yourself against HelloKitty, make sure you are armed with a modern Endpoint Security platform, which is configured correctly and up to date. The SentinelOne Singularity Platform is fully capable of preventing and detecting all malicious behaviors associated with the HelloKitty ransomware family.', None, <Element p at 0x125f10ac8>, 'text', (0, 307)), ('\\n', None, <Element p at 0x125f10ac8>, 'tail', (0, 1)), ('IOCs', None, <Element h2 at 0x125f10b08>, 'text', (0, 4)), ('\\n', None, <Element h2 at 0x125f10b08>, 'tail', (0, 1)), ('SHA1', None, <Element strong at 0x125f10b88>, 'text', (0, 4)), ('\\n', None, <Element br at 0x125f10bc8>, 'tail', (0, 1)), ('fadd8d7c13a18c251ded1f645ffea18a37f1c2de', 'FileHash-SHA1', <Element br at 0x125f10bc8>, 'tail', (1, 41)), ('SHA256', None, <Element strong at 0x125f10c48>, 'text', (0, 6)), ('\\n', None, <Element br at 0x125f10c88>, 'tail', (0, 1)), ('501487b025f25ddf1ca32deb57a2b4db43ccf6635c1edc74b9cff54ce0e5bcfe', 'FileHash-SHA256', <Element br at 0x125f10c88>, 'tail', (1, 65)), ('MITRE ATT&CK', None, <Element strong at 0x125f10d08>, 'text', (0, 12)), ('\\nData from Local System – ', None, <Element br at 0x125f10d48>, 'tail', (0, 26)), ('T1005', 'AttackTechnique', <Element a at 0x125f10d88>, 'text', (0, 5)), ('\\nModify Registry – ', None, <Element br at 0x125f10dc8>, 'tail', (0, 19)), ('T1112', 'AttackTechnique', <Element a at 0x125f10e08>, 'text', (0, 5)), ('\\nQuery Registry – ', None, <Element br at 0x125f10e48>, 'tail', (0, 18)), ('T1012', 'AttackTechnique', <Element a at 0x125f10e88>, 'text', (0, 5)), ('\\nSystem Information Discovery – ', None, <Element br at 0x125f10ec8>, 'tail', (0, 32)), ('T1082', 'AttackTechnique', <Element a at 0x125f10f08>, 'text', (0, 5)), ('\\nData Encrypted for Impact – ', None, <Element br at 0x125f10f48>, 'tail', (0, 29)), ('T1486', 'AttackTechnique', <Element a at 0x125f10f88>, 'text', (0, 5)), ('\\nFile Deletion – ', None, <Element br at 0x125f10fc8>, 'tail', (0, 17)), ('T1070.004', 'AttackTechnique', <Element a at 0x125f22048>, 'text', (0, 9)), ('\\nCommand and Scripting Interpreter: Windows Command Shell – ', None, <Element br at 0x125f22088>, 'tail', (0, 60)), ('T1059.003', 'AttackTechnique', <Element a at 0x125f220c8>, 'text', (0, 9)), ('\\nWindows Management Instrumentation – ', None, <Element br at 0x125f22108>, 'tail', (0, 38)), ('T1047', 'AttackTechnique', <Element a at 0x125f22148>, 'text', (0, 5)), ('Post Views: ', None, <Element span at 0x125f22208>, 'text', (0, 12)), ('\\n\\t\\t\\t\\t', None, <Element span at 0x125f22208>, 'tail', (0, 5)), ('7,278', None, <Element span at 0x125f22248>, 'text', (0, 5)), ('\\n\\t\\t\\t', None, <Element span at 0x125f22248>, 'tail', (0, 4)), ...]"
      ]
     },
     "execution_count": 26,
     "metadata": {},
     "output_type": "execute_result"
    },
    {
     "data": {
      "application/javascript": "\n            setTimeout(function() {\n                var nbb_cell_id = 26;\n                var nbb_unformatted_code = \"all_texts\";\n                var nbb_formatted_code = \"all_texts\";\n                var nbb_cells = Jupyter.notebook.get_cells();\n                for (var i = 0; i < nbb_cells.length; ++i) {\n                    if (nbb_cells[i].input_prompt_number == nbb_cell_id) {\n                        if (nbb_cells[i].get_text() == nbb_unformatted_code) {\n                             nbb_cells[i].set_text(nbb_formatted_code);\n                        }\n                        break;\n                    }\n                }\n            }, 500);\n            ",
      "text/plain": [
       "<IPython.core.display.Javascript object>"
      ]
     },
     "metadata": {},
     "output_type": "display_data"
    }
   ],
   "source": [
    "all_texts"
   ]
  },
  {
   "cell_type": "code",
   "execution_count": 27,
   "metadata": {
    "ExecuteTime": {
     "end_time": "2021-08-27T08:26:04.211415Z",
     "start_time": "2021-08-27T08:26:04.185865Z"
    }
   },
   "outputs": [
    {
     "data": {
      "text/html": [
       "<table>\n",
       "<tbody>\n",
       "<tr><td>taskkill.exe                                                  </td><td>FilePath     </td><td>&lt;Element code at 0x125f102c8&gt;</td><td>text</td><td>(0, 12)   </td></tr>\n",
       "<tr><td>net.exe                                                       </td><td>FilePath     </td><td>&lt;Element code at 0x125f10308&gt;</td><td>text</td><td>(0, 7)    </td></tr>\n",
       "<tr><td>store.e                                                       </td><td>FilePath     </td><td>&lt;Element pre at 0x125f10448&gt; </td><td>text</td><td>(85, 92)  </td></tr>\n",
       "<tr><td>wrsa.ex                                                       </td><td>FilePath     </td><td>&lt;Element pre at 0x125f10448&gt; </td><td>text</td><td>(109, 116)</td></tr>\n",
       "<tr><td>taskkill.exe                                                  </td><td>FilePath     </td><td>&lt;Element code at 0x125f10508&gt;</td><td>text</td><td>(0, 12)   </td></tr>\n",
       "<tr><td>taskkill.exe                                                  </td><td>FilePath     </td><td>&lt;Element code at 0x125f10588&gt;</td><td>text</td><td>(0, 12)   </td></tr>\n",
       "<tr><td>store.exe                                                     </td><td>FilePath     </td><td>&lt;Element pre at 0x125f106c8&gt; </td><td>text</td><td>(410, 419)</td></tr>\n",
       "<tr><td>wrsa.exe                                                      </td><td>FilePath     </td><td>&lt;Element pre at 0x125f106c8&gt; </td><td>text</td><td>(637, 645)</td></tr>\n",
       "<tr><td>6x7dp6h3w6q3ugjv4yv5gycj3femb24kysgry5b44hhgfwc5ml5qrdad.onion</td><td>domain       </td><td>&lt;Element code at 0x125f109c8&gt;</td><td>text</td><td>(0, 62)   </td></tr>\n",
       "<tr><td>fadd8d7c13a18c251ded1f645ffea18a37f1c2de                      </td><td>FileHash-SHA1</td><td>&lt;Element br at 0x125f10bc8&gt;  </td><td>tail</td><td>(1, 41)   </td></tr>\n",
       "</tbody>\n",
       "</table><p>Showing 10 of 24 rows"
      ],
      "text/plain": [
       "[('taskkill.exe', 'FilePath', <Element code at 0x125f102c8>, 'text', (0, 12)), ('net.exe', 'FilePath', <Element code at 0x125f10308>, 'text', (0, 7)), ('store.e', 'FilePath', <Element pre at 0x125f10448>, 'text', (85, 92)), ('wrsa.ex', 'FilePath', <Element pre at 0x125f10448>, 'text', (109, 116)), ('taskkill.exe', 'FilePath', <Element code at 0x125f10508>, 'text', (0, 12)), ('taskkill.exe', 'FilePath', <Element code at 0x125f10588>, 'text', (0, 12)), ('store.exe', 'FilePath', <Element pre at 0x125f106c8>, 'text', (410, 419)), ('wrsa.exe', 'FilePath', <Element pre at 0x125f106c8>, 'text', (637, 645)), ('6x7dp6h3w6q3ugjv4yv5gycj3femb24kysgry5b44hhgfwc5ml5qrdad.onion', 'domain', <Element code at 0x125f109c8>, 'text', (0, 62)), ('fadd8d7c13a18c251ded1f645ffea18a37f1c2de', 'FileHash-SHA1', <Element br at 0x125f10bc8>, 'tail', (1, 41)), ('501487b025f25ddf1ca32deb57a2b4db43ccf6635c1edc74b9cff54ce0e5bcfe', 'FileHash-SHA256', <Element br at 0x125f10c88>, 'tail', (1, 65)), ('T1005', 'AttackTechnique', <Element a at 0x125f10d88>, 'text', (0, 5)), ('T1112', 'AttackTechnique', <Element a at 0x125f10e08>, 'text', (0, 5)), ('T1012', 'AttackTechnique', <Element a at 0x125f10e88>, 'text', (0, 5)), ('T1082', 'AttackTechnique', <Element a at 0x125f10f08>, 'text', (0, 5)), ('T1486', 'AttackTechnique', <Element a at 0x125f10f88>, 'text', (0, 5)), ('T1070.004', 'AttackTechnique', <Element a at 0x125f22048>, 'text', (0, 9)), ('T1059.003', 'AttackTechnique', <Element a at 0x125f220c8>, 'text', (0, 9)), ('T1047', 'AttackTechnique', <Element a at 0x125f22148>, 'text', (0, 5)), ('macOS.GMERA', 'FilePath', <Element a at 0x125f24248>, 'text', (10, 21)), ('https://t.co/tFqxVu6TV1', 'URI', <Element a at 0x125f24c08>, 'text', (0, 23)), ('https://t.co/4MmUrFnj9W', 'URI', <Element a at 0x125f24e08>, 'text', (0, 23)), ('https://t.co/plIa4AtRlY', 'URI', <Element a at 0x125f24f08>, 'text', (0, 23)), ('https://t.co/kBIKxrusD1', 'URI', <Element a at 0x125f250c8>, 'text', (0, 23))]"
      ]
     },
     "execution_count": 27,
     "metadata": {},
     "output_type": "execute_result"
    },
    {
     "data": {
      "application/javascript": "\n            setTimeout(function() {\n                var nbb_cell_id = 27;\n                var nbb_unformatted_code = \"all_texts.filter(lambda x: x[1] != None)\";\n                var nbb_formatted_code = \"all_texts.filter(lambda x: x[1] != None)\";\n                var nbb_cells = Jupyter.notebook.get_cells();\n                for (var i = 0; i < nbb_cells.length; ++i) {\n                    if (nbb_cells[i].input_prompt_number == nbb_cell_id) {\n                        if (nbb_cells[i].get_text() == nbb_unformatted_code) {\n                             nbb_cells[i].set_text(nbb_formatted_code);\n                        }\n                        break;\n                    }\n                }\n            }, 500);\n            ",
      "text/plain": [
       "<IPython.core.display.Javascript object>"
      ]
     },
     "metadata": {},
     "output_type": "display_data"
    }
   ],
   "source": [
    "all_texts.filter(lambda x: x[1] != None)"
   ]
  },
  {
   "cell_type": "markdown",
   "metadata": {},
   "source": [
    "---"
   ]
  },
  {
   "cell_type": "markdown",
   "metadata": {},
   "source": [
    "---"
   ]
  },
  {
   "cell_type": "markdown",
   "metadata": {},
   "source": [
    "# label by datafeeds"
   ]
  },
  {
   "cell_type": "code",
   "execution_count": 28,
   "metadata": {
    "ExecuteTime": {
     "end_time": "2021-08-27T08:26:04.243053Z",
     "start_time": "2021-08-27T08:26:04.218494Z"
    }
   },
   "outputs": [
    {
     "data": {
      "application/javascript": "\n            setTimeout(function() {\n                var nbb_cell_id = 28;\n                var nbb_unformatted_code = \"EntityReplacement = namedtuple(\\n    \\\"EntityReplacement\\\", [\\\"text\\\", \\\"entity\\\", \\\"element\\\", \\\"property\\\", \\\"span\\\"]\\n)\";\n                var nbb_formatted_code = \"EntityReplacement = namedtuple(\\n    \\\"EntityReplacement\\\", [\\\"text\\\", \\\"entity\\\", \\\"element\\\", \\\"property\\\", \\\"span\\\"]\\n)\";\n                var nbb_cells = Jupyter.notebook.get_cells();\n                for (var i = 0; i < nbb_cells.length; ++i) {\n                    if (nbb_cells[i].input_prompt_number == nbb_cell_id) {\n                        if (nbb_cells[i].get_text() == nbb_unformatted_code) {\n                             nbb_cells[i].set_text(nbb_formatted_code);\n                        }\n                        break;\n                    }\n                }\n            }, 500);\n            ",
      "text/plain": [
       "<IPython.core.display.Javascript object>"
      ]
     },
     "metadata": {},
     "output_type": "display_data"
    }
   ],
   "source": [
    "EntityReplacement = namedtuple(\n",
    "    \"EntityReplacement\", [\"text\", \"entity\", \"element\", \"property\", \"span\"]\n",
    ")"
   ]
  },
  {
   "cell_type": "code",
   "execution_count": 29,
   "metadata": {
    "ExecuteTime": {
     "end_time": "2021-08-27T08:26:04.266443Z",
     "start_time": "2021-08-27T08:26:04.248498Z"
    }
   },
   "outputs": [
    {
     "data": {
      "application/javascript": "\n            setTimeout(function() {\n                var nbb_cell_id = 29;\n                var nbb_unformatted_code = \"ers = all_texts.map(lambda x: EntityReplacement(*x))\";\n                var nbb_formatted_code = \"ers = all_texts.map(lambda x: EntityReplacement(*x))\";\n                var nbb_cells = Jupyter.notebook.get_cells();\n                for (var i = 0; i < nbb_cells.length; ++i) {\n                    if (nbb_cells[i].input_prompt_number == nbb_cell_id) {\n                        if (nbb_cells[i].get_text() == nbb_unformatted_code) {\n                             nbb_cells[i].set_text(nbb_formatted_code);\n                        }\n                        break;\n                    }\n                }\n            }, 500);\n            ",
      "text/plain": [
       "<IPython.core.display.Javascript object>"
      ]
     },
     "metadata": {},
     "output_type": "display_data"
    }
   ],
   "source": [
    "ers = all_texts.map(lambda x: EntityReplacement(*x))"
   ]
  },
  {
   "cell_type": "code",
   "execution_count": 30,
   "metadata": {
    "ExecuteTime": {
     "end_time": "2021-08-27T08:26:04.324413Z",
     "start_time": "2021-08-27T08:26:04.276641Z"
    }
   },
   "outputs": [
    {
     "data": {
      "text/html": [
       "<table>\n",
       "<tbody>\n",
       "<tr><td>Crimeware                                                                                                                                                                                                                                                                                                                                                                          </td><td>                                                                                                                                                                                                    </td></tr>\n",
       "<tr><td>HelloKitty Ransomware Lacks Stealth, But Still Strikes Home                                                                                                                                                                                                                                                                                                                        </td><td>                                                                                                                                                                                                    </td></tr>\n",
       "<tr><td>Jim Walter                                                                                                                                                                                                                                                                                                                                                                         </td><td>                                                                                                                                                                                                    </td></tr>\n",
       "<tr><td>March 8, 2021                                                                                                                                                                                                                                                                                                                                                                      </td><td>                                                                                                                                                                                                    </td></tr>\n",
       "<tr><td>March 11, 2021                                                                                                                                                                                                                                                                                                                                                                     </td><td>                                                                                                                                                                                                    </td></tr>\n",
       "<tr><td>Game studio CD Projekt Red recently                                                                                                                                                                                                                                                                                                                                                </td><td>                                                                                                                                                                                                    </td></tr>\n",
       "<tr><td>disclosed                                                                                                                                                                                                                                                                                                                                                                          </td><td>that it became a victim of a targeted, highly-impactful ransomware. In the days following the disclosure, it was revealed that the ransomware family most likely behind the attack was “HelloKitty”.</td></tr>\n",
       "<tr><td>HelloKitty is a ransomware family that emerged in late 2020. While it lacks the sophistication of some of the more well-known families such as Ryuk, REvil, and Conti, it has nevertheless struck some notable targets, including CEMIG0. In this post, we analyse a recent HelloKitty sample and outline the basic behaviors and traits associated with this family of ransomware.</td><td>                                                                                                                                                                                                    </td></tr>\n",
       "<tr><td>Execution and Behavior                                                                                                                                                                                                                                                                                                                                                             </td><td>                                                                                                                                                                                                    </td></tr>\n",
       "<tr><td>The “HelloKitty” name is based on internal mutex names, which are apparent upon execution.                                                                                                                                                                                                                                                                                         </td><td>                                                                                                                                                                                                    </td></tr>\n",
       "</tbody>\n",
       "</table><p>Showing 10 of 120 rows"
      ],
      "text/plain": [
       "[['Crimeware'], ['HelloKitty Ransomware Lacks Stealth, But Still Strikes Home', '\\n\\t\\t'], ['Jim Walter'], ['March 8, 2021'], ['March 11, 2021'], ['Game studio CD Projekt Red recently ', '\\n'], ['disclosed', ' that it became a victim of a targeted, highly-impactful ransomware. In the days following the disclosure, it was revealed that the ransomware family most likely behind the attack was “HelloKitty”.'], ['HelloKitty is a ransomware family that emerged in late 2020. While it lacks the sophistication of some of the more well-known families such as Ryuk, REvil, and Conti, it has nevertheless struck some notable targets, including CEMIG0. In this post, we analyse a recent HelloKitty sample and outline the basic behaviors and traits associated with this family of ransomware.', '\\n'], ['Execution and Behavior', '\\n'], ['The “HelloKitty” name is based on internal mutex names, which are apparent upon execution.', '\\n'], ['While still somewhat unclear, current intelligence indicates that the primary delivery method of HelloKitty binaries is via phish email or via secondary infection in conjunction with other malware.', '\\n'], ['Once launched, HelloKitty will attempt to disable and terminate a number of processes and services so as to reduce interference with the encryption process. This includes processes and services associated with IIS, MSSQL, Quickbooks, Sharepoint, and more. These actions are carried out via ', '\\n'], ['taskkill.exe', ' and '], ['net.exe', '.'], ['In the analyzed sample, this is all done in a very non-stealthy manner. All spawned CMD windows are in the foreground and fully visible. This ‘lack of discreteness’ is atypical for modern ransomware, or any successful malware, for that matter.', '\\n'], ['A full list of processes from the analyzed sample are listed below:', '\\n'], ['\\ndsa*\\nNtrtsca\\nds_moni\\nNotifie\\nTmListe\\niVPAgen\\nCNTAoSM\\nIBM*\\nbes10*\\nblack*\\nrobo*\\ncopy*\\n', 'store.e', '\\nsql*\\nvee*\\nwrsa*\\n', 'wrsa.ex', '\\npostg*\\nsage*\\nMSSQLServerADHelper100\\nMSSQL$ISARS\\nMSSQL$MSFW\\nSQLAgent$ISARS\\nSQLAgent$MSFW\\nSQLBrowser\\nReportServer$ISARS\\nSQLWriter\\nWinDefend\\nmr2kserv\\nMSExchangeADTopology\\nMSExchangeFBA\\nMSExchangeIS\\nMSExchangeSA\\nShadowProtectSvc\\nSPAdminV4\\nSPTimerV4\\nSPTraceV4\\nSPUserCodeV4\\nSPWriterV4\\nSPSearch4\\nIISADMIN\\nfirebirdguardiandefaultinstance\\nibmiasrw\\nQBCFMonitorService\\nQBVSS\\nQBPOSDBServiceV12\\n\"IBM Domino Server(CProgramFilesIBMDominodata)\"\\n\"IBM Domino Diagnostics(CProgramFilesIBMDomino)\"\\n\"Simply Accounting Database Connection Manager\"\\nQuickBooksDB1\\nQuickBooksDB2\\nQuickBooksDB3\\nQuickBooksDB4\\nQuickBooksDB5\\nQuickBooksDB6\\nQuickBooksDB7\\nQuickBooksDB8\\nQuickBooksDB9\\nQuickBooksDB10\\nQuickBooksDB11\\nQuickBooksDB12\\nQuickBooksDB13\\nQuickBooksDB14\\nQuickBooksDB15\\nQuickBooksDB16\\nQuickBooksDB17\\nQuickBooksDB18\\nQuickBooksDB19\\nQuickBooksDB20\\nQuickBooksDB21\\nQuickBooksDB22\\nQuickBooksDB23\\nQuickBooksDB24\\nQuickBooksDB25\\n', '\\n'], ['Additional processes and services that are terminated are identified via PID. For example:', '\\n'], ['taskkill.exe', ' /f /PID \"8512\"'], ['taskkill.exe', ' /f /PID \"8656\"'], ['If HelloKitty is unable to stop any specific processes or services, it will leverage the Windows Restart Manager API to further assist in termination.', '\\n'], ['HelloKitty will also utilize WMI to gather system details and help identify running processes and any potentially problematic processes. This is done both by name and by PID. A number of examples are shown below:', '\\n'], ['\\nstart iwbemservices::execquery - root\\\\cimv2 : select __path, processid, csname, caption, sessionid, threadcount, workingsetsize, kernelmodetime, usermodetime, parentprocessid from win32_process\\n\\nstart iwbemservices::execquery - root\\\\cimv2 : select __path, processid, csname, caption, sessionid, threadcount, workingsetsize, kernelmodetime, usermodetime, parentprocessid from win32_process where (  caption = \"', 'store.exe', '\")\\n\\nstart iwbemservices::execquery - root\\\\cimv2 : select __path, processid, csname, caption, sessionid, threadcount, workingsetsize, kernelmodetime, usermodetime, parentprocessid from win32_process where (  caption = \"', 'wrsa.exe', '\")\\n\\nstart iwbemservices::execquery - root\\\\cimv2 : select __path, processid, csname, caption, sessionid, threadcount, workingsetsize, kernelmodetime, usermodetime, parentprocessid from win32_process where (  processid = 3036)\\n\\nstart iwbemservices::execquery - root\\\\cimv2 : select __path, processid, csname, caption, sessionid, threadcount, workingsetsize, kernelmodetime, usermodetime, parentprocessid from win32_process where (  processid = 4460)\\n\\nstart iwbemservices::execquery - root\\\\cimv2 : select __path, processid, csname, caption, sessionid, threadcount, workingsetsize, kernelmodetime, usermodetime, parentprocessid from win32_process where (  processid = 3052)\\n\\nstart iwbemservices::execquery - root\\\\cimv2 : select __path, processid, csname, caption, sessionid, threadcount, workingsetsize, kernelmodetime, usermodetime, parentprocessid from win32_process where (  processid = 4476)\\n\\nstart iwbemservices::execquery - root\\\\cimv2 : select __path, processid, csname, caption, sessionid, threadcount, workingsetsize, kernelmodetime, usermodetime, parentprocessid from win32_process where (  processid = 1560)\\n\\nstart iwbemservices::execquery - root\\\\cimv2 : select __path, processid, csname, caption, sessionid, threadcount, workingsetsize, kernelmodetime, usermodetime, parentprocessid from win32_process where (  processid = 8124)\\n\\nstart iwbemservices::exe\\n', '\\n'], ['Encryption and Ransom Note', '\\n'], ['Encryption is initiated and completed very quickly once applicable services and processes have been terminated. Specific encryption recipes and routines can vary across variants of HelloKitty. Generally speaking, they tend to use a combination of AES-256 & RSA-2048 or even NTRU+AES-128.', '\\n'], ['Once encrypted, affected files receive the ', '\\n'], ['.crypted', ' extension.'], ['Ransom notes are typically customized to directly reference the victim and victim’s environment. Victims are instructed to visit a TOR-based payment and support portal. The following example has been sanitized:', '\\n'], ['It is also important to note that as of this writing, the onion address associated with HelloKitty ransom notes is not active.', '\\n'], ['6x7dp6h3w6q3ugjv4yv5gycj3femb24kysgry5b44hhgfwc5ml5qrdad.onion'], ['Conclusion', '\\n'], ['HelloKitty may be easier to spot than other modern ransomware families, but upon execution it is no less dangerous. There are currently no known ‘weaknesses’ in the encryption routines, and there are no thirdy-party decrypters available for the HelloKitty ransomware. Therefore, the only true defense is prevention. While this family does not appear to be actively leaking victim data at the moment, that could change at any point, in addition to them choosing to adopt some of the more recent extortion methods that go along with ransomware (DDoS).', '\\n'], ['Actors behind the more recent campaign(s) are reportedly attempting to auction the CD Projekt data off in various ‘underground’ forums. At present this sale of this data does appear to be legitimate. Time will tell if additional victim data is dealt with in the same way.', '\\n'], ['To protect yourself against HelloKitty, make sure you are armed with a modern Endpoint Security platform, which is configured correctly and up to date. The SentinelOne Singularity Platform is fully capable of preventing and detecting all malicious behaviors associated with the HelloKitty ransomware family.', '\\n'], ['IOCs', '\\n'], ['SHA1'], ['\\n', 'fadd8d7c13a18c251ded1f645ffea18a37f1c2de'], ['SHA256'], ['\\n', '501487b025f25ddf1ca32deb57a2b4db43ccf6635c1edc74b9cff54ce0e5bcfe'], ['MITRE ATT&CK'], ['\\nData from Local System – '], ['T1005'], ['\\nModify Registry – '], ['T1112'], ['\\nQuery Registry – '], ['T1012'], ['\\nSystem Information Discovery – '], ['T1082'], ['\\nData Encrypted for Impact – '], ['T1486'], ['\\nFile Deletion – '], ['T1070.004'], ['\\nCommand and Scripting Interpreter: Windows Command Shell – '], ['T1059.003'], ['\\nWindows Management Instrumentation – '], ['T1047'], ['Post Views: ', '\\n\\t\\t\\t\\t'], ['7,278', '\\n\\t\\t\\t'], ['Ransomware', '\\t\\t\\t\\t\\t'], ['Share'], ['Facebook'], ['Twitter'], ['Mail'], ['Linkedin'], ['Reddit'], ['Jim Walter'], ['Jim Walter is a Senior Threat Researcher at SentinelOne focusing on evolving trends, actors, and tactics within the thriving ecosystem of cybercrime and crimeware. He specializes in the discovery and analysis of emerging cybercrime \"services\" and evolving communication channels leveraged by mid-level criminal organizations. Jim joined SentinelOne following ~4 years at a security start-up, also focused on malware research and organized crime. Previously, he spent over 17 years at McAfee/Intel running their Threat Intelligence and Advanced Threat Research teams.', '\\n\\n\\t\\t\\t\\t\\n\\t\\t\\t'], ['Prev'], ['A Guide to Ghidra Scripting Development for Malware Researchers'], ['Next'], ['Top 15 Essential Malware Analysis Tools'], ['Related Posts', '\\n\\t\\t\\t'], ['Greyware’s Anatomy: The “Potentially Unwanted” are Upping Their Game'], ['January 7, 2021', '\\n\\n\\t\\t\\t\\t\\t'], ['Lazarus APT Targets Mac Users with Poisoned Word Document'], ['April 25, 2019', '\\n\\n\\t\\t\\t\\t\\t'], ['Enter the Maze: Demystifying an Affiliate Involved in Maze (SNOW)'], ['July 22, 2020', '\\n\\n\\t\\t\\t\\t\\t'], ['Sign Up'], ['Facebook', '\\n\\t'], ['Twitter', '\\n\\t'], ['Linkedin', '\\n\\t'], ['Get notified when we post new content.', '\\n\\t'], ['Thanks!  Keep an eye out for new content!', '\\n\\t'], ['Popular Posts', '\\n\\t\\t\\t'], ['Detecting ', 'macOS.GMERA', ' Malware Through Behavioral Inspection'], [' behavioral detection, GMERA malware, macOS, Yara\\t\\t\\t\\t\\t\\t\\t\\t'], ['RIG Exploit Kit Chain Internals'], [' reverse engineeering, RIG Exploit Kit, Vitali Kremez, Zero2Hero\\t\\t\\t\\t\\t\\t\\t\\t'], ['Trickbot Update: Brief Analysis of a Recent Trickbot Payload'], [' banking trojan, phishing, trickbot\\t\\t\\t\\t\\t\\t\\t\\t'], ['Gootkit Banking Trojan | Part 3: Retrieving the Final Payload'], [' banking trojan, Gootkit, reverse engineering, Zero2Hero\\t\\t\\t\\t\\t\\t\\t\\t'], ['Tweets', '\\n\\t\\t\\t\\t\\t\\t'], ['  Hiding a file, picture, message or even a video within another file can be an effective way for malware authors… '], ['https://t.co/tFqxVu6TV1'], ['7 hours ago'], ['#HelloKitty', ' lacks the stealth of '], ['#Ryuk', ', '], ['#REvil', ', and '], ...]"
      ]
     },
     "execution_count": 30,
     "metadata": {},
     "output_type": "execute_result"
    },
    {
     "data": {
      "application/javascript": "\n            setTimeout(function() {\n                var nbb_cell_id = 30;\n                var nbb_unformatted_code = \"ers.group_by(lambda er: er.element).starmap(\\n    lambda element, ers: seq(ers).map(lambda er: er.text)\\n)\";\n                var nbb_formatted_code = \"ers.group_by(lambda er: er.element).starmap(\\n    lambda element, ers: seq(ers).map(lambda er: er.text)\\n)\";\n                var nbb_cells = Jupyter.notebook.get_cells();\n                for (var i = 0; i < nbb_cells.length; ++i) {\n                    if (nbb_cells[i].input_prompt_number == nbb_cell_id) {\n                        if (nbb_cells[i].get_text() == nbb_unformatted_code) {\n                             nbb_cells[i].set_text(nbb_formatted_code);\n                        }\n                        break;\n                    }\n                }\n            }, 500);\n            ",
      "text/plain": [
       "<IPython.core.display.Javascript object>"
      ]
     },
     "metadata": {},
     "output_type": "display_data"
    }
   ],
   "source": [
    "ers.group_by(lambda er: er.element).starmap(\n",
    "    lambda element, ers: seq(ers).map(lambda er: er.text)\n",
    ")"
   ]
  },
  {
   "cell_type": "code",
   "execution_count": 31,
   "metadata": {
    "ExecuteTime": {
     "end_time": "2021-08-27T08:26:04.573378Z",
     "start_time": "2021-08-27T08:26:04.327238Z"
    }
   },
   "outputs": [
    {
     "data": {
      "application/javascript": "\n            setTimeout(function() {\n                var nbb_cell_id = 31;\n                var nbb_unformatted_code = \"content_texts = (\\n    seq(analyzer.primary_subtree_leafs)\\n    .map(lambda element: ContentExtractor.get_contents(element))\\n    .map(lambda contents: seq(contents).map(lambda content: content.text))\\n    .cache()\\n)\";\n                var nbb_formatted_code = \"content_texts = (\\n    seq(analyzer.primary_subtree_leafs)\\n    .map(lambda element: ContentExtractor.get_contents(element))\\n    .map(lambda contents: seq(contents).map(lambda content: content.text))\\n    .cache()\\n)\";\n                var nbb_cells = Jupyter.notebook.get_cells();\n                for (var i = 0; i < nbb_cells.length; ++i) {\n                    if (nbb_cells[i].input_prompt_number == nbb_cell_id) {\n                        if (nbb_cells[i].get_text() == nbb_unformatted_code) {\n                             nbb_cells[i].set_text(nbb_formatted_code);\n                        }\n                        break;\n                    }\n                }\n            }, 500);\n            ",
      "text/plain": [
       "<IPython.core.display.Javascript object>"
      ]
     },
     "metadata": {},
     "output_type": "display_data"
    }
   ],
   "source": [
    "content_texts = (\n",
    "    seq(analyzer.primary_subtree_leafs)\n",
    "    .map(lambda element: ContentExtractor.get_contents(element))\n",
    "    .map(lambda contents: seq(contents).map(lambda content: content.text))\n",
    "    .cache()\n",
    ")"
   ]
  },
  {
   "cell_type": "code",
   "execution_count": 32,
   "metadata": {
    "ExecuteTime": {
     "end_time": "2021-08-27T08:26:04.617362Z",
     "start_time": "2021-08-27T08:26:04.588047Z"
    }
   },
   "outputs": [
    {
     "data": {
      "text/html": [
       "<table>\n",
       "<tbody>\n",
       "<tr><td>Crimeware                                                                                                                                                                                                                                                                                                                                                                          </td><td>                                                                                                                                                                                                    </td></tr>\n",
       "<tr><td>HelloKitty Ransomware Lacks Stealth, But Still Strikes Home                                                                                                                                                                                                                                                                                                                        </td><td>                                                                                                                                                                                                    </td></tr>\n",
       "<tr><td>Jim Walter                                                                                                                                                                                                                                                                                                                                                                         </td><td>                                                                                                                                                                                                    </td></tr>\n",
       "<tr><td>March 8, 2021                                                                                                                                                                                                                                                                                                                                                                      </td><td>                                                                                                                                                                                                    </td></tr>\n",
       "<tr><td>March 11, 2021                                                                                                                                                                                                                                                                                                                                                                     </td><td>                                                                                                                                                                                                    </td></tr>\n",
       "<tr><td>Game studio CD Projekt Red recently                                                                                                                                                                                                                                                                                                                                                </td><td>                                                                                                                                                                                                    </td></tr>\n",
       "<tr><td>disclosed                                                                                                                                                                                                                                                                                                                                                                          </td><td>that it became a victim of a targeted, highly-impactful ransomware. In the days following the disclosure, it was revealed that the ransomware family most likely behind the attack was “HelloKitty”.</td></tr>\n",
       "<tr><td>HelloKitty is a ransomware family that emerged in late 2020. While it lacks the sophistication of some of the more well-known families such as Ryuk, REvil, and Conti, it has nevertheless struck some notable targets, including CEMIG0. In this post, we analyse a recent HelloKitty sample and outline the basic behaviors and traits associated with this family of ransomware.</td><td>                                                                                                                                                                                                    </td></tr>\n",
       "<tr><td>Execution and Behavior                                                                                                                                                                                                                                                                                                                                                             </td><td>                                                                                                                                                                                                    </td></tr>\n",
       "<tr><td>The “HelloKitty” name is based on internal mutex names, which are apparent upon execution.                                                                                                                                                                                                                                                                                         </td><td>                                                                                                                                                                                                    </td></tr>\n",
       "</tbody>\n",
       "</table><p>Showing 10 of 120 rows"
      ],
      "text/plain": [
       "[['Crimeware'], ['HelloKitty Ransomware Lacks Stealth, But Still Strikes Home', '\\n\\t\\t'], ['Jim Walter'], ['March 8, 2021'], ['March 11, 2021'], ['Game studio CD Projekt Red recently ', '\\n'], ['disclosed', ' that it became a victim of a targeted, highly-impactful ransomware. In the days following the disclosure, it was revealed that the ransomware family most likely behind the attack was “HelloKitty”.'], ['HelloKitty is a ransomware family that emerged in late 2020. While it lacks the sophistication of some of the more well-known families such as Ryuk, REvil, and Conti, it has nevertheless struck some notable targets, including CEMIG0. In this post, we analyse a recent HelloKitty sample and outline the basic behaviors and traits associated with this family of ransomware.', '\\n'], ['Execution and Behavior', '\\n'], ['The “HelloKitty” name is based on internal mutex names, which are apparent upon execution.', '\\n'], ['While still somewhat unclear, current intelligence indicates that the primary delivery method of HelloKitty binaries is via phish email or via secondary infection in conjunction with other malware.', '\\n'], ['Once launched, HelloKitty will attempt to disable and terminate a number of processes and services so as to reduce interference with the encryption process. This includes processes and services associated with IIS, MSSQL, Quickbooks, Sharepoint, and more. These actions are carried out via ', '\\n'], ['taskkill.exe', ' and '], ['net.exe', '.'], ['In the analyzed sample, this is all done in a very non-stealthy manner. All spawned CMD windows are in the foreground and fully visible. This ‘lack of discreteness’ is atypical for modern ransomware, or any successful malware, for that matter.', '\\n'], ['A full list of processes from the analyzed sample are listed below:', '\\n'], ['\\ndsa*\\nNtrtsca\\nds_moni\\nNotifie\\nTmListe\\niVPAgen\\nCNTAoSM\\nIBM*\\nbes10*\\nblack*\\nrobo*\\ncopy*\\nstore.e\\nsql*\\nvee*\\nwrsa*\\nwrsa.ex\\npostg*\\nsage*\\nMSSQLServerADHelper100\\nMSSQL$ISARS\\nMSSQL$MSFW\\nSQLAgent$ISARS\\nSQLAgent$MSFW\\nSQLBrowser\\nReportServer$ISARS\\nSQLWriter\\nWinDefend\\nmr2kserv\\nMSExchangeADTopology\\nMSExchangeFBA\\nMSExchangeIS\\nMSExchangeSA\\nShadowProtectSvc\\nSPAdminV4\\nSPTimerV4\\nSPTraceV4\\nSPUserCodeV4\\nSPWriterV4\\nSPSearch4\\nIISADMIN\\nfirebirdguardiandefaultinstance\\nibmiasrw\\nQBCFMonitorService\\nQBVSS\\nQBPOSDBServiceV12\\n\"IBM Domino Server(CProgramFilesIBMDominodata)\"\\n\"IBM Domino Diagnostics(CProgramFilesIBMDomino)\"\\n\"Simply Accounting Database Connection Manager\"\\nQuickBooksDB1\\nQuickBooksDB2\\nQuickBooksDB3\\nQuickBooksDB4\\nQuickBooksDB5\\nQuickBooksDB6\\nQuickBooksDB7\\nQuickBooksDB8\\nQuickBooksDB9\\nQuickBooksDB10\\nQuickBooksDB11\\nQuickBooksDB12\\nQuickBooksDB13\\nQuickBooksDB14\\nQuickBooksDB15\\nQuickBooksDB16\\nQuickBooksDB17\\nQuickBooksDB18\\nQuickBooksDB19\\nQuickBooksDB20\\nQuickBooksDB21\\nQuickBooksDB22\\nQuickBooksDB23\\nQuickBooksDB24\\nQuickBooksDB25\\n', '\\n'], ['Additional processes and services that are terminated are identified via PID. For example:', '\\n'], ['taskkill.exe /f /PID \"8512\"'], ['taskkill.exe /f /PID \"8656\"'], ['If HelloKitty is unable to stop any specific processes or services, it will leverage the Windows Restart Manager API to further assist in termination.', '\\n'], ['HelloKitty will also utilize WMI to gather system details and help identify running processes and any potentially problematic processes. This is done both by name and by PID. A number of examples are shown below:', '\\n'], ['\\nstart iwbemservices::execquery - root\\\\cimv2 : select __path, processid, csname, caption, sessionid, threadcount, workingsetsize, kernelmodetime, usermodetime, parentprocessid from win32_process\\n\\nstart iwbemservices::execquery - root\\\\cimv2 : select __path, processid, csname, caption, sessionid, threadcount, workingsetsize, kernelmodetime, usermodetime, parentprocessid from win32_process where (  caption = \"store.exe\")\\n\\nstart iwbemservices::execquery - root\\\\cimv2 : select __path, processid, csname, caption, sessionid, threadcount, workingsetsize, kernelmodetime, usermodetime, parentprocessid from win32_process where (  caption = \"wrsa.exe\")\\n\\nstart iwbemservices::execquery - root\\\\cimv2 : select __path, processid, csname, caption, sessionid, threadcount, workingsetsize, kernelmodetime, usermodetime, parentprocessid from win32_process where (  processid = 3036)\\n\\nstart iwbemservices::execquery - root\\\\cimv2 : select __path, processid, csname, caption, sessionid, threadcount, workingsetsize, kernelmodetime, usermodetime, parentprocessid from win32_process where (  processid = 4460)\\n\\nstart iwbemservices::execquery - root\\\\cimv2 : select __path, processid, csname, caption, sessionid, threadcount, workingsetsize, kernelmodetime, usermodetime, parentprocessid from win32_process where (  processid = 3052)\\n\\nstart iwbemservices::execquery - root\\\\cimv2 : select __path, processid, csname, caption, sessionid, threadcount, workingsetsize, kernelmodetime, usermodetime, parentprocessid from win32_process where (  processid = 4476)\\n\\nstart iwbemservices::execquery - root\\\\cimv2 : select __path, processid, csname, caption, sessionid, threadcount, workingsetsize, kernelmodetime, usermodetime, parentprocessid from win32_process where (  processid = 1560)\\n\\nstart iwbemservices::execquery - root\\\\cimv2 : select __path, processid, csname, caption, sessionid, threadcount, workingsetsize, kernelmodetime, usermodetime, parentprocessid from win32_process where (  processid = 8124)\\n\\nstart iwbemservices::exe\\n', '\\n'], ['Encryption and Ransom Note', '\\n'], ['Encryption is initiated and completed very quickly once applicable services and processes have been terminated. Specific encryption recipes and routines can vary across variants of HelloKitty. Generally speaking, they tend to use a combination of AES-256 & RSA-2048 or even NTRU+AES-128.', '\\n'], ['Once encrypted, affected files receive the ', '\\n'], ['.crypted', ' extension.'], ['Ransom notes are typically customized to directly reference the victim and victim’s environment. Victims are instructed to visit a TOR-based payment and support portal. The following example has been sanitized:', '\\n'], ['It is also important to note that as of this writing, the onion address associated with HelloKitty ransom notes is not active.', '\\n'], ['6x7dp6h3w6q3ugjv4yv5gycj3femb24kysgry5b44hhgfwc5ml5qrdad.onion'], ['Conclusion', '\\n'], ['HelloKitty may be easier to spot than other modern ransomware families, but upon execution it is no less dangerous. There are currently no known ‘weaknesses’ in the encryption routines, and there are no thirdy-party decrypters available for the HelloKitty ransomware. Therefore, the only true defense is prevention. While this family does not appear to be actively leaking victim data at the moment, that could change at any point, in addition to them choosing to adopt some of the more recent extortion methods that go along with ransomware (DDoS).', '\\n'], ['Actors behind the more recent campaign(s) are reportedly attempting to auction the CD Projekt data off in various ‘underground’ forums. At present this sale of this data does appear to be legitimate. Time will tell if additional victim data is dealt with in the same way.', '\\n'], ['To protect yourself against HelloKitty, make sure you are armed with a modern Endpoint Security platform, which is configured correctly and up to date. The SentinelOne Singularity Platform is fully capable of preventing and detecting all malicious behaviors associated with the HelloKitty ransomware family.', '\\n'], ['IOCs', '\\n'], ['SHA1'], ['\\nfadd8d7c13a18c251ded1f645ffea18a37f1c2de'], ['SHA256'], ['\\n501487b025f25ddf1ca32deb57a2b4db43ccf6635c1edc74b9cff54ce0e5bcfe'], ['MITRE ATT&CK'], ['\\nData from Local System – '], ['T1005'], ['\\nModify Registry – '], ['T1112'], ['\\nQuery Registry – '], ['T1012'], ['\\nSystem Information Discovery – '], ['T1082'], ['\\nData Encrypted for Impact – '], ['T1486'], ['\\nFile Deletion – '], ['T1070.004'], ['\\nCommand and Scripting Interpreter: Windows Command Shell – '], ['T1059.003'], ['\\nWindows Management Instrumentation – '], ['T1047'], ['Post Views: ', '\\n\\t\\t\\t\\t'], ['7,278', '\\n\\t\\t\\t'], ['Ransomware', '\\t\\t\\t\\t\\t'], ['Share'], ['Facebook'], ['Twitter'], ['Mail'], ['Linkedin'], ['Reddit'], ['Jim Walter'], ['Jim Walter is a Senior Threat Researcher at SentinelOne focusing on evolving trends, actors, and tactics within the thriving ecosystem of cybercrime and crimeware. He specializes in the discovery and analysis of emerging cybercrime \"services\" and evolving communication channels leveraged by mid-level criminal organizations. Jim joined SentinelOne following ~4 years at a security start-up, also focused on malware research and organized crime. Previously, he spent over 17 years at McAfee/Intel running their Threat Intelligence and Advanced Threat Research teams.', '\\n\\n\\t\\t\\t\\t\\n\\t\\t\\t'], ['Prev'], ['A Guide to Ghidra Scripting Development for Malware Researchers'], ['Next'], ['Top 15 Essential Malware Analysis Tools'], ['Related Posts', '\\n\\t\\t\\t'], ['Greyware’s Anatomy: The “Potentially Unwanted” are Upping Their Game'], ['January 7, 2021', '\\n\\n\\t\\t\\t\\t\\t'], ['Lazarus APT Targets Mac Users with Poisoned Word Document'], ['April 25, 2019', '\\n\\n\\t\\t\\t\\t\\t'], ['Enter the Maze: Demystifying an Affiliate Involved in Maze (SNOW)'], ['July 22, 2020', '\\n\\n\\t\\t\\t\\t\\t'], ['Sign Up'], ['Facebook', '\\n\\t'], ['Twitter', '\\n\\t'], ['Linkedin', '\\n\\t'], ['Get notified when we post new content.', '\\n\\t'], ['Thanks!  Keep an eye out for new content!', '\\n\\t'], ['Popular Posts', '\\n\\t\\t\\t'], ['Detecting macOS.GMERA Malware Through Behavioral Inspection'], [' behavioral detection, GMERA malware, macOS, Yara\\t\\t\\t\\t\\t\\t\\t\\t'], ['RIG Exploit Kit Chain Internals'], [' reverse engineeering, RIG Exploit Kit, Vitali Kremez, Zero2Hero\\t\\t\\t\\t\\t\\t\\t\\t'], ['Trickbot Update: Brief Analysis of a Recent Trickbot Payload'], [' banking trojan, phishing, trickbot\\t\\t\\t\\t\\t\\t\\t\\t'], ['Gootkit Banking Trojan | Part 3: Retrieving the Final Payload'], [' banking trojan, Gootkit, reverse engineering, Zero2Hero\\t\\t\\t\\t\\t\\t\\t\\t'], ['Tweets', '\\n\\t\\t\\t\\t\\t\\t'], ['  Hiding a file, picture, message or even a video within another file can be an effective way for malware authors… '], ['https://t.co/tFqxVu6TV1'], ['7 hours ago'], ['#HelloKitty', ' lacks the stealth of '], ['#Ryuk', ', '], ['#REvil', ', and '], ...]"
      ]
     },
     "execution_count": 32,
     "metadata": {},
     "output_type": "execute_result"
    },
    {
     "data": {
      "application/javascript": "\n            setTimeout(function() {\n                var nbb_cell_id = 32;\n                var nbb_unformatted_code = \"content_texts\";\n                var nbb_formatted_code = \"content_texts\";\n                var nbb_cells = Jupyter.notebook.get_cells();\n                for (var i = 0; i < nbb_cells.length; ++i) {\n                    if (nbb_cells[i].input_prompt_number == nbb_cell_id) {\n                        if (nbb_cells[i].get_text() == nbb_unformatted_code) {\n                             nbb_cells[i].set_text(nbb_formatted_code);\n                        }\n                        break;\n                    }\n                }\n            }, 500);\n            ",
      "text/plain": [
       "<IPython.core.display.Javascript object>"
      ]
     },
     "metadata": {},
     "output_type": "display_data"
    }
   ],
   "source": [
    "content_texts"
   ]
  },
  {
   "cell_type": "code",
   "execution_count": 33,
   "metadata": {
    "ExecuteTime": {
     "end_time": "2021-08-27T08:26:04.645241Z",
     "start_time": "2021-08-27T08:26:04.626306Z"
    }
   },
   "outputs": [
    {
     "data": {
      "application/javascript": "\n            setTimeout(function() {\n                var nbb_cell_id = 33;\n                var nbb_unformatted_code = \"description = \\\"HelloKitty is a ransomware family that emerged in late 2020. While it lacks the sophistication of some of the more well-known families such as Ryuk, REvil, and Conti, it has nevertheless struck some notable targets, including CEMIG0. In this post, Sentinel Labs analyzes a recent HelloKitty sample and outlines the basic behaviors and traits associated with this family of ransomware.\\\"\";\n                var nbb_formatted_code = \"description = \\\"HelloKitty is a ransomware family that emerged in late 2020. While it lacks the sophistication of some of the more well-known families such as Ryuk, REvil, and Conti, it has nevertheless struck some notable targets, including CEMIG0. In this post, Sentinel Labs analyzes a recent HelloKitty sample and outlines the basic behaviors and traits associated with this family of ransomware.\\\"\";\n                var nbb_cells = Jupyter.notebook.get_cells();\n                for (var i = 0; i < nbb_cells.length; ++i) {\n                    if (nbb_cells[i].input_prompt_number == nbb_cell_id) {\n                        if (nbb_cells[i].get_text() == nbb_unformatted_code) {\n                             nbb_cells[i].set_text(nbb_formatted_code);\n                        }\n                        break;\n                    }\n                }\n            }, 500);\n            ",
      "text/plain": [
       "<IPython.core.display.Javascript object>"
      ]
     },
     "metadata": {},
     "output_type": "display_data"
    }
   ],
   "source": [
    "description = \"HelloKitty is a ransomware family that emerged in late 2020. While it lacks the sophistication of some of the more well-known families such as Ryuk, REvil, and Conti, it has nevertheless struck some notable targets, including CEMIG0. In this post, Sentinel Labs analyzes a recent HelloKitty sample and outlines the basic behaviors and traits associated with this family of ransomware.\""
   ]
  },
  {
   "cell_type": "code",
   "execution_count": 45,
   "metadata": {
    "ExecuteTime": {
     "end_time": "2021-08-27T08:27:03.556659Z",
     "start_time": "2021-08-27T08:27:03.545573Z"
    }
   },
   "outputs": [
    {
     "data": {
      "application/javascript": "\n            setTimeout(function() {\n                var nbb_cell_id = 45;\n                var nbb_unformatted_code = \"import editdistance\\nfrom more_itertools import windowed\";\n                var nbb_formatted_code = \"import editdistance\\nfrom more_itertools import windowed\";\n                var nbb_cells = Jupyter.notebook.get_cells();\n                for (var i = 0; i < nbb_cells.length; ++i) {\n                    if (nbb_cells[i].input_prompt_number == nbb_cell_id) {\n                        if (nbb_cells[i].get_text() == nbb_unformatted_code) {\n                             nbb_cells[i].set_text(nbb_formatted_code);\n                        }\n                        break;\n                    }\n                }\n            }, 500);\n            ",
      "text/plain": [
       "<IPython.core.display.Javascript object>"
      ]
     },
     "metadata": {},
     "output_type": "display_data"
    }
   ],
   "source": [
    "import editdistance\n",
    "from more_itertools import windowed"
   ]
  },
  {
   "cell_type": "code",
   "execution_count": 46,
   "metadata": {
    "ExecuteTime": {
     "end_time": "2021-08-27T08:27:04.175329Z",
     "start_time": "2021-08-27T08:27:04.135699Z"
    }
   },
   "outputs": [
    {
     "data": {
      "text/html": [
       "<table>\n",
       "<tbody>\n",
       "<tr><td>HelloKitty is a ransomware family that emerged in late 2020. While it lacks the sophistication of some of the more well-known families such as Ryuk, REvil, and Conti, it has nevertheless struck some notable targets, including CEMIG0. In this post, we analyse a recent HelloKitty sample and outline the basic behaviors and traits associated with this family of ransomware.</td><td style=\"text-align: right;\"> 15</td></tr>\n",
       "<tr><td>To protect yourself against HelloKitty, make sure you are armed with a modern Endpoint Security platform, which is configured correctly and up to date. The SentinelOne Singularity Platform is fully capable of preventing and detecting all malicious behaviors associated with the HelloKitty ransomware family.                                                                </td><td style=\"text-align: right;\">274</td></tr>\n",
       "<tr><td>Actors behind the more recent campaign(s) are reportedly attempting to auction the CD Projekt data off in various ‘underground’ forums. At present this sale of this data does appear to be legitimate. Time will tell if additional victim data is dealt with in the same way.                                                                                                    </td><td style=\"text-align: right;\">279</td></tr>\n",
       "<tr><td>HelloKitty will also utilize WMI to gather system details and help identify running processes and any potentially problematic processes. This is done both by name and by PID. A number of examples are shown below:                                                                                                                                                               </td><td style=\"text-align: right;\">281</td></tr>\n",
       "<tr><td>Once launched, HelloKitty will attempt to disable and terminate a number of processes and services so as to reduce interference with the encryption process. This includes processes and services associated with IIS, MSSQL, Quickbooks, Sharepoint, and more. These actions are carried out via                                                                                  </td><td style=\"text-align: right;\">286</td></tr>\n",
       "<tr><td>While still somewhat unclear, current intelligence indicates that the primary delivery method of HelloKitty binaries is via phish email or via secondary infection in conjunction with other malware.                                                                                                                                                                              </td><td style=\"text-align: right;\">287</td></tr>\n",
       "<tr><td>that it became a victim of a targeted, highly-impactful ransomware. In the days following the disclosure, it was revealed that the ransomware family most likely behind the attack was “HelloKitty”.                                                                                                                                                                               </td><td style=\"text-align: right;\">288</td></tr>\n",
       "<tr><td>Ransom notes are typically customized to directly reference the victim and victim’s environment. Victims are instructed to visit a TOR-based payment and support portal. The following example has been sanitized:                                                                                                                                                                 </td><td style=\"text-align: right;\">288</td></tr>\n",
       "<tr><td>In the analyzed sample, this is all done in a very non-stealthy manner. All spawned CMD windows are in the foreground and fully visible. This ‘lack of discreteness’ is atypical for modern ransomware, or any successful malware, for that matter.                                                                                                                                </td><td style=\"text-align: right;\">289</td></tr>\n",
       "<tr><td>Encryption is initiated and completed very quickly once applicable services and processes have been terminated. Specific encryption recipes and routines can vary across variants of HelloKitty. Generally speaking, they tend to use a combination of AES-256 &amp; RSA-2048 or even NTRU+AES-128.                                                                                    </td><td style=\"text-align: right;\">294</td></tr>\n",
       "</tbody>\n",
       "</table><p>Showing 10 of 170 rows"
      ],
      "text/plain": [
       "[('HelloKitty is a ransomware family that emerged in late 2020. While it lacks the sophistication of some of the more well-known families such as Ryuk, REvil, and Conti, it has nevertheless struck some notable targets, including CEMIG0. In this post, we analyse a recent HelloKitty sample and outline the basic behaviors and traits associated with this family of ransomware.', 15), ('To protect yourself against HelloKitty, make sure you are armed with a modern Endpoint Security platform, which is configured correctly and up to date. The SentinelOne Singularity Platform is fully capable of preventing and detecting all malicious behaviors associated with the HelloKitty ransomware family.', 274), ('Actors behind the more recent campaign(s) are reportedly attempting to auction the CD Projekt data off in various ‘underground’ forums. At present this sale of this data does appear to be legitimate. Time will tell if additional victim data is dealt with in the same way.', 279), ('HelloKitty will also utilize WMI to gather system details and help identify running processes and any potentially problematic processes. This is done both by name and by PID. A number of examples are shown below:', 281), ('Once launched, HelloKitty will attempt to disable and terminate a number of processes and services so as to reduce interference with the encryption process. This includes processes and services associated with IIS, MSSQL, Quickbooks, Sharepoint, and more. These actions are carried out via ', 286), ('While still somewhat unclear, current intelligence indicates that the primary delivery method of HelloKitty binaries is via phish email or via secondary infection in conjunction with other malware.', 287), (' that it became a victim of a targeted, highly-impactful ransomware. In the days following the disclosure, it was revealed that the ransomware family most likely behind the attack was “HelloKitty”.', 288), ('Ransom notes are typically customized to directly reference the victim and victim’s environment. Victims are instructed to visit a TOR-based payment and support portal. The following example has been sanitized:', 288), ('In the analyzed sample, this is all done in a very non-stealthy manner. All spawned CMD windows are in the foreground and fully visible. This ‘lack of discreteness’ is atypical for modern ransomware, or any successful malware, for that matter.', 289), ('Encryption is initiated and completed very quickly once applicable services and processes have been terminated. Specific encryption recipes and routines can vary across variants of HelloKitty. Generally speaking, they tend to use a combination of AES-256 & RSA-2048 or even NTRU+AES-128.', 294), ('If HelloKitty is unable to stop any specific processes or services, it will leverage the Windows Restart Manager API to further assist in termination.', 295), ('It is also important to note that as of this writing, the onion address associated with HelloKitty ransom notes is not active.', 295), ('  Hiding a file, picture, message or even a video within another file can be an effective way for malware authors… ', 309), (\"️ Every day until March 28th, compete in SentinelOne's Apex Overdrive. Make it to the top of the leaderboard to wi… \", 315), ('The “HelloKitty” name is based on internal mutex names, which are apparent upon execution.', 322), ('Additional processes and services that are terminated are identified via PID. For example:', 322), ('A full list of processes from the analyzed sample are listed below:', 327), ('HelloKitty Ransomware Lacks Stealth, But Still Strikes Home', 332), (', but has still struck some notable targets, including… ', 332), ('HelloKitty Ransomware Lacks Stealth, But Still Strikes Home', 332), ('New macOS malware XcodeSpy Targets Xcode Developers with EggShell Backdoor', 336), ('Greyware’s Anatomy: The “Potentially Unwanted” are Upping Their Game', 338), ('A Guide to Ghidra Scripting Development for Malware Researchers', 340), ('A Guide to Ghidra Scripting Development for Malware Researchers', 340), ('Gootkit Banking Trojan | Part 3: Retrieving the Final Payload', 341), (' reverse engineeering, RIG Exploit Kit, Vitali Kremez, Zero2Hero\\t\\t\\t\\t\\t\\t\\t\\t', 342), ('Trickbot Update: Brief Analysis of a Recent Trickbot Payload', 342), (' banking trojan, Gootkit, reverse engineering, Zero2Hero\\t\\t\\t\\t\\t\\t\\t\\t', 342), ('\\nCommand and Scripting Interpreter: Windows Command Shell – ', 343), ('Enter the Maze: Demystifying an Affiliate Involved in Maze (SNOW)', 343), (', winner of our Silver Slugger Award for partner excellence!\\n\\n', 343), ('Detecting macOS.GMERA Malware Through Behavioral Inspection', 344), ('Lazarus APT Targets Mac Users with Poisoned Word Document', 345), ('Once encrypted, affected files receive the ', 349), ('Get notified when we post new content.', 350), (' behavioral detection, GMERA malware, macOS, Yara\\t\\t\\t\\t\\t\\t\\t\\t', 350), ('Thanks!  Keep an eye out for new content!', 352), ('\\nWindows Management Instrumentation – ', 353), ('Top 15 Essential Malware Analysis Tools', 354), (' Congratulations to Brian Jones of ', 354), ('Top 15 Essential Malware Analysis Tools', 354), (' banking trojan, phishing, trickbot\\t\\t\\t\\t\\t\\t\\t\\t', 355), ('Game studio CD Projekt Red recently ', 356), ('\\nSystem Information Discovery – ', 358), ('6x7dp6h3w6q3ugjv4yv5gycj3femb24kysgry5b44hhgfwc5ml5qrdad.onion', 360), ('RIG Exploit Kit Chain Internals', 360), ('Encryption and Ransom Note', 362), ('\\nData from Local System – ', 362), ('\\nData Encrypted for Impact – ', 362), (' lacks the stealth of ', 362), ('\\n501487b025f25ddf1ca32deb57a2b4db43ccf6635c1edc74b9cff54ce0e5bcfe', 363), ('Execution and Behavior', 364), ('\\nModify Registry – ', 368), ('\\nfadd8d7c13a18c251ded1f645ffea18a37f1c2de', 369), ('taskkill.exe /f /PID \"8512\"', 370), ('taskkill.exe /f /PID \"8656\"', 370), ('\\nQuery Registry – ', 370), ('https://t.co/plIa4AtRlY', 370), ('\\nFile Deletion – ', 371), ('https://t.co/kBIKxrusD1', 371), ('Related Posts', 372), ('https://t.co/4MmUrFnj9W', 372), ('taskkill.exe', 373), ('Popular Posts', 373), ('https://t.co/tFqxVu6TV1', 373), ('Latest Posts', 373), (' extension.', 374), ('Conclusion', 374), ('Ransomware', 374), ('January 7, 2021', 374), ('7 hours ago', 374), ('#HelloKitty', 374), ('8 hours ago', 374), ('8 hours ago', 374), ('8 hours ago', 374), ('Crimeware', 375), ('Jim Walter', 375), ('disclosed', 375), ('Post Views: ', 375), ('Jim Walter', 375), (' March 18, 2021\\t\\t\\t\\t\\t\\t\\t\\t\\t\\t', 375), (' March 11, 2021\\t\\t\\t\\t\\t\\t\\t\\t\\t\\t', 375), (' March 08, 2021\\t\\t\\t\\t\\t\\t\\t\\t\\t\\t', 375), (' March 03, 2021\\t\\t\\t\\t\\t\\t\\t\\t\\t\\t', 375), ('March 8, 2021', 376), ('March 11, 2021', 376), ('.crypted', 376), ('April 25, 2019', 376), ('July 22, 2020', 376), ('Linkedin', 377), ('Linkedin', 377), ('#infosec', 377), ('net.exe', 378), ('Facebook', 378), ('Twitter', 378), ('Reddit', 378), ('Facebook', 378), ('Twitter', 378), (', and ', 378), (' and ', 379), ...]"
      ]
     },
     "execution_count": 46,
     "metadata": {},
     "output_type": "execute_result"
    },
    {
     "data": {
      "application/javascript": "\n            setTimeout(function() {\n                var nbb_cell_id = 46;\n                var nbb_unformatted_code = \"content_texts.flatten().map(\\n    lambda text: (text, editdistance.eval(text, description))\\n).sorted(lambda x: x[1])\";\n                var nbb_formatted_code = \"content_texts.flatten().map(\\n    lambda text: (text, editdistance.eval(text, description))\\n).sorted(lambda x: x[1])\";\n                var nbb_cells = Jupyter.notebook.get_cells();\n                for (var i = 0; i < nbb_cells.length; ++i) {\n                    if (nbb_cells[i].input_prompt_number == nbb_cell_id) {\n                        if (nbb_cells[i].get_text() == nbb_unformatted_code) {\n                             nbb_cells[i].set_text(nbb_formatted_code);\n                        }\n                        break;\n                    }\n                }\n            }, 500);\n            ",
      "text/plain": [
       "<IPython.core.display.Javascript object>"
      ]
     },
     "metadata": {},
     "output_type": "display_data"
    }
   ],
   "source": [
    "content_texts.flatten().map(\n",
    "    lambda text: (text, editdistance.eval(text, description))\n",
    ").sorted(lambda x: x[1])"
   ]
  },
  {
   "cell_type": "code",
   "execution_count": 47,
   "metadata": {
    "ExecuteTime": {
     "end_time": "2021-08-27T08:27:04.714454Z",
     "start_time": "2021-08-27T08:27:04.693148Z"
    }
   },
   "outputs": [
    {
     "data": {
      "application/javascript": "\n            setTimeout(function() {\n                var nbb_cell_id = 47;\n                var nbb_unformatted_code = \"fake_description = \\\"Game studio CD Projekt Red recently disclosed that it became a victim of a targeted, highly-impactful ransomware. In the days following the disclosure, it was revealed that the ransomware family most likely behind the attack was \\u201cHelloKitty\\u201d.\\\"\";\n                var nbb_formatted_code = \"fake_description = \\\"Game studio CD Projekt Red recently disclosed that it became a victim of a targeted, highly-impactful ransomware. In the days following the disclosure, it was revealed that the ransomware family most likely behind the attack was \\u201cHelloKitty\\u201d.\\\"\";\n                var nbb_cells = Jupyter.notebook.get_cells();\n                for (var i = 0; i < nbb_cells.length; ++i) {\n                    if (nbb_cells[i].input_prompt_number == nbb_cell_id) {\n                        if (nbb_cells[i].get_text() == nbb_unformatted_code) {\n                             nbb_cells[i].set_text(nbb_formatted_code);\n                        }\n                        break;\n                    }\n                }\n            }, 500);\n            ",
      "text/plain": [
       "<IPython.core.display.Javascript object>"
      ]
     },
     "metadata": {},
     "output_type": "display_data"
    }
   ],
   "source": [
    "fake_description = \"Game studio CD Projekt Red recently disclosed that it became a victim of a targeted, highly-impactful ransomware. In the days following the disclosure, it was revealed that the ransomware family most likely behind the attack was “HelloKitty”.\""
   ]
  },
  {
   "cell_type": "code",
   "execution_count": 48,
   "metadata": {
    "ExecuteTime": {
     "end_time": "2021-08-27T08:27:05.261025Z",
     "start_time": "2021-08-27T08:27:05.228632Z"
    }
   },
   "outputs": [
    {
     "data": {
      "text/html": [
       "<table>\n",
       "<tbody>\n",
       "<tr><td>that it became a victim of a targeted, highly-impactful ransomware. In the days following the disclosure, it was revealed that the ransomware family most likely behind the attack was “HelloKitty”.                </td><td style=\"text-align: right;\"> 45</td></tr>\n",
       "<tr><td>It is also important to note that as of this writing, the onion address associated with HelloKitty ransom notes is not active.                                                                                      </td><td style=\"text-align: right;\">177</td></tr>\n",
       "<tr><td>If HelloKitty is unable to stop any specific processes or services, it will leverage the Windows Restart Manager API to further assist in termination.                                                              </td><td style=\"text-align: right;\">178</td></tr>\n",
       "<tr><td>Ransom notes are typically customized to directly reference the victim and victim’s environment. Victims are instructed to visit a TOR-based payment and support portal. The following example has been sanitized:  </td><td style=\"text-align: right;\">179</td></tr>\n",
       "<tr><td>While still somewhat unclear, current intelligence indicates that the primary delivery method of HelloKitty binaries is via phish email or via secondary infection in conjunction with other malware.               </td><td style=\"text-align: right;\">181</td></tr>\n",
       "<tr><td>Hiding a file, picture, message or even a video within another file can be an effective way for malware authors…                                                                                                    </td><td style=\"text-align: right;\">185</td></tr>\n",
       "<tr><td>️ Every day until March 28th, compete in SentinelOne&#x27;s Apex Overdrive. Make it to the top of the leaderboard to wi…                                                                                                  </td><td style=\"text-align: right;\">189</td></tr>\n",
       "<tr><td>Additional processes and services that are terminated are identified via PID. For example:                                                                                                                          </td><td style=\"text-align: right;\">191</td></tr>\n",
       "<tr><td>The “HelloKitty” name is based on internal mutex names, which are apparent upon execution.                                                                                                                          </td><td style=\"text-align: right;\">192</td></tr>\n",
       "<tr><td>HelloKitty will also utilize WMI to gather system details and help identify running processes and any potentially problematic processes. This is done both by name and by PID. A number of examples are shown below:</td><td style=\"text-align: right;\">192</td></tr>\n",
       "</tbody>\n",
       "</table><p>Showing 10 of 170 rows"
      ],
      "text/plain": [
       "[(' that it became a victim of a targeted, highly-impactful ransomware. In the days following the disclosure, it was revealed that the ransomware family most likely behind the attack was “HelloKitty”.', 45), ('It is also important to note that as of this writing, the onion address associated with HelloKitty ransom notes is not active.', 177), ('If HelloKitty is unable to stop any specific processes or services, it will leverage the Windows Restart Manager API to further assist in termination.', 178), ('Ransom notes are typically customized to directly reference the victim and victim’s environment. Victims are instructed to visit a TOR-based payment and support portal. The following example has been sanitized:', 179), ('While still somewhat unclear, current intelligence indicates that the primary delivery method of HelloKitty binaries is via phish email or via secondary infection in conjunction with other malware.', 181), ('  Hiding a file, picture, message or even a video within another file can be an effective way for malware authors… ', 185), (\"️ Every day until March 28th, compete in SentinelOne's Apex Overdrive. Make it to the top of the leaderboard to wi… \", 189), ('Additional processes and services that are terminated are identified via PID. For example:', 191), ('The “HelloKitty” name is based on internal mutex names, which are apparent upon execution.', 192), ('HelloKitty will also utilize WMI to gather system details and help identify running processes and any potentially problematic processes. This is done both by name and by PID. A number of examples are shown below:', 192), ('In the analyzed sample, this is all done in a very non-stealthy manner. All spawned CMD windows are in the foreground and fully visible. This ‘lack of discreteness’ is atypical for modern ransomware, or any successful malware, for that matter.', 194), ('A full list of processes from the analyzed sample are listed below:', 197), ('HelloKitty Ransomware Lacks Stealth, But Still Strikes Home', 200), ('HelloKitty Ransomware Lacks Stealth, But Still Strikes Home', 200), ('A Guide to Ghidra Scripting Development for Malware Researchers', 201), ('New macOS malware XcodeSpy Targets Xcode Developers with EggShell Backdoor', 201), ('A Guide to Ghidra Scripting Development for Malware Researchers', 201), ('Greyware’s Anatomy: The “Potentially Unwanted” are Upping Their Game', 203), ('Gootkit Banking Trojan | Part 3: Retrieving the Final Payload', 203), ('\\nCommand and Scripting Interpreter: Windows Command Shell – ', 205), ('Enter the Maze: Demystifying an Affiliate Involved in Maze (SNOW)', 205), (' reverse engineeering, RIG Exploit Kit, Vitali Kremez, Zero2Hero\\t\\t\\t\\t\\t\\t\\t\\t', 205), (', but has still struck some notable targets, including… ', 205), ('Game studio CD Projekt Red recently ', 206), ('Lazarus APT Targets Mac Users with Poisoned Word Document', 206), ('Detecting macOS.GMERA Malware Through Behavioral Inspection', 206), ('Trickbot Update: Brief Analysis of a Recent Trickbot Payload', 206), (', winner of our Silver Slugger Award for partner excellence!\\n\\n', 206), ('Once encrypted, affected files receive the ', 207), ('Actors behind the more recent campaign(s) are reportedly attempting to auction the CD Projekt data off in various ‘underground’ forums. At present this sale of this data does appear to be legitimate. Time will tell if additional victim data is dealt with in the same way.', 208), (' banking trojan, Gootkit, reverse engineering, Zero2Hero\\t\\t\\t\\t\\t\\t\\t\\t', 208), ('Get notified when we post new content.', 210), (' behavioral detection, GMERA malware, macOS, Yara\\t\\t\\t\\t\\t\\t\\t\\t', 211), ('Thanks!  Keep an eye out for new content!', 213), ('Top 15 Essential Malware Analysis Tools', 214), ('Top 15 Essential Malware Analysis Tools', 214), ('Once launched, HelloKitty will attempt to disable and terminate a number of processes and services so as to reduce interference with the encryption process. This includes processes and services associated with IIS, MSSQL, Quickbooks, Sharepoint, and more. These actions are carried out via ', 215), ('\\nWindows Management Instrumentation – ', 215), (' Congratulations to Brian Jones of ', 215), ('\\nSystem Information Discovery – ', 218), (' banking trojan, phishing, trickbot\\t\\t\\t\\t\\t\\t\\t\\t', 218), ('RIG Exploit Kit Chain Internals', 219), ('Encryption and Ransom Note', 220), ('\\nData Encrypted for Impact – ', 220), ('\\nData from Local System – ', 221), (' lacks the stealth of ', 221), ('Encryption is initiated and completed very quickly once applicable services and processes have been terminated. Specific encryption recipes and routines can vary across variants of HelloKitty. Generally speaking, they tend to use a combination of AES-256 & RSA-2048 or even NTRU+AES-128.', 222), ('6x7dp6h3w6q3ugjv4yv5gycj3femb24kysgry5b44hhgfwc5ml5qrdad.onion', 222), ('\\n501487b025f25ddf1ca32deb57a2b4db43ccf6635c1edc74b9cff54ce0e5bcfe', 223), ('Execution and Behavior', 226), ('\\nfadd8d7c13a18c251ded1f645ffea18a37f1c2de', 226), ('\\nModify Registry – ', 227), ('\\nQuery Registry – ', 228), ('taskkill.exe /f /PID \"8512\"', 229), ('taskkill.exe /f /PID \"8656\"', 229), ('\\nFile Deletion – ', 229), ('Related Posts', 230), ('Popular Posts', 230), ('https://t.co/plIa4AtRlY', 230), ('https://t.co/4MmUrFnj9W', 231), (' extension.', 232), ('Conclusion', 232), ('To protect yourself against HelloKitty, make sure you are armed with a modern Endpoint Security platform, which is configured correctly and up to date. The SentinelOne Singularity Platform is fully capable of preventing and detecting all malicious behaviors associated with the HelloKitty ransomware family.', 232), ('Post Views: ', 232), ('Ransomware', 232), ('7 hours ago', 232), ('#HelloKitty', 232), ('8 hours ago', 232), ('8 hours ago', 232), ('https://t.co/kBIKxrusD1', 232), ('8 hours ago', 232), ('Latest Posts', 232), ('Crimeware', 233), ('disclosed', 233), ('taskkill.exe', 233), ('January 7, 2021', 233), ('https://t.co/tFqxVu6TV1', 233), ('Jim Walter', 234), ('Jim Walter', 234), (' March 18, 2021\\t\\t\\t\\t\\t\\t\\t\\t\\t\\t', 234), (' March 11, 2021\\t\\t\\t\\t\\t\\t\\t\\t\\t\\t', 234), (' March 08, 2021\\t\\t\\t\\t\\t\\t\\t\\t\\t\\t', 234), (' March 03, 2021\\t\\t\\t\\t\\t\\t\\t\\t\\t\\t', 234), ('March 8, 2021', 235), ('March 11, 2021', 235), ('.crypted', 235), ('Facebook', 235), ('Facebook', 235), ('#infosec', 235), ('net.exe', 236), ('Twitter', 236), ('Linkedin', 236), ('Reddit', 236), ('April 25, 2019', 236), ('July 22, 2020', 236), ('Twitter', 236), ('Linkedin', 236), (', and ', 236), (' and ', 237), ('Tweets', 237), ...]"
      ]
     },
     "execution_count": 48,
     "metadata": {},
     "output_type": "execute_result"
    },
    {
     "data": {
      "application/javascript": "\n            setTimeout(function() {\n                var nbb_cell_id = 48;\n                var nbb_unformatted_code = \"content_texts.flatten().map(\\n    lambda text: (text, editdistance.eval(fake_description, text))\\n).sorted(lambda x: x[1], reverse=False)\";\n                var nbb_formatted_code = \"content_texts.flatten().map(\\n    lambda text: (text, editdistance.eval(fake_description, text))\\n).sorted(lambda x: x[1], reverse=False)\";\n                var nbb_cells = Jupyter.notebook.get_cells();\n                for (var i = 0; i < nbb_cells.length; ++i) {\n                    if (nbb_cells[i].input_prompt_number == nbb_cell_id) {\n                        if (nbb_cells[i].get_text() == nbb_unformatted_code) {\n                             nbb_cells[i].set_text(nbb_formatted_code);\n                        }\n                        break;\n                    }\n                }\n            }, 500);\n            ",
      "text/plain": [
       "<IPython.core.display.Javascript object>"
      ]
     },
     "metadata": {},
     "output_type": "display_data"
    }
   ],
   "source": [
    "content_texts.flatten().map(\n",
    "    lambda text: (text, editdistance.eval(fake_description, text))\n",
    ").sorted(lambda x: x[1], reverse=False)"
   ]
  },
  {
   "cell_type": "code",
   "execution_count": 49,
   "metadata": {
    "ExecuteTime": {
     "end_time": "2021-08-27T08:27:05.793410Z",
     "start_time": "2021-08-27T08:27:05.758496Z"
    }
   },
   "outputs": [
    {
     "data": {
      "text/html": [
       "<table>\n",
       "<tbody>\n",
       "<tr><td>that it became a victim of a targeted, highly-impactful ransomware. In the days following the disclosure, it was revealed that the ransomware family most likely behind the attack was “HelloKitty”.                </td><td style=\"text-align: right;\"> 45</td></tr>\n",
       "<tr><td>It is also important to note that as of this writing, the onion address associated with HelloKitty ransom notes is not active.                                                                                      </td><td style=\"text-align: right;\">177</td></tr>\n",
       "<tr><td>If HelloKitty is unable to stop any specific processes or services, it will leverage the Windows Restart Manager API to further assist in termination.                                                              </td><td style=\"text-align: right;\">178</td></tr>\n",
       "<tr><td>Ransom notes are typically customized to directly reference the victim and victim’s environment. Victims are instructed to visit a TOR-based payment and support portal. The following example has been sanitized:  </td><td style=\"text-align: right;\">179</td></tr>\n",
       "<tr><td>While still somewhat unclear, current intelligence indicates that the primary delivery method of HelloKitty binaries is via phish email or via secondary infection in conjunction with other malware.               </td><td style=\"text-align: right;\">181</td></tr>\n",
       "<tr><td>Hiding a file, picture, message or even a video within another file can be an effective way for malware authors…                                                                                                    </td><td style=\"text-align: right;\">185</td></tr>\n",
       "<tr><td>️ Every day until March 28th, compete in SentinelOne&#x27;s Apex Overdrive. Make it to the top of the leaderboard to wi…                                                                                                  </td><td style=\"text-align: right;\">189</td></tr>\n",
       "<tr><td>Additional processes and services that are terminated are identified via PID. For example:                                                                                                                          </td><td style=\"text-align: right;\">191</td></tr>\n",
       "<tr><td>The “HelloKitty” name is based on internal mutex names, which are apparent upon execution.                                                                                                                          </td><td style=\"text-align: right;\">192</td></tr>\n",
       "<tr><td>HelloKitty will also utilize WMI to gather system details and help identify running processes and any potentially problematic processes. This is done both by name and by PID. A number of examples are shown below:</td><td style=\"text-align: right;\">192</td></tr>\n",
       "</tbody>\n",
       "</table><p>Showing 10 of 170 rows"
      ],
      "text/plain": [
       "[(' that it became a victim of a targeted, highly-impactful ransomware. In the days following the disclosure, it was revealed that the ransomware family most likely behind the attack was “HelloKitty”.', 45), ('It is also important to note that as of this writing, the onion address associated with HelloKitty ransom notes is not active.', 177), ('If HelloKitty is unable to stop any specific processes or services, it will leverage the Windows Restart Manager API to further assist in termination.', 178), ('Ransom notes are typically customized to directly reference the victim and victim’s environment. Victims are instructed to visit a TOR-based payment and support portal. The following example has been sanitized:', 179), ('While still somewhat unclear, current intelligence indicates that the primary delivery method of HelloKitty binaries is via phish email or via secondary infection in conjunction with other malware.', 181), ('  Hiding a file, picture, message or even a video within another file can be an effective way for malware authors… ', 185), (\"️ Every day until March 28th, compete in SentinelOne's Apex Overdrive. Make it to the top of the leaderboard to wi… \", 189), ('Additional processes and services that are terminated are identified via PID. For example:', 191), ('The “HelloKitty” name is based on internal mutex names, which are apparent upon execution.', 192), ('HelloKitty will also utilize WMI to gather system details and help identify running processes and any potentially problematic processes. This is done both by name and by PID. A number of examples are shown below:', 192), ('In the analyzed sample, this is all done in a very non-stealthy manner. All spawned CMD windows are in the foreground and fully visible. This ‘lack of discreteness’ is atypical for modern ransomware, or any successful malware, for that matter.', 194), ('A full list of processes from the analyzed sample are listed below:', 197), ('HelloKitty Ransomware Lacks Stealth, But Still Strikes Home', 200), ('HelloKitty Ransomware Lacks Stealth, But Still Strikes Home', 200), ('A Guide to Ghidra Scripting Development for Malware Researchers', 201), ('New macOS malware XcodeSpy Targets Xcode Developers with EggShell Backdoor', 201), ('A Guide to Ghidra Scripting Development for Malware Researchers', 201), ('Greyware’s Anatomy: The “Potentially Unwanted” are Upping Their Game', 203), ('Gootkit Banking Trojan | Part 3: Retrieving the Final Payload', 203), ('\\nCommand and Scripting Interpreter: Windows Command Shell – ', 205), ('Enter the Maze: Demystifying an Affiliate Involved in Maze (SNOW)', 205), (' reverse engineeering, RIG Exploit Kit, Vitali Kremez, Zero2Hero\\t\\t\\t\\t\\t\\t\\t\\t', 205), (', but has still struck some notable targets, including… ', 205), ('Game studio CD Projekt Red recently ', 206), ('Lazarus APT Targets Mac Users with Poisoned Word Document', 206), ('Detecting macOS.GMERA Malware Through Behavioral Inspection', 206), ('Trickbot Update: Brief Analysis of a Recent Trickbot Payload', 206), (', winner of our Silver Slugger Award for partner excellence!\\n\\n', 206), ('Once encrypted, affected files receive the ', 207), ('Actors behind the more recent campaign(s) are reportedly attempting to auction the CD Projekt data off in various ‘underground’ forums. At present this sale of this data does appear to be legitimate. Time will tell if additional victim data is dealt with in the same way.', 208), (' banking trojan, Gootkit, reverse engineering, Zero2Hero\\t\\t\\t\\t\\t\\t\\t\\t', 208), ('Get notified when we post new content.', 210), (' behavioral detection, GMERA malware, macOS, Yara\\t\\t\\t\\t\\t\\t\\t\\t', 211), ('Thanks!  Keep an eye out for new content!', 213), ('Top 15 Essential Malware Analysis Tools', 214), ('Top 15 Essential Malware Analysis Tools', 214), ('Once launched, HelloKitty will attempt to disable and terminate a number of processes and services so as to reduce interference with the encryption process. This includes processes and services associated with IIS, MSSQL, Quickbooks, Sharepoint, and more. These actions are carried out via ', 215), ('\\nWindows Management Instrumentation – ', 215), (' Congratulations to Brian Jones of ', 215), ('\\nSystem Information Discovery – ', 218), (' banking trojan, phishing, trickbot\\t\\t\\t\\t\\t\\t\\t\\t', 218), ('RIG Exploit Kit Chain Internals', 219), ('Encryption and Ransom Note', 220), ('\\nData Encrypted for Impact – ', 220), ('\\nData from Local System – ', 221), (' lacks the stealth of ', 221), ('Encryption is initiated and completed very quickly once applicable services and processes have been terminated. Specific encryption recipes and routines can vary across variants of HelloKitty. Generally speaking, they tend to use a combination of AES-256 & RSA-2048 or even NTRU+AES-128.', 222), ('6x7dp6h3w6q3ugjv4yv5gycj3femb24kysgry5b44hhgfwc5ml5qrdad.onion', 222), ('\\n501487b025f25ddf1ca32deb57a2b4db43ccf6635c1edc74b9cff54ce0e5bcfe', 223), ('Execution and Behavior', 226), ('\\nfadd8d7c13a18c251ded1f645ffea18a37f1c2de', 226), ('\\nModify Registry – ', 227), ('\\nQuery Registry – ', 228), ('taskkill.exe /f /PID \"8512\"', 229), ('taskkill.exe /f /PID \"8656\"', 229), ('\\nFile Deletion – ', 229), ('Related Posts', 230), ('Popular Posts', 230), ('https://t.co/plIa4AtRlY', 230), ('https://t.co/4MmUrFnj9W', 231), (' extension.', 232), ('Conclusion', 232), ('To protect yourself against HelloKitty, make sure you are armed with a modern Endpoint Security platform, which is configured correctly and up to date. The SentinelOne Singularity Platform is fully capable of preventing and detecting all malicious behaviors associated with the HelloKitty ransomware family.', 232), ('Post Views: ', 232), ('Ransomware', 232), ('7 hours ago', 232), ('#HelloKitty', 232), ('8 hours ago', 232), ('8 hours ago', 232), ('https://t.co/kBIKxrusD1', 232), ('8 hours ago', 232), ('Latest Posts', 232), ('Crimeware', 233), ('disclosed', 233), ('taskkill.exe', 233), ('January 7, 2021', 233), ('https://t.co/tFqxVu6TV1', 233), ('Jim Walter', 234), ('Jim Walter', 234), (' March 18, 2021\\t\\t\\t\\t\\t\\t\\t\\t\\t\\t', 234), (' March 11, 2021\\t\\t\\t\\t\\t\\t\\t\\t\\t\\t', 234), (' March 08, 2021\\t\\t\\t\\t\\t\\t\\t\\t\\t\\t', 234), (' March 03, 2021\\t\\t\\t\\t\\t\\t\\t\\t\\t\\t', 234), ('March 8, 2021', 235), ('March 11, 2021', 235), ('.crypted', 235), ('Facebook', 235), ('Facebook', 235), ('#infosec', 235), ('net.exe', 236), ('Twitter', 236), ('Linkedin', 236), ('Reddit', 236), ('April 25, 2019', 236), ('July 22, 2020', 236), ('Twitter', 236), ('Linkedin', 236), (', and ', 236), (' and ', 237), ('Tweets', 237), ...]"
      ]
     },
     "execution_count": 49,
     "metadata": {},
     "output_type": "execute_result"
    },
    {
     "data": {
      "application/javascript": "\n            setTimeout(function() {\n                var nbb_cell_id = 49;\n                var nbb_unformatted_code = \"content_texts.flatten().map(\\n    lambda text: (text, editdistance.eval(fake_description, text))\\n).sorted(lambda x: x[1], reverse=False)\";\n                var nbb_formatted_code = \"content_texts.flatten().map(\\n    lambda text: (text, editdistance.eval(fake_description, text))\\n).sorted(lambda x: x[1], reverse=False)\";\n                var nbb_cells = Jupyter.notebook.get_cells();\n                for (var i = 0; i < nbb_cells.length; ++i) {\n                    if (nbb_cells[i].input_prompt_number == nbb_cell_id) {\n                        if (nbb_cells[i].get_text() == nbb_unformatted_code) {\n                             nbb_cells[i].set_text(nbb_formatted_code);\n                        }\n                        break;\n                    }\n                }\n            }, 500);\n            ",
      "text/plain": [
       "<IPython.core.display.Javascript object>"
      ]
     },
     "metadata": {},
     "output_type": "display_data"
    }
   ],
   "source": [
    "content_texts.flatten().map(\n",
    "    lambda text: (text, editdistance.eval(fake_description, text))\n",
    ").sorted(lambda x: x[1], reverse=False)"
   ]
  },
  {
   "cell_type": "code",
   "execution_count": 50,
   "metadata": {
    "ExecuteTime": {
     "end_time": "2021-08-27T08:27:06.479833Z",
     "start_time": "2021-08-27T08:27:06.431994Z"
    }
   },
   "outputs": [
    {
     "data": {
      "text/html": [
       "<table>\n",
       "<tbody>\n",
       "<tr><td>disclosed  that it became a victim of a targeted, highly-impactful ransomware. In the days following the disclosure, it was revealed that the ransomware family most likely behind the attack was “HelloKitty”.</td><td style=\"text-align: right;\"> 36</td></tr>\n",
       "<tr><td>It is also important to note that as of this writing, the onion address associated with HelloKitty ransom notes is not active.                                                                                 </td><td style=\"text-align: right;\">177</td></tr>\n",
       "<tr><td>taskkill.exe /f /PID &quot;8656&quot; If HelloKitty is unable to stop any specific processes or services, it will leverage the Windows Restart Manager API to further assist in termination.                             </td><td style=\"text-align: right;\">181</td></tr>\n",
       "<tr><td>Trickbot Update: Brief Analysis of a Recent Trickbot Payload  banking trojan, phishing, trickbot\t\t\t\t\t\t\t\t Gootkit Banking Trojan | Part 3: Retrieving the Final Payload                                                                                                                                                                                                                </td><td style=\"text-align: right;\">182</td></tr>\n",
       "<tr><td>8 hours ago ️ Every day until March 28th, compete in SentinelOne&#x27;s Apex Overdrive. Make it to the top of the leaderboard to wi…  https://t.co/plIa4AtRlY                                                        </td><td style=\"text-align: right;\">183</td></tr>\n",
       "<tr><td>Hiding a file, picture, message or even a video within another file can be an effective way for malware authors…  https://t.co/tFqxVu6TV1                                                                      </td><td style=\"text-align: right;\">184</td></tr>\n",
       "<tr><td>Hiding a file, picture, message or even a video within another file can be an effective way for malware authors…  https://t.co/tFqxVu6TV1 7 hours ago                                                          </td><td style=\"text-align: right;\">184</td></tr>\n",
       "<tr><td>While still somewhat unclear, current intelligence indicates that the primary delivery method of HelloKitty binaries is via phish email or via secondary infection in conjunction with other malware.          </td><td style=\"text-align: right;\">185</td></tr>\n",
       "<tr><td>taskkill.exe /f /PID &quot;8512&quot; taskkill.exe /f /PID &quot;8656&quot; If HelloKitty is unable to stop any specific processes or services, it will leverage the Windows Restart Manager API to further assist in termination. </td><td style=\"text-align: right;\">185</td></tr>\n",
       "<tr><td>Tweets \n",
       "\t\t\t\t\t\t   Hiding a file, picture, message or even a video within another file can be an effective way for malware authors…                                                                                                                                                                                                                </td><td style=\"text-align: right;\">185</td></tr>\n",
       "</tbody>\n",
       "</table><p>Showing 10 of 168 rows"
      ],
      "text/plain": [
       "[('\\n disclosed  that it became a victim of a targeted, highly-impactful ransomware. In the days following the disclosure, it was revealed that the ransomware family most likely behind the attack was “HelloKitty”.', 36), ('\\n It is also important to note that as of this writing, the onion address associated with HelloKitty ransom notes is not active. \\n', 177), ('taskkill.exe /f /PID \"8656\" If HelloKitty is unable to stop any specific processes or services, it will leverage the Windows Restart Manager API to further assist in termination. \\n', 181), ('Trickbot Update: Brief Analysis of a Recent Trickbot Payload  banking trojan, phishing, trickbot\\t\\t\\t\\t\\t\\t\\t\\t Gootkit Banking Trojan | Part 3: Retrieving the Final Payload', 182), (\"8 hours ago ️ Every day until March 28th, compete in SentinelOne's Apex Overdrive. Make it to the top of the leaderboard to wi…  https://t.co/plIa4AtRlY\", 183), ('\\n\\t\\t\\t\\t\\t\\t   Hiding a file, picture, message or even a video within another file can be an effective way for malware authors…  https://t.co/tFqxVu6TV1', 184), ('  Hiding a file, picture, message or even a video within another file can be an effective way for malware authors…  https://t.co/tFqxVu6TV1 7 hours ago', 184), ('\\n While still somewhat unclear, current intelligence indicates that the primary delivery method of HelloKitty binaries is via phish email or via secondary infection in conjunction with other malware. \\n', 185), ('taskkill.exe /f /PID \"8512\" taskkill.exe /f /PID \"8656\" If HelloKitty is unable to stop any specific processes or services, it will leverage the Windows Restart Manager API to further assist in termination.', 185), ('Tweets \\n\\t\\t\\t\\t\\t\\t   Hiding a file, picture, message or even a video within another file can be an effective way for malware authors… ', 185), ('Execution and Behavior \\n The “HelloKitty” name is based on internal mutex names, which are apparent upon execution.', 186), ('Additional processes and services that are terminated are identified via PID. For example: \\n taskkill.exe /f /PID \"8512\"', 186), (' behavioral detection, GMERA malware, macOS, Yara\\t\\t\\t\\t\\t\\t\\t\\t RIG Exploit Kit Chain Internals  reverse engineeering, RIG Exploit Kit, Vitali Kremez, Zero2Hero\\t\\t\\t\\t\\t\\t\\t\\t', 186), (' extension. Ransom notes are typically customized to directly reference the victim and victim’s environment. Victims are instructed to visit a TOR-based payment and support portal. The following example has been sanitized: \\n', 187), ('It is also important to note that as of this writing, the onion address associated with HelloKitty ransom notes is not active. \\n 6x7dp6h3w6q3ugjv4yv5gycj3femb24kysgry5b44hhgfwc5ml5qrdad.onion', 187), ('Gootkit Banking Trojan | Part 3: Retrieving the Final Payload  banking trojan, Gootkit, reverse engineering, Zero2Hero\\t\\t\\t\\t\\t\\t\\t\\t Tweets', 187), ('A Guide to Ghidra Scripting Development for Malware Researchers Next Top 15 Essential Malware Analysis Tools', 188), (' banking trojan, phishing, trickbot\\t\\t\\t\\t\\t\\t\\t\\t Gootkit Banking Trojan | Part 3: Retrieving the Final Payload  banking trojan, Gootkit, reverse engineering, Zero2Hero\\t\\t\\t\\t\\t\\t\\t\\t', 189), (\"https://t.co/4MmUrFnj9W 8 hours ago ️ Every day until March 28th, compete in SentinelOne's Apex Overdrive. Make it to the top of the leaderboard to wi… \", 189), (\"️ Every day until March 28th, compete in SentinelOne's Apex Overdrive. Make it to the top of the leaderboard to wi…  https://t.co/plIa4AtRlY 8 hours ago\", 189), ('Top 15 Essential Malware Analysis Tools  March 11, 2021\\t\\t\\t\\t\\t\\t\\t\\t\\t\\t HelloKitty Ransomware Lacks Stealth, But Still Strikes Home', 189), ('.crypted  extension. Ransom notes are typically customized to directly reference the victim and victim’s environment. Victims are instructed to visit a TOR-based payment and support portal. The following example has been sanitized:', 190), ('\\n Additional processes and services that are terminated are identified via PID. For example: \\n', 191), ('Detecting macOS.GMERA Malware Through Behavioral Inspection  behavioral detection, GMERA malware, macOS, Yara\\t\\t\\t\\t\\t\\t\\t\\t RIG Exploit Kit Chain Internals', 191), ('Latest Posts \\n\\t\\t\\t New macOS malware XcodeSpy Targets Xcode Developers with EggShell Backdoor', 191), ('\\n The “HelloKitty” name is based on internal mutex names, which are apparent upon execution. \\n', 192), ('RIG Exploit Kit Chain Internals  reverse engineeering, RIG Exploit Kit, Vitali Kremez, Zero2Hero\\t\\t\\t\\t\\t\\t\\t\\t Trickbot Update: Brief Analysis of a Recent Trickbot Payload', 192), (' reverse engineeering, RIG Exploit Kit, Vitali Kremez, Zero2Hero\\t\\t\\t\\t\\t\\t\\t\\t Trickbot Update: Brief Analysis of a Recent Trickbot Payload  banking trojan, phishing, trickbot\\t\\t\\t\\t\\t\\t\\t\\t', 192), ('HelloKitty Ransomware Lacks Stealth, But Still Strikes Home  March 08, 2021\\t\\t\\t\\t\\t\\t\\t\\t\\t\\t A Guide to Ghidra Scripting Development for Malware Researchers', 192), ('\\n HelloKitty will also utilize WMI to gather system details and help identify running processes and any potentially problematic processes. This is done both by name and by PID. A number of examples are shown below: \\n', 193), ('Get notified when we post new content. \\n\\t Thanks!  Keep an eye out for new content!', 193), (' Congratulations to Brian Jones of  @Optiv , winner of our Silver Slugger Award for partner excellence!\\n\\n', 193), ('\\nCommand and Scripting Interpreter: Windows Command Shell –  T1059.003 \\nWindows Management Instrumentation – ', 194), ('New macOS malware XcodeSpy Targets Xcode Developers with EggShell Backdoor  March 18, 2021\\t\\t\\t\\t\\t\\t\\t\\t\\t\\t Top 15 Essential Malware Analysis Tools', 194), ('Crimeware HelloKitty Ransomware Lacks Stealth, But Still Strikes Home \\n\\t\\t', 195), ('Game studio CD Projekt Red recently  \\n disclosed', 195), ('net.exe . In the analyzed sample, this is all done in a very non-stealthy manner. All spawned CMD windows are in the foreground and fully visible. This ‘lack of discreteness’ is atypical for modern ransomware, or any successful malware, for that matter.', 195), ('. In the analyzed sample, this is all done in a very non-stealthy manner. All spawned CMD windows are in the foreground and fully visible. This ‘lack of discreteness’ is atypical for modern ransomware, or any successful malware, for that matter. \\n', 196), ('Related Posts \\n\\t\\t\\t Greyware’s Anatomy: The “Potentially Unwanted” are Upping Their Game', 196), ('\\n\\t\\t\\t Detecting macOS.GMERA Malware Through Behavioral Inspection  behavioral detection, GMERA malware, macOS, Yara\\t\\t\\t\\t\\t\\t\\t\\t', 196), ('HelloKitty Ransomware Lacks Stealth, But Still Strikes Home \\n\\t\\t Jim Walter', 197), ('\\n A full list of processes from the analyzed sample are listed below: \\n', 197), ('Greyware’s Anatomy: The “Potentially Unwanted” are Upping Their Game January 7, 2021 \\n\\n\\t\\t\\t\\t\\t', 197), (', but has still struck some notable targets, including…  https://t.co/4MmUrFnj9W 8 hours ago', 197), (' March 11, 2021\\t\\t\\t\\t\\t\\t\\t\\t\\t\\t HelloKitty Ransomware Lacks Stealth, But Still Strikes Home  March 08, 2021\\t\\t\\t\\t\\t\\t\\t\\t\\t\\t', 197), ('Prev A Guide to Ghidra Scripting Development for Malware Researchers Next', 198), ('\\n\\t\\t\\t Greyware’s Anatomy: The “Potentially Unwanted” are Upping Their Game January 7, 2021', 198), ('\\nFile Deletion –  T1070.004 \\nCommand and Scripting Interpreter: Windows Command Shell – ', 199), (', and  #Conti , but has still struck some notable targets, including… ', 199), ('\\n\\n\\t\\t\\t\\t\\n\\t\\t\\t Prev A Guide to Ghidra Scripting Development for Malware Researchers', 200), ('January 7, 2021 \\n\\n\\t\\t\\t\\t\\t Lazarus APT Targets Mac Users with Poisoned Word Document', 200), ('#Conti , but has still struck some notable targets, including…  https://t.co/4MmUrFnj9W', 200), ('\\n\\t\\t\\t New macOS malware XcodeSpy Targets Xcode Developers with EggShell Backdoor  March 18, 2021\\t\\t\\t\\t\\t\\t\\t\\t\\t\\t', 200), (' March 08, 2021\\t\\t\\t\\t\\t\\t\\t\\t\\t\\t A Guide to Ghidra Scripting Development for Malware Researchers  March 03, 2021\\t\\t\\t\\t\\t\\t\\t\\t\\t\\t', 200), ('\\n\\n\\t\\t\\t\\t\\t Enter the Maze: Demystifying an Affiliate Involved in Maze (SNOW) July 22, 2020', 202), ('Enter the Maze: Demystifying an Affiliate Involved in Maze (SNOW) July 22, 2020 \\n\\n\\t\\t\\t\\t\\t', 202), ('Popular Posts \\n\\t\\t\\t Detecting macOS.GMERA Malware Through Behavioral Inspection', 202), ('Once encrypted, affected files receive the  \\n .crypted', 203), ('\\n\\n\\t\\t\\t\\t\\t Lazarus APT Targets Mac Users with Poisoned Word Document April 25, 2019', 203), ('Lazarus APT Targets Mac Users with Poisoned Word Document April 25, 2019 \\n\\n\\t\\t\\t\\t\\t', 203), ('April 25, 2019 \\n\\n\\t\\t\\t\\t\\t Enter the Maze: Demystifying an Affiliate Involved in Maze (SNOW)', 203), ('\\nSystem Information Discovery –  T1082 \\nData Encrypted for Impact – ', 204), ('Next Top 15 Essential Malware Analysis Tools Related Posts', 204), ('@Optiv , winner of our Silver Slugger Award for partner excellence!\\n\\n #infosec', 204), (', winner of our Silver Slugger Award for partner excellence!\\n\\n #infosec … ', 204), ('\\n Once encrypted, affected files receive the  \\n', 205), ('T1070.004 \\nCommand and Scripting Interpreter: Windows Command Shell –  T1059.003', 205), (' banking trojan, Gootkit, reverse engineering, Zero2Hero\\t\\t\\t\\t\\t\\t\\t\\t Tweets \\n\\t\\t\\t\\t\\t\\t', 205), ('March 8, 2021 March 11, 2021 Game studio CD Projekt Red recently ', 206), ('Top 15 Essential Malware Analysis Tools Related Posts \\n\\t\\t\\t', 206), ('Linkedin \\n\\t Get notified when we post new content.', 206), ('Thanks!  Keep an eye out for new content! \\n\\t Popular Posts', 206), ('https://t.co/plIa4AtRlY 8 hours ago  Congratulations to Brian Jones of ', 206), ('\\n501487b025f25ddf1ca32deb57a2b4db43ccf6635c1edc74b9cff54ce0e5bcfe MITRE ATT&CK \\nData from Local System – ', 208), ('\\nWindows Management Instrumentation –  T1047 Post Views: ', 208), ('7 hours ago #HelloKitty  lacks the stealth of ', 208), (' March 18, 2021\\t\\t\\t\\t\\t\\t\\t\\t\\t\\t Top 15 Essential Malware Analysis Tools  March 11, 2021\\t\\t\\t\\t\\t\\t\\t\\t\\t\\t', 208), ('\\nQuery Registry –  T1012 \\nSystem Information Discovery – ', 209), ('\\nData Encrypted for Impact –  T1486 \\nFile Deletion – ', 209), ('8 hours ago  Congratulations to Brian Jones of  @Optiv', 209), ('\\n\\t Get notified when we post new content. \\n\\t', 210), ('#HelloKitty  lacks the stealth of  #Ryuk', 210), ('March 11, 2021 Game studio CD Projekt Red recently  \\n', 211), ('\\n\\t Thanks!  Keep an eye out for new content! \\n\\t', 211), ('\\n Actors behind the more recent campaign(s) are reportedly attempting to auction the CD Projekt data off in various ‘underground’ forums. At present this sale of this data does appear to be legitimate. Time will tell if additional victim data is dealt with in the same way. \\n', 212), ('\\nData from Local System –  T1005 \\nModify Registry – ', 213), ('https://t.co/tFqxVu6TV1 7 hours ago #HelloKitty', 213), ('T1059.003 \\nWindows Management Instrumentation –  T1047', 214), ('https://t.co/kBIKxrusD1 8 hours ago Latest Posts', 214), ('T1012 \\nSystem Information Discovery –  T1082', 216), (' lacks the stealth of  #Ryuk , ', 216), ('\\n 6x7dp6h3w6q3ugjv4yv5gycj3femb24kysgry5b44hhgfwc5ml5qrdad.onion Conclusion', 217), ('6x7dp6h3w6q3ugjv4yv5gycj3femb24kysgry5b44hhgfwc5ml5qrdad.onion Conclusion \\n', 217), ('\\nModify Registry –  T1112 \\nQuery Registry – ', 217), ('\\n taskkill.exe /f /PID \"8512\" taskkill.exe /f /PID \"8656\"', 218), ('\\n Encryption and Ransom Note \\n', 218), ('MITRE ATT&CK \\nData from Local System –  T1005', 218), ('T1082 \\nData Encrypted for Impact –  T1486', 218), ('\\n Once launched, HelloKitty will attempt to disable and terminate a number of processes and services so as to reduce interference with the encryption process. This includes processes and services associated with IIS, MSSQL, Quickbooks, Sharepoint, and more. These actions are carried out via  \\n', 219), ('\\nfadd8d7c13a18c251ded1f645ffea18a37f1c2de SHA256 \\n501487b025f25ddf1ca32deb57a2b4db43ccf6635c1edc74b9cff54ce0e5bcfe', 219), ...]"
      ]
     },
     "execution_count": 50,
     "metadata": {},
     "output_type": "execute_result"
    },
    {
     "data": {
      "application/javascript": "\n            setTimeout(function() {\n                var nbb_cell_id = 50;\n                var nbb_unformatted_code = \"seq(windowed(content_texts.flatten(), 3)).map(\\n    lambda x: (\\\" \\\".join(x), editdistance.eval(\\\" \\\".join(x), fake_description))\\n).sorted(lambda x: x[1], reverse=False)\";\n                var nbb_formatted_code = \"seq(windowed(content_texts.flatten(), 3)).map(\\n    lambda x: (\\\" \\\".join(x), editdistance.eval(\\\" \\\".join(x), fake_description))\\n).sorted(lambda x: x[1], reverse=False)\";\n                var nbb_cells = Jupyter.notebook.get_cells();\n                for (var i = 0; i < nbb_cells.length; ++i) {\n                    if (nbb_cells[i].input_prompt_number == nbb_cell_id) {\n                        if (nbb_cells[i].get_text() == nbb_unformatted_code) {\n                             nbb_cells[i].set_text(nbb_formatted_code);\n                        }\n                        break;\n                    }\n                }\n            }, 500);\n            ",
      "text/plain": [
       "<IPython.core.display.Javascript object>"
      ]
     },
     "metadata": {},
     "output_type": "display_data"
    }
   ],
   "source": [
    "seq(windowed(content_texts.flatten(), 3)).map(\n",
    "    lambda x: (\" \".join(x), editdistance.eval(\" \".join(x), fake_description))\n",
    ").sorted(lambda x: x[1], reverse=False)"
   ]
  },
  {
   "cell_type": "code",
   "execution_count": 51,
   "metadata": {
    "ExecuteTime": {
     "end_time": "2021-08-27T08:27:07.164031Z",
     "start_time": "2021-08-27T08:27:07.142572Z"
    }
   },
   "outputs": [
    {
     "data": {
      "application/javascript": "\n            setTimeout(function() {\n                var nbb_cell_id = 51;\n                var nbb_unformatted_code = \"import editdistance\\n\\nfrom typing import List\\nfrom itertools import chain\\nfrom more_itertools import windowed\\n\\n\\ndef label_description(description: str, texts: List[str]) -> List[float]:\\n    pass\";\n                var nbb_formatted_code = \"import editdistance\\n\\nfrom typing import List\\nfrom itertools import chain\\nfrom more_itertools import windowed\\n\\n\\ndef label_description(description: str, texts: List[str]) -> List[float]:\\n    pass\";\n                var nbb_cells = Jupyter.notebook.get_cells();\n                for (var i = 0; i < nbb_cells.length; ++i) {\n                    if (nbb_cells[i].input_prompt_number == nbb_cell_id) {\n                        if (nbb_cells[i].get_text() == nbb_unformatted_code) {\n                             nbb_cells[i].set_text(nbb_formatted_code);\n                        }\n                        break;\n                    }\n                }\n            }, 500);\n            ",
      "text/plain": [
       "<IPython.core.display.Javascript object>"
      ]
     },
     "metadata": {},
     "output_type": "display_data"
    }
   ],
   "source": [
    "import editdistance\n",
    "\n",
    "from typing import List\n",
    "from itertools import chain\n",
    "from more_itertools import windowed\n",
    "\n",
    "\n",
    "def label_description(description: str, texts: List[str]) -> List[float]:\n",
    "    pass"
   ]
  },
  {
   "cell_type": "code",
   "execution_count": 52,
   "metadata": {
    "ExecuteTime": {
     "end_time": "2021-08-27T08:27:09.079112Z",
     "start_time": "2021-08-27T08:27:09.032119Z"
    }
   },
   "outputs": [
    {
     "data": {
      "text/plain": [
       "['Crimeware',\n",
       " 'HelloKitty Ransomware Lacks Stealth, But Still Strikes Home',\n",
       " '\\n\\t\\t',\n",
       " 'Jim Walter',\n",
       " 'March 8, 2021',\n",
       " 'March 11, 2021',\n",
       " 'Game studio CD Projekt Red recently ',\n",
       " '\\n',\n",
       " 'disclosed',\n",
       " ' that it became a victim of a targeted, highly-impactful ransomware. In the days following the disclosure, it was revealed that the ransomware family most likely behind the attack was “HelloKitty”.',\n",
       " 'HelloKitty is a ransomware family that emerged in late 2020. While it lacks the sophistication of some of the more well-known families such as Ryuk, REvil, and Conti, it has nevertheless struck some notable targets, including CEMIG0. In this post, we analyse a recent HelloKitty sample and outline the basic behaviors and traits associated with this family of ransomware.',\n",
       " '\\n',\n",
       " 'Execution and Behavior',\n",
       " '\\n',\n",
       " 'The “HelloKitty” name is based on internal mutex names, which are apparent upon execution.',\n",
       " '\\n',\n",
       " 'While still somewhat unclear, current intelligence indicates that the primary delivery method of HelloKitty binaries is via phish email or via secondary infection in conjunction with other malware.',\n",
       " '\\n',\n",
       " 'Once launched, HelloKitty will attempt to disable and terminate a number of processes and services so as to reduce interference with the encryption process. This includes processes and services associated with IIS, MSSQL, Quickbooks, Sharepoint, and more. These actions are carried out via ',\n",
       " '\\n',\n",
       " 'taskkill.exe',\n",
       " ' and ',\n",
       " 'net.exe',\n",
       " '.',\n",
       " 'In the analyzed sample, this is all done in a very non-stealthy manner. All spawned CMD windows are in the foreground and fully visible. This ‘lack of discreteness’ is atypical for modern ransomware, or any successful malware, for that matter.',\n",
       " '\\n',\n",
       " 'A full list of processes from the analyzed sample are listed below:',\n",
       " '\\n',\n",
       " '\\ndsa*\\nNtrtsca\\nds_moni\\nNotifie\\nTmListe\\niVPAgen\\nCNTAoSM\\nIBM*\\nbes10*\\nblack*\\nrobo*\\ncopy*\\nstore.e\\nsql*\\nvee*\\nwrsa*\\nwrsa.ex\\npostg*\\nsage*\\nMSSQLServerADHelper100\\nMSSQL$ISARS\\nMSSQL$MSFW\\nSQLAgent$ISARS\\nSQLAgent$MSFW\\nSQLBrowser\\nReportServer$ISARS\\nSQLWriter\\nWinDefend\\nmr2kserv\\nMSExchangeADTopology\\nMSExchangeFBA\\nMSExchangeIS\\nMSExchangeSA\\nShadowProtectSvc\\nSPAdminV4\\nSPTimerV4\\nSPTraceV4\\nSPUserCodeV4\\nSPWriterV4\\nSPSearch4\\nIISADMIN\\nfirebirdguardiandefaultinstance\\nibmiasrw\\nQBCFMonitorService\\nQBVSS\\nQBPOSDBServiceV12\\n\"IBM Domino Server(CProgramFilesIBMDominodata)\"\\n\"IBM Domino Diagnostics(CProgramFilesIBMDomino)\"\\n\"Simply Accounting Database Connection Manager\"\\nQuickBooksDB1\\nQuickBooksDB2\\nQuickBooksDB3\\nQuickBooksDB4\\nQuickBooksDB5\\nQuickBooksDB6\\nQuickBooksDB7\\nQuickBooksDB8\\nQuickBooksDB9\\nQuickBooksDB10\\nQuickBooksDB11\\nQuickBooksDB12\\nQuickBooksDB13\\nQuickBooksDB14\\nQuickBooksDB15\\nQuickBooksDB16\\nQuickBooksDB17\\nQuickBooksDB18\\nQuickBooksDB19\\nQuickBooksDB20\\nQuickBooksDB21\\nQuickBooksDB22\\nQuickBooksDB23\\nQuickBooksDB24\\nQuickBooksDB25\\n',\n",
       " '\\n',\n",
       " 'Additional processes and services that are terminated are identified via PID. For example:',\n",
       " '\\n',\n",
       " 'taskkill.exe /f /PID \"8512\"',\n",
       " 'taskkill.exe /f /PID \"8656\"',\n",
       " 'If HelloKitty is unable to stop any specific processes or services, it will leverage the Windows Restart Manager API to further assist in termination.',\n",
       " '\\n',\n",
       " 'HelloKitty will also utilize WMI to gather system details and help identify running processes and any potentially problematic processes. This is done both by name and by PID. A number of examples are shown below:',\n",
       " '\\n',\n",
       " '\\nstart iwbemservices::execquery - root\\\\cimv2 : select __path, processid, csname, caption, sessionid, threadcount, workingsetsize, kernelmodetime, usermodetime, parentprocessid from win32_process\\n\\nstart iwbemservices::execquery - root\\\\cimv2 : select __path, processid, csname, caption, sessionid, threadcount, workingsetsize, kernelmodetime, usermodetime, parentprocessid from win32_process where (  caption = \"store.exe\")\\n\\nstart iwbemservices::execquery - root\\\\cimv2 : select __path, processid, csname, caption, sessionid, threadcount, workingsetsize, kernelmodetime, usermodetime, parentprocessid from win32_process where (  caption = \"wrsa.exe\")\\n\\nstart iwbemservices::execquery - root\\\\cimv2 : select __path, processid, csname, caption, sessionid, threadcount, workingsetsize, kernelmodetime, usermodetime, parentprocessid from win32_process where (  processid = 3036)\\n\\nstart iwbemservices::execquery - root\\\\cimv2 : select __path, processid, csname, caption, sessionid, threadcount, workingsetsize, kernelmodetime, usermodetime, parentprocessid from win32_process where (  processid = 4460)\\n\\nstart iwbemservices::execquery - root\\\\cimv2 : select __path, processid, csname, caption, sessionid, threadcount, workingsetsize, kernelmodetime, usermodetime, parentprocessid from win32_process where (  processid = 3052)\\n\\nstart iwbemservices::execquery - root\\\\cimv2 : select __path, processid, csname, caption, sessionid, threadcount, workingsetsize, kernelmodetime, usermodetime, parentprocessid from win32_process where (  processid = 4476)\\n\\nstart iwbemservices::execquery - root\\\\cimv2 : select __path, processid, csname, caption, sessionid, threadcount, workingsetsize, kernelmodetime, usermodetime, parentprocessid from win32_process where (  processid = 1560)\\n\\nstart iwbemservices::execquery - root\\\\cimv2 : select __path, processid, csname, caption, sessionid, threadcount, workingsetsize, kernelmodetime, usermodetime, parentprocessid from win32_process where (  processid = 8124)\\n\\nstart iwbemservices::exe\\n',\n",
       " '\\n',\n",
       " 'Encryption and Ransom Note',\n",
       " '\\n',\n",
       " 'Encryption is initiated and completed very quickly once applicable services and processes have been terminated. Specific encryption recipes and routines can vary across variants of HelloKitty. Generally speaking, they tend to use a combination of AES-256 & RSA-2048 or even NTRU+AES-128.',\n",
       " '\\n',\n",
       " 'Once encrypted, affected files receive the ',\n",
       " '\\n',\n",
       " '.crypted',\n",
       " ' extension.',\n",
       " 'Ransom notes are typically customized to directly reference the victim and victim’s environment. Victims are instructed to visit a TOR-based payment and support portal. The following example has been sanitized:',\n",
       " '\\n',\n",
       " 'It is also important to note that as of this writing, the onion address associated with HelloKitty ransom notes is not active.',\n",
       " '\\n',\n",
       " '6x7dp6h3w6q3ugjv4yv5gycj3femb24kysgry5b44hhgfwc5ml5qrdad.onion',\n",
       " 'Conclusion',\n",
       " '\\n',\n",
       " 'HelloKitty may be easier to spot than other modern ransomware families, but upon execution it is no less dangerous. There are currently no known ‘weaknesses’ in the encryption routines, and there are no thirdy-party decrypters available for the HelloKitty ransomware. Therefore, the only true defense is prevention. While this family does not appear to be actively leaking victim data at the moment, that could change at any point, in addition to them choosing to adopt some of the more recent extortion methods that go along with ransomware (DDoS).',\n",
       " '\\n',\n",
       " 'Actors behind the more recent campaign(s) are reportedly attempting to auction the CD Projekt data off in various ‘underground’ forums. At present this sale of this data does appear to be legitimate. Time will tell if additional victim data is dealt with in the same way.',\n",
       " '\\n',\n",
       " 'To protect yourself against HelloKitty, make sure you are armed with a modern Endpoint Security platform, which is configured correctly and up to date. The SentinelOne Singularity Platform is fully capable of preventing and detecting all malicious behaviors associated with the HelloKitty ransomware family.',\n",
       " '\\n',\n",
       " 'IOCs',\n",
       " '\\n',\n",
       " 'SHA1',\n",
       " '\\nfadd8d7c13a18c251ded1f645ffea18a37f1c2de',\n",
       " 'SHA256',\n",
       " '\\n501487b025f25ddf1ca32deb57a2b4db43ccf6635c1edc74b9cff54ce0e5bcfe',\n",
       " 'MITRE ATT&CK',\n",
       " '\\nData from Local System – ',\n",
       " 'T1005',\n",
       " '\\nModify Registry – ',\n",
       " 'T1112',\n",
       " '\\nQuery Registry – ',\n",
       " 'T1012',\n",
       " '\\nSystem Information Discovery – ',\n",
       " 'T1082',\n",
       " '\\nData Encrypted for Impact – ',\n",
       " 'T1486',\n",
       " '\\nFile Deletion – ',\n",
       " 'T1070.004',\n",
       " '\\nCommand and Scripting Interpreter: Windows Command Shell – ',\n",
       " 'T1059.003',\n",
       " '\\nWindows Management Instrumentation – ',\n",
       " 'T1047',\n",
       " 'Post Views: ',\n",
       " '\\n\\t\\t\\t\\t',\n",
       " '7,278',\n",
       " '\\n\\t\\t\\t',\n",
       " 'Ransomware',\n",
       " '\\t\\t\\t\\t\\t',\n",
       " 'Share',\n",
       " 'Facebook',\n",
       " 'Twitter',\n",
       " 'Mail',\n",
       " 'Linkedin',\n",
       " 'Reddit',\n",
       " 'Jim Walter',\n",
       " 'Jim Walter is a Senior Threat Researcher at SentinelOne focusing on evolving trends, actors, and tactics within the thriving ecosystem of cybercrime and crimeware. He specializes in the discovery and analysis of emerging cybercrime \"services\" and evolving communication channels leveraged by mid-level criminal organizations. Jim joined SentinelOne following ~4 years at a security start-up, also focused on malware research and organized crime. Previously, he spent over 17 years at McAfee/Intel running their Threat Intelligence and Advanced Threat Research teams.',\n",
       " '\\n\\n\\t\\t\\t\\t\\n\\t\\t\\t',\n",
       " 'Prev',\n",
       " 'A Guide to Ghidra Scripting Development for Malware Researchers',\n",
       " 'Next',\n",
       " 'Top 15 Essential Malware Analysis Tools',\n",
       " 'Related Posts',\n",
       " '\\n\\t\\t\\t',\n",
       " 'Greyware’s Anatomy: The “Potentially Unwanted” are Upping Their Game',\n",
       " 'January 7, 2021',\n",
       " '\\n\\n\\t\\t\\t\\t\\t',\n",
       " 'Lazarus APT Targets Mac Users with Poisoned Word Document',\n",
       " 'April 25, 2019',\n",
       " '\\n\\n\\t\\t\\t\\t\\t',\n",
       " 'Enter the Maze: Demystifying an Affiliate Involved in Maze (SNOW)',\n",
       " 'July 22, 2020',\n",
       " '\\n\\n\\t\\t\\t\\t\\t',\n",
       " 'Sign Up',\n",
       " 'Facebook',\n",
       " '\\n\\t',\n",
       " 'Twitter',\n",
       " '\\n\\t',\n",
       " 'Linkedin',\n",
       " '\\n\\t',\n",
       " 'Get notified when we post new content.',\n",
       " '\\n\\t',\n",
       " 'Thanks!  Keep an eye out for new content!',\n",
       " '\\n\\t',\n",
       " 'Popular Posts',\n",
       " '\\n\\t\\t\\t',\n",
       " 'Detecting macOS.GMERA Malware Through Behavioral Inspection',\n",
       " ' behavioral detection, GMERA malware, macOS, Yara\\t\\t\\t\\t\\t\\t\\t\\t',\n",
       " 'RIG Exploit Kit Chain Internals',\n",
       " ' reverse engineeering, RIG Exploit Kit, Vitali Kremez, Zero2Hero\\t\\t\\t\\t\\t\\t\\t\\t',\n",
       " 'Trickbot Update: Brief Analysis of a Recent Trickbot Payload',\n",
       " ' banking trojan, phishing, trickbot\\t\\t\\t\\t\\t\\t\\t\\t',\n",
       " 'Gootkit Banking Trojan | Part 3: Retrieving the Final Payload',\n",
       " ' banking trojan, Gootkit, reverse engineering, Zero2Hero\\t\\t\\t\\t\\t\\t\\t\\t',\n",
       " 'Tweets',\n",
       " '\\n\\t\\t\\t\\t\\t\\t',\n",
       " '  Hiding a file, picture, message or even a video within another file can be an effective way for malware authors… ',\n",
       " 'https://t.co/tFqxVu6TV1',\n",
       " '7 hours ago',\n",
       " '#HelloKitty',\n",
       " ' lacks the stealth of ',\n",
       " '#Ryuk',\n",
       " ', ',\n",
       " '#REvil',\n",
       " ', and ',\n",
       " '#Conti',\n",
       " ', but has still struck some notable targets, including… ',\n",
       " 'https://t.co/4MmUrFnj9W',\n",
       " '8 hours ago',\n",
       " \"️ Every day until March 28th, compete in SentinelOne's Apex Overdrive. Make it to the top of the leaderboard to wi… \",\n",
       " 'https://t.co/plIa4AtRlY',\n",
       " '8 hours ago',\n",
       " ' Congratulations to Brian Jones of ',\n",
       " '@Optiv',\n",
       " ', winner of our Silver Slugger Award for partner excellence!\\n\\n',\n",
       " '#infosec',\n",
       " '… ',\n",
       " 'https://t.co/kBIKxrusD1',\n",
       " '8 hours ago',\n",
       " 'Latest Posts',\n",
       " '\\n\\t\\t\\t',\n",
       " 'New macOS malware XcodeSpy Targets Xcode Developers with EggShell Backdoor',\n",
       " ' March 18, 2021\\t\\t\\t\\t\\t\\t\\t\\t\\t\\t',\n",
       " 'Top 15 Essential Malware Analysis Tools',\n",
       " ' March 11, 2021\\t\\t\\t\\t\\t\\t\\t\\t\\t\\t',\n",
       " 'HelloKitty Ransomware Lacks Stealth, But Still Strikes Home',\n",
       " ' March 08, 2021\\t\\t\\t\\t\\t\\t\\t\\t\\t\\t',\n",
       " 'A Guide to Ghidra Scripting Development for Malware Researchers',\n",
       " ' March 03, 2021\\t\\t\\t\\t\\t\\t\\t\\t\\t\\t',\n",
       " 'Crimeware',\n",
       " 'HelloKitty Ransomware Lacks Stealth, But Still Strikes Home',\n",
       " '\\n\\t\\t',\n",
       " 'HelloKitty Ransomware Lacks Stealth, But Still Strikes Home',\n",
       " '\\n\\t\\t',\n",
       " 'Jim Walter',\n",
       " 'Jim Walter',\n",
       " 'March 8, 2021',\n",
       " 'March 8, 2021',\n",
       " 'March 11, 2021',\n",
       " 'March 11, 2021',\n",
       " 'Game studio CD Projekt Red recently ',\n",
       " '\\n',\n",
       " 'Game studio CD Projekt Red recently ',\n",
       " '\\n',\n",
       " 'disclosed',\n",
       " ' that it became a victim of a targeted, highly-impactful ransomware. In the days following the disclosure, it was revealed that the ransomware family most likely behind the attack was “HelloKitty”.',\n",
       " 'disclosed',\n",
       " ' that it became a victim of a targeted, highly-impactful ransomware. In the days following the disclosure, it was revealed that the ransomware family most likely behind the attack was “HelloKitty”.',\n",
       " 'HelloKitty is a ransomware family that emerged in late 2020. While it lacks the sophistication of some of the more well-known families such as Ryuk, REvil, and Conti, it has nevertheless struck some notable targets, including CEMIG0. In this post, we analyse a recent HelloKitty sample and outline the basic behaviors and traits associated with this family of ransomware.',\n",
       " '\\n',\n",
       " 'HelloKitty is a ransomware family that emerged in late 2020. While it lacks the sophistication of some of the more well-known families such as Ryuk, REvil, and Conti, it has nevertheless struck some notable targets, including CEMIG0. In this post, we analyse a recent HelloKitty sample and outline the basic behaviors and traits associated with this family of ransomware.',\n",
       " '\\n',\n",
       " 'Execution and Behavior',\n",
       " '\\n',\n",
       " 'Execution and Behavior',\n",
       " '\\n',\n",
       " 'The “HelloKitty” name is based on internal mutex names, which are apparent upon execution.',\n",
       " '\\n',\n",
       " 'The “HelloKitty” name is based on internal mutex names, which are apparent upon execution.',\n",
       " '\\n',\n",
       " 'While still somewhat unclear, current intelligence indicates that the primary delivery method of HelloKitty binaries is via phish email or via secondary infection in conjunction with other malware.',\n",
       " '\\n',\n",
       " 'While still somewhat unclear, current intelligence indicates that the primary delivery method of HelloKitty binaries is via phish email or via secondary infection in conjunction with other malware.',\n",
       " '\\n',\n",
       " 'Once launched, HelloKitty will attempt to disable and terminate a number of processes and services so as to reduce interference with the encryption process. This includes processes and services associated with IIS, MSSQL, Quickbooks, Sharepoint, and more. These actions are carried out via ',\n",
       " '\\n',\n",
       " 'Once launched, HelloKitty will attempt to disable and terminate a number of processes and services so as to reduce interference with the encryption process. This includes processes and services associated with IIS, MSSQL, Quickbooks, Sharepoint, and more. These actions are carried out via ',\n",
       " '\\n',\n",
       " 'taskkill.exe',\n",
       " ' and ',\n",
       " 'taskkill.exe',\n",
       " ' and ',\n",
       " 'net.exe',\n",
       " '.',\n",
       " 'net.exe',\n",
       " '.',\n",
       " 'In the analyzed sample, this is all done in a very non-stealthy manner. All spawned CMD windows are in the foreground and fully visible. This ‘lack of discreteness’ is atypical for modern ransomware, or any successful malware, for that matter.',\n",
       " '\\n',\n",
       " 'In the analyzed sample, this is all done in a very non-stealthy manner. All spawned CMD windows are in the foreground and fully visible. This ‘lack of discreteness’ is atypical for modern ransomware, or any successful malware, for that matter.',\n",
       " '\\n',\n",
       " 'A full list of processes from the analyzed sample are listed below:',\n",
       " '\\n',\n",
       " 'A full list of processes from the analyzed sample are listed below:',\n",
       " '\\n',\n",
       " '\\ndsa*\\nNtrtsca\\nds_moni\\nNotifie\\nTmListe\\niVPAgen\\nCNTAoSM\\nIBM*\\nbes10*\\nblack*\\nrobo*\\ncopy*\\nstore.e\\nsql*\\nvee*\\nwrsa*\\nwrsa.ex\\npostg*\\nsage*\\nMSSQLServerADHelper100\\nMSSQL$ISARS\\nMSSQL$MSFW\\nSQLAgent$ISARS\\nSQLAgent$MSFW\\nSQLBrowser\\nReportServer$ISARS\\nSQLWriter\\nWinDefend\\nmr2kserv\\nMSExchangeADTopology\\nMSExchangeFBA\\nMSExchangeIS\\nMSExchangeSA\\nShadowProtectSvc\\nSPAdminV4\\nSPTimerV4\\nSPTraceV4\\nSPUserCodeV4\\nSPWriterV4\\nSPSearch4\\nIISADMIN\\nfirebirdguardiandefaultinstance\\nibmiasrw\\nQBCFMonitorService\\nQBVSS\\nQBPOSDBServiceV12\\n\"IBM Domino Server(CProgramFilesIBMDominodata)\"\\n\"IBM Domino Diagnostics(CProgramFilesIBMDomino)\"\\n\"Simply Accounting Database Connection Manager\"\\nQuickBooksDB1\\nQuickBooksDB2\\nQuickBooksDB3\\nQuickBooksDB4\\nQuickBooksDB5\\nQuickBooksDB6\\nQuickBooksDB7\\nQuickBooksDB8\\nQuickBooksDB9\\nQuickBooksDB10\\nQuickBooksDB11\\nQuickBooksDB12\\nQuickBooksDB13\\nQuickBooksDB14\\nQuickBooksDB15\\nQuickBooksDB16\\nQuickBooksDB17\\nQuickBooksDB18\\nQuickBooksDB19\\nQuickBooksDB20\\nQuickBooksDB21\\nQuickBooksDB22\\nQuickBooksDB23\\nQuickBooksDB24\\nQuickBooksDB25\\n',\n",
       " '\\n',\n",
       " '\\ndsa*\\nNtrtsca\\nds_moni\\nNotifie\\nTmListe\\niVPAgen\\nCNTAoSM\\nIBM*\\nbes10*\\nblack*\\nrobo*\\ncopy*\\nstore.e\\nsql*\\nvee*\\nwrsa*\\nwrsa.ex\\npostg*\\nsage*\\nMSSQLServerADHelper100\\nMSSQL$ISARS\\nMSSQL$MSFW\\nSQLAgent$ISARS\\nSQLAgent$MSFW\\nSQLBrowser\\nReportServer$ISARS\\nSQLWriter\\nWinDefend\\nmr2kserv\\nMSExchangeADTopology\\nMSExchangeFBA\\nMSExchangeIS\\nMSExchangeSA\\nShadowProtectSvc\\nSPAdminV4\\nSPTimerV4\\nSPTraceV4\\nSPUserCodeV4\\nSPWriterV4\\nSPSearch4\\nIISADMIN\\nfirebirdguardiandefaultinstance\\nibmiasrw\\nQBCFMonitorService\\nQBVSS\\nQBPOSDBServiceV12\\n\"IBM Domino Server(CProgramFilesIBMDominodata)\"\\n\"IBM Domino Diagnostics(CProgramFilesIBMDomino)\"\\n\"Simply Accounting Database Connection Manager\"\\nQuickBooksDB1\\nQuickBooksDB2\\nQuickBooksDB3\\nQuickBooksDB4\\nQuickBooksDB5\\nQuickBooksDB6\\nQuickBooksDB7\\nQuickBooksDB8\\nQuickBooksDB9\\nQuickBooksDB10\\nQuickBooksDB11\\nQuickBooksDB12\\nQuickBooksDB13\\nQuickBooksDB14\\nQuickBooksDB15\\nQuickBooksDB16\\nQuickBooksDB17\\nQuickBooksDB18\\nQuickBooksDB19\\nQuickBooksDB20\\nQuickBooksDB21\\nQuickBooksDB22\\nQuickBooksDB23\\nQuickBooksDB24\\nQuickBooksDB25\\n',\n",
       " '\\n',\n",
       " 'Additional processes and services that are terminated are identified via PID. For example:',\n",
       " '\\n',\n",
       " 'Additional processes and services that are terminated are identified via PID. For example:',\n",
       " '\\n',\n",
       " 'taskkill.exe /f /PID \"8512\"',\n",
       " 'taskkill.exe /f /PID \"8512\"',\n",
       " 'taskkill.exe /f /PID \"8656\"',\n",
       " 'taskkill.exe /f /PID \"8656\"',\n",
       " 'If HelloKitty is unable to stop any specific processes or services, it will leverage the Windows Restart Manager API to further assist in termination.',\n",
       " '\\n',\n",
       " 'If HelloKitty is unable to stop any specific processes or services, it will leverage the Windows Restart Manager API to further assist in termination.',\n",
       " '\\n',\n",
       " 'HelloKitty will also utilize WMI to gather system details and help identify running processes and any potentially problematic processes. This is done both by name and by PID. A number of examples are shown below:',\n",
       " '\\n',\n",
       " 'HelloKitty will also utilize WMI to gather system details and help identify running processes and any potentially problematic processes. This is done both by name and by PID. A number of examples are shown below:',\n",
       " '\\n',\n",
       " '\\nstart iwbemservices::execquery - root\\\\cimv2 : select __path, processid, csname, caption, sessionid, threadcount, workingsetsize, kernelmodetime, usermodetime, parentprocessid from win32_process\\n\\nstart iwbemservices::execquery - root\\\\cimv2 : select __path, processid, csname, caption, sessionid, threadcount, workingsetsize, kernelmodetime, usermodetime, parentprocessid from win32_process where (  caption = \"store.exe\")\\n\\nstart iwbemservices::execquery - root\\\\cimv2 : select __path, processid, csname, caption, sessionid, threadcount, workingsetsize, kernelmodetime, usermodetime, parentprocessid from win32_process where (  caption = \"wrsa.exe\")\\n\\nstart iwbemservices::execquery - root\\\\cimv2 : select __path, processid, csname, caption, sessionid, threadcount, workingsetsize, kernelmodetime, usermodetime, parentprocessid from win32_process where (  processid = 3036)\\n\\nstart iwbemservices::execquery - root\\\\cimv2 : select __path, processid, csname, caption, sessionid, threadcount, workingsetsize, kernelmodetime, usermodetime, parentprocessid from win32_process where (  processid = 4460)\\n\\nstart iwbemservices::execquery - root\\\\cimv2 : select __path, processid, csname, caption, sessionid, threadcount, workingsetsize, kernelmodetime, usermodetime, parentprocessid from win32_process where (  processid = 3052)\\n\\nstart iwbemservices::execquery - root\\\\cimv2 : select __path, processid, csname, caption, sessionid, threadcount, workingsetsize, kernelmodetime, usermodetime, parentprocessid from win32_process where (  processid = 4476)\\n\\nstart iwbemservices::execquery - root\\\\cimv2 : select __path, processid, csname, caption, sessionid, threadcount, workingsetsize, kernelmodetime, usermodetime, parentprocessid from win32_process where (  processid = 1560)\\n\\nstart iwbemservices::execquery - root\\\\cimv2 : select __path, processid, csname, caption, sessionid, threadcount, workingsetsize, kernelmodetime, usermodetime, parentprocessid from win32_process where (  processid = 8124)\\n\\nstart iwbemservices::exe\\n',\n",
       " '\\n',\n",
       " '\\nstart iwbemservices::execquery - root\\\\cimv2 : select __path, processid, csname, caption, sessionid, threadcount, workingsetsize, kernelmodetime, usermodetime, parentprocessid from win32_process\\n\\nstart iwbemservices::execquery - root\\\\cimv2 : select __path, processid, csname, caption, sessionid, threadcount, workingsetsize, kernelmodetime, usermodetime, parentprocessid from win32_process where (  caption = \"store.exe\")\\n\\nstart iwbemservices::execquery - root\\\\cimv2 : select __path, processid, csname, caption, sessionid, threadcount, workingsetsize, kernelmodetime, usermodetime, parentprocessid from win32_process where (  caption = \"wrsa.exe\")\\n\\nstart iwbemservices::execquery - root\\\\cimv2 : select __path, processid, csname, caption, sessionid, threadcount, workingsetsize, kernelmodetime, usermodetime, parentprocessid from win32_process where (  processid = 3036)\\n\\nstart iwbemservices::execquery - root\\\\cimv2 : select __path, processid, csname, caption, sessionid, threadcount, workingsetsize, kernelmodetime, usermodetime, parentprocessid from win32_process where (  processid = 4460)\\n\\nstart iwbemservices::execquery - root\\\\cimv2 : select __path, processid, csname, caption, sessionid, threadcount, workingsetsize, kernelmodetime, usermodetime, parentprocessid from win32_process where (  processid = 3052)\\n\\nstart iwbemservices::execquery - root\\\\cimv2 : select __path, processid, csname, caption, sessionid, threadcount, workingsetsize, kernelmodetime, usermodetime, parentprocessid from win32_process where (  processid = 4476)\\n\\nstart iwbemservices::execquery - root\\\\cimv2 : select __path, processid, csname, caption, sessionid, threadcount, workingsetsize, kernelmodetime, usermodetime, parentprocessid from win32_process where (  processid = 1560)\\n\\nstart iwbemservices::execquery - root\\\\cimv2 : select __path, processid, csname, caption, sessionid, threadcount, workingsetsize, kernelmodetime, usermodetime, parentprocessid from win32_process where (  processid = 8124)\\n\\nstart iwbemservices::exe\\n',\n",
       " '\\n',\n",
       " 'Encryption and Ransom Note',\n",
       " '\\n',\n",
       " 'Encryption and Ransom Note',\n",
       " '\\n',\n",
       " 'Encryption is initiated and completed very quickly once applicable services and processes have been terminated. Specific encryption recipes and routines can vary across variants of HelloKitty. Generally speaking, they tend to use a combination of AES-256 & RSA-2048 or even NTRU+AES-128.',\n",
       " '\\n',\n",
       " 'Encryption is initiated and completed very quickly once applicable services and processes have been terminated. Specific encryption recipes and routines can vary across variants of HelloKitty. Generally speaking, they tend to use a combination of AES-256 & RSA-2048 or even NTRU+AES-128.',\n",
       " '\\n',\n",
       " 'Once encrypted, affected files receive the ',\n",
       " '\\n',\n",
       " 'Once encrypted, affected files receive the ',\n",
       " '\\n',\n",
       " '.crypted',\n",
       " ' extension.',\n",
       " '.crypted',\n",
       " ' extension.',\n",
       " 'Ransom notes are typically customized to directly reference the victim and victim’s environment. Victims are instructed to visit a TOR-based payment and support portal. The following example has been sanitized:',\n",
       " '\\n',\n",
       " 'Ransom notes are typically customized to directly reference the victim and victim’s environment. Victims are instructed to visit a TOR-based payment and support portal. The following example has been sanitized:',\n",
       " '\\n',\n",
       " 'It is also important to note that as of this writing, the onion address associated with HelloKitty ransom notes is not active.',\n",
       " '\\n',\n",
       " 'It is also important to note that as of this writing, the onion address associated with HelloKitty ransom notes is not active.',\n",
       " '\\n',\n",
       " '6x7dp6h3w6q3ugjv4yv5gycj3femb24kysgry5b44hhgfwc5ml5qrdad.onion',\n",
       " '6x7dp6h3w6q3ugjv4yv5gycj3femb24kysgry5b44hhgfwc5ml5qrdad.onion',\n",
       " 'Conclusion',\n",
       " '\\n',\n",
       " 'Conclusion',\n",
       " '\\n',\n",
       " 'HelloKitty may be easier to spot than other modern ransomware families, but upon execution it is no less dangerous. There are currently no known ‘weaknesses’ in the encryption routines, and there are no thirdy-party decrypters available for the HelloKitty ransomware. Therefore, the only true defense is prevention. While this family does not appear to be actively leaking victim data at the moment, that could change at any point, in addition to them choosing to adopt some of the more recent extortion methods that go along with ransomware (DDoS).',\n",
       " '\\n',\n",
       " 'HelloKitty may be easier to spot than other modern ransomware families, but upon execution it is no less dangerous. There are currently no known ‘weaknesses’ in the encryption routines, and there are no thirdy-party decrypters available for the HelloKitty ransomware. Therefore, the only true defense is prevention. While this family does not appear to be actively leaking victim data at the moment, that could change at any point, in addition to them choosing to adopt some of the more recent extortion methods that go along with ransomware (DDoS).',\n",
       " '\\n',\n",
       " 'Actors behind the more recent campaign(s) are reportedly attempting to auction the CD Projekt data off in various ‘underground’ forums. At present this sale of this data does appear to be legitimate. Time will tell if additional victim data is dealt with in the same way.',\n",
       " '\\n',\n",
       " 'Actors behind the more recent campaign(s) are reportedly attempting to auction the CD Projekt data off in various ‘underground’ forums. At present this sale of this data does appear to be legitimate. Time will tell if additional victim data is dealt with in the same way.',\n",
       " '\\n',\n",
       " 'To protect yourself against HelloKitty, make sure you are armed with a modern Endpoint Security platform, which is configured correctly and up to date. The SentinelOne Singularity Platform is fully capable of preventing and detecting all malicious behaviors associated with the HelloKitty ransomware family.',\n",
       " '\\n',\n",
       " 'To protect yourself against HelloKitty, make sure you are armed with a modern Endpoint Security platform, which is configured correctly and up to date. The SentinelOne Singularity Platform is fully capable of preventing and detecting all malicious behaviors associated with the HelloKitty ransomware family.',\n",
       " '\\n',\n",
       " 'IOCs',\n",
       " '\\n',\n",
       " 'IOCs',\n",
       " '\\n',\n",
       " 'SHA1',\n",
       " 'SHA1',\n",
       " '\\nfadd8d7c13a18c251ded1f645ffea18a37f1c2de',\n",
       " '\\nfadd8d7c13a18c251ded1f645ffea18a37f1c2de',\n",
       " 'SHA256',\n",
       " 'SHA256',\n",
       " '\\n501487b025f25ddf1ca32deb57a2b4db43ccf6635c1edc74b9cff54ce0e5bcfe',\n",
       " '\\n501487b025f25ddf1ca32deb57a2b4db43ccf6635c1edc74b9cff54ce0e5bcfe',\n",
       " 'MITRE ATT&CK',\n",
       " 'MITRE ATT&CK',\n",
       " '\\nData from Local System – ',\n",
       " '\\nData from Local System – ',\n",
       " 'T1005',\n",
       " 'T1005',\n",
       " '\\nModify Registry – ',\n",
       " '\\nModify Registry – ',\n",
       " 'T1112',\n",
       " 'T1112',\n",
       " '\\nQuery Registry – ',\n",
       " '\\nQuery Registry – ',\n",
       " 'T1012',\n",
       " 'T1012',\n",
       " '\\nSystem Information Discovery – ',\n",
       " '\\nSystem Information Discovery – ',\n",
       " 'T1082',\n",
       " 'T1082',\n",
       " '\\nData Encrypted for Impact – ',\n",
       " '\\nData Encrypted for Impact – ',\n",
       " 'T1486',\n",
       " 'T1486',\n",
       " '\\nFile Deletion – ',\n",
       " '\\nFile Deletion – ',\n",
       " 'T1070.004',\n",
       " 'T1070.004',\n",
       " '\\nCommand and Scripting Interpreter: Windows Command Shell – ',\n",
       " '\\nCommand and Scripting Interpreter: Windows Command Shell – ',\n",
       " 'T1059.003',\n",
       " 'T1059.003',\n",
       " '\\nWindows Management Instrumentation – ',\n",
       " '\\nWindows Management Instrumentation – ',\n",
       " 'T1047',\n",
       " 'T1047',\n",
       " 'Post Views: ',\n",
       " '\\n\\t\\t\\t\\t',\n",
       " 'Post Views: ',\n",
       " '\\n\\t\\t\\t\\t',\n",
       " '7,278',\n",
       " '\\n\\t\\t\\t',\n",
       " '7,278',\n",
       " '\\n\\t\\t\\t',\n",
       " 'Ransomware',\n",
       " '\\t\\t\\t\\t\\t',\n",
       " 'Ransomware',\n",
       " '\\t\\t\\t\\t\\t',\n",
       " 'Share',\n",
       " 'Share',\n",
       " 'Facebook',\n",
       " 'Facebook',\n",
       " 'Twitter',\n",
       " 'Twitter',\n",
       " 'Mail',\n",
       " 'Mail',\n",
       " 'Linkedin',\n",
       " 'Linkedin',\n",
       " 'Reddit',\n",
       " 'Reddit',\n",
       " 'Jim Walter',\n",
       " 'Jim Walter',\n",
       " 'Jim Walter is a Senior Threat Researcher at SentinelOne focusing on evolving trends, actors, and tactics within the thriving ecosystem of cybercrime and crimeware. He specializes in the discovery and analysis of emerging cybercrime \"services\" and evolving communication channels leveraged by mid-level criminal organizations. Jim joined SentinelOne following ~4 years at a security start-up, also focused on malware research and organized crime. Previously, he spent over 17 years at McAfee/Intel running their Threat Intelligence and Advanced Threat Research teams.',\n",
       " '\\n\\n\\t\\t\\t\\t\\n\\t\\t\\t',\n",
       " 'Jim Walter is a Senior Threat Researcher at SentinelOne focusing on evolving trends, actors, and tactics within the thriving ecosystem of cybercrime and crimeware. He specializes in the discovery and analysis of emerging cybercrime \"services\" and evolving communication channels leveraged by mid-level criminal organizations. Jim joined SentinelOne following ~4 years at a security start-up, also focused on malware research and organized crime. Previously, he spent over 17 years at McAfee/Intel running their Threat Intelligence and Advanced Threat Research teams.',\n",
       " '\\n\\n\\t\\t\\t\\t\\n\\t\\t\\t',\n",
       " 'Prev',\n",
       " 'Prev',\n",
       " 'A Guide to Ghidra Scripting Development for Malware Researchers',\n",
       " 'A Guide to Ghidra Scripting Development for Malware Researchers',\n",
       " 'Next',\n",
       " 'Next',\n",
       " 'Top 15 Essential Malware Analysis Tools',\n",
       " 'Top 15 Essential Malware Analysis Tools',\n",
       " 'Related Posts',\n",
       " '\\n\\t\\t\\t',\n",
       " 'Related Posts',\n",
       " '\\n\\t\\t\\t',\n",
       " 'Greyware’s Anatomy: The “Potentially Unwanted” are Upping Their Game',\n",
       " 'Greyware’s Anatomy: The “Potentially Unwanted” are Upping Their Game',\n",
       " 'January 7, 2021',\n",
       " '\\n\\n\\t\\t\\t\\t\\t',\n",
       " 'January 7, 2021',\n",
       " '\\n\\n\\t\\t\\t\\t\\t',\n",
       " 'Lazarus APT Targets Mac Users with Poisoned Word Document',\n",
       " 'Lazarus APT Targets Mac Users with Poisoned Word Document',\n",
       " 'April 25, 2019',\n",
       " '\\n\\n\\t\\t\\t\\t\\t',\n",
       " 'April 25, 2019',\n",
       " '\\n\\n\\t\\t\\t\\t\\t',\n",
       " 'Enter the Maze: Demystifying an Affiliate Involved in Maze (SNOW)',\n",
       " 'Enter the Maze: Demystifying an Affiliate Involved in Maze (SNOW)',\n",
       " 'July 22, 2020',\n",
       " '\\n\\n\\t\\t\\t\\t\\t',\n",
       " 'July 22, 2020',\n",
       " '\\n\\n\\t\\t\\t\\t\\t',\n",
       " 'Sign Up',\n",
       " 'Sign Up',\n",
       " 'Facebook',\n",
       " '\\n\\t',\n",
       " 'Facebook',\n",
       " '\\n\\t',\n",
       " 'Twitter',\n",
       " '\\n\\t',\n",
       " 'Twitter',\n",
       " '\\n\\t',\n",
       " 'Linkedin',\n",
       " '\\n\\t',\n",
       " 'Linkedin',\n",
       " '\\n\\t',\n",
       " 'Get notified when we post new content.',\n",
       " '\\n\\t',\n",
       " 'Get notified when we post new content.',\n",
       " '\\n\\t',\n",
       " 'Thanks!  Keep an eye out for new content!',\n",
       " '\\n\\t',\n",
       " 'Thanks!  Keep an eye out for new content!',\n",
       " '\\n\\t',\n",
       " 'Popular Posts',\n",
       " '\\n\\t\\t\\t',\n",
       " 'Popular Posts',\n",
       " '\\n\\t\\t\\t',\n",
       " 'Detecting macOS.GMERA Malware Through Behavioral Inspection',\n",
       " 'Detecting macOS.GMERA Malware Through Behavioral Inspection',\n",
       " ' behavioral detection, GMERA malware, macOS, Yara\\t\\t\\t\\t\\t\\t\\t\\t',\n",
       " ' behavioral detection, GMERA malware, macOS, Yara\\t\\t\\t\\t\\t\\t\\t\\t',\n",
       " 'RIG Exploit Kit Chain Internals',\n",
       " 'RIG Exploit Kit Chain Internals',\n",
       " ' reverse engineeering, RIG Exploit Kit, Vitali Kremez, Zero2Hero\\t\\t\\t\\t\\t\\t\\t\\t',\n",
       " ' reverse engineeering, RIG Exploit Kit, Vitali Kremez, Zero2Hero\\t\\t\\t\\t\\t\\t\\t\\t',\n",
       " 'Trickbot Update: Brief Analysis of a Recent Trickbot Payload',\n",
       " 'Trickbot Update: Brief Analysis of a Recent Trickbot Payload',\n",
       " ' banking trojan, phishing, trickbot\\t\\t\\t\\t\\t\\t\\t\\t',\n",
       " ' banking trojan, phishing, trickbot\\t\\t\\t\\t\\t\\t\\t\\t',\n",
       " 'Gootkit Banking Trojan | Part 3: Retrieving the Final Payload',\n",
       " 'Gootkit Banking Trojan | Part 3: Retrieving the Final Payload',\n",
       " ' banking trojan, Gootkit, reverse engineering, Zero2Hero\\t\\t\\t\\t\\t\\t\\t\\t',\n",
       " ' banking trojan, Gootkit, reverse engineering, Zero2Hero\\t\\t\\t\\t\\t\\t\\t\\t',\n",
       " 'Tweets',\n",
       " '\\n\\t\\t\\t\\t\\t\\t',\n",
       " 'Tweets',\n",
       " '\\n\\t\\t\\t\\t\\t\\t',\n",
       " '  Hiding a file, picture, message or even a video within another file can be an effective way for malware authors… ',\n",
       " '  Hiding a file, picture, message or even a video within another file can be an effective way for malware authors… ',\n",
       " 'https://t.co/tFqxVu6TV1',\n",
       " 'https://t.co/tFqxVu6TV1',\n",
       " '7 hours ago',\n",
       " '7 hours ago',\n",
       " '#HelloKitty',\n",
       " ' lacks the stealth of ',\n",
       " '#HelloKitty',\n",
       " ' lacks the stealth of ',\n",
       " '#Ryuk',\n",
       " ', ',\n",
       " '#Ryuk',\n",
       " ', ',\n",
       " '#REvil',\n",
       " ', and ',\n",
       " '#REvil',\n",
       " ', and ',\n",
       " '#Conti',\n",
       " ', but has still struck some notable targets, including… ',\n",
       " '#Conti',\n",
       " ', but has still struck some notable targets, including… ',\n",
       " 'https://t.co/4MmUrFnj9W',\n",
       " 'https://t.co/4MmUrFnj9W',\n",
       " '8 hours ago',\n",
       " '8 hours ago',\n",
       " \"️ Every day until March 28th, compete in SentinelOne's Apex Overdrive. Make it to the top of the leaderboard to wi… \",\n",
       " \"️ Every day until March 28th, compete in SentinelOne's Apex Overdrive. Make it to the top of the leaderboard to wi… \",\n",
       " 'https://t.co/plIa4AtRlY',\n",
       " 'https://t.co/plIa4AtRlY',\n",
       " '8 hours ago',\n",
       " '8 hours ago',\n",
       " ' Congratulations to Brian Jones of ',\n",
       " ' Congratulations to Brian Jones of ',\n",
       " '@Optiv',\n",
       " ', winner of our Silver Slugger Award for partner excellence!\\n\\n',\n",
       " '@Optiv',\n",
       " ', winner of our Silver Slugger Award for partner excellence!\\n\\n',\n",
       " '#infosec',\n",
       " '… ',\n",
       " '#infosec',\n",
       " '… ',\n",
       " 'https://t.co/kBIKxrusD1',\n",
       " 'https://t.co/kBIKxrusD1',\n",
       " '8 hours ago',\n",
       " '8 hours ago',\n",
       " 'Latest Posts',\n",
       " '\\n\\t\\t\\t',\n",
       " 'Latest Posts',\n",
       " '\\n\\t\\t\\t',\n",
       " 'New macOS malware XcodeSpy Targets Xcode Developers with EggShell Backdoor',\n",
       " 'New macOS malware XcodeSpy Targets Xcode Developers with EggShell Backdoor',\n",
       " ' March 18, 2021\\t\\t\\t\\t\\t\\t\\t\\t\\t\\t',\n",
       " ' March 18, 2021\\t\\t\\t\\t\\t\\t\\t\\t\\t\\t',\n",
       " 'Top 15 Essential Malware Analysis Tools',\n",
       " 'Top 15 Essential Malware Analysis Tools',\n",
       " ' March 11, 2021\\t\\t\\t\\t\\t\\t\\t\\t\\t\\t',\n",
       " ' March 11, 2021\\t\\t\\t\\t\\t\\t\\t\\t\\t\\t',\n",
       " 'HelloKitty Ransomware Lacks Stealth, But Still Strikes Home',\n",
       " 'HelloKitty Ransomware Lacks Stealth, But Still Strikes Home',\n",
       " ' March 08, 2021\\t\\t\\t\\t\\t\\t\\t\\t\\t\\t',\n",
       " ' March 08, 2021\\t\\t\\t\\t\\t\\t\\t\\t\\t\\t',\n",
       " 'A Guide to Ghidra Scripting Development for Malware Researchers',\n",
       " 'A Guide to Ghidra Scripting Development for Malware Researchers',\n",
       " ' March 03, 2021\\t\\t\\t\\t\\t\\t\\t\\t\\t\\t']"
      ]
     },
     "execution_count": 52,
     "metadata": {},
     "output_type": "execute_result"
    },
    {
     "data": {
      "application/javascript": "\n            setTimeout(function() {\n                var nbb_cell_id = 52;\n                var nbb_unformatted_code = \"# chain could add several generators together\\nlist(collapse(chain(windowed(content_texts, 1), windowed(content_texts, 2))))\";\n                var nbb_formatted_code = \"# chain could add several generators together\\nlist(collapse(chain(windowed(content_texts, 1), windowed(content_texts, 2))))\";\n                var nbb_cells = Jupyter.notebook.get_cells();\n                for (var i = 0; i < nbb_cells.length; ++i) {\n                    if (nbb_cells[i].input_prompt_number == nbb_cell_id) {\n                        if (nbb_cells[i].get_text() == nbb_unformatted_code) {\n                             nbb_cells[i].set_text(nbb_formatted_code);\n                        }\n                        break;\n                    }\n                }\n            }, 500);\n            ",
      "text/plain": [
       "<IPython.core.display.Javascript object>"
      ]
     },
     "metadata": {},
     "output_type": "display_data"
    }
   ],
   "source": [
    "# chain could add several generators together\n",
    "list(collapse(chain(windowed(content_texts, 1), windowed(content_texts, 2))))"
   ]
  },
  {
   "cell_type": "code",
   "execution_count": 54,
   "metadata": {
    "ExecuteTime": {
     "end_time": "2021-08-27T08:27:16.287311Z",
     "start_time": "2021-08-27T08:27:16.268879Z"
    }
   },
   "outputs": [
    {
     "data": {
      "text/plain": [
       "<generator object windowed at 0x128332f10>"
      ]
     },
     "execution_count": 54,
     "metadata": {},
     "output_type": "execute_result"
    },
    {
     "data": {
      "application/javascript": "\n            setTimeout(function() {\n                var nbb_cell_id = 54;\n                var nbb_unformatted_code = \"windowed(content_texts, 1)\";\n                var nbb_formatted_code = \"windowed(content_texts, 1)\";\n                var nbb_cells = Jupyter.notebook.get_cells();\n                for (var i = 0; i < nbb_cells.length; ++i) {\n                    if (nbb_cells[i].input_prompt_number == nbb_cell_id) {\n                        if (nbb_cells[i].get_text() == nbb_unformatted_code) {\n                             nbb_cells[i].set_text(nbb_formatted_code);\n                        }\n                        break;\n                    }\n                }\n            }, 500);\n            ",
      "text/plain": [
       "<IPython.core.display.Javascript object>"
      ]
     },
     "metadata": {},
     "output_type": "display_data"
    }
   ],
   "source": [
    "windowed(content_texts, 1)"
   ]
  },
  {
   "cell_type": "code",
   "execution_count": null,
   "metadata": {},
   "outputs": [],
   "source": []
  },
  {
   "cell_type": "code",
   "execution_count": null,
   "metadata": {},
   "outputs": [],
   "source": []
  }
 ],
 "metadata": {
  "kernelspec": {
   "display_name": "Python 3.6.13 ('magpie')",
   "language": "python",
   "name": "python3"
  },
  "language_info": {
   "codemirror_mode": {
    "name": "ipython",
    "version": 3
   },
   "file_extension": ".py",
   "mimetype": "text/x-python",
   "name": "python",
   "nbconvert_exporter": "python",
   "pygments_lexer": "ipython3",
   "version": "3.6.13"
  },
  "varInspector": {
   "cols": {
    "lenName": 16,
    "lenType": 16,
    "lenVar": 40
   },
   "kernels_config": {
    "python": {
     "delete_cmd_postfix": "",
     "delete_cmd_prefix": "del ",
     "library": "var_list.py",
     "varRefreshCmd": "print(var_dic_list())"
    },
    "r": {
     "delete_cmd_postfix": ") ",
     "delete_cmd_prefix": "rm(",
     "library": "var_list.r",
     "varRefreshCmd": "cat(var_dic_list()) "
    }
   },
   "types_to_exclude": [
    "module",
    "function",
    "builtin_function_or_method",
    "instance",
    "_Feature"
   ],
   "window_display": false
  },
  "vscode": {
   "interpreter": {
    "hash": "55050e98319b7073ef7d052c1c5d52cd576318600045c5fc014a2ed6fc3ecc4d"
   }
  }
 },
 "nbformat": 4,
 "nbformat_minor": 4
}
