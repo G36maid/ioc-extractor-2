{
 "cells": [
  {
   "cell_type": "code",
   "execution_count": 1,
   "metadata": {},
   "outputs": [],
   "source": [
    "import sys\n",
    "sys.path.append(\"../\")"
   ]
  },
  {
   "cell_type": "code",
   "execution_count": 3,
   "metadata": {},
   "outputs": [],
   "source": [
    "import pandas as pd\n",
    "import numpy as np"
   ]
  },
  {
   "cell_type": "code",
   "execution_count": 9,
   "metadata": {},
   "outputs": [],
   "source": [
    "from magpie.src.html_analyzer import Analyzer\n",
    "article = \"../data/Outbreak of Follina in Australia - Avast Threat Labs.html\"\n",
    "article_list = Analyzer.clean_article(article)"
   ]
  },
  {
   "attachments": {},
   "cell_type": "markdown",
   "metadata": {},
   "source": [
    "---\n",
    "### Get Plain Text "
   ]
  },
  {
   "cell_type": "code",
   "execution_count": 8,
   "metadata": {},
   "outputs": [],
   "source": [
    "from readability import Document\n",
    "from bs4 import BeautifulSoup\n",
    "import unicodedata\n",
    "import string\n",
    "remove_words = '!\"#$%&\\'()*+,-.:;<=>?@[\\\\]^_`{|}~' + string.whitespace"
   ]
  },
  {
   "cell_type": "code",
   "execution_count": 13,
   "metadata": {},
   "outputs": [],
   "source": [
    "class ModifyTags(object):\n",
    "\n",
    "    def __init__(self, soup, tags):\n",
    "        self.soup = soup\n",
    "        self.replace_table_tag()\n",
    "        self.delete_tags(tags)\n",
    "\n",
    "    def replace_table_tag(self):\n",
    "        table = self.soup.find_all('table')\n",
    "        for row in table:\n",
    "            allcols = row.findAll('tr')\n",
    "            for col in allcols:\n",
    "                thestrings = [s for s in col.findAll(string=True)]\n",
    "                thestrings.append(' ')\n",
    "                thetext = ' '.join(thestrings)\n",
    "                new_tag = self.soup.new_tag('p')\n",
    "                new_tag.string = thetext\n",
    "                self.soup.find('table').append(new_tag)\n",
    "            self.soup.find('tbody').decompose()\n",
    "\n",
    "    def delete_tags(self, tags: list[str]):\n",
    "        for drop_tags in self.soup.find_all(tags): # drop <pre> and <img> tag\n",
    "            drop_tags.decompose()\n"
   ]
  },
  {
   "cell_type": "code",
   "execution_count": 14,
   "metadata": {},
   "outputs": [],
   "source": [
    "def preprocess_article(article):\n",
    "    with open(article, encoding=\"utf-8\") as file:\n",
    "        data = file.read()\n",
    "    doc = Document(data)  # from python library readability\n",
    "    summary = doc.summary(html_partial=True) # get readable content with html tags\n",
    "    soup = BeautifulSoup(summary, \"lxml\")\n",
    "    ModifyTags(soup, tags=['pre', 'img'])\n",
    "    print(soup.prettify)\n",
    "    # cleantext = unicodedata.normalize(\"NFKD\",soup.text)\n",
    "    # input = [i.rstrip(remove_words,) for i in cleantext.splitlines() if (i != \"\" and i != \" \")] # sequence\n",
    "    # return input"
   ]
  },
  {
   "cell_type": "code",
   "execution_count": 15,
   "metadata": {},
   "outputs": [
    {
     "name": "stdout",
     "output_type": "stream",
     "text": [
      "<bound method Tag.prettify of <html><body><div><div class=\"post-content\">\n",
      "<ul><li>Cisco Talos has observed a threat actor deploying a previously unidentified botnet program Talos is calling “Horabot,” which delivers a known banking trojan and spam tool onto victim machines in a campaign that has been ongoing since at least November 2020.</li><li>The threat actor appears to be targeting Spanish-speaking users in the Americas and, based on our analysis, may be located in Brazil.</li><li>Horabot enables the threat actor to control the victim’s Outlook mailbox, exfiltrate contacts’ email addresses, and send phishing emails with malicious HTML attachments to all addresses in the victim’s mailbox.</li><li>The banking trojan can collect the victim’s login credentials for various online accounts, operating system information and keystrokes. It also steals one-time security codes or soft tokens from the victim’s online banking applications.</li><li>The spam tool compromises Yahoo, Gmail and Outlook webmail accounts, enabling the threat actor to take control of those mailboxes, exfiltrate their contacts’ email addresses, and send spam emails.</li></ul><h1 id=\"victimology\">Victimology</h1><p>The attacks predominantly target users in Mexico, with a few infections in Uruguay, Brazil, Venezuela, Argentina, Guatemala and Panama. In analyzing the phishing emails used in the campaign, Talos identified that users in organizations across several business verticals — including accounting, construction and engineering, wholesale distributing and investment firms — have been affected. However, the attacker uses Horabot and the spam tool in this campaign to further propagate the attack by sending additional phishing emails to the victim’s contacts, meaning Spanish-speaking users from organizations in additional verticals are likely also affected. </p><figure class=\"kg-card kg-image-card\"></figure><h1 id=\"attacker-infrastructure-dates-back-to-nov-2020\">Attacker infrastructure dates back to Nov. 2020</h1><p>Talos discovered that the attacker in this campaign is using multiple hosts, including an Amazon Web Services (AWS) Elastic Compute Cloud (EC2) instance, accessed through its public URL, to host the malicious files. During our analysis, Talos observed that a malicious server at IP address 185[.]45[.]195[.]226 hosted the PowerShell downloader script and had an open directory that the attacker eventually disabled. </p><p>Another malicious server, 216[.]238[.]70[.]224, hosted the ZIP file containing the payloads. This is most likely a virtual private server (VPS) behind which the attacker has parked the actual command and control (C2) server, leaving us unable to identify the actual C2. The attacker also used lookalike domains in this campaign to carry out malicious activities and evade network detection.</p><p>Based on Talos’ analysis of the domain registration information for the attacker’s infrastructure, Talos assesses with high confidence that this campaign began in November 2020 and has been ongoing through 2023. According to WHOIS records for the domain tributaria[.]website, used in this campaign to host the attacker’s tools as well as exfiltrated data, the domain was registered in July 2022 and the registrant was based out of Brazil. This domain name also resembled the legitimate Mexican Tax Agency domain, a tactic the attacker likely adopted to disguise malicious traffic. The DNS requests to tributaria[.]website, as observed in Cisco Umbrella, are shown below.</p><figure class=\"kg-card kg-image-card\"></figure><p>In analyzing the SSL certificates of tributaria[.]website, we spotted that the certificates with serial numbers 03b6b83943ec043082a8614186921afa306b and 03eeab4d2874f31ee662ea7f602b73b05633 are shared with four other domains. Based on our analysis of the domain registration period and the URLs associated with the four domains, they belong to the same campaign that has been ongoing since at least November 2020.</p><table><colgroup><col/><col/></colgroup><p>Malicious domains Registration period  </p><p>m9b4s2[.]site  November 2020  </p><p>tributaria[.]website July 2022  </p><p>wiqp[.]xyz August 2022  </p><p>ckws[.]info January 2023  </p><p>amarte[.]store   March 2023  </p><p>Shortcut files Relative path Command line arguments  </p><p>_upyqta2_JAA.lnk ..\\..\\..\\..\\..\\..\\..\\..\\..\\_upyqta2_J\\_upyqta2_Ji7.exe  </p><p>_upyqta2_JAT.lnk  ..\\..\\..\\..\\..\\..\\..\\..\\..\\_upyqta2_J\\_upyqta2_J.exe C:\\_upyqta2_J\\_upyqta2_J.at  </p><p>_upyqta2_JEX.lnk ..\\..\\..\\..\\..\\..\\..\\..\\..\\_upyqta2_J\\_upyqta2_J.exe C:\\_upyqta2_J\\_upyqta2_J.ai  </p><p>_upyqta2_Jy.lnk ..\\..\\..\\..\\..\\..\\..\\..\\Public\\DESKTOP-UT9NJ4Sy.cmd  </p><p>_upyqta2_J.lnk ..\\..\\..\\..\\..\\..\\..\\..\\Public\\DESKTOP-UT9NJ4S.cmd   </p><p>Files dropped   Description  </p><p>_upyqta2_J.ai Compiled AutoIt script  </p><p>_upyqta2_J.at Compiled AutoIt script  </p><p>_upyqta2_J.exe AutoIt interpreter  </p><p>_upyqta2_J.ia Encrypted trojan DLL  </p><p>_upyqta2_J.mdat Encrypted Spam tool DLL  </p><p>_upyqta2_Ji7.exe Kinit.exe, a legitimate executable  </p><p>jli.dll Banking trojan   </p><p>MSVCR100.dll Legitimate DLL  </p><p>WebView2Loader.dll Legitimate DLL  </p></table><h1 id=\"multi-stage-attack-chain-uses-powershell-downloader-and-dll-sideloading\">Multi-stage attack chain uses PowerShell downloader and DLL sideloading</h1><p>This campaign involves a multi-stage attack chain that begins with a phishing email and leads to payload delivery through the execution of a PowerShell downloader script and sideloading to legitimate executables.</p><figure class=\"kg-card kg-image-card\"></figure><p>The infection starts with an income tax-themed phishing email written in Spanish, disguising itself as a tax receipt notification and enticing users to open the attached malicious HTML file. <br/></p><figure class=\"kg-card kg-image-card kg-card-hascaption\"><figcaption>Sample phishing email.</figcaption></figure><p>When a victim opens the HTML file attachment, an embedded URL is launched in the victim’s browser, redirecting to another malicious HTML file from an attacker-controlled AWS EC2 instance. The content displayed on the victim’s browser lures them to click an embedded malicious hyperlink which downloads a RAR file.</p><figure class=\"kg-card kg-image-card kg-card-hascaption\"><figcaption>Disguised malicious web page.</figcaption></figure><p>The RAR file contains a batch file with a CMD extension that is executed when the victim opens the contents of the file. The batch file downloads the PowerShell downloader script from an attacker-controlled server and executes it through the PowerShell commands. The PowerShell downloader script will download a ZIP file that contains the payload DLLs and a few legitimate executables and DLLs. It creates Windows shortcut files configured to run the payloads in the startup folder of the victim’s machine and restarts the machine after 10 seconds. <br/><br/>After the victim’s machine is rebooted, the malicious Windows startup files run the payloads by sideloading them to the legitimate executables and downloading and executing two other PowerShell scripts from a different attacker-controlled server. One is the PowerShell downloader script, which the attacker attempts to execute to re-infect the victim’s machine, and another is Horabot.</p><h1 id=\"three-layer-infection-chain-delivers-and-detonates-the-payloads\">Three-layer infection chain delivers and detonates the payloads</h1><h2 id=\"malicious-batch-file-downloads-the-powershell-downloader\">Malicious batch file downloads the PowerShell downloader</h2><p>The RAR file containing a malicious batch file with a .cmd extension is downloaded to the user’s machine. Per the instructions on the HTML page, if the user opens the CMD file, the malicious batch script executes an embedded PowerShell command to download the next-stage PowerShell script from the server and execute it on the victim’s machine. </p><figure class=\"kg-card kg-image-card kg-card-hascaption\"><figcaption>Downloader batch script.</figcaption></figure><h2 id=\"powershell-script-downloads-the-payloads\">PowerShell script downloads the payloads</h2><p>The malicious PowerShell downloader script launches several processes that download the payloads and reboots the victim’s machine. The script is heavily obfuscated with random symbols that substitute the instructions during the run-time and base64-encoded strings. In the initial stage of the execution, the script decodes the base64-encoded strings and initializes them. It executes a function that uses alphanumeric characters and the special character “_” to generate a random name and creates a folder with the random name in the root directory of the victim’s machine. The random name generated by the sample during our analysis was “_upyqta2_J”. The script uses this random name eventually to create other folders and files.</p><p>The script creates two other malicious batch scripts with the extension .cmd in the folder “/Users/Public.” Then it creates two Windows shortcut files in the Windows startup folder using the Internet Explorer application icon and the target paths pointing to the two dropped batch scripts. &lt;deskto_name&gt;S.cmd and &lt;desktop_name&gt;Sy.cmd are the naming conventions used. </p><figure class=\"kg-card kg-image-card kg-card-hascaption\"><figcaption>A snippet of the PowerShell downloader script.</figcaption></figure><p><br/>The script also creates three more Windows shortcut files in the victim’s machine startup folder, with the details of the target path pointing to the folders where the payloads are eventually downloaded. The attacker used the Internet Explorer icon for the dropped shortcut files. Talos compiled a table showing the malicious Windows shortcut files and their relative paths with the command line arguments. </p><table><colgroup><col/><col/><col/></colgroup></table><p>Next, the script downloads a malicious ZIP file — “m.zip” — from a server using the URL “hxxp[://]216[.]238[.]70[.]224/20/t/e/m.zip” to the random name folder. The script renames the downloaded file with a random name and deflates its contents. The deflated contents are renamed using random characters, then the malicious ZIP file is deleted. The script also writes the path of the executable file, “_upyqta2_Ji7.exe”, to the class’s registry key “HKEY_CURRENT_USER\\software\\Classes\\ms-settings\\shell\\open\\command” and restarts the victim’s machine after 10 seconds using the command “shutdown /r /t 10”.</p><p>The deflated contents of the malicious ZIP file are shown in the below table with their description.</p><table><colgroup><col/><col/></colgroup></table><h2 id=\"malicious-shortcut-files-detonate-the-payloads-after-system-restart\">Malicious shortcut files detonate the payloads after system restart</h2><p>After the PowerShell downloader reboots the victim’s machine, the malicious Windows shortcut files dropped in the Windows startup folder are run, executing the payloads used in the attack. This section describes the behavior of each of the shortcut files.</p><h3 id=\"upyqta2jaalnk\">_upyqta2_JAA.lnk<br/></h3><figure class=\"kg-card kg-image-card\"></figure><p>This link file “_upyqta2_JAA.lnk” will sideload a malicious DLL called “jli.dll,” a banking trojan, by executing “_upyqta2_Ji7.exe,” which is actually a legitimate copy of “kinit.exe” that the PowerShell downloader script drops.</p><h3 id=\"upyqta2jexlnk\">_upyqta2_JEX.lnk<br/></h3><figure class=\"kg-card kg-image-card\"></figure><p>This link file executes the compiled AutoIt script “_upyqta2_J.ai” by running the executable “ _upyqta2_J.exe”, which is a legitimate AutoIt interpreter. The AutoIt script decrypts the encrypted “_upyqta2_J.ia” and drops the DLL “_upyqta2_J.ia.a1” with a spoofed file extension that has a hardcoded malicious function “A040822_1”. Then, the AutoIt script will sideload the DLL “_upyqta2_J.ia.a1” to the AutoIt interpreter process and execute the malicious function “A040822_1” with the parameter “STRUCT.” The decrypted malicious DLL “_upyqta2_J.ia.a1” is another copy of the banking trojan with additional stealer capabilities such as keylogging, copying of clipboard data, screenshot capturing and mouse tracking. </p><figure class=\"kg-card kg-image-card kg-card-hascaption\"><figcaption>A snippet of the AutoIt code _Upyqta2_J.ai</figcaption></figure><h3 id=\"upyqta2jatlnk\">_upyqta2_JAT.lnk<br/></h3><figure class=\"kg-card kg-image-card\"></figure><p>This link file performs the same steps as “_upyqta2_JEX.lnk” by executing the AutoIt script “_upyqta2_J.at” to decrypt “ _upyqta2_J.mdat” and create the DLL “_upyqta2_J.mdat.a1” with a spoofed extension. Then, the AutoIt script sideloads the DLL to the AutoIt interpreter process and executes the malicious function “B080223_AT” with the parameter “STRUCT”. The malicious DLL “_upyqta2_J.mdat.a1” is a spam tool with information-stealing capability. </p><figure class=\"kg-card kg-image-card kg-card-hascaption\"><figcaption>A snippet of the AutoIt code _Upyqta2_J.at</figcaption></figure><h3 id=\"upyqta2jlnk\">_upyqta2_J.lnk <br/></h3><figure class=\"kg-card kg-image-card\"></figure><p>This link file executes one of the dropped batch files, “&lt;desktop-name&gt;S.cmd.” The batch file executes an embedded PowerShell command to download the PowerShell downloader script from the attacker-controlled server using the URL hxxp[://]tributaria[.]website/esp/12/151222/up/up” and executes it. The attacker uses the PowerShell downloader to reinfect the victim’s machine. </p><h3 id=\"upyqta2jylnk\">_upyqta2_Jy.lnk</h3><p></p><p>This link file executes another dropped batch file, “&lt;desktop_name&gt;Sy.cmd”, which executes a PowerShell command to download and run the Horabot “au” using the URL hxxp[://]tributaria[.]website/esp/12/151222/au/au.</p><h1 id=\"payloads\">Payloads</h1><p>Talos found that the payloads employed by the attacker in this campaign are designed to steal sensitive information, evade detection and disseminate additional phishing emails to the victim’s contacts. The banking trojan targets the victim’s sensitive information, such as login credentials and financial transaction security codes, and logs keystrokes and manipulates the victim machine’s clipboard data. The trojan also has anti-analysis and anti-detection capabilities to evade the sandbox and virtual environments. The spam tool and newly identified Horabot are employed in the attack to compromise the victim’s mailboxes, steal their contact’s email addresses, and send phishing emails to the victim’s contacts.</p><h2 id=\"banking-trojan-targets-victim%E2%80%99s-login-credentials-and-financial-information\">Banking trojan targets victim’s login credentials and financial information</h2><p>The banking trojan identified in this campaign, a 32-bit Windows DLL written in the Delphi programming language and packed with Themida packer, can collect system information, credentials and user activity. This trojan is based on a tool called <a href=\"https://github.com/Maickonn/Delphi_Remote_Access_PC\">Delphi_Remote_Access_PC</a>, which is publicly available on GitHub. It also uses similar techniques as Brazilian banking trojans reported by other security researchers at <a href=\"https://www.welivesecurity.com/2020/08/13/mekotio-these-arent-the-security-updates-youre-looking-for/\">ESET</a> and <a href=\"https://research.checkpoint.com/2021/mekotio-banker-returns-with-improved-stealth-and-ancient-encryption/\">Check Point</a> in the past. </p><p>The trojan performs surveillance on the victim’s machine by collecting system information such as hostnames, IPv4 address, operating system version, disk volume information, disk size and anti-virus software information, and gets the system’s default language. The reconnaissance data is exfiltrated to the attacker-controlled server through an HTTP POST request to the URL in the below format.</p><p>hxxp[://]216[.]238[.]70[.]224/20/a/20/index[.]php?AT=&lt;username&gt;%20&lt;hostname&gt;%20&lt;Operating system version&gt;&amp;MD=&lt;Antivirus software&gt;</p><p>The trojan has remote desktop management capabilities such as creating and deleting directories on the victim’s machine, checking if a file on the victim’s filesystem exists and gets the file’s attributes, collecting size and version information, and downloading files from a URL. It also has information-stealing capabilities, such as logging keystrokes via polling and application hooks, capturing screenshots, manipulating the victim’s machine clipboard and tracking the mouse's events.</p><p>It monitors the open application windows on the victim’s desktop, overlays fake windows, and manages the pop-up windows to steal sensitive information. These pop-ups are stored in TFORMS in the RCData section of the executable. The below screenshots show some of the forms configured to steal one-time security codes or soft tokens from the victim’s online banking web applications. </p><figure class=\"kg-card kg-image-card kg-card-hascaption\"><figcaption>Banking trojan forms in the binary resource section. </figcaption></figure><p>Talos spotted hardcoded SQL commands in the trojan binary designed to collect login data from the Google Chrome user profile folders by writing it to a database source file called “login_data.sql”, and creating SQL queries to produce the database tables to store the stolen data. The dynamic analysis behavior in our analysis environment showed us that the database source file “login_data.sql” contains the login details and the associated URLs from the Google Chrome database files. </p><figure class=\"kg-card kg-image-card kg-card-hascaption\"><figcaption>Database table containing the victim’s credentials. </figcaption></figure><p>The trojan has several anti-analysis and anti-virtual machine (VM) techniques built-in to avoid analysis in automated sandboxes and to thwart debugging:</p><ul><li>Detects the presence of debuggers through APIs IsDebuggerPresent, and OutputDebugStringW, and checks for system breakpoints.</li><li>Creates processes enabling the debug privileges by adjusting the process token “Debug,” readings the Process Environment Block, and queries the DebugPort to check if the malware is being debugged.</li><li>Checks for the existence of the anti-virus products such as AVG and Avast by checking for the DLLs avghookx.dll, avghooka.dll and snxhk.dll.</li><li>Detects the sandbox environments such as SunBelt and Joe sandboxes.</li><li>Checks the registry keys to detect virtual environments such as VMWare, Virtual Box, Wine, Microsoft Hyper-V or Windows Virtual PC.</li></ul><p>A spam tool acts as another payload in this campaign, enabling the attacker to take over the victim’s other email accounts and send spam emails to the contacts found within them. The spam tool is a 32-bit DLL written in Delphi and, when run on the victim’s machine, will attempt to compromise the victim’s login credentials for webmail services such as Yahoo, Gmail, and Hotmail. Upon compromising the credentials, the spam tool takes full control of the victim’s email account, creates spam messages and sends them to the email IDs found in the victim’s mailbox.  </p><p>The tool also exfiltrates the email address to the C2 server using an HTTP POST request. The spam tool also showed us information-stealing capabilities such as logging keystrokes, capturing screenshots and tracking or intercepting the mouse events on the victim’s machine. </p><figure class=\"kg-card kg-image-card kg-card-hascaption\"><figcaption>The decryption function decrypts the URL pointing to the attacker-controlled server.</figcaption></figure><h2 id=\"new-horabot-deployed-to-spread-the-infection\">New Horabot deployed to spread the infection</h2><p>Talos discovered Horabot, an Outlook Phishing botnet program written in PowerShell. It has embedded Visual Basic code that enables the threat actor to control the victim’s Outlook mailbox, exfiltrate contacts’ email addresses, and send phishing emails with malicious HTML attachments to all addresses in the victim’s mailbox. Phishing emails are themed as a tax receipt or service invoice and the attacker is using the email subject and body, in the format shown below:</p><p>Phishing email subject:</p><ul><li>Se adjunta la factura del servicio &lt;calendar month in Spanish&gt; :ATT &lt;dd/mm/yyy&gt; &lt;hh:mm:ss&gt; &lt;AM/PM&gt;</li><li>Comprobante Fiscal Digital &lt;calendar month in Spanish&gt; :ATT &lt;dd/mm/yyy&gt; &lt;hh:mm:ss&gt; &lt;AM/PM&gt; </li></ul><p>Phishing email body: </p><ul><li>consulate los datos adjuntos, por favor. &lt;dd/mm/yyy&gt; &lt;hh:mm:ss&gt; &lt;AM/PM&gt;</li></ul><p>The end game of the attacker is to deliver the banking trojan to steal the victim's creds and financial data, along with it they are delivering Horabot and separate spam tool to propagate the infection by sending the phishing emails to all of the validated email IDs in the victim's mailbox. Attacker is using this technique to minimise the chances of their phishing infracture being tracked.</p><figure class=\"kg-card kg-image-card\"></figure><p>Horabot, during its initial phase of execution, initializes the victim’s desktop Outlook application by loading “Microsoft.Office.Interop.Outlook” namespace to the PowerShell instance to create the Outlook application object for loading the MAPI namespace. The script also initializes an array to store the stolen email addresses and creates a folder called “a160323” in “C:\\Users\\Public\\.” as an infection marker. </p><figure class=\"kg-card kg-image-card kg-card-hascaption\"><figcaption>A function that initializes the outlook application object. </figcaption></figure><p>After initialization, the script looks for the Outlook data files from the victim profile’s Outlook application data folder. It loads and accesses the victim’s address book and contacts if they exist. It enumerates all folders and emails in the victim’s Outlook data file and extracts email addresses from the emails’ sender, recipients, CC and BCC fields. During this process, the script checks the “AddressEntryUserType” object values to determine if the email address is one of the types listed below:</p><ul><li>Exchange agent</li><li>Exchange organization</li><li>Exchange distribution list</li><li>Exchange public folder</li><li>Address that belongs to the same or different exchange forest</li><li>Address that uses Lightweight Directory Access Protocol [LDAP]</li><li>Address that uses Simple Mail Transfer Protocol [SMTP]</li></ul><figure class=\"kg-card kg-image-card kg-card-hascaption\"><figcaption>Function that enumerates and collects email addresses.</figcaption></figure><p>The script has an email address format validation function that compares all of the extracted email addresses with a regular expression. After they are successfully validated, the addresses are added to the email address collection array. </p><figure class=\"kg-card kg-image-card kg-card-hascaption\"><figcaption>A function that validates email address format. </figcaption></figure><p>Next, the script writes the extracted email addresses from the array to a file called “.Outlook” created by the script in the roaming user profile’s Microsoft application data folder.</p><p>Then the script encodes the email addresses in the “.Outlook” file to a data stream. Using the GetRequestStream function, the script requests a data stream from the C2 server through the URL hxxp[://]139[.]177[.]193[.]74/esp/12/151222/au/tst/index[.]php?list and upon the successful response, the encoded email addresses are exfiltrated. </p><figure class=\"kg-card kg-image-card kg-card-hascaption\"><figcaption>A function that exfiltrates email addresses.</figcaption></figure><p>After exfiltrating the email addresses, the script creates a folder “fb” in the Public user folder and creates an HTML file in it, named “adjuntos_1503.html” in our sample analysis. Then the script downloads the contents of an HTML file stored in an attacker-controlled server and writes it to the HTML file dropped in the “fb” folder. The HTML file has an embedded malicious URL “hxxps[://]facturacionmarzo[.]cloud/e/archivos[.]pdf[.]html” in its metadata section. Next, the script constructs an email with a hardcoded subject and body and attaches the HTML file from the “fb” folder. Then the phishing email is sent to the list of extracted email addresses one at a time, deleting the “fb” folder to cover its paths and avoid detection. </p><figure class=\"kg-card kg-image-card kg-card-hascaption\"><figcaption>A function that sends phishing emails.</figcaption></figure><h1 id=\"coverage\">Coverage</h1><figure class=\"kg-card kg-image-card\"></figure><p><br/><a href=\"https://www.cisco.com/c/en/us/products/security/amp-for-endpoints/index.html\">Cisco Secure Endpoint</a> (formerly AMP for Endpoints) is ideally suited to prevent the execution of the malware detailed in this post. Try Secure Endpoint for free <a href=\"https://www.cisco.com/c/en/us/products/security/amp-for-endpoints/free-trial.html?utm_medium=web-referral?utm_source=cisco&amp;utm_campaign=amp-free-trial&amp;utm_term=pgm-talos-trial&amp;utm_content=amp-free-trial\">here.</a></p><p><a href=\"https://www.cisco.com/c/en/us/products/security/web-security-appliance/index.html\">Cisco Secure Web Appliance</a> web scanning prevents access to malicious websites and detects malware used in these attacks.</p><p><a href=\"https://www.cisco.com/c/en/us/products/security/email-security/index.html\">Cisco Secure Email</a> (formerly Cisco Email Security) can block malicious emails sent by threat actors as part of their campaign. You can try Secure Email for free <a href=\"https://www.cisco.com/c/en/us/products/security/cloud-mailbox-defense?utm_medium=web-referral&amp;utm_source=cisco&amp;utm_campaign=cmd-free-trial-request&amp;utm_term=pgm-talos-trial\">here</a>.</p><p><a href=\"https://www.cisco.com/c/en/us/products/security/firewalls/index.html\">Cisco Secure Firewall</a> (formerly Next-Generation Firewall and Firepower NGFW) appliances such as <a href=\"https://www.cisco.com/c/en/us/products/collateral/security/firepower-ngfw-virtual/datasheet-c78-742858.html\">Threat Defense Virtual</a>, <a href=\"https://www.cisco.com/c/en/us/products/security/adaptive-security-appliance-asa-software/index.html\">Adaptive Security Appliance</a> and <a href=\"https://meraki.cisco.com/products/appliances\">Meraki MX</a> can detect malicious activity associated with this threat.</p><p><a href=\"https://www.cisco.com/c/en/us/products/security/threat-grid/index.html\">Cisco Secure Malware Analytics</a> (Threat Grid) identifies malicious binaries and builds protection into all Cisco Secure products.</p><p><a href=\"https://umbrella.cisco.com/\">Umbrella</a>, Cisco's secure internet gateway (SIG), blocks users from connecting to malicious domains, IPs, and URLs, whether users are on or off the corporate network. Sign up for a free trial of Umbrella <a href=\"https://signup.umbrella.com/?utm_medium=web-referral?utm_source=cisco&amp;utm_campaign=umbrella-free-trial&amp;utm_term=pgm-talos-trial&amp;utm_content=automated-free-trial\">here</a>.</p><p><a href=\"https://www.cisco.com/c/en/us/products/security/web-security-appliance/index.html\">Cisco Secure Web Appliance</a> (formerly Web Security Appliance) automatically blocks potentially dangerous sites and tests suspicious sites before users access them.</p><p>Additional protections with context to your specific environment and threat data are available from the <a href=\"https://www.cisco.com/c/en/us/products/security/firepower-management-center/index.html\">Firewall Management Center</a>.</p><p><a href=\"https://signup.duo.com/?utm_source=talos&amp;utm_medium=referral&amp;utm_campaign=duo-free-trial\">Cisco Duo</a> provides multi-factor authentication for users to ensure only those authorized are accessing your network.</p><p>Open-source Snort Subscriber Rule Set customers can stay up to date by downloading the latest rule pack available for purchase on <a href=\"https://www.snort.org/products\">Snort.org</a>. Snort SIDs for this threat are 61839-61856 for Snort 2 and 300569-300577 for Snort 3.</p><p>ClamAV detections are available for this threat:</p><p>Txt.Loader.Horabot-10003071-0</p><p>Ps1.Downloader.Horabot-10003078-0</p><p>Win.Trojan.DelphiTrojanBanking-10003087-0</p><p>Win.Trojan.DelphiTrojanBanking-10003088-0</p><p>Txt.Malware.Horabot-10003089-0</p><p>Txt.Malware.Horabot-10003090-0</p><p>Txt.Malware.Horabot-10003091-0</p><p>Win.Tool.HorabotSpamTool-10003092-0</p><h1 id=\"iocs\">IOCs</h1><p>Indicators of Compromise associated with this threat can be found <a href=\"https://github.com/Cisco-Talos/IOCs/tree/main/2023/05/new-horabot-targets-americas.txt\">here</a>.<br/><br/></p>\n",
      "</div>\n",
      "</div></body></html>>\n"
     ]
    }
   ],
   "source": [
    "# article = \"../data/hafnium-targeting-exchange-servers.html\"\n",
    "# article = \"../data/hellokitty-ransomware-lacks-stealth-but-still-strikes-home.html\"\n",
    "# article = \"../data/Emotet Returns With New Methods of Evasion.html\"\n",
    "# article = \"../data/Hitching a ride with Mustang Panda - Avast Threat Labs.html\"\n",
    "# article = \"../data/Outbreak of Follina in Australia - Avast Threat Labs.html\"\n",
    "# article = \"../data/Dota 2 Under Attack_ How a V8 Bug Was Exploited in the Game - Avast Threat Labs.html\"\n",
    "article = \"../data/new-horabot-targets-americas.html\"\n",
    "article_list = preprocess_article(article)\n",
    "article_list"
   ]
  },
  {
   "attachments": {},
   "cell_type": "markdown",
   "metadata": {},
   "source": [
    "---\n",
    "### Import EntityParser"
   ]
  },
  {
   "cell_type": "code",
   "execution_count": 2,
   "metadata": {},
   "outputs": [],
   "source": [
    "from magpie.src.entity import (\n",
    "    attack_technique,\n",
    "    bitcoin_address,\n",
    "    cve,\n",
    "    defender_threat,\n",
    "    domain,\n",
    "    email,\n",
    "    filehash_md5,\n",
    "    filehash_sha1,\n",
    "    filehash_sha256,\n",
    "    filepath,\n",
    "    hostname,\n",
    "    ipv4,\n",
    "    ipv6,\n",
    "    # keyword,\n",
    "    sslcert_fingerprint,\n",
    "    uri,\n",
    "    url,\n",
    ")\n",
    "\n",
    "parser = (\n",
    "    defender_threat.parser\n",
    "    | url.parser\n",
    "    | uri.parser\n",
    "    | email.parser\n",
    "    | hostname.parser\n",
    "    | domain.parser\n",
    "    | sslcert_fingerprint.parser\n",
    "    | ipv6.parser\n",
    "    | ipv4.parser\n",
    "    | cve.parser\n",
    "    | attack_technique.parser\n",
    "    | filepath.parser\n",
    "    | filehash_sha256.parser  # len = 64\n",
    "    | filehash_sha1.parser  # len = 40\n",
    "    | bitcoin_address.parser  # len = 34\n",
    "    | filehash_md5.parser  # len = 32\n",
    "    # | keyword.make_parser(self.extracted_keywords)  # generate keywords parser\n",
    ")"
   ]
  },
  {
   "cell_type": "code",
   "execution_count": 6,
   "metadata": {},
   "outputs": [
    {
     "data": {
      "text/plain": [
       "['',\n",
       " \"Cisco Talos has observed a threat actor deploying a previously unidentified botnet program Talos is calling “Horabot,” which delivers a known banking trojan and spam tool onto victim machines in a campaign that has been ongoing since at least November 2020.The threat actor appears to be targeting Spanish-speaking users in the Americas and, based on our analysis, may be located in Brazil.Horabot enables the threat actor to control the victim’s Outlook mailbox, exfiltrate contacts’ email addresses, and send phishing emails with malicious HTML attachments to all addresses in the victim’s mailbox.The banking trojan can collect the victim’s login credentials for various online accounts, operating system information and keystrokes. It also steals one-time security codes or soft tokens from the victim’s online banking applications.The spam tool compromises Yahoo, Gmail and Outlook webmail accounts, enabling the threat actor to take control of those mailboxes, exfiltrate their contacts’ email addresses, and send spam emails.VictimologyThe attacks predominantly target users in Mexico, with a few infections in Uruguay, Brazil, Venezuela, Argentina, Guatemala and Panama. In analyzing the phishing emails used in the campaign, Talos identified that users in organizations across several business verticals — including accounting, construction and engineering, wholesale distributing and investment firms — have been affected. However, the attacker uses Horabot and the spam tool in this campaign to further propagate the attack by sending additional phishing emails to the victim’s contacts, meaning Spanish-speaking users from organizations in additional verticals are likely also affected. Attacker infrastructure dates back to Nov. 2020Talos discovered that the attacker in this campaign is using multiple hosts, including an Amazon Web Services (AWS) Elastic Compute Cloud (EC2) instance, accessed through its public URL, to host the malicious files. During our analysis, Talos observed that a malicious server at IP address 185[.]45[.]195[.]226 hosted the PowerShell downloader script and had an open directory that the attacker eventually disabled. Another malicious server, 216[.]238[.]70[.]224, hosted the ZIP file containing the payloads. This is most likely a virtual private server (VPS) behind which the attacker has parked the actual command and control (C2) server, leaving us unable to identify the actual C2. The attacker also used lookalike domains in this campaign to carry out malicious activities and evade network detection.Based on Talos’ analysis of the domain registration information for the attacker’s infrastructure, Talos assesses with high confidence that this campaign began in November 2020 and has been ongoing through 2023. According to WHOIS records for the domain tributaria[.]website, used in this campaign to host the attacker’s tools as well as exfiltrated data, the domain was registered in July 2022 and the registrant was based out of Brazil. This domain name also resembled the legitimate Mexican Tax Agency domain, a tactic the attacker likely adopted to disguise malicious traffic. The DNS requests to tributaria[.]website, as observed in Cisco Umbrella, are shown below.In analyzing the SSL certificates of tributaria[.]website, we spotted that the certificates with serial numbers 03b6b83943ec043082a8614186921afa306b and 03eeab4d2874f31ee662ea7f602b73b05633 are shared with four other domains. Based on our analysis of the domain registration period and the URLs associated with the four domains, they belong to the same campaign that has been ongoing since at least November 2020.Malicious domains Registration period  m9b4s2[.]site  November 2020  tributaria[.]website July 2022  wiqp[.]xyz August 2022  ckws[.]info January 2023  amarte[.]store   March 2023  Shortcut files Relative path Command line arguments  _upyqta2_JAA.lnk ..\\\\..\\\\..\\\\..\\\\..\\\\..\\\\..\\\\..\\\\..\\\\_upyqta2_J\\\\_upyqta2_Ji7.exe  _upyqta2_JAT.lnk  ..\\\\..\\\\..\\\\..\\\\..\\\\..\\\\..\\\\..\\\\..\\\\_upyqta2_J\\\\_upyqta2_J.exe C:\\\\_upyqta2_J\\\\_upyqta2_J.at  _upyqta2_JEX.lnk ..\\\\..\\\\..\\\\..\\\\..\\\\..\\\\..\\\\..\\\\..\\\\_upyqta2_J\\\\_upyqta2_J.exe C:\\\\_upyqta2_J\\\\_upyqta2_J.ai  _upyqta2_Jy.lnk ..\\\\..\\\\..\\\\..\\\\..\\\\..\\\\..\\\\..\\\\Public\\\\DESKTOP-UT9NJ4Sy.cmd  _upyqta2_J.lnk ..\\\\..\\\\..\\\\..\\\\..\\\\..\\\\..\\\\..\\\\Public\\\\DESKTOP-UT9NJ4S.cmd   Files dropped   Description  _upyqta2_J.ai Compiled AutoIt script  _upyqta2_J.at Compiled AutoIt script  _upyqta2_J.exe AutoIt interpreter  _upyqta2_J.ia Encrypted trojan DLL  _upyqta2_J.mdat Encrypted Spam tool DLL  _upyqta2_Ji7.exe Kinit.exe, a legitimate executable  jli.dll Banking trojan   MSVCR100.dll Legitimate DLL  WebView2Loader.dll Legitimate DLL  Multi-stage attack chain uses PowerShell downloader and DLL sideloadingThis campaign involves a multi-stage attack chain that begins with a phishing email and leads to payload delivery through the execution of a PowerShell downloader script and sideloading to legitimate executables.The infection starts with an income tax-themed phishing email written in Spanish, disguising itself as a tax receipt notification and enticing users to open the attached malicious HTML file. Sample phishing email.When a victim opens the HTML file attachment, an embedded URL is launched in the victim’s browser, redirecting to another malicious HTML file from an attacker-controlled AWS EC2 instance. The content displayed on the victim’s browser lures them to click an embedded malicious hyperlink which downloads a RAR file.Disguised malicious web page.The RAR file contains a batch file with a CMD extension that is executed when the victim opens the contents of the file. The batch file downloads the PowerShell downloader script from an attacker-controlled server and executes it through the PowerShell commands. The PowerShell downloader script will download a ZIP file that contains the payload DLLs and a few legitimate executables and DLLs. It creates Windows shortcut files configured to run the payloads in the startup folder of the victim’s machine and restarts the machine after 10 seconds. After the victim’s machine is rebooted, the malicious Windows startup files run the payloads by sideloading them to the legitimate executables and downloading and executing two other PowerShell scripts from a different attacker-controlled server. One is the PowerShell downloader script, which the attacker attempts to execute to re-infect the victim’s machine, and another is Horabot.Three-layer infection chain delivers and detonates the payloadsMalicious batch file downloads the PowerShell downloaderThe RAR file containing a malicious batch file with a .cmd extension is downloaded to the user’s machine. Per the instructions on the HTML page, if the user opens the CMD file, the malicious batch script executes an embedded PowerShell command to download the next-stage PowerShell script from the server and execute it on the victim’s machine. Downloader batch script.PowerShell script downloads the payloadsThe malicious PowerShell downloader script launches several processes that download the payloads and reboots the victim’s machine. The script is heavily obfuscated with random symbols that substitute the instructions during the run-time and base64-encoded strings. In the initial stage of the execution, the script decodes the base64-encoded strings and initializes them. It executes a function that uses alphanumeric characters and the special character “_” to generate a random name and creates a folder with the random name in the root directory of the victim’s machine. The random name generated by the sample during our analysis was “_upyqta2_J”. The script uses this random name eventually to create other folders and files.The script creates two other malicious batch scripts with the extension .cmd in the folder “/Users/Public.” Then it creates two Windows shortcut files in the Windows startup folder using the Internet Explorer application icon and the target paths pointing to the two dropped batch scripts. <deskto_name>S.cmd and <desktop_name>Sy.cmd are the naming conventions used. A snippet of the PowerShell downloader script.The script also creates three more Windows shortcut files in the victim’s machine startup folder, with the details of the target path pointing to the folders where the payloads are eventually downloaded. The attacker used the Internet Explorer icon for the dropped shortcut files. Talos compiled a table showing the malicious Windows shortcut files and their relative paths with the command line arguments. Next, the script downloads a malicious ZIP file — “m.zip” — from a server using the URL “hxxp[://]216[.]238[.]70[.]224/20/t/e/m.zip” to the random name folder. The script renames the downloaded file with a random name and deflates its contents. The deflated contents are renamed using random characters, then the malicious ZIP file is deleted. The script also writes the path of the executable file, “_upyqta2_Ji7.exe”, to the class’s registry key “HKEY_CURRENT_USER\\\\software\\\\Classes\\\\ms-settings\\\\shell\\\\open\\\\command” and restarts the victim’s machine after 10 seconds using the command “shutdown /r /t 10”.The deflated contents of the malicious ZIP file are shown in the below table with their description.Malicious shortcut files detonate the payloads after system restartAfter the PowerShell downloader reboots the victim’s machine, the malicious Windows shortcut files dropped in the Windows startup folder are run, executing the payloads used in the attack. This section describes the behavior of each of the shortcut files._upyqta2_JAA.lnkThis link file “_upyqta2_JAA.lnk” will sideload a malicious DLL called “jli.dll,” a banking trojan, by executing “_upyqta2_Ji7.exe,” which is actually a legitimate copy of “kinit.exe” that the PowerShell downloader script drops._upyqta2_JEX.lnkThis link file executes the compiled AutoIt script “_upyqta2_J.ai” by running the executable “ _upyqta2_J.exe”, which is a legitimate AutoIt interpreter. The AutoIt script decrypts the encrypted “_upyqta2_J.ia” and drops the DLL “_upyqta2_J.ia.a1” with a spoofed file extension that has a hardcoded malicious function “A040822_1”. Then, the AutoIt script will sideload the DLL “_upyqta2_J.ia.a1” to the AutoIt interpreter process and execute the malicious function “A040822_1” with the parameter “STRUCT.” The decrypted malicious DLL “_upyqta2_J.ia.a1” is another copy of the banking trojan with additional stealer capabilities such as keylogging, copying of clipboard data, screenshot capturing and mouse tracking. A snippet of the AutoIt code _Upyqta2_J.ai_upyqta2_JAT.lnkThis link file performs the same steps as “_upyqta2_JEX.lnk” by executing the AutoIt script “_upyqta2_J.at” to decrypt “ _upyqta2_J.mdat” and create the DLL “_upyqta2_J.mdat.a1” with a spoofed extension. Then, the AutoIt script sideloads the DLL to the AutoIt interpreter process and executes the malicious function “B080223_AT” with the parameter “STRUCT”. The malicious DLL “_upyqta2_J.mdat.a1” is a spam tool with information-stealing capability. A snippet of the AutoIt code _Upyqta2_J.at_upyqta2_J.lnk This link file executes one of the dropped batch files, “<desktop-name>S.cmd.” The batch file executes an embedded PowerShell command to download the PowerShell downloader script from the attacker-controlled server using the URL hxxp[://]tributaria[.]website/esp/12/151222/up/up” and executes it. The attacker uses the PowerShell downloader to reinfect the victim’s machine. _upyqta2_Jy.lnkThis link file executes another dropped batch file, “<desktop_name>Sy.cmd”, which executes a PowerShell command to download and run the Horabot “au” using the URL hxxp[://]tributaria[.]website/esp/12/151222/au/au.PayloadsTalos found that the payloads employed by the attacker in this campaign are designed to steal sensitive information, evade detection and disseminate additional phishing emails to the victim’s contacts. The banking trojan targets the victim’s sensitive information, such as login credentials and financial transaction security codes, and logs keystrokes and manipulates the victim machine’s clipboard data. The trojan also has anti-analysis and anti-detection capabilities to evade the sandbox and virtual environments. The spam tool and newly identified Horabot are employed in the attack to compromise the victim’s mailboxes, steal their contact’s email addresses, and send phishing emails to the victim’s contacts.Banking trojan targets victim’s login credentials and financial informationThe banking trojan identified in this campaign, a 32-bit Windows DLL written in the Delphi programming language and packed with Themida packer, can collect system information, credentials and user activity. This trojan is based on a tool called Delphi_Remote_Access_PC, which is publicly available on GitHub. It also uses similar techniques as Brazilian banking trojans reported by other security researchers at ESET and Check Point in the past. The trojan performs surveillance on the victim’s machine by collecting system information such as hostnames, IPv4 address, operating system version, disk volume information, disk size and anti-virus software information, and gets the system’s default language. The reconnaissance data is exfiltrated to the attacker-controlled server through an HTTP POST request to the URL in the below format.hxxp[://]216[.]238[.]70[.]224/20/a/20/index[.]php?AT=<username>%20<hostname>%20<Operating system version>&MD=<Antivirus software>The trojan has remote desktop management capabilities such as creating and deleting directories on the victim’s machine, checking if a file on the victim’s filesystem exists and gets the file’s attributes, collecting size and version information, and downloading files from a URL. It also has information-stealing capabilities, such as logging keystrokes via polling and application hooks, capturing screenshots, manipulating the victim’s machine clipboard and tracking the mouse's events.It monitors the open application windows on the victim’s desktop, overlays fake windows, and manages the pop-up windows to steal sensitive information. These pop-ups are stored in TFORMS in the RCData section of the executable. The below screenshots show some of the forms configured to steal one-time security codes or soft tokens from the victim’s online banking web applications. Banking trojan forms in the binary resource section. Talos spotted hardcoded SQL commands in the trojan binary designed to collect login data from the Google Chrome user profile folders by writing it to a database source file called “login_data.sql”, and creating SQL queries to produce the database tables to store the stolen data. The dynamic analysis behavior in our analysis environment showed us that the database source file “login_data.sql” contains the login details and the associated URLs from the Google Chrome database files. Database table containing the victim’s credentials. The trojan has several anti-analysis and anti-virtual machine (VM) techniques built-in to avoid analysis in automated sandboxes and to thwart debugging:Detects the presence of debuggers through APIs IsDebuggerPresent, and OutputDebugStringW, and checks for system breakpoints.Creates processes enabling the debug privileges by adjusting the process token “Debug,” readings the Process Environment Block, and queries the DebugPort to check if the malware is being debugged.Checks for the existence of the anti-virus products such as AVG and Avast by checking for the DLLs avghookx.dll, avghooka.dll and snxhk.dll.Detects the sandbox environments such as SunBelt and Joe sandboxes.Checks the registry keys to detect virtual environments such as VMWare, Virtual Box, Wine, Microsoft Hyper-V or Windows Virtual PC.A spam tool acts as another payload in this campaign, enabling the attacker to take over the victim’s other email accounts and send spam emails to the contacts found within them. The spam tool is a 32-bit DLL written in Delphi and, when run on the victim’s machine, will attempt to compromise the victim’s login credentials for webmail services such as Yahoo, Gmail, and Hotmail. Upon compromising the credentials, the spam tool takes full control of the victim’s email account, creates spam messages and sends them to the email IDs found in the victim’s mailbox.  The tool also exfiltrates the email address to the C2 server using an HTTP POST request. The spam tool also showed us information-stealing capabilities such as logging keystrokes, capturing screenshots and tracking or intercepting the mouse events on the victim’s machine. The decryption function decrypts the URL pointing to the attacker-controlled server.New Horabot deployed to spread the infectionTalos discovered Horabot, an Outlook Phishing botnet program written in PowerShell. It has embedded Visual Basic code that enables the threat actor to control the victim’s Outlook mailbox, exfiltrate contacts’ email addresses, and send phishing emails with malicious HTML attachments to all addresses in the victim’s mailbox. Phishing emails are themed as a tax receipt or service invoice and the attacker is using the email subject and body, in the format shown below:Phishing email subject:Se adjunta la factura del servicio <calendar month in Spanish> :ATT <dd/mm/yyy> <hh:mm:ss> <AM/PM>Comprobante Fiscal Digital <calendar month in Spanish> :ATT <dd/mm/yyy> <hh:mm:ss> <AM/PM> Phishing email body: consulate los datos adjuntos, por favor. <dd/mm/yyy> <hh:mm:ss> <AM/PM>The end game of the attacker is to deliver the banking trojan to steal the victim's creds and financial data, along with it they are delivering Horabot and separate spam tool to propagate the infection by sending the phishing emails to all of the validated email IDs in the victim's mailbox. Attacker is using this technique to minimise the chances of their phishing infracture being tracked.Horabot, during its initial phase of execution, initializes the victim’s desktop Outlook application by loading “Microsoft.Office.Interop.Outlook” namespace to the PowerShell instance to create the Outlook application object for loading the MAPI namespace. The script also initializes an array to store the stolen email addresses and creates a folder called “a160323” in “C:\\\\Users\\\\Public\\\\.” as an infection marker. A function that initializes the outlook application object. After initialization, the script looks for the Outlook data files from the victim profile’s Outlook application data folder. It loads and accesses the victim’s address book and contacts if they exist. It enumerates all folders and emails in the victim’s Outlook data file and extracts email addresses from the emails’ sender, recipients, CC and BCC fields. During this process, the script checks the “AddressEntryUserType” object values to determine if the email address is one of the types listed below:Exchange agentExchange organizationExchange distribution listExchange public folderAddress that belongs to the same or different exchange forestAddress that uses Lightweight Directory Access Protocol [LDAP]Address that uses Simple Mail Transfer Protocol [SMTP]Function that enumerates and collects email addresses.The script has an email address format validation function that compares all of the extracted email addresses with a regular expression. After they are successfully validated, the addresses are added to the email address collection array. A function that validates email address format. Next, the script writes the extracted email addresses from the array to a file called “.Outlook” created by the script in the roaming user profile’s Microsoft application data folder.Then the script encodes the email addresses in the “.Outlook” file to a data stream. Using the GetRequestStream function, the script requests a data stream from the C2 server through the URL hxxp[://]139[.]177[.]193[.]74/esp/12/151222/au/tst/index[.]php?list and upon the successful response, the encoded email addresses are exfiltrated. A function that exfiltrates email addresses.After exfiltrating the email addresses, the script creates a folder “fb” in the Public user folder and creates an HTML file in it, named “adjuntos_1503.html” in our sample analysis. Then the script downloads the contents of an HTML file stored in an attacker-controlled server and writes it to the HTML file dropped in the “fb” folder. The HTML file has an embedded malicious URL “hxxps[://]facturacionmarzo[.]cloud/e/archivos[.]pdf[.]html” in its metadata section. Next, the script constructs an email with a hardcoded subject and body and attaches the HTML file from the “fb” folder. Then the phishing email is sent to the list of extracted email addresses one at a time, deleting the “fb” folder to cover its paths and avoid detection. A function that sends phishing emails.CoverageCisco Secure Endpoint (formerly AMP for Endpoints) is ideally suited to prevent the execution of the malware detailed in this post. Try Secure Endpoint for free here.Cisco Secure Web Appliance web scanning prevents access to malicious websites and detects malware used in these attacks.Cisco Secure Email (formerly Cisco Email Security) can block malicious emails sent by threat actors as part of their campaign. You can try Secure Email for free here.Cisco Secure Firewall (formerly Next-Generation Firewall and Firepower NGFW) appliances such as Threat Defense Virtual, Adaptive Security Appliance and Meraki MX can detect malicious activity associated with this threat.Cisco Secure Malware Analytics (Threat Grid) identifies malicious binaries and builds protection into all Cisco Secure products.Umbrella, Cisco's secure internet gateway (SIG), blocks users from connecting to malicious domains, IPs, and URLs, whether users are on or off the corporate network. Sign up for a free trial of Umbrella here.Cisco Secure Web Appliance (formerly Web Security Appliance) automatically blocks potentially dangerous sites and tests suspicious sites before users access them.Additional protections with context to your specific environment and threat data are available from the Firewall Management Center.Cisco Duo provides multi-factor authentication for users to ensure only those authorized are accessing your network.Open-source Snort Subscriber Rule Set customers can stay up to date by downloading the latest rule pack available for purchase on Snort.org. Snort SIDs for this threat are 61839-61856 for Snort 2 and 300569-300577 for Snort 3.ClamAV detections are available for this threat:Txt.Loader.Horabot-10003071-0Ps1.Downloader.Horabot-10003078-0Win.Trojan.DelphiTrojanBanking-10003087-0Win.Trojan.DelphiTrojanBanking-10003088-0Txt.Malware.Horabot-10003089-0Txt.Malware.Horabot-10003090-0Txt.Malware.Horabot-10003091-0Win.Tool.HorabotSpamTool-10003092-0IOCsIndicators of Compromise associated with this threat can be found here\",\n",
       " '']"
      ]
     },
     "execution_count": 6,
     "metadata": {},
     "output_type": "execute_result"
    }
   ],
   "source": [
    "from magpie.src.html_analyzer import Analyzer\n",
    "\n",
    "# article = \"../data/hafnium-targeting-exchange-servers.html\"\n",
    "# article = \"../data/hellokitty-ransomware-lacks-stealth-but-still-strikes-home.html\"\n",
    "# article = \"../data/Emotet Returns With New Methods of Evasion.html\"\n",
    "# article = \"../data/Hitching a ride with Mustang Panda - Avast Threat Labs.html\"\n",
    "# article = \"../data/Outbreak of Follina in Australia - Avast Threat Labs.html\"\n",
    "# article = \"../data/Dota 2 Under Attack_ How a V8 Bug Was Exploited in the Game - Avast Threat Labs.html\"\n",
    "# article = \"../data/Operation Magalenha _ Long-Running Campaign Pursues Portuguese Credentials and PII - SentinelOne.html\"\n",
    "# article = \"../data/analysis-of-new-active-malware-mediaarena-pua.html\"\n",
    "article = \"../data/new-horabot-targets-americas.html\"\n",
    "\n",
    "cleantext = Analyzer.clean_article(article)\n",
    "cleantext"
   ]
  },
  {
   "cell_type": "code",
   "execution_count": 9,
   "metadata": {},
   "outputs": [
    {
     "data": {
      "text/html": [
       "<table>\n",
       "<tbody>\n",
       "<tr><td>185[.]45[.]195[.]226</td><td>IPv4  </td><td>(2042, 2062)</td><td>{&#x27;IPv4&#x27;: &#x27;185[.]45[.]195[.]226&#x27;}  </td></tr>\n",
       "<tr><td>216[.]238[.]70[.]224</td><td>IPv4  </td><td>(2194, 2214)</td><td>{&#x27;IPv4&#x27;: &#x27;216[.]238[.]70[.]224&#x27;}  </td></tr>\n",
       "<tr><td>tributaria[.]website</td><td>Domain</td><td>(2812, 2832)</td><td>{&#x27;Domain&#x27;: &#x27;tributaria[.]website&#x27;}</td></tr>\n",
       "<tr><td>tributaria[.]website</td><td>Domain</td><td>(3159, 3179)</td><td>{&#x27;Domain&#x27;: &#x27;tributaria[.]website&#x27;}</td></tr>\n",
       "<tr><td>tributaria[.]website</td><td>Domain</td><td>(3265, 3285)</td><td>{&#x27;Domain&#x27;: &#x27;tributaria[.]website&#x27;}</td></tr>\n",
       "<tr><td>m9b4s2[.]site       </td><td>Domain</td><td>(3680, 3693)</td><td>{&#x27;Domain&#x27;: &#x27;m9b4s2[.]site&#x27;}       </td></tr>\n",
       "<tr><td>tributaria[.]website</td><td>Domain</td><td>(3710, 3730)</td><td>{&#x27;Domain&#x27;: &#x27;tributaria[.]website&#x27;}</td></tr>\n",
       "<tr><td>wiqp[.]xyz          </td><td>Domain</td><td>(3742, 3752)</td><td>{&#x27;Domain&#x27;: &#x27;wiqp[.]xyz&#x27;}          </td></tr>\n",
       "<tr><td>ckws[.]info         </td><td>Domain</td><td>(3766, 3777)</td><td>{&#x27;Domain&#x27;: &#x27;ckws[.]info&#x27;}         </td></tr>\n",
       "<tr><td>amarte[.]store      </td><td>Domain</td><td>(3792, 3806)</td><td>{&#x27;Domain&#x27;: &#x27;amarte[.]store&#x27;}      </td></tr>\n",
       "</tbody>\n",
       "</table><p>Showing 10 of 68 rows"
      ],
      "text/plain": [
       "[('185[.]45[.]195[.]226', 'IPv4', (2042, 2062), {'IPv4': '185[.]45[.]195[.]226'}), ('216[.]238[.]70[.]224', 'IPv4', (2194, 2214), {'IPv4': '216[.]238[.]70[.]224'}), ('tributaria[.]website', 'Domain', (2812, 2832), {'Domain': 'tributaria[.]website'}), ('tributaria[.]website', 'Domain', (3159, 3179), {'Domain': 'tributaria[.]website'}), ('tributaria[.]website', 'Domain', (3265, 3285), {'Domain': 'tributaria[.]website'}), ('m9b4s2[.]site', 'Domain', (3680, 3693), {'Domain': 'm9b4s2[.]site'}), ('tributaria[.]website', 'Domain', (3710, 3730), {'Domain': 'tributaria[.]website'}), ('wiqp[.]xyz', 'Domain', (3742, 3752), {'Domain': 'wiqp[.]xyz'}), ('ckws[.]info', 'Domain', (3766, 3777), {'Domain': 'ckws[.]info'}), ('amarte[.]store', 'Domain', (3792, 3806), {'Domain': 'amarte[.]store'}), ('_upyqta2_JAA.lnk', 'File Path', (3874, 3890), {'File Path': '_upyqta2_JAA.lnk'}), ('_upyqta2_Ji7.exe', 'File Path', (3939, 3955), {'File Path': '_upyqta2_Ji7.exe'}), ('_upyqta2_JAT.lnk', 'File Path', (3957, 3973), {'File Path': '_upyqta2_JAT.lnk'}), ('_upyqta2_J.exe', 'File Path', (4023, 4037), {'File Path': '_upyqta2_J.exe'}), ('_upyqta2_J.at', 'File Path', (4054, 4067), {'File Path': '_upyqta2_J.at'}), ('_upyqta2_JEX.lnk', 'File Path', (4069, 4085), {'File Path': '_upyqta2_JEX.lnk'}), ('_upyqta2_J.exe', 'File Path', (4134, 4148), {'File Path': '_upyqta2_J.exe'}), ('_upyqta2_J.ai', 'File Path', (4165, 4178), {'File Path': '_upyqta2_J.ai'}), ('_upyqta2_Jy.lnk', 'File Path', (4180, 4195), {'File Path': '_upyqta2_Jy.lnk'}), ('DESKTOP-UT9NJ4Sy.cmd', 'File Path', (4236, 4256), {'File Path': 'DESKTOP-UT9NJ4Sy.cmd'}), ('_upyqta2_J.lnk', 'File Path', (4258, 4272), {'File Path': '_upyqta2_J.lnk'}), ('DESKTOP-UT9NJ4S.cmd', 'File Path', (4313, 4332), {'File Path': 'DESKTOP-UT9NJ4S.cmd'}), ('_upyqta2_J.ai', 'File Path', (4364, 4377), {'File Path': '_upyqta2_J.ai'}), ('_upyqta2_J.at', 'File Path', (4402, 4415), {'File Path': '_upyqta2_J.at'}), ('_upyqta2_J.exe', 'File Path', (4440, 4454), {'File Path': '_upyqta2_J.exe'}), ('_upyqta2_Ji7.exe', 'File Path', (4552, 4568), {'File Path': '_upyqta2_Ji7.exe'}), ('Kinit.exe', 'File Path', (4569, 4578), {'File Path': 'Kinit.exe'}), ('jli.dll', 'File Path', (4605, 4612), {'File Path': 'jli.dll'}), ('MSVCR100.dll', 'File Path', (4630, 4642), {'File Path': 'MSVCR100.dll'}), ('WebView2Loader.dll', 'File Path', (4659, 4677), {'File Path': 'WebView2Loader.dll'}), ('S.cmd', 'File Path', (8027, 8032), {'File Path': 'S.cmd'}), ('Sy.cmd', 'File Path', (8051, 8057), {'File Path': 'Sy.cmd'}), ('m.zip', 'Domain', (8595, 8600), {'Domain': 'm.zip'}), ('hxxp[://]216[.]238[.]70[.]224/20/t/e/m.zip', 'URL', (8633, 8675), {'URL': 'hxxp[://]216[.]238[.]70[.]224/20/t/e/m.zip'}), ('_upyqta2_Ji7.exe', 'File Path', (8945, 8961), {'File Path': '_upyqta2_Ji7.exe'}), ('_upyqta2_JAA.lnk', 'File Path', (9609, 9625), {'File Path': '_upyqta2_JAA.lnk'}), ('jli.dll', 'File Path', (9665, 9672), {'File Path': 'jli.dll'}), ('_upyqta2_Ji7.exe', 'File Path', (9707, 9723), {'File Path': '_upyqta2_Ji7.exe'}), ('kinit.exe', 'File Path', (9766, 9775), {'File Path': 'kinit.exe'}), ('_upyqta2_J.ai', 'File Path', (9889, 9902), {'File Path': '_upyqta2_J.ai'}), ('_upyqta2_J.exe', 'File Path', (9932, 9946), {'File Path': '_upyqta2_J.exe'}), ('_Upyqta2_J.ai', 'File Path', (10582, 10595), {'File Path': '_Upyqta2_J.ai'}), ('_upyqta2_JEX.lnk', 'File Path', (10654, 10670), {'File Path': '_upyqta2_JEX.lnk'}), ('_upyqta2_J.at', 'File Path', (10704, 10717), {'File Path': '_upyqta2_J.at'}), ('_Upyqta2_J.at', 'File Path', (11090, 11103), {'File Path': '_Upyqta2_J.at'}), ('_upyqta2_J.lnk', 'File Path', (11103, 11117), {'File Path': '_upyqta2_J.lnk'}), ('S.cmd', 'File Path', (11189, 11194), {'File Path': 'S.cmd'}), ('hxxp[://]tributaria[.]website/esp/12/151222/up/up', 'URL', (11347, 11396), {'URL': 'hxxp[://]tributaria[.]website/esp/12/151222/up/up'}), ('Sy.cmd', 'File Path', (11575, 11581), {'File Path': 'Sy.cmd'}), ('hxxp[://]tributaria[.]website/esp/12/151222/au/au.PayloadsTalos', 'URL', (11671, 11734), {'URL': 'hxxp[://]tributaria[.]website/esp/12/151222/au/au.PayloadsTalos'}), ('hxxp[://]216[.]238[.]70[.]224/20/a/20/index[.]php', 'URL', (13360, 13409), {'URL': 'hxxp[://]216[.]238[.]70[.]224/20/a/20/index[.]php'}), ('login_data.sql', 'File Path', (14595, 14609), {'File Path': 'login_data.sql'}), ('login_data.sql', 'File Path', (14793, 14807), {'File Path': 'login_data.sql'}), ('debugging:Detects', 'URI', (15093, 15110), {'URI': 'debugging:Detects'}), ('avghookx.dll', 'File Path', (15522, 15534), {'File Path': 'avghookx.dll'}), ('avghooka.dll', 'File Path', (15536, 15548), {'File Path': 'avghooka.dll'}), ('PC.A', 'File Path', (15758, 15762), {'File Path': 'PC.A'}), ('below:Phishing', 'URI', (17190, 17204), {'URI': 'below:Phishing'}), ('subject:Se', 'URI', (17211, 17221), {'URI': 'subject:Se'}), ('hh:mm:ss', 'URI', (17300, 17308), {'URI': 'hh:mm:ss'}), ('hh:mm:ss', 'URI', (17390, 17398), {'URI': 'hh:mm:ss'}), ('hh:mm:ss', 'URI', (17483, 17491), {'URI': 'hh:mm:ss'}), ('below:Exchange', 'URI', (18868, 18882), {'URI': 'below:Exchange'}), ('hxxp[://]139[.]177[.]193[.]74/esp/12/151222/au/tst/index[.]php', 'URL', (19849, 19911), {'URL': 'hxxp[://]139[.]177[.]193[.]74/esp/12/151222/au/tst/index[.]php'}), ('adjuntos_1503.html', 'File Path', (20178, 20196), {'File Path': 'adjuntos_1503.html'}), ('hxxps[://]facturacionmarzo[.]cloud/e/archivos[.]pdf[.]html', 'URL', (20421, 20479), {'URL': 'hxxps[://]facturacionmarzo[.]cloud/e/archivos[.]pdf[.]html'}), ('Snort.org', 'File Path', (22372, 22381), {'File Path': 'Snort.org'}), ('threat:Txt.Loader.Horabot-10003071-0Ps1.Downloader.Horabot-10003078-0Win.Trojan.DelphiTrojanBanking-10003087-0Win.Trojan.DelphiTrojanBanking-10003088-0Txt.Malware.Horabot-10003089-0Txt.Malware.Horabot-10003090-0Txt.Malware.Horabot-10003091-0Win.Tool.HorabotSpamTool-10003092-0IOCsIndicators', 'URI', (22509, 22799), {'URI': 'threat:Txt.Loader.Horabot-10003071-0Ps1.Downloader.Horabot-10003078-0Win.Trojan.DelphiTrojanBanking-10003087-0Win.Trojan.DelphiTrojanBanking-10003088-0Txt.Malware.Horabot-10003089-0Txt.Malware.Horabot-10003090-0Txt.Malware.Horabot-10003091-0Win.Tool.HorabotSpamTool-10003092-0IOCsIndicators'})]"
      ]
     },
     "execution_count": 9,
     "metadata": {},
     "output_type": "execute_result"
    }
   ],
   "source": [
    "from functional import seq\n",
    "result = list(parser.scanString(cleantext))\n",
    "a = (\n",
    "    seq(result)\n",
    "    .starmap(lambda result, start, end: (\n",
    "        result[0].rstrip(remove_words,), result.getName(), (start, end), result.asDict()))\n",
    "    .cache()\n",
    "    )\n",
    "a"
   ]
  },
  {
   "cell_type": "code",
   "execution_count": 11,
   "metadata": {},
   "outputs": [
    {
     "ename": "AttributeError",
     "evalue": "'tuple' object has no attribute 'getName'",
     "output_type": "error",
     "traceback": [
      "\u001b[0;31m---------------------------------------------------------------------------\u001b[0m",
      "\u001b[0;31mAttributeError\u001b[0m                            Traceback (most recent call last)",
      "Cell \u001b[0;32mIn[11], line 1\u001b[0m\n\u001b[0;32m----> 1\u001b[0m result[\u001b[39m0\u001b[39;49m]\u001b[39m.\u001b[39;49mgetName()\n",
      "\u001b[0;31mAttributeError\u001b[0m: 'tuple' object has no attribute 'getName'"
     ]
    }
   ],
   "source": [
    "result[0].getName()"
   ]
  },
  {
   "cell_type": "code",
   "execution_count": 9,
   "metadata": {},
   "outputs": [
    {
     "name": "stdout",
     "output_type": "stream",
     "text": [
      "token                                                                                                                                                                                                                                                                                               entity     location        dict\n",
      "--------------------------------------------------------------------------------------------------------------------------------------------------------------------------------------------------------------------------------------------------------------------------------------------------  ---------  --------------  -------------------------------------------------------------------------------------------------------------------------------------------------------------------------------------------------------------------------------------------------------------------------------------------------------------\n",
      "185[.]45[.]195[.]226                                                                                                                                                                                                                                                                                IPv4       (2042, 2062)    {'IPv4': '185[.]45[.]195[.]226'}\n",
      "216[.]238[.]70[.]224                                                                                                                                                                                                                                                                                IPv4       (2194, 2214)    {'IPv4': '216[.]238[.]70[.]224'}\n",
      "tributaria[.]website                                                                                                                                                                                                                                                                                Domain     (2812, 2832)    {'Domain': 'tributaria[.]website'}\n",
      "tributaria[.]website                                                                                                                                                                                                                                                                                Domain     (3159, 3179)    {'Domain': 'tributaria[.]website'}\n",
      "tributaria[.]website                                                                                                                                                                                                                                                                                Domain     (3265, 3285)    {'Domain': 'tributaria[.]website'}\n",
      "m9b4s2[.]site                                                                                                                                                                                                                                                                                       Domain     (3680, 3693)    {'Domain': 'm9b4s2[.]site'}\n",
      "tributaria[.]website                                                                                                                                                                                                                                                                                Domain     (3710, 3730)    {'Domain': 'tributaria[.]website'}\n",
      "wiqp[.]xyz                                                                                                                                                                                                                                                                                          Domain     (3742, 3752)    {'Domain': 'wiqp[.]xyz'}\n",
      "ckws[.]info                                                                                                                                                                                                                                                                                         Domain     (3766, 3777)    {'Domain': 'ckws[.]info'}\n",
      "amarte[.]store                                                                                                                                                                                                                                                                                      Domain     (3792, 3806)    {'Domain': 'amarte[.]store'}\n",
      "_upyqta2_JAA.lnk                                                                                                                                                                                                                                                                                    File Path  (3874, 3890)    {'File Path': '_upyqta2_JAA.lnk'}\n",
      "_upyqta2_Ji7.exe                                                                                                                                                                                                                                                                                    File Path  (3939, 3955)    {'File Path': '_upyqta2_Ji7.exe'}\n",
      "_upyqta2_JAT.lnk                                                                                                                                                                                                                                                                                    File Path  (3957, 3973)    {'File Path': '_upyqta2_JAT.lnk'}\n",
      "_upyqta2_J.exe                                                                                                                                                                                                                                                                                      File Path  (4023, 4037)    {'File Path': '_upyqta2_J.exe'}\n",
      "_upyqta2_J.at                                                                                                                                                                                                                                                                                       File Path  (4054, 4067)    {'File Path': '_upyqta2_J.at'}\n",
      "_upyqta2_JEX.lnk                                                                                                                                                                                                                                                                                    File Path  (4069, 4085)    {'File Path': '_upyqta2_JEX.lnk'}\n",
      "_upyqta2_J.exe                                                                                                                                                                                                                                                                                      File Path  (4134, 4148)    {'File Path': '_upyqta2_J.exe'}\n",
      "_upyqta2_J.ai                                                                                                                                                                                                                                                                                       File Path  (4165, 4178)    {'File Path': '_upyqta2_J.ai'}\n",
      "_upyqta2_Jy.lnk                                                                                                                                                                                                                                                                                     File Path  (4180, 4195)    {'File Path': '_upyqta2_Jy.lnk'}\n",
      "DESKTOP-UT9NJ4Sy.cmd                                                                                                                                                                                                                                                                                File Path  (4236, 4256)    {'File Path': 'DESKTOP-UT9NJ4Sy.cmd'}\n",
      "_upyqta2_J.lnk                                                                                                                                                                                                                                                                                      File Path  (4258, 4272)    {'File Path': '_upyqta2_J.lnk'}\n",
      "DESKTOP-UT9NJ4S.cmd                                                                                                                                                                                                                                                                                 File Path  (4313, 4332)    {'File Path': 'DESKTOP-UT9NJ4S.cmd'}\n",
      "_upyqta2_J.ai                                                                                                                                                                                                                                                                                       File Path  (4364, 4377)    {'File Path': '_upyqta2_J.ai'}\n",
      "_upyqta2_J.at                                                                                                                                                                                                                                                                                       File Path  (4402, 4415)    {'File Path': '_upyqta2_J.at'}\n",
      "_upyqta2_J.exe                                                                                                                                                                                                                                                                                      File Path  (4440, 4454)    {'File Path': '_upyqta2_J.exe'}\n",
      "_upyqta2_Ji7.exe                                                                                                                                                                                                                                                                                    File Path  (4552, 4568)    {'File Path': '_upyqta2_Ji7.exe'}\n",
      "Kinit.exe                                                                                                                                                                                                                                                                                           File Path  (4569, 4578)    {'File Path': 'Kinit.exe'}\n",
      "jli.dll                                                                                                                                                                                                                                                                                             File Path  (4605, 4612)    {'File Path': 'jli.dll'}\n",
      "MSVCR100.dll                                                                                                                                                                                                                                                                                        File Path  (4630, 4642)    {'File Path': 'MSVCR100.dll'}\n",
      "WebView2Loader.dll                                                                                                                                                                                                                                                                                  File Path  (4659, 4677)    {'File Path': 'WebView2Loader.dll'}\n",
      "S.cmd                                                                                                                                                                                                                                                                                               File Path  (8027, 8032)    {'File Path': 'S.cmd'}\n",
      "Sy.cmd                                                                                                                                                                                                                                                                                              File Path  (8051, 8057)    {'File Path': 'Sy.cmd'}\n",
      "m.zip                                                                                                                                                                                                                                                                                               Domain     (8595, 8600)    {'Domain': 'm.zip'}\n",
      "hxxp[://]216[.]238[.]70[.]224/20/t/e/m.zip                                                                                                                                                                                                                                                          URL        (8633, 8675)    {'URL': 'hxxp[://]216[.]238[.]70[.]224/20/t/e/m.zip'}\n",
      "_upyqta2_Ji7.exe                                                                                                                                                                                                                                                                                    File Path  (8945, 8961)    {'File Path': '_upyqta2_Ji7.exe'}\n",
      "_upyqta2_JAA.lnk                                                                                                                                                                                                                                                                                    File Path  (9609, 9625)    {'File Path': '_upyqta2_JAA.lnk'}\n",
      "jli.dll                                                                                                                                                                                                                                                                                             File Path  (9665, 9672)    {'File Path': 'jli.dll'}\n",
      "_upyqta2_Ji7.exe                                                                                                                                                                                                                                                                                    File Path  (9707, 9723)    {'File Path': '_upyqta2_Ji7.exe'}\n",
      "kinit.exe                                                                                                                                                                                                                                                                                           File Path  (9766, 9775)    {'File Path': 'kinit.exe'}\n",
      "_upyqta2_J.ai                                                                                                                                                                                                                                                                                       File Path  (9889, 9902)    {'File Path': '_upyqta2_J.ai'}\n",
      "_upyqta2_J.exe                                                                                                                                                                                                                                                                                      File Path  (9932, 9946)    {'File Path': '_upyqta2_J.exe'}\n",
      "_Upyqta2_J.ai                                                                                                                                                                                                                                                                                       File Path  (10582, 10595)  {'File Path': '_Upyqta2_J.ai'}\n",
      "_upyqta2_JEX.lnk                                                                                                                                                                                                                                                                                    File Path  (10654, 10670)  {'File Path': '_upyqta2_JEX.lnk'}\n",
      "_upyqta2_J.at                                                                                                                                                                                                                                                                                       File Path  (10704, 10717)  {'File Path': '_upyqta2_J.at'}\n",
      "_Upyqta2_J.at                                                                                                                                                                                                                                                                                       File Path  (11090, 11103)  {'File Path': '_Upyqta2_J.at'}\n",
      "_upyqta2_J.lnk                                                                                                                                                                                                                                                                                      File Path  (11103, 11117)  {'File Path': '_upyqta2_J.lnk'}\n",
      "S.cmd                                                                                                                                                                                                                                                                                               File Path  (11189, 11194)  {'File Path': 'S.cmd'}\n",
      "hxxp[://]tributaria[.]website/esp/12/151222/up/up                                                                                                                                                                                                                                                   URL        (11347, 11396)  {'URL': 'hxxp[://]tributaria[.]website/esp/12/151222/up/up'}\n",
      "Sy.cmd                                                                                                                                                                                                                                                                                              File Path  (11575, 11581)  {'File Path': 'Sy.cmd'}\n",
      "hxxp[://]tributaria[.]website/esp/12/151222/au/au.PayloadsTalos                                                                                                                                                                                                                                     URL        (11671, 11734)  {'URL': 'hxxp[://]tributaria[.]website/esp/12/151222/au/au.PayloadsTalos'}\n",
      "hxxp[://]216[.]238[.]70[.]224/20/a/20/index[.]php                                                                                                                                                                                                                                                   URL        (13360, 13409)  {'URL': 'hxxp[://]216[.]238[.]70[.]224/20/a/20/index[.]php'}\n",
      "login_data.sql                                                                                                                                                                                                                                                                                      File Path  (14595, 14609)  {'File Path': 'login_data.sql'}\n",
      "login_data.sql                                                                                                                                                                                                                                                                                      File Path  (14793, 14807)  {'File Path': 'login_data.sql'}\n",
      "debugging:Detects                                                                                                                                                                                                                                                                                   URI        (15093, 15110)  {'URI': 'debugging:Detects'}\n",
      "avghookx.dll                                                                                                                                                                                                                                                                                        File Path  (15522, 15534)  {'File Path': 'avghookx.dll'}\n",
      "avghooka.dll                                                                                                                                                                                                                                                                                        File Path  (15536, 15548)  {'File Path': 'avghooka.dll'}\n",
      "PC.A                                                                                                                                                                                                                                                                                                File Path  (15758, 15762)  {'File Path': 'PC.A'}\n",
      "below:Phishing                                                                                                                                                                                                                                                                                      URI        (17190, 17204)  {'URI': 'below:Phishing'}\n",
      "subject:Se                                                                                                                                                                                                                                                                                          URI        (17211, 17221)  {'URI': 'subject:Se'}\n",
      "hh:mm:ss                                                                                                                                                                                                                                                                                            URI        (17300, 17308)  {'URI': 'hh:mm:ss'}\n",
      "hh:mm:ss                                                                                                                                                                                                                                                                                            URI        (17390, 17398)  {'URI': 'hh:mm:ss'}\n",
      "hh:mm:ss                                                                                                                                                                                                                                                                                            URI        (17483, 17491)  {'URI': 'hh:mm:ss'}\n",
      "below:Exchange                                                                                                                                                                                                                                                                                      URI        (18868, 18882)  {'URI': 'below:Exchange'}\n",
      "hxxp[://]139[.]177[.]193[.]74/esp/12/151222/au/tst/index[.]php                                                                                                                                                                                                                                      URL        (19849, 19911)  {'URL': 'hxxp[://]139[.]177[.]193[.]74/esp/12/151222/au/tst/index[.]php'}\n",
      "adjuntos_1503.html                                                                                                                                                                                                                                                                                  File Path  (20178, 20196)  {'File Path': 'adjuntos_1503.html'}\n",
      "hxxps[://]facturacionmarzo[.]cloud/e/archivos[.]pdf[.]html                                                                                                                                                                                                                                          URL        (20421, 20479)  {'URL': 'hxxps[://]facturacionmarzo[.]cloud/e/archivos[.]pdf[.]html'}\n",
      "Snort.org                                                                                                                                                                                                                                                                                           File Path  (22372, 22381)  {'File Path': 'Snort.org'}\n",
      "threat:Txt.Loader.Horabot-10003071-0Ps1.Downloader.Horabot-10003078-0Win.Trojan.DelphiTrojanBanking-10003087-0Win.Trojan.DelphiTrojanBanking-10003088-0Txt.Malware.Horabot-10003089-0Txt.Malware.Horabot-10003090-0Txt.Malware.Horabot-10003091-0Win.Tool.HorabotSpamTool-10003092-0IOCsIndicators  URI        (22509, 22799)  {'URI': 'threat:Txt.Loader.Horabot-10003071-0Ps1.Downloader.Horabot-10003078-0Win.Trojan.DelphiTrojanBanking-10003087-0Win.Trojan.DelphiTrojanBanking-10003088-0Txt.Malware.Horabot-10003089-0Txt.Malware.Horabot-10003090-0Txt.Malware.Horabot-10003091-0Win.Tool.HorabotSpamTool-10003092-0IOCsIndicators'}\n"
     ]
    }
   ],
   "source": [
    "a.show(headers=('token', 'entity', 'location', 'dict'), n=70)"
   ]
  },
  {
   "cell_type": "code",
   "execution_count": 10,
   "metadata": {},
   "outputs": [
    {
     "name": "stdout",
     "output_type": "stream",
     "text": [
      "[(ParseResults(['CVE-2022-30190'], {'CVE': 'CVE-2022-30190'}), 135, 149)]\n",
      "[(ParseResults(['CVE-2022-30190'], {'CVE': 'CVE-2022-30190'}), 171, 185)]\n",
      "[(ParseResults(['robots.txt'], {'File Path': 'robots.txt'}), 79, 89), (ParseResults(['robots.txt'], {'File Path': 'robots.txt'}), 137, 147), (ParseResults(['msdt.exe'], {'File Path': 'msdt.exe'}), 284, 292), (ParseResults(['robots.txt'], {'File Path': 'robots.txt'}), 306, 316), (ParseResults(['Sihost.exe'], {'File Path': 'Sihost.exe'}), 356, 366)]\n",
      "[(ParseResults(['Sihost.exe'], {'File Path': 'Sihost.exe'}), 14, 24)]\n",
      "[(ParseResults(['robots.txt'], {'File Path': 'robots.txt'}), 18, 28), (ParseResults(['Sihost.exe'], {'File Path': 'Sihost.exe'}), 33, 43), (ParseResults(['msdt.exe'], {'File Path': 'msdt.exe'}), 63, 71), (ParseResults(['b63fbf80351b3480c62a6a5158334ec8e91fecd057f6c19e4b4dd3febaa9d447.'], {'FileHash-SHA256': 'b63fbf80351b3480c62a6a5158334ec8e91fecd057f6c19e4b4dd3febaa9d447.'}), 150, 215), (ParseResults(['favicon.svg'], {'File Path': 'favicon.svg'}), 330, 341)]\n",
      "[(ParseResults(['favicon.svg'], {'File Path': 'favicon.svg'}), 13, 24)]\n",
      "[(ParseResults(['voipstelecom.com[.]au'], {'Domain': 'voipstelecom.com[.]au'}), 101, 122), (ParseResults(['Sevntx64.exe'], {'File Path': 'Sevntx64.exe'}), 146, 158), (ParseResults(['Sevntx.lnk'], {'File Path': 'Sevntx.lnk'}), 163, 173)]\n",
      "[(ParseResults(['Sevntx64.exe'], {'File Path': 'Sevntx64.exe'}), 14, 26), (ParseResults(['Sevntx64.lnk'], {'File Path': 'Sevntx64.lnk'}), 31, 43)]\n",
      "[(ParseResults(['Sevntx64.exe'], {'File Path': 'Sevntx64.exe'}), 87, 99), (ParseResults(['robots.txt'], {'File Path': 'robots.txt'}), 171, 181)]\n",
      "[(ParseResults(['voipstelecom[.]com[.]au'], {'Domain': 'voipstelecom[.]com[.]au'}), 149, 172)]\n",
      "[(ParseResults(['aba9b566dc23169414cb6927ab5368b590529202df41bfd5dded9f7e62b91479'], {'FileHash-SHA256': 'aba9b566dc23169414cb6927ab5368b590529202df41bfd5dded9f7e62b91479'}), 0, 64)]\n",
      "[(ParseResults(['CVE-2022-30190'], {'CVE': 'CVE-2022-30190'}), 144, 158)]\n",
      "[(ParseResults(['0af202af06aef4d36ea151c5a304414a67aee18c3675286275bd01d11a760c04 '], {'FileHash-SHA256': '0af202af06aef4d36ea151c5a304414a67aee18c3675286275bd01d11a760c04 '}), 26, 91), (ParseResults(['robots.txt'], {'File Path': 'robots.txt'}), 94, 104), (ParseResults(['b63fbf80351b3480c62a6a5158334ec8e91fecd057f6c19e4b4dd3febaa9d447 '], {'FileHash-SHA256': 'b63fbf80351b3480c62a6a5158334ec8e91fecd057f6c19e4b4dd3febaa9d447 '}), 105, 170), (ParseResults(['favicon.svg'], {'File Path': 'favicon.svg'}), 173, 184), (ParseResults(['ed4091700374e007ae478c048734c4bc0b7fe0f41e6d5c611351bf301659eee0 '], {'FileHash-SHA256': 'ed4091700374e007ae478c048734c4bc0b7fe0f41e6d5c611351bf301659eee0 '}), 185, 250), (ParseResults(['favicon.svg'], {'File Path': 'favicon.svg'}), 261, 272), (ParseResults(['9651e604f972e36333b14a4095d1758b50decda893e8ff8ab52c95ea89bb9f74 '], {'FileHash-SHA256': '9651e604f972e36333b14a4095d1758b50decda893e8ff8ab52c95ea89bb9f74 '}), 273, 338), (ParseResults(['Sevntx64.exe'], {'File Path': 'Sevntx64.exe'}), 339, 351), (ParseResults(['f3ccf22db2c1060251096fe99464002318baccf598b626f8dbdd5e7fd71fd23f '], {'FileHash-SHA256': 'f3ccf22db2c1060251096fe99464002318baccf598b626f8dbdd5e7fd71fd23f '}), 352, 417), (ParseResults(['Sevntx64.lnk'], {'File Path': 'Sevntx64.lnk'}), 420, 432), (ParseResults(['33297dc67c12c7876b8052a5f490cc6a4c50a22712ccf36f4f92962463eb744d '], {'FileHash-SHA256': '33297dc67c12c7876b8052a5f490cc6a4c50a22712ccf36f4f92962463eb744d '}), 433, 498), (ParseResults(['Sevntx64.exe'], {'File Path': 'Sevntx64.exe'}), 516, 528), (ParseResults(['7d6d317616d237ba8301707230abbbae64b2f8adb48b878c528a5e42f419133a '], {'FileHash-SHA256': '7d6d317616d237ba8301707230abbbae64b2f8adb48b878c528a5e42f419133a '}), 543, 608), (ParseResults(['aba9b566dc23169414cb6927ab5368b590529202df41bfd5dded9f7e62b91479 '], {'FileHash-SHA256': 'aba9b566dc23169414cb6927ab5368b590529202df41bfd5dded9f7e62b91479 '}), 618, 683), (ParseResults(['doc.exe'], {'File Path': 'doc.exe'}), 758, 765), (ParseResults(['87BD2DDFF6A90601F67499384290533701F5A5E6CB43DE185A8EA858A0604974 '], {'FileHash-SHA256': '87BD2DDFF6A90601F67499384290533701F5A5E6CB43DE185A8EA858A0604974 '}), 775, 840), (ParseResults(['doc.exe'], {'File Path': 'doc.exe'}), 960, 967), (ParseResults(['0477CAC3443BB6E46DE9B904CBA478B778A5C9F82EA411D44A29961F5CC5C842 '], {'FileHash-SHA256': '0477CAC3443BB6E46DE9B904CBA478B778A5C9F82EA411D44A29961F5CC5C842 '}), 968, 1033), (ParseResults(['Sevntx64.exe'], {'File Path': 'Sevntx64.exe'}), 1094, 1106), (ParseResults(['0e711e902ecfec11954f000c29593ccc '], {'FileHash-MD5': '0e711e902ecfec11954f000c29593ccc '}), 1206, 1239), (ParseResults(['b097e82425d6c944b33e40f61c831eaf '], {'FileHash-MD5': 'b097e82425d6c944b33e40f61c831eaf '}), 1262, 1295), (ParseResults(['0e711e902ecfec11954f000c29593ccc '], {'FileHash-MD5': '0e711e902ecfec11954f000c29593ccc '}), 1401, 1434), (ParseResults(['b097e82425d6c944b33e40f61c831eaf '], {'FileHash-MD5': 'b097e82425d6c944b33e40f61c831eaf '}), 1451, 1484), (ParseResults(['af2448ede4dca84581e2fc7965083634 '], {'FileHash-MD5': 'af2448ede4dca84581e2fc7965083634 '}), 1561, 1594), (ParseResults(['C:\\\\Users\\\\Public\\\\Documents\\\\Sevntx64.exe'], {'File Path': 'C:\\\\Users\\\\Public\\\\Documents\\\\Sevntx64.exe'}), 1716, 1754), (ParseResults(['.\\\\Sevntx64.exe'], {'File Path': '.\\\\Sevntx64.exe'}), 1888, 1902)]\n"
     ]
    }
   ],
   "source": [
    "for line in article_list:\n",
    "    entities = list(parser.scanString(line))\n",
    "    if len(entities)>0:\n",
    "        print(entities)"
   ]
  },
  {
   "attachments": {},
   "cell_type": "markdown",
   "metadata": {},
   "source": [
    "---\n",
    "### Data Example:\n",
    "```json\n",
    "{\n",
    "    \"data\": [\n",
    "        {\n",
    "            \"tokens\": [\"fadd8d7c13a18c251ded1f645ffea18a37f1c2de\"], \n",
    "            \"ner_tags\": [\"B-sha1\"]\n",
    "        }, \n",
    "        {\n",
    "            \"tokens\": [\"Query\", \"Registry\", \"-\", \"T1012\"], \n",
    "            \"ner_tags\": [\"O\", \"O\", \"O\", \"B-attackID\"]\n",
    "        },  \n",
    "        {\n",
    "            \"tokens\": [\"Ransomware\"], \n",
    "            \"ner_tags\": [\"O\"]\n",
    "        }\n",
    "    ]\n",
    "}\n",
    "```"
   ]
  },
  {
   "cell_type": "code",
   "execution_count": 18,
   "metadata": {},
   "outputs": [],
   "source": [
    "convert_cat_name = {\n",
    "    'AttackTechnique': 'attackID', 'BitcoinAddress': 'bitcoinAddr', 'CVE': 'cve', 'MicrosoftDefenderThreat': 'defenderThreat',\n",
    "    'domain': 'domain', 'email': 'email', 'FileHash-MD5': 'md5', 'FileHash-SHA1': 'sha1', 'FileHash-SHA256': 'sha256',\n",
    "    'FilePath': 'filepath', 'hostname': 'hostname', 'IPv4': 'ipv4', 'IPv6': 'ipv6', 'SSLCertFingerprint': 'fingerprint',\n",
    "    'URI': 'uri', 'URL': 'url', 'YARA': 'yara'\n",
    "}\n",
    "\n",
    "# ner_tags = {\n",
    "#     'O': 0, 'B-attackID': 1, 'I-attackID': 2, 'B-bitcoinAddr': 3, 'I-bitcoinAddr': 4, 'B-cve': 5, 'I-cve': 6, \n",
    "#     'B-defenderThreat': 7, 'I-defenderThreat': 8, 'B-domain': 9, 'I-domain': 10, 'B-email': 11, 'I-email': 12, 'B-md5': 13, \n",
    "#     'I-md5': 14, 'B-sha1': 15, 'I-sha1': 16, 'B-sha256': 17,'I-sha256': 18, 'B-filepath': 19, 'I-filepath': 20, \n",
    "#     'B-hostname': 21, 'I-hostname': 22, 'B-ipv4': 23, 'I-ipv4': 24, 'B-ipv6': 25, 'I-ipv6': 26, 'B-fingerprint': 27, 'I-fingerprint': 28,\n",
    "#     'B-uri': 29, 'I-uri': 30, 'B-url': 31, 'I-url': 32, 'B-yara': 33, 'I-yara': 34   \n",
    "# }"
   ]
  },
  {
   "attachments": {},
   "cell_type": "markdown",
   "metadata": {},
   "source": [
    "#### Split by space"
   ]
  },
  {
   "cell_type": "code",
   "execution_count": 499,
   "metadata": {},
   "outputs": [],
   "source": [
    "## create data dictionary\n",
    "from nltk.tokenize import TreebankWordTokenizer, word_tokenize, casual_tokenize\n",
    "tokenizer = TreebankWordTokenizer()\n",
    "data = []\n",
    "for idx, line in enumerate(article_list): # each sentence\n",
    "    data_dict = {}\n",
    "    entities = list(parser.scanString(line))\n",
    "    entity_list = [entity[0][0] for entity in entities]  # ['taskkill.exe', 'net.exe']\n",
    "    category = [entity[0].getName() for entity in entities]  # ['FilePath', 'FilePath']\n",
    "    tokens = tokenizer.tokenize(line)  # tokenize\n",
    "    \n",
    "    if len(entities) > 0:\n",
    "        data_dict.update({\"id\": idx, \"tokens\": tokens, \"entity\": entity_list, \"category\": category})\n",
    "    else:\n",
    "        data_dict.update({\"id\": idx, \"tokens\": tokens, \"entity\": [\"None\"], \"category\": [\"None\"]})\n",
    "    data.append(data_dict)\n",
    "# data"
   ]
  },
  {
   "cell_type": "code",
   "execution_count": null,
   "metadata": {},
   "outputs": [],
   "source": [
    "def mapBioTags(tags):\n",
    "    next_element = 0\n",
    "    bio_tags= []\n",
    "    for x in range(len(tags)):\n",
    "        element = tags[x]\n",
    "        if element != 'O':\n",
    "            if next_element == element:\n",
    "                bio_tags.append(f'I-{element}')\n",
    "            else:\n",
    "                bio_tags.append(f'B-{element}')\n",
    "        else:\n",
    "            bio_tags.append(element)\n",
    "        next_element = element\n",
    "    bio_tags = list(map(ner_tags.get, bio_tags, bio_tags))\n",
    "    return bio_tags\n",
    "\n",
    "def bio_labelling(each_row, convert_cat_name):\n",
    "    entity_index = {each_row[\"tokens\"].index(ele): convert_cat_name[each_row[\"category\"][idx]] for idx, ele in enumerate(each_row[\"entity\"])}\n",
    "    for k, v in entity_index.items(): # 替換ner_tags中，屬於entity的token (i.e 0 -> attackID)\n",
    "        each_row[\"ner_tags\"][k] = v\n",
    "    bio_tags = mapBioTags(each_row[\"ner_tags\"])\n",
    "    return bio_tags\n",
    "\n",
    "## save as a list\n",
    "final_dataset = []\n",
    "for each_row in data:\n",
    "    each_row.update({\"ner_tags\": ['O' for count in range(len(each_row[\"tokens\"]))]})\n",
    "    if \"None\" not in each_row[\"entity\"]:\n",
    "        print(each_row)\n",
    "        each_row[\"ner_tags\"] = bio_labelling(each_row, convert_cat_name)\n",
    "    final_dataset.append({\"id\": each_row[\"id\"], \"tokens\": each_row[\"tokens\"], \"ner_tags\": each_row[\"ner_tags\"]})\n",
    "\n",
    "## save a a dataframe and export as json file\n",
    "df = pd.DataFrame.from_records(final_dataset)\n",
    "df.to_json(\"../data/testSplit_data.json\", orient='records', lines=True, force_ascii=False)"
   ]
  },
  {
   "attachments": {},
   "cell_type": "markdown",
   "metadata": {},
   "source": [
    "#### Tokenizer 1: NLTK"
   ]
  },
  {
   "cell_type": "code",
   "execution_count": 190,
   "metadata": {},
   "outputs": [],
   "source": [
    "from nltk.tokenize import word_tokenize"
   ]
  },
  {
   "cell_type": "code",
   "execution_count": 1,
   "metadata": {},
   "outputs": [
    {
     "ename": "NameError",
     "evalue": "name 'article_list' is not defined",
     "output_type": "error",
     "traceback": [
      "\u001b[0;31m---------------------------------------------------------------------------\u001b[0m",
      "\u001b[0;31mNameError\u001b[0m                                 Traceback (most recent call last)",
      "Cell \u001b[0;32mIn[1], line 3\u001b[0m\n\u001b[1;32m      1\u001b[0m \u001b[39m## create data dictionary\u001b[39;00m\n\u001b[1;32m      2\u001b[0m data \u001b[39m=\u001b[39m []\n\u001b[0;32m----> 3\u001b[0m \u001b[39mfor\u001b[39;00m idx, line \u001b[39min\u001b[39;00m \u001b[39menumerate\u001b[39m(article_list): \u001b[39m# each sentence\u001b[39;00m\n\u001b[1;32m      4\u001b[0m     data_dict \u001b[39m=\u001b[39m {}\n\u001b[1;32m      5\u001b[0m     entities \u001b[39m=\u001b[39m \u001b[39mlist\u001b[39m(parser\u001b[39m.\u001b[39mscanString(line))\n",
      "\u001b[0;31mNameError\u001b[0m: name 'article_list' is not defined"
     ]
    }
   ],
   "source": [
    "## create data dictionary\n",
    "data = []\n",
    "for idx, line in enumerate(article_list): # each sentence\n",
    "    data_dict = {}\n",
    "    entities = list(parser.scanString(line))\n",
    "    entity_list = [entity[0][0] for entity in entities]  # ['taskkill.exe', 'net.exe']\n",
    "    category = [entity[0].getName() for entity in entities]  # ['FilePath', 'FilePath']\n",
    "    tokens = word_tokenize(line)  # tokenize\n",
    "    \n",
    "    if len(entities) > 0:\n",
    "        data_dict.update({\"id\": idx, \"tokens\": tokens, \"entity\": entity_list, \"category\": category})\n",
    "    else:\n",
    "        data_dict.update({\"id\": idx, \"tokens\": tokens, \"entity\": [\"None\"], \"category\": [\"None\"]})\n",
    "    data.append(data_dict)\n",
    "data"
   ]
  },
  {
   "cell_type": "code",
   "execution_count": 74,
   "metadata": {},
   "outputs": [],
   "source": [
    "def mapBioTags(tags):\n",
    "    next_element = 0\n",
    "    bio_tags= []\n",
    "    for x in range(len(tags)):\n",
    "        element = tags[x]\n",
    "        if element != 'O':\n",
    "            if next_element == element:\n",
    "                bio_tags.append(f'I-{element}')\n",
    "            else:\n",
    "                bio_tags.append(f'B-{element}')\n",
    "        else:\n",
    "            bio_tags.append(element)\n",
    "        next_element = element\n",
    "    # bio_tags = list(map(ner_tags.get, bio_tags, bio_tags))\n",
    "    return bio_tags\n",
    "\n",
    "def bio_labelling(each_row, convert_cat_name):\n",
    "    entity_index = {each_row[\"tokens\"].index(ele): convert_cat_name[each_row[\"category\"][idx]] for idx, ele in enumerate(each_row[\"entity\"])}\n",
    "    for k, v in entity_index.items(): # 替換ner_tags中，屬於entity的token (i.e 0 -> attackID)\n",
    "        each_row[\"ner_tags\"][k] = v\n",
    "    bio_tags = mapBioTags(each_row[\"ner_tags\"])\n",
    "    return bio_tags\n",
    "\n",
    "## save as a list\n",
    "final_dataset = {\"data\": []}\n",
    "for each_row in data:\n",
    "    each_row.update({\"ner_tags\": ['O' for count in range(len(each_row[\"tokens\"]))]})\n",
    "    if \"None\" not in each_row[\"entity\"]:\n",
    "        each_row[\"ner_tags\"] = bio_labelling(each_row, convert_cat_name)\n",
    "    final_dataset[\"data\"].append({\"tokens\": each_row[\"tokens\"], \"ner_tags\": each_row[\"ner_tags\"]})\n",
    "\n",
    "## export as json file\n",
    "with open(\"../data/huggingface/testing.json\", \"w\") as output:\n",
    "    json.dump(final_dataset, output)"
   ]
  },
  {
   "attachments": {},
   "cell_type": "markdown",
   "metadata": {},
   "source": [
    "#### Tokenizer 2: spaCy\n",
    "某些符號會被斷詞 i.e dsa* (會被分成兩個詞)"
   ]
  },
  {
   "cell_type": "code",
   "execution_count": 8,
   "metadata": {},
   "outputs": [
    {
     "name": "stderr",
     "output_type": "stream",
     "text": [
      "/opt/anaconda3/envs/magpie/lib/python3.6/site-packages/tqdm/auto.py:22: TqdmWarning: IProgress not found. Please update jupyter and ipywidgets. See https://ipywidgets.readthedocs.io/en/stable/user_install.html\n",
      "  from .autonotebook import tqdm as notebook_tqdm\n"
     ]
    }
   ],
   "source": [
    "import spacy"
   ]
  },
  {
   "cell_type": "code",
   "execution_count": 201,
   "metadata": {},
   "outputs": [],
   "source": [
    "## create data dictionary\n",
    "data = []\n",
    "nlp = spacy.load(\"en_core_web_sm\")\n",
    "for idx, line in enumerate(article_list): # each sentence\n",
    "    data_dict = {}\n",
    "    entities = list(parser.scanString(line))\n",
    "    entity_list = [entity[0][0] for entity in entities]  \n",
    "    category = [entity[0].getName() for entity in entities] \n",
    "    doc = nlp(line)\n",
    "    tokens = [token.text for token in doc]\n",
    "\n",
    "    if len(entities) > 0:\n",
    "        data_dict.update({\"id\": idx, \"tokens\": tokens, \"entity\": entity_list, \"category\": category})\n",
    "    else:\n",
    "        data_dict.update({\"id\": idx, \"tokens\": tokens, \"entity\": [\"None\"], \"category\": [\"None\"]})\n",
    "    data.append(data_dict)"
   ]
  },
  {
   "cell_type": "code",
   "execution_count": 203,
   "metadata": {},
   "outputs": [
    {
     "name": "stdout",
     "output_type": "stream",
     "text": [
      "{'id': 6, 'tokens': ['The', 'vulnerabilities', 'recently', 'being', 'exploited', 'were', 'CVE-2021', '-', '26855', ',', 'CVE-2021', '-', '26857', ',', 'CVE-2021', '-', '26858', ',', 'and', 'CVE-2021', '-', '27065', ',', 'all', 'of', 'which', 'were', 'addressed', 'in', 'today', '’s', 'Microsoft', 'Security', 'Response', 'Center', '(', 'MSRC', ')', 'release', '–', 'Multiple', 'Security', 'Updates', 'Released', 'for', 'Exchange', 'Server', '.', 'We', 'strongly', 'urge', 'customers', 'to', 'update', 'on', '-', 'premises', 'systems', 'immediately', '.', 'Exchange', 'Online', 'is', 'not', 'affected', '.', 'We', 'have', 'established', 'a', 'resource', 'center', 'that', 'is', 'constantly', 'updated', 'as', 'more', 'information', 'becomes', 'available', 'at', 'https://aka.ms/ExchangeVulns', '.'], 'entity': ['CVE-2021-26855', 'CVE-2021-26857', 'CVE-2021-26858', 'CVE-2021-27065', 'https://aka.ms/ExchangeVulns.'], 'category': ['CVE', 'CVE', 'CVE', 'CVE', 'URI'], 'ner_tags': [0, 0, 0, 0, 0, 0, 0, 0, 0, 0, 0, 0, 0, 0, 0, 0, 0, 0, 0, 0, 0, 0, 0, 0, 0, 0, 0, 0, 0, 0, 0, 0, 0, 0, 0, 0, 0, 0, 0, 0, 0, 0, 0, 0, 0, 0, 0, 0, 0, 0, 0, 0, 0, 0, 0, 0, 0, 0, 0, 0, 0, 0, 0, 0, 0, 0, 0, 0, 0, 0, 0, 0, 0, 0, 0, 0, 0, 0, 0, 0, 0, 0, 0, 0]}\n"
     ]
    },
    {
     "ename": "ValueError",
     "evalue": "'CVE-2021-26855' is not in list",
     "output_type": "error",
     "traceback": [
      "\u001b[0;31m---------------------------------------------------------------------------\u001b[0m",
      "\u001b[0;31mValueError\u001b[0m                                Traceback (most recent call last)",
      "\u001b[0;32m<ipython-input-203-d9dd20a1118e>\u001b[0m in \u001b[0;36m<module>\u001b[0;34m\u001b[0m\n\u001b[1;32m     28\u001b[0m     \u001b[0;32mif\u001b[0m \u001b[0;34m\"None\"\u001b[0m \u001b[0;32mnot\u001b[0m \u001b[0;32min\u001b[0m \u001b[0meach_row\u001b[0m\u001b[0;34m[\u001b[0m\u001b[0;34m\"entity\"\u001b[0m\u001b[0;34m]\u001b[0m\u001b[0;34m:\u001b[0m\u001b[0;34m\u001b[0m\u001b[0;34m\u001b[0m\u001b[0m\n\u001b[1;32m     29\u001b[0m         \u001b[0mprint\u001b[0m\u001b[0;34m(\u001b[0m\u001b[0meach_row\u001b[0m\u001b[0;34m)\u001b[0m\u001b[0;34m\u001b[0m\u001b[0;34m\u001b[0m\u001b[0m\n\u001b[0;32m---> 30\u001b[0;31m         \u001b[0meach_row\u001b[0m\u001b[0;34m[\u001b[0m\u001b[0;34m\"ner_tags\"\u001b[0m\u001b[0;34m]\u001b[0m \u001b[0;34m=\u001b[0m \u001b[0mbio_labelling\u001b[0m\u001b[0;34m(\u001b[0m\u001b[0meach_row\u001b[0m\u001b[0;34m,\u001b[0m \u001b[0mconvert_cat_name\u001b[0m\u001b[0;34m)\u001b[0m\u001b[0;34m\u001b[0m\u001b[0;34m\u001b[0m\u001b[0m\n\u001b[0m\u001b[1;32m     31\u001b[0m     \u001b[0mfinal_dataset\u001b[0m\u001b[0;34m.\u001b[0m\u001b[0mappend\u001b[0m\u001b[0;34m(\u001b[0m\u001b[0;34m{\u001b[0m\u001b[0;34m\"id\"\u001b[0m\u001b[0;34m:\u001b[0m \u001b[0meach_row\u001b[0m\u001b[0;34m[\u001b[0m\u001b[0;34m\"id\"\u001b[0m\u001b[0;34m]\u001b[0m\u001b[0;34m,\u001b[0m \u001b[0;34m\"tokens\"\u001b[0m\u001b[0;34m:\u001b[0m \u001b[0meach_row\u001b[0m\u001b[0;34m[\u001b[0m\u001b[0;34m\"tokens\"\u001b[0m\u001b[0;34m]\u001b[0m\u001b[0;34m,\u001b[0m \u001b[0;34m\"ner_tags\"\u001b[0m\u001b[0;34m:\u001b[0m \u001b[0meach_row\u001b[0m\u001b[0;34m[\u001b[0m\u001b[0;34m\"ner_tags\"\u001b[0m\u001b[0;34m]\u001b[0m\u001b[0;34m}\u001b[0m\u001b[0;34m)\u001b[0m\u001b[0;34m\u001b[0m\u001b[0;34m\u001b[0m\u001b[0m\n\u001b[1;32m     32\u001b[0m \u001b[0;34m\u001b[0m\u001b[0m\n",
      "\u001b[0;32m<ipython-input-203-d9dd20a1118e>\u001b[0m in \u001b[0;36mbio_labelling\u001b[0;34m(each_row, convert_cat_name)\u001b[0m\n\u001b[1;32m     16\u001b[0m \u001b[0;34m\u001b[0m\u001b[0m\n\u001b[1;32m     17\u001b[0m \u001b[0;32mdef\u001b[0m \u001b[0mbio_labelling\u001b[0m\u001b[0;34m(\u001b[0m\u001b[0meach_row\u001b[0m\u001b[0;34m,\u001b[0m \u001b[0mconvert_cat_name\u001b[0m\u001b[0;34m)\u001b[0m\u001b[0;34m:\u001b[0m\u001b[0;34m\u001b[0m\u001b[0;34m\u001b[0m\u001b[0m\n\u001b[0;32m---> 18\u001b[0;31m     \u001b[0mentity_index\u001b[0m \u001b[0;34m=\u001b[0m \u001b[0;34m{\u001b[0m\u001b[0meach_row\u001b[0m\u001b[0;34m[\u001b[0m\u001b[0;34m\"tokens\"\u001b[0m\u001b[0;34m]\u001b[0m\u001b[0;34m.\u001b[0m\u001b[0mindex\u001b[0m\u001b[0;34m(\u001b[0m\u001b[0mele\u001b[0m\u001b[0;34m)\u001b[0m\u001b[0;34m:\u001b[0m \u001b[0mconvert_cat_name\u001b[0m\u001b[0;34m[\u001b[0m\u001b[0meach_row\u001b[0m\u001b[0;34m[\u001b[0m\u001b[0;34m\"category\"\u001b[0m\u001b[0;34m]\u001b[0m\u001b[0;34m[\u001b[0m\u001b[0midx\u001b[0m\u001b[0;34m]\u001b[0m\u001b[0;34m]\u001b[0m \u001b[0;32mfor\u001b[0m \u001b[0midx\u001b[0m\u001b[0;34m,\u001b[0m \u001b[0mele\u001b[0m \u001b[0;32min\u001b[0m \u001b[0menumerate\u001b[0m\u001b[0;34m(\u001b[0m\u001b[0meach_row\u001b[0m\u001b[0;34m[\u001b[0m\u001b[0;34m\"entity\"\u001b[0m\u001b[0;34m]\u001b[0m\u001b[0;34m)\u001b[0m\u001b[0;34m}\u001b[0m\u001b[0;34m\u001b[0m\u001b[0;34m\u001b[0m\u001b[0m\n\u001b[0m\u001b[1;32m     19\u001b[0m     \u001b[0;32mfor\u001b[0m \u001b[0mk\u001b[0m\u001b[0;34m,\u001b[0m \u001b[0mv\u001b[0m \u001b[0;32min\u001b[0m \u001b[0mentity_index\u001b[0m\u001b[0;34m.\u001b[0m\u001b[0mitems\u001b[0m\u001b[0;34m(\u001b[0m\u001b[0;34m)\u001b[0m\u001b[0;34m:\u001b[0m \u001b[0;31m# 替換ner_tags中，屬於entity的token (i.e 0 -> attackID)\u001b[0m\u001b[0;34m\u001b[0m\u001b[0;34m\u001b[0m\u001b[0m\n\u001b[1;32m     20\u001b[0m         \u001b[0meach_row\u001b[0m\u001b[0;34m[\u001b[0m\u001b[0;34m\"ner_tags\"\u001b[0m\u001b[0;34m]\u001b[0m\u001b[0;34m[\u001b[0m\u001b[0mk\u001b[0m\u001b[0;34m]\u001b[0m \u001b[0;34m=\u001b[0m \u001b[0mv\u001b[0m\u001b[0;34m\u001b[0m\u001b[0;34m\u001b[0m\u001b[0m\n",
      "\u001b[0;32m<ipython-input-203-d9dd20a1118e>\u001b[0m in \u001b[0;36m<dictcomp>\u001b[0;34m(.0)\u001b[0m\n\u001b[1;32m     16\u001b[0m \u001b[0;34m\u001b[0m\u001b[0m\n\u001b[1;32m     17\u001b[0m \u001b[0;32mdef\u001b[0m \u001b[0mbio_labelling\u001b[0m\u001b[0;34m(\u001b[0m\u001b[0meach_row\u001b[0m\u001b[0;34m,\u001b[0m \u001b[0mconvert_cat_name\u001b[0m\u001b[0;34m)\u001b[0m\u001b[0;34m:\u001b[0m\u001b[0;34m\u001b[0m\u001b[0;34m\u001b[0m\u001b[0m\n\u001b[0;32m---> 18\u001b[0;31m     \u001b[0mentity_index\u001b[0m \u001b[0;34m=\u001b[0m \u001b[0;34m{\u001b[0m\u001b[0meach_row\u001b[0m\u001b[0;34m[\u001b[0m\u001b[0;34m\"tokens\"\u001b[0m\u001b[0;34m]\u001b[0m\u001b[0;34m.\u001b[0m\u001b[0mindex\u001b[0m\u001b[0;34m(\u001b[0m\u001b[0mele\u001b[0m\u001b[0;34m)\u001b[0m\u001b[0;34m:\u001b[0m \u001b[0mconvert_cat_name\u001b[0m\u001b[0;34m[\u001b[0m\u001b[0meach_row\u001b[0m\u001b[0;34m[\u001b[0m\u001b[0;34m\"category\"\u001b[0m\u001b[0;34m]\u001b[0m\u001b[0;34m[\u001b[0m\u001b[0midx\u001b[0m\u001b[0;34m]\u001b[0m\u001b[0;34m]\u001b[0m \u001b[0;32mfor\u001b[0m \u001b[0midx\u001b[0m\u001b[0;34m,\u001b[0m \u001b[0mele\u001b[0m \u001b[0;32min\u001b[0m \u001b[0menumerate\u001b[0m\u001b[0;34m(\u001b[0m\u001b[0meach_row\u001b[0m\u001b[0;34m[\u001b[0m\u001b[0;34m\"entity\"\u001b[0m\u001b[0;34m]\u001b[0m\u001b[0;34m)\u001b[0m\u001b[0;34m}\u001b[0m\u001b[0;34m\u001b[0m\u001b[0;34m\u001b[0m\u001b[0m\n\u001b[0m\u001b[1;32m     19\u001b[0m     \u001b[0;32mfor\u001b[0m \u001b[0mk\u001b[0m\u001b[0;34m,\u001b[0m \u001b[0mv\u001b[0m \u001b[0;32min\u001b[0m \u001b[0mentity_index\u001b[0m\u001b[0;34m.\u001b[0m\u001b[0mitems\u001b[0m\u001b[0;34m(\u001b[0m\u001b[0;34m)\u001b[0m\u001b[0;34m:\u001b[0m \u001b[0;31m# 替換ner_tags中，屬於entity的token (i.e 0 -> attackID)\u001b[0m\u001b[0;34m\u001b[0m\u001b[0;34m\u001b[0m\u001b[0m\n\u001b[1;32m     20\u001b[0m         \u001b[0meach_row\u001b[0m\u001b[0;34m[\u001b[0m\u001b[0;34m\"ner_tags\"\u001b[0m\u001b[0;34m]\u001b[0m\u001b[0;34m[\u001b[0m\u001b[0mk\u001b[0m\u001b[0;34m]\u001b[0m \u001b[0;34m=\u001b[0m \u001b[0mv\u001b[0m\u001b[0;34m\u001b[0m\u001b[0;34m\u001b[0m\u001b[0m\n",
      "\u001b[0;31mValueError\u001b[0m: 'CVE-2021-26855' is not in list"
     ]
    }
   ],
   "source": [
    "def mapBioTags(tags):\n",
    "    next_element = 0\n",
    "    bio_tags= []\n",
    "    for x in range(len(tags)):\n",
    "        element = tags[x]\n",
    "        if element != 0:\n",
    "            if next_element == element:\n",
    "                bio_tags.append(f'I-{element}')\n",
    "            else:\n",
    "                bio_tags.append(f'B-{element}')\n",
    "        else:\n",
    "            bio_tags.append(element)\n",
    "        next_element = element\n",
    "    bio_tags = list(map(ner_tags.get, bio_tags, bio_tags))\n",
    "    return bio_tags\n",
    "\n",
    "def bio_labelling(each_row, convert_cat_name):\n",
    "    entity_index = {each_row[\"tokens\"].index(ele): convert_cat_name[each_row[\"category\"][idx]] for idx, ele in enumerate(each_row[\"entity\"])}\n",
    "    for k, v in entity_index.items(): # 替換ner_tags中，屬於entity的token (i.e 0 -> attackID)\n",
    "        each_row[\"ner_tags\"][k] = v\n",
    "    bio_tags = mapBioTags(each_row[\"ner_tags\"])\n",
    "    return bio_tags\n",
    "\n",
    "## save as a list\n",
    "final_dataset = []\n",
    "for each_row in data:\n",
    "    each_row.update({\"ner_tags\": [0 for count in range(len(each_row[\"tokens\"]))]})\n",
    "    if \"None\" not in each_row[\"entity\"]:\n",
    "        print(each_row)\n",
    "        each_row[\"ner_tags\"] = bio_labelling(each_row, convert_cat_name)\n",
    "    final_dataset.append({\"id\": each_row[\"id\"], \"tokens\": each_row[\"tokens\"], \"ner_tags\": each_row[\"ner_tags\"]})\n",
    "\n",
    "## save a a dataframe and export as json file\n",
    "df = pd.DataFrame.from_records(final_dataset)\n",
    "df\n",
    "# df.to_json(\"../data/testSpacy_data.json\", orient='records', lines=True, force_ascii=False)"
   ]
  },
  {
   "cell_type": "code",
   "execution_count": null,
   "metadata": {},
   "outputs": [],
   "source": []
  },
  {
   "attachments": {},
   "cell_type": "markdown",
   "metadata": {},
   "source": [
    "#### Tokenizer 3: BertTokenizer\n",
    "建立資料集好像不太適合，會把特殊字詞拆分成好多個 (未來可以嘗試看看)"
   ]
  },
  {
   "cell_type": "code",
   "execution_count": 18,
   "metadata": {},
   "outputs": [
    {
     "data": {
      "text/plain": [
       "['task',\n",
       " '##kill',\n",
       " '.',\n",
       " 'ex',\n",
       " '##e',\n",
       " '/',\n",
       " 'f',\n",
       " '/',\n",
       " 'pi',\n",
       " '##d',\n",
       " \"'\",\n",
       " '85',\n",
       " '##12',\n",
       " \"'\"]"
      ]
     },
     "execution_count": 18,
     "metadata": {},
     "output_type": "execute_result"
    }
   ],
   "source": [
    "from transformers import BertTokenizer\n",
    "\n",
    "tokenizer = BertTokenizer.from_pretrained(\"bert-base-uncased\")\n",
    "tokenizer.tokenize(\"taskkill.exe /f /PID '8512'\")"
   ]
  },
  {
   "attachments": {},
   "cell_type": "markdown",
   "metadata": {},
   "source": [
    "----\n",
    "### Final Version: use spaCy tokenizer and add special case (entities)"
   ]
  },
  {
   "cell_type": "code",
   "execution_count": 34,
   "metadata": {},
   "outputs": [],
   "source": [
    "def mapBioTags(tags):\n",
    "    next_element = 0\n",
    "    bio_tags= []\n",
    "    for x in range(len(tags)):\n",
    "        element = tags[x]\n",
    "        if element != 'O':\n",
    "            if next_element == element:\n",
    "                bio_tags.append(f'I-{element}')\n",
    "            else:\n",
    "                bio_tags.append(f'B-{element}')\n",
    "        else:\n",
    "            bio_tags.append(element)\n",
    "        next_element = element\n",
    "    return bio_tags\n",
    "\n",
    "def add_entities(entity):\n",
    "    entity_list = []\n",
    "    if entity:       \n",
    "        for ents in entity:            \n",
    "            if ents[0].getName() != 'URL' and ents[0].getName() != 'URI':\n",
    "                special_case = [{ORTH: ents[0][0]}]\n",
    "                nlp.tokenizer.add_special_case(ents[0][0], special_case)\n",
    "                entity_list.append((ents[0][0], ents[0].getName()))\n",
    "            else:\n",
    "                if ents[0][0][-1] == '.':\n",
    "                    special_case = [{ORTH: ents[0][0][:-1]}, {ORTH: \".\"}]\n",
    "                    nlp.tokenizer.add_special_case(ents[0][0], special_case)\n",
    "                    entity_list.append((ents[0][0][:-1], ents[0].getName()))\n",
    "    return entity_list"
   ]
  },
  {
   "cell_type": "code",
   "execution_count": null,
   "metadata": {},
   "outputs": [],
   "source": [
    "import spacy\n",
    "from spacy.symbols import ORTH\n",
    "\n",
    "nlp = spacy.load(\"en_core_web_sm\")\n",
    "final_dataset = {\"data\": []}\n",
    "for idx, line in enumerate(article_list): # each sentence\n",
    "    entities = list(parser.scanString(line))\n",
    "    entity_list = add_entities(entities)\n",
    "    doc = nlp(line)\n",
    "    tokens = [w.text for w in doc]\n",
    "    ner_tags = [\"O\" for w in doc]\n",
    "    for idx, ele in enumerate(entity_list):\n",
    "        ner_tags[tokens.index(ele[0])] = convert_cat_name[ele[1]]\n",
    "    bio_tags = mapBioTags(ner_tags)\n",
    "    final_dataset[\"data\"].append({\"tokens\": tokens, \"ner_tags\": bio_tags})\n",
    "\n",
    "import json\n",
    "with open(\"../data/huggingface/hafnium_0607.json\", \"w\") as output:\n",
    "    json.dump(final_dataset, output, ensure_ascii=False)"
   ]
  },
  {
   "cell_type": "code",
   "execution_count": null,
   "metadata": {},
   "outputs": [],
   "source": []
  },
  {
   "attachments": {},
   "cell_type": "markdown",
   "metadata": {},
   "source": [
    "---\n",
    "## Extracting Steps: \n",
    "1. 網頁文章清洗 Readability\n",
    "2. 萃取命名實體並建立dictionary\n",
    "3. 修改ner_tags成代號 (tbd)\n",
    "4. save as json file"
   ]
  },
  {
   "cell_type": "code",
   "execution_count": null,
   "metadata": {},
   "outputs": [],
   "source": []
  },
  {
   "attachments": {},
   "cell_type": "markdown",
   "metadata": {},
   "source": [
    "## Read Reports\n",
    "\n",
    "1. get ids from pulse_20210310.json.gz:\n",
    "\n",
    "    `gunzip -c pulse_20210310.json.gz | head -n 5 | jq '.id'`\n",
    "\n",
    "2. parallel processing:\n",
    "\n",
    "    `gunzip -c pulse_20210310.json.gz | head -n 5 | jq '.id' | parallel xxx.py`"
   ]
  },
  {
   "cell_type": "code",
   "execution_count": 2,
   "metadata": {},
   "outputs": [],
   "source": [
    "from os import listdir\n",
    "from os.path import isfile, join, exists\n",
    "my_path = \"/Users/csti-user/Downloads/Projects/feed_references\"\n",
    "\n",
    "import sys\n",
    "id = '603eb1abdd4812819c64e197' #sys.argv[1]"
   ]
  },
  {
   "cell_type": "code",
   "execution_count": 8,
   "metadata": {},
   "outputs": [
    {
     "name": "stdout",
     "output_type": "stream",
     "text": [
      "603eb1abdd4812819c64e197: exchange-zero-day-proxylogon-and-hafnium\n",
      "['Sweden+46 8 10 00 10hello@truesec.seHeadquartersStockholmOxtorgsgränd 2, 5 tr111 57 StockholmMalmöTorggatan 4, 7 tr211 40 MalmöKarlskronaDrottninggatan 54, 2 tr371 33 KarlskronaUnited States+1 (425) 818-8044info@truesec.comJacksonville50 North Laura Street, Suite 2500371 33 Florida 3220']\n",
      "603eb1abdd4812819c64e197: aa21-062a\n",
      "['Official websites use .gov', 'A .gov website belongs to an official government organization in the United States.', \"Secure .gov websites use HTTPS A lock () or https:// means you've safely connected to the .gov website. Share sensitive information only on official, secure websites.\"]\n",
      "603eb1abdd4812819c64e197: hafnium-targeting-exchange-servers\n",
      "603eb1abdd4812819c64e197: microsoft-exchange-server-vulnerabilities\n",
      "['Threat Assessment: Active Exploitation of Four Zero-Day Vulnerabilities in Microsoft Exchange Server']\n",
      "603eb1abdd4812819c64e197: active-exploitation-of-microsoft-exchange-zero-day-vulnerabilities\n",
      "['Operation Exchange Marauder: Active Exploitation of Multiple Zero-Day Microsoft Exchange Vulnerabilities', 'March 2, 2021', 'by Josh Grunzweig, Matthew Meltzer, Sean Koessel, Steven Adair, Thomas Lancaster', '[UPDATE] March 8, 2021 – Since original publication of this blog, Volexity has now observed that cyber espionage operations using the SSRF vulnerability CVE-2021-26855 started occurring on January 3, 2021, three days earlier than initially posted.', 'Volexity is seeing active in-the-wild exploitation of multiple Microsoft Exchange vulnerabilities used to steal e-mail and compromise networks. These attacks appear to have started as early as January 6, 2021.', \"In January 2021, through its Network Security Monitoring service, Volexity detected anomalous activity from two of its customers' Microsoft Exchange servers. Volexity identified a large amount of data being sent to IP addresses it believed were not tied to legitimate users. A closer inspection of the IIS logs from the Exchange servers revealed rather alarming results. The logs showed inbound POST requests to valid files associated with images, JavaScript, cascading style sheets, and fonts used by Outlook Web Access (OWA). It was initially suspected the servers might be backdoored and that webshells were being executed through a malicious HTTP module or ISAPI filter. As a result, Volexity started its incident response efforts and acquired system memory (RAM) and other disk artifacts to initiate a forensics investigation. This investigation revealed that the servers were not backdoored and uncovered a zero-day exploit being used in the wild.\", 'Through its analysis of system memory, Volexity determined the attacker was exploiting a zero-day server-side request forgery (SSRF) vulnerability in Microsoft Exchange (CVE-2021-26855). The attacker was using the vulnerability to steal the full contents of several user mailboxes. This vulnerability is remotely exploitable and does not require authentication of any kind, nor does it require any special knowledge or access to a target environment. The attacker only needs to know the server running Exchange and the account from which they want to extract e-mail.', 'Additionally, Volexity is providing alternative mitigations that may be used by defenders to assist in securing their Microsoft Exchange instances. This vulnerability has been confirmed to exist within the latest version of Exchange 2016 on a fully patched Windows Server 2016 server. Volexity also confirmed the vulnerability exists in Exchange 2019 but has not tested against a fully patched version, although it believes they are vulnerable. It should also be noted that is vulnerability does not appear to impact Office 365.', 'Following the discovery of CVE-2021-26855, Volexity continued to monitor the threat actor and work with additional impacted organizations. During the course of multiple incident response efforts, Volexity identified that the attacker had managed to chain the SSRF vulnerability with another that allows remote code execution (RCE) on the targeted Exchange servers (CVE-2021-27065). In all cases of RCE, Volexity has observed the attacker writing webshells (ASPX files) to disk and conducting further operations to dump credentials, add user accounts, steal copies of the Active Directory database (NTDS.DIT), and move laterally to other systems and environments.', 'A patch addressing both of these vulnerabilities is expected imminently.', 'Authentication Bypass Vulnerability', 'While Volexity cannot currently provide full technical details of the exploit and will not be sharing proof-of-concept exploit code, it is still possible to provide useful details surrounding the vulnerability’s exploitation and possible mitigations. Volexity observed the attacker focused on getting a list of e-mails from a targeted mailbox and downloading them. Based on these observations, it was possible for Volexity to further improve and automate attacks in a lab environment.', 'There are two methods to download e-mail with this vulnerability, depending on the way that Microsoft Exchange has been configured. In corporate environments it is common that multiple Exchange servers will be set up. This is often done for load balancing, availability, and resource splitting purposes. While it is less common, it is also possible to run all Exchange functionality on a single server.', 'In the case where a single server is being used to provide the Exchange service, Volexity believes the attacker must know the targeted user’s domain security identifier (SID) in order to access their mailbox. This is a static value and is not considered something secret. However, it is not something that is trivially obtained by someone without access to systems within a specific organization.', 'In a multiple server configuration, where the servers are configured in a Database Availability Group (DAG), Volexity has proven an attacker does not need to acquire a user’s domain SID to access their mailbox. The only information required is the e-mail address of the user they wish to target.', 'In order to exploit this vulnerability, the attacker must also identify the fully qualified domain name (FQDN) of the internal Exchange server(s). Using a series of requests, Volexity determined that this information could be extracted by an attacker with only initial knowledge of the external IP address or domain name of a publicly accessible Exchange server. After this information is obtained, the attacker can generate and send a specially crafted HTTP POST request to the Exchange server with an XML SOAP payload to the Exchange Web Services (EWS) API endpoint. This SOAP request, using specially crafted cookies, bypasses authentication and ultimately executes the underlying request specified in the XML, allowing an attacker to perform any operation on the users’ mailbox.', 'Volexity has observed this attack conducted via OWA. The exploit involved specially crafted POST requests being sent to a valid static resources that does not require authentication. Specifically, Volexity has observed POST requests targeting files found on the following web directory:', 'This folder contains image, font, and cascading style sheet files. Using any of these files for the POST request appears to allow the exploit to proceed. If a file such as /owa/auth/logon.aspx or simply a folder such as /owa/auth/ were to be used, the exploit will not work.', 'Authentication Bypass Exploit Demonstration', 'The video below demonstrates the vulnerability being exploited in a lab environment:', 'Figure 1. Video demonstrating the authentication bypass vulnerability at work in a lab environment.', 'In the video demonstration, the following SOAP XML payload is used to retrieve the identifiers of each email in Alice’s inbox:', \"Figure 2. XML payload used to pull email identifiers from Alice's inbox without authentication.\", 'Then, the following payload is used to pull down each individual email:', 'Figure 3. Payload used to retrieve individual emails without authentication.', 'Remote Code Execution Vulnerability', \"As mentioned in the introduction to this post, a remote code execution (RCE) exploit was also observed in use against multiple organizations. This RCE appears to reside within the use of the Set-OabVirtualDirectory ExchangePowerShell cmdlet. Evidence of this activity can be seen in Exchange's ECP Server logs. A snippet with the exploit removed is shown below.\", ';\\'S:CMD=Set-OabVirtualDirectory.ExternalUrl=\\'\\'<removed>\"', 'IIS logs for the server would show an entry similar to what is shown below; however, this URL path may be used for items not associated with this exploit or activity.', '/ecp/DDI/DDIService.svc/SetObject', 'In this case, this simple backdoor, which Volexity has named SIMPLESEESHARP, was then used to drop a larger webshell, named SPORTSBALL, on affected systems. Further, Volexity has observed numerous other webshells in use, such as China Chopper variants and ASPXSPY.', 'POST Exploitation Activity', \"While the attackers appear to have initially flown largely under the radar by simply stealing e-mails, they recently pivoted to launching exploits to gain a foothold. From Volexity's perspective, this exploitation appears to involve multiple operators using a wide variety of tools and methods for dumping credentials, moving laterally, and further backdooring systems. Below is a summary of the different methods and tools Volexity has observed thus far:\", 'Method/Tool', 'Purpose', 'rundll32 C:\\\\windows\\\\system32\\\\comsvcs.dll MiniDump lsass.dmp', 'Dump process memory of lsass.exe to obtain credentials', 'PsExec', 'Windows Sysinternals tool used to execute commands on remote systems', 'ProcDump', 'Windows Sysinternals tool to dump process memory', 'WinRar Command Line Utility', 'Used archive data exfiltration', 'Webshells (ASPX and PHP)', 'Used to allow command execution or network proxying via external websites', 'Domain Account User Addition', 'Leveraged by attackers to add their own user account and grant it privileges to provide access in the future', 'Indicators of Compromise', 'Authentication Bypass Indicators', 'In Volexity’s observations of authentication bypass attacks being performed in the wild, files such as the following were the targets of HTTP POST requests:', '/owa/auth/Current/themes/resources/logon.css', '/owa/auth/Current/themes/resources/owafont_ja.css', '/owa/auth/Current/themes/resources/lgnbotl.gif', '/owa/auth/Current/themes/resources/owafont_ko.css', '/owa/auth/Current/themes/resources/SegoeUI-SemiBold.eot', '/owa/auth/Current/themes/resources/SegoeUI-SemiLight.ttf', '/owa/auth/Current/themes/resources/lgnbotl.gif', 'Remote Code Execution Indicators', 'To identify possible historical activity related to the remote code execution exploit, organizations can search their ECP Server logs for the following string (or similar).', 'ECP Server logs are typically located at <exchange install path>\\\\Logging\\\\ECP\\\\Server\\\\', 'Webshell Indicators', 'Further, Volexity has observed indicators that are consistent with web server breaches that can be used to look on disk and in web logs for access to or the presence of ASPX files at the following paths:', '\\\\inetpub\\\\wwwroot\\\\aspnet_client\\\\ (any .aspx file under this folder or sub folders)', '\\\\<exchange install path>\\\\FrontEnd\\\\HttpProxy\\\\ecp\\\\auth\\\\ (any file besides TimeoutLogoff.aspx)', '\\\\<exchange install path>\\\\FrontEnd\\\\HttpProxy\\\\owa\\\\auth\\\\ (any file or modified file that is not part of a standard install)', '\\\\<exchange install path>\\\\FrontEnd\\\\HttpProxy\\\\owa\\\\auth\\\\Current\\\\<any aspx file in this folder or subfolders>', '\\\\<exchange install path>\\\\FrontEnd\\\\HttpProxy\\\\owa\\\\auth\\\\<folder with version number>\\\\<any aspx file in this folder or subfolders>', 'It should be noted that Volexity has observed the attacker adding webshell code to otherwise legitimate ASPX files in an attempt to blend in and hide from defenders.', 'Web Log User-Agents', 'There are also a handful of User-Agent that may be useful for responders to look for when examining their web logs. These are not necessarily indicative of compromise, but should be used to determine if further investigation.', 'Volexity observed the following non-standard User-Agents associated with POST requests to the files found under folders within /owa/auth/Current.', 'DuckDuckBot/1.0;+(+http://duckduckgo.com/duckduckbot.html)', 'facebookexternalhit/1.1+(+http://www.facebook.com/externalhit_uatext.php)', 'Mozilla/5.0+(compatible;+Baiduspider/2.0;++http://www.baidu.com/search/spider.html)', 'Mozilla/5.0+(compatible;+Bingbot/2.0;++http://www.bing.com/bingbot.htm)', 'Mozilla/5.0+(compatible;+Googlebot/2.1;++http://www.google.com/bot.html', 'Mozilla/5.0+(compatible;+Konqueror/3.5;+Linux)+KHTML/3.5.5+(like+Gecko)+(Exabot-Thumbnails)', 'Mozilla/5.0+(compatible;+Yahoo!+Slurp;+http://help.yahoo.com/help/us/ysearch/slurp)', 'Mozilla/5.0+(compatible;+YandexBot/3.0;++http://yandex.com/bots)', 'Mozilla/5.0+(X11;+Linux+x86_64)+AppleWebKit/537.36+(KHTML,+like+Gecko)+Chrome/51.0.2704.103+Safari/537.36', 'Volexity observed the following User-Agents in conjunction with exploitation to /ecp/ URLs.', 'ExchangeServicesClient/0.0.0.0', 'python-requests/2.19.1', 'python-requests/2.25.1', 'Further other notable User-Agent entries tied to tools used for post-exploitation access to webshells.', 'antSword/v2.1', 'Googlebot/2.1+(+http://www.googlebot.com/bot.html)', 'Mozilla/5.0+(compatible;+Baiduspider/2.0;++http://www.baidu.com/search/spider.html)', 'Additional Auth Bypass and RCE Indicators', 'To identify possible historical activity relating to the authentication bypass and RCE activity, IIS logs from Exchange servers can be examined for the following:', 'POST /owa/auth/Current/', 'POST /ecp/default.flt', 'POST /ecp/main.css', 'POST /ecp/<single char>.js', 'Note that the presence of log entries with POST requests under these directories does not guarantee an Exchange server has been exploited. However, its presence should warrant further investigation.', 'Yara signatures for non trivial webshells deployed by attackers following successful exploitation may be found in the Appendix of this post.', 'Network Indicators - Attacker IPs', 'Volexity has observed numerous IP addresses leveraged by the attackers to exploit the vulnerabilities described in this blog. These IP addresses are tied to VPS servers and VPN services. Volexity has also observed the attackers using Tor, but has made attempts to remove those entries from the list below.', '103.77.192.219', '104.140.114.110', '104.250.191.110', '108.61.246.56', '149.28.14.163', '157.230.221.198', '167.99.168.251', '185.250.151.72', '192.81.208.169', '203.160.69.66', '211.56.98.146', '5.254.43.18', '80.92.205.81', 'Conclusion', 'Highly skilled attackers continue to innovate in order to bypass defenses and gain access to their targets, all in support of their mission and goals. These particular vulnerabilities in Microsoft Exchange are no exception. These attackers are conducting novel attacks to bypass authentication, including two-factor authentication, allowing them to access e-mail accounts of interest within targeted organizations and remotely execute code on vulnerable Microsoft Exchange servers.', 'Due to the ongoing observed exploitation of the discussed vulnerabilities, Volexity urges organizations to immediately apply the available patches or temporarily disabling external access to Microsoft Exchange until a patch can be applied.', 'Need Assistance?', 'If you have concerns that your servers or networks may have been compromised from this vulnerability, please reach out to the Volexity team and we can help you make a determination if further investigation is warranted.', 'Appendix', 'rule webshell_aspx_simpleseesharp : Webshell Unclassified', '{', 'meta:', 'author= \"[email protected]\"', 'date= \"2021-03-01\"', 'description= \"A simple ASPX Webshell that allows an attacker to write further files to disk.\"', 'hash= \"893cd3583b49cb706b3e55ecb2ed0757b977a21f5c72e041392d1256f31166e2\"', 'strings:', '$header= \"<%@ Page Language=\\\\\"C#\\\\\" %>\"', '$body= \"<% HttpPostedFile thisFile = Request.Files[0];thisFile.SaveAs(Path.Combine\"', 'condition:', '$header at 0 and', '$body and', 'filesize < 1KB', '}', 'rule webshell_aspx_reGeorgTunnel : Webshell Commodity', '{', 'meta:', 'date= \"2021-03-01\"', 'description= \"variation on reGeorgtunnel\"', 'hash= \"406b680edc9a1bb0e2c7c451c56904857848b5f15570401450b73b232ff38928\"', 'reference= \"https://github.com/sensepost/reGeorg/blob/master/tunnel.aspx\"', 'strings:', '$s1= \"System.Net.Sockets\"', '$s2= \"System.Text.Encoding.Default.GetString(Convert.FromBase64String(StrTr(Request.Headers.Get\"', '$t1 = \".Split(\\'|\\')\"', '$t2= \"Request.Headers.Get\"', '$t3= \".Substring(\"', '$t4= \"new Socket(\"', '$t5= \"IPAddress ip;\"', 'condition:', 'all of ($s*) or', 'all of ($t*)', '}', 'rule webshell_aspx_sportsball : Webshell', '{', 'meta:', 'author= \"[email protected]\"', 'date= \"2021-03-01\"', 'description= \"The SPORTSBALL webshell allows attackers to upload files or execute commands on the system.\"', 'hash= \"2fa06333188795110bba14a482020699a96f76fb1ceb80cbfa2df9d3008b5b0a\"', 'strings:', '$uniq1= \"HttpCookie newcook = new HttpCookie(\\\\\"fqrspt\\\\\", HttpContext.Current.Request.Form\"', '$uniq2= \"ZN2aDAB4rXsszEvCLrzgcvQ4oi5J1TuiRULlQbYwldE=\"', '$var1= \"Result.InnerText = string.Empty;\"', '$var2= \"newcook.Expires = DateTime.Now.AddDays(\"', '$var3= \"System.Diagnostics.Process process = new System.Diagnostics.Process()\"', '$var4= \"process.StandardInput.WriteLine(HttpContext.Current.Request.Form[\\\\\"\"', '$var5= \"else if (!string.IsNullOrEmpty(HttpContext.Current.Request.Form[\\\\\"\"', '$var6= \"<input type=\\\\\"submit\\\\\" value=\\\\\"Upload\\\\\" />\"', 'condition:', 'any of ($uniq*) or', 'all of ($var*)', '}']\n"
     ]
    }
   ],
   "source": [
    "DIRPATH = join(my_path, id)\n",
    "invalid = ['PDF', 'pdf', 'html']\n",
    "if exists(DIRPATH) == True: \n",
    "    for f in listdir(DIRPATH):\n",
    "        if all(ele not in f for ele in invalid):\n",
    "            print(f'{id}: {f}')\n",
    "            file_name = join(DIRPATH, f)\n",
    "            article_list = preprocess_article(file_name)\n",
    "            if len(article_list) > 0:\n",
    "                print(article_list)\n",
    "else:\n",
    "    print(f'{id} not exists. {join(my_path, id)}')"
   ]
  },
  {
   "cell_type": "code",
   "execution_count": null,
   "metadata": {},
   "outputs": [],
   "source": []
  }
 ],
 "metadata": {
  "kernelspec": {
   "display_name": "Python 3.6.13 ('magpie')",
   "language": "python",
   "name": "python3"
  },
  "language_info": {
   "codemirror_mode": {
    "name": "ipython",
    "version": 3
   },
   "file_extension": ".py",
   "mimetype": "text/x-python",
   "name": "python",
   "nbconvert_exporter": "python",
   "pygments_lexer": "ipython3",
   "version": "3.11.2"
  },
  "orig_nbformat": 4,
  "vscode": {
   "interpreter": {
    "hash": "55050e98319b7073ef7d052c1c5d52cd576318600045c5fc014a2ed6fc3ecc4d"
   }
  }
 },
 "nbformat": 4,
 "nbformat_minor": 2
}
