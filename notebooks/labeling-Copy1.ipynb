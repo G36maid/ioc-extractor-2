{
 "cells": [
  {
   "cell_type": "code",
   "execution_count": 1,
   "id": "d4710961-b7d9-46f4-a6e4-48aed074c5db",
   "metadata": {},
   "outputs": [],
   "source": [
    "%load_ext lab_black\n",
    "# %load_ext autotime"
   ]
  },
  {
   "cell_type": "code",
   "execution_count": 2,
   "id": "93333511-e834-49f0-bdc5-6436b9e78b94",
   "metadata": {},
   "outputs": [],
   "source": [
    "import sys\n",
    "\n",
    "sys.path.append(\"../\")"
   ]
  },
  {
   "cell_type": "code",
   "execution_count": 3,
   "id": "97d1bd36-6eba-4894-b87c-4725359493f7",
   "metadata": {},
   "outputs": [],
   "source": [
    "# from magpie.src.label import PulseLabel\n",
    "from functional import seq"
   ]
  },
  {
   "cell_type": "code",
   "execution_count": 4,
   "id": "c8086b61-1a1e-435a-8304-c3531a5bcc20",
   "metadata": {},
   "outputs": [],
   "source": [
    "feed = seq.json(\"../data/hellokitty.feeds.json\").to_dict()"
   ]
  },
  {
   "cell_type": "code",
   "execution_count": 5,
   "id": "c4f7ac89-52fb-4b51-ab09-f22463cc5f97",
   "metadata": {},
   "outputs": [
    {
     "data": {
      "text/plain": [
       "{'id': '6047944bd5bd6b6f323e59fa',\n",
       " 'name': 'HelloKitty Ransomware Lacks Stealth, But Still Strikes Home',\n",
       " 'description': 'HelloKitty is a ransomware family that emerged in late 2020. While it lacks the sophistication of some of the more well-known families such as Ryuk, REvil, and Conti, it has nevertheless struck some notable targets, including CEMIG0. In this post, Sentinel Labs analyzes a recent HelloKitty sample and outlines the basic behaviors and traits associated with this family of ransomware.',\n",
       " 'author_name': 'AlienVault',\n",
       " 'modified': '2021-03-09T15:29:14.999000',\n",
       " 'created': '2021-03-09T15:29:14.999000',\n",
       " 'revision': 1,\n",
       " 'tlp': 'white',\n",
       " 'public': 1,\n",
       " 'adversary': '',\n",
       " 'indicators': [{'id': 2892282605,\n",
       "   'indicator': '136bd70f7aa98f52861879d7dca03cf2',\n",
       "   'type': 'FileHash-MD5',\n",
       "   'created': '2021-03-09T15:29:16',\n",
       "   'content': '',\n",
       "   'title': 'Ransom:Win32/Death.DB!MTB',\n",
       "   'description': 'MD5 of fadd8d7c13a18c251ded1f645ffea18a37f1c2de',\n",
       "   'expiration': None,\n",
       "   'is_active': 1,\n",
       "   'role': None},\n",
       "  {'id': 2892282606,\n",
       "   'indicator': '501487b025f25ddf1ca32deb57a2b4db43ccf6635c1edc74b9cff54ce0e5bcfe',\n",
       "   'type': 'FileHash-SHA256',\n",
       "   'created': '2021-03-09T15:29:16',\n",
       "   'content': '',\n",
       "   'title': 'Ransom:Win32/Death.DB!MTB',\n",
       "   'description': 'SHA256 of fadd8d7c13a18c251ded1f645ffea18a37f1c2de',\n",
       "   'expiration': None,\n",
       "   'is_active': 1,\n",
       "   'role': None},\n",
       "  {'id': 2892282607,\n",
       "   'indicator': 'fadd8d7c13a18c251ded1f645ffea18a37f1c2de',\n",
       "   'type': 'FileHash-SHA1',\n",
       "   'created': '2021-03-09T15:29:16',\n",
       "   'content': '',\n",
       "   'title': 'Ransom:Win32/Death.DB!MTB',\n",
       "   'description': '',\n",
       "   'expiration': None,\n",
       "   'is_active': 1,\n",
       "   'role': None},\n",
       "  {'id': 2892282608,\n",
       "   'indicator': '6x7dp6h3w6q3ugjv4yv5gycj3femb24kysgry5b44hhgfwc5ml5qrdad.onion',\n",
       "   'type': 'domain',\n",
       "   'created': '2021-03-09T15:29:16',\n",
       "   'content': '',\n",
       "   'title': '',\n",
       "   'description': '',\n",
       "   'expiration': None,\n",
       "   'is_active': 1,\n",
       "   'role': None}],\n",
       " 'tags': ['HelloKitty', 'Ransomware'],\n",
       " 'targeted_countries': [],\n",
       " 'malware_families': ['HelloKitty Ransomware',\n",
       "  'Win32:HelloKitty',\n",
       "  'Ransom.HelloKitty'],\n",
       " 'attack_ids': ['T1005',\n",
       "  'T1012',\n",
       "  'T1047',\n",
       "  'T1082',\n",
       "  'T1112',\n",
       "  'T1486',\n",
       "  'T1059.003',\n",
       "  'T1070.004'],\n",
       " 'references': ['https://labs.sentinelone.com/hellokitty-ransomware-lacks-stealth-but-still-strikes-home/'],\n",
       " 'industries': [],\n",
       " 'extract_source': [],\n",
       " 'more_indicators': False}"
      ]
     },
     "execution_count": 5,
     "metadata": {},
     "output_type": "execute_result"
    }
   ],
   "source": [
    "feed"
   ]
  },
  {
   "cell_type": "code",
   "execution_count": 6,
   "id": "824d28b9-d429-48f9-8646-2f8918d86297",
   "metadata": {},
   "outputs": [],
   "source": [
    "from itertools import product\n",
    "from enum import Enum\n",
    "from collections import ChainMap, namedtuple\n",
    "from functools import lru_cache\n",
    "from textdistance import jaro"
   ]
  },
  {
   "cell_type": "code",
   "execution_count": 7,
   "id": "9b918e66-669f-4256-af9a-7d7cfbc354ca",
   "metadata": {},
   "outputs": [],
   "source": [
    "class PulseLabelGenerator(object):\n",
    "\n",
    "    SINGULAR_PARTS = [\"name\", \"description\", \"adversary\"]\n",
    "    PLRUAL_PARTS = [\n",
    "        \"tags\",\n",
    "        \"targeted_countries\",\n",
    "        \"malware_families\",\n",
    "        \"attack_ids\",\n",
    "        \"industries\",\n",
    "    ]\n",
    "\n",
    "    PulseLabel = namedtuple(\"PulseLabel\", [\"category\", \"group\", \"role\"])\n",
    "\n",
    "    def __init__(self, pulse: dict):\n",
    "        self.pulse = pulse\n",
    "\n",
    "    @property\n",
    "    def singular_label(self):\n",
    "        # get items which field is string and not \"\"\n",
    "        items = {\n",
    "            key: self.pulse.get(key)\n",
    "            for key in self.SINGULAR_PARTS\n",
    "            if self.pulse.get(key) != \"\"\n",
    "        }.items()\n",
    "        # make label\n",
    "        label = (\n",
    "            seq(items)\n",
    "            .starmap(lambda key, value: (value, key))\n",
    "            .starmap(lambda string, key: (string, self.PulseLabel(key, 0, None)))\n",
    "        )\n",
    "        return label.to_dict()\n",
    "\n",
    "    @property\n",
    "    def plrual_label(self):\n",
    "        # get items which field is list and not []\n",
    "        items = {\n",
    "            key: self.pulse.get(key)\n",
    "            for key in self.PLRUAL_PARTS\n",
    "            if self.pulse.get(key) != []\n",
    "        }.items()\n",
    "\n",
    "        # key name replacements\n",
    "        substitution = {\n",
    "            \"tags\": \"tag\",\n",
    "            \"targeted_countries\": \"targeted_country\",\n",
    "            \"malware_families\": \"malware_family\",\n",
    "            \"attack_ids\": \"attack_id\",\n",
    "            \"industries\": \"industry\",\n",
    "        }\n",
    "        # make label\n",
    "        label = (\n",
    "            seq(items)\n",
    "            .starmap(lambda key, values: product(values, [key]))\n",
    "            .flatten()\n",
    "            .starmap(\n",
    "                lambda string, key: (\n",
    "                    string,\n",
    "                    self.PulseLabel(substitution.get(key), 0, None),\n",
    "                )\n",
    "            )\n",
    "        )\n",
    "        return label.to_dict()\n",
    "\n",
    "    def get_label(self):\n",
    "        return ChainMap(self.singular_label, self.plrual_label)"
   ]
  },
  {
   "cell_type": "code",
   "execution_count": 8,
   "id": "f0944986-1d93-43c5-bcea-ef77021ac74d",
   "metadata": {},
   "outputs": [],
   "source": [
    "class IndicatorLabelGenerator(object):\n",
    "\n",
    "    IndicatorLabel = namedtuple(\"IndicatorLabel\", [\"category\", \"group\", \"role\"])\n",
    "\n",
    "    def __init__(self, indicators):\n",
    "        self.indicators = indicators\n",
    "\n",
    "    @property\n",
    "    def enumerated_indicators(self):\n",
    "        # enumerate from 1, to distinguish with pulse\n",
    "        indicators = enumerate(self.indicators, 1)\n",
    "        return indicators\n",
    "\n",
    "    @staticmethod\n",
    "    def extract(index, indicator):\n",
    "\n",
    "        # extract from feed's indicator part, lazy but nasty\n",
    "        extractions = (\n",
    "            (\n",
    "                (indicator.get(\"content\"), (indicator.get(\"type\"), index, \"rule\"))\n",
    "                if indicator.get(\"content\").startswith(\"rule\")\n",
    "                and indicator.get(\"type\") is \"YARA\"\n",
    "                else (\n",
    "                    indicator.get(\"indicator\"),\n",
    "                    (indicator.get(\"type\"), index, indicator.get(\"role\")),\n",
    "                )\n",
    "            ),\n",
    "            (indicator.get(\"title\"), (\"title\", index, None)),\n",
    "            (indicator.get(\"description\"), (\"description\", index, None)),\n",
    "        )\n",
    "\n",
    "        return extractions\n",
    "\n",
    "    def get_label(self):\n",
    "\n",
    "        label = (\n",
    "            seq(self.enumerated_indicators)\n",
    "            .starmap(lambda index, indicator: (self.extract(index, indicator)))\n",
    "            .flatten()\n",
    "            .starmap(\n",
    "                lambda string, extraction: (\n",
    "                    string,\n",
    "                    self.IndicatorLabel(*extraction),\n",
    "                )  # formatting with namedtuple\n",
    "            )\n",
    "            .filter(\n",
    "                lambda label: label[0] is not \"\"\n",
    "            )  # if string is not existed, drop out\n",
    "        )\n",
    "\n",
    "        return label.to_dict()"
   ]
  },
  {
   "cell_type": "code",
   "execution_count": 9,
   "id": "222698ef-2dc1-4bb8-970b-edfa82a81ccb",
   "metadata": {},
   "outputs": [],
   "source": [
    "class FeedLabeler(object):\n",
    "\n",
    "    PULSE = [\n",
    "        \"name\",  # pulse.name\n",
    "        \"description\",  # pulse.description\n",
    "        \"adversary\",  # pulse.adversary\n",
    "        \"tags\",  # pulse.tags\n",
    "        \"targeted_countries\",  # pulse.targeted_countries\n",
    "        \"malware_families\",  # pulse.malware_families\n",
    "        \"attack_ids\",  # pulse.attack_ids\n",
    "        \"industries\",  # pulse.industries\n",
    "    ]\n",
    "\n",
    "    class MatchThreshold(Enum):\n",
    "        exactly_match = 1\n",
    "        fuzzy_match = 0.9\n",
    "\n",
    "    def __init__(self, feed):\n",
    "        self.feed = feed\n",
    "\n",
    "    @property\n",
    "    def pulse_label(self):\n",
    "        pulse = {key: self.feed.get(key) for key in self.PULSE}\n",
    "        label_processor = PulseLabelGenerator(pulse)\n",
    "        return label_processor.get_label()\n",
    "\n",
    "    @property\n",
    "    def indicator_label(self):\n",
    "        indicators = self.feed.get(\"indicators\")\n",
    "        label_processor = IndicatorLabelGenerator(indicators)\n",
    "        return label_processor.get_label()\n",
    "\n",
    "    @property\n",
    "    @lru_cache()\n",
    "    def label(self):\n",
    "        return ChainMap(self.pulse_label, self.indicator_label)\n",
    "\n",
    "    def match(self, string, method=\"fuzzy_match\"):\n",
    "        # match\n",
    "        matchings = (\n",
    "            seq(self.label.items())\n",
    "            .starmap(lambda k, v: (jaro.normalized_similarity(k, string), v))\n",
    "            .filter(\n",
    "                lambda similar_string: similar_string[0]\n",
    "                >= self.MatchThreshold[method].value\n",
    "            )\n",
    "            .sorted(lambda similar_string: similar_string[0], reverse=True)\n",
    "            .cache()\n",
    "        )\n",
    "\n",
    "        if matchings.empty():\n",
    "            label = None\n",
    "        else:\n",
    "            label = matchings.starmap(lambda similarity, label: label).first()\n",
    "\n",
    "        return label"
   ]
  },
  {
   "cell_type": "code",
   "execution_count": 10,
   "id": "7abe7b42-8e98-45eb-ae68-9a40e4ad5fa5",
   "metadata": {},
   "outputs": [
    {
     "data": {
      "text/plain": [
       "ChainMap(ChainMap({'HelloKitty Ransomware Lacks Stealth, But Still Strikes Home': PulseLabel(category='name', group=0, role=None), 'HelloKitty is a ransomware family that emerged in late 2020. While it lacks the sophistication of some of the more well-known families such as Ryuk, REvil, and Conti, it has nevertheless struck some notable targets, including CEMIG0. In this post, Sentinel Labs analyzes a recent HelloKitty sample and outlines the basic behaviors and traits associated with this family of ransomware.': PulseLabel(category='description', group=0, role=None)}, {'HelloKitty': PulseLabel(category='tag', group=0, role=None), 'Ransomware': PulseLabel(category='tag', group=0, role=None), 'HelloKitty Ransomware': PulseLabel(category='malware_family', group=0, role=None), 'Win32:HelloKitty': PulseLabel(category='malware_family', group=0, role=None), 'Ransom.HelloKitty': PulseLabel(category='malware_family', group=0, role=None), 'T1005': PulseLabel(category='attack_id', group=0, role=None), 'T1012': PulseLabel(category='attack_id', group=0, role=None), 'T1047': PulseLabel(category='attack_id', group=0, role=None), 'T1082': PulseLabel(category='attack_id', group=0, role=None), 'T1112': PulseLabel(category='attack_id', group=0, role=None), 'T1486': PulseLabel(category='attack_id', group=0, role=None), 'T1059.003': PulseLabel(category='attack_id', group=0, role=None), 'T1070.004': PulseLabel(category='attack_id', group=0, role=None)}), {'136bd70f7aa98f52861879d7dca03cf2': IndicatorLabel(category='FileHash-MD5', group=1, role=None), 'Ransom:Win32/Death.DB!MTB': IndicatorLabel(category='title', group=3, role=None), 'MD5 of fadd8d7c13a18c251ded1f645ffea18a37f1c2de': IndicatorLabel(category='description', group=1, role=None), '501487b025f25ddf1ca32deb57a2b4db43ccf6635c1edc74b9cff54ce0e5bcfe': IndicatorLabel(category='FileHash-SHA256', group=2, role=None), 'SHA256 of fadd8d7c13a18c251ded1f645ffea18a37f1c2de': IndicatorLabel(category='description', group=2, role=None), 'fadd8d7c13a18c251ded1f645ffea18a37f1c2de': IndicatorLabel(category='FileHash-SHA1', group=3, role=None), '6x7dp6h3w6q3ugjv4yv5gycj3femb24kysgry5b44hhgfwc5ml5qrdad.onion': IndicatorLabel(category='domain', group=4, role=None)})"
      ]
     },
     "execution_count": 10,
     "metadata": {},
     "output_type": "execute_result"
    }
   ],
   "source": [
    "FeedLabeler(feed).label"
   ]
  },
  {
   "cell_type": "code",
   "execution_count": 11,
   "id": "575e1823-48ed-4e16-ae36-da2fa6a8d949",
   "metadata": {},
   "outputs": [
    {
     "data": {
      "text/plain": [
       "IndicatorLabel(category='domain', group=4, role=None)"
      ]
     },
     "execution_count": 11,
     "metadata": {},
     "output_type": "execute_result"
    }
   ],
   "source": [
    "FeedLabeler(feed).match(\"6x7dp6h3w6q3ugjv4yv5gycj3femb24kysgry5b44hhgfwc5ml5qrdad\")"
   ]
  },
  {
   "cell_type": "markdown",
   "id": "b77f7815-b9ac-4789-aedf-d5b2d8512f61",
   "metadata": {},
   "source": [
    "---"
   ]
  },
  {
   "cell_type": "code",
   "execution_count": 12,
   "id": "8fa69b60-bdc6-4dd2-970f-21732fd3a732",
   "metadata": {},
   "outputs": [],
   "source": [
    "import sys\n",
    "\n",
    "sys.path.append(\"../\")"
   ]
  },
  {
   "cell_type": "code",
   "execution_count": 13,
   "id": "22d1239a-c3f7-4843-aaaf-ce6c051fabff",
   "metadata": {},
   "outputs": [],
   "source": [
    "from magpie.src.label import PulseLabelGenerator, IndicatorLabelGenerator\n",
    "from magpie.src.labeler import FeedLabeler, ElementLabeler\n",
    "\n",
    "from functional import seq"
   ]
  },
  {
   "cell_type": "code",
   "execution_count": 14,
   "id": "beffc016-deaf-40a8-a621-441c908cd239",
   "metadata": {},
   "outputs": [],
   "source": [
    "feed = seq.json(\"../data/hellokitty.feeds.json\").to_dict()\n",
    "# feed = seq.json(\"../data/hafnium.feeds.json\").to_dict()"
   ]
  },
  {
   "cell_type": "code",
   "execution_count": 15,
   "id": "7a78797a-52a8-4497-8083-2eb077290c98",
   "metadata": {},
   "outputs": [],
   "source": [
    "feed_labeler = FeedLabeler(feed)"
   ]
  },
  {
   "cell_type": "code",
   "execution_count": 16,
   "id": "4b04ad10-935c-48a3-a9c9-e48df03d5238",
   "metadata": {},
   "outputs": [
    {
     "data": {
      "text/plain": [
       "IndicatorLabel(category='domain', group=4, role=None)"
      ]
     },
     "execution_count": 16,
     "metadata": {},
     "output_type": "execute_result"
    }
   ],
   "source": [
    "feed_labeler.match_label(\"6x7dp6h3w6q3ugjv4yv5gycj3femb24kysgry5b44hhgfwc5ml5qrdad\")"
   ]
  },
  {
   "cell_type": "code",
   "execution_count": 17,
   "id": "f1c550f9-0a57-4b02-b546-ab2dff3ef8c0",
   "metadata": {},
   "outputs": [
    {
     "data": {
      "text/plain": [
       "ChainMap(ChainMap({'HelloKitty Ransomware Lacks Stealth, But Still Strikes Home': PulseLabel(category='name', group=0, role=None), 'HelloKitty is a ransomware family that emerged in late 2020. While it lacks the sophistication of some of the more well-known families such as Ryuk, REvil, and Conti, it has nevertheless struck some notable targets, including CEMIG0. In this post, Sentinel Labs analyzes a recent HelloKitty sample and outlines the basic behaviors and traits associated with this family of ransomware.': PulseLabel(category='description', group=0, role=None)}, {'HelloKitty': PulseLabel(category='tag', group=0, role=None), 'Ransomware': PulseLabel(category='tag', group=0, role=None), 'HelloKitty Ransomware': PulseLabel(category='malware_family', group=0, role=None), 'Win32:HelloKitty': PulseLabel(category='malware_family', group=0, role=None), 'Ransom.HelloKitty': PulseLabel(category='malware_family', group=0, role=None), 'T1005': PulseLabel(category='attack_id', group=0, role=None), 'T1012': PulseLabel(category='attack_id', group=0, role=None), 'T1047': PulseLabel(category='attack_id', group=0, role=None), 'T1082': PulseLabel(category='attack_id', group=0, role=None), 'T1112': PulseLabel(category='attack_id', group=0, role=None), 'T1486': PulseLabel(category='attack_id', group=0, role=None), 'T1059.003': PulseLabel(category='attack_id', group=0, role=None), 'T1070.004': PulseLabel(category='attack_id', group=0, role=None)}), {'136bd70f7aa98f52861879d7dca03cf2': IndicatorLabel(category='FileHash-MD5', group=1, role=None), 'Ransom:Win32/Death.DB!MTB': IndicatorLabel(category='title', group=3, role=None), 'MD5 of fadd8d7c13a18c251ded1f645ffea18a37f1c2de': IndicatorLabel(category='description', group=1, role=None), '501487b025f25ddf1ca32deb57a2b4db43ccf6635c1edc74b9cff54ce0e5bcfe': IndicatorLabel(category='FileHash-SHA256', group=2, role=None), 'SHA256 of fadd8d7c13a18c251ded1f645ffea18a37f1c2de': IndicatorLabel(category='description', group=2, role=None), 'fadd8d7c13a18c251ded1f645ffea18a37f1c2de': IndicatorLabel(category='FileHash-SHA1', group=3, role=None), '6x7dp6h3w6q3ugjv4yv5gycj3femb24kysgry5b44hhgfwc5ml5qrdad.onion': IndicatorLabel(category='domain', group=4, role=None)})"
      ]
     },
     "execution_count": 17,
     "metadata": {},
     "output_type": "execute_result"
    }
   ],
   "source": [
    "feed_labeler.label"
   ]
  },
  {
   "cell_type": "markdown",
   "id": "6730070a-45c4-4681-8184-482fa40cd292",
   "metadata": {},
   "source": [
    "---"
   ]
  },
  {
   "cell_type": "code",
   "execution_count": 18,
   "id": "51712f09-3da9-49ce-98f3-4c56d152a4c0",
   "metadata": {},
   "outputs": [],
   "source": [
    "from magpie.src.analyzer import HTMLElementAnalyzer\n",
    "from magpie.src.extractor import ContentExtractor\n",
    "from magpie.src.parser import EntityParser"
   ]
  },
  {
   "cell_type": "code",
   "execution_count": 19,
   "id": "81ec2f82-7859-4bdc-b1e4-d8fd6dbf7f6b",
   "metadata": {},
   "outputs": [],
   "source": [
    "document = open(\n",
    "    \"../data/hellokitty-ransomware-lacks-stealth-but-still-strikes-home.html\",\n",
    "    # \"../data/hafnium-targeting-exchange-servers.html\",\n",
    "    \"r\",\n",
    ").read()"
   ]
  },
  {
   "cell_type": "code",
   "execution_count": 20,
   "id": "2c24e87d-5b33-4c7f-b79f-2d61e1c9ad9f",
   "metadata": {},
   "outputs": [],
   "source": [
    "analyzer = HTMLElementAnalyzer(document)\n",
    "extractor = ContentExtractor()\n",
    "parser = EntityParser(analyzer.keywords)"
   ]
  },
  {
   "cell_type": "code",
   "execution_count": 21,
   "id": "02a91892-10f4-4b24-9415-962451d7afee",
   "metadata": {},
   "outputs": [],
   "source": [
    "element_labeler = ElementLabeler(\n",
    "    analyzer.primary_subtree_leafs,\n",
    "    content_extractor=extractor,\n",
    "    entity_parser=parser,\n",
    "    feed_labeler=feed_labeler,\n",
    ")"
   ]
  },
  {
   "cell_type": "markdown",
   "id": "70aeadf5-159d-4556-a46e-e282789ff293",
   "metadata": {},
   "source": [
    "---"
   ]
  },
  {
   "cell_type": "code",
   "execution_count": 22,
   "id": "8b92c768-58ea-4a66-bf8f-5eb3ffa85c2b",
   "metadata": {},
   "outputs": [],
   "source": [
    "from itertools import product\n",
    "\n",
    "product_by_contents = lambda element: product(\n",
    "    [element], extractor.get_contents(element)\n",
    ")\n",
    "\n",
    "product_by_entities = lambda element, content: product(\n",
    "    [element], [content], parser.iterscan(content)\n",
    ")"
   ]
  },
  {
   "cell_type": "code",
   "execution_count": 23,
   "id": "6f679c28-7947-4c89-8054-171e19a492e9",
   "metadata": {},
   "outputs": [
    {
     "data": {
      "text/html": [
       "<table>\n",
       "<tbody>\n",
       "<tr><td>HelloKitty Ransomware Lacks Stealth, But Still Strikes Home                                                                                                                                                                                                                                                                                                                        </td><td>               </td><td>&lt;Element h1 at 0x131dfcc08&gt;  </td><td>text</td><td>(49, 108)</td><td>(0, 59) </td><td>PulseLabel(category=&#x27;name&#x27;, group=0, role=None)               </td></tr>\n",
       "<tr><td>HelloKitty is a ransomware family that emerged in late 2020. While it lacks the sophistication of some of the more well-known families such as Ryuk, REvil, and Conti, it has nevertheless struck some notable targets, including CEMIG0. In this post, we analyse a recent HelloKitty sample and outline the basic behaviors and traits associated with this family of ransomware.</td><td>               </td><td>&lt;Element p at 0x131dfd108&gt;   </td><td>text</td><td>(3, 374) </td><td>(0, 371)</td><td>PulseLabel(category=&#x27;description&#x27;, group=0, role=None)        </td></tr>\n",
       "<tr><td>6x7dp6h3w6q3ugjv4yv5gycj3femb24kysgry5b44hhgfwc5ml5qrdad.onion                                                                                                                                                                                                                                                                                                                     </td><td>domain         </td><td>&lt;Element code at 0x131dfd9c8&gt;</td><td>text</td><td>(6, 68)  </td><td>(0, 62) </td><td>IndicatorLabel(category=&#x27;domain&#x27;, group=4, role=None)         </td></tr>\n",
       "<tr><td>fadd8d7c13a18c251ded1f645ffea18a37f1c2de                                                                                                                                                                                                                                                                                                                                           </td><td>FileHash-SHA1  </td><td>&lt;Element br at 0x131dfdbc8&gt;  </td><td>tail</td><td>(5, 46)  </td><td>(1, 41) </td><td>IndicatorLabel(category=&#x27;FileHash-SHA1&#x27;, group=3, role=None)  </td></tr>\n",
       "<tr><td>501487b025f25ddf1ca32deb57a2b4db43ccf6635c1edc74b9cff54ce0e5bcfe                                                                                                                                                                                                                                                                                                                   </td><td>FileHash-SHA256</td><td>&lt;Element br at 0x131dfdc88&gt;  </td><td>tail</td><td>(5, 70)  </td><td>(1, 65) </td><td>IndicatorLabel(category=&#x27;FileHash-SHA256&#x27;, group=2, role=None)</td></tr>\n",
       "<tr><td>T1005                                                                                                                                                                                                                                                                                                                                                                              </td><td>AttackTechnique</td><td>&lt;Element a at 0x131dfdd88&gt;   </td><td>text</td><td>(45, 50) </td><td>(0, 5)  </td><td>PulseLabel(category=&#x27;attack_id&#x27;, group=0, role=None)          </td></tr>\n",
       "<tr><td>T1112                                                                                                                                                                                                                                                                                                                                                                              </td><td>AttackTechnique</td><td>&lt;Element a at 0x131dfde08&gt;   </td><td>text</td><td>(45, 50) </td><td>(0, 5)  </td><td>PulseLabel(category=&#x27;attack_id&#x27;, group=0, role=None)          </td></tr>\n",
       "<tr><td>T1012                                                                                                                                                                                                                                                                                                                                                                              </td><td>AttackTechnique</td><td>&lt;Element a at 0x131dfde88&gt;   </td><td>text</td><td>(45, 50) </td><td>(0, 5)  </td><td>PulseLabel(category=&#x27;attack_id&#x27;, group=0, role=None)          </td></tr>\n",
       "<tr><td>T1082                                                                                                                                                                                                                                                                                                                                                                              </td><td>AttackTechnique</td><td>&lt;Element a at 0x131dfdf08&gt;   </td><td>text</td><td>(45, 50) </td><td>(0, 5)  </td><td>PulseLabel(category=&#x27;attack_id&#x27;, group=0, role=None)          </td></tr>\n",
       "<tr><td>T1486                                                                                                                                                                                                                                                                                                                                                                              </td><td>AttackTechnique</td><td>&lt;Element a at 0x131dfdf88&gt;   </td><td>text</td><td>(45, 50) </td><td>(0, 5)  </td><td>PulseLabel(category=&#x27;attack_id&#x27;, group=0, role=None)          </td></tr>\n",
       "</tbody>\n",
       "</table><p>Showing 10 of 16 rows"
      ],
      "text/plain": [
       "[('HelloKitty Ransomware Lacks Stealth, But Still Strikes Home', None, <Element h1 at 0x131dfcc08>, 'text', (49, 108), (0, 59), PulseLabel(category='name', group=0, role=None)), ('HelloKitty is a ransomware family that emerged in late 2020. While it lacks the sophistication of some of the more well-known families such as Ryuk, REvil, and Conti, it has nevertheless struck some notable targets, including CEMIG0. In this post, we analyse a recent HelloKitty sample and outline the basic behaviors and traits associated with this family of ransomware.', None, <Element p at 0x131dfd108>, 'text', (3, 374), (0, 371), PulseLabel(category='description', group=0, role=None)), ('6x7dp6h3w6q3ugjv4yv5gycj3femb24kysgry5b44hhgfwc5ml5qrdad.onion', 'domain', <Element code at 0x131dfd9c8>, 'text', (6, 68), (0, 62), IndicatorLabel(category='domain', group=4, role=None)), ('fadd8d7c13a18c251ded1f645ffea18a37f1c2de', 'FileHash-SHA1', <Element br at 0x131dfdbc8>, 'tail', (5, 46), (1, 41), IndicatorLabel(category='FileHash-SHA1', group=3, role=None)), ('501487b025f25ddf1ca32deb57a2b4db43ccf6635c1edc74b9cff54ce0e5bcfe', 'FileHash-SHA256', <Element br at 0x131dfdc88>, 'tail', (5, 70), (1, 65), IndicatorLabel(category='FileHash-SHA256', group=2, role=None)), ('T1005', 'AttackTechnique', <Element a at 0x131dfdd88>, 'text', (45, 50), (0, 5), PulseLabel(category='attack_id', group=0, role=None)), ('T1112', 'AttackTechnique', <Element a at 0x131dfde08>, 'text', (45, 50), (0, 5), PulseLabel(category='attack_id', group=0, role=None)), ('T1012', 'AttackTechnique', <Element a at 0x131dfde88>, 'text', (45, 50), (0, 5), PulseLabel(category='attack_id', group=0, role=None)), ('T1082', 'AttackTechnique', <Element a at 0x131dfdf08>, 'text', (45, 50), (0, 5), PulseLabel(category='attack_id', group=0, role=None)), ('T1486', 'AttackTechnique', <Element a at 0x131dfdf88>, 'text', (45, 50), (0, 5), PulseLabel(category='attack_id', group=0, role=None)), ('T1070.004', 'AttackTechnique', <Element a at 0x131dfe048>, 'text', (99, 108), (0, 9), PulseLabel(category='attack_id', group=0, role=None)), ('T1059.003', 'AttackTechnique', <Element a at 0x131dfe0c8>, 'text', (99, 108), (0, 9), PulseLabel(category='attack_id', group=0, role=None)), ('T1047', 'AttackTechnique', <Element a at 0x131dfe148>, 'text', (45, 50), (0, 5), PulseLabel(category='attack_id', group=0, role=None)), ('Ransomware', None, <Element a at 0x131dfe2c8>, 'text', (65, 75), (0, 10), PulseLabel(category='tag', group=0, role=None)), ('#HelloKitty', None, <Element a at 0x131e02d08>, 'text', (64, 75), (0, 11), PulseLabel(category='tag', group=0, role=None)), ('HelloKitty Ransomware Lacks Stealth, But Still Strikes Home', None, <Element a at 0x131e01948>, 'text', (99, 158), (0, 59), PulseLabel(category='name', group=0, role=None))]"
      ]
     },
     "execution_count": 23,
     "metadata": {},
     "output_type": "execute_result"
    }
   ],
   "source": [
    "seq(analyzer.primary_subtree_leafs).map(product_by_contents).flatten().starmap(\n",
    "    product_by_entities\n",
    ").flatten().starmap(\n",
    "    lambda element, content, text: (\n",
    "        text.string,\n",
    "        text.entity,\n",
    "        # element.sourceline,\n",
    "        element,\n",
    "        content.property,\n",
    "        content.span,\n",
    "        text.span,\n",
    "    )\n",
    ").starmap(\n",
    "    lambda string, entity, element, prop, content_span, text_span: (\n",
    "        string,\n",
    "        entity,\n",
    "        element,\n",
    "        prop,\n",
    "        content_span,\n",
    "        text_span,\n",
    "        element_labeler.match_label(element)\n",
    "        if element_labeler.match_label(element) is not None\n",
    "        else feed_labeler.match_label(string, method=\"fuzzy_match\"),\n",
    "    )\n",
    ").distinct().filter(\n",
    "    lambda x: x[6] != None\n",
    ")"
   ]
  },
  {
   "cell_type": "markdown",
   "id": "3128e12e-2eb7-47b3-a81d-f39e382dc53c",
   "metadata": {},
   "source": [
    "---"
   ]
  },
  {
   "cell_type": "code",
   "execution_count": 28,
   "id": "a44f17a5-eade-494d-b283-699be2bb87c8",
   "metadata": {},
   "outputs": [
    {
     "data": {
      "text/html": [
       "<table>\n",
       "<tbody>\n",
       "<tr><td>&lt;Element a at 0x131dfcbc8&gt;   </td><td>Content(property=&#x27;text&#x27;, text=&#x27;Crimeware&#x27;, span=(78, 87))                                                                                                                                                                                              </td><td>Text(entity=None, string=&#x27;Crimeware&#x27;, span=(0, 9))                                                                                                                                                                                              </td></tr>\n",
       "<tr><td>&lt;Element h1 at 0x131dfcc08&gt;  </td><td>Content(property=&#x27;text&#x27;, text=&#x27;HelloKitty Ransomware Lacks Stealth, But Still Strikes Home&#x27;, span=(49, 108))                                                                                                                                           </td><td>Text(entity=None, string=&#x27;HelloKitty Ransomware Lacks Stealth, But Still Strikes Home&#x27;, span=(0, 59))                                                                                                                                           </td></tr>\n",
       "<tr><td>&lt;Element h1 at 0x131dfcc08&gt;  </td><td>Content(property=&#x27;tail&#x27;, text=&#x27;\\n\\t\\t&#x27;, span=(113, 116))                                                                                                                                                                                               </td><td>Text(entity=None, string=&#x27;\\n\\t\\t&#x27;, span=(0, 3))                                                                                                                                                                                                 </td></tr>\n",
       "<tr><td>&lt;Element a at 0x131dfcdc8&gt;   </td><td>Content(property=&#x27;text&#x27;, text=&#x27;Jim Walter&#x27;, span=(69, 79))                                                                                                                                                                                             </td><td>Text(entity=None, string=&#x27;Jim Walter&#x27;, span=(0, 10))                                                                                                                                                                                            </td></tr>\n",
       "<tr><td>&lt;Element time at 0x131dfcf08&gt;</td><td>Content(property=&#x27;text&#x27;, text=&#x27;March 8, 2021&#x27;, span=(97, 110))                                                                                                                                                                                         </td><td>Text(entity=None, string=&#x27;March 8, 2021&#x27;, span=(0, 13))                                                                                                                                                                                         </td></tr>\n",
       "<tr><td>&lt;Element time at 0x131dfcf48&gt;</td><td>Content(property=&#x27;text&#x27;, text=&#x27;March 11, 2021&#x27;, span=(59, 73))                                                                                                                                                                                         </td><td>Text(entity=None, string=&#x27;March 11, 2021&#x27;, span=(0, 14))                                                                                                                                                                                        </td></tr>\n",
       "<tr><td>&lt;Element p at 0x131dfcfc8&gt;   </td><td>Content(property=&#x27;text&#x27;, text=&#x27;Game studio CD Projekt Red recently &#x27;, span=(3, 39))                                                                                                                                                                    </td><td>Text(entity=None, string=&#x27;Game studio CD Projekt Red recently &#x27;, span=(0, 36))                                                                                                                                                                  </td></tr>\n",
       "<tr><td>&lt;Element p at 0x131dfcfc8&gt;   </td><td>Content(property=&#x27;tail&#x27;, text=&#x27;\\n&#x27;, span=(373, 374))                                                                                                                                                                                                   </td><td>Text(entity=None, string=&#x27;\\n&#x27;, span=(0, 1))                                                                                                                                                                                                     </td></tr>\n",
       "<tr><td>&lt;Element a at 0x131dfd048&gt;   </td><td>Content(property=&#x27;text&#x27;, text=&#x27;disclosed&#x27;, span=(120, 129))                                                                                                                                                                                            </td><td>Text(entity=None, string=&#x27;disclosed&#x27;, span=(0, 9))                                                                                                                                                                                              </td></tr>\n",
       "<tr><td>&lt;Element a at 0x131dfd048&gt;   </td><td>Content(property=&#x27;tail&#x27;, text=&#x27; that it became a victim of a targeted, highly-impactful ransomware. In the days following the disclosure, it was revealed that the ransomware family most likely behind the attack was “HelloKitty”.&#x27;, span=(133, 330))</td><td>Text(entity=None, string=&#x27; that it became a victim of a targeted, highly-impactful ransomware. In the days following the disclosure, it was revealed that the ransomware family most likely behind the attack was “HelloKitty”.&#x27;, span=(0, 197))</td></tr>\n",
       "</tbody>\n",
       "</table><p>Showing 10 of 184 rows"
      ],
      "text/plain": [
       "[(<Element a at 0x131dfcbc8>, Content(property='text', text='Crimeware', span=(78, 87)), Text(entity=None, string='Crimeware', span=(0, 9))), (<Element h1 at 0x131dfcc08>, Content(property='text', text='HelloKitty Ransomware Lacks Stealth, But Still Strikes Home', span=(49, 108)), Text(entity=None, string='HelloKitty Ransomware Lacks Stealth, But Still Strikes Home', span=(0, 59))), (<Element h1 at 0x131dfcc08>, Content(property='tail', text='\\n\\t\\t', span=(113, 116)), Text(entity=None, string='\\n\\t\\t', span=(0, 3))), (<Element a at 0x131dfcdc8>, Content(property='text', text='Jim Walter', span=(69, 79)), Text(entity=None, string='Jim Walter', span=(0, 10))), (<Element time at 0x131dfcf08>, Content(property='text', text='March 8, 2021', span=(97, 110)), Text(entity=None, string='March 8, 2021', span=(0, 13))), (<Element time at 0x131dfcf48>, Content(property='text', text='March 11, 2021', span=(59, 73)), Text(entity=None, string='March 11, 2021', span=(0, 14))), (<Element p at 0x131dfcfc8>, Content(property='text', text='Game studio CD Projekt Red recently ', span=(3, 39)), Text(entity=None, string='Game studio CD Projekt Red recently ', span=(0, 36))), (<Element p at 0x131dfcfc8>, Content(property='tail', text='\\n', span=(373, 374)), Text(entity=None, string='\\n', span=(0, 1))), (<Element a at 0x131dfd048>, Content(property='text', text='disclosed', span=(120, 129)), Text(entity=None, string='disclosed', span=(0, 9))), (<Element a at 0x131dfd048>, Content(property='tail', text=' that it became a victim of a targeted, highly-impactful ransomware. In the days following the disclosure, it was revealed that the ransomware family most likely behind the attack was “HelloKitty”.', span=(133, 330)), Text(entity=None, string=' that it became a victim of a targeted, highly-impactful ransomware. In the days following the disclosure, it was revealed that the ransomware family most likely behind the attack was “HelloKitty”.', span=(0, 197))), (<Element p at 0x131dfd108>, Content(property='text', text='HelloKitty is a ransomware family that emerged in late 2020. While it lacks the sophistication of some of the more well-known families such as Ryuk, REvil, and Conti, it has nevertheless struck some notable targets, including CEMIG0. In this post, we analyse a recent HelloKitty sample and outline the basic behaviors and traits associated with this family of ransomware.', span=(3, 374)), Text(entity=None, string='HelloKitty is a ransomware family that emerged in late 2020. While it lacks the sophistication of some of the more well-known families such as Ryuk, REvil, and Conti, it has nevertheless struck some notable targets, including CEMIG0. In this post, we analyse a recent HelloKitty sample and outline the basic behaviors and traits associated with this family of ransomware.', span=(0, 371))), (<Element p at 0x131dfd108>, Content(property='tail', text='\\n', span=(378, 379)), Text(entity=None, string='\\n', span=(0, 1))), (<Element h2 at 0x131dfd148>, Content(property='text', text='Execution and Behavior', span=(4, 26)), Text(entity=None, string='Execution and Behavior', span=(0, 22))), (<Element h2 at 0x131dfd148>, Content(property='tail', text='\\n', span=(31, 32)), Text(entity=None, string='\\n', span=(0, 1))), (<Element p at 0x131dfd188>, Content(property='text', text='The “HelloKitty” name is based on internal mutex names, which are apparent upon execution.', span=(3, 93)), Text(entity=None, string='The “HelloKitty” name is based on internal mutex names, which are apparent upon execution.', span=(0, 90))), (<Element p at 0x131dfd188>, Content(property='tail', text='\\n', span=(97, 98)), Text(entity=None, string='\\n', span=(0, 1))), (<Element p at 0x131dfd248>, Content(property='text', text='While still somewhat unclear, current intelligence indicates that the primary delivery method of HelloKitty binaries is via phish email or via secondary infection in conjunction with other malware.', span=(3, 200)), Text(entity=None, string='While still somewhat unclear, current intelligence indicates that the primary delivery method of HelloKitty binaries is via phish email or via secondary infection in conjunction with other malware.', span=(0, 197))), (<Element p at 0x131dfd248>, Content(property='tail', text='\\n', span=(204, 205)), Text(entity=None, string='\\n', span=(0, 1))), (<Element p at 0x131dfd288>, Content(property='text', text='Once launched, HelloKitty will attempt to disable and terminate a number of processes and services so as to reduce interference with the encryption process. This includes processes and services associated with IIS, MSSQL, Quickbooks, Sharepoint, and more. These actions are carried out via ', span=(3, 293)), Text(entity=None, string='Once launched, HelloKitty will attempt to disable and terminate a number of processes and services so as to reduce interference with the encryption process. This includes processes and services associated with IIS, MSSQL, Quickbooks, Sharepoint, and more. These actions are carried out via ', span=(0, 290))), (<Element p at 0x131dfd288>, Content(property='tail', text='\\n', span=(348, 349)), Text(entity=None, string='\\n', span=(0, 1))), (<Element code at 0x131dfd2c8>, Content(property='text', text='taskkill.exe', span=(6, 18)), Text(entity='FilePath', string='taskkill.exe', span=(0, 12))), (<Element code at 0x131dfd2c8>, Content(property='tail', text=' and ', span=(25, 30)), Text(entity=None, string=' and ', span=(0, 5))), (<Element code at 0x131dfd308>, Content(property='text', text='net.exe', span=(6, 13)), Text(entity='FilePath', string='net.exe', span=(0, 7))), (<Element code at 0x131dfd308>, Content(property='tail', text='.', span=(20, 21)), Text(entity=None, string='.', span=(0, 1))), (<Element p at 0x131dfd348>, Content(property='text', text='In the analyzed sample, this is all done in a very non-stealthy manner. All spawned CMD windows are in the foreground and fully visible. This ‘lack of discreteness’ is atypical for modern ransomware, or any successful malware, for that matter.', span=(3, 246)), Text(entity=None, string='In the analyzed sample, this is all done in a very non-stealthy manner. All spawned CMD windows are in the foreground and fully visible. This ‘lack of discreteness’ is atypical for modern ransomware, or any successful malware, for that matter.', span=(0, 243))), (<Element p at 0x131dfd348>, Content(property='tail', text='\\n', span=(250, 251)), Text(entity=None, string='\\n', span=(0, 1))), (<Element p at 0x131dfd408>, Content(property='text', text='A full list of processes from the analyzed sample are listed below:', span=(3, 70)), Text(entity=None, string='A full list of processes from the analyzed sample are listed below:', span=(0, 67))), (<Element p at 0x131dfd408>, Content(property='tail', text='\\n', span=(74, 75)), Text(entity=None, string='\\n', span=(0, 1))), (<Element pre at 0x131dfd448>, Content(property='text', text='\\ndsa*\\nNtrtsca\\nds_moni\\nNotifie\\nTmListe\\niVPAgen\\nCNTAoSM\\nIBM*\\nbes10*\\nblack*\\nrobo*\\ncopy*\\nstore.e\\nsql*\\nvee*\\nwrsa*\\nwrsa.ex\\npostg*\\nsage*\\nMSSQLServerADHelper100\\nMSSQL$ISARS\\nMSSQL$MSFW\\nSQLAgent$ISARS\\nSQLAgent$MSFW\\nSQLBrowser\\nReportServer$ISARS\\nSQLWriter\\nWinDefend\\nmr2kserv\\nMSExchangeADTopology\\nMSExchangeFBA\\nMSExchangeIS\\nMSExchangeSA\\nShadowProtectSvc\\nSPAdminV4\\nSPTimerV4\\nSPTraceV4\\nSPUserCodeV4\\nSPWriterV4\\nSPSearch4\\nIISADMIN\\nfirebirdguardiandefaultinstance\\nibmiasrw\\nQBCFMonitorService\\nQBVSS\\nQBPOSDBServiceV12\\n\"IBM Domino Server(CProgramFilesIBMDominodata)\"\\n\"IBM Domino Diagnostics(CProgramFilesIBMDomino)\"\\n\"Simply Accounting Database Connection Manager\"\\nQuickBooksDB1\\nQuickBooksDB2\\nQuickBooksDB3\\nQuickBooksDB4\\nQuickBooksDB5\\nQuickBooksDB6\\nQuickBooksDB7\\nQuickBooksDB8\\nQuickBooksDB9\\nQuickBooksDB10\\nQuickBooksDB11\\nQuickBooksDB12\\nQuickBooksDB13\\nQuickBooksDB14\\nQuickBooksDB15\\nQuickBooksDB16\\nQuickBooksDB17\\nQuickBooksDB18\\nQuickBooksDB19\\nQuickBooksDB20\\nQuickBooksDB21\\nQuickBooksDB22\\nQuickBooksDB23\\nQuickBooksDB24\\nQuickBooksDB25\\n', span=(5, 1015)), Text(entity=None, string='\\ndsa*\\nNtrtsca\\nds_moni\\nNotifie\\nTmListe\\niVPAgen\\nCNTAoSM\\nIBM*\\nbes10*\\nblack*\\nrobo*\\ncopy*\\n', span=(0, 85))), (<Element pre at 0x131dfd448>, Content(property='text', text='\\ndsa*\\nNtrtsca\\nds_moni\\nNotifie\\nTmListe\\niVPAgen\\nCNTAoSM\\nIBM*\\nbes10*\\nblack*\\nrobo*\\ncopy*\\nstore.e\\nsql*\\nvee*\\nwrsa*\\nwrsa.ex\\npostg*\\nsage*\\nMSSQLServerADHelper100\\nMSSQL$ISARS\\nMSSQL$MSFW\\nSQLAgent$ISARS\\nSQLAgent$MSFW\\nSQLBrowser\\nReportServer$ISARS\\nSQLWriter\\nWinDefend\\nmr2kserv\\nMSExchangeADTopology\\nMSExchangeFBA\\nMSExchangeIS\\nMSExchangeSA\\nShadowProtectSvc\\nSPAdminV4\\nSPTimerV4\\nSPTraceV4\\nSPUserCodeV4\\nSPWriterV4\\nSPSearch4\\nIISADMIN\\nfirebirdguardiandefaultinstance\\nibmiasrw\\nQBCFMonitorService\\nQBVSS\\nQBPOSDBServiceV12\\n\"IBM Domino Server(CProgramFilesIBMDominodata)\"\\n\"IBM Domino Diagnostics(CProgramFilesIBMDomino)\"\\n\"Simply Accounting Database Connection Manager\"\\nQuickBooksDB1\\nQuickBooksDB2\\nQuickBooksDB3\\nQuickBooksDB4\\nQuickBooksDB5\\nQuickBooksDB6\\nQuickBooksDB7\\nQuickBooksDB8\\nQuickBooksDB9\\nQuickBooksDB10\\nQuickBooksDB11\\nQuickBooksDB12\\nQuickBooksDB13\\nQuickBooksDB14\\nQuickBooksDB15\\nQuickBooksDB16\\nQuickBooksDB17\\nQuickBooksDB18\\nQuickBooksDB19\\nQuickBooksDB20\\nQuickBooksDB21\\nQuickBooksDB22\\nQuickBooksDB23\\nQuickBooksDB24\\nQuickBooksDB25\\n', span=(5, 1015)), Text(entity='FilePath', string='store.e', span=(85, 92))), (<Element pre at 0x131dfd448>, Content(property='text', text='\\ndsa*\\nNtrtsca\\nds_moni\\nNotifie\\nTmListe\\niVPAgen\\nCNTAoSM\\nIBM*\\nbes10*\\nblack*\\nrobo*\\ncopy*\\nstore.e\\nsql*\\nvee*\\nwrsa*\\nwrsa.ex\\npostg*\\nsage*\\nMSSQLServerADHelper100\\nMSSQL$ISARS\\nMSSQL$MSFW\\nSQLAgent$ISARS\\nSQLAgent$MSFW\\nSQLBrowser\\nReportServer$ISARS\\nSQLWriter\\nWinDefend\\nmr2kserv\\nMSExchangeADTopology\\nMSExchangeFBA\\nMSExchangeIS\\nMSExchangeSA\\nShadowProtectSvc\\nSPAdminV4\\nSPTimerV4\\nSPTraceV4\\nSPUserCodeV4\\nSPWriterV4\\nSPSearch4\\nIISADMIN\\nfirebirdguardiandefaultinstance\\nibmiasrw\\nQBCFMonitorService\\nQBVSS\\nQBPOSDBServiceV12\\n\"IBM Domino Server(CProgramFilesIBMDominodata)\"\\n\"IBM Domino Diagnostics(CProgramFilesIBMDomino)\"\\n\"Simply Accounting Database Connection Manager\"\\nQuickBooksDB1\\nQuickBooksDB2\\nQuickBooksDB3\\nQuickBooksDB4\\nQuickBooksDB5\\nQuickBooksDB6\\nQuickBooksDB7\\nQuickBooksDB8\\nQuickBooksDB9\\nQuickBooksDB10\\nQuickBooksDB11\\nQuickBooksDB12\\nQuickBooksDB13\\nQuickBooksDB14\\nQuickBooksDB15\\nQuickBooksDB16\\nQuickBooksDB17\\nQuickBooksDB18\\nQuickBooksDB19\\nQuickBooksDB20\\nQuickBooksDB21\\nQuickBooksDB22\\nQuickBooksDB23\\nQuickBooksDB24\\nQuickBooksDB25\\n', span=(5, 1015)), Text(entity=None, string='\\nsql*\\nvee*\\nwrsa*\\n', span=(92, 109))), (<Element pre at 0x131dfd448>, Content(property='text', text='\\ndsa*\\nNtrtsca\\nds_moni\\nNotifie\\nTmListe\\niVPAgen\\nCNTAoSM\\nIBM*\\nbes10*\\nblack*\\nrobo*\\ncopy*\\nstore.e\\nsql*\\nvee*\\nwrsa*\\nwrsa.ex\\npostg*\\nsage*\\nMSSQLServerADHelper100\\nMSSQL$ISARS\\nMSSQL$MSFW\\nSQLAgent$ISARS\\nSQLAgent$MSFW\\nSQLBrowser\\nReportServer$ISARS\\nSQLWriter\\nWinDefend\\nmr2kserv\\nMSExchangeADTopology\\nMSExchangeFBA\\nMSExchangeIS\\nMSExchangeSA\\nShadowProtectSvc\\nSPAdminV4\\nSPTimerV4\\nSPTraceV4\\nSPUserCodeV4\\nSPWriterV4\\nSPSearch4\\nIISADMIN\\nfirebirdguardiandefaultinstance\\nibmiasrw\\nQBCFMonitorService\\nQBVSS\\nQBPOSDBServiceV12\\n\"IBM Domino Server(CProgramFilesIBMDominodata)\"\\n\"IBM Domino Diagnostics(CProgramFilesIBMDomino)\"\\n\"Simply Accounting Database Connection Manager\"\\nQuickBooksDB1\\nQuickBooksDB2\\nQuickBooksDB3\\nQuickBooksDB4\\nQuickBooksDB5\\nQuickBooksDB6\\nQuickBooksDB7\\nQuickBooksDB8\\nQuickBooksDB9\\nQuickBooksDB10\\nQuickBooksDB11\\nQuickBooksDB12\\nQuickBooksDB13\\nQuickBooksDB14\\nQuickBooksDB15\\nQuickBooksDB16\\nQuickBooksDB17\\nQuickBooksDB18\\nQuickBooksDB19\\nQuickBooksDB20\\nQuickBooksDB21\\nQuickBooksDB22\\nQuickBooksDB23\\nQuickBooksDB24\\nQuickBooksDB25\\n', span=(5, 1015)), Text(entity='FilePath', string='wrsa.ex', span=(109, 116))), (<Element pre at 0x131dfd448>, Content(property='text', text='\\ndsa*\\nNtrtsca\\nds_moni\\nNotifie\\nTmListe\\niVPAgen\\nCNTAoSM\\nIBM*\\nbes10*\\nblack*\\nrobo*\\ncopy*\\nstore.e\\nsql*\\nvee*\\nwrsa*\\nwrsa.ex\\npostg*\\nsage*\\nMSSQLServerADHelper100\\nMSSQL$ISARS\\nMSSQL$MSFW\\nSQLAgent$ISARS\\nSQLAgent$MSFW\\nSQLBrowser\\nReportServer$ISARS\\nSQLWriter\\nWinDefend\\nmr2kserv\\nMSExchangeADTopology\\nMSExchangeFBA\\nMSExchangeIS\\nMSExchangeSA\\nShadowProtectSvc\\nSPAdminV4\\nSPTimerV4\\nSPTraceV4\\nSPUserCodeV4\\nSPWriterV4\\nSPSearch4\\nIISADMIN\\nfirebirdguardiandefaultinstance\\nibmiasrw\\nQBCFMonitorService\\nQBVSS\\nQBPOSDBServiceV12\\n\"IBM Domino Server(CProgramFilesIBMDominodata)\"\\n\"IBM Domino Diagnostics(CProgramFilesIBMDomino)\"\\n\"Simply Accounting Database Connection Manager\"\\nQuickBooksDB1\\nQuickBooksDB2\\nQuickBooksDB3\\nQuickBooksDB4\\nQuickBooksDB5\\nQuickBooksDB6\\nQuickBooksDB7\\nQuickBooksDB8\\nQuickBooksDB9\\nQuickBooksDB10\\nQuickBooksDB11\\nQuickBooksDB12\\nQuickBooksDB13\\nQuickBooksDB14\\nQuickBooksDB15\\nQuickBooksDB16\\nQuickBooksDB17\\nQuickBooksDB18\\nQuickBooksDB19\\nQuickBooksDB20\\nQuickBooksDB21\\nQuickBooksDB22\\nQuickBooksDB23\\nQuickBooksDB24\\nQuickBooksDB25\\n', span=(5, 1015)), Text(entity=None, string='\\npostg*\\nsage*\\nMSSQLServerADHelper100\\nMSSQL$ISARS\\nMSSQL$MSFW\\nSQLAgent$ISARS\\nSQLAgent$MSFW\\nSQLBrowser\\nReportServer$ISARS\\nSQLWriter\\nWinDefend\\nmr2kserv\\nMSExchangeADTopology\\nMSExchangeFBA\\nMSExchangeIS\\nMSExchangeSA\\nShadowProtectSvc\\nSPAdminV4\\nSPTimerV4\\nSPTraceV4\\nSPUserCodeV4\\nSPWriterV4\\nSPSearch4\\nIISADMIN\\nfirebirdguardiandefaultinstance\\nibmiasrw\\nQBCFMonitorService\\nQBVSS\\nQBPOSDBServiceV12\\n\"IBM Domino Server(CProgramFilesIBMDominodata)\"\\n\"IBM Domino Diagnostics(CProgramFilesIBMDomino)\"\\n\"Simply Accounting Database Connection Manager\"\\nQuickBooksDB1\\nQuickBooksDB2\\nQuickBooksDB3\\nQuickBooksDB4\\nQuickBooksDB5\\nQuickBooksDB6\\nQuickBooksDB7\\nQuickBooksDB8\\nQuickBooksDB9\\nQuickBooksDB10\\nQuickBooksDB11\\nQuickBooksDB12\\nQuickBooksDB13\\nQuickBooksDB14\\nQuickBooksDB15\\nQuickBooksDB16\\nQuickBooksDB17\\nQuickBooksDB18\\nQuickBooksDB19\\nQuickBooksDB20\\nQuickBooksDB21\\nQuickBooksDB22\\nQuickBooksDB23\\nQuickBooksDB24\\nQuickBooksDB25\\n', span=(116, 1010))), (<Element pre at 0x131dfd448>, Content(property='tail', text='\\n', span=(1021, 1022)), Text(entity=None, string='\\n', span=(0, 1))), (<Element p at 0x131dfd488>, Content(property='text', text='Additional processes and services that are terminated are identified via PID. For example:', span=(3, 93)), Text(entity=None, string='Additional processes and services that are terminated are identified via PID. For example:', span=(0, 90))), (<Element p at 0x131dfd488>, Content(property='tail', text='\\n', span=(97, 98)), Text(entity=None, string='\\n', span=(0, 1))), (<Element code at 0x131dfd508>, Content(property='text', text='taskkill.exe /f /PID \"8512\"', span=(6, 33)), Text(entity='FilePath', string='taskkill.exe', span=(0, 12))), (<Element code at 0x131dfd508>, Content(property='text', text='taskkill.exe /f /PID \"8512\"', span=(6, 33)), Text(entity=None, string=' /f /PID \"8512\"', span=(12, 27))), (<Element code at 0x131dfd588>, Content(property='text', text='taskkill.exe /f /PID \"8656\"', span=(6, 33)), Text(entity='FilePath', string='taskkill.exe', span=(0, 12))), (<Element code at 0x131dfd588>, Content(property='text', text='taskkill.exe /f /PID \"8656\"', span=(6, 33)), Text(entity=None, string=' /f /PID \"8656\"', span=(12, 27))), (<Element p at 0x131dfd5c8>, Content(property='text', text='If HelloKitty is unable to stop any specific processes or services, it will leverage the Windows Restart Manager API to further assist in termination.', span=(3, 153)), Text(entity=None, string='If HelloKitty is unable to stop any specific processes or services, it will leverage the Windows Restart Manager API to further assist in termination.', span=(0, 150))), (<Element p at 0x131dfd5c8>, Content(property='tail', text='\\n', span=(157, 158)), Text(entity=None, string='\\n', span=(0, 1))), (<Element p at 0x131dfd688>, Content(property='text', text='HelloKitty will also utilize WMI to gather system details and help identify running processes and any potentially problematic processes. This is done both by name and by PID. A number of examples are shown below:', span=(3, 215)), Text(entity=None, string='HelloKitty will also utilize WMI to gather system details and help identify running processes and any potentially problematic processes. This is done both by name and by PID. A number of examples are shown below:', span=(0, 212))), (<Element p at 0x131dfd688>, Content(property='tail', text='\\n', span=(219, 220)), Text(entity=None, string='\\n', span=(0, 1))), (<Element pre at 0x131dfd6c8>, Content(property='text', text='\\nstart iwbemservices::execquery - root\\\\cimv2 : select __path, processid, csname, caption, sessionid, threadcount, workingsetsize, kernelmodetime, usermodetime, parentprocessid from win32_process\\n\\nstart iwbemservices::execquery - root\\\\cimv2 : select __path, processid, csname, caption, sessionid, threadcount, workingsetsize, kernelmodetime, usermodetime, parentprocessid from win32_process where (  caption = \"store.exe\")\\n\\nstart iwbemservices::execquery - root\\\\cimv2 : select __path, processid, csname, caption, sessionid, threadcount, workingsetsize, kernelmodetime, usermodetime, parentprocessid from win32_process where (  caption = \"wrsa.exe\")\\n\\nstart iwbemservices::execquery - root\\\\cimv2 : select __path, processid, csname, caption, sessionid, threadcount, workingsetsize, kernelmodetime, usermodetime, parentprocessid from win32_process where (  processid = 3036)\\n\\nstart iwbemservices::execquery - root\\\\cimv2 : select __path, processid, csname, caption, sessionid, threadcount, workingsetsize, kernelmodetime, usermodetime, parentprocessid from win32_process where (  processid = 4460)\\n\\nstart iwbemservices::execquery - root\\\\cimv2 : select __path, processid, csname, caption, sessionid, threadcount, workingsetsize, kernelmodetime, usermodetime, parentprocessid from win32_process where (  processid = 3052)\\n\\nstart iwbemservices::execquery - root\\\\cimv2 : select __path, processid, csname, caption, sessionid, threadcount, workingsetsize, kernelmodetime, usermodetime, parentprocessid from win32_process where (  processid = 4476)\\n\\nstart iwbemservices::execquery - root\\\\cimv2 : select __path, processid, csname, caption, sessionid, threadcount, workingsetsize, kernelmodetime, usermodetime, parentprocessid from win32_process where (  processid = 1560)\\n\\nstart iwbemservices::execquery - root\\\\cimv2 : select __path, processid, csname, caption, sessionid, threadcount, workingsetsize, kernelmodetime, usermodetime, parentprocessid from win32_process where (  processid = 8124)\\n\\nstart iwbemservices::exe\\n', span=(5, 2011)), Text(entity=None, string='\\nstart iwbemservices::execquery - root\\\\cimv2 : select __path, processid, csname, caption, sessionid, threadcount, workingsetsize, kernelmodetime, usermodetime, parentprocessid from win32_process\\n\\nstart iwbemservices::execquery - root\\\\cimv2 : select __path, processid, csname, caption, sessionid, threadcount, workingsetsize, kernelmodetime, usermodetime, parentprocessid from win32_process where (  caption = \"', span=(0, 410))), (<Element pre at 0x131dfd6c8>, Content(property='text', text='\\nstart iwbemservices::execquery - root\\\\cimv2 : select __path, processid, csname, caption, sessionid, threadcount, workingsetsize, kernelmodetime, usermodetime, parentprocessid from win32_process\\n\\nstart iwbemservices::execquery - root\\\\cimv2 : select __path, processid, csname, caption, sessionid, threadcount, workingsetsize, kernelmodetime, usermodetime, parentprocessid from win32_process where (  caption = \"store.exe\")\\n\\nstart iwbemservices::execquery - root\\\\cimv2 : select __path, processid, csname, caption, sessionid, threadcount, workingsetsize, kernelmodetime, usermodetime, parentprocessid from win32_process where (  caption = \"wrsa.exe\")\\n\\nstart iwbemservices::execquery - root\\\\cimv2 : select __path, processid, csname, caption, sessionid, threadcount, workingsetsize, kernelmodetime, usermodetime, parentprocessid from win32_process where (  processid = 3036)\\n\\nstart iwbemservices::execquery - root\\\\cimv2 : select __path, processid, csname, caption, sessionid, threadcount, workingsetsize, kernelmodetime, usermodetime, parentprocessid from win32_process where (  processid = 4460)\\n\\nstart iwbemservices::execquery - root\\\\cimv2 : select __path, processid, csname, caption, sessionid, threadcount, workingsetsize, kernelmodetime, usermodetime, parentprocessid from win32_process where (  processid = 3052)\\n\\nstart iwbemservices::execquery - root\\\\cimv2 : select __path, processid, csname, caption, sessionid, threadcount, workingsetsize, kernelmodetime, usermodetime, parentprocessid from win32_process where (  processid = 4476)\\n\\nstart iwbemservices::execquery - root\\\\cimv2 : select __path, processid, csname, caption, sessionid, threadcount, workingsetsize, kernelmodetime, usermodetime, parentprocessid from win32_process where (  processid = 1560)\\n\\nstart iwbemservices::execquery - root\\\\cimv2 : select __path, processid, csname, caption, sessionid, threadcount, workingsetsize, kernelmodetime, usermodetime, parentprocessid from win32_process where (  processid = 8124)\\n\\nstart iwbemservices::exe\\n', span=(5, 2011)), Text(entity='FilePath', string='store.exe', span=(410, 419))), (<Element pre at 0x131dfd6c8>, Content(property='text', text='\\nstart iwbemservices::execquery - root\\\\cimv2 : select __path, processid, csname, caption, sessionid, threadcount, workingsetsize, kernelmodetime, usermodetime, parentprocessid from win32_process\\n\\nstart iwbemservices::execquery - root\\\\cimv2 : select __path, processid, csname, caption, sessionid, threadcount, workingsetsize, kernelmodetime, usermodetime, parentprocessid from win32_process where (  caption = \"store.exe\")\\n\\nstart iwbemservices::execquery - root\\\\cimv2 : select __path, processid, csname, caption, sessionid, threadcount, workingsetsize, kernelmodetime, usermodetime, parentprocessid from win32_process where (  caption = \"wrsa.exe\")\\n\\nstart iwbemservices::execquery - root\\\\cimv2 : select __path, processid, csname, caption, sessionid, threadcount, workingsetsize, kernelmodetime, usermodetime, parentprocessid from win32_process where (  processid = 3036)\\n\\nstart iwbemservices::execquery - root\\\\cimv2 : select __path, processid, csname, caption, sessionid, threadcount, workingsetsize, kernelmodetime, usermodetime, parentprocessid from win32_process where (  processid = 4460)\\n\\nstart iwbemservices::execquery - root\\\\cimv2 : select __path, processid, csname, caption, sessionid, threadcount, workingsetsize, kernelmodetime, usermodetime, parentprocessid from win32_process where (  processid = 3052)\\n\\nstart iwbemservices::execquery - root\\\\cimv2 : select __path, processid, csname, caption, sessionid, threadcount, workingsetsize, kernelmodetime, usermodetime, parentprocessid from win32_process where (  processid = 4476)\\n\\nstart iwbemservices::execquery - root\\\\cimv2 : select __path, processid, csname, caption, sessionid, threadcount, workingsetsize, kernelmodetime, usermodetime, parentprocessid from win32_process where (  processid = 1560)\\n\\nstart iwbemservices::execquery - root\\\\cimv2 : select __path, processid, csname, caption, sessionid, threadcount, workingsetsize, kernelmodetime, usermodetime, parentprocessid from win32_process where (  processid = 8124)\\n\\nstart iwbemservices::exe\\n', span=(5, 2011)), Text(entity=None, string='\")\\n\\nstart iwbemservices::execquery - root\\\\cimv2 : select __path, processid, csname, caption, sessionid, threadcount, workingsetsize, kernelmodetime, usermodetime, parentprocessid from win32_process where (  caption = \"', span=(419, 637))), (<Element pre at 0x131dfd6c8>, Content(property='text', text='\\nstart iwbemservices::execquery - root\\\\cimv2 : select __path, processid, csname, caption, sessionid, threadcount, workingsetsize, kernelmodetime, usermodetime, parentprocessid from win32_process\\n\\nstart iwbemservices::execquery - root\\\\cimv2 : select __path, processid, csname, caption, sessionid, threadcount, workingsetsize, kernelmodetime, usermodetime, parentprocessid from win32_process where (  caption = \"store.exe\")\\n\\nstart iwbemservices::execquery - root\\\\cimv2 : select __path, processid, csname, caption, sessionid, threadcount, workingsetsize, kernelmodetime, usermodetime, parentprocessid from win32_process where (  caption = \"wrsa.exe\")\\n\\nstart iwbemservices::execquery - root\\\\cimv2 : select __path, processid, csname, caption, sessionid, threadcount, workingsetsize, kernelmodetime, usermodetime, parentprocessid from win32_process where (  processid = 3036)\\n\\nstart iwbemservices::execquery - root\\\\cimv2 : select __path, processid, csname, caption, sessionid, threadcount, workingsetsize, kernelmodetime, usermodetime, parentprocessid from win32_process where (  processid = 4460)\\n\\nstart iwbemservices::execquery - root\\\\cimv2 : select __path, processid, csname, caption, sessionid, threadcount, workingsetsize, kernelmodetime, usermodetime, parentprocessid from win32_process where (  processid = 3052)\\n\\nstart iwbemservices::execquery - root\\\\cimv2 : select __path, processid, csname, caption, sessionid, threadcount, workingsetsize, kernelmodetime, usermodetime, parentprocessid from win32_process where (  processid = 4476)\\n\\nstart iwbemservices::execquery - root\\\\cimv2 : select __path, processid, csname, caption, sessionid, threadcount, workingsetsize, kernelmodetime, usermodetime, parentprocessid from win32_process where (  processid = 1560)\\n\\nstart iwbemservices::execquery - root\\\\cimv2 : select __path, processid, csname, caption, sessionid, threadcount, workingsetsize, kernelmodetime, usermodetime, parentprocessid from win32_process where (  processid = 8124)\\n\\nstart iwbemservices::exe\\n', span=(5, 2011)), Text(entity='FilePath', string='wrsa.exe', span=(637, 645))), (<Element pre at 0x131dfd6c8>, Content(property='text', text='\\nstart iwbemservices::execquery - root\\\\cimv2 : select __path, processid, csname, caption, sessionid, threadcount, workingsetsize, kernelmodetime, usermodetime, parentprocessid from win32_process\\n\\nstart iwbemservices::execquery - root\\\\cimv2 : select __path, processid, csname, caption, sessionid, threadcount, workingsetsize, kernelmodetime, usermodetime, parentprocessid from win32_process where (  caption = \"store.exe\")\\n\\nstart iwbemservices::execquery - root\\\\cimv2 : select __path, processid, csname, caption, sessionid, threadcount, workingsetsize, kernelmodetime, usermodetime, parentprocessid from win32_process where (  caption = \"wrsa.exe\")\\n\\nstart iwbemservices::execquery - root\\\\cimv2 : select __path, processid, csname, caption, sessionid, threadcount, workingsetsize, kernelmodetime, usermodetime, parentprocessid from win32_process where (  processid = 3036)\\n\\nstart iwbemservices::execquery - root\\\\cimv2 : select __path, processid, csname, caption, sessionid, threadcount, workingsetsize, kernelmodetime, usermodetime, parentprocessid from win32_process where (  processid = 4460)\\n\\nstart iwbemservices::execquery - root\\\\cimv2 : select __path, processid, csname, caption, sessionid, threadcount, workingsetsize, kernelmodetime, usermodetime, parentprocessid from win32_process where (  processid = 3052)\\n\\nstart iwbemservices::execquery - root\\\\cimv2 : select __path, processid, csname, caption, sessionid, threadcount, workingsetsize, kernelmodetime, usermodetime, parentprocessid from win32_process where (  processid = 4476)\\n\\nstart iwbemservices::execquery - root\\\\cimv2 : select __path, processid, csname, caption, sessionid, threadcount, workingsetsize, kernelmodetime, usermodetime, parentprocessid from win32_process where (  processid = 1560)\\n\\nstart iwbemservices::execquery - root\\\\cimv2 : select __path, processid, csname, caption, sessionid, threadcount, workingsetsize, kernelmodetime, usermodetime, parentprocessid from win32_process where (  processid = 8124)\\n\\nstart iwbemservices::exe\\n', span=(5, 2011)), Text(entity=None, string='\")\\n\\nstart iwbemservices::execquery - root\\\\cimv2 : select __path, processid, csname, caption, sessionid, threadcount, workingsetsize, kernelmodetime, usermodetime, parentprocessid from win32_process where (  processid = 3036)\\n\\nstart iwbemservices::execquery - root\\\\cimv2 : select __path, processid, csname, caption, sessionid, threadcount, workingsetsize, kernelmodetime, usermodetime, parentprocessid from win32_process where (  processid = 4460)\\n\\nstart iwbemservices::execquery - root\\\\cimv2 : select __path, processid, csname, caption, sessionid, threadcount, workingsetsize, kernelmodetime, usermodetime, parentprocessid from win32_process where (  processid = 3052)\\n\\nstart iwbemservices::execquery - root\\\\cimv2 : select __path, processid, csname, caption, sessionid, threadcount, workingsetsize, kernelmodetime, usermodetime, parentprocessid from win32_process where (  processid = 4476)\\n\\nstart iwbemservices::execquery - root\\\\cimv2 : select __path, processid, csname, caption, sessionid, threadcount, workingsetsize, kernelmodetime, usermodetime, parentprocessid from win32_process where (  processid = 1560)\\n\\nstart iwbemservices::execquery - root\\\\cimv2 : select __path, processid, csname, caption, sessionid, threadcount, workingsetsize, kernelmodetime, usermodetime, parentprocessid from win32_process where (  processid = 8124)\\n\\nstart iwbemservices::exe\\n', span=(645, 2006))), (<Element pre at 0x131dfd6c8>, Content(property='tail', text='\\n', span=(2017, 2018)), Text(entity=None, string='\\n', span=(0, 1))), (<Element h2 at 0x131dfd708>, Content(property='text', text='Encryption and Ransom Note', span=(4, 30)), Text(entity=None, string='Encryption and Ransom Note', span=(0, 26))), (<Element h2 at 0x131dfd708>, Content(property='tail', text='\\n', span=(35, 36)), Text(entity=None, string='\\n', span=(0, 1))), (<Element p at 0x131dfd748>, Content(property='text', text='Encryption is initiated and completed very quickly once applicable services and processes have been terminated. Specific encryption recipes and routines can vary across variants of HelloKitty. Generally speaking, they tend to use a combination of AES-256 & RSA-2048 or even NTRU+AES-128.', span=(3, 290)), Text(entity=None, string='Encryption is initiated and completed very quickly once applicable services and processes have been terminated. Specific encryption recipes and routines can vary across variants of HelloKitty. Generally speaking, they tend to use a combination of AES-256 & RSA-2048 or even NTRU+AES-128.', span=(0, 287))), (<Element p at 0x131dfd748>, Content(property='tail', text='\\n', span=(294, 295)), Text(entity=None, string='\\n', span=(0, 1))), (<Element p at 0x131dfd788>, Content(property='text', text='Once encrypted, affected files receive the ', span=(3, 46)), Text(entity=None, string='Once encrypted, affected files receive the ', span=(0, 43))), (<Element p at 0x131dfd788>, Content(property='tail', text='\\n', span=(82, 83)), Text(entity=None, string='\\n', span=(0, 1))), (<Element code at 0x131dfd7c8>, Content(property='text', text='.crypted', span=(6, 14)), Text(entity=None, string='.crypted', span=(0, 8))), (<Element code at 0x131dfd7c8>, Content(property='tail', text=' extension.', span=(21, 32)), Text(entity=None, string=' extension.', span=(0, 11))), (<Element p at 0x131dfd888>, Content(property='text', text='Ransom notes are typically customized to directly reference the victim and victim’s environment. Victims are instructed to visit a TOR-based payment and support portal. The following example has been sanitized:', span=(3, 213)), Text(entity=None, string='Ransom notes are typically customized to directly reference the victim and victim’s environment. Victims are instructed to visit a TOR-based payment and support portal. The following example has been sanitized:', span=(0, 210))), (<Element p at 0x131dfd888>, Content(property='tail', text='\\n', span=(217, 218)), Text(entity=None, string='\\n', span=(0, 1))), (<Element p at 0x131dfd948>, Content(property='text', text='It is also important to note that as of this writing, the onion address associated with HelloKitty ransom notes is not active.', span=(3, 129)), Text(entity=None, string='It is also important to note that as of this writing, the onion address associated with HelloKitty ransom notes is not active.', span=(0, 126))), (<Element p at 0x131dfd948>, Content(property='tail', text='\\n', span=(133, 134)), Text(entity=None, string='\\n', span=(0, 1))), (<Element code at 0x131dfd9c8>, Content(property='text', text='6x7dp6h3w6q3ugjv4yv5gycj3femb24kysgry5b44hhgfwc5ml5qrdad.onion', span=(6, 68)), Text(entity='domain', string='6x7dp6h3w6q3ugjv4yv5gycj3femb24kysgry5b44hhgfwc5ml5qrdad.onion', span=(0, 62))), (<Element h2 at 0x131dfda08>, Content(property='text', text='Conclusion', span=(4, 14)), Text(entity=None, string='Conclusion', span=(0, 10))), (<Element h2 at 0x131dfda08>, Content(property='tail', text='\\n', span=(19, 20)), Text(entity=None, string='\\n', span=(0, 1))), (<Element p at 0x131dfda48>, Content(property='text', text='HelloKitty may be easier to spot than other modern ransomware families, but upon execution it is no less dangerous. There are currently no known ‘weaknesses’ in the encryption routines, and there are no thirdy-party decrypters available for the HelloKitty ransomware. Therefore, the only true defense is prevention. While this family does not appear to be actively leaking victim data at the moment, that could change at any point, in addition to them choosing to adopt some of the more recent extortion methods that go along with ransomware (DDoS).', span=(3, 552)), Text(entity=None, string='HelloKitty may be easier to spot than other modern ransomware families, but upon execution it is no less dangerous. There are currently no known ‘weaknesses’ in the encryption routines, and there are no thirdy-party decrypters available for the HelloKitty ransomware. Therefore, the only true defense is prevention. While this family does not appear to be actively leaking victim data at the moment, that could change at any point, in addition to them choosing to adopt some of the more recent extortion methods that go along with ransomware (DDoS).', span=(0, 549))), (<Element p at 0x131dfda48>, Content(property='tail', text='\\n', span=(556, 557)), Text(entity=None, string='\\n', span=(0, 1))), (<Element p at 0x131dfda88>, Content(property='text', text='Actors behind the more recent campaign(s) are reportedly attempting to auction the CD Projekt data off in various ‘underground’ forums. At present this sale of this data does appear to be legitimate. Time will tell if additional victim data is dealt with in the same way.', span=(3, 274)), Text(entity=None, string='Actors behind the more recent campaign(s) are reportedly attempting to auction the CD Projekt data off in various ‘underground’ forums. At present this sale of this data does appear to be legitimate. Time will tell if additional victim data is dealt with in the same way.', span=(0, 271))), (<Element p at 0x131dfda88>, Content(property='tail', text='\\n', span=(278, 279)), Text(entity=None, string='\\n', span=(0, 1))), (<Element p at 0x131dfdac8>, Content(property='text', text='To protect yourself against HelloKitty, make sure you are armed with a modern Endpoint Security platform, which is configured correctly and up to date. The SentinelOne Singularity Platform is fully capable of preventing and detecting all malicious behaviors associated with the HelloKitty ransomware family.', span=(3, 310)), Text(entity=None, string='To protect yourself against HelloKitty, make sure you are armed with a modern Endpoint Security platform, which is configured correctly and up to date. The SentinelOne Singularity Platform is fully capable of preventing and detecting all malicious behaviors associated with the HelloKitty ransomware family.', span=(0, 307))), (<Element p at 0x131dfdac8>, Content(property='tail', text='\\n', span=(314, 315)), Text(entity=None, string='\\n', span=(0, 1))), (<Element h2 at 0x131dfdb08>, Content(property='text', text='IOCs', span=(4, 8)), Text(entity=None, string='IOCs', span=(0, 4))), (<Element h2 at 0x131dfdb08>, Content(property='tail', text='\\n', span=(13, 14)), Text(entity=None, string='\\n', span=(0, 1))), (<Element strong at 0x131dfdb88>, Content(property='text', text='SHA1', span=(8, 12)), Text(entity=None, string='SHA1', span=(0, 4))), (<Element br at 0x131dfdbc8>, Content(property='tail', text='\\nfadd8d7c13a18c251ded1f645ffea18a37f1c2de', span=(5, 46)), Text(entity=None, string='\\n', span=(0, 1))), (<Element br at 0x131dfdbc8>, Content(property='tail', text='\\nfadd8d7c13a18c251ded1f645ffea18a37f1c2de', span=(5, 46)), Text(entity='FileHash-SHA1', string='fadd8d7c13a18c251ded1f645ffea18a37f1c2de', span=(1, 41))), (<Element strong at 0x131dfdc48>, Content(property='text', text='SHA256', span=(8, 14)), Text(entity=None, string='SHA256', span=(0, 6))), (<Element br at 0x131dfdc88>, Content(property='tail', text='\\n501487b025f25ddf1ca32deb57a2b4db43ccf6635c1edc74b9cff54ce0e5bcfe', span=(5, 70)), Text(entity=None, string='\\n', span=(0, 1))), (<Element br at 0x131dfdc88>, Content(property='tail', text='\\n501487b025f25ddf1ca32deb57a2b4db43ccf6635c1edc74b9cff54ce0e5bcfe', span=(5, 70)), Text(entity='FileHash-SHA256', string='501487b025f25ddf1ca32deb57a2b4db43ccf6635c1edc74b9cff54ce0e5bcfe', span=(1, 65))), (<Element strong at 0x131dfdd08>, Content(property='text', text='MITRE ATT&CK', span=(8, 20)), Text(entity=None, string='MITRE ATT&CK', span=(0, 12))), (<Element br at 0x131dfdd48>, Content(property='tail', text='\\nData from Local System – ', span=(5, 31)), Text(entity=None, string='\\nData from Local System – ', span=(0, 26))), (<Element a at 0x131dfdd88>, Content(property='text', text='T1005', span=(45, 50)), Text(entity='AttackTechnique', string='T1005', span=(0, 5))), (<Element br at 0x131dfddc8>, Content(property='tail', text='\\nModify Registry – ', span=(5, 24)), Text(entity=None, string='\\nModify Registry – ', span=(0, 19))), (<Element a at 0x131dfde08>, Content(property='text', text='T1112', span=(45, 50)), Text(entity='AttackTechnique', string='T1112', span=(0, 5))), (<Element br at 0x131dfde48>, Content(property='tail', text='\\nQuery Registry – ', span=(5, 23)), Text(entity=None, string='\\nQuery Registry – ', span=(0, 18))), (<Element a at 0x131dfde88>, Content(property='text', text='T1012', span=(45, 50)), Text(entity='AttackTechnique', string='T1012', span=(0, 5))), (<Element br at 0x131dfdec8>, Content(property='tail', text='\\nSystem Information Discovery – ', span=(5, 37)), Text(entity=None, string='\\nSystem Information Discovery – ', span=(0, 32))), (<Element a at 0x131dfdf08>, Content(property='text', text='T1082', span=(45, 50)), Text(entity='AttackTechnique', string='T1082', span=(0, 5))), (<Element br at 0x131dfdf48>, Content(property='tail', text='\\nData Encrypted for Impact – ', span=(5, 34)), Text(entity=None, string='\\nData Encrypted for Impact – ', span=(0, 29))), (<Element a at 0x131dfdf88>, Content(property='text', text='T1486', span=(45, 50)), Text(entity='AttackTechnique', string='T1486', span=(0, 5))), (<Element br at 0x131dfdfc8>, Content(property='tail', text='\\nFile Deletion – ', span=(5, 22)), Text(entity=None, string='\\nFile Deletion – ', span=(0, 17))), (<Element a at 0x131dfe048>, Content(property='text', text='T1070.004', span=(99, 108)), Text(entity='AttackTechnique', string='T1070.004', span=(0, 9))), (<Element br at 0x131dfe088>, Content(property='tail', text='\\nCommand and Scripting Interpreter: Windows Command Shell – ', span=(5, 65)), Text(entity=None, string='\\nCommand and Scripting Interpreter: Windows Command Shell – ', span=(0, 60))), (<Element a at 0x131dfe0c8>, Content(property='text', text='T1059.003', span=(99, 108)), Text(entity='AttackTechnique', string='T1059.003', span=(0, 9))), (<Element br at 0x131dfe108>, Content(property='tail', text='\\nWindows Management Instrumentation – ', span=(5, 43)), Text(entity=None, string='\\nWindows Management Instrumentation – ', span=(0, 38))), (<Element a at 0x131dfe148>, Content(property='text', text='T1047', span=(45, 50)), Text(entity='AttackTechnique', string='T1047', span=(0, 5))), (<Element span at 0x131dfe208>, Content(property='text', text='Post Views: ', span=(31, 43)), Text(entity=None, string='Post Views: ', span=(0, 12))), (<Element span at 0x131dfe208>, Content(property='tail', text='\\n\\t\\t\\t\\t', span=(50, 55)), Text(entity=None, string='\\n\\t\\t\\t\\t', span=(0, 5))), (<Element span at 0x131dfe248>, Content(property='text', text='7,278', span=(31, 36)), Text(entity=None, string='7,278', span=(0, 5))), (<Element span at 0x131dfe248>, Content(property='tail', text='\\n\\t\\t\\t', span=(43, 47)), Text(entity=None, string='\\n\\t\\t\\t', span=(0, 4))), ...]"
      ]
     },
     "execution_count": 28,
     "metadata": {},
     "output_type": "execute_result"
    }
   ],
   "source": [
    "seq(analyzer.primary_subtree_leafs).map(product_by_contents).flatten().starmap(\n",
    "    product_by_entities\n",
    ").flatten()"
   ]
  },
  {
   "cell_type": "code",
   "execution_count": 25,
   "id": "fb9c0232-1c4a-4c70-afbe-a2ed2fd064cf",
   "metadata": {},
   "outputs": [
    {
     "data": {
      "text/plain": [
       "['hellokitty', 'ransomware']"
      ]
     },
     "execution_count": 25,
     "metadata": {},
     "output_type": "execute_result"
    }
   ],
   "source": [
    "analyzer.keywords"
   ]
  },
  {
   "cell_type": "code",
   "execution_count": 26,
   "id": "f99117af-1805-47fc-aebd-98ea41e82096",
   "metadata": {},
   "outputs": [
    {
     "data": {
      "text/html": [
       "<table>\n",
       "<tbody>\n",
       "<tr><td>(&lt;Element a at 0x131dfcbc8&gt;, Content(property=&#x27;text&#x27;, text=&#x27;Crimeware&#x27;, span=(78, 87)))                                                                                                                                                                                                                                                                                                                                                                          </td><td>                                                                                                                                                                                                                                                                                     </td></tr>\n",
       "<tr><td>(&lt;Element h1 at 0x131dfcc08&gt;, Content(property=&#x27;text&#x27;, text=&#x27;HelloKitty Ransomware Lacks Stealth, But Still Strikes Home&#x27;, span=(49, 108)))                                                                                                                                                                                                                                                                                                                      </td><td>(&lt;Element h1 at 0x131dfcc08&gt;, Content(property=&#x27;tail&#x27;, text=&#x27;\\n\\t\\t&#x27;, span=(113, 116)))                                                                                                                                                                                              </td></tr>\n",
       "<tr><td>(&lt;Element a at 0x131dfcdc8&gt;, Content(property=&#x27;text&#x27;, text=&#x27;Jim Walter&#x27;, span=(69, 79)))                                                                                                                                                                                                                                                                                                                                                                         </td><td>                                                                                                                                                                                                                                                                                     </td></tr>\n",
       "<tr><td>(&lt;Element time at 0x131dfcf08&gt;, Content(property=&#x27;text&#x27;, text=&#x27;March 8, 2021&#x27;, span=(97, 110)))                                                                                                                                                                                                                                                                                                                                                                  </td><td>                                                                                                                                                                                                                                                                                     </td></tr>\n",
       "<tr><td>(&lt;Element time at 0x131dfcf48&gt;, Content(property=&#x27;text&#x27;, text=&#x27;March 11, 2021&#x27;, span=(59, 73)))                                                                                                                                                                                                                                                                                                                                                                  </td><td>                                                                                                                                                                                                                                                                                     </td></tr>\n",
       "<tr><td>(&lt;Element p at 0x131dfcfc8&gt;, Content(property=&#x27;text&#x27;, text=&#x27;Game studio CD Projekt Red recently &#x27;, span=(3, 39)))                                                                                                                                                                                                                                                                                                                                                </td><td>(&lt;Element p at 0x131dfcfc8&gt;, Content(property=&#x27;tail&#x27;, text=&#x27;\\n&#x27;, span=(373, 374)))                                                                                                                                                                                                   </td></tr>\n",
       "<tr><td>(&lt;Element a at 0x131dfd048&gt;, Content(property=&#x27;text&#x27;, text=&#x27;disclosed&#x27;, span=(120, 129)))                                                                                                                                                                                                                                                                                                                                                                        </td><td>(&lt;Element a at 0x131dfd048&gt;, Content(property=&#x27;tail&#x27;, text=&#x27; that it became a victim of a targeted, highly-impactful ransomware. In the days following the disclosure, it was revealed that the ransomware family most likely behind the attack was “HelloKitty”.&#x27;, span=(133, 330)))</td></tr>\n",
       "<tr><td>(&lt;Element p at 0x131dfd108&gt;, Content(property=&#x27;text&#x27;, text=&#x27;HelloKitty is a ransomware family that emerged in late 2020. While it lacks the sophistication of some of the more well-known families such as Ryuk, REvil, and Conti, it has nevertheless struck some notable targets, including CEMIG0. In this post, we analyse a recent HelloKitty sample and outline the basic behaviors and traits associated with this family of ransomware.&#x27;, span=(3, 374)))</td><td>(&lt;Element p at 0x131dfd108&gt;, Content(property=&#x27;tail&#x27;, text=&#x27;\\n&#x27;, span=(378, 379)))                                                                                                                                                                                                   </td></tr>\n",
       "<tr><td>(&lt;Element h2 at 0x131dfd148&gt;, Content(property=&#x27;text&#x27;, text=&#x27;Execution and Behavior&#x27;, span=(4, 26)))                                                                                                                                                                                                                                                                                                                                                             </td><td>(&lt;Element h2 at 0x131dfd148&gt;, Content(property=&#x27;tail&#x27;, text=&#x27;\\n&#x27;, span=(31, 32)))                                                                                                                                                                                                    </td></tr>\n",
       "<tr><td>(&lt;Element p at 0x131dfd188&gt;, Content(property=&#x27;text&#x27;, text=&#x27;The “HelloKitty” name is based on internal mutex names, which are apparent upon execution.&#x27;, span=(3, 93)))                                                                                                                                                                                                                                                                                          </td><td>(&lt;Element p at 0x131dfd188&gt;, Content(property=&#x27;tail&#x27;, text=&#x27;\\n&#x27;, span=(97, 98)))                                                                                                                                                                                                     </td></tr>\n",
       "</tbody>\n",
       "</table><p>Showing 10 of 120 rows"
      ],
      "text/plain": [
       "[<itertools.product object at 0x134c4cca8>, <itertools.product object at 0x133f0ff30>, <itertools.product object at 0x134c3c6c0>, <itertools.product object at 0x134c3cee8>, <itertools.product object at 0x134bf6ee8>, <itertools.product object at 0x134c3cdc8>, <itertools.product object at 0x134c3c1b0>, <itertools.product object at 0x133f0fab0>, <itertools.product object at 0x134c4c168>, <itertools.product object at 0x134bcca20>, <itertools.product object at 0x134c0eab0>, <itertools.product object at 0x134c0eb88>, <itertools.product object at 0x134c401b0>, <itertools.product object at 0x134c40630>, <itertools.product object at 0x133f5b120>, <itertools.product object at 0x134c59d38>, <itertools.product object at 0x134c596c0>, <itertools.product object at 0x134c59900>, <itertools.product object at 0x134bf6ea0>, <itertools.product object at 0x134c40bd0>, <itertools.product object at 0x134c40240>, <itertools.product object at 0x134c0e708>, <itertools.product object at 0x134bccc18>, <itertools.product object at 0x134c4c900>, <itertools.product object at 0x133f0fd80>, <itertools.product object at 0x134c3cd38>, <itertools.product object at 0x134c041f8>, <itertools.product object at 0x134c049d8>, <itertools.product object at 0x134c4c438>, <itertools.product object at 0x134c07ca8>, <itertools.product object at 0x134c4c5e8>, <itertools.product object at 0x134bc47e0>, <itertools.product object at 0x134c075a0>, <itertools.product object at 0x134c04e10>, <itertools.product object at 0x134c042d0>, <itertools.product object at 0x131d95630>, <itertools.product object at 0x134c3c798>, <itertools.product object at 0x134c4c3f0>, <itertools.product object at 0x134bccb40>, <itertools.product object at 0x134c0e2d0>, <itertools.product object at 0x134c0e318>, <itertools.product object at 0x134c40e58>, <itertools.product object at 0x134c4c360>, <itertools.product object at 0x134c59ab0>, <itertools.product object at 0x134c5f708>, <itertools.product object at 0x134c5fea0>, <itertools.product object at 0x133f2b900>, <itertools.product object at 0x133f2b510>, <itertools.product object at 0x133f0f7e0>, <itertools.product object at 0x134c0ef30>, <itertools.product object at 0x134c0ec18>, <itertools.product object at 0x134bc9708>, <itertools.product object at 0x134c40558>, <itertools.product object at 0x134c07af8>, <itertools.product object at 0x134c07e58>, <itertools.product object at 0x134c3c870>, <itertools.product object at 0x134c4c288>, <itertools.product object at 0x134c4c630>, <itertools.product object at 0x134c5fee8>, <itertools.product object at 0x134c5f438>, <itertools.product object at 0x134c04f30>, <itertools.product object at 0x134c04a68>, <itertools.product object at 0x133e5d630>, <itertools.product object at 0x134b59048>, <itertools.product object at 0x133f5b948>, <itertools.product object at 0x133e95318>, <itertools.product object at 0x133e951b0>, <itertools.product object at 0x133f4e288>, <itertools.product object at 0x134c1fee8>, <itertools.product object at 0x133f51ee8>, <itertools.product object at 0x134bd9048>, <itertools.product object at 0x134c04510>, <itertools.product object at 0x134c5f558>, <itertools.product object at 0x134c5f1f8>, <itertools.product object at 0x134c4c678>, <itertools.product object at 0x134c4c240>, <itertools.product object at 0x134c3ca68>, <itertools.product object at 0x134bc97e0>, <itertools.product object at 0x134c400d8>, <itertools.product object at 0x134b513f0>, <itertools.product object at 0x134c0e510>, <itertools.product object at 0x110fce5a0>, <itertools.product object at 0x133f2b318>, <itertools.product object at 0x133e7bdc8>, <itertools.product object at 0x133e7bab0>, <itertools.product object at 0x133f3ccf0>, <itertools.product object at 0x134c0ea20>, <itertools.product object at 0x133e73b88>, <itertools.product object at 0x133f0fbd0>, <itertools.product object at 0x134c40ca8>, <itertools.product object at 0x134c077e0>, <itertools.product object at 0x134c07bd0>, <itertools.product object at 0x134c4cc60>, <itertools.product object at 0x134c5f090>, <itertools.product object at 0x134c5f798>, <itertools.product object at 0x134c04438>, <itertools.product object at 0x131d97828>, <itertools.product object at 0x133f51048>, <itertools.product object at 0x133f4ee58>, <itertools.product object at 0x133e95cf0>, ...]"
      ]
     },
     "execution_count": 26,
     "metadata": {},
     "output_type": "execute_result"
    }
   ],
   "source": [
    "seq(analyzer.primary_subtree_leafs).map(product_by_contents)"
   ]
  },
  {
   "cell_type": "markdown",
   "id": "0ef765a7-c0bd-41fb-96db-13d71a81f003",
   "metadata": {},
   "source": [
    "---"
   ]
  },
  {
   "cell_type": "code",
   "execution_count": 2,
   "id": "6a1b7675-25d9-46b2-9172-5515e839adb1",
   "metadata": {},
   "outputs": [],
   "source": [
    "from functional import seq"
   ]
  },
  {
   "cell_type": "code",
   "execution_count": 3,
   "id": "5e20ad6f-071f-4ddd-b3a1-aa278f860c75",
   "metadata": {},
   "outputs": [
    {
     "data": {
      "text/plain": [
       "['a', 'b', 'c']"
      ]
     },
     "execution_count": 3,
     "metadata": {},
     "output_type": "execute_result"
    }
   ],
   "source": [
    "seq([\"a\", \"b\", \"c\"])"
   ]
  },
  {
   "cell_type": "code",
   "execution_count": null,
   "id": "511d6027-bf69-4aa1-a930-fd86030aec08",
   "metadata": {},
   "outputs": [],
   "source": []
  }
 ],
 "metadata": {
  "kernelspec": {
   "display_name": "magpie-j27h1SjX-py3.6",
   "language": "python",
   "name": "magpie-j27h1sjx-py3.6"
  },
  "language_info": {
   "codemirror_mode": {
    "name": "ipython",
    "version": 3
   },
   "file_extension": ".py",
   "mimetype": "text/x-python",
   "name": "python",
   "nbconvert_exporter": "python",
   "pygments_lexer": "ipython3",
   "version": "3.6.10"
  }
 },
 "nbformat": 4,
 "nbformat_minor": 5
}
