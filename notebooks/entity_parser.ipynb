{
 "cells": [
  {
   "cell_type": "code",
   "execution_count": 1,
   "metadata": {
    "ExecuteTime": {
     "end_time": "2021-08-02T04:05:11.973470Z",
     "start_time": "2021-08-02T04:05:11.432909Z"
    }
   },
   "outputs": [
    {
     "data": {
      "application/javascript": "\n            setTimeout(function() {\n                var nbb_cell_id = 1;\n                var nbb_unformatted_code = \"%load_ext nb_black\";\n                var nbb_formatted_code = \"%load_ext nb_black\";\n                var nbb_cells = Jupyter.notebook.get_cells();\n                for (var i = 0; i < nbb_cells.length; ++i) {\n                    if (nbb_cells[i].input_prompt_number == nbb_cell_id) {\n                        if (nbb_cells[i].get_text() == nbb_unformatted_code) {\n                             nbb_cells[i].set_text(nbb_formatted_code);\n                        }\n                        break;\n                    }\n                }\n            }, 500);\n            ",
      "text/plain": [
       "<IPython.core.display.Javascript object>"
      ]
     },
     "metadata": {},
     "output_type": "display_data"
    }
   ],
   "source": [
    "%load_ext nb_black"
   ]
  },
  {
   "attachments": {},
   "cell_type": "markdown",
   "metadata": {},
   "source": [
    "---"
   ]
  },
  {
   "cell_type": "code",
   "execution_count": 1,
   "metadata": {
    "ExecuteTime": {
     "end_time": "2021-08-02T04:05:12.078389Z",
     "start_time": "2021-08-02T04:05:11.984310Z"
    }
   },
   "outputs": [],
   "source": [
    "from functional import seq"
   ]
  },
  {
   "cell_type": "code",
   "execution_count": 2,
   "metadata": {
    "ExecuteTime": {
     "end_time": "2021-08-02T04:05:12.134541Z",
     "start_time": "2021-08-02T04:05:12.089836Z"
    }
   },
   "outputs": [],
   "source": [
    "feed = seq.json(\"../data/hellokitty.feeds.json\").to_dict()\n",
    "stix = seq.json(\"../data/hellokitty.stix21.6047944bd5bd6b6f323e59fa.json\").to_dict()"
   ]
  },
  {
   "cell_type": "code",
   "execution_count": 3,
   "metadata": {
    "ExecuteTime": {
     "end_time": "2021-08-02T04:05:12.218487Z",
     "start_time": "2021-08-02T04:05:12.158729Z"
    }
   },
   "outputs": [
    {
     "data": {
      "text/plain": [
       "{'id': '6047944bd5bd6b6f323e59fa',\n",
       " 'name': 'HelloKitty Ransomware Lacks Stealth, But Still Strikes Home',\n",
       " 'description': 'HelloKitty is a ransomware family that emerged in late 2020. While it lacks the sophistication of some of the more well-known families such as Ryuk, REvil, and Conti, it has nevertheless struck some notable targets, including CEMIG0. In this post, Sentinel Labs analyzes a recent HelloKitty sample and outlines the basic behaviors and traits associated with this family of ransomware.',\n",
       " 'author_name': 'AlienVault',\n",
       " 'modified': '2021-03-09T15:29:14.999000',\n",
       " 'created': '2021-03-09T15:29:14.999000',\n",
       " 'revision': 1,\n",
       " 'tlp': 'white',\n",
       " 'public': 1,\n",
       " 'adversary': '',\n",
       " 'indicators': [{'id': 2892282605,\n",
       "   'indicator': '136bd70f7aa98f52861879d7dca03cf2',\n",
       "   'type': 'FileHash-MD5',\n",
       "   'created': '2021-03-09T15:29:16',\n",
       "   'content': '',\n",
       "   'title': 'Ransom:Win32/Death.DB!MTB',\n",
       "   'description': 'MD5 of fadd8d7c13a18c251ded1f645ffea18a37f1c2de',\n",
       "   'expiration': None,\n",
       "   'is_active': 1,\n",
       "   'role': None},\n",
       "  {'id': 2892282606,\n",
       "   'indicator': '501487b025f25ddf1ca32deb57a2b4db43ccf6635c1edc74b9cff54ce0e5bcfe',\n",
       "   'type': 'FileHash-SHA256',\n",
       "   'created': '2021-03-09T15:29:16',\n",
       "   'content': '',\n",
       "   'title': 'Ransom:Win32/Death.DB!MTB',\n",
       "   'description': 'SHA256 of fadd8d7c13a18c251ded1f645ffea18a37f1c2de',\n",
       "   'expiration': None,\n",
       "   'is_active': 1,\n",
       "   'role': None},\n",
       "  {'id': 2892282607,\n",
       "   'indicator': 'fadd8d7c13a18c251ded1f645ffea18a37f1c2de',\n",
       "   'type': 'FileHash-SHA1',\n",
       "   'created': '2021-03-09T15:29:16',\n",
       "   'content': '',\n",
       "   'title': 'Ransom:Win32/Death.DB!MTB',\n",
       "   'description': '',\n",
       "   'expiration': None,\n",
       "   'is_active': 1,\n",
       "   'role': None},\n",
       "  {'id': 2892282608,\n",
       "   'indicator': '6x7dp6h3w6q3ugjv4yv5gycj3femb24kysgry5b44hhgfwc5ml5qrdad.onion',\n",
       "   'type': 'domain',\n",
       "   'created': '2021-03-09T15:29:16',\n",
       "   'content': '',\n",
       "   'title': '',\n",
       "   'description': '',\n",
       "   'expiration': None,\n",
       "   'is_active': 1,\n",
       "   'role': None}],\n",
       " 'tags': ['HelloKitty', 'Ransomware'],\n",
       " 'targeted_countries': [],\n",
       " 'malware_families': ['HelloKitty Ransomware',\n",
       "  'Win32:HelloKitty',\n",
       "  'Ransom.HelloKitty'],\n",
       " 'attack_ids': ['T1005',\n",
       "  'T1012',\n",
       "  'T1047',\n",
       "  'T1082',\n",
       "  'T1112',\n",
       "  'T1486',\n",
       "  'T1059.003',\n",
       "  'T1070.004'],\n",
       " 'references': ['https://labs.sentinelone.com/hellokitty-ransomware-lacks-stealth-but-still-strikes-home/'],\n",
       " 'industries': [],\n",
       " 'extract_source': [],\n",
       " 'more_indicators': False}"
      ]
     },
     "execution_count": 3,
     "metadata": {},
     "output_type": "execute_result"
    }
   ],
   "source": [
    "feed"
   ]
  },
  {
   "cell_type": "code",
   "execution_count": 5,
   "metadata": {
    "ExecuteTime": {
     "end_time": "2021-08-02T04:05:12.285777Z",
     "start_time": "2021-08-02T04:05:12.227272Z"
    },
    "scrolled": true
   },
   "outputs": [
    {
     "data": {
      "text/plain": [
       "{'id': 'bundle--027a551d-bdba-4d19-b75d-ccc9b7f8f0c5',\n",
       " 'objects': [{'created': '2021-03-09T15:29:14.999Z',\n",
       "   'created_by_ref': 'identity--ab072f15-9b87-4ee1-898f-b584d41f29b0',\n",
       "   'description': 'HelloKitty is a ransomware family that emerged in late 2020. While it lacks the sophistication of some of the more well-known families such as Ryuk, REvil, and Conti, it has nevertheless struck some notable targets, including CEMIG0. In this post, Sentinel Labs analyzes a recent HelloKitty sample and outlines the basic behaviors and traits associated with this family of ransomware.',\n",
       "   'external_references': [{'source_name': 'web',\n",
       "     'url': 'https://labs.sentinelone.com/hellokitty-ransomware-lacks-stealth-but-still-strikes-home/'}],\n",
       "   'id': 'report--027a551d-bdba-4d19-b75d-ccc9b7f8f0c5',\n",
       "   'labels': ['threat-report'],\n",
       "   'modified': '2021-03-09T15:29:14.999Z',\n",
       "   'name': 'HelloKitty Ransomware Lacks Stealth, But Still Strikes Home',\n",
       "   'object_refs': ['identity--ab072f15-9b87-4ee1-898f-b584d41f29b0',\n",
       "    'indicator--e90bf0cc-53f8-4fe4-bd41-71a398e933fe',\n",
       "    'indicator--ce82185f-669e-4967-af57-bd8e40780446',\n",
       "    'indicator--d14d06d6-f10f-4e88-8f40-84c6645b6a72',\n",
       "    'indicator--f8e57340-967d-44ef-898d-c59d9d537550',\n",
       "    'attack-pattern--cac1c5f3-4706-47ab-bb1f-3e525a9aaed5',\n",
       "    'attack-pattern--afdc10eb-ef6e-4cff-be08-3c04c193f29b',\n",
       "    'attack-pattern--d982ff3e-8d33-433e-8156-0908528fec0c',\n",
       "    'attack-pattern--71130ea2-6191-42b8-b96b-eaa71f89879c',\n",
       "    'attack-pattern--41290d9e-d4e8-4991-9f56-9ce1a8abff56',\n",
       "    'attack-pattern--595479f7-1801-4470-853a-292d66958574',\n",
       "    'attack-pattern--26e1f190-135f-40ee-86a2-a09bec63a001',\n",
       "    'attack-pattern--cba52de9-01de-474c-8f0d-0574e622fe29',\n",
       "    'malware--23c14bc4-169b-430f-b413-beef1e71fbb5',\n",
       "    'malware--395b7eb6-a295-47c1-afba-07ec8c864984',\n",
       "    'malware--f8748f43-6b7c-46e2-8419-d67b2965d786'],\n",
       "   'published': '2021-03-09T15:29:14.999Z',\n",
       "   'spec_version': '2.1',\n",
       "   'type': 'report'},\n",
       "  {'contact_information': 'https://otx.alienvault.com/',\n",
       "   'created': '2021-03-09T15:29:14.999Z',\n",
       "   'id': 'identity--ab072f15-9b87-4ee1-898f-b584d41f29b0',\n",
       "   'identity_class': 'organization',\n",
       "   'modified': '2021-03-09T15:29:14.999Z',\n",
       "   'name': 'Open Threat Exchange',\n",
       "   'spec_version': '2.1',\n",
       "   'type': 'identity'},\n",
       "  {'created': '2021-03-09T15:29:16.000Z',\n",
       "   'description': 'MD5 of fadd8d7c13a18c251ded1f645ffea18a37f1c2de',\n",
       "   'id': 'indicator--e90bf0cc-53f8-4fe4-bd41-71a398e933fe',\n",
       "   'labels': ['malicious-activity'],\n",
       "   'modified': '2021-03-09T15:29:16.000Z',\n",
       "   'name': 'Ransom:Win32/Death.DB!MTB',\n",
       "   'pattern': \"[file:hashes.MD5 = '136bd70f7aa98f52861879d7dca03cf2']\",\n",
       "   'pattern_type': 'stix',\n",
       "   'pattern_version': '2.1',\n",
       "   'spec_version': '2.1',\n",
       "   'type': 'indicator',\n",
       "   'valid_from': '2021-03-09T15:29:16.000Z'},\n",
       "  {'created': '2021-03-09T15:29:16.000Z',\n",
       "   'description': 'SHA256 of fadd8d7c13a18c251ded1f645ffea18a37f1c2de',\n",
       "   'id': 'indicator--ce82185f-669e-4967-af57-bd8e40780446',\n",
       "   'labels': ['malicious-activity'],\n",
       "   'modified': '2021-03-09T15:29:16.000Z',\n",
       "   'name': 'Ransom:Win32/Death.DB!MTB',\n",
       "   'pattern': \"[file:hashes.'SHA-256' = '501487b025f25ddf1ca32deb57a2b4db43ccf6635c1edc74b9cff54ce0e5bcfe']\",\n",
       "   'pattern_type': 'stix',\n",
       "   'pattern_version': '2.1',\n",
       "   'spec_version': '2.1',\n",
       "   'type': 'indicator',\n",
       "   'valid_from': '2021-03-09T15:29:16.000Z'},\n",
       "  {'created': '2021-03-09T15:29:16.000Z',\n",
       "   'description': '',\n",
       "   'id': 'indicator--d14d06d6-f10f-4e88-8f40-84c6645b6a72',\n",
       "   'labels': ['malicious-activity'],\n",
       "   'modified': '2021-03-09T15:29:16.000Z',\n",
       "   'name': 'Ransom:Win32/Death.DB!MTB',\n",
       "   'pattern': \"[file:hashes.'SHA-1' = 'fadd8d7c13a18c251ded1f645ffea18a37f1c2de']\",\n",
       "   'pattern_type': 'stix',\n",
       "   'pattern_version': '2.1',\n",
       "   'spec_version': '2.1',\n",
       "   'type': 'indicator',\n",
       "   'valid_from': '2021-03-09T15:29:16.000Z'},\n",
       "  {'created': '2021-03-09T15:29:16.000Z',\n",
       "   'description': '',\n",
       "   'id': 'indicator--f8e57340-967d-44ef-898d-c59d9d537550',\n",
       "   'labels': ['malicious-activity'],\n",
       "   'modified': '2021-03-09T15:29:16.000Z',\n",
       "   'name': '',\n",
       "   'pattern': \"[domain-name:value = '6x7dp6h3w6q3ugjv4yv5gycj3femb24kysgry5b44hhgfwc5ml5qrdad.onion']\",\n",
       "   'pattern_type': 'stix',\n",
       "   'pattern_version': '2.1',\n",
       "   'spec_version': '2.1',\n",
       "   'type': 'indicator',\n",
       "   'valid_from': '2021-03-09T15:29:16.000Z'},\n",
       "  {'created': '2021-03-09T15:29:14.999Z',\n",
       "   'description': 'Adversaries may search local system sources, such as file systems or local databases, to find files of interest and sensitive data prior to Exfiltration.\\n\\nAdversaries may do this using a [Command and Scripting Interpreter](https://attack.mitre.org/techniques/T1059), such as [cmd](https://attack.mitre.org/software/S0106), which has functionality to interact with the file system to gather information. Some adversaries may also use [Automated Collection](https://attack.mitre.org/techniques/T1119) on the local system.\\n',\n",
       "   'external_references': [{'external_id': 'T1005',\n",
       "     'source_name': 'mitre-attack',\n",
       "     'url': 'https://attack.mitre.org/techniques/T1005'}],\n",
       "   'id': 'attack-pattern--cac1c5f3-4706-47ab-bb1f-3e525a9aaed5',\n",
       "   'kill_chain_phases': [{'kill_chain_name': 'mitre-attack',\n",
       "     'phase_name': 'collection'}],\n",
       "   'modified': '2021-03-09T15:29:14.999Z',\n",
       "   'name': 'Data from Local System',\n",
       "   'spec_version': '2.1',\n",
       "   'type': 'attack-pattern'},\n",
       "  {'created': '2021-03-09T15:29:14.999Z',\n",
       "   'description': 'Adversaries may interact with the Windows Registry to gather information about the system, configuration, and installed software.\\n\\nThe Registry contains a significant amount of information about the operating system, configuration, software, and security.(Citation: Wikipedia Windows Registry) Information can easily be queried using the [Reg](https://attack.mitre.org/software/S0075) utility, though other means to access the Registry exist. Some of the information may help adversaries to further their operation within a network. Adversaries may use the information from [Query Registry](https://attack.mitre.org/techniques/T1012) during automated discovery to shape follow-on behaviors, including whether or not the adversary fully infects the target and/or attempts specific actions.',\n",
       "   'external_references': [{'external_id': 'T1012',\n",
       "     'source_name': 'mitre-attack',\n",
       "     'url': 'https://attack.mitre.org/techniques/T1012'},\n",
       "    {'external_id': 'CAPEC-647',\n",
       "     'source_name': 'capec',\n",
       "     'url': 'https://capec.mitre.org/data/definitions/647.html'},\n",
       "    {'description': 'Wikipedia. (n.d.). Windows Registry. Retrieved February 2, 2015.',\n",
       "     'source_name': 'Wikipedia Windows Registry',\n",
       "     'url': 'https://en.wikipedia.org/wiki/Windows_Registry'}],\n",
       "   'id': 'attack-pattern--afdc10eb-ef6e-4cff-be08-3c04c193f29b',\n",
       "   'kill_chain_phases': [{'kill_chain_name': 'mitre-attack',\n",
       "     'phase_name': 'discovery'}],\n",
       "   'modified': '2021-03-09T15:29:14.999Z',\n",
       "   'name': 'Query Registry',\n",
       "   'spec_version': '2.1',\n",
       "   'type': 'attack-pattern'},\n",
       "  {'created': '2021-03-09T15:29:14.999Z',\n",
       "   'description': 'Adversaries may abuse Windows Management Instrumentation (WMI) to achieve execution. WMI is a Windows administration feature that provides a uniform environment for local and remote access to Windows system components. It relies on the WMI service for local and remote access and the server message block (SMB) (Citation: Wikipedia SMB) and Remote Procedure Call Service (RPCS) (Citation: TechNet RPC) for remote access. RPCS operates over port 135. (Citation: MSDN WMI)\\n\\nAn adversary can use WMI to interact with local and remote systems and use it as a means to perform many tactic functions, such as gathering information for Discovery and remote Execution of files as part of Lateral Movement. (Citation: FireEye WMI SANS 2015) (Citation: FireEye WMI 2015)',\n",
       "   'external_references': [{'external_id': 'T1047',\n",
       "     'source_name': 'mitre-attack',\n",
       "     'url': 'https://attack.mitre.org/techniques/T1047'},\n",
       "    {'description': 'Wikipedia. (2016, June 12). Server Message Block. Retrieved June 12, 2016.',\n",
       "     'source_name': 'Wikipedia SMB',\n",
       "     'url': 'https://en.wikipedia.org/wiki/Server_Message_Block'},\n",
       "    {'description': 'Microsoft. (2003, March 28). What Is RPC?. Retrieved June 12, 2016.',\n",
       "     'source_name': 'TechNet RPC',\n",
       "     'url': 'https://technet.microsoft.com/en-us/library/cc787851.aspx'},\n",
       "    {'description': 'Microsoft. (n.d.). Windows Management Instrumentation. Retrieved April 27, 2016.',\n",
       "     'source_name': 'MSDN WMI',\n",
       "     'url': 'https://msdn.microsoft.com/en-us/library/aa394582.aspx'},\n",
       "    {'description': \"Devon Kerr. (2015). There's Something About WMI. Retrieved May 4, 2020.\",\n",
       "     'source_name': 'FireEye WMI SANS 2015',\n",
       "     'url': 'https://www.fireeye.com/content/dam/fireeye-www/services/pdfs/sans-dfir-2015.pdf'},\n",
       "    {'description': 'Ballenthin, W., et al. (2015). Windows Management Instrumentation (WMI) Offense, Defense, and Forensics. Retrieved March 30, 2016.',\n",
       "     'source_name': 'FireEye WMI 2015',\n",
       "     'url': 'https://www.fireeye.com/content/dam/fireeye-www/global/en/current-threats/pdfs/wp-windows-management-instrumentation.pdf'}],\n",
       "   'id': 'attack-pattern--d982ff3e-8d33-433e-8156-0908528fec0c',\n",
       "   'kill_chain_phases': [{'kill_chain_name': 'mitre-attack',\n",
       "     'phase_name': 'execution'}],\n",
       "   'modified': '2021-03-09T15:29:14.999Z',\n",
       "   'name': 'Windows Management Instrumentation',\n",
       "   'spec_version': '2.1',\n",
       "   'type': 'attack-pattern'},\n",
       "  {'created': '2021-03-09T15:29:14.999Z',\n",
       "   'description': 'An adversary may attempt to get detailed information about the operating system and hardware, including version, patches, hotfixes, service packs, and architecture. Adversaries may use the information from [System Information Discovery](https://attack.mitre.org/techniques/T1082) during automated discovery to shape follow-on behaviors, including whether or not the adversary fully infects the target and/or attempts specific actions.\\n\\nTools such as [Systeminfo](https://attack.mitre.org/software/S0096) can be used to gather detailed system information. A breakdown of system data can also be gathered through the macOS <code>systemsetup</code> command, but it requires administrative privileges.\\n\\nInfrastructure as a Service (IaaS) cloud providers such as AWS, GCP, and Azure allow access to instance and virtual machine information via APIs. Successful authenticated API calls can return data such as the operating system platform and status of a particular instance or the model view of a virtual machine.(Citation: Amazon Describe Instance)(Citation: Google Instances Resource)(Citation: Microsoft Virutal Machine API)',\n",
       "   'external_references': [{'external_id': 'T1082',\n",
       "     'source_name': 'mitre-attack',\n",
       "     'url': 'https://attack.mitre.org/techniques/T1082'},\n",
       "    {'external_id': 'CAPEC-312',\n",
       "     'source_name': 'capec',\n",
       "     'url': 'https://capec.mitre.org/data/definitions/312.html'},\n",
       "    {'description': 'Amazon. (n.d.). describe-instance-information. Retrieved March 3, 2020.',\n",
       "     'source_name': 'Amazon Describe Instance',\n",
       "     'url': 'https://docs.aws.amazon.com/cli/latest/reference/ssm/describe-instance-information.html'},\n",
       "    {'description': 'Google. (n.d.). Rest Resource: instance. Retrieved March 3, 2020.',\n",
       "     'source_name': 'Google Instances Resource',\n",
       "     'url': 'https://cloud.google.com/compute/docs/reference/rest/v1/instances'},\n",
       "    {'description': 'Microsoft. (2019, March 1). Virtual Machines - Get. Retrieved October 8, 2019.',\n",
       "     'source_name': 'Microsoft Virutal Machine API',\n",
       "     'url': 'https://docs.microsoft.com/en-us/rest/api/compute/virtualmachines/get'}],\n",
       "   'id': 'attack-pattern--71130ea2-6191-42b8-b96b-eaa71f89879c',\n",
       "   'kill_chain_phases': [{'kill_chain_name': 'mitre-attack',\n",
       "     'phase_name': 'discovery'}],\n",
       "   'modified': '2021-03-09T15:29:14.999Z',\n",
       "   'name': 'System Information Discovery',\n",
       "   'spec_version': '2.1',\n",
       "   'type': 'attack-pattern'},\n",
       "  {'created': '2021-03-09T15:29:14.999Z',\n",
       "   'description': \"Adversaries may interact with the Windows Registry to hide configuration information within Registry keys, remove information as part of cleaning up, or as part of other techniques to aid in persistence and execution.\\n\\nAccess to specific areas of the Registry depends on account permissions, some requiring administrator-level access. The built-in Windows command-line utility [Reg](https://attack.mitre.org/software/S0075) may be used for local or remote Registry modification. (Citation: Microsoft Reg) Other tools may also be used, such as a remote access tool, which may contain functionality to interact with the Registry through the Windows API.\\n\\nRegistry modifications may also include actions to hide keys, such as prepending key names with a null character, which will cause an error and/or be ignored when read via [Reg](https://attack.mitre.org/software/S0075) or other utilities using the Win32 API. (Citation: Microsoft Reghide NOV 2006) Adversaries may abuse these pseudo-hidden keys to conceal payloads/commands used to maintain persistence. (Citation: TrendMicro POWELIKS AUG 2014) (Citation: SpectorOps Hiding Reg Jul 2017)\\n\\nThe Registry of a remote system may be modified to aid in execution of files as part of lateral movement. It requires the remote Registry service to be running on the target system. (Citation: Microsoft Remote) Often [Valid Accounts](https://attack.mitre.org/techniques/T1078) are required, along with access to the remote system's [SMB/Windows Admin Shares](https://attack.mitre.org/techniques/T1021/002) for RPC communication.\",\n",
       "   'external_references': [{'external_id': 'T1112',\n",
       "     'source_name': 'mitre-attack',\n",
       "     'url': 'https://attack.mitre.org/techniques/T1112'},\n",
       "    {'external_id': 'CAPEC-203',\n",
       "     'source_name': 'capec',\n",
       "     'url': 'https://capec.mitre.org/data/definitions/203.html'},\n",
       "    {'description': 'Microsoft. (2012, April 17). Reg. Retrieved May 1, 2015.',\n",
       "     'source_name': 'Microsoft Reg',\n",
       "     'url': 'https://technet.microsoft.com/en-us/library/cc732643.aspx'},\n",
       "    {'description': 'Russinovich, M. & Sharkey, K. (2006, January 10). Reghide. Retrieved August 9, 2018.',\n",
       "     'source_name': 'Microsoft Reghide NOV 2006',\n",
       "     'url': 'https://docs.microsoft.com/sysinternals/downloads/reghide'},\n",
       "    {'description': 'Santos, R. (2014, August 1). POWELIKS: Malware Hides In Windows Registry. Retrieved August 9, 2018.',\n",
       "     'source_name': 'TrendMicro POWELIKS AUG 2014',\n",
       "     'url': 'https://blog.trendmicro.com/trendlabs-security-intelligence/poweliks-malware-hides-in-windows-registry/'},\n",
       "    {'description': 'Reitz, B. (2017, July 14). Hiding Registry keys with PSReflect. Retrieved August 9, 2018.',\n",
       "     'source_name': 'SpectorOps Hiding Reg Jul 2017',\n",
       "     'url': 'https://posts.specterops.io/hiding-registry-keys-with-psreflect-b18ec5ac8353'},\n",
       "    {'description': 'Microsoft. (n.d.). Enable the Remote Registry Service. Retrieved May 1, 2015.',\n",
       "     'source_name': 'Microsoft Remote',\n",
       "     'url': 'https://technet.microsoft.com/en-us/library/cc754820.aspx'},\n",
       "    {'description': 'Miroshnikov, A. & Hall, J. (2017, April 18). 4657(S): A registry value was modified. Retrieved August 9, 2018.',\n",
       "     'source_name': 'Microsoft 4657 APR 2017',\n",
       "     'url': 'https://docs.microsoft.com/windows/security/threat-protection/auditing/event-4657'},\n",
       "    {'description': 'Russinovich, M. & Sharkey, K. (2016, July 4). RegDelNull v1.11. Retrieved August 10, 2018.',\n",
       "     'source_name': 'Microsoft RegDelNull July 2016',\n",
       "     'url': 'https://docs.microsoft.com/en-us/sysinternals/downloads/regdelnull'}],\n",
       "   'id': 'attack-pattern--41290d9e-d4e8-4991-9f56-9ce1a8abff56',\n",
       "   'kill_chain_phases': [{'kill_chain_name': 'mitre-attack',\n",
       "     'phase_name': 'defense-evasion'}],\n",
       "   'modified': '2021-03-09T15:29:14.999Z',\n",
       "   'name': 'Modify Registry',\n",
       "   'spec_version': '2.1',\n",
       "   'type': 'attack-pattern'},\n",
       "  {'created': '2021-03-09T15:29:14.999Z',\n",
       "   'description': 'Adversaries may encrypt data on target systems or on large numbers of systems in a network to interrupt availability to system and network resources. They can attempt to render stored data inaccessible by encrypting files or data on local and remote drives and withholding access to a decryption key. This may be done in order to extract monetary compensation from a victim in exchange for decryption or a decryption key (ransomware) or to render data permanently inaccessible in cases where the key is not saved or transmitted.(Citation: US-CERT Ransomware 2016)(Citation: FireEye WannaCry 2017)(Citation: US-CERT NotPetya 2017)(Citation: US-CERT SamSam 2018) In the case of ransomware, it is typical that common user files like Office documents, PDFs, images, videos, audio, text, and source code files will be encrypted. In some cases, adversaries may encrypt critical system files, disk partitions, and the MBR.(Citation: US-CERT NotPetya 2017)\\n\\nTo maximize impact on the target organization, malware designed for encrypting data may have worm-like features to propagate across a network by leveraging other attack techniques like [Valid Accounts](https://attack.mitre.org/techniques/T1078), [OS Credential Dumping](https://attack.mitre.org/techniques/T1003), and [SMB/Windows Admin Shares](https://attack.mitre.org/techniques/T1021/002).(Citation: FireEye WannaCry 2017)(Citation: US-CERT NotPetya 2017)\\n\\nIn cloud environments, storage objects within compromised accounts may also be encrypted.(Citation: Rhino S3 Ransomware Part 1)',\n",
       "   'external_references': [{'external_id': 'T1486',\n",
       "     'source_name': 'mitre-attack',\n",
       "     'url': 'https://attack.mitre.org/techniques/T1486'},\n",
       "    {'description': 'US-CERT. (2016, March 31). Alert (TA16-091A): Ransomware and Recent Variants. Retrieved March 15, 2019.',\n",
       "     'source_name': 'US-CERT Ransomware 2016',\n",
       "     'url': 'https://www.us-cert.gov/ncas/alerts/TA16-091A'},\n",
       "    {'description': 'Berry, A., Homan, J., and Eitzman, R. (2017, May 23). WannaCry Malware Profile. Retrieved March 15, 2019.',\n",
       "     'source_name': 'FireEye WannaCry 2017',\n",
       "     'url': 'https://www.fireeye.com/blog/threat-research/2017/05/wannacry-malware-profile.html'},\n",
       "    {'description': 'US-CERT. (2017, July 1). Alert (TA17-181A): Petya Ransomware. Retrieved March 15, 2019.',\n",
       "     'source_name': 'US-CERT NotPetya 2017',\n",
       "     'url': 'https://www.us-cert.gov/ncas/alerts/TA17-181A'},\n",
       "    {'description': 'US-CERT. (2018, December 3). Alert (AA18-337A): SamSam Ransomware. Retrieved March 15, 2019.',\n",
       "     'source_name': 'US-CERT SamSam 2018',\n",
       "     'url': 'https://www.us-cert.gov/ncas/alerts/AA18-337A'},\n",
       "    {'description': 'Gietzen, S. (n.d.). S3 Ransomware Part 1: Attack Vector. Retrieved April 14, 2021.',\n",
       "     'source_name': 'Rhino S3 Ransomware Part 1',\n",
       "     'url': 'https://rhinosecuritylabs.com/aws/s3-ransomware-part-1-attack-vector/'}],\n",
       "   'id': 'attack-pattern--595479f7-1801-4470-853a-292d66958574',\n",
       "   'kill_chain_phases': [{'kill_chain_name': 'mitre-attack',\n",
       "     'phase_name': 'impact'}],\n",
       "   'modified': '2021-03-09T15:29:14.999Z',\n",
       "   'name': 'Data Encrypted for Impact',\n",
       "   'spec_version': '2.1',\n",
       "   'type': 'attack-pattern'},\n",
       "  {'created': '2021-03-09T15:29:14.999Z',\n",
       "   'description': 'Adversaries may abuse the Windows command shell for execution. The Windows command shell ([cmd](https://attack.mitre.org/software/S0106)) is the primary command prompt on Windows systems. The Windows command prompt can be used to control almost any aspect of a system, with various permission levels required for different subsets of commands. \\n\\nBatch files (ex: .bat or .cmd) also provide the shell with a list of sequential commands to run, as well as normal scripting operations such as conditionals and loops. Common uses of batch files include long or repetitive tasks, or the need to run the same set of commands on multiple systems.\\n\\nAdversaries may leverage [cmd](https://attack.mitre.org/software/S0106) to execute various commands and payloads. Common uses include [cmd](https://attack.mitre.org/software/S0106) to execute a single command, or abusing [cmd](https://attack.mitre.org/software/S0106) interactively with input and output forwarded over a command and control channel.',\n",
       "   'external_references': [{'external_id': 'T1059.003',\n",
       "     'source_name': 'mitre-attack',\n",
       "     'url': 'https://attack.mitre.org/techniques/T1059/003'}],\n",
       "   'id': 'attack-pattern--26e1f190-135f-40ee-86a2-a09bec63a001',\n",
       "   'kill_chain_phases': [{'kill_chain_name': 'mitre-attack',\n",
       "     'phase_name': 'execution'}],\n",
       "   'modified': '2021-03-09T15:29:14.999Z',\n",
       "   'name': 'Windows Command Shell',\n",
       "   'spec_version': '2.1',\n",
       "   'type': 'attack-pattern'},\n",
       "  {'created': '2021-03-09T15:29:14.999Z',\n",
       "   'description': \"Adversaries may delete files left behind by the actions of their intrusion activity. Malware, tools, or other non-native files dropped or created on a system by an adversary may leave traces to indicate to what was done within a network and how. Removal of these files can occur during an intrusion, or as part of a post-intrusion process to minimize the adversary's footprint.\\n\\nThere are tools available from the host operating system to perform cleanup, but adversaries may use other tools as well. Examples include native [cmd](https://attack.mitre.org/software/S0106) functions such as DEL, secure deletion tools such as Windows Sysinternals SDelete, or other third-party file deletion tools. (Citation: Trend Micro APT Attack Tools)\",\n",
       "   'external_references': [{'external_id': 'T1070.004',\n",
       "     'source_name': 'mitre-attack',\n",
       "     'url': 'https://attack.mitre.org/techniques/T1070/004'},\n",
       "    {'description': 'Wilhoit, K. (2013, March 4). In-Depth Look: APT Attack Tools of the Trade. Retrieved December 2, 2015.',\n",
       "     'source_name': 'Trend Micro APT Attack Tools',\n",
       "     'url': 'http://blog.trendmicro.com/trendlabs-security-intelligence/in-depth-look-apt-attack-tools-of-the-trade/'}],\n",
       "   'id': 'attack-pattern--cba52de9-01de-474c-8f0d-0574e622fe29',\n",
       "   'kill_chain_phases': [{'kill_chain_name': 'mitre-attack',\n",
       "     'phase_name': 'defense-evasion'}],\n",
       "   'modified': '2021-03-09T15:29:14.999Z',\n",
       "   'name': 'File Deletion',\n",
       "   'spec_version': '2.1',\n",
       "   'type': 'attack-pattern'},\n",
       "  {'created': '2021-03-09T15:29:14.999Z',\n",
       "   'id': 'malware--23c14bc4-169b-430f-b413-beef1e71fbb5',\n",
       "   'is_family': True,\n",
       "   'labels': ['adware'],\n",
       "   'modified': '2021-03-09T15:29:14.999Z',\n",
       "   'name': 'HelloKitty Ransomware',\n",
       "   'spec_version': '2.1',\n",
       "   'type': 'malware'},\n",
       "  {'created': '2021-03-09T15:29:14.999Z',\n",
       "   'id': 'malware--395b7eb6-a295-47c1-afba-07ec8c864984',\n",
       "   'is_family': True,\n",
       "   'labels': ['adware'],\n",
       "   'modified': '2021-03-09T15:29:14.999Z',\n",
       "   'name': 'Win32:HelloKitty',\n",
       "   'spec_version': '2.1',\n",
       "   'type': 'malware'},\n",
       "  {'created': '2021-03-09T15:29:14.999Z',\n",
       "   'id': 'malware--f8748f43-6b7c-46e2-8419-d67b2965d786',\n",
       "   'is_family': True,\n",
       "   'labels': ['adware'],\n",
       "   'modified': '2021-03-09T15:29:14.999Z',\n",
       "   'name': 'Ransom.HelloKitty',\n",
       "   'spec_version': '2.1',\n",
       "   'type': 'malware'}],\n",
       " 'spec_version': '2.1',\n",
       " 'type': 'bundle'}"
      ]
     },
     "execution_count": 5,
     "metadata": {},
     "output_type": "execute_result"
    },
    {
     "data": {
      "application/javascript": "\n            setTimeout(function() {\n                var nbb_cell_id = 5;\n                var nbb_unformatted_code = \"stix\";\n                var nbb_formatted_code = \"stix\";\n                var nbb_cells = Jupyter.notebook.get_cells();\n                for (var i = 0; i < nbb_cells.length; ++i) {\n                    if (nbb_cells[i].input_prompt_number == nbb_cell_id) {\n                        if (nbb_cells[i].get_text() == nbb_unformatted_code) {\n                             nbb_cells[i].set_text(nbb_formatted_code);\n                        }\n                        break;\n                    }\n                }\n            }, 500);\n            ",
      "text/plain": [
       "<IPython.core.display.Javascript object>"
      ]
     },
     "metadata": {},
     "output_type": "display_data"
    }
   ],
   "source": [
    "stix"
   ]
  },
  {
   "attachments": {},
   "cell_type": "markdown",
   "metadata": {},
   "source": [
    "---"
   ]
  },
  {
   "attachments": {},
   "cell_type": "markdown",
   "metadata": {},
   "source": [
    "---"
   ]
  },
  {
   "attachments": {},
   "cell_type": "markdown",
   "metadata": {},
   "source": [
    "# Path"
   ]
  },
  {
   "cell_type": "code",
   "execution_count": 6,
   "metadata": {
    "ExecuteTime": {
     "end_time": "2021-08-02T04:05:12.389335Z",
     "start_time": "2021-08-02T04:05:12.374552Z"
    }
   },
   "outputs": [
    {
     "data": {
      "application/javascript": "\n            setTimeout(function() {\n                var nbb_cell_id = 6;\n                var nbb_unformatted_code = \"from pathlib import Path, PosixPath, WindowsPath\\nfrom pathlib import PurePath, PureWindowsPath\";\n                var nbb_formatted_code = \"from pathlib import Path, PosixPath, WindowsPath\\nfrom pathlib import PurePath, PureWindowsPath\";\n                var nbb_cells = Jupyter.notebook.get_cells();\n                for (var i = 0; i < nbb_cells.length; ++i) {\n                    if (nbb_cells[i].input_prompt_number == nbb_cell_id) {\n                        if (nbb_cells[i].get_text() == nbb_unformatted_code) {\n                             nbb_cells[i].set_text(nbb_formatted_code);\n                        }\n                        break;\n                    }\n                }\n            }, 500);\n            ",
      "text/plain": [
       "<IPython.core.display.Javascript object>"
      ]
     },
     "metadata": {},
     "output_type": "display_data"
    }
   ],
   "source": [
    "from pathlib import Path, PosixPath, WindowsPath\n",
    "from pathlib import PurePath, PureWindowsPath"
   ]
  },
  {
   "attachments": {},
   "cell_type": "markdown",
   "metadata": {},
   "source": [
    "---"
   ]
  },
  {
   "attachments": {},
   "cell_type": "markdown",
   "metadata": {},
   "source": [
    "---"
   ]
  },
  {
   "attachments": {},
   "cell_type": "markdown",
   "metadata": {
    "ExecuteTime": {
     "end_time": "2021-06-07T19:54:59.897891Z",
     "start_time": "2021-06-07T19:54:59.880912Z"
    }
   },
   "source": [
    "# pyparsing"
   ]
  },
  {
   "attachments": {},
   "cell_type": "markdown",
   "metadata": {},
   "source": [
    "\n",
    "\n",
    "- YARA\n",
    "- ~~FileHash-SHA256~~  (Length=64)\n",
    "- ~~FileHash-MD5 / FileHash-IMPHASH / JA3~~ (Length=32)\n",
    "- ~~FileHash-SHA1 / FileHash-PEHASH~~ (Length=40)\n",
    "- ~~BitcoinAddress~~ (Length=34)\n",
    "\n",
    "- ~~domain / hostname~~\n",
    "- ~~URL / URI~~\n",
    "- Mutex\n",
    "- FilePath\n",
    "\n",
    "- ~~email~~\n",
    "- ~~CVE~~\n",
    "- ~~SSLCertFingerprint~~\n",
    "- ~~IPv4~~\n",
    "- ~~IPv6~~\n"
   ]
  },
  {
   "attachments": {},
   "cell_type": "markdown",
   "metadata": {
    "ExecuteTime": {
     "end_time": "2021-06-28T10:26:16.204601Z",
     "start_time": "2021-06-28T10:26:16.195259Z"
    }
   },
   "source": [
    "---"
   ]
  },
  {
   "attachments": {},
   "cell_type": "markdown",
   "metadata": {},
   "source": [
    "# Modulize Domain / Hostname / Email / URL / URI Parser\n"
   ]
  },
  {
   "cell_type": "code",
   "execution_count": 10,
   "metadata": {
    "ExecuteTime": {
     "end_time": "2021-08-02T04:05:12.581956Z",
     "start_time": "2021-08-02T04:05:12.439350Z"
    }
   },
   "outputs": [],
   "source": [
    "from pyparsing import (\n",
    "    Combine,\n",
    "    Word,\n",
    "    Keyword,\n",
    "    Literal,\n",
    "    alphas,\n",
    "    nums,\n",
    "    hexnums,\n",
    "    alphanums,\n",
    "    oneOf,\n",
    "    OneOrMore,\n",
    "    ZeroOrMore,\n",
    "    Optional,\n",
    "    printables,\n",
    "    pyparsing_common,\n",
    ")"
   ]
  },
  {
   "attachments": {},
   "cell_type": "markdown",
   "metadata": {},
   "source": [
    "## Domain"
   ]
  },
  {
   "attachments": {},
   "cell_type": "markdown",
   "metadata": {},
   "source": [
    "- Get tlds list"
   ]
  },
  {
   "cell_type": "code",
   "execution_count": 7,
   "metadata": {
    "ExecuteTime": {
     "end_time": "2021-08-02T04:05:14.400572Z",
     "start_time": "2021-08-02T04:05:12.596956Z"
    }
   },
   "outputs": [],
   "source": [
    "import requests\n",
    "\n",
    "# get top layer domains\n",
    "response = requests.get(\"https://data.iana.org/TLD/tlds-alpha-by-domain.txt\")\n",
    "\n",
    "regular_domains = response.text.lower().splitlines()\n",
    "\n",
    "# add special domains\n",
    "# https://en.wikipedia.org/wiki/List_of_Internet_top-level_domains\n",
    "special_use_domains = [\"example\", \"invalid\", \"local\", \"localhost\", \"onion\", \"test\"]\n",
    "blackchain_registered_domains = [\"eth\", \"zil\", \"crypto\", \"bit\"]\n",
    "\n",
    "# merge all domains to text\n",
    "tlds = regular_domains + special_use_domains + blackchain_registered_domains\n",
    "tlds_text = (\n",
    "    seq(tlds)\n",
    "    .drop(1)\n",
    "    .filter_not(lambda tld: tld.startswith(\"xn--\"))\n",
    "    .sorted()\n",
    "    .make_string(\" \")\n",
    ")"
   ]
  },
  {
   "attachments": {},
   "cell_type": "markdown",
   "metadata": {},
   "source": [
    "- Verify domain and hostname"
   ]
  },
  {
   "cell_type": "code",
   "execution_count": 8,
   "metadata": {
    "ExecuteTime": {
     "end_time": "2021-08-02T04:05:14.439879Z",
     "start_time": "2021-08-02T04:05:14.411565Z"
    }
   },
   "outputs": [],
   "source": [
    "import tldextract"
   ]
  },
  {
   "cell_type": "code",
   "execution_count": 11,
   "metadata": {
    "ExecuteTime": {
     "end_time": "2021-08-02T04:05:14.494705Z",
     "start_time": "2021-08-02T04:05:14.446946Z"
    }
   },
   "outputs": [],
   "source": [
    "tld = OneOrMore(\".\" + oneOf(tlds_text, asKeyword=True))\n",
    "prefix = Word(alphanums.lower() + \"-\", excludeChars=\"/\")"
   ]
  },
  {
   "cell_type": "code",
   "execution_count": 14,
   "metadata": {
    "ExecuteTime": {
     "end_time": "2021-08-02T04:05:14.531511Z",
     "start_time": "2021-08-02T04:05:14.503783Z"
    }
   },
   "outputs": [],
   "source": [
    "def verify_domain(string, loc, tokens):\n",
    "    # tokens is pyparsing.ParseResults\n",
    "    extraction = tldextract.extract(tokens[0])\n",
    "    verification = tokens[0] == \"{}.{}\".format(extraction.domain, extraction.suffix)\n",
    "    return verification"
   ]
  },
  {
   "cell_type": "code",
   "execution_count": 15,
   "metadata": {
    "ExecuteTime": {
     "end_time": "2021-08-02T04:05:14.647213Z",
     "start_time": "2021-08-02T04:05:14.546961Z"
    }
   },
   "outputs": [],
   "source": [
    "domain = (\n",
    "    Combine(prefix + ZeroOrMore(\".\" + prefix, stopOn=tld) + tld)\n",
    "    .addCondition(verify_domain)\n",
    "    .setResultsName(\"domain\")\n",
    ")"
   ]
  },
  {
   "cell_type": "code",
   "execution_count": 16,
   "metadata": {},
   "outputs": [
    {
     "data": {
      "text/plain": [
       "Combine:({{W:(-0-9a-z) [{'.' W:(-0-9a-z)}]...} {{'.' aaa | aarp | abarth | abbott | abbvie | abb | abc | able | abogado | abudhabi | academy | accenture | accountants | accountant | aco | actor | ac | ads | adult | ad | aeg | aero | aetna | ae | afl | africa | af | agakhan | agency | ag | aig | airbus | airforce | airtel | ai | akdn | alfaromeo | alibaba | alipay | allfinanz | allstate | ally | alsace | alstom | al | amazon | americanexpress | americanfamily | amex | amfam | amica | amsterdam | am | analytics | android | anquan | anz | aol | ao | apartments | apple | app | aquarelle | aq | arab | aramco | archi | army | arpa | arte | art | ar | asda | asia | associates | as | athleta | attorney | at | auction | audible | audio | audi | auspost | author | autos | auto | au | avianca | aws | aw | axa | ax | azure | az | baby | baidu | banamex | bananarepublic | band | bank | barcelona | barclaycard | barclays | barefoot | bargains | bar | baseball | basketball | bauhaus | bayern | ba | bbc | bbt | bbva | bb | bcg | bcn | bd | beats | beauty | beer | bentley | berlin | bestbuy | best | bet | be | bf | bg | bharti | bh | bible | bid | bike | bingo | bing | bio | bit | biz | bi | bj | blackfriday | black | blockbuster | blog | bloomberg | blue | bms | bmw | bm | bnpparibas | bn | boats | boehringer | bofa | bom | bond | booking | book | boo | bosch | bostik | boston | bot | boutique | box | bo | bradesco | bridgestone | broadway | broker | brother | brussels | br | bs | bt | builders | build | business | buy | buzz | bv | bw | by | bzh | bz | cab | cafe | call | calvinklein | cal | camera | camp | cam | canon | capetown | capitalone | capital | caravan | cards | careers | career | care | cars | car | casa | case | cash | casino | catering | catholic | cat | ca | cba | cbn | cbre | cbs | cc | cd | center | ceo | cern | cfa | cfd | cf | cg | chanel | channel | charity | chase | chat | cheap | chintai | christmas | chrome | church | ch | cipriani | circle | cisco | citadel | citic | citi | cityeats | city | ci | ck | claims | cleaning | click | clinic | clinique | clothing | cloud | clubmed | club | cl | cm | cn | coach | codes | coffee | college | cologne | comcast | commbank | community | company | compare | computer | comsec | com | condos | construction | consulting | contact | contractors | cookingchannel | cooking | cool | coop | corsica | country | coupons | coupon | courses | co | cpa | creditcard | creditunion | credit | cricket | crown | crs | cruises | cruise | crypto | cr | cuisinella | cu | cv | cw | cx | cymru | cyou | cy | cz | dabur | dad | dance | data | date | dating | datsun | day | dclk | dds | dealer | deals | deal | degree | delivery | dell | deloitte | delta | democrat | dental | dentist | design | desi | dev | de | dhl | diamonds | diet | digital | directory | direct | discount | discover | dish | diy | dj | dk | dm | dnp | docs | doctor | dog | domains | dot | download | do | drive | dtv | dubai | dunlop | dupont | durban | dvag | dvr | dz | earth | eat | eco | ec | edeka | education | edu | ee | eg | email | emerck | energy | engineering | engineer | enterprises | epson | equipment | ericsson | erni | er | esq | estate | es | eth | etisalat | et | eurovision | eus | eu | events | example | exchange | expert | exposed | express | extraspace | fage | fail | fairwinds | faith | family | fans | fan | farmers | farm | fashion | fast | fedex | feedback | ferrari | ferrero | fiat | fidelity | fido | film | final | finance | financial | firestone | fire | firmdale | fishing | fish | fitness | fit | fi | fj | fk | flickr | flights | flir | florist | flowers | fly | fm | foodnetwork | food | football | foo | ford | forex | forsale | forum | foundation | fox | fo | free | fresenius | frl | frogans | frontdoor | frontier | fr | ftr | fujitsu | fund | fun | furniture | futbol | fyi | gallery | gallo | gallup | gal | games | game | gap | garden | gay | ga | gbiz | gb | gdn | gd | gea | genting | gent | george | ge | gf | ggee | gg | gh | gifts | gift | gives | giving | gi | glass | gle | global | globo | gl | gmail | gmbh | gmo | gmx | gm | gn | godaddy | goldpoint | gold | golf | goodyear | google | goog | goo | gop | got | gov | gp | gq | grainger | graphics | gratis | green | gripe | grocery | group | gr | gs | gt | guardian | gucci | guge | guide | guitars | guru | gu | gw | gy | hair | hamburg | hangout | haus | hbo | hdfcbank | hdfc | healthcare | health | help | helsinki | here | hermes | hgtv | hiphop | hisamitsu | hitachi | hiv | hkt | hk | hm | hn | hockey | holdings | holiday | homedepot | homegoods | homesense | homes | honda | horse | hospital | hosting | host | hoteles | hotels | hotmail | hot | house | how | hr | hsbc | ht | hughes | hu | hyatt | hyundai | ibm | icbc | ice | icu | id | ieee | ie | ifm | ikano | il | imamat | imdb | immobilien | immo | im | inc | industries | infiniti | info | ing | ink | institute | insurance | insure | international | intuit | int | invalid | investments | in | io | ipiranga | iq | irish | ir | ismaili | istanbul | ist | is | itau | itv | it | jaguar | java | jcb | jeep | jetzt | jewelry | je | jio | jll | jmp | jm | jnj | jobs | joburg | jot | joy | jo | jpmorgan | jprs | jp | juegos | juniper | kaufen | kddi | kerryhotels | kerrylogistics | kerryproperties | ke | kfh | kg | kh | kia | kids | kim | kinder | kindle | kitchen | kiwi | ki | km | kn | koeln | komatsu | kosher | kpmg | kpn | kp | krd | kred | kr | kuokgroup | kw | kyoto | ky | kz | lacaixa | lamborghini | lamer | lancaster | lancia | landrover | land | lanxess | lasalle | latino | latrobe | lat | lawyer | law | la | lb | lc | lds | lease | leclerc | lefrak | legal | lego | lexus | lgbt | lidl | lifeinsurance | lifestyle | life | lighting | like | lilly | limited | limo | lincoln | link | lipsy | live | living | li | lk | llc | llp | loans | loan | localhost | local | locker | locus | lol | london | lotte | lotto | love | lplfinancial | lpl | lr | ls | ltda | ltd | lt | lundbeck | luxe | luxury | lu | lv | ly | madrid | maif | maison | makeup | management | mango | man | map | marketing | markets | market | marriott | marshalls | maserati | mattel | ma | mba | mckinsey | mc | md | media | med | meet | melbourne | meme | memorial | menu | men | merckmsd | me | mg | mh | miami | microsoft | mil | mini | mint | mitsubishi | mit | mk | mlb | mls | ml | mma | mm | mn | mobile | mobi | moda | moe | moi | mom | monash | money | monster | mormon | mortgage | moscow | motorcycles | moto | movie | mov | mo | mp | mq | mr | msd | ms | mtn | mtr | mt | museum | music | mutual | mu | mv | mw | mx | my | mz | nab | nagoya | name | natura | navy | na | nba | nc | nec | netbank | netflix | network | net | neustar | news | new | nextdirect | next | nexus | ne | nfl | nf | ngo | ng | nhk | nico | nike | nikon | ninja | nissan | nissay | ni | nl | nokia | northwesternmutual | norton | nowruz | nowtv | now | no | np | nra | nrw | nr | ntt | nu | nyc | nz | obi | observer | office | okinawa | olayangroup | olayan | oldnavy | ollo | omega | om | one | ong | onion | online | onl | ooo | open | oracle | orange | organic | org | origins | osaka | otsuka | ott | ovh | page | panasonic | paris | pars | partners | parts | party | passagens | pay | pa | pccw | pet | pe | pfizer | pf | pg | pharmacy | phd | philips | phone | photography | photos | photo | physio | ph | pics | pictet | pictures | pid | ping | pink | pin | pioneer | pizza | pk | place | playstation | play | plumbing | plus | pl | pm | pnc | pn | pohl | poker | politie | porn | post | pramerica | praxi | press | prime | productions | prod | prof | progressive | promo | properties | property | protection | pro | prudential | pru | pr | ps | pt | pub | pwc | pw | py | qa | qpon | quebec | quest | racing | radio | read | realestate | realtor | realty | recipes | redstone | redumbrella | red | rehab | reisen | reise | reit | reliance | rentals | rent | ren | repair | report | republican | restaurant | rest | reviews | review | rexroth | re | richardli | rich | ricoh | ril | rio | rip | rocher | rocks | rodeo | rogers | room | ro | rsvp | rs | rugby | ruhr | run | ru | rwe | rw | ryukyu | saarland | safety | safe | sakura | sale | salon | samsclub | samsung | sandvikcoromant | sandvik | sanofi | sap | sarl | sas | save | saxo | sa | sbi | sbs | sb | sca | scb | schaeffler | schmidt | scholarships | school | schule | schwarz | science | scot | sc | sd | search | seat | secure | security | seek | select | sener | services | seven | sew | sexy | sex | se | sfr | sg | shangrila | sharp | shaw | shell | shia | shiksha | shoes | shopping | shop | shouji | showtime | show | sh | silk | sina | singles | site | si | sj | skin | ski | skype | sky | sk | sling | sl | smart | smile | sm | sncf | sn | soccer | social | softbank | software | sohu | solar | solutions | song | sony | soy | so | space | spa | sport | spot | srl | sr | ss | stada | staples | star | statebank | statefarm | stcgroup | stc | stockholm | storage | store | stream | studio | study | style | st | sucks | supplies | supply | support | surf | surgery | suzuki | su | sv | swatch | swiss | sx | sydney | systems | sy | sz | tab | taipei | talk | taobao | target | tatamotors | tatar | tattoo | taxi | tax | tci | tc | tdk | td | team | technology | tech | tel | temasek | tennis | test | teva | tf | tg | thd | theater | theatre | th | tiaa | tickets | tienda | tiffany | tips | tires | tirol | tjmaxx | tjx | tj | tkmaxx | tk | tl | tmall | tm | tn | today | tokyo | tools | top | toray | toshiba | total | tours | town | toyota | toys | to | trade | trading | training | travelchannel | travelersinsurance | travelers | travel | trust | trv | tr | tt | tube | tui | tunes | tushu | tvs | tv | tw | tz | ua | ubank | ubs | ug | uk | unicom | university | uno | uol | ups | us | uy | uz | vacations | vana | vanguard | va | vc | vegas | ventures | verisign | versicherung | vet | ve | vg | viajes | video | vig | viking | villas | vin | vip | virgin | visa | vision | viva | vivo | vi | vlaanderen | vn | vodka | volkswagen | volvo | vote | voting | voto | voyage | vuelos | vu | wales | walmart | walter | wanggou | wang | watches | watch | weatherchannel | weather | webcam | weber | website | wedding | wed | weibo | weir | wf | whoswho | wien | wiki | williamhill | windows | wine | winners | win | wme | wolterskluwer | woodside | works | work | world | wow | ws | wtc | wtf | xbox | xerox | xfinity | xihuan | xin | xxx | xyz | yachts | yahoo | yamaxun | yandex | ye | yodobashi | yoga | yokohama | youtube | you | yt | yun | zappos | zara | za | zero | zil | zip | zm | zone | zuerich | zw}}...})"
      ]
     },
     "execution_count": 16,
     "metadata": {},
     "output_type": "execute_result"
    }
   ],
   "source": [
    "domain"
   ]
  },
  {
   "attachments": {},
   "cell_type": "markdown",
   "metadata": {
    "ExecuteTime": {
     "end_time": "2021-06-30T20:07:10.044179Z",
     "start_time": "2021-06-30T20:07:10.033872Z"
    }
   },
   "source": [
    "## Hostname"
   ]
  },
  {
   "cell_type": "code",
   "execution_count": 13,
   "metadata": {
    "ExecuteTime": {
     "end_time": "2021-08-02T04:05:14.729562Z",
     "start_time": "2021-08-02T04:05:14.667196Z"
    }
   },
   "outputs": [
    {
     "data": {
      "application/javascript": "\n            setTimeout(function() {\n                var nbb_cell_id = 13;\n                var nbb_unformatted_code = \"def verify_hostname(string, loc, tokens):\\n\\n    # tokens is pyparsing.ParseResults\\n    extraction = tldextract.extract(tokens[0][0])\\n    verification = tokens[0][0] == \\\"{}.{}.{}\\\".format(\\n        extraction.subdomain, extraction.domain, extraction.suffix\\n    )\\n    return verification\";\n                var nbb_formatted_code = \"def verify_hostname(string, loc, tokens):\\n\\n    # tokens is pyparsing.ParseResults\\n    extraction = tldextract.extract(tokens[0][0])\\n    verification = tokens[0][0] == \\\"{}.{}.{}\\\".format(\\n        extraction.subdomain, extraction.domain, extraction.suffix\\n    )\\n    return verification\";\n                var nbb_cells = Jupyter.notebook.get_cells();\n                for (var i = 0; i < nbb_cells.length; ++i) {\n                    if (nbb_cells[i].input_prompt_number == nbb_cell_id) {\n                        if (nbb_cells[i].get_text() == nbb_unformatted_code) {\n                             nbb_cells[i].set_text(nbb_formatted_code);\n                        }\n                        break;\n                    }\n                }\n            }, 500);\n            ",
      "text/plain": [
       "<IPython.core.display.Javascript object>"
      ]
     },
     "metadata": {},
     "output_type": "display_data"
    }
   ],
   "source": [
    "def verify_hostname(string, loc, tokens):\n",
    "\n",
    "    # tokens is pyparsing.ParseResults\n",
    "    extraction = tldextract.extract(tokens[0][0])\n",
    "    verification = tokens[0][0] == \"{}.{}.{}\".format(\n",
    "        extraction.subdomain, extraction.domain, extraction.suffix\n",
    "    )\n",
    "    return verification"
   ]
  },
  {
   "cell_type": "code",
   "execution_count": 14,
   "metadata": {
    "ExecuteTime": {
     "end_time": "2021-08-02T04:05:14.899995Z",
     "start_time": "2021-08-02T04:05:14.750228Z"
    }
   },
   "outputs": [
    {
     "data": {
      "application/javascript": "\n            setTimeout(function() {\n                var nbb_cell_id = 14;\n                var nbb_unformatted_code = \"hostname = (\\n    Combine(prefix + OneOrMore(\\\".\\\" + domain | \\\".\\\" + prefix))\\n    .addCondition(verify_hostname)\\n    .setResultsName(\\\"hostname\\\")\\n)\";\n                var nbb_formatted_code = \"hostname = (\\n    Combine(prefix + OneOrMore(\\\".\\\" + domain | \\\".\\\" + prefix))\\n    .addCondition(verify_hostname)\\n    .setResultsName(\\\"hostname\\\")\\n)\";\n                var nbb_cells = Jupyter.notebook.get_cells();\n                for (var i = 0; i < nbb_cells.length; ++i) {\n                    if (nbb_cells[i].input_prompt_number == nbb_cell_id) {\n                        if (nbb_cells[i].get_text() == nbb_unformatted_code) {\n                             nbb_cells[i].set_text(nbb_formatted_code);\n                        }\n                        break;\n                    }\n                }\n            }, 500);\n            ",
      "text/plain": [
       "<IPython.core.display.Javascript object>"
      ]
     },
     "metadata": {},
     "output_type": "display_data"
    }
   ],
   "source": [
    "hostname = (\n",
    "    Combine(prefix + OneOrMore(\".\" + domain | \".\" + prefix))\n",
    "    .addCondition(verify_hostname)\n",
    "    .setResultsName(\"hostname\")\n",
    ")"
   ]
  },
  {
   "attachments": {},
   "cell_type": "markdown",
   "metadata": {},
   "source": [
    "---"
   ]
  },
  {
   "cell_type": "code",
   "execution_count": 15,
   "metadata": {
    "ExecuteTime": {
     "end_time": "2021-08-02T04:05:15.074037Z",
     "start_time": "2021-08-02T04:05:14.914242Z"
    }
   },
   "outputs": [
    {
     "data": {
      "text/html": [
       "<table>\n",
       "<tbody>\n",
       "<tr><td>hostname</td><td>{&#x27;hostname&#x27;: {&#x27;domain&#x27;: &#x27;mitre.org&#x27;}}</td></tr>\n",
       "</tbody>\n",
       "</table>"
      ],
      "text/plain": [
       "[('hostname', {'hostname': {'domain': 'mitre.org'}})]"
      ]
     },
     "execution_count": 15,
     "metadata": {},
     "output_type": "execute_result"
    },
    {
     "data": {
      "application/javascript": "\n            setTimeout(function() {\n                var nbb_cell_id = 15;\n                var nbb_unformatted_code = \"seq(hostname.searchString(\\\"https://attack.mitre.org/techniques/T1003/\\\")).map(\\n    lambda r: (r.getName(), r.asDict())\\n)\";\n                var nbb_formatted_code = \"seq(hostname.searchString(\\\"https://attack.mitre.org/techniques/T1003/\\\")).map(\\n    lambda r: (r.getName(), r.asDict())\\n)\";\n                var nbb_cells = Jupyter.notebook.get_cells();\n                for (var i = 0; i < nbb_cells.length; ++i) {\n                    if (nbb_cells[i].input_prompt_number == nbb_cell_id) {\n                        if (nbb_cells[i].get_text() == nbb_unformatted_code) {\n                             nbb_cells[i].set_text(nbb_formatted_code);\n                        }\n                        break;\n                    }\n                }\n            }, 500);\n            ",
      "text/plain": [
       "<IPython.core.display.Javascript object>"
      ]
     },
     "metadata": {},
     "output_type": "display_data"
    }
   ],
   "source": [
    "seq(hostname.searchString(\"https://attack.mitre.org/techniques/T1003/\")).map(\n",
    "    lambda r: (r.getName(), r.asDict())\n",
    ")"
   ]
  },
  {
   "attachments": {},
   "cell_type": "markdown",
   "metadata": {},
   "source": [
    "---"
   ]
  },
  {
   "attachments": {},
   "cell_type": "markdown",
   "metadata": {
    "ExecuteTime": {
     "end_time": "2021-07-02T09:21:57.640170Z",
     "start_time": "2021-07-02T09:21:57.614915Z"
    }
   },
   "source": [
    "## IP"
   ]
  },
  {
   "cell_type": "code",
   "execution_count": 16,
   "metadata": {
    "ExecuteTime": {
     "end_time": "2021-08-02T04:05:15.129393Z",
     "start_time": "2021-08-02T04:05:15.083654Z"
    }
   },
   "outputs": [
    {
     "data": {
      "application/javascript": "\n            setTimeout(function() {\n                var nbb_cell_id = 16;\n                var nbb_unformatted_code = \"# IPv4\\nipv4 = pyparsing_common.ipv4_address.setResultsName(\\\"IPv4\\\")\\n\\n# IPv6\\nipv6 = pyparsing_common.ipv6_address.setResultsName(\\\"IPv6\\\")\";\n                var nbb_formatted_code = \"# IPv4\\nipv4 = pyparsing_common.ipv4_address.setResultsName(\\\"IPv4\\\")\\n\\n# IPv6\\nipv6 = pyparsing_common.ipv6_address.setResultsName(\\\"IPv6\\\")\";\n                var nbb_cells = Jupyter.notebook.get_cells();\n                for (var i = 0; i < nbb_cells.length; ++i) {\n                    if (nbb_cells[i].input_prompt_number == nbb_cell_id) {\n                        if (nbb_cells[i].get_text() == nbb_unformatted_code) {\n                             nbb_cells[i].set_text(nbb_formatted_code);\n                        }\n                        break;\n                    }\n                }\n            }, 500);\n            ",
      "text/plain": [
       "<IPython.core.display.Javascript object>"
      ]
     },
     "metadata": {},
     "output_type": "display_data"
    }
   ],
   "source": [
    "# IPv4\n",
    "ipv4 = pyparsing_common.ipv4_address.setResultsName(\"IPv4\")\n",
    "\n",
    "# IPv6\n",
    "ipv6 = pyparsing_common.ipv6_address.setResultsName(\"IPv6\")"
   ]
  },
  {
   "attachments": {},
   "cell_type": "markdown",
   "metadata": {},
   "source": [
    "## URL"
   ]
  },
  {
   "cell_type": "code",
   "execution_count": 17,
   "metadata": {
    "ExecuteTime": {
     "end_time": "2021-08-02T04:05:15.520412Z",
     "start_time": "2021-08-02T04:05:15.141622Z"
    }
   },
   "outputs": [
    {
     "data": {
      "application/javascript": "\n            setTimeout(function() {\n                var nbb_cell_id = 17;\n                var nbb_unformatted_code = \"url = Combine(\\n    oneOf(\\\"https:// http://\\\")\\n    + (hostname | domain | ipv4 | ipv6)\\n    + \\\"/\\\"\\n    + ZeroOrMore(Word(alphanums + \\\"-.\\\") + \\\"/\\\")\\n    # + Optional(Word(alphanums))\\n).setResultsName(\\\"URL\\\")\";\n                var nbb_formatted_code = \"url = Combine(\\n    oneOf(\\\"https:// http://\\\")\\n    + (hostname | domain | ipv4 | ipv6)\\n    + \\\"/\\\"\\n    + ZeroOrMore(Word(alphanums + \\\"-.\\\") + \\\"/\\\")\\n    # + Optional(Word(alphanums))\\n).setResultsName(\\\"URL\\\")\";\n                var nbb_cells = Jupyter.notebook.get_cells();\n                for (var i = 0; i < nbb_cells.length; ++i) {\n                    if (nbb_cells[i].input_prompt_number == nbb_cell_id) {\n                        if (nbb_cells[i].get_text() == nbb_unformatted_code) {\n                             nbb_cells[i].set_text(nbb_formatted_code);\n                        }\n                        break;\n                    }\n                }\n            }, 500);\n            ",
      "text/plain": [
       "<IPython.core.display.Javascript object>"
      ]
     },
     "metadata": {},
     "output_type": "display_data"
    }
   ],
   "source": [
    "url = Combine(\n",
    "    oneOf(\"https:// http://\")\n",
    "    + (hostname | domain | ipv4 | ipv6)\n",
    "    + \"/\"\n",
    "    + ZeroOrMore(Word(alphanums + \"-.\") + \"/\")\n",
    "    # + Optional(Word(alphanums))\n",
    ").setResultsName(\"URL\")"
   ]
  },
  {
   "attachments": {},
   "cell_type": "markdown",
   "metadata": {},
   "source": [
    "## URI"
   ]
  },
  {
   "cell_type": "code",
   "execution_count": 18,
   "metadata": {
    "ExecuteTime": {
     "end_time": "2021-08-02T04:05:15.811373Z",
     "start_time": "2021-08-02T04:05:15.530308Z"
    }
   },
   "outputs": [
    {
     "data": {
      "application/javascript": "\n            setTimeout(function() {\n                var nbb_cell_id = 18;\n                var nbb_unformatted_code = \"uri = Combine(url + Word(printables)).setResultsName(\\\"URI\\\")\";\n                var nbb_formatted_code = \"uri = Combine(url + Word(printables)).setResultsName(\\\"URI\\\")\";\n                var nbb_cells = Jupyter.notebook.get_cells();\n                for (var i = 0; i < nbb_cells.length; ++i) {\n                    if (nbb_cells[i].input_prompt_number == nbb_cell_id) {\n                        if (nbb_cells[i].get_text() == nbb_unformatted_code) {\n                             nbb_cells[i].set_text(nbb_formatted_code);\n                        }\n                        break;\n                    }\n                }\n            }, 500);\n            ",
      "text/plain": [
       "<IPython.core.display.Javascript object>"
      ]
     },
     "metadata": {},
     "output_type": "display_data"
    }
   ],
   "source": [
    "uri = Combine(url + Word(printables)).setResultsName(\"URI\")"
   ]
  },
  {
   "attachments": {},
   "cell_type": "markdown",
   "metadata": {},
   "source": [
    "## Email"
   ]
  },
  {
   "cell_type": "code",
   "execution_count": 19,
   "metadata": {
    "ExecuteTime": {
     "end_time": "2021-08-02T04:05:16.007623Z",
     "start_time": "2021-08-02T04:05:15.828689Z"
    }
   },
   "outputs": [
    {
     "data": {
      "application/javascript": "\n            setTimeout(function() {\n                var nbb_cell_id = 19;\n                var nbb_unformatted_code = \"email = Combine(Word(alphanums + \\\"-_.\\\") + \\\"@\\\" + (domain | hostname)).setResultsName(\\n    \\\"email\\\"\\n)\";\n                var nbb_formatted_code = \"email = Combine(Word(alphanums + \\\"-_.\\\") + \\\"@\\\" + (domain | hostname)).setResultsName(\\n    \\\"email\\\"\\n)\";\n                var nbb_cells = Jupyter.notebook.get_cells();\n                for (var i = 0; i < nbb_cells.length; ++i) {\n                    if (nbb_cells[i].input_prompt_number == nbb_cell_id) {\n                        if (nbb_cells[i].get_text() == nbb_unformatted_code) {\n                             nbb_cells[i].set_text(nbb_formatted_code);\n                        }\n                        break;\n                    }\n                }\n            }, 500);\n            ",
      "text/plain": [
       "<IPython.core.display.Javascript object>"
      ]
     },
     "metadata": {},
     "output_type": "display_data"
    }
   ],
   "source": [
    "email = Combine(Word(alphanums + \"-_.\") + \"@\" + (domain | hostname)).setResultsName(\n",
    "    \"email\"\n",
    ")"
   ]
  },
  {
   "attachments": {},
   "cell_type": "markdown",
   "metadata": {},
   "source": [
    "## FilePath"
   ]
  },
  {
   "cell_type": "code",
   "execution_count": 20,
   "metadata": {
    "ExecuteTime": {
     "end_time": "2021-08-02T04:05:16.098621Z",
     "start_time": "2021-08-02T04:05:16.040129Z"
    }
   },
   "outputs": [
    {
     "data": {
      "application/javascript": "\n            setTimeout(function() {\n                var nbb_cell_id = 20;\n                var nbb_unformatted_code = \"filename = Combine(\\n    Word(alphanums + \\\"-_\\\") + OneOrMore(\\\".\\\" + Word(alphanums))\\n).setResultsName(\\\"FileName\\\")\\n\\nwindows_filepath = Combine(\\n    Optional(oneOf(alphas.upper()) + \\\":\\\\\\\\\\\")\\n    + OneOrMore(Word(printables, excludeChars=\\\"\\\\\\\\\\\") + \\\"\\\\\\\\\\\")\\n    + filename\\n)\\n\\nunixlike_filepath = Combine(\\n    \\\"/\\\" + OneOrMore(Word(printables, excludeChars=\\\"/\\\") + \\\"/\\\") + filename\\n)\\n\\nfilepath = (windows_filepath | unixlike_filepath | filename).setResultsName(\\\"FilePath\\\")\";\n                var nbb_formatted_code = \"filename = Combine(\\n    Word(alphanums + \\\"-_\\\") + OneOrMore(\\\".\\\" + Word(alphanums))\\n).setResultsName(\\\"FileName\\\")\\n\\nwindows_filepath = Combine(\\n    Optional(oneOf(alphas.upper()) + \\\":\\\\\\\\\\\")\\n    + OneOrMore(Word(printables, excludeChars=\\\"\\\\\\\\\\\") + \\\"\\\\\\\\\\\")\\n    + filename\\n)\\n\\nunixlike_filepath = Combine(\\n    \\\"/\\\" + OneOrMore(Word(printables, excludeChars=\\\"/\\\") + \\\"/\\\") + filename\\n)\\n\\nfilepath = (windows_filepath | unixlike_filepath | filename).setResultsName(\\\"FilePath\\\")\";\n                var nbb_cells = Jupyter.notebook.get_cells();\n                for (var i = 0; i < nbb_cells.length; ++i) {\n                    if (nbb_cells[i].input_prompt_number == nbb_cell_id) {\n                        if (nbb_cells[i].get_text() == nbb_unformatted_code) {\n                             nbb_cells[i].set_text(nbb_formatted_code);\n                        }\n                        break;\n                    }\n                }\n            }, 500);\n            ",
      "text/plain": [
       "<IPython.core.display.Javascript object>"
      ]
     },
     "metadata": {},
     "output_type": "display_data"
    }
   ],
   "source": [
    "filename = Combine(\n",
    "    Word(alphanums + \"-_\") + OneOrMore(\".\" + Word(alphanums))\n",
    ").setResultsName(\"FileName\")\n",
    "\n",
    "windows_filepath = Combine(\n",
    "    Optional(oneOf(alphas.upper()) + \":\\\\\")\n",
    "    + OneOrMore(Word(printables, excludeChars=\"\\\\\") + \"\\\\\")\n",
    "    + filename\n",
    ")\n",
    "\n",
    "unixlike_filepath = Combine(\n",
    "    \"/\" + OneOrMore(Word(printables, excludeChars=\"/\") + \"/\") + filename\n",
    ")\n",
    "\n",
    "filepath = (windows_filepath | unixlike_filepath | filename).setResultsName(\"FilePath\")"
   ]
  },
  {
   "attachments": {},
   "cell_type": "markdown",
   "metadata": {},
   "source": [
    "---"
   ]
  },
  {
   "attachments": {},
   "cell_type": "markdown",
   "metadata": {},
   "source": [
    "## Hash-based"
   ]
  },
  {
   "cell_type": "code",
   "execution_count": 21,
   "metadata": {
    "ExecuteTime": {
     "end_time": "2021-08-02T04:05:17.166890Z",
     "start_time": "2021-08-02T04:05:16.109596Z"
    }
   },
   "outputs": [
    {
     "data": {
      "application/javascript": "\n            setTimeout(function() {\n                var nbb_cell_id = 21;\n                var nbb_unformatted_code = \"from scipy.stats import entropy\\nfrom collections import Counter\\n\\n\\ndef entropy_threshold(string, loc, tokens, base=22, threshold=0.8):\\n    char_counts = Counter(tokens[0])\\n    # length of hexnums (A-Fa-f0-9) is 22, length of hexnums lowercase (a-f0-9) is 17\\n    char_entropy = entropy(list(char_counts.values()), base=base)\\n    # print(char_entropy)\\n    return char_entropy > threshold\";\n                var nbb_formatted_code = \"from scipy.stats import entropy\\nfrom collections import Counter\\n\\n\\ndef entropy_threshold(string, loc, tokens, base=22, threshold=0.8):\\n    char_counts = Counter(tokens[0])\\n    # length of hexnums (A-Fa-f0-9) is 22, length of hexnums lowercase (a-f0-9) is 17\\n    char_entropy = entropy(list(char_counts.values()), base=base)\\n    # print(char_entropy)\\n    return char_entropy > threshold\";\n                var nbb_cells = Jupyter.notebook.get_cells();\n                for (var i = 0; i < nbb_cells.length; ++i) {\n                    if (nbb_cells[i].input_prompt_number == nbb_cell_id) {\n                        if (nbb_cells[i].get_text() == nbb_unformatted_code) {\n                             nbb_cells[i].set_text(nbb_formatted_code);\n                        }\n                        break;\n                    }\n                }\n            }, 500);\n            ",
      "text/plain": [
       "<IPython.core.display.Javascript object>"
      ]
     },
     "metadata": {},
     "output_type": "display_data"
    }
   ],
   "source": [
    "from scipy.stats import entropy\n",
    "from collections import Counter\n",
    "\n",
    "\n",
    "def entropy_threshold(string, loc, tokens, base=22, threshold=0.8):\n",
    "    char_counts = Counter(tokens[0])\n",
    "    # length of hexnums (A-Fa-f0-9) is 22, length of hexnums lowercase (a-f0-9) is 17\n",
    "    char_entropy = entropy(list(char_counts.values()), base=base)\n",
    "    # print(char_entropy)\n",
    "    return char_entropy > threshold"
   ]
  },
  {
   "cell_type": "code",
   "execution_count": 22,
   "metadata": {
    "ExecuteTime": {
     "end_time": "2021-08-02T04:05:17.291358Z",
     "start_time": "2021-08-02T04:05:17.202933Z"
    }
   },
   "outputs": [
    {
     "data": {
      "application/javascript": "\n            setTimeout(function() {\n                var nbb_cell_id = 22;\n                var nbb_unformatted_code = \"# FileHash-SHA256\\n# length of hexnums lowercase (a-f0-9) is 17\\nsha256 = (\\n    Word(hexnums.lower(), exact=64)\\n    .addCondition(\\n        lambda string, loc, tokens: entropy_threshold(\\n            string, loc, tokens, base=17, threshold=0.9\\n        )\\n    )\\n    .setResultsName(\\\"FileHash-SHA256\\\")\\n)\";\n                var nbb_formatted_code = \"# FileHash-SHA256\\n# length of hexnums lowercase (a-f0-9) is 17\\nsha256 = (\\n    Word(hexnums.lower(), exact=64)\\n    .addCondition(\\n        lambda string, loc, tokens: entropy_threshold(\\n            string, loc, tokens, base=17, threshold=0.9\\n        )\\n    )\\n    .setResultsName(\\\"FileHash-SHA256\\\")\\n)\";\n                var nbb_cells = Jupyter.notebook.get_cells();\n                for (var i = 0; i < nbb_cells.length; ++i) {\n                    if (nbb_cells[i].input_prompt_number == nbb_cell_id) {\n                        if (nbb_cells[i].get_text() == nbb_unformatted_code) {\n                             nbb_cells[i].set_text(nbb_formatted_code);\n                        }\n                        break;\n                    }\n                }\n            }, 500);\n            ",
      "text/plain": [
       "<IPython.core.display.Javascript object>"
      ]
     },
     "metadata": {},
     "output_type": "display_data"
    }
   ],
   "source": [
    "# FileHash-SHA256\n",
    "# length of hexnums lowercase (a-f0-9) is 17\n",
    "sha256 = (\n",
    "    Word(hexnums.lower(), exact=64)\n",
    "    .addCondition(\n",
    "        lambda string, loc, tokens: entropy_threshold(\n",
    "            string, loc, tokens, base=17, threshold=0.9\n",
    "        )\n",
    "    )\n",
    "    .setResultsName(\"FileHash-SHA256\")\n",
    ")"
   ]
  },
  {
   "attachments": {},
   "cell_type": "markdown",
   "metadata": {},
   "source": [
    "---"
   ]
  },
  {
   "attachments": {},
   "cell_type": "markdown",
   "metadata": {},
   "source": [
    "### Length = 32"
   ]
  },
  {
   "cell_type": "code",
   "execution_count": 23,
   "metadata": {
    "ExecuteTime": {
     "end_time": "2021-08-02T04:05:17.371491Z",
     "start_time": "2021-08-02T04:05:17.315288Z"
    }
   },
   "outputs": [
    {
     "data": {
      "application/javascript": "\n            setTimeout(function() {\n                var nbb_cell_id = 23;\n                var nbb_unformatted_code = \"# FileHash-MD5\\n\\nmd5 = (\\n    Word(hexnums.lower(), exact=32)\\n    .addCondition(\\n        lambda string, loc, tokens: entropy_threshold(\\n            string, loc, tokens, base=17, threshold=0.8\\n        )\\n    )\\n    .setResultsName(\\\"FileHash-MD5\\\")\\n)\";\n                var nbb_formatted_code = \"# FileHash-MD5\\n\\nmd5 = (\\n    Word(hexnums.lower(), exact=32)\\n    .addCondition(\\n        lambda string, loc, tokens: entropy_threshold(\\n            string, loc, tokens, base=17, threshold=0.8\\n        )\\n    )\\n    .setResultsName(\\\"FileHash-MD5\\\")\\n)\";\n                var nbb_cells = Jupyter.notebook.get_cells();\n                for (var i = 0; i < nbb_cells.length; ++i) {\n                    if (nbb_cells[i].input_prompt_number == nbb_cell_id) {\n                        if (nbb_cells[i].get_text() == nbb_unformatted_code) {\n                             nbb_cells[i].set_text(nbb_formatted_code);\n                        }\n                        break;\n                    }\n                }\n            }, 500);\n            ",
      "text/plain": [
       "<IPython.core.display.Javascript object>"
      ]
     },
     "metadata": {},
     "output_type": "display_data"
    }
   ],
   "source": [
    "# FileHash-MD5\n",
    "\n",
    "md5 = (\n",
    "    Word(hexnums.lower(), exact=32)\n",
    "    .addCondition(\n",
    "        lambda string, loc, tokens: entropy_threshold(\n",
    "            string, loc, tokens, base=17, threshold=0.8\n",
    "        )\n",
    "    )\n",
    "    .setResultsName(\"FileHash-MD5\")\n",
    ")"
   ]
  },
  {
   "cell_type": "code",
   "execution_count": 24,
   "metadata": {
    "ExecuteTime": {
     "end_time": "2021-08-02T04:05:17.436419Z",
     "start_time": "2021-08-02T04:05:17.390115Z"
    }
   },
   "outputs": [
    {
     "data": {
      "application/javascript": "\n            setTimeout(function() {\n                var nbb_cell_id = 24;\n                var nbb_unformatted_code = \"# JA3\\n\\nja3 = (\\n    Word(hexnums.lower(), exact=32)\\n    .addCondition(\\n        lambda string, loc, tokens: entropy_threshold(\\n            string, loc, tokens, base=17, threshold=0.8\\n        )\\n    )\\n    .setResultsName(\\\"JA3\\\")\\n)\";\n                var nbb_formatted_code = \"# JA3\\n\\nja3 = (\\n    Word(hexnums.lower(), exact=32)\\n    .addCondition(\\n        lambda string, loc, tokens: entropy_threshold(\\n            string, loc, tokens, base=17, threshold=0.8\\n        )\\n    )\\n    .setResultsName(\\\"JA3\\\")\\n)\";\n                var nbb_cells = Jupyter.notebook.get_cells();\n                for (var i = 0; i < nbb_cells.length; ++i) {\n                    if (nbb_cells[i].input_prompt_number == nbb_cell_id) {\n                        if (nbb_cells[i].get_text() == nbb_unformatted_code) {\n                             nbb_cells[i].set_text(nbb_formatted_code);\n                        }\n                        break;\n                    }\n                }\n            }, 500);\n            ",
      "text/plain": [
       "<IPython.core.display.Javascript object>"
      ]
     },
     "metadata": {},
     "output_type": "display_data"
    }
   ],
   "source": [
    "# JA3\n",
    "\n",
    "ja3 = (\n",
    "    Word(hexnums.lower(), exact=32)\n",
    "    .addCondition(\n",
    "        lambda string, loc, tokens: entropy_threshold(\n",
    "            string, loc, tokens, base=17, threshold=0.8\n",
    "        )\n",
    "    )\n",
    "    .setResultsName(\"JA3\")\n",
    ")"
   ]
  },
  {
   "cell_type": "code",
   "execution_count": 25,
   "metadata": {
    "ExecuteTime": {
     "end_time": "2021-08-02T04:05:17.488206Z",
     "start_time": "2021-08-02T04:05:17.444336Z"
    }
   },
   "outputs": [
    {
     "data": {
      "application/javascript": "\n            setTimeout(function() {\n                var nbb_cell_id = 25;\n                var nbb_unformatted_code = \"# FileHash-IMPHASH\\n\\nimphash = (\\n    Word(hexnums.lower(), exact=32)\\n    .addCondition(\\n        lambda string, loc, tokens: entropy_threshold(\\n            string, loc, tokens, base=17, threshold=0.8\\n        )\\n    )\\n    .setResultsName(\\\"FileHash-IMPHASH\\\")\\n)\";\n                var nbb_formatted_code = \"# FileHash-IMPHASH\\n\\nimphash = (\\n    Word(hexnums.lower(), exact=32)\\n    .addCondition(\\n        lambda string, loc, tokens: entropy_threshold(\\n            string, loc, tokens, base=17, threshold=0.8\\n        )\\n    )\\n    .setResultsName(\\\"FileHash-IMPHASH\\\")\\n)\";\n                var nbb_cells = Jupyter.notebook.get_cells();\n                for (var i = 0; i < nbb_cells.length; ++i) {\n                    if (nbb_cells[i].input_prompt_number == nbb_cell_id) {\n                        if (nbb_cells[i].get_text() == nbb_unformatted_code) {\n                             nbb_cells[i].set_text(nbb_formatted_code);\n                        }\n                        break;\n                    }\n                }\n            }, 500);\n            ",
      "text/plain": [
       "<IPython.core.display.Javascript object>"
      ]
     },
     "metadata": {},
     "output_type": "display_data"
    }
   ],
   "source": [
    "# FileHash-IMPHASH\n",
    "\n",
    "imphash = (\n",
    "    Word(hexnums.lower(), exact=32)\n",
    "    .addCondition(\n",
    "        lambda string, loc, tokens: entropy_threshold(\n",
    "            string, loc, tokens, base=17, threshold=0.8\n",
    "        )\n",
    "    )\n",
    "    .setResultsName(\"FileHash-IMPHASH\")\n",
    ")"
   ]
  },
  {
   "attachments": {},
   "cell_type": "markdown",
   "metadata": {},
   "source": [
    "### Length = 40"
   ]
  },
  {
   "cell_type": "code",
   "execution_count": 26,
   "metadata": {
    "ExecuteTime": {
     "end_time": "2021-08-02T04:05:17.542598Z",
     "start_time": "2021-08-02T04:05:17.492925Z"
    }
   },
   "outputs": [
    {
     "data": {
      "application/javascript": "\n            setTimeout(function() {\n                var nbb_cell_id = 26;\n                var nbb_unformatted_code = \"# FileHash-SHA1\\n\\nsha1 = (\\n    Word(hexnums.lower(), exact=40)\\n    .addCondition(\\n        lambda string, loc, tokens: entropy_threshold(\\n            string, loc, tokens, base=17, threshold=0.8\\n        )\\n    )\\n    .setResultsName(\\\"FileHash-SHA1\\\")\\n)\";\n                var nbb_formatted_code = \"# FileHash-SHA1\\n\\nsha1 = (\\n    Word(hexnums.lower(), exact=40)\\n    .addCondition(\\n        lambda string, loc, tokens: entropy_threshold(\\n            string, loc, tokens, base=17, threshold=0.8\\n        )\\n    )\\n    .setResultsName(\\\"FileHash-SHA1\\\")\\n)\";\n                var nbb_cells = Jupyter.notebook.get_cells();\n                for (var i = 0; i < nbb_cells.length; ++i) {\n                    if (nbb_cells[i].input_prompt_number == nbb_cell_id) {\n                        if (nbb_cells[i].get_text() == nbb_unformatted_code) {\n                             nbb_cells[i].set_text(nbb_formatted_code);\n                        }\n                        break;\n                    }\n                }\n            }, 500);\n            ",
      "text/plain": [
       "<IPython.core.display.Javascript object>"
      ]
     },
     "metadata": {},
     "output_type": "display_data"
    }
   ],
   "source": [
    "# FileHash-SHA1\n",
    "\n",
    "sha1 = (\n",
    "    Word(hexnums.lower(), exact=40)\n",
    "    .addCondition(\n",
    "        lambda string, loc, tokens: entropy_threshold(\n",
    "            string, loc, tokens, base=17, threshold=0.8\n",
    "        )\n",
    "    )\n",
    "    .setResultsName(\"FileHash-SHA1\")\n",
    ")"
   ]
  },
  {
   "cell_type": "code",
   "execution_count": 27,
   "metadata": {
    "ExecuteTime": {
     "end_time": "2021-08-02T04:05:17.591266Z",
     "start_time": "2021-08-02T04:05:17.551280Z"
    }
   },
   "outputs": [
    {
     "data": {
      "application/javascript": "\n            setTimeout(function() {\n                var nbb_cell_id = 27;\n                var nbb_unformatted_code = \"# FileHash-PEHASH\\n\\npehash = (\\n    Word(hexnums.lower(), exact=40)\\n    .addCondition(\\n        lambda string, loc, tokens: entropy_threshold(\\n            string, loc, tokens, base=17, threshold=0.8\\n        )\\n    )\\n    .setResultsName(\\\"FileHash-PEHASH\\\")\\n)\";\n                var nbb_formatted_code = \"# FileHash-PEHASH\\n\\npehash = (\\n    Word(hexnums.lower(), exact=40)\\n    .addCondition(\\n        lambda string, loc, tokens: entropy_threshold(\\n            string, loc, tokens, base=17, threshold=0.8\\n        )\\n    )\\n    .setResultsName(\\\"FileHash-PEHASH\\\")\\n)\";\n                var nbb_cells = Jupyter.notebook.get_cells();\n                for (var i = 0; i < nbb_cells.length; ++i) {\n                    if (nbb_cells[i].input_prompt_number == nbb_cell_id) {\n                        if (nbb_cells[i].get_text() == nbb_unformatted_code) {\n                             nbb_cells[i].set_text(nbb_formatted_code);\n                        }\n                        break;\n                    }\n                }\n            }, 500);\n            ",
      "text/plain": [
       "<IPython.core.display.Javascript object>"
      ]
     },
     "metadata": {},
     "output_type": "display_data"
    }
   ],
   "source": [
    "# FileHash-PEHASH\n",
    "\n",
    "pehash = (\n",
    "    Word(hexnums.lower(), exact=40)\n",
    "    .addCondition(\n",
    "        lambda string, loc, tokens: entropy_threshold(\n",
    "            string, loc, tokens, base=17, threshold=0.8\n",
    "        )\n",
    "    )\n",
    "    .setResultsName(\"FileHash-PEHASH\")\n",
    ")"
   ]
  },
  {
   "attachments": {},
   "cell_type": "markdown",
   "metadata": {},
   "source": [
    "### Length = 34"
   ]
  },
  {
   "cell_type": "code",
   "execution_count": 28,
   "metadata": {
    "ExecuteTime": {
     "end_time": "2021-08-02T04:05:17.642743Z",
     "start_time": "2021-08-02T04:05:17.607213Z"
    }
   },
   "outputs": [
    {
     "data": {
      "application/javascript": "\n            setTimeout(function() {\n                var nbb_cell_id = 28;\n                var nbb_unformatted_code = \"# BitcoinAddress\\n\\nbitcoin_address = (\\n    Word(alphanums, exact=34)\\n    .addCondition(\\n        lambda string, loc, tokens: entropy_threshold(\\n            string, loc, tokens, base=62, threshold=0.7\\n        )\\n    )\\n    .setResultsName(\\\"BitcoinAddress\\\")\\n)\";\n                var nbb_formatted_code = \"# BitcoinAddress\\n\\nbitcoin_address = (\\n    Word(alphanums, exact=34)\\n    .addCondition(\\n        lambda string, loc, tokens: entropy_threshold(\\n            string, loc, tokens, base=62, threshold=0.7\\n        )\\n    )\\n    .setResultsName(\\\"BitcoinAddress\\\")\\n)\";\n                var nbb_cells = Jupyter.notebook.get_cells();\n                for (var i = 0; i < nbb_cells.length; ++i) {\n                    if (nbb_cells[i].input_prompt_number == nbb_cell_id) {\n                        if (nbb_cells[i].get_text() == nbb_unformatted_code) {\n                             nbb_cells[i].set_text(nbb_formatted_code);\n                        }\n                        break;\n                    }\n                }\n            }, 500);\n            ",
      "text/plain": [
       "<IPython.core.display.Javascript object>"
      ]
     },
     "metadata": {},
     "output_type": "display_data"
    }
   ],
   "source": [
    "# BitcoinAddress\n",
    "\n",
    "bitcoin_address = (\n",
    "    Word(alphanums, exact=34)\n",
    "    .addCondition(\n",
    "        lambda string, loc, tokens: entropy_threshold(\n",
    "            string, loc, tokens, base=62, threshold=0.7\n",
    "        )\n",
    "    )\n",
    "    .setResultsName(\"BitcoinAddress\")\n",
    ")"
   ]
  },
  {
   "attachments": {},
   "cell_type": "markdown",
   "metadata": {},
   "source": [
    "---"
   ]
  },
  {
   "attachments": {},
   "cell_type": "markdown",
   "metadata": {},
   "source": [
    "## Others"
   ]
  },
  {
   "cell_type": "code",
   "execution_count": 29,
   "metadata": {
    "ExecuteTime": {
     "end_time": "2021-08-02T04:05:17.698075Z",
     "start_time": "2021-08-02T04:05:17.660921Z"
    }
   },
   "outputs": [
    {
     "data": {
      "application/javascript": "\n            setTimeout(function() {\n                var nbb_cell_id = 29;\n                var nbb_unformatted_code = \"# CVE\\ncve = Combine(\\n    Keyword(\\\"CVE\\\") + \\\"-\\\" + Word(nums, exact=4) + \\\"-\\\" + Word(nums, min=4)\\n).setResultsName(\\\"CVE\\\")\";\n                var nbb_formatted_code = \"# CVE\\ncve = Combine(\\n    Keyword(\\\"CVE\\\") + \\\"-\\\" + Word(nums, exact=4) + \\\"-\\\" + Word(nums, min=4)\\n).setResultsName(\\\"CVE\\\")\";\n                var nbb_cells = Jupyter.notebook.get_cells();\n                for (var i = 0; i < nbb_cells.length; ++i) {\n                    if (nbb_cells[i].input_prompt_number == nbb_cell_id) {\n                        if (nbb_cells[i].get_text() == nbb_unformatted_code) {\n                             nbb_cells[i].set_text(nbb_formatted_code);\n                        }\n                        break;\n                    }\n                }\n            }, 500);\n            ",
      "text/plain": [
       "<IPython.core.display.Javascript object>"
      ]
     },
     "metadata": {},
     "output_type": "display_data"
    }
   ],
   "source": [
    "# CVE\n",
    "cve = Combine(\n",
    "    Keyword(\"CVE\") + \"-\" + Word(nums, exact=4) + \"-\" + Word(nums, min=4)\n",
    ").setResultsName(\"CVE\")"
   ]
  },
  {
   "cell_type": "code",
   "execution_count": 30,
   "metadata": {
    "ExecuteTime": {
     "end_time": "2021-08-02T04:05:17.740330Z",
     "start_time": "2021-08-02T04:05:17.707000Z"
    }
   },
   "outputs": [
    {
     "data": {
      "application/javascript": "\n            setTimeout(function() {\n                var nbb_cell_id = 30;\n                var nbb_unformatted_code = \"# SSLCertFingerprint\\nssl_cert_fingerprint = Combine(\\n    Word(hexnums.lower(), exact=2) + (\\\":\\\" + Word(hexnums.lower(), exact=2)) * 19\\n).setResultsName(\\\"SSLCertFingerprint\\\")\";\n                var nbb_formatted_code = \"# SSLCertFingerprint\\nssl_cert_fingerprint = Combine(\\n    Word(hexnums.lower(), exact=2) + (\\\":\\\" + Word(hexnums.lower(), exact=2)) * 19\\n).setResultsName(\\\"SSLCertFingerprint\\\")\";\n                var nbb_cells = Jupyter.notebook.get_cells();\n                for (var i = 0; i < nbb_cells.length; ++i) {\n                    if (nbb_cells[i].input_prompt_number == nbb_cell_id) {\n                        if (nbb_cells[i].get_text() == nbb_unformatted_code) {\n                             nbb_cells[i].set_text(nbb_formatted_code);\n                        }\n                        break;\n                    }\n                }\n            }, 500);\n            ",
      "text/plain": [
       "<IPython.core.display.Javascript object>"
      ]
     },
     "metadata": {},
     "output_type": "display_data"
    }
   ],
   "source": [
    "# SSLCertFingerprint\n",
    "ssl_cert_fingerprint = Combine(\n",
    "    Word(hexnums.lower(), exact=2) + (\":\" + Word(hexnums.lower(), exact=2)) * 19\n",
    ").setResultsName(\"SSLCertFingerprint\")"
   ]
  },
  {
   "cell_type": "code",
   "execution_count": 31,
   "metadata": {
    "ExecuteTime": {
     "end_time": "2021-08-02T04:05:17.804097Z",
     "start_time": "2021-08-02T04:05:17.752569Z"
    }
   },
   "outputs": [
    {
     "data": {
      "application/javascript": "\n            setTimeout(function() {\n                var nbb_cell_id = 31;\n                var nbb_unformatted_code = \"# ATT&CK Technique\\nmitre_attack_technique = Combine(\\n    Literal(\\\"T1\\\") + Word(nums, exact=3) + Optional(\\\".0\\\" + Word(nums, exact=2))\\n).setResultsName(\\\"MitreAttackTechnique\\\")\";\n                var nbb_formatted_code = \"# ATT&CK Technique\\nmitre_attack_technique = Combine(\\n    Literal(\\\"T1\\\") + Word(nums, exact=3) + Optional(\\\".0\\\" + Word(nums, exact=2))\\n).setResultsName(\\\"MitreAttackTechnique\\\")\";\n                var nbb_cells = Jupyter.notebook.get_cells();\n                for (var i = 0; i < nbb_cells.length; ++i) {\n                    if (nbb_cells[i].input_prompt_number == nbb_cell_id) {\n                        if (nbb_cells[i].get_text() == nbb_unformatted_code) {\n                             nbb_cells[i].set_text(nbb_formatted_code);\n                        }\n                        break;\n                    }\n                }\n            }, 500);\n            ",
      "text/plain": [
       "<IPython.core.display.Javascript object>"
      ]
     },
     "metadata": {},
     "output_type": "display_data"
    }
   ],
   "source": [
    "# ATT&CK Technique\n",
    "mitre_attack_technique = Combine(\n",
    "    Literal(\"T1\") + Word(nums, exact=3) + Optional(\".0\" + Word(nums, exact=2))\n",
    ").setResultsName(\"MitreAttackTechnique\")"
   ]
  },
  {
   "attachments": {},
   "cell_type": "markdown",
   "metadata": {},
   "source": [
    "---"
   ]
  },
  {
   "attachments": {},
   "cell_type": "markdown",
   "metadata": {
    "ExecuteTime": {
     "end_time": "2021-07-20T02:56:22.051773Z",
     "start_time": "2021-07-20T02:56:21.943677Z"
    }
   },
   "source": [
    "---"
   ]
  },
  {
   "attachments": {},
   "cell_type": "markdown",
   "metadata": {},
   "source": [
    "# Parser"
   ]
  },
  {
   "cell_type": "code",
   "execution_count": 32,
   "metadata": {
    "ExecuteTime": {
     "end_time": "2021-08-02T04:05:17.859004Z",
     "start_time": "2021-08-02T04:05:17.816514Z"
    }
   },
   "outputs": [
    {
     "data": {
      "application/javascript": "\n            setTimeout(function() {\n                var nbb_cell_id = 32;\n                var nbb_unformatted_code = \"parser = (\\n    uri\\n    | url\\n    | email\\n    | hostname\\n    | domain\\n    | ssl_cert_fingerprint\\n    | ipv6\\n    | ipv4\\n    | cve\\n    | mitre_attack_technique\\n    | filepath\\n    | sha256  # len = 64\\n    | sha1  # len = 40\\n    | pehash  # len = 40\\n    | bitcoin_address  # len = 34\\n    | md5  # len = 32\\n    | imphash  # len = 32\\n    | ja3  # len = 32\\n)\";\n                var nbb_formatted_code = \"parser = (\\n    uri\\n    | url\\n    | email\\n    | hostname\\n    | domain\\n    | ssl_cert_fingerprint\\n    | ipv6\\n    | ipv4\\n    | cve\\n    | mitre_attack_technique\\n    | filepath\\n    | sha256  # len = 64\\n    | sha1  # len = 40\\n    | pehash  # len = 40\\n    | bitcoin_address  # len = 34\\n    | md5  # len = 32\\n    | imphash  # len = 32\\n    | ja3  # len = 32\\n)\";\n                var nbb_cells = Jupyter.notebook.get_cells();\n                for (var i = 0; i < nbb_cells.length; ++i) {\n                    if (nbb_cells[i].input_prompt_number == nbb_cell_id) {\n                        if (nbb_cells[i].get_text() == nbb_unformatted_code) {\n                             nbb_cells[i].set_text(nbb_formatted_code);\n                        }\n                        break;\n                    }\n                }\n            }, 500);\n            ",
      "text/plain": [
       "<IPython.core.display.Javascript object>"
      ]
     },
     "metadata": {},
     "output_type": "display_data"
    }
   ],
   "source": [
    "parser = (\n",
    "    uri\n",
    "    | url\n",
    "    | email\n",
    "    | hostname\n",
    "    | domain\n",
    "    | ssl_cert_fingerprint\n",
    "    | ipv6\n",
    "    | ipv4\n",
    "    | cve\n",
    "    | mitre_attack_technique\n",
    "    | filepath\n",
    "    | sha256  # len = 64\n",
    "    | sha1  # len = 40\n",
    "    | pehash  # len = 40\n",
    "    | bitcoin_address  # len = 34\n",
    "    | md5  # len = 32\n",
    "    | imphash  # len = 32\n",
    "    | ja3  # len = 32\n",
    ")"
   ]
  },
  {
   "attachments": {},
   "cell_type": "markdown",
   "metadata": {},
   "source": [
    "---"
   ]
  },
  {
   "attachments": {},
   "cell_type": "markdown",
   "metadata": {
    "ExecuteTime": {
     "end_time": "2021-07-02T08:57:26.321153Z",
     "start_time": "2021-07-02T08:57:26.302997Z"
    }
   },
   "source": [
    "# Parsing Result"
   ]
  },
  {
   "cell_type": "code",
   "execution_count": 33,
   "metadata": {
    "ExecuteTime": {
     "end_time": "2021-08-02T04:05:17.917886Z",
     "start_time": "2021-08-02T04:05:17.883341Z"
    }
   },
   "outputs": [
    {
     "data": {
      "application/javascript": "\n            setTimeout(function() {\n                var nbb_cell_id = 33;\n                var nbb_unformatted_code = \"sample_text = (\\n    \\\"email, adonilifranky@gmail.com \\\"\\n    \\\"Once launched, HelloKitty will attempt to disable and terminate a number of processes and services so as to reduce interference with the encryption process. This includes processes and services associated with IIS, MSSQL, Quickbooks, Sharepoint, and more. These actions are carried out via taskkill.exe and net.exe.\\\"\\n    \\\"It is also important to note that as of this writing, the onion address associated with HelloKitty ransom notes is not active. 6x7dp6h3w6q3ugjv4yv5gycj3femb24kysgry5b44hhgfwc5ml5qrdad.onion Conclusion HelloKitty may be easier to spot than other modern ransomware families, but upon execution it is no less dangerous. There are currently no known \\u2018weaknesses\\u2019 in the encryption routines, and there are no thirdy-party decrypters available for the HelloKitty ransomware. Therefore, the only true defense is prevention. While this family does not appear to be actively leaking victim data at the moment, that could change at any point, in addition to them choosing to adopt some of the more recent extortion methods that go along with ransomware (DDoS). Actors behind the more recent campaign(s) are reportedly attempting to auction the CD Projekt data off in various \\u2018underground\\u2019 forums. At present this sale of this data does appear to be legitimate. Time will tell if additional victim data is dealt with in the same way. To protect yourself against HelloKitty, make sure you are armed with a modern Endpoint Security platform, which is configured correctly and up to date. The SentinelOne Singularity Platform is fully capable of preventing and detecting all malicious behaviors associated with the HelloKitty ransomware family. IOCs SHA1 fadd8d7c13a18c251ded1f645ffea18a37f1c2de SHA256 501487b025f25ddf1ca32deb57a2b4db43ccf6635c1edc74b9cff54ce0e5bcfe MITRE ATT&CK Data from Local System \\u2013 T1005 Modify Registry \\u2013 T1112 Query Registry \\u2013 T1012 System Information Discovery \\u2013 T1082 Data Encrypted for Impact \\u2013 T1486 File Deletion \\u2013 T1070.004 Command and Scripting Interpreter: Windows Command Shell \\u2013 T1059.003 Windows Management Instrumentation \\u2013 T1047\\\"\\n)\";\n                var nbb_formatted_code = \"sample_text = (\\n    \\\"email, adonilifranky@gmail.com \\\"\\n    \\\"Once launched, HelloKitty will attempt to disable and terminate a number of processes and services so as to reduce interference with the encryption process. This includes processes and services associated with IIS, MSSQL, Quickbooks, Sharepoint, and more. These actions are carried out via taskkill.exe and net.exe.\\\"\\n    \\\"It is also important to note that as of this writing, the onion address associated with HelloKitty ransom notes is not active. 6x7dp6h3w6q3ugjv4yv5gycj3femb24kysgry5b44hhgfwc5ml5qrdad.onion Conclusion HelloKitty may be easier to spot than other modern ransomware families, but upon execution it is no less dangerous. There are currently no known \\u2018weaknesses\\u2019 in the encryption routines, and there are no thirdy-party decrypters available for the HelloKitty ransomware. Therefore, the only true defense is prevention. While this family does not appear to be actively leaking victim data at the moment, that could change at any point, in addition to them choosing to adopt some of the more recent extortion methods that go along with ransomware (DDoS). Actors behind the more recent campaign(s) are reportedly attempting to auction the CD Projekt data off in various \\u2018underground\\u2019 forums. At present this sale of this data does appear to be legitimate. Time will tell if additional victim data is dealt with in the same way. To protect yourself against HelloKitty, make sure you are armed with a modern Endpoint Security platform, which is configured correctly and up to date. The SentinelOne Singularity Platform is fully capable of preventing and detecting all malicious behaviors associated with the HelloKitty ransomware family. IOCs SHA1 fadd8d7c13a18c251ded1f645ffea18a37f1c2de SHA256 501487b025f25ddf1ca32deb57a2b4db43ccf6635c1edc74b9cff54ce0e5bcfe MITRE ATT&CK Data from Local System \\u2013 T1005 Modify Registry \\u2013 T1112 Query Registry \\u2013 T1012 System Information Discovery \\u2013 T1082 Data Encrypted for Impact \\u2013 T1486 File Deletion \\u2013 T1070.004 Command and Scripting Interpreter: Windows Command Shell \\u2013 T1059.003 Windows Management Instrumentation \\u2013 T1047\\\"\\n)\";\n                var nbb_cells = Jupyter.notebook.get_cells();\n                for (var i = 0; i < nbb_cells.length; ++i) {\n                    if (nbb_cells[i].input_prompt_number == nbb_cell_id) {\n                        if (nbb_cells[i].get_text() == nbb_unformatted_code) {\n                             nbb_cells[i].set_text(nbb_formatted_code);\n                        }\n                        break;\n                    }\n                }\n            }, 500);\n            ",
      "text/plain": [
       "<IPython.core.display.Javascript object>"
      ]
     },
     "metadata": {},
     "output_type": "display_data"
    }
   ],
   "source": [
    "sample_text = (\n",
    "    \"email, adonilifranky@gmail.com \"\n",
    "    \"Once launched, HelloKitty will attempt to disable and terminate a number of processes and services so as to reduce interference with the encryption process. This includes processes and services associated with IIS, MSSQL, Quickbooks, Sharepoint, and more. These actions are carried out via taskkill.exe and net.exe.\"\n",
    "    \"It is also important to note that as of this writing, the onion address associated with HelloKitty ransom notes is not active. 6x7dp6h3w6q3ugjv4yv5gycj3femb24kysgry5b44hhgfwc5ml5qrdad.onion Conclusion HelloKitty may be easier to spot than other modern ransomware families, but upon execution it is no less dangerous. There are currently no known ‘weaknesses’ in the encryption routines, and there are no thirdy-party decrypters available for the HelloKitty ransomware. Therefore, the only true defense is prevention. While this family does not appear to be actively leaking victim data at the moment, that could change at any point, in addition to them choosing to adopt some of the more recent extortion methods that go along with ransomware (DDoS). Actors behind the more recent campaign(s) are reportedly attempting to auction the CD Projekt data off in various ‘underground’ forums. At present this sale of this data does appear to be legitimate. Time will tell if additional victim data is dealt with in the same way. To protect yourself against HelloKitty, make sure you are armed with a modern Endpoint Security platform, which is configured correctly and up to date. The SentinelOne Singularity Platform is fully capable of preventing and detecting all malicious behaviors associated with the HelloKitty ransomware family. IOCs SHA1 fadd8d7c13a18c251ded1f645ffea18a37f1c2de SHA256 501487b025f25ddf1ca32deb57a2b4db43ccf6635c1edc74b9cff54ce0e5bcfe MITRE ATT&CK Data from Local System – T1005 Modify Registry – T1112 Query Registry – T1012 System Information Discovery – T1082 Data Encrypted for Impact – T1486 File Deletion – T1070.004 Command and Scripting Interpreter: Windows Command Shell – T1059.003 Windows Management Instrumentation – T1047\"\n",
    ")"
   ]
  },
  {
   "cell_type": "code",
   "execution_count": 34,
   "metadata": {
    "ExecuteTime": {
     "end_time": "2021-08-02T04:05:20.156997Z",
     "start_time": "2021-08-02T04:05:17.945716Z"
    }
   },
   "outputs": [
    {
     "data": {
      "text/plain": [
       "([([(['adonilifranky@gmail.com'], {'domain': ['gmail.com']})], {'email': [(['adonilifranky@gmail.com'], {'domain': ['gmail.com']})]}), (['taskkill.exe'], {'FileName': ['taskkill.exe'], 'FilePath': ['taskkill.exe']}), (['net.exe.It'], {'FileName': ['net.exe.It'], 'FilePath': ['net.exe.It']}), (['6x7dp6h3w6q3ugjv4yv5gycj3femb24kysgry5b44hhgfwc5ml5qrdad.onion'], {'domain': ['6x7dp6h3w6q3ugjv4yv5gycj3femb24kysgry5b44hhgfwc5ml5qrdad.onion']}), (['fadd8d7c13a18c251ded1f645ffea18a37f1c2de'], {'FileHash-SHA1': ['fadd8d7c13a18c251ded1f645ffea18a37f1c2de']}), (['501487b025f25ddf1ca32deb57a2b4db43ccf6635c1edc74b9cff54ce0e5bcfe'], {'FileHash-SHA256': ['501487b025f25ddf1ca32deb57a2b4db43ccf6635c1edc74b9cff54ce0e5bcfe']}), (['T1005'], {'MitreAttackTechnique': ['T1005']}), (['T1112'], {'MitreAttackTechnique': ['T1112']}), (['T1012'], {'MitreAttackTechnique': ['T1012']}), (['T1082'], {'MitreAttackTechnique': ['T1082']}), (['T1486'], {'MitreAttackTechnique': ['T1486']}), (['T1070.004'], {'MitreAttackTechnique': ['T1070.004']}), (['T1059.003'], {'MitreAttackTechnique': ['T1059.003']}), (['T1047'], {'MitreAttackTechnique': ['T1047']})], {})"
      ]
     },
     "execution_count": 34,
     "metadata": {},
     "output_type": "execute_result"
    },
    {
     "data": {
      "application/javascript": "\n            setTimeout(function() {\n                var nbb_cell_id = 34;\n                var nbb_unformatted_code = \"parser.searchString(sample_text)\";\n                var nbb_formatted_code = \"parser.searchString(sample_text)\";\n                var nbb_cells = Jupyter.notebook.get_cells();\n                for (var i = 0; i < nbb_cells.length; ++i) {\n                    if (nbb_cells[i].input_prompt_number == nbb_cell_id) {\n                        if (nbb_cells[i].get_text() == nbb_unformatted_code) {\n                             nbb_cells[i].set_text(nbb_formatted_code);\n                        }\n                        break;\n                    }\n                }\n            }, 500);\n            ",
      "text/plain": [
       "<IPython.core.display.Javascript object>"
      ]
     },
     "metadata": {},
     "output_type": "display_data"
    }
   ],
   "source": [
    "parser.searchString(sample_text)"
   ]
  },
  {
   "cell_type": "code",
   "execution_count": 35,
   "metadata": {
    "ExecuteTime": {
     "end_time": "2021-08-02T04:05:22.047766Z",
     "start_time": "2021-08-02T04:05:20.173937Z"
    }
   },
   "outputs": [
    {
     "data": {
      "application/javascript": "\n            setTimeout(function() {\n                var nbb_cell_id = 35;\n                var nbb_unformatted_code = \"result, start, end = list(parser.scanString(sample_text))[0]\";\n                var nbb_formatted_code = \"result, start, end = list(parser.scanString(sample_text))[0]\";\n                var nbb_cells = Jupyter.notebook.get_cells();\n                for (var i = 0; i < nbb_cells.length; ++i) {\n                    if (nbb_cells[i].input_prompt_number == nbb_cell_id) {\n                        if (nbb_cells[i].get_text() == nbb_unformatted_code) {\n                             nbb_cells[i].set_text(nbb_formatted_code);\n                        }\n                        break;\n                    }\n                }\n            }, 500);\n            ",
      "text/plain": [
       "<IPython.core.display.Javascript object>"
      ]
     },
     "metadata": {},
     "output_type": "display_data"
    }
   ],
   "source": [
    "result, start, end = list(parser.scanString(sample_text))[0]"
   ]
  },
  {
   "cell_type": "code",
   "execution_count": 36,
   "metadata": {
    "ExecuteTime": {
     "end_time": "2021-08-02T04:05:22.091900Z",
     "start_time": "2021-08-02T04:05:22.061620Z"
    }
   },
   "outputs": [
    {
     "data": {
      "text/plain": [
       "{'email': {'domain': 'gmail.com'}}"
      ]
     },
     "execution_count": 36,
     "metadata": {},
     "output_type": "execute_result"
    },
    {
     "data": {
      "application/javascript": "\n            setTimeout(function() {\n                var nbb_cell_id = 36;\n                var nbb_unformatted_code = \"result.asDict()\";\n                var nbb_formatted_code = \"result.asDict()\";\n                var nbb_cells = Jupyter.notebook.get_cells();\n                for (var i = 0; i < nbb_cells.length; ++i) {\n                    if (nbb_cells[i].input_prompt_number == nbb_cell_id) {\n                        if (nbb_cells[i].get_text() == nbb_unformatted_code) {\n                             nbb_cells[i].set_text(nbb_formatted_code);\n                        }\n                        break;\n                    }\n                }\n            }, 500);\n            ",
      "text/plain": [
       "<IPython.core.display.Javascript object>"
      ]
     },
     "metadata": {},
     "output_type": "display_data"
    }
   ],
   "source": [
    "result.asDict()"
   ]
  },
  {
   "cell_type": "code",
   "execution_count": 37,
   "metadata": {
    "ExecuteTime": {
     "end_time": "2021-08-02T04:05:22.122753Z",
     "start_time": "2021-08-02T04:05:22.106259Z"
    }
   },
   "outputs": [
    {
     "data": {
      "application/javascript": "\n            setTimeout(function() {\n                var nbb_cell_id = 37;\n                var nbb_unformatted_code = \"parsing_results = parser.scanString(sample_text)\";\n                var nbb_formatted_code = \"parsing_results = parser.scanString(sample_text)\";\n                var nbb_cells = Jupyter.notebook.get_cells();\n                for (var i = 0; i < nbb_cells.length; ++i) {\n                    if (nbb_cells[i].input_prompt_number == nbb_cell_id) {\n                        if (nbb_cells[i].get_text() == nbb_unformatted_code) {\n                             nbb_cells[i].set_text(nbb_formatted_code);\n                        }\n                        break;\n                    }\n                }\n            }, 500);\n            ",
      "text/plain": [
       "<IPython.core.display.Javascript object>"
      ]
     },
     "metadata": {},
     "output_type": "display_data"
    }
   ],
   "source": [
    "parsing_results = parser.scanString(sample_text)"
   ]
  },
  {
   "cell_type": "code",
   "execution_count": 38,
   "metadata": {
    "ExecuteTime": {
     "end_time": "2021-08-02T04:05:25.290500Z",
     "start_time": "2021-08-02T04:05:22.133436Z"
    }
   },
   "outputs": [
    {
     "data": {
      "text/html": [
       "<table>\n",
       "<tbody>\n",
       "<tr><td>[[&#x27;adonilifranky@gmail.com&#x27;]]                                       </td><td>{&#x27;email&#x27;: {&#x27;domain&#x27;: &#x27;gmail.com&#x27;}}                                                     </td><td>email               </td><td>(7, 30)     </td></tr>\n",
       "<tr><td>[&#x27;taskkill.exe&#x27;]                                                    </td><td>{&#x27;FileName&#x27;: &#x27;taskkill.exe&#x27;, &#x27;FilePath&#x27;: &#x27;taskkill.exe&#x27;}                               </td><td>FilePath            </td><td>(321, 333)  </td></tr>\n",
       "<tr><td>[&#x27;net.exe.It&#x27;]                                                      </td><td>{&#x27;FileName&#x27;: &#x27;net.exe.It&#x27;, &#x27;FilePath&#x27;: &#x27;net.exe.It&#x27;}                                   </td><td>FilePath            </td><td>(338, 348)  </td></tr>\n",
       "<tr><td>[&#x27;6x7dp6h3w6q3ugjv4yv5gycj3femb24kysgry5b44hhgfwc5ml5qrdad.onion&#x27;]  </td><td>{&#x27;domain&#x27;: &#x27;6x7dp6h3w6q3ugjv4yv5gycj3femb24kysgry5b44hhgfwc5ml5qrdad.onion&#x27;}           </td><td>domain              </td><td>(473, 535)  </td></tr>\n",
       "<tr><td>[&#x27;fadd8d7c13a18c251ded1f645ffea18a37f1c2de&#x27;]                        </td><td>{&#x27;FileHash-SHA1&#x27;: &#x27;fadd8d7c13a18c251ded1f645ffea18a37f1c2de&#x27;}                          </td><td>FileHash-SHA1       </td><td>(1687, 1727)</td></tr>\n",
       "<tr><td>[&#x27;501487b025f25ddf1ca32deb57a2b4db43ccf6635c1edc74b9cff54ce0e5bcfe&#x27;]</td><td>{&#x27;FileHash-SHA256&#x27;: &#x27;501487b025f25ddf1ca32deb57a2b4db43ccf6635c1edc74b9cff54ce0e5bcfe&#x27;}</td><td>FileHash-SHA256     </td><td>(1735, 1799)</td></tr>\n",
       "<tr><td>[&#x27;T1005&#x27;]                                                           </td><td>{&#x27;MitreAttackTechnique&#x27;: &#x27;T1005&#x27;}                                                      </td><td>MitreAttackTechnique</td><td>(1838, 1843)</td></tr>\n",
       "<tr><td>[&#x27;T1112&#x27;]                                                           </td><td>{&#x27;MitreAttackTechnique&#x27;: &#x27;T1112&#x27;}                                                      </td><td>MitreAttackTechnique</td><td>(1862, 1867)</td></tr>\n",
       "<tr><td>[&#x27;T1012&#x27;]                                                           </td><td>{&#x27;MitreAttackTechnique&#x27;: &#x27;T1012&#x27;}                                                      </td><td>MitreAttackTechnique</td><td>(1885, 1890)</td></tr>\n",
       "<tr><td>[&#x27;T1082&#x27;]                                                           </td><td>{&#x27;MitreAttackTechnique&#x27;: &#x27;T1082&#x27;}                                                      </td><td>MitreAttackTechnique</td><td>(1922, 1927)</td></tr>\n",
       "</tbody>\n",
       "</table><p>Showing 10 of 14 rows"
      ],
      "text/plain": [
       "[(([(['adonilifranky@gmail.com'], {'domain': ['gmail.com']})], {'email': [(['adonilifranky@gmail.com'], {'domain': ['gmail.com']})]}), {'email': {'domain': 'gmail.com'}}, 'email', (7, 30)), ((['taskkill.exe'], {'FileName': ['taskkill.exe'], 'FilePath': ['taskkill.exe']}), {'FileName': 'taskkill.exe', 'FilePath': 'taskkill.exe'}, 'FilePath', (321, 333)), ((['net.exe.It'], {'FileName': ['net.exe.It'], 'FilePath': ['net.exe.It']}), {'FileName': 'net.exe.It', 'FilePath': 'net.exe.It'}, 'FilePath', (338, 348)), ((['6x7dp6h3w6q3ugjv4yv5gycj3femb24kysgry5b44hhgfwc5ml5qrdad.onion'], {'domain': ['6x7dp6h3w6q3ugjv4yv5gycj3femb24kysgry5b44hhgfwc5ml5qrdad.onion']}), {'domain': '6x7dp6h3w6q3ugjv4yv5gycj3femb24kysgry5b44hhgfwc5ml5qrdad.onion'}, 'domain', (473, 535)), ((['fadd8d7c13a18c251ded1f645ffea18a37f1c2de'], {'FileHash-SHA1': ['fadd8d7c13a18c251ded1f645ffea18a37f1c2de']}), {'FileHash-SHA1': 'fadd8d7c13a18c251ded1f645ffea18a37f1c2de'}, 'FileHash-SHA1', (1687, 1727)), ((['501487b025f25ddf1ca32deb57a2b4db43ccf6635c1edc74b9cff54ce0e5bcfe'], {'FileHash-SHA256': ['501487b025f25ddf1ca32deb57a2b4db43ccf6635c1edc74b9cff54ce0e5bcfe']}), {'FileHash-SHA256': '501487b025f25ddf1ca32deb57a2b4db43ccf6635c1edc74b9cff54ce0e5bcfe'}, 'FileHash-SHA256', (1735, 1799)), ((['T1005'], {'MitreAttackTechnique': ['T1005']}), {'MitreAttackTechnique': 'T1005'}, 'MitreAttackTechnique', (1838, 1843)), ((['T1112'], {'MitreAttackTechnique': ['T1112']}), {'MitreAttackTechnique': 'T1112'}, 'MitreAttackTechnique', (1862, 1867)), ((['T1012'], {'MitreAttackTechnique': ['T1012']}), {'MitreAttackTechnique': 'T1012'}, 'MitreAttackTechnique', (1885, 1890)), ((['T1082'], {'MitreAttackTechnique': ['T1082']}), {'MitreAttackTechnique': 'T1082'}, 'MitreAttackTechnique', (1922, 1927)), ((['T1486'], {'MitreAttackTechnique': ['T1486']}), {'MitreAttackTechnique': 'T1486'}, 'MitreAttackTechnique', (1956, 1961)), ((['T1070.004'], {'MitreAttackTechnique': ['T1070.004']}), {'MitreAttackTechnique': 'T1070.004'}, 'MitreAttackTechnique', (1978, 1987)), ((['T1059.003'], {'MitreAttackTechnique': ['T1059.003']}), {'MitreAttackTechnique': 'T1059.003'}, 'MitreAttackTechnique', (2047, 2056)), ((['T1047'], {'MitreAttackTechnique': ['T1047']}), {'MitreAttackTechnique': 'T1047'}, 'MitreAttackTechnique', (2094, 2099))]"
      ]
     },
     "execution_count": 38,
     "metadata": {},
     "output_type": "execute_result"
    },
    {
     "data": {
      "application/javascript": "\n            setTimeout(function() {\n                var nbb_cell_id = 38;\n                var nbb_unformatted_code = \"seq(parser.scanString(sample_text)).starmap(\\n    lambda result, start, end: (result, result.asDict(), result.getName(), (start, end))\\n)\";\n                var nbb_formatted_code = \"seq(parser.scanString(sample_text)).starmap(\\n    lambda result, start, end: (result, result.asDict(), result.getName(), (start, end))\\n)\";\n                var nbb_cells = Jupyter.notebook.get_cells();\n                for (var i = 0; i < nbb_cells.length; ++i) {\n                    if (nbb_cells[i].input_prompt_number == nbb_cell_id) {\n                        if (nbb_cells[i].get_text() == nbb_unformatted_code) {\n                             nbb_cells[i].set_text(nbb_formatted_code);\n                        }\n                        break;\n                    }\n                }\n            }, 500);\n            ",
      "text/plain": [
       "<IPython.core.display.Javascript object>"
      ]
     },
     "metadata": {},
     "output_type": "display_data"
    }
   ],
   "source": [
    "seq(parser.scanString(sample_text)).starmap(\n",
    "    lambda result, start, end: (result, result.asDict(), result.getName(), (start, end))\n",
    ")"
   ]
  },
  {
   "attachments": {},
   "cell_type": "markdown",
   "metadata": {},
   "source": [
    "---"
   ]
  },
  {
   "attachments": {},
   "cell_type": "markdown",
   "metadata": {},
   "source": [
    "---"
   ]
  },
  {
   "attachments": {},
   "cell_type": "markdown",
   "metadata": {},
   "source": [
    "# Testing"
   ]
  },
  {
   "attachments": {},
   "cell_type": "markdown",
   "metadata": {},
   "source": [
    "## Generate Indicator Testset for Regex\n",
    "\n",
    "```python\n",
    "import joblib\n",
    "\n",
    "feeds = joblib.load(\"../pulse_20210310.pkl\")\n",
    "\n",
    "# get test indicators for regex\n",
    "test_indicators = (\n",
    "    seq(feeds)\n",
    "    .map(lambda feed: feed.get(\"indicators\"))\n",
    "    .flatten()\n",
    "    .map(lambda indicator: (indicator.get(\"type\"), indicator.get(\"indicator\")))\n",
    "    .group_by_key()\n",
    "    .starmap(\n",
    "        lambda _type, _indicators: seq(_indicators)\n",
    "        .take(10)\n",
    "        .map(lambda _indicator: \"{}, {}\\n\".format(_type, _indicator))\n",
    "    )\n",
    "    .flatten()\n",
    "    .to_list()\n",
    ")\n",
    "```\n",
    "\n",
    "```python\n",
    "with open(\"../data/indicator_testset.csv\", \"w\") as f:\n",
    "    f.writelines(test_indicators)\n",
    "```"
   ]
  },
  {
   "cell_type": "code",
   "execution_count": 145,
   "metadata": {
    "ExecuteTime": {
     "end_time": "2021-07-05T10:35:46.296147Z",
     "start_time": "2021-07-05T10:35:46.263600Z"
    }
   },
   "outputs": [
    {
     "data": {
      "text/plain": [
       "['FileHash-SHA256, 097549cf7d0f76f0d99edf8b2d91c60977fd6a96e4b8c3c94b0b1733dc026d3e\\n',\n",
       " 'FileHash-SHA256, 1631a90eb5395c4e19c7dbcbf611bbe6444ff312eb7937e286e4637cb9e72944\\n',\n",
       " 'FileHash-SHA256, 2b6f1ebb2208e93ade4a6424555d6a8341fd6d9f60c25e44afe11008f5c1aad1\\n',\n",
       " 'FileHash-SHA256, 4edc7770464a14f54d17f36dc9d0fe854f68b346b27b35a6f5839adf1f13f8ea\\n',\n",
       " 'FileHash-SHA256, 511df0e2df9bfa5521b588cc4bb5f8c5a321801b803394ebc493db1ef3c78fa1\\n',\n",
       " 'FileHash-SHA256, 65149e036fff06026d80ac9ad4d156332822dc93142cf1a122b1841ec8de34b5\\n',\n",
       " 'FileHash-SHA256, 811157f9c7003ba8d17b45eb3cf09bef2cecd2701cedb675274949296a6a183d\\n',\n",
       " 'FileHash-SHA256, b75f163ca9b9240bf4b37ad92bc7556b40a17e27c2b8ed5c8991385fe07d17d0\\n',\n",
       " 'FileHash-SHA256, 893cd3583b49cb706b3e55ecb2ed0757b977a21f5c72e041392d1256f31166e2\\n',\n",
       " 'FileHash-SHA256, 2fa06333188795110bba14a482020699a96f76fb1ceb80cbfa2df9d3008b5b0a\\n',\n",
       " 'CVE, CVE-2021-26858\\n',\n",
       " 'CVE, CVE-2021-26855\\n',\n",
       " 'CVE, CVE-2021-27065\\n',\n",
       " 'CVE, CVE-2021-26857\\n',\n",
       " 'CVE, CVE-2019-5736\\n',\n",
       " 'CVE, CVE-2020-9020\\n',\n",
       " 'CVE, CVE-2020-0787\\n',\n",
       " 'CVE, CVE-2015-1427\\n',\n",
       " 'CVE, CVE-2019-9082\\n',\n",
       " 'CVE, CVE-2011-3402\\n',\n",
       " 'IPv4, 165.232.154.116\\n',\n",
       " 'IPv4, 182.18.152.105\\n',\n",
       " 'IPv4, 89.34.111.11\\n',\n",
       " 'IPv4, 132.248.38.158\\n',\n",
       " 'IPv4, 190.55.186.229\\n',\n",
       " 'IPv4, 157.245.145.87\\n',\n",
       " 'IPv4, 203.157.152.9\\n',\n",
       " 'IPv4, 110.172.180.180\\n',\n",
       " 'IPv4, 138.197.99.250\\n',\n",
       " 'IPv4, 152.170.79.100\\n',\n",
       " 'YARA, 028b507521a74862b27e0e0c7b4e672b3f8758a9\\n',\n",
       " 'YARA, 0f6e708599b716dd3b24fdf6c75837d49b61fdd1\\n',\n",
       " 'YARA, 8a7252d3fd1b2d8e2b39dc1cedbe1e9a42cc0e07\\n',\n",
       " 'YARA, 379f9d50e0c0fb8f5489a9d0954e88100397735b\\n',\n",
       " 'YARA, be4729822905d1cdc66122b3ae3084721ba49f1e\\n',\n",
       " 'YARA, 26cc3213d699f6baee818a9cd7c45214e14a931c\\n',\n",
       " 'YARA, a170155e35b7e4689c93325087fe4479c164604b\\n',\n",
       " 'YARA, fd72bba6dea94c4759731571b17ce20b7e135a8e\\n',\n",
       " 'YARA, b111d040d5d5cbf9e93f3443e4c7c06e38f5d878\\n',\n",
       " 'YARA, 48d0ae0530c7bd47ec22c6de669ad02aef44ad1d\\n',\n",
       " 'FileHash-MD5, 0fd9bffa49c76ee12e51e3b8ae0609ac\\n',\n",
       " 'FileHash-MD5, 4b3039cf227c611c45d2242d1228a121\\n',\n",
       " 'FileHash-MD5, 79eb217578bed4c250803bd573b10151\\n',\n",
       " 'FileHash-MD5, 56ceb6d0011d87b6e4d7023d7ef85676\\n',\n",
       " 'FileHash-MD5, 0c0954fec65d06ea36dc40d4ed89dbfa\\n',\n",
       " 'FileHash-MD5, d48faab5a94a06e39b79f2f61f64fb10\\n',\n",
       " 'FileHash-MD5, 4aaa2599e6477717c623d0a7b0ee4b50\\n',\n",
       " 'FileHash-MD5, aeca8ef0221c4ff52336feba6b1c4889\\n',\n",
       " 'FileHash-MD5, d99473e60ed4388e20044d1b746d8741\\n',\n",
       " 'FileHash-MD5, 11a7fd15e79f64ffd5d62f400e1a6e2e\\n',\n",
       " 'FileHash-SHA1, 0ba9a76f55aaa495670d74d21850d0155ff5d6a5\\n',\n",
       " 'FileHash-SHA1, 75af292f34789a1c782ea36c7127bf6106f595e8\\n',\n",
       " 'FileHash-SHA1, 7b82c3a3b9470304ff930b8964a2ae926478314e\\n',\n",
       " 'FileHash-SHA1, 13bde25f7b554d7dea7c1d15ce4973514e100536\\n',\n",
       " 'FileHash-SHA1, 62e96eaae9292b506e53d2f783d6e23df7cea441\\n',\n",
       " 'FileHash-SHA1, 5349e93b0558d4bd908a97c3b8bec003d3bdef97\\n',\n",
       " 'FileHash-SHA1, 201e3db7eaecd1566fc9f47ecd8f70cfdca74fe8\\n',\n",
       " 'FileHash-SHA1, 537998acea73178ef2ca155b5ea36a6bebf3076f\\n',\n",
       " 'FileHash-SHA1, 58367e0d1dd329b18b488e955ad7969eba6cc991\\n',\n",
       " 'FileHash-SHA1, 65afdd21d94885d8ff828e824055119f8fb5389c\\n',\n",
       " 'URL, http://ienglishabc.com/cow/JH/\\n',\n",
       " 'URL, https://vstsample.com/wp-includes/7eXeI/\\n',\n",
       " 'URL, https://etkindedektiflik.com/pcie-speed/U/\\n',\n",
       " 'URL, http://allcannabismeds.com/unraid-map/ZZm6/\\n',\n",
       " 'URL, http://giannaspsychicstudio.com/cgi-bin/PP/\\n',\n",
       " 'URL, http://abrillofurniture.com/bph-nclex-wygq4/a7nBfhs/\\n',\n",
       " 'URL, http://ezi-pos.com/categoryl/x/\\n',\n",
       " 'URL, https://morrislibraryconsulting.com/favicam/gertnm.php\\n',\n",
       " 'URL, http://45.145.185.83/S1eJ3/IObeENwjarm\\n',\n",
       " 'URL, http://45.145.185.83/S1eJ3/IObeENwjarm4\\n',\n",
       " 'domain, 6x7dp6h3w6q3ugjv4yv5gycj3femb24kysgry5b44hhgfwc5ml5qrdad.onion\\n',\n",
       " 'domain, morrislibraryconsulting.com\\n',\n",
       " 'domain, gloomix.com\\n',\n",
       " 'domain, sluaknhbsoe.com\\n',\n",
       " 'domain, xyskencevli.com\\n',\n",
       " 'domain, wvp3te7pkfczmnnl.onion\\n',\n",
       " 'domain, teamtnt.red\\n',\n",
       " 'domain, borg.wtf\\n',\n",
       " 'domain, reyweb.com\\n',\n",
       " 'domain, onetechcompany.com\\n',\n",
       " 'hostname, sampwn.anondns.net\\n',\n",
       " 'hostname, logon.securewindows.xyz\\n',\n",
       " 'hostname, s3.hiahornber.com\\n',\n",
       " 'hostname, ssl.arkouthrie.com\\n',\n",
       " 'hostname, widget.shoreoa.com\\n',\n",
       " 'hostname, api.ciscofreak.com\\n',\n",
       " 'hostname, node.podzone.org\\n',\n",
       " 'hostname, coco.cechire.com\\n',\n",
       " 'hostname, delicalo.dnsalias.net\\n',\n",
       " 'hostname, art.guillermoespana.com\\n',\n",
       " 'JA3, 72a589da586844d7f0818ce684948eea\\n',\n",
       " 'JA3, 4192c0a946c5bd9b544b4656d9f624a4\\n',\n",
       " 'JA3, 6312930a139fa3ed22b87abb75c16afa\\n',\n",
       " 'BitcoinAddress, 1Hf2CKoVDyPj7dNn3vgTeFMgDqVvbVNZQq\\n',\n",
       " 'BitcoinAddress, 13ELQVGgkM79nW34ncBe7Jz7xhXsXmRruM\\n',\n",
       " 'BitcoinAddress, 1Mk96FcixjayGZgdPgo4GrnPPSn7rL1jpE\\n',\n",
       " 'BitcoinAddress, 1LdrbQEAersWLi6A83JrCzERyXEZWD4hBP\\n',\n",
       " 'BitcoinAddress, 1GJ4dp5vwK2E9PZ4eF7FVujJiTHERDTFJX\\n',\n",
       " 'BitcoinAddress, 1D2ZiHwE4pQb8X6NNcXdfHwncHa3yrDdYr\\n',\n",
       " 'BitcoinAddress, 1MPdDiRhWFawgN2GVi1Jamm8DdC4qypoGL\\n',\n",
       " 'BitcoinAddress, 1PDSGRqkBF7yEJhTNDaxNm6UQT63rrzTGk\\n',\n",
       " 'BitcoinAddress, 1GZV41rSAHAj63pNjLCBwo7rfioxU8JPE9\\n',\n",
       " 'BitcoinAddress, 112yZpAs3Va6az6JTKZ7iQZEAWdvD5DYoj\\n',\n",
       " 'email, williamslucy570@gmail.com\\n',\n",
       " 'email, rakplant@emirates.net.ae\\n',\n",
       " 'email, henryresult@yandex.com\\n',\n",
       " 'email, adonilifranky@gmail.com\\n',\n",
       " 'email, info@beljemi.com\\n',\n",
       " 'email, jaleel.rehman@osaimiengineering.com.sa\\n',\n",
       " 'email, nwama@hisensetech.ml\\n',\n",
       " 'email, nwamalog@hisensetech.ml\\n',\n",
       " 'email, pop@bals.gq\\n',\n",
       " 'email, rakplant@eim.ae\\n',\n",
       " 'SSLCertFingerprint, b8:20:c2:db:b6:b8:f4:0f:61:a5:c0:27:40:89:e6:30:cd:db:05:5e\\n',\n",
       " 'SSLCertFingerprint, ec:4c:07:b8:3b:6a:a0:bf:60:36:b7:f4:92:9e:83:81:0f:96:46:b0\\n',\n",
       " 'SSLCertFingerprint, e2:13:2c:a4:29:ae:f3:fa:35:1f:e1:5b:2c:25:76:57:37:5b:dc:35\\n',\n",
       " 'SSLCertFingerprint, ee:92:91:6b:7e:31:85:22:65:eb:16:11:c4:8f:0a:75:c9:05:1d:4b\\n',\n",
       " 'Mutex, _mhello_krcream\\n',\n",
       " 'Mutex, _mhello_xhdream\\n',\n",
       " 'Mutex, _mhello_hidream\\n',\n",
       " 'Mutex, _mhello_scrream\\n',\n",
       " 'Mutex, _CONTI_\\n',\n",
       " 'Mutex, mn_185445\\n',\n",
       " 'Mutex, ld_201127\\n',\n",
       " 'Mutex, @SISqnq\\n',\n",
       " 'Mutex, @ANIqnNScCaIQ\\n',\n",
       " 'Mutex, //dfc01ell6zsq3-ufhhf\\n',\n",
       " 'FileHash-IMPHASH, 20acdf581665d0a5acf497c2fe5e0662\\n',\n",
       " 'FileHash-IMPHASH, e160ef8e55bb9d162da4e266afd9eef3\\n',\n",
       " 'IPv6, 2a00:f940:4::10\\n',\n",
       " 'FilePath, /tmp/updateserver\\n',\n",
       " 'FilePath, C:\\\\WINDOWS\\\\tasksche.exe\\n',\n",
       " 'FilePath, C:\\\\Windows\\\\mssecsvc.exe\\n',\n",
       " 'FilePath, %AppData%\\\\Local\\\\Temp\\\\bootloader.dec\\n',\n",
       " 'FilePath, %AppData%\\\\Roaming\\\\warriors.dat\\n',\n",
       " 'FilePath, dllhost.dat\\n',\n",
       " 'FilePath, _DECRYPT_FILE.html\\n',\n",
       " 'FilePath, _DECRYPT_FILE.txt\\n',\n",
       " 'FilePath, /Users/_%User%_/Library/LaunchAgents/com.apple.Safari.pac.plist\\n',\n",
       " 'FilePath, /Users/_%User%_/Library/LaunchAgents/com.apple.Safari.proxy.plist\\n',\n",
       " 'FileHash-PEHASH, 96fa148614c5d8ec7e2508b61c964f1c8a99c456\\n',\n",
       " 'URI, http://adminpanel.000a.biz/rec.php\\n',\n",
       " 'URI, http://webmail.ecra/ews/exchange/exchange.asmx\\n']"
      ]
     },
     "execution_count": 145,
     "metadata": {},
     "output_type": "execute_result"
    },
    {
     "data": {
      "application/javascript": "\n            setTimeout(function() {\n                var nbb_cell_id = 145;\n                var nbb_unformatted_code = \"indicator_testset = seq.open(\\\"../data/indicator_testset.csv\\\").to_list()\\nindicator_testset\";\n                var nbb_formatted_code = \"indicator_testset = seq.open(\\\"../data/indicator_testset.csv\\\").to_list()\\nindicator_testset\";\n                var nbb_cells = Jupyter.notebook.get_cells();\n                for (var i = 0; i < nbb_cells.length; ++i) {\n                    if (nbb_cells[i].input_prompt_number == nbb_cell_id) {\n                        if (nbb_cells[i].get_text() == nbb_unformatted_code) {\n                             nbb_cells[i].set_text(nbb_formatted_code);\n                        }\n                        break;\n                    }\n                }\n            }, 500);\n            ",
      "text/plain": [
       "<IPython.core.display.Javascript object>"
      ]
     },
     "metadata": {},
     "output_type": "display_data"
    }
   ],
   "source": [
    "indicator_testset = seq.open(\"../data/indicator_testset.csv\").to_list()\n",
    "indicator_testset"
   ]
  },
  {
   "cell_type": "code",
   "execution_count": 38,
   "metadata": {
    "ExecuteTime": {
     "end_time": "2021-07-02T09:21:58.133124Z",
     "start_time": "2021-07-02T09:21:57.912823Z"
    }
   },
   "outputs": [
    {
     "name": "stdout",
     "output_type": "stream",
     "text": [
      "-----------------------------------------------------------  --------------------------------------------------------------\n",
      "URL, https://morrislibraryconsulting.com/favicam/gertnm.php  [[['https://morrislibraryconsulting.com/favicam/gertnm.php']]]\n",
      "URL, http://45.145.185.83/S1eJ3/IObeENwjarm                  [[['http://45.145.185.83/S1eJ3/IObeENwjarm']]]\n",
      "URL, http://45.145.185.83/S1eJ3/IObeENwjarm4                 [[['http://45.145.185.83/S1eJ3/IObeENwjarm4']]]\n",
      "URI, http://adminpanel.000a.biz/rec.php                      [[['http://adminpanel.000a.biz/rec.php']]]\n",
      "-----------------------------------------------------------  --------------------------------------------------------------\n"
     ]
    },
    {
     "data": {
      "application/javascript": "\n            setTimeout(function() {\n                var nbb_cell_id = 38;\n                var nbb_unformatted_code = \"seq(indicator_testset).map(lambda i: (i, uri.searchString(i))).filter(\\n    lambda x: len(x[1]) > 0\\n).show(40)\";\n                var nbb_formatted_code = \"seq(indicator_testset).map(lambda i: (i, uri.searchString(i))).filter(\\n    lambda x: len(x[1]) > 0\\n).show(40)\";\n                var nbb_cells = Jupyter.notebook.get_cells();\n                for (var i = 0; i < nbb_cells.length; ++i) {\n                    if (nbb_cells[i].input_prompt_number == nbb_cell_id) {\n                        if (nbb_cells[i].get_text() == nbb_unformatted_code) {\n                             nbb_cells[i].set_text(nbb_formatted_code);\n                        }\n                        break;\n                    }\n                }\n            }, 500);\n            ",
      "text/plain": [
       "<IPython.core.display.Javascript object>"
      ]
     },
     "metadata": {},
     "output_type": "display_data"
    }
   ],
   "source": [
    "seq(indicator_testset).map(lambda i: (i, uri.searchString(i))).filter(\n",
    "    lambda x: len(x[1]) > 0\n",
    ").show(40)"
   ]
  },
  {
   "attachments": {},
   "cell_type": "markdown",
   "metadata": {},
   "source": [
    "---"
   ]
  },
  {
   "attachments": {},
   "cell_type": "markdown",
   "metadata": {},
   "source": [
    "---"
   ]
  },
  {
   "attachments": {},
   "cell_type": "markdown",
   "metadata": {},
   "source": [
    "# DNS"
   ]
  },
  {
   "cell_type": "code",
   "execution_count": 39,
   "metadata": {
    "ExecuteTime": {
     "end_time": "2021-07-02T09:21:58.522575Z",
     "start_time": "2021-07-02T09:21:58.144897Z"
    }
   },
   "outputs": [
    {
     "ename": "AttributeError",
     "evalue": "module 'dns' has no attribute 'name'",
     "output_type": "error",
     "traceback": [
      "\u001b[0;31m---------------------------------------------------------------------------\u001b[0m",
      "\u001b[0;31mAttributeError\u001b[0m                            Traceback (most recent call last)",
      "\u001b[0;32m<ipython-input-39-e275049bc97d>\u001b[0m in \u001b[0;36m<module>\u001b[0;34m\u001b[0m\n\u001b[1;32m      1\u001b[0m \u001b[0;32mimport\u001b[0m \u001b[0mdns\u001b[0m\u001b[0;34m\u001b[0m\u001b[0;34m\u001b[0m\u001b[0m\n\u001b[1;32m      2\u001b[0m \u001b[0;34m\u001b[0m\u001b[0m\n\u001b[0;32m----> 3\u001b[0;31m \u001b[0mn\u001b[0m \u001b[0;34m=\u001b[0m \u001b[0mdns\u001b[0m\u001b[0;34m.\u001b[0m\u001b[0mname\u001b[0m\u001b[0;34m.\u001b[0m\u001b[0mfrom_text\u001b[0m\u001b[0;34m(\u001b[0m\u001b[0;34m\"yahoo.co.jp\"\u001b[0m\u001b[0;34m)\u001b[0m\u001b[0;34m\u001b[0m\u001b[0;34m\u001b[0m\u001b[0m\n\u001b[0m\u001b[1;32m      4\u001b[0m \u001b[0;34m\u001b[0m\u001b[0m\n\u001b[1;32m      5\u001b[0m \u001b[0mn\u001b[0m\u001b[0;34m.\u001b[0m\u001b[0mis_absolute\u001b[0m\u001b[0;34m(\u001b[0m\u001b[0;34m)\u001b[0m\u001b[0;34m\u001b[0m\u001b[0;34m\u001b[0m\u001b[0m\n",
      "\u001b[0;31mAttributeError\u001b[0m: module 'dns' has no attribute 'name'"
     ]
    },
    {
     "data": {
      "application/javascript": "\n            setTimeout(function() {\n                var nbb_cell_id = 39;\n                var nbb_unformatted_code = \"import dns\\n\\nn = dns.name.from_text(\\\"yahoo.co.jp\\\")\\n\\nn.is_absolute()\\nn.is_wild()\\nn.labels\\nn.parent()\";\n                var nbb_formatted_code = \"import dns\\n\\nn = dns.name.from_text(\\\"yahoo.co.jp\\\")\\n\\nn.is_absolute()\\nn.is_wild()\\nn.labels\\nn.parent()\";\n                var nbb_cells = Jupyter.notebook.get_cells();\n                for (var i = 0; i < nbb_cells.length; ++i) {\n                    if (nbb_cells[i].input_prompt_number == nbb_cell_id) {\n                        if (nbb_cells[i].get_text() == nbb_unformatted_code) {\n                             nbb_cells[i].set_text(nbb_formatted_code);\n                        }\n                        break;\n                    }\n                }\n            }, 500);\n            ",
      "text/plain": [
       "<IPython.core.display.Javascript object>"
      ]
     },
     "metadata": {},
     "output_type": "display_data"
    }
   ],
   "source": [
    "import dns\n",
    "\n",
    "n = dns.name.from_text(\"yahoo.co.jp\")\n",
    "\n",
    "n.is_absolute()\n",
    "n.is_wild()\n",
    "n.labels\n",
    "n.parent()"
   ]
  },
  {
   "attachments": {},
   "cell_type": "markdown",
   "metadata": {
    "ExecuteTime": {
     "end_time": "2021-06-30T20:34:05.464766Z",
     "start_time": "2021-06-30T20:34:05.418410Z"
    }
   },
   "source": [
    "## https://lookup.icann.org/"
   ]
  },
  {
   "cell_type": "code",
   "execution_count": null,
   "metadata": {
    "ExecuteTime": {
     "end_time": "2021-07-02T09:21:58.608484Z",
     "start_time": "2021-07-02T09:21:54.372Z"
    }
   },
   "outputs": [],
   "source": [
    "import dns.resolver"
   ]
  },
  {
   "cell_type": "code",
   "execution_count": null,
   "metadata": {
    "ExecuteTime": {
     "end_time": "2021-07-02T09:21:58.627775Z",
     "start_time": "2021-07-02T09:21:54.375Z"
    }
   },
   "outputs": [],
   "source": [
    "for rdata in dns.resolver.resolve(\"www.yahoo.com\", \"CNAME\"):\n",
    "    print(rdata.target)"
   ]
  },
  {
   "cell_type": "code",
   "execution_count": null,
   "metadata": {
    "ExecuteTime": {
     "end_time": "2021-07-02T09:21:58.635173Z",
     "start_time": "2021-07-02T09:21:54.378Z"
    }
   },
   "outputs": [],
   "source": [
    "!dig www.pythondns.org\n",
    "\n",
    "# answers = dns.resolver.resolve(\"yahoo.com.tw\", \"A\")\n",
    "answers = dns.resolver.resolve(\"www.dnspython.org\", \"A\")\n",
    "\n",
    "for rdata in answers:\n",
    "    print(rdata)\n",
    "    # print(rdata.address)\n",
    "    # print(rdata.covers())\n",
    "\n",
    "# answers = dns.resolver.resolve(\"yahoo.com.tw\", \"A\")\n",
    "answers = dns.resolver.resolve(\"dnspython.org\", \"A\")\n",
    "\n",
    "for rdata in answers:\n",
    "    print(rdata)\n",
    "    # print(rdata.address)\n",
    "    # print(rdata.covers())\n",
    "\n",
    "answers = dns.resolver.resolve(\"dnspython.org\", \"MX\")\n",
    "\n",
    "for rdata in answers:\n",
    "    print(rdata)\n",
    "    print(rdata.exchange)\n",
    "    print(rdata.preference)\n",
    "    # print(rdata.address)\n",
    "    # print(rdata.covers())\n",
    "\n",
    "answers = dns.resolver.resolve(\"www.dnspython.org\", \"CNAME\")\n",
    "\n",
    "for rdata in answers:\n",
    "    # print(dir(rdata))\n",
    "    print(rdata.rdclass)\n",
    "    print(rdata.covers())\n",
    "    print(rdata.target)"
   ]
  },
  {
   "cell_type": "code",
   "execution_count": null,
   "metadata": {},
   "outputs": [],
   "source": []
  }
 ],
 "metadata": {
  "kernelspec": {
   "display_name": "magpie",
   "language": "python",
   "name": "python3"
  },
  "language_info": {
   "codemirror_mode": {
    "name": "ipython",
    "version": 3
   },
   "file_extension": ".py",
   "mimetype": "text/x-python",
   "name": "python",
   "nbconvert_exporter": "python",
   "pygments_lexer": "ipython3",
   "version": "3.11.2"
  },
  "varInspector": {
   "cols": {
    "lenName": 16,
    "lenType": 16,
    "lenVar": 40
   },
   "kernels_config": {
    "python": {
     "delete_cmd_postfix": "",
     "delete_cmd_prefix": "del ",
     "library": "var_list.py",
     "varRefreshCmd": "print(var_dic_list())"
    },
    "r": {
     "delete_cmd_postfix": ") ",
     "delete_cmd_prefix": "rm(",
     "library": "var_list.r",
     "varRefreshCmd": "cat(var_dic_list()) "
    }
   },
   "types_to_exclude": [
    "module",
    "function",
    "builtin_function_or_method",
    "instance",
    "_Feature"
   ],
   "window_display": false
  }
 },
 "nbformat": 4,
 "nbformat_minor": 4
}
