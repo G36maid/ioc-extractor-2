{
 "cells": [
  {
   "cell_type": "code",
   "execution_count": 1,
   "id": "5a131ceb-5f9b-4fde-a756-e7f2d8fa655b",
   "metadata": {},
   "outputs": [],
   "source": [
    "%load_ext lab_black"
   ]
  },
  {
   "cell_type": "code",
   "execution_count": 2,
   "id": "3c3f191d-6be6-4f90-9a38-de6fb904ae42",
   "metadata": {},
   "outputs": [],
   "source": [
    "# !jupyter nbextension enable --py widgetsnbextension"
   ]
  },
  {
   "cell_type": "code",
   "execution_count": 3,
   "id": "42c0e1c0-1e19-4651-9261-7b1f2ba91076",
   "metadata": {},
   "outputs": [
    {
     "name": "stderr",
     "output_type": "stream",
     "text": [
      "None of PyTorch, TensorFlow >= 2.0, or Flax have been found. Models won't be available and only tokenizers, configuration and file/data utilities can be used.\n"
     ]
    }
   ],
   "source": [
    "from transformers import AutoTokenizer"
   ]
  },
  {
   "cell_type": "code",
   "execution_count": 4,
   "id": "8ea21817-0594-4766-bbea-a94993be881b",
   "metadata": {},
   "outputs": [],
   "source": [
    "model_checkpoint = \"distilbert-base-uncased\""
   ]
  },
  {
   "cell_type": "code",
   "execution_count": 5,
   "id": "cfad047a-e6f6-4474-961c-fa53f0fe8bf9",
   "metadata": {},
   "outputs": [],
   "source": [
    "tokenizer = AutoTokenizer.from_pretrained(model_checkpoint)"
   ]
  },
  {
   "cell_type": "code",
   "execution_count": 6,
   "id": "8b31a91e-c865-4009-88b0-7bfe37ed3bdf",
   "metadata": {},
   "outputs": [
    {
     "data": {
      "text/plain": [
       "'knight'"
      ]
     },
     "execution_count": 6,
     "metadata": {},
     "output_type": "execute_result"
    }
   ],
   "source": [
    "tokenizer._tokenizer.id_to_token(5000)"
   ]
  },
  {
   "cell_type": "markdown",
   "id": "42f1cccb-38f7-4064-9150-d25e2b6f6dbd",
   "metadata": {},
   "source": [
    "---"
   ]
  },
  {
   "cell_type": "code",
   "execution_count": 7,
   "id": "c03b9eef-af71-4e58-9db8-477bd7cc8168",
   "metadata": {},
   "outputs": [],
   "source": [
    "import json\n",
    "from functional import seq"
   ]
  },
  {
   "cell_type": "code",
   "execution_count": 8,
   "id": "4e84256d-921a-4e30-8bc0-143aa2c9351a",
   "metadata": {},
   "outputs": [],
   "source": [
    "feeds = seq.open(\"../pulse_20210310.json.gz\").map(lambda feed: json.loads(feed)).cache()"
   ]
  },
  {
   "cell_type": "markdown",
   "id": "83b599b3-135c-404d-a4b6-f2101e864ca7",
   "metadata": {},
   "source": [
    "==> Installing minio from minio/stable\n",
    "Warning: A newer Command Line Tools release is available.\n",
    "Update them from Software Update in System Preferences or run:\n",
    "  softwareupdate --all --install --force\n",
    "\n",
    "If that doesn't show you any updates, run:\n",
    "  sudo rm -rf /Library/Developer/CommandLineTools\n",
    "  sudo xcode-select --install\n",
    "\n",
    "Alternatively, manually download them from:\n",
    "  https://developer.apple.com/download/all/.\n",
    "You should download the Command Line Tools for Xcode 13.0.\n",
    "\n",
    "==> Download complete!\n",
    "==> Useful links:\n",
    "Command-line Access: https://docs.min.io/docs/minio-client-quickstart-guide\n",
    "\n",
    "Object API (Amazon S3 compatible):\n",
    "   Go:         https://docs.min.io/docs/golang-client-quickstart-guide\n",
    "   Java:       https://docs.min.io/docs/java-client-quickstart-guide\n",
    "   Python:     https://docs.min.io/docs/python-client-quickstart-guide\n",
    "   JavaScript: https://docs.min.io/docs/javascript-client-quickstart-guide\n",
    "   .NET:       https://docs.min.io/docs/dotnet-client-quickstart-guide\n",
    "\n",
    "Talk to the community: https://slack.min.io\n",
    "==> Get started:\n",
    "NAME:\n",
    "  minio server - start object storage server\n",
    "\n",
    "USAGE:\n",
    "  minio server [FLAGS] DIR1 [DIR2..]\n",
    "  minio server [FLAGS] DIR{1...64}\n",
    "  minio server [FLAGS] DIR{1...64} DIR{65...128}\n",
    "\n",
    "DIR:\n",
    "  DIR points to a directory on a filesystem. When you want to combine\n",
    "  multiple drives into a single large system, pass one directory per\n",
    "  filesystem separated by space. You may also use a '...' convention\n",
    "  to abbreviate the directory arguments. Remote directories in a\n",
    "  distributed setup are encoded as HTTP(s) URIs.\n",
    "\n",
    "FLAGS:\n",
    "  --address value              bind to a specific ADDRESS:PORT, ADDRESS can be an IP or hostname (default: \":9000\")\n",
    "  --listeners value            bind N number of listeners per ADDRESS:PORT (default: 1)\n",
    "  --console-address value      bind to a specific ADDRESS:PORT for embedded Console UI, ADDRESS can be an IP or hostname\n",
    "  --certs-dir value, -S value  path to certs directory (default: \"/Users/200722-csti-mac/.minio/certs\")\n",
    "  --quiet                      disable startup information\n",
    "  --anonymous                  hide sensitive information from logging\n",
    "  --json                       output server logs and startup information in json format\n",
    "  --help, -h                   show help\n",
    "  \n",
    "EXAMPLES:\n",
    "  1. Start minio server on \"/home/shared\" directory.\n",
    "     $ minio server /home/shared\n",
    "\n",
    "  2. Start single node server with 64 local drives \"/mnt/data1\" to \"/mnt/data64\".\n",
    "     $ minio server /mnt/data{1...64}\n",
    "\n",
    "  3. Start distributed minio server on an 32 node setup with 32 drives each, run following command on all the nodes\n",
    "     $ export MINIO_ROOT_USER=minio\n",
    "     $ export MINIO_ROOT_PASSWORD=miniostorage\n",
    "     $ minio server http://node{1...32}.example.com/mnt/export{1...32}\n",
    "\n",
    "  4. Start distributed minio server in an expanded setup, run the following command on all the nodes\n",
    "     $ export MINIO_ROOT_USER=minio\n",
    "     $ export MINIO_ROOT_PASSWORD=miniostorage\n",
    "     $ minio server http://node{1...16}.example.com/mnt/export{1...32} \\\n",
    "            http://node{17...64}.example.com/mnt/export{1...64}\n",
    "🍺  /usr/local/Cellar/minio/RELEASE.2021-11-09T03-21-45Z_1: 3 files, 98MB, built in 7 seconds"
   ]
  },
  {
   "cell_type": "markdown",
   "id": "7047be41-3512-406e-9f0c-cf23f984c2df",
   "metadata": {},
   "source": [
    "To migrate existing data from a previous major version of PostgreSQL run:\n",
    "  brew postgresql-upgrade-database\n",
    "\n",
    "This formula has created a default database cluster with:\n",
    "  initdb --locale=C -E UTF-8 /usr/local/var/postgres\n",
    "For more details, read:\n",
    "  https://www.postgresql.org/docs/14/app-initdb.html\n",
    "\n",
    "To restart postgresql after an upgrade:\n",
    "  brew services restart postgresql\n",
    "Or, if you don't want/need a background service you can just run:\n",
    "  /usr/local/opt/postgresql/bin/postgres -D /usr/local/var/postgres"
   ]
  },
  {
   "cell_type": "markdown",
   "id": "4c729c3e-ff24-475a-a5ca-94ef0e573bd2",
   "metadata": {},
   "source": [
    "---"
   ]
  },
  {
   "cell_type": "code",
   "execution_count": 9,
   "id": "09cb6805-38f7-432b-9785-06bcbc21dee2",
   "metadata": {},
   "outputs": [],
   "source": [
    "import io\n",
    "import requests\n",
    "\n",
    "from minio import Minio\n",
    "from collections import namedtuple\n",
    "from urllib.parse import urlparse\n",
    "from pathlib import PurePosixPath\n",
    "from pyparsing import Combine, Keyword, Word, alphanums, nums, ZeroOrMore"
   ]
  },
  {
   "cell_type": "code",
   "execution_count": 10,
   "id": "7f17fade-1018-407f-966b-c71feb13d12d",
   "metadata": {},
   "outputs": [],
   "source": [
    "# minio default setup\n",
    "client = Minio(\n",
    "    \"127.0.0.1:9000\", access_key=\"minioadmin\", secret_key=\"minioadmin\", secure=False\n",
    ")"
   ]
  },
  {
   "cell_type": "markdown",
   "id": "78ead8a8-bb06-4bdd-8ee8-44381cda65f8",
   "metadata": {},
   "source": [
    "---"
   ]
  },
  {
   "cell_type": "code",
   "execution_count": 11,
   "id": "5a0204f9-ff56-45f7-ac64-3055fd585396",
   "metadata": {},
   "outputs": [],
   "source": [
    "import logging\n",
    "\n",
    "logging.basicConfig(filename=\"feed_download.log\", filemode=\"w\", level=logging.INFO)\n",
    "\n",
    "from itertools import product\n",
    "from tqdm import tqdm"
   ]
  },
  {
   "cell_type": "markdown",
   "id": "609acee0-d702-4cd9-98a2-844418833967",
   "metadata": {},
   "source": [
    "---"
   ]
  },
  {
   "cell_type": "code",
   "execution_count": 40,
   "id": "032cfd54-a5db-42c7-a497-23ac04a36b07",
   "metadata": {},
   "outputs": [],
   "source": [
    "class FeedReferencesIngestion:\n",
    "\n",
    "    IgnoredDomains = [\n",
    "        \"github.com\",\n",
    "        \"gist.github.com\",\n",
    "        \"raw.githubusercontent.com\",\n",
    "        \"twitter.com\",\n",
    "    ]\n",
    "\n",
    "    def __init__(self, minio_client, bucket=\"feed_references\"):\n",
    "        self.client = minio_client\n",
    "        self.bucket = bucket\n",
    "\n",
    "    @staticmethod\n",
    "    def check_mimetype(response):\n",
    "\n",
    "        # check mimetype with different ways\n",
    "        def guess_mimetype(response):\n",
    "            original_url = (\n",
    "                urlparse(response.url)\n",
    "                if response.history == []\n",
    "                else urlparse(response.history[0].url)\n",
    "            )\n",
    "            filename = PurePosixPath(original_url.path).parts[-1]\n",
    "            return \"application/pdf\" if \".pdf\" in filename.lower() else \"text/html\"\n",
    "\n",
    "        def get_mimetype(response):\n",
    "            content_type = response.headers.get(\"Content-Type\")\n",
    "            mimetype, sep, charset = content_type.partition(\";\")\n",
    "            return mimetype\n",
    "\n",
    "        def parse_mimetype(response):\n",
    "            # setup parser\n",
    "            pdf = Combine(\n",
    "                Word(\"%pdf-\") + Word(nums) + \".\" + Word(nums) + \"\\r\"\n",
    "            ).setResultsName(\"application/pdf\")\n",
    "\n",
    "            html = Combine(\n",
    "                Word(\"<\") + Keyword(\"!doctype html\") + ZeroOrMore(alphanums) + Word(\">\")\n",
    "            ).setResultsName(\"text/html\")\n",
    "\n",
    "            parser = html | pdf\n",
    "            # parse\n",
    "            input_chunk = response.text.lower()[:20]\n",
    "            try:\n",
    "                parsing_result = parser.parseString(input_chunk, parseAll=False)\n",
    "                return parsing_result.getName()\n",
    "            except:\n",
    "                return \"application/octet-stream\"\n",
    "\n",
    "        # get all checking results\n",
    "        mimetypes = (\n",
    "            guess_mimetype(response),\n",
    "            get_mimetype(response),\n",
    "            parse_mimetype(response),\n",
    "        )\n",
    "\n",
    "        if all(mimetype == \"application/pdf\" for mimetype in mimetypes):\n",
    "            return \"application/pdf\"\n",
    "\n",
    "        elif all(mimetype == \"text/html\" for mimetype in mimetypes):\n",
    "            return \"text/html\"\n",
    "\n",
    "        else:\n",
    "            return \"application/octet-stream\"\n",
    "\n",
    "    def download(self, feed_id, reference_url):\n",
    "\n",
    "        try:\n",
    "            # check url\n",
    "            parsed_url = urlparse(reference_url)\n",
    "            source_domain = parsed_url.netloc\n",
    "\n",
    "            # download\n",
    "            response = (\n",
    "                requests.get(reference_url, timeout=3)\n",
    "                if source_domain not in FeedReferencesIngestion.IgnoredDomains\n",
    "                else None\n",
    "            )\n",
    "\n",
    "            # get reference\n",
    "            file_name = PurePosixPath(parsed_url.path).parts[-1]\n",
    "            reference = {\n",
    "                \"bucket_name\": self.bucket,\n",
    "                \"object_name\": \"{}/{}\".format(feed_id, file_name),\n",
    "                \"data\": io.BytesIO(response.content),\n",
    "                \"content_type\": FeedReferencesIngestion.check_mimetype(response),\n",
    "                \"length\": (\n",
    "                    int(response.headers.get(\"Content-Length\"))\n",
    "                    if response.headers.get(\"Content-Length\") is not None\n",
    "                    else len(response.content)\n",
    "                ),\n",
    "                \"metadata\": {\n",
    "                    \"feed\": feed_id,\n",
    "                    \"url\": reference_url,\n",
    "                    \"charset\": response.encoding,\n",
    "                },\n",
    "            }\n",
    "\n",
    "            # check and save\n",
    "            if (\n",
    "                response.ok\n",
    "                and reference.get(\"content_type\") != \"application/octet-stream\"\n",
    "            ):\n",
    "                self.client.put_object(**reference)  # save\n",
    "                message = \"{} {} {}\".format(feed_id, reference_url, response.reason)\n",
    "                logging.info(message)\n",
    "            else:\n",
    "                message = \"{} {} {}\".format(feed_id, reference_url, response.reason)\n",
    "                logging.warning(message)\n",
    "        except:\n",
    "            message = \"{} {} {}\".format(feed_id, reference_url, \"ERROR\")\n",
    "            logging.error(message)\n",
    "\n",
    "    async def async_download(self, feed_id, reference_url):\n",
    "\n",
    "        \"\"\"\n",
    "        # Todo:\n",
    "            aiohttp.get behavoir is not same as requests.get when check_mimetype,\n",
    "            it has to refactor in production stage.\n",
    "\n",
    "        # Sample Code:\n",
    "            import asyncio\n",
    "            import aiohttp\n",
    "\n",
    "            async def call_url(url):\n",
    "                response = await aiohttp.ClientSession().get(url)\n",
    "                data = await response.text()\n",
    "                return data\n",
    "\n",
    "            futures = [call_url(url) for url in urls]\n",
    "\n",
    "            # python 3.7+\n",
    "            # asyncio.run(asyncio.wait(futures))\n",
    "\n",
    "            loop = asyncio.get_event_loop()\n",
    "            loop.run_until_complete(asyncio.wait(futures))\n",
    "        \"\"\"\n",
    "        pass\n",
    "\n",
    "    def download_references(self, feed):\n",
    "        references = product([feed.get(\"id\")], feed.get(\"references\"))\n",
    "        for ref in references:\n",
    "            self.download(*ref)\n",
    "\n",
    "    def list_references(self, feed_id, content_type=[\"text/html\", \"application/pdf\"]):\n",
    "        # list references by feed id and get reference objectts\n",
    "        try:\n",
    "            objects_gen = self.client.list_objects(\n",
    "                bucket_name=self.bucket,\n",
    "                prefix=feed_id,\n",
    "                include_user_meta=True,\n",
    "                recursive=True,\n",
    "            )\n",
    "\n",
    "            reference_objects = (\n",
    "                seq(objects_gen)\n",
    "                .filter(lambda reference: reference.is_dir is False)\n",
    "                .filter(\n",
    "                    lambda reference: reference.metadata.get(\"content-type\")\n",
    "                    in content_type\n",
    "                )\n",
    "                .to_list()\n",
    "            )\n",
    "\n",
    "        except TypeError:\n",
    "            reference_objects = []\n",
    "\n",
    "        return reference_objects\n",
    "\n",
    "    def read_references(self, feed, content_type=[\"text/html\", \"application/pdf\"]):\n",
    "        \n",
    "        self.list_references(feed.get(\"id\"), content_type)\n",
    "        \n",
    "        try:\n",
    "            object_names = (\n",
    "                seq(objects)\n",
    "                .filter(lambda ref: ref.is_dir is False)\n",
    "                .filter(lambda ref: ref.metadata.get(\"content-type\") in content_type)\n",
    "                .map(\n",
    "                    lambda ref: (\n",
    "                        ref.metadata.get(\"X-Amz-Meta-Feed\"),\n",
    "                        ref.metadata.get(\"X-Amz-Meta-Url\"),\n",
    "                        # ref.object_name,\n",
    "                        client.get_object(\n",
    "                            bucket_name=\"feed_references\",\n",
    "                            object_name=ref.object_name,\n",
    "                        ),\n",
    "                    )\n",
    "                )\n",
    "                .to_list()\n",
    "            )\n",
    "\n",
    "        except:\n",
    "            object_names = []\n",
    "\n",
    "        return object_names"
   ]
  },
  {
   "cell_type": "code",
   "execution_count": 41,
   "id": "366c1705-1489-46c7-9f17-c35bd140b424",
   "metadata": {},
   "outputs": [],
   "source": [
    "fri = FeedReferencesIngestion(client)"
   ]
  },
  {
   "cell_type": "markdown",
   "id": "c2f30346-e0f6-44ac-8612-364d4ab05b45",
   "metadata": {},
   "source": [
    "```python\n",
    "for feed in tqdm(feeds.to_list()):\n",
    "    fri.download_references(feed)\n",
    "```"
   ]
  },
  {
   "cell_type": "markdown",
   "id": "bf828245-4daa-4915-99d7-57efedaeec23",
   "metadata": {},
   "source": [
    "---"
   ]
  },
  {
   "cell_type": "code",
   "execution_count": 42,
   "id": "c4015e22-09e3-4150-9b06-ba5a7b4fb1f9",
   "metadata": {},
   "outputs": [
    {
     "data": {
      "text/plain": [
       "[<minio.datatypes.Object at 0x1282877b8>,\n",
       " <minio.datatypes.Object at 0x128287a58>]"
      ]
     },
     "execution_count": 42,
     "metadata": {},
     "output_type": "execute_result"
    }
   ],
   "source": [
    "fri.list_references(\"60413cd1bb43dcf1d22c274b\")"
   ]
  },
  {
   "cell_type": "code",
   "execution_count": 14,
   "id": "f41bdb00-6d8e-4c1d-a739-2ba6bc8b0c43",
   "metadata": {},
   "outputs": [
    {
     "data": {
      "text/plain": [
       "[Bucket('feed_references')]"
      ]
     },
     "execution_count": 14,
     "metadata": {},
     "output_type": "execute_result"
    }
   ],
   "source": [
    "client.list_buckets()"
   ]
  },
  {
   "cell_type": "code",
   "execution_count": 15,
   "id": "24473ebf-68bb-41d6-a737-1a5a77c3af02",
   "metadata": {},
   "outputs": [
    {
     "data": {
      "text/plain": [
       "True"
      ]
     },
     "execution_count": 15,
     "metadata": {},
     "output_type": "execute_result"
    }
   ],
   "source": [
    "client.bucket_exists(\"feed_references\")"
   ]
  },
  {
   "cell_type": "code",
   "execution_count": 16,
   "id": "e465cf1e-8d47-46cc-9ef0-8f92fac2f507",
   "metadata": {},
   "outputs": [
    {
     "data": {
      "text/html": [
       "<table>\n",
       "<tbody>\n",
       "<tr><td>60413cd1bb43dcf1d22c274b/goldmax-goldfinder-sibot-analyzing-nobelium-malware            </td><td></td><td>{&#x27;content-type&#x27;: &#x27;text/html&#x27;, &#x27;X-Amz-Meta-Charset&#x27;: &#x27;UTF-8&#x27;, &#x27;X-Amz-Meta-Feed&#x27;: &#x27;60413cd1bb43dcf1d22c274b&#x27;, &#x27;X-Amz-Meta-Url&#x27;: &#x27;https://www.microsoft.com/security/blog/2021/03/04/goldmax-goldfinder-sibot-analyzing-nobelium-malware/&#x27;}             </td></tr>\n",
       "<tr><td>60413cd1bb43dcf1d22c274b/sunshuttle-second-stage-backdoor-targeting-us-based-entity.html</td><td></td><td>{&#x27;X-Amz-Meta-Feed&#x27;: &#x27;60413cd1bb43dcf1d22c274b&#x27;, &#x27;X-Amz-Meta-Url&#x27;: &#x27;https://www.fireeye.com/blog/threat-research/2021/03/sunshuttle-second-stage-backdoor-targeting-us-based-entity.html&#x27;, &#x27;content-type&#x27;: &#x27;text/html&#x27;, &#x27;X-Amz-Meta-Charset&#x27;: &#x27;UTF-8&#x27;}</td></tr>\n",
       "</tbody>\n",
       "</table>"
      ],
      "text/plain": [
       "[('60413cd1bb43dcf1d22c274b/goldmax-goldfinder-sibot-analyzing-nobelium-malware', None, {'content-type': 'text/html', 'X-Amz-Meta-Charset': 'UTF-8', 'X-Amz-Meta-Feed': '60413cd1bb43dcf1d22c274b', 'X-Amz-Meta-Url': 'https://www.microsoft.com/security/blog/2021/03/04/goldmax-goldfinder-sibot-analyzing-nobelium-malware/'}), ('60413cd1bb43dcf1d22c274b/sunshuttle-second-stage-backdoor-targeting-us-based-entity.html', None, {'X-Amz-Meta-Feed': '60413cd1bb43dcf1d22c274b', 'X-Amz-Meta-Url': 'https://www.fireeye.com/blog/threat-research/2021/03/sunshuttle-second-stage-backdoor-targeting-us-based-entity.html', 'content-type': 'text/html', 'X-Amz-Meta-Charset': 'UTF-8'})]"
      ]
     },
     "execution_count": 16,
     "metadata": {},
     "output_type": "execute_result"
    }
   ],
   "source": [
    "# list_objects\n",
    "seq(\n",
    "    client.list_objects(\n",
    "        bucket_name=\"feed_references\",\n",
    "        prefix=\"60413cd1bb43dcf1d22c274b\",  # remember \"/\"\n",
    "        include_user_meta=True,\n",
    "        recursive=True,\n",
    "    )\n",
    ").map(lambda obj: (obj.object_name, obj.content_type, obj.metadata))"
   ]
  },
  {
   "cell_type": "code",
   "execution_count": 17,
   "id": "ed5d1a23-8197-45a4-929f-3d0ad8dda1a7",
   "metadata": {},
   "outputs": [
    {
     "name": "stdout",
     "output_type": "stream",
     "text": [
      "HTTPHeaderDict({'Accept-Ranges': 'bytes', 'Content-Length': '40357', 'Content-Security-Policy': 'block-all-mixed-content', 'Content-Type': 'text/html', 'ETag': '\"ee3132eb3132e0bc4dc5beff229b8645\"', 'Last-Modified': 'Tue, 07 Dec 2021 09:39:11 GMT', 'Server': 'MinIO', 'Strict-Transport-Security': 'max-age=31536000; includeSubDomains', 'Vary': 'Origin', 'X-Amz-Request-Id': '16BEF5F690897E28', 'X-Content-Type-Options': 'nosniff', 'X-Xss-Protection': '1; mode=block', 'x-amz-meta-charset': 'UTF-8', 'x-amz-meta-feed': '60413cd1bb43dcf1d22c274b', 'x-amz-meta-url': 'https://www.microsoft.com/security/blog/2021/03/04/goldmax-goldfinder-sibot-analyzing-nobelium-malware/', 'Date': 'Thu, 09 Dec 2021 02:42:33 GMT'}) \n",
      " b'<!DOCTYPE html>\\n<!--[if lt IE 7]>      <html class'\n"
     ]
    }
   ],
   "source": [
    "# get_object\n",
    "try:\n",
    "    response = client.get_object(\n",
    "        bucket_name=\"feed_references\",\n",
    "        object_name=\"60413cd1bb43dcf1d22c274b/goldmax-goldfinder-sibot-analyzing-nobelium-malware\",\n",
    "    )\n",
    "    print(response.headers, \"\\n\", response.read()[:50])\n",
    "\n",
    "# Read data from response.\n",
    "finally:\n",
    "    response.close()\n",
    "    response.release_conn()"
   ]
  },
  {
   "cell_type": "markdown",
   "id": "5eb2541e-0366-4e31-9b8c-f2113c8111b0",
   "metadata": {},
   "source": [
    "---"
   ]
  },
  {
   "cell_type": "code",
   "execution_count": 43,
   "id": "e415148b-ff0e-467f-b9bf-6d0aed3a8e43",
   "metadata": {},
   "outputs": [],
   "source": [
    "def list_references(\n",
    "    feed={\"id\": \"60413cd1bb43dcf1d22c274b\"},\n",
    "    content_type=[\"text/html\", \"application/pdf\"],\n",
    "):\n",
    "    try:\n",
    "        objects_generator = client.list_objects(\n",
    "            bucket_name=\"feed_references\",\n",
    "            prefix=feed.get(\"id\"),\n",
    "            include_user_meta=True,\n",
    "            recursive=True,\n",
    "        )\n",
    "        reference_objects = (\n",
    "            seq(objects_generator)\n",
    "            .filter(lambda ref: ref.is_dir is False)\n",
    "            .filter(lambda ref: ref.metadata.get(\"content-type\") in content_type)\n",
    "            .to_list()\n",
    "        )\n",
    "\n",
    "    except TypeError:\n",
    "        reference_objects = []\n",
    "\n",
    "    return reference_objects"
   ]
  },
  {
   "cell_type": "code",
   "execution_count": 44,
   "id": "d7447f56-e9ee-474e-8153-97748d3a7d47",
   "metadata": {},
   "outputs": [
    {
     "data": {
      "text/plain": [
       "[<minio.datatypes.Object at 0x12730ac88>,\n",
       " <minio.datatypes.Object at 0x12730afd0>]"
      ]
     },
     "execution_count": 44,
     "metadata": {},
     "output_type": "execute_result"
    }
   ],
   "source": [
    "list(list_references())"
   ]
  },
  {
   "cell_type": "code",
   "execution_count": 45,
   "id": "d40145b0-1484-4d03-a34d-8fda1c1db7a8",
   "metadata": {},
   "outputs": [
    {
     "data": {
      "text/plain": [
       "[]"
      ]
     },
     "execution_count": 45,
     "metadata": {},
     "output_type": "execute_result"
    }
   ],
   "source": [
    "list(list_references(feed={\"id\": \"223456\"}))"
   ]
  },
  {
   "cell_type": "code",
   "execution_count": 18,
   "id": "228855a1-737d-4127-81ee-1646f8506c9a",
   "metadata": {},
   "outputs": [],
   "source": [
    "def read_references(\n",
    "    feed={\"id\": \"60413cd1bb43dcf1d22c274b\"},\n",
    "    content_type=[\"text/html\", \"application/pdf\"],\n",
    "):\n",
    "\n",
    "    objects = client.list_objects(\n",
    "        bucket_name=\"feed_references\",\n",
    "        prefix=feed.get(\"id\"),\n",
    "        include_user_meta=True,\n",
    "        recursive=True,\n",
    "    )\n",
    "\n",
    "    try:\n",
    "        object_names = (\n",
    "            seq(objects)\n",
    "            .filter(lambda ref: ref.is_dir is False)\n",
    "            .filter(lambda ref: ref.metadata.get(\"content-type\") in content_type)\n",
    "            .map(\n",
    "                lambda ref: (\n",
    "                    ref.metadata.get(\"X-Amz-Meta-Feed\"),\n",
    "                    ref.metadata.get(\"X-Amz-Meta-Url\"),\n",
    "                    # ref.object_name,\n",
    "                    client.get_object(\n",
    "                        bucket_name=\"feed_references\",\n",
    "                        object_name=ref.object_name,\n",
    "                    ),\n",
    "                )\n",
    "            )\n",
    "            .to_list()\n",
    "        )\n",
    "\n",
    "    except:\n",
    "        object_names = []\n",
    "\n",
    "    return object_names"
   ]
  },
  {
   "cell_type": "code",
   "execution_count": 19,
   "id": "69b195e5-d3ef-463f-b461-89883c48b176",
   "metadata": {},
   "outputs": [
    {
     "data": {
      "text/plain": [
       "[('60413cd1bb43dcf1d22c274b',\n",
       "  'https://www.microsoft.com/security/blog/2021/03/04/goldmax-goldfinder-sibot-analyzing-nobelium-malware/',\n",
       "  <urllib3.response.HTTPResponse at 0x1273b7390>),\n",
       " ('60413cd1bb43dcf1d22c274b',\n",
       "  'https://www.fireeye.com/blog/threat-research/2021/03/sunshuttle-second-stage-backdoor-targeting-us-based-entity.html',\n",
       "  <urllib3.response.HTTPResponse at 0x1273b7780>)]"
      ]
     },
     "execution_count": 19,
     "metadata": {},
     "output_type": "execute_result"
    }
   ],
   "source": [
    "read_references()"
   ]
  },
  {
   "cell_type": "code",
   "execution_count": 21,
   "id": "62973e2f-87d9-471d-8c21-2bed81f40bfd",
   "metadata": {},
   "outputs": [],
   "source": [
    "o = client.list_objects(\n",
    "    bucket_name=\"feed_references\",\n",
    "    prefix=\"60413cd1bb43dcf1d22c274b\",\n",
    "    include_user_meta=True,\n",
    "    recursive=True,\n",
    ")"
   ]
  },
  {
   "cell_type": "code",
   "execution_count": 23,
   "id": "25c0bcd7-18ab-4f87-b776-10c788d0dab7",
   "metadata": {},
   "outputs": [
    {
     "name": "stdout",
     "output_type": "stream",
     "text": [
      "[<minio.datatypes.Object object at 0x1283394a8>, <minio.datatypes.Object object at 0x1283394e0>]\n"
     ]
    }
   ],
   "source": [
    "if o:\n",
    "    print(list(o))"
   ]
  },
  {
   "cell_type": "code",
   "execution_count": null,
   "id": "bee32d14-aaa6-448a-bebb-d916410408d1",
   "metadata": {},
   "outputs": [],
   "source": [
    "client.ge"
   ]
  },
  {
   "cell_type": "code",
   "execution_count": 172,
   "id": "3631c03e-0a4a-4dff-85a5-47daa362c9ba",
   "metadata": {},
   "outputs": [
    {
     "ename": "S3Error",
     "evalue": "S3 operation failed; code: NoSuchKey, message: Object does not exist, resource: /feed_references/60413cd1bb43dcf1d22c274b, request_id: 16BEBE7C683B0218, host_id: None, bucket_name: feed_references, object_name: 60413cd1bb43dcf1d22c274b",
     "output_type": "error",
     "traceback": [
      "\u001b[0;31m---------------------------------------------------------------------------\u001b[0m",
      "\u001b[0;31mS3Error\u001b[0m                                   Traceback (most recent call last)",
      "\u001b[0;32m<ipython-input-172-ddb30248807a>\u001b[0m in \u001b[0;36m<module>\u001b[0;34m\u001b[0m\n\u001b[0;32m----> 1\u001b[0;31m \u001b[0mclient\u001b[0m\u001b[0;34m.\u001b[0m\u001b[0mstat_object\u001b[0m\u001b[0;34m(\u001b[0m\u001b[0mbucket_name\u001b[0m\u001b[0;34m=\u001b[0m\u001b[0;34m\"feed_references\"\u001b[0m\u001b[0;34m,\u001b[0m \u001b[0mobject_name\u001b[0m\u001b[0;34m=\u001b[0m\u001b[0;34m\"60413cd1bb43dcf1d22c274b\"\u001b[0m\u001b[0;34m)\u001b[0m\u001b[0;34m\u001b[0m\u001b[0;34m\u001b[0m\u001b[0m\n\u001b[0m",
      "\u001b[0;32m~/Library/Caches/pypoetry/virtualenvs/magpie-j27h1SjX-py3.6/lib/python3.6/site-packages/minio/api.py\u001b[0m in \u001b[0;36mstat_object\u001b[0;34m(self, bucket_name, object_name, ssec, version_id, extra_query_params)\u001b[0m\n\u001b[1;32m   1862\u001b[0m             \u001b[0mobject_name\u001b[0m\u001b[0;34m,\u001b[0m\u001b[0;34m\u001b[0m\u001b[0;34m\u001b[0m\u001b[0m\n\u001b[1;32m   1863\u001b[0m             \u001b[0mheaders\u001b[0m\u001b[0;34m=\u001b[0m\u001b[0mheaders\u001b[0m\u001b[0;34m,\u001b[0m\u001b[0;34m\u001b[0m\u001b[0;34m\u001b[0m\u001b[0m\n\u001b[0;32m-> 1864\u001b[0;31m             \u001b[0mquery_params\u001b[0m\u001b[0;34m=\u001b[0m\u001b[0mquery_params\u001b[0m\u001b[0;34m,\u001b[0m\u001b[0;34m\u001b[0m\u001b[0;34m\u001b[0m\u001b[0m\n\u001b[0m\u001b[1;32m   1865\u001b[0m         )\n\u001b[1;32m   1866\u001b[0m \u001b[0;34m\u001b[0m\u001b[0m\n",
      "\u001b[0;32m~/Library/Caches/pypoetry/virtualenvs/magpie-j27h1SjX-py3.6/lib/python3.6/site-packages/minio/api.py\u001b[0m in \u001b[0;36m_execute\u001b[0;34m(self, method, bucket_name, object_name, body, headers, query_params, preload_content, no_body_trace)\u001b[0m\n\u001b[1;32m    404\u001b[0m                 \u001b[0mquery_params\u001b[0m\u001b[0;34m=\u001b[0m\u001b[0mquery_params\u001b[0m\u001b[0;34m,\u001b[0m\u001b[0;34m\u001b[0m\u001b[0;34m\u001b[0m\u001b[0m\n\u001b[1;32m    405\u001b[0m                 \u001b[0mpreload_content\u001b[0m\u001b[0;34m=\u001b[0m\u001b[0mpreload_content\u001b[0m\u001b[0;34m,\u001b[0m\u001b[0;34m\u001b[0m\u001b[0;34m\u001b[0m\u001b[0m\n\u001b[0;32m--> 406\u001b[0;31m                 \u001b[0mno_body_trace\u001b[0m\u001b[0;34m=\u001b[0m\u001b[0mno_body_trace\u001b[0m\u001b[0;34m,\u001b[0m\u001b[0;34m\u001b[0m\u001b[0;34m\u001b[0m\u001b[0m\n\u001b[0m\u001b[1;32m    407\u001b[0m             )\n\u001b[1;32m    408\u001b[0m         \u001b[0;32mexcept\u001b[0m \u001b[0mS3Error\u001b[0m \u001b[0;32mas\u001b[0m \u001b[0mexc\u001b[0m\u001b[0;34m:\u001b[0m\u001b[0;34m\u001b[0m\u001b[0;34m\u001b[0m\u001b[0m\n",
      "\u001b[0;32m~/Library/Caches/pypoetry/virtualenvs/magpie-j27h1SjX-py3.6/lib/python3.6/site-packages/minio/api.py\u001b[0m in \u001b[0;36m_url_open\u001b[0;34m(self, method, region, bucket_name, object_name, body, headers, query_params, preload_content, no_body_trace)\u001b[0m\n\u001b[1;32m    378\u001b[0m             \u001b[0mself\u001b[0m\u001b[0;34m.\u001b[0m\u001b[0m_region_map\u001b[0m\u001b[0;34m.\u001b[0m\u001b[0mpop\u001b[0m\u001b[0;34m(\u001b[0m\u001b[0mbucket_name\u001b[0m\u001b[0;34m,\u001b[0m \u001b[0;32mNone\u001b[0m\u001b[0;34m)\u001b[0m\u001b[0;34m\u001b[0m\u001b[0;34m\u001b[0m\u001b[0m\n\u001b[1;32m    379\u001b[0m \u001b[0;34m\u001b[0m\u001b[0m\n\u001b[0;32m--> 380\u001b[0;31m         \u001b[0;32mraise\u001b[0m \u001b[0mresponse_error\u001b[0m\u001b[0;34m\u001b[0m\u001b[0;34m\u001b[0m\u001b[0m\n\u001b[0m\u001b[1;32m    381\u001b[0m \u001b[0;34m\u001b[0m\u001b[0m\n\u001b[1;32m    382\u001b[0m     def _execute(\n",
      "\u001b[0;31mS3Error\u001b[0m: S3 operation failed; code: NoSuchKey, message: Object does not exist, resource: /feed_references/60413cd1bb43dcf1d22c274b, request_id: 16BEBE7C683B0218, host_id: None, bucket_name: feed_references, object_name: 60413cd1bb43dcf1d22c274b"
     ]
    }
   ],
   "source": [
    "client.stat_object(bucket_name=\"feed_references\", object_name=\"60413cd1bb43dcf1d22c274b\")"
   ]
  },
  {
   "cell_type": "code",
   "execution_count": 167,
   "id": "ace932e3-68f6-4c77-a1c5-cf18f8167060",
   "metadata": {},
   "outputs": [
    {
     "name": "stdout",
     "output_type": "stream",
     "text": [
      "Help on method stat_object in module minio.api:\n",
      "\n",
      "stat_object(bucket_name, object_name, ssec=None, version_id=None, extra_query_params=None) method of minio.api.Minio instance\n",
      "    Get object information and metadata of an object.\n",
      "    \n",
      "    :param bucket_name: Name of the bucket.\n",
      "    :param object_name: Object name in the bucket.\n",
      "    :param ssec: Server-side encryption customer key.\n",
      "    :param version_id: Version ID of the object.\n",
      "    :param extra_query_params: Extra query parameters for advanced usage.\n",
      "    :return: :class:`Object <Object>`.\n",
      "    \n",
      "    Example::\n",
      "        # Get object information.\n",
      "        result = client.stat_object(\"my-bucket\", \"my-object\")\n",
      "    \n",
      "        # Get object information of version-ID.\n",
      "        result = client.stat_object(\n",
      "            \"my-bucket\", \"my-object\",\n",
      "            version_id=\"dfbd25b3-abec-4184-a4e8-5a35a5c1174d\",\n",
      "        )\n",
      "    \n",
      "        # Get SSE-C encrypted object information.\n",
      "        result = client.stat_object(\n",
      "            \"my-bucket\", \"my-object\",\n",
      "            ssec=SseCustomerKey(b\"32byteslongsecretkeymustprovided\"),\n",
      "        )\n",
      "\n"
     ]
    }
   ],
   "source": [
    "help(client.stat_object)"
   ]
  },
  {
   "cell_type": "code",
   "execution_count": 154,
   "id": "3c4b73f2-a3f4-47ce-93b2-1eb116da610f",
   "metadata": {},
   "outputs": [
    {
     "ename": "TypeError",
     "evalue": "list_objects() got an unexpected keyword argument 'object_name'",
     "output_type": "error",
     "traceback": [
      "\u001b[0;31m---------------------------------------------------------------------------\u001b[0m",
      "\u001b[0;31mTypeError\u001b[0m                                 Traceback (most recent call last)",
      "\u001b[0;32m<ipython-input-154-f6329e5c516a>\u001b[0m in \u001b[0;36m<module>\u001b[0;34m\u001b[0m\n\u001b[0;32m----> 1\u001b[0;31m \u001b[0mclient\u001b[0m\u001b[0;34m.\u001b[0m\u001b[0mlist_objects\u001b[0m\u001b[0;34m(\u001b[0m\u001b[0mbucket_name\u001b[0m\u001b[0;34m=\u001b[0m\u001b[0;34m\"feed_references\"\u001b[0m\u001b[0;34m,\u001b[0m \u001b[0mobject_name\u001b[0m\u001b[0;34m=\u001b[0m\u001b[0;34m\"60413cd1bb43dcf1d22c274b\"\u001b[0m\u001b[0;34m,\u001b[0m \u001b[0mrecursive\u001b[0m\u001b[0;34m=\u001b[0m\u001b[0;32mTrue\u001b[0m\u001b[0;34m)\u001b[0m\u001b[0;34m\u001b[0m\u001b[0;34m\u001b[0m\u001b[0m\n\u001b[0m",
      "\u001b[0;31mTypeError\u001b[0m: list_objects() got an unexpected keyword argument 'object_name'"
     ]
    }
   ],
   "source": [
    "client.list_objects(bucket_name=\"feed_references\", object_name=\"60413cd1bb43dcf1d22c274b\", recursive=True)"
   ]
  },
  {
   "cell_type": "code",
   "execution_count": 155,
   "id": "a9c434bf-52d5-44dc-8775-7c0097aa03f0",
   "metadata": {},
   "outputs": [
    {
     "ename": "S3Error",
     "evalue": "S3 operation failed; code: NoSuchKey, message: Object does not exist, resource: /feed_references/60413cd1bb43dcf1d22c274b, request_id: 16BEBE1E2AD6ED00, host_id: None, bucket_name: feed_references, object_name: 60413cd1bb43dcf1d22c274b",
     "output_type": "error",
     "traceback": [
      "\u001b[0;31m---------------------------------------------------------------------------\u001b[0m",
      "\u001b[0;31mS3Error\u001b[0m                                   Traceback (most recent call last)",
      "\u001b[0;32m<ipython-input-155-4b8cd8fc0a7a>\u001b[0m in \u001b[0;36m<module>\u001b[0;34m\u001b[0m\n\u001b[1;32m      1\u001b[0m client.stat_object(\n\u001b[1;32m      2\u001b[0m     \u001b[0mbucket_name\u001b[0m\u001b[0;34m=\u001b[0m\u001b[0;34m\"feed_references\"\u001b[0m\u001b[0;34m,\u001b[0m\u001b[0;34m\u001b[0m\u001b[0;34m\u001b[0m\u001b[0m\n\u001b[0;32m----> 3\u001b[0;31m     \u001b[0mobject_name\u001b[0m\u001b[0;34m=\u001b[0m\u001b[0;34m\"60413cd1bb43dcf1d22c274b\"\u001b[0m\u001b[0;34m,\u001b[0m\u001b[0;34m\u001b[0m\u001b[0;34m\u001b[0m\u001b[0m\n\u001b[0m\u001b[1;32m      4\u001b[0m )\n",
      "\u001b[0;32m~/Library/Caches/pypoetry/virtualenvs/magpie-j27h1SjX-py3.6/lib/python3.6/site-packages/minio/api.py\u001b[0m in \u001b[0;36mstat_object\u001b[0;34m(self, bucket_name, object_name, ssec, version_id, extra_query_params)\u001b[0m\n\u001b[1;32m   1862\u001b[0m             \u001b[0mobject_name\u001b[0m\u001b[0;34m,\u001b[0m\u001b[0;34m\u001b[0m\u001b[0;34m\u001b[0m\u001b[0m\n\u001b[1;32m   1863\u001b[0m             \u001b[0mheaders\u001b[0m\u001b[0;34m=\u001b[0m\u001b[0mheaders\u001b[0m\u001b[0;34m,\u001b[0m\u001b[0;34m\u001b[0m\u001b[0;34m\u001b[0m\u001b[0m\n\u001b[0;32m-> 1864\u001b[0;31m             \u001b[0mquery_params\u001b[0m\u001b[0;34m=\u001b[0m\u001b[0mquery_params\u001b[0m\u001b[0;34m,\u001b[0m\u001b[0;34m\u001b[0m\u001b[0;34m\u001b[0m\u001b[0m\n\u001b[0m\u001b[1;32m   1865\u001b[0m         )\n\u001b[1;32m   1866\u001b[0m \u001b[0;34m\u001b[0m\u001b[0m\n",
      "\u001b[0;32m~/Library/Caches/pypoetry/virtualenvs/magpie-j27h1SjX-py3.6/lib/python3.6/site-packages/minio/api.py\u001b[0m in \u001b[0;36m_execute\u001b[0;34m(self, method, bucket_name, object_name, body, headers, query_params, preload_content, no_body_trace)\u001b[0m\n\u001b[1;32m    404\u001b[0m                 \u001b[0mquery_params\u001b[0m\u001b[0;34m=\u001b[0m\u001b[0mquery_params\u001b[0m\u001b[0;34m,\u001b[0m\u001b[0;34m\u001b[0m\u001b[0;34m\u001b[0m\u001b[0m\n\u001b[1;32m    405\u001b[0m                 \u001b[0mpreload_content\u001b[0m\u001b[0;34m=\u001b[0m\u001b[0mpreload_content\u001b[0m\u001b[0;34m,\u001b[0m\u001b[0;34m\u001b[0m\u001b[0;34m\u001b[0m\u001b[0m\n\u001b[0;32m--> 406\u001b[0;31m                 \u001b[0mno_body_trace\u001b[0m\u001b[0;34m=\u001b[0m\u001b[0mno_body_trace\u001b[0m\u001b[0;34m,\u001b[0m\u001b[0;34m\u001b[0m\u001b[0;34m\u001b[0m\u001b[0m\n\u001b[0m\u001b[1;32m    407\u001b[0m             )\n\u001b[1;32m    408\u001b[0m         \u001b[0;32mexcept\u001b[0m \u001b[0mS3Error\u001b[0m \u001b[0;32mas\u001b[0m \u001b[0mexc\u001b[0m\u001b[0;34m:\u001b[0m\u001b[0;34m\u001b[0m\u001b[0;34m\u001b[0m\u001b[0m\n",
      "\u001b[0;32m~/Library/Caches/pypoetry/virtualenvs/magpie-j27h1SjX-py3.6/lib/python3.6/site-packages/minio/api.py\u001b[0m in \u001b[0;36m_url_open\u001b[0;34m(self, method, region, bucket_name, object_name, body, headers, query_params, preload_content, no_body_trace)\u001b[0m\n\u001b[1;32m    378\u001b[0m             \u001b[0mself\u001b[0m\u001b[0;34m.\u001b[0m\u001b[0m_region_map\u001b[0m\u001b[0;34m.\u001b[0m\u001b[0mpop\u001b[0m\u001b[0;34m(\u001b[0m\u001b[0mbucket_name\u001b[0m\u001b[0;34m,\u001b[0m \u001b[0;32mNone\u001b[0m\u001b[0;34m)\u001b[0m\u001b[0;34m\u001b[0m\u001b[0;34m\u001b[0m\u001b[0m\n\u001b[1;32m    379\u001b[0m \u001b[0;34m\u001b[0m\u001b[0m\n\u001b[0;32m--> 380\u001b[0;31m         \u001b[0;32mraise\u001b[0m \u001b[0mresponse_error\u001b[0m\u001b[0;34m\u001b[0m\u001b[0;34m\u001b[0m\u001b[0m\n\u001b[0m\u001b[1;32m    381\u001b[0m \u001b[0;34m\u001b[0m\u001b[0m\n\u001b[1;32m    382\u001b[0m     def _execute(\n",
      "\u001b[0;31mS3Error\u001b[0m: S3 operation failed; code: NoSuchKey, message: Object does not exist, resource: /feed_references/60413cd1bb43dcf1d22c274b, request_id: 16BEBE1E2AD6ED00, host_id: None, bucket_name: feed_references, object_name: 60413cd1bb43dcf1d22c274b"
     ]
    }
   ],
   "source": [
    "client.stat_object(\n",
    "    bucket_name=\"feed_references\",\n",
    "    object_name=\"60413cd1bb43dcf1d22c274b\",\n",
    ")"
   ]
  },
  {
   "cell_type": "code",
   "execution_count": 143,
   "id": "0e1159b3-dd33-4ff3-9387-f1a6194933a1",
   "metadata": {},
   "outputs": [
    {
     "data": {
      "text/plain": [
       "<minio.datatypes.Object at 0x12ce1ea58>"
      ]
     },
     "execution_count": 143,
     "metadata": {},
     "output_type": "execute_result"
    }
   ],
   "source": [
    "client.stat_object(\n",
    "    bucket_name=\"feed_references\",\n",
    "    object_name=\"60413cd1bb43dcf1d22c274b/goldmax-goldfinder-sibot-analyzing-nobelium-malware\",\n",
    ")"
   ]
  },
  {
   "cell_type": "code",
   "execution_count": 144,
   "id": "ceef0324-4232-4e22-a5f9-6e786880d71f",
   "metadata": {},
   "outputs": [
    {
     "data": {
      "text/plain": [
       "['__class__',\n",
       " '__delattr__',\n",
       " '__dict__',\n",
       " '__dir__',\n",
       " '__doc__',\n",
       " '__eq__',\n",
       " '__format__',\n",
       " '__ge__',\n",
       " '__getattribute__',\n",
       " '__gt__',\n",
       " '__hash__',\n",
       " '__init__',\n",
       " '__init_subclass__',\n",
       " '__le__',\n",
       " '__lt__',\n",
       " '__module__',\n",
       " '__ne__',\n",
       " '__new__',\n",
       " '__reduce__',\n",
       " '__reduce_ex__',\n",
       " '__repr__',\n",
       " '__setattr__',\n",
       " '__sizeof__',\n",
       " '__str__',\n",
       " '__subclasshook__',\n",
       " '__weakref__',\n",
       " '_bucket_name',\n",
       " '_content_type',\n",
       " '_etag',\n",
       " '_is_delete_marker',\n",
       " '_is_latest',\n",
       " '_last_modified',\n",
       " '_metadata',\n",
       " '_object_name',\n",
       " '_owner_id',\n",
       " '_owner_name',\n",
       " '_size',\n",
       " '_storage_class',\n",
       " '_version_id',\n",
       " 'bucket_name',\n",
       " 'content_type',\n",
       " 'etag',\n",
       " 'fromxml',\n",
       " 'is_delete_marker',\n",
       " 'is_dir',\n",
       " 'is_latest',\n",
       " 'last_modified',\n",
       " 'metadata',\n",
       " 'object_name',\n",
       " 'owner_id',\n",
       " 'owner_name',\n",
       " 'size',\n",
       " 'storage_class',\n",
       " 'version_id']"
      ]
     },
     "execution_count": 144,
     "metadata": {},
     "output_type": "execute_result"
    }
   ],
   "source": [
    "dir(\n",
    "    client.stat_object(\n",
    "        bucket_name=\"feed_references\",\n",
    "        object_name=\"60413cd1bb43dcf1d22c274b/goldmax-goldfinder-sibot-analyzing-nobelium-malware\",\n",
    "    )\n",
    ")"
   ]
  },
  {
   "cell_type": "code",
   "execution_count": 139,
   "id": "7169857b-43ac-4b0d-b1d3-9314c18bfb8f",
   "metadata": {},
   "outputs": [
    {
     "name": "stdout",
     "output_type": "stream",
     "text": [
      "Help on method stat_object in module minio.api:\n",
      "\n",
      "stat_object(bucket_name, object_name, ssec=None, version_id=None, extra_query_params=None) method of minio.api.Minio instance\n",
      "    Get object information and metadata of an object.\n",
      "    \n",
      "    :param bucket_name: Name of the bucket.\n",
      "    :param object_name: Object name in the bucket.\n",
      "    :param ssec: Server-side encryption customer key.\n",
      "    :param version_id: Version ID of the object.\n",
      "    :param extra_query_params: Extra query parameters for advanced usage.\n",
      "    :return: :class:`Object <Object>`.\n",
      "    \n",
      "    Example::\n",
      "        # Get object information.\n",
      "        result = client.stat_object(\"my-bucket\", \"my-object\")\n",
      "    \n",
      "        # Get object information of version-ID.\n",
      "        result = client.stat_object(\n",
      "            \"my-bucket\", \"my-object\",\n",
      "            version_id=\"dfbd25b3-abec-4184-a4e8-5a35a5c1174d\",\n",
      "        )\n",
      "    \n",
      "        # Get SSE-C encrypted object information.\n",
      "        result = client.stat_object(\n",
      "            \"my-bucket\", \"my-object\",\n",
      "            ssec=SseCustomerKey(b\"32byteslongsecretkeymustprovided\"),\n",
      "        )\n",
      "\n"
     ]
    }
   ],
   "source": [
    "help(client.stat_object)"
   ]
  },
  {
   "cell_type": "markdown",
   "id": "8f6411cc-0350-47aa-9d35-673719747417",
   "metadata": {},
   "source": [
    "# get"
   ]
  },
  {
   "cell_type": "markdown",
   "id": "549c767f-6cf4-40d2-a4b1-330c4b9b18f9",
   "metadata": {},
   "source": [
    "---"
   ]
  },
  {
   "cell_type": "code",
   "execution_count": null,
   "id": "7d264920-f7b3-43af-83b8-1deb7feeea73",
   "metadata": {},
   "outputs": [],
   "source": [
    "FeedReference(feeds)"
   ]
  },
  {
   "cell_type": "code",
   "execution_count": 32,
   "id": "2127c613-5559-4fdd-87a9-85ac9770ee1a",
   "metadata": {},
   "outputs": [
    {
     "data": {
      "text/plain": [
       "<urllib3.response.HTTPResponse at 0x12bc71d68>"
      ]
     },
     "execution_count": 32,
     "metadata": {},
     "output_type": "execute_result"
    }
   ],
   "source": [
    "client.get_object(\n",
    "    bucket_name=\"feed_references\",\n",
    "    object_name=\"546fc7bf11d4083bc021c37f/operation_doubletap.html\",\n",
    ")"
   ]
  },
  {
   "cell_type": "code",
   "execution_count": 22,
   "id": "0f37dcb2-d4eb-4016-819f-c7dcc781728b",
   "metadata": {},
   "outputs": [],
   "source": [
    "# feeds.first()"
   ]
  },
  {
   "cell_type": "code",
   "execution_count": 23,
   "id": "2e4e52cf-af8d-4684-a083-0ad67bf03e25",
   "metadata": {},
   "outputs": [],
   "source": [
    "references = FeedReferences(feeds.first(), client)"
   ]
  },
  {
   "cell_type": "code",
   "execution_count": 24,
   "id": "6fb74c03-01d6-414c-a184-59ef552fc1e7",
   "metadata": {},
   "outputs": [
    {
     "data": {
      "text/html": [
       "<table>\n",
       "<tbody>\n",
       "<tr><td>https://www.microsoft.com/security/blog/2021/03/02/hafnium-targeting-exchange-servers/                                                     </td><td>(&#x27;www.microsoft.com&#x27;, &#x27;hafnium-targeting-exchange-servers&#x27;)                                                  </td></tr>\n",
       "<tr><td>https://www.volexity.com/blog/2021/03/02/active-exploitation-of-microsoft-exchange-zero-day-vulnerabilities/                               </td><td>(&#x27;www.volexity.com&#x27;, &#x27;active-exploitation-of-microsoft-exchange-zero-day-vulnerabilities&#x27;)                   </td></tr>\n",
       "<tr><td>https://us-cert.cisa.gov/ncas/alerts/aa21-062a                                                                                             </td><td>(&#x27;us-cert.cisa.gov&#x27;, &#x27;aa21-062a&#x27;)                                                                            </td></tr>\n",
       "<tr><td>https://unit42.paloaltonetworks.com/microsoft-exchange-server-vulnerabilities/                                                             </td><td>(&#x27;unit42.paloaltonetworks.com&#x27;, &#x27;microsoft-exchange-server-vulnerabilities&#x27;)                                 </td></tr>\n",
       "<tr><td>https://www.fireeye.com/blog/threat-research/2021/03/detection-response-to-exploitation-of-microsoft-exchange-zero-day-vulnerabilities.html</td><td>(&#x27;www.fireeye.com&#x27;, &#x27;detection-response-to-exploitation-of-microsoft-exchange-zero-day-vulnerabilities.html&#x27;)</td></tr>\n",
       "<tr><td>https://github.com/cert-lv/exchange_webshell_detection                                                                                     </td><td>(&#x27;github.com&#x27;, &#x27;exchange_webshell_detection&#x27;)                                                                </td></tr>\n",
       "<tr><td>https://github.com/nsacyber/Mitigating-Web-Shells                                                                                          </td><td>(&#x27;github.com&#x27;, &#x27;Mitigating-Web-Shells&#x27;)                                                                      </td></tr>\n",
       "<tr><td>https://blog.truesec.com/2021/03/07/exchange-zero-day-proxylogon-and-hafnium/                                                              </td><td>(&#x27;blog.truesec.com&#x27;, &#x27;exchange-zero-day-proxylogon-and-hafnium&#x27;)                                             </td></tr>\n",
       "<tr><td>https://twitter.com/SBousseaden/status/1368241345454870528                                                                                 </td><td>(&#x27;twitter.com&#x27;, &#x27;1368241345454870528&#x27;)                                                                       </td></tr>\n",
       "<tr><td>https://twitter.com/JohnLaTwC/status/1368952992221700096                                                                                   </td><td>(&#x27;twitter.com&#x27;, &#x27;1368952992221700096&#x27;)                                                                       </td></tr>\n",
       "</tbody>\n",
       "</table><p>Showing 10 of 12 rows"
      ],
      "text/plain": [
       "[('https://www.microsoft.com/security/blog/2021/03/02/hafnium-targeting-exchange-servers/', ('www.microsoft.com', 'hafnium-targeting-exchange-servers')), ('https://www.volexity.com/blog/2021/03/02/active-exploitation-of-microsoft-exchange-zero-day-vulnerabilities/', ('www.volexity.com', 'active-exploitation-of-microsoft-exchange-zero-day-vulnerabilities')), ('https://us-cert.cisa.gov/ncas/alerts/aa21-062a', ('us-cert.cisa.gov', 'aa21-062a')), ('https://unit42.paloaltonetworks.com/microsoft-exchange-server-vulnerabilities/', ('unit42.paloaltonetworks.com', 'microsoft-exchange-server-vulnerabilities')), ('https://www.fireeye.com/blog/threat-research/2021/03/detection-response-to-exploitation-of-microsoft-exchange-zero-day-vulnerabilities.html', ('www.fireeye.com', 'detection-response-to-exploitation-of-microsoft-exchange-zero-day-vulnerabilities.html')), ('https://github.com/cert-lv/exchange_webshell_detection', ('github.com', 'exchange_webshell_detection')), ('https://github.com/nsacyber/Mitigating-Web-Shells', ('github.com', 'Mitigating-Web-Shells')), ('https://blog.truesec.com/2021/03/07/exchange-zero-day-proxylogon-and-hafnium/', ('blog.truesec.com', 'exchange-zero-day-proxylogon-and-hafnium')), ('https://twitter.com/SBousseaden/status/1368241345454870528', ('twitter.com', '1368241345454870528')), ('https://twitter.com/JohnLaTwC/status/1368952992221700096', ('twitter.com', '1368952992221700096')), ('https://github.com/microsoft/CSS-Exchange/tree/main/Security', ('github.com', 'Security')), ('https://media.defense.gov/2020/Jun/09/2002313081/-1/-1/0/CSI-DETECT-AND-PREVENT-WEB-SHELL-MALWARE-20200422.PDF', ('media.defense.gov', 'CSI-DETECT-AND-PREVENT-WEB-SHELL-MALWARE-20200422.PDF'))]"
      ]
     },
     "execution_count": 24,
     "metadata": {},
     "output_type": "execute_result"
    }
   ],
   "source": [
    "seq(references.feed_references).map(lambda url: (url, FeedReferences.extract(url)))"
   ]
  },
  {
   "cell_type": "code",
   "execution_count": 25,
   "id": "fc67cc00-fb38-4e21-a16f-3cfbf131c50c",
   "metadata": {},
   "outputs": [
    {
     "data": {
      "text/plain": [
       "<generator object Minio._list_objects at 0x12abe65c8>"
      ]
     },
     "execution_count": 25,
     "metadata": {},
     "output_type": "execute_result"
    }
   ],
   "source": [
    "client.list_objects(\n",
    "    bucket_name=\"feed_references\", prefix=\"546fc7bf11d4083bc021c37f\", recursive=True\n",
    ")"
   ]
  },
  {
   "cell_type": "code",
   "execution_count": 13,
   "id": "e7fa211e-3b23-44e3-9fc2-25fd71a31262",
   "metadata": {},
   "outputs": [
    {
     "data": {
      "text/html": [
       "<table>\n",
       "<tbody>\n",
       "<tr><td>__class__</td><td>__delattr__</td><td>__dict__</td><td>__dir__</td><td>__doc__</td><td>__eq__</td><td>__format__</td><td>__ge__</td><td>__getattribute__</td><td>__gt__</td><td>__hash__</td><td>__init__</td><td>__init_subclass__</td><td>__le__</td><td>__lt__</td><td>__module__</td><td>__ne__</td><td>__new__</td><td>__reduce__</td><td>__reduce_ex__</td><td>__repr__</td><td>__setattr__</td><td>__sizeof__</td><td>__str__</td><td>__subclasshook__</td><td>__weakref__</td><td>_bucket_name</td><td>_content_type</td><td>_etag</td><td>_is_delete_marker</td><td>_is_latest</td><td>_last_modified</td><td>_metadata</td><td>_object_name</td><td>_owner_id</td><td>_owner_name</td><td>_size</td><td>_storage_class</td><td>_version_id</td><td>bucket_name</td><td>content_type</td><td>etag</td><td>fromxml</td><td>is_delete_marker</td><td>is_dir</td><td>is_latest</td><td>last_modified</td><td>metadata</td><td>object_name</td><td>owner_id</td><td>owner_name</td><td>size</td><td>storage_class</td><td>version_id</td></tr>\n",
       "</tbody>\n",
       "</table>"
      ],
      "text/plain": [
       "[['__class__', '__delattr__', '__dict__', '__dir__', '__doc__', '__eq__', '__format__', '__ge__', '__getattribute__', '__gt__', '__hash__', '__init__', '__init_subclass__', '__le__', '__lt__', '__module__', '__ne__', '__new__', '__reduce__', '__reduce_ex__', '__repr__', '__setattr__', '__sizeof__', '__str__', '__subclasshook__', '__weakref__', '_bucket_name', '_content_type', '_etag', '_is_delete_marker', '_is_latest', '_last_modified', '_metadata', '_object_name', '_owner_id', '_owner_name', '_size', '_storage_class', '_version_id', 'bucket_name', 'content_type', 'etag', 'fromxml', 'is_delete_marker', 'is_dir', 'is_latest', 'last_modified', 'metadata', 'object_name', 'owner_id', 'owner_name', 'size', 'storage_class', 'version_id']]"
      ]
     },
     "execution_count": 13,
     "metadata": {},
     "output_type": "execute_result"
    }
   ],
   "source": [
    "seq(\n",
    "    client.list_objects(\n",
    "        bucket_name=\"feed_references\", prefix=\"546fc7bf11d4083bc021c37f\", recursive=True\n",
    "    )\n",
    ").map(lambda obj: dir(obj))"
   ]
  },
  {
   "cell_type": "code",
   "execution_count": 14,
   "id": "9e71a771-bbc1-4f67-9331-23c4fd2a06fa",
   "metadata": {},
   "outputs": [
    {
     "data": {
      "text/html": [
       "<table>\n",
       "<tbody>\n",
       "<tr><td>.DS_Store                </td><td>False</td></tr>\n",
       "<tr><td>546fc7bf11d4083bc021c37f/</td><td>True </td></tr>\n",
       "<tr><td>5473709d11d4083bc021c387/</td><td>True </td></tr>\n",
       "<tr><td>547e0a9511d4080d5a98d83f/</td><td>True </td></tr>\n",
       "<tr><td>548885ef11d40843c065f6ee/</td><td>True </td></tr>\n",
       "<tr><td>54948dda11d408634421e4e0/</td><td>True </td></tr>\n",
       "<tr><td>54a12d6311d4080471a1a386/</td><td>True </td></tr>\n",
       "<tr><td>54b6b08d11d4080471a1a38e/</td><td>True </td></tr>\n",
       "<tr><td>54b6c01611d4080471a1a390/</td><td>True </td></tr>\n",
       "<tr><td>54bd4b0411d4087235fb7130/</td><td>True </td></tr>\n",
       "</tbody>\n",
       "</table><p>Showing 10 of 2697 rows"
      ],
      "text/plain": [
       "[('.DS_Store', False), ('546fc7bf11d4083bc021c37f/', True), ('5473709d11d4083bc021c387/', True), ('547e0a9511d4080d5a98d83f/', True), ('548885ef11d40843c065f6ee/', True), ('54948dda11d408634421e4e0/', True), ('54a12d6311d4080471a1a386/', True), ('54b6b08d11d4080471a1a38e/', True), ('54b6c01611d4080471a1a390/', True), ('54bd4b0411d4087235fb7130/', True), ('54c7e17b11d4085eb82e0597/', True), ('54c7e1e811d4085eb82e0598/', True), ('54cbf01511d4081fc5708fc4/', True), ('54cbfc7a11d4081fc5708fc6/', True), ('54d0489a11d4083acf970926/', True), ('54d1106411d4083acf97092a/', True), ('54d30ccc11d408167c9dea83/', True), ('54d5027011d408112979ce3a/', True), ('54d548f911d4081e0c545af7/', True), ('54d7adee11d40853d8e13c8d/', True), ('54d7af3c11d40853d8e13c8e/', True), ('54d7b04c11d40853d8e13c8f/', True), ('54d7b16511d40853d8e13c90/', True), ('54d9536811d4082156763b2f/', True), ('54d99f9811d4082833472e37/', True), ('54daaa0813432a45137cd8d3/', True), ('54dae10413432a48948a23ad/', True), ('54db8dce13432a4bba167243/', True), ('54db933913432a4bba167244/', True), ('54dbe64713432a511777bea9/', True), ('54dc090813432a511777bead/', True), ('54dd0b8a13432a71f80a5257/', True), ('54e7606d13432a13381b37f8/', True), ('54e7610d13432a12badec7e5/', True), ('54e7650013432a12badec7e7/', True), ('54e76c9813432a1304b1a5c9/', True), ('54ed25fb13432a130fcdc1ab/', True), ('54ee63dc13432a12badec7ec/', True), ('54f09d6613432a4b0412de4e/', True), ('54f0a14313432a4b0412de4f/', True), ('54f649b413432a7ab0187afb/', True), ('54f7475713432a7ab3105f1a/', True), ('54f7805313432a7aaf8755f7/', True), ('54fa039b13432a1659b26558/', True), ('55006e5d13432a032406d7b3/', True), ('5501f88313432a032227f917/', True), ('55024d3913432a05a47b5c1c/', True), ('5503110213432a032311abe6/', True), ('55033d4e13432a135890e089/', True), ('55075b2613432a2776f3cfcd/', True), ('5511966113432a4db2baad5a/', True), ('551196f013432a4db389652c/', True), ('5515929c13432a4db1f1c1f0/', True), ('5515958d13432a4dac866822/', True), ('551ac68513432a38d14a0cbd/', True), ('552000a213432a3a1f545b00/', True), ('5522ec0f13432a68f9b3d17a/', True), ('552329e913432a68f9b3d17b/', True), ('5523332813432a68f9b3d17c/', True), ('5524271d13432a714ff499f1/', True), ('55246d9313432a055855fdc0/', True), ('5525528e13432a055e241313/', True), ('5526b69b13432a0f2efca29d/', True), ('5526ba3213432a0f48afdf60/', True), ('5528128813432a2101d757b9/', True), ('5528132f13432a2102724d34/', True), ('553467b0b45ff535803ffd5c/', True), ('5534726ab45ff539c79fe735/', True), ('55397fb7b45ff57574148b11/', True), ('553e18f9b45ff54b64148b45/', True), ('553e9b15b45ff55766148b3f/', True), ('55411961b45ff50340148b1a/', True), ('5543b850b45ff525dd8efa19/', True), ('5543ca44b45ff52a648efa35/', True), ('5543ccc4b45ff52b968efa12/', True), ('5544b973b45ff539248efa15/', True), ('5544c0d3b45ff53b128efa6b/', True), ('5553e5f3b45ff54908641972/', True), ('5554c14cb45ff5570264199e/', True), ('55550891b45ff566ef6419a6/', True), ('55561e6db45ff57afd641979/', True), ('555a772bb45ff55497b42359/', True), ('555b6414b45ff5650e2e4e03/', True), ('555b9f1db45ff5799ee5b43f/', True), ('555be98eb45ff507dbe5b426/', True), ('555cc399b45ff5216fe5b426/', True), ('555d0e09b45ff55ef5e5b42b/', True), ('555e5ad4b45ff57a89e5b43c/', True), ('55648dc4b45ff53c71e5b434/', True), ('5564abe3b45ff53f21e5b42f/', True), ('5564c6d0b45ff54313e5b435/', True), ('5564c9edb45ff543aee5b437/', True), ('5567543db45ff5037f003f9d/', True), ('556766f8b45ff506ec003f8a/', True), ('5568a7b3b45ff53512004082/', True), ('556c9833b45ff50683003f8b/', True), ('556cfd52b45ff53cabcfbb9c/', True), ('556cfdfab45ff53cf4cfbb8c/', True), ('556e06fcb45ff555a6cfbba1/', True), ('556f303cb45ff5182ecfbb8c/', True), ...]"
      ]
     },
     "execution_count": 14,
     "metadata": {},
     "output_type": "execute_result"
    }
   ],
   "source": [
    "seq(client.list_objects(bucket_name=\"feed_references\")).map(\n",
    "    lambda obj: (obj.object_name, obj.is_dir)\n",
    ")"
   ]
  },
  {
   "cell_type": "code",
   "execution_count": 177,
   "id": "de4cea66-0477-424f-9c2c-a82201283796",
   "metadata": {},
   "outputs": [
    {
     "data": {
      "text/plain": [
       "['546fc7bf11d4083bc021c37f/operation_doubletap.html']"
      ]
     },
     "execution_count": 177,
     "metadata": {},
     "output_type": "execute_result"
    }
   ],
   "source": [
    "# list all objects under dictionary\n",
    "seq(\n",
    "    client.list_objects(\n",
    "        bucket_name=\"feed_references\", prefix=\"546fc7bf11d4083bc021c37f\", recursive=True\n",
    "    )\n",
    ").map(lambda obj: obj.object_name)"
   ]
  },
  {
   "cell_type": "markdown",
   "id": "5f01eb8e-23e9-4a58-9d6a-9fc66b4bd947",
   "metadata": {},
   "source": [
    "---"
   ]
  },
  {
   "cell_type": "markdown",
   "id": "bab6d454-736f-4194-a4d9-fb2957b907be",
   "metadata": {},
   "source": [
    "# Todo: Refactor with readability\n",
    "- https://github.com/buriy/python-readability (python)\n",
    "- https://github.com/mozilla/readability (nodejs)"
   ]
  },
  {
   "cell_type": "code",
   "execution_count": 74,
   "id": "638518cb-b044-4bd4-b0ae-5a834ddeb311",
   "metadata": {},
   "outputs": [],
   "source": [
    "# with open(\"./reports/546fc7bf11d4083bc021c37f/operation_doubletap.html\", \"r\") as f:\n",
    "with open(\n",
    "    \"../data/hellokitty-ransomware-lacks-stealth-but-still-strikes-home.html\", \"r\"\n",
    ") as f:\n",
    "    t = f.read()"
   ]
  },
  {
   "cell_type": "code",
   "execution_count": 75,
   "id": "313b99c3-e5c0-4e1f-b4c1-80718b6792f1",
   "metadata": {},
   "outputs": [],
   "source": [
    "from readability import Document"
   ]
  },
  {
   "cell_type": "code",
   "execution_count": 76,
   "id": "93164e5e-1b72-4439-b245-a0223f7a26b1",
   "metadata": {},
   "outputs": [],
   "source": [
    "doc = Document(t)"
   ]
  },
  {
   "cell_type": "code",
   "execution_count": 81,
   "id": "d8f99090-43f0-45aa-9a42-3352560ff919",
   "metadata": {},
   "outputs": [
    {
     "data": {
      "text/plain": [
       "'HelloKitty Ransomware Lacks Stealth, But Still Strikes Home - SentinelLabs'"
      ]
     },
     "execution_count": 81,
     "metadata": {},
     "output_type": "execute_result"
    }
   ],
   "source": [
    "doc.title()"
   ]
  },
  {
   "cell_type": "code",
   "execution_count": 77,
   "id": "f7cb4eed-cecb-4e6b-b705-b0d3a3484a8a",
   "metadata": {},
   "outputs": [
    {
     "data": {
      "text/plain": [
       "'<html><body><div><section class=\"entry-content \" itemprop=\"articleBody\">\\n\\t\\t\\t\\t\\n\\t\\t\\t\\t<p>Game studio CD Projekt Red recently <a href=\"https://twitter.com/CDPROJEKTRED/status/1359048125403590660/photo/1\" target=\"_blank\" rel=\"noopener noreferrer\">disclosed</a> that it became a victim of a targeted, highly-impactful ransomware. In the days following the disclosure, it was revealed that the ransomware family most likely behind the attack was “HelloKitty”.</p>\\n<p><img loading=\"lazy\" src=\"https://labs.sentinelone.com/wp-content/uploads/2021/03/cdprojekt.jpg\" alt=\"\" class=\"alignnone size-full wp-image-28576\" srcset=\"https://labs.sentinelone.com/wp-content/uploads/2021/03/cdprojekt.jpg 936w, https://labs.sentinelone.com/wp-content/uploads/2021/03/cdprojekt-300x155.jpg 300w, https://labs.sentinelone.com/wp-content/uploads/2021/03/cdprojekt-768x397.jpg 768w, https://labs.sentinelone.com/wp-content/uploads/2021/03/cdprojekt-96x50.jpg 96w\" sizes=\"(max-width: 936px) 100vw, 936px\"></p>\\n<p>HelloKitty is a ransomware family that emerged in late 2020. While it lacks the sophistication of some of the more well-known families such as Ryuk, REvil, and Conti, it has nevertheless struck some notable targets, including CEMIG0. In this post, we analyse a recent HelloKitty sample and outline the basic behaviors and traits associated with this family of ransomware.</p>\\n<h2>Execution and Behavior</h2>\\n<p>The “HelloKitty” name is based on internal mutex names, which are apparent upon execution.</p>\\n<p><img loading=\"lazy\" src=\"https://labs.sentinelone.com/wp-content/uploads/2021/03/2-execution.jpg\" alt=\"\" class=\"alignnone size-full wp-image-28571\" srcset=\"https://labs.sentinelone.com/wp-content/uploads/2021/03/2-execution.jpg 936w, https://labs.sentinelone.com/wp-content/uploads/2021/03/2-execution-300x61.jpg 300w, https://labs.sentinelone.com/wp-content/uploads/2021/03/2-execution-768x156.jpg 768w, https://labs.sentinelone.com/wp-content/uploads/2021/03/2-execution-96x19.jpg 96w\" sizes=\"(max-width: 936px) 100vw, 936px\"></p>\\n<p>While still somewhat unclear, current intelligence indicates that the primary delivery method of HelloKitty binaries is via phish email or via secondary infection in conjunction with other malware.</p>\\n<p>Once launched, HelloKitty will attempt to disable and terminate a number of processes and services so as to reduce interference with the encryption process. This includes processes and services associated with IIS, MSSQL, Quickbooks, Sharepoint, and more. These actions are carried out via <code>taskkill.exe</code> and <code>net.exe</code>.</p>\\n<p>In the analyzed sample, this is all done in a very non-stealthy manner. All spawned CMD windows are in the foreground and fully visible. This ‘lack of discreteness’ is atypical for modern ransomware, or any successful malware, for that matter.</p>\\n<p><img loading=\"lazy\" src=\"https://labs.sentinelone.com/wp-content/uploads/2021/03/3.-noisyprocspng.jpg\" alt=\"\" class=\"alignnone size-full wp-image-28572\" srcset=\"https://labs.sentinelone.com/wp-content/uploads/2021/03/3.-noisyprocspng.jpg 1344w, https://labs.sentinelone.com/wp-content/uploads/2021/03/3.-noisyprocspng-300x175.jpg 300w, https://labs.sentinelone.com/wp-content/uploads/2021/03/3.-noisyprocspng-1024x596.jpg 1024w, https://labs.sentinelone.com/wp-content/uploads/2021/03/3.-noisyprocspng-768x447.jpg 768w, https://labs.sentinelone.com/wp-content/uploads/2021/03/3.-noisyprocspng-1140x663.jpg 1140w, https://labs.sentinelone.com/wp-content/uploads/2021/03/3.-noisyprocspng-1200x698.jpg 1200w, https://labs.sentinelone.com/wp-content/uploads/2021/03/3.-noisyprocspng-96x56.jpg 96w\" sizes=\"(max-width: 1344px) 100vw, 1344px\"></p>\\n<p>A full list of processes from the analyzed sample are listed below:</p>\\n<pre>\\ndsa*\\nNtrtsca\\nds_moni\\nNotifie\\nTmListe\\niVPAgen\\nCNTAoSM\\nIBM*\\nbes10*\\nblack*\\nrobo*\\ncopy*\\nstore.e\\nsql*\\nvee*\\nwrsa*\\nwrsa.ex\\npostg*\\nsage*\\nMSSQLServerADHelper100\\nMSSQL$ISARS\\nMSSQL$MSFW\\nSQLAgent$ISARS\\nSQLAgent$MSFW\\nSQLBrowser\\nReportServer$ISARS\\nSQLWriter\\nWinDefend\\nmr2kserv\\nMSExchangeADTopology\\nMSExchangeFBA\\nMSExchangeIS\\nMSExchangeSA\\nShadowProtectSvc\\nSPAdminV4\\nSPTimerV4\\nSPTraceV4\\nSPUserCodeV4\\nSPWriterV4\\nSPSearch4\\nIISADMIN\\nfirebirdguardiandefaultinstance\\nibmiasrw\\nQBCFMonitorService\\nQBVSS\\nQBPOSDBServiceV12\\n\"IBM Domino Server(CProgramFilesIBMDominodata)\"\\n\"IBM Domino Diagnostics(CProgramFilesIBMDomino)\"\\n\"Simply Accounting Database Connection Manager\"\\nQuickBooksDB1\\nQuickBooksDB2\\nQuickBooksDB3\\nQuickBooksDB4\\nQuickBooksDB5\\nQuickBooksDB6\\nQuickBooksDB7\\nQuickBooksDB8\\nQuickBooksDB9\\nQuickBooksDB10\\nQuickBooksDB11\\nQuickBooksDB12\\nQuickBooksDB13\\nQuickBooksDB14\\nQuickBooksDB15\\nQuickBooksDB16\\nQuickBooksDB17\\nQuickBooksDB18\\nQuickBooksDB19\\nQuickBooksDB20\\nQuickBooksDB21\\nQuickBooksDB22\\nQuickBooksDB23\\nQuickBooksDB24\\nQuickBooksDB25\\n</pre>\\n<p>Additional processes and services that are terminated are identified via PID. For example:</p>\\n<p><code>taskkill.exe /f /PID \"8512\"</code><br>\\n<code>taskkill.exe /f /PID \"8656\"</code></p>\\n<p>If HelloKitty is unable to stop any specific processes or services, it will leverage the Windows Restart Manager API to further assist in termination.</p>\\n<p><img loading=\"lazy\" src=\"https://labs.sentinelone.com/wp-content/uploads/2021/03/5-restart.jpg\" alt=\"\" class=\"alignnone size-full wp-image-28574\" srcset=\"https://labs.sentinelone.com/wp-content/uploads/2021/03/5-restart.jpg 936w, https://labs.sentinelone.com/wp-content/uploads/2021/03/5-restart-300x155.jpg 300w, https://labs.sentinelone.com/wp-content/uploads/2021/03/5-restart-768x397.jpg 768w, https://labs.sentinelone.com/wp-content/uploads/2021/03/5-restart-96x50.jpg 96w\" sizes=\"(max-width: 936px) 100vw, 936px\"></p>\\n<p>HelloKitty will also utilize WMI to gather system details and help identify running processes and any potentially problematic processes. This is done both by name and by PID. A number of examples are shown below:</p>\\n<pre>\\nstart iwbemservices::execquery - root\\\\cimv2 : select __path, processid, csname, caption, sessionid, threadcount, workingsetsize, kernelmodetime, usermodetime, parentprocessid from win32_process\\n\\nstart iwbemservices::execquery - root\\\\cimv2 : select __path, processid, csname, caption, sessionid, threadcount, workingsetsize, kernelmodetime, usermodetime, parentprocessid from win32_process where (  caption = \"store.exe\")\\n\\nstart iwbemservices::execquery - root\\\\cimv2 : select __path, processid, csname, caption, sessionid, threadcount, workingsetsize, kernelmodetime, usermodetime, parentprocessid from win32_process where (  caption = \"wrsa.exe\")\\n\\nstart iwbemservices::execquery - root\\\\cimv2 : select __path, processid, csname, caption, sessionid, threadcount, workingsetsize, kernelmodetime, usermodetime, parentprocessid from win32_process where (  processid = 3036)\\n\\nstart iwbemservices::execquery - root\\\\cimv2 : select __path, processid, csname, caption, sessionid, threadcount, workingsetsize, kernelmodetime, usermodetime, parentprocessid from win32_process where (  processid = 4460)\\n\\nstart iwbemservices::execquery - root\\\\cimv2 : select __path, processid, csname, caption, sessionid, threadcount, workingsetsize, kernelmodetime, usermodetime, parentprocessid from win32_process where (  processid = 3052)\\n\\nstart iwbemservices::execquery - root\\\\cimv2 : select __path, processid, csname, caption, sessionid, threadcount, workingsetsize, kernelmodetime, usermodetime, parentprocessid from win32_process where (  processid = 4476)\\n\\nstart iwbemservices::execquery - root\\\\cimv2 : select __path, processid, csname, caption, sessionid, threadcount, workingsetsize, kernelmodetime, usermodetime, parentprocessid from win32_process where (  processid = 1560)\\n\\nstart iwbemservices::execquery - root\\\\cimv2 : select __path, processid, csname, caption, sessionid, threadcount, workingsetsize, kernelmodetime, usermodetime, parentprocessid from win32_process where (  processid = 8124)\\n\\nstart iwbemservices::exe\\n</pre>\\n<h2>Encryption and Ransom Note</h2>\\n<p>Encryption is initiated and completed very quickly once applicable services and processes have been terminated. Specific encryption recipes and routines can vary across variants of HelloKitty. Generally speaking, they tend to use a combination of AES-256 &amp; RSA-2048 or even NTRU+AES-128.</p>\\n<p>Once encrypted, affected files receive the <code>.crypted</code> extension.</p>\\n<p><img loading=\"lazy\" src=\"https://labs.sentinelone.com/wp-content/uploads/2021/03/crypted.jpg\" alt=\"\" class=\"alignnone size-full wp-image-28577\" srcset=\"https://labs.sentinelone.com/wp-content/uploads/2021/03/crypted.jpg 936w, https://labs.sentinelone.com/wp-content/uploads/2021/03/crypted-300x110.jpg 300w, https://labs.sentinelone.com/wp-content/uploads/2021/03/crypted-768x282.jpg 768w, https://labs.sentinelone.com/wp-content/uploads/2021/03/crypted-96x35.jpg 96w\" sizes=\"(max-width: 936px) 100vw, 936px\"></p>\\n<p>Ransom notes are typically customized to directly reference the victim and victim’s environment. Victims are instructed to visit a TOR-based payment and support portal. The following example has been sanitized:</p>\\n<p><img loading=\"lazy\" src=\"https://labs.sentinelone.com/wp-content/uploads/2021/03/7.-ransomnote.jpg\" alt=\"\" class=\"alignnone size-full wp-image-28575\" srcset=\"https://labs.sentinelone.com/wp-content/uploads/2021/03/7.-ransomnote.jpg 936w, https://labs.sentinelone.com/wp-content/uploads/2021/03/7.-ransomnote-300x166.jpg 300w, https://labs.sentinelone.com/wp-content/uploads/2021/03/7.-ransomnote-768x425.jpg 768w, https://labs.sentinelone.com/wp-content/uploads/2021/03/7.-ransomnote-96x53.jpg 96w\" sizes=\"(max-width: 936px) 100vw, 936px\"></p>\\n<p>It is also important to note that as of this writing, the onion address associated with HelloKitty ransom notes is not active.</p>\\n<p><code>6x7dp6h3w6q3ugjv4yv5gycj3femb24kysgry5b44hhgfwc5ml5qrdad.onion</code></p>\\n<h2>Conclusion</h2>\\n<p>HelloKitty may be easier to spot than other modern ransomware families, but upon execution it is no less dangerous. There are currently no known ‘weaknesses’ in the encryption routines, and there are no thirdy-party decrypters available for the HelloKitty ransomware. Therefore, the only true defense is prevention. While this family does not appear to be actively leaking victim data at the moment, that could change at any point, in addition to them choosing to adopt some of the more recent extortion methods that go along with ransomware (DDoS).</p>\\n<p>Actors behind the more recent campaign(s) are reportedly attempting to auction the CD Projekt data off in various ‘underground’ forums. At present this sale of this data does appear to be legitimate. Time will tell if additional victim data is dealt with in the same way.</p>\\n<p>To protect yourself against HelloKitty, make sure you are armed with a modern Endpoint Security platform, which is configured correctly and up to date. The SentinelOne Singularity Platform is fully capable of preventing and detecting all malicious behaviors associated with the HelloKitty ransomware family.</p>\\n<h2>IOCs</h2>\\n<p><strong>SHA1</strong><br>\\nfadd8d7c13a18c251ded1f645ffea18a37f1c2de</p>\\n<p><strong>SHA256</strong><br>\\n501487b025f25ddf1ca32deb57a2b4db43ccf6635c1edc74b9cff54ce0e5bcfe</p>\\n<p><strong>MITRE ATT&amp;CK</strong><br>\\nData from Local System – <a href=\"https://attack.mitre.org/techniques/T1005/\" target=\"_blank\" rel=\"noopener noreferrer\">T1005</a><br>\\nModify Registry – <a href=\"https://attack.mitre.org/techniques/T1112/\" target=\"_blank\" rel=\"noopener noreferrer\">T1112</a><br>\\nQuery Registry – <a href=\"https://attack.mitre.org/techniques/T1012/\" target=\"_blank\" rel=\"noopener noreferrer\">T1012</a><br>\\nSystem Information Discovery – <a href=\"https://attack.mitre.org/techniques/T1082/\" target=\"_blank\" rel=\"noopener noreferrer\">T1082</a><br>\\nData Encrypted for Impact – <a href=\"https://attack.mitre.org/techniques/T1486/\" target=\"_blank\" rel=\"noopener noreferrer\">T1486</a><br>\\nFile Deletion – <a href=\"https://attack.mitre.org/techniques/T1070/004/\" target=\"_blank\" rel=\"noopener noreferrer\">T1070.004</a><br>\\nCommand and Scripting Interpreter: Windows Command Shell – <a href=\"https://attack.mitre.org/techniques/T1059/003/\" target=\"_blank\" rel=\"noopener noreferrer\">T1059.003</a><br>\\nWindows Management Instrumentation – <a href=\"https://attack.mitre.org/techniques/T1047/\" target=\"_blank\" rel=\"noopener noreferrer\">T1047</a></p>\\n<p class=\"post-views post-28566 entry-meta\">\\n\\t\\t\\t\\t<span class=\"post-views-icon dashicons dashicons-chart-bar\"></span>\\n\\t\\t\\t\\t<span class=\"post-views-label\">Post Views: </span>\\n\\t\\t\\t\\t<span class=\"post-views-count\">7,278</span>\\n\\t\\t\\t</p><p class=\"entry-tags\">\\n\\t\\t\\t\\t\\t\\t<a href=\"https://labs.sentinelone.com/tag/ransomware/\" rel=\"tag\">Ransomware</a>\\t\\t\\t\\t\\t</p>\\n\\t\\t\\t\\t\\t\\n\\t\\t\\t</section>\\n\\t\\t\\t\\n\\t\\t\\t\\n\\t\\t</div></body></html>'"
      ]
     },
     "execution_count": 77,
     "metadata": {},
     "output_type": "execute_result"
    }
   ],
   "source": [
    "doc.summary()"
   ]
  },
  {
   "cell_type": "code",
   "execution_count": 79,
   "id": "4cefaf62-b690-47bb-860a-db73b5893da8",
   "metadata": {},
   "outputs": [],
   "source": [
    "from IPython.core.display import display, HTML\n",
    "\n",
    "# display(HTML(\"<h1>Hello, world!</h1>\"))"
   ]
  },
  {
   "cell_type": "code",
   "execution_count": 80,
   "id": "5bec3dab-3a97-4def-bcf8-8ecffdf6c281",
   "metadata": {},
   "outputs": [
    {
     "data": {
      "text/html": [
       "<html><body><div><section class=\"entry-content \" itemprop=\"articleBody\">\n",
       "\t\t\t\t\n",
       "\t\t\t\t<p>Game studio CD Projekt Red recently <a href=\"https://twitter.com/CDPROJEKTRED/status/1359048125403590660/photo/1\" target=\"_blank\" rel=\"noopener noreferrer\">disclosed</a> that it became a victim of a targeted, highly-impactful ransomware. In the days following the disclosure, it was revealed that the ransomware family most likely behind the attack was “HelloKitty”.</p>\n",
       "<p><img loading=\"lazy\" src=\"https://labs.sentinelone.com/wp-content/uploads/2021/03/cdprojekt.jpg\" alt=\"\" class=\"alignnone size-full wp-image-28576\" srcset=\"https://labs.sentinelone.com/wp-content/uploads/2021/03/cdprojekt.jpg 936w, https://labs.sentinelone.com/wp-content/uploads/2021/03/cdprojekt-300x155.jpg 300w, https://labs.sentinelone.com/wp-content/uploads/2021/03/cdprojekt-768x397.jpg 768w, https://labs.sentinelone.com/wp-content/uploads/2021/03/cdprojekt-96x50.jpg 96w\" sizes=\"(max-width: 936px) 100vw, 936px\"></p>\n",
       "<p>HelloKitty is a ransomware family that emerged in late 2020. While it lacks the sophistication of some of the more well-known families such as Ryuk, REvil, and Conti, it has nevertheless struck some notable targets, including CEMIG0. In this post, we analyse a recent HelloKitty sample and outline the basic behaviors and traits associated with this family of ransomware.</p>\n",
       "<h2>Execution and Behavior</h2>\n",
       "<p>The “HelloKitty” name is based on internal mutex names, which are apparent upon execution.</p>\n",
       "<p><img loading=\"lazy\" src=\"https://labs.sentinelone.com/wp-content/uploads/2021/03/2-execution.jpg\" alt=\"\" class=\"alignnone size-full wp-image-28571\" srcset=\"https://labs.sentinelone.com/wp-content/uploads/2021/03/2-execution.jpg 936w, https://labs.sentinelone.com/wp-content/uploads/2021/03/2-execution-300x61.jpg 300w, https://labs.sentinelone.com/wp-content/uploads/2021/03/2-execution-768x156.jpg 768w, https://labs.sentinelone.com/wp-content/uploads/2021/03/2-execution-96x19.jpg 96w\" sizes=\"(max-width: 936px) 100vw, 936px\"></p>\n",
       "<p>While still somewhat unclear, current intelligence indicates that the primary delivery method of HelloKitty binaries is via phish email or via secondary infection in conjunction with other malware.</p>\n",
       "<p>Once launched, HelloKitty will attempt to disable and terminate a number of processes and services so as to reduce interference with the encryption process. This includes processes and services associated with IIS, MSSQL, Quickbooks, Sharepoint, and more. These actions are carried out via <code>taskkill.exe</code> and <code>net.exe</code>.</p>\n",
       "<p>In the analyzed sample, this is all done in a very non-stealthy manner. All spawned CMD windows are in the foreground and fully visible. This ‘lack of discreteness’ is atypical for modern ransomware, or any successful malware, for that matter.</p>\n",
       "<p><img loading=\"lazy\" src=\"https://labs.sentinelone.com/wp-content/uploads/2021/03/3.-noisyprocspng.jpg\" alt=\"\" class=\"alignnone size-full wp-image-28572\" srcset=\"https://labs.sentinelone.com/wp-content/uploads/2021/03/3.-noisyprocspng.jpg 1344w, https://labs.sentinelone.com/wp-content/uploads/2021/03/3.-noisyprocspng-300x175.jpg 300w, https://labs.sentinelone.com/wp-content/uploads/2021/03/3.-noisyprocspng-1024x596.jpg 1024w, https://labs.sentinelone.com/wp-content/uploads/2021/03/3.-noisyprocspng-768x447.jpg 768w, https://labs.sentinelone.com/wp-content/uploads/2021/03/3.-noisyprocspng-1140x663.jpg 1140w, https://labs.sentinelone.com/wp-content/uploads/2021/03/3.-noisyprocspng-1200x698.jpg 1200w, https://labs.sentinelone.com/wp-content/uploads/2021/03/3.-noisyprocspng-96x56.jpg 96w\" sizes=\"(max-width: 1344px) 100vw, 1344px\"></p>\n",
       "<p>A full list of processes from the analyzed sample are listed below:</p>\n",
       "<pre>\n",
       "dsa*\n",
       "Ntrtsca\n",
       "ds_moni\n",
       "Notifie\n",
       "TmListe\n",
       "iVPAgen\n",
       "CNTAoSM\n",
       "IBM*\n",
       "bes10*\n",
       "black*\n",
       "robo*\n",
       "copy*\n",
       "store.e\n",
       "sql*\n",
       "vee*\n",
       "wrsa*\n",
       "wrsa.ex\n",
       "postg*\n",
       "sage*\n",
       "MSSQLServerADHelper100\n",
       "MSSQL$ISARS\n",
       "MSSQL$MSFW\n",
       "SQLAgent$ISARS\n",
       "SQLAgent$MSFW\n",
       "SQLBrowser\n",
       "ReportServer$ISARS\n",
       "SQLWriter\n",
       "WinDefend\n",
       "mr2kserv\n",
       "MSExchangeADTopology\n",
       "MSExchangeFBA\n",
       "MSExchangeIS\n",
       "MSExchangeSA\n",
       "ShadowProtectSvc\n",
       "SPAdminV4\n",
       "SPTimerV4\n",
       "SPTraceV4\n",
       "SPUserCodeV4\n",
       "SPWriterV4\n",
       "SPSearch4\n",
       "IISADMIN\n",
       "firebirdguardiandefaultinstance\n",
       "ibmiasrw\n",
       "QBCFMonitorService\n",
       "QBVSS\n",
       "QBPOSDBServiceV12\n",
       "\"IBM Domino Server(CProgramFilesIBMDominodata)\"\n",
       "\"IBM Domino Diagnostics(CProgramFilesIBMDomino)\"\n",
       "\"Simply Accounting Database Connection Manager\"\n",
       "QuickBooksDB1\n",
       "QuickBooksDB2\n",
       "QuickBooksDB3\n",
       "QuickBooksDB4\n",
       "QuickBooksDB5\n",
       "QuickBooksDB6\n",
       "QuickBooksDB7\n",
       "QuickBooksDB8\n",
       "QuickBooksDB9\n",
       "QuickBooksDB10\n",
       "QuickBooksDB11\n",
       "QuickBooksDB12\n",
       "QuickBooksDB13\n",
       "QuickBooksDB14\n",
       "QuickBooksDB15\n",
       "QuickBooksDB16\n",
       "QuickBooksDB17\n",
       "QuickBooksDB18\n",
       "QuickBooksDB19\n",
       "QuickBooksDB20\n",
       "QuickBooksDB21\n",
       "QuickBooksDB22\n",
       "QuickBooksDB23\n",
       "QuickBooksDB24\n",
       "QuickBooksDB25\n",
       "</pre>\n",
       "<p>Additional processes and services that are terminated are identified via PID. For example:</p>\n",
       "<p><code>taskkill.exe /f /PID \"8512\"</code><br>\n",
       "<code>taskkill.exe /f /PID \"8656\"</code></p>\n",
       "<p>If HelloKitty is unable to stop any specific processes or services, it will leverage the Windows Restart Manager API to further assist in termination.</p>\n",
       "<p><img loading=\"lazy\" src=\"https://labs.sentinelone.com/wp-content/uploads/2021/03/5-restart.jpg\" alt=\"\" class=\"alignnone size-full wp-image-28574\" srcset=\"https://labs.sentinelone.com/wp-content/uploads/2021/03/5-restart.jpg 936w, https://labs.sentinelone.com/wp-content/uploads/2021/03/5-restart-300x155.jpg 300w, https://labs.sentinelone.com/wp-content/uploads/2021/03/5-restart-768x397.jpg 768w, https://labs.sentinelone.com/wp-content/uploads/2021/03/5-restart-96x50.jpg 96w\" sizes=\"(max-width: 936px) 100vw, 936px\"></p>\n",
       "<p>HelloKitty will also utilize WMI to gather system details and help identify running processes and any potentially problematic processes. This is done both by name and by PID. A number of examples are shown below:</p>\n",
       "<pre>\n",
       "start iwbemservices::execquery - root\\cimv2 : select __path, processid, csname, caption, sessionid, threadcount, workingsetsize, kernelmodetime, usermodetime, parentprocessid from win32_process\n",
       "\n",
       "start iwbemservices::execquery - root\\cimv2 : select __path, processid, csname, caption, sessionid, threadcount, workingsetsize, kernelmodetime, usermodetime, parentprocessid from win32_process where (  caption = \"store.exe\")\n",
       "\n",
       "start iwbemservices::execquery - root\\cimv2 : select __path, processid, csname, caption, sessionid, threadcount, workingsetsize, kernelmodetime, usermodetime, parentprocessid from win32_process where (  caption = \"wrsa.exe\")\n",
       "\n",
       "start iwbemservices::execquery - root\\cimv2 : select __path, processid, csname, caption, sessionid, threadcount, workingsetsize, kernelmodetime, usermodetime, parentprocessid from win32_process where (  processid = 3036)\n",
       "\n",
       "start iwbemservices::execquery - root\\cimv2 : select __path, processid, csname, caption, sessionid, threadcount, workingsetsize, kernelmodetime, usermodetime, parentprocessid from win32_process where (  processid = 4460)\n",
       "\n",
       "start iwbemservices::execquery - root\\cimv2 : select __path, processid, csname, caption, sessionid, threadcount, workingsetsize, kernelmodetime, usermodetime, parentprocessid from win32_process where (  processid = 3052)\n",
       "\n",
       "start iwbemservices::execquery - root\\cimv2 : select __path, processid, csname, caption, sessionid, threadcount, workingsetsize, kernelmodetime, usermodetime, parentprocessid from win32_process where (  processid = 4476)\n",
       "\n",
       "start iwbemservices::execquery - root\\cimv2 : select __path, processid, csname, caption, sessionid, threadcount, workingsetsize, kernelmodetime, usermodetime, parentprocessid from win32_process where (  processid = 1560)\n",
       "\n",
       "start iwbemservices::execquery - root\\cimv2 : select __path, processid, csname, caption, sessionid, threadcount, workingsetsize, kernelmodetime, usermodetime, parentprocessid from win32_process where (  processid = 8124)\n",
       "\n",
       "start iwbemservices::exe\n",
       "</pre>\n",
       "<h2>Encryption and Ransom Note</h2>\n",
       "<p>Encryption is initiated and completed very quickly once applicable services and processes have been terminated. Specific encryption recipes and routines can vary across variants of HelloKitty. Generally speaking, they tend to use a combination of AES-256 &amp; RSA-2048 or even NTRU+AES-128.</p>\n",
       "<p>Once encrypted, affected files receive the <code>.crypted</code> extension.</p>\n",
       "<p><img loading=\"lazy\" src=\"https://labs.sentinelone.com/wp-content/uploads/2021/03/crypted.jpg\" alt=\"\" class=\"alignnone size-full wp-image-28577\" srcset=\"https://labs.sentinelone.com/wp-content/uploads/2021/03/crypted.jpg 936w, https://labs.sentinelone.com/wp-content/uploads/2021/03/crypted-300x110.jpg 300w, https://labs.sentinelone.com/wp-content/uploads/2021/03/crypted-768x282.jpg 768w, https://labs.sentinelone.com/wp-content/uploads/2021/03/crypted-96x35.jpg 96w\" sizes=\"(max-width: 936px) 100vw, 936px\"></p>\n",
       "<p>Ransom notes are typically customized to directly reference the victim and victim’s environment. Victims are instructed to visit a TOR-based payment and support portal. The following example has been sanitized:</p>\n",
       "<p><img loading=\"lazy\" src=\"https://labs.sentinelone.com/wp-content/uploads/2021/03/7.-ransomnote.jpg\" alt=\"\" class=\"alignnone size-full wp-image-28575\" srcset=\"https://labs.sentinelone.com/wp-content/uploads/2021/03/7.-ransomnote.jpg 936w, https://labs.sentinelone.com/wp-content/uploads/2021/03/7.-ransomnote-300x166.jpg 300w, https://labs.sentinelone.com/wp-content/uploads/2021/03/7.-ransomnote-768x425.jpg 768w, https://labs.sentinelone.com/wp-content/uploads/2021/03/7.-ransomnote-96x53.jpg 96w\" sizes=\"(max-width: 936px) 100vw, 936px\"></p>\n",
       "<p>It is also important to note that as of this writing, the onion address associated with HelloKitty ransom notes is not active.</p>\n",
       "<p><code>6x7dp6h3w6q3ugjv4yv5gycj3femb24kysgry5b44hhgfwc5ml5qrdad.onion</code></p>\n",
       "<h2>Conclusion</h2>\n",
       "<p>HelloKitty may be easier to spot than other modern ransomware families, but upon execution it is no less dangerous. There are currently no known ‘weaknesses’ in the encryption routines, and there are no thirdy-party decrypters available for the HelloKitty ransomware. Therefore, the only true defense is prevention. While this family does not appear to be actively leaking victim data at the moment, that could change at any point, in addition to them choosing to adopt some of the more recent extortion methods that go along with ransomware (DDoS).</p>\n",
       "<p>Actors behind the more recent campaign(s) are reportedly attempting to auction the CD Projekt data off in various ‘underground’ forums. At present this sale of this data does appear to be legitimate. Time will tell if additional victim data is dealt with in the same way.</p>\n",
       "<p>To protect yourself against HelloKitty, make sure you are armed with a modern Endpoint Security platform, which is configured correctly and up to date. The SentinelOne Singularity Platform is fully capable of preventing and detecting all malicious behaviors associated with the HelloKitty ransomware family.</p>\n",
       "<h2>IOCs</h2>\n",
       "<p><strong>SHA1</strong><br>\n",
       "fadd8d7c13a18c251ded1f645ffea18a37f1c2de</p>\n",
       "<p><strong>SHA256</strong><br>\n",
       "501487b025f25ddf1ca32deb57a2b4db43ccf6635c1edc74b9cff54ce0e5bcfe</p>\n",
       "<p><strong>MITRE ATT&amp;CK</strong><br>\n",
       "Data from Local System – <a href=\"https://attack.mitre.org/techniques/T1005/\" target=\"_blank\" rel=\"noopener noreferrer\">T1005</a><br>\n",
       "Modify Registry – <a href=\"https://attack.mitre.org/techniques/T1112/\" target=\"_blank\" rel=\"noopener noreferrer\">T1112</a><br>\n",
       "Query Registry – <a href=\"https://attack.mitre.org/techniques/T1012/\" target=\"_blank\" rel=\"noopener noreferrer\">T1012</a><br>\n",
       "System Information Discovery – <a href=\"https://attack.mitre.org/techniques/T1082/\" target=\"_blank\" rel=\"noopener noreferrer\">T1082</a><br>\n",
       "Data Encrypted for Impact – <a href=\"https://attack.mitre.org/techniques/T1486/\" target=\"_blank\" rel=\"noopener noreferrer\">T1486</a><br>\n",
       "File Deletion – <a href=\"https://attack.mitre.org/techniques/T1070/004/\" target=\"_blank\" rel=\"noopener noreferrer\">T1070.004</a><br>\n",
       "Command and Scripting Interpreter: Windows Command Shell – <a href=\"https://attack.mitre.org/techniques/T1059/003/\" target=\"_blank\" rel=\"noopener noreferrer\">T1059.003</a><br>\n",
       "Windows Management Instrumentation – <a href=\"https://attack.mitre.org/techniques/T1047/\" target=\"_blank\" rel=\"noopener noreferrer\">T1047</a></p>\n",
       "<p class=\"post-views post-28566 entry-meta\">\n",
       "\t\t\t\t<span class=\"post-views-icon dashicons dashicons-chart-bar\"></span>\n",
       "\t\t\t\t<span class=\"post-views-label\">Post Views: </span>\n",
       "\t\t\t\t<span class=\"post-views-count\">7,278</span>\n",
       "\t\t\t</p><p class=\"entry-tags\">\n",
       "\t\t\t\t\t\t<a href=\"https://labs.sentinelone.com/tag/ransomware/\" rel=\"tag\">Ransomware</a>\t\t\t\t\t</p>\n",
       "\t\t\t\t\t\n",
       "\t\t\t</section>\n",
       "\t\t\t\n",
       "\t\t\t\n",
       "\t\t</div></body></html>"
      ],
      "text/plain": [
       "<IPython.core.display.HTML object>"
      ]
     },
     "metadata": {},
     "output_type": "display_data"
    }
   ],
   "source": [
    "display(HTML(doc.summary()))"
   ]
  },
  {
   "cell_type": "code",
   "execution_count": 89,
   "id": "cc310f95-c520-4f64-9cd0-fe906ea6eceb",
   "metadata": {},
   "outputs": [
    {
     "data": {
      "text/plain": [
       "False"
      ]
     },
     "execution_count": 89,
     "metadata": {},
     "output_type": "execute_result"
    }
   ],
   "source": [
    "doc.xpath"
   ]
  },
  {
   "cell_type": "code",
   "execution_count": 91,
   "id": "efa6a843-e193-4aaa-b909-80d9032815c0",
   "metadata": {},
   "outputs": [
    {
     "name": "stderr",
     "output_type": "stream",
     "text": [
      "/Users/200722-csti-mac/Library/Caches/pypoetry/virtualenvs/magpie-j27h1SjX-py3.6/lib/python3.6/site-packages/readability/htmls.py:137: FutureWarning: The behavior of this method will change in future versions. Use specific 'len(elem)' or 'elem is not None' test instead.\n",
      "  raw_html = str_(tostring(doc.body or doc))\n"
     ]
    },
    {
     "data": {
      "text/plain": [
       "'b\\'<body class=\"post-template-default single single-post postid-28566 single-format-standard custom-background group-blog header-sticky\" itemscope=\"itemscope\" itemtype=\"http://schema.org/WebPage\">\\\\n\\\\n<div id=\"page\" class=\"site\">\\\\n\\\\n\\\\t<header id=\"masthead\" class=\"site-header site-header__default\" role=\"banner\" itemscope itemtype=\"http://schema.org/WPHeader\">\\\\n\\\\n\\\\t\\\\t<div class=\"container height-100\">\\\\n\\\\n\\\\t\\\\t\\\\t<div class=\"site-header__inner height-100\">\\\\n\\\\n\\\\t\\\\t\\\\t\\\\t<div class=\"site-branding height-100\">\\\\n\\\\n\\\\t\\\\t\\\\t\\\\t\\\\t<div class=\"display-table height-100\">\\\\n\\\\n\\\\t\\\\t\\\\t\\\\t\\\\t\\\\t<div class=\"display-table-cell va-middle\">\\\\n\\\\n\\\\t\\\\t\\\\t\\\\t\\\\t\\\\t\\\\t<div class=\"logo-img\">\\\\n\\\\t\\\\t\\\\t\\\\t\\\\t\\\\t\\\\t\\\\t\\\\n\\\\t\\\\t\\\\t\\\\t\\\\t\\\\t\\\\t\\\\t\\\\t\\\\t\\\\t\\\\t\\\\t\\\\t\\\\t\\\\t\\\\t\\\\t<a href=\"https://labs.sentinelone.com/\">\\\\n\\\\t\\\\t\\\\t\\\\t\\\\t\\\\t\\\\t\\\\t\\\\t\\\\t\\\\t<img src=\"https://labs.sentinelone.com/wp-content/uploads/2019/10/SentinelLabs_Logo_RGB_WhitePurp.png\" alt=\"SentinelLabs\">\\\\n\\\\t\\\\t\\\\t\\\\t\\\\t\\\\t\\\\t\\\\t\\\\t\\\\t</a>\\\\n\\\\t\\\\t\\\\t\\\\t\\\\t\\\\t\\\\t\\\\t\\\\t\\\\n\\\\t\\\\t\\\\t\\\\t\\\\t\\\\t\\\\t</div>\\\\n\\\\n\\\\t\\\\t\\\\t\\\\t\\\\t\\\\t</div>\\\\n\\\\n\\\\t\\\\t\\\\t\\\\t\\\\t</div>\\\\n\\\\n\\\\t\\\\t\\\\t\\\\t</div>\\\\t\\\\n\\\\n\\\\t\\\\t\\\\t\\\\t<div class=\"menu-toggle-wrapper height-100\">\\\\n\\\\n\\\\t\\\\t\\\\t\\\\t\\\\t<div class=\"display-table height-100\">\\\\n\\\\n\\\\t\\\\t\\\\t\\\\t\\\\t\\\\t<div class=\"display-table-cell va-middle\">\\\\n\\\\n\\\\t\\\\t\\\\t\\\\t\\\\t\\\\t\\\\t<span class=\"menu-toggle\"></span>\\\\n\\\\n\\\\t\\\\t\\\\t\\\\t\\\\t\\\\t</div>\\\\n\\\\n\\\\t\\\\t\\\\t\\\\t\\\\t</div>\\\\n\\\\n\\\\t\\\\t\\\\t\\\\t</div>\\\\n\\\\n\\\\t\\\\t\\\\t\\\\t<div class=\"nav-link-wrapper height-100\">\\\\n\\\\n\\\\t\\\\t\\\\t\\\\t\\\\t<div class=\"display-table height-100\">\\\\n\\\\n\\\\t\\\\t\\\\t\\\\t\\\\t\\\\t<div class=\"display-table-cell va-middle\">\\\\n\\\\n\\\\t\\\\t\\\\t\\\\t\\\\t\\\\t\\\\t\\\\t\\\\t\\\\t\\\\t\\\\t\\\\t\\\\t\\\\t<ul class=\"nav-link\">\\\\n\\\\t\\\\t\\\\t\\\\t\\\\t\\\\t\\\\t\\\\t\\\\t\\\\t\\\\t\\\\t\\\\t\\\\t\\\\t\\\\t\\\\t\\\\t\\\\t\\\\t\\\\t\\\\t\\\\t\\\\t\\\\t\\\\t\\\\t\\\\t\\\\t\\\\t<li class=\"nav-link__sosmed\">\\\\n\\\\t\\\\t\\\\t\\\\t\\\\t\\\\t\\\\t\\\\t\\\\t\\\\t\\\\t\\\\t<a class=\"link-sosmed-trigger sosmed-trigger\" href=\"#\"><i class=\"fa fa-share-alt\"></i></a>\\\\n\\\\n\\\\t\\\\t\\\\t\\\\t\\\\t\\\\t\\\\t\\\\t\\\\t\\\\t\\\\t\\\\t<ul class=\"link-sosmed\">\\\\n\\\\t\\\\t\\\\t\\\\t\\\\t\\\\t\\\\t\\\\t\\\\t\\\\t\\\\t\\\\t\\\\t\\\\t\\\\t\\\\t\\\\t\\\\t\\\\t\\\\t\\\\t\\\\t\\\\t\\\\t\\\\t\\\\t<li>\\\\n\\\\t\\\\t\\\\t\\\\t\\\\t\\\\t\\\\t\\\\t\\\\t\\\\t\\\\t\\\\t\\\\t\\\\t<a href=\"https://twitter.com/LabsSentinel\" target=\"_blank\" title=\"Twitter\">\\\\n\\\\t\\\\t\\\\t\\\\t\\\\t\\\\t\\\\t\\\\t\\\\t\\\\t\\\\t\\\\t\\\\t\\\\t\\\\t<i class=\"fa fa-twitter\"></i>\\\\n\\\\t\\\\t\\\\t\\\\t\\\\t\\\\t\\\\t\\\\t\\\\t\\\\t\\\\t\\\\t\\\\t\\\\t</a>\\\\n\\\\t\\\\t\\\\t\\\\t\\\\t\\\\t\\\\t\\\\t\\\\t\\\\t\\\\t\\\\t\\\\t</li>\\\\n\\\\t\\\\t\\\\t\\\\t\\\\t\\\\t\\\\t\\\\t\\\\t\\\\t\\\\t\\\\t\\\\t\\\\t\\\\t\\\\t\\\\t\\\\t\\\\t\\\\t\\\\t\\\\t\\\\t\\\\t\\\\t\\\\t<li>\\\\n\\\\t\\\\t\\\\t\\\\t\\\\t\\\\t\\\\t\\\\t\\\\t\\\\t\\\\t\\\\t\\\\t\\\\t<a href=\"https://www.linkedin.com/company/sentinelone\" title=\"LinkedIn\">\\\\n\\\\t\\\\t\\\\t\\\\t\\\\t\\\\t\\\\t\\\\t\\\\t\\\\t\\\\t\\\\t\\\\t\\\\t\\\\t<i class=\"fa fa-linkedin\"></i>\\\\n\\\\t\\\\t\\\\t\\\\t\\\\t\\\\t\\\\t\\\\t\\\\t\\\\t\\\\t\\\\t\\\\t\\\\t</a>\\\\n\\\\t\\\\t\\\\t\\\\t\\\\t\\\\t\\\\t\\\\t\\\\t\\\\t\\\\t\\\\t\\\\t</li>\\\\n\\\\t\\\\t\\\\t\\\\t\\\\t\\\\t\\\\t\\\\t\\\\t\\\\t\\\\t\\\\t\\\\t\\\\t\\\\t\\\\t\\\\t\\\\t\\\\t\\\\t\\\\t\\\\t\\\\t\\\\t\\\\t\\\\t<li>\\\\n\\\\t\\\\t\\\\t\\\\t\\\\t\\\\t\\\\t\\\\t\\\\t\\\\t\\\\t\\\\t\\\\t\\\\t<a href=\"https://app.slack.com/client/TQW3J2J3C/CR8SHCU0Y\" title=\"Slack\">\\\\n\\\\t\\\\t\\\\t\\\\t\\\\t\\\\t\\\\t\\\\t\\\\t\\\\t\\\\t\\\\t\\\\t\\\\t\\\\t<i class=\"fa fa-slack\"></i>\\\\n\\\\t\\\\t\\\\t\\\\t\\\\t\\\\t\\\\t\\\\t\\\\t\\\\t\\\\t\\\\t\\\\t\\\\t</a>\\\\n\\\\t\\\\t\\\\t\\\\t\\\\t\\\\t\\\\t\\\\t\\\\t\\\\t\\\\t\\\\t\\\\t</li>\\\\n\\\\t\\\\t\\\\t\\\\t\\\\t\\\\t\\\\t\\\\t\\\\t\\\\t\\\\t\\\\t\\\\t\\\\t\\\\t\\\\t\\\\t\\\\t\\\\t\\\\t\\\\t\\\\t\\\\t\\\\t\\\\t</ul>\\\\n\\\\t\\\\t\\\\t\\\\t\\\\t\\\\t\\\\t\\\\t\\\\t\\\\t\\\\t</li>\\\\n\\\\t\\\\t\\\\t\\\\t\\\\t\\\\t\\\\t\\\\t\\\\t\\\\t\\\\t\\\\t\\\\t\\\\t\\\\t\\\\t\\\\t\\\\t\\\\t\\\\t\\\\t\\\\t\\\\t\\\\t\\\\t\\\\t\\\\t\\\\t\\\\t\\\\t\\\\t\\\\t\\\\t\\\\t\\\\t\\\\t\\\\t\\\\t\\\\t\\\\t<li class=\"nav-link__search\">\\\\n\\\\n\\\\t\\\\t\\\\t\\\\t\\\\t\\\\t\\\\t\\\\t\\\\t\\\\t\\\\t\\\\t<a href=\"#\" class=\"link-search\"><i class=\"fa fa-search\"></i></a>\\\\n\\\\n\\\\t\\\\t\\\\t\\\\t\\\\t\\\\t\\\\t\\\\t\\\\t\\\\t\\\\t\\\\t<form method=\"get\" role=\"form\" class=\"search-form-header\" action=\"https://labs.sentinelone.com/\">\\\\n\\\\n\\\\t\\\\t\\\\t\\\\t\\\\t\\\\t\\\\t\\\\t\\\\t\\\\t\\\\t\\\\t\\\\t<input id=\"search-query\" type=\"text\" class=\"form-control search-header-input\" placeholder=\"To search type &amp; hit enter\" name=\"s\" value=\"\">\\\\n\\\\n\\\\t\\\\t\\\\t\\\\t\\\\t\\\\t\\\\t\\\\t\\\\t\\\\t\\\\t\\\\t</form>\\\\n\\\\n\\\\t\\\\t\\\\t\\\\t\\\\t\\\\t\\\\t\\\\t\\\\t\\\\t\\\\t</li>\\\\n\\\\t\\\\t\\\\t\\\\t\\\\t\\\\t\\\\t\\\\t\\\\t\\\\t\\\\t\\\\t\\\\t\\\\t\\\\t\\\\t\\\\t\\\\t\\\\t\\\\t\\\\t\\\\t\\\\t\\\\t\\\\t\\\\t\\\\t</ul>\\\\n\\\\t\\\\t\\\\t\\\\t\\\\t\\\\t\\\\t\\\\n\\\\t\\\\t\\\\t\\\\t\\\\t\\\\t</div>\\\\n\\\\n\\\\t\\\\t\\\\t\\\\t\\\\t</div>\\\\n\\\\n\\\\t\\\\t\\\\t\\\\t</div>\\\\n\\\\n\\\\t\\\\t\\\\t\\\\t<nav id=\"site-navigation\" class=\"main-navigation height-100\" role=\"navigation\">\\\\n\\\\n\\\\t\\\\t\\\\t\\\\t\\\\t<div class=\"display-table height-100\">\\\\n\\\\n\\\\t\\\\t\\\\t\\\\t\\\\t\\\\t<div class=\"display-table-cell va-middle\">\\\\n\\\\n\\\\t\\\\t\\\\t\\\\t\\\\t\\\\t\\\\t<div class=\"menu-blank-container\"><ul id=\"primary-menu\" class=\"menu\"><li id=\"menu-item-25433\" class=\"menu-item menu-item-type-post_type menu-item-object-page menu-item-25433\"><a href=\"https://labs.sentinelone.com/about/\">About</a></li>\\\\n<li id=\"menu-item-25449\" class=\"menu-item menu-item-type-post_type menu-item-object-page menu-item-25449\"><a href=\"https://labs.sentinelone.com/contact-us/\">Contact</a></li>\\\\n<li id=\"menu-item-400\" class=\"menu-item menu-item-type-custom menu-item-object-custom menu-item-400\"><a href=\"https://sentinelone.com\">Visit sentinelone.com</a></li>\\\\n</ul></div>\\\\n\\\\t\\\\t\\\\t\\\\t\\\\t\\\\t</div>\\\\n\\\\n\\\\t\\\\t\\\\t\\\\t\\\\t</div>\\\\n\\\\n\\\\t\\\\t\\\\t\\\\t</nav>\\\\n\\\\n\\\\t\\\\t\\\\t</div>\\\\n\\\\n\\\\t\\\\t</div>\\\\n\\\\t\\\\t\\\\n\\\\t</header>\\\\n\\\\n<div id=\"content\" class=\"site-content\">\\\\n\\\\t\\\\n\\\\t<div class=\"ac-single-hero-image container\"><div class=\"row\"><div class=\"_col-md-10 _col-md-push-1\"><img src=\"https://labs.sentinelone.com/wp-content/uploads/2021/03/HelloKitty-Ransomware-Lacks-Stealth-But-Still-Strikes-Home-3-1140x597.jpg\"></div></div></div>\\\\t\\\\n\\\\t<div class=\"site-main\">\\\\n\\\\t\\\\t\\\\n\\\\t\\\\t<div class=\"container\">\\\\n\\\\t\\\\t\\\\t\\\\n\\\\t\\\\t\\\\t<div class=\"row\">\\\\n\\\\n\\\\t\\\\t\\\\t\\\\t<div class=\"col-md-8\"><div id=\"entries-wrapper\" class=\"entries-wrapper entries-wrapper__right entries-layout-\"><article class=\"entry-item post-28566 post type-post status-publish format-standard has-post-thumbnail hentry category-crimeware tag-ransomware\" itemscope itemtype=\"http://schema.org/BlogPosting\">\\\\n\\\\t\\\\n\\\\t<div class=\"entry-inner\">\\\\n\\\\n\\\\t\\\\t\\\\t\\\\t\\\\n\\\\t\\\\t\\\\n\\\\t\\\\t<section class=\"entry-body \">\\\\n\\\\t\\\\t\\\\t\\\\n\\\\t\\\\t\\\\t\\\\n<header class=\"entry-header text-left\">\\\\t\\\\t<div class=\"entry-meta entry-meta__top\">\\\\n\\\\t\\\\t<i class=\"fa fa-folder-o\"></i> <span class=\"meta-category cat-links\"><a href=\"https://labs.sentinelone.com/category/crimeware/\" rel=\"category tag\">Crimeware</a></span>\\\\t</div>\\\\n\\\\t\\\\n\\\\t<h1 class=\"entry-title\" itemprop=\"headline name\">HelloKitty Ransomware Lacks Stealth, But Still Strikes Home</h1>\\\\n\\\\t\\\\t<div class=\"entry-meta\">\\\\n\\\\t\\\\t\\\\t\\\\t<ul class=\"list-meta\">\\\\n\\\\t\\\\t\\\\t<li><span class=\"meta-author byline\"> <i class=\"fa fa-user\"></i> <span class=\"author vcard\"><a class=\"url fn n\" href=\"https://labs.sentinelone.com/author/jimw/\">Jim Walter</a></span></span></li><li><i class=\"fa fa-calendar\"></i> <span class=\"meta-date posted-on\"><a href=\"https://labs.sentinelone.com/hellokitty-ransomware-lacks-stealth-but-still-strikes-home/\" rel=\"bookmark\"><time class=\"entry-date published\" datetime=\"2021-03-08T17:22:44+00:00\" itemprop=\"datePublished\">March 8, 2021</time><time class=\"updated\" datetime=\"2021-03-11T16:52:38+00:00\">March 11, 2021</time></a></span></li>\\\\t\\\\t</ul>\\\\n\\\\t\\\\t\\\\n\\\\t</div>\\\\n\\\\t</header>\\\\n\\\\n\\\\t\\\\n\\\\n\\\\n\\\\t\\\\t\\\\t<section class=\"entry-content \" itemprop=\"articleBody\">\\\\n\\\\t\\\\t\\\\t\\\\t\\\\n\\\\t\\\\t\\\\t\\\\t<p>Game studio CD Projekt Red recently <a href=\"https://twitter.com/CDPROJEKTRED/status/1359048125403590660/photo/1\" target=\"_blank\" rel=\"noopener noreferrer\">disclosed</a> that it became a victim of a targeted, highly-impactful ransomware. In the days following the disclosure, it was revealed that the ransomware family most likely behind the attack was &#8220;HelloKitty&#8221;.</p>\\\\n<p><img loading=\"lazy\" src=\"https://labs.sentinelone.com/wp-content/uploads/2021/03/cdprojekt.jpg\" alt=\"\" class=\"alignnone size-full wp-image-28576\" srcset=\"https://labs.sentinelone.com/wp-content/uploads/2021/03/cdprojekt.jpg 936w, https://labs.sentinelone.com/wp-content/uploads/2021/03/cdprojekt-300x155.jpg 300w, https://labs.sentinelone.com/wp-content/uploads/2021/03/cdprojekt-768x397.jpg 768w, https://labs.sentinelone.com/wp-content/uploads/2021/03/cdprojekt-96x50.jpg 96w\" sizes=\"(max-width: 936px) 100vw, 936px\"></p>\\\\n<p>HelloKitty is a ransomware family that emerged in late 2020. While it lacks the sophistication of some of the more well-known families such as Ryuk, REvil, and Conti, it has nevertheless struck some notable targets, including CEMIG0. In this post, we analyse a recent HelloKitty sample and outline the basic behaviors and traits associated with this family of ransomware.</p>\\\\n<h2>Execution and Behavior</h2>\\\\n<p>The &#8220;HelloKitty&#8221; name is based on internal mutex names, which are apparent upon execution.</p>\\\\n<p><img loading=\"lazy\" src=\"https://labs.sentinelone.com/wp-content/uploads/2021/03/2-execution.jpg\" alt=\"\" class=\"alignnone size-full wp-image-28571\" srcset=\"https://labs.sentinelone.com/wp-content/uploads/2021/03/2-execution.jpg 936w, https://labs.sentinelone.com/wp-content/uploads/2021/03/2-execution-300x61.jpg 300w, https://labs.sentinelone.com/wp-content/uploads/2021/03/2-execution-768x156.jpg 768w, https://labs.sentinelone.com/wp-content/uploads/2021/03/2-execution-96x19.jpg 96w\" sizes=\"(max-width: 936px) 100vw, 936px\"></p>\\\\n<p>While still somewhat unclear, current intelligence indicates that the primary delivery method of HelloKitty binaries is via phish email or via secondary infection in conjunction with other malware.</p>\\\\n<p>Once launched, HelloKitty will attempt to disable and terminate a number of processes and services so as to reduce interference with the encryption process. This includes processes and services associated with IIS, MSSQL, Quickbooks, Sharepoint, and more. These actions are carried out via <code>taskkill.exe</code> and <code>net.exe</code>.</p>\\\\n<p>In the analyzed sample, this is all done in a very non-stealthy manner. All spawned CMD windows are in the foreground and fully visible. This &#8216;lack of discreteness&#8217; is atypical for modern ransomware, or any successful malware, for that matter.</p>\\\\n<p><img loading=\"lazy\" src=\"https://labs.sentinelone.com/wp-content/uploads/2021/03/3.-noisyprocspng.jpg\" alt=\"\" class=\"alignnone size-full wp-image-28572\" srcset=\"https://labs.sentinelone.com/wp-content/uploads/2021/03/3.-noisyprocspng.jpg 1344w, https://labs.sentinelone.com/wp-content/uploads/2021/03/3.-noisyprocspng-300x175.jpg 300w, https://labs.sentinelone.com/wp-content/uploads/2021/03/3.-noisyprocspng-1024x596.jpg 1024w, https://labs.sentinelone.com/wp-content/uploads/2021/03/3.-noisyprocspng-768x447.jpg 768w, https://labs.sentinelone.com/wp-content/uploads/2021/03/3.-noisyprocspng-1140x663.jpg 1140w, https://labs.sentinelone.com/wp-content/uploads/2021/03/3.-noisyprocspng-1200x698.jpg 1200w, https://labs.sentinelone.com/wp-content/uploads/2021/03/3.-noisyprocspng-96x56.jpg 96w\" sizes=\"(max-width: 1344px) 100vw, 1344px\"></p>\\\\n<p>A full list of processes from the analyzed sample are listed below:</p>\\\\n<pre>\\\\ndsa*\\\\nNtrtsca\\\\nds_moni\\\\nNotifie\\\\nTmListe\\\\niVPAgen\\\\nCNTAoSM\\\\nIBM*\\\\nbes10*\\\\nblack*\\\\nrobo*\\\\ncopy*\\\\nstore.e\\\\nsql*\\\\nvee*\\\\nwrsa*\\\\nwrsa.ex\\\\npostg*\\\\nsage*\\\\nMSSQLServerADHelper100\\\\nMSSQL$ISARS\\\\nMSSQL$MSFW\\\\nSQLAgent$ISARS\\\\nSQLAgent$MSFW\\\\nSQLBrowser\\\\nReportServer$ISARS\\\\nSQLWriter\\\\nWinDefend\\\\nmr2kserv\\\\nMSExchangeADTopology\\\\nMSExchangeFBA\\\\nMSExchangeIS\\\\nMSExchangeSA\\\\nShadowProtectSvc\\\\nSPAdminV4\\\\nSPTimerV4\\\\nSPTraceV4\\\\nSPUserCodeV4\\\\nSPWriterV4\\\\nSPSearch4\\\\nIISADMIN\\\\nfirebirdguardiandefaultinstance\\\\nibmiasrw\\\\nQBCFMonitorService\\\\nQBVSS\\\\nQBPOSDBServiceV12\\\\n\"IBM Domino Server(CProgramFilesIBMDominodata)\"\\\\n\"IBM Domino Diagnostics(CProgramFilesIBMDomino)\"\\\\n\"Simply Accounting Database Connection Manager\"\\\\nQuickBooksDB1\\\\nQuickBooksDB2\\\\nQuickBooksDB3\\\\nQuickBooksDB4\\\\nQuickBooksDB5\\\\nQuickBooksDB6\\\\nQuickBooksDB7\\\\nQuickBooksDB8\\\\nQuickBooksDB9\\\\nQuickBooksDB10\\\\nQuickBooksDB11\\\\nQuickBooksDB12\\\\nQuickBooksDB13\\\\nQuickBooksDB14\\\\nQuickBooksDB15\\\\nQuickBooksDB16\\\\nQuickBooksDB17\\\\nQuickBooksDB18\\\\nQuickBooksDB19\\\\nQuickBooksDB20\\\\nQuickBooksDB21\\\\nQuickBooksDB22\\\\nQuickBooksDB23\\\\nQuickBooksDB24\\\\nQuickBooksDB25\\\\n</pre>\\\\n<p>Additional processes and services that are terminated are identified via PID. For example:</p>\\\\n<p><code>taskkill.exe /f /PID \"8512\"</code><br>\\\\n<code>taskkill.exe /f /PID \"8656\"</code></p>\\\\n<p>If HelloKitty is unable to stop any specific processes or services, it will leverage the Windows Restart Manager API to further assist in termination.</p>\\\\n<p><img loading=\"lazy\" src=\"https://labs.sentinelone.com/wp-content/uploads/2021/03/5-restart.jpg\" alt=\"\" class=\"alignnone size-full wp-image-28574\" srcset=\"https://labs.sentinelone.com/wp-content/uploads/2021/03/5-restart.jpg 936w, https://labs.sentinelone.com/wp-content/uploads/2021/03/5-restart-300x155.jpg 300w, https://labs.sentinelone.com/wp-content/uploads/2021/03/5-restart-768x397.jpg 768w, https://labs.sentinelone.com/wp-content/uploads/2021/03/5-restart-96x50.jpg 96w\" sizes=\"(max-width: 936px) 100vw, 936px\"></p>\\\\n<p>HelloKitty will also utilize WMI to gather system details and help identify running processes and any potentially problematic processes. This is done both by name and by PID. A number of examples are shown below:</p>\\\\n<pre>\\\\nstart iwbemservices::execquery - root\\\\\\\\cimv2 : select __path, processid, csname, caption, sessionid, threadcount, workingsetsize, kernelmodetime, usermodetime, parentprocessid from win32_process\\\\n\\\\nstart iwbemservices::execquery - root\\\\\\\\cimv2 : select __path, processid, csname, caption, sessionid, threadcount, workingsetsize, kernelmodetime, usermodetime, parentprocessid from win32_process where (  caption = \"store.exe\")\\\\n\\\\nstart iwbemservices::execquery - root\\\\\\\\cimv2 : select __path, processid, csname, caption, sessionid, threadcount, workingsetsize, kernelmodetime, usermodetime, parentprocessid from win32_process where (  caption = \"wrsa.exe\")\\\\n\\\\nstart iwbemservices::execquery - root\\\\\\\\cimv2 : select __path, processid, csname, caption, sessionid, threadcount, workingsetsize, kernelmodetime, usermodetime, parentprocessid from win32_process where (  processid = 3036)\\\\n\\\\nstart iwbemservices::execquery - root\\\\\\\\cimv2 : select __path, processid, csname, caption, sessionid, threadcount, workingsetsize, kernelmodetime, usermodetime, parentprocessid from win32_process where (  processid = 4460)\\\\n\\\\nstart iwbemservices::execquery - root\\\\\\\\cimv2 : select __path, processid, csname, caption, sessionid, threadcount, workingsetsize, kernelmodetime, usermodetime, parentprocessid from win32_process where (  processid = 3052)\\\\n\\\\nstart iwbemservices::execquery - root\\\\\\\\cimv2 : select __path, processid, csname, caption, sessionid, threadcount, workingsetsize, kernelmodetime, usermodetime, parentprocessid from win32_process where (  processid = 4476)\\\\n\\\\nstart iwbemservices::execquery - root\\\\\\\\cimv2 : select __path, processid, csname, caption, sessionid, threadcount, workingsetsize, kernelmodetime, usermodetime, parentprocessid from win32_process where (  processid = 1560)\\\\n\\\\nstart iwbemservices::execquery - root\\\\\\\\cimv2 : select __path, processid, csname, caption, sessionid, threadcount, workingsetsize, kernelmodetime, usermodetime, parentprocessid from win32_process where (  processid = 8124)\\\\n\\\\nstart iwbemservices::exe\\\\n</pre>\\\\n<h2>Encryption and Ransom Note</h2>\\\\n<p>Encryption is initiated and completed very quickly once applicable services and processes have been terminated. Specific encryption recipes and routines can vary across variants of HelloKitty. Generally speaking, they tend to use a combination of AES-256 &amp; RSA-2048 or even NTRU+AES-128.</p>\\\\n<p>Once encrypted, affected files receive the <code>.crypted</code> extension.</p>\\\\n<p><img loading=\"lazy\" src=\"https://labs.sentinelone.com/wp-content/uploads/2021/03/crypted.jpg\" alt=\"\" class=\"alignnone size-full wp-image-28577\" srcset=\"https://labs.sentinelone.com/wp-content/uploads/2021/03/crypted.jpg 936w, https://labs.sentinelone.com/wp-content/uploads/2021/03/crypted-300x110.jpg 300w, https://labs.sentinelone.com/wp-content/uploads/2021/03/crypted-768x282.jpg 768w, https://labs.sentinelone.com/wp-content/uploads/2021/03/crypted-96x35.jpg 96w\" sizes=\"(max-width: 936px) 100vw, 936px\"></p>\\\\n<p>Ransom notes are typically customized to directly reference the victim and victim&#8217;s environment. Victims are instructed to visit a TOR-based payment and support portal. The following example has been sanitized:</p>\\\\n<p><img loading=\"lazy\" src=\"https://labs.sentinelone.com/wp-content/uploads/2021/03/7.-ransomnote.jpg\" alt=\"\" class=\"alignnone size-full wp-image-28575\" srcset=\"https://labs.sentinelone.com/wp-content/uploads/2021/03/7.-ransomnote.jpg 936w, https://labs.sentinelone.com/wp-content/uploads/2021/03/7.-ransomnote-300x166.jpg 300w, https://labs.sentinelone.com/wp-content/uploads/2021/03/7.-ransomnote-768x425.jpg 768w, https://labs.sentinelone.com/wp-content/uploads/2021/03/7.-ransomnote-96x53.jpg 96w\" sizes=\"(max-width: 936px) 100vw, 936px\"></p>\\\\n<p>It is also important to note that as of this writing, the onion address associated with HelloKitty ransom notes is not active.</p>\\\\n<p><code>6x7dp6h3w6q3ugjv4yv5gycj3femb24kysgry5b44hhgfwc5ml5qrdad.onion</code></p>\\\\n<h2>Conclusion</h2>\\\\n<p>HelloKitty may be easier to spot than other modern ransomware families, but upon execution it is no less dangerous. There are currently no known &#8216;weaknesses&#8217; in the encryption routines, and there are no thirdy-party decrypters available for the HelloKitty ransomware. Therefore, the only true defense is prevention. While this family does not appear to be actively leaking victim data at the moment, that could change at any point, in addition to them choosing to adopt some of the more recent extortion methods that go along with ransomware (DDoS).</p>\\\\n<p>Actors behind the more recent campaign(s) are reportedly attempting to auction the CD Projekt data off in various &#8216;underground&#8217; forums. At present this sale of this data does appear to be legitimate. Time will tell if additional victim data is dealt with in the same way.</p>\\\\n<p>To protect yourself against HelloKitty, make sure you are armed with a modern Endpoint Security platform, which is configured correctly and up to date. The SentinelOne Singularity Platform is fully capable of preventing and detecting all malicious behaviors associated with the HelloKitty ransomware family.</p>\\\\n<h2>IOCs</h2>\\\\n<p><strong>SHA1</strong><br>\\\\nfadd8d7c13a18c251ded1f645ffea18a37f1c2de</p>\\\\n<p><strong>SHA256</strong><br>\\\\n501487b025f25ddf1ca32deb57a2b4db43ccf6635c1edc74b9cff54ce0e5bcfe</p>\\\\n<p><strong>MITRE ATT&amp;CK</strong><br>\\\\nData from Local System &#8211; <a href=\"https://attack.mitre.org/techniques/T1005/\" target=\"_blank\" rel=\"noopener noreferrer\">T1005</a><br>\\\\nModify Registry &#8211; <a href=\"https://attack.mitre.org/techniques/T1112/\" target=\"_blank\" rel=\"noopener noreferrer\">T1112</a><br>\\\\nQuery Registry &#8211; <a href=\"https://attack.mitre.org/techniques/T1012/\" target=\"_blank\" rel=\"noopener noreferrer\">T1012</a><br>\\\\nSystem Information Discovery &#8211; <a href=\"https://attack.mitre.org/techniques/T1082/\" target=\"_blank\" rel=\"noopener noreferrer\">T1082</a><br>\\\\nData Encrypted for Impact &#8211; <a href=\"https://attack.mitre.org/techniques/T1486/\" target=\"_blank\" rel=\"noopener noreferrer\">T1486</a><br>\\\\nFile Deletion &#8211; <a href=\"https://attack.mitre.org/techniques/T1070/004/\" target=\"_blank\" rel=\"noopener noreferrer\">T1070.004</a><br>\\\\nCommand and Scripting Interpreter: Windows Command Shell &#8211; <a href=\"https://attack.mitre.org/techniques/T1059/003/\" target=\"_blank\" rel=\"noopener noreferrer\">T1059.003</a><br>\\\\nWindows Management Instrumentation &#8211; <a href=\"https://attack.mitre.org/techniques/T1047/\" target=\"_blank\" rel=\"noopener noreferrer\">T1047</a></p>\\\\n<div class=\"post-views post-28566 entry-meta\">\\\\n\\\\t\\\\t\\\\t\\\\t<span class=\"post-views-icon dashicons dashicons-chart-bar\"></span>\\\\n\\\\t\\\\t\\\\t\\\\t<span class=\"post-views-label\">Post Views: </span>\\\\n\\\\t\\\\t\\\\t\\\\t<span class=\"post-views-count\">7,278</span>\\\\n\\\\t\\\\t\\\\t</div><p class=\"entry-tags\">\\\\n\\\\t\\\\t\\\\t\\\\t\\\\t\\\\t<a href=\"https://labs.sentinelone.com/tag/ransomware/\" rel=\"tag\">Ransomware</a>\\\\t\\\\t\\\\t\\\\t\\\\t</p>\\\\n\\\\t\\\\t\\\\t\\\\t\\\\t\\\\n\\\\t\\\\t\\\\t</section>\\\\n\\\\t\\\\t\\\\t\\\\n\\\\t\\\\t\\\\t\\\\n\\\\t\\\\t</section>\\\\n\\\\n\\\\t</div>\\\\n\\\\n\\\\t\\\\n\\\\t\\\\t<footer class=\"entry-footer\">\\\\n\\\\t\\\\n\\\\t<div class=\"meta-share\">\\\\n\\\\t\\\\n\\\\t<ul class=\"list-meta-share\">\\\\n\\\\n\\\\t\\\\t<li>\\\\n\\\\t\\\\t\\\\t<h3 class=\"show-sosmed-share\"><span class=\"suffix\">Share</span></h3>\\\\n\\\\n\\\\t\\\\t\\\\t<ul class=\"meta-social-share\">\\\\n\\\\t\\\\t\\\\t\\\\t<li><a href=\"http://www.facebook.com/sharer.php?u=https://labs.sentinelone.com/hellokitty-ransomware-lacks-stealth-but-still-strikes-home/\" target=\"_blank\"><i class=\"fa fa-facebook\"></i> <span class=\"suffix-text\">Facebook</span></a></li><li><a href=\"http://twitter.com/share?url=https://labs.sentinelone.com/hellokitty-ransomware-lacks-stealth-but-still-strikes-home/&amp;text=HelloKitty%20Ransomware%20Lacks%20Stealth%2C%20But%20Still%20Strikes%20Home\" target=\"_blank\"><i class=\"fa fa-twitter\"></i> <span class=\"suffix-text\">Twitter</span></a></li><li><a href=\"mailto:?subject=HelloKitty%20Ransomware%20Lacks%20Stealth%2C%20But%20Still%20Strikes%20Home&amp;body=https://labs.sentinelone.com/hellokitty-ransomware-lacks-stealth-but-still-strikes-home/\"><i class=\"fa fa-envelope\"></i> <span class=\"suffix-text\">Mail</span></a></li><li><a href=\"https://www.linkedin.com/shareArticle?mini=true&amp;url=https://labs.sentinelone.com/hellokitty-ransomware-lacks-stealth-but-still-strikes-home/&amp;title=HelloKitty%20Ransomware%20Lacks%20Stealth%2C%20But%20Still%20Strikes%20Home\" target=\"_blank\"><i class=\"fa fa-linkedin\"></i> <span class=\"suffix-text\">Linkedin</span></a></li><li><a href=\"http://reddit.com/submit?url=https://labs.sentinelone.com/hellokitty-ransomware-lacks-stealth-but-still-strikes-home/&amp;name=HelloKitty%20Ransomware%20Lacks%20Stealth%2C%20But%20Still%20Strikes%20Home\" target=\"_blank\"><i class=\"fa fa-reddit\"></i> <span class=\"suffix-text\">Reddit</span></a></li>\\\\t\\\\t\\\\t</ul>\\\\n\\\\n\\\\t\\\\t</li>\\\\n\\\\t</ul>\\\\n</div>\\\\n\\\\n<section class=\"entry-footer-section\">\\\\n\\\\n\\\\t<div class=\"entry-footer-section-inner\">\\\\n\\\\n\\\\t\\\\t<div class=\"entry-author\" itemprop=\"author\" itemscope itemtype=\"http://schema.org/Person\">\\\\n\\\\n\\\\t\\\\t\\\\t<figure class=\"entry-author-avatar\">\\\\n\\\\t\\\\t\\\\t\\\\t<a href=\"https://labs.sentinelone.com/author/jimw/\">\\\\n\\\\t\\\\t\\\\t\\\\t\\\\t<img alt=\"\" src=\"https://secure.gravatar.com/avatar/eff08e92006c77bdaa5b6c0efbe4ca49?s=120&amp;d=mm&amp;r=g\" srcset=\"https://secure.gravatar.com/avatar/eff08e92006c77bdaa5b6c0efbe4ca49?s=240&amp;d=mm&amp;r=g 2x\" class=\"avatar avatar-120 photo\" loading=\"lazy\">\\\\t\\\\t\\\\t\\\\t</a>\\\\n\\\\t\\\\t\\\\t</figure>\\\\n\\\\n\\\\t\\\\t\\\\t<div class=\"entry-author-info\">\\\\n\\\\n\\\\t\\\\t\\\\t\\\\t<h4 class=\"entry-author-name\" itemprop=\"name\">\\\\n\\\\t\\\\t\\\\t\\\\t\\\\t<a href=\"https://labs.sentinelone.com/author/jimw/\">\\\\n\\\\t\\\\t\\\\t\\\\t\\\\t\\\\t<span class=\"author vcard\"><span class=\"fn\">Jim Walter</span></span>\\\\n\\\\t\\\\t\\\\t\\\\t\\\\t</a>\\\\n\\\\t\\\\t\\\\t\\\\t</h4>\\\\n\\\\n\\\\t\\\\t\\\\t\\\\t<div class=\"entry-author-description\" itemprop=\"description\">Jim Walter is a Senior Threat Researcher at SentinelOne focusing on evolving trends, actors, and tactics within the thriving ecosystem of cybercrime and crimeware. He specializes in the discovery and analysis of emerging cybercrime \"services\" and evolving communication channels leveraged by mid-level criminal organizations. Jim joined SentinelOne following ~4 years at a security start-up, also focused on malware research and organized crime. Previously, he spent over 17 years at McAfee/Intel running their Threat Intelligence and Advanced Threat Research teams.</div>\\\\n\\\\n\\\\t\\\\t\\\\t\\\\t\\\\n\\\\t\\\\t\\\\t</div>\\\\n\\\\n\\\\t\\\\t\\\\t<div class=\"clearfix\"></div>\\\\n\\\\n\\\\t\\\\t</div>\\\\n\\\\n\\\\t</div>\\\\n\\\\n</section>\\\\n<section class=\"entry-footer-section\">\\\\n\\\\n\\\\t<div class=\"entry-footer-section-inner\">\\\\n\\\\n\\\\t\\\\t<div class=\"entry-adjacent-posts-nav\">\\\\n\\\\n\\\\t\\\\t\\\\t<div class=\"row\"><div class=\"previous col-sm-6\"><a href=\"https://labs.sentinelone.com/a-guide-to-ghidra-scripting-development-for-malware-researchers/\" rel=\"prev\"><span class=\"link-icon fa fa-chevron-left\"></span><span class=\"link-label\">Prev</span><h5 class=\"link-title\">A Guide to Ghidra Scripting Development for Malware Researchers</h5></a></div><div class=\"spacer-20\"></div><div class=\"next col-sm-6\"><a href=\"https://labs.sentinelone.com/top-15-essential-malware-analysis-tools/\" rel=\"next\"><span class=\"link-label\">Next</span><span class=\"link-icon fa fa-chevron-right\"></span><h5 class=\"link-title\">Top 15 Essential Malware Analysis Tools</h5></a></div></div>\\\\n\\\\n\\\\t\\\\t</div>\\\\n\\\\n\\\\t</div>\\\\n\\\\t\\\\n</section>\\\\n<section class=\"entry-footer-section\">\\\\n\\\\t\\\\n\\\\t<div class=\"entry-footer-section-inner\">\\\\n\\\\t\\\\n\\\\t\\\\t<div class=\"post-related-wrapper\">\\\\n\\\\n\\\\t\\\\t\\\\t<h3 class=\"post-related-section-title\">\\\\n\\\\t\\\\t\\\\t\\\\t<span>Related Posts</span>\\\\n\\\\t\\\\t\\\\t</h3>\\\\n\\\\n\\\\t\\\\t\\\\t<div class=\"post-related row\">\\\\n\\\\n\\\\t\\\\t\\\\t\\\\t<div class=\"col-md-4\">\\\\n\\\\n\\\\t\\\\t\\\\t\\\\t\\\\t<article class=\"related-post\">\\\\n\\\\n\\\\t\\\\t\\\\t\\\\t\\\\t\\\\t\\\\t\\\\t\\\\t\\\\t\\\\t\\\\t<div class=\"related-post-media\">\\\\n\\\\t\\\\t\\\\t\\\\t\\\\t\\\\t\\\\t<figure class=\"related-post-featured-image\">\\\\n\\\\t\\\\t\\\\t\\\\t\\\\t\\\\t\\\\t\\\\t<img src=\"https://labs.sentinelone.com/wp-content/uploads/2021/01/Greywares-Anatomy_-The-Potentially-Unwanted-are-Upping-Their-Game-1.jpg\" class=\"attachment-asiana_thumbnail size-asiana_thumbnail wp-post-image\" alt=\"\" loading=\"lazy\" srcset=\"https://labs.sentinelone.com/wp-content/uploads/2021/01/Greywares-Anatomy_-The-Potentially-Unwanted-are-Upping-Their-Game-1.jpg 1200w, https://labs.sentinelone.com/wp-content/uploads/2021/01/Greywares-Anatomy_-The-Potentially-Unwanted-are-Upping-Their-Game-1-300x157.jpg 300w, https://labs.sentinelone.com/wp-content/uploads/2021/01/Greywares-Anatomy_-The-Potentially-Unwanted-are-Upping-Their-Game-1-1024x536.jpg 1024w, https://labs.sentinelone.com/wp-content/uploads/2021/01/Greywares-Anatomy_-The-Potentially-Unwanted-are-Upping-Their-Game-1-768x402.jpg 768w, https://labs.sentinelone.com/wp-content/uploads/2021/01/Greywares-Anatomy_-The-Potentially-Unwanted-are-Upping-Their-Game-1-1140x597.jpg 1140w, https://labs.sentinelone.com/wp-content/uploads/2021/01/Greywares-Anatomy_-The-Potentially-Unwanted-are-Upping-Their-Game-1-96x50.jpg 96w\" sizes=\"(max-width: 1200px) 100vw, 1200px\">\\\\t\\\\t\\\\t\\\\t\\\\t\\\\t\\\\t</figure>\\\\n\\\\t\\\\t\\\\t\\\\t\\\\t\\\\t</div>\\\\n\\\\t\\\\t\\\\t\\\\t\\\\t\\\\t\\\\n\\\\t\\\\t\\\\t\\\\t\\\\t\\\\t<h5 class=\"related-post-title\"><a href=\"https://labs.sentinelone.com/greywares-anatomy-the-potentially-unwanted-are-upping-their-game/\" rel=\"bookmark\">Greyware&#8217;s Anatomy: The &#8220;Potentially Unwanted&#8221; are Upping Their Game</a></h5>\\\\n\\\\t\\\\t\\\\t\\\\t\\\\t\\\\t<time class=\"related-post-time\" datetime=\"2021-01-07T17:18:38+00:00\">January 7, 2021</time>\\\\n\\\\n\\\\t\\\\t\\\\t\\\\t\\\\t</article>\\\\n\\\\n\\\\t\\\\t\\\\t\\\\t\\\\t<div class=\"spacer-20 hidden-md hidden-lg\"></div>\\\\n\\\\t\\\\t\\\\t\\\\t\\\\t\\\\n\\\\t\\\\t\\\\t\\\\t</div>\\\\n\\\\t\\\\t\\\\t\\\\t<div class=\"col-md-4\">\\\\n\\\\n\\\\t\\\\t\\\\t\\\\t\\\\t<article class=\"related-post\">\\\\n\\\\n\\\\t\\\\t\\\\t\\\\t\\\\t\\\\t\\\\t\\\\t\\\\t\\\\t\\\\t\\\\t<div class=\"related-post-media\">\\\\n\\\\t\\\\t\\\\t\\\\t\\\\t\\\\t\\\\t<figure class=\"related-post-featured-image\">\\\\n\\\\t\\\\t\\\\t\\\\t\\\\t\\\\t\\\\t\\\\t<img src=\"https://labs.sentinelone.com/wp-content/uploads/2019/04/Lazarus-APT-Targets-Mac-Users-with-Poisoned-Word-Document-4-1200x846.png\" class=\"attachment-asiana_thumbnail size-asiana_thumbnail wp-post-image\" alt=\"\" loading=\"lazy\" srcset=\"https://labs.sentinelone.com/wp-content/uploads/2019/04/Lazarus-APT-Targets-Mac-Users-with-Poisoned-Word-Document-4-1200x846.png 1200w, https://labs.sentinelone.com/wp-content/uploads/2019/04/Lazarus-APT-Targets-Mac-Users-with-Poisoned-Word-Document-4-300x211.png 300w, https://labs.sentinelone.com/wp-content/uploads/2019/04/Lazarus-APT-Targets-Mac-Users-with-Poisoned-Word-Document-4-1024x722.png 1024w, https://labs.sentinelone.com/wp-content/uploads/2019/04/Lazarus-APT-Targets-Mac-Users-with-Poisoned-Word-Document-4-768x541.png 768w, https://labs.sentinelone.com/wp-content/uploads/2019/04/Lazarus-APT-Targets-Mac-Users-with-Poisoned-Word-Document-4-1536x1083.png 1536w, https://labs.sentinelone.com/wp-content/uploads/2019/04/Lazarus-APT-Targets-Mac-Users-with-Poisoned-Word-Document-4-2048x1444.png 2048w, https://labs.sentinelone.com/wp-content/uploads/2019/04/Lazarus-APT-Targets-Mac-Users-with-Poisoned-Word-Document-4-1140x804.png 1140w, https://labs.sentinelone.com/wp-content/uploads/2019/04/Lazarus-APT-Targets-Mac-Users-with-Poisoned-Word-Document-4-91x64.png 91w\" sizes=\"(max-width: 1200px) 100vw, 1200px\">\\\\t\\\\t\\\\t\\\\t\\\\t\\\\t\\\\t</figure>\\\\n\\\\t\\\\t\\\\t\\\\t\\\\t\\\\t</div>\\\\n\\\\t\\\\t\\\\t\\\\t\\\\t\\\\t\\\\n\\\\t\\\\t\\\\t\\\\t\\\\t\\\\t<h5 class=\"related-post-title\"><a href=\"https://labs.sentinelone.com/lazarus-apt-targets-mac-users-poisoned-word-document/\" rel=\"bookmark\">Lazarus APT Targets Mac Users with Poisoned Word Document</a></h5>\\\\n\\\\t\\\\t\\\\t\\\\t\\\\t\\\\t<time class=\"related-post-time\" datetime=\"2019-04-25T11:28:33+00:00\">April 25, 2019</time>\\\\n\\\\n\\\\t\\\\t\\\\t\\\\t\\\\t</article>\\\\n\\\\n\\\\t\\\\t\\\\t\\\\t\\\\t<div class=\"spacer-20 hidden-md hidden-lg\"></div>\\\\n\\\\t\\\\t\\\\t\\\\t\\\\t\\\\n\\\\t\\\\t\\\\t\\\\t</div>\\\\n\\\\t\\\\t\\\\t\\\\t<div class=\"col-md-4\">\\\\n\\\\n\\\\t\\\\t\\\\t\\\\t\\\\t<article class=\"related-post\">\\\\n\\\\n\\\\t\\\\t\\\\t\\\\t\\\\t\\\\t\\\\t\\\\t\\\\t\\\\t\\\\t\\\\t<div class=\"related-post-media\">\\\\n\\\\t\\\\t\\\\t\\\\t\\\\t\\\\t\\\\t<figure class=\"related-post-featured-image\">\\\\n\\\\t\\\\t\\\\t\\\\t\\\\t\\\\t\\\\t\\\\t<img src=\"https://labs.sentinelone.com/wp-content/uploads/2020/07/Enter-the-Maze_-Demystifying-an-affiliate-involved-in-Maze-Snow-9.jpg\" class=\"attachment-asiana_thumbnail size-asiana_thumbnail wp-post-image\" alt=\"\" loading=\"lazy\" srcset=\"https://labs.sentinelone.com/wp-content/uploads/2020/07/Enter-the-Maze_-Demystifying-an-affiliate-involved-in-Maze-Snow-9.jpg 1200w, https://labs.sentinelone.com/wp-content/uploads/2020/07/Enter-the-Maze_-Demystifying-an-affiliate-involved-in-Maze-Snow-9-300x157.jpg 300w, https://labs.sentinelone.com/wp-content/uploads/2020/07/Enter-the-Maze_-Demystifying-an-affiliate-involved-in-Maze-Snow-9-1024x536.jpg 1024w, https://labs.sentinelone.com/wp-content/uploads/2020/07/Enter-the-Maze_-Demystifying-an-affiliate-involved-in-Maze-Snow-9-768x402.jpg 768w, https://labs.sentinelone.com/wp-content/uploads/2020/07/Enter-the-Maze_-Demystifying-an-affiliate-involved-in-Maze-Snow-9-1140x597.jpg 1140w, https://labs.sentinelone.com/wp-content/uploads/2020/07/Enter-the-Maze_-Demystifying-an-affiliate-involved-in-Maze-Snow-9-96x50.jpg 96w\" sizes=\"(max-width: 1200px) 100vw, 1200px\">\\\\t\\\\t\\\\t\\\\t\\\\t\\\\t\\\\t</figure>\\\\n\\\\t\\\\t\\\\t\\\\t\\\\t\\\\t</div>\\\\n\\\\t\\\\t\\\\t\\\\t\\\\t\\\\t\\\\n\\\\t\\\\t\\\\t\\\\t\\\\t\\\\t<h5 class=\"related-post-title\"><a href=\"https://labs.sentinelone.com/enter-the-maze-demystifying-an-affiliate-involved-in-maze-snow/\" rel=\"bookmark\">Enter the Maze: Demystifying an Affiliate Involved in Maze (SNOW)</a></h5>\\\\n\\\\t\\\\t\\\\t\\\\t\\\\t\\\\t<time class=\"related-post-time\" datetime=\"2020-07-22T06:40:37+00:00\">July 22, 2020</time>\\\\n\\\\n\\\\t\\\\t\\\\t\\\\t\\\\t</article>\\\\n\\\\n\\\\t\\\\t\\\\t\\\\t\\\\t\\\\n\\\\t\\\\t\\\\t\\\\t</div>\\\\n\\\\t\\\\t\\\\t\\\\t\\\\n\\\\t\\\\t\\\\t</div>\\\\n\\\\n\\\\t\\\\t</div>\\\\n\\\\n\\\\t</div>\\\\n\\\\t\\\\n</section>\\\\n\\\\n</footer>\\\\n\\\\n\\\\t\\\\n</article>\\\\n</div><div class=\"clearfix\"></div></div>\\\\n<aside id=\"secondary\" class=\"widget-area sidebar sidebar-default col-md-4 sidebar__has-bg sidebar-sticky\" role=\"complementary\" itemscope itemtype=\"http://schema.org/WPSideBar\">\\\\n\\\\n\\\\t<div class=\"sidebar__inner\">\\\\n\\\\n\\\\t\\\\t<div id=\"s1_signup-2\" class=\"widget widget_s1_signup\"><h3 class=\"widget-title\">Sign Up</h3><ul class=\"meta-social-share\">\\\\n\\\\t<li><a href=\"https://www.facebook.com/SentinelOne/\" target=\"_blank\">\\\\n\\\\t\\\\t<i class=\"fa fa-facebook\"></i> <span class=\"suffix-text\">Facebook</span>\\\\n\\\\t</a></li>\\\\n\\\\t<li><a href=\"https://twitter.com/SentinelOne\" target=\"_blank\">\\\\n\\\\t\\\\t<i class=\"fa fa-twitter\"></i> <span class=\"suffix-text\">Twitter</span>\\\\n\\\\t</a></li>\\\\n\\\\t<li><a href=\"https://www.linkedin.com/company/sentinelone\" target=\"_blank\">\\\\n\\\\t\\\\t<i class=\"fa fa-linkedin\"></i> <span class=\"suffix-text\">Linkedin</span>\\\\n\\\\t</a></li>\\\\n</ul>\\\\n<div class=\"marketo-blog-subscribe\">\\\\n\\\\t<div class=\"context\">\\\\n\\\\t\\\\t<p>Get notified when we post new content.</p>\\\\n\\\\t</div>\\\\n\\\\t<form id=\"mktoForm_2673\"></form>\\\\n\\\\t<div class=\"context\">\\\\n\\\\t\\\\t<p>Thanks!  Keep an eye out for new content!</p>\\\\n\\\\t</div>\\\\n\\\\t\\\\n</div>\\\\n\\\\n</div><div id=\"asiana-popular-posts-widget-3\" class=\"widget asiana-popular-posts-widget\"><h3 class=\"widget-title\">Popular Posts</h3>\\\\n\\\\t\\\\t\\\\t<div class=\"inner-popular-post-widget\">\\\\n\\\\n\\\\t\\\\t\\\\t\\\\t<ul class=\"plain-list\">\\\\n\\\\n\\\\t\\\\t\\\\t\\\\t\\\\n\\\\t\\\\t\\\\t\\\\t\\\\t<li>\\\\n\\\\t\\\\t\\\\t\\\\t\\\\t\\\\t<article class=\"list-popular-post clearfix\">\\\\n\\\\t\\\\t\\\\t\\\\t\\\\t\\\\t\\\\t\\\\t\\\\t\\\\t\\\\t\\\\t\\\\t\\\\t<div class=\"list-popular-post__media\">\\\\n\\\\t\\\\t\\\\t\\\\t\\\\t\\\\t\\\\t\\\\t<figure class=\"list-popular-post__thumbnail\">\\\\n\\\\t\\\\t\\\\t\\\\t\\\\t\\\\t\\\\t\\\\t\\\\t<img src=\"https://labs.sentinelone.com/wp-content/uploads/2019/09/Detecting-macOS.GMERA-Malware-Through-Behavioral-Inspection-1-96x50.jpg\" class=\"attachment-asiana_thumbnail_small size-asiana_thumbnail_small wp-post-image\" alt=\"feature image no text\" loading=\"lazy\" srcset=\"https://labs.sentinelone.com/wp-content/uploads/2019/09/Detecting-macOS.GMERA-Malware-Through-Behavioral-Inspection-1-96x50.jpg 96w, https://labs.sentinelone.com/wp-content/uploads/2019/09/Detecting-macOS.GMERA-Malware-Through-Behavioral-Inspection-1-300x157.jpg 300w, https://labs.sentinelone.com/wp-content/uploads/2019/09/Detecting-macOS.GMERA-Malware-Through-Behavioral-Inspection-1-1024x536.jpg 1024w, https://labs.sentinelone.com/wp-content/uploads/2019/09/Detecting-macOS.GMERA-Malware-Through-Behavioral-Inspection-1-768x402.jpg 768w, https://labs.sentinelone.com/wp-content/uploads/2019/09/Detecting-macOS.GMERA-Malware-Through-Behavioral-Inspection-1-1140x597.jpg 1140w, https://labs.sentinelone.com/wp-content/uploads/2019/09/Detecting-macOS.GMERA-Malware-Through-Behavioral-Inspection-1.jpg 1200w\" sizes=\"(max-width: 96px) 100vw, 96px\">\\\\t\\\\t\\\\t\\\\t\\\\t\\\\t\\\\t\\\\t</figure>\\\\n\\\\t\\\\t\\\\t\\\\t\\\\t\\\\t\\\\t</div>\\\\n\\\\t\\\\t\\\\t\\\\t\\\\t\\\\t\\\\t\\\\n\\\\t\\\\t\\\\t\\\\t\\\\t\\\\t\\\\t<div class=\"list-popular-post__info\">\\\\n\\\\t\\\\t\\\\t\\\\t\\\\t\\\\t\\\\t\\\\t<h5 class=\"list-popular-post__title\"><a href=\"https://labs.sentinelone.com/detecting-macos-gmera-malware-through-behavioral-inspection/\">Detecting macOS.GMERA Malware Through Behavioral Inspection</a></h5>\\\\t\\\\t\\\\t\\\\t\\\\t\\\\t\\\\t\\\\t<div class=\"list-popular-post__meta\">\\\\n\\\\t\\\\t\\\\t\\\\t\\\\t\\\\t\\\\t\\\\t\\\\t<i class=\"fa fa-tags\"></i> behavioral detection, GMERA malware, macOS, Yara\\\\t\\\\t\\\\t\\\\t\\\\t\\\\t\\\\t\\\\t</div>\\\\n\\\\t\\\\t\\\\t\\\\t\\\\t\\\\t\\\\t</div>\\\\n\\\\t\\\\t\\\\t\\\\t\\\\t\\\\t</article>\\\\n\\\\t\\\\t\\\\t\\\\t\\\\t</li>\\\\n\\\\n\\\\t\\\\t\\\\t\\\\t\\\\n\\\\t\\\\t\\\\t\\\\t\\\\t<li>\\\\n\\\\t\\\\t\\\\t\\\\t\\\\t\\\\t<article class=\"list-popular-post clearfix\">\\\\n\\\\t\\\\t\\\\t\\\\t\\\\t\\\\t\\\\t\\\\t\\\\t\\\\t\\\\t\\\\t\\\\t\\\\t<div class=\"list-popular-post__media\">\\\\n\\\\t\\\\t\\\\t\\\\t\\\\t\\\\t\\\\t\\\\t<figure class=\"list-popular-post__thumbnail\">\\\\n\\\\t\\\\t\\\\t\\\\t\\\\t\\\\t\\\\t\\\\t\\\\t<img src=\"https://labs.sentinelone.com/wp-content/uploads/2019/05/Cybercrime_-_Banload_-Banking-Malware-Implements-New-Techniques-for-Fraud-1-96x50.jpg\" class=\"attachment-asiana_thumbnail_small size-asiana_thumbnail_small wp-post-image\" alt=\"Cybercrime_ _Banload_ Banking Malware Implements New Techniques for Fraud\" loading=\"lazy\" srcset=\"https://labs.sentinelone.com/wp-content/uploads/2019/05/Cybercrime_-_Banload_-Banking-Malware-Implements-New-Techniques-for-Fraud-1-96x50.jpg 96w, https://labs.sentinelone.com/wp-content/uploads/2019/05/Cybercrime_-_Banload_-Banking-Malware-Implements-New-Techniques-for-Fraud-1-300x157.jpg 300w, https://labs.sentinelone.com/wp-content/uploads/2019/05/Cybercrime_-_Banload_-Banking-Malware-Implements-New-Techniques-for-Fraud-1-1024x535.jpg 1024w, https://labs.sentinelone.com/wp-content/uploads/2019/05/Cybercrime_-_Banload_-Banking-Malware-Implements-New-Techniques-for-Fraud-1-768x401.jpg 768w, https://labs.sentinelone.com/wp-content/uploads/2019/05/Cybercrime_-_Banload_-Banking-Malware-Implements-New-Techniques-for-Fraud-1-1140x596.jpg 1140w, https://labs.sentinelone.com/wp-content/uploads/2019/05/Cybercrime_-_Banload_-Banking-Malware-Implements-New-Techniques-for-Fraud-1.jpg 1200w\" sizes=\"(max-width: 96px) 100vw, 96px\">\\\\t\\\\t\\\\t\\\\t\\\\t\\\\t\\\\t\\\\t</figure>\\\\n\\\\t\\\\t\\\\t\\\\t\\\\t\\\\t\\\\t</div>\\\\n\\\\t\\\\t\\\\t\\\\t\\\\t\\\\t\\\\t\\\\n\\\\t\\\\t\\\\t\\\\t\\\\t\\\\t\\\\t<div class=\"list-popular-post__info\">\\\\n\\\\t\\\\t\\\\t\\\\t\\\\t\\\\t\\\\t\\\\t<h5 class=\"list-popular-post__title\"><a href=\"https://labs.sentinelone.com/reversing-rig-exploit-kit-infection-chain-internals-exploits/\">RIG Exploit Kit Chain Internals</a></h5>\\\\t\\\\t\\\\t\\\\t\\\\t\\\\t\\\\t\\\\t<div class=\"list-popular-post__meta\">\\\\n\\\\t\\\\t\\\\t\\\\t\\\\t\\\\t\\\\t\\\\t\\\\t<i class=\"fa fa-tags\"></i> reverse engineeering, RIG Exploit Kit, Vitali Kremez, Zero2Hero\\\\t\\\\t\\\\t\\\\t\\\\t\\\\t\\\\t\\\\t</div>\\\\n\\\\t\\\\t\\\\t\\\\t\\\\t\\\\t\\\\t</div>\\\\n\\\\t\\\\t\\\\t\\\\t\\\\t\\\\t</article>\\\\n\\\\t\\\\t\\\\t\\\\t\\\\t</li>\\\\n\\\\n\\\\t\\\\t\\\\t\\\\t\\\\n\\\\t\\\\t\\\\t\\\\t\\\\t<li>\\\\n\\\\t\\\\t\\\\t\\\\t\\\\t\\\\t<article class=\"list-popular-post clearfix\">\\\\n\\\\t\\\\t\\\\t\\\\t\\\\t\\\\t\\\\t\\\\t\\\\t\\\\t\\\\t\\\\t\\\\t\\\\t<div class=\"list-popular-post__media\">\\\\n\\\\t\\\\t\\\\t\\\\t\\\\t\\\\t\\\\t\\\\t<figure class=\"list-popular-post__thumbnail\">\\\\n\\\\t\\\\t\\\\t\\\\t\\\\t\\\\t\\\\t\\\\t\\\\t<img src=\"https://labs.sentinelone.com/wp-content/uploads/2019/09/Trickbot-Update_-Brief-Analysis-of-a-Recent-Trickbot-Payload-1-96x50.jpg\" class=\"attachment-asiana_thumbnail_small size-asiana_thumbnail_small wp-post-image\" alt=\"featured image of trickbot update\" loading=\"lazy\" srcset=\"https://labs.sentinelone.com/wp-content/uploads/2019/09/Trickbot-Update_-Brief-Analysis-of-a-Recent-Trickbot-Payload-1-96x50.jpg 96w, https://labs.sentinelone.com/wp-content/uploads/2019/09/Trickbot-Update_-Brief-Analysis-of-a-Recent-Trickbot-Payload-1-300x157.jpg 300w, https://labs.sentinelone.com/wp-content/uploads/2019/09/Trickbot-Update_-Brief-Analysis-of-a-Recent-Trickbot-Payload-1-1024x536.jpg 1024w, https://labs.sentinelone.com/wp-content/uploads/2019/09/Trickbot-Update_-Brief-Analysis-of-a-Recent-Trickbot-Payload-1-768x402.jpg 768w, https://labs.sentinelone.com/wp-content/uploads/2019/09/Trickbot-Update_-Brief-Analysis-of-a-Recent-Trickbot-Payload-1-1140x597.jpg 1140w, https://labs.sentinelone.com/wp-content/uploads/2019/09/Trickbot-Update_-Brief-Analysis-of-a-Recent-Trickbot-Payload-1.jpg 1200w\" sizes=\"(max-width: 96px) 100vw, 96px\">\\\\t\\\\t\\\\t\\\\t\\\\t\\\\t\\\\t\\\\t</figure>\\\\n\\\\t\\\\t\\\\t\\\\t\\\\t\\\\t\\\\t</div>\\\\n\\\\t\\\\t\\\\t\\\\t\\\\t\\\\t\\\\t\\\\n\\\\t\\\\t\\\\t\\\\t\\\\t\\\\t\\\\t<div class=\"list-popular-post__info\">\\\\n\\\\t\\\\t\\\\t\\\\t\\\\t\\\\t\\\\t\\\\t<h5 class=\"list-popular-post__title\"><a href=\"https://labs.sentinelone.com/trickbot-update-brief-analysis-of-a-recent-trickbot-payload/\">Trickbot Update: Brief Analysis of a Recent Trickbot Payload</a></h5>\\\\t\\\\t\\\\t\\\\t\\\\t\\\\t\\\\t\\\\t<div class=\"list-popular-post__meta\">\\\\n\\\\t\\\\t\\\\t\\\\t\\\\t\\\\t\\\\t\\\\t\\\\t<i class=\"fa fa-tags\"></i> banking trojan, phishing, trickbot\\\\t\\\\t\\\\t\\\\t\\\\t\\\\t\\\\t\\\\t</div>\\\\n\\\\t\\\\t\\\\t\\\\t\\\\t\\\\t\\\\t</div>\\\\n\\\\t\\\\t\\\\t\\\\t\\\\t\\\\t</article>\\\\n\\\\t\\\\t\\\\t\\\\t\\\\t</li>\\\\n\\\\n\\\\t\\\\t\\\\t\\\\t\\\\n\\\\t\\\\t\\\\t\\\\t\\\\t<li>\\\\n\\\\t\\\\t\\\\t\\\\t\\\\t\\\\t<article class=\"list-popular-post clearfix\">\\\\n\\\\t\\\\t\\\\t\\\\t\\\\t\\\\t\\\\t\\\\t\\\\t\\\\t\\\\t\\\\t\\\\t\\\\t<div class=\"list-popular-post__media\">\\\\n\\\\t\\\\t\\\\t\\\\t\\\\t\\\\t\\\\t\\\\t<figure class=\"list-popular-post__thumbnail\">\\\\n\\\\t\\\\t\\\\t\\\\t\\\\t\\\\t\\\\t\\\\t\\\\t<img src=\"https://labs.sentinelone.com/wp-content/uploads/2019/08/Gootkit-Banking-Trojan-_-Part-3_-Retrieving-the-Final-Payload-1-96x50.jpg\" class=\"attachment-asiana_thumbnail_small size-asiana_thumbnail_small wp-post-image\" alt=\"\" loading=\"lazy\" srcset=\"https://labs.sentinelone.com/wp-content/uploads/2019/08/Gootkit-Banking-Trojan-_-Part-3_-Retrieving-the-Final-Payload-1-96x50.jpg 96w, https://labs.sentinelone.com/wp-content/uploads/2019/08/Gootkit-Banking-Trojan-_-Part-3_-Retrieving-the-Final-Payload-1-300x157.jpg 300w, https://labs.sentinelone.com/wp-content/uploads/2019/08/Gootkit-Banking-Trojan-_-Part-3_-Retrieving-the-Final-Payload-1-1024x536.jpg 1024w, https://labs.sentinelone.com/wp-content/uploads/2019/08/Gootkit-Banking-Trojan-_-Part-3_-Retrieving-the-Final-Payload-1-768x402.jpg 768w, https://labs.sentinelone.com/wp-content/uploads/2019/08/Gootkit-Banking-Trojan-_-Part-3_-Retrieving-the-Final-Payload-1-1140x597.jpg 1140w, https://labs.sentinelone.com/wp-content/uploads/2019/08/Gootkit-Banking-Trojan-_-Part-3_-Retrieving-the-Final-Payload-1.jpg 1200w\" sizes=\"(max-width: 96px) 100vw, 96px\">\\\\t\\\\t\\\\t\\\\t\\\\t\\\\t\\\\t\\\\t</figure>\\\\n\\\\t\\\\t\\\\t\\\\t\\\\t\\\\t\\\\t</div>\\\\n\\\\t\\\\t\\\\t\\\\t\\\\t\\\\t\\\\t\\\\n\\\\t\\\\t\\\\t\\\\t\\\\t\\\\t\\\\t<div class=\"list-popular-post__info\">\\\\n\\\\t\\\\t\\\\t\\\\t\\\\t\\\\t\\\\t\\\\t<h5 class=\"list-popular-post__title\"><a href=\"https://labs.sentinelone.com/gootkit-banking-trojan-retrieving-final-payload/\">Gootkit Banking Trojan | Part 3: Retrieving the Final Payload</a></h5>\\\\t\\\\t\\\\t\\\\t\\\\t\\\\t\\\\t\\\\t<div class=\"list-popular-post__meta\">\\\\n\\\\t\\\\t\\\\t\\\\t\\\\t\\\\t\\\\t\\\\t\\\\t<i class=\"fa fa-tags\"></i> banking trojan, Gootkit, reverse engineering, Zero2Hero\\\\t\\\\t\\\\t\\\\t\\\\t\\\\t\\\\t\\\\t</div>\\\\n\\\\t\\\\t\\\\t\\\\t\\\\t\\\\t\\\\t</div>\\\\n\\\\t\\\\t\\\\t\\\\t\\\\t\\\\t</article>\\\\n\\\\t\\\\t\\\\t\\\\t\\\\t</li>\\\\n\\\\n\\\\t\\\\t\\\\t\\\\t\\\\n\\\\t\\\\t\\\\t\\\\t</ul>\\\\n\\\\t\\\\t\\\\t\\\\t\\\\n\\\\t\\\\t\\\\t</div>\\\\n\\\\n\\\\t\\\\t</div><div id=\"tp_widget_recent_tweets-3\" class=\"widget widget_tp_widget_recent_tweets\"><h3 class=\"widget-title\">Tweets</h3>\\\\n\\\\t\\\\t\\\\t\\\\t\\\\t\\\\t<div class=\"tp_recent_tweets\">\\\\n\\\\t\\\\t\\\\t\\\\t\\\\t\\\\t\\\\t<ul><li><span>  Hiding a file, picture, message or even a video within another file can be an effective way for malware authors&#8230; <a href=\"https://t.co/tFqxVu6TV1\" target=\"_blank\">https://t.co/tFqxVu6TV1</a></span><a class=\"twitter_time\" target=\"_blank\" href=\"http://twitter.com/sentinelone/statuses/1374443588906446855\">7 hours ago</a></li><li><span>  <a href=\"https://twitter.com/search?q=HelloKitty\" title=\"Search #HelloKitty\" target=\"_blank\">#HelloKitty</a> lacks the stealth of <a href=\"https://twitter.com/search?q=Ryuk\" title=\"Search #Ryuk\" target=\"_blank\">#Ryuk</a>, <a href=\"https://twitter.com/search?q=REvil\" title=\"Search #REvil\" target=\"_blank\">#REvil</a>, and <a href=\"https://twitter.com/search?q=Conti\" title=\"Search #Conti\" target=\"_blank\">#Conti</a>, but has still struck some notable targets, including&#8230; <a href=\"https://t.co/4MmUrFnj9W\" target=\"_blank\">https://t.co/4MmUrFnj9W</a></span><a class=\"twitter_time\" target=\"_blank\" href=\"http://twitter.com/sentinelone/statuses/1374427478467309571\">8 hours ago</a></li><li><span>&#65039; Every day until March 28th, compete in SentinelOne\\\\\\'s Apex Overdrive. Make it to the top of the leaderboard to wi&#8230; <a href=\"https://t.co/plIa4AtRlY\" target=\"_blank\">https://t.co/plIa4AtRlY</a></span><a class=\"twitter_time\" target=\"_blank\" href=\"http://twitter.com/sentinelone/statuses/1374425367839080450\">8 hours ago</a></li><li><span> Congratulations to Brian Jones of <a href=\"http://twitter.com/Optiv\" title=\"Follow Optiv\" target=\"_blank\">@Optiv</a>, winner of our Silver Slugger Award for partner excellence!\\\\n\\\\n<a href=\"https://twitter.com/search?q=infosec\" title=\"Search #infosec\" target=\"_blank\">#infosec</a>&#8230; <a href=\"https://t.co/kBIKxrusD1\" target=\"_blank\">https://t.co/kBIKxrusD1</a></span><a class=\"twitter_time\" target=\"_blank\" href=\"http://twitter.com/sentinelone/statuses/1374421570567872521\">8 hours ago</a></li>\\\\n\\\\t\\\\t\\\\t\\\\t\\\\t\\\\t\\\\t</ul></div></div><div id=\"asiana-latest-posts-widget-1\" class=\"widget asiana-latest-posts-widget\"><h3 class=\"widget-title\">Latest Posts</h3>\\\\n\\\\t\\\\t\\\\t<div class=\"inner-latest-post-widget\">\\\\n\\\\n\\\\t\\\\t\\\\t\\\\t<ul class=\"plain-list\">\\\\n\\\\n\\\\t\\\\t\\\\t\\\\t\\\\n\\\\t\\\\t\\\\t\\\\t\\\\t<li>\\\\n\\\\t\\\\t\\\\t\\\\t\\\\t\\\\t<article class=\"list-latest-post clearfix\">\\\\n\\\\t\\\\t\\\\t\\\\t\\\\t\\\\t\\\\t\\\\t\\\\t\\\\t\\\\t\\\\t\\\\t\\\\t<div class=\"list-latest-post__media\">\\\\n\\\\t\\\\t\\\\t\\\\t\\\\t\\\\t\\\\t\\\\t<figure class=\"list-latest-post__thumbnail\">\\\\n\\\\t\\\\t\\\\t\\\\t\\\\t\\\\t\\\\t\\\\t\\\\t<img src=\"https://labs.sentinelone.com/wp-content/uploads/2021/03/New-macOS-malware-XcodeSpy-Targets-Xcode-Developers-with-EggShell-Backdoor-6-96x50.jpg\" class=\"attachment-asiana_thumbnail_small size-asiana_thumbnail_small wp-post-image\" alt=\"\" loading=\"lazy\" srcset=\"https://labs.sentinelone.com/wp-content/uploads/2021/03/New-macOS-malware-XcodeSpy-Targets-Xcode-Developers-with-EggShell-Backdoor-6-96x50.jpg 96w, https://labs.sentinelone.com/wp-content/uploads/2021/03/New-macOS-malware-XcodeSpy-Targets-Xcode-Developers-with-EggShell-Backdoor-6-300x157.jpg 300w, https://labs.sentinelone.com/wp-content/uploads/2021/03/New-macOS-malware-XcodeSpy-Targets-Xcode-Developers-with-EggShell-Backdoor-6-1024x536.jpg 1024w, https://labs.sentinelone.com/wp-content/uploads/2021/03/New-macOS-malware-XcodeSpy-Targets-Xcode-Developers-with-EggShell-Backdoor-6-768x402.jpg 768w, https://labs.sentinelone.com/wp-content/uploads/2021/03/New-macOS-malware-XcodeSpy-Targets-Xcode-Developers-with-EggShell-Backdoor-6-1140x597.jpg 1140w, https://labs.sentinelone.com/wp-content/uploads/2021/03/New-macOS-malware-XcodeSpy-Targets-Xcode-Developers-with-EggShell-Backdoor-6.jpg 1200w\" sizes=\"(max-width: 96px) 100vw, 96px\">\\\\t\\\\t\\\\t\\\\t\\\\t\\\\t\\\\t\\\\t</figure>\\\\n\\\\t\\\\t\\\\t\\\\t\\\\t\\\\t\\\\t</div>\\\\n\\\\t\\\\t\\\\t\\\\t\\\\t\\\\t\\\\t\\\\n\\\\t\\\\t\\\\t\\\\t\\\\t\\\\t\\\\t<div class=\"list-latest-post__info\">\\\\n\\\\t\\\\t\\\\t\\\\t\\\\t\\\\t\\\\t\\\\t<h5 class=\"list-latest-post__title\"><a href=\"https://labs.sentinelone.com/new-macos-malware-xcodespy-targets-xcode-developers-with-eggshell-backdoor/\">New macOS malware XcodeSpy Targets Xcode Developers with EggShell Backdoor</a></h5>\\\\t\\\\t\\\\t\\\\t\\\\t\\\\t\\\\t\\\\t<div class=\"list-latest-post__meta\">\\\\n\\\\t\\\\t\\\\t\\\\t\\\\t\\\\t\\\\t\\\\t\\\\t\\\\t\\\\t\\\\t\\\\t\\\\t\\\\t\\\\t\\\\t\\\\t\\\\t<time datetime=\"2021-03-18T12:55:58+00:00\">\\\\n\\\\t\\\\t\\\\t\\\\t\\\\t\\\\t\\\\t\\\\t\\\\t\\\\t\\\\t<i class=\"fa fa-calendar\"></i> March 18, 2021\\\\t\\\\t\\\\t\\\\t\\\\t\\\\t\\\\t\\\\t\\\\t\\\\t</time>\\\\n\\\\t\\\\t\\\\t\\\\t\\\\t\\\\t\\\\t\\\\t\\\\t\\\\t\\\\t\\\\t\\\\t\\\\t\\\\t\\\\t\\\\t\\\\t</div>\\\\n\\\\t\\\\t\\\\t\\\\t\\\\t\\\\t\\\\t</div>\\\\n\\\\t\\\\t\\\\t\\\\t\\\\t\\\\t</article>\\\\n\\\\t\\\\t\\\\t\\\\t\\\\t</li>\\\\n\\\\n\\\\t\\\\t\\\\t\\\\t\\\\n\\\\t\\\\t\\\\t\\\\t\\\\t<li>\\\\n\\\\t\\\\t\\\\t\\\\t\\\\t\\\\t<article class=\"list-latest-post clearfix\">\\\\n\\\\t\\\\t\\\\t\\\\t\\\\t\\\\t\\\\t\\\\t\\\\t\\\\t\\\\t\\\\t\\\\t\\\\t<div class=\"list-latest-post__media\">\\\\n\\\\t\\\\t\\\\t\\\\t\\\\t\\\\t\\\\t\\\\t<figure class=\"list-latest-post__thumbnail\">\\\\n\\\\t\\\\t\\\\t\\\\t\\\\t\\\\t\\\\t\\\\t\\\\t<img src=\"https://labs.sentinelone.com/wp-content/uploads/2021/03/Top-15-Essential-Malware-Analysis-Tools-4-96x50.jpg\" class=\"attachment-asiana_thumbnail_small size-asiana_thumbnail_small wp-post-image\" alt=\"\" loading=\"lazy\" srcset=\"https://labs.sentinelone.com/wp-content/uploads/2021/03/Top-15-Essential-Malware-Analysis-Tools-4-96x50.jpg 96w, https://labs.sentinelone.com/wp-content/uploads/2021/03/Top-15-Essential-Malware-Analysis-Tools-4-300x157.jpg 300w, https://labs.sentinelone.com/wp-content/uploads/2021/03/Top-15-Essential-Malware-Analysis-Tools-4-1024x536.jpg 1024w, https://labs.sentinelone.com/wp-content/uploads/2021/03/Top-15-Essential-Malware-Analysis-Tools-4-768x402.jpg 768w, https://labs.sentinelone.com/wp-content/uploads/2021/03/Top-15-Essential-Malware-Analysis-Tools-4-1140x597.jpg 1140w, https://labs.sentinelone.com/wp-content/uploads/2021/03/Top-15-Essential-Malware-Analysis-Tools-4.jpg 1200w\" sizes=\"(max-width: 96px) 100vw, 96px\">\\\\t\\\\t\\\\t\\\\t\\\\t\\\\t\\\\t\\\\t</figure>\\\\n\\\\t\\\\t\\\\t\\\\t\\\\t\\\\t\\\\t</div>\\\\n\\\\t\\\\t\\\\t\\\\t\\\\t\\\\t\\\\t\\\\n\\\\t\\\\t\\\\t\\\\t\\\\t\\\\t\\\\t<div class=\"list-latest-post__info\">\\\\n\\\\t\\\\t\\\\t\\\\t\\\\t\\\\t\\\\t\\\\t<h5 class=\"list-latest-post__title\"><a href=\"https://labs.sentinelone.com/top-15-essential-malware-analysis-tools/\">Top 15 Essential Malware Analysis Tools</a></h5>\\\\t\\\\t\\\\t\\\\t\\\\t\\\\t\\\\t\\\\t<div class=\"list-latest-post__meta\">\\\\n\\\\t\\\\t\\\\t\\\\t\\\\t\\\\t\\\\t\\\\t\\\\t\\\\t\\\\t\\\\t\\\\t\\\\t\\\\t\\\\t\\\\t\\\\t\\\\t<time datetime=\"2021-03-11T16:52:19+00:00\">\\\\n\\\\t\\\\t\\\\t\\\\t\\\\t\\\\t\\\\t\\\\t\\\\t\\\\t\\\\t<i class=\"fa fa-calendar\"></i> March 11, 2021\\\\t\\\\t\\\\t\\\\t\\\\t\\\\t\\\\t\\\\t\\\\t\\\\t</time>\\\\n\\\\t\\\\t\\\\t\\\\t\\\\t\\\\t\\\\t\\\\t\\\\t\\\\t\\\\t\\\\t\\\\t\\\\t\\\\t\\\\t\\\\t\\\\t</div>\\\\n\\\\t\\\\t\\\\t\\\\t\\\\t\\\\t\\\\t</div>\\\\n\\\\t\\\\t\\\\t\\\\t\\\\t\\\\t</article>\\\\n\\\\t\\\\t\\\\t\\\\t\\\\t</li>\\\\n\\\\n\\\\t\\\\t\\\\t\\\\t\\\\n\\\\t\\\\t\\\\t\\\\t\\\\t<li>\\\\n\\\\t\\\\t\\\\t\\\\t\\\\t\\\\t<article class=\"list-latest-post clearfix\">\\\\n\\\\t\\\\t\\\\t\\\\t\\\\t\\\\t\\\\t\\\\t\\\\t\\\\t\\\\t\\\\t\\\\t\\\\t<div class=\"list-latest-post__media\">\\\\n\\\\t\\\\t\\\\t\\\\t\\\\t\\\\t\\\\t\\\\t<figure class=\"list-latest-post__thumbnail\">\\\\n\\\\t\\\\t\\\\t\\\\t\\\\t\\\\t\\\\t\\\\t\\\\t<img src=\"https://labs.sentinelone.com/wp-content/uploads/2021/03/HelloKitty-Ransomware-Lacks-Stealth-But-Still-Strikes-Home-3-96x50.jpg\" class=\"attachment-asiana_thumbnail_small size-asiana_thumbnail_small wp-post-image\" alt=\"\" loading=\"lazy\" srcset=\"https://labs.sentinelone.com/wp-content/uploads/2021/03/HelloKitty-Ransomware-Lacks-Stealth-But-Still-Strikes-Home-3-96x50.jpg 96w, https://labs.sentinelone.com/wp-content/uploads/2021/03/HelloKitty-Ransomware-Lacks-Stealth-But-Still-Strikes-Home-3-300x157.jpg 300w, https://labs.sentinelone.com/wp-content/uploads/2021/03/HelloKitty-Ransomware-Lacks-Stealth-But-Still-Strikes-Home-3-1024x536.jpg 1024w, https://labs.sentinelone.com/wp-content/uploads/2021/03/HelloKitty-Ransomware-Lacks-Stealth-But-Still-Strikes-Home-3-768x402.jpg 768w, https://labs.sentinelone.com/wp-content/uploads/2021/03/HelloKitty-Ransomware-Lacks-Stealth-But-Still-Strikes-Home-3-1140x597.jpg 1140w, https://labs.sentinelone.com/wp-content/uploads/2021/03/HelloKitty-Ransomware-Lacks-Stealth-But-Still-Strikes-Home-3.jpg 1200w\" sizes=\"(max-width: 96px) 100vw, 96px\">\\\\t\\\\t\\\\t\\\\t\\\\t\\\\t\\\\t\\\\t</figure>\\\\n\\\\t\\\\t\\\\t\\\\t\\\\t\\\\t\\\\t</div>\\\\n\\\\t\\\\t\\\\t\\\\t\\\\t\\\\t\\\\t\\\\n\\\\t\\\\t\\\\t\\\\t\\\\t\\\\t\\\\t<div class=\"list-latest-post__info\">\\\\n\\\\t\\\\t\\\\t\\\\t\\\\t\\\\t\\\\t\\\\t<h5 class=\"list-latest-post__title\"><a href=\"https://labs.sentinelone.com/hellokitty-ransomware-lacks-stealth-but-still-strikes-home/\">HelloKitty Ransomware Lacks Stealth, But Still Strikes Home</a></h5>\\\\t\\\\t\\\\t\\\\t\\\\t\\\\t\\\\t\\\\t<div class=\"list-latest-post__meta\">\\\\n\\\\t\\\\t\\\\t\\\\t\\\\t\\\\t\\\\t\\\\t\\\\t\\\\t\\\\t\\\\t\\\\t\\\\t\\\\t\\\\t\\\\t\\\\t\\\\t<time datetime=\"2021-03-08T17:22:44+00:00\">\\\\n\\\\t\\\\t\\\\t\\\\t\\\\t\\\\t\\\\t\\\\t\\\\t\\\\t\\\\t<i class=\"fa fa-calendar\"></i> March 08, 2021\\\\t\\\\t\\\\t\\\\t\\\\t\\\\t\\\\t\\\\t\\\\t\\\\t</time>\\\\n\\\\t\\\\t\\\\t\\\\t\\\\t\\\\t\\\\t\\\\t\\\\t\\\\t\\\\t\\\\t\\\\t\\\\t\\\\t\\\\t\\\\t\\\\t</div>\\\\n\\\\t\\\\t\\\\t\\\\t\\\\t\\\\t\\\\t</div>\\\\n\\\\t\\\\t\\\\t\\\\t\\\\t\\\\t</article>\\\\n\\\\t\\\\t\\\\t\\\\t\\\\t</li>\\\\n\\\\n\\\\t\\\\t\\\\t\\\\t\\\\n\\\\t\\\\t\\\\t\\\\t\\\\t<li>\\\\n\\\\t\\\\t\\\\t\\\\t\\\\t\\\\t<article class=\"list-latest-post clearfix\">\\\\n\\\\t\\\\t\\\\t\\\\t\\\\t\\\\t\\\\t\\\\t\\\\t\\\\t\\\\t\\\\t\\\\t\\\\t<div class=\"list-latest-post__media\">\\\\n\\\\t\\\\t\\\\t\\\\t\\\\t\\\\t\\\\t\\\\t<figure class=\"list-latest-post__thumbnail\">\\\\n\\\\t\\\\t\\\\t\\\\t\\\\t\\\\t\\\\t\\\\t\\\\t<img src=\"https://labs.sentinelone.com/wp-content/uploads/2021/03/A-Guide-to-Ghidra-Scripting-Development-for-Malware-Researchers-3-96x50.jpg\" class=\"attachment-asiana_thumbnail_small size-asiana_thumbnail_small wp-post-image\" alt=\"\" loading=\"lazy\" srcset=\"https://labs.sentinelone.com/wp-content/uploads/2021/03/A-Guide-to-Ghidra-Scripting-Development-for-Malware-Researchers-3-96x50.jpg 96w, https://labs.sentinelone.com/wp-content/uploads/2021/03/A-Guide-to-Ghidra-Scripting-Development-for-Malware-Researchers-3-300x157.jpg 300w, https://labs.sentinelone.com/wp-content/uploads/2021/03/A-Guide-to-Ghidra-Scripting-Development-for-Malware-Researchers-3-1024x536.jpg 1024w, https://labs.sentinelone.com/wp-content/uploads/2021/03/A-Guide-to-Ghidra-Scripting-Development-for-Malware-Researchers-3-768x402.jpg 768w, https://labs.sentinelone.com/wp-content/uploads/2021/03/A-Guide-to-Ghidra-Scripting-Development-for-Malware-Researchers-3-1140x597.jpg 1140w, https://labs.sentinelone.com/wp-content/uploads/2021/03/A-Guide-to-Ghidra-Scripting-Development-for-Malware-Researchers-3.jpg 1200w\" sizes=\"(max-width: 96px) 100vw, 96px\">\\\\t\\\\t\\\\t\\\\t\\\\t\\\\t\\\\t\\\\t</figure>\\\\n\\\\t\\\\t\\\\t\\\\t\\\\t\\\\t\\\\t</div>\\\\n\\\\t\\\\t\\\\t\\\\t\\\\t\\\\t\\\\t\\\\n\\\\t\\\\t\\\\t\\\\t\\\\t\\\\t\\\\t<div class=\"list-latest-post__info\">\\\\n\\\\t\\\\t\\\\t\\\\t\\\\t\\\\t\\\\t\\\\t<h5 class=\"list-latest-post__title\"><a href=\"https://labs.sentinelone.com/a-guide-to-ghidra-scripting-development-for-malware-researchers/\">A Guide to Ghidra Scripting Development for Malware Researchers</a></h5>\\\\t\\\\t\\\\t\\\\t\\\\t\\\\t\\\\t\\\\t<div class=\"list-latest-post__meta\">\\\\n\\\\t\\\\t\\\\t\\\\t\\\\t\\\\t\\\\t\\\\t\\\\t\\\\t\\\\t\\\\t\\\\t\\\\t\\\\t\\\\t\\\\t\\\\t\\\\t<time datetime=\"2021-03-03T17:33:57+00:00\">\\\\n\\\\t\\\\t\\\\t\\\\t\\\\t\\\\t\\\\t\\\\t\\\\t\\\\t\\\\t<i class=\"fa fa-calendar\"></i> March 03, 2021\\\\t\\\\t\\\\t\\\\t\\\\t\\\\t\\\\t\\\\t\\\\t\\\\t</time>\\\\n\\\\t\\\\t\\\\t\\\\t\\\\t\\\\t\\\\t\\\\t\\\\t\\\\t\\\\t\\\\t\\\\t\\\\t\\\\t\\\\t\\\\t\\\\t</div>\\\\n\\\\t\\\\t\\\\t\\\\t\\\\t\\\\t\\\\t</div>\\\\n\\\\t\\\\t\\\\t\\\\t\\\\t\\\\t</article>\\\\n\\\\t\\\\t\\\\t\\\\t\\\\t</li>\\\\n\\\\n\\\\t\\\\t\\\\t\\\\t\\\\n\\\\t\\\\t\\\\t\\\\t</ul>\\\\n\\\\t\\\\t\\\\t\\\\t\\\\n\\\\t\\\\t\\\\t</div>\\\\n\\\\n\\\\t\\\\t</div>\\\\t\\\\n\\\\n\\\\t</div>\\\\n\\\\n</aside>\\\\n\\\\n\\\\t\\\\t\\\\t</div>\\\\n\\\\n\\\\t\\\\t</div>\\\\n\\\\t\\\\t\\\\n\\\\t</div>\\\\n\\\\n</div>\\\\n\\\\n\\\\n\\\\t<footer id=\"colophon\" class=\"site-footer\" role=\"contentinfo\" itemscope itemtype=\"http://schema.org/WPFooter\">\\\\n\\\\n\\\\t\\\\t<div class=\"footer-sidebar\">\\\\n\\\\t\\\\n\\\\t<div class=\"container\">\\\\n\\\\t\\\\t\\\\n\\\\t\\\\t<div class=\"row\">\\\\n\\\\t\\\\t\\\\t\\\\n\\\\t\\\\t\\\\t\\\\t<div class=\"col-md-3\">\\\\n\\\\t\\\\t\\\\t\\\\t\\\\t<div id=\"text-3\" class=\"widget widget_text\"><h3 class=\"widget-title\">SentinelLabs</h3>\\\\t\\\\t\\\\t<div class=\"textwidget\"><p><span>In the era of interconnectivity, when markets, geographies, and jurisdictions merge in the melting pot of the digital domain, the perils of the threat ecosystem become unparalleled. Crimeware families achieve an unparalleled level of technical sophistication, APT groups are competing in fully-fledged cyber warfare, while once decentralized and scattered threat actors are forming adamant alliances of operating as elite corporate espionage teams.</span></p>\\\\n</div>\\\\n\\\\t\\\\t</div>\\\\t\\\\t\\\\t\\\\t</div>\\\\n\\\\n\\\\t\\\\t\\\\t\\\\t\\\\n\\\\t\\\\t\\\\t\\\\t<div class=\"col-md-3\">\\\\n\\\\t\\\\t\\\\t\\\\t\\\\t<div id=\"tp_widget_recent_tweets-1\" class=\"widget widget_tp_widget_recent_tweets\"><h3 class=\"widget-title\">Latest Tweet</h3>\\\\n\\\\t\\\\t\\\\t\\\\t\\\\t\\\\t<div class=\"tp_recent_tweets\">\\\\n\\\\t\\\\t\\\\t\\\\t\\\\t\\\\t\\\\t<ul><li><span>  Hiding a file, picture, message or even a video within another file can be an effective way for malware authors&#8230; <a href=\"https://t.co/tFqxVu6TV1\" target=\"_blank\">https://t.co/tFqxVu6TV1</a></span><a class=\"twitter_time\" target=\"_blank\" href=\"http://twitter.com/vk_intel/statuses/1374443588906446855\">7 hours ago</a></li><li><span>  <a href=\"https://twitter.com/search?q=HelloKitty\" title=\"Search #HelloKitty\" target=\"_blank\">#HelloKitty</a> lacks the stealth of <a href=\"https://twitter.com/search?q=Ryuk\" title=\"Search #Ryuk\" target=\"_blank\">#Ryuk</a>, <a href=\"https://twitter.com/search?q=REvil\" title=\"Search #REvil\" target=\"_blank\">#REvil</a>, and <a href=\"https://twitter.com/search?q=Conti\" title=\"Search #Conti\" target=\"_blank\">#Conti</a>, but has still struck some notable targets, including&#8230; <a href=\"https://t.co/4MmUrFnj9W\" target=\"_blank\">https://t.co/4MmUrFnj9W</a></span><a class=\"twitter_time\" target=\"_blank\" href=\"http://twitter.com/vk_intel/statuses/1374427478467309571\">8 hours ago</a></li><li><span>&#65039; Every day until March 28th, compete in SentinelOne\\\\\\'s Apex Overdrive. Make it to the top of the leaderboard to wi&#8230; <a href=\"https://t.co/plIa4AtRlY\" target=\"_blank\">https://t.co/plIa4AtRlY</a></span><a class=\"twitter_time\" target=\"_blank\" href=\"http://twitter.com/vk_intel/statuses/1374425367839080450\">8 hours ago</a></li><li><span> Congratulations to Brian Jones of <a href=\"http://twitter.com/Optiv\" title=\"Follow Optiv\" target=\"_blank\">@Optiv</a>, winner of our Silver Slugger Award for partner excellence!\\\\n\\\\n<a href=\"https://twitter.com/search?q=infosec\" title=\"Search #infosec\" target=\"_blank\">#infosec</a>&#8230; <a href=\"https://t.co/kBIKxrusD1\" target=\"_blank\">https://t.co/kBIKxrusD1</a></span><a class=\"twitter_time\" target=\"_blank\" href=\"http://twitter.com/vk_intel/statuses/1374421570567872521\">8 hours ago</a></li>\\\\n\\\\t\\\\t\\\\t\\\\t\\\\t\\\\t\\\\t</ul></div></div>\\\\t\\\\t\\\\t\\\\t</div>\\\\n\\\\n\\\\t\\\\t\\\\t\\\\t\\\\n\\\\t\\\\t\\\\t\\\\t<div class=\"col-md-3\">\\\\n\\\\t\\\\t\\\\t\\\\t\\\\t<div id=\"tag_cloud-1\" class=\"widget widget_tag_cloud\"><h3 class=\"widget-title\">Browse Tags</h3><div class=\"tagcloud\"><a href=\"https://labs.sentinelone.com/tag/adware/\" class=\"tag-cloud-link tag-link-141 tag-link-position-1\" aria-label=\"adware (2 items)\">adware</a>\\\\n<a href=\"https://labs.sentinelone.com/tag/agent-tesla/\" class=\"tag-cloud-link tag-link-1538 tag-link-position-2\" aria-label=\"Agent Tesla (1 item)\">Agent Tesla</a>\\\\n<a href=\"https://labs.sentinelone.com/tag/anchor/\" class=\"tag-cloud-link tag-link-272 tag-link-position-3\" aria-label=\"Anchor (2 items)\">Anchor</a>\\\\n<a href=\"https://labs.sentinelone.com/tag/apt/\" class=\"tag-cloud-link tag-link-106 tag-link-position-4\" aria-label=\"apt (5 items)\">apt</a>\\\\n<a href=\"https://labs.sentinelone.com/tag/backdoor/\" class=\"tag-cloud-link tag-link-590 tag-link-position-5\" aria-label=\"Backdoor (4 items)\">Backdoor</a>\\\\n<a href=\"https://labs.sentinelone.com/tag/banking-malware/\" class=\"tag-cloud-link tag-link-271 tag-link-position-6\" aria-label=\"banking malware (2 items)\">banking malware</a>\\\\n<a href=\"https://labs.sentinelone.com/tag/banking-trojan/\" class=\"tag-cloud-link tag-link-43 tag-link-position-7\" aria-label=\"banking trojan (5 items)\">banking trojan</a>\\\\n<a href=\"https://labs.sentinelone.com/tag/cve/\" class=\"tag-cloud-link tag-link-1639 tag-link-position-8\" aria-label=\"CVE (2 items)\">CVE</a>\\\\n<a href=\"https://labs.sentinelone.com/tag/daniel-bunce/\" class=\"tag-cloud-link tag-link-48 tag-link-position-9\" aria-label=\"Daniel Bunce (3 items)\">Daniel Bunce</a>\\\\n<a href=\"https://labs.sentinelone.com/tag/exploitation/\" class=\"tag-cloud-link tag-link-1198 tag-link-position-10\" aria-label=\"Exploitation (2 items)\">Exploitation</a>\\\\n<a href=\"https://labs.sentinelone.com/tag/firmware/\" class=\"tag-cloud-link tag-link-1429 tag-link-position-11\" aria-label=\"Firmware (3 items)\">Firmware</a>\\\\n<a href=\"https://labs.sentinelone.com/tag/ghidra/\" class=\"tag-cloud-link tag-link-1628 tag-link-position-12\" aria-label=\"Ghidra (2 items)\">Ghidra</a>\\\\n<a href=\"https://labs.sentinelone.com/tag/golang/\" class=\"tag-cloud-link tag-link-56 tag-link-position-13\" aria-label=\"golang (2 items)\">golang</a>\\\\n<a href=\"https://labs.sentinelone.com/tag/gootkit/\" class=\"tag-cloud-link tag-link-44 tag-link-position-14\" aria-label=\"Gootkit (3 items)\">Gootkit</a>\\\\n<a href=\"https://labs.sentinelone.com/tag/incident-response/\" class=\"tag-cloud-link tag-link-123 tag-link-position-15\" aria-label=\"incident response (3 items)\">incident response</a>\\\\n<a href=\"https://labs.sentinelone.com/tag/info-stealer/\" class=\"tag-cloud-link tag-link-51 tag-link-position-16\" aria-label=\"Info Stealer (3 items)\">Info Stealer</a>\\\\n<a href=\"https://labs.sentinelone.com/tag/keylogger/\" class=\"tag-cloud-link tag-link-1537 tag-link-position-17\" aria-label=\"Keylogger (1 item)\">Keylogger</a>\\\\n<a href=\"https://labs.sentinelone.com/tag/loader/\" class=\"tag-cloud-link tag-link-768 tag-link-position-18\" aria-label=\"loader (1 item)\">loader</a>\\\\n<a href=\"https://labs.sentinelone.com/tag/lolbins/\" class=\"tag-cloud-link tag-link-1197 tag-link-position-19\" aria-label=\"LOLBins (2 items)\">LOLBins</a>\\\\n<a href=\"https://labs.sentinelone.com/tag/mach-o/\" class=\"tag-cloud-link tag-link-102 tag-link-position-20\" aria-label=\"Mach-O (2 items)\">Mach-O</a>\\\\n<a href=\"https://labs.sentinelone.com/tag/macos/\" class=\"tag-cloud-link tag-link-93 tag-link-position-21\" aria-label=\"macOS (12 items)\">macOS</a>\\\\n<a href=\"https://labs.sentinelone.com/tag/malware/\" class=\"tag-cloud-link tag-link-68 tag-link-position-22\" aria-label=\"Malware (5 items)\">Malware</a>\\\\n<a href=\"https://labs.sentinelone.com/tag/malware-analysis/\" class=\"tag-cloud-link tag-link-100 tag-link-position-23\" aria-label=\"Malware Analysis (3 items)\">Malware Analysis</a>\\\\n<a href=\"https://labs.sentinelone.com/tag/maze/\" class=\"tag-cloud-link tag-link-378 tag-link-position-24\" aria-label=\"Maze (3 items)\">Maze</a>\\\\n<a href=\"https://labs.sentinelone.com/tag/pci/\" class=\"tag-cloud-link tag-link-1428 tag-link-position-25\" aria-label=\"PCI (3 items)\">PCI</a>\\\\n<a href=\"https://labs.sentinelone.com/tag/phishing/\" class=\"tag-cloud-link tag-link-81 tag-link-position-26\" aria-label=\"phishing (3 items)\">phishing</a>\\\\n<a href=\"https://labs.sentinelone.com/tag/powertrick/\" class=\"tag-cloud-link tag-link-589 tag-link-position-27\" aria-label=\"PowerTrick (2 items)\">PowerTrick</a>\\\\n<a href=\"https://labs.sentinelone.com/tag/privilege-escalation/\" class=\"tag-cloud-link tag-link-143 tag-link-position-28\" aria-label=\"privilege escalation (3 items)\">privilege escalation</a>\\\\n<a href=\"https://labs.sentinelone.com/tag/raas/\" class=\"tag-cloud-link tag-link-87 tag-link-position-29\" aria-label=\"RaaS (5 items)\">RaaS</a>\\\\n<a href=\"https://labs.sentinelone.com/tag/ransomware/\" class=\"tag-cloud-link tag-link-57 tag-link-position-30\" aria-label=\"Ransomware (17 items)\">Ransomware</a>\\\\n<a href=\"https://labs.sentinelone.com/tag/rat/\" class=\"tag-cloud-link tag-link-1536 tag-link-position-31\" aria-label=\"RAT (1 item)\">RAT</a>\\\\n<a href=\"https://labs.sentinelone.com/tag/researcher/\" class=\"tag-cloud-link tag-link-1477 tag-link-position-32\" aria-label=\"Researcher (5 items)\">Researcher</a>\\\\n<a href=\"https://labs.sentinelone.com/tag/reverse-engineeering/\" class=\"tag-cloud-link tag-link-55 tag-link-position-33\" aria-label=\"reverse engineeering (6 items)\">reverse engineeering</a>\\\\n<a href=\"https://labs.sentinelone.com/tag/reverse-engineering/\" class=\"tag-cloud-link tag-link-45 tag-link-position-34\" aria-label=\"reverse engineering (7 items)\">reverse engineering</a>\\\\n<a href=\"https://labs.sentinelone.com/tag/rig-exploit-kit/\" class=\"tag-cloud-link tag-link-62 tag-link-position-35\" aria-label=\"RIG Exploit Kit (2 items)\">RIG Exploit Kit</a>\\\\n<a href=\"https://labs.sentinelone.com/tag/rootkits/\" class=\"tag-cloud-link tag-link-1426 tag-link-position-36\" aria-label=\"Rootkits (3 items)\">Rootkits</a>\\\\n<a href=\"https://labs.sentinelone.com/tag/solarwinds/\" class=\"tag-cloud-link tag-link-1632 tag-link-position-37\" aria-label=\"SolarWinds (2 items)\">SolarWinds</a>\\\\n<a href=\"https://labs.sentinelone.com/tag/spi/\" class=\"tag-cloud-link tag-link-1427 tag-link-position-38\" aria-label=\"SPI (3 items)\">SPI</a>\\\\n<a href=\"https://labs.sentinelone.com/tag/tools/\" class=\"tag-cloud-link tag-link-92 tag-link-position-39\" aria-label=\"tools (2 items)\">tools</a>\\\\n<a href=\"https://labs.sentinelone.com/tag/trickbot/\" class=\"tag-cloud-link tag-link-66 tag-link-position-40\" aria-label=\"trickbot (10 items)\">trickbot</a>\\\\n<a href=\"https://labs.sentinelone.com/tag/uefi/\" class=\"tag-cloud-link tag-link-1425 tag-link-position-41\" aria-label=\"UEFI (3 items)\">UEFI</a>\\\\n<a href=\"https://labs.sentinelone.com/tag/ursnif/\" class=\"tag-cloud-link tag-link-54 tag-link-position-42\" aria-label=\"ursnif (2 items)\">ursnif</a>\\\\n<a href=\"https://labs.sentinelone.com/tag/vitali-kremez/\" class=\"tag-cloud-link tag-link-63 tag-link-position-43\" aria-label=\"Vitali Kremez (3 items)\">Vitali Kremez</a>\\\\n<a href=\"https://labs.sentinelone.com/tag/vulnerability/\" class=\"tag-cloud-link tag-link-1389 tag-link-position-44\" aria-label=\"Vulnerability (3 items)\">Vulnerability</a>\\\\n<a href=\"https://labs.sentinelone.com/tag/zero2hero/\" class=\"tag-cloud-link tag-link-47 tag-link-position-45\" aria-label=\"Zero2Hero (8 items)\">Zero2Hero</a></div>\\\\n</div>\\\\t\\\\t\\\\t\\\\t</div>\\\\n\\\\n\\\\t\\\\t\\\\t\\\\t\\\\n\\\\t\\\\t\\\\t\\\\t<div class=\"col-md-3\">\\\\n\\\\t\\\\t\\\\t\\\\t\\\\t<div id=\"asiana-popular-posts-widget-1\" class=\"widget asiana-popular-posts-widget\"><h3 class=\"widget-title\">Popular Posts</h3>\\\\n\\\\t\\\\t\\\\t<div class=\"inner-popular-post-widget\">\\\\n\\\\n\\\\t\\\\t\\\\t\\\\t<ul class=\"plain-list\">\\\\n\\\\n\\\\t\\\\t\\\\t\\\\t\\\\n\\\\t\\\\t\\\\t\\\\t\\\\t<li>\\\\n\\\\t\\\\t\\\\t\\\\t\\\\t\\\\t<article class=\"list-popular-post clearfix\">\\\\n\\\\t\\\\t\\\\t\\\\t\\\\t\\\\t\\\\t\\\\t\\\\t\\\\t\\\\t\\\\t\\\\t\\\\t<div class=\"list-popular-post__media\">\\\\n\\\\t\\\\t\\\\t\\\\t\\\\t\\\\t\\\\t\\\\t<figure class=\"list-popular-post__thumbnail\">\\\\n\\\\t\\\\t\\\\t\\\\t\\\\t\\\\t\\\\t\\\\t\\\\t<img src=\"https://labs.sentinelone.com/wp-content/uploads/2019/09/Detecting-macOS.GMERA-Malware-Through-Behavioral-Inspection-1-96x50.jpg\" class=\"attachment-asiana_thumbnail_small size-asiana_thumbnail_small wp-post-image\" alt=\"feature image no text\" loading=\"lazy\" srcset=\"https://labs.sentinelone.com/wp-content/uploads/2019/09/Detecting-macOS.GMERA-Malware-Through-Behavioral-Inspection-1-96x50.jpg 96w, https://labs.sentinelone.com/wp-content/uploads/2019/09/Detecting-macOS.GMERA-Malware-Through-Behavioral-Inspection-1-300x157.jpg 300w, https://labs.sentinelone.com/wp-content/uploads/2019/09/Detecting-macOS.GMERA-Malware-Through-Behavioral-Inspection-1-1024x536.jpg 1024w, https://labs.sentinelone.com/wp-content/uploads/2019/09/Detecting-macOS.GMERA-Malware-Through-Behavioral-Inspection-1-768x402.jpg 768w, https://labs.sentinelone.com/wp-content/uploads/2019/09/Detecting-macOS.GMERA-Malware-Through-Behavioral-Inspection-1-1140x597.jpg 1140w, https://labs.sentinelone.com/wp-content/uploads/2019/09/Detecting-macOS.GMERA-Malware-Through-Behavioral-Inspection-1.jpg 1200w\" sizes=\"(max-width: 96px) 100vw, 96px\">\\\\t\\\\t\\\\t\\\\t\\\\t\\\\t\\\\t\\\\t</figure>\\\\n\\\\t\\\\t\\\\t\\\\t\\\\t\\\\t\\\\t</div>\\\\n\\\\t\\\\t\\\\t\\\\t\\\\t\\\\t\\\\t\\\\n\\\\t\\\\t\\\\t\\\\t\\\\t\\\\t\\\\t<div class=\"list-popular-post__info\">\\\\n\\\\t\\\\t\\\\t\\\\t\\\\t\\\\t\\\\t\\\\t<h5 class=\"list-popular-post__title\"><a href=\"https://labs.sentinelone.com/detecting-macos-gmera-malware-through-behavioral-inspection/\">Detecting macOS.GMERA Malware Through Behavioral Inspection</a></h5>\\\\t\\\\t\\\\t\\\\t\\\\t\\\\t\\\\t\\\\t<div class=\"list-popular-post__meta\">\\\\n\\\\t\\\\t\\\\t\\\\t\\\\t\\\\t\\\\t\\\\t\\\\t\\\\t\\\\t\\\\t\\\\t\\\\t\\\\t\\\\t\\\\t\\\\t\\\\t<time datetime=\"2019-09-25T09:50:15+00:00\">\\\\n\\\\t\\\\t\\\\t\\\\t\\\\t\\\\t\\\\t\\\\t\\\\t\\\\t\\\\t<i class=\"fa fa-calendar\"></i> September 25, 2019\\\\t\\\\t\\\\t\\\\t\\\\t\\\\t\\\\t\\\\t\\\\t\\\\t</time>\\\\n\\\\t\\\\t\\\\t\\\\t\\\\t\\\\t\\\\t\\\\t\\\\t\\\\t\\\\t\\\\t\\\\t\\\\t\\\\t\\\\t\\\\t\\\\t</div>\\\\n\\\\t\\\\t\\\\t\\\\t\\\\t\\\\t\\\\t</div>\\\\n\\\\t\\\\t\\\\t\\\\t\\\\t\\\\t</article>\\\\n\\\\t\\\\t\\\\t\\\\t\\\\t</li>\\\\n\\\\n\\\\t\\\\t\\\\t\\\\t\\\\n\\\\t\\\\t\\\\t\\\\t\\\\t<li>\\\\n\\\\t\\\\t\\\\t\\\\t\\\\t\\\\t<article class=\"list-popular-post clearfix\">\\\\n\\\\t\\\\t\\\\t\\\\t\\\\t\\\\t\\\\t\\\\t\\\\t\\\\t\\\\t\\\\t\\\\t\\\\t<div class=\"list-popular-post__media\">\\\\n\\\\t\\\\t\\\\t\\\\t\\\\t\\\\t\\\\t\\\\t<figure class=\"list-popular-post__thumbnail\">\\\\n\\\\t\\\\t\\\\t\\\\t\\\\t\\\\t\\\\t\\\\t\\\\t<img src=\"https://labs.sentinelone.com/wp-content/uploads/2019/05/Cybercrime_-_Banload_-Banking-Malware-Implements-New-Techniques-for-Fraud-1-96x50.jpg\" class=\"attachment-asiana_thumbnail_small size-asiana_thumbnail_small wp-post-image\" alt=\"Cybercrime_ _Banload_ Banking Malware Implements New Techniques for Fraud\" loading=\"lazy\" srcset=\"https://labs.sentinelone.com/wp-content/uploads/2019/05/Cybercrime_-_Banload_-Banking-Malware-Implements-New-Techniques-for-Fraud-1-96x50.jpg 96w, https://labs.sentinelone.com/wp-content/uploads/2019/05/Cybercrime_-_Banload_-Banking-Malware-Implements-New-Techniques-for-Fraud-1-300x157.jpg 300w, https://labs.sentinelone.com/wp-content/uploads/2019/05/Cybercrime_-_Banload_-Banking-Malware-Implements-New-Techniques-for-Fraud-1-1024x535.jpg 1024w, https://labs.sentinelone.com/wp-content/uploads/2019/05/Cybercrime_-_Banload_-Banking-Malware-Implements-New-Techniques-for-Fraud-1-768x401.jpg 768w, https://labs.sentinelone.com/wp-content/uploads/2019/05/Cybercrime_-_Banload_-Banking-Malware-Implements-New-Techniques-for-Fraud-1-1140x596.jpg 1140w, https://labs.sentinelone.com/wp-content/uploads/2019/05/Cybercrime_-_Banload_-Banking-Malware-Implements-New-Techniques-for-Fraud-1.jpg 1200w\" sizes=\"(max-width: 96px) 100vw, 96px\">\\\\t\\\\t\\\\t\\\\t\\\\t\\\\t\\\\t\\\\t</figure>\\\\n\\\\t\\\\t\\\\t\\\\t\\\\t\\\\t\\\\t</div>\\\\n\\\\t\\\\t\\\\t\\\\t\\\\t\\\\t\\\\t\\\\n\\\\t\\\\t\\\\t\\\\t\\\\t\\\\t\\\\t<div class=\"list-popular-post__info\">\\\\n\\\\t\\\\t\\\\t\\\\t\\\\t\\\\t\\\\t\\\\t<h5 class=\"list-popular-post__title\"><a href=\"https://labs.sentinelone.com/reversing-rig-exploit-kit-infection-chain-internals-exploits/\">RIG Exploit Kit Chain Internals</a></h5>\\\\t\\\\t\\\\t\\\\t\\\\t\\\\t\\\\t\\\\t<div class=\"list-popular-post__meta\">\\\\n\\\\t\\\\t\\\\t\\\\t\\\\t\\\\t\\\\t\\\\t\\\\t\\\\t\\\\t\\\\t\\\\t\\\\t\\\\t\\\\t\\\\t\\\\t\\\\t<time datetime=\"2019-09-12T10:11:48+00:00\">\\\\n\\\\t\\\\t\\\\t\\\\t\\\\t\\\\t\\\\t\\\\t\\\\t\\\\t\\\\t<i class=\"fa fa-calendar\"></i> September 12, 2019\\\\t\\\\t\\\\t\\\\t\\\\t\\\\t\\\\t\\\\t\\\\t\\\\t</time>\\\\n\\\\t\\\\t\\\\t\\\\t\\\\t\\\\t\\\\t\\\\t\\\\t\\\\t\\\\t\\\\t\\\\t\\\\t\\\\t\\\\t\\\\t\\\\t</div>\\\\n\\\\t\\\\t\\\\t\\\\t\\\\t\\\\t\\\\t</div>\\\\n\\\\t\\\\t\\\\t\\\\t\\\\t\\\\t</article>\\\\n\\\\t\\\\t\\\\t\\\\t\\\\t</li>\\\\n\\\\n\\\\t\\\\t\\\\t\\\\t\\\\n\\\\t\\\\t\\\\t\\\\t</ul>\\\\n\\\\t\\\\t\\\\t\\\\t\\\\n\\\\t\\\\t\\\\t</div>\\\\n\\\\n\\\\t\\\\t</div>\\\\t\\\\t\\\\t\\\\t</div>\\\\n\\\\n\\\\t\\\\t\\\\t\\\\t\\\\t\\\\t</div>\\\\n\\\\n\\\\t</div>\\\\n\\\\n</div>\\\\n<div class=\"footer-social\">\\\\n\\\\t<div class=\"container\">\\\\n\\\\t\\\\t<div class=\"footer-social__inner\">\\\\n\\\\t\\\\t\\\\t<ul class=\"footer-social-list\">\\\\n\\\\t\\\\t\\\\t\\\\t\\\\t\\\\t\\\\t<li>\\\\n\\\\t\\\\t\\\\t\\\\t\\\\t<a href=\"https://twitter.com/LabsSentinel\" target=\"_blank\" title=\"Twitter\">\\\\n\\\\t\\\\t\\\\t\\\\t\\\\t\\\\t<i class=\"fa fa-twitter\"></i> <span class=\"suffix\">Twitter</span>\\\\n\\\\t\\\\t\\\\t\\\\t\\\\t</a>\\\\n\\\\t\\\\t\\\\t\\\\t</li>\\\\n\\\\t\\\\t\\\\t\\\\t\\\\t\\\\t\\\\t<li>\\\\n\\\\t\\\\t\\\\t\\\\t\\\\t<a href=\"https://www.linkedin.com/company/sentinelone\" title=\"LinkedIn\">\\\\n\\\\t\\\\t\\\\t\\\\t\\\\t\\\\t<i class=\"fa fa-linkedin\"></i> <span class=\"suffix\">LinkedIn</span>\\\\n\\\\t\\\\t\\\\t\\\\t\\\\t</a>\\\\n\\\\t\\\\t\\\\t\\\\t</li>\\\\n\\\\t\\\\t\\\\t\\\\t\\\\t\\\\t\\\\t<li>\\\\n\\\\t\\\\t\\\\t\\\\t\\\\t<a href=\"https://app.slack.com/client/TQW3J2J3C/CR8SHCU0Y\" title=\"Slack\">\\\\n\\\\t\\\\t\\\\t\\\\t\\\\t\\\\t<i class=\"fa fa-slack\"></i> <span class=\"suffix\">Slack</span>\\\\n\\\\t\\\\t\\\\t\\\\t\\\\t</a>\\\\n\\\\t\\\\t\\\\t\\\\t</li>\\\\n\\\\t\\\\t\\\\t\\\\t\\\\t\\\\t</ul>\\\\n\\\\t\\\\t</div>\\\\n\\\\t</div>\\\\n</div>\\\\n<div class=\"footer-copyright\">\\\\n\\\\t<div class=\"container\">\\\\n\\\\t\\\\t<div class=\"site-info\">\\\\n\\\\t\\\\t\\\\tSentinelOne, All Rights Reserved.\\\\t\\\\t</div>\\\\t\\\\n\\\\t</div>\\\\n</div>\\\\n\\\\n\\\\t</footer>\\\\n\\\\n\\\\t<a href=\"#\" class=\"to-top\"><i class=\"fa fa-angle-up\"></i></a>\\\\n\\\\n</div>\\\\n\\\\n\\\\t\\\\n\\\\t<noscript><iframe src=\"https://www.googletagmanager.com/ns.html?id=GTM-M5BKP2C\"></iframe></noscript>\\\\n\\\\t\\\\n\\\\t\\\\n<div class=\"slack-invite-wrapper container\"><div class=\"invitations-for-slack-wrapper\">    <button class=\"join-button button\">Join us on Slack!</button>    <div class=\"team-numbers\">        0 / 121    </div></div></div>\\\\n\\\\n\\\\n\\\\n\\\\n\\\\n\\\\n\\\\n\\\\n\\\\n\\\\n</body>\\\\n\\''"
      ]
     },
     "execution_count": 91,
     "metadata": {},
     "output_type": "execute_result"
    }
   ],
   "source": [
    "doc.content()"
   ]
  },
  {
   "cell_type": "code",
   "execution_count": null,
   "id": "191378a0-4960-47ad-83c0-e46109655599",
   "metadata": {},
   "outputs": [],
   "source": []
  }
 ],
 "metadata": {
  "kernelspec": {
   "display_name": "Python 3.7.13 ('magpie-airflow')",
   "language": "python",
   "name": "python3"
  },
  "language_info": {
   "codemirror_mode": {
    "name": "ipython",
    "version": 3
   },
   "file_extension": ".py",
   "mimetype": "text/x-python",
   "name": "python",
   "nbconvert_exporter": "python",
   "pygments_lexer": "ipython3",
   "version": "3.7.13"
  },
  "vscode": {
   "interpreter": {
    "hash": "05a924d897b122cae1bc723e99059cc72c83e93d0ab2339faf385a2b15832bca"
   }
  }
 },
 "nbformat": 4,
 "nbformat_minor": 5
}
