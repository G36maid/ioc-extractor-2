{
 "cells": [
  {
   "cell_type": "markdown",
   "metadata": {},
   "source": [
    "### 論文dataset - exploratory data analysis\n",
    "[cynthiachan/FeedRef2022](https://huggingface.co/datasets/cynthiachan/FeedRef2022)"
   ]
  },
  {
   "cell_type": "code",
   "execution_count": 2,
   "metadata": {},
   "outputs": [
    {
     "name": "stderr",
     "output_type": "stream",
     "text": [
      "Reusing dataset feed_ref_10pct (/Users/csti-user/.cache/huggingface/datasets/cynthiachan___feed_ref_10pct/FeedRef_10pct/1.0.0/6bf14ba735883e51d5506678a6915585ce82c291ecf64a4a93a58454beb00f70)\n",
      "100%|██████████| 3/3 [00:00<00:00, 500.10it/s]\n"
     ]
    },
    {
     "data": {
      "text/plain": [
       "DatasetDict({\n",
       "    train: Dataset({\n",
       "        features: ['id', 'tokens', 'ner_tags'],\n",
       "        num_rows: 10671\n",
       "    })\n",
       "    validation: Dataset({\n",
       "        features: ['id', 'tokens', 'ner_tags'],\n",
       "        num_rows: 1334\n",
       "    })\n",
       "    test: Dataset({\n",
       "        features: ['id', 'tokens', 'ner_tags'],\n",
       "        num_rows: 1334\n",
       "    })\n",
       "})"
      ]
     },
     "execution_count": 2,
     "metadata": {},
     "output_type": "execute_result"
    }
   ],
   "source": [
    "from datasets import load_dataset\n",
    "\n",
    "dataset = load_dataset(\"cynthiachan/FeedRef_10pct\")\n",
    "dataset"
   ]
  },
  {
   "cell_type": "code",
   "execution_count": 3,
   "metadata": {},
   "outputs": [
    {
     "data": {
      "text/plain": [
       "Dataset({\n",
       "    features: ['id', 'tokens', 'ner_tags'],\n",
       "    num_rows: 10671\n",
       "})"
      ]
     },
     "execution_count": 3,
     "metadata": {},
     "output_type": "execute_result"
    }
   ],
   "source": [
    "train = dataset[\"train\"]\n",
    "valid = dataset[\"validation\"]\n",
    "test = dataset[\"test\"]\n",
    "train"
   ]
  },
  {
   "cell_type": "code",
   "execution_count": 1,
   "metadata": {},
   "outputs": [
    {
     "data": {
      "text/html": [
       "<div>\n",
       "<style scoped>\n",
       "    .dataframe tbody tr th:only-of-type {\n",
       "        vertical-align: middle;\n",
       "    }\n",
       "\n",
       "    .dataframe tbody tr th {\n",
       "        vertical-align: top;\n",
       "    }\n",
       "\n",
       "    .dataframe thead th {\n",
       "        text-align: right;\n",
       "    }\n",
       "</style>\n",
       "<table border=\"1\" class=\"dataframe\">\n",
       "  <thead>\n",
       "    <tr style=\"text-align: right;\">\n",
       "      <th></th>\n",
       "      <th>entity</th>\n",
       "      <th>split</th>\n",
       "      <th>total</th>\n",
       "    </tr>\n",
       "  </thead>\n",
       "  <tbody>\n",
       "    <tr>\n",
       "      <th>0</th>\n",
       "      <td>O</td>\n",
       "      <td>train</td>\n",
       "      <td>1695166</td>\n",
       "    </tr>\n",
       "    <tr>\n",
       "      <th>1</th>\n",
       "      <td>attackID</td>\n",
       "      <td>train</td>\n",
       "      <td>436</td>\n",
       "    </tr>\n",
       "    <tr>\n",
       "      <th>2</th>\n",
       "      <td>bitcoinAddr</td>\n",
       "      <td>train</td>\n",
       "      <td>65</td>\n",
       "    </tr>\n",
       "    <tr>\n",
       "      <th>3</th>\n",
       "      <td>cve</td>\n",
       "      <td>train</td>\n",
       "      <td>512</td>\n",
       "    </tr>\n",
       "    <tr>\n",
       "      <th>4</th>\n",
       "      <td>defenderThreat</td>\n",
       "      <td>train</td>\n",
       "      <td>22</td>\n",
       "    </tr>\n",
       "    <tr>\n",
       "      <th>5</th>\n",
       "      <td>domain</td>\n",
       "      <td>train</td>\n",
       "      <td>1803</td>\n",
       "    </tr>\n",
       "    <tr>\n",
       "      <th>6</th>\n",
       "      <td>email</td>\n",
       "      <td>train</td>\n",
       "      <td>321</td>\n",
       "    </tr>\n",
       "    <tr>\n",
       "      <th>7</th>\n",
       "      <td>md5</td>\n",
       "      <td>train</td>\n",
       "      <td>3293</td>\n",
       "    </tr>\n",
       "    <tr>\n",
       "      <th>8</th>\n",
       "      <td>sha1</td>\n",
       "      <td>train</td>\n",
       "      <td>459</td>\n",
       "    </tr>\n",
       "    <tr>\n",
       "      <th>9</th>\n",
       "      <td>sha256</td>\n",
       "      <td>train</td>\n",
       "      <td>3961</td>\n",
       "    </tr>\n",
       "    <tr>\n",
       "      <th>10</th>\n",
       "      <td>filepath</td>\n",
       "      <td>train</td>\n",
       "      <td>13832</td>\n",
       "    </tr>\n",
       "    <tr>\n",
       "      <th>11</th>\n",
       "      <td>hostname</td>\n",
       "      <td>train</td>\n",
       "      <td>1122</td>\n",
       "    </tr>\n",
       "    <tr>\n",
       "      <th>12</th>\n",
       "      <td>ipv4</td>\n",
       "      <td>train</td>\n",
       "      <td>1338</td>\n",
       "    </tr>\n",
       "    <tr>\n",
       "      <th>13</th>\n",
       "      <td>ipv6</td>\n",
       "      <td>train</td>\n",
       "      <td>26</td>\n",
       "    </tr>\n",
       "    <tr>\n",
       "      <th>14</th>\n",
       "      <td>fingerprint</td>\n",
       "      <td>train</td>\n",
       "      <td>4</td>\n",
       "    </tr>\n",
       "    <tr>\n",
       "      <th>15</th>\n",
       "      <td>uri</td>\n",
       "      <td>train</td>\n",
       "      <td>82</td>\n",
       "    </tr>\n",
       "    <tr>\n",
       "      <th>16</th>\n",
       "      <td>url</td>\n",
       "      <td>train</td>\n",
       "      <td>0</td>\n",
       "    </tr>\n",
       "    <tr>\n",
       "      <th>17</th>\n",
       "      <td>yara</td>\n",
       "      <td>train</td>\n",
       "      <td>0</td>\n",
       "    </tr>\n",
       "    <tr>\n",
       "      <th>18</th>\n",
       "      <td>O</td>\n",
       "      <td>valid</td>\n",
       "      <td>210572</td>\n",
       "    </tr>\n",
       "    <tr>\n",
       "      <th>19</th>\n",
       "      <td>attackID</td>\n",
       "      <td>valid</td>\n",
       "      <td>52</td>\n",
       "    </tr>\n",
       "    <tr>\n",
       "      <th>20</th>\n",
       "      <td>bitcoinAddr</td>\n",
       "      <td>valid</td>\n",
       "      <td>7</td>\n",
       "    </tr>\n",
       "    <tr>\n",
       "      <th>21</th>\n",
       "      <td>cve</td>\n",
       "      <td>valid</td>\n",
       "      <td>65</td>\n",
       "    </tr>\n",
       "    <tr>\n",
       "      <th>22</th>\n",
       "      <td>defenderThreat</td>\n",
       "      <td>valid</td>\n",
       "      <td>7</td>\n",
       "    </tr>\n",
       "    <tr>\n",
       "      <th>23</th>\n",
       "      <td>domain</td>\n",
       "      <td>valid</td>\n",
       "      <td>206</td>\n",
       "    </tr>\n",
       "    <tr>\n",
       "      <th>24</th>\n",
       "      <td>email</td>\n",
       "      <td>valid</td>\n",
       "      <td>43</td>\n",
       "    </tr>\n",
       "    <tr>\n",
       "      <th>25</th>\n",
       "      <td>md5</td>\n",
       "      <td>valid</td>\n",
       "      <td>442</td>\n",
       "    </tr>\n",
       "    <tr>\n",
       "      <th>26</th>\n",
       "      <td>sha1</td>\n",
       "      <td>valid</td>\n",
       "      <td>49</td>\n",
       "    </tr>\n",
       "    <tr>\n",
       "      <th>27</th>\n",
       "      <td>sha256</td>\n",
       "      <td>valid</td>\n",
       "      <td>497</td>\n",
       "    </tr>\n",
       "    <tr>\n",
       "      <th>28</th>\n",
       "      <td>filepath</td>\n",
       "      <td>valid</td>\n",
       "      <td>1673</td>\n",
       "    </tr>\n",
       "    <tr>\n",
       "      <th>29</th>\n",
       "      <td>hostname</td>\n",
       "      <td>valid</td>\n",
       "      <td>144</td>\n",
       "    </tr>\n",
       "    <tr>\n",
       "      <th>30</th>\n",
       "      <td>ipv4</td>\n",
       "      <td>valid</td>\n",
       "      <td>171</td>\n",
       "    </tr>\n",
       "    <tr>\n",
       "      <th>31</th>\n",
       "      <td>ipv6</td>\n",
       "      <td>valid</td>\n",
       "      <td>3</td>\n",
       "    </tr>\n",
       "    <tr>\n",
       "      <th>32</th>\n",
       "      <td>fingerprint</td>\n",
       "      <td>valid</td>\n",
       "      <td>2</td>\n",
       "    </tr>\n",
       "    <tr>\n",
       "      <th>33</th>\n",
       "      <td>uri</td>\n",
       "      <td>valid</td>\n",
       "      <td>11</td>\n",
       "    </tr>\n",
       "    <tr>\n",
       "      <th>34</th>\n",
       "      <td>url</td>\n",
       "      <td>valid</td>\n",
       "      <td>0</td>\n",
       "    </tr>\n",
       "    <tr>\n",
       "      <th>35</th>\n",
       "      <td>yara</td>\n",
       "      <td>valid</td>\n",
       "      <td>0</td>\n",
       "    </tr>\n",
       "    <tr>\n",
       "      <th>36</th>\n",
       "      <td>O</td>\n",
       "      <td>test</td>\n",
       "      <td>214424</td>\n",
       "    </tr>\n",
       "    <tr>\n",
       "      <th>37</th>\n",
       "      <td>attackID</td>\n",
       "      <td>test</td>\n",
       "      <td>54</td>\n",
       "    </tr>\n",
       "    <tr>\n",
       "      <th>38</th>\n",
       "      <td>bitcoinAddr</td>\n",
       "      <td>test</td>\n",
       "      <td>9</td>\n",
       "    </tr>\n",
       "    <tr>\n",
       "      <th>39</th>\n",
       "      <td>cve</td>\n",
       "      <td>test</td>\n",
       "      <td>76</td>\n",
       "    </tr>\n",
       "    <tr>\n",
       "      <th>40</th>\n",
       "      <td>defenderThreat</td>\n",
       "      <td>test</td>\n",
       "      <td>0</td>\n",
       "    </tr>\n",
       "    <tr>\n",
       "      <th>41</th>\n",
       "      <td>domain</td>\n",
       "      <td>test</td>\n",
       "      <td>184</td>\n",
       "    </tr>\n",
       "    <tr>\n",
       "      <th>42</th>\n",
       "      <td>email</td>\n",
       "      <td>test</td>\n",
       "      <td>42</td>\n",
       "    </tr>\n",
       "    <tr>\n",
       "      <th>43</th>\n",
       "      <td>md5</td>\n",
       "      <td>test</td>\n",
       "      <td>446</td>\n",
       "    </tr>\n",
       "    <tr>\n",
       "      <th>44</th>\n",
       "      <td>sha1</td>\n",
       "      <td>test</td>\n",
       "      <td>54</td>\n",
       "    </tr>\n",
       "    <tr>\n",
       "      <th>45</th>\n",
       "      <td>sha256</td>\n",
       "      <td>test</td>\n",
       "      <td>462</td>\n",
       "    </tr>\n",
       "    <tr>\n",
       "      <th>46</th>\n",
       "      <td>filepath</td>\n",
       "      <td>test</td>\n",
       "      <td>1636</td>\n",
       "    </tr>\n",
       "    <tr>\n",
       "      <th>47</th>\n",
       "      <td>hostname</td>\n",
       "      <td>test</td>\n",
       "      <td>145</td>\n",
       "    </tr>\n",
       "    <tr>\n",
       "      <th>48</th>\n",
       "      <td>ipv4</td>\n",
       "      <td>test</td>\n",
       "      <td>173</td>\n",
       "    </tr>\n",
       "    <tr>\n",
       "      <th>49</th>\n",
       "      <td>ipv6</td>\n",
       "      <td>test</td>\n",
       "      <td>7</td>\n",
       "    </tr>\n",
       "    <tr>\n",
       "      <th>50</th>\n",
       "      <td>fingerprint</td>\n",
       "      <td>test</td>\n",
       "      <td>0</td>\n",
       "    </tr>\n",
       "    <tr>\n",
       "      <th>51</th>\n",
       "      <td>uri</td>\n",
       "      <td>test</td>\n",
       "      <td>13</td>\n",
       "    </tr>\n",
       "    <tr>\n",
       "      <th>52</th>\n",
       "      <td>url</td>\n",
       "      <td>test</td>\n",
       "      <td>0</td>\n",
       "    </tr>\n",
       "    <tr>\n",
       "      <th>53</th>\n",
       "      <td>yara</td>\n",
       "      <td>test</td>\n",
       "      <td>0</td>\n",
       "    </tr>\n",
       "  </tbody>\n",
       "</table>\n",
       "</div>"
      ],
      "text/plain": [
       "            entity  split    total\n",
       "0                O  train  1695166\n",
       "1         attackID  train      436\n",
       "2      bitcoinAddr  train       65\n",
       "3              cve  train      512\n",
       "4   defenderThreat  train       22\n",
       "5           domain  train     1803\n",
       "6            email  train      321\n",
       "7              md5  train     3293\n",
       "8             sha1  train      459\n",
       "9           sha256  train     3961\n",
       "10        filepath  train    13832\n",
       "11        hostname  train     1122\n",
       "12            ipv4  train     1338\n",
       "13            ipv6  train       26\n",
       "14     fingerprint  train        4\n",
       "15             uri  train       82\n",
       "16             url  train        0\n",
       "17            yara  train        0\n",
       "18               O  valid   210572\n",
       "19        attackID  valid       52\n",
       "20     bitcoinAddr  valid        7\n",
       "21             cve  valid       65\n",
       "22  defenderThreat  valid        7\n",
       "23          domain  valid      206\n",
       "24           email  valid       43\n",
       "25             md5  valid      442\n",
       "26            sha1  valid       49\n",
       "27          sha256  valid      497\n",
       "28        filepath  valid     1673\n",
       "29        hostname  valid      144\n",
       "30            ipv4  valid      171\n",
       "31            ipv6  valid        3\n",
       "32     fingerprint  valid        2\n",
       "33             uri  valid       11\n",
       "34             url  valid        0\n",
       "35            yara  valid        0\n",
       "36               O   test   214424\n",
       "37        attackID   test       54\n",
       "38     bitcoinAddr   test        9\n",
       "39             cve   test       76\n",
       "40  defenderThreat   test        0\n",
       "41          domain   test      184\n",
       "42           email   test       42\n",
       "43             md5   test      446\n",
       "44            sha1   test       54\n",
       "45          sha256   test      462\n",
       "46        filepath   test     1636\n",
       "47        hostname   test      145\n",
       "48            ipv4   test      173\n",
       "49            ipv6   test        7\n",
       "50     fingerprint   test        0\n",
       "51             uri   test       13\n",
       "52             url   test        0\n",
       "53            yara   test        0"
      ]
     },
     "execution_count": 1,
     "metadata": {},
     "output_type": "execute_result"
    }
   ],
   "source": [
    "import pandas as pd\n",
    "test_df = pd.read_csv(\"/Users/csti-user/Downloads/Projects/report2STIX/magpie/test1.csv\")\n",
    "test_df"
   ]
  },
  {
   "cell_type": "code",
   "execution_count": null,
   "metadata": {},
   "outputs": [],
   "source": []
  },
  {
   "cell_type": "code",
   "execution_count": null,
   "metadata": {},
   "outputs": [],
   "source": []
  },
  {
   "cell_type": "code",
   "execution_count": null,
   "metadata": {},
   "outputs": [
    {
     "name": "stdout",
     "output_type": "stream",
     "text": [
      "{0: 174836, 1: 64, 2: 0, 3: 4, 4: 0, 5: 49, 6: 0, 7: 1, 8: 0, 9: 171, 10: 0, 11: 31, 12: 0, 13: 313, 14: 0, 15: 46, 16: 0, 17: 349, 18: 0, 19: 1389, 20: 6, 21: 124, 22: 0, 23: 129, 24: 0, 25: 4, 26: 0, 27: 1, 28: 0, 29: 5, 30: 0, 31: 0, 32: 0, 33: 0, 34: 0}\n",
      "2686\n",
      "177522\n"
     ]
    }
   ],
   "source": [
    "train_cnt = {k:0 for k in range(35)}\n",
    "for l in train['ner_tags']:\n",
    "    for s in l:\n",
    "        if s in train_cnt.keys():\n",
    "            train_cnt[s]+=1\n",
    "print(train_cnt)\n",
    "print(sum(train_cnt.values())-train_cnt[0])\n",
    "print(sum(train_cnt.values()))"
   ]
  },
  {
   "cell_type": "code",
   "execution_count": null,
   "metadata": {},
   "outputs": [
    {
     "name": "stdout",
     "output_type": "stream",
     "text": [
      "{0: 18222, 1: 6, 2: 0, 3: 0, 4: 0, 5: 11, 6: 0, 7: 2, 8: 0, 9: 23, 10: 0, 11: 3, 12: 0, 13: 52, 14: 0, 15: 7, 16: 0, 17: 44, 18: 0, 19: 165, 20: 0, 21: 12, 22: 0, 23: 12, 24: 0, 25: 0, 26: 0, 27: 0, 28: 0, 29: 1, 30: 0, 31: 0, 32: 0, 33: 0, 34: 0}\n",
      "338\n",
      "18560\n"
     ]
    }
   ],
   "source": [
    "valid_cnt = {k:0 for k in range(35)}\n",
    "for l in valid['ner_tags']:\n",
    "    for s in l:\n",
    "        if s in valid_cnt.keys():\n",
    "            valid_cnt[s]+=1\n",
    "print(valid_cnt)\n",
    "print(sum(valid_cnt.values())-valid_cnt[0])\n",
    "print(sum(valid_cnt.values()))"
   ]
  },
  {
   "cell_type": "code",
   "execution_count": null,
   "metadata": {},
   "outputs": [
    {
     "name": "stdout",
     "output_type": "stream",
     "text": [
      "{0: 21945, 1: 7, 2: 0, 3: 1, 4: 0, 5: 4, 6: 0, 7: 0, 8: 0, 9: 16, 10: 0, 11: 7, 12: 0, 13: 43, 14: 0, 15: 4, 16: 0, 17: 43, 18: 0, 19: 149, 20: 0, 21: 11, 22: 0, 23: 16, 24: 0, 25: 1, 26: 0, 27: 0, 28: 0, 29: 3, 30: 0, 31: 0, 32: 0, 33: 0, 34: 0}\n",
      "305\n",
      "22250\n"
     ]
    }
   ],
   "source": [
    "test_cnt = {k:0 for k in range(35)}\n",
    "for l in test['ner_tags']:\n",
    "    for s in l:\n",
    "        if s in test_cnt.keys():\n",
    "            test_cnt[s]+=1\n",
    "print(test_cnt)\n",
    "print(sum(test_cnt.values())-test_cnt[0])\n",
    "print(sum(test_cnt.values()))"
   ]
  },
  {
   "cell_type": "code",
   "execution_count": 1,
   "metadata": {},
   "outputs": [
    {
     "name": "stderr",
     "output_type": "stream",
     "text": [
      "/opt/anaconda3/envs/magpie-predict/lib/python3.7/site-packages/tqdm/auto.py:22: TqdmWarning: IProgress not found. Please update jupyter and ipywidgets. See https://ipywidgets.readthedocs.io/en/stable/user_install.html\n",
      "  from .autonotebook import tqdm as notebook_tqdm\n",
      "Reusing dataset feed_ref_10pct (/Users/csti-user/.cache/huggingface/datasets/cynthiachan___feed_ref_10pct/FeedRef_10pct/1.0.0/6bf14ba735883e51d5506678a6915585ce82c291ecf64a4a93a58454beb00f70)\n",
      "100%|██████████| 3/3 [00:00<00:00, 475.81it/s]\n"
     ]
    }
   ],
   "source": [
    "from datasets import load_dataset\n",
    "dataset = load_dataset(\"cynthiachan/FeedRef_10pct\")\n",
    "train = dataset[\"train\"]\n",
    "valid = dataset[\"validation\"]\n",
    "test = dataset[\"test\"]"
   ]
  },
  {
   "cell_type": "code",
   "execution_count": 2,
   "metadata": {},
   "outputs": [
    {
     "name": "stderr",
     "output_type": "stream",
     "text": [
      "Downloading: 100%|██████████| 2.27k/2.27k [00:00<00:00, 775kB/s]\n",
      "Downloading: 100%|██████████| 416M/416M [01:08<00:00, 6.35MB/s]    \n",
      "Downloading: 100%|██████████| 367/367 [00:00<00:00, 119kB/s]\n",
      "Downloading: 100%|██████████| 226k/226k [00:00<00:00, 266kB/s]  \n",
      "Downloading: 100%|██████████| 695k/695k [00:01<00:00, 371kB/s]  \n",
      "Downloading: 100%|██████████| 125/125 [00:00<00:00, 39.3kB/s]\n"
     ]
    }
   ],
   "source": [
    "from transformers import pipeline\n",
    "model = \"cynthiachan/finetuned-electra-base-10pct\"  # load model from Huggingface Hub\n",
    "token_classifier = pipeline(\"ner\", model=model, aggregation_strategy=\"first\")"
   ]
  },
  {
   "cell_type": "code",
   "execution_count": 3,
   "metadata": {},
   "outputs": [
    {
     "data": {
      "text/plain": [
       "{'O': 0,\n",
       " 'B-bitcoinAddr': 3,\n",
       " 'B-cve': 5,\n",
       " 'B-defenderThreat': 7,\n",
       " 'B-domain': 9,\n",
       " 'B-email': 11,\n",
       " 'B-md5': 13,\n",
       " 'B-sha1': 15,\n",
       " 'B-sha256': 17,\n",
       " 'B-filepath': 19,\n",
       " 'B-hostname': 21,\n",
       " 'B-ipv4': 23,\n",
       " 'B-ipv6': 25,\n",
       " 'B-fingerprint': 27,\n",
       " 'B-uri': 29,\n",
       " 'B-url': 31,\n",
       " 'B-yara': 33}"
      ]
     },
     "execution_count": 3,
     "metadata": {},
     "output_type": "execute_result"
    }
   ],
   "source": [
    "label = {i:idx for idx, i in enumerate(dataset['test'].features['ner_tags'].feature.names) if 'I' not in i}\n",
    "label"
   ]
  },
  {
   "cell_type": "code",
   "execution_count": 4,
   "metadata": {},
   "outputs": [],
   "source": [
    "y_pred = []\n",
    "for X_test in test['tokens']:\n",
    "    _y=[]\n",
    "    try:\n",
    "        for y in token_classifier(X_test):\n",
    "            if y == []:\n",
    "                _y.append(0)   \n",
    "            else:\n",
    "                ner = 'B-'+y[0]['entity_group']\n",
    "                _y.append(label[ner])\n",
    "        y_pred.append(_y) \n",
    "    except:\n",
    "        y_pred.append([0 for k in X_test])"
   ]
  },
  {
   "cell_type": "code",
   "execution_count": 5,
   "metadata": {},
   "outputs": [
    {
     "data": {
      "text/plain": [
       "['O',\n",
       " 'bitcoinAddr',\n",
       " 'cve',\n",
       " 'defenderThreat',\n",
       " 'domain',\n",
       " 'email',\n",
       " 'md5',\n",
       " 'sha1',\n",
       " 'sha256',\n",
       " 'filepath',\n",
       " 'hostname',\n",
       " 'ipv4',\n",
       " 'ipv6',\n",
       " 'fingerprint',\n",
       " 'uri',\n",
       " 'url',\n",
       " 'yara']"
      ]
     },
     "execution_count": 5,
     "metadata": {},
     "output_type": "execute_result"
    }
   ],
   "source": [
    "a = []\n",
    "for l in dataset['test'].features['ner_tags'].feature.names:\n",
    "    if 'I' not in l:\n",
    "        if 'O' == l:\n",
    "            a.append('O')\n",
    "        else:\n",
    "            a.append(l.split('-')[1])\n",
    "a"
   ]
  },
  {
   "cell_type": "code",
   "execution_count": 6,
   "metadata": {},
   "outputs": [
    {
     "data": {
      "text/plain": [
       "(22250,)"
      ]
     },
     "execution_count": 6,
     "metadata": {},
     "output_type": "execute_result"
    }
   ],
   "source": [
    "import numpy as np\n",
    "y_test_flat = np.asarray([tag for row in test['ner_tags'] for tag in row])\n",
    "y_pred_flat = np.asarray([tag for row in y_pred for tag in row])\n",
    "y_pred_flat"
   ]
  },
  {
   "cell_type": "code",
   "execution_count": 43,
   "metadata": {},
   "outputs": [
    {
     "data": {
      "text/plain": [
       "array([0, 0, 0, ..., 0, 0, 0])"
      ]
     },
     "execution_count": 43,
     "metadata": {},
     "output_type": "execute_result"
    }
   ],
   "source": [
    "y_pred_flat"
   ]
  },
  {
   "cell_type": "code",
   "execution_count": 49,
   "metadata": {},
   "outputs": [
    {
     "data": {
      "image/png": "[encoded data removed]",
      "text/plain": [
       "<Figure size 1500x1000 with 2 Axes>"
      ]
     },
     "metadata": {},
     "output_type": "display_data"
    }
   ],
   "source": [
    "import matplotlib.pyplot as plt\n",
    "import numpy\n",
    "from sklearn import metrics\n",
    "\n",
    "fig, ax = plt.subplots(figsize=(15,10))\n",
    "font = {'family' : 'Arial',\n",
    "    'weight' : 'normal',\n",
    "    'size'   : 12}\n",
    "plt.rc('font', **font)\n",
    "\n",
    "confusion_matrix = metrics.confusion_matrix(y_test_flat, y_pred_flat)#, normalize='all')\n",
    "\n",
    "cm_display = metrics.ConfusionMatrixDisplay(confusion_matrix = confusion_matrix, display_labels=a)\n",
    "\n",
    "cm_display.plot(cmap=\"Blues\", xticks_rotation=70, ax=ax)#, values_format='.4f')\n",
    "\n",
    "plt.title(\"ELECTRA Base Confusion Matrix\", fontdict={'fontsize': 18, 'fontweight': 'bold'})\n",
    "plt.show()"
   ]
  },
  {
   "cell_type": "code",
   "execution_count": 8,
   "metadata": {},
   "outputs": [
    {
     "data": {
      "text/plain": [
       "Metric(name: \"seqeval\", features: {'predictions': Sequence(feature=Value(dtype='string', id='label'), length=-1, id='sequence'), 'references': Sequence(feature=Value(dtype='string', id='label'), length=-1, id='sequence')}, usage: \"\"\"\n",
       "Produces labelling scores along with its sufficient statistics\n",
       "from a source against one or more references.\n",
       "\n",
       "Args:\n",
       "    predictions: List of List of predicted labels (Estimated targets as returned by a tagger)\n",
       "    references: List of List of reference labels (Ground truth (correct) target values)\n",
       "    suffix: True if the IOB prefix is after type, False otherwise. default: False\n",
       "    scheme: Specify target tagging scheme. Should be one of [\"IOB1\", \"IOB2\", \"IOE1\", \"IOE2\", \"IOBES\", \"BILOU\"].\n",
       "        default: None\n",
       "    mode: Whether to count correct entity labels with incorrect I/B tags as true positives or not.\n",
       "        If you want to only count exact matches, pass mode=\"strict\". default: None.\n",
       "    sample_weight: Array-like of shape (n_samples,), weights for individual samples. default: None\n",
       "    zero_division: Which value to substitute as a metric value when encountering zero division. Should be on of 0, 1,\n",
       "        \"warn\". \"warn\" acts as 0, but the warning is raised.\n",
       "\n",
       "Returns:\n",
       "    'scores': dict. Summary of the scores for overall and per type\n",
       "        Overall:\n",
       "            'accuracy': accuracy,\n",
       "            'precision': precision,\n",
       "            'recall': recall,\n",
       "            'f1': F1 score, also known as balanced F-score or F-measure,\n",
       "        Per type:\n",
       "            'precision': precision,\n",
       "            'recall': recall,\n",
       "            'f1': F1 score, also known as balanced F-score or F-measure\n",
       "Examples:\n",
       "\n",
       "    >>> predictions = [['O', 'O', 'B-MISC', 'I-MISC', 'I-MISC', 'I-MISC', 'O'], ['B-PER', 'I-PER', 'O']]\n",
       "    >>> references = [['O', 'O', 'O', 'B-MISC', 'I-MISC', 'I-MISC', 'O'], ['B-PER', 'I-PER', 'O']]\n",
       "    >>> seqeval = datasets.load_metric(\"seqeval\")\n",
       "    >>> results = seqeval.compute(predictions=predictions, references=references)\n",
       "    >>> print(list(results.keys()))\n",
       "    ['MISC', 'PER', 'overall_precision', 'overall_recall', 'overall_f1', 'overall_accuracy']\n",
       "    >>> print(results[\"overall_f1\"])\n",
       "    0.5\n",
       "    >>> print(results[\"PER\"][\"f1\"])\n",
       "    1.0\n",
       "\"\"\", stored examples: 0)"
      ]
     },
     "execution_count": 8,
     "metadata": {},
     "output_type": "execute_result"
    }
   ],
   "source": [
    "from datasets import load_metric\n",
    "metric = load_metric('seqeval', 'cynthiachan/FeedRef_10pct')\n",
    "metric"
   ]
  },
  {
   "cell_type": "code",
   "execution_count": 10,
   "metadata": {},
   "outputs": [
    {
     "name": "stderr",
     "output_type": "stream",
     "text": [
      "/opt/anaconda3/envs/magpie-predict/lib/python3.7/site-packages/seqeval/metrics/sequence_labeling.py:171: UserWarning: 0 seems not to be NE tag.\n",
      "  warnings.warn('{} seems not to be NE tag.'.format(chunk))\n",
      "/opt/anaconda3/envs/magpie-predict/lib/python3.7/site-packages/seqeval/metrics/sequence_labeling.py:171: UserWarning: 19 seems not to be NE tag.\n",
      "  warnings.warn('{} seems not to be NE tag.'.format(chunk))\n",
      "/opt/anaconda3/envs/magpie-predict/lib/python3.7/site-packages/seqeval/metrics/sequence_labeling.py:171: UserWarning: 13 seems not to be NE tag.\n",
      "  warnings.warn('{} seems not to be NE tag.'.format(chunk))\n",
      "/opt/anaconda3/envs/magpie-predict/lib/python3.7/site-packages/seqeval/metrics/sequence_labeling.py:171: UserWarning: 15 seems not to be NE tag.\n",
      "  warnings.warn('{} seems not to be NE tag.'.format(chunk))\n",
      "/opt/anaconda3/envs/magpie-predict/lib/python3.7/site-packages/seqeval/metrics/sequence_labeling.py:171: UserWarning: 17 seems not to be NE tag.\n",
      "  warnings.warn('{} seems not to be NE tag.'.format(chunk))\n",
      "/opt/anaconda3/envs/magpie-predict/lib/python3.7/site-packages/seqeval/metrics/sequence_labeling.py:171: UserWarning: 23 seems not to be NE tag.\n",
      "  warnings.warn('{} seems not to be NE tag.'.format(chunk))\n",
      "/opt/anaconda3/envs/magpie-predict/lib/python3.7/site-packages/seqeval/metrics/sequence_labeling.py:171: UserWarning: 3 seems not to be NE tag.\n",
      "  warnings.warn('{} seems not to be NE tag.'.format(chunk))\n",
      "/opt/anaconda3/envs/magpie-predict/lib/python3.7/site-packages/seqeval/metrics/sequence_labeling.py:171: UserWarning: 9 seems not to be NE tag.\n",
      "  warnings.warn('{} seems not to be NE tag.'.format(chunk))\n",
      "/opt/anaconda3/envs/magpie-predict/lib/python3.7/site-packages/seqeval/metrics/sequence_labeling.py:171: UserWarning: 5 seems not to be NE tag.\n",
      "  warnings.warn('{} seems not to be NE tag.'.format(chunk))\n",
      "/opt/anaconda3/envs/magpie-predict/lib/python3.7/site-packages/seqeval/metrics/sequence_labeling.py:171: UserWarning: 11 seems not to be NE tag.\n",
      "  warnings.warn('{} seems not to be NE tag.'.format(chunk))\n",
      "/opt/anaconda3/envs/magpie-predict/lib/python3.7/site-packages/seqeval/metrics/sequence_labeling.py:171: UserWarning: 21 seems not to be NE tag.\n",
      "  warnings.warn('{} seems not to be NE tag.'.format(chunk))\n",
      "/opt/anaconda3/envs/magpie-predict/lib/python3.7/site-packages/seqeval/metrics/sequence_labeling.py:171: UserWarning: 29 seems not to be NE tag.\n",
      "  warnings.warn('{} seems not to be NE tag.'.format(chunk))\n",
      "/opt/anaconda3/envs/magpie-predict/lib/python3.7/site-packages/seqeval/metrics/sequence_labeling.py:171: UserWarning: 1 seems not to be NE tag.\n",
      "  warnings.warn('{} seems not to be NE tag.'.format(chunk))\n",
      "/opt/anaconda3/envs/magpie-predict/lib/python3.7/site-packages/seqeval/metrics/sequence_labeling.py:171: UserWarning: 25 seems not to be NE tag.\n",
      "  warnings.warn('{} seems not to be NE tag.'.format(chunk))\n"
     ]
    },
    {
     "data": {
      "text/plain": [
       "{'1': {'precision': 0.8235294117647058,\n",
       "  'recall': 0.7777777777777778,\n",
       "  'f1': 0.7999999999999999,\n",
       "  'number': 18},\n",
       " '3': {'precision': 0.8620689655172413,\n",
       "  'recall': 0.847457627118644,\n",
       "  'f1': 0.8547008547008546,\n",
       "  'number': 59},\n",
       " '5': {'precision': 0.5, 'recall': 0.4, 'f1': 0.4444444444444445, 'number': 5},\n",
       " '7': {'precision': 0.9318181818181818,\n",
       "  'recall': 0.9534883720930233,\n",
       "  'f1': 0.942528735632184,\n",
       "  'number': 43},\n",
       " '9': {'precision': 0.642512077294686,\n",
       "  'recall': 0.875,\n",
       "  'f1': 0.7409470752089136,\n",
       "  'number': 152},\n",
       " '_': {'precision': 0.46236559139784944,\n",
       "  'recall': 0.6056338028169014,\n",
       "  'f1': 0.524390243902439,\n",
       "  'number': 142},\n",
       " 'overall_precision': 0.6317829457364341,\n",
       " 'overall_recall': 0.7780429594272077,\n",
       " 'overall_f1': 0.6973262032085561,\n",
       " 'overall_accuracy': 0.9936179775280899}"
      ]
     },
     "execution_count": 10,
     "metadata": {},
     "output_type": "execute_result"
    }
   ],
   "source": [
    "metric.compute(predictions=y_pred, references=test['ner_tags'])"
   ]
  },
  {
   "cell_type": "code",
   "execution_count": null,
   "metadata": {},
   "outputs": [],
   "source": []
  }
 ],
 "metadata": {
  "kernelspec": {
   "display_name": "Python 3.7.13 ('magpie-predict')",
   "language": "python",
   "name": "python3"
  },
  "language_info": {
   "codemirror_mode": {
    "name": "ipython",
    "version": 3
   },
   "file_extension": ".py",
   "mimetype": "text/x-python",
   "name": "python",
   "nbconvert_exporter": "python",
   "pygments_lexer": "ipython3",
   "version": "3.7.13"
  },
  "orig_nbformat": 4,
  "vscode": {
   "interpreter": {
    "hash": "71338736e3fa97810fc3b9b4d9664b9e28d5ff09ba43c13121f3ce6acfebed71"
   }
  }
 },
 "nbformat": 4,
 "nbformat_minor": 2
}
