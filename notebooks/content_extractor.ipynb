{
 "cells": [
  {
   "cell_type": "code",
   "execution_count": 1,
   "metadata": {
    "ExecuteTime": {
     "end_time": "2021-07-29T08:19:25.596292Z",
     "start_time": "2021-07-29T08:19:25.098096Z"
    }
   },
   "outputs": [
    {
     "data": {
      "application/javascript": [
       "\n",
       "            setTimeout(function() {\n",
       "                var nbb_cell_id = 1;\n",
       "                var nbb_unformatted_code = \"%load_ext nb_black\";\n",
       "                var nbb_formatted_code = \"%load_ext nb_black\";\n",
       "                var nbb_cells = Jupyter.notebook.get_cells();\n",
       "                for (var i = 0; i < nbb_cells.length; ++i) {\n",
       "                    if (nbb_cells[i].input_prompt_number == nbb_cell_id) {\n",
       "                        if (nbb_cells[i].get_text() == nbb_unformatted_code) {\n",
       "                             nbb_cells[i].set_text(nbb_formatted_code);\n",
       "                        }\n",
       "                        break;\n",
       "                    }\n",
       "                }\n",
       "            }, 500);\n",
       "            "
      ],
      "text/plain": [
       "<IPython.core.display.Javascript object>"
      ]
     },
     "metadata": {},
     "output_type": "display_data"
    }
   ],
   "source": [
    "%load_ext nb_black"
   ]
  },
  {
   "cell_type": "markdown",
   "metadata": {},
   "source": [
    "---"
   ]
  },
  {
   "cell_type": "code",
   "execution_count": 2,
   "metadata": {
    "ExecuteTime": {
     "end_time": "2021-07-29T08:19:25.620776Z",
     "start_time": "2021-07-29T08:19:25.603240Z"
    }
   },
   "outputs": [
    {
     "data": {
      "application/javascript": [
       "\n",
       "            setTimeout(function() {\n",
       "                var nbb_cell_id = 2;\n",
       "                var nbb_unformatted_code = \"import sys\\n\\nsys.path.append(\\\"../\\\")\";\n",
       "                var nbb_formatted_code = \"import sys\\n\\nsys.path.append(\\\"../\\\")\";\n",
       "                var nbb_cells = Jupyter.notebook.get_cells();\n",
       "                for (var i = 0; i < nbb_cells.length; ++i) {\n",
       "                    if (nbb_cells[i].input_prompt_number == nbb_cell_id) {\n",
       "                        if (nbb_cells[i].get_text() == nbb_unformatted_code) {\n",
       "                             nbb_cells[i].set_text(nbb_formatted_code);\n",
       "                        }\n",
       "                        break;\n",
       "                    }\n",
       "                }\n",
       "            }, 500);\n",
       "            "
      ],
      "text/plain": [
       "<IPython.core.display.Javascript object>"
      ]
     },
     "metadata": {},
     "output_type": "display_data"
    }
   ],
   "source": [
    "import sys\n",
    "\n",
    "sys.path.append(\"../\")"
   ]
  },
  {
   "cell_type": "code",
   "execution_count": 3,
   "metadata": {
    "ExecuteTime": {
     "end_time": "2021-07-29T08:19:28.142654Z",
     "start_time": "2021-07-29T08:19:25.628508Z"
    }
   },
   "outputs": [
    {
     "data": {
      "application/javascript": [
       "\n",
       "            setTimeout(function() {\n",
       "                var nbb_cell_id = 3;\n",
       "                var nbb_unformatted_code = \"from functional import seq\\n\\nfrom magpie.src.indicator import (\\n    attack_technique,\\n    bitcoin_address,\\n    cve,\\n    domain,\\n    email,\\n    filehash_md5,\\n    filehash_sha1,\\n    filehash_sha256,\\n    filepath,\\n    hostname,\\n    ipv4,\\n    ipv6,\\n    sslcert_fingerprint,\\n    uri,\\n    url,\\n)\";\n",
       "                var nbb_formatted_code = \"from functional import seq\\n\\nfrom magpie.src.indicator import (\\n    attack_technique,\\n    bitcoin_address,\\n    cve,\\n    domain,\\n    email,\\n    filehash_md5,\\n    filehash_sha1,\\n    filehash_sha256,\\n    filepath,\\n    hostname,\\n    ipv4,\\n    ipv6,\\n    sslcert_fingerprint,\\n    uri,\\n    url,\\n)\";\n",
       "                var nbb_cells = Jupyter.notebook.get_cells();\n",
       "                for (var i = 0; i < nbb_cells.length; ++i) {\n",
       "                    if (nbb_cells[i].input_prompt_number == nbb_cell_id) {\n",
       "                        if (nbb_cells[i].get_text() == nbb_unformatted_code) {\n",
       "                             nbb_cells[i].set_text(nbb_formatted_code);\n",
       "                        }\n",
       "                        break;\n",
       "                    }\n",
       "                }\n",
       "            }, 500);\n",
       "            "
      ],
      "text/plain": [
       "<IPython.core.display.Javascript object>"
      ]
     },
     "metadata": {},
     "output_type": "display_data"
    }
   ],
   "source": [
    "from functional import seq\n",
    "\n",
    "from magpie.src.indicator import (\n",
    "    attack_technique,\n",
    "    bitcoin_address,\n",
    "    cve,\n",
    "    domain,\n",
    "    email,\n",
    "    filehash_md5,\n",
    "    filehash_sha1,\n",
    "    filehash_sha256,\n",
    "    filepath,\n",
    "    hostname,\n",
    "    ipv4,\n",
    "    ipv6,\n",
    "    sslcert_fingerprint,\n",
    "    uri,\n",
    "    url,\n",
    ")"
   ]
  },
  {
   "cell_type": "code",
   "execution_count": 4,
   "metadata": {
    "ExecuteTime": {
     "end_time": "2021-07-29T08:19:28.186048Z",
     "start_time": "2021-07-29T08:19:28.156640Z"
    }
   },
   "outputs": [
    {
     "data": {
      "application/javascript": [
       "\n",
       "            setTimeout(function() {\n",
       "                var nbb_cell_id = 4;\n",
       "                var nbb_unformatted_code = \"preparser = (\\n    uri.parser\\n    | url.parser\\n    | email.parser\\n    | hostname.parser\\n    | domain.parser\\n    | sslcert_fingerprint.parser\\n    | ipv6.parser\\n    | ipv4.parser\\n    | cve.parser\\n    | attack_technique.parser\\n    | filepath.parser\\n    | filehash_sha256.parser  # len = 64\\n    | filehash_sha1.parser  # len = 40\\n    | bitcoin_address.parser  # len = 34\\n    | filehash_md5.parser  # len = 32\\n)\";\n",
       "                var nbb_formatted_code = \"preparser = (\\n    uri.parser\\n    | url.parser\\n    | email.parser\\n    | hostname.parser\\n    | domain.parser\\n    | sslcert_fingerprint.parser\\n    | ipv6.parser\\n    | ipv4.parser\\n    | cve.parser\\n    | attack_technique.parser\\n    | filepath.parser\\n    | filehash_sha256.parser  # len = 64\\n    | filehash_sha1.parser  # len = 40\\n    | bitcoin_address.parser  # len = 34\\n    | filehash_md5.parser  # len = 32\\n)\";\n",
       "                var nbb_cells = Jupyter.notebook.get_cells();\n",
       "                for (var i = 0; i < nbb_cells.length; ++i) {\n",
       "                    if (nbb_cells[i].input_prompt_number == nbb_cell_id) {\n",
       "                        if (nbb_cells[i].get_text() == nbb_unformatted_code) {\n",
       "                             nbb_cells[i].set_text(nbb_formatted_code);\n",
       "                        }\n",
       "                        break;\n",
       "                    }\n",
       "                }\n",
       "            }, 500);\n",
       "            "
      ],
      "text/plain": [
       "<IPython.core.display.Javascript object>"
      ]
     },
     "metadata": {},
     "output_type": "display_data"
    }
   ],
   "source": [
    "preparser = (\n",
    "    uri.parser\n",
    "    | url.parser\n",
    "    | email.parser\n",
    "    | hostname.parser\n",
    "    | domain.parser\n",
    "    | sslcert_fingerprint.parser\n",
    "    | ipv6.parser\n",
    "    | ipv4.parser\n",
    "    | cve.parser\n",
    "    | attack_technique.parser\n",
    "    | filepath.parser\n",
    "    | filehash_sha256.parser  # len = 64\n",
    "    | filehash_sha1.parser  # len = 40\n",
    "    | bitcoin_address.parser  # len = 34\n",
    "    | filehash_md5.parser  # len = 32\n",
    ")"
   ]
  },
  {
   "cell_type": "markdown",
   "metadata": {},
   "source": [
    "---"
   ]
  },
  {
   "cell_type": "code",
   "execution_count": 5,
   "metadata": {
    "ExecuteTime": {
     "end_time": "2021-07-29T08:19:28.211508Z",
     "start_time": "2021-07-29T08:19:28.192170Z"
    }
   },
   "outputs": [
    {
     "data": {
      "application/javascript": [
       "\n",
       "            setTimeout(function() {\n",
       "                var nbb_cell_id = 5;\n",
       "                var nbb_unformatted_code = \"sample_text = (\\n    \\\"email, adonilifranky@gmail.com\\\\n\\\"\\n    \\\"Once launched, HelloKitty will attempt to disable and terminate a number of processes and services so as to reduce interference with the encryption process. This includes processes and services associated with IIS, MSSQL, Quickbooks, Sharepoint, and more. These actions are carried out via taskkill.exe and net.exe.\\\\n\\\"\\n    \\\"It is also important to note that as of this writing, the onion address associated with HelloKitty ransom notes is not active. 6x7dp6h3w6q3ugjv4yv5gycj3femb24kysgry5b44hhgfwc5ml5qrdad.onion Conclusion HelloKitty may be easier to spot than other modern ransomware families, but upon execution it is no less dangerous. There are currently no known \\u2018weaknesses\\u2019 in the encryption routines, and there are no thirdy-party decrypters available for the HelloKitty ransomware. Therefore, the only true defense is prevention. While this family does not appear to be actively leaking victim data at the moment, that could change at any point, in addition to them choosing to adopt some of the more recent extortion methods that go along with ransomware (DDoS). Actors behind the more recent campaign(s) are reportedly attempting to auction the CD Projekt data off in various \\u2018underground\\u2019 forums. At present this sale of this data does appear to be legitimate. Time will tell if additional victim data is dealt with in the same way. To protect yourself against HelloKitty, make sure you are armed with a modern Endpoint Security platform, which is configured correctly and up to date. The SentinelOne Singularity Platform is fully capable of preventing and detecting all malicious behaviors associated with the HelloKitty ransomware family. IOCs SHA1 fadd8d7c13a18c251ded1f645ffea18a37f1c2de SHA256 501487b025f25ddf1ca32deb57a2b4db43ccf6635c1edc74b9cff54ce0e5bcfe MITRE ATT&CK Data from Local System \\u2013 T1005 Modify Registry \\u2013 T1112 Query Registry \\u2013 T1012 System Information Discovery \\u2013 T1082 Data Encrypted for Impact \\u2013 T1486 File Deletion \\u2013 T1070.004 Command and Scripting Interpreter: Windows Command Shell \\u2013 T1059.003 Windows Management Instrumentation \\u2013 T1047\\\\n\\\"\\n)\";\n",
       "                var nbb_formatted_code = \"sample_text = (\\n    \\\"email, adonilifranky@gmail.com\\\\n\\\"\\n    \\\"Once launched, HelloKitty will attempt to disable and terminate a number of processes and services so as to reduce interference with the encryption process. This includes processes and services associated with IIS, MSSQL, Quickbooks, Sharepoint, and more. These actions are carried out via taskkill.exe and net.exe.\\\\n\\\"\\n    \\\"It is also important to note that as of this writing, the onion address associated with HelloKitty ransom notes is not active. 6x7dp6h3w6q3ugjv4yv5gycj3femb24kysgry5b44hhgfwc5ml5qrdad.onion Conclusion HelloKitty may be easier to spot than other modern ransomware families, but upon execution it is no less dangerous. There are currently no known \\u2018weaknesses\\u2019 in the encryption routines, and there are no thirdy-party decrypters available for the HelloKitty ransomware. Therefore, the only true defense is prevention. While this family does not appear to be actively leaking victim data at the moment, that could change at any point, in addition to them choosing to adopt some of the more recent extortion methods that go along with ransomware (DDoS). Actors behind the more recent campaign(s) are reportedly attempting to auction the CD Projekt data off in various \\u2018underground\\u2019 forums. At present this sale of this data does appear to be legitimate. Time will tell if additional victim data is dealt with in the same way. To protect yourself against HelloKitty, make sure you are armed with a modern Endpoint Security platform, which is configured correctly and up to date. The SentinelOne Singularity Platform is fully capable of preventing and detecting all malicious behaviors associated with the HelloKitty ransomware family. IOCs SHA1 fadd8d7c13a18c251ded1f645ffea18a37f1c2de SHA256 501487b025f25ddf1ca32deb57a2b4db43ccf6635c1edc74b9cff54ce0e5bcfe MITRE ATT&CK Data from Local System \\u2013 T1005 Modify Registry \\u2013 T1112 Query Registry \\u2013 T1012 System Information Discovery \\u2013 T1082 Data Encrypted for Impact \\u2013 T1486 File Deletion \\u2013 T1070.004 Command and Scripting Interpreter: Windows Command Shell \\u2013 T1059.003 Windows Management Instrumentation \\u2013 T1047\\\\n\\\"\\n)\";\n",
       "                var nbb_cells = Jupyter.notebook.get_cells();\n",
       "                for (var i = 0; i < nbb_cells.length; ++i) {\n",
       "                    if (nbb_cells[i].input_prompt_number == nbb_cell_id) {\n",
       "                        if (nbb_cells[i].get_text() == nbb_unformatted_code) {\n",
       "                             nbb_cells[i].set_text(nbb_formatted_code);\n",
       "                        }\n",
       "                        break;\n",
       "                    }\n",
       "                }\n",
       "            }, 500);\n",
       "            "
      ],
      "text/plain": [
       "<IPython.core.display.Javascript object>"
      ]
     },
     "metadata": {},
     "output_type": "display_data"
    }
   ],
   "source": [
    "sample_text = (\n",
    "    \"email, adonilifranky@gmail.com\\n\"\n",
    "    \"Once launched, HelloKitty will attempt to disable and terminate a number of processes and services so as to reduce interference with the encryption process. This includes processes and services associated with IIS, MSSQL, Quickbooks, Sharepoint, and more. These actions are carried out via taskkill.exe and net.exe.\\n\"\n",
    "    \"It is also important to note that as of this writing, the onion address associated with HelloKitty ransom notes is not active. 6x7dp6h3w6q3ugjv4yv5gycj3femb24kysgry5b44hhgfwc5ml5qrdad.onion Conclusion HelloKitty may be easier to spot than other modern ransomware families, but upon execution it is no less dangerous. There are currently no known ‘weaknesses’ in the encryption routines, and there are no thirdy-party decrypters available for the HelloKitty ransomware. Therefore, the only true defense is prevention. While this family does not appear to be actively leaking victim data at the moment, that could change at any point, in addition to them choosing to adopt some of the more recent extortion methods that go along with ransomware (DDoS). Actors behind the more recent campaign(s) are reportedly attempting to auction the CD Projekt data off in various ‘underground’ forums. At present this sale of this data does appear to be legitimate. Time will tell if additional victim data is dealt with in the same way. To protect yourself against HelloKitty, make sure you are armed with a modern Endpoint Security platform, which is configured correctly and up to date. The SentinelOne Singularity Platform is fully capable of preventing and detecting all malicious behaviors associated with the HelloKitty ransomware family. IOCs SHA1 fadd8d7c13a18c251ded1f645ffea18a37f1c2de SHA256 501487b025f25ddf1ca32deb57a2b4db43ccf6635c1edc74b9cff54ce0e5bcfe MITRE ATT&CK Data from Local System – T1005 Modify Registry – T1112 Query Registry – T1012 System Information Discovery – T1082 Data Encrypted for Impact – T1486 File Deletion – T1070.004 Command and Scripting Interpreter: Windows Command Shell – T1059.003 Windows Management Instrumentation – T1047\\n\"\n",
    ")"
   ]
  },
  {
   "cell_type": "code",
   "execution_count": 6,
   "metadata": {
    "ExecuteTime": {
     "end_time": "2021-07-29T08:19:29.473875Z",
     "start_time": "2021-07-29T08:19:28.225904Z"
    }
   },
   "outputs": [
    {
     "data": {
      "text/html": [
       "<table>\n",
       "<tbody>\n",
       "<tr><td>email          </td><td>{&#x27;email&#x27;: &#x27;adonilifranky@gmail.com&#x27;}                                                   </td><td>(7, 30)     </td></tr>\n",
       "<tr><td>FilePath       </td><td>{&#x27;FilePath&#x27;: &#x27;taskkill.exe&#x27;}                                                           </td><td>(321, 333)  </td></tr>\n",
       "<tr><td>FilePath       </td><td>{&#x27;FilePath&#x27;: &#x27;net.exe&#x27;}                                                                </td><td>(338, 345)  </td></tr>\n",
       "<tr><td>domain         </td><td>{&#x27;domain&#x27;: &#x27;6x7dp6h3w6q3ugjv4yv5gycj3femb24kysgry5b44hhgfwc5ml5qrdad.onion&#x27;}           </td><td>(474, 536)  </td></tr>\n",
       "<tr><td>FileHash-SHA1  </td><td>{&#x27;FileHash-SHA1&#x27;: &#x27;fadd8d7c13a18c251ded1f645ffea18a37f1c2de&#x27;}                          </td><td>(1688, 1728)</td></tr>\n",
       "<tr><td>FileHash-SHA256</td><td>{&#x27;FileHash-SHA256&#x27;: &#x27;501487b025f25ddf1ca32deb57a2b4db43ccf6635c1edc74b9cff54ce0e5bcfe&#x27;}</td><td>(1736, 1800)</td></tr>\n",
       "<tr><td>AttackTechnique</td><td>{&#x27;AttackTechnique&#x27;: &#x27;T1005&#x27;}                                                           </td><td>(1839, 1844)</td></tr>\n",
       "<tr><td>AttackTechnique</td><td>{&#x27;AttackTechnique&#x27;: &#x27;T1112&#x27;}                                                           </td><td>(1863, 1868)</td></tr>\n",
       "<tr><td>AttackTechnique</td><td>{&#x27;AttackTechnique&#x27;: &#x27;T1012&#x27;}                                                           </td><td>(1886, 1891)</td></tr>\n",
       "<tr><td>AttackTechnique</td><td>{&#x27;AttackTechnique&#x27;: &#x27;T1082&#x27;}                                                           </td><td>(1923, 1928)</td></tr>\n",
       "</tbody>\n",
       "</table><p>Showing 10 of 14 rows"
      ],
      "text/plain": [
       "[('email', {'email': 'adonilifranky@gmail.com'}, (7, 30)), ('FilePath', {'FilePath': 'taskkill.exe'}, (321, 333)), ('FilePath', {'FilePath': 'net.exe'}, (338, 345)), ('domain', {'domain': '6x7dp6h3w6q3ugjv4yv5gycj3femb24kysgry5b44hhgfwc5ml5qrdad.onion'}, (474, 536)), ('FileHash-SHA1', {'FileHash-SHA1': 'fadd8d7c13a18c251ded1f645ffea18a37f1c2de'}, (1688, 1728)), ('FileHash-SHA256', {'FileHash-SHA256': '501487b025f25ddf1ca32deb57a2b4db43ccf6635c1edc74b9cff54ce0e5bcfe'}, (1736, 1800)), ('AttackTechnique', {'AttackTechnique': 'T1005'}, (1839, 1844)), ('AttackTechnique', {'AttackTechnique': 'T1112'}, (1863, 1868)), ('AttackTechnique', {'AttackTechnique': 'T1012'}, (1886, 1891)), ('AttackTechnique', {'AttackTechnique': 'T1082'}, (1923, 1928)), ('AttackTechnique', {'AttackTechnique': 'T1486'}, (1957, 1962)), ('AttackTechnique', {'AttackTechnique': 'T1070.004'}, (1979, 1988)), ('AttackTechnique', {'AttackTechnique': 'T1059.003'}, (2048, 2057)), ('AttackTechnique', {'AttackTechnique': 'T1047'}, (2095, 2100))]"
      ]
     },
     "execution_count": 6,
     "metadata": {},
     "output_type": "execute_result"
    },
    {
     "data": {
      "application/javascript": [
       "\n",
       "            setTimeout(function() {\n",
       "                var nbb_cell_id = 6;\n",
       "                var nbb_unformatted_code = \"seq(preparser.scanString(sample_text)).starmap(\\n    lambda r, start, end: (r.getName(), r.asDict(), (start, end))\\n)\";\n",
       "                var nbb_formatted_code = \"seq(preparser.scanString(sample_text)).starmap(\\n    lambda r, start, end: (r.getName(), r.asDict(), (start, end))\\n)\";\n",
       "                var nbb_cells = Jupyter.notebook.get_cells();\n",
       "                for (var i = 0; i < nbb_cells.length; ++i) {\n",
       "                    if (nbb_cells[i].input_prompt_number == nbb_cell_id) {\n",
       "                        if (nbb_cells[i].get_text() == nbb_unformatted_code) {\n",
       "                             nbb_cells[i].set_text(nbb_formatted_code);\n",
       "                        }\n",
       "                        break;\n",
       "                    }\n",
       "                }\n",
       "            }, 500);\n",
       "            "
      ],
      "text/plain": [
       "<IPython.core.display.Javascript object>"
      ]
     },
     "metadata": {},
     "output_type": "display_data"
    }
   ],
   "source": [
    "seq(preparser.scanString(sample_text)).starmap(\n",
    "    lambda r, start, end: (r.getName(), r.asDict(), (start, end))\n",
    ")"
   ]
  },
  {
   "cell_type": "code",
   "execution_count": 7,
   "metadata": {
    "ExecuteTime": {
     "end_time": "2021-07-29T08:19:30.626841Z",
     "start_time": "2021-07-29T08:19:29.478895Z"
    }
   },
   "outputs": [
    {
     "data": {
      "text/html": [
       "<table>\n",
       "<tbody>\n",
       "<tr><td>email          </td><td>{&#x27;email&#x27;: &#x27;adonilifranky@gmail.com&#x27;}                                                   </td></tr>\n",
       "<tr><td>FilePath       </td><td>{&#x27;FilePath&#x27;: &#x27;taskkill.exe&#x27;}                                                           </td></tr>\n",
       "<tr><td>FilePath       </td><td>{&#x27;FilePath&#x27;: &#x27;net.exe&#x27;}                                                                </td></tr>\n",
       "<tr><td>domain         </td><td>{&#x27;domain&#x27;: &#x27;6x7dp6h3w6q3ugjv4yv5gycj3femb24kysgry5b44hhgfwc5ml5qrdad.onion&#x27;}           </td></tr>\n",
       "<tr><td>FileHash-SHA1  </td><td>{&#x27;FileHash-SHA1&#x27;: &#x27;fadd8d7c13a18c251ded1f645ffea18a37f1c2de&#x27;}                          </td></tr>\n",
       "<tr><td>FileHash-SHA256</td><td>{&#x27;FileHash-SHA256&#x27;: &#x27;501487b025f25ddf1ca32deb57a2b4db43ccf6635c1edc74b9cff54ce0e5bcfe&#x27;}</td></tr>\n",
       "<tr><td>AttackTechnique</td><td>{&#x27;AttackTechnique&#x27;: &#x27;T1005&#x27;}                                                           </td></tr>\n",
       "<tr><td>AttackTechnique</td><td>{&#x27;AttackTechnique&#x27;: &#x27;T1112&#x27;}                                                           </td></tr>\n",
       "<tr><td>AttackTechnique</td><td>{&#x27;AttackTechnique&#x27;: &#x27;T1012&#x27;}                                                           </td></tr>\n",
       "<tr><td>AttackTechnique</td><td>{&#x27;AttackTechnique&#x27;: &#x27;T1082&#x27;}                                                           </td></tr>\n",
       "</tbody>\n",
       "</table><p>Showing 10 of 14 rows"
      ],
      "text/plain": [
       "[('email', {'email': 'adonilifranky@gmail.com'}), ('FilePath', {'FilePath': 'taskkill.exe'}), ('FilePath', {'FilePath': 'net.exe'}), ('domain', {'domain': '6x7dp6h3w6q3ugjv4yv5gycj3femb24kysgry5b44hhgfwc5ml5qrdad.onion'}), ('FileHash-SHA1', {'FileHash-SHA1': 'fadd8d7c13a18c251ded1f645ffea18a37f1c2de'}), ('FileHash-SHA256', {'FileHash-SHA256': '501487b025f25ddf1ca32deb57a2b4db43ccf6635c1edc74b9cff54ce0e5bcfe'}), ('AttackTechnique', {'AttackTechnique': 'T1005'}), ('AttackTechnique', {'AttackTechnique': 'T1112'}), ('AttackTechnique', {'AttackTechnique': 'T1012'}), ('AttackTechnique', {'AttackTechnique': 'T1082'}), ('AttackTechnique', {'AttackTechnique': 'T1486'}), ('AttackTechnique', {'AttackTechnique': 'T1070.004'}), ('AttackTechnique', {'AttackTechnique': 'T1059.003'}), ('AttackTechnique', {'AttackTechnique': 'T1047'})]"
      ]
     },
     "execution_count": 7,
     "metadata": {},
     "output_type": "execute_result"
    },
    {
     "data": {
      "application/javascript": [
       "\n",
       "            setTimeout(function() {\n",
       "                var nbb_cell_id = 7;\n",
       "                var nbb_unformatted_code = \"seq(preparser.searchString(sample_text)).map(lambda r: (r.getName(), r.asDict()))\";\n",
       "                var nbb_formatted_code = \"seq(preparser.searchString(sample_text)).map(lambda r: (r.getName(), r.asDict()))\";\n",
       "                var nbb_cells = Jupyter.notebook.get_cells();\n",
       "                for (var i = 0; i < nbb_cells.length; ++i) {\n",
       "                    if (nbb_cells[i].input_prompt_number == nbb_cell_id) {\n",
       "                        if (nbb_cells[i].get_text() == nbb_unformatted_code) {\n",
       "                             nbb_cells[i].set_text(nbb_formatted_code);\n",
       "                        }\n",
       "                        break;\n",
       "                    }\n",
       "                }\n",
       "            }, 500);\n",
       "            "
      ],
      "text/plain": [
       "<IPython.core.display.Javascript object>"
      ]
     },
     "metadata": {},
     "output_type": "display_data"
    }
   ],
   "source": [
    "seq(preparser.searchString(sample_text)).map(lambda r: (r.getName(), r.asDict()))"
   ]
  },
  {
   "cell_type": "markdown",
   "metadata": {},
   "source": [
    "---"
   ]
  },
  {
   "cell_type": "code",
   "execution_count": 8,
   "metadata": {
    "ExecuteTime": {
     "end_time": "2021-07-29T08:19:31.010346Z",
     "start_time": "2021-07-29T08:19:30.638564Z"
    }
   },
   "outputs": [
    {
     "data": {
      "application/javascript": [
       "\n",
       "            setTimeout(function() {\n",
       "                var nbb_cell_id = 8;\n",
       "                var nbb_unformatted_code = \"from magpie.src.analyzer import HTMLElementAnalyzer\\nfrom lxml import etree\";\n",
       "                var nbb_formatted_code = \"from magpie.src.analyzer import HTMLElementAnalyzer\\nfrom lxml import etree\";\n",
       "                var nbb_cells = Jupyter.notebook.get_cells();\n",
       "                for (var i = 0; i < nbb_cells.length; ++i) {\n",
       "                    if (nbb_cells[i].input_prompt_number == nbb_cell_id) {\n",
       "                        if (nbb_cells[i].get_text() == nbb_unformatted_code) {\n",
       "                             nbb_cells[i].set_text(nbb_formatted_code);\n",
       "                        }\n",
       "                        break;\n",
       "                    }\n",
       "                }\n",
       "            }, 500);\n",
       "            "
      ],
      "text/plain": [
       "<IPython.core.display.Javascript object>"
      ]
     },
     "metadata": {},
     "output_type": "display_data"
    }
   ],
   "source": [
    "from magpie.src.analyzer import HTMLElementAnalyzer\n",
    "from lxml import etree"
   ]
  },
  {
   "cell_type": "code",
   "execution_count": 9,
   "metadata": {
    "ExecuteTime": {
     "end_time": "2021-07-29T08:19:31.036005Z",
     "start_time": "2021-07-29T08:19:31.020833Z"
    }
   },
   "outputs": [
    {
     "data": {
      "application/javascript": [
       "\n",
       "            setTimeout(function() {\n",
       "                var nbb_cell_id = 9;\n",
       "                var nbb_unformatted_code = \"document = open(\\n    \\\"../data/hellokitty-ransomware-lacks-stealth-but-still-strikes-home.html\\\", \\\"r\\\"\\n).read()\";\n",
       "                var nbb_formatted_code = \"document = open(\\n    \\\"../data/hellokitty-ransomware-lacks-stealth-but-still-strikes-home.html\\\", \\\"r\\\"\\n).read()\";\n",
       "                var nbb_cells = Jupyter.notebook.get_cells();\n",
       "                for (var i = 0; i < nbb_cells.length; ++i) {\n",
       "                    if (nbb_cells[i].input_prompt_number == nbb_cell_id) {\n",
       "                        if (nbb_cells[i].get_text() == nbb_unformatted_code) {\n",
       "                             nbb_cells[i].set_text(nbb_formatted_code);\n",
       "                        }\n",
       "                        break;\n",
       "                    }\n",
       "                }\n",
       "            }, 500);\n",
       "            "
      ],
      "text/plain": [
       "<IPython.core.display.Javascript object>"
      ]
     },
     "metadata": {},
     "output_type": "display_data"
    }
   ],
   "source": [
    "document = open(\n",
    "    \"../data/hellokitty-ransomware-lacks-stealth-but-still-strikes-home.html\", \"r\"\n",
    ").read()"
   ]
  },
  {
   "cell_type": "code",
   "execution_count": 10,
   "metadata": {
    "ExecuteTime": {
     "end_time": "2021-07-29T08:19:31.071290Z",
     "start_time": "2021-07-29T08:19:31.043126Z"
    }
   },
   "outputs": [
    {
     "data": {
      "application/javascript": [
       "\n",
       "            setTimeout(function() {\n",
       "                var nbb_cell_id = 10;\n",
       "                var nbb_unformatted_code = \"analyzer = HTMLElementAnalyzer(document)\";\n",
       "                var nbb_formatted_code = \"analyzer = HTMLElementAnalyzer(document)\";\n",
       "                var nbb_cells = Jupyter.notebook.get_cells();\n",
       "                for (var i = 0; i < nbb_cells.length; ++i) {\n",
       "                    if (nbb_cells[i].input_prompt_number == nbb_cell_id) {\n",
       "                        if (nbb_cells[i].get_text() == nbb_unformatted_code) {\n",
       "                             nbb_cells[i].set_text(nbb_formatted_code);\n",
       "                        }\n",
       "                        break;\n",
       "                    }\n",
       "                }\n",
       "            }, 500);\n",
       "            "
      ],
      "text/plain": [
       "<IPython.core.display.Javascript object>"
      ]
     },
     "metadata": {},
     "output_type": "display_data"
    }
   ],
   "source": [
    "analyzer = HTMLElementAnalyzer(document)"
   ]
  },
  {
   "cell_type": "code",
   "execution_count": 11,
   "metadata": {
    "ExecuteTime": {
     "end_time": "2021-07-29T08:19:31.939766Z",
     "start_time": "2021-07-29T08:19:31.076082Z"
    }
   },
   "outputs": [
    {
     "data": {
      "text/html": [
       "<table>\n",
       "<tbody>\n",
       "<tr><td style=\"text-align: right;\">321</td><td>a   </td><td>&lt;a href=&quot;https://labs.sentinelone.com/category/crimeware/&quot; rel=&quot;category tag&quot;&gt;Crimeware&lt;/a&gt;                                                                                                                                                                                                                                                                                                      </td><td>/html/body/div[1]/div/div[2]/div/div/div/div[1]/article/div/section/header/div[1]/span/a                 </td></tr>\n",
       "<tr><td style=\"text-align: right;\">323</td><td>h1  </td><td>&lt;h1 class=&quot;entry-title&quot; itemprop=&quot;headline name&quot;&gt;HelloKitty Ransomware Lacks Stealth, But Still Strikes Home&lt;/h1&gt;                                                                                                                                                                                                                                                                                </td><td>/html/body/div[1]/div/div[2]/div/div/div/div[1]/article/div/section/header/h1                            </td></tr>\n",
       "<tr><td style=\"text-align: right;\">326</td><td>a   </td><td>&lt;a class=&quot;url fn n&quot; href=&quot;https://labs.sentinelone.com/author/jimw/&quot;&gt;Jim Walter&lt;/a&gt;                                                                                                                                                                                                                                                                                                              </td><td>/html/body/div[1]/div/div[2]/div/div/div/div[1]/article/div/section/header/div[2]/ul/li[1]/span/span/a   </td></tr>\n",
       "<tr><td style=\"text-align: right;\">326</td><td>time</td><td>&lt;time class=&quot;entry-date published&quot; datetime=&quot;2021-03-08T17:22:44+00:00&quot; itemprop=&quot;datePublished&quot;&gt;March 8, 2021&lt;/time&gt;                                                                                                                                                                                                                                                                            </td><td>/html/body/div[1]/div/div[2]/div/div/div/div[1]/article/div/section/header/div[2]/ul/li[2]/span/a/time[1]</td></tr>\n",
       "<tr><td style=\"text-align: right;\">326</td><td>time</td><td>&lt;time class=&quot;updated&quot; datetime=&quot;2021-03-11T16:52:38+00:00&quot;&gt;March 11, 2021&lt;/time&gt;                                                                                                                                                                                                                                                                                                                 </td><td>/html/body/div[1]/div/div[2]/div/div/div/div[1]/article/div/section/header/div[2]/ul/li[2]/span/a/time[2]</td></tr>\n",
       "<tr><td style=\"text-align: right;\">336</td><td>p   </td><td>&lt;p&gt;Game studio CD Projekt Red recently &lt;a href=&quot;https://twitter.com/CDPROJEKTRED/status/1359048125403590660/photo/1&quot; target=&quot;_blank&quot; rel=&quot;noopener noreferrer&quot;&gt;disclosed&lt;/a&gt; that it became a victim of a targeted, highly-impactful ransomware. In the days following the disclosure, it was revealed that the ransomware family most likely behind the attack was &amp;#8220;HelloKitty&amp;#8221;.&lt;/p&gt;</td><td>/html/body/div[1]/div/div[2]/div/div/div/div[1]/article/div/section/section/p[1]                         </td></tr>\n",
       "<tr><td style=\"text-align: right;\">336</td><td>a   </td><td>&lt;a href=&quot;https://twitter.com/CDPROJEKTRED/status/1359048125403590660/photo/1&quot; target=&quot;_blank&quot; rel=&quot;noopener noreferrer&quot;&gt;disclosed&lt;/a&gt; that it became a victim of a targeted, highly-impactful ransomware. In the days following the disclosure, it was revealed that the ransomware family most likely behind the attack was &amp;#8220;HelloKitty&amp;#8221;.                                           </td><td>/html/body/div[1]/div/div[2]/div/div/div/div[1]/article/div/section/section/p[1]/a                       </td></tr>\n",
       "<tr><td style=\"text-align: right;\">338</td><td>p   </td><td>&lt;p&gt;HelloKitty is a ransomware family that emerged in late 2020. While it lacks the sophistication of some of the more well-known families such as Ryuk, REvil, and Conti, it has nevertheless struck some notable targets, including CEMIG0. In this post, we analyse a recent HelloKitty sample and outline the basic behaviors and traits associated with this family of ransomware.&lt;/p&gt;       </td><td>/html/body/div[1]/div/div[2]/div/div/div/div[1]/article/div/section/section/p[3]                         </td></tr>\n",
       "<tr><td style=\"text-align: right;\">339</td><td>h2  </td><td>&lt;h2&gt;Execution and Behavior&lt;/h2&gt;                                                                                                                                                                                                                                                                                                                                                                  </td><td>/html/body/div[1]/div/div[2]/div/div/div/div[1]/article/div/section/section/h2[1]                        </td></tr>\n",
       "<tr><td style=\"text-align: right;\">340</td><td>p   </td><td>&lt;p&gt;The &amp;#8220;HelloKitty&amp;#8221; name is based on internal mutex names, which are apparent upon execution.&lt;/p&gt;                                                                                                                                                                                                                                                                                    </td><td>/html/body/div[1]/div/div[2]/div/div/div/div[1]/article/div/section/section/p[4]                         </td></tr>\n",
       "</tbody>\n",
       "</table><p>Showing 10 of 120 rows"
      ],
      "text/plain": [
       "[(321, 'a', b'<a href=\"https://labs.sentinelone.com/category/crimeware/\" rel=\"category tag\">Crimeware</a>', '/html/body/div[1]/div/div[2]/div/div/div/div[1]/article/div/section/header/div[1]/span/a'), (323, 'h1', b'<h1 class=\"entry-title\" itemprop=\"headline name\">HelloKitty Ransomware Lacks Stealth, But Still Strikes Home</h1>\\n\\t\\t', '/html/body/div[1]/div/div[2]/div/div/div/div[1]/article/div/section/header/h1'), (326, 'a', b'<a class=\"url fn n\" href=\"https://labs.sentinelone.com/author/jimw/\">Jim Walter</a>', '/html/body/div[1]/div/div[2]/div/div/div/div[1]/article/div/section/header/div[2]/ul/li[1]/span/span/a'), (326, 'time', b'<time class=\"entry-date published\" datetime=\"2021-03-08T17:22:44+00:00\" itemprop=\"datePublished\">March 8, 2021</time>', '/html/body/div[1]/div/div[2]/div/div/div/div[1]/article/div/section/header/div[2]/ul/li[2]/span/a/time[1]'), (326, 'time', b'<time class=\"updated\" datetime=\"2021-03-11T16:52:38+00:00\">March 11, 2021</time>', '/html/body/div[1]/div/div[2]/div/div/div/div[1]/article/div/section/header/div[2]/ul/li[2]/span/a/time[2]'), (336, 'p', b'<p>Game studio CD Projekt Red recently <a href=\"https://twitter.com/CDPROJEKTRED/status/1359048125403590660/photo/1\" target=\"_blank\" rel=\"noopener noreferrer\">disclosed</a> that it became a victim of a targeted, highly-impactful ransomware. In the days following the disclosure, it was revealed that the ransomware family most likely behind the attack was &#8220;HelloKitty&#8221;.</p>\\n', '/html/body/div[1]/div/div[2]/div/div/div/div[1]/article/div/section/section/p[1]'), (336, 'a', b'<a href=\"https://twitter.com/CDPROJEKTRED/status/1359048125403590660/photo/1\" target=\"_blank\" rel=\"noopener noreferrer\">disclosed</a> that it became a victim of a targeted, highly-impactful ransomware. In the days following the disclosure, it was revealed that the ransomware family most likely behind the attack was &#8220;HelloKitty&#8221;.', '/html/body/div[1]/div/div[2]/div/div/div/div[1]/article/div/section/section/p[1]/a'), (338, 'p', b'<p>HelloKitty is a ransomware family that emerged in late 2020. While it lacks the sophistication of some of the more well-known families such as Ryuk, REvil, and Conti, it has nevertheless struck some notable targets, including CEMIG0. In this post, we analyse a recent HelloKitty sample and outline the basic behaviors and traits associated with this family of ransomware.</p>\\n', '/html/body/div[1]/div/div[2]/div/div/div/div[1]/article/div/section/section/p[3]'), (339, 'h2', b'<h2>Execution and Behavior</h2>\\n', '/html/body/div[1]/div/div[2]/div/div/div/div[1]/article/div/section/section/h2[1]'), (340, 'p', b'<p>The &#8220;HelloKitty&#8221; name is based on internal mutex names, which are apparent upon execution.</p>\\n', '/html/body/div[1]/div/div[2]/div/div/div/div[1]/article/div/section/section/p[4]'), (342, 'p', b'<p>While still somewhat unclear, current intelligence indicates that the primary delivery method of HelloKitty binaries is via phish email or via secondary infection in conjunction with other malware.</p>\\n', '/html/body/div[1]/div/div[2]/div/div/div/div[1]/article/div/section/section/p[6]'), (343, 'p', b'<p>Once launched, HelloKitty will attempt to disable and terminate a number of processes and services so as to reduce interference with the encryption process. This includes processes and services associated with IIS, MSSQL, Quickbooks, Sharepoint, and more. These actions are carried out via <code>taskkill.exe</code> and <code>net.exe</code>.</p>\\n', '/html/body/div[1]/div/div[2]/div/div/div/div[1]/article/div/section/section/p[7]'), (343, 'code', b'<code>taskkill.exe</code> and ', '/html/body/div[1]/div/div[2]/div/div/div/div[1]/article/div/section/section/p[7]/code[1]'), (343, 'code', b'<code>net.exe</code>.', '/html/body/div[1]/div/div[2]/div/div/div/div[1]/article/div/section/section/p[7]/code[2]'), (344, 'p', b'<p>In the analyzed sample, this is all done in a very non-stealthy manner. All spawned CMD windows are in the foreground and fully visible. This &#8216;lack of discreteness&#8217; is atypical for modern ransomware, or any successful malware, for that matter.</p>\\n', '/html/body/div[1]/div/div[2]/div/div/div/div[1]/article/div/section/section/p[8]'), (346, 'p', b'<p>A full list of processes from the analyzed sample are listed below:</p>\\n', '/html/body/div[1]/div/div[2]/div/div/div/div[1]/article/div/section/section/p[10]'), (347, 'pre', b'<pre>\\ndsa*\\nNtrtsca\\nds_moni\\nNotifie\\nTmListe\\niVPAgen\\nCNTAoSM\\nIBM*\\nbes10*\\nblack*\\nrobo*\\ncopy*\\nstore.e\\nsql*\\nvee*\\nwrsa*\\nwrsa.ex\\npostg*\\nsage*\\nMSSQLServerADHelper100\\nMSSQL$ISARS\\nMSSQL$MSFW\\nSQLAgent$ISARS\\nSQLAgent$MSFW\\nSQLBrowser\\nReportServer$ISARS\\nSQLWriter\\nWinDefend\\nmr2kserv\\nMSExchangeADTopology\\nMSExchangeFBA\\nMSExchangeIS\\nMSExchangeSA\\nShadowProtectSvc\\nSPAdminV4\\nSPTimerV4\\nSPTraceV4\\nSPUserCodeV4\\nSPWriterV4\\nSPSearch4\\nIISADMIN\\nfirebirdguardiandefaultinstance\\nibmiasrw\\nQBCFMonitorService\\nQBVSS\\nQBPOSDBServiceV12\\n\"IBM Domino Server(CProgramFilesIBMDominodata)\"\\n\"IBM Domino Diagnostics(CProgramFilesIBMDomino)\"\\n\"Simply Accounting Database Connection Manager\"\\nQuickBooksDB1\\nQuickBooksDB2\\nQuickBooksDB3\\nQuickBooksDB4\\nQuickBooksDB5\\nQuickBooksDB6\\nQuickBooksDB7\\nQuickBooksDB8\\nQuickBooksDB9\\nQuickBooksDB10\\nQuickBooksDB11\\nQuickBooksDB12\\nQuickBooksDB13\\nQuickBooksDB14\\nQuickBooksDB15\\nQuickBooksDB16\\nQuickBooksDB17\\nQuickBooksDB18\\nQuickBooksDB19\\nQuickBooksDB20\\nQuickBooksDB21\\nQuickBooksDB22\\nQuickBooksDB23\\nQuickBooksDB24\\nQuickBooksDB25\\n</pre>\\n', '/html/body/div[1]/div/div[2]/div/div/div/div[1]/article/div/section/section/pre[1]'), (423, 'p', b'<p>Additional processes and services that are terminated are identified via PID. For example:</p>\\n', '/html/body/div[1]/div/div[2]/div/div/div/div[1]/article/div/section/section/p[11]'), (424, 'code', b'<code>taskkill.exe /f /PID \"8512\"</code>', '/html/body/div[1]/div/div[2]/div/div/div/div[1]/article/div/section/section/p[12]/code[1]'), (425, 'code', b'<code>taskkill.exe /f /PID \"8656\"</code>', '/html/body/div[1]/div/div[2]/div/div/div/div[1]/article/div/section/section/p[12]/code[2]'), (426, 'p', b'<p>If HelloKitty is unable to stop any specific processes or services, it will leverage the Windows Restart Manager API to further assist in termination.</p>\\n', '/html/body/div[1]/div/div[2]/div/div/div/div[1]/article/div/section/section/p[13]'), (428, 'p', b'<p>HelloKitty will also utilize WMI to gather system details and help identify running processes and any potentially problematic processes. This is done both by name and by PID. A number of examples are shown below:</p>\\n', '/html/body/div[1]/div/div[2]/div/div/div/div[1]/article/div/section/section/p[15]'), (429, 'pre', b'<pre>\\nstart iwbemservices::execquery - root\\\\cimv2 : select __path, processid, csname, caption, sessionid, threadcount, workingsetsize, kernelmodetime, usermodetime, parentprocessid from win32_process\\n\\nstart iwbemservices::execquery - root\\\\cimv2 : select __path, processid, csname, caption, sessionid, threadcount, workingsetsize, kernelmodetime, usermodetime, parentprocessid from win32_process where (  caption = \"store.exe\")\\n\\nstart iwbemservices::execquery - root\\\\cimv2 : select __path, processid, csname, caption, sessionid, threadcount, workingsetsize, kernelmodetime, usermodetime, parentprocessid from win32_process where (  caption = \"wrsa.exe\")\\n\\nstart iwbemservices::execquery - root\\\\cimv2 : select __path, processid, csname, caption, sessionid, threadcount, workingsetsize, kernelmodetime, usermodetime, parentprocessid from win32_process where (  processid = 3036)\\n\\nstart iwbemservices::execquery - root\\\\cimv2 : select __path, processid, csname, caption, sessionid, threadcount, workingsetsize, kernelmodetime, usermodetime, parentprocessid from win32_process where (  processid = 4460)\\n\\nstart iwbemservices::execquery - root\\\\cimv2 : select __path, processid, csname, caption, sessionid, threadcount, workingsetsize, kernelmodetime, usermodetime, parentprocessid from win32_process where (  processid = 3052)\\n\\nstart iwbemservices::execquery - root\\\\cimv2 : select __path, processid, csname, caption, sessionid, threadcount, workingsetsize, kernelmodetime, usermodetime, parentprocessid from win32_process where (  processid = 4476)\\n\\nstart iwbemservices::execquery - root\\\\cimv2 : select __path, processid, csname, caption, sessionid, threadcount, workingsetsize, kernelmodetime, usermodetime, parentprocessid from win32_process where (  processid = 1560)\\n\\nstart iwbemservices::execquery - root\\\\cimv2 : select __path, processid, csname, caption, sessionid, threadcount, workingsetsize, kernelmodetime, usermodetime, parentprocessid from win32_process where (  processid = 8124)\\n\\nstart iwbemservices::exe\\n</pre>\\n', '/html/body/div[1]/div/div[2]/div/div/div/div[1]/article/div/section/section/pre[2]'), (450, 'h2', b'<h2>Encryption and Ransom Note</h2>\\n', '/html/body/div[1]/div/div[2]/div/div/div/div[1]/article/div/section/section/h2[2]'), (451, 'p', b'<p>Encryption is initiated and completed very quickly once applicable services and processes have been terminated. Specific encryption recipes and routines can vary across variants of HelloKitty. Generally speaking, they tend to use a combination of AES-256 &amp; RSA-2048 or even NTRU+AES-128.</p>\\n', '/html/body/div[1]/div/div[2]/div/div/div/div[1]/article/div/section/section/p[16]'), (452, 'p', b'<p>Once encrypted, affected files receive the <code>.crypted</code> extension.</p>\\n', '/html/body/div[1]/div/div[2]/div/div/div/div[1]/article/div/section/section/p[17]'), (452, 'code', b'<code>.crypted</code> extension.', '/html/body/div[1]/div/div[2]/div/div/div/div[1]/article/div/section/section/p[17]/code'), (454, 'p', b'<p>Ransom notes are typically customized to directly reference the victim and victim&#8217;s environment. Victims are instructed to visit a TOR-based payment and support portal. The following example has been sanitized:</p>\\n', '/html/body/div[1]/div/div[2]/div/div/div/div[1]/article/div/section/section/p[19]'), (456, 'p', b'<p>It is also important to note that as of this writing, the onion address associated with HelloKitty ransom notes is not active.</p>\\n', '/html/body/div[1]/div/div[2]/div/div/div/div[1]/article/div/section/section/p[21]'), (457, 'code', b'<code>6x7dp6h3w6q3ugjv4yv5gycj3femb24kysgry5b44hhgfwc5ml5qrdad.onion</code>', '/html/body/div[1]/div/div[2]/div/div/div/div[1]/article/div/section/section/p[22]/code'), (458, 'h2', b'<h2>Conclusion</h2>\\n', '/html/body/div[1]/div/div[2]/div/div/div/div[1]/article/div/section/section/h2[3]'), (459, 'p', b'<p>HelloKitty may be easier to spot than other modern ransomware families, but upon execution it is no less dangerous. There are currently no known &#8216;weaknesses&#8217; in the encryption routines, and there are no thirdy-party decrypters available for the HelloKitty ransomware. Therefore, the only true defense is prevention. While this family does not appear to be actively leaking victim data at the moment, that could change at any point, in addition to them choosing to adopt some of the more recent extortion methods that go along with ransomware (DDoS).</p>\\n', '/html/body/div[1]/div/div[2]/div/div/div/div[1]/article/div/section/section/p[23]'), (460, 'p', b'<p>Actors behind the more recent campaign(s) are reportedly attempting to auction the CD Projekt data off in various &#8216;underground&#8217; forums. At present this sale of this data does appear to be legitimate. Time will tell if additional victim data is dealt with in the same way.</p>\\n', '/html/body/div[1]/div/div[2]/div/div/div/div[1]/article/div/section/section/p[24]'), (461, 'p', b'<p>To protect yourself against HelloKitty, make sure you are armed with a modern Endpoint Security platform, which is configured correctly and up to date. The SentinelOne Singularity Platform is fully capable of preventing and detecting all malicious behaviors associated with the HelloKitty ransomware family.</p>\\n', '/html/body/div[1]/div/div[2]/div/div/div/div[1]/article/div/section/section/p[25]'), (462, 'h2', b'<h2>IOCs</h2>\\n', '/html/body/div[1]/div/div[2]/div/div/div/div[1]/article/div/section/section/h2[4]'), (463, 'strong', b'<strong>SHA1</strong>', '/html/body/div[1]/div/div[2]/div/div/div/div[1]/article/div/section/section/p[26]/strong'), (463, 'br', b'<br/>\\nfadd8d7c13a18c251ded1f645ffea18a37f1c2de', '/html/body/div[1]/div/div[2]/div/div/div/div[1]/article/div/section/section/p[26]/br'), (465, 'strong', b'<strong>SHA256</strong>', '/html/body/div[1]/div/div[2]/div/div/div/div[1]/article/div/section/section/p[27]/strong'), (465, 'br', b'<br/>\\n501487b025f25ddf1ca32deb57a2b4db43ccf6635c1edc74b9cff54ce0e5bcfe', '/html/body/div[1]/div/div[2]/div/div/div/div[1]/article/div/section/section/p[27]/br'), (467, 'strong', b'<strong>MITRE ATT&amp;CK</strong>', '/html/body/div[1]/div/div[2]/div/div/div/div[1]/article/div/section/section/p[28]/strong'), (467, 'br', b'<br/>\\nData from Local System &#8211; ', '/html/body/div[1]/div/div[2]/div/div/div/div[1]/article/div/section/section/p[28]/br[1]'), (468, 'a', b'<a href=\"https://attack.mitre.org/techniques/T1005/\" target=\"_blank\" rel=\"noopener noreferrer\">T1005</a>', '/html/body/div[1]/div/div[2]/div/div/div/div[1]/article/div/section/section/p[28]/a[1]'), (468, 'br', b'<br/>\\nModify Registry &#8211; ', '/html/body/div[1]/div/div[2]/div/div/div/div[1]/article/div/section/section/p[28]/br[2]'), (469, 'a', b'<a href=\"https://attack.mitre.org/techniques/T1112/\" target=\"_blank\" rel=\"noopener noreferrer\">T1112</a>', '/html/body/div[1]/div/div[2]/div/div/div/div[1]/article/div/section/section/p[28]/a[2]'), (469, 'br', b'<br/>\\nQuery Registry &#8211; ', '/html/body/div[1]/div/div[2]/div/div/div/div[1]/article/div/section/section/p[28]/br[3]'), (470, 'a', b'<a href=\"https://attack.mitre.org/techniques/T1012/\" target=\"_blank\" rel=\"noopener noreferrer\">T1012</a>', '/html/body/div[1]/div/div[2]/div/div/div/div[1]/article/div/section/section/p[28]/a[3]'), (470, 'br', b'<br/>\\nSystem Information Discovery &#8211; ', '/html/body/div[1]/div/div[2]/div/div/div/div[1]/article/div/section/section/p[28]/br[4]'), (471, 'a', b'<a href=\"https://attack.mitre.org/techniques/T1082/\" target=\"_blank\" rel=\"noopener noreferrer\">T1082</a>', '/html/body/div[1]/div/div[2]/div/div/div/div[1]/article/div/section/section/p[28]/a[4]'), (471, 'br', b'<br/>\\nData Encrypted for Impact &#8211; ', '/html/body/div[1]/div/div[2]/div/div/div/div[1]/article/div/section/section/p[28]/br[5]'), (472, 'a', b'<a href=\"https://attack.mitre.org/techniques/T1486/\" target=\"_blank\" rel=\"noopener noreferrer\">T1486</a>', '/html/body/div[1]/div/div[2]/div/div/div/div[1]/article/div/section/section/p[28]/a[5]'), (472, 'br', b'<br/>\\nFile Deletion &#8211; ', '/html/body/div[1]/div/div[2]/div/div/div/div[1]/article/div/section/section/p[28]/br[6]'), (473, 'a', b'<a href=\"https://attack.mitre.org/techniques/T1070/004/\" target=\"_blank\" rel=\"noopener noreferrer\">T1070.004</a>', '/html/body/div[1]/div/div[2]/div/div/div/div[1]/article/div/section/section/p[28]/a[6]'), (473, 'br', b'<br/>\\nCommand and Scripting Interpreter: Windows Command Shell &#8211; ', '/html/body/div[1]/div/div[2]/div/div/div/div[1]/article/div/section/section/p[28]/br[7]'), (474, 'a', b'<a href=\"https://attack.mitre.org/techniques/T1059/003/\" target=\"_blank\" rel=\"noopener noreferrer\">T1059.003</a>', '/html/body/div[1]/div/div[2]/div/div/div/div[1]/article/div/section/section/p[28]/a[7]'), (474, 'br', b'<br/>\\nWindows Management Instrumentation &#8211; ', '/html/body/div[1]/div/div[2]/div/div/div/div[1]/article/div/section/section/p[28]/br[8]'), (475, 'a', b'<a href=\"https://attack.mitre.org/techniques/T1047/\" target=\"_blank\" rel=\"noopener noreferrer\">T1047</a>', '/html/body/div[1]/div/div[2]/div/div/div/div[1]/article/div/section/section/p[28]/a[8]'), (478, 'span', b'<span class=\"post-views-label\">Post Views: </span>\\n\\t\\t\\t\\t', '/html/body/div[1]/div/div[2]/div/div/div/div[1]/article/div/section/section/div/span[2]'), (479, 'span', b'<span class=\"post-views-count\">7,278</span>\\n\\t\\t\\t', '/html/body/div[1]/div/div[2]/div/div/div/div[1]/article/div/section/section/div/span[3]'), (481, 'a', b'<a href=\"https://labs.sentinelone.com/tag/ransomware/\" rel=\"tag\">Ransomware</a>\\t\\t\\t\\t\\t', '/html/body/div[1]/div/div[2]/div/div/div/div[1]/article/div/section/section/p[29]/a'), (498, 'span', b'<span class=\"suffix\">Share</span>', '/html/body/div[1]/div/div[2]/div/div/div/div[1]/article/footer/div/ul/li/h3/span'), (501, 'span', b'<span class=\"suffix-text\">Facebook</span>', '/html/body/div[1]/div/div[2]/div/div/div/div[1]/article/footer/div/ul/li/ul/li[1]/a/span'), (501, 'span', b'<span class=\"suffix-text\">Twitter</span>', '/html/body/div[1]/div/div[2]/div/div/div/div[1]/article/footer/div/ul/li/ul/li[2]/a/span'), (501, 'span', b'<span class=\"suffix-text\">Mail</span>', '/html/body/div[1]/div/div[2]/div/div/div/div[1]/article/footer/div/ul/li/ul/li[3]/a/span'), (501, 'span', b'<span class=\"suffix-text\">Linkedin</span>', '/html/body/div[1]/div/div[2]/div/div/div/div[1]/article/footer/div/ul/li/ul/li[4]/a/span'), (501, 'span', b'<span class=\"suffix-text\">Reddit</span>', '/html/body/div[1]/div/div[2]/div/div/div/div[1]/article/footer/div/ul/li/ul/li[5]/a/span'), (522, 'span', b'<span class=\"fn\">Jim Walter</span>', '/html/body/div[1]/div/div[2]/div/div/div/div[1]/article/footer/section[1]/div/div/div[1]/h4/a/span/span'), (526, 'div', b'<div class=\"entry-author-description\" itemprop=\"description\">Jim Walter is a Senior Threat Researcher at SentinelOne focusing on evolving trends, actors, and tactics within the thriving ecosystem of cybercrime and crimeware. He specializes in the discovery and analysis of emerging cybercrime \"services\" and evolving communication channels leveraged by mid-level criminal organizations. Jim joined SentinelOne following ~4 years at a security start-up, also focused on malware research and organized crime. Previously, he spent over 17 years at McAfee/Intel running their Threat Intelligence and Advanced Threat Research teams.</div>\\n\\n\\t\\t\\t\\t\\n\\t\\t\\t', '/html/body/div[1]/div/div[2]/div/div/div/div[1]/article/footer/section[1]/div/div/div[1]/div'), (544, 'span', b'<span class=\"link-label\">Prev</span>', '/html/body/div[1]/div/div[2]/div/div/div/div[1]/article/footer/section[2]/div/div/div/div[1]/a/span[2]'), (544, 'h5', b'<h5 class=\"link-title\">A Guide to Ghidra Scripting Development for Malware Researchers</h5>', '/html/body/div[1]/div/div[2]/div/div/div/div[1]/article/footer/section[2]/div/div/div/div[1]/a/h5'), (544, 'span', b'<span class=\"link-label\">Next</span>', '/html/body/div[1]/div/div[2]/div/div/div/div[1]/article/footer/section[2]/div/div/div/div[3]/a/span[1]'), (544, 'h5', b'<h5 class=\"link-title\">Top 15 Essential Malware Analysis Tools</h5>', '/html/body/div[1]/div/div[2]/div/div/div/div[1]/article/footer/section[2]/div/div/div/div[3]/a/h5'), (558, 'span', b'<span>Related Posts</span>\\n\\t\\t\\t', '/html/body/div[1]/div/div[2]/div/div/div/div[1]/article/footer/section[3]/div/div/h3/span'), (572, 'a', b'<a href=\"https://labs.sentinelone.com/greywares-anatomy-the-potentially-unwanted-are-upping-their-game/\" rel=\"bookmark\">Greyware&#8217;s Anatomy: The &#8220;Potentially Unwanted&#8221; are Upping Their Game</a>', '/html/body/div[1]/div/div[2]/div/div/div/div[1]/article/footer/section[3]/div/div/div/div[1]/article/h5/a'), (573, 'time', b'<time class=\"related-post-time\" datetime=\"2021-01-07T17:18:38+00:00\">January 7, 2021</time>\\n\\n\\t\\t\\t\\t\\t', '/html/body/div[1]/div/div[2]/div/div/div/div[1]/article/footer/section[3]/div/div/div/div[1]/article/time'), (589, 'a', b'<a href=\"https://labs.sentinelone.com/lazarus-apt-targets-mac-users-poisoned-word-document/\" rel=\"bookmark\">Lazarus APT Targets Mac Users with Poisoned Word Document</a>', '/html/body/div[1]/div/div[2]/div/div/div/div[1]/article/footer/section[3]/div/div/div/div[2]/article/h5/a'), (590, 'time', b'<time class=\"related-post-time\" datetime=\"2019-04-25T11:28:33+00:00\">April 25, 2019</time>\\n\\n\\t\\t\\t\\t\\t', '/html/body/div[1]/div/div[2]/div/div/div/div[1]/article/footer/section[3]/div/div/div/div[2]/article/time'), (606, 'a', b'<a href=\"https://labs.sentinelone.com/enter-the-maze-demystifying-an-affiliate-involved-in-maze-snow/\" rel=\"bookmark\">Enter the Maze: Demystifying an Affiliate Involved in Maze (SNOW)</a>', '/html/body/div[1]/div/div[2]/div/div/div/div[1]/article/footer/section[3]/div/div/div/div[3]/article/h5/a'), (607, 'time', b'<time class=\"related-post-time\" datetime=\"2020-07-22T06:40:37+00:00\">July 22, 2020</time>\\n\\n\\t\\t\\t\\t\\t', '/html/body/div[1]/div/div[2]/div/div/div/div[1]/article/footer/section[3]/div/div/div/div[3]/article/time'), (631, 'h3', b'<h3 class=\"widget-title\">Sign Up</h3>', '/html/body/div[1]/div/div[2]/div/div/aside/div/div[1]/h3'), (633, 'span', b'<span class=\"suffix-text\">Facebook</span>\\n\\t', '/html/body/div[1]/div/div[2]/div/div/aside/div/div[1]/ul/li[1]/a/span'), (636, 'span', b'<span class=\"suffix-text\">Twitter</span>\\n\\t', '/html/body/div[1]/div/div[2]/div/div/aside/div/div[1]/ul/li[2]/a/span'), (639, 'span', b'<span class=\"suffix-text\">Linkedin</span>\\n\\t', '/html/body/div[1]/div/div[2]/div/div/aside/div/div[1]/ul/li[3]/a/span'), (644, 'p', b'<p>Get notified when we post new content.</p>\\n\\t', '/html/body/div[1]/div/div[2]/div/div/aside/div/div[1]/div/div[1]/p'), (648, 'p', b'<p>Thanks!  Keep an eye out for new content!</p>\\n\\t', '/html/body/div[1]/div/div[2]/div/div/aside/div/div[1]/div/div[2]/p'), (662, 'h3', b'<h3 class=\"widget-title\">Popular Posts</h3>\\n\\t\\t\\t', '/html/body/div[1]/div/div[2]/div/div/aside/div/div[2]/h3'), (676, 'a', b'<a href=\"https://labs.sentinelone.com/detecting-macos-gmera-malware-through-behavioral-inspection/\">Detecting macOS.GMERA Malware Through Behavioral Inspection</a>', '/html/body/div[1]/div/div[2]/div/div/aside/div/div[2]/div/ul/li[1]/article/div[2]/h5/a'), (677, 'i', b'<i class=\"fa fa-tags\"/> behavioral detection, GMERA malware, macOS, Yara\\t\\t\\t\\t\\t\\t\\t\\t', '/html/body/div[1]/div/div[2]/div/div/aside/div/div[2]/div/ul/li[1]/article/div[2]/div/i'), (691, 'a', b'<a href=\"https://labs.sentinelone.com/reversing-rig-exploit-kit-infection-chain-internals-exploits/\">RIG Exploit Kit Chain Internals</a>', '/html/body/div[1]/div/div[2]/div/div/aside/div/div[2]/div/ul/li[2]/article/div[2]/h5/a'), (692, 'i', b'<i class=\"fa fa-tags\"/> reverse engineeering, RIG Exploit Kit, Vitali Kremez, Zero2Hero\\t\\t\\t\\t\\t\\t\\t\\t', '/html/body/div[1]/div/div[2]/div/div/aside/div/div[2]/div/ul/li[2]/article/div[2]/div/i'), (706, 'a', b'<a href=\"https://labs.sentinelone.com/trickbot-update-brief-analysis-of-a-recent-trickbot-payload/\">Trickbot Update: Brief Analysis of a Recent Trickbot Payload</a>', '/html/body/div[1]/div/div[2]/div/div/aside/div/div[2]/div/ul/li[3]/article/div[2]/h5/a'), (707, 'i', b'<i class=\"fa fa-tags\"/> banking trojan, phishing, trickbot\\t\\t\\t\\t\\t\\t\\t\\t', '/html/body/div[1]/div/div[2]/div/div/aside/div/div[2]/div/ul/li[3]/article/div[2]/div/i'), (721, 'a', b'<a href=\"https://labs.sentinelone.com/gootkit-banking-trojan-retrieving-final-payload/\">Gootkit Banking Trojan | Part 3: Retrieving the Final Payload</a>', '/html/body/div[1]/div/div[2]/div/div/aside/div/div[2]/div/ul/li[4]/article/div[2]/h5/a'), (722, 'i', b'<i class=\"fa fa-tags\"/> banking trojan, Gootkit, reverse engineering, Zero2Hero\\t\\t\\t\\t\\t\\t\\t\\t', '/html/body/div[1]/div/div[2]/div/div/aside/div/div[2]/div/ul/li[4]/article/div[2]/div/i'), (732, 'h3', b'<h3 class=\"widget-title\">Tweets</h3>\\n\\t\\t\\t\\t\\t\\t', '/html/body/div[1]/div/div[2]/div/div/aside/div/div[3]/h3'), (734, 'span', b'<span>  Hiding a file, picture, message or even a video within another file can be an effective way for malware authors&#8230; <a href=\"https://t.co/tFqxVu6TV1\" target=\"_blank\">https://t.co/tFqxVu6TV1</a></span>', '/html/body/div[1]/div/div[2]/div/div/aside/div/div[3]/div/ul/li[1]/span'), (734, 'a', b'<a href=\"https://t.co/tFqxVu6TV1\" target=\"_blank\">https://t.co/tFqxVu6TV1</a>', '/html/body/div[1]/div/div[2]/div/div/aside/div/div[3]/div/ul/li[1]/span/a'), (734, 'a', b'<a class=\"twitter_time\" target=\"_blank\" href=\"http://twitter.com/sentinelone/statuses/1374443588906446855\">7 hours ago</a>', '/html/body/div[1]/div/div[2]/div/div/aside/div/div[3]/div/ul/li[1]/a'), (734, 'a', b'<a href=\"https://twitter.com/search?q=HelloKitty\" title=\"Search #HelloKitty\" target=\"_blank\">#HelloKitty</a> lacks the stealth of ', '/html/body/div[1]/div/div[2]/div/div/aside/div/div[3]/div/ul/li[2]/span/a[1]'), (734, 'a', b'<a href=\"https://twitter.com/search?q=Ryuk\" title=\"Search #Ryuk\" target=\"_blank\">#Ryuk</a>, ', '/html/body/div[1]/div/div[2]/div/div/aside/div/div[3]/div/ul/li[2]/span/a[2]'), (734, 'a', b'<a href=\"https://twitter.com/search?q=REvil\" title=\"Search #REvil\" target=\"_blank\">#REvil</a>, and ', '/html/body/div[1]/div/div[2]/div/div/aside/div/div[3]/div/ul/li[2]/span/a[3]'), ...]"
      ]
     },
     "execution_count": 11,
     "metadata": {},
     "output_type": "execute_result"
    },
    {
     "data": {
      "application/javascript": [
       "\n",
       "            setTimeout(function() {\n",
       "                var nbb_cell_id = 11;\n",
       "                var nbb_unformatted_code = \"seq(analyzer.primary_subtree_leafs).map(\\n    lambda element: (\\n        element.sourceline,\\n        element.tag,\\n        etree.tostring(element),\\n        # element,\\n        HTMLElementAnalyzer.get_xpath(element),\\n        # BeautifulSoup(etree.tostring(element)).find_all(text=True, recursive=True),\\n    )\\n)\";\n",
       "                var nbb_formatted_code = \"seq(analyzer.primary_subtree_leafs).map(\\n    lambda element: (\\n        element.sourceline,\\n        element.tag,\\n        etree.tostring(element),\\n        # element,\\n        HTMLElementAnalyzer.get_xpath(element),\\n        # BeautifulSoup(etree.tostring(element)).find_all(text=True, recursive=True),\\n    )\\n)\";\n",
       "                var nbb_cells = Jupyter.notebook.get_cells();\n",
       "                for (var i = 0; i < nbb_cells.length; ++i) {\n",
       "                    if (nbb_cells[i].input_prompt_number == nbb_cell_id) {\n",
       "                        if (nbb_cells[i].get_text() == nbb_unformatted_code) {\n",
       "                             nbb_cells[i].set_text(nbb_formatted_code);\n",
       "                        }\n",
       "                        break;\n",
       "                    }\n",
       "                }\n",
       "            }, 500);\n",
       "            "
      ],
      "text/plain": [
       "<IPython.core.display.Javascript object>"
      ]
     },
     "metadata": {},
     "output_type": "display_data"
    }
   ],
   "source": [
    "seq(analyzer.primary_subtree_leafs).map(\n",
    "    lambda element: (\n",
    "        element.sourceline,\n",
    "        element.tag,\n",
    "        etree.tostring(element),\n",
    "        # element,\n",
    "        HTMLElementAnalyzer.get_xpath(element),\n",
    "        # BeautifulSoup(etree.tostring(element)).find_all(text=True, recursive=True),\n",
    "    )\n",
    ")"
   ]
  },
  {
   "cell_type": "markdown",
   "metadata": {},
   "source": [
    "---"
   ]
  },
  {
   "cell_type": "code",
   "execution_count": 12,
   "metadata": {
    "ExecuteTime": {
     "end_time": "2021-07-29T08:19:32.123024Z",
     "start_time": "2021-07-29T08:19:31.944986Z"
    }
   },
   "outputs": [
    {
     "name": "stdout",
     "output_type": "stream",
     "text": [
      "   331\t\t\n",
      "   332\t\n",
      "   333\t\n",
      "   334\t\t\t\t<section class=\"entry-content \" itemprop=\"articleBody\">\n",
      "   335\t\t\t\t\t\n",
      "   336\t\t\t\t\t<p>Game studio CD Projekt Red recently <a href=\"https://twitter.com/CDPROJEKTRED/status/1359048125403590660/photo/1\" target=\"_blank\" rel=\"noopener noreferrer\">disclosed</a> that it became a victim of a targeted, highly-impactful ransomware. In the days following the disclosure, it was revealed that the ransomware family most likely behind the attack was “HelloKitty”.</p>\n",
      "cat: stdout: Broken pipe\n"
     ]
    },
    {
     "data": {
      "application/javascript": [
       "\n",
       "            setTimeout(function() {\n",
       "                var nbb_cell_id = 12;\n",
       "                var nbb_unformatted_code = \"!cat -n ../data/hellokitty-ransomware-lacks-stealth-but-still-strikes-home.html | head -n 336 | tail -6\";\n",
       "                var nbb_formatted_code = \"!cat -n ../data/hellokitty-ransomware-lacks-stealth-but-still-strikes-home.html | head -n 336 | tail -6\";\n",
       "                var nbb_cells = Jupyter.notebook.get_cells();\n",
       "                for (var i = 0; i < nbb_cells.length; ++i) {\n",
       "                    if (nbb_cells[i].input_prompt_number == nbb_cell_id) {\n",
       "                        if (nbb_cells[i].get_text() == nbb_unformatted_code) {\n",
       "                             nbb_cells[i].set_text(nbb_formatted_code);\n",
       "                        }\n",
       "                        break;\n",
       "                    }\n",
       "                }\n",
       "            }, 500);\n",
       "            "
      ],
      "text/plain": [
       "<IPython.core.display.Javascript object>"
      ]
     },
     "metadata": {},
     "output_type": "display_data"
    }
   ],
   "source": [
    "!cat -n ../data/hellokitty-ransomware-lacks-stealth-but-still-strikes-home.html | head -n 336 | tail -6"
   ]
  },
  {
   "cell_type": "code",
   "execution_count": 13,
   "metadata": {
    "ExecuteTime": {
     "end_time": "2021-07-29T08:19:32.157617Z",
     "start_time": "2021-07-29T08:19:32.126896Z"
    }
   },
   "outputs": [
    {
     "data": {
      "text/plain": [
       "[<Element p at 0x12b120f08>]"
      ]
     },
     "execution_count": 13,
     "metadata": {},
     "output_type": "execute_result"
    },
    {
     "data": {
      "application/javascript": [
       "\n",
       "            setTimeout(function() {\n",
       "                var nbb_cell_id = 13;\n",
       "                var nbb_unformatted_code = \"# query element by xpath\\n\\nanalyzer.primary_subtree_root.xpath(\\n    \\\"/html/body/div[1]/div/div[2]/div/div/div/div[1]/article/div/section/section/p[1]\\\"\\n)\\n\\nanalyzer.root.xpath(\\n    \\\"/html/body/div[1]/div/div[2]/div/div/div/div[1]/article/div/section/section/p[1]\\\"\\n)\";\n",
       "                var nbb_formatted_code = \"# query element by xpath\\n\\nanalyzer.primary_subtree_root.xpath(\\n    \\\"/html/body/div[1]/div/div[2]/div/div/div/div[1]/article/div/section/section/p[1]\\\"\\n)\\n\\nanalyzer.root.xpath(\\n    \\\"/html/body/div[1]/div/div[2]/div/div/div/div[1]/article/div/section/section/p[1]\\\"\\n)\";\n",
       "                var nbb_cells = Jupyter.notebook.get_cells();\n",
       "                for (var i = 0; i < nbb_cells.length; ++i) {\n",
       "                    if (nbb_cells[i].input_prompt_number == nbb_cell_id) {\n",
       "                        if (nbb_cells[i].get_text() == nbb_unformatted_code) {\n",
       "                             nbb_cells[i].set_text(nbb_formatted_code);\n",
       "                        }\n",
       "                        break;\n",
       "                    }\n",
       "                }\n",
       "            }, 500);\n",
       "            "
      ],
      "text/plain": [
       "<IPython.core.display.Javascript object>"
      ]
     },
     "metadata": {},
     "output_type": "display_data"
    }
   ],
   "source": [
    "# query element by xpath\n",
    "\n",
    "analyzer.primary_subtree_root.xpath(\n",
    "    \"/html/body/div[1]/div/div[2]/div/div/div/div[1]/article/div/section/section/p[1]\"\n",
    ")\n",
    "\n",
    "analyzer.root.xpath(\n",
    "    \"/html/body/div[1]/div/div[2]/div/div/div/div[1]/article/div/section/section/p[1]\"\n",
    ")"
   ]
  },
  {
   "cell_type": "markdown",
   "metadata": {},
   "source": [
    "---"
   ]
  },
  {
   "cell_type": "code",
   "execution_count": 14,
   "metadata": {
    "ExecuteTime": {
     "end_time": "2021-07-29T08:19:32.207433Z",
     "start_time": "2021-07-29T08:19:32.161562Z"
    }
   },
   "outputs": [
    {
     "data": {
      "application/javascript": [
       "\n",
       "            setTimeout(function() {\n",
       "                var nbb_cell_id = 14;\n",
       "                var nbb_unformatted_code = \"import html\\nimport re\\nfrom collections import namedtuple\\n\\n\\ndef sequential_search(patterns, string):\\n\\n    SearchingResult = namedtuple(\\\"SearchingResult\\\", [\\\"group\\\", \\\"span\\\"])\\n    last_index = 0\\n\\n    for pattern in list(patterns):\\n\\n        try:\\n            # search with re.search, correct span index with previous one\\n            searching = pattern.search(string[last_index:])\\n            span_correction = tuple(last_index + index for index in searching.span())\\n            # update last span index for next match, then return new correct span\\n            last_index = searching.end()\\n            yield SearchingResult(searching.group(), span_correction)\\n\\n        except:\\n            pass  # avoid to non-existed pattern\";\n",
       "                var nbb_formatted_code = \"import html\\nimport re\\nfrom collections import namedtuple\\n\\n\\ndef sequential_search(patterns, string):\\n\\n    SearchingResult = namedtuple(\\\"SearchingResult\\\", [\\\"group\\\", \\\"span\\\"])\\n    last_index = 0\\n\\n    for pattern in list(patterns):\\n\\n        try:\\n            # search with re.search, correct span index with previous one\\n            searching = pattern.search(string[last_index:])\\n            span_correction = tuple(last_index + index for index in searching.span())\\n            # update last span index for next match, then return new correct span\\n            last_index = searching.end()\\n            yield SearchingResult(searching.group(), span_correction)\\n\\n        except:\\n            pass  # avoid to non-existed pattern\";\n",
       "                var nbb_cells = Jupyter.notebook.get_cells();\n",
       "                for (var i = 0; i < nbb_cells.length; ++i) {\n",
       "                    if (nbb_cells[i].input_prompt_number == nbb_cell_id) {\n",
       "                        if (nbb_cells[i].get_text() == nbb_unformatted_code) {\n",
       "                             nbb_cells[i].set_text(nbb_formatted_code);\n",
       "                        }\n",
       "                        break;\n",
       "                    }\n",
       "                }\n",
       "            }, 500);\n",
       "            "
      ],
      "text/plain": [
       "<IPython.core.display.Javascript object>"
      ]
     },
     "metadata": {},
     "output_type": "display_data"
    }
   ],
   "source": [
    "import html\n",
    "import re\n",
    "from collections import namedtuple\n",
    "\n",
    "\n",
    "def sequential_search(patterns, string):\n",
    "\n",
    "    SearchingResult = namedtuple(\"SearchingResult\", [\"group\", \"span\"])\n",
    "    last_index = 0\n",
    "\n",
    "    for pattern in list(patterns):\n",
    "\n",
    "        try:\n",
    "            # search with re.search, correct span index with previous one\n",
    "            searching = pattern.search(string[last_index:])\n",
    "            span_correction = tuple(last_index + index for index in searching.span())\n",
    "            # update last span index for next match, then return new correct span\n",
    "            last_index = searching.end()\n",
    "            yield SearchingResult(searching.group(), span_correction)\n",
    "\n",
    "        except:\n",
    "            pass  # avoid to non-existed pattern"
   ]
  },
  {
   "cell_type": "code",
   "execution_count": 15,
   "metadata": {
    "ExecuteTime": {
     "end_time": "2021-07-29T08:19:32.254872Z",
     "start_time": "2021-07-29T08:19:32.210741Z"
    }
   },
   "outputs": [
    {
     "data": {
      "text/plain": [
       "[SearchingResult(group='disclosed', span=(159, 168)),\n",
       " SearchingResult(group=' that it became a victim of a targeted, highly-impactful ransomware. In the days following the disclosure, it was revealed that the ransomware family most likely behind the attack was “HelloKitty”.', span=(172, 369))]"
      ]
     },
     "execution_count": 15,
     "metadata": {},
     "output_type": "execute_result"
    },
    {
     "data": {
      "application/javascript": [
       "\n",
       "            setTimeout(function() {\n",
       "                var nbb_cell_id = 15;\n",
       "                var nbb_unformatted_code = \"# test sample for sequential search function\\ntext = \\\"\\\"\\\"<p>Game studio CD Projekt Red recently <a href=\\\"https://twitter.com/CDPROJEKTRED/status/1359048125403590660/photo/1\\\" target=\\\"_blank\\\" rel=\\\"noopener noreferrer\\\">disclosed</a> that it became a victim of a targeted, highly-impactful ransomware. In the days following the disclosure, it was revealed that the ransomware family most likely behind the attack was \\u201cHelloKitty\\u201d.</p>\\\"\\\"\\\"\\npatterns = [\\n    re.compile(\\\"disclosed\\\"),\\n    re.compile(\\n        \\\" that it became a victim of a targeted, highly-impactful ransomware. In the days following the disclosure, it was revealed that the ransomware family most likely behind the attack was \\u201cHelloKitty\\u201d.\\\"\\n    ),\\n]\\n\\nlist(sequential_search(patterns, text))\";\n",
       "                var nbb_formatted_code = \"# test sample for sequential search function\\ntext = \\\"\\\"\\\"<p>Game studio CD Projekt Red recently <a href=\\\"https://twitter.com/CDPROJEKTRED/status/1359048125403590660/photo/1\\\" target=\\\"_blank\\\" rel=\\\"noopener noreferrer\\\">disclosed</a> that it became a victim of a targeted, highly-impactful ransomware. In the days following the disclosure, it was revealed that the ransomware family most likely behind the attack was \\u201cHelloKitty\\u201d.</p>\\\"\\\"\\\"\\npatterns = [\\n    re.compile(\\\"disclosed\\\"),\\n    re.compile(\\n        \\\" that it became a victim of a targeted, highly-impactful ransomware. In the days following the disclosure, it was revealed that the ransomware family most likely behind the attack was \\u201cHelloKitty\\u201d.\\\"\\n    ),\\n]\\n\\nlist(sequential_search(patterns, text))\";\n",
       "                var nbb_cells = Jupyter.notebook.get_cells();\n",
       "                for (var i = 0; i < nbb_cells.length; ++i) {\n",
       "                    if (nbb_cells[i].input_prompt_number == nbb_cell_id) {\n",
       "                        if (nbb_cells[i].get_text() == nbb_unformatted_code) {\n",
       "                             nbb_cells[i].set_text(nbb_formatted_code);\n",
       "                        }\n",
       "                        break;\n",
       "                    }\n",
       "                }\n",
       "            }, 500);\n",
       "            "
      ],
      "text/plain": [
       "<IPython.core.display.Javascript object>"
      ]
     },
     "metadata": {},
     "output_type": "display_data"
    }
   ],
   "source": [
    "# test sample for sequential search function\n",
    "text = \"\"\"<p>Game studio CD Projekt Red recently <a href=\"https://twitter.com/CDPROJEKTRED/status/1359048125403590660/photo/1\" target=\"_blank\" rel=\"noopener noreferrer\">disclosed</a> that it became a victim of a targeted, highly-impactful ransomware. In the days following the disclosure, it was revealed that the ransomware family most likely behind the attack was “HelloKitty”.</p>\"\"\"\n",
    "patterns = [\n",
    "    re.compile(\"disclosed\"),\n",
    "    re.compile(\n",
    "        \" that it became a victim of a targeted, highly-impactful ransomware. In the days following the disclosure, it was revealed that the ransomware family most likely behind the attack was “HelloKitty”.\"\n",
    "    ),\n",
    "]\n",
    "\n",
    "list(sequential_search(patterns, text))"
   ]
  },
  {
   "cell_type": "code",
   "execution_count": 73,
   "metadata": {
    "ExecuteTime": {
     "end_time": "2021-07-29T09:57:23.579519Z",
     "start_time": "2021-07-29T09:57:23.538366Z"
    }
   },
   "outputs": [
    {
     "data": {
      "text/plain": [
       "['disclosed',\n",
       " ' that it became a victim of a targeted, highly-impactful ransomware. In the days following the disclosure, it was revealed that the ransomware family most likely behind the attack was “HelloKitty”.']"
      ]
     },
     "execution_count": 73,
     "metadata": {},
     "output_type": "execute_result"
    },
    {
     "data": {
      "application/javascript": [
       "\n",
       "            setTimeout(function() {\n",
       "                var nbb_cell_id = 73;\n",
       "                var nbb_unformatted_code = \"list(map(lambda result: result.group, sequential_search(patterns, text)))\";\n",
       "                var nbb_formatted_code = \"list(map(lambda result: result.group, sequential_search(patterns, text)))\";\n",
       "                var nbb_cells = Jupyter.notebook.get_cells();\n",
       "                for (var i = 0; i < nbb_cells.length; ++i) {\n",
       "                    if (nbb_cells[i].input_prompt_number == nbb_cell_id) {\n",
       "                        if (nbb_cells[i].get_text() == nbb_unformatted_code) {\n",
       "                             nbb_cells[i].set_text(nbb_formatted_code);\n",
       "                        }\n",
       "                        break;\n",
       "                    }\n",
       "                }\n",
       "            }, 500);\n",
       "            "
      ],
      "text/plain": [
       "<IPython.core.display.Javascript object>"
      ]
     },
     "metadata": {},
     "output_type": "display_data"
    }
   ],
   "source": [
    "list(map(lambda result: result.group, sequential_search(patterns, text)))"
   ]
  },
  {
   "cell_type": "markdown",
   "metadata": {},
   "source": [
    "---"
   ]
  },
  {
   "cell_type": "code",
   "execution_count": 58,
   "metadata": {
    "ExecuteTime": {
     "end_time": "2021-07-29T09:02:26.467268Z",
     "start_time": "2021-07-29T09:02:26.366214Z"
    }
   },
   "outputs": [
    {
     "data": {
      "application/javascript": [
       "\n",
       "            setTimeout(function() {\n",
       "                var nbb_cell_id = 58;\n",
       "                var nbb_unformatted_code = \"def extract_contents(element):\\n\\n    # make searching patterns\\n    def iter_parsers(element):\\n\\n        RegexParser = namedtuple(\\\"RegexParser\\\", [\\\"prop\\\", \\\"expr\\\"])\\n\\n        for prop in (\\\"text\\\", \\\"tail\\\"):\\n\\n            if element.__getattribute__(prop) == None:\\n                # \\\"element.text\\\" or \\\"element.tail\\\" may not contain string\\n                pass\\n\\n            else:\\n                # get text or tail from element, and make regex\\n                string = element.__getattribute__(prop)\\n                pattern = re.escape(string)\\n                yield RegexParser(prop, re.compile(pattern))\\n\\n    # get searching expression and prop from parser\\n    parsers = tuple(iter_parsers(element))\\n    props = map(lambda parser: parser.prop, parsers)\\n    exprs = map(lambda parser: parser.expr, parsers)\\n\\n    # take html line of element\\n    element_html = etree.tounicode(element)\\n    element_html = html.unescape(element_html)\\n\\n    # zip parsing results\\n    parsing_results = sequential_search(exprs, element_html)\\n    aggregations = zip(props, parsing_results)\\n\\n    # re-format parsing result and element attributes with namedtuple\\n    Content = namedtuple(\\n        \\\"Content\\\", [\\\"line\\\", \\\"xpath\\\", \\\"tag\\\", \\\"property\\\", \\\"span\\\", \\\"text\\\"]\\n    )\\n\\n    contents = (\\n        seq(aggregations)\\n        .starmap(\\n            lambda prop, result: Content(\\n                element.sourceline,\\n                HTMLElementAnalyzer.get_xpath(element),\\n                element.tag,\\n                prop,\\n                result.span,\\n                result.group,\\n            )\\n        )\\n        .cache()\\n    )\\n\\n    return tuple(contents)\";\n",
       "                var nbb_formatted_code = \"def extract_contents(element):\\n\\n    # make searching patterns\\n    def iter_parsers(element):\\n\\n        RegexParser = namedtuple(\\\"RegexParser\\\", [\\\"prop\\\", \\\"expr\\\"])\\n\\n        for prop in (\\\"text\\\", \\\"tail\\\"):\\n\\n            if element.__getattribute__(prop) == None:\\n                # \\\"element.text\\\" or \\\"element.tail\\\" may not contain string\\n                pass\\n\\n            else:\\n                # get text or tail from element, and make regex\\n                string = element.__getattribute__(prop)\\n                pattern = re.escape(string)\\n                yield RegexParser(prop, re.compile(pattern))\\n\\n    # get searching expression and prop from parser\\n    parsers = tuple(iter_parsers(element))\\n    props = map(lambda parser: parser.prop, parsers)\\n    exprs = map(lambda parser: parser.expr, parsers)\\n\\n    # take html line of element\\n    element_html = etree.tounicode(element)\\n    element_html = html.unescape(element_html)\\n\\n    # zip parsing results\\n    parsing_results = sequential_search(exprs, element_html)\\n    aggregations = zip(props, parsing_results)\\n\\n    # re-format parsing result and element attributes with namedtuple\\n    Content = namedtuple(\\n        \\\"Content\\\", [\\\"line\\\", \\\"xpath\\\", \\\"tag\\\", \\\"property\\\", \\\"span\\\", \\\"text\\\"]\\n    )\\n\\n    contents = (\\n        seq(aggregations)\\n        .starmap(\\n            lambda prop, result: Content(\\n                element.sourceline,\\n                HTMLElementAnalyzer.get_xpath(element),\\n                element.tag,\\n                prop,\\n                result.span,\\n                result.group,\\n            )\\n        )\\n        .cache()\\n    )\\n\\n    return tuple(contents)\";\n",
       "                var nbb_cells = Jupyter.notebook.get_cells();\n",
       "                for (var i = 0; i < nbb_cells.length; ++i) {\n",
       "                    if (nbb_cells[i].input_prompt_number == nbb_cell_id) {\n",
       "                        if (nbb_cells[i].get_text() == nbb_unformatted_code) {\n",
       "                             nbb_cells[i].set_text(nbb_formatted_code);\n",
       "                        }\n",
       "                        break;\n",
       "                    }\n",
       "                }\n",
       "            }, 500);\n",
       "            "
      ],
      "text/plain": [
       "<IPython.core.display.Javascript object>"
      ]
     },
     "metadata": {},
     "output_type": "display_data"
    }
   ],
   "source": [
    "def extract_contents(element):\n",
    "\n",
    "    # make searching patterns\n",
    "    def iter_parsers(element):\n",
    "\n",
    "        RegexParser = namedtuple(\"RegexParser\", [\"prop\", \"expr\"])\n",
    "\n",
    "        for prop in (\"text\", \"tail\"):\n",
    "\n",
    "            if element.__getattribute__(prop) == None:\n",
    "                # \"element.text\" or \"element.tail\" may not contain string\n",
    "                pass\n",
    "\n",
    "            else:\n",
    "                # get text or tail from element, and make regex\n",
    "                string = element.__getattribute__(prop)\n",
    "                pattern = re.escape(string)\n",
    "                yield RegexParser(prop, re.compile(pattern))\n",
    "\n",
    "    # get searching expression and prop from parser\n",
    "    parsers = tuple(iter_parsers(element))\n",
    "    props = map(lambda parser: parser.prop, parsers)\n",
    "    exprs = map(lambda parser: parser.expr, parsers)\n",
    "\n",
    "    # take html line of element\n",
    "    element_html = etree.tounicode(element)\n",
    "    element_html = html.unescape(element_html)\n",
    "\n",
    "    # zip parsing results\n",
    "    parsing_results = sequential_search(exprs, element_html)\n",
    "    aggregations = zip(props, parsing_results)\n",
    "\n",
    "    # re-format parsing result and element attributes with namedtuple\n",
    "    Content = namedtuple(\n",
    "        \"Content\", [\"line\", \"xpath\", \"tag\", \"property\", \"span\", \"text\"]\n",
    "    )\n",
    "\n",
    "    contents = (\n",
    "        seq(aggregations)\n",
    "        .starmap(\n",
    "            lambda prop, result: Content(\n",
    "                element.sourceline,\n",
    "                HTMLElementAnalyzer.get_xpath(element),\n",
    "                element.tag,\n",
    "                prop,\n",
    "                result.span,\n",
    "                result.group,\n",
    "            )\n",
    "        )\n",
    "        .cache()\n",
    "    )\n",
    "\n",
    "    return tuple(contents)"
   ]
  },
  {
   "cell_type": "code",
   "execution_count": 59,
   "metadata": {
    "ExecuteTime": {
     "end_time": "2021-07-29T09:02:31.340065Z",
     "start_time": "2021-07-29T09:02:31.111007Z"
    }
   },
   "outputs": [
    {
     "data": {
      "text/html": [
       "<table>\n",
       "<thead>\n",
       "<tr><th style=\"text-align: right;\">  line</th><th>xpath                                                                                                    </th><th>tag  </th><th>property  </th><th>span      </th><th>text                                                                                                                                                                                                </th></tr>\n",
       "</thead>\n",
       "<tbody>\n",
       "<tr><td style=\"text-align: right;\">   321</td><td>/html/body/div[1]/div/div[2]/div/div/div/div[1]/article/div/section/header/div[1]/span/a                 </td><td>a    </td><td>text      </td><td>(78, 87)  </td><td>Crimeware                                                                                                                                                                                           </td></tr>\n",
       "<tr><td style=\"text-align: right;\">   323</td><td>/html/body/div[1]/div/div[2]/div/div/div/div[1]/article/div/section/header/h1                            </td><td>h1   </td><td>text      </td><td>(49, 108) </td><td>HelloKitty Ransomware Lacks Stealth, But Still Strikes Home                                                                                                                                         </td></tr>\n",
       "<tr><td style=\"text-align: right;\">   323</td><td>/html/body/div[1]/div/div[2]/div/div/div/div[1]/article/div/section/header/h1                            </td><td>h1   </td><td>tail      </td><td>(113, 116)</td><td>                                                                                                                                                                                                    </td></tr>\n",
       "<tr><td style=\"text-align: right;\">   326</td><td>/html/body/div[1]/div/div[2]/div/div/div/div[1]/article/div/section/header/div[2]/ul/li[1]/span/span/a   </td><td>a    </td><td>text      </td><td>(69, 79)  </td><td>Jim Walter                                                                                                                                                                                          </td></tr>\n",
       "<tr><td style=\"text-align: right;\">   326</td><td>/html/body/div[1]/div/div[2]/div/div/div/div[1]/article/div/section/header/div[2]/ul/li[2]/span/a/time[1]</td><td>time </td><td>text      </td><td>(97, 110) </td><td>March 8, 2021                                                                                                                                                                                       </td></tr>\n",
       "<tr><td style=\"text-align: right;\">   326</td><td>/html/body/div[1]/div/div[2]/div/div/div/div[1]/article/div/section/header/div[2]/ul/li[2]/span/a/time[2]</td><td>time </td><td>text      </td><td>(59, 73)  </td><td>March 11, 2021                                                                                                                                                                                      </td></tr>\n",
       "<tr><td style=\"text-align: right;\">   336</td><td>/html/body/div[1]/div/div[2]/div/div/div/div[1]/article/div/section/section/p[1]                         </td><td>p    </td><td>text      </td><td>(3, 39)   </td><td>Game studio CD Projekt Red recently                                                                                                                                                                 </td></tr>\n",
       "<tr><td style=\"text-align: right;\">   336</td><td>/html/body/div[1]/div/div[2]/div/div/div/div[1]/article/div/section/section/p[1]                         </td><td>p    </td><td>tail      </td><td>(373, 374)</td><td>                                                                                                                                                                                                    </td></tr>\n",
       "<tr><td style=\"text-align: right;\">   336</td><td>/html/body/div[1]/div/div[2]/div/div/div/div[1]/article/div/section/section/p[1]/a                       </td><td>a    </td><td>text      </td><td>(120, 129)</td><td>disclosed                                                                                                                                                                                           </td></tr>\n",
       "<tr><td style=\"text-align: right;\">   336</td><td>/html/body/div[1]/div/div[2]/div/div/div/div[1]/article/div/section/section/p[1]/a                       </td><td>a    </td><td>tail      </td><td>(133, 330)</td><td>that it became a victim of a targeted, highly-impactful ransomware. In the days following the disclosure, it was revealed that the ransomware family most likely behind the attack was “HelloKitty”.</td></tr>\n",
       "</tbody>\n",
       "</table><p>Showing 10 of 170 rows"
      ],
      "text/plain": [
       "[Content(line=321, xpath='/html/body/div[1]/div/div[2]/div/div/div/div[1]/article/div/section/header/div[1]/span/a', tag='a', property='text', span=(78, 87), text='Crimeware'), Content(line=323, xpath='/html/body/div[1]/div/div[2]/div/div/div/div[1]/article/div/section/header/h1', tag='h1', property='text', span=(49, 108), text='HelloKitty Ransomware Lacks Stealth, But Still Strikes Home'), Content(line=323, xpath='/html/body/div[1]/div/div[2]/div/div/div/div[1]/article/div/section/header/h1', tag='h1', property='tail', span=(113, 116), text='\\n\\t\\t'), Content(line=326, xpath='/html/body/div[1]/div/div[2]/div/div/div/div[1]/article/div/section/header/div[2]/ul/li[1]/span/span/a', tag='a', property='text', span=(69, 79), text='Jim Walter'), Content(line=326, xpath='/html/body/div[1]/div/div[2]/div/div/div/div[1]/article/div/section/header/div[2]/ul/li[2]/span/a/time[1]', tag='time', property='text', span=(97, 110), text='March 8, 2021'), Content(line=326, xpath='/html/body/div[1]/div/div[2]/div/div/div/div[1]/article/div/section/header/div[2]/ul/li[2]/span/a/time[2]', tag='time', property='text', span=(59, 73), text='March 11, 2021'), Content(line=336, xpath='/html/body/div[1]/div/div[2]/div/div/div/div[1]/article/div/section/section/p[1]', tag='p', property='text', span=(3, 39), text='Game studio CD Projekt Red recently '), Content(line=336, xpath='/html/body/div[1]/div/div[2]/div/div/div/div[1]/article/div/section/section/p[1]', tag='p', property='tail', span=(373, 374), text='\\n'), Content(line=336, xpath='/html/body/div[1]/div/div[2]/div/div/div/div[1]/article/div/section/section/p[1]/a', tag='a', property='text', span=(120, 129), text='disclosed'), Content(line=336, xpath='/html/body/div[1]/div/div[2]/div/div/div/div[1]/article/div/section/section/p[1]/a', tag='a', property='tail', span=(133, 330), text=' that it became a victim of a targeted, highly-impactful ransomware. In the days following the disclosure, it was revealed that the ransomware family most likely behind the attack was “HelloKitty”.'), Content(line=338, xpath='/html/body/div[1]/div/div[2]/div/div/div/div[1]/article/div/section/section/p[3]', tag='p', property='text', span=(3, 374), text='HelloKitty is a ransomware family that emerged in late 2020. While it lacks the sophistication of some of the more well-known families such as Ryuk, REvil, and Conti, it has nevertheless struck some notable targets, including CEMIG0. In this post, we analyse a recent HelloKitty sample and outline the basic behaviors and traits associated with this family of ransomware.'), Content(line=338, xpath='/html/body/div[1]/div/div[2]/div/div/div/div[1]/article/div/section/section/p[3]', tag='p', property='tail', span=(378, 379), text='\\n'), Content(line=339, xpath='/html/body/div[1]/div/div[2]/div/div/div/div[1]/article/div/section/section/h2[1]', tag='h2', property='text', span=(4, 26), text='Execution and Behavior'), Content(line=339, xpath='/html/body/div[1]/div/div[2]/div/div/div/div[1]/article/div/section/section/h2[1]', tag='h2', property='tail', span=(31, 32), text='\\n'), Content(line=340, xpath='/html/body/div[1]/div/div[2]/div/div/div/div[1]/article/div/section/section/p[4]', tag='p', property='text', span=(3, 93), text='The “HelloKitty” name is based on internal mutex names, which are apparent upon execution.'), Content(line=340, xpath='/html/body/div[1]/div/div[2]/div/div/div/div[1]/article/div/section/section/p[4]', tag='p', property='tail', span=(97, 98), text='\\n'), Content(line=342, xpath='/html/body/div[1]/div/div[2]/div/div/div/div[1]/article/div/section/section/p[6]', tag='p', property='text', span=(3, 200), text='While still somewhat unclear, current intelligence indicates that the primary delivery method of HelloKitty binaries is via phish email or via secondary infection in conjunction with other malware.'), Content(line=342, xpath='/html/body/div[1]/div/div[2]/div/div/div/div[1]/article/div/section/section/p[6]', tag='p', property='tail', span=(204, 205), text='\\n'), Content(line=343, xpath='/html/body/div[1]/div/div[2]/div/div/div/div[1]/article/div/section/section/p[7]', tag='p', property='text', span=(3, 293), text='Once launched, HelloKitty will attempt to disable and terminate a number of processes and services so as to reduce interference with the encryption process. This includes processes and services associated with IIS, MSSQL, Quickbooks, Sharepoint, and more. These actions are carried out via '), Content(line=343, xpath='/html/body/div[1]/div/div[2]/div/div/div/div[1]/article/div/section/section/p[7]', tag='p', property='tail', span=(348, 349), text='\\n'), Content(line=343, xpath='/html/body/div[1]/div/div[2]/div/div/div/div[1]/article/div/section/section/p[7]/code[1]', tag='code', property='text', span=(6, 18), text='taskkill.exe'), Content(line=343, xpath='/html/body/div[1]/div/div[2]/div/div/div/div[1]/article/div/section/section/p[7]/code[1]', tag='code', property='tail', span=(25, 30), text=' and '), Content(line=343, xpath='/html/body/div[1]/div/div[2]/div/div/div/div[1]/article/div/section/section/p[7]/code[2]', tag='code', property='text', span=(6, 13), text='net.exe'), Content(line=343, xpath='/html/body/div[1]/div/div[2]/div/div/div/div[1]/article/div/section/section/p[7]/code[2]', tag='code', property='tail', span=(20, 21), text='.'), Content(line=344, xpath='/html/body/div[1]/div/div[2]/div/div/div/div[1]/article/div/section/section/p[8]', tag='p', property='text', span=(3, 246), text='In the analyzed sample, this is all done in a very non-stealthy manner. All spawned CMD windows are in the foreground and fully visible. This ‘lack of discreteness’ is atypical for modern ransomware, or any successful malware, for that matter.'), Content(line=344, xpath='/html/body/div[1]/div/div[2]/div/div/div/div[1]/article/div/section/section/p[8]', tag='p', property='tail', span=(250, 251), text='\\n'), Content(line=346, xpath='/html/body/div[1]/div/div[2]/div/div/div/div[1]/article/div/section/section/p[10]', tag='p', property='text', span=(3, 70), text='A full list of processes from the analyzed sample are listed below:'), Content(line=346, xpath='/html/body/div[1]/div/div[2]/div/div/div/div[1]/article/div/section/section/p[10]', tag='p', property='tail', span=(74, 75), text='\\n'), Content(line=347, xpath='/html/body/div[1]/div/div[2]/div/div/div/div[1]/article/div/section/section/pre[1]', tag='pre', property='text', span=(5, 1015), text='\\ndsa*\\nNtrtsca\\nds_moni\\nNotifie\\nTmListe\\niVPAgen\\nCNTAoSM\\nIBM*\\nbes10*\\nblack*\\nrobo*\\ncopy*\\nstore.e\\nsql*\\nvee*\\nwrsa*\\nwrsa.ex\\npostg*\\nsage*\\nMSSQLServerADHelper100\\nMSSQL$ISARS\\nMSSQL$MSFW\\nSQLAgent$ISARS\\nSQLAgent$MSFW\\nSQLBrowser\\nReportServer$ISARS\\nSQLWriter\\nWinDefend\\nmr2kserv\\nMSExchangeADTopology\\nMSExchangeFBA\\nMSExchangeIS\\nMSExchangeSA\\nShadowProtectSvc\\nSPAdminV4\\nSPTimerV4\\nSPTraceV4\\nSPUserCodeV4\\nSPWriterV4\\nSPSearch4\\nIISADMIN\\nfirebirdguardiandefaultinstance\\nibmiasrw\\nQBCFMonitorService\\nQBVSS\\nQBPOSDBServiceV12\\n\"IBM Domino Server(CProgramFilesIBMDominodata)\"\\n\"IBM Domino Diagnostics(CProgramFilesIBMDomino)\"\\n\"Simply Accounting Database Connection Manager\"\\nQuickBooksDB1\\nQuickBooksDB2\\nQuickBooksDB3\\nQuickBooksDB4\\nQuickBooksDB5\\nQuickBooksDB6\\nQuickBooksDB7\\nQuickBooksDB8\\nQuickBooksDB9\\nQuickBooksDB10\\nQuickBooksDB11\\nQuickBooksDB12\\nQuickBooksDB13\\nQuickBooksDB14\\nQuickBooksDB15\\nQuickBooksDB16\\nQuickBooksDB17\\nQuickBooksDB18\\nQuickBooksDB19\\nQuickBooksDB20\\nQuickBooksDB21\\nQuickBooksDB22\\nQuickBooksDB23\\nQuickBooksDB24\\nQuickBooksDB25\\n'), Content(line=347, xpath='/html/body/div[1]/div/div[2]/div/div/div/div[1]/article/div/section/section/pre[1]', tag='pre', property='tail', span=(1021, 1022), text='\\n'), Content(line=423, xpath='/html/body/div[1]/div/div[2]/div/div/div/div[1]/article/div/section/section/p[11]', tag='p', property='text', span=(3, 93), text='Additional processes and services that are terminated are identified via PID. For example:'), Content(line=423, xpath='/html/body/div[1]/div/div[2]/div/div/div/div[1]/article/div/section/section/p[11]', tag='p', property='tail', span=(97, 98), text='\\n'), Content(line=424, xpath='/html/body/div[1]/div/div[2]/div/div/div/div[1]/article/div/section/section/p[12]/code[1]', tag='code', property='text', span=(6, 33), text='taskkill.exe /f /PID \"8512\"'), Content(line=425, xpath='/html/body/div[1]/div/div[2]/div/div/div/div[1]/article/div/section/section/p[12]/code[2]', tag='code', property='text', span=(6, 33), text='taskkill.exe /f /PID \"8656\"'), Content(line=426, xpath='/html/body/div[1]/div/div[2]/div/div/div/div[1]/article/div/section/section/p[13]', tag='p', property='text', span=(3, 153), text='If HelloKitty is unable to stop any specific processes or services, it will leverage the Windows Restart Manager API to further assist in termination.'), Content(line=426, xpath='/html/body/div[1]/div/div[2]/div/div/div/div[1]/article/div/section/section/p[13]', tag='p', property='tail', span=(157, 158), text='\\n'), Content(line=428, xpath='/html/body/div[1]/div/div[2]/div/div/div/div[1]/article/div/section/section/p[15]', tag='p', property='text', span=(3, 215), text='HelloKitty will also utilize WMI to gather system details and help identify running processes and any potentially problematic processes. This is done both by name and by PID. A number of examples are shown below:'), Content(line=428, xpath='/html/body/div[1]/div/div[2]/div/div/div/div[1]/article/div/section/section/p[15]', tag='p', property='tail', span=(219, 220), text='\\n'), Content(line=429, xpath='/html/body/div[1]/div/div[2]/div/div/div/div[1]/article/div/section/section/pre[2]', tag='pre', property='text', span=(5, 2011), text='\\nstart iwbemservices::execquery - root\\\\cimv2 : select __path, processid, csname, caption, sessionid, threadcount, workingsetsize, kernelmodetime, usermodetime, parentprocessid from win32_process\\n\\nstart iwbemservices::execquery - root\\\\cimv2 : select __path, processid, csname, caption, sessionid, threadcount, workingsetsize, kernelmodetime, usermodetime, parentprocessid from win32_process where (  caption = \"store.exe\")\\n\\nstart iwbemservices::execquery - root\\\\cimv2 : select __path, processid, csname, caption, sessionid, threadcount, workingsetsize, kernelmodetime, usermodetime, parentprocessid from win32_process where (  caption = \"wrsa.exe\")\\n\\nstart iwbemservices::execquery - root\\\\cimv2 : select __path, processid, csname, caption, sessionid, threadcount, workingsetsize, kernelmodetime, usermodetime, parentprocessid from win32_process where (  processid = 3036)\\n\\nstart iwbemservices::execquery - root\\\\cimv2 : select __path, processid, csname, caption, sessionid, threadcount, workingsetsize, kernelmodetime, usermodetime, parentprocessid from win32_process where (  processid = 4460)\\n\\nstart iwbemservices::execquery - root\\\\cimv2 : select __path, processid, csname, caption, sessionid, threadcount, workingsetsize, kernelmodetime, usermodetime, parentprocessid from win32_process where (  processid = 3052)\\n\\nstart iwbemservices::execquery - root\\\\cimv2 : select __path, processid, csname, caption, sessionid, threadcount, workingsetsize, kernelmodetime, usermodetime, parentprocessid from win32_process where (  processid = 4476)\\n\\nstart iwbemservices::execquery - root\\\\cimv2 : select __path, processid, csname, caption, sessionid, threadcount, workingsetsize, kernelmodetime, usermodetime, parentprocessid from win32_process where (  processid = 1560)\\n\\nstart iwbemservices::execquery - root\\\\cimv2 : select __path, processid, csname, caption, sessionid, threadcount, workingsetsize, kernelmodetime, usermodetime, parentprocessid from win32_process where (  processid = 8124)\\n\\nstart iwbemservices::exe\\n'), Content(line=429, xpath='/html/body/div[1]/div/div[2]/div/div/div/div[1]/article/div/section/section/pre[2]', tag='pre', property='tail', span=(2017, 2018), text='\\n'), Content(line=450, xpath='/html/body/div[1]/div/div[2]/div/div/div/div[1]/article/div/section/section/h2[2]', tag='h2', property='text', span=(4, 30), text='Encryption and Ransom Note'), Content(line=450, xpath='/html/body/div[1]/div/div[2]/div/div/div/div[1]/article/div/section/section/h2[2]', tag='h2', property='tail', span=(35, 36), text='\\n'), Content(line=451, xpath='/html/body/div[1]/div/div[2]/div/div/div/div[1]/article/div/section/section/p[16]', tag='p', property='text', span=(3, 290), text='Encryption is initiated and completed very quickly once applicable services and processes have been terminated. Specific encryption recipes and routines can vary across variants of HelloKitty. Generally speaking, they tend to use a combination of AES-256 & RSA-2048 or even NTRU+AES-128.'), Content(line=451, xpath='/html/body/div[1]/div/div[2]/div/div/div/div[1]/article/div/section/section/p[16]', tag='p', property='tail', span=(294, 295), text='\\n'), Content(line=452, xpath='/html/body/div[1]/div/div[2]/div/div/div/div[1]/article/div/section/section/p[17]', tag='p', property='text', span=(3, 46), text='Once encrypted, affected files receive the '), Content(line=452, xpath='/html/body/div[1]/div/div[2]/div/div/div/div[1]/article/div/section/section/p[17]', tag='p', property='tail', span=(82, 83), text='\\n'), Content(line=452, xpath='/html/body/div[1]/div/div[2]/div/div/div/div[1]/article/div/section/section/p[17]/code', tag='code', property='text', span=(6, 14), text='.crypted'), Content(line=452, xpath='/html/body/div[1]/div/div[2]/div/div/div/div[1]/article/div/section/section/p[17]/code', tag='code', property='tail', span=(21, 32), text=' extension.'), Content(line=454, xpath='/html/body/div[1]/div/div[2]/div/div/div/div[1]/article/div/section/section/p[19]', tag='p', property='text', span=(3, 213), text='Ransom notes are typically customized to directly reference the victim and victim’s environment. Victims are instructed to visit a TOR-based payment and support portal. The following example has been sanitized:'), Content(line=454, xpath='/html/body/div[1]/div/div[2]/div/div/div/div[1]/article/div/section/section/p[19]', tag='p', property='tail', span=(217, 218), text='\\n'), Content(line=456, xpath='/html/body/div[1]/div/div[2]/div/div/div/div[1]/article/div/section/section/p[21]', tag='p', property='text', span=(3, 129), text='It is also important to note that as of this writing, the onion address associated with HelloKitty ransom notes is not active.'), Content(line=456, xpath='/html/body/div[1]/div/div[2]/div/div/div/div[1]/article/div/section/section/p[21]', tag='p', property='tail', span=(133, 134), text='\\n'), Content(line=457, xpath='/html/body/div[1]/div/div[2]/div/div/div/div[1]/article/div/section/section/p[22]/code', tag='code', property='text', span=(6, 68), text='6x7dp6h3w6q3ugjv4yv5gycj3femb24kysgry5b44hhgfwc5ml5qrdad.onion'), Content(line=458, xpath='/html/body/div[1]/div/div[2]/div/div/div/div[1]/article/div/section/section/h2[3]', tag='h2', property='text', span=(4, 14), text='Conclusion'), Content(line=458, xpath='/html/body/div[1]/div/div[2]/div/div/div/div[1]/article/div/section/section/h2[3]', tag='h2', property='tail', span=(19, 20), text='\\n'), Content(line=459, xpath='/html/body/div[1]/div/div[2]/div/div/div/div[1]/article/div/section/section/p[23]', tag='p', property='text', span=(3, 552), text='HelloKitty may be easier to spot than other modern ransomware families, but upon execution it is no less dangerous. There are currently no known ‘weaknesses’ in the encryption routines, and there are no thirdy-party decrypters available for the HelloKitty ransomware. Therefore, the only true defense is prevention. While this family does not appear to be actively leaking victim data at the moment, that could change at any point, in addition to them choosing to adopt some of the more recent extortion methods that go along with ransomware (DDoS).'), Content(line=459, xpath='/html/body/div[1]/div/div[2]/div/div/div/div[1]/article/div/section/section/p[23]', tag='p', property='tail', span=(556, 557), text='\\n'), Content(line=460, xpath='/html/body/div[1]/div/div[2]/div/div/div/div[1]/article/div/section/section/p[24]', tag='p', property='text', span=(3, 274), text='Actors behind the more recent campaign(s) are reportedly attempting to auction the CD Projekt data off in various ‘underground’ forums. At present this sale of this data does appear to be legitimate. Time will tell if additional victim data is dealt with in the same way.'), Content(line=460, xpath='/html/body/div[1]/div/div[2]/div/div/div/div[1]/article/div/section/section/p[24]', tag='p', property='tail', span=(278, 279), text='\\n'), Content(line=461, xpath='/html/body/div[1]/div/div[2]/div/div/div/div[1]/article/div/section/section/p[25]', tag='p', property='text', span=(3, 310), text='To protect yourself against HelloKitty, make sure you are armed with a modern Endpoint Security platform, which is configured correctly and up to date. The SentinelOne Singularity Platform is fully capable of preventing and detecting all malicious behaviors associated with the HelloKitty ransomware family.'), Content(line=461, xpath='/html/body/div[1]/div/div[2]/div/div/div/div[1]/article/div/section/section/p[25]', tag='p', property='tail', span=(314, 315), text='\\n'), Content(line=462, xpath='/html/body/div[1]/div/div[2]/div/div/div/div[1]/article/div/section/section/h2[4]', tag='h2', property='text', span=(4, 8), text='IOCs'), Content(line=462, xpath='/html/body/div[1]/div/div[2]/div/div/div/div[1]/article/div/section/section/h2[4]', tag='h2', property='tail', span=(13, 14), text='\\n'), Content(line=463, xpath='/html/body/div[1]/div/div[2]/div/div/div/div[1]/article/div/section/section/p[26]/strong', tag='strong', property='text', span=(8, 12), text='SHA1'), Content(line=463, xpath='/html/body/div[1]/div/div[2]/div/div/div/div[1]/article/div/section/section/p[26]/br', tag='br', property='tail', span=(5, 46), text='\\nfadd8d7c13a18c251ded1f645ffea18a37f1c2de'), Content(line=465, xpath='/html/body/div[1]/div/div[2]/div/div/div/div[1]/article/div/section/section/p[27]/strong', tag='strong', property='text', span=(8, 14), text='SHA256'), Content(line=465, xpath='/html/body/div[1]/div/div[2]/div/div/div/div[1]/article/div/section/section/p[27]/br', tag='br', property='tail', span=(5, 70), text='\\n501487b025f25ddf1ca32deb57a2b4db43ccf6635c1edc74b9cff54ce0e5bcfe'), Content(line=467, xpath='/html/body/div[1]/div/div[2]/div/div/div/div[1]/article/div/section/section/p[28]/strong', tag='strong', property='text', span=(8, 20), text='MITRE ATT&CK'), Content(line=467, xpath='/html/body/div[1]/div/div[2]/div/div/div/div[1]/article/div/section/section/p[28]/br[1]', tag='br', property='tail', span=(5, 31), text='\\nData from Local System – '), Content(line=468, xpath='/html/body/div[1]/div/div[2]/div/div/div/div[1]/article/div/section/section/p[28]/a[1]', tag='a', property='text', span=(45, 50), text='T1005'), Content(line=468, xpath='/html/body/div[1]/div/div[2]/div/div/div/div[1]/article/div/section/section/p[28]/br[2]', tag='br', property='tail', span=(5, 24), text='\\nModify Registry – '), Content(line=469, xpath='/html/body/div[1]/div/div[2]/div/div/div/div[1]/article/div/section/section/p[28]/a[2]', tag='a', property='text', span=(45, 50), text='T1112'), Content(line=469, xpath='/html/body/div[1]/div/div[2]/div/div/div/div[1]/article/div/section/section/p[28]/br[3]', tag='br', property='tail', span=(5, 23), text='\\nQuery Registry – '), Content(line=470, xpath='/html/body/div[1]/div/div[2]/div/div/div/div[1]/article/div/section/section/p[28]/a[3]', tag='a', property='text', span=(45, 50), text='T1012'), Content(line=470, xpath='/html/body/div[1]/div/div[2]/div/div/div/div[1]/article/div/section/section/p[28]/br[4]', tag='br', property='tail', span=(5, 37), text='\\nSystem Information Discovery – '), Content(line=471, xpath='/html/body/div[1]/div/div[2]/div/div/div/div[1]/article/div/section/section/p[28]/a[4]', tag='a', property='text', span=(45, 50), text='T1082'), Content(line=471, xpath='/html/body/div[1]/div/div[2]/div/div/div/div[1]/article/div/section/section/p[28]/br[5]', tag='br', property='tail', span=(5, 34), text='\\nData Encrypted for Impact – '), Content(line=472, xpath='/html/body/div[1]/div/div[2]/div/div/div/div[1]/article/div/section/section/p[28]/a[5]', tag='a', property='text', span=(45, 50), text='T1486'), Content(line=472, xpath='/html/body/div[1]/div/div[2]/div/div/div/div[1]/article/div/section/section/p[28]/br[6]', tag='br', property='tail', span=(5, 22), text='\\nFile Deletion – '), Content(line=473, xpath='/html/body/div[1]/div/div[2]/div/div/div/div[1]/article/div/section/section/p[28]/a[6]', tag='a', property='text', span=(99, 108), text='T1070.004'), Content(line=473, xpath='/html/body/div[1]/div/div[2]/div/div/div/div[1]/article/div/section/section/p[28]/br[7]', tag='br', property='tail', span=(5, 65), text='\\nCommand and Scripting Interpreter: Windows Command Shell – '), Content(line=474, xpath='/html/body/div[1]/div/div[2]/div/div/div/div[1]/article/div/section/section/p[28]/a[7]', tag='a', property='text', span=(99, 108), text='T1059.003'), Content(line=474, xpath='/html/body/div[1]/div/div[2]/div/div/div/div[1]/article/div/section/section/p[28]/br[8]', tag='br', property='tail', span=(5, 43), text='\\nWindows Management Instrumentation – '), Content(line=475, xpath='/html/body/div[1]/div/div[2]/div/div/div/div[1]/article/div/section/section/p[28]/a[8]', tag='a', property='text', span=(45, 50), text='T1047'), Content(line=478, xpath='/html/body/div[1]/div/div[2]/div/div/div/div[1]/article/div/section/section/div/span[2]', tag='span', property='text', span=(31, 43), text='Post Views: '), Content(line=478, xpath='/html/body/div[1]/div/div[2]/div/div/div/div[1]/article/div/section/section/div/span[2]', tag='span', property='tail', span=(50, 55), text='\\n\\t\\t\\t\\t'), Content(line=479, xpath='/html/body/div[1]/div/div[2]/div/div/div/div[1]/article/div/section/section/div/span[3]', tag='span', property='text', span=(31, 36), text='7,278'), Content(line=479, xpath='/html/body/div[1]/div/div[2]/div/div/div/div[1]/article/div/section/section/div/span[3]', tag='span', property='tail', span=(43, 47), text='\\n\\t\\t\\t'), Content(line=481, xpath='/html/body/div[1]/div/div[2]/div/div/div/div[1]/article/div/section/section/p[29]/a', tag='a', property='text', span=(65, 75), text='Ransomware'), Content(line=481, xpath='/html/body/div[1]/div/div[2]/div/div/div/div[1]/article/div/section/section/p[29]/a', tag='a', property='tail', span=(79, 84), text='\\t\\t\\t\\t\\t'), Content(line=498, xpath='/html/body/div[1]/div/div[2]/div/div/div/div[1]/article/footer/div/ul/li/h3/span', tag='span', property='text', span=(21, 26), text='Share'), Content(line=501, xpath='/html/body/div[1]/div/div[2]/div/div/div/div[1]/article/footer/div/ul/li/ul/li[1]/a/span', tag='span', property='text', span=(26, 34), text='Facebook'), Content(line=501, xpath='/html/body/div[1]/div/div[2]/div/div/div/div[1]/article/footer/div/ul/li/ul/li[2]/a/span', tag='span', property='text', span=(26, 33), text='Twitter'), Content(line=501, xpath='/html/body/div[1]/div/div[2]/div/div/div/div[1]/article/footer/div/ul/li/ul/li[3]/a/span', tag='span', property='text', span=(26, 30), text='Mail'), Content(line=501, xpath='/html/body/div[1]/div/div[2]/div/div/div/div[1]/article/footer/div/ul/li/ul/li[4]/a/span', tag='span', property='text', span=(26, 34), text='Linkedin'), Content(line=501, xpath='/html/body/div[1]/div/div[2]/div/div/div/div[1]/article/footer/div/ul/li/ul/li[5]/a/span', tag='span', property='text', span=(26, 32), text='Reddit'), Content(line=522, xpath='/html/body/div[1]/div/div[2]/div/div/div/div[1]/article/footer/section[1]/div/div/div[1]/h4/a/span/span', tag='span', property='text', span=(17, 27), text='Jim Walter'), Content(line=526, xpath='/html/body/div[1]/div/div[2]/div/div/div/div[1]/article/footer/section[1]/div/div/div[1]/div', tag='div', property='text', span=(61, 627), text='Jim Walter is a Senior Threat Researcher at SentinelOne focusing on evolving trends, actors, and tactics within the thriving ecosystem of cybercrime and crimeware. He specializes in the discovery and analysis of emerging cybercrime \"services\" and evolving communication channels leveraged by mid-level criminal organizations. Jim joined SentinelOne following ~4 years at a security start-up, also focused on malware research and organized crime. Previously, he spent over 17 years at McAfee/Intel running their Threat Intelligence and Advanced Threat Research teams.'), Content(line=526, xpath='/html/body/div[1]/div/div[2]/div/div/div/div[1]/article/footer/section[1]/div/div/div[1]/div', tag='div', property='tail', span=(633, 643), text='\\n\\n\\t\\t\\t\\t\\n\\t\\t\\t'), Content(line=544, xpath='/html/body/div[1]/div/div[2]/div/div/div/div[1]/article/footer/section[2]/div/div/div/div[1]/a/span[2]', tag='span', property='text', span=(25, 29), text='Prev'), ...]"
      ]
     },
     "execution_count": 59,
     "metadata": {},
     "output_type": "execute_result"
    },
    {
     "data": {
      "application/javascript": [
       "\n",
       "            setTimeout(function() {\n",
       "                var nbb_cell_id = 59;\n",
       "                var nbb_unformatted_code = \"c = (\\n    seq(analyzer.primary_subtree_leafs)\\n    .map(lambda element: extract_contents(element))\\n    .flatten()\\n)\\nc\";\n",
       "                var nbb_formatted_code = \"c = (\\n    seq(analyzer.primary_subtree_leafs)\\n    .map(lambda element: extract_contents(element))\\n    .flatten()\\n)\\nc\";\n",
       "                var nbb_cells = Jupyter.notebook.get_cells();\n",
       "                for (var i = 0; i < nbb_cells.length; ++i) {\n",
       "                    if (nbb_cells[i].input_prompt_number == nbb_cell_id) {\n",
       "                        if (nbb_cells[i].get_text() == nbb_unformatted_code) {\n",
       "                             nbb_cells[i].set_text(nbb_formatted_code);\n",
       "                        }\n",
       "                        break;\n",
       "                    }\n",
       "                }\n",
       "            }, 500);\n",
       "            "
      ],
      "text/plain": [
       "<IPython.core.display.Javascript object>"
      ]
     },
     "metadata": {},
     "output_type": "display_data"
    }
   ],
   "source": [
    "c = (\n",
    "    seq(analyzer.primary_subtree_leafs)\n",
    "    .map(lambda element: extract_contents(element))\n",
    "    .flatten()\n",
    ")\n",
    "c"
   ]
  },
  {
   "cell_type": "markdown",
   "metadata": {},
   "source": [
    "---"
   ]
  },
  {
   "cell_type": "markdown",
   "metadata": {},
   "source": [
    "---"
   ]
  },
  {
   "cell_type": "markdown",
   "metadata": {},
   "source": [
    "# Combine together"
   ]
  },
  {
   "cell_type": "code",
   "execution_count": 70,
   "metadata": {
    "ExecuteTime": {
     "end_time": "2021-07-29T09:11:29.940359Z",
     "start_time": "2021-07-29T09:11:25.517392Z"
    }
   },
   "outputs": [
    {
     "data": {
      "text/html": [
       "<table>\n",
       "<tbody>\n",
       "<tr><td>code</td><td>taskkill.exe                                                    </td><td>[(&#x27;FilePath&#x27;, {&#x27;FilePath&#x27;: &#x27;taskkill.exe&#x27;}, (0, 12))]                                                                                                                                                                                                                                                                                                                                                                                                                                                                  </td></tr>\n",
       "<tr><td>code</td><td>net.exe                                                         </td><td>[(&#x27;FilePath&#x27;, {&#x27;FilePath&#x27;: &#x27;net.exe&#x27;}, (0, 7))]                                                                                                                                                                                                                                                                                                                                                                                                                                                                        </td></tr>\n",
       "<tr><td>pre </td><td>dsa*\n",
       "Ntrtsca\n",
       "ds_moni\n",
       "Notifie\n",
       "TmListe\n",
       "iVPAgen\n",
       "CNTAoSM\n",
       "IBM*\n",
       "bes10*\n",
       "black*\n",
       "robo*\n",
       "copy*\n",
       "store.e\n",
       "sql*\n",
       "vee*\n",
       "wrsa*\n",
       "wrsa.ex\n",
       "postg*\n",
       "sage*\n",
       "MSSQLServerADHelper100\n",
       "MSSQL$ISARS\n",
       "MSSQL$MSFW\n",
       "SQLAgent$ISARS\n",
       "SQLAgent$MSFW\n",
       "SQLBrowser\n",
       "ReportServer$ISARS\n",
       "SQLWriter\n",
       "WinDefend\n",
       "mr2kserv\n",
       "MSExchangeADTopology\n",
       "MSExchangeFBA\n",
       "MSExchangeIS\n",
       "MSExchangeSA\n",
       "ShadowProtectSvc\n",
       "SPAdminV4\n",
       "SPTimerV4\n",
       "SPTraceV4\n",
       "SPUserCodeV4\n",
       "SPWriterV4\n",
       "SPSearch4\n",
       "IISADMIN\n",
       "firebirdguardiandefaultinstance\n",
       "ibmiasrw\n",
       "QBCFMonitorService\n",
       "QBVSS\n",
       "QBPOSDBServiceV12\n",
       "&quot;IBM Domino Server(CProgramFilesIBMDominodata)&quot;\n",
       "&quot;IBM Domino Diagnostics(CProgramFilesIBMDomino)&quot;\n",
       "&quot;Simply Accounting Database Connection Manager&quot;\n",
       "QuickBooksDB1\n",
       "QuickBooksDB2\n",
       "QuickBooksDB3\n",
       "QuickBooksDB4\n",
       "QuickBooksDB5\n",
       "QuickBooksDB6\n",
       "QuickBooksDB7\n",
       "QuickBooksDB8\n",
       "QuickBooksDB9\n",
       "QuickBooksDB10\n",
       "QuickBooksDB11\n",
       "QuickBooksDB12\n",
       "QuickBooksDB13\n",
       "QuickBooksDB14\n",
       "QuickBooksDB15\n",
       "QuickBooksDB16\n",
       "QuickBooksDB17\n",
       "QuickBooksDB18\n",
       "QuickBooksDB19\n",
       "QuickBooksDB20\n",
       "QuickBooksDB21\n",
       "QuickBooksDB22\n",
       "QuickBooksDB23\n",
       "QuickBooksDB24\n",
       "QuickBooksDB25                                                                 </td><td>[(&#x27;FilePath&#x27;, {&#x27;FilePath&#x27;: &#x27;store.e&#x27;}, (85, 92)), (&#x27;FilePath&#x27;, {&#x27;FilePath&#x27;: &#x27;wrsa.ex&#x27;}, (109, 116))]                                                                                                                                                                                                                                                                                                                                                                                                                   </td></tr>\n",
       "<tr><td>code</td><td>taskkill.exe /f /PID &quot;8512&quot;                                     </td><td>[(&#x27;FilePath&#x27;, {&#x27;FilePath&#x27;: &#x27;taskkill.exe&#x27;}, (0, 12))]                                                                                                                                                                                                                                                                                                                                                                                                                                                                  </td></tr>\n",
       "<tr><td>code</td><td>taskkill.exe /f /PID &quot;8656&quot;                                     </td><td>[(&#x27;FilePath&#x27;, {&#x27;FilePath&#x27;: &#x27;taskkill.exe&#x27;}, (0, 12))]                                                                                                                                                                                                                                                                                                                                                                                                                                                                  </td></tr>\n",
       "<tr><td>pre </td><td>start iwbemservices::execquery - root\\cimv2 : select __path, processid, csname, caption, sessionid, threadcount, workingsetsize, kernelmodetime, usermodetime, parentprocessid from win32_process\n",
       "\n",
       "start iwbemservices::execquery - root\\cimv2 : select __path, processid, csname, caption, sessionid, threadcount, workingsetsize, kernelmodetime, usermodetime, parentprocessid from win32_process where (  caption = &quot;store.exe&quot;)\n",
       "\n",
       "start iwbemservices::execquery - root\\cimv2 : select __path, processid, csname, caption, sessionid, threadcount, workingsetsize, kernelmodetime, usermodetime, parentprocessid from win32_process where (  caption = &quot;wrsa.exe&quot;)\n",
       "\n",
       "start iwbemservices::execquery - root\\cimv2 : select __path, processid, csname, caption, sessionid, threadcount, workingsetsize, kernelmodetime, usermodetime, parentprocessid from win32_process where (  processid = 3036)\n",
       "\n",
       "start iwbemservices::execquery - root\\cimv2 : select __path, processid, csname, caption, sessionid, threadcount, workingsetsize, kernelmodetime, usermodetime, parentprocessid from win32_process where (  processid = 4460)\n",
       "\n",
       "start iwbemservices::execquery - root\\cimv2 : select __path, processid, csname, caption, sessionid, threadcount, workingsetsize, kernelmodetime, usermodetime, parentprocessid from win32_process where (  processid = 3052)\n",
       "\n",
       "start iwbemservices::execquery - root\\cimv2 : select __path, processid, csname, caption, sessionid, threadcount, workingsetsize, kernelmodetime, usermodetime, parentprocessid from win32_process where (  processid = 4476)\n",
       "\n",
       "start iwbemservices::execquery - root\\cimv2 : select __path, processid, csname, caption, sessionid, threadcount, workingsetsize, kernelmodetime, usermodetime, parentprocessid from win32_process where (  processid = 1560)\n",
       "\n",
       "start iwbemservices::execquery - root\\cimv2 : select __path, processid, csname, caption, sessionid, threadcount, workingsetsize, kernelmodetime, usermodetime, parentprocessid from win32_process where (  processid = 8124)\n",
       "\n",
       "start iwbemservices::exe                                                                 </td><td>[(&#x27;IPv6&#x27;, {&#x27;IPv6&#x27;: &#x27;::e&#x27;}, (20, 23)), (&#x27;IPv6&#x27;, {&#x27;IPv6&#x27;: &#x27;::e&#x27;}, (215, 218)), (&#x27;FilePath&#x27;, {&#x27;FilePath&#x27;: &#x27;store.exe&#x27;}, (410, 419)), (&#x27;IPv6&#x27;, {&#x27;IPv6&#x27;: &#x27;::e&#x27;}, (442, 445)), (&#x27;FilePath&#x27;, {&#x27;FilePath&#x27;: &#x27;wrsa.exe&#x27;}, (637, 645)), (&#x27;IPv6&#x27;, {&#x27;IPv6&#x27;: &#x27;::e&#x27;}, (668, 671)), (&#x27;IPv6&#x27;, {&#x27;IPv6&#x27;: &#x27;::e&#x27;}, (890, 893)), (&#x27;IPv6&#x27;, {&#x27;IPv6&#x27;: &#x27;::e&#x27;}, (1112, 1115)), (&#x27;IPv6&#x27;, {&#x27;IPv6&#x27;: &#x27;::e&#x27;}, (1334, 1337)), (&#x27;IPv6&#x27;, {&#x27;IPv6&#x27;: &#x27;::e&#x27;}, (1556, 1559)), (&#x27;IPv6&#x27;, {&#x27;IPv6&#x27;: &#x27;::e&#x27;}, (1778, 1781)), (&#x27;IPv6&#x27;, {&#x27;IPv6&#x27;: &#x27;::e&#x27;}, (2000, 2003))]</td></tr>\n",
       "<tr><td>code</td><td>6x7dp6h3w6q3ugjv4yv5gycj3femb24kysgry5b44hhgfwc5ml5qrdad.onion  </td><td>[(&#x27;domain&#x27;, {&#x27;domain&#x27;: &#x27;6x7dp6h3w6q3ugjv4yv5gycj3femb24kysgry5b44hhgfwc5ml5qrdad.onion&#x27;}, (0, 62))]                                                                                                                                                                                                                                                                                                                                                                                                                    </td></tr>\n",
       "<tr><td>br  </td><td>fadd8d7c13a18c251ded1f645ffea18a37f1c2de                        </td><td>[(&#x27;FileHash-SHA1&#x27;, {&#x27;FileHash-SHA1&#x27;: &#x27;fadd8d7c13a18c251ded1f645ffea18a37f1c2de&#x27;}, (1, 41))]                                                                                                                                                                                                                                                                                                                                                                                                                            </td></tr>\n",
       "<tr><td>br  </td><td>501487b025f25ddf1ca32deb57a2b4db43ccf6635c1edc74b9cff54ce0e5bcfe</td><td>[(&#x27;FileHash-SHA256&#x27;, {&#x27;FileHash-SHA256&#x27;: &#x27;501487b025f25ddf1ca32deb57a2b4db43ccf6635c1edc74b9cff54ce0e5bcfe&#x27;}, (1, 65))]                                                                                                                                                                                                                                                                                                                                                                                                </td></tr>\n",
       "<tr><td>a   </td><td>T1005                                                           </td><td>[(&#x27;AttackTechnique&#x27;, {&#x27;AttackTechnique&#x27;: &#x27;T1005&#x27;}, (0, 5))]                                                                                                                                                                                                                                                                                                                                                                                                                                                            </td></tr>\n",
       "</tbody>\n",
       "</table><p>Showing 10 of 22 rows"
      ],
      "text/plain": [
       "[('code', 'taskkill.exe', [('FilePath', {'FilePath': 'taskkill.exe'}, (0, 12))]), ('code', 'net.exe', [('FilePath', {'FilePath': 'net.exe'}, (0, 7))]), ('pre', '\\ndsa*\\nNtrtsca\\nds_moni\\nNotifie\\nTmListe\\niVPAgen\\nCNTAoSM\\nIBM*\\nbes10*\\nblack*\\nrobo*\\ncopy*\\nstore.e\\nsql*\\nvee*\\nwrsa*\\nwrsa.ex\\npostg*\\nsage*\\nMSSQLServerADHelper100\\nMSSQL$ISARS\\nMSSQL$MSFW\\nSQLAgent$ISARS\\nSQLAgent$MSFW\\nSQLBrowser\\nReportServer$ISARS\\nSQLWriter\\nWinDefend\\nmr2kserv\\nMSExchangeADTopology\\nMSExchangeFBA\\nMSExchangeIS\\nMSExchangeSA\\nShadowProtectSvc\\nSPAdminV4\\nSPTimerV4\\nSPTraceV4\\nSPUserCodeV4\\nSPWriterV4\\nSPSearch4\\nIISADMIN\\nfirebirdguardiandefaultinstance\\nibmiasrw\\nQBCFMonitorService\\nQBVSS\\nQBPOSDBServiceV12\\n\"IBM Domino Server(CProgramFilesIBMDominodata)\"\\n\"IBM Domino Diagnostics(CProgramFilesIBMDomino)\"\\n\"Simply Accounting Database Connection Manager\"\\nQuickBooksDB1\\nQuickBooksDB2\\nQuickBooksDB3\\nQuickBooksDB4\\nQuickBooksDB5\\nQuickBooksDB6\\nQuickBooksDB7\\nQuickBooksDB8\\nQuickBooksDB9\\nQuickBooksDB10\\nQuickBooksDB11\\nQuickBooksDB12\\nQuickBooksDB13\\nQuickBooksDB14\\nQuickBooksDB15\\nQuickBooksDB16\\nQuickBooksDB17\\nQuickBooksDB18\\nQuickBooksDB19\\nQuickBooksDB20\\nQuickBooksDB21\\nQuickBooksDB22\\nQuickBooksDB23\\nQuickBooksDB24\\nQuickBooksDB25\\n', [('FilePath', {'FilePath': 'store.e'}, (85, 92)), ('FilePath', {'FilePath': 'wrsa.ex'}, (109, 116))]), ('code', 'taskkill.exe /f /PID \"8512\"', [('FilePath', {'FilePath': 'taskkill.exe'}, (0, 12))]), ('code', 'taskkill.exe /f /PID \"8656\"', [('FilePath', {'FilePath': 'taskkill.exe'}, (0, 12))]), ('pre', '\\nstart iwbemservices::execquery - root\\\\cimv2 : select __path, processid, csname, caption, sessionid, threadcount, workingsetsize, kernelmodetime, usermodetime, parentprocessid from win32_process\\n\\nstart iwbemservices::execquery - root\\\\cimv2 : select __path, processid, csname, caption, sessionid, threadcount, workingsetsize, kernelmodetime, usermodetime, parentprocessid from win32_process where (  caption = \"store.exe\")\\n\\nstart iwbemservices::execquery - root\\\\cimv2 : select __path, processid, csname, caption, sessionid, threadcount, workingsetsize, kernelmodetime, usermodetime, parentprocessid from win32_process where (  caption = \"wrsa.exe\")\\n\\nstart iwbemservices::execquery - root\\\\cimv2 : select __path, processid, csname, caption, sessionid, threadcount, workingsetsize, kernelmodetime, usermodetime, parentprocessid from win32_process where (  processid = 3036)\\n\\nstart iwbemservices::execquery - root\\\\cimv2 : select __path, processid, csname, caption, sessionid, threadcount, workingsetsize, kernelmodetime, usermodetime, parentprocessid from win32_process where (  processid = 4460)\\n\\nstart iwbemservices::execquery - root\\\\cimv2 : select __path, processid, csname, caption, sessionid, threadcount, workingsetsize, kernelmodetime, usermodetime, parentprocessid from win32_process where (  processid = 3052)\\n\\nstart iwbemservices::execquery - root\\\\cimv2 : select __path, processid, csname, caption, sessionid, threadcount, workingsetsize, kernelmodetime, usermodetime, parentprocessid from win32_process where (  processid = 4476)\\n\\nstart iwbemservices::execquery - root\\\\cimv2 : select __path, processid, csname, caption, sessionid, threadcount, workingsetsize, kernelmodetime, usermodetime, parentprocessid from win32_process where (  processid = 1560)\\n\\nstart iwbemservices::execquery - root\\\\cimv2 : select __path, processid, csname, caption, sessionid, threadcount, workingsetsize, kernelmodetime, usermodetime, parentprocessid from win32_process where (  processid = 8124)\\n\\nstart iwbemservices::exe\\n', [('IPv6', {'IPv6': '::e'}, (20, 23)), ('IPv6', {'IPv6': '::e'}, (215, 218)), ('FilePath', {'FilePath': 'store.exe'}, (410, 419)), ('IPv6', {'IPv6': '::e'}, (442, 445)), ('FilePath', {'FilePath': 'wrsa.exe'}, (637, 645)), ('IPv6', {'IPv6': '::e'}, (668, 671)), ('IPv6', {'IPv6': '::e'}, (890, 893)), ('IPv6', {'IPv6': '::e'}, (1112, 1115)), ('IPv6', {'IPv6': '::e'}, (1334, 1337)), ('IPv6', {'IPv6': '::e'}, (1556, 1559)), ('IPv6', {'IPv6': '::e'}, (1778, 1781)), ('IPv6', {'IPv6': '::e'}, (2000, 2003))]), ('code', '6x7dp6h3w6q3ugjv4yv5gycj3femb24kysgry5b44hhgfwc5ml5qrdad.onion', [('domain', {'domain': '6x7dp6h3w6q3ugjv4yv5gycj3femb24kysgry5b44hhgfwc5ml5qrdad.onion'}, (0, 62))]), ('br', '\\nfadd8d7c13a18c251ded1f645ffea18a37f1c2de', [('FileHash-SHA1', {'FileHash-SHA1': 'fadd8d7c13a18c251ded1f645ffea18a37f1c2de'}, (1, 41))]), ('br', '\\n501487b025f25ddf1ca32deb57a2b4db43ccf6635c1edc74b9cff54ce0e5bcfe', [('FileHash-SHA256', {'FileHash-SHA256': '501487b025f25ddf1ca32deb57a2b4db43ccf6635c1edc74b9cff54ce0e5bcfe'}, (1, 65))]), ('a', 'T1005', [('AttackTechnique', {'AttackTechnique': 'T1005'}, (0, 5))]), ('a', 'T1112', [('AttackTechnique', {'AttackTechnique': 'T1112'}, (0, 5))]), ('a', 'T1012', [('AttackTechnique', {'AttackTechnique': 'T1012'}, (0, 5))]), ('a', 'T1082', [('AttackTechnique', {'AttackTechnique': 'T1082'}, (0, 5))]), ('a', 'T1486', [('AttackTechnique', {'AttackTechnique': 'T1486'}, (0, 5))]), ('a', 'T1070.004', [('AttackTechnique', {'AttackTechnique': 'T1070.004'}, (0, 9))]), ('a', 'T1059.003', [('AttackTechnique', {'AttackTechnique': 'T1059.003'}, (0, 9))]), ('a', 'T1047', [('AttackTechnique', {'AttackTechnique': 'T1047'}, (0, 5))]), ('a', 'Detecting macOS.GMERA Malware Through Behavioral Inspection', [('FilePath', {'FilePath': 'macOS.GMERA'}, (10, 21))]), ('a', 'https://t.co/tFqxVu6TV1', [('URI', {'URI': 'https://t.co/tFqxVu6TV1'}, (0, 23))]), ('a', 'https://t.co/4MmUrFnj9W', [('URI', {'URI': 'https://t.co/4MmUrFnj9W'}, (0, 23))]), ('a', 'https://t.co/plIa4AtRlY', [('URI', {'URI': 'https://t.co/plIa4AtRlY'}, (0, 23))]), ('a', 'https://t.co/kBIKxrusD1', [('URI', {'URI': 'https://t.co/kBIKxrusD1'}, (0, 23))])]"
      ]
     },
     "execution_count": 70,
     "metadata": {},
     "output_type": "execute_result"
    },
    {
     "data": {
      "application/javascript": [
       "\n",
       "            setTimeout(function() {\n",
       "                var nbb_cell_id = 70;\n",
       "                var nbb_unformatted_code = \"c.map(lambda content: (content, preparser.scanString(content.text))).starmap(\\n    lambda content, results: (\\n        content.tag,\\n        content.text,\\n        seq(results).starmap(\\n            lambda r, start, end: (r.getName(), r.asDict(), (start, end))\\n        ),\\n    )\\n).filter(lambda x: x[2] != [])\";\n",
       "                var nbb_formatted_code = \"c.map(lambda content: (content, preparser.scanString(content.text))).starmap(\\n    lambda content, results: (\\n        content.tag,\\n        content.text,\\n        seq(results).starmap(\\n            lambda r, start, end: (r.getName(), r.asDict(), (start, end))\\n        ),\\n    )\\n).filter(lambda x: x[2] != [])\";\n",
       "                var nbb_cells = Jupyter.notebook.get_cells();\n",
       "                for (var i = 0; i < nbb_cells.length; ++i) {\n",
       "                    if (nbb_cells[i].input_prompt_number == nbb_cell_id) {\n",
       "                        if (nbb_cells[i].get_text() == nbb_unformatted_code) {\n",
       "                             nbb_cells[i].set_text(nbb_formatted_code);\n",
       "                        }\n",
       "                        break;\n",
       "                    }\n",
       "                }\n",
       "            }, 500);\n",
       "            "
      ],
      "text/plain": [
       "<IPython.core.display.Javascript object>"
      ]
     },
     "metadata": {},
     "output_type": "display_data"
    }
   ],
   "source": [
    "c.map(lambda content: (content, preparser.scanString(content.text))).starmap(\n",
    "    lambda content, results: (\n",
    "        content.tag,\n",
    "        content.text,\n",
    "        seq(results).starmap(\n",
    "            lambda r, start, end: (r.getName(), r.asDict(), (start, end))\n",
    "        ),\n",
    "    )\n",
    ").filter(lambda x: x[2] != [])"
   ]
  },
  {
   "cell_type": "markdown",
   "metadata": {},
   "source": [
    "---"
   ]
  },
  {
   "cell_type": "markdown",
   "metadata": {},
   "source": [
    "---"
   ]
  },
  {
   "cell_type": "markdown",
   "metadata": {},
   "source": [
    "---"
   ]
  },
  {
   "cell_type": "markdown",
   "metadata": {},
   "source": [
    "---"
   ]
  },
  {
   "cell_type": "markdown",
   "metadata": {},
   "source": [
    "---"
   ]
  },
  {
   "cell_type": "markdown",
   "metadata": {},
   "source": [
    "---"
   ]
  }
 ],
 "metadata": {
  "kernelspec": {
   "display_name": "magpie-j27h1SjX-py3.6",
   "language": "python",
   "name": "magpie-j27h1sjx-py3.6"
  },
  "language_info": {
   "codemirror_mode": {
    "name": "ipython",
    "version": 3
   },
   "file_extension": ".py",
   "mimetype": "text/x-python",
   "name": "python",
   "nbconvert_exporter": "python",
   "pygments_lexer": "ipython3",
   "version": "3.6.10"
  },
  "varInspector": {
   "cols": {
    "lenName": 16,
    "lenType": 16,
    "lenVar": 40
   },
   "kernels_config": {
    "python": {
     "delete_cmd_postfix": "",
     "delete_cmd_prefix": "del ",
     "library": "var_list.py",
     "varRefreshCmd": "print(var_dic_list())"
    },
    "r": {
     "delete_cmd_postfix": ") ",
     "delete_cmd_prefix": "rm(",
     "library": "var_list.r",
     "varRefreshCmd": "cat(var_dic_list()) "
    }
   },
   "types_to_exclude": [
    "module",
    "function",
    "builtin_function_or_method",
    "instance",
    "_Feature"
   ],
   "window_display": false
  }
 },
 "nbformat": 4,
 "nbformat_minor": 4
}
