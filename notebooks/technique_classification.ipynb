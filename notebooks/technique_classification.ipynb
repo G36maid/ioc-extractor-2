{
 "cells": [
  {
   "cell_type": "code",
   "execution_count": 1,
   "metadata": {
    "ExecuteTime": {
     "end_time": "2021-07-09T10:03:37.107392Z",
     "start_time": "2021-07-09T10:03:36.913796Z"
    }
   },
   "outputs": [
    {
     "data": {
      "application/javascript": [
       "\n",
       "            setTimeout(function() {\n",
       "                var nbb_cell_id = 1;\n",
       "                var nbb_unformatted_code = \"%load_ext nb_black\";\n",
       "                var nbb_formatted_code = \"%load_ext nb_black\";\n",
       "                var nbb_cells = Jupyter.notebook.get_cells();\n",
       "                for (var i = 0; i < nbb_cells.length; ++i) {\n",
       "                    if (nbb_cells[i].input_prompt_number == nbb_cell_id) {\n",
       "                        if (nbb_cells[i].get_text() == nbb_unformatted_code) {\n",
       "                             nbb_cells[i].set_text(nbb_formatted_code);\n",
       "                        }\n",
       "                        break;\n",
       "                    }\n",
       "                }\n",
       "            }, 500);\n",
       "            "
      ],
      "text/plain": [
       "<IPython.core.display.Javascript object>"
      ]
     },
     "metadata": {},
     "output_type": "display_data"
    }
   ],
   "source": [
    "%load_ext nb_black"
   ]
  },
  {
   "cell_type": "markdown",
   "metadata": {},
   "source": [
    "---"
   ]
  },
  {
   "cell_type": "markdown",
   "metadata": {},
   "source": [
    "# Get data source from Mitre ATT&CK website"
   ]
  },
  {
   "cell_type": "markdown",
   "metadata": {
    "ExecuteTime": {
     "end_time": "2021-07-08T03:16:17.345871Z",
     "start_time": "2021-07-08T03:16:17.172146Z"
    }
   },
   "source": [
    "1. We could find the source of attack techniques in (https://github.com/mitre-attack/attack-website/blob/master/modules/site_config.py), those links point to the Mitre CTI GitHub repo."
   ]
  },
  {
   "cell_type": "markdown",
   "metadata": {
    "ExecuteTime": {
     "end_time": "2021-07-09T07:50:32.558625Z",
     "start_time": "2021-07-09T07:50:32.473560Z"
    }
   },
   "source": [
    "```python\n",
    "# Domains for stix objects\n",
    "domains = [\n",
    "    {\n",
    "        \"name\": \"enterprise-attack\",\n",
    "        \"location\": \"https://raw.githubusercontent.com/mitre/cti/master/enterprise-attack/enterprise-attack.json\",\n",
    "        \"alias\": \"Enterprise\",\n",
    "        \"deprecated\": False,\n",
    "    },\n",
    "    {\n",
    "        \"name\": \"mobile-attack\",\n",
    "        \"location\": \"https://raw.githubusercontent.com/mitre/cti/master/mobile-attack/mobile-attack.json\",\n",
    "        \"alias\": \"Mobile\",\n",
    "        \"deprecated\": False,\n",
    "    },\n",
    "    {\n",
    "        \"name\": \"pre-attack\",\n",
    "        \"location\": \"https://raw.githubusercontent.com/mitre/cti/master/pre-attack/pre-attack.json\",\n",
    "        \"alias\": \"PRE-ATT&CK\",\n",
    "        \"deprecated\": True,\n",
    "    },\n",
    "]\n",
    "```"
   ]
  },
  {
   "cell_type": "markdown",
   "metadata": {
    "ExecuteTime": {
     "end_time": "2021-07-09T08:38:32.721458Z",
     "start_time": "2021-07-09T08:38:32.686711Z"
    }
   },
   "source": [
    "2. According to the attack technique pages (ex: https://attack.mitre.org/techniques/T1134/), the technique information could be found in (https://raw.githubusercontent.com/mitre/cti/master/enterprise-attack/enterprise-attack.json). It contains some useful detail\n",
    "\n",
    "    - \"id\"\n",
    "    - \"type\"\n",
    "    - \"name\"\n",
    "    - \"description\"\n",
    "    - \"x_mitre_detection\"\n",
    "    "
   ]
  },
  {
   "cell_type": "markdown",
   "metadata": {
    "ExecuteTime": {
     "end_time": "2021-07-08T04:24:09.857934Z",
     "start_time": "2021-07-08T04:24:09.819930Z"
    }
   },
   "source": [
    "```json\n",
    "{\n",
    "    \"object_marking_refs\": [\"marking-definition--fa42a846-8d90-4e51-bc29-71d5b4802168\"],\n",
    "    \"external_references\": [\n",
    "        {\n",
    "            \"source_name\": \"mitre-attack\",\n",
    "            \"external_id\": \"T1134\",\n",
    "            \"url\": \"https://attack.mitre.org/techniques/T1134\",\n",
    "        },\n",
    "        {\n",
    "            \"external_id\": \"CAPEC-633\",\n",
    "            \"source_name\": \"capec\",\n",
    "            \"url\": \"https://capec.mitre.org/data/definitions/633.html\",\n",
    "        },\n",
    "        {\n",
    "            \"url\": \"https://pentestlab.blog/2017/04/03/token-manipulation/\",\n",
    "            \"description\": \"netbiosX. (2017, April 3). Token Manipulation. Retrieved April 21, 2017.\",\n",
    "            \"source_name\": \"Pentestlab Token Manipulation\",\n",
    "        },\n",
    "        {\n",
    "            \"url\": \"https://technet.microsoft.com/en-us/windows-server-docs/identity/ad-ds/manage/component-updates/command-line-process-auditing\",\n",
    "            \"description\": \"Mathers, B. (2017, March 7). Command line process auditing. Retrieved April 21, 2017.\",\n",
    "            \"source_name\": \"Microsoft Command-line Logging\",\n",
    "        },\n",
    "        {\n",
    "            \"url\": \"https://msdn.microsoft.com/en-us/library/windows/desktop/aa378184(v=vs.85).aspx\",\n",
    "            \"description\": \"Microsoft TechNet. (n.d.). Retrieved April 25, 2017.\",\n",
    "            \"source_name\": \"Microsoft LogonUser\",\n",
    "        },\n",
    "        {\n",
    "            \"url\": \"https://msdn.microsoft.com/en-us/library/windows/desktop/aa446617(v=vs.85).aspx\",\n",
    "            \"description\": \"Microsoft TechNet. (n.d.). Retrieved April 25, 2017.\",\n",
    "            \"source_name\": \"Microsoft DuplicateTokenEx\",\n",
    "        },\n",
    "        {\n",
    "            \"url\": \"https://msdn.microsoft.com/en-us/library/windows/desktop/aa378612(v=vs.85).aspx\",\n",
    "            \"description\": \"Microsoft TechNet. (n.d.). Retrieved April 25, 2017.\",\n",
    "            \"source_name\": \"Microsoft ImpersonateLoggedOnUser\",\n",
    "        },\n",
    "        {\n",
    "            \"url\": \"https://www.blackhat.com/docs/eu-17/materials/eu-17-Atkinson-A-Process-Is-No-One-Hunting-For-Token-Manipulation.pdf\",\n",
    "            \"description\": \"Atkinson, J., Winchester, R. (2017, December 7). A Process is No One: Hunting for Token Manipulation. Retrieved December 21, 2017.\",\n",
    "            \"source_name\": \"BlackHat Atkinson Winchester Token Manipulation\",\n",
    "        },\n",
    "    ],\n",
    "    \"description\": \"Adversaries may modify access tokens to operate under a different user or system security context to perform actions and bypass access controls. Windows uses access tokens to determine the ownership of a running process. A user can manipulate access tokens to make a running process appear as though it is the child of a different process or belongs to someone other than the user that started the process. When this occurs, the process also takes on the security context associated with the new token.\\n\\nAn adversary can use built-in Windows API functions to copy access tokens from existing processes; this is known as token stealing. These token can then be applied to an existing process (i.e. [Token Impersonation/Theft](https://attack.mitre.org/techniques/T1134/001)) or used to spawn a new process (i.e. [Create Process with Token](https://attack.mitre.org/techniques/T1134/002)). An adversary must already be in a privileged user context (i.e. administrator) to steal a token. However, adversaries commonly use token stealing to elevate their security context from the administrator level to the SYSTEM level. An adversary can then use a token to authenticate to a remote system as the account for that token if the account has appropriate permissions on the remote system.(Citation: Pentestlab Token Manipulation)\\n\\nAny standard user can use the <code>runas</code> command, and the Windows API functions, to create impersonation tokens; it does not require access to an administrator account. There are also other mechanisms, such as Active Directory fields, that can be used to modify access tokens.\",\n",
    "    \"name\": \"Access Token Manipulation\",\n",
    "    \"created_by_ref\": \"identity--c78cb6e5-0c4b-4611-8297-d1b8b55e40b5\",\n",
    "    \"id\": \"attack-pattern--dcaa092b-7de9-4a21-977f-7fcb77e89c48\",\n",
    "    \"type\": \"attack-pattern\",\n",
    "    \"kill_chain_phases\": [\n",
    "        {\"kill_chain_name\": \"mitre-attack\", \"phase_name\": \"defense-evasion\"},\n",
    "        {\"kill_chain_name\": \"mitre-attack\", \"phase_name\": \"privilege-escalation\"},\n",
    "    ],\n",
    "    \"modified\": \"2021-04-24T13:40:52.952Z\",\n",
    "    \"created\": \"2017-12-14T16:46:06.044Z\",\n",
    "    \"x_mitre_defense_bypassed\": [\n",
    "        \"Windows User Account Control\",\n",
    "        \"System access controls\",\n",
    "        \"File system access controls\",\n",
    "        \"Heuristic Detection\",\n",
    "        \"Host forensic analysis\",\n",
    "    ],\n",
    "    \"x_mitre_is_subtechnique\": false,\n",
    "    \"x_mitre_version\": \"2.0\",\n",
    "    \"x_mitre_contributors\": [\n",
    "        \"Tom Ueltschi @c_APT_ure\",\n",
    "        \"Travis Smith, Tripwire\",\n",
    "        \"Robby Winchester, @robwinchester3\",\n",
    "        \"Jared Atkinson, @jaredcatkinson\",\n",
    "    ],\n",
    "    \"x_mitre_data_sources\": [\n",
    "        \"Process: Process Creation\",\n",
    "        \"Process: Process Metadata\",\n",
    "        \"Process: OS API Execution\",\n",
    "        \"User Account: User Account Metadata\",\n",
    "        \"Active Directory: Active Directory Object Modification\",\n",
    "        \"Command: Command Execution\",\n",
    "    ],\n",
    "    \"x_mitre_detection\": \"If an adversary is using a standard command-line shell, analysts can detect token manipulation by auditing command-line activity. Specifically, analysts should look for use of the <code>runas</code> command. Detailed command-line logging is not enabled by default in Windows.(Citation: Microsoft Command-line Logging)\\n\\nIf an adversary is using a payload that calls the Windows token APIs directly, analysts can detect token manipulation only through careful analysis of user network activity, examination of running processes, and correlation with other endpoint and network behavior. \\n\\nThere are many Windows API calls a payload can take advantage of to manipulate access tokens (e.g., <code>LogonUser</code> (Citation: Microsoft LogonUser), <code>DuplicateTokenEx</code>(Citation: Microsoft DuplicateTokenEx), and <code>ImpersonateLoggedOnUser</code>(Citation: Microsoft ImpersonateLoggedOnUser)). Please see the referenced Windows API pages for more information.\\n\\nQuery systems for process and thread token information and look for inconsistencies such as user owns processes impersonating the local SYSTEM account.(Citation: BlackHat Atkinson Winchester Token Manipulation)\\n\\nLook for inconsistencies between the various fields that store PPID information, such as the EventHeader ProcessId from data collected via Event Tracing for Windows (ETW), Creator Process ID/Name from Windows event logs, and the ProcessID and ParentProcessID (which are also produced from ETW and other utilities such as Task Manager and Process Explorer). The ETW provided EventHeader ProcessId identifies the actual parent process.\",\n",
    "    \"x_mitre_permissions_required\": [\"User\", \"Administrator\"],\n",
    "    \"x_mitre_effective_permissions\": [\"SYSTEM\"],\n",
    "    \"x_mitre_platforms\": [\"Windows\"],\n",
    "},\n",
    "```"
   ]
  },
  {
   "cell_type": "markdown",
   "metadata": {},
   "source": [
    "3. According to the attack technique pages (ex: https://attack.mitre.org/techniques/T1134/), we could find procedure exmaples of technique (G0108: Blue Mockingbird, S0038: Duqu ... etc). It's also found in (https://raw.githubusercontent.com/mitre/cti/master/enterprise-attack/enterprise-attack.json)"
   ]
  },
  {
   "cell_type": "markdown",
   "metadata": {
    "ExecuteTime": {
     "end_time": "2021-07-08T09:19:07.375088Z",
     "start_time": "2021-07-08T09:19:07.337891Z"
    }
   },
   "source": [
    "```json\n",
    "{\n",
    "    \"created_by_ref\": \"identity--c78cb6e5-0c4b-4611-8297-d1b8b55e40b5\",\n",
    "    \"object_marking_refs\": [\"marking-definition--fa42a846-8d90-4e51-bc29-71d5b4802168\"],\n",
    "    \"source_ref\": \"intrusion-set--73a80fab-2aa3-48e0-a4d0-3a4828200aee\",\n",
    "    \"target_ref\": \"attack-pattern--dcaa092b-7de9-4a21-977f-7fcb77e89c48\",\n",
    "    \"external_references\": [\n",
    "        {\n",
    "            \"source_name\": \"RedCanary Mockingbird May 2020\",\n",
    "            \"url\": \"https://redcanary.com/blog/blue-mockingbird-cryptominer/\",\n",
    "            \"description\": \"Lambert, T. (2020, May 7). Introducing Blue Mockingbird. Retrieved May 26, 2020.\",\n",
    "        }\n",
    "    ],\n",
    "    \"description\": \"[Blue Mockingbird](https://attack.mitre.org/groups/G0108) has used JuicyPotato to abuse the <code>SeImpersonate</code> token privilege to escalate from web application pool accounts to NT Authority\\\\SYSTEM.(Citation: RedCanary Mockingbird May 2020)\",\n",
    "    \"relationship_type\": \"uses\",\n",
    "    \"id\": \"relationship--6d3d48ff-ea37-4626-8148-4111163e95e3\",\n",
    "    \"type\": \"relationship\",\n",
    "    \"modified\": \"2020-06-25T13:59:09.926Z\",\n",
    "    \"created\": \"2020-05-27T15:31:09.535Z\",\n",
    "},\n",
    "{\n",
    "    \"id\": \"relationship--968610c5-7fa5-4840-b9bb-2f70eecd87fa\",\n",
    "    \"created_by_ref\": \"identity--c78cb6e5-0c4b-4611-8297-d1b8b55e40b5\",\n",
    "    \"description\": \"[Duqu](https://attack.mitre.org/software/S0038) examines running system processes for tokens that have specific system privileges. If it finds one, it will copy the token and store it for later use. Eventually it will start new processes with the stored token attached. It can also steal tokens to acquire administrative privileges.(Citation: Kaspersky Duqu 2.0)\",\n",
    "    \"object_marking_refs\": [\"marking-definition--fa42a846-8d90-4e51-bc29-71d5b4802168\"],\n",
    "    \"external_references\": [\n",
    "        {\n",
    "            \"url\": \"https://securelist.com/files/2015/06/The_Mystery_of_Duqu_2_0_a_sophisticated_cyberespionage_actor_returns.pdf\",\n",
    "            \"description\": \"Kaspersky Lab. (2015, June 11). The Duqu 2.0. Retrieved April 21, 2017.\",\n",
    "            \"source_name\": \"Kaspersky Duqu 2.0\",\n",
    "        }\n",
    "    ],\n",
    "    \"source_ref\": \"malware--68dca94f-c11d-421e-9287-7c501108e18c\",\n",
    "    \"relationship_type\": \"uses\",\n",
    "    \"target_ref\": \"attack-pattern--dcaa092b-7de9-4a21-977f-7fcb77e89c48\",\n",
    "    \"type\": \"relationship\",\n",
    "    \"modified\": \"2019-04-24T23:18:53.108Z\",\n",
    "    \"created\": \"2017-12-14T16:46:06.044Z\",\n",
    "},\n",
    "```"
   ]
  },
  {
   "cell_type": "markdown",
   "metadata": {},
   "source": [
    "# Reference\n",
    "\n",
    "\n",
    "- **Techniques with procedure exmaple**\n",
    "    - https://attack.mitre.org/techniques/T1134/\n",
    "- **GitHub Repo**\n",
    "    - https://github.com/mitre-attack/attack-website/\n",
    "    - https://github.com/mitre/cti\n",
    "- **Attack Techniques**\n",
    "    - https://raw.githubusercontent.com/mitre/cti/master/enterprise-attack/enterprise-attack.json\n",
    "    - https://raw.githubusercontent.com/mitre/cti/master/mobile-attack/mobile-attack.json\n",
    "    - (Deprecated) https://raw.githubusercontent.com/mitre/cti/master/pre-attack/pre-attack.json\n",
    "- **Others**\n",
    "    - https://www.anomali.com/resources/what-mitre-attck-is-and-how-it-is-useful"
   ]
  },
  {
   "cell_type": "markdown",
   "metadata": {},
   "source": [
    "---"
   ]
  },
  {
   "cell_type": "markdown",
   "metadata": {},
   "source": [
    "# Build dataset"
   ]
  },
  {
   "cell_type": "code",
   "execution_count": 2,
   "metadata": {
    "ExecuteTime": {
     "end_time": "2021-07-09T10:03:37.558598Z",
     "start_time": "2021-07-09T10:03:37.113079Z"
    }
   },
   "outputs": [
    {
     "data": {
      "application/javascript": [
       "\n",
       "            setTimeout(function() {\n",
       "                var nbb_cell_id = 2;\n",
       "                var nbb_unformatted_code = \"from functional import seq\\n\\nenterprise_attack = seq.json(\\\"../data/mitre/enterprise-attack.json\\\").to_dict()\";\n",
       "                var nbb_formatted_code = \"from functional import seq\\n\\nenterprise_attack = seq.json(\\\"../data/mitre/enterprise-attack.json\\\").to_dict()\";\n",
       "                var nbb_cells = Jupyter.notebook.get_cells();\n",
       "                for (var i = 0; i < nbb_cells.length; ++i) {\n",
       "                    if (nbb_cells[i].input_prompt_number == nbb_cell_id) {\n",
       "                        if (nbb_cells[i].get_text() == nbb_unformatted_code) {\n",
       "                             nbb_cells[i].set_text(nbb_formatted_code);\n",
       "                        }\n",
       "                        break;\n",
       "                    }\n",
       "                }\n",
       "            }, 500);\n",
       "            "
      ],
      "text/plain": [
       "<IPython.core.display.Javascript object>"
      ]
     },
     "metadata": {},
     "output_type": "display_data"
    }
   ],
   "source": [
    "from functional import seq\n",
    "\n",
    "enterprise_attack = seq.json(\"../data/mitre/enterprise-attack.json\").to_dict()"
   ]
  },
  {
   "cell_type": "markdown",
   "metadata": {},
   "source": [
    "Enterprise attack fields:\n",
    "- id\n",
    "- objects\n",
    "- spec_version\n",
    "- type"
   ]
  },
  {
   "cell_type": "code",
   "execution_count": 3,
   "metadata": {
    "ExecuteTime": {
     "end_time": "2021-07-09T10:03:37.620852Z",
     "start_time": "2021-07-09T10:03:37.572621Z"
    }
   },
   "outputs": [
    {
     "data": {
      "text/html": [
       "<table>\n",
       "<tbody>\n",
       "<tr><td>2020-02-11T18:46:56.263Z</td><td>2020-03-20T15:56:55.022Z</td><td>[{&#x27;kill_chain_name&#x27;: &#x27;mitre-attack&#x27;, &#x27;phase_name&#x27;: &#x27;credential-access&#x27;}]</td><td>attack-pattern</td><td>attack-pattern--d0b4fcdb-d67d-4ed2-99ce-788b12f8c0f4</td><td>Adversaries may attempt to dump the contents of &lt;code&gt;/etc/passwd&lt;/code&gt; and &lt;code&gt;/etc/shadow&lt;/code&gt; to enable offline password cracking. Most modern Linux operating systems use a combination of &lt;code&gt;/etc/passwd&lt;/code&gt; and &lt;code&gt;/etc/shadow&lt;/code&gt; to store user account information including password hashes in &lt;code&gt;/etc/shadow&lt;/code&gt;. By default, &lt;code&gt;/etc/shadow&lt;/code&gt; is only readable by the root user.(Citation: Linux Password and Shadow File Formats)\n",
       "\n",
       "The Linux utility, unshadow, can be used to combine the two files in a format suited for password cracking utilities such as John the Ripper:(Citation: nixCraft - John the Ripper) &lt;code&gt;# /usr/bin/unshadow /etc/passwd /etc/shadow &gt; /tmp/crack.password.db&lt;/code&gt; </td><td>/etc/passwd and /etc/shadow</td><td>identity--c78cb6e5-0c4b-4611-8297-d1b8b55e40b5</td><td>[&#x27;marking-definition--fa42a846-8d90-4e51-bc29-71d5b4802168&#x27;]</td><td>[{&#x27;url&#x27;: &#x27;https://attack.mitre.org/techniques/T1003/008&#x27;, &#x27;external_id&#x27;: &#x27;T1003.008&#x27;, &#x27;source_name&#x27;: &#x27;mitre-attack&#x27;}, {&#x27;description&#x27;: &#x27;The Linux Documentation Project. (n.d.). Linux Password and Shadow File Formats. Retrieved February 19, 2020.&#x27;, &#x27;url&#x27;: &#x27;https://www.tldp.org/LDP/lame/LAME/linux-admin-made-easy/shadow-file-formats.html&#x27;, &#x27;source_name&#x27;: &#x27;Linux Password and Shadow File Formats&#x27;}, {&#x27;description&#x27;: &#x27;Vivek Gite. (2014, September 17). Linux Password Cracking: Explain unshadow and john Commands (John the Ripper Tool). Retrieved February 19, 2020.&#x27;, &#x27;url&#x27;: &#x27;https://www.cyberciti.biz/faq/unix-linux-password-cracking-john-the-ripper/&#x27;, &#x27;source_name&#x27;: &#x27;nixCraft - John the Ripper&#x27;}]</td><td>[&#x27;Linux&#x27;]</td><td>True</td><td style=\"text-align: right;\">1</td><td>[&#x27;root&#x27;]</td><td>The AuditD monitoring tool, which ships stock in many Linux distributions, can be used to watch for hostile processes attempting to access &lt;code&gt;/etc/passwd&lt;/code&gt; and &lt;code&gt;/etc/shadow&lt;/code&gt;, alerting on the pid, process name, and arguments of such programs.</td><td>[&#x27;Command: Command Execution&#x27;, &#x27;File: File Access&#x27;]</td></tr>\n",
       "</tbody>\n",
       "</table>"
      ],
      "text/plain": [
       "[{'created': '2020-02-11T18:46:56.263Z', 'modified': '2020-03-20T15:56:55.022Z', 'kill_chain_phases': [{'kill_chain_name': 'mitre-attack', 'phase_name': 'credential-access'}], 'type': 'attack-pattern', 'id': 'attack-pattern--d0b4fcdb-d67d-4ed2-99ce-788b12f8c0f4', 'description': 'Adversaries may attempt to dump the contents of <code>/etc/passwd</code> and <code>/etc/shadow</code> to enable offline password cracking. Most modern Linux operating systems use a combination of <code>/etc/passwd</code> and <code>/etc/shadow</code> to store user account information including password hashes in <code>/etc/shadow</code>. By default, <code>/etc/shadow</code> is only readable by the root user.(Citation: Linux Password and Shadow File Formats)\\n\\nThe Linux utility, unshadow, can be used to combine the two files in a format suited for password cracking utilities such as John the Ripper:(Citation: nixCraft - John the Ripper) <code># /usr/bin/unshadow /etc/passwd /etc/shadow > /tmp/crack.password.db</code>\\n', 'name': '/etc/passwd and /etc/shadow', 'created_by_ref': 'identity--c78cb6e5-0c4b-4611-8297-d1b8b55e40b5', 'object_marking_refs': ['marking-definition--fa42a846-8d90-4e51-bc29-71d5b4802168'], 'external_references': [{'url': 'https://attack.mitre.org/techniques/T1003/008', 'external_id': 'T1003.008', 'source_name': 'mitre-attack'}, {'description': 'The Linux Documentation Project. (n.d.). Linux Password and Shadow File Formats. Retrieved February 19, 2020.', 'url': 'https://www.tldp.org/LDP/lame/LAME/linux-admin-made-easy/shadow-file-formats.html', 'source_name': 'Linux Password and Shadow File Formats'}, {'description': 'Vivek Gite. (2014, September 17). Linux Password Cracking: Explain unshadow and john Commands (John the Ripper Tool). Retrieved February 19, 2020.', 'url': 'https://www.cyberciti.biz/faq/unix-linux-password-cracking-john-the-ripper/', 'source_name': 'nixCraft - John the Ripper'}], 'x_mitre_platforms': ['Linux'], 'x_mitre_is_subtechnique': True, 'x_mitre_version': '1.0', 'x_mitre_permissions_required': ['root'], 'x_mitre_detection': 'The AuditD monitoring tool, which ships stock in many Linux distributions, can be used to watch for hostile processes attempting to access <code>/etc/passwd</code> and <code>/etc/shadow</code>, alerting on the pid, process name, and arguments of such programs.', 'x_mitre_data_sources': ['Command: Command Execution', 'File: File Access']}]"
      ]
     },
     "execution_count": 3,
     "metadata": {},
     "output_type": "execute_result"
    },
    {
     "data": {
      "application/javascript": [
       "\n",
       "            setTimeout(function() {\n",
       "                var nbb_cell_id = 3;\n",
       "                var nbb_unformatted_code = \"attack_objects = seq(enterprise_attack.get(\\\"objects\\\")).cache()\\n\\n# get attack pattern from objects\\nattack_patterns = attack_objects.filter(\\n    lambda attack_object: attack_object.get(\\\"id\\\").startswith(\\\"attack-pattern\\\")\\n).cache()\\n\\nattack_patterns.take(1)\";\n",
       "                var nbb_formatted_code = \"attack_objects = seq(enterprise_attack.get(\\\"objects\\\")).cache()\\n\\n# get attack pattern from objects\\nattack_patterns = attack_objects.filter(\\n    lambda attack_object: attack_object.get(\\\"id\\\").startswith(\\\"attack-pattern\\\")\\n).cache()\\n\\nattack_patterns.take(1)\";\n",
       "                var nbb_cells = Jupyter.notebook.get_cells();\n",
       "                for (var i = 0; i < nbb_cells.length; ++i) {\n",
       "                    if (nbb_cells[i].input_prompt_number == nbb_cell_id) {\n",
       "                        if (nbb_cells[i].get_text() == nbb_unformatted_code) {\n",
       "                             nbb_cells[i].set_text(nbb_formatted_code);\n",
       "                        }\n",
       "                        break;\n",
       "                    }\n",
       "                }\n",
       "            }, 500);\n",
       "            "
      ],
      "text/plain": [
       "<IPython.core.display.Javascript object>"
      ]
     },
     "metadata": {},
     "output_type": "display_data"
    }
   ],
   "source": [
    "attack_objects = seq(enterprise_attack.get(\"objects\")).cache()\n",
    "\n",
    "# get attack pattern from objects\n",
    "attack_patterns = attack_objects.filter(\n",
    "    lambda attack_object: attack_object.get(\"id\").startswith(\"attack-pattern\")\n",
    ").cache()\n",
    "\n",
    "attack_patterns.take(1)"
   ]
  },
  {
   "cell_type": "code",
   "execution_count": 4,
   "metadata": {
    "ExecuteTime": {
     "end_time": "2021-07-09T10:03:37.722682Z",
     "start_time": "2021-07-09T10:03:37.640729Z"
    }
   },
   "outputs": [
    {
     "data": {
      "text/html": [
       "<table>\n",
       "<tbody>\n",
       "<tr><td>attack-pattern--d0b4fcdb-d67d-4ed2-99ce-788b12f8c0f4</td><td>T1003.008</td></tr>\n",
       "<tr><td>attack-pattern--cabe189c-a0e3-4965-a473-dcff00f17213</td><td>T1557.002</td></tr>\n",
       "<tr><td>attack-pattern--3986e7fd-a8e9-4ecb-bfc6-55920855912b</td><td>T1558.004</td></tr>\n",
       "<tr><td>attack-pattern--67720091-eee3-4d2d-ae16-8264567f6f5b</td><td>T1548    </td></tr>\n",
       "<tr><td>attack-pattern--dcaa092b-7de9-4a21-977f-7fcb77e89c48</td><td>T1134    </td></tr>\n",
       "<tr><td>attack-pattern--9b99b83a-1aac-4e29-b975-b374950551a3</td><td>T1015    </td></tr>\n",
       "<tr><td>attack-pattern--70e52b04-2a0c-4cea-9d18-7149f1df9dc5</td><td>T1546.008</td></tr>\n",
       "<tr><td>attack-pattern--b24e2a20-3b3d-4bf0-823b-1ed765398fb0</td><td>T1531    </td></tr>\n",
       "<tr><td>attack-pattern--72b74d71-8169-42aa-92e0-e7b04b9f5a08</td><td>T1087    </td></tr>\n",
       "<tr><td>attack-pattern--a10641f4-87b4-45a3-a906-92a149cb2c27</td><td>T1098    </td></tr>\n",
       "</tbody>\n",
       "</table><p>Showing 10 of 692 rows"
      ],
      "text/plain": [
       "[('attack-pattern--d0b4fcdb-d67d-4ed2-99ce-788b12f8c0f4', 'T1003.008'), ('attack-pattern--cabe189c-a0e3-4965-a473-dcff00f17213', 'T1557.002'), ('attack-pattern--3986e7fd-a8e9-4ecb-bfc6-55920855912b', 'T1558.004'), ('attack-pattern--67720091-eee3-4d2d-ae16-8264567f6f5b', 'T1548'), ('attack-pattern--dcaa092b-7de9-4a21-977f-7fcb77e89c48', 'T1134'), ('attack-pattern--9b99b83a-1aac-4e29-b975-b374950551a3', 'T1015'), ('attack-pattern--70e52b04-2a0c-4cea-9d18-7149f1df9dc5', 'T1546.008'), ('attack-pattern--b24e2a20-3b3d-4bf0-823b-1ed765398fb0', 'T1531'), ('attack-pattern--72b74d71-8169-42aa-92e0-e7b04b9f5a08', 'T1087'), ('attack-pattern--a10641f4-87b4-45a3-a906-92a149cb2c27', 'T1098'), ('attack-pattern--0458aab9-ad42-4eac-9e22-706a95bafee2', 'T1583'), ('attack-pattern--67073dde-d720-45ae-83da-b12d5e73ca3b', 'T1595'), ('attack-pattern--22522668-ddf6-470b-a027-9d6866679f67', 'T1547.014'), ('attack-pattern--2dbbdcd5-92cf-44c0-aea2-fe24783a6bc3', 'T1098.003'), ('attack-pattern--34f1d81d-fe88-4f97-bd3b-a3164536255d', 'T1137.006'), ('attack-pattern--8a2f40cf-8325-47f9-96e4-b1ca4c7389bd', 'T1098.001'), ('attack-pattern--4bf5845d-a814-4490-bc5c-ccdee6043025', 'T1182'), ('attack-pattern--7d57b371-10c2-45e5-b3cc-83a8fb380e4c', 'T1546.009'), ('attack-pattern--317fefa6-46c7-4062-adb6-2008cf6bcb41', 'T1103'), ('attack-pattern--cc89ecbd-3d33-4a41-bcca-001e702d18fd', 'T1546.010'), ('attack-pattern--5ad95aaa-49c1-4784-821d-2e83f47b079b', 'T1155'), ('attack-pattern--37b11151-1776-4f8f-b328-30939fbf2ceb', 'T1059.002'), ('attack-pattern--27960489-4e7f-461d-a62a-f5c0cb521e4a', 'T1527'), ('attack-pattern--f005e783-57d4-4837-88ad-dbe7faee1c51', 'T1550.001'), ('attack-pattern--327f3cc5-eea1-42d4-a6cd-ed34b7ce8f61', 'T1017'), ('attack-pattern--18cffc21-3260-437e-80e4-4ab8bf2ba5e9', 'T1499.003'), ('attack-pattern--355be19c-ffc9-46d5-8d50-d6a036c675b6', 'T1071'), ('attack-pattern--7c93aa74-4bc0-4a9e-90ea-f25f86301566', 'T1138'), ('attack-pattern--42fe883a-21ea-4cfb-b94a-78b6476dcc83', 'T1546.011'), ('attack-pattern--4ae4f953-fe58-4cc8-a327-33257e30a830', 'T1010'), ('attack-pattern--2bee5ffb-7a7a-4119-b1f2-158151b19ac0', 'T1499.004'), ('attack-pattern--53ac20cd-aca3-406e-9aa0-9fc7fdc60a5a', 'T1560'), ('attack-pattern--143c0cbb-a297-4142-9624-87ffc778980b', 'T1560.003'), ('attack-pattern--41868330-6ee2-4d0f-b743-9f2294c3c9b6', 'T1560.002'), ('attack-pattern--00f90846-cbd1-4fc5-9233-df5c2bf2a662', 'T1560.001'), ('attack-pattern--bf176076-b789-408e-8cba-7275e81c0ada', 'T1573.002'), ('attack-pattern--7c0f17c9-1af6-4628-9cbd-9e45482dd605', 'T1055.004'), ('attack-pattern--6636bc83-0611-45a6-b74f-1f3daf635b8e', 'T1053.001'), ('attack-pattern--f3d95a1f-bba2-44ce-9af7-37866cd63fd0', 'T1053.002'), ('attack-pattern--1035cdf2-3e5f-446f-a7a7-e8f6d7925967', 'T1123'), ('attack-pattern--52d40641-c480-4ad5-81a3-c80ccaddf82d', 'T1131'), ('attack-pattern--b8cfed42-6a8a-4989-ad72-541af74475ec', 'T1547.002'), ('attack-pattern--30208d3e-0d6b-43c8-883e-44462a514619', 'T1119'), ('attack-pattern--774a3188-6ba9-4dc4-879d-d54ee48a5ce9', 'T1020'), ('attack-pattern--c8e87b83-edbb-48d4-9295-4974897525b7', 'T1197'), ('attack-pattern--44dca04b-808d-46ca-b25f-d85236d4b9f8', 'T1139'), ('attack-pattern--8187bd2a-866f-4457-9009-86b0ddedffa3', 'T1552.003'), ('attack-pattern--be055942-6e63-49d7-9fa1-9cb7d8a8f3f4', 'T1102.002'), ('attack-pattern--519630c5-f03f-4882-825c-3af924935817', 'T1009'), ('attack-pattern--5bfccc3f-2326-4112-86cc-c1ece9d8a2b5', 'T1027.001'), ('attack-pattern--1ecb2399-e8ba-4f6b-8ba7-5c27d49405cf', 'T1547'), ('attack-pattern--03259939-0b57-482f-8eb5-87c0e0d54334', 'T1037'), ('attack-pattern--02fefddc-fb1b-423f-a76b-7552dd211d4d', 'T1067'), ('attack-pattern--1b7b1806-7746-41a1-a35d-e48dae25ddba', 'T1542.003'), ('attack-pattern--31225cd3-cd46-4575-b287-c2c14011c074', 'T1583.005'), ('attack-pattern--810d8072-afb6-4a56-9ee7-86379ac4a6f3', 'T1584.005'), ('attack-pattern--5e4a2073-9643-44cb-a0b5-e7f4048446c7', 'T1217'), ('attack-pattern--389735f1-f21c-4208-b8f0-f8031e7169b8', 'T1176'), ('attack-pattern--a93494bb-4b80-4ea1-8695-3236a49916fd', 'T1110'), ('attack-pattern--800f9819-7007-4540-a520-40e655876800', 'T1612'), ('attack-pattern--6ee2dc99-91ad-4534-a7d8-a649358c331f', 'T1591.002'), ('attack-pattern--ca1a3f50-5ebd-41f8-8320-2c7d6a6e88be', 'T1088'), ('attack-pattern--120d5519-3098-4e1c-9191-2aa61232f073', 'T1548.002'), ('attack-pattern--91177e6d-b616-4a03-ba4b-f3b32f7dda75', 'T1596.004'), ('attack-pattern--7d6f590f-544b-45b4-9a42-e0805f342af3', 'T1191'), ('attack-pattern--4cbc6a62-9e34-4f94-8a19-5c1a11392a49', 'T1218.003'), ('attack-pattern--ffeb0780-356e-4261-b036-cfb6bd234335', 'T1574.012'), ('attack-pattern--6add2ab5-2711-4e9d-87c8-7a0be8531530', 'T1003.005'), ('attack-pattern--68c96494-1a50-403e-8844-69a6af278c68', 'T1042'), ('attack-pattern--98034fef-d9fb-4667-8dc4-2eab6231724c', 'T1546.001'), ('attack-pattern--d3046a90-580c-4004-8208-66915bc29830', 'T1146'), ('attack-pattern--3aef9463-9a7a-43ba-8957-a867e07c1e6a', 'T1070.003'), ('attack-pattern--2bce5b30-7014-4a5d-ade7-12913fe6ac36', 'T1070.002'), ('attack-pattern--6495ae23-3ab4-43c5-a94f-5638a2c31fd2', 'T1070.001'), ('attack-pattern--774ad5bb-2366-4c13-a8a9-65e50b292e7c', 'T1592.004'), ('attack-pattern--30973a08-aed9-4edf-8604-9084ce1b5c4f', 'T1115'), ('attack-pattern--a009cb25-4801-4116-9105-80a91cf15c1b', 'T1136.003'), ('attack-pattern--8f104855-e5b7-4077-b1f5-bc3103b41abe', 'T1087.004'), ('attack-pattern--f232fa7a-025c-4d43-abc7-318e81a73d65', 'T1078.004'), ('attack-pattern--16e94db9-b5b1-4cd0-b851-f38fbd0a70f2', 'T1069.003'), ('attack-pattern--57a3d31a-d04f-4663-b2da-7df8ec3f8c9d', 'T1580'), ('attack-pattern--1c2fd73a-e634-44ed-b1b5-9e7cf7404e9f', 'T1522'), ('attack-pattern--19bf235b-8620-4997-b5b4-94e0659ed7c3', 'T1552.005'), ('attack-pattern--e49920b0-6c54-40c1-9571-73723653205f', 'T1538'), ('attack-pattern--e24fcba8-2557-4442-a139-1ee2f2e784db', 'T1526'), ('attack-pattern--1b84d551-6de8-4b96-9930-d177677c3b1d', 'T1116'), ('attack-pattern--32901740-b42c-4fdd-bc02-345b5dc57082', 'T1553.002'), ('attack-pattern--34b3f738-bd64-40e5-a112-29b0542bc8bf', 'T1587.002'), ('attack-pattern--e7cbc1de-1f79-48ee-abfd-da1241c65a15', 'T1588.003'), ('attack-pattern--565275d5-fcc3-4b66-b4e7-928e4cac6b8c', 'T1553.006'), ('attack-pattern--7385dfaf-6886-4229-9ecd-6fd678040830', 'T1059'), ('attack-pattern--f879d51c-5476-431c-aedf-f14d207e4d1e', 'T1043'), ('attack-pattern--64196062-5210-42c3-9a02-563a0d1797ef', 'T1092'), ('attack-pattern--cf7b3a06-8b42-4c33-bbe9-012120027925', 'T1500'), ('attack-pattern--c726e0a2-a57a-4b7b-a973-d0f013246617', 'T1027.004'), ('attack-pattern--d21a2069-23d5-4043-ad6d-64f6b644cb1a', 'T1223'), ('attack-pattern--a6937325-9321-4e2e-bb2b-3ed2d40b2a9d', 'T1218.001'), ('attack-pattern--10d5f3b7-6be6-4da5-9a77-0f1e2bbfcc44', 'T1109'), ('attack-pattern--791481f8-e96a-41be-b089-a088763083d4', 'T1542.002'), ('attack-pattern--2f6b4ed7-fef1-44ba-bcb8-1b4beb610b64', 'T1559.001'), ...]"
      ]
     },
     "execution_count": 4,
     "metadata": {},
     "output_type": "execute_result"
    },
    {
     "data": {
      "application/javascript": [
       "\n",
       "            setTimeout(function() {\n",
       "                var nbb_cell_id = 4;\n",
       "                var nbb_unformatted_code = \"attack_pattern_technique_ids = attack_patterns.map(\\n    lambda attack_pattern: (\\n        attack_pattern.get(\\\"id\\\"),\\n        seq(attack_pattern.get(\\\"external_references\\\"))\\n        .filter(lambda ref: ref.get(\\\"source_name\\\") == \\\"mitre-attack\\\")\\n        .map(lambda ref: ref.get(\\\"external_id\\\"))\\n        .make_string(\\\"\\\"),\\n    )\\n).cache()\\n\\nattack_pattern_technique_ids\";\n",
       "                var nbb_formatted_code = \"attack_pattern_technique_ids = attack_patterns.map(\\n    lambda attack_pattern: (\\n        attack_pattern.get(\\\"id\\\"),\\n        seq(attack_pattern.get(\\\"external_references\\\"))\\n        .filter(lambda ref: ref.get(\\\"source_name\\\") == \\\"mitre-attack\\\")\\n        .map(lambda ref: ref.get(\\\"external_id\\\"))\\n        .make_string(\\\"\\\"),\\n    )\\n).cache()\\n\\nattack_pattern_technique_ids\";\n",
       "                var nbb_cells = Jupyter.notebook.get_cells();\n",
       "                for (var i = 0; i < nbb_cells.length; ++i) {\n",
       "                    if (nbb_cells[i].input_prompt_number == nbb_cell_id) {\n",
       "                        if (nbb_cells[i].get_text() == nbb_unformatted_code) {\n",
       "                             nbb_cells[i].set_text(nbb_formatted_code);\n",
       "                        }\n",
       "                        break;\n",
       "                    }\n",
       "                }\n",
       "            }, 500);\n",
       "            "
      ],
      "text/plain": [
       "<IPython.core.display.Javascript object>"
      ]
     },
     "metadata": {},
     "output_type": "display_data"
    }
   ],
   "source": [
    "attack_pattern_technique_ids = attack_patterns.map(\n",
    "    lambda attack_pattern: (\n",
    "        attack_pattern.get(\"id\"),\n",
    "        seq(attack_pattern.get(\"external_references\"))\n",
    "        .filter(lambda ref: ref.get(\"source_name\") == \"mitre-attack\")\n",
    "        .map(lambda ref: ref.get(\"external_id\"))\n",
    "        .make_string(\"\"),\n",
    "    )\n",
    ").cache()\n",
    "\n",
    "attack_pattern_technique_ids"
   ]
  },
  {
   "cell_type": "code",
   "execution_count": 5,
   "metadata": {
    "ExecuteTime": {
     "end_time": "2021-07-09T10:03:37.827501Z",
     "start_time": "2021-07-09T10:03:37.735264Z"
    }
   },
   "outputs": [
    {
     "data": {
      "text/html": [
       "<table>\n",
       "<tbody>\n",
       "<tr><td>attack-pattern--ca1a3f50-5ebd-41f8-8320-2c7d6a6e88be</td><td>[None, &#x27;Remove users from the local administrator group on systems.&#x27;, &#x27;Although UAC bypass techniques exist, it is still prudent to use the highest enforcement level for UAC when possible and mitigate bypass opportunities that exist with techniques such as [DLL Search Order Hijacking](https://attack.mitre.org/techniques/T1038).&#x27;, &#x27;Check for common UAC bypass weaknesses on Windows systems to be aware of the risk posture and address issues where appropriate. (Citation: Github UACMe)&#x27;]</td></tr>\n",
       "</tbody>\n",
       "</table>"
      ],
      "text/plain": [
       "[('attack-pattern--ca1a3f50-5ebd-41f8-8320-2c7d6a6e88be', [None, 'Remove users from the local administrator group on systems.', 'Although UAC bypass techniques exist, it is still prudent to use the highest enforcement level for UAC when possible and mitigate bypass opportunities that exist with techniques such as [DLL Search Order Hijacking](https://attack.mitre.org/techniques/T1038).', 'Check for common UAC bypass weaknesses on Windows systems to be aware of the risk posture and address issues where appropriate. (Citation: Github UACMe)'])]"
      ]
     },
     "execution_count": 5,
     "metadata": {},
     "output_type": "execute_result"
    },
    {
     "data": {
      "application/javascript": [
       "\n",
       "            setTimeout(function() {\n",
       "                var nbb_cell_id = 5;\n",
       "                var nbb_unformatted_code = \"attack_pattern_procedures = (\\n    attack_objects.filter_not(\\n        lambda attack_object: attack_object.get(\\\"id\\\").startswith(\\\"attack-pattern\\\")\\n    )\\n    .group_by(lambda attack_object: attack_object.get(\\\"target_ref\\\"))\\n    .starmap(\\n        lambda target_ref, attack_objects: (\\n            target_ref,\\n            seq(attack_objects).map(\\n                lambda attack_object: attack_object.get(\\\"description\\\")\\n            ),\\n        )\\n    )\\n    .filter_not(lambda kv: kv[0] == None)\\n    .filter(lambda kv: kv[0].startswith(\\\"attack-pattern\\\"))\\n    .cache()\\n)\\n\\nattack_pattern_procedures.take(1)\";\n",
       "                var nbb_formatted_code = \"attack_pattern_procedures = (\\n    attack_objects.filter_not(\\n        lambda attack_object: attack_object.get(\\\"id\\\").startswith(\\\"attack-pattern\\\")\\n    )\\n    .group_by(lambda attack_object: attack_object.get(\\\"target_ref\\\"))\\n    .starmap(\\n        lambda target_ref, attack_objects: (\\n            target_ref,\\n            seq(attack_objects).map(\\n                lambda attack_object: attack_object.get(\\\"description\\\")\\n            ),\\n        )\\n    )\\n    .filter_not(lambda kv: kv[0] == None)\\n    .filter(lambda kv: kv[0].startswith(\\\"attack-pattern\\\"))\\n    .cache()\\n)\\n\\nattack_pattern_procedures.take(1)\";\n",
       "                var nbb_cells = Jupyter.notebook.get_cells();\n",
       "                for (var i = 0; i < nbb_cells.length; ++i) {\n",
       "                    if (nbb_cells[i].input_prompt_number == nbb_cell_id) {\n",
       "                        if (nbb_cells[i].get_text() == nbb_unformatted_code) {\n",
       "                             nbb_cells[i].set_text(nbb_formatted_code);\n",
       "                        }\n",
       "                        break;\n",
       "                    }\n",
       "                }\n",
       "            }, 500);\n",
       "            "
      ],
      "text/plain": [
       "<IPython.core.display.Javascript object>"
      ]
     },
     "metadata": {},
     "output_type": "display_data"
    }
   ],
   "source": [
    "attack_pattern_procedures = (\n",
    "    attack_objects.filter_not(\n",
    "        lambda attack_object: attack_object.get(\"id\").startswith(\"attack-pattern\")\n",
    "    )\n",
    "    .group_by(lambda attack_object: attack_object.get(\"target_ref\"))\n",
    "    .starmap(\n",
    "        lambda target_ref, attack_objects: (\n",
    "            target_ref,\n",
    "            seq(attack_objects).map(\n",
    "                lambda attack_object: attack_object.get(\"description\")\n",
    "            ),\n",
    "        )\n",
    "    )\n",
    "    .filter_not(lambda kv: kv[0] == None)\n",
    "    .filter(lambda kv: kv[0].startswith(\"attack-pattern\"))\n",
    "    .cache()\n",
    ")\n",
    "\n",
    "attack_pattern_procedures.take(1)"
   ]
  },
  {
   "cell_type": "code",
   "execution_count": 6,
   "metadata": {
    "ExecuteTime": {
     "end_time": "2021-07-09T10:03:37.912439Z",
     "start_time": "2021-07-09T10:03:37.836568Z"
    }
   },
   "outputs": [
    {
     "data": {
      "text/html": [
       "<table>\n",
       "<tbody>\n",
       "<tr><td>T1001    </td><td>The [Axiom](https://attack.mitre.org/groups/G0001) group has used other forms of obfuscation, include commingling legitimate traffic with communications traffic so that network streams appear legitimate.                                                                                                                                                                           </td></tr>\n",
       "<tr><td>T1001    </td><td>[FlawedAmmyy](https://attack.mitre.org/software/S0381) may obfuscate portions of the initial C2 handshake.(Citation: Proofpoint TA505 Mar 2018)                                                                                                                                                                                                                                       </td></tr>\n",
       "<tr><td>T1001    </td><td>Network intrusion detection and prevention systems that use network signatures to identify traffic for specific adversary malware can be used to mitigate some obfuscation activity at the network level.                                                                                                                                                                             </td></tr>\n",
       "<tr><td>T1001    </td><td>[RDAT](https://attack.mitre.org/software/S0495) has used encoded data within subdomains as AES ciphertext to communicate from the host to the C2.(Citation: Unit42 RDAT July 2020)                                                                                                                                                                                                    </td></tr>\n",
       "<tr><td>T1001    </td><td>[Operation Wocao](https://attack.mitre.org/groups/G0116) has encrypted IP addresses used for &quot;Agent&quot; proxy hops with RC4.(Citation: FoxIT Wocao December 2019)                                                                                                                                                                                                                        </td></tr>\n",
       "<tr><td>T1001    </td><td>[SLOTHFULMEDIA](https://attack.mitre.org/software/S0533) has hashed a string containing system information prior to exfiltration via POST requests.(Citation: CISA MAR SLOTHFULMEDIA October 2020)                                                                                                                                                                                    </td></tr>\n",
       "<tr><td>T1001.001</td><td>[APT28](https://attack.mitre.org/groups/G0007) added &quot;junk data&quot; to each encoded string, preventing trivial decoding without knowledge of the junk removal algorithm. Each implant was given a &quot;junk length&quot; value when created, tracked by the controller software to allow seamless communication but prevent analysis of the command protocol on the wire.(Citation: FireEye APT28)</td></tr>\n",
       "<tr><td>T1001.001</td><td>[Downdelph](https://attack.mitre.org/software/S0134) inserts pseudo-random characters between each original character during encoding of C2 network requests, making it difficult to write signatures on them.(Citation: ESET Sednit Part 3)                                                                                                                                          </td></tr>\n",
       "<tr><td>T1001.001</td><td>[P2P ZeuS](https://attack.mitre.org/software/S0016) added junk data to outgoing UDP packets to peer implants.(Citation: Dell P2P ZeuS)                                                                                                                                                                                                                                                </td></tr>\n",
       "<tr><td>T1001.001</td><td>Network intrusion detection and prevention systems that use network signatures to identify traffic for specific adversary malware can be used to mitigate some obfuscation activity at the network level.                                                                                                                                                                             </td></tr>\n",
       "</tbody>\n",
       "</table><p>Showing 10 of 9592 rows"
      ],
      "text/plain": [
       "[('T1001', 'The [Axiom](https://attack.mitre.org/groups/G0001) group has used other forms of obfuscation, include commingling legitimate traffic with communications traffic so that network streams appear legitimate.'), ('T1001', '[FlawedAmmyy](https://attack.mitre.org/software/S0381) may obfuscate portions of the initial C2 handshake.(Citation: Proofpoint TA505 Mar 2018)'), ('T1001', 'Network intrusion detection and prevention systems that use network signatures to identify traffic for specific adversary malware can be used to mitigate some obfuscation activity at the network level.'), ('T1001', '[RDAT](https://attack.mitre.org/software/S0495) has used encoded data within subdomains as AES ciphertext to communicate from the host to the C2.(Citation: Unit42 RDAT July 2020)'), ('T1001', '[Operation Wocao](https://attack.mitre.org/groups/G0116) has encrypted IP addresses used for \"Agent\" proxy hops with RC4.(Citation: FoxIT Wocao December 2019)'), ('T1001', '[SLOTHFULMEDIA](https://attack.mitre.org/software/S0533) has hashed a string containing system information prior to exfiltration via POST requests.(Citation: CISA MAR SLOTHFULMEDIA October 2020)'), ('T1001.001', '[APT28](https://attack.mitre.org/groups/G0007) added \"junk data\" to each encoded string, preventing trivial decoding without knowledge of the junk removal algorithm. Each implant was given a \"junk length\" value when created, tracked by the controller software to allow seamless communication but prevent analysis of the command protocol on the wire.(Citation: FireEye APT28)'), ('T1001.001', '[Downdelph](https://attack.mitre.org/software/S0134) inserts pseudo-random characters between each original character during encoding of C2 network requests, making it difficult to write signatures on them.(Citation: ESET Sednit Part 3)'), ('T1001.001', '[P2P ZeuS](https://attack.mitre.org/software/S0016) added junk data to outgoing UDP packets to peer implants.(Citation: Dell P2P ZeuS)'), ('T1001.001', 'Network intrusion detection and prevention systems that use network signatures to identify traffic for specific adversary malware can be used to mitigate some obfuscation activity at the network level. '), ('T1001.001', '[PLEAD](https://attack.mitre.org/software/S0435) samples were found to be highly obfuscated with junk code.(Citation: ESET PLEAD Malware July 2018)'), ('T1001.001', '[WellMess](https://attack.mitre.org/software/S0514) can use junk data in the Base64 string for additional obfuscation.(Citation: CISA WellMess July 2020)'), ('T1001.001', '[SUNBURST](https://attack.mitre.org/software/S0559) added junk bytes to its C2 over HTTP.(Citation: FireEye SUNBURST Backdoor December 2020)'), ('T1001.001', '[GoldMax](https://attack.mitre.org/software/S0588) has used decoy traffic to surround its malicious network traffic to avoid detection.(Citation: MSTIC NOBELIUM Mar 2021)'), ('T1001.001', '[BendyBear](https://attack.mitre.org/software/S0574) has used byte randomization to obscure its behavior.(Citation: Unit42 BendyBear Feb 2021)'), ('T1001.002', '[Daserf](https://attack.mitre.org/software/S0187) can use steganography to hide malicious code downloaded to the victim.(Citation: Trend Micro Daserf Nov 2017)'), ('T1001.002', '[HAMMERTOSS](https://attack.mitre.org/software/S0037) is controlled via commands that are appended to image files.(Citation: FireEye APT29)'), ('T1001.002', 'When the [Duqu](https://attack.mitre.org/software/S0038) command and control is operating over HTTP or HTTPS, Duqu uploads data to its controller by appending it to a blank JPG file.(Citation: Symantec W32.Duqu)'), ('T1001.002', '[ZeroT](https://attack.mitre.org/software/S0230) has retrieved stage 2 payloads as Bitmap images that use Least Significant Bit (LSB) steganography.(Citation: Proofpoint TA459 April 2017)(Citation: Proofpoint ZeroT Feb 2017)'), ('T1001.002', '[LightNeuron](https://attack.mitre.org/software/S0395) is controlled via commands that are embedded into PDFs and JPGs using steganographic methods.(Citation: ESET LightNeuron May 2019)'), ('T1001.002', 'Network intrusion detection and prevention systems that use network signatures to identify traffic for specific adversary malware can be used to mitigate some obfuscation activity at the network level. '), ('T1001.002', 'Some malware that has been used by [Axiom](https://attack.mitre.org/groups/G0001) also uses steganography to hide communication in PNG image files.(Citation: Novetta-Axiom)'), ('T1001.002', '[RDAT](https://attack.mitre.org/software/S0495) can process steganographic images attached to email messages to send and receive C2 commands. [RDAT](https://attack.mitre.org/software/S0495) can also embed additional messages within BMP images to communicate with the [RDAT](https://attack.mitre.org/software/S0495) operator.(Citation: Unit42 RDAT July 2020)\\t'), ('T1001.002', '[APT29](https://attack.mitre.org/groups/G0016) has used steganography to hide C2 communications in images.(Citation: ESET Dukes October 2019)'), ('T1001.002', '[SUNBURST](https://attack.mitre.org/software/S0559) C2 data attempted to appear as benign XML related to .NET assemblies or as a faux JSON blob.(Citation: FireEye SUNBURST Backdoor December 2020)(Citation: FireEye SUNBURST Additional Details Dec 2020)(Citation: Symantec Sunburst Sending Data January 2021)'), ('T1001.003', '[HARDRAIN](https://attack.mitre.org/software/S0246) uses FakeTLS to communicate with its C2 server.(Citation: US-CERT HARDRAIN March 2018)'), ('T1001.003', '[FakeM](https://attack.mitre.org/software/S0076) C2 traffic attempts to evade detection by resembling data generated by legitimate messenger applications, such as MSN and Yahoo! messengers. Additionally, some variants of [FakeM](https://attack.mitre.org/software/S0076) use modified SSL code for communications back to C2 servers, making SSL decryption ineffective.(Citation: Scarlet Mimic Jan 2016)'), ('T1001.003', '[Bankshot](https://attack.mitre.org/software/S0239) generates a false TLS handshake using a public certificate to disguise C2 network communications.(Citation: US-CERT Bankshot Dec 2017)'), ('T1001.003', '[KeyBoy](https://attack.mitre.org/software/S0387) uses custom SSL libraries to impersonate SSL in C2 traffic.(Citation: PWC KeyBoys Feb 2017)'), ('T1001.003', 'Network intrusion detection and prevention systems that use network signatures to identify traffic for specific adversary malware can be used to mitigate some obfuscation activity at the network level.'), ('T1001.003', '[BADCALL](https://attack.mitre.org/software/S0245) uses a FakeTLS method during C2.(Citation: US-CERT BADCALL)'), ('T1001.003', '[FALLCHILL](https://attack.mitre.org/software/S0181) uses fake Transport Layer Security (TLS) to communicate with its C2 server.(Citation: US-CERT FALLCHILL Nov 2017)'), ('T1001.003', '[Lazarus Group](https://attack.mitre.org/groups/G0032) malware also uses a unique form of communication encryption known as FakeTLS that mimics TLS but uses a different encryption method, evading SSL man-in-the-middle decryption attacks.(Citation: Novetta Blockbuster)(Citation: Novetta Blockbuster Destructive Malware)(Citation: McAfee Lazarus Resurfaces Feb 2018)(Citation: McAfee GhostSecret)'), ('T1001.003', '[Okrum](https://attack.mitre.org/software/S0439) mimics HTTP protocol for C2 communication, while hiding the actual messages in the Cookie and Set-Cookie headers of the HTTP requests.(Citation: ESET Okrum July 2019)'), ('T1001.003', '[InvisiMole](https://attack.mitre.org/software/S0260) can mimic HTTP protocol with custom HTTP “verbs” HIDE, ZVVP, and NOP.(Citation: ESET InvisiMole June 2018)(Citation: ESET InvisiMole June 2020)'), ('T1001.003', '[SUNBURST](https://attack.mitre.org/software/S0559) masqueraded its network traffic as the Orion Improvement Program (OIP) protocol.(Citation: FireEye SUNBURST Backdoor December 2020)'), ('T1001.003', '[TAINTEDSCRIBE](https://attack.mitre.org/software/S0586) has used FakeTLS for session authentication.(Citation: CISA MAR-10288834-2.v1  TAINTEDSCRIBE MAY 2020)'), ('T1001.003', '[Higaisa](https://attack.mitre.org/groups/G0126) used a FakeTLS session for C2 communications.(Citation: Zscaler Higaisa 2020)'), ('T1002', 'Network intrusion prevention or data loss prevention tools may be set to block specific file types from leaving the network over unencrypted channels. An adversary may move to an encrypted channel or use other mechanisms of encapsulating the traffic in these situations.'), ('T1003', '[Sowbug](https://attack.mitre.org/groups/G0054) has used credential dumping tools.(Citation: Symantec Sowbug Nov 2017)'), ('T1003', '[Axiom](https://attack.mitre.org/groups/G0001) has been known to dump credentials.(Citation: Novetta-Axiom)'), ('T1003', '[HOMEFRY](https://attack.mitre.org/software/S0232) can perform credential dumping.(Citation: FireEye Periscope March 2018)'), ('T1003', '[Carbanak](https://attack.mitre.org/software/S0030) obtains Windows logon password details.(Citation: FireEye CARBANAK June 2017)'), ('T1003', '[Poseidon Group](https://attack.mitre.org/groups/G0033) conducts credential dumping on victims, with a focus on obtaining credentials belonging to domain and database servers.(Citation: Kaspersky Poseidon Group)'), ('T1003', '[Trojan.Karagany](https://attack.mitre.org/software/S0094) can dump passwords and save them into <code>\\\\ProgramData\\\\Mail\\\\MailAg\\\\pwds.txt</code>.(Citation: Symantec Dragonfly)'), ('T1003', \"[PinchDuke](https://attack.mitre.org/software/S0048) steals credentials from compromised hosts. [PinchDuke](https://attack.mitre.org/software/S0048)'s credential stealing functionality is believed to be based on the source code of the Pinch credential stealing malware (also known as LdPinch). Credentials targeted by [PinchDuke](https://attack.mitre.org/software/S0048) include ones associated many sources such as WinInet Credential Cache, and Lightweight Directory Access Protocol (LDAP).(Citation: F-Secure The Dukes)\"), ('T1003', '[OnionDuke](https://attack.mitre.org/software/S0052) steals credentials from its victims.(Citation: F-Secure The Dukes)'), ('T1003', '[Suckfly](https://attack.mitre.org/groups/G0039) used a signed credential-dumping tool to obtain victim account credentials.(Citation: Symantec Suckfly May 2016)'), ('T1003', '[Leviathan](https://attack.mitre.org/groups/G0065) has used publicly available tools to dump password hashes, including [HOMEFRY](https://attack.mitre.org/software/S0232). (Citation: FireEye APT40 March 2019)'), ('T1003', '[Revenge RAT](https://attack.mitre.org/software/S0379) has a plugin for credential harvesting.(Citation: Cylance Shaheen Nov 2018)'), ('T1003', 'Windows:\\nDo not put user or admin domain accounts in the local administrator groups across systems unless they are tightly controlled, as this is often equivalent to having a local administrator account with the same password on all systems. Follow best practices for design and administration of an enterprise network to limit privileged account use across administrative tiers.(Citation: Microsoft Securing Privileged Access)\\n\\nLinux:\\nScraping the passwords from memory requires root privileges. Follow best practices in restricting access to privileged accounts to avoid hostile programs from accessing such sensitive regions of memory.'), ('T1003', 'Ensure that local administrator accounts have complex, unique passwords across all systems on the network.'), ('T1003', 'With Windows 10, Microsoft implemented new protections called Credential Guard to protect the LSA secrets that can be used to obtain credentials through forms of credential dumping. It is not configured by default and has hardware and firmware system requirements. (Citation: TechNet Credential Guard) It also does not protect against all forms of credential dumping. (Citation: GitHub SHB Credential Guard)'), ('T1003', 'Limit credential overlap across accounts and systems by training users and administrators not to use the same password for multiple accounts.'), ('T1003', '\\nManage the access control list for “Replicating Directory Changes” and other permissions associated with domain controller replication. (Citation: AdSecurity DCSync Sept 2015) (Citation: Microsoft Replication ACL) Consider adding users to the \"Protected Users\" Active Directory security group. This can help limit the caching of users\\' plaintext credentials.(Citation: Microsoft Protected Users Security Group)'), ('T1003', '\\nOn Windows 8.1 and Windows Server 2012 R2, enable Protected Process Light for LSA.(Citation: Microsoft LSA)'), ('T1003', '\\nConsider disabling or restricting NTLM.(Citation: Microsoft Disable NTLM Nov 2012) Consider disabling WDigest authentication.(Citation: Microsoft WDigest Mit)'), ('T1003', '[APT28](https://attack.mitre.org/groups/G0007) regularly deploys both publicly available (ex: [Mimikatz](https://attack.mitre.org/software/S0002)) and custom password retrieval tools on victims.(Citation: ESET Sednit Part 2)(Citation: DOJ GRU Indictment Jul 2018)(Citation: US District Court Indictment GRU Oct 2018)\\t'), ('T1003', '[APT32](https://attack.mitre.org/groups/G0050) used GetPassword_x64 to harvest credentials.(Citation: Cybereason Oceanlotus May 2017)(Citation: Cybereason Cobalt Kitty 2017)'), ('T1003', 'Ensure Domain Controller backups are properly secured.'), ('T1003', \"[Frankenstein](https://attack.mitre.org/groups/G0101) has harvested credentials from the victim's machine using [Empire](https://attack.mitre.org/software/S0363).(Citation: Talos Frankenstein June 2019)\"), ('T1003', '[APT39](https://attack.mitre.org/groups/G0087) has used different versions of Mimikatz to obtain credentials.(Citation: BitDefender Chafer May 2020)'), ('T1003.001', '[APT1](https://attack.mitre.org/groups/G0006) has been known to use credential dumping using [Mimikatz](https://attack.mitre.org/software/S0002).(Citation: Mandiant APT1)'), ('T1003.001', '[Leafminer](https://attack.mitre.org/groups/G0077) used several tools for retrieving login and password information, including LaZagne and Mimikatz.(Citation: Symantec Leafminer July 2018)'), ('T1003.001', '[MuddyWater](https://attack.mitre.org/groups/G0069) has performed credential dumping with [Mimikatz](https://attack.mitre.org/software/S0002) and procdump64.exe.(Citation: Unit 42 MuddyWater Nov 2017)(Citation: Symantec MuddyWater Dec 2018)(Citation: Trend Micro Muddy Water March 2021)'), ('T1003.001', '[Net Crawler](https://attack.mitre.org/software/S0056) uses credential dumpers such as [Mimikatz](https://attack.mitre.org/software/S0002) and [Windows Credential Editor](https://attack.mitre.org/software/S0005) to extract cached credentials from Windows systems.(Citation: Cylance Cleaver)'), ('T1003.001', '[Ke3chang](https://attack.mitre.org/groups/G0004) has dumped credentials, including by using [Mimikatz](https://attack.mitre.org/software/S0002).(Citation: Villeneuve et al 2014)(Citation: NCC Group APT15 Alive and Strong)'), ('T1003.001', '[LaZagne](https://attack.mitre.org/software/S0349) can perform credential dumping from memory to obtain account and password information.(Citation: GitHub LaZagne Dec 2018)'), ('T1003.001', '[PLATINUM](https://attack.mitre.org/groups/G0068) has used keyloggers that are also capable of dumping credentials.(Citation: Microsoft PLATINUM April 2016)'), ('T1003.001', '[BRONZE BUTLER](https://attack.mitre.org/groups/G0060) has used various tools (such as Mimikatz and WCE) to perform credential dumping.(Citation: Secureworks BRONZE BUTLER Oct 2017)'), ('T1003.001', '[Lslsass](https://attack.mitre.org/software/S0121) can dump active logon session password hashes from the lsass process.(Citation: Mandiant APT1)'), ('T1003.001', '[APT3](https://attack.mitre.org/groups/G0022) has used a tool to dump credentials by injecting itself into lsass.exe and triggering with the argument \"dig.\"(Citation: Symantec Buckeye)'), ('T1003.001', '[Daserf](https://attack.mitre.org/software/S0187) leverages [Mimikatz](https://attack.mitre.org/software/S0002) and [Windows Credential Editor](https://attack.mitre.org/software/S0005) to steal credentials.(Citation: Symantec Tick Apr 2016)'), ('T1003.001', '[Lazarus Group](https://attack.mitre.org/groups/G0032) leveraged [Mimikatz](https://attack.mitre.org/software/S0002) to extract Windows Credentials of currently logged-in users and steals passwords stored in browsers.(Citation: Lazarus KillDisk) [Lazarus Group](https://attack.mitre.org/groups/G0032) has also used a custom version [Mimikatz](https://attack.mitre.org/software/S0002) to capture credentials.(Citation: F-Secure Lazarus Cryptocurrency Aug 2020) '), ('T1003.001', '[FIN8](https://attack.mitre.org/groups/G0061) harvests credentials using Invoke-Mimikatz or Windows Credentials Editor (WCE).(Citation: FireEye Know Your Enemy FIN8 Aug 2016)'), ('T1003.001', '[APT28](https://attack.mitre.org/groups/G0007) regularly deploys both publicly available (ex: [Mimikatz](https://attack.mitre.org/software/S0002)) and custom password retrieval tools on victims.(Citation: ESET Sednit Part 2)(Citation: DOJ GRU Indictment Jul 2018)'), ('T1003.001', '[OilRig](https://attack.mitre.org/groups/G0049) has used credential dumping tools such as [Mimikatz](https://attack.mitre.org/software/S0002) to steal credentials to accounts logged into the compromised system and to Outlook Web Access.(Citation: Unit 42 Playbook Dec 2017)(Citation: FireEye APT34 Webinar Dec 2017)(Citation: FireEye APT35 2018)(Citation: FireEye APT34 July 2019)'), ('T1003.001', '[FIN6](https://attack.mitre.org/groups/G0037) has used [Windows Credential Editor](https://attack.mitre.org/software/S0005) for credential dumping.(Citation: FireEye FIN6 April 2016)(Citation: FireEye FIN6 Apr 2019)\\t\\n'), ('T1003.001', '[Pupy](https://attack.mitre.org/software/S0192) can execute Lazagne as well as [Mimikatz](https://attack.mitre.org/software/S0002) using PowerShell.(Citation: GitHub Pupy)'), ('T1003.001', '[APT32](https://attack.mitre.org/groups/G0050) used Mimikatz and customized versions of Windows Credential Dumper to harvest credentials.(Citation: Cybereason Oceanlotus May 2017)(Citation: Cybereason Cobalt Kitty 2017)'), ('T1003.001', '[Windows Credential Editor](https://attack.mitre.org/software/S0005) can dump credentials.(Citation: Amplia WCE)'), ('T1003.001', '[GreyEnergy](https://attack.mitre.org/software/S0342) has a module for [Mimikatz](https://attack.mitre.org/software/S0002) to collect Windows credentials from the victim’s machine.(Citation: ESET GreyEnergy Oct 2018)'), ('T1003.001', '[Magic Hound](https://attack.mitre.org/groups/G0059) stole domain credentials from Microsoft Active Directory Domain Controller and leveraged [Mimikatz](https://attack.mitre.org/software/S0002).(Citation: FireEye APT35 2018)'), ('T1003.001', '[Cleaver](https://attack.mitre.org/groups/G0003) has been known to dump credentials using Mimikatz and Windows Credential Editor.(Citation: Cylance Cleaver)'), ('T1003.001', '[Mimikatz](https://attack.mitre.org/software/S0002) performs credential dumping to obtain account and password information useful in gaining access to additional systems and enterprise network resources. It contains functionality to acquire information about credentials in many ways, including from the LSASS Memory.(Citation: Deply Mimikatz)(Citation: GitHub Mimikatz lsadump Module)(Citation: Directory Services Internals DPAPI Backup Keys Oct 2015)(Citation: NCSC Joint Report Public Tools)'), ('T1003.001', '[Stolen Pencil](https://attack.mitre.org/groups/G0086) gathers credentials using [Mimikatz](https://attack.mitre.org/software/S0002) and Procdump. (Citation: Netscout Stolen Pencil Dec 2018)'), ('T1003.001', '[APT39](https://attack.mitre.org/groups/G0087) has used Mimikatz, Windows Credential Editor and ProcDump to dump credentials. (Citation: FireEye APT39 Jan 2019)'), ('T1003.001', '[Empire](https://attack.mitre.org/software/S0363) contains an implementation of [Mimikatz](https://attack.mitre.org/software/S0002) to gather credentials from memory.(Citation: Github PowerShell Empire)'), ('T1003.001', '[Olympic Destroyer](https://attack.mitre.org/software/S0365) contains a module that tries to obtain credentials from LSASS, similar to [Mimikatz](https://attack.mitre.org/software/S0002). These credentials are used with [PsExec](https://attack.mitre.org/software/S0029) and [Windows Management Instrumentation](https://attack.mitre.org/techniques/T1047) to help the malware propagate itself across a network.(Citation: Talos Olympic Destroyer 2018)'), ('T1003.001', '[Emotet](https://attack.mitre.org/software/S0367) has been observed dropping password grabber modules including [Mimikatz](https://attack.mitre.org/software/S0002). (Citation: Trend Micro Emotet Jan 2019)'), ('T1003.001', '[NotPetya](https://attack.mitre.org/software/S0368) contains a modified version of [Mimikatz](https://attack.mitre.org/software/S0002) to help gather credentials that are later used for lateral movement.(Citation: Talos Nyetya June 2017)(Citation: US-CERT NotPetya 2017)(Citation: NCSC Joint Report Public Tools)'), ('T1003.001', '[APT33](https://attack.mitre.org/groups/G0064) has used a variety of publicly available tools like [LaZagne](https://attack.mitre.org/software/S0349), [Mimikatz](https://attack.mitre.org/software/S0002), and ProcDump to dump credentials.(Citation: Symantec Elfin Mar 2019)(Citation: FireEye APT33 Guardrail)'), ('T1003.001', '[TEMP.Veles](https://attack.mitre.org/groups/G0088) has used [Mimikatz](https://attack.mitre.org/software/S0002) and a custom tool, SecHack, to harvest credentials. (Citation: FireEye TRITON 2019)'), ('T1003.001', '[PoshC2](https://attack.mitre.org/software/S0378) contains an implementation of [Mimikatz](https://attack.mitre.org/software/S0002) to gather credentials from memory.(Citation: GitHub PoshC2)'), ('T1003.001', '[GALLIUM](https://attack.mitre.org/groups/G0093) used a modified version of [Mimikatz](https://attack.mitre.org/software/S0002) along with a PowerShell-based [Mimikatz](https://attack.mitre.org/software/S0002) to dump credentials on the victim machines.(Citation: Cybereason Soft Cell June 2019)(Citation: Microsoft GALLIUM December 2019)'), ('T1003.001', '[APT41](https://attack.mitre.org/groups/G0096) used the Windows Credential Editor to dump password hashes from memory and authenticate to other user accounts.(Citation: FireEye APT41 Aug 2019)'), ('T1003.001', 'Limit credential overlap across accounts and systems by training users and administrators not to use the same password for multiple accounts.'), ('T1003.001', 'With Windows 10, Microsoft implemented new protections called Credential Guard to protect the LSA secrets that can be used to obtain credentials through forms of credential dumping. It is not configured by default and has hardware and firmware system requirements. It also does not protect against all forms of credential dumping.(Citation: TechNet Credential Guard)(Citation: GitHub SHB Credential Guard)'), ('T1003.001', 'On Windows 8.1 and Windows Server 2012 R2, enable Protected Process Light for LSA.(Citation: Microsoft LSA)'), ('T1003.001', 'Do not put user or admin domain accounts in the local administrator groups across systems unless they are tightly controlled, as this is often equivalent to having a local administrator account with the same password on all systems. Follow best practices for design and administration of an enterprise network to limit privileged account use across administrative tiers.'), ...]"
      ]
     },
     "execution_count": 6,
     "metadata": {},
     "output_type": "execute_result"
    },
    {
     "data": {
      "application/javascript": [
       "\n",
       "            setTimeout(function() {\n",
       "                var nbb_cell_id = 6;\n",
       "                var nbb_unformatted_code = \"# join by key \\\"target_ref\\\": \\\"attack-pattern--dcaa092b-7de9-4a21-977f-7fcb77e89c48\\\",\\n\\nattack_pattern_descriptions = (\\n    attack_pattern_technique_ids.join(attack_pattern_procedures)\\n    .starmap(lambda pattern, join_result: join_result)\\n    .starmap(\\n        lambda technique_id, descriptions: seq(descriptions)\\n        .filter_not(lambda description: description == None)\\n        .map(lambda description: (technique_id, description))\\n    )\\n    .flatten()\\n    .sorted(lambda x: x[0])\\n)\\n\\nattack_pattern_descriptions\";\n",
       "                var nbb_formatted_code = \"# join by key \\\"target_ref\\\": \\\"attack-pattern--dcaa092b-7de9-4a21-977f-7fcb77e89c48\\\",\\n\\nattack_pattern_descriptions = (\\n    attack_pattern_technique_ids.join(attack_pattern_procedures)\\n    .starmap(lambda pattern, join_result: join_result)\\n    .starmap(\\n        lambda technique_id, descriptions: seq(descriptions)\\n        .filter_not(lambda description: description == None)\\n        .map(lambda description: (technique_id, description))\\n    )\\n    .flatten()\\n    .sorted(lambda x: x[0])\\n)\\n\\nattack_pattern_descriptions\";\n",
       "                var nbb_cells = Jupyter.notebook.get_cells();\n",
       "                for (var i = 0; i < nbb_cells.length; ++i) {\n",
       "                    if (nbb_cells[i].input_prompt_number == nbb_cell_id) {\n",
       "                        if (nbb_cells[i].get_text() == nbb_unformatted_code) {\n",
       "                             nbb_cells[i].set_text(nbb_formatted_code);\n",
       "                        }\n",
       "                        break;\n",
       "                    }\n",
       "                }\n",
       "            }, 500);\n",
       "            "
      ],
      "text/plain": [
       "<IPython.core.display.Javascript object>"
      ]
     },
     "metadata": {},
     "output_type": "display_data"
    }
   ],
   "source": [
    "# join by key \"target_ref\": \"attack-pattern--dcaa092b-7de9-4a21-977f-7fcb77e89c48\",\n",
    "\n",
    "attack_pattern_descriptions = (\n",
    "    attack_pattern_technique_ids.join(attack_pattern_procedures)\n",
    "    .starmap(lambda pattern, join_result: join_result)\n",
    "    .starmap(\n",
    "        lambda technique_id, descriptions: seq(descriptions)\n",
    "        .filter_not(lambda description: description == None)\n",
    "        .map(lambda description: (technique_id, description))\n",
    "    )\n",
    "    .flatten()\n",
    "    .sorted(lambda x: x[0])\n",
    ")\n",
    "\n",
    "attack_pattern_descriptions"
   ]
  },
  {
   "cell_type": "code",
   "execution_count": 7,
   "metadata": {
    "ExecuteTime": {
     "end_time": "2021-07-09T10:03:37.950452Z",
     "start_time": "2021-07-09T10:03:37.917529Z"
    }
   },
   "outputs": [
    {
     "data": {
      "text/plain": [
       "'[Operation Wocao] has encrypted IP addresses used for \"Agent\" proxy hops with RC4.'"
      ]
     },
     "execution_count": 7,
     "metadata": {},
     "output_type": "execute_result"
    },
    {
     "data": {
      "application/javascript": [
       "\n",
       "            setTimeout(function() {\n",
       "                var nbb_cell_id = 7;\n",
       "                var nbb_unformatted_code = \"import re\\n\\n# remove links and citation\\ndef clean_text(text):\\n    return re.sub(r\\\"\\\\(https://attack.mitre.org/.+?\\\\)|\\\\(Citation:.+?\\\\)\\\", \\\"\\\", text)\\n\\n\\n# example\\ntext = \\\"\\\"\\\"[Operation Wocao](https://attack.mitre.org/groups/G0116) has encrypted IP addresses used for \\\"Agent\\\" proxy hops with RC4.(Citation: FoxIT Wocao December 2019)\\\"\\\"\\\"\\nclean_text(text)\";\n",
       "                var nbb_formatted_code = \"import re\\n\\n# remove links and citation\\ndef clean_text(text):\\n    return re.sub(r\\\"\\\\(https://attack.mitre.org/.+?\\\\)|\\\\(Citation:.+?\\\\)\\\", \\\"\\\", text)\\n\\n\\n# example\\ntext = \\\"\\\"\\\"[Operation Wocao](https://attack.mitre.org/groups/G0116) has encrypted IP addresses used for \\\"Agent\\\" proxy hops with RC4.(Citation: FoxIT Wocao December 2019)\\\"\\\"\\\"\\nclean_text(text)\";\n",
       "                var nbb_cells = Jupyter.notebook.get_cells();\n",
       "                for (var i = 0; i < nbb_cells.length; ++i) {\n",
       "                    if (nbb_cells[i].input_prompt_number == nbb_cell_id) {\n",
       "                        if (nbb_cells[i].get_text() == nbb_unformatted_code) {\n",
       "                             nbb_cells[i].set_text(nbb_formatted_code);\n",
       "                        }\n",
       "                        break;\n",
       "                    }\n",
       "                }\n",
       "            }, 500);\n",
       "            "
      ],
      "text/plain": [
       "<IPython.core.display.Javascript object>"
      ]
     },
     "metadata": {},
     "output_type": "display_data"
    }
   ],
   "source": [
    "import re\n",
    "\n",
    "# remove links and citation\n",
    "def clean_text(text):\n",
    "    return re.sub(r\"\\(https://attack.mitre.org/.+?\\)|\\(Citation:.+?\\)\", \"\", text)\n",
    "\n",
    "\n",
    "# example\n",
    "text = \"\"\"[Operation Wocao](https://attack.mitre.org/groups/G0116) has encrypted IP addresses used for \"Agent\" proxy hops with RC4.(Citation: FoxIT Wocao December 2019)\"\"\"\n",
    "clean_text(text)"
   ]
  },
  {
   "cell_type": "code",
   "execution_count": 8,
   "metadata": {
    "ExecuteTime": {
     "end_time": "2021-07-09T10:03:38.119789Z",
     "start_time": "2021-07-09T10:03:37.969889Z"
    }
   },
   "outputs": [
    {
     "data": {
      "application/javascript": [
       "\n",
       "            setTimeout(function() {\n",
       "                var nbb_cell_id = 8;\n",
       "                var nbb_unformatted_code = \"# save as dataset\\nattack_pattern_descriptions.starmap(\\n    lambda technique_id, description: (technique_id, clean_text(description).strip('\\\"'))\\n).to_csv(\\\"../data/mitre/technique_description_dataset.csv\\\")\";\n",
       "                var nbb_formatted_code = \"# save as dataset\\nattack_pattern_descriptions.starmap(\\n    lambda technique_id, description: (technique_id, clean_text(description).strip('\\\"'))\\n).to_csv(\\\"../data/mitre/technique_description_dataset.csv\\\")\";\n",
       "                var nbb_cells = Jupyter.notebook.get_cells();\n",
       "                for (var i = 0; i < nbb_cells.length; ++i) {\n",
       "                    if (nbb_cells[i].input_prompt_number == nbb_cell_id) {\n",
       "                        if (nbb_cells[i].get_text() == nbb_unformatted_code) {\n",
       "                             nbb_cells[i].set_text(nbb_formatted_code);\n",
       "                        }\n",
       "                        break;\n",
       "                    }\n",
       "                }\n",
       "            }, 500);\n",
       "            "
      ],
      "text/plain": [
       "<IPython.core.display.Javascript object>"
      ]
     },
     "metadata": {},
     "output_type": "display_data"
    }
   ],
   "source": [
    "# save as dataset\n",
    "attack_pattern_descriptions.starmap(\n",
    "    lambda technique_id, description: (technique_id, clean_text(description).strip('\"'))\n",
    ").to_csv(\"../data/mitre/technique_description_dataset.csv\")"
   ]
  },
  {
   "cell_type": "markdown",
   "metadata": {},
   "source": [
    "---"
   ]
  },
  {
   "cell_type": "code",
   "execution_count": null,
   "metadata": {},
   "outputs": [],
   "source": []
  }
 ],
 "metadata": {
  "kernelspec": {
   "display_name": "magpie-qCm93heW-py3.6",
   "language": "python",
   "name": "magpie-qcm93hew-py3.6"
  },
  "language_info": {
   "codemirror_mode": {
    "name": "ipython",
    "version": 3
   },
   "file_extension": ".py",
   "mimetype": "text/x-python",
   "name": "python",
   "nbconvert_exporter": "python",
   "pygments_lexer": "ipython3",
   "version": "3.6.10"
  },
  "varInspector": {
   "cols": {
    "lenName": 16,
    "lenType": 16,
    "lenVar": 40
   },
   "kernels_config": {
    "python": {
     "delete_cmd_postfix": "",
     "delete_cmd_prefix": "del ",
     "library": "var_list.py",
     "varRefreshCmd": "print(var_dic_list())"
    },
    "r": {
     "delete_cmd_postfix": ") ",
     "delete_cmd_prefix": "rm(",
     "library": "var_list.r",
     "varRefreshCmd": "cat(var_dic_list()) "
    }
   },
   "types_to_exclude": [
    "module",
    "function",
    "builtin_function_or_method",
    "instance",
    "_Feature"
   ],
   "window_display": false
  }
 },
 "nbformat": 4,
 "nbformat_minor": 4
}
