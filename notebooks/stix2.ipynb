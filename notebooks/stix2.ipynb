{
 "cells": [
  {
   "cell_type": "code",
   "execution_count": 1,
   "metadata": {
    "ExecuteTime": {
     "end_time": "2021-06-04T10:02:17.335068Z",
     "start_time": "2021-06-04T10:02:16.756761Z"
    }
   },
   "outputs": [],
   "source": [
    "# %load_ext nb_black\n",
    "%load_ext lab_black"
   ]
  },
  {
   "cell_type": "code",
   "execution_count": 2,
   "metadata": {
    "ExecuteTime": {
     "end_time": "2021-06-04T10:02:18.624236Z",
     "start_time": "2021-06-04T10:02:17.380669Z"
    }
   },
   "outputs": [],
   "source": [
    "import stix2"
   ]
  },
  {
   "cell_type": "markdown",
   "metadata": {},
   "source": [
    "---"
   ]
  },
  {
   "cell_type": "markdown",
   "metadata": {},
   "source": [
    "# Validate"
   ]
  },
  {
   "cell_type": "code",
   "execution_count": 29,
   "metadata": {
    "ExecuteTime": {
     "end_time": "2021-06-04T10:02:20.012187Z",
     "start_time": "2021-06-04T10:02:18.645050Z"
    }
   },
   "outputs": [
    {
     "name": "stderr",
     "output_type": "stream",
     "text": [
      "    [!] Warning: bundle--027a551d-bdba-4d19-b75d-ccc9b7f8f0c5: {101} Custom property 'spec_version' should have a type that starts with 'x_' followed by a source unique identifier (like a domain name with dots replaced by hyphen), a hyphen and then the name.\n",
      "    [!] Warning: report--027a551d-bdba-4d19-b75d-ccc9b7f8f0c5: {302} External reference 'web' has a URL but no hash.\n",
      "    [!] Warning: attack-pattern--cac1c5f3-4706-47ab-bb1f-3e525a9aaed5: {302} External reference 'mitre-attack' has a URL but no hash.\n",
      "    [!] Warning: attack-pattern--afdc10eb-ef6e-4cff-be08-3c04c193f29b: {302} External reference 'mitre-attack' has a URL but no hash.\n",
      "    [!] Warning: attack-pattern--d982ff3e-8d33-433e-8156-0908528fec0c: {302} External reference 'mitre-attack' has a URL but no hash.\n",
      "    [!] Warning: attack-pattern--71130ea2-6191-42b8-b96b-eaa71f89879c: {302} External reference 'mitre-attack' has a URL but no hash.\n",
      "    [!] Warning: attack-pattern--41290d9e-d4e8-4991-9f56-9ce1a8abff56: {302} External reference 'mitre-attack' has a URL but no hash.\n",
      "    [!] Warning: attack-pattern--595479f7-1801-4470-853a-292d66958574: {302} External reference 'mitre-attack' has a URL but no hash.\n",
      "    [!] Warning: attack-pattern--26e1f190-135f-40ee-86a2-a09bec63a001: {302} External reference 'mitre-attack' has a URL but no hash.\n",
      "    [!] Warning: attack-pattern--cba52de9-01de-474c-8f0d-0574e622fe29: {302} External reference 'mitre-attack' has a URL but no hash.\n"
     ]
    }
   ],
   "source": [
    "from stix2validator import validate_file, print_results\n",
    "\n",
    "results = validate_file(\"../data/hellokitty.stix21.6047944bd5bd6b6f323e59fa.json\")\n",
    "print_results(results)"
   ]
  },
  {
   "cell_type": "markdown",
   "metadata": {},
   "source": [
    "---"
   ]
  },
  {
   "cell_type": "code",
   "execution_count": 30,
   "metadata": {},
   "outputs": [],
   "source": [
    "result = validate_file(\"../data/hafnium_test_export.stix21.json\")"
   ]
  },
  {
   "cell_type": "code",
   "execution_count": 40,
   "metadata": {},
   "outputs": [],
   "source": [
    "from pprint import pprint"
   ]
  },
  {
   "cell_type": "code",
   "execution_count": null,
   "metadata": {},
   "outputs": [],
   "source": []
  },
  {
   "cell_type": "code",
   "execution_count": 50,
   "metadata": {},
   "outputs": [],
   "source": [
    "stix_checking = {\"stix_object\": {\"is_valid\": result.object_result.is_valid, \"logging\": {\"errors\": result.object_result.errors, \"warnings\": result.object_result.warnings}}}"
   ]
  },
  {
   "cell_type": "code",
   "execution_count": 51,
   "metadata": {},
   "outputs": [
    {
     "name": "stdout",
     "output_type": "stream",
     "text": [
      "{'stix_object': {'is_valid': True,\n",
      "                 'logging': {'errors': [],\n",
      "                             'warnings': ['bundle--511fdb6d-5ede-4c80-b0d0-a34f2c96e164: '\n",
      "                                          '{101} Custom property '\n",
      "                                          \"'spec_version' should have a type \"\n",
      "                                          \"that starts with 'x_' followed by a \"\n",
      "                                          'source unique identifier (like a '\n",
      "                                          'domain name with dots replaced by '\n",
      "                                          'hyphen), a hyphen and then the '\n",
      "                                          'name.',\n",
      "                                          'report--511fdb6d-5ede-4c80-b0d0-a34f2c96e164: '\n",
      "                                          \"{302} External reference 'web' has \"\n",
      "                                          'a URL but no hash.',\n",
      "                                          'attack-pattern--65956be5-4818-422a-8683-fc5b32808ea8: '\n",
      "                                          '{302} External reference '\n",
      "                                          \"'mitre-attack' has a URL but no \"\n",
      "                                          'hash.',\n",
      "                                          'attack-pattern--ca4f5049-882f-4e35-a618-a3bf7e8d197c: '\n",
      "                                          '{302} External reference '\n",
      "                                          \"'mitre-attack' has a URL but no \"\n",
      "                                          'hash.']}}}\n"
     ]
    }
   ],
   "source": [
    "pprint(stix_checking)"
   ]
  },
  {
   "cell_type": "code",
   "execution_count": 46,
   "metadata": {},
   "outputs": [],
   "source": [
    "result.fatal"
   ]
  },
  {
   "cell_type": "code",
   "execution_count": null,
   "metadata": {},
   "outputs": [],
   "source": [
    "result.object_result.is_valid"
   ]
  },
  {
   "cell_type": "code",
   "execution_count": 32,
   "metadata": {},
   "outputs": [
    {
     "data": {
      "text/plain": [
       "[]"
      ]
     },
     "execution_count": 32,
     "metadata": {},
     "output_type": "execute_result"
    }
   ],
   "source": [
    "result.object_result.errors"
   ]
  },
  {
   "cell_type": "code",
   "execution_count": 39,
   "metadata": {},
   "outputs": [
    {
     "data": {
      "text/plain": [
       "[\"bundle--511fdb6d-5ede-4c80-b0d0-a34f2c96e164: {101} Custom property 'spec_version' should have a type that starts with 'x_' followed by a source unique identifier (like a domain name with dots replaced by hyphen), a hyphen and then the name.\",\n",
       " \"report--511fdb6d-5ede-4c80-b0d0-a34f2c96e164: {302} External reference 'web' has a URL but no hash.\",\n",
       " \"attack-pattern--65956be5-4818-422a-8683-fc5b32808ea8: {302} External reference 'mitre-attack' has a URL but no hash.\",\n",
       " \"attack-pattern--ca4f5049-882f-4e35-a618-a3bf7e8d197c: {302} External reference 'mitre-attack' has a URL but no hash.\"]"
      ]
     },
     "execution_count": 39,
     "metadata": {},
     "output_type": "execute_result"
    }
   ],
   "source": [
    "result.object_result.warnings"
   ]
  },
  {
   "cell_type": "code",
   "execution_count": 33,
   "metadata": {},
   "outputs": [
    {
     "name": "stderr",
     "output_type": "stream",
     "text": [
      "    [!] Warning: bundle--511fdb6d-5ede-4c80-b0d0-a34f2c96e164: {101} Custom property 'spec_version' should have a type that starts with 'x_' followed by a source unique identifier (like a domain name with dots replaced by hyphen), a hyphen and then the name.\n",
      "    [!] Warning: report--511fdb6d-5ede-4c80-b0d0-a34f2c96e164: {302} External reference 'web' has a URL but no hash.\n",
      "    [!] Warning: attack-pattern--65956be5-4818-422a-8683-fc5b32808ea8: {302} External reference 'mitre-attack' has a URL but no hash.\n",
      "    [!] Warning: attack-pattern--ca4f5049-882f-4e35-a618-a3bf7e8d197c: {302} External reference 'mitre-attack' has a URL but no hash.\n"
     ]
    }
   ],
   "source": [
    "result.log()"
   ]
  },
  {
   "cell_type": "markdown",
   "metadata": {},
   "source": [
    "---"
   ]
  },
  {
   "cell_type": "code",
   "execution_count": 7,
   "metadata": {},
   "outputs": [],
   "source": [
    "from functional import seq"
   ]
  },
  {
   "cell_type": "code",
   "execution_count": 11,
   "metadata": {},
   "outputs": [
    {
     "ename": "AttributeError",
     "evalue": "'Sequence' object has no attribute 'get'",
     "output_type": "error",
     "traceback": [
      "\u001b[0;31m---------------------------------------------------------------------------\u001b[0m",
      "\u001b[0;31mAttributeError\u001b[0m                            Traceback (most recent call last)",
      "\u001b[0;32m<ipython-input-11-1262a703f28b>\u001b[0m in \u001b[0;36m<module>\u001b[0;34m\u001b[0m\n\u001b[0;32m----> 1\u001b[0;31m \u001b[0mseq\u001b[0m\u001b[0;34m.\u001b[0m\u001b[0mjson\u001b[0m\u001b[0;34m(\u001b[0m\u001b[0;34m\"../data/hafnium_test_export.stix21.json\"\u001b[0m\u001b[0;34m)\u001b[0m\u001b[0;34m.\u001b[0m\u001b[0mget\u001b[0m\u001b[0;34m(\u001b[0m\u001b[0;34m\"ojbects\"\u001b[0m\u001b[0;34m)\u001b[0m\u001b[0;31m#.map(lambda stix: stix.get(\"ojbects\"))\u001b[0m\u001b[0;34m\u001b[0m\u001b[0;34m\u001b[0m\u001b[0m\n\u001b[0m",
      "\u001b[0;31mAttributeError\u001b[0m: 'Sequence' object has no attribute 'get'"
     ]
    }
   ],
   "source": [
    "seq.json(\"../data/hafnium_test_export.stix21.json\")#.map(lambda stix: stix.get(\"ojbects\"))"
   ]
  },
  {
   "cell_type": "markdown",
   "metadata": {},
   "source": [
    "---"
   ]
  },
  {
   "cell_type": "code",
   "execution_count": 4,
   "metadata": {},
   "outputs": [],
   "source": [
    "import json"
   ]
  },
  {
   "cell_type": "code",
   "execution_count": 14,
   "metadata": {},
   "outputs": [],
   "source": [
    "data = open(\"../data/hellokitty.stix21.6047944bd5bd6b6f323e59fa.json\", \"r\").read()\n",
    "test_stix = json.loads(data)"
   ]
  },
  {
   "cell_type": "code",
   "execution_count": 27,
   "metadata": {},
   "outputs": [
    {
     "data": {
      "text/html": [
       "<table>\n",
       "<tbody>\n",
       "<tr><td>report--027a551d-bdba-4d19-b75d-ccc9b7f8f0c5        </td><td>HelloKitty Ransomware Lacks Stealth, But Still Strikes Home</td><td>                                                                                            </td><td>[&#x27;threat-report&#x27;]     </td></tr>\n",
       "<tr><td>identity--ab072f15-9b87-4ee1-898f-b584d41f29b0      </td><td>Open Threat Exchange                                       </td><td>                                                                                            </td><td>                      </td></tr>\n",
       "<tr><td>indicator--e90bf0cc-53f8-4fe4-bd41-71a398e933fe     </td><td>Ransom:Win32/Death.DB!MTB                                  </td><td>[file:hashes.MD5 = &#x27;136bd70f7aa98f52861879d7dca03cf2&#x27;]                                      </td><td>[&#x27;malicious-activity&#x27;]</td></tr>\n",
       "<tr><td>indicator--ce82185f-669e-4967-af57-bd8e40780446     </td><td>Ransom:Win32/Death.DB!MTB                                  </td><td>[file:hashes.&#x27;SHA-256&#x27; = &#x27;501487b025f25ddf1ca32deb57a2b4db43ccf6635c1edc74b9cff54ce0e5bcfe&#x27;]</td><td>[&#x27;malicious-activity&#x27;]</td></tr>\n",
       "<tr><td>indicator--d14d06d6-f10f-4e88-8f40-84c6645b6a72     </td><td>Ransom:Win32/Death.DB!MTB                                  </td><td>[file:hashes.&#x27;SHA-1&#x27; = &#x27;fadd8d7c13a18c251ded1f645ffea18a37f1c2de&#x27;]                          </td><td>[&#x27;malicious-activity&#x27;]</td></tr>\n",
       "<tr><td>indicator--f8e57340-967d-44ef-898d-c59d9d537550     </td><td>                                                           </td><td>[domain-name:value = &#x27;6x7dp6h3w6q3ugjv4yv5gycj3femb24kysgry5b44hhgfwc5ml5qrdad.onion&#x27;]      </td><td>[&#x27;malicious-activity&#x27;]</td></tr>\n",
       "<tr><td>attack-pattern--cac1c5f3-4706-47ab-bb1f-3e525a9aaed5</td><td>Data from Local System                                     </td><td>                                                                                            </td><td>                      </td></tr>\n",
       "<tr><td>attack-pattern--afdc10eb-ef6e-4cff-be08-3c04c193f29b</td><td>Query Registry                                             </td><td>                                                                                            </td><td>                      </td></tr>\n",
       "<tr><td>attack-pattern--d982ff3e-8d33-433e-8156-0908528fec0c</td><td>Windows Management Instrumentation                         </td><td>                                                                                            </td><td>                      </td></tr>\n",
       "<tr><td>attack-pattern--71130ea2-6191-42b8-b96b-eaa71f89879c</td><td>System Information Discovery                               </td><td>                                                                                            </td><td>                      </td></tr>\n",
       "</tbody>\n",
       "</table><p>Showing 10 of 17 rows"
      ],
      "text/plain": [
       "[('report--027a551d-bdba-4d19-b75d-ccc9b7f8f0c5', 'HelloKitty Ransomware Lacks Stealth, But Still Strikes Home', None, ['threat-report']), ('identity--ab072f15-9b87-4ee1-898f-b584d41f29b0', 'Open Threat Exchange', None, None), ('indicator--e90bf0cc-53f8-4fe4-bd41-71a398e933fe', 'Ransom:Win32/Death.DB!MTB', \"[file:hashes.MD5 = '136bd70f7aa98f52861879d7dca03cf2']\", ['malicious-activity']), ('indicator--ce82185f-669e-4967-af57-bd8e40780446', 'Ransom:Win32/Death.DB!MTB', \"[file:hashes.'SHA-256' = '501487b025f25ddf1ca32deb57a2b4db43ccf6635c1edc74b9cff54ce0e5bcfe']\", ['malicious-activity']), ('indicator--d14d06d6-f10f-4e88-8f40-84c6645b6a72', 'Ransom:Win32/Death.DB!MTB', \"[file:hashes.'SHA-1' = 'fadd8d7c13a18c251ded1f645ffea18a37f1c2de']\", ['malicious-activity']), ('indicator--f8e57340-967d-44ef-898d-c59d9d537550', '', \"[domain-name:value = '6x7dp6h3w6q3ugjv4yv5gycj3femb24kysgry5b44hhgfwc5ml5qrdad.onion']\", ['malicious-activity']), ('attack-pattern--cac1c5f3-4706-47ab-bb1f-3e525a9aaed5', 'Data from Local System', None, None), ('attack-pattern--afdc10eb-ef6e-4cff-be08-3c04c193f29b', 'Query Registry', None, None), ('attack-pattern--d982ff3e-8d33-433e-8156-0908528fec0c', 'Windows Management Instrumentation', None, None), ('attack-pattern--71130ea2-6191-42b8-b96b-eaa71f89879c', 'System Information Discovery', None, None), ('attack-pattern--41290d9e-d4e8-4991-9f56-9ce1a8abff56', 'Modify Registry', None, None), ('attack-pattern--595479f7-1801-4470-853a-292d66958574', 'Data Encrypted for Impact', None, None), ('attack-pattern--26e1f190-135f-40ee-86a2-a09bec63a001', 'Windows Command Shell', None, None), ('attack-pattern--cba52de9-01de-474c-8f0d-0574e622fe29', 'File Deletion', None, None), ('malware--23c14bc4-169b-430f-b413-beef1e71fbb5', 'HelloKitty Ransomware', None, ['adware']), ('malware--395b7eb6-a295-47c1-afba-07ec8c864984', 'Win32:HelloKitty', None, ['adware']), ('malware--f8748f43-6b7c-46e2-8419-d67b2965d786', 'Ransom.HelloKitty', None, ['adware'])]"
      ]
     },
     "execution_count": 27,
     "metadata": {},
     "output_type": "execute_result"
    }
   ],
   "source": [
    "seq(test_stix.get(\"objects\")).map(lambda obj: (obj.get('id'),obj.get('name'),obj.get('pattern'),obj.get('labels')))"
   ]
  },
  {
   "cell_type": "code",
   "execution_count": 17,
   "metadata": {},
   "outputs": [
    {
     "data": {
      "text/plain": [
       "[{'created': '2021-03-09T15:29:14.999Z',\n",
       "  'created_by_ref': 'identity--ab072f15-9b87-4ee1-898f-b584d41f29b0',\n",
       "  'description': 'HelloKitty is a ransomware family that emerged in late 2020. While it lacks the sophistication of some of the more well-known families such as Ryuk, REvil, and Conti, it has nevertheless struck some notable targets, including CEMIG0. In this post, Sentinel Labs analyzes a recent HelloKitty sample and outlines the basic behaviors and traits associated with this family of ransomware.',\n",
       "  'external_references': [{'source_name': 'web',\n",
       "    'url': 'https://labs.sentinelone.com/hellokitty-ransomware-lacks-stealth-but-still-strikes-home/'}],\n",
       "  'id': 'report--027a551d-bdba-4d19-b75d-ccc9b7f8f0c5',\n",
       "  'labels': ['threat-report'],\n",
       "  'modified': '2021-03-09T15:29:14.999Z',\n",
       "  'name': 'HelloKitty Ransomware Lacks Stealth, But Still Strikes Home',\n",
       "  'object_refs': ['identity--ab072f15-9b87-4ee1-898f-b584d41f29b0',\n",
       "   'indicator--e90bf0cc-53f8-4fe4-bd41-71a398e933fe',\n",
       "   'indicator--ce82185f-669e-4967-af57-bd8e40780446',\n",
       "   'indicator--d14d06d6-f10f-4e88-8f40-84c6645b6a72',\n",
       "   'indicator--f8e57340-967d-44ef-898d-c59d9d537550',\n",
       "   'attack-pattern--cac1c5f3-4706-47ab-bb1f-3e525a9aaed5',\n",
       "   'attack-pattern--afdc10eb-ef6e-4cff-be08-3c04c193f29b',\n",
       "   'attack-pattern--d982ff3e-8d33-433e-8156-0908528fec0c',\n",
       "   'attack-pattern--71130ea2-6191-42b8-b96b-eaa71f89879c',\n",
       "   'attack-pattern--41290d9e-d4e8-4991-9f56-9ce1a8abff56',\n",
       "   'attack-pattern--595479f7-1801-4470-853a-292d66958574',\n",
       "   'attack-pattern--26e1f190-135f-40ee-86a2-a09bec63a001',\n",
       "   'attack-pattern--cba52de9-01de-474c-8f0d-0574e622fe29',\n",
       "   'malware--23c14bc4-169b-430f-b413-beef1e71fbb5',\n",
       "   'malware--395b7eb6-a295-47c1-afba-07ec8c864984',\n",
       "   'malware--f8748f43-6b7c-46e2-8419-d67b2965d786'],\n",
       "  'published': '2021-03-09T15:29:14.999Z',\n",
       "  'spec_version': '2.1',\n",
       "  'type': 'report'},\n",
       " {'contact_information': 'https://otx.alienvault.com/',\n",
       "  'created': '2021-03-09T15:29:14.999Z',\n",
       "  'id': 'identity--ab072f15-9b87-4ee1-898f-b584d41f29b0',\n",
       "  'identity_class': 'organization',\n",
       "  'modified': '2021-03-09T15:29:14.999Z',\n",
       "  'name': 'Open Threat Exchange',\n",
       "  'spec_version': '2.1',\n",
       "  'type': 'identity'},\n",
       " {'created': '2021-03-09T15:29:16.000Z',\n",
       "  'description': 'MD5 of fadd8d7c13a18c251ded1f645ffea18a37f1c2de',\n",
       "  'id': 'indicator--e90bf0cc-53f8-4fe4-bd41-71a398e933fe',\n",
       "  'labels': ['malicious-activity'],\n",
       "  'modified': '2021-03-09T15:29:16.000Z',\n",
       "  'name': 'Ransom:Win32/Death.DB!MTB',\n",
       "  'pattern': \"[file:hashes.MD5 = '136bd70f7aa98f52861879d7dca03cf2']\",\n",
       "  'pattern_type': 'stix',\n",
       "  'pattern_version': '2.1',\n",
       "  'spec_version': '2.1',\n",
       "  'type': 'indicator',\n",
       "  'valid_from': '2021-03-09T15:29:16.000Z'},\n",
       " {'created': '2021-03-09T15:29:16.000Z',\n",
       "  'description': 'SHA256 of fadd8d7c13a18c251ded1f645ffea18a37f1c2de',\n",
       "  'id': 'indicator--ce82185f-669e-4967-af57-bd8e40780446',\n",
       "  'labels': ['malicious-activity'],\n",
       "  'modified': '2021-03-09T15:29:16.000Z',\n",
       "  'name': 'Ransom:Win32/Death.DB!MTB',\n",
       "  'pattern': \"[file:hashes.'SHA-256' = '501487b025f25ddf1ca32deb57a2b4db43ccf6635c1edc74b9cff54ce0e5bcfe']\",\n",
       "  'pattern_type': 'stix',\n",
       "  'pattern_version': '2.1',\n",
       "  'spec_version': '2.1',\n",
       "  'type': 'indicator',\n",
       "  'valid_from': '2021-03-09T15:29:16.000Z'},\n",
       " {'created': '2021-03-09T15:29:16.000Z',\n",
       "  'description': '',\n",
       "  'id': 'indicator--d14d06d6-f10f-4e88-8f40-84c6645b6a72',\n",
       "  'labels': ['malicious-activity'],\n",
       "  'modified': '2021-03-09T15:29:16.000Z',\n",
       "  'name': 'Ransom:Win32/Death.DB!MTB',\n",
       "  'pattern': \"[file:hashes.'SHA-1' = 'fadd8d7c13a18c251ded1f645ffea18a37f1c2de']\",\n",
       "  'pattern_type': 'stix',\n",
       "  'pattern_version': '2.1',\n",
       "  'spec_version': '2.1',\n",
       "  'type': 'indicator',\n",
       "  'valid_from': '2021-03-09T15:29:16.000Z'},\n",
       " {'created': '2021-03-09T15:29:16.000Z',\n",
       "  'description': '',\n",
       "  'id': 'indicator--f8e57340-967d-44ef-898d-c59d9d537550',\n",
       "  'labels': ['malicious-activity'],\n",
       "  'modified': '2021-03-09T15:29:16.000Z',\n",
       "  'name': '',\n",
       "  'pattern': \"[domain-name:value = '6x7dp6h3w6q3ugjv4yv5gycj3femb24kysgry5b44hhgfwc5ml5qrdad.onion']\",\n",
       "  'pattern_type': 'stix',\n",
       "  'pattern_version': '2.1',\n",
       "  'spec_version': '2.1',\n",
       "  'type': 'indicator',\n",
       "  'valid_from': '2021-03-09T15:29:16.000Z'},\n",
       " {'created': '2021-03-09T15:29:14.999Z',\n",
       "  'description': 'Adversaries may search local system sources, such as file systems or local databases, to find files of interest and sensitive data prior to Exfiltration.\\n\\nAdversaries may do this using a [Command and Scripting Interpreter](https://attack.mitre.org/techniques/T1059), such as [cmd](https://attack.mitre.org/software/S0106), which has functionality to interact with the file system to gather information. Some adversaries may also use [Automated Collection](https://attack.mitre.org/techniques/T1119) on the local system.\\n',\n",
       "  'external_references': [{'external_id': 'T1005',\n",
       "    'source_name': 'mitre-attack',\n",
       "    'url': 'https://attack.mitre.org/techniques/T1005'}],\n",
       "  'id': 'attack-pattern--cac1c5f3-4706-47ab-bb1f-3e525a9aaed5',\n",
       "  'kill_chain_phases': [{'kill_chain_name': 'mitre-attack',\n",
       "    'phase_name': 'collection'}],\n",
       "  'modified': '2021-03-09T15:29:14.999Z',\n",
       "  'name': 'Data from Local System',\n",
       "  'spec_version': '2.1',\n",
       "  'type': 'attack-pattern'},\n",
       " {'created': '2021-03-09T15:29:14.999Z',\n",
       "  'description': 'Adversaries may interact with the Windows Registry to gather information about the system, configuration, and installed software.\\n\\nThe Registry contains a significant amount of information about the operating system, configuration, software, and security.(Citation: Wikipedia Windows Registry) Information can easily be queried using the [Reg](https://attack.mitre.org/software/S0075) utility, though other means to access the Registry exist. Some of the information may help adversaries to further their operation within a network. Adversaries may use the information from [Query Registry](https://attack.mitre.org/techniques/T1012) during automated discovery to shape follow-on behaviors, including whether or not the adversary fully infects the target and/or attempts specific actions.',\n",
       "  'external_references': [{'external_id': 'T1012',\n",
       "    'source_name': 'mitre-attack',\n",
       "    'url': 'https://attack.mitre.org/techniques/T1012'},\n",
       "   {'external_id': 'CAPEC-647',\n",
       "    'source_name': 'capec',\n",
       "    'url': 'https://capec.mitre.org/data/definitions/647.html'},\n",
       "   {'description': 'Wikipedia. (n.d.). Windows Registry. Retrieved February 2, 2015.',\n",
       "    'source_name': 'Wikipedia Windows Registry',\n",
       "    'url': 'https://en.wikipedia.org/wiki/Windows_Registry'}],\n",
       "  'id': 'attack-pattern--afdc10eb-ef6e-4cff-be08-3c04c193f29b',\n",
       "  'kill_chain_phases': [{'kill_chain_name': 'mitre-attack',\n",
       "    'phase_name': 'discovery'}],\n",
       "  'modified': '2021-03-09T15:29:14.999Z',\n",
       "  'name': 'Query Registry',\n",
       "  'spec_version': '2.1',\n",
       "  'type': 'attack-pattern'},\n",
       " {'created': '2021-03-09T15:29:14.999Z',\n",
       "  'description': 'Adversaries may abuse Windows Management Instrumentation (WMI) to achieve execution. WMI is a Windows administration feature that provides a uniform environment for local and remote access to Windows system components. It relies on the WMI service for local and remote access and the server message block (SMB) (Citation: Wikipedia SMB) and Remote Procedure Call Service (RPCS) (Citation: TechNet RPC) for remote access. RPCS operates over port 135. (Citation: MSDN WMI)\\n\\nAn adversary can use WMI to interact with local and remote systems and use it as a means to perform many tactic functions, such as gathering information for Discovery and remote Execution of files as part of Lateral Movement. (Citation: FireEye WMI SANS 2015) (Citation: FireEye WMI 2015)',\n",
       "  'external_references': [{'external_id': 'T1047',\n",
       "    'source_name': 'mitre-attack',\n",
       "    'url': 'https://attack.mitre.org/techniques/T1047'},\n",
       "   {'description': 'Wikipedia. (2016, June 12). Server Message Block. Retrieved June 12, 2016.',\n",
       "    'source_name': 'Wikipedia SMB',\n",
       "    'url': 'https://en.wikipedia.org/wiki/Server_Message_Block'},\n",
       "   {'description': 'Microsoft. (2003, March 28). What Is RPC?. Retrieved June 12, 2016.',\n",
       "    'source_name': 'TechNet RPC',\n",
       "    'url': 'https://technet.microsoft.com/en-us/library/cc787851.aspx'},\n",
       "   {'description': 'Microsoft. (n.d.). Windows Management Instrumentation. Retrieved April 27, 2016.',\n",
       "    'source_name': 'MSDN WMI',\n",
       "    'url': 'https://msdn.microsoft.com/en-us/library/aa394582.aspx'},\n",
       "   {'description': \"Devon Kerr. (2015). There's Something About WMI. Retrieved May 4, 2020.\",\n",
       "    'source_name': 'FireEye WMI SANS 2015',\n",
       "    'url': 'https://www.fireeye.com/content/dam/fireeye-www/services/pdfs/sans-dfir-2015.pdf'},\n",
       "   {'description': 'Ballenthin, W., et al. (2015). Windows Management Instrumentation (WMI) Offense, Defense, and Forensics. Retrieved March 30, 2016.',\n",
       "    'source_name': 'FireEye WMI 2015',\n",
       "    'url': 'https://www.fireeye.com/content/dam/fireeye-www/global/en/current-threats/pdfs/wp-windows-management-instrumentation.pdf'}],\n",
       "  'id': 'attack-pattern--d982ff3e-8d33-433e-8156-0908528fec0c',\n",
       "  'kill_chain_phases': [{'kill_chain_name': 'mitre-attack',\n",
       "    'phase_name': 'execution'}],\n",
       "  'modified': '2021-03-09T15:29:14.999Z',\n",
       "  'name': 'Windows Management Instrumentation',\n",
       "  'spec_version': '2.1',\n",
       "  'type': 'attack-pattern'},\n",
       " {'created': '2021-03-09T15:29:14.999Z',\n",
       "  'description': 'An adversary may attempt to get detailed information about the operating system and hardware, including version, patches, hotfixes, service packs, and architecture. Adversaries may use the information from [System Information Discovery](https://attack.mitre.org/techniques/T1082) during automated discovery to shape follow-on behaviors, including whether or not the adversary fully infects the target and/or attempts specific actions.\\n\\nTools such as [Systeminfo](https://attack.mitre.org/software/S0096) can be used to gather detailed system information. A breakdown of system data can also be gathered through the macOS <code>systemsetup</code> command, but it requires administrative privileges.\\n\\nInfrastructure as a Service (IaaS) cloud providers such as AWS, GCP, and Azure allow access to instance and virtual machine information via APIs. Successful authenticated API calls can return data such as the operating system platform and status of a particular instance or the model view of a virtual machine.(Citation: Amazon Describe Instance)(Citation: Google Instances Resource)(Citation: Microsoft Virutal Machine API)',\n",
       "  'external_references': [{'external_id': 'T1082',\n",
       "    'source_name': 'mitre-attack',\n",
       "    'url': 'https://attack.mitre.org/techniques/T1082'},\n",
       "   {'external_id': 'CAPEC-312',\n",
       "    'source_name': 'capec',\n",
       "    'url': 'https://capec.mitre.org/data/definitions/312.html'},\n",
       "   {'description': 'Amazon. (n.d.). describe-instance-information. Retrieved March 3, 2020.',\n",
       "    'source_name': 'Amazon Describe Instance',\n",
       "    'url': 'https://docs.aws.amazon.com/cli/latest/reference/ssm/describe-instance-information.html'},\n",
       "   {'description': 'Google. (n.d.). Rest Resource: instance. Retrieved March 3, 2020.',\n",
       "    'source_name': 'Google Instances Resource',\n",
       "    'url': 'https://cloud.google.com/compute/docs/reference/rest/v1/instances'},\n",
       "   {'description': 'Microsoft. (2019, March 1). Virtual Machines - Get. Retrieved October 8, 2019.',\n",
       "    'source_name': 'Microsoft Virutal Machine API',\n",
       "    'url': 'https://docs.microsoft.com/en-us/rest/api/compute/virtualmachines/get'}],\n",
       "  'id': 'attack-pattern--71130ea2-6191-42b8-b96b-eaa71f89879c',\n",
       "  'kill_chain_phases': [{'kill_chain_name': 'mitre-attack',\n",
       "    'phase_name': 'discovery'}],\n",
       "  'modified': '2021-03-09T15:29:14.999Z',\n",
       "  'name': 'System Information Discovery',\n",
       "  'spec_version': '2.1',\n",
       "  'type': 'attack-pattern'},\n",
       " {'created': '2021-03-09T15:29:14.999Z',\n",
       "  'description': \"Adversaries may interact with the Windows Registry to hide configuration information within Registry keys, remove information as part of cleaning up, or as part of other techniques to aid in persistence and execution.\\n\\nAccess to specific areas of the Registry depends on account permissions, some requiring administrator-level access. The built-in Windows command-line utility [Reg](https://attack.mitre.org/software/S0075) may be used for local or remote Registry modification. (Citation: Microsoft Reg) Other tools may also be used, such as a remote access tool, which may contain functionality to interact with the Registry through the Windows API.\\n\\nRegistry modifications may also include actions to hide keys, such as prepending key names with a null character, which will cause an error and/or be ignored when read via [Reg](https://attack.mitre.org/software/S0075) or other utilities using the Win32 API. (Citation: Microsoft Reghide NOV 2006) Adversaries may abuse these pseudo-hidden keys to conceal payloads/commands used to maintain persistence. (Citation: TrendMicro POWELIKS AUG 2014) (Citation: SpectorOps Hiding Reg Jul 2017)\\n\\nThe Registry of a remote system may be modified to aid in execution of files as part of lateral movement. It requires the remote Registry service to be running on the target system. (Citation: Microsoft Remote) Often [Valid Accounts](https://attack.mitre.org/techniques/T1078) are required, along with access to the remote system's [SMB/Windows Admin Shares](https://attack.mitre.org/techniques/T1021/002) for RPC communication.\",\n",
       "  'external_references': [{'external_id': 'T1112',\n",
       "    'source_name': 'mitre-attack',\n",
       "    'url': 'https://attack.mitre.org/techniques/T1112'},\n",
       "   {'external_id': 'CAPEC-203',\n",
       "    'source_name': 'capec',\n",
       "    'url': 'https://capec.mitre.org/data/definitions/203.html'},\n",
       "   {'description': 'Microsoft. (2012, April 17). Reg. Retrieved May 1, 2015.',\n",
       "    'source_name': 'Microsoft Reg',\n",
       "    'url': 'https://technet.microsoft.com/en-us/library/cc732643.aspx'},\n",
       "   {'description': 'Russinovich, M. & Sharkey, K. (2006, January 10). Reghide. Retrieved August 9, 2018.',\n",
       "    'source_name': 'Microsoft Reghide NOV 2006',\n",
       "    'url': 'https://docs.microsoft.com/sysinternals/downloads/reghide'},\n",
       "   {'description': 'Santos, R. (2014, August 1). POWELIKS: Malware Hides In Windows Registry. Retrieved August 9, 2018.',\n",
       "    'source_name': 'TrendMicro POWELIKS AUG 2014',\n",
       "    'url': 'https://blog.trendmicro.com/trendlabs-security-intelligence/poweliks-malware-hides-in-windows-registry/'},\n",
       "   {'description': 'Reitz, B. (2017, July 14). Hiding Registry keys with PSReflect. Retrieved August 9, 2018.',\n",
       "    'source_name': 'SpectorOps Hiding Reg Jul 2017',\n",
       "    'url': 'https://posts.specterops.io/hiding-registry-keys-with-psreflect-b18ec5ac8353'},\n",
       "   {'description': 'Microsoft. (n.d.). Enable the Remote Registry Service. Retrieved May 1, 2015.',\n",
       "    'source_name': 'Microsoft Remote',\n",
       "    'url': 'https://technet.microsoft.com/en-us/library/cc754820.aspx'},\n",
       "   {'description': 'Miroshnikov, A. & Hall, J. (2017, April 18). 4657(S): A registry value was modified. Retrieved August 9, 2018.',\n",
       "    'source_name': 'Microsoft 4657 APR 2017',\n",
       "    'url': 'https://docs.microsoft.com/windows/security/threat-protection/auditing/event-4657'},\n",
       "   {'description': 'Russinovich, M. & Sharkey, K. (2016, July 4). RegDelNull v1.11. Retrieved August 10, 2018.',\n",
       "    'source_name': 'Microsoft RegDelNull July 2016',\n",
       "    'url': 'https://docs.microsoft.com/en-us/sysinternals/downloads/regdelnull'}],\n",
       "  'id': 'attack-pattern--41290d9e-d4e8-4991-9f56-9ce1a8abff56',\n",
       "  'kill_chain_phases': [{'kill_chain_name': 'mitre-attack',\n",
       "    'phase_name': 'defense-evasion'}],\n",
       "  'modified': '2021-03-09T15:29:14.999Z',\n",
       "  'name': 'Modify Registry',\n",
       "  'spec_version': '2.1',\n",
       "  'type': 'attack-pattern'},\n",
       " {'created': '2021-03-09T15:29:14.999Z',\n",
       "  'description': 'Adversaries may encrypt data on target systems or on large numbers of systems in a network to interrupt availability to system and network resources. They can attempt to render stored data inaccessible by encrypting files or data on local and remote drives and withholding access to a decryption key. This may be done in order to extract monetary compensation from a victim in exchange for decryption or a decryption key (ransomware) or to render data permanently inaccessible in cases where the key is not saved or transmitted.(Citation: US-CERT Ransomware 2016)(Citation: FireEye WannaCry 2017)(Citation: US-CERT NotPetya 2017)(Citation: US-CERT SamSam 2018) In the case of ransomware, it is typical that common user files like Office documents, PDFs, images, videos, audio, text, and source code files will be encrypted. In some cases, adversaries may encrypt critical system files, disk partitions, and the MBR.(Citation: US-CERT NotPetya 2017)\\n\\nTo maximize impact on the target organization, malware designed for encrypting data may have worm-like features to propagate across a network by leveraging other attack techniques like [Valid Accounts](https://attack.mitre.org/techniques/T1078), [OS Credential Dumping](https://attack.mitre.org/techniques/T1003), and [SMB/Windows Admin Shares](https://attack.mitre.org/techniques/T1021/002).(Citation: FireEye WannaCry 2017)(Citation: US-CERT NotPetya 2017)\\n\\nIn cloud environments, storage objects within compromised accounts may also be encrypted.(Citation: Rhino S3 Ransomware Part 1)',\n",
       "  'external_references': [{'external_id': 'T1486',\n",
       "    'source_name': 'mitre-attack',\n",
       "    'url': 'https://attack.mitre.org/techniques/T1486'},\n",
       "   {'description': 'US-CERT. (2016, March 31). Alert (TA16-091A): Ransomware and Recent Variants. Retrieved March 15, 2019.',\n",
       "    'source_name': 'US-CERT Ransomware 2016',\n",
       "    'url': 'https://www.us-cert.gov/ncas/alerts/TA16-091A'},\n",
       "   {'description': 'Berry, A., Homan, J., and Eitzman, R. (2017, May 23). WannaCry Malware Profile. Retrieved March 15, 2019.',\n",
       "    'source_name': 'FireEye WannaCry 2017',\n",
       "    'url': 'https://www.fireeye.com/blog/threat-research/2017/05/wannacry-malware-profile.html'},\n",
       "   {'description': 'US-CERT. (2017, July 1). Alert (TA17-181A): Petya Ransomware. Retrieved March 15, 2019.',\n",
       "    'source_name': 'US-CERT NotPetya 2017',\n",
       "    'url': 'https://www.us-cert.gov/ncas/alerts/TA17-181A'},\n",
       "   {'description': 'US-CERT. (2018, December 3). Alert (AA18-337A): SamSam Ransomware. Retrieved March 15, 2019.',\n",
       "    'source_name': 'US-CERT SamSam 2018',\n",
       "    'url': 'https://www.us-cert.gov/ncas/alerts/AA18-337A'},\n",
       "   {'description': 'Gietzen, S. (n.d.). S3 Ransomware Part 1: Attack Vector. Retrieved April 14, 2021.',\n",
       "    'source_name': 'Rhino S3 Ransomware Part 1',\n",
       "    'url': 'https://rhinosecuritylabs.com/aws/s3-ransomware-part-1-attack-vector/'}],\n",
       "  'id': 'attack-pattern--595479f7-1801-4470-853a-292d66958574',\n",
       "  'kill_chain_phases': [{'kill_chain_name': 'mitre-attack',\n",
       "    'phase_name': 'impact'}],\n",
       "  'modified': '2021-03-09T15:29:14.999Z',\n",
       "  'name': 'Data Encrypted for Impact',\n",
       "  'spec_version': '2.1',\n",
       "  'type': 'attack-pattern'},\n",
       " {'created': '2021-03-09T15:29:14.999Z',\n",
       "  'description': 'Adversaries may abuse the Windows command shell for execution. The Windows command shell ([cmd](https://attack.mitre.org/software/S0106)) is the primary command prompt on Windows systems. The Windows command prompt can be used to control almost any aspect of a system, with various permission levels required for different subsets of commands. \\n\\nBatch files (ex: .bat or .cmd) also provide the shell with a list of sequential commands to run, as well as normal scripting operations such as conditionals and loops. Common uses of batch files include long or repetitive tasks, or the need to run the same set of commands on multiple systems.\\n\\nAdversaries may leverage [cmd](https://attack.mitre.org/software/S0106) to execute various commands and payloads. Common uses include [cmd](https://attack.mitre.org/software/S0106) to execute a single command, or abusing [cmd](https://attack.mitre.org/software/S0106) interactively with input and output forwarded over a command and control channel.',\n",
       "  'external_references': [{'external_id': 'T1059.003',\n",
       "    'source_name': 'mitre-attack',\n",
       "    'url': 'https://attack.mitre.org/techniques/T1059/003'}],\n",
       "  'id': 'attack-pattern--26e1f190-135f-40ee-86a2-a09bec63a001',\n",
       "  'kill_chain_phases': [{'kill_chain_name': 'mitre-attack',\n",
       "    'phase_name': 'execution'}],\n",
       "  'modified': '2021-03-09T15:29:14.999Z',\n",
       "  'name': 'Windows Command Shell',\n",
       "  'spec_version': '2.1',\n",
       "  'type': 'attack-pattern'},\n",
       " {'created': '2021-03-09T15:29:14.999Z',\n",
       "  'description': \"Adversaries may delete files left behind by the actions of their intrusion activity. Malware, tools, or other non-native files dropped or created on a system by an adversary may leave traces to indicate to what was done within a network and how. Removal of these files can occur during an intrusion, or as part of a post-intrusion process to minimize the adversary's footprint.\\n\\nThere are tools available from the host operating system to perform cleanup, but adversaries may use other tools as well. Examples include native [cmd](https://attack.mitre.org/software/S0106) functions such as DEL, secure deletion tools such as Windows Sysinternals SDelete, or other third-party file deletion tools. (Citation: Trend Micro APT Attack Tools)\",\n",
       "  'external_references': [{'external_id': 'T1070.004',\n",
       "    'source_name': 'mitre-attack',\n",
       "    'url': 'https://attack.mitre.org/techniques/T1070/004'},\n",
       "   {'description': 'Wilhoit, K. (2013, March 4). In-Depth Look: APT Attack Tools of the Trade. Retrieved December 2, 2015.',\n",
       "    'source_name': 'Trend Micro APT Attack Tools',\n",
       "    'url': 'http://blog.trendmicro.com/trendlabs-security-intelligence/in-depth-look-apt-attack-tools-of-the-trade/'}],\n",
       "  'id': 'attack-pattern--cba52de9-01de-474c-8f0d-0574e622fe29',\n",
       "  'kill_chain_phases': [{'kill_chain_name': 'mitre-attack',\n",
       "    'phase_name': 'defense-evasion'}],\n",
       "  'modified': '2021-03-09T15:29:14.999Z',\n",
       "  'name': 'File Deletion',\n",
       "  'spec_version': '2.1',\n",
       "  'type': 'attack-pattern'},\n",
       " {'created': '2021-03-09T15:29:14.999Z',\n",
       "  'id': 'malware--23c14bc4-169b-430f-b413-beef1e71fbb5',\n",
       "  'is_family': True,\n",
       "  'labels': ['adware'],\n",
       "  'modified': '2021-03-09T15:29:14.999Z',\n",
       "  'name': 'HelloKitty Ransomware',\n",
       "  'spec_version': '2.1',\n",
       "  'type': 'malware'},\n",
       " {'created': '2021-03-09T15:29:14.999Z',\n",
       "  'id': 'malware--395b7eb6-a295-47c1-afba-07ec8c864984',\n",
       "  'is_family': True,\n",
       "  'labels': ['adware'],\n",
       "  'modified': '2021-03-09T15:29:14.999Z',\n",
       "  'name': 'Win32:HelloKitty',\n",
       "  'spec_version': '2.1',\n",
       "  'type': 'malware'},\n",
       " {'created': '2021-03-09T15:29:14.999Z',\n",
       "  'id': 'malware--f8748f43-6b7c-46e2-8419-d67b2965d786',\n",
       "  'is_family': True,\n",
       "  'labels': ['adware'],\n",
       "  'modified': '2021-03-09T15:29:14.999Z',\n",
       "  'name': 'Ransom.HelloKitty',\n",
       "  'spec_version': '2.1',\n",
       "  'type': 'malware'}]"
      ]
     },
     "execution_count": 17,
     "metadata": {},
     "output_type": "execute_result"
    }
   ],
   "source": [
    "seq(test_stix.get(\"objects\")).map(lambda obj: obj[])"
   ]
  },
  {
   "cell_type": "code",
   "execution_count": 16,
   "metadata": {},
   "outputs": [
    {
     "data": {
      "text/html": [
       "<table>\n",
       "<tbody>\n",
       "<tr><td>2021-03-09T15:29:14.999Z</td><td>identity--ab072f15-9b87-4ee1-898f-b584d41f29b0</td><td>HelloKitty is a ransomware family that emerged in late 2020. While it lacks the sophistication of some of the more well-known families such as Ryuk, REvil, and Conti, it has nevertheless struck some notable targets, including CEMIG0. In this post, Sentinel Labs analyzes a recent HelloKitty sample and outlines the basic behaviors and traits associated with this family of ransomware.</td><td>[{&#x27;source_name&#x27;: &#x27;web&#x27;, &#x27;url&#x27;: &#x27;https://labs.sentinelone.com/hellokitty-ransomware-lacks-stealth-but-still-strikes-home/&#x27;}]                                                                                                                                                                                                                                                                                                                                                                                                                                                                                                                                                                                                                                                                                                                                                                                                                                                                                                                                                                                                                                                                                                                                     </td><td>report--027a551d-bdba-4d19-b75d-ccc9b7f8f0c5        </td><td>[&#x27;threat-report&#x27;]     </td><td>2021-03-09T15:29:14.999Z</td><td>HelloKitty Ransomware Lacks Stealth, But Still Strikes Home</td><td>[&#x27;identity--ab072f15-9b87-4ee1-898f-b584d41f29b0&#x27;, &#x27;indicator--e90bf0cc-53f8-4fe4-bd41-71a398e933fe&#x27;, &#x27;indicator--ce82185f-669e-4967-af57-bd8e40780446&#x27;, &#x27;indicator--d14d06d6-f10f-4e88-8f40-84c6645b6a72&#x27;, &#x27;indicator--f8e57340-967d-44ef-898d-c59d9d537550&#x27;, &#x27;attack-pattern--cac1c5f3-4706-47ab-bb1f-3e525a9aaed5&#x27;, &#x27;attack-pattern--afdc10eb-ef6e-4cff-be08-3c04c193f29b&#x27;, &#x27;attack-pattern--d982ff3e-8d33-433e-8156-0908528fec0c&#x27;, &#x27;attack-pattern--71130ea2-6191-42b8-b96b-eaa71f89879c&#x27;, &#x27;attack-pattern--41290d9e-d4e8-4991-9f56-9ce1a8abff56&#x27;, &#x27;attack-pattern--595479f7-1801-4470-853a-292d66958574&#x27;, &#x27;attack-pattern--26e1f190-135f-40ee-86a2-a09bec63a001&#x27;, &#x27;attack-pattern--cba52de9-01de-474c-8f0d-0574e622fe29&#x27;, &#x27;malware--23c14bc4-169b-430f-b413-beef1e71fbb5&#x27;, &#x27;malware--395b7eb6-a295-47c1-afba-07ec8c864984&#x27;, &#x27;malware--f8748f43-6b7c-46e2-8419-d67b2965d786&#x27;]</td><td>2021-03-09T15:29:14.999Z</td><td style=\"text-align: right;\">2.1</td><td>report        </td><td>                           </td><td>            </td><td>                                                                                            </td><td>    </td><td style=\"text-align: right;\">   </td><td>                        </td><td>                                                                 </td></tr>\n",
       "<tr><td>2021-03-09T15:29:14.999Z</td><td>                                              </td><td>                                                                                                                                                                                                                                                                                                                                                                                                </td><td>                                                                                                                                                                                                                                                                                                                                                                                                                                                                                                                                                                                                                                                                                                                                                                                                                                                                                                                                                                                                                                                                                                                                                                                                                                                                </td><td>identity--ab072f15-9b87-4ee1-898f-b584d41f29b0      </td><td>                      </td><td>2021-03-09T15:29:14.999Z</td><td>Open Threat Exchange                                       </td><td>                                                                                                                                                                                                                                                                                                                                                                                                                                                                                                                                                                                                                                                                                                                                                                                                                                                                                 </td><td>                        </td><td style=\"text-align: right;\">2.1</td><td>identity      </td><td>https://otx.alienvault.com/</td><td>organization</td><td>                                                                                            </td><td>    </td><td style=\"text-align: right;\">   </td><td>                        </td><td>                                                                 </td></tr>\n",
       "<tr><td>2021-03-09T15:29:16.000Z</td><td>                                              </td><td>MD5 of fadd8d7c13a18c251ded1f645ffea18a37f1c2de                                                                                                                                                                                                                                                                                                                                                 </td><td>                                                                                                                                                                                                                                                                                                                                                                                                                                                                                                                                                                                                                                                                                                                                                                                                                                                                                                                                                                                                                                                                                                                                                                                                                                                                </td><td>indicator--e90bf0cc-53f8-4fe4-bd41-71a398e933fe     </td><td>[&#x27;malicious-activity&#x27;]</td><td>2021-03-09T15:29:16.000Z</td><td>Ransom:Win32/Death.DB!MTB                                  </td><td>                                                                                                                                                                                                                                                                                                                                                                                                                                                                                                                                                                                                                                                                                                                                                                                                                                                                                 </td><td>                        </td><td style=\"text-align: right;\">2.1</td><td>indicator     </td><td>                           </td><td>            </td><td>[file:hashes.MD5 = &#x27;136bd70f7aa98f52861879d7dca03cf2&#x27;]                                      </td><td>stix</td><td style=\"text-align: right;\">2.1</td><td>2021-03-09T15:29:16.000Z</td><td>                                                                 </td></tr>\n",
       "<tr><td>2021-03-09T15:29:16.000Z</td><td>                                              </td><td>SHA256 of fadd8d7c13a18c251ded1f645ffea18a37f1c2de                                                                                                                                                                                                                                                                                                                                              </td><td>                                                                                                                                                                                                                                                                                                                                                                                                                                                                                                                                                                                                                                                                                                                                                                                                                                                                                                                                                                                                                                                                                                                                                                                                                                                                </td><td>indicator--ce82185f-669e-4967-af57-bd8e40780446     </td><td>[&#x27;malicious-activity&#x27;]</td><td>2021-03-09T15:29:16.000Z</td><td>Ransom:Win32/Death.DB!MTB                                  </td><td>                                                                                                                                                                                                                                                                                                                                                                                                                                                                                                                                                                                                                                                                                                                                                                                                                                                                                 </td><td>                        </td><td style=\"text-align: right;\">2.1</td><td>indicator     </td><td>                           </td><td>            </td><td>[file:hashes.&#x27;SHA-256&#x27; = &#x27;501487b025f25ddf1ca32deb57a2b4db43ccf6635c1edc74b9cff54ce0e5bcfe&#x27;]</td><td>stix</td><td style=\"text-align: right;\">2.1</td><td>2021-03-09T15:29:16.000Z</td><td>                                                                 </td></tr>\n",
       "<tr><td>2021-03-09T15:29:16.000Z</td><td>                                              </td><td>                                                                                                                                                                                                                                                                                                                                                                                                </td><td>                                                                                                                                                                                                                                                                                                                                                                                                                                                                                                                                                                                                                                                                                                                                                                                                                                                                                                                                                                                                                                                                                                                                                                                                                                                                </td><td>indicator--d14d06d6-f10f-4e88-8f40-84c6645b6a72     </td><td>[&#x27;malicious-activity&#x27;]</td><td>2021-03-09T15:29:16.000Z</td><td>Ransom:Win32/Death.DB!MTB                                  </td><td>                                                                                                                                                                                                                                                                                                                                                                                                                                                                                                                                                                                                                                                                                                                                                                                                                                                                                 </td><td>                        </td><td style=\"text-align: right;\">2.1</td><td>indicator     </td><td>                           </td><td>            </td><td>[file:hashes.&#x27;SHA-1&#x27; = &#x27;fadd8d7c13a18c251ded1f645ffea18a37f1c2de&#x27;]                          </td><td>stix</td><td style=\"text-align: right;\">2.1</td><td>2021-03-09T15:29:16.000Z</td><td>                                                                 </td></tr>\n",
       "<tr><td>2021-03-09T15:29:16.000Z</td><td>                                              </td><td>                                                                                                                                                                                                                                                                                                                                                                                                </td><td>                                                                                                                                                                                                                                                                                                                                                                                                                                                                                                                                                                                                                                                                                                                                                                                                                                                                                                                                                                                                                                                                                                                                                                                                                                                                </td><td>indicator--f8e57340-967d-44ef-898d-c59d9d537550     </td><td>[&#x27;malicious-activity&#x27;]</td><td>2021-03-09T15:29:16.000Z</td><td>                                                           </td><td>                                                                                                                                                                                                                                                                                                                                                                                                                                                                                                                                                                                                                                                                                                                                                                                                                                                                                 </td><td>                        </td><td style=\"text-align: right;\">2.1</td><td>indicator     </td><td>                           </td><td>            </td><td>[domain-name:value = &#x27;6x7dp6h3w6q3ugjv4yv5gycj3femb24kysgry5b44hhgfwc5ml5qrdad.onion&#x27;]      </td><td>stix</td><td style=\"text-align: right;\">2.1</td><td>2021-03-09T15:29:16.000Z</td><td>                                                                 </td></tr>\n",
       "<tr><td>2021-03-09T15:29:14.999Z</td><td>                                              </td><td>Adversaries may search local system sources, such as file systems or local databases, to find files of interest and sensitive data prior to Exfiltration.\n",
       "\n",
       "Adversaries may do this using a [Command and Scripting Interpreter](https://attack.mitre.org/techniques/T1059), such as [cmd](https://attack.mitre.org/software/S0106), which has functionality to interact with the file system to gather information. Some adversaries may also use [Automated Collection](https://attack.mitre.org/techniques/T1119) on the local system.                                                                                                                                                                                                                                                                                                                                                                                                 </td><td>[{&#x27;external_id&#x27;: &#x27;T1005&#x27;, &#x27;source_name&#x27;: &#x27;mitre-attack&#x27;, &#x27;url&#x27;: &#x27;https://attack.mitre.org/techniques/T1005&#x27;}]                                                                                                                                                                                                                                                                                                                                                                                                                                                                                                                                                                                                                                                                                                                                                                                                                                                                                                                                                                                                                                                                                                                                                   </td><td>attack-pattern--cac1c5f3-4706-47ab-bb1f-3e525a9aaed5</td><td>                      </td><td>2021-03-09T15:29:14.999Z</td><td>Data from Local System                                     </td><td>                                                                                                                                                                                                                                                                                                                                                                                                                                                                                                                                                                                                                                                                                                                                                                                                                                                                                 </td><td>                        </td><td style=\"text-align: right;\">2.1</td><td>attack-pattern</td><td>                           </td><td>            </td><td>                                                                                            </td><td>    </td><td style=\"text-align: right;\">   </td><td>                        </td><td>[{&#x27;kill_chain_name&#x27;: &#x27;mitre-attack&#x27;, &#x27;phase_name&#x27;: &#x27;collection&#x27;}]</td></tr>\n",
       "<tr><td>2021-03-09T15:29:14.999Z</td><td>                                              </td><td>Adversaries may interact with the Windows Registry to gather information about the system, configuration, and installed software.\n",
       "\n",
       "The Registry contains a significant amount of information about the operating system, configuration, software, and security.(Citation: Wikipedia Windows Registry) Information can easily be queried using the [Reg](https://attack.mitre.org/software/S0075) utility, though other means to access the Registry exist. Some of the information may help adversaries to further their operation within a network. Adversaries may use the information from [Query Registry](https://attack.mitre.org/techniques/T1012) during automated discovery to shape follow-on behaviors, including whether or not the adversary fully infects the target and/or attempts specific actions.                                                                                                                                                                                                                                                                                                                                                                                                 </td><td>[{&#x27;external_id&#x27;: &#x27;T1012&#x27;, &#x27;source_name&#x27;: &#x27;mitre-attack&#x27;, &#x27;url&#x27;: &#x27;https://attack.mitre.org/techniques/T1012&#x27;}, {&#x27;external_id&#x27;: &#x27;CAPEC-647&#x27;, &#x27;source_name&#x27;: &#x27;capec&#x27;, &#x27;url&#x27;: &#x27;https://capec.mitre.org/data/definitions/647.html&#x27;}, {&#x27;description&#x27;: &#x27;Wikipedia. (n.d.). Windows Registry. Retrieved February 2, 2015.&#x27;, &#x27;source_name&#x27;: &#x27;Wikipedia Windows Registry&#x27;, &#x27;url&#x27;: &#x27;https://en.wikipedia.org/wiki/Windows_Registry&#x27;}]                                                                                                                                                                                                                                                                                                                                                                                                                                                                                                                                                                                                                                                                                                                                                                                                                                      </td><td>attack-pattern--afdc10eb-ef6e-4cff-be08-3c04c193f29b</td><td>                      </td><td>2021-03-09T15:29:14.999Z</td><td>Query Registry                                             </td><td>                                                                                                                                                                                                                                                                                                                                                                                                                                                                                                                                                                                                                                                                                                                                                                                                                                                                                 </td><td>                        </td><td style=\"text-align: right;\">2.1</td><td>attack-pattern</td><td>                           </td><td>            </td><td>                                                                                            </td><td>    </td><td style=\"text-align: right;\">   </td><td>                        </td><td>[{&#x27;kill_chain_name&#x27;: &#x27;mitre-attack&#x27;, &#x27;phase_name&#x27;: &#x27;discovery&#x27;}] </td></tr>\n",
       "<tr><td>2021-03-09T15:29:14.999Z</td><td>                                              </td><td>Adversaries may abuse Windows Management Instrumentation (WMI) to achieve execution. WMI is a Windows administration feature that provides a uniform environment for local and remote access to Windows system components. It relies on the WMI service for local and remote access and the server message block (SMB) (Citation: Wikipedia SMB) and Remote Procedure Call Service (RPCS) (Citation: TechNet RPC) for remote access. RPCS operates over port 135. (Citation: MSDN WMI)\n",
       "\n",
       "An adversary can use WMI to interact with local and remote systems and use it as a means to perform many tactic functions, such as gathering information for Discovery and remote Execution of files as part of Lateral Movement. (Citation: FireEye WMI SANS 2015) (Citation: FireEye WMI 2015)                                                                                                                                                                                                                                                                                                                                                                                                 </td><td>[{&#x27;external_id&#x27;: &#x27;T1047&#x27;, &#x27;source_name&#x27;: &#x27;mitre-attack&#x27;, &#x27;url&#x27;: &#x27;https://attack.mitre.org/techniques/T1047&#x27;}, {&#x27;description&#x27;: &#x27;Wikipedia. (2016, June 12). Server Message Block. Retrieved June 12, 2016.&#x27;, &#x27;source_name&#x27;: &#x27;Wikipedia SMB&#x27;, &#x27;url&#x27;: &#x27;https://en.wikipedia.org/wiki/Server_Message_Block&#x27;}, {&#x27;description&#x27;: &#x27;Microsoft. (2003, March 28). What Is RPC?. Retrieved June 12, 2016.&#x27;, &#x27;source_name&#x27;: &#x27;TechNet RPC&#x27;, &#x27;url&#x27;: &#x27;https://technet.microsoft.com/en-us/library/cc787851.aspx&#x27;}, {&#x27;description&#x27;: &#x27;Microsoft. (n.d.). Windows Management Instrumentation. Retrieved April 27, 2016.&#x27;, &#x27;source_name&#x27;: &#x27;MSDN WMI&#x27;, &#x27;url&#x27;: &#x27;https://msdn.microsoft.com/en-us/library/aa394582.aspx&#x27;}, {&#x27;description&#x27;: &quot;Devon Kerr. (2015). There&#x27;s Something About WMI. Retrieved May 4, 2020.&quot;, &#x27;source_name&#x27;: &#x27;FireEye WMI SANS 2015&#x27;, &#x27;url&#x27;: &#x27;https://www.fireeye.com/content/dam/fireeye-www/services/pdfs/sans-dfir-2015.pdf&#x27;}, {&#x27;description&#x27;: &#x27;Ballenthin, W., et al. (2015). Windows Management Instrumentation (WMI) Offense, Defense, and Forensics. Retrieved March 30, 2016.&#x27;, &#x27;source_name&#x27;: &#x27;FireEye WMI 2015&#x27;, &#x27;url&#x27;: &#x27;https://www.fireeye.com/content/dam/fireeye-www/global/en/current-threats/pdfs/wp-windows-management-instrumentation.pdf&#x27;}]</td><td>attack-pattern--d982ff3e-8d33-433e-8156-0908528fec0c</td><td>                      </td><td>2021-03-09T15:29:14.999Z</td><td>Windows Management Instrumentation                         </td><td>                                                                                                                                                                                                                                                                                                                                                                                                                                                                                                                                                                                                                                                                                                                                                                                                                                                                                 </td><td>                        </td><td style=\"text-align: right;\">2.1</td><td>attack-pattern</td><td>                           </td><td>            </td><td>                                                                                            </td><td>    </td><td style=\"text-align: right;\">   </td><td>                        </td><td>[{&#x27;kill_chain_name&#x27;: &#x27;mitre-attack&#x27;, &#x27;phase_name&#x27;: &#x27;execution&#x27;}] </td></tr>\n",
       "<tr><td>2021-03-09T15:29:14.999Z</td><td>                                              </td><td>An adversary may attempt to get detailed information about the operating system and hardware, including version, patches, hotfixes, service packs, and architecture. Adversaries may use the information from [System Information Discovery](https://attack.mitre.org/techniques/T1082) during automated discovery to shape follow-on behaviors, including whether or not the adversary fully infects the target and/or attempts specific actions.\n",
       "\n",
       "Tools such as [Systeminfo](https://attack.mitre.org/software/S0096) can be used to gather detailed system information. A breakdown of system data can also be gathered through the macOS &lt;code&gt;systemsetup&lt;/code&gt; command, but it requires administrative privileges.\n",
       "\n",
       "Infrastructure as a Service (IaaS) cloud providers such as AWS, GCP, and Azure allow access to instance and virtual machine information via APIs. Successful authenticated API calls can return data such as the operating system platform and status of a particular instance or the model view of a virtual machine.(Citation: Amazon Describe Instance)(Citation: Google Instances Resource)(Citation: Microsoft Virutal Machine API)                                                                                                                                                                                                                                                                                                                                                                                                 </td><td>[{&#x27;external_id&#x27;: &#x27;T1082&#x27;, &#x27;source_name&#x27;: &#x27;mitre-attack&#x27;, &#x27;url&#x27;: &#x27;https://attack.mitre.org/techniques/T1082&#x27;}, {&#x27;external_id&#x27;: &#x27;CAPEC-312&#x27;, &#x27;source_name&#x27;: &#x27;capec&#x27;, &#x27;url&#x27;: &#x27;https://capec.mitre.org/data/definitions/312.html&#x27;}, {&#x27;description&#x27;: &#x27;Amazon. (n.d.). describe-instance-information. Retrieved March 3, 2020.&#x27;, &#x27;source_name&#x27;: &#x27;Amazon Describe Instance&#x27;, &#x27;url&#x27;: &#x27;https://docs.aws.amazon.com/cli/latest/reference/ssm/describe-instance-information.html&#x27;}, {&#x27;description&#x27;: &#x27;Google. (n.d.). Rest Resource: instance. Retrieved March 3, 2020.&#x27;, &#x27;source_name&#x27;: &#x27;Google Instances Resource&#x27;, &#x27;url&#x27;: &#x27;https://cloud.google.com/compute/docs/reference/rest/v1/instances&#x27;}, {&#x27;description&#x27;: &#x27;Microsoft. (2019, March 1). Virtual Machines - Get. Retrieved October 8, 2019.&#x27;, &#x27;source_name&#x27;: &#x27;Microsoft Virutal Machine API&#x27;, &#x27;url&#x27;: &#x27;https://docs.microsoft.com/en-us/rest/api/compute/virtualmachines/get&#x27;}]                                                                                                                                                                                                                                                                                                                                       </td><td>attack-pattern--71130ea2-6191-42b8-b96b-eaa71f89879c</td><td>                      </td><td>2021-03-09T15:29:14.999Z</td><td>System Information Discovery                               </td><td>                                                                                                                                                                                                                                                                                                                                                                                                                                                                                                                                                                                                                                                                                                                                                                                                                                                                                 </td><td>                        </td><td style=\"text-align: right;\">2.1</td><td>attack-pattern</td><td>                           </td><td>            </td><td>                                                                                            </td><td>    </td><td style=\"text-align: right;\">   </td><td>                        </td><td>[{&#x27;kill_chain_name&#x27;: &#x27;mitre-attack&#x27;, &#x27;phase_name&#x27;: &#x27;discovery&#x27;}] </td></tr>\n",
       "</tbody>\n",
       "</table><p>Showing 10 of 17 rows"
      ],
      "text/plain": [
       "[{'created': '2021-03-09T15:29:14.999Z', 'created_by_ref': 'identity--ab072f15-9b87-4ee1-898f-b584d41f29b0', 'description': 'HelloKitty is a ransomware family that emerged in late 2020. While it lacks the sophistication of some of the more well-known families such as Ryuk, REvil, and Conti, it has nevertheless struck some notable targets, including CEMIG0. In this post, Sentinel Labs analyzes a recent HelloKitty sample and outlines the basic behaviors and traits associated with this family of ransomware.', 'external_references': [{'source_name': 'web', 'url': 'https://labs.sentinelone.com/hellokitty-ransomware-lacks-stealth-but-still-strikes-home/'}], 'id': 'report--027a551d-bdba-4d19-b75d-ccc9b7f8f0c5', 'labels': ['threat-report'], 'modified': '2021-03-09T15:29:14.999Z', 'name': 'HelloKitty Ransomware Lacks Stealth, But Still Strikes Home', 'object_refs': ['identity--ab072f15-9b87-4ee1-898f-b584d41f29b0', 'indicator--e90bf0cc-53f8-4fe4-bd41-71a398e933fe', 'indicator--ce82185f-669e-4967-af57-bd8e40780446', 'indicator--d14d06d6-f10f-4e88-8f40-84c6645b6a72', 'indicator--f8e57340-967d-44ef-898d-c59d9d537550', 'attack-pattern--cac1c5f3-4706-47ab-bb1f-3e525a9aaed5', 'attack-pattern--afdc10eb-ef6e-4cff-be08-3c04c193f29b', 'attack-pattern--d982ff3e-8d33-433e-8156-0908528fec0c', 'attack-pattern--71130ea2-6191-42b8-b96b-eaa71f89879c', 'attack-pattern--41290d9e-d4e8-4991-9f56-9ce1a8abff56', 'attack-pattern--595479f7-1801-4470-853a-292d66958574', 'attack-pattern--26e1f190-135f-40ee-86a2-a09bec63a001', 'attack-pattern--cba52de9-01de-474c-8f0d-0574e622fe29', 'malware--23c14bc4-169b-430f-b413-beef1e71fbb5', 'malware--395b7eb6-a295-47c1-afba-07ec8c864984', 'malware--f8748f43-6b7c-46e2-8419-d67b2965d786'], 'published': '2021-03-09T15:29:14.999Z', 'spec_version': '2.1', 'type': 'report'}, {'contact_information': 'https://otx.alienvault.com/', 'created': '2021-03-09T15:29:14.999Z', 'id': 'identity--ab072f15-9b87-4ee1-898f-b584d41f29b0', 'identity_class': 'organization', 'modified': '2021-03-09T15:29:14.999Z', 'name': 'Open Threat Exchange', 'spec_version': '2.1', 'type': 'identity'}, {'created': '2021-03-09T15:29:16.000Z', 'description': 'MD5 of fadd8d7c13a18c251ded1f645ffea18a37f1c2de', 'id': 'indicator--e90bf0cc-53f8-4fe4-bd41-71a398e933fe', 'labels': ['malicious-activity'], 'modified': '2021-03-09T15:29:16.000Z', 'name': 'Ransom:Win32/Death.DB!MTB', 'pattern': \"[file:hashes.MD5 = '136bd70f7aa98f52861879d7dca03cf2']\", 'pattern_type': 'stix', 'pattern_version': '2.1', 'spec_version': '2.1', 'type': 'indicator', 'valid_from': '2021-03-09T15:29:16.000Z'}, {'created': '2021-03-09T15:29:16.000Z', 'description': 'SHA256 of fadd8d7c13a18c251ded1f645ffea18a37f1c2de', 'id': 'indicator--ce82185f-669e-4967-af57-bd8e40780446', 'labels': ['malicious-activity'], 'modified': '2021-03-09T15:29:16.000Z', 'name': 'Ransom:Win32/Death.DB!MTB', 'pattern': \"[file:hashes.'SHA-256' = '501487b025f25ddf1ca32deb57a2b4db43ccf6635c1edc74b9cff54ce0e5bcfe']\", 'pattern_type': 'stix', 'pattern_version': '2.1', 'spec_version': '2.1', 'type': 'indicator', 'valid_from': '2021-03-09T15:29:16.000Z'}, {'created': '2021-03-09T15:29:16.000Z', 'description': '', 'id': 'indicator--d14d06d6-f10f-4e88-8f40-84c6645b6a72', 'labels': ['malicious-activity'], 'modified': '2021-03-09T15:29:16.000Z', 'name': 'Ransom:Win32/Death.DB!MTB', 'pattern': \"[file:hashes.'SHA-1' = 'fadd8d7c13a18c251ded1f645ffea18a37f1c2de']\", 'pattern_type': 'stix', 'pattern_version': '2.1', 'spec_version': '2.1', 'type': 'indicator', 'valid_from': '2021-03-09T15:29:16.000Z'}, {'created': '2021-03-09T15:29:16.000Z', 'description': '', 'id': 'indicator--f8e57340-967d-44ef-898d-c59d9d537550', 'labels': ['malicious-activity'], 'modified': '2021-03-09T15:29:16.000Z', 'name': '', 'pattern': \"[domain-name:value = '6x7dp6h3w6q3ugjv4yv5gycj3femb24kysgry5b44hhgfwc5ml5qrdad.onion']\", 'pattern_type': 'stix', 'pattern_version': '2.1', 'spec_version': '2.1', 'type': 'indicator', 'valid_from': '2021-03-09T15:29:16.000Z'}, {'created': '2021-03-09T15:29:14.999Z', 'description': 'Adversaries may search local system sources, such as file systems or local databases, to find files of interest and sensitive data prior to Exfiltration.\\n\\nAdversaries may do this using a [Command and Scripting Interpreter](https://attack.mitre.org/techniques/T1059), such as [cmd](https://attack.mitre.org/software/S0106), which has functionality to interact with the file system to gather information. Some adversaries may also use [Automated Collection](https://attack.mitre.org/techniques/T1119) on the local system.\\n', 'external_references': [{'external_id': 'T1005', 'source_name': 'mitre-attack', 'url': 'https://attack.mitre.org/techniques/T1005'}], 'id': 'attack-pattern--cac1c5f3-4706-47ab-bb1f-3e525a9aaed5', 'kill_chain_phases': [{'kill_chain_name': 'mitre-attack', 'phase_name': 'collection'}], 'modified': '2021-03-09T15:29:14.999Z', 'name': 'Data from Local System', 'spec_version': '2.1', 'type': 'attack-pattern'}, {'created': '2021-03-09T15:29:14.999Z', 'description': 'Adversaries may interact with the Windows Registry to gather information about the system, configuration, and installed software.\\n\\nThe Registry contains a significant amount of information about the operating system, configuration, software, and security.(Citation: Wikipedia Windows Registry) Information can easily be queried using the [Reg](https://attack.mitre.org/software/S0075) utility, though other means to access the Registry exist. Some of the information may help adversaries to further their operation within a network. Adversaries may use the information from [Query Registry](https://attack.mitre.org/techniques/T1012) during automated discovery to shape follow-on behaviors, including whether or not the adversary fully infects the target and/or attempts specific actions.', 'external_references': [{'external_id': 'T1012', 'source_name': 'mitre-attack', 'url': 'https://attack.mitre.org/techniques/T1012'}, {'external_id': 'CAPEC-647', 'source_name': 'capec', 'url': 'https://capec.mitre.org/data/definitions/647.html'}, {'description': 'Wikipedia. (n.d.). Windows Registry. Retrieved February 2, 2015.', 'source_name': 'Wikipedia Windows Registry', 'url': 'https://en.wikipedia.org/wiki/Windows_Registry'}], 'id': 'attack-pattern--afdc10eb-ef6e-4cff-be08-3c04c193f29b', 'kill_chain_phases': [{'kill_chain_name': 'mitre-attack', 'phase_name': 'discovery'}], 'modified': '2021-03-09T15:29:14.999Z', 'name': 'Query Registry', 'spec_version': '2.1', 'type': 'attack-pattern'}, {'created': '2021-03-09T15:29:14.999Z', 'description': 'Adversaries may abuse Windows Management Instrumentation (WMI) to achieve execution. WMI is a Windows administration feature that provides a uniform environment for local and remote access to Windows system components. It relies on the WMI service for local and remote access and the server message block (SMB) (Citation: Wikipedia SMB) and Remote Procedure Call Service (RPCS) (Citation: TechNet RPC) for remote access. RPCS operates over port 135. (Citation: MSDN WMI)\\n\\nAn adversary can use WMI to interact with local and remote systems and use it as a means to perform many tactic functions, such as gathering information for Discovery and remote Execution of files as part of Lateral Movement. (Citation: FireEye WMI SANS 2015) (Citation: FireEye WMI 2015)', 'external_references': [{'external_id': 'T1047', 'source_name': 'mitre-attack', 'url': 'https://attack.mitre.org/techniques/T1047'}, {'description': 'Wikipedia. (2016, June 12). Server Message Block. Retrieved June 12, 2016.', 'source_name': 'Wikipedia SMB', 'url': 'https://en.wikipedia.org/wiki/Server_Message_Block'}, {'description': 'Microsoft. (2003, March 28). What Is RPC?. Retrieved June 12, 2016.', 'source_name': 'TechNet RPC', 'url': 'https://technet.microsoft.com/en-us/library/cc787851.aspx'}, {'description': 'Microsoft. (n.d.). Windows Management Instrumentation. Retrieved April 27, 2016.', 'source_name': 'MSDN WMI', 'url': 'https://msdn.microsoft.com/en-us/library/aa394582.aspx'}, {'description': \"Devon Kerr. (2015). There's Something About WMI. Retrieved May 4, 2020.\", 'source_name': 'FireEye WMI SANS 2015', 'url': 'https://www.fireeye.com/content/dam/fireeye-www/services/pdfs/sans-dfir-2015.pdf'}, {'description': 'Ballenthin, W., et al. (2015). Windows Management Instrumentation (WMI) Offense, Defense, and Forensics. Retrieved March 30, 2016.', 'source_name': 'FireEye WMI 2015', 'url': 'https://www.fireeye.com/content/dam/fireeye-www/global/en/current-threats/pdfs/wp-windows-management-instrumentation.pdf'}], 'id': 'attack-pattern--d982ff3e-8d33-433e-8156-0908528fec0c', 'kill_chain_phases': [{'kill_chain_name': 'mitre-attack', 'phase_name': 'execution'}], 'modified': '2021-03-09T15:29:14.999Z', 'name': 'Windows Management Instrumentation', 'spec_version': '2.1', 'type': 'attack-pattern'}, {'created': '2021-03-09T15:29:14.999Z', 'description': 'An adversary may attempt to get detailed information about the operating system and hardware, including version, patches, hotfixes, service packs, and architecture. Adversaries may use the information from [System Information Discovery](https://attack.mitre.org/techniques/T1082) during automated discovery to shape follow-on behaviors, including whether or not the adversary fully infects the target and/or attempts specific actions.\\n\\nTools such as [Systeminfo](https://attack.mitre.org/software/S0096) can be used to gather detailed system information. A breakdown of system data can also be gathered through the macOS <code>systemsetup</code> command, but it requires administrative privileges.\\n\\nInfrastructure as a Service (IaaS) cloud providers such as AWS, GCP, and Azure allow access to instance and virtual machine information via APIs. Successful authenticated API calls can return data such as the operating system platform and status of a particular instance or the model view of a virtual machine.(Citation: Amazon Describe Instance)(Citation: Google Instances Resource)(Citation: Microsoft Virutal Machine API)', 'external_references': [{'external_id': 'T1082', 'source_name': 'mitre-attack', 'url': 'https://attack.mitre.org/techniques/T1082'}, {'external_id': 'CAPEC-312', 'source_name': 'capec', 'url': 'https://capec.mitre.org/data/definitions/312.html'}, {'description': 'Amazon. (n.d.). describe-instance-information. Retrieved March 3, 2020.', 'source_name': 'Amazon Describe Instance', 'url': 'https://docs.aws.amazon.com/cli/latest/reference/ssm/describe-instance-information.html'}, {'description': 'Google. (n.d.). Rest Resource: instance. Retrieved March 3, 2020.', 'source_name': 'Google Instances Resource', 'url': 'https://cloud.google.com/compute/docs/reference/rest/v1/instances'}, {'description': 'Microsoft. (2019, March 1). Virtual Machines - Get. Retrieved October 8, 2019.', 'source_name': 'Microsoft Virutal Machine API', 'url': 'https://docs.microsoft.com/en-us/rest/api/compute/virtualmachines/get'}], 'id': 'attack-pattern--71130ea2-6191-42b8-b96b-eaa71f89879c', 'kill_chain_phases': [{'kill_chain_name': 'mitre-attack', 'phase_name': 'discovery'}], 'modified': '2021-03-09T15:29:14.999Z', 'name': 'System Information Discovery', 'spec_version': '2.1', 'type': 'attack-pattern'}, {'created': '2021-03-09T15:29:14.999Z', 'description': \"Adversaries may interact with the Windows Registry to hide configuration information within Registry keys, remove information as part of cleaning up, or as part of other techniques to aid in persistence and execution.\\n\\nAccess to specific areas of the Registry depends on account permissions, some requiring administrator-level access. The built-in Windows command-line utility [Reg](https://attack.mitre.org/software/S0075) may be used for local or remote Registry modification. (Citation: Microsoft Reg) Other tools may also be used, such as a remote access tool, which may contain functionality to interact with the Registry through the Windows API.\\n\\nRegistry modifications may also include actions to hide keys, such as prepending key names with a null character, which will cause an error and/or be ignored when read via [Reg](https://attack.mitre.org/software/S0075) or other utilities using the Win32 API. (Citation: Microsoft Reghide NOV 2006) Adversaries may abuse these pseudo-hidden keys to conceal payloads/commands used to maintain persistence. (Citation: TrendMicro POWELIKS AUG 2014) (Citation: SpectorOps Hiding Reg Jul 2017)\\n\\nThe Registry of a remote system may be modified to aid in execution of files as part of lateral movement. It requires the remote Registry service to be running on the target system. (Citation: Microsoft Remote) Often [Valid Accounts](https://attack.mitre.org/techniques/T1078) are required, along with access to the remote system's [SMB/Windows Admin Shares](https://attack.mitre.org/techniques/T1021/002) for RPC communication.\", 'external_references': [{'external_id': 'T1112', 'source_name': 'mitre-attack', 'url': 'https://attack.mitre.org/techniques/T1112'}, {'external_id': 'CAPEC-203', 'source_name': 'capec', 'url': 'https://capec.mitre.org/data/definitions/203.html'}, {'description': 'Microsoft. (2012, April 17). Reg. Retrieved May 1, 2015.', 'source_name': 'Microsoft Reg', 'url': 'https://technet.microsoft.com/en-us/library/cc732643.aspx'}, {'description': 'Russinovich, M. & Sharkey, K. (2006, January 10). Reghide. Retrieved August 9, 2018.', 'source_name': 'Microsoft Reghide NOV 2006', 'url': 'https://docs.microsoft.com/sysinternals/downloads/reghide'}, {'description': 'Santos, R. (2014, August 1). POWELIKS: Malware Hides In Windows Registry. Retrieved August 9, 2018.', 'source_name': 'TrendMicro POWELIKS AUG 2014', 'url': 'https://blog.trendmicro.com/trendlabs-security-intelligence/poweliks-malware-hides-in-windows-registry/'}, {'description': 'Reitz, B. (2017, July 14). Hiding Registry keys with PSReflect. Retrieved August 9, 2018.', 'source_name': 'SpectorOps Hiding Reg Jul 2017', 'url': 'https://posts.specterops.io/hiding-registry-keys-with-psreflect-b18ec5ac8353'}, {'description': 'Microsoft. (n.d.). Enable the Remote Registry Service. Retrieved May 1, 2015.', 'source_name': 'Microsoft Remote', 'url': 'https://technet.microsoft.com/en-us/library/cc754820.aspx'}, {'description': 'Miroshnikov, A. & Hall, J. (2017, April 18). 4657(S): A registry value was modified. Retrieved August 9, 2018.', 'source_name': 'Microsoft 4657 APR 2017', 'url': 'https://docs.microsoft.com/windows/security/threat-protection/auditing/event-4657'}, {'description': 'Russinovich, M. & Sharkey, K. (2016, July 4). RegDelNull v1.11. Retrieved August 10, 2018.', 'source_name': 'Microsoft RegDelNull July 2016', 'url': 'https://docs.microsoft.com/en-us/sysinternals/downloads/regdelnull'}], 'id': 'attack-pattern--41290d9e-d4e8-4991-9f56-9ce1a8abff56', 'kill_chain_phases': [{'kill_chain_name': 'mitre-attack', 'phase_name': 'defense-evasion'}], 'modified': '2021-03-09T15:29:14.999Z', 'name': 'Modify Registry', 'spec_version': '2.1', 'type': 'attack-pattern'}, {'created': '2021-03-09T15:29:14.999Z', 'description': 'Adversaries may encrypt data on target systems or on large numbers of systems in a network to interrupt availability to system and network resources. They can attempt to render stored data inaccessible by encrypting files or data on local and remote drives and withholding access to a decryption key. This may be done in order to extract monetary compensation from a victim in exchange for decryption or a decryption key (ransomware) or to render data permanently inaccessible in cases where the key is not saved or transmitted.(Citation: US-CERT Ransomware 2016)(Citation: FireEye WannaCry 2017)(Citation: US-CERT NotPetya 2017)(Citation: US-CERT SamSam 2018) In the case of ransomware, it is typical that common user files like Office documents, PDFs, images, videos, audio, text, and source code files will be encrypted. In some cases, adversaries may encrypt critical system files, disk partitions, and the MBR.(Citation: US-CERT NotPetya 2017)\\n\\nTo maximize impact on the target organization, malware designed for encrypting data may have worm-like features to propagate across a network by leveraging other attack techniques like [Valid Accounts](https://attack.mitre.org/techniques/T1078), [OS Credential Dumping](https://attack.mitre.org/techniques/T1003), and [SMB/Windows Admin Shares](https://attack.mitre.org/techniques/T1021/002).(Citation: FireEye WannaCry 2017)(Citation: US-CERT NotPetya 2017)\\n\\nIn cloud environments, storage objects within compromised accounts may also be encrypted.(Citation: Rhino S3 Ransomware Part 1)', 'external_references': [{'external_id': 'T1486', 'source_name': 'mitre-attack', 'url': 'https://attack.mitre.org/techniques/T1486'}, {'description': 'US-CERT. (2016, March 31). Alert (TA16-091A): Ransomware and Recent Variants. Retrieved March 15, 2019.', 'source_name': 'US-CERT Ransomware 2016', 'url': 'https://www.us-cert.gov/ncas/alerts/TA16-091A'}, {'description': 'Berry, A., Homan, J., and Eitzman, R. (2017, May 23). WannaCry Malware Profile. Retrieved March 15, 2019.', 'source_name': 'FireEye WannaCry 2017', 'url': 'https://www.fireeye.com/blog/threat-research/2017/05/wannacry-malware-profile.html'}, {'description': 'US-CERT. (2017, July 1). Alert (TA17-181A): Petya Ransomware. Retrieved March 15, 2019.', 'source_name': 'US-CERT NotPetya 2017', 'url': 'https://www.us-cert.gov/ncas/alerts/TA17-181A'}, {'description': 'US-CERT. (2018, December 3). Alert (AA18-337A): SamSam Ransomware. Retrieved March 15, 2019.', 'source_name': 'US-CERT SamSam 2018', 'url': 'https://www.us-cert.gov/ncas/alerts/AA18-337A'}, {'description': 'Gietzen, S. (n.d.). S3 Ransomware Part 1: Attack Vector. Retrieved April 14, 2021.', 'source_name': 'Rhino S3 Ransomware Part 1', 'url': 'https://rhinosecuritylabs.com/aws/s3-ransomware-part-1-attack-vector/'}], 'id': 'attack-pattern--595479f7-1801-4470-853a-292d66958574', 'kill_chain_phases': [{'kill_chain_name': 'mitre-attack', 'phase_name': 'impact'}], 'modified': '2021-03-09T15:29:14.999Z', 'name': 'Data Encrypted for Impact', 'spec_version': '2.1', 'type': 'attack-pattern'}, {'created': '2021-03-09T15:29:14.999Z', 'description': 'Adversaries may abuse the Windows command shell for execution. The Windows command shell ([cmd](https://attack.mitre.org/software/S0106)) is the primary command prompt on Windows systems. The Windows command prompt can be used to control almost any aspect of a system, with various permission levels required for different subsets of commands. \\n\\nBatch files (ex: .bat or .cmd) also provide the shell with a list of sequential commands to run, as well as normal scripting operations such as conditionals and loops. Common uses of batch files include long or repetitive tasks, or the need to run the same set of commands on multiple systems.\\n\\nAdversaries may leverage [cmd](https://attack.mitre.org/software/S0106) to execute various commands and payloads. Common uses include [cmd](https://attack.mitre.org/software/S0106) to execute a single command, or abusing [cmd](https://attack.mitre.org/software/S0106) interactively with input and output forwarded over a command and control channel.', 'external_references': [{'external_id': 'T1059.003', 'source_name': 'mitre-attack', 'url': 'https://attack.mitre.org/techniques/T1059/003'}], 'id': 'attack-pattern--26e1f190-135f-40ee-86a2-a09bec63a001', 'kill_chain_phases': [{'kill_chain_name': 'mitre-attack', 'phase_name': 'execution'}], 'modified': '2021-03-09T15:29:14.999Z', 'name': 'Windows Command Shell', 'spec_version': '2.1', 'type': 'attack-pattern'}, {'created': '2021-03-09T15:29:14.999Z', 'description': \"Adversaries may delete files left behind by the actions of their intrusion activity. Malware, tools, or other non-native files dropped or created on a system by an adversary may leave traces to indicate to what was done within a network and how. Removal of these files can occur during an intrusion, or as part of a post-intrusion process to minimize the adversary's footprint.\\n\\nThere are tools available from the host operating system to perform cleanup, but adversaries may use other tools as well. Examples include native [cmd](https://attack.mitre.org/software/S0106) functions such as DEL, secure deletion tools such as Windows Sysinternals SDelete, or other third-party file deletion tools. (Citation: Trend Micro APT Attack Tools)\", 'external_references': [{'external_id': 'T1070.004', 'source_name': 'mitre-attack', 'url': 'https://attack.mitre.org/techniques/T1070/004'}, {'description': 'Wilhoit, K. (2013, March 4). In-Depth Look: APT Attack Tools of the Trade. Retrieved December 2, 2015.', 'source_name': 'Trend Micro APT Attack Tools', 'url': 'http://blog.trendmicro.com/trendlabs-security-intelligence/in-depth-look-apt-attack-tools-of-the-trade/'}], 'id': 'attack-pattern--cba52de9-01de-474c-8f0d-0574e622fe29', 'kill_chain_phases': [{'kill_chain_name': 'mitre-attack', 'phase_name': 'defense-evasion'}], 'modified': '2021-03-09T15:29:14.999Z', 'name': 'File Deletion', 'spec_version': '2.1', 'type': 'attack-pattern'}, {'created': '2021-03-09T15:29:14.999Z', 'id': 'malware--23c14bc4-169b-430f-b413-beef1e71fbb5', 'is_family': True, 'labels': ['adware'], 'modified': '2021-03-09T15:29:14.999Z', 'name': 'HelloKitty Ransomware', 'spec_version': '2.1', 'type': 'malware'}, {'created': '2021-03-09T15:29:14.999Z', 'id': 'malware--395b7eb6-a295-47c1-afba-07ec8c864984', 'is_family': True, 'labels': ['adware'], 'modified': '2021-03-09T15:29:14.999Z', 'name': 'Win32:HelloKitty', 'spec_version': '2.1', 'type': 'malware'}, {'created': '2021-03-09T15:29:14.999Z', 'id': 'malware--f8748f43-6b7c-46e2-8419-d67b2965d786', 'is_family': True, 'labels': ['adware'], 'modified': '2021-03-09T15:29:14.999Z', 'name': 'Ransom.HelloKitty', 'spec_version': '2.1', 'type': 'malware'}]"
      ]
     },
     "execution_count": 16,
     "metadata": {},
     "output_type": "execute_result"
    }
   ],
   "source": [
    "seq(test_stix.get(\"objects\"))"
   ]
  },
  {
   "cell_type": "code",
   "execution_count": 13,
   "metadata": {},
   "outputs": [
    {
     "data": {
      "text/plain": [
       "{'id': 'bundle--027a551d-bdba-4d19-b75d-ccc9b7f8f0c5',\n",
       " 'objects': [{'created': '2021-03-09T15:29:14.999Z',\n",
       "   'created_by_ref': 'identity--ab072f15-9b87-4ee1-898f-b584d41f29b0',\n",
       "   'description': 'HelloKitty is a ransomware family that emerged in late 2020. While it lacks the sophistication of some of the more well-known families such as Ryuk, REvil, and Conti, it has nevertheless struck some notable targets, including CEMIG0. In this post, Sentinel Labs analyzes a recent HelloKitty sample and outlines the basic behaviors and traits associated with this family of ransomware.',\n",
       "   'external_references': [{'source_name': 'web',\n",
       "     'url': 'https://labs.sentinelone.com/hellokitty-ransomware-lacks-stealth-but-still-strikes-home/'}],\n",
       "   'id': 'report--027a551d-bdba-4d19-b75d-ccc9b7f8f0c5',\n",
       "   'labels': ['threat-report'],\n",
       "   'modified': '2021-03-09T15:29:14.999Z',\n",
       "   'name': 'HelloKitty Ransomware Lacks Stealth, But Still Strikes Home',\n",
       "   'object_refs': ['identity--ab072f15-9b87-4ee1-898f-b584d41f29b0',\n",
       "    'indicator--e90bf0cc-53f8-4fe4-bd41-71a398e933fe',\n",
       "    'indicator--ce82185f-669e-4967-af57-bd8e40780446',\n",
       "    'indicator--d14d06d6-f10f-4e88-8f40-84c6645b6a72',\n",
       "    'indicator--f8e57340-967d-44ef-898d-c59d9d537550',\n",
       "    'attack-pattern--cac1c5f3-4706-47ab-bb1f-3e525a9aaed5',\n",
       "    'attack-pattern--afdc10eb-ef6e-4cff-be08-3c04c193f29b',\n",
       "    'attack-pattern--d982ff3e-8d33-433e-8156-0908528fec0c',\n",
       "    'attack-pattern--71130ea2-6191-42b8-b96b-eaa71f89879c',\n",
       "    'attack-pattern--41290d9e-d4e8-4991-9f56-9ce1a8abff56',\n",
       "    'attack-pattern--595479f7-1801-4470-853a-292d66958574',\n",
       "    'attack-pattern--26e1f190-135f-40ee-86a2-a09bec63a001',\n",
       "    'attack-pattern--cba52de9-01de-474c-8f0d-0574e622fe29',\n",
       "    'malware--23c14bc4-169b-430f-b413-beef1e71fbb5',\n",
       "    'malware--395b7eb6-a295-47c1-afba-07ec8c864984',\n",
       "    'malware--f8748f43-6b7c-46e2-8419-d67b2965d786'],\n",
       "   'published': '2021-03-09T15:29:14.999Z',\n",
       "   'spec_version': '2.1',\n",
       "   'type': 'report'},\n",
       "  {'contact_information': 'https://otx.alienvault.com/',\n",
       "   'created': '2021-03-09T15:29:14.999Z',\n",
       "   'id': 'identity--ab072f15-9b87-4ee1-898f-b584d41f29b0',\n",
       "   'identity_class': 'organization',\n",
       "   'modified': '2021-03-09T15:29:14.999Z',\n",
       "   'name': 'Open Threat Exchange',\n",
       "   'spec_version': '2.1',\n",
       "   'type': 'identity'},\n",
       "  {'created': '2021-03-09T15:29:16.000Z',\n",
       "   'description': 'MD5 of fadd8d7c13a18c251ded1f645ffea18a37f1c2de',\n",
       "   'id': 'indicator--e90bf0cc-53f8-4fe4-bd41-71a398e933fe',\n",
       "   'labels': ['malicious-activity'],\n",
       "   'modified': '2021-03-09T15:29:16.000Z',\n",
       "   'name': 'Ransom:Win32/Death.DB!MTB',\n",
       "   'pattern': \"[file:hashes.MD5 = '136bd70f7aa98f52861879d7dca03cf2']\",\n",
       "   'pattern_type': 'stix',\n",
       "   'pattern_version': '2.1',\n",
       "   'spec_version': '2.1',\n",
       "   'type': 'indicator',\n",
       "   'valid_from': '2021-03-09T15:29:16.000Z'},\n",
       "  {'created': '2021-03-09T15:29:16.000Z',\n",
       "   'description': 'SHA256 of fadd8d7c13a18c251ded1f645ffea18a37f1c2de',\n",
       "   'id': 'indicator--ce82185f-669e-4967-af57-bd8e40780446',\n",
       "   'labels': ['malicious-activity'],\n",
       "   'modified': '2021-03-09T15:29:16.000Z',\n",
       "   'name': 'Ransom:Win32/Death.DB!MTB',\n",
       "   'pattern': \"[file:hashes.'SHA-256' = '501487b025f25ddf1ca32deb57a2b4db43ccf6635c1edc74b9cff54ce0e5bcfe']\",\n",
       "   'pattern_type': 'stix',\n",
       "   'pattern_version': '2.1',\n",
       "   'spec_version': '2.1',\n",
       "   'type': 'indicator',\n",
       "   'valid_from': '2021-03-09T15:29:16.000Z'},\n",
       "  {'created': '2021-03-09T15:29:16.000Z',\n",
       "   'description': '',\n",
       "   'id': 'indicator--d14d06d6-f10f-4e88-8f40-84c6645b6a72',\n",
       "   'labels': ['malicious-activity'],\n",
       "   'modified': '2021-03-09T15:29:16.000Z',\n",
       "   'name': 'Ransom:Win32/Death.DB!MTB',\n",
       "   'pattern': \"[file:hashes.'SHA-1' = 'fadd8d7c13a18c251ded1f645ffea18a37f1c2de']\",\n",
       "   'pattern_type': 'stix',\n",
       "   'pattern_version': '2.1',\n",
       "   'spec_version': '2.1',\n",
       "   'type': 'indicator',\n",
       "   'valid_from': '2021-03-09T15:29:16.000Z'},\n",
       "  {'created': '2021-03-09T15:29:16.000Z',\n",
       "   'description': '',\n",
       "   'id': 'indicator--f8e57340-967d-44ef-898d-c59d9d537550',\n",
       "   'labels': ['malicious-activity'],\n",
       "   'modified': '2021-03-09T15:29:16.000Z',\n",
       "   'name': '',\n",
       "   'pattern': \"[domain-name:value = '6x7dp6h3w6q3ugjv4yv5gycj3femb24kysgry5b44hhgfwc5ml5qrdad.onion']\",\n",
       "   'pattern_type': 'stix',\n",
       "   'pattern_version': '2.1',\n",
       "   'spec_version': '2.1',\n",
       "   'type': 'indicator',\n",
       "   'valid_from': '2021-03-09T15:29:16.000Z'},\n",
       "  {'created': '2021-03-09T15:29:14.999Z',\n",
       "   'description': 'Adversaries may search local system sources, such as file systems or local databases, to find files of interest and sensitive data prior to Exfiltration.\\n\\nAdversaries may do this using a [Command and Scripting Interpreter](https://attack.mitre.org/techniques/T1059), such as [cmd](https://attack.mitre.org/software/S0106), which has functionality to interact with the file system to gather information. Some adversaries may also use [Automated Collection](https://attack.mitre.org/techniques/T1119) on the local system.\\n',\n",
       "   'external_references': [{'external_id': 'T1005',\n",
       "     'source_name': 'mitre-attack',\n",
       "     'url': 'https://attack.mitre.org/techniques/T1005'}],\n",
       "   'id': 'attack-pattern--cac1c5f3-4706-47ab-bb1f-3e525a9aaed5',\n",
       "   'kill_chain_phases': [{'kill_chain_name': 'mitre-attack',\n",
       "     'phase_name': 'collection'}],\n",
       "   'modified': '2021-03-09T15:29:14.999Z',\n",
       "   'name': 'Data from Local System',\n",
       "   'spec_version': '2.1',\n",
       "   'type': 'attack-pattern'},\n",
       "  {'created': '2021-03-09T15:29:14.999Z',\n",
       "   'description': 'Adversaries may interact with the Windows Registry to gather information about the system, configuration, and installed software.\\n\\nThe Registry contains a significant amount of information about the operating system, configuration, software, and security.(Citation: Wikipedia Windows Registry) Information can easily be queried using the [Reg](https://attack.mitre.org/software/S0075) utility, though other means to access the Registry exist. Some of the information may help adversaries to further their operation within a network. Adversaries may use the information from [Query Registry](https://attack.mitre.org/techniques/T1012) during automated discovery to shape follow-on behaviors, including whether or not the adversary fully infects the target and/or attempts specific actions.',\n",
       "   'external_references': [{'external_id': 'T1012',\n",
       "     'source_name': 'mitre-attack',\n",
       "     'url': 'https://attack.mitre.org/techniques/T1012'},\n",
       "    {'external_id': 'CAPEC-647',\n",
       "     'source_name': 'capec',\n",
       "     'url': 'https://capec.mitre.org/data/definitions/647.html'},\n",
       "    {'description': 'Wikipedia. (n.d.). Windows Registry. Retrieved February 2, 2015.',\n",
       "     'source_name': 'Wikipedia Windows Registry',\n",
       "     'url': 'https://en.wikipedia.org/wiki/Windows_Registry'}],\n",
       "   'id': 'attack-pattern--afdc10eb-ef6e-4cff-be08-3c04c193f29b',\n",
       "   'kill_chain_phases': [{'kill_chain_name': 'mitre-attack',\n",
       "     'phase_name': 'discovery'}],\n",
       "   'modified': '2021-03-09T15:29:14.999Z',\n",
       "   'name': 'Query Registry',\n",
       "   'spec_version': '2.1',\n",
       "   'type': 'attack-pattern'},\n",
       "  {'created': '2021-03-09T15:29:14.999Z',\n",
       "   'description': 'Adversaries may abuse Windows Management Instrumentation (WMI) to achieve execution. WMI is a Windows administration feature that provides a uniform environment for local and remote access to Windows system components. It relies on the WMI service for local and remote access and the server message block (SMB) (Citation: Wikipedia SMB) and Remote Procedure Call Service (RPCS) (Citation: TechNet RPC) for remote access. RPCS operates over port 135. (Citation: MSDN WMI)\\n\\nAn adversary can use WMI to interact with local and remote systems and use it as a means to perform many tactic functions, such as gathering information for Discovery and remote Execution of files as part of Lateral Movement. (Citation: FireEye WMI SANS 2015) (Citation: FireEye WMI 2015)',\n",
       "   'external_references': [{'external_id': 'T1047',\n",
       "     'source_name': 'mitre-attack',\n",
       "     'url': 'https://attack.mitre.org/techniques/T1047'},\n",
       "    {'description': 'Wikipedia. (2016, June 12). Server Message Block. Retrieved June 12, 2016.',\n",
       "     'source_name': 'Wikipedia SMB',\n",
       "     'url': 'https://en.wikipedia.org/wiki/Server_Message_Block'},\n",
       "    {'description': 'Microsoft. (2003, March 28). What Is RPC?. Retrieved June 12, 2016.',\n",
       "     'source_name': 'TechNet RPC',\n",
       "     'url': 'https://technet.microsoft.com/en-us/library/cc787851.aspx'},\n",
       "    {'description': 'Microsoft. (n.d.). Windows Management Instrumentation. Retrieved April 27, 2016.',\n",
       "     'source_name': 'MSDN WMI',\n",
       "     'url': 'https://msdn.microsoft.com/en-us/library/aa394582.aspx'},\n",
       "    {'description': \"Devon Kerr. (2015). There's Something About WMI. Retrieved May 4, 2020.\",\n",
       "     'source_name': 'FireEye WMI SANS 2015',\n",
       "     'url': 'https://www.fireeye.com/content/dam/fireeye-www/services/pdfs/sans-dfir-2015.pdf'},\n",
       "    {'description': 'Ballenthin, W., et al. (2015). Windows Management Instrumentation (WMI) Offense, Defense, and Forensics. Retrieved March 30, 2016.',\n",
       "     'source_name': 'FireEye WMI 2015',\n",
       "     'url': 'https://www.fireeye.com/content/dam/fireeye-www/global/en/current-threats/pdfs/wp-windows-management-instrumentation.pdf'}],\n",
       "   'id': 'attack-pattern--d982ff3e-8d33-433e-8156-0908528fec0c',\n",
       "   'kill_chain_phases': [{'kill_chain_name': 'mitre-attack',\n",
       "     'phase_name': 'execution'}],\n",
       "   'modified': '2021-03-09T15:29:14.999Z',\n",
       "   'name': 'Windows Management Instrumentation',\n",
       "   'spec_version': '2.1',\n",
       "   'type': 'attack-pattern'},\n",
       "  {'created': '2021-03-09T15:29:14.999Z',\n",
       "   'description': 'An adversary may attempt to get detailed information about the operating system and hardware, including version, patches, hotfixes, service packs, and architecture. Adversaries may use the information from [System Information Discovery](https://attack.mitre.org/techniques/T1082) during automated discovery to shape follow-on behaviors, including whether or not the adversary fully infects the target and/or attempts specific actions.\\n\\nTools such as [Systeminfo](https://attack.mitre.org/software/S0096) can be used to gather detailed system information. A breakdown of system data can also be gathered through the macOS <code>systemsetup</code> command, but it requires administrative privileges.\\n\\nInfrastructure as a Service (IaaS) cloud providers such as AWS, GCP, and Azure allow access to instance and virtual machine information via APIs. Successful authenticated API calls can return data such as the operating system platform and status of a particular instance or the model view of a virtual machine.(Citation: Amazon Describe Instance)(Citation: Google Instances Resource)(Citation: Microsoft Virutal Machine API)',\n",
       "   'external_references': [{'external_id': 'T1082',\n",
       "     'source_name': 'mitre-attack',\n",
       "     'url': 'https://attack.mitre.org/techniques/T1082'},\n",
       "    {'external_id': 'CAPEC-312',\n",
       "     'source_name': 'capec',\n",
       "     'url': 'https://capec.mitre.org/data/definitions/312.html'},\n",
       "    {'description': 'Amazon. (n.d.). describe-instance-information. Retrieved March 3, 2020.',\n",
       "     'source_name': 'Amazon Describe Instance',\n",
       "     'url': 'https://docs.aws.amazon.com/cli/latest/reference/ssm/describe-instance-information.html'},\n",
       "    {'description': 'Google. (n.d.). Rest Resource: instance. Retrieved March 3, 2020.',\n",
       "     'source_name': 'Google Instances Resource',\n",
       "     'url': 'https://cloud.google.com/compute/docs/reference/rest/v1/instances'},\n",
       "    {'description': 'Microsoft. (2019, March 1). Virtual Machines - Get. Retrieved October 8, 2019.',\n",
       "     'source_name': 'Microsoft Virutal Machine API',\n",
       "     'url': 'https://docs.microsoft.com/en-us/rest/api/compute/virtualmachines/get'}],\n",
       "   'id': 'attack-pattern--71130ea2-6191-42b8-b96b-eaa71f89879c',\n",
       "   'kill_chain_phases': [{'kill_chain_name': 'mitre-attack',\n",
       "     'phase_name': 'discovery'}],\n",
       "   'modified': '2021-03-09T15:29:14.999Z',\n",
       "   'name': 'System Information Discovery',\n",
       "   'spec_version': '2.1',\n",
       "   'type': 'attack-pattern'},\n",
       "  {'created': '2021-03-09T15:29:14.999Z',\n",
       "   'description': \"Adversaries may interact with the Windows Registry to hide configuration information within Registry keys, remove information as part of cleaning up, or as part of other techniques to aid in persistence and execution.\\n\\nAccess to specific areas of the Registry depends on account permissions, some requiring administrator-level access. The built-in Windows command-line utility [Reg](https://attack.mitre.org/software/S0075) may be used for local or remote Registry modification. (Citation: Microsoft Reg) Other tools may also be used, such as a remote access tool, which may contain functionality to interact with the Registry through the Windows API.\\n\\nRegistry modifications may also include actions to hide keys, such as prepending key names with a null character, which will cause an error and/or be ignored when read via [Reg](https://attack.mitre.org/software/S0075) or other utilities using the Win32 API. (Citation: Microsoft Reghide NOV 2006) Adversaries may abuse these pseudo-hidden keys to conceal payloads/commands used to maintain persistence. (Citation: TrendMicro POWELIKS AUG 2014) (Citation: SpectorOps Hiding Reg Jul 2017)\\n\\nThe Registry of a remote system may be modified to aid in execution of files as part of lateral movement. It requires the remote Registry service to be running on the target system. (Citation: Microsoft Remote) Often [Valid Accounts](https://attack.mitre.org/techniques/T1078) are required, along with access to the remote system's [SMB/Windows Admin Shares](https://attack.mitre.org/techniques/T1021/002) for RPC communication.\",\n",
       "   'external_references': [{'external_id': 'T1112',\n",
       "     'source_name': 'mitre-attack',\n",
       "     'url': 'https://attack.mitre.org/techniques/T1112'},\n",
       "    {'external_id': 'CAPEC-203',\n",
       "     'source_name': 'capec',\n",
       "     'url': 'https://capec.mitre.org/data/definitions/203.html'},\n",
       "    {'description': 'Microsoft. (2012, April 17). Reg. Retrieved May 1, 2015.',\n",
       "     'source_name': 'Microsoft Reg',\n",
       "     'url': 'https://technet.microsoft.com/en-us/library/cc732643.aspx'},\n",
       "    {'description': 'Russinovich, M. & Sharkey, K. (2006, January 10). Reghide. Retrieved August 9, 2018.',\n",
       "     'source_name': 'Microsoft Reghide NOV 2006',\n",
       "     'url': 'https://docs.microsoft.com/sysinternals/downloads/reghide'},\n",
       "    {'description': 'Santos, R. (2014, August 1). POWELIKS: Malware Hides In Windows Registry. Retrieved August 9, 2018.',\n",
       "     'source_name': 'TrendMicro POWELIKS AUG 2014',\n",
       "     'url': 'https://blog.trendmicro.com/trendlabs-security-intelligence/poweliks-malware-hides-in-windows-registry/'},\n",
       "    {'description': 'Reitz, B. (2017, July 14). Hiding Registry keys with PSReflect. Retrieved August 9, 2018.',\n",
       "     'source_name': 'SpectorOps Hiding Reg Jul 2017',\n",
       "     'url': 'https://posts.specterops.io/hiding-registry-keys-with-psreflect-b18ec5ac8353'},\n",
       "    {'description': 'Microsoft. (n.d.). Enable the Remote Registry Service. Retrieved May 1, 2015.',\n",
       "     'source_name': 'Microsoft Remote',\n",
       "     'url': 'https://technet.microsoft.com/en-us/library/cc754820.aspx'},\n",
       "    {'description': 'Miroshnikov, A. & Hall, J. (2017, April 18). 4657(S): A registry value was modified. Retrieved August 9, 2018.',\n",
       "     'source_name': 'Microsoft 4657 APR 2017',\n",
       "     'url': 'https://docs.microsoft.com/windows/security/threat-protection/auditing/event-4657'},\n",
       "    {'description': 'Russinovich, M. & Sharkey, K. (2016, July 4). RegDelNull v1.11. Retrieved August 10, 2018.',\n",
       "     'source_name': 'Microsoft RegDelNull July 2016',\n",
       "     'url': 'https://docs.microsoft.com/en-us/sysinternals/downloads/regdelnull'}],\n",
       "   'id': 'attack-pattern--41290d9e-d4e8-4991-9f56-9ce1a8abff56',\n",
       "   'kill_chain_phases': [{'kill_chain_name': 'mitre-attack',\n",
       "     'phase_name': 'defense-evasion'}],\n",
       "   'modified': '2021-03-09T15:29:14.999Z',\n",
       "   'name': 'Modify Registry',\n",
       "   'spec_version': '2.1',\n",
       "   'type': 'attack-pattern'},\n",
       "  {'created': '2021-03-09T15:29:14.999Z',\n",
       "   'description': 'Adversaries may encrypt data on target systems or on large numbers of systems in a network to interrupt availability to system and network resources. They can attempt to render stored data inaccessible by encrypting files or data on local and remote drives and withholding access to a decryption key. This may be done in order to extract monetary compensation from a victim in exchange for decryption or a decryption key (ransomware) or to render data permanently inaccessible in cases where the key is not saved or transmitted.(Citation: US-CERT Ransomware 2016)(Citation: FireEye WannaCry 2017)(Citation: US-CERT NotPetya 2017)(Citation: US-CERT SamSam 2018) In the case of ransomware, it is typical that common user files like Office documents, PDFs, images, videos, audio, text, and source code files will be encrypted. In some cases, adversaries may encrypt critical system files, disk partitions, and the MBR.(Citation: US-CERT NotPetya 2017)\\n\\nTo maximize impact on the target organization, malware designed for encrypting data may have worm-like features to propagate across a network by leveraging other attack techniques like [Valid Accounts](https://attack.mitre.org/techniques/T1078), [OS Credential Dumping](https://attack.mitre.org/techniques/T1003), and [SMB/Windows Admin Shares](https://attack.mitre.org/techniques/T1021/002).(Citation: FireEye WannaCry 2017)(Citation: US-CERT NotPetya 2017)\\n\\nIn cloud environments, storage objects within compromised accounts may also be encrypted.(Citation: Rhino S3 Ransomware Part 1)',\n",
       "   'external_references': [{'external_id': 'T1486',\n",
       "     'source_name': 'mitre-attack',\n",
       "     'url': 'https://attack.mitre.org/techniques/T1486'},\n",
       "    {'description': 'US-CERT. (2016, March 31). Alert (TA16-091A): Ransomware and Recent Variants. Retrieved March 15, 2019.',\n",
       "     'source_name': 'US-CERT Ransomware 2016',\n",
       "     'url': 'https://www.us-cert.gov/ncas/alerts/TA16-091A'},\n",
       "    {'description': 'Berry, A., Homan, J., and Eitzman, R. (2017, May 23). WannaCry Malware Profile. Retrieved March 15, 2019.',\n",
       "     'source_name': 'FireEye WannaCry 2017',\n",
       "     'url': 'https://www.fireeye.com/blog/threat-research/2017/05/wannacry-malware-profile.html'},\n",
       "    {'description': 'US-CERT. (2017, July 1). Alert (TA17-181A): Petya Ransomware. Retrieved March 15, 2019.',\n",
       "     'source_name': 'US-CERT NotPetya 2017',\n",
       "     'url': 'https://www.us-cert.gov/ncas/alerts/TA17-181A'},\n",
       "    {'description': 'US-CERT. (2018, December 3). Alert (AA18-337A): SamSam Ransomware. Retrieved March 15, 2019.',\n",
       "     'source_name': 'US-CERT SamSam 2018',\n",
       "     'url': 'https://www.us-cert.gov/ncas/alerts/AA18-337A'},\n",
       "    {'description': 'Gietzen, S. (n.d.). S3 Ransomware Part 1: Attack Vector. Retrieved April 14, 2021.',\n",
       "     'source_name': 'Rhino S3 Ransomware Part 1',\n",
       "     'url': 'https://rhinosecuritylabs.com/aws/s3-ransomware-part-1-attack-vector/'}],\n",
       "   'id': 'attack-pattern--595479f7-1801-4470-853a-292d66958574',\n",
       "   'kill_chain_phases': [{'kill_chain_name': 'mitre-attack',\n",
       "     'phase_name': 'impact'}],\n",
       "   'modified': '2021-03-09T15:29:14.999Z',\n",
       "   'name': 'Data Encrypted for Impact',\n",
       "   'spec_version': '2.1',\n",
       "   'type': 'attack-pattern'},\n",
       "  {'created': '2021-03-09T15:29:14.999Z',\n",
       "   'description': 'Adversaries may abuse the Windows command shell for execution. The Windows command shell ([cmd](https://attack.mitre.org/software/S0106)) is the primary command prompt on Windows systems. The Windows command prompt can be used to control almost any aspect of a system, with various permission levels required for different subsets of commands. \\n\\nBatch files (ex: .bat or .cmd) also provide the shell with a list of sequential commands to run, as well as normal scripting operations such as conditionals and loops. Common uses of batch files include long or repetitive tasks, or the need to run the same set of commands on multiple systems.\\n\\nAdversaries may leverage [cmd](https://attack.mitre.org/software/S0106) to execute various commands and payloads. Common uses include [cmd](https://attack.mitre.org/software/S0106) to execute a single command, or abusing [cmd](https://attack.mitre.org/software/S0106) interactively with input and output forwarded over a command and control channel.',\n",
       "   'external_references': [{'external_id': 'T1059.003',\n",
       "     'source_name': 'mitre-attack',\n",
       "     'url': 'https://attack.mitre.org/techniques/T1059/003'}],\n",
       "   'id': 'attack-pattern--26e1f190-135f-40ee-86a2-a09bec63a001',\n",
       "   'kill_chain_phases': [{'kill_chain_name': 'mitre-attack',\n",
       "     'phase_name': 'execution'}],\n",
       "   'modified': '2021-03-09T15:29:14.999Z',\n",
       "   'name': 'Windows Command Shell',\n",
       "   'spec_version': '2.1',\n",
       "   'type': 'attack-pattern'},\n",
       "  {'created': '2021-03-09T15:29:14.999Z',\n",
       "   'description': \"Adversaries may delete files left behind by the actions of their intrusion activity. Malware, tools, or other non-native files dropped or created on a system by an adversary may leave traces to indicate to what was done within a network and how. Removal of these files can occur during an intrusion, or as part of a post-intrusion process to minimize the adversary's footprint.\\n\\nThere are tools available from the host operating system to perform cleanup, but adversaries may use other tools as well. Examples include native [cmd](https://attack.mitre.org/software/S0106) functions such as DEL, secure deletion tools such as Windows Sysinternals SDelete, or other third-party file deletion tools. (Citation: Trend Micro APT Attack Tools)\",\n",
       "   'external_references': [{'external_id': 'T1070.004',\n",
       "     'source_name': 'mitre-attack',\n",
       "     'url': 'https://attack.mitre.org/techniques/T1070/004'},\n",
       "    {'description': 'Wilhoit, K. (2013, March 4). In-Depth Look: APT Attack Tools of the Trade. Retrieved December 2, 2015.',\n",
       "     'source_name': 'Trend Micro APT Attack Tools',\n",
       "     'url': 'http://blog.trendmicro.com/trendlabs-security-intelligence/in-depth-look-apt-attack-tools-of-the-trade/'}],\n",
       "   'id': 'attack-pattern--cba52de9-01de-474c-8f0d-0574e622fe29',\n",
       "   'kill_chain_phases': [{'kill_chain_name': 'mitre-attack',\n",
       "     'phase_name': 'defense-evasion'}],\n",
       "   'modified': '2021-03-09T15:29:14.999Z',\n",
       "   'name': 'File Deletion',\n",
       "   'spec_version': '2.1',\n",
       "   'type': 'attack-pattern'},\n",
       "  {'created': '2021-03-09T15:29:14.999Z',\n",
       "   'id': 'malware--23c14bc4-169b-430f-b413-beef1e71fbb5',\n",
       "   'is_family': True,\n",
       "   'labels': ['adware'],\n",
       "   'modified': '2021-03-09T15:29:14.999Z',\n",
       "   'name': 'HelloKitty Ransomware',\n",
       "   'spec_version': '2.1',\n",
       "   'type': 'malware'},\n",
       "  {'created': '2021-03-09T15:29:14.999Z',\n",
       "   'id': 'malware--395b7eb6-a295-47c1-afba-07ec8c864984',\n",
       "   'is_family': True,\n",
       "   'labels': ['adware'],\n",
       "   'modified': '2021-03-09T15:29:14.999Z',\n",
       "   'name': 'Win32:HelloKitty',\n",
       "   'spec_version': '2.1',\n",
       "   'type': 'malware'},\n",
       "  {'created': '2021-03-09T15:29:14.999Z',\n",
       "   'id': 'malware--f8748f43-6b7c-46e2-8419-d67b2965d786',\n",
       "   'is_family': True,\n",
       "   'labels': ['adware'],\n",
       "   'modified': '2021-03-09T15:29:14.999Z',\n",
       "   'name': 'Ransom.HelloKitty',\n",
       "   'spec_version': '2.1',\n",
       "   'type': 'malware'}],\n",
       " 'spec_version': '2.1',\n",
       " 'type': 'bundle'}"
      ]
     },
     "execution_count": 13,
     "metadata": {},
     "output_type": "execute_result"
    }
   ],
   "source": [
    "test_stix"
   ]
  },
  {
   "cell_type": "markdown",
   "metadata": {},
   "source": [
    "---"
   ]
  },
  {
   "cell_type": "markdown",
   "metadata": {},
   "source": [
    "# Custom STIX Content\n",
    "\n",
    "\n",
    "- https://stix2.readthedocs.io/en/latest/guide/custom.html"
   ]
  },
  {
   "cell_type": "code",
   "execution_count": 4,
   "metadata": {
    "ExecuteTime": {
     "end_time": "2021-06-04T10:02:20.246945Z",
     "start_time": "2021-06-04T10:02:20.029388Z"
    }
   },
   "outputs": [
    {
     "data": {
      "application/javascript": [
       "\n",
       "            setTimeout(function() {\n",
       "                var nbb_cell_id = 4;\n",
       "                var nbb_unformatted_code = \"from functional import seq\\nfrom stix2 import parse\\nfrom stix2.v21 import ThreatActor, Identity, Relationship, Indicator, Bundle\";\n",
       "                var nbb_formatted_code = \"from functional import seq\\nfrom stix2 import parse\\nfrom stix2.v21 import ThreatActor, Identity, Relationship, Indicator, Bundle\";\n",
       "                var nbb_cells = Jupyter.notebook.get_cells();\n",
       "                for (var i = 0; i < nbb_cells.length; ++i) {\n",
       "                    if (nbb_cells[i].input_prompt_number == nbb_cell_id) {\n",
       "                        if (nbb_cells[i].get_text() == nbb_unformatted_code) {\n",
       "                             nbb_cells[i].set_text(nbb_formatted_code);\n",
       "                        }\n",
       "                        break;\n",
       "                    }\n",
       "                }\n",
       "            }, 500);\n",
       "            "
      ],
      "text/plain": [
       "<IPython.core.display.Javascript object>"
      ]
     },
     "metadata": {},
     "output_type": "display_data"
    }
   ],
   "source": [
    "from functional import seq\n",
    "from stix2 import parse\n",
    "from stix2.v21 import ThreatActor, Identity, Relationship, Indicator, Bundle"
   ]
  },
  {
   "cell_type": "code",
   "execution_count": 5,
   "metadata": {
    "ExecuteTime": {
     "end_time": "2021-06-04T10:02:20.360154Z",
     "start_time": "2021-06-04T10:02:20.260890Z"
    }
   },
   "outputs": [
    {
     "name": "stdout",
     "output_type": "stream",
     "text": [
      "ANTLR runtime and generated code versions disagree: 4.9.2!=4.7.1\n",
      "ANTLR runtime and generated code versions disagree: 4.9.2!=4.7.1\n",
      "ANTLR runtime and generated code versions disagree: 4.9.2!=4.7.1\n",
      "ANTLR runtime and generated code versions disagree: 4.9.2!=4.7.1\n",
      "ANTLR runtime and generated code versions disagree: 4.9.2!=4.7.1\n",
      "ANTLR runtime and generated code versions disagree: 4.9.2!=4.7.1\n",
      "ANTLR runtime and generated code versions disagree: 4.9.2!=4.7.1\n",
      "ANTLR runtime and generated code versions disagree: 4.9.2!=4.7.1\n"
     ]
    },
    {
     "data": {
      "application/javascript": [
       "\n",
       "            setTimeout(function() {\n",
       "                var nbb_cell_id = 5;\n",
       "                var nbb_unformatted_code = \"data = open(\\\"../data/hellokitty.stix21.6047944bd5bd6b6f323e59fa.json\\\", \\\"r\\\").read()\\nfeed = seq.json(\\\"../data/hellokitty.feeds.json\\\").to_dict()\\nstix = parse(data, allow_custom=True, version=\\\"2.1\\\")\";\n",
       "                var nbb_formatted_code = \"data = open(\\\"../data/hellokitty.stix21.6047944bd5bd6b6f323e59fa.json\\\", \\\"r\\\").read()\\nfeed = seq.json(\\\"../data/hellokitty.feeds.json\\\").to_dict()\\nstix = parse(data, allow_custom=True, version=\\\"2.1\\\")\";\n",
       "                var nbb_cells = Jupyter.notebook.get_cells();\n",
       "                for (var i = 0; i < nbb_cells.length; ++i) {\n",
       "                    if (nbb_cells[i].input_prompt_number == nbb_cell_id) {\n",
       "                        if (nbb_cells[i].get_text() == nbb_unformatted_code) {\n",
       "                             nbb_cells[i].set_text(nbb_formatted_code);\n",
       "                        }\n",
       "                        break;\n",
       "                    }\n",
       "                }\n",
       "            }, 500);\n",
       "            "
      ],
      "text/plain": [
       "<IPython.core.display.Javascript object>"
      ]
     },
     "metadata": {},
     "output_type": "display_data"
    }
   ],
   "source": [
    "data = open(\"../data/hellokitty.stix21.6047944bd5bd6b6f323e59fa.json\", \"r\").read()\n",
    "feed = seq.json(\"../data/hellokitty.feeds.json\").to_dict()\n",
    "stix = parse(data, allow_custom=True, version=\"2.1\")"
   ]
  },
  {
   "cell_type": "code",
   "execution_count": 6,
   "metadata": {
    "ExecuteTime": {
     "end_time": "2021-06-04T10:02:20.399174Z",
     "start_time": "2021-06-04T10:02:20.376448Z"
    }
   },
   "outputs": [
    {
     "data": {
      "text/plain": [
       "{'id': '6047944bd5bd6b6f323e59fa',\n",
       " 'name': 'HelloKitty Ransomware Lacks Stealth, But Still Strikes Home',\n",
       " 'description': 'HelloKitty is a ransomware family that emerged in late 2020. While it lacks the sophistication of some of the more well-known families such as Ryuk, REvil, and Conti, it has nevertheless struck some notable targets, including CEMIG0. In this post, Sentinel Labs analyzes a recent HelloKitty sample and outlines the basic behaviors and traits associated with this family of ransomware.',\n",
       " 'author_name': 'AlienVault',\n",
       " 'modified': '2021-03-09T15:29:14.999000',\n",
       " 'created': '2021-03-09T15:29:14.999000',\n",
       " 'revision': 1,\n",
       " 'tlp': 'white',\n",
       " 'public': 1,\n",
       " 'adversary': '',\n",
       " 'indicators': [{'id': 2892282605,\n",
       "   'indicator': '136bd70f7aa98f52861879d7dca03cf2',\n",
       "   'type': 'FileHash-MD5',\n",
       "   'created': '2021-03-09T15:29:16',\n",
       "   'content': '',\n",
       "   'title': 'Ransom:Win32/Death.DB!MTB',\n",
       "   'description': 'MD5 of fadd8d7c13a18c251ded1f645ffea18a37f1c2de',\n",
       "   'expiration': None,\n",
       "   'is_active': 1,\n",
       "   'role': None},\n",
       "  {'id': 2892282606,\n",
       "   'indicator': '501487b025f25ddf1ca32deb57a2b4db43ccf6635c1edc74b9cff54ce0e5bcfe',\n",
       "   'type': 'FileHash-SHA256',\n",
       "   'created': '2021-03-09T15:29:16',\n",
       "   'content': '',\n",
       "   'title': 'Ransom:Win32/Death.DB!MTB',\n",
       "   'description': 'SHA256 of fadd8d7c13a18c251ded1f645ffea18a37f1c2de',\n",
       "   'expiration': None,\n",
       "   'is_active': 1,\n",
       "   'role': None},\n",
       "  {'id': 2892282607,\n",
       "   'indicator': 'fadd8d7c13a18c251ded1f645ffea18a37f1c2de',\n",
       "   'type': 'FileHash-SHA1',\n",
       "   'created': '2021-03-09T15:29:16',\n",
       "   'content': '',\n",
       "   'title': 'Ransom:Win32/Death.DB!MTB',\n",
       "   'description': '',\n",
       "   'expiration': None,\n",
       "   'is_active': 1,\n",
       "   'role': None},\n",
       "  {'id': 2892282608,\n",
       "   'indicator': '6x7dp6h3w6q3ugjv4yv5gycj3femb24kysgry5b44hhgfwc5ml5qrdad.onion',\n",
       "   'type': 'domain',\n",
       "   'created': '2021-03-09T15:29:16',\n",
       "   'content': '',\n",
       "   'title': '',\n",
       "   'description': '',\n",
       "   'expiration': None,\n",
       "   'is_active': 1,\n",
       "   'role': None}],\n",
       " 'tags': ['HelloKitty', 'Ransomware'],\n",
       " 'targeted_countries': [],\n",
       " 'malware_families': ['HelloKitty Ransomware',\n",
       "  'Win32:HelloKitty',\n",
       "  'Ransom.HelloKitty'],\n",
       " 'attack_ids': ['T1005',\n",
       "  'T1012',\n",
       "  'T1047',\n",
       "  'T1082',\n",
       "  'T1112',\n",
       "  'T1486',\n",
       "  'T1059.003',\n",
       "  'T1070.004'],\n",
       " 'references': ['https://labs.sentinelone.com/hellokitty-ransomware-lacks-stealth-but-still-strikes-home/'],\n",
       " 'industries': [],\n",
       " 'extract_source': [],\n",
       " 'more_indicators': False}"
      ]
     },
     "execution_count": 6,
     "metadata": {},
     "output_type": "execute_result"
    },
    {
     "data": {
      "application/javascript": [
       "\n",
       "            setTimeout(function() {\n",
       "                var nbb_cell_id = 6;\n",
       "                var nbb_unformatted_code = \"feed\";\n",
       "                var nbb_formatted_code = \"feed\";\n",
       "                var nbb_cells = Jupyter.notebook.get_cells();\n",
       "                for (var i = 0; i < nbb_cells.length; ++i) {\n",
       "                    if (nbb_cells[i].input_prompt_number == nbb_cell_id) {\n",
       "                        if (nbb_cells[i].get_text() == nbb_unformatted_code) {\n",
       "                             nbb_cells[i].set_text(nbb_formatted_code);\n",
       "                        }\n",
       "                        break;\n",
       "                    }\n",
       "                }\n",
       "            }, 500);\n",
       "            "
      ],
      "text/plain": [
       "<IPython.core.display.Javascript object>"
      ]
     },
     "metadata": {},
     "output_type": "display_data"
    }
   ],
   "source": [
    "feed"
   ]
  },
  {
   "cell_type": "code",
   "execution_count": 7,
   "metadata": {
    "ExecuteTime": {
     "end_time": "2021-06-04T10:02:20.430705Z",
     "start_time": "2021-06-04T10:02:20.406900Z"
    }
   },
   "outputs": [
    {
     "data": {
      "text/plain": [
       "Bundle(type='bundle', id='bundle--027a551d-bdba-4d19-b75d-ccc9b7f8f0c5', objects=[Report(type='report', spec_version='2.1', id='report--027a551d-bdba-4d19-b75d-ccc9b7f8f0c5', created_by_ref='identity--ab072f15-9b87-4ee1-898f-b584d41f29b0', created='2021-03-09T15:29:14.999Z', modified='2021-03-09T15:29:14.999Z', name='HelloKitty Ransomware Lacks Stealth, But Still Strikes Home', description='HelloKitty is a ransomware family that emerged in late 2020. While it lacks the sophistication of some of the more well-known families such as Ryuk, REvil, and Conti, it has nevertheless struck some notable targets, including CEMIG0. In this post, Sentinel Labs analyzes a recent HelloKitty sample and outlines the basic behaviors and traits associated with this family of ransomware.', published='2021-03-09T15:29:14.999Z', object_refs=['identity--ab072f15-9b87-4ee1-898f-b584d41f29b0', 'indicator--e90bf0cc-53f8-4fe4-bd41-71a398e933fe', 'indicator--ce82185f-669e-4967-af57-bd8e40780446', 'indicator--d14d06d6-f10f-4e88-8f40-84c6645b6a72', 'indicator--f8e57340-967d-44ef-898d-c59d9d537550', 'attack-pattern--cac1c5f3-4706-47ab-bb1f-3e525a9aaed5', 'attack-pattern--afdc10eb-ef6e-4cff-be08-3c04c193f29b', 'attack-pattern--d982ff3e-8d33-433e-8156-0908528fec0c', 'attack-pattern--71130ea2-6191-42b8-b96b-eaa71f89879c', 'attack-pattern--41290d9e-d4e8-4991-9f56-9ce1a8abff56', 'attack-pattern--595479f7-1801-4470-853a-292d66958574', 'attack-pattern--26e1f190-135f-40ee-86a2-a09bec63a001', 'attack-pattern--cba52de9-01de-474c-8f0d-0574e622fe29', 'malware--23c14bc4-169b-430f-b413-beef1e71fbb5', 'malware--395b7eb6-a295-47c1-afba-07ec8c864984', 'malware--f8748f43-6b7c-46e2-8419-d67b2965d786'], labels=['threat-report'], external_references=[ExternalReference(source_name='web', url='https://labs.sentinelone.com/hellokitty-ransomware-lacks-stealth-but-still-strikes-home/')]), Identity(type='identity', spec_version='2.1', id='identity--ab072f15-9b87-4ee1-898f-b584d41f29b0', created='2021-03-09T15:29:14.999Z', modified='2021-03-09T15:29:14.999Z', name='Open Threat Exchange', identity_class='organization', contact_information='https://otx.alienvault.com/'), Indicator(type='indicator', spec_version='2.1', id='indicator--e90bf0cc-53f8-4fe4-bd41-71a398e933fe', created='2021-03-09T15:29:16.000Z', modified='2021-03-09T15:29:16.000Z', name='Ransom:Win32/Death.DB!MTB', description='MD5 of fadd8d7c13a18c251ded1f645ffea18a37f1c2de', pattern=\"[file:hashes.MD5 = '136bd70f7aa98f52861879d7dca03cf2']\", pattern_type='stix', pattern_version='2.1', valid_from='2021-03-09T15:29:16Z', labels=['malicious-activity']), Indicator(type='indicator', spec_version='2.1', id='indicator--ce82185f-669e-4967-af57-bd8e40780446', created='2021-03-09T15:29:16.000Z', modified='2021-03-09T15:29:16.000Z', name='Ransom:Win32/Death.DB!MTB', description='SHA256 of fadd8d7c13a18c251ded1f645ffea18a37f1c2de', pattern=\"[file:hashes.'SHA-256' = '501487b025f25ddf1ca32deb57a2b4db43ccf6635c1edc74b9cff54ce0e5bcfe']\", pattern_type='stix', pattern_version='2.1', valid_from='2021-03-09T15:29:16Z', labels=['malicious-activity']), Indicator(type='indicator', spec_version='2.1', id='indicator--d14d06d6-f10f-4e88-8f40-84c6645b6a72', created='2021-03-09T15:29:16.000Z', modified='2021-03-09T15:29:16.000Z', name='Ransom:Win32/Death.DB!MTB', pattern=\"[file:hashes.'SHA-1' = 'fadd8d7c13a18c251ded1f645ffea18a37f1c2de']\", pattern_type='stix', pattern_version='2.1', valid_from='2021-03-09T15:29:16Z', labels=['malicious-activity']), Indicator(type='indicator', spec_version='2.1', id='indicator--f8e57340-967d-44ef-898d-c59d9d537550', created='2021-03-09T15:29:16.000Z', modified='2021-03-09T15:29:16.000Z', pattern=\"[domain-name:value = '6x7dp6h3w6q3ugjv4yv5gycj3femb24kysgry5b44hhgfwc5ml5qrdad.onion']\", pattern_type='stix', pattern_version='2.1', valid_from='2021-03-09T15:29:16Z', labels=['malicious-activity']), AttackPattern(type='attack-pattern', spec_version='2.1', id='attack-pattern--cac1c5f3-4706-47ab-bb1f-3e525a9aaed5', created='2021-03-09T15:29:14.999Z', modified='2021-03-09T15:29:14.999Z', name='Data from Local System', description='Adversaries may search local system sources, such as file systems or local databases, to find files of interest and sensitive data prior to Exfiltration.\\n\\nAdversaries may do this using a [Command and Scripting Interpreter](https://attack.mitre.org/techniques/T1059), such as [cmd](https://attack.mitre.org/software/S0106), which has functionality to interact with the file system to gather information. Some adversaries may also use [Automated Collection](https://attack.mitre.org/techniques/T1119) on the local system.\\n', kill_chain_phases=[KillChainPhase(kill_chain_name='mitre-attack', phase_name='collection')], external_references=[ExternalReference(source_name='mitre-attack', url='https://attack.mitre.org/techniques/T1005', external_id='T1005')]), AttackPattern(type='attack-pattern', spec_version='2.1', id='attack-pattern--afdc10eb-ef6e-4cff-be08-3c04c193f29b', created='2021-03-09T15:29:14.999Z', modified='2021-03-09T15:29:14.999Z', name='Query Registry', description='Adversaries may interact with the Windows Registry to gather information about the system, configuration, and installed software.\\n\\nThe Registry contains a significant amount of information about the operating system, configuration, software, and security.(Citation: Wikipedia Windows Registry) Information can easily be queried using the [Reg](https://attack.mitre.org/software/S0075) utility, though other means to access the Registry exist. Some of the information may help adversaries to further their operation within a network. Adversaries may use the information from [Query Registry](https://attack.mitre.org/techniques/T1012) during automated discovery to shape follow-on behaviors, including whether or not the adversary fully infects the target and/or attempts specific actions.', kill_chain_phases=[KillChainPhase(kill_chain_name='mitre-attack', phase_name='discovery')], external_references=[ExternalReference(source_name='mitre-attack', url='https://attack.mitre.org/techniques/T1012', external_id='T1012'), ExternalReference(source_name='capec', url='https://capec.mitre.org/data/definitions/647.html', external_id='CAPEC-647'), ExternalReference(source_name='Wikipedia Windows Registry', description='Wikipedia. (n.d.). Windows Registry. Retrieved February 2, 2015.', url='https://en.wikipedia.org/wiki/Windows_Registry')]), AttackPattern(type='attack-pattern', spec_version='2.1', id='attack-pattern--d982ff3e-8d33-433e-8156-0908528fec0c', created='2021-03-09T15:29:14.999Z', modified='2021-03-09T15:29:14.999Z', name='Windows Management Instrumentation', description='Adversaries may abuse Windows Management Instrumentation (WMI) to achieve execution. WMI is a Windows administration feature that provides a uniform environment for local and remote access to Windows system components. It relies on the WMI service for local and remote access and the server message block (SMB) (Citation: Wikipedia SMB) and Remote Procedure Call Service (RPCS) (Citation: TechNet RPC) for remote access. RPCS operates over port 135. (Citation: MSDN WMI)\\n\\nAn adversary can use WMI to interact with local and remote systems and use it as a means to perform many tactic functions, such as gathering information for Discovery and remote Execution of files as part of Lateral Movement. (Citation: FireEye WMI SANS 2015) (Citation: FireEye WMI 2015)', kill_chain_phases=[KillChainPhase(kill_chain_name='mitre-attack', phase_name='execution')], external_references=[ExternalReference(source_name='mitre-attack', url='https://attack.mitre.org/techniques/T1047', external_id='T1047'), ExternalReference(source_name='Wikipedia SMB', description='Wikipedia. (2016, June 12). Server Message Block. Retrieved June 12, 2016.', url='https://en.wikipedia.org/wiki/Server_Message_Block'), ExternalReference(source_name='TechNet RPC', description='Microsoft. (2003, March 28). What Is RPC?. Retrieved June 12, 2016.', url='https://technet.microsoft.com/en-us/library/cc787851.aspx'), ExternalReference(source_name='MSDN WMI', description='Microsoft. (n.d.). Windows Management Instrumentation. Retrieved April 27, 2016.', url='https://msdn.microsoft.com/en-us/library/aa394582.aspx'), ExternalReference(source_name='FireEye WMI SANS 2015', description=\"Devon Kerr. (2015). There's Something About WMI. Retrieved May 4, 2020.\", url='https://www.fireeye.com/content/dam/fireeye-www/services/pdfs/sans-dfir-2015.pdf'), ExternalReference(source_name='FireEye WMI 2015', description='Ballenthin, W., et al. (2015). Windows Management Instrumentation (WMI) Offense, Defense, and Forensics. Retrieved March 30, 2016.', url='https://www.fireeye.com/content/dam/fireeye-www/global/en/current-threats/pdfs/wp-windows-management-instrumentation.pdf')]), AttackPattern(type='attack-pattern', spec_version='2.1', id='attack-pattern--71130ea2-6191-42b8-b96b-eaa71f89879c', created='2021-03-09T15:29:14.999Z', modified='2021-03-09T15:29:14.999Z', name='System Information Discovery', description='An adversary may attempt to get detailed information about the operating system and hardware, including version, patches, hotfixes, service packs, and architecture. Adversaries may use the information from [System Information Discovery](https://attack.mitre.org/techniques/T1082) during automated discovery to shape follow-on behaviors, including whether or not the adversary fully infects the target and/or attempts specific actions.\\n\\nTools such as [Systeminfo](https://attack.mitre.org/software/S0096) can be used to gather detailed system information. A breakdown of system data can also be gathered through the macOS <code>systemsetup</code> command, but it requires administrative privileges.\\n\\nInfrastructure as a Service (IaaS) cloud providers such as AWS, GCP, and Azure allow access to instance and virtual machine information via APIs. Successful authenticated API calls can return data such as the operating system platform and status of a particular instance or the model view of a virtual machine.(Citation: Amazon Describe Instance)(Citation: Google Instances Resource)(Citation: Microsoft Virutal Machine API)', kill_chain_phases=[KillChainPhase(kill_chain_name='mitre-attack', phase_name='discovery')], external_references=[ExternalReference(source_name='mitre-attack', url='https://attack.mitre.org/techniques/T1082', external_id='T1082'), ExternalReference(source_name='capec', url='https://capec.mitre.org/data/definitions/312.html', external_id='CAPEC-312'), ExternalReference(source_name='Amazon Describe Instance', description='Amazon. (n.d.). describe-instance-information. Retrieved March 3, 2020.', url='https://docs.aws.amazon.com/cli/latest/reference/ssm/describe-instance-information.html'), ExternalReference(source_name='Google Instances Resource', description='Google. (n.d.). Rest Resource: instance. Retrieved March 3, 2020.', url='https://cloud.google.com/compute/docs/reference/rest/v1/instances'), ExternalReference(source_name='Microsoft Virutal Machine API', description='Microsoft. (2019, March 1). Virtual Machines - Get. Retrieved October 8, 2019.', url='https://docs.microsoft.com/en-us/rest/api/compute/virtualmachines/get')]), AttackPattern(type='attack-pattern', spec_version='2.1', id='attack-pattern--41290d9e-d4e8-4991-9f56-9ce1a8abff56', created='2021-03-09T15:29:14.999Z', modified='2021-03-09T15:29:14.999Z', name='Modify Registry', description=\"Adversaries may interact with the Windows Registry to hide configuration information within Registry keys, remove information as part of cleaning up, or as part of other techniques to aid in persistence and execution.\\n\\nAccess to specific areas of the Registry depends on account permissions, some requiring administrator-level access. The built-in Windows command-line utility [Reg](https://attack.mitre.org/software/S0075) may be used for local or remote Registry modification. (Citation: Microsoft Reg) Other tools may also be used, such as a remote access tool, which may contain functionality to interact with the Registry through the Windows API.\\n\\nRegistry modifications may also include actions to hide keys, such as prepending key names with a null character, which will cause an error and/or be ignored when read via [Reg](https://attack.mitre.org/software/S0075) or other utilities using the Win32 API. (Citation: Microsoft Reghide NOV 2006) Adversaries may abuse these pseudo-hidden keys to conceal payloads/commands used to maintain persistence. (Citation: TrendMicro POWELIKS AUG 2014) (Citation: SpectorOps Hiding Reg Jul 2017)\\n\\nThe Registry of a remote system may be modified to aid in execution of files as part of lateral movement. It requires the remote Registry service to be running on the target system. (Citation: Microsoft Remote) Often [Valid Accounts](https://attack.mitre.org/techniques/T1078) are required, along with access to the remote system's [SMB/Windows Admin Shares](https://attack.mitre.org/techniques/T1021/002) for RPC communication.\", kill_chain_phases=[KillChainPhase(kill_chain_name='mitre-attack', phase_name='defense-evasion')], external_references=[ExternalReference(source_name='mitre-attack', url='https://attack.mitre.org/techniques/T1112', external_id='T1112'), ExternalReference(source_name='capec', url='https://capec.mitre.org/data/definitions/203.html', external_id='CAPEC-203'), ExternalReference(source_name='Microsoft Reg', description='Microsoft. (2012, April 17). Reg. Retrieved May 1, 2015.', url='https://technet.microsoft.com/en-us/library/cc732643.aspx'), ExternalReference(source_name='Microsoft Reghide NOV 2006', description='Russinovich, M. & Sharkey, K. (2006, January 10). Reghide. Retrieved August 9, 2018.', url='https://docs.microsoft.com/sysinternals/downloads/reghide'), ExternalReference(source_name='TrendMicro POWELIKS AUG 2014', description='Santos, R. (2014, August 1). POWELIKS: Malware Hides In Windows Registry. Retrieved August 9, 2018.', url='https://blog.trendmicro.com/trendlabs-security-intelligence/poweliks-malware-hides-in-windows-registry/'), ExternalReference(source_name='SpectorOps Hiding Reg Jul 2017', description='Reitz, B. (2017, July 14). Hiding Registry keys with PSReflect. Retrieved August 9, 2018.', url='https://posts.specterops.io/hiding-registry-keys-with-psreflect-b18ec5ac8353'), ExternalReference(source_name='Microsoft Remote', description='Microsoft. (n.d.). Enable the Remote Registry Service. Retrieved May 1, 2015.', url='https://technet.microsoft.com/en-us/library/cc754820.aspx'), ExternalReference(source_name='Microsoft 4657 APR 2017', description='Miroshnikov, A. & Hall, J. (2017, April 18). 4657(S): A registry value was modified. Retrieved August 9, 2018.', url='https://docs.microsoft.com/windows/security/threat-protection/auditing/event-4657'), ExternalReference(source_name='Microsoft RegDelNull July 2016', description='Russinovich, M. & Sharkey, K. (2016, July 4). RegDelNull v1.11. Retrieved August 10, 2018.', url='https://docs.microsoft.com/en-us/sysinternals/downloads/regdelnull')]), AttackPattern(type='attack-pattern', spec_version='2.1', id='attack-pattern--595479f7-1801-4470-853a-292d66958574', created='2021-03-09T15:29:14.999Z', modified='2021-03-09T15:29:14.999Z', name='Data Encrypted for Impact', description='Adversaries may encrypt data on target systems or on large numbers of systems in a network to interrupt availability to system and network resources. They can attempt to render stored data inaccessible by encrypting files or data on local and remote drives and withholding access to a decryption key. This may be done in order to extract monetary compensation from a victim in exchange for decryption or a decryption key (ransomware) or to render data permanently inaccessible in cases where the key is not saved or transmitted.(Citation: US-CERT Ransomware 2016)(Citation: FireEye WannaCry 2017)(Citation: US-CERT NotPetya 2017)(Citation: US-CERT SamSam 2018) In the case of ransomware, it is typical that common user files like Office documents, PDFs, images, videos, audio, text, and source code files will be encrypted. In some cases, adversaries may encrypt critical system files, disk partitions, and the MBR.(Citation: US-CERT NotPetya 2017)\\n\\nTo maximize impact on the target organization, malware designed for encrypting data may have worm-like features to propagate across a network by leveraging other attack techniques like [Valid Accounts](https://attack.mitre.org/techniques/T1078), [OS Credential Dumping](https://attack.mitre.org/techniques/T1003), and [SMB/Windows Admin Shares](https://attack.mitre.org/techniques/T1021/002).(Citation: FireEye WannaCry 2017)(Citation: US-CERT NotPetya 2017)\\n\\nIn cloud environments, storage objects within compromised accounts may also be encrypted.(Citation: Rhino S3 Ransomware Part 1)', kill_chain_phases=[KillChainPhase(kill_chain_name='mitre-attack', phase_name='impact')], external_references=[ExternalReference(source_name='mitre-attack', url='https://attack.mitre.org/techniques/T1486', external_id='T1486'), ExternalReference(source_name='US-CERT Ransomware 2016', description='US-CERT. (2016, March 31). Alert (TA16-091A): Ransomware and Recent Variants. Retrieved March 15, 2019.', url='https://www.us-cert.gov/ncas/alerts/TA16-091A'), ExternalReference(source_name='FireEye WannaCry 2017', description='Berry, A., Homan, J., and Eitzman, R. (2017, May 23). WannaCry Malware Profile. Retrieved March 15, 2019.', url='https://www.fireeye.com/blog/threat-research/2017/05/wannacry-malware-profile.html'), ExternalReference(source_name='US-CERT NotPetya 2017', description='US-CERT. (2017, July 1). Alert (TA17-181A): Petya Ransomware. Retrieved March 15, 2019.', url='https://www.us-cert.gov/ncas/alerts/TA17-181A'), ExternalReference(source_name='US-CERT SamSam 2018', description='US-CERT. (2018, December 3). Alert (AA18-337A): SamSam Ransomware. Retrieved March 15, 2019.', url='https://www.us-cert.gov/ncas/alerts/AA18-337A'), ExternalReference(source_name='Rhino S3 Ransomware Part 1', description='Gietzen, S. (n.d.). S3 Ransomware Part 1: Attack Vector. Retrieved April 14, 2021.', url='https://rhinosecuritylabs.com/aws/s3-ransomware-part-1-attack-vector/')]), AttackPattern(type='attack-pattern', spec_version='2.1', id='attack-pattern--26e1f190-135f-40ee-86a2-a09bec63a001', created='2021-03-09T15:29:14.999Z', modified='2021-03-09T15:29:14.999Z', name='Windows Command Shell', description='Adversaries may abuse the Windows command shell for execution. The Windows command shell ([cmd](https://attack.mitre.org/software/S0106)) is the primary command prompt on Windows systems. The Windows command prompt can be used to control almost any aspect of a system, with various permission levels required for different subsets of commands. \\n\\nBatch files (ex: .bat or .cmd) also provide the shell with a list of sequential commands to run, as well as normal scripting operations such as conditionals and loops. Common uses of batch files include long or repetitive tasks, or the need to run the same set of commands on multiple systems.\\n\\nAdversaries may leverage [cmd](https://attack.mitre.org/software/S0106) to execute various commands and payloads. Common uses include [cmd](https://attack.mitre.org/software/S0106) to execute a single command, or abusing [cmd](https://attack.mitre.org/software/S0106) interactively with input and output forwarded over a command and control channel.', kill_chain_phases=[KillChainPhase(kill_chain_name='mitre-attack', phase_name='execution')], external_references=[ExternalReference(source_name='mitre-attack', url='https://attack.mitre.org/techniques/T1059/003', external_id='T1059.003')]), AttackPattern(type='attack-pattern', spec_version='2.1', id='attack-pattern--cba52de9-01de-474c-8f0d-0574e622fe29', created='2021-03-09T15:29:14.999Z', modified='2021-03-09T15:29:14.999Z', name='File Deletion', description=\"Adversaries may delete files left behind by the actions of their intrusion activity. Malware, tools, or other non-native files dropped or created on a system by an adversary may leave traces to indicate to what was done within a network and how. Removal of these files can occur during an intrusion, or as part of a post-intrusion process to minimize the adversary's footprint.\\n\\nThere are tools available from the host operating system to perform cleanup, but adversaries may use other tools as well. Examples include native [cmd](https://attack.mitre.org/software/S0106) functions such as DEL, secure deletion tools such as Windows Sysinternals SDelete, or other third-party file deletion tools. (Citation: Trend Micro APT Attack Tools)\", kill_chain_phases=[KillChainPhase(kill_chain_name='mitre-attack', phase_name='defense-evasion')], external_references=[ExternalReference(source_name='mitre-attack', url='https://attack.mitre.org/techniques/T1070/004', external_id='T1070.004'), ExternalReference(source_name='Trend Micro APT Attack Tools', description='Wilhoit, K. (2013, March 4). In-Depth Look: APT Attack Tools of the Trade. Retrieved December 2, 2015.', url='http://blog.trendmicro.com/trendlabs-security-intelligence/in-depth-look-apt-attack-tools-of-the-trade/')]), Malware(type='malware', spec_version='2.1', id='malware--23c14bc4-169b-430f-b413-beef1e71fbb5', created='2021-03-09T15:29:14.999Z', modified='2021-03-09T15:29:14.999Z', name='HelloKitty Ransomware', is_family=True, labels=['adware']), Malware(type='malware', spec_version='2.1', id='malware--395b7eb6-a295-47c1-afba-07ec8c864984', created='2021-03-09T15:29:14.999Z', modified='2021-03-09T15:29:14.999Z', name='Win32:HelloKitty', is_family=True, labels=['adware']), Malware(type='malware', spec_version='2.1', id='malware--f8748f43-6b7c-46e2-8419-d67b2965d786', created='2021-03-09T15:29:14.999Z', modified='2021-03-09T15:29:14.999Z', name='Ransom.HelloKitty', is_family=True, labels=['adware'])], spec_version='2.1')"
      ]
     },
     "execution_count": 7,
     "metadata": {},
     "output_type": "execute_result"
    },
    {
     "data": {
      "application/javascript": [
       "\n",
       "            setTimeout(function() {\n",
       "                var nbb_cell_id = 7;\n",
       "                var nbb_unformatted_code = \"stix\";\n",
       "                var nbb_formatted_code = \"stix\";\n",
       "                var nbb_cells = Jupyter.notebook.get_cells();\n",
       "                for (var i = 0; i < nbb_cells.length; ++i) {\n",
       "                    if (nbb_cells[i].input_prompt_number == nbb_cell_id) {\n",
       "                        if (nbb_cells[i].get_text() == nbb_unformatted_code) {\n",
       "                             nbb_cells[i].set_text(nbb_formatted_code);\n",
       "                        }\n",
       "                        break;\n",
       "                    }\n",
       "                }\n",
       "            }, 500);\n",
       "            "
      ],
      "text/plain": [
       "<IPython.core.display.Javascript object>"
      ]
     },
     "metadata": {},
     "output_type": "display_data"
    }
   ],
   "source": [
    "stix"
   ]
  },
  {
   "cell_type": "markdown",
   "metadata": {},
   "source": [
    "---"
   ]
  },
  {
   "cell_type": "code",
   "execution_count": 8,
   "metadata": {
    "ExecuteTime": {
     "end_time": "2021-06-04T10:02:20.454657Z",
     "start_time": "2021-06-04T10:02:20.442123Z"
    }
   },
   "outputs": [
    {
     "data": {
      "application/javascript": [
       "\n",
       "            setTimeout(function() {\n",
       "                var nbb_cell_id = 8;\n",
       "                var nbb_unformatted_code = \"from itertools import product\";\n",
       "                var nbb_formatted_code = \"from itertools import product\";\n",
       "                var nbb_cells = Jupyter.notebook.get_cells();\n",
       "                for (var i = 0; i < nbb_cells.length; ++i) {\n",
       "                    if (nbb_cells[i].input_prompt_number == nbb_cell_id) {\n",
       "                        if (nbb_cells[i].get_text() == nbb_unformatted_code) {\n",
       "                             nbb_cells[i].set_text(nbb_formatted_code);\n",
       "                        }\n",
       "                        break;\n",
       "                    }\n",
       "                }\n",
       "            }, 500);\n",
       "            "
      ],
      "text/plain": [
       "<IPython.core.display.Javascript object>"
      ]
     },
     "metadata": {},
     "output_type": "display_data"
    }
   ],
   "source": [
    "from itertools import product"
   ]
  },
  {
   "cell_type": "code",
   "execution_count": 9,
   "metadata": {
    "ExecuteTime": {
     "end_time": "2021-06-04T10:02:20.549672Z",
     "start_time": "2021-06-04T10:02:20.503216Z"
    }
   },
   "outputs": [
    {
     "data": {
      "application/javascript": [
       "\n",
       "            setTimeout(function() {\n",
       "                var nbb_cell_id = 9;\n",
       "                var nbb_unformatted_code = \"labels = (\\n    seq(stix.objects)\\n    .map(\\n        lambda obj: (\\n            obj,\\n            obj.__class__.__name__,\\n            obj.properties_populated(),\\n        )\\n    )\\n    .starmap(\\n        lambda obj, cls, props: (\\n            product([cls], props),\\n            seq(props).map(lambda prop: obj.get(prop)),\\n        ),\\n    )\\n    .starmap(lambda labels, contents: seq(contents).zip(labels))\\n    .flatten()\\n    .cache()\\n)\";\n",
       "                var nbb_formatted_code = \"labels = (\\n    seq(stix.objects)\\n    .map(\\n        lambda obj: (\\n            obj,\\n            obj.__class__.__name__,\\n            obj.properties_populated(),\\n        )\\n    )\\n    .starmap(\\n        lambda obj, cls, props: (\\n            product([cls], props),\\n            seq(props).map(lambda prop: obj.get(prop)),\\n        ),\\n    )\\n    .starmap(lambda labels, contents: seq(contents).zip(labels))\\n    .flatten()\\n    .cache()\\n)\";\n",
       "                var nbb_cells = Jupyter.notebook.get_cells();\n",
       "                for (var i = 0; i < nbb_cells.length; ++i) {\n",
       "                    if (nbb_cells[i].input_prompt_number == nbb_cell_id) {\n",
       "                        if (nbb_cells[i].get_text() == nbb_unformatted_code) {\n",
       "                             nbb_cells[i].set_text(nbb_formatted_code);\n",
       "                        }\n",
       "                        break;\n",
       "                    }\n",
       "                }\n",
       "            }, 500);\n",
       "            "
      ],
      "text/plain": [
       "<IPython.core.display.Javascript object>"
      ]
     },
     "metadata": {},
     "output_type": "display_data"
    }
   ],
   "source": [
    "labels = (\n",
    "    seq(stix.objects)\n",
    "    .map(\n",
    "        lambda obj: (\n",
    "            obj,\n",
    "            obj.__class__.__name__,\n",
    "            obj.properties_populated(),\n",
    "        )\n",
    "    )\n",
    "    .starmap(\n",
    "        lambda obj, cls, props: (\n",
    "            product([cls], props),\n",
    "            seq(props).map(lambda prop: obj.get(prop)),\n",
    "        ),\n",
    "    )\n",
    "    .starmap(lambda labels, contents: seq(contents).zip(labels))\n",
    "    .flatten()\n",
    "    .cache()\n",
    ")"
   ]
  },
  {
   "cell_type": "code",
   "execution_count": 10,
   "metadata": {
    "ExecuteTime": {
     "end_time": "2021-06-04T10:02:20.627811Z",
     "start_time": "2021-06-04T10:02:20.575386Z"
    }
   },
   "outputs": [
    {
     "data": {
      "text/html": [
       "<table>\n",
       "<tbody>\n",
       "<tr><td>2021-03-09 15:29:14.999000+00:00                                                                                                                                                                                                                                                                                                                                                                                                                                                                                                                                                                                                                                                                                                                                                                                                                                                 </td><td>(&#x27;Report&#x27;, &#x27;created&#x27;)            </td></tr>\n",
       "<tr><td>identity--ab072f15-9b87-4ee1-898f-b584d41f29b0                                                                                                                                                                                                                                                                                                                                                                                                                                                                                                                                                                                                                                                                                                                                                                                                                                   </td><td>(&#x27;Report&#x27;, &#x27;created_by_ref&#x27;)     </td></tr>\n",
       "<tr><td>HelloKitty is a ransomware family that emerged in late 2020. While it lacks the sophistication of some of the more well-known families such as Ryuk, REvil, and Conti, it has nevertheless struck some notable targets, including CEMIG0. In this post, Sentinel Labs analyzes a recent HelloKitty sample and outlines the basic behaviors and traits associated with this family of ransomware.                                                                                                                                                                                                                                                                                                                                                                                                                                                                                 </td><td>(&#x27;Report&#x27;, &#x27;description&#x27;)        </td></tr>\n",
       "<tr><td>[ExternalReference(source_name=&#x27;web&#x27;, url=&#x27;https://labs.sentinelone.com/hellokitty-ransomware-lacks-stealth-but-still-strikes-home/&#x27;)]                                                                                                                                                                                                                                                                                                                                                                                                                                                                                                                                                                                                                                                                                                                                           </td><td>(&#x27;Report&#x27;, &#x27;external_references&#x27;)</td></tr>\n",
       "<tr><td>report--027a551d-bdba-4d19-b75d-ccc9b7f8f0c5                                                                                                                                                                                                                                                                                                                                                                                                                                                                                                                                                                                                                                                                                                                                                                                                                                     </td><td>(&#x27;Report&#x27;, &#x27;id&#x27;)                 </td></tr>\n",
       "<tr><td>[&#x27;threat-report&#x27;]                                                                                                                                                                                                                                                                                                                                                                                                                                                                                                                                                                                                                                                                                                                                                                                                                                                                </td><td>(&#x27;Report&#x27;, &#x27;labels&#x27;)             </td></tr>\n",
       "<tr><td>2021-03-09 15:29:14.999000+00:00                                                                                                                                                                                                                                                                                                                                                                                                                                                                                                                                                                                                                                                                                                                                                                                                                                                 </td><td>(&#x27;Report&#x27;, &#x27;modified&#x27;)           </td></tr>\n",
       "<tr><td>HelloKitty Ransomware Lacks Stealth, But Still Strikes Home                                                                                                                                                                                                                                                                                                                                                                                                                                                                                                                                                                                                                                                                                                                                                                                                                      </td><td>(&#x27;Report&#x27;, &#x27;name&#x27;)               </td></tr>\n",
       "<tr><td>[&#x27;identity--ab072f15-9b87-4ee1-898f-b584d41f29b0&#x27;, &#x27;indicator--e90bf0cc-53f8-4fe4-bd41-71a398e933fe&#x27;, &#x27;indicator--ce82185f-669e-4967-af57-bd8e40780446&#x27;, &#x27;indicator--d14d06d6-f10f-4e88-8f40-84c6645b6a72&#x27;, &#x27;indicator--f8e57340-967d-44ef-898d-c59d9d537550&#x27;, &#x27;attack-pattern--cac1c5f3-4706-47ab-bb1f-3e525a9aaed5&#x27;, &#x27;attack-pattern--afdc10eb-ef6e-4cff-be08-3c04c193f29b&#x27;, &#x27;attack-pattern--d982ff3e-8d33-433e-8156-0908528fec0c&#x27;, &#x27;attack-pattern--71130ea2-6191-42b8-b96b-eaa71f89879c&#x27;, &#x27;attack-pattern--41290d9e-d4e8-4991-9f56-9ce1a8abff56&#x27;, &#x27;attack-pattern--595479f7-1801-4470-853a-292d66958574&#x27;, &#x27;attack-pattern--26e1f190-135f-40ee-86a2-a09bec63a001&#x27;, &#x27;attack-pattern--cba52de9-01de-474c-8f0d-0574e622fe29&#x27;, &#x27;malware--23c14bc4-169b-430f-b413-beef1e71fbb5&#x27;, &#x27;malware--395b7eb6-a295-47c1-afba-07ec8c864984&#x27;, &#x27;malware--f8748f43-6b7c-46e2-8419-d67b2965d786&#x27;]</td><td>(&#x27;Report&#x27;, &#x27;object_refs&#x27;)        </td></tr>\n",
       "<tr><td>2021-03-09 15:29:14.999000+00:00                                                                                                                                                                                                                                                                                                                                                                                                                                                                                                                                                                                                                                                                                                                                                                                                                                                 </td><td>(&#x27;Report&#x27;, &#x27;published&#x27;)          </td></tr>\n",
       "</tbody>\n",
       "</table><p>Showing 10 of 181 rows"
      ],
      "text/plain": [
       "[('2021-03-09T15:29:14.999Z', ('Report', 'created')), ('identity--ab072f15-9b87-4ee1-898f-b584d41f29b0', ('Report', 'created_by_ref')), ('HelloKitty is a ransomware family that emerged in late 2020. While it lacks the sophistication of some of the more well-known families such as Ryuk, REvil, and Conti, it has nevertheless struck some notable targets, including CEMIG0. In this post, Sentinel Labs analyzes a recent HelloKitty sample and outlines the basic behaviors and traits associated with this family of ransomware.', ('Report', 'description')), ([ExternalReference(source_name='web', url='https://labs.sentinelone.com/hellokitty-ransomware-lacks-stealth-but-still-strikes-home/')], ('Report', 'external_references')), ('report--027a551d-bdba-4d19-b75d-ccc9b7f8f0c5', ('Report', 'id')), (['threat-report'], ('Report', 'labels')), ('2021-03-09T15:29:14.999Z', ('Report', 'modified')), ('HelloKitty Ransomware Lacks Stealth, But Still Strikes Home', ('Report', 'name')), (['identity--ab072f15-9b87-4ee1-898f-b584d41f29b0', 'indicator--e90bf0cc-53f8-4fe4-bd41-71a398e933fe', 'indicator--ce82185f-669e-4967-af57-bd8e40780446', 'indicator--d14d06d6-f10f-4e88-8f40-84c6645b6a72', 'indicator--f8e57340-967d-44ef-898d-c59d9d537550', 'attack-pattern--cac1c5f3-4706-47ab-bb1f-3e525a9aaed5', 'attack-pattern--afdc10eb-ef6e-4cff-be08-3c04c193f29b', 'attack-pattern--d982ff3e-8d33-433e-8156-0908528fec0c', 'attack-pattern--71130ea2-6191-42b8-b96b-eaa71f89879c', 'attack-pattern--41290d9e-d4e8-4991-9f56-9ce1a8abff56', 'attack-pattern--595479f7-1801-4470-853a-292d66958574', 'attack-pattern--26e1f190-135f-40ee-86a2-a09bec63a001', 'attack-pattern--cba52de9-01de-474c-8f0d-0574e622fe29', 'malware--23c14bc4-169b-430f-b413-beef1e71fbb5', 'malware--395b7eb6-a295-47c1-afba-07ec8c864984', 'malware--f8748f43-6b7c-46e2-8419-d67b2965d786'], ('Report', 'object_refs')), ('2021-03-09T15:29:14.999Z', ('Report', 'published')), ('2.1', ('Report', 'spec_version')), ('report', ('Report', 'type')), (False, ('Report', 'revoked')), ('https://otx.alienvault.com/', ('Identity', 'contact_information')), ('2021-03-09T15:29:14.999Z', ('Identity', 'created')), ('identity--ab072f15-9b87-4ee1-898f-b584d41f29b0', ('Identity', 'id')), ('organization', ('Identity', 'identity_class')), ('2021-03-09T15:29:14.999Z', ('Identity', 'modified')), ('Open Threat Exchange', ('Identity', 'name')), ('2.1', ('Identity', 'spec_version')), ('identity', ('Identity', 'type')), (False, ('Identity', 'revoked')), ('2021-03-09T15:29:16.000Z', ('Indicator', 'created')), ('MD5 of fadd8d7c13a18c251ded1f645ffea18a37f1c2de', ('Indicator', 'description')), ('indicator--e90bf0cc-53f8-4fe4-bd41-71a398e933fe', ('Indicator', 'id')), (['malicious-activity'], ('Indicator', 'labels')), ('2021-03-09T15:29:16.000Z', ('Indicator', 'modified')), ('Ransom:Win32/Death.DB!MTB', ('Indicator', 'name')), (\"[file:hashes.MD5 = '136bd70f7aa98f52861879d7dca03cf2']\", ('Indicator', 'pattern')), ('stix', ('Indicator', 'pattern_type')), ('2.1', ('Indicator', 'pattern_version')), ('2.1', ('Indicator', 'spec_version')), ('indicator', ('Indicator', 'type')), ('2021-03-09T15:29:16Z', ('Indicator', 'valid_from')), (False, ('Indicator', 'revoked')), ('2021-03-09T15:29:16.000Z', ('Indicator', 'created')), ('SHA256 of fadd8d7c13a18c251ded1f645ffea18a37f1c2de', ('Indicator', 'description')), ('indicator--ce82185f-669e-4967-af57-bd8e40780446', ('Indicator', 'id')), (['malicious-activity'], ('Indicator', 'labels')), ('2021-03-09T15:29:16.000Z', ('Indicator', 'modified')), ('Ransom:Win32/Death.DB!MTB', ('Indicator', 'name')), (\"[file:hashes.'SHA-256' = '501487b025f25ddf1ca32deb57a2b4db43ccf6635c1edc74b9cff54ce0e5bcfe']\", ('Indicator', 'pattern')), ('stix', ('Indicator', 'pattern_type')), ('2.1', ('Indicator', 'pattern_version')), ('2.1', ('Indicator', 'spec_version')), ('indicator', ('Indicator', 'type')), ('2021-03-09T15:29:16Z', ('Indicator', 'valid_from')), (False, ('Indicator', 'revoked')), ('2021-03-09T15:29:16.000Z', ('Indicator', 'created')), ('', ('Indicator', 'description')), ('indicator--d14d06d6-f10f-4e88-8f40-84c6645b6a72', ('Indicator', 'id')), (['malicious-activity'], ('Indicator', 'labels')), ('2021-03-09T15:29:16.000Z', ('Indicator', 'modified')), ('Ransom:Win32/Death.DB!MTB', ('Indicator', 'name')), (\"[file:hashes.'SHA-1' = 'fadd8d7c13a18c251ded1f645ffea18a37f1c2de']\", ('Indicator', 'pattern')), ('stix', ('Indicator', 'pattern_type')), ('2.1', ('Indicator', 'pattern_version')), ('2.1', ('Indicator', 'spec_version')), ('indicator', ('Indicator', 'type')), ('2021-03-09T15:29:16Z', ('Indicator', 'valid_from')), (False, ('Indicator', 'revoked')), ('2021-03-09T15:29:16.000Z', ('Indicator', 'created')), ('', ('Indicator', 'description')), ('indicator--f8e57340-967d-44ef-898d-c59d9d537550', ('Indicator', 'id')), (['malicious-activity'], ('Indicator', 'labels')), ('2021-03-09T15:29:16.000Z', ('Indicator', 'modified')), ('', ('Indicator', 'name')), (\"[domain-name:value = '6x7dp6h3w6q3ugjv4yv5gycj3femb24kysgry5b44hhgfwc5ml5qrdad.onion']\", ('Indicator', 'pattern')), ('stix', ('Indicator', 'pattern_type')), ('2.1', ('Indicator', 'pattern_version')), ('2.1', ('Indicator', 'spec_version')), ('indicator', ('Indicator', 'type')), ('2021-03-09T15:29:16Z', ('Indicator', 'valid_from')), (False, ('Indicator', 'revoked')), ('2021-03-09T15:29:14.999Z', ('AttackPattern', 'created')), ('Adversaries may search local system sources, such as file systems or local databases, to find files of interest and sensitive data prior to Exfiltration.\\n\\nAdversaries may do this using a [Command and Scripting Interpreter](https://attack.mitre.org/techniques/T1059), such as [cmd](https://attack.mitre.org/software/S0106), which has functionality to interact with the file system to gather information. Some adversaries may also use [Automated Collection](https://attack.mitre.org/techniques/T1119) on the local system.\\n', ('AttackPattern', 'description')), ([ExternalReference(source_name='mitre-attack', url='https://attack.mitre.org/techniques/T1005', external_id='T1005')], ('AttackPattern', 'external_references')), ('attack-pattern--cac1c5f3-4706-47ab-bb1f-3e525a9aaed5', ('AttackPattern', 'id')), ([KillChainPhase(kill_chain_name='mitre-attack', phase_name='collection')], ('AttackPattern', 'kill_chain_phases')), ('2021-03-09T15:29:14.999Z', ('AttackPattern', 'modified')), ('Data from Local System', ('AttackPattern', 'name')), ('2.1', ('AttackPattern', 'spec_version')), ('attack-pattern', ('AttackPattern', 'type')), (False, ('AttackPattern', 'revoked')), ('2021-03-09T15:29:14.999Z', ('AttackPattern', 'created')), ('Adversaries may interact with the Windows Registry to gather information about the system, configuration, and installed software.\\n\\nThe Registry contains a significant amount of information about the operating system, configuration, software, and security.(Citation: Wikipedia Windows Registry) Information can easily be queried using the [Reg](https://attack.mitre.org/software/S0075) utility, though other means to access the Registry exist. Some of the information may help adversaries to further their operation within a network. Adversaries may use the information from [Query Registry](https://attack.mitre.org/techniques/T1012) during automated discovery to shape follow-on behaviors, including whether or not the adversary fully infects the target and/or attempts specific actions.', ('AttackPattern', 'description')), ([ExternalReference(source_name='mitre-attack', url='https://attack.mitre.org/techniques/T1012', external_id='T1012'), ExternalReference(source_name='capec', url='https://capec.mitre.org/data/definitions/647.html', external_id='CAPEC-647'), ExternalReference(source_name='Wikipedia Windows Registry', description='Wikipedia. (n.d.). Windows Registry. Retrieved February 2, 2015.', url='https://en.wikipedia.org/wiki/Windows_Registry')], ('AttackPattern', 'external_references')), ('attack-pattern--afdc10eb-ef6e-4cff-be08-3c04c193f29b', ('AttackPattern', 'id')), ([KillChainPhase(kill_chain_name='mitre-attack', phase_name='discovery')], ('AttackPattern', 'kill_chain_phases')), ('2021-03-09T15:29:14.999Z', ('AttackPattern', 'modified')), ('Query Registry', ('AttackPattern', 'name')), ('2.1', ('AttackPattern', 'spec_version')), ('attack-pattern', ('AttackPattern', 'type')), (False, ('AttackPattern', 'revoked')), ('2021-03-09T15:29:14.999Z', ('AttackPattern', 'created')), ('Adversaries may abuse Windows Management Instrumentation (WMI) to achieve execution. WMI is a Windows administration feature that provides a uniform environment for local and remote access to Windows system components. It relies on the WMI service for local and remote access and the server message block (SMB) (Citation: Wikipedia SMB) and Remote Procedure Call Service (RPCS) (Citation: TechNet RPC) for remote access. RPCS operates over port 135. (Citation: MSDN WMI)\\n\\nAn adversary can use WMI to interact with local and remote systems and use it as a means to perform many tactic functions, such as gathering information for Discovery and remote Execution of files as part of Lateral Movement. (Citation: FireEye WMI SANS 2015) (Citation: FireEye WMI 2015)', ('AttackPattern', 'description')), ([ExternalReference(source_name='mitre-attack', url='https://attack.mitre.org/techniques/T1047', external_id='T1047'), ExternalReference(source_name='Wikipedia SMB', description='Wikipedia. (2016, June 12). Server Message Block. Retrieved June 12, 2016.', url='https://en.wikipedia.org/wiki/Server_Message_Block'), ExternalReference(source_name='TechNet RPC', description='Microsoft. (2003, March 28). What Is RPC?. Retrieved June 12, 2016.', url='https://technet.microsoft.com/en-us/library/cc787851.aspx'), ExternalReference(source_name='MSDN WMI', description='Microsoft. (n.d.). Windows Management Instrumentation. Retrieved April 27, 2016.', url='https://msdn.microsoft.com/en-us/library/aa394582.aspx'), ExternalReference(source_name='FireEye WMI SANS 2015', description=\"Devon Kerr. (2015). There's Something About WMI. Retrieved May 4, 2020.\", url='https://www.fireeye.com/content/dam/fireeye-www/services/pdfs/sans-dfir-2015.pdf'), ExternalReference(source_name='FireEye WMI 2015', description='Ballenthin, W., et al. (2015). Windows Management Instrumentation (WMI) Offense, Defense, and Forensics. Retrieved March 30, 2016.', url='https://www.fireeye.com/content/dam/fireeye-www/global/en/current-threats/pdfs/wp-windows-management-instrumentation.pdf')], ('AttackPattern', 'external_references')), ('attack-pattern--d982ff3e-8d33-433e-8156-0908528fec0c', ('AttackPattern', 'id')), ([KillChainPhase(kill_chain_name='mitre-attack', phase_name='execution')], ('AttackPattern', 'kill_chain_phases')), ('2021-03-09T15:29:14.999Z', ('AttackPattern', 'modified')), ...]"
      ]
     },
     "execution_count": 10,
     "metadata": {},
     "output_type": "execute_result"
    },
    {
     "data": {
      "application/javascript": [
       "\n",
       "            setTimeout(function() {\n",
       "                var nbb_cell_id = 10;\n",
       "                var nbb_unformatted_code = \"labels\";\n",
       "                var nbb_formatted_code = \"labels\";\n",
       "                var nbb_cells = Jupyter.notebook.get_cells();\n",
       "                for (var i = 0; i < nbb_cells.length; ++i) {\n",
       "                    if (nbb_cells[i].input_prompt_number == nbb_cell_id) {\n",
       "                        if (nbb_cells[i].get_text() == nbb_unformatted_code) {\n",
       "                             nbb_cells[i].set_text(nbb_formatted_code);\n",
       "                        }\n",
       "                        break;\n",
       "                    }\n",
       "                }\n",
       "            }, 500);\n",
       "            "
      ],
      "text/plain": [
       "<IPython.core.display.Javascript object>"
      ]
     },
     "metadata": {},
     "output_type": "display_data"
    }
   ],
   "source": [
    "labels"
   ]
  },
  {
   "cell_type": "markdown",
   "metadata": {},
   "source": [
    "---"
   ]
  },
  {
   "cell_type": "markdown",
   "metadata": {},
   "source": [
    "# Todo"
   ]
  },
  {
   "cell_type": "markdown",
   "metadata": {},
   "source": [
    "# Visualization\n",
    "\n",
    "- [cti-stix-visualization](https://github.com/oasis-open/cti-stix-visualization)\n",
    "- [Demo](http://oasis-open.github.io/cti-stix-visualization)"
   ]
  },
  {
   "cell_type": "markdown",
   "metadata": {
    "ExecuteTime": {
     "end_time": "2021-06-03T07:28:15.665433Z",
     "start_time": "2021-06-03T07:28:15.647331Z"
    }
   },
   "source": [
    "![hellokitty](../data/hellokitty_stix_visualization.png)"
   ]
  },
  {
   "cell_type": "code",
   "execution_count": null,
   "metadata": {},
   "outputs": [],
   "source": []
  }
 ],
 "metadata": {
  "kernelspec": {
   "display_name": "magpie-j27h1SjX-py3.6",
   "language": "python",
   "name": "magpie-j27h1sjx-py3.6"
  },
  "language_info": {
   "codemirror_mode": {
    "name": "ipython",
    "version": 3
   },
   "file_extension": ".py",
   "mimetype": "text/x-python",
   "name": "python",
   "nbconvert_exporter": "python",
   "pygments_lexer": "ipython3",
   "version": "3.6.10"
  },
  "varInspector": {
   "cols": {
    "lenName": 16,
    "lenType": 16,
    "lenVar": 40
   },
   "kernels_config": {
    "python": {
     "delete_cmd_postfix": "",
     "delete_cmd_prefix": "del ",
     "library": "var_list.py",
     "varRefreshCmd": "print(var_dic_list())"
    },
    "r": {
     "delete_cmd_postfix": ") ",
     "delete_cmd_prefix": "rm(",
     "library": "var_list.r",
     "varRefreshCmd": "cat(var_dic_list()) "
    }
   },
   "types_to_exclude": [
    "module",
    "function",
    "builtin_function_or_method",
    "instance",
    "_Feature"
   ],
   "window_display": false
  }
 },
 "nbformat": 4,
 "nbformat_minor": 4
}
