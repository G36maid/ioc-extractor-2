{
 "cells": [
  {
   "cell_type": "code",
   "execution_count": null,
   "id": "82011096-d7ff-463d-b1d0-802c73dff3b1",
   "metadata": {},
   "outputs": [],
   "source": [
    "%load_ext lab_black"
   ]
  },
  {
   "cell_type": "markdown",
   "id": "e6bd9804-53f7-4534-adaa-6ad82dd2e232",
   "metadata": {},
   "source": [
    "---"
   ]
  },
  {
   "cell_type": "code",
   "execution_count": 2,
   "id": "f38adfc0-c5ec-4b5d-88ab-3e4f08db0f1e",
   "metadata": {},
   "outputs": [],
   "source": [
    "import sys\n",
    "\n",
    "sys.path.append(\"../\")"
   ]
  },
  {
   "cell_type": "code",
   "execution_count": 3,
   "id": "aad1351c-6e59-4706-a770-6fe0d5995063",
   "metadata": {},
   "outputs": [],
   "source": [
    "from readability import Document\n",
    "from IPython.core.display import display, HTML"
   ]
  },
  {
   "cell_type": "code",
   "execution_count": 9,
   "id": "0b917bcf-68a2-4e5e-9094-0ec3c2d97586",
   "metadata": {},
   "outputs": [],
   "source": [
    "# with open(\"./reports/546fc7bf11d4083bc021c37f/operation_doubletap.html\", \"r\") as f:\n",
    "with open(\n",
    "    \"../data/hellokitty-ransomware-lacks-stealth-but-still-strikes-home.html\",\n",
    "    # \"../data/hafnium-targeting-exchange-servers.html\",\n",
    "    \"r\",\n",
    "    encoding=\"utf-8\"\n",
    ") as f:\n",
    "    data = f.read()"
   ]
  },
  {
   "cell_type": "markdown",
   "id": "e4d4cef2-c8eb-4733-8429-aeca2db2d2d5",
   "metadata": {},
   "source": [
    "---"
   ]
  },
  {
   "cell_type": "code",
   "execution_count": 11,
   "id": "bc347e0b-31b9-479f-aec8-f22e7d4f408c",
   "metadata": {},
   "outputs": [],
   "source": [
    "from lxml import etree\n",
    "from collections import namedtuple\n",
    "from functional import seq"
   ]
  },
  {
   "cell_type": "code",
   "execution_count": 12,
   "id": "75864127-57a9-4c00-bd46-85e7a2eebc3d",
   "metadata": {},
   "outputs": [],
   "source": [
    "class Analyzer(object):\n",
    "\n",
    "    ArticleElement = namedtuple(\"ArticleElement\", [\"xpath\", \"tag\"])\n",
    "    ArticleContent = namedtuple\n",
    "\n",
    "    def __init__(self, document):\n",
    "        self.document = Document(document, xpath=True)\n",
    "\n",
    "    @staticmethod\n",
    "    def has_printable_content(element):\n",
    "        # check element.text and element.tail is not None and contral char (\\n\\t\\r)\n",
    "        def check(content):\n",
    "            if content is not None:\n",
    "                return content.isspace()\n",
    "            else:\n",
    "                return True\n",
    "\n",
    "        result = not all((check(element.text), check(element.tail)))\n",
    "        return result\n",
    "\n",
    "    @staticmethod\n",
    "    def has_printable_tag(element):\n",
    "        # check element.tag is not script (javascript) or style (css)\n",
    "        result = element.tag not in [\"script\", \"style\"]\n",
    "        return result\n",
    "\n",
    "    @property\n",
    "    def article_contents(self):\n",
    "        # get all of elements\n",
    "        text = self.document.summary()\n",
    "        root = etree.HTML(text)\n",
    "        elements = root.xpath(\"//*\")\n",
    "        # filter printable elements\n",
    "        printable_elements = (\n",
    "            seq(elements)\n",
    "            .filter(lambda element: self.has_printable_content(element))\n",
    "            .filter(lambda element: self.has_printable_tag(element))\n",
    "        )\n",
    "        \"\"\"\n",
    "        contents = printable_elements.map(\n",
    "            lambda element: (\n",
    "                element.get(\"x\"),\n",
    "                element.tag,\n",
    "                ((\"text\", element.text), (\"tail\", element.tail)),\n",
    "            )\n",
    "        )\n",
    "\n",
    "        return contents\n",
    "        \"\"\"\n",
    "        return printable_elements"
   ]
  },
  {
   "cell_type": "code",
   "execution_count": 34,
   "id": "050971ad-b9c0-48d4-b5cb-b84adced9736",
   "metadata": {},
   "outputs": [
    {
     "data": {
      "text/html": [
       "<table>\n",
       "<tbody>\n",
       "<tr><td>&lt;Element a at 0x7ffadcf82608&gt;   </td><td>                                </td></tr>\n",
       "<tr><td>                                </td><td>                                </td></tr>\n",
       "<tr><td>                                </td><td>                                </td></tr>\n",
       "<tr><td>                                </td><td>                                </td></tr>\n",
       "<tr><td>                                </td><td>                                </td></tr>\n",
       "<tr><td>                                </td><td>                                </td></tr>\n",
       "<tr><td>&lt;Element code at 0x7ffadcf82a88&gt;</td><td>&lt;Element code at 0x7ffadcf82d08&gt;</td></tr>\n",
       "<tr><td>                                </td><td>                                </td></tr>\n",
       "<tr><td>                                </td><td>                                </td></tr>\n",
       "<tr><td>                                </td><td>                                </td></tr>\n",
       "</tbody>\n",
       "</table><p>Showing 10 of 54 rows"
      ],
      "text/plain": [
       "[<Element p at 0x7ffadcf82e88>, <Element a at 0x7ffadcf82608>, <Element p at 0x7ffadcf82fc8>, <Element h2 at 0x7ffadcf82b88>, <Element p at 0x7ffadcf82988>, <Element p at 0x7ffadcf82d48>, <Element p at 0x7ffadcf828c8>, <Element code at 0x7ffadcf82a88>, <Element code at 0x7ffadcf82d08>, <Element p at 0x7ffadcf82708>, <Element p at 0x7ffadcf9a3c8>, <Element pre at 0x7ffadcf9ac88>, <Element p at 0x7ffadcf9a248>, <Element code at 0x7ffadcf9a908>, <Element code at 0x7ffadcf9a7c8>, <Element p at 0x7ffadcf9ad08>, <Element p at 0x7ffadcf9a748>, <Element pre at 0x7ffadcf9a308>, <Element h2 at 0x7ffadcf9a8c8>, <Element p at 0x7ffadcf9a4c8>, <Element p at 0x7ffadcf9ab08>, <Element code at 0x7ffadcf9ab48>, <Element p at 0x7ffadcf9ad88>, <Element p at 0x7ffadcf9ae48>, <Element code at 0x7ffadcf9aec8>, <Element h2 at 0x7ffadcf9af08>, <Element p at 0x7ffadcf9af48>, <Element p at 0x7ffadcf9af88>, <Element p at 0x7ffadcf9afc8>, <Element h2 at 0x7ffadcf94048>, <Element strong at 0x7ffadcf940c8>, <Element br at 0x7ffadcf94108>, <Element strong at 0x7ffadcf94188>, <Element br at 0x7ffadcf941c8>, <Element strong at 0x7ffadcf94248>, <Element br at 0x7ffadcf94288>, <Element a at 0x7ffadcf942c8>, <Element br at 0x7ffadcf94308>, <Element a at 0x7ffadcf94348>, <Element br at 0x7ffadcf94388>, <Element a at 0x7ffadcf943c8>, <Element br at 0x7ffadcf94408>, <Element a at 0x7ffadcf94448>, <Element br at 0x7ffadcf94488>, <Element a at 0x7ffadcf944c8>, <Element br at 0x7ffadcf94508>, <Element a at 0x7ffadcf94548>, <Element br at 0x7ffadcf94588>, <Element a at 0x7ffadcf945c8>, <Element br at 0x7ffadcf94608>, <Element a at 0x7ffadcf94648>, <Element span at 0x7ffadcf94708>, <Element span at 0x7ffadcf94748>, <Element a at 0x7ffadcf947c8>]"
      ]
     },
     "execution_count": 34,
     "metadata": {},
     "output_type": "execute_result"
    }
   ],
   "source": [
    "a = Analyzer(data)"
   ]
  },
  {
   "cell_type": "markdown",
   "id": "2c8fcbe8-cce7-4508-a5cd-7f88abb9b004",
   "metadata": {},
   "source": [
    "---"
   ]
  },
  {
   "cell_type": "markdown",
   "id": "bf6506ec-430f-4428-b054-b59c9e6ee0b8",
   "metadata": {},
   "source": [
    "# Yara"
   ]
  },
  {
   "cell_type": "code",
   "execution_count": 8,
   "id": "3f00a892-418e-49f8-91f2-3bec834bff65",
   "metadata": {},
   "outputs": [],
   "source": [
    "from pyparsing import (\n",
    "    Combine,\n",
    "    Literal,\n",
    "    Keyword,\n",
    "    Word,\n",
    "    alphanums,\n",
    "    empty,\n",
    "    printables,\n",
    "    QuotedString,\n",
    ")"
   ]
  },
  {
   "cell_type": "code",
   "execution_count": 9,
   "id": "7c416187-277c-4db3-aafd-d50f256e9b7f",
   "metadata": {},
   "outputs": [],
   "source": [
    "yara_sample = \"\"\"rule Agent_BTZ_Proxy_DLL_2 {\n",
    "   meta:\n",
    "      description = \"Detects Agent-BTZ Proxy DLL - activeds.dll\"\n",
    "      author = \"Florian Roth\"\n",
    "      reference = \"http://www.intezer.com/new-variants-of-agent-btz-comrat-found/\"\n",
    "      date = \"2017-08-07\"\n",
    "      hash1 = \"73db4295c5b29958c5d93c20be9482c1efffc89fc4e5c8ba59ac9425a4657a88\"\n",
    "      hash2 = \"380b0353ba8cd33da8c5e5b95e3e032e83193019e73c71875b58ec1ed389bdac\"\n",
    "      hash3 = \"f27e9bba6a2635731845b4334b807c0e4f57d3b790cecdc77d8fef50629f51a2\"\n",
    "   strings:\n",
    "      $s1 = { 38 21 38 2C 38 37 38 42 38 4D 38 58 38 63 38 6E\n",
    "               38 79 38 84 38 8F 38 9A 38 A5 38 B0 38 BB 38 C6\n",
    "               38 D1 38 DC 38 E7 38 F2 38 FD 38 08 39 13 39 1E\n",
    "               39 29 39 34 39 3F 39 4A 39 55 39 60 39 6B 39 76\n",
    "               39 81 39 8C 39 97 39 A2 39 AD 39 B8 39 C3 39 CE\n",
    "               39 D9 39 E4 39 EF 39 FA 39 05 3A 10 3A 1B 3A 26\n",
    "               3A 31 3A 3C 3A 47 3A 52 3A 5D 3A 68 3A 73 3A 7E\n",
    "               3A 89 3A 94 3A 9F 3A AA 3A B5 3A C0 3A CB 3A D6\n",
    "               3A E1 3A EC 3A F7 3A }\n",
    "      $s2 = \"activeds.dll\" ascii fullword\n",
    "   condition:\n",
    "      uint16(0) == 0x5a4d and filesize < 200KB and all of them and pe.imphash() == \"09b7c73fbe5529e6de7137e3e8268b7b\"\n",
    "}\"\"\""
   ]
  },
  {
   "cell_type": "code",
   "execution_count": 10,
   "id": "0a06d1d2-aaad-41f0-af72-526f9c691804",
   "metadata": {},
   "outputs": [],
   "source": [
    "from pyparsing import nestedExpr, originalTextFor"
   ]
  },
  {
   "cell_type": "code",
   "execution_count": 11,
   "id": "1afb1f26-afb1-42f4-ae4c-a41c734ea63f",
   "metadata": {},
   "outputs": [],
   "source": [
    "expr = Combine(\n",
    "    Literal(\"rule\")\n",
    "    + Word(\" \", exact=1)\n",
    "    + Word(alphanums + \"_\")\n",
    "    + Word(\" \", exact=1)\n",
    "    + originalTextFor(\n",
    "        nestedExpr(\n",
    "            opener=\"{\",\n",
    "            closer=\"}\",\n",
    "        )\n",
    "    )\n",
    ")\n",
    "\n",
    "parser = expr.setResultsName(\"YARA\")"
   ]
  },
  {
   "cell_type": "code",
   "execution_count": 12,
   "id": "af63e426-782f-4e1b-bb99-54f1875cb60c",
   "metadata": {},
   "outputs": [
    {
     "data": {
      "text/html": [
       "<table>\n",
       "<tbody>\n",
       "<tr><td>[&#x27;rule Agent_BTZ_Proxy_DLL_2 {\\n   meta:\\n      description = &quot;Detects Agent-BTZ Proxy DLL - activeds.dll&quot;\\n      author = &quot;Florian Roth&quot;\\n      reference = &quot;http://www.intezer.com/new-variants-of-agent-btz-comrat-found/&quot;\\n      date = &quot;2017-08-07&quot;\\n      hash1 = &quot;73db4295c5b29958c5d93c20be9482c1efffc89fc4e5c8ba59ac9425a4657a88&quot;\\n      hash2 = &quot;380b0353ba8cd33da8c5e5b95e3e032e83193019e73c71875b58ec1ed389bdac&quot;\\n      hash3 = &quot;f27e9bba6a2635731845b4334b807c0e4f57d3b790cecdc77d8fef50629f51a2&quot;\\n   strings:\\n      $s1 = { 38 21 38 2C 38 37 38 42 38 4D 38 58 38 63 38 6E\\n               38 79 38 84 38 8F 38 9A 38 A5 38 B0 38 BB 38 C6\\n               38 D1 38 DC 38 E7 38 F2 38 FD 38 08 39 13 39 1E\\n               39 29 39 34 39 3F 39 4A 39 55 39 60 39 6B 39 76\\n               39 81 39 8C 39 97 39 A2 39 AD 39 B8 39 C3 39 CE\\n               39 D9 39 E4 39 EF 39 FA 39 05 3A 10 3A 1B 3A 26\\n               3A 31 3A 3C 3A 47 3A 52 3A 5D 3A 68 3A 73 3A 7E\\n               3A 89 3A 94 3A 9F 3A AA 3A B5 3A C0 3A CB 3A D6\\n               3A E1 3A EC 3A F7 3A }\\n      $s2 = &quot;activeds.dll&quot; ascii fullword\\n   condition:\\n      uint16(0) == 0x5a4d and filesize &lt; 200KB and all of them and pe.imphash() == &quot;09b7c73fbe5529e6de7137e3e8268b7b&quot;\\n}&#x27;]</td><td style=\"text-align: right;\">0</td><td style=\"text-align: right;\">1213</td></tr>\n",
       "</tbody>\n",
       "</table>"
      ],
      "text/plain": [
       "[((['rule Agent_BTZ_Proxy_DLL_2 {\\n   meta:\\n      description = \"Detects Agent-BTZ Proxy DLL - activeds.dll\"\\n      author = \"Florian Roth\"\\n      reference = \"http://www.intezer.com/new-variants-of-agent-btz-comrat-found/\"\\n      date = \"2017-08-07\"\\n      hash1 = \"73db4295c5b29958c5d93c20be9482c1efffc89fc4e5c8ba59ac9425a4657a88\"\\n      hash2 = \"380b0353ba8cd33da8c5e5b95e3e032e83193019e73c71875b58ec1ed389bdac\"\\n      hash3 = \"f27e9bba6a2635731845b4334b807c0e4f57d3b790cecdc77d8fef50629f51a2\"\\n   strings:\\n      $s1 = { 38 21 38 2C 38 37 38 42 38 4D 38 58 38 63 38 6E\\n               38 79 38 84 38 8F 38 9A 38 A5 38 B0 38 BB 38 C6\\n               38 D1 38 DC 38 E7 38 F2 38 FD 38 08 39 13 39 1E\\n               39 29 39 34 39 3F 39 4A 39 55 39 60 39 6B 39 76\\n               39 81 39 8C 39 97 39 A2 39 AD 39 B8 39 C3 39 CE\\n               39 D9 39 E4 39 EF 39 FA 39 05 3A 10 3A 1B 3A 26\\n               3A 31 3A 3C 3A 47 3A 52 3A 5D 3A 68 3A 73 3A 7E\\n               3A 89 3A 94 3A 9F 3A AA 3A B5 3A C0 3A CB 3A D6\\n               3A E1 3A EC 3A F7 3A }\\n      $s2 = \"activeds.dll\" ascii fullword\\n   condition:\\n      uint16(0) == 0x5a4d and filesize < 200KB and all of them and pe.imphash() == \"09b7c73fbe5529e6de7137e3e8268b7b\"\\n}'], {'YARA': ['rule Agent_BTZ_Proxy_DLL_2 {\\n   meta:\\n      description = \"Detects Agent-BTZ Proxy DLL - activeds.dll\"\\n      author = \"Florian Roth\"\\n      reference = \"http://www.intezer.com/new-variants-of-agent-btz-comrat-found/\"\\n      date = \"2017-08-07\"\\n      hash1 = \"73db4295c5b29958c5d93c20be9482c1efffc89fc4e5c8ba59ac9425a4657a88\"\\n      hash2 = \"380b0353ba8cd33da8c5e5b95e3e032e83193019e73c71875b58ec1ed389bdac\"\\n      hash3 = \"f27e9bba6a2635731845b4334b807c0e4f57d3b790cecdc77d8fef50629f51a2\"\\n   strings:\\n      $s1 = { 38 21 38 2C 38 37 38 42 38 4D 38 58 38 63 38 6E\\n               38 79 38 84 38 8F 38 9A 38 A5 38 B0 38 BB 38 C6\\n               38 D1 38 DC 38 E7 38 F2 38 FD 38 08 39 13 39 1E\\n               39 29 39 34 39 3F 39 4A 39 55 39 60 39 6B 39 76\\n               39 81 39 8C 39 97 39 A2 39 AD 39 B8 39 C3 39 CE\\n               39 D9 39 E4 39 EF 39 FA 39 05 3A 10 3A 1B 3A 26\\n               3A 31 3A 3C 3A 47 3A 52 3A 5D 3A 68 3A 73 3A 7E\\n               3A 89 3A 94 3A 9F 3A AA 3A B5 3A C0 3A CB 3A D6\\n               3A E1 3A EC 3A F7 3A }\\n      $s2 = \"activeds.dll\" ascii fullword\\n   condition:\\n      uint16(0) == 0x5a4d and filesize < 200KB and all of them and pe.imphash() == \"09b7c73fbe5529e6de7137e3e8268b7b\"\\n}']}), 0, 1213)]"
      ]
     },
     "execution_count": 12,
     "metadata": {},
     "output_type": "execute_result"
    }
   ],
   "source": [
    "seq(parser.scanString(yara_sample))"
   ]
  },
  {
   "cell_type": "markdown",
   "id": "c3233d54-8600-4072-8701-93de7e5aabf1",
   "metadata": {},
   "source": [
    "---"
   ]
  },
  {
   "cell_type": "code",
   "execution_count": 13,
   "id": "35630cc0-fd23-432e-a1b3-a72922054010",
   "metadata": {},
   "outputs": [],
   "source": [
    "# from box import Box"
   ]
  },
  {
   "cell_type": "code",
   "execution_count": 23,
   "id": "9982e1f5-902d-40c3-9239-de3c9ad28bc3",
   "metadata": {},
   "outputs": [
    {
     "data": {
      "text/plain": [
       "{'id': '603eb1abdd4812819c64e197',\n",
       " 'name': 'HAFNIUM targeting Exchange Servers with 0-day exploits',\n",
       " 'description': '\"Microsoft has detected multiple 0-day exploits being used to attack on-premises versions of Microsoft Exchange Server in limited and targeted attacks. In the attacks observed, the threat actor used these vulnerabilities to access on-premises Exchange servers which enabled access to email accounts, and allowed installation of additional malware to facilitate long-term access to victim environments. Microsoft Threat Intelligence Center (MSTIC) attributes this campaign with high confidence to HAFNIUM, a group assessed to be state-sponsored and operating out of China, based on observed victimology, tactics and procedures.\"',\n",
       " 'author_name': 'AlienVault',\n",
       " 'modified': '2021-03-09T21:04:17.962000',\n",
       " 'created': '2021-03-02T21:44:11.611000',\n",
       " 'revision': 16,\n",
       " 'tlp': 'white',\n",
       " 'public': 1,\n",
       " 'adversary': 'HAFNIUM',\n",
       " 'indicators': [{'id': 2881717437,\n",
       "   'indicator': '097549cf7d0f76f0d99edf8b2d91c60977fd6a96e4b8c3c94b0b1733dc026d3e',\n",
       "   'type': 'FileHash-SHA256',\n",
       "   'created': '2021-03-02T21:44:12',\n",
       "   'content': '',\n",
       "   'title': '',\n",
       "   'description': '',\n",
       "   'expiration': None,\n",
       "   'is_active': 1,\n",
       "   'role': None},\n",
       "  {'id': 2881717438,\n",
       "   'indicator': '1631a90eb5395c4e19c7dbcbf611bbe6444ff312eb7937e286e4637cb9e72944',\n",
       "   'type': 'FileHash-SHA256',\n",
       "   'created': '2021-03-02T21:44:12',\n",
       "   'content': '',\n",
       "   'title': '',\n",
       "   'description': '',\n",
       "   'expiration': None,\n",
       "   'is_active': 1,\n",
       "   'role': None},\n",
       "  {'id': 2881717439,\n",
       "   'indicator': '2b6f1ebb2208e93ade4a6424555d6a8341fd6d9f60c25e44afe11008f5c1aad1',\n",
       "   'type': 'FileHash-SHA256',\n",
       "   'created': '2021-03-02T21:44:12',\n",
       "   'content': '',\n",
       "   'title': '',\n",
       "   'description': '',\n",
       "   'expiration': None,\n",
       "   'is_active': 1,\n",
       "   'role': None},\n",
       "  {'id': 2881717440,\n",
       "   'indicator': '4edc7770464a14f54d17f36dc9d0fe854f68b346b27b35a6f5839adf1f13f8ea',\n",
       "   'type': 'FileHash-SHA256',\n",
       "   'created': '2021-03-02T21:44:12',\n",
       "   'content': '',\n",
       "   'title': '',\n",
       "   'description': '',\n",
       "   'expiration': None,\n",
       "   'is_active': 1,\n",
       "   'role': None},\n",
       "  {'id': 2881717441,\n",
       "   'indicator': '511df0e2df9bfa5521b588cc4bb5f8c5a321801b803394ebc493db1ef3c78fa1',\n",
       "   'type': 'FileHash-SHA256',\n",
       "   'created': '2021-03-02T21:44:12',\n",
       "   'content': '',\n",
       "   'title': '',\n",
       "   'description': '',\n",
       "   'expiration': None,\n",
       "   'is_active': 1,\n",
       "   'role': None},\n",
       "  {'id': 2881717442,\n",
       "   'indicator': '65149e036fff06026d80ac9ad4d156332822dc93142cf1a122b1841ec8de34b5',\n",
       "   'type': 'FileHash-SHA256',\n",
       "   'created': '2021-03-02T21:44:12',\n",
       "   'content': '',\n",
       "   'title': '',\n",
       "   'description': '',\n",
       "   'expiration': None,\n",
       "   'is_active': 1,\n",
       "   'role': None},\n",
       "  {'id': 2881717443,\n",
       "   'indicator': '811157f9c7003ba8d17b45eb3cf09bef2cecd2701cedb675274949296a6a183d',\n",
       "   'type': 'FileHash-SHA256',\n",
       "   'created': '2021-03-02T21:44:12',\n",
       "   'content': '',\n",
       "   'title': '',\n",
       "   'description': '',\n",
       "   'expiration': None,\n",
       "   'is_active': 1,\n",
       "   'role': None},\n",
       "  {'id': 2881717444,\n",
       "   'indicator': 'b75f163ca9b9240bf4b37ad92bc7556b40a17e27c2b8ed5c8991385fe07d17d0',\n",
       "   'type': 'FileHash-SHA256',\n",
       "   'created': '2021-03-02T21:44:12',\n",
       "   'content': '',\n",
       "   'title': '',\n",
       "   'description': '',\n",
       "   'expiration': None,\n",
       "   'is_active': 1,\n",
       "   'role': None},\n",
       "  {'id': 2881717445,\n",
       "   'indicator': 'CVE-2021-26858',\n",
       "   'type': 'CVE',\n",
       "   'created': '2021-03-02T21:44:12',\n",
       "   'content': '',\n",
       "   'title': '',\n",
       "   'description': '',\n",
       "   'expiration': None,\n",
       "   'is_active': 1,\n",
       "   'role': None},\n",
       "  {'id': 2881717446,\n",
       "   'indicator': 'CVE-2021-26855',\n",
       "   'type': 'CVE',\n",
       "   'created': '2021-03-02T21:44:12',\n",
       "   'content': '',\n",
       "   'title': '',\n",
       "   'description': '',\n",
       "   'expiration': None,\n",
       "   'is_active': 1,\n",
       "   'role': None},\n",
       "  {'id': 2881717447,\n",
       "   'indicator': 'CVE-2021-27065',\n",
       "   'type': 'CVE',\n",
       "   'created': '2021-03-02T21:44:12',\n",
       "   'content': '',\n",
       "   'title': '',\n",
       "   'description': '',\n",
       "   'expiration': None,\n",
       "   'is_active': 1,\n",
       "   'role': None},\n",
       "  {'id': 2881717448,\n",
       "   'indicator': 'CVE-2021-26857',\n",
       "   'type': 'CVE',\n",
       "   'created': '2021-03-02T21:44:12',\n",
       "   'content': '',\n",
       "   'title': '',\n",
       "   'description': '',\n",
       "   'expiration': None,\n",
       "   'is_active': 1,\n",
       "   'role': None},\n",
       "  {'id': 2881717449,\n",
       "   'indicator': '893cd3583b49cb706b3e55ecb2ed0757b977a21f5c72e041392d1256f31166e2',\n",
       "   'type': 'FileHash-SHA256',\n",
       "   'created': '2021-03-02T21:44:12',\n",
       "   'content': '',\n",
       "   'title': '',\n",
       "   'description': '',\n",
       "   'expiration': None,\n",
       "   'is_active': 1,\n",
       "   'role': None},\n",
       "  {'id': 2881717451,\n",
       "   'indicator': '2fa06333188795110bba14a482020699a96f76fb1ceb80cbfa2df9d3008b5b0a',\n",
       "   'type': 'FileHash-SHA256',\n",
       "   'created': '2021-03-02T21:44:12',\n",
       "   'content': '',\n",
       "   'title': '',\n",
       "   'description': '',\n",
       "   'expiration': None,\n",
       "   'is_active': 1,\n",
       "   'role': None},\n",
       "  {'id': 2881717452,\n",
       "   'indicator': '406b680edc9a1bb0e2c7c451c56904857848b5f15570401450b73b232ff38928',\n",
       "   'type': 'FileHash-SHA256',\n",
       "   'created': '2021-03-02T21:44:12',\n",
       "   'content': '',\n",
       "   'title': '',\n",
       "   'description': '',\n",
       "   'expiration': None,\n",
       "   'is_active': 1,\n",
       "   'role': None},\n",
       "  {'id': 2883013735,\n",
       "   'indicator': '165.232.154.116',\n",
       "   'type': 'IPv4',\n",
       "   'created': '2021-03-05T16:45:36',\n",
       "   'content': '',\n",
       "   'title': '',\n",
       "   'description': '',\n",
       "   'expiration': '2021-04-04T00:00:00',\n",
       "   'is_active': 1,\n",
       "   'role': None},\n",
       "  {'id': 2883057221,\n",
       "   'indicator': '028b507521a74862b27e0e0c7b4e672b3f8758a9',\n",
       "   'type': 'YARA',\n",
       "   'created': '2021-03-03T15:23:29',\n",
       "   'content': 'rule HKTL_Nishang_PS1_Invoke_PowerShellTcpOneLine {   \\n      meta:   \\n         description = \"Detects PowerShell Oneliner in Nishang\\'s repository\"   \\n         author = \"Florian Roth\"   \\n         reference = \"https://github.com/samratashok/nishang/blob/master/Shells/Invoke-PowerShellTcpOneLine.ps1\"   \\n         date = \"2021-03-03\"   \\n         hash1 = \"2f4c948974da341412ab742e14d8cdd33c1efa22b90135fcfae891f08494ac32\"   \\n      strings:   \\n         $s1 = \"=([text.encoding]::ASCII).GetBytes((iex $\" ascii wide   \\n         $s2 = \".GetStream();[byte[]]$\" ascii wide   \\n         $s3 = \"New-Object Net.Sockets.TCPClient(\\'\" ascii wide   \\n      condition:   \\n         all of them   \\n   }',\n",
       "   'title': 'HKTL_Nishang_PS1_Invoke_PowerShellTcpOneLine',\n",
       "   'description': \"Detects PowerShell Oneliner in Nishang's repository\",\n",
       "   'expiration': None,\n",
       "   'is_active': 1,\n",
       "   'role': None},\n",
       "  {'id': 2883057223,\n",
       "   'indicator': '0f6e708599b716dd3b24fdf6c75837d49b61fdd1',\n",
       "   'type': 'YARA',\n",
       "   'created': '2021-03-03T15:23:29',\n",
       "   'content': 'rule HKTL_PS1_PowerCat_Mar21 {   \\n      meta:   \\n         description = \"Detects PowerCat hacktool\"   \\n         author = \"Florian Roth\"   \\n         reference = \"https://github.com/besimorhino/powercat\"   \\n         date = \"2021-03-02\"   \\n         hash1 = \"c55672b5d2963969abe045fe75db52069d0300691d4f1f5923afeadf5353b9d2\"   \\n      strings:   \\n         $x1 = \"powercat -l -p 8000 -r dns:10.1.1.1:53:c2.example.com\" ascii fullword   \\n         $x2 = \"try{[byte[]]$ReturnedData = $Encoding.GetBytes((IEX $CommandToExecute 2>&1 | Out-String))}\" ascii fullword   \\n      \\n         $s1 = \"Returning Encoded Payload...\" ascii   \\n         $s2 = \"$CommandToExecute =\" ascii fullword   \\n         $s3 = \"[alias(\\\\\"Execute\\\\\")][string]$e=\\\\\"\\\\\",\" ascii   \\n      condition:   \\n         uint16(0) == 0x7566 and   \\n         filesize < 200KB and   \\n         1 of ($x*) or 3 of them   \\n   }',\n",
       "   'title': 'HKTL_PS1_PowerCat_Mar21',\n",
       "   'description': 'Detects PowerCat hacktool',\n",
       "   'expiration': None,\n",
       "   'is_active': 1,\n",
       "   'role': None},\n",
       "  {'id': 2886535526,\n",
       "   'indicator': '0fd9bffa49c76ee12e51e3b8ae0609ac',\n",
       "   'type': 'FileHash-MD5',\n",
       "   'created': '2021-03-05T16:45:36',\n",
       "   'content': '',\n",
       "   'title': '',\n",
       "   'description': '',\n",
       "   'expiration': None,\n",
       "   'is_active': 1,\n",
       "   'role': None},\n",
       "  {'id': 2886535527,\n",
       "   'indicator': '4b3039cf227c611c45d2242d1228a121',\n",
       "   'type': 'FileHash-MD5',\n",
       "   'created': '2021-03-05T16:45:36',\n",
       "   'content': '',\n",
       "   'title': '',\n",
       "   'description': '',\n",
       "   'expiration': None,\n",
       "   'is_active': 1,\n",
       "   'role': None},\n",
       "  {'id': 2886535528,\n",
       "   'indicator': '79eb217578bed4c250803bd573b10151',\n",
       "   'type': 'FileHash-MD5',\n",
       "   'created': '2021-03-05T16:45:36',\n",
       "   'content': '',\n",
       "   'title': '',\n",
       "   'description': '',\n",
       "   'expiration': None,\n",
       "   'is_active': 1,\n",
       "   'role': None},\n",
       "  {'id': 2886535529,\n",
       "   'indicator': '0ba9a76f55aaa495670d74d21850d0155ff5d6a5',\n",
       "   'type': 'FileHash-SHA1',\n",
       "   'created': '2021-03-05T16:45:36',\n",
       "   'content': '',\n",
       "   'title': '',\n",
       "   'description': 'SHA1 of 4b3039cf227c611c45d2242d1228a121',\n",
       "   'expiration': None,\n",
       "   'is_active': 1,\n",
       "   'role': None},\n",
       "  {'id': 2886535530,\n",
       "   'indicator': '182.18.152.105',\n",
       "   'type': 'IPv4',\n",
       "   'created': '2021-03-05T16:45:36',\n",
       "   'content': '',\n",
       "   'title': '',\n",
       "   'description': '',\n",
       "   'expiration': '2021-04-04T00:00:00',\n",
       "   'is_active': 1,\n",
       "   'role': None},\n",
       "  {'id': 2886535531,\n",
       "   'indicator': '89.34.111.11',\n",
       "   'type': 'IPv4',\n",
       "   'created': '2021-03-05T16:45:36',\n",
       "   'content': '',\n",
       "   'title': '',\n",
       "   'description': '',\n",
       "   'expiration': '2021-04-04T00:00:00',\n",
       "   'is_active': 1,\n",
       "   'role': 'scanning_host'},\n",
       "  {'id': 2892396777,\n",
       "   'indicator': '8a7252d3fd1b2d8e2b39dc1cedbe1e9a42cc0e07',\n",
       "   'type': 'YARA',\n",
       "   'created': '2021-03-09T18:29:01',\n",
       "   'content': 'rule WEBSHELL_ASPX_reGeorgTunnel {   \\n      meta:   \\n         author = \"threatintel@volexity.com\"   \\n         date = \"2021-03-01\"   \\n         description = \"variation on reGeorgtunnel\"   \\n         hash = \"406b680edc9a1bb0e2c7c451c56904857848b5f15570401450b73b232ff38928\"   \\n         reference = \"https://github.com/sensepost/reGeorg/blob/master/tunnel.aspx\"   \\n      strings:   \\n         $s1 = \"System.Net.Sockets\"   \\n         $s2 = \"System.Text.Encoding.Default.GetString(Convert.FromBase64String(StrTr(Request.Headers.Get\"   \\n         $t1 = \".Split(\\'|\\')\"   \\n         $t2 = \"Request.Headers.Get\"   \\n         $t3 = \".Substring(\"   \\n         $t4 = \"new Socket(\"   \\n         $t5 = \"IPAddress ip;\"   \\n      condition:   \\n         all of ($s*) or   \\n         all of ($t*)   \\n   }',\n",
       "   'title': 'WEBSHELL_ASPX_reGeorgTunnel',\n",
       "   'description': 'variation on reGeorgtunnel',\n",
       "   'expiration': None,\n",
       "   'is_active': 1,\n",
       "   'role': 'file_scanning'},\n",
       "  {'id': 2892407935,\n",
       "   'indicator': '379f9d50e0c0fb8f5489a9d0954e88100397735b',\n",
       "   'type': 'YARA',\n",
       "   'created': '2021-03-09T18:39:08',\n",
       "   'content': 'rule WEBSHELL_ASPX_SportsBall {   \\n      meta:   \\n         author = \"threatintel@volexity.com\"   \\n         date = \"2021-03-01\"   \\n         description = \"The SPORTSBALL webshell allows attackers to upload files or execute commands on the system.\"   \\n         hash = \"2fa06333188795110bba14a482020699a96f76fb1ceb80cbfa2df9d3008b5b0a\"   \\n         reference = \"https://www.volexity.com/blog/2021/03/02/active-exploitation-of-microsoft-exchange-zero-day-vulnerabilities/\"   \\n      strings:   \\n         $uniq1 = \"HttpCookie newcook = new HttpCookie(\\\\\"fqrspt\\\\\", HttpContext.Current.Request.Form\"   \\n         $uniq2 = \"ZN2aDAB4rXsszEvCLrzgcvQ4oi5J1TuiRULlQbYwldE=\"   \\n      \\n         $var1 = \"Result.InnerText = string.Empty;\"   \\n         $var2 = \"newcook.Expires = DateTime.Now.AddDays(\"   \\n         $var3 = \"System.Diagnostics.Process process = new System.Diagnostics.Process();\"   \\n         $var4 = \"process.StandardInput.WriteLine(HttpContext.Current.Request.Form[\\\\\"\"   \\n         $var5 = \"else if (!string.IsNullOrEmpty(HttpContext.Current.Request.Form[\\\\\"\"   \\n         $var6 = \"<input type=\\\\\"submit\\\\\" value=\\\\\"Upload\\\\\" />\"   \\n      condition:   \\n         any of ($uniq*) or   \\n         all of ($var*)   \\n   }',\n",
       "   'title': 'WEBSHELL_ASPX_SportsBall',\n",
       "   'description': 'The SPORTSBALL webshell allows attackers to upload files or execute commands on the system.',\n",
       "   'expiration': None,\n",
       "   'is_active': 1,\n",
       "   'role': None},\n",
       "  {'id': 2892408175,\n",
       "   'indicator': 'be4729822905d1cdc66122b3ae3084721ba49f1e',\n",
       "   'type': 'YARA',\n",
       "   'created': '2021-03-09T18:41:25',\n",
       "   'content': 'rule APT_HAFNIUM_Forensic_Artifacts_Mar21_1 {   \\n      meta:   \\n         description = \"Detects forensic artifacts found in HAFNIUM intrusions\"   \\n         author = \"Florian Roth\"   \\n         reference = \"https://www.microsoft.com/security/blog/2021/03/02/hafnium-targeting-exchange-servers/\"   \\n         date = \"2021-03-02\"   \\n      strings:   \\n         $s1 = \"lsass.exe C:\\\\\\\\windows\\\\\\\\temp\\\\\\\\lsass\" ascii wide fullword   \\n         $s2 = \"c:\\\\\\\\ProgramData\\\\\\\\it.zip\" ascii wide fullword   \\n         $s3 = \"powercat.ps1\\'); powercat -c\" ascii wide fullword   \\n      condition:   \\n         1 of them   \\n   }',\n",
       "   'title': 'APT_HAFNIUM_Forensic_Artifacts_Mar21_1',\n",
       "   'description': 'Detects forensic artifacts found in HAFNIUM intrusions',\n",
       "   'expiration': None,\n",
       "   'is_active': 1,\n",
       "   'role': None},\n",
       "  {'id': 2892436656,\n",
       "   'indicator': '26cc3213d699f6baee818a9cd7c45214e14a931c',\n",
       "   'type': 'YARA',\n",
       "   'created': '2021-03-09T18:47:49',\n",
       "   'content': 'rule WEBSHELL_ASPX_SimpleSeeSharp {   \\n      meta:   \\n         author = \"threatintel@volexity.com\"   \\n         date = \"2021-03-01\"   \\n         description = \"A simple ASPX Webshell that allows an attacker to write further files to disk.\"   \\n         hash = \"893cd3583b49cb706b3e55ecb2ed0757b977a21f5c72e041392d1256f31166e2\"   \\n         reference = \"https://www.volexity.com/blog/2021/03/02/active-exploitation-of-microsoft-exchange-zero-day-vulnerabilities/\"   \\n      strings:   \\n         $header = \"<%@ Page Language=\\\\\"C#\\\\\" %>\"   \\n         $body = \"<% HttpPostedFile thisFile = Request.Files[0];thisFile.SaveAs(Path.Combine\"   \\n      condition:   \\n         $header at 0 and   \\n         $body and   \\n         filesize < 1KB   \\n   }',\n",
       "   'title': 'WEBSHELL_ASPX_SimpleSeeSharp',\n",
       "   'description': 'A simple ASPX Webshell that allows an attacker to write further files to disk.',\n",
       "   'expiration': None,\n",
       "   'is_active': 1,\n",
       "   'role': None},\n",
       "  {'id': 2892436897,\n",
       "   'indicator': 'a170155e35b7e4689c93325087fe4479c164604b',\n",
       "   'type': 'YARA',\n",
       "   'created': '2021-03-09T18:51:56',\n",
       "   'content': 'rule EXPL_LOG_CVE_2021_27065_Exchange_Forensic_Artifacts_Mar21_1 {   \\n      meta:   \\n         description = \"Detects forensic artifacts found in HAFNIUM intrusions exploiting CVE-2021-27065\"   \\n         author = \"Florian Roth\"   \\n         reference = \"https://www.volexity.com/blog/2021/03/02/active-exploitation-of-microsoft-exchange-zero-day-vulnerabilities/\"   \\n         date = \"2021-03-02\"   \\n      strings:   \\n         $s1 = \"S:CMD=Set-OabVirtualDirectory.ExternalUrl=\\'\" ascii wide fullword   \\n      condition:   \\n         1 of them   \\n   }',\n",
       "   'title': 'EXPL_LOG_CVE_2021_27065_Exchange_Forensic_Artifacts_Mar21_1',\n",
       "   'description': 'Detects forensic artifacts found in HAFNIUM intrusions exploiting CVE-2021-27065',\n",
       "   'expiration': None,\n",
       "   'is_active': 1,\n",
       "   'role': None},\n",
       "  {'id': 2892436945,\n",
       "   'indicator': 'fd72bba6dea94c4759731571b17ce20b7e135a8e',\n",
       "   'type': 'YARA',\n",
       "   'created': '2021-03-09T18:52:44',\n",
       "   'content': 'rule EXPL_LOG_CVE_2021_26858_Exchange_Forensic_Artifacts_Mar21_1 {   \\n      meta:   \\n         description = \"Detects forensic artifacts found in HAFNIUM intrusions exploiting CVE-2021-26858\"   \\n         author = \"Florian Roth\"   \\n         reference = \"https://www.volexity.com/blog/2021/03/02/active-exploitation-of-microsoft-exchange-zero-day-vulnerabilities/\"   \\n         date = \"2021-03-02\"   \\n      strings:   \\n         $xr1 = /POST[^\\\\n]{1,40}(\\\\/owa\\\\/auth\\\\/Current\\\\/themes\\\\/resources\\\\/logon\\\\.css|\\\\/owa\\\\/auth\\\\/Current\\\\/themes\\\\/resources\\\\/owafont_ja\\\\.css|\\\\/owa\\\\/auth\\\\/Current\\\\/themes\\\\/resources\\\\/lgnbotl\\\\.gif|\\\\/owa\\\\/auth\\\\/Current\\\\/themes\\\\/resources\\\\/owafont_ko\\\\.css|\\\\/owa\\\\/auth\\\\/Current\\\\/themes\\\\/resources\\\\/SegoeUI-SemiBold\\\\.eot|\\\\/owa\\\\/auth\\\\/Current\\\\/themes\\\\/resources\\\\/SegoeUI-SemiLight\\\\.ttf|\\\\/owa\\\\/auth\\\\/Current\\\\/themes\\\\/resources\\\\/lgnbotl\\\\.gif)/      \\n      condition:   \\n         $xr1   \\n   }',\n",
       "   'title': 'EXPL_LOG_CVE_2021_26858_Exchange_Forensic_Artifacts_Mar21_1',\n",
       "   'description': 'Detects forensic artifacts found in HAFNIUM intrusions exploiting CVE-2021-26858',\n",
       "   'expiration': None,\n",
       "   'is_active': 1,\n",
       "   'role': None}],\n",
       " 'tags': ['webshell',\n",
       "  'aspx webshell',\n",
       "  'azure sentinel',\n",
       "  'hafnium',\n",
       "  'microsoft',\n",
       "  'exchange',\n",
       "  'server',\n",
       "  'powercat',\n",
       "  'covenant',\n",
       "  'procdump',\n",
       "  'lsass',\n",
       "  'service',\n",
       "  'powershell',\n",
       "  'cn_apt',\n",
       "  'China',\n",
       "  'email',\n",
       "  'Exploit',\n",
       "  'UNC2643',\n",
       "  'UNC2640',\n",
       "  'UNC2639',\n",
       "  'CVE-2021-26858',\n",
       "  'CVE-2021-26857',\n",
       "  'CVE-2021-27065',\n",
       "  'CVE-2021-26855'],\n",
       " 'targeted_countries': ['United States of America'],\n",
       " 'malware_families': ['Trojan.Agent.Hafnium', 'Cobalt Strike - S0154'],\n",
       " 'attack_ids': ['T1059', 'T1505'],\n",
       " 'references': ['https://www.microsoft.com/security/blog/2021/03/02/hafnium-targeting-exchange-servers/',\n",
       "  'https://www.volexity.com/blog/2021/03/02/active-exploitation-of-microsoft-exchange-zero-day-vulnerabilities/',\n",
       "  'https://us-cert.cisa.gov/ncas/alerts/aa21-062a',\n",
       "  'https://unit42.paloaltonetworks.com/microsoft-exchange-server-vulnerabilities/',\n",
       "  'https://www.fireeye.com/blog/threat-research/2021/03/detection-response-to-exploitation-of-microsoft-exchange-zero-day-vulnerabilities.html',\n",
       "  'https://github.com/cert-lv/exchange_webshell_detection',\n",
       "  'https://github.com/nsacyber/Mitigating-Web-Shells',\n",
       "  'https://blog.truesec.com/2021/03/07/exchange-zero-day-proxylogon-and-hafnium/',\n",
       "  'https://twitter.com/SBousseaden/status/1368241345454870528',\n",
       "  'https://twitter.com/JohnLaTwC/status/1368952992221700096',\n",
       "  'https://github.com/microsoft/CSS-Exchange/tree/main/Security',\n",
       "  'https://media.defense.gov/2020/Jun/09/2002313081/-1/-1/0/CSI-DETECT-AND-PREVENT-WEB-SHELL-MALWARE-20200422.PDF'],\n",
       " 'industries': ['Defense',\n",
       "  'Higher Education',\n",
       "  'Research',\n",
       "  'Law',\n",
       "  'NGO',\n",
       "  'Government'],\n",
       " 'extract_source': [],\n",
       " 'more_indicators': False}"
      ]
     },
     "execution_count": 23,
     "metadata": {},
     "output_type": "execute_result"
    }
   ],
   "source": [
    "# feed = seq.json(\"../data/hellokitty.feeds.json\").to_dict()\n",
    "feed = seq.json(\"../data/hafnium.feeds.json\").to_dict()\n",
    "# feed = seq.json(\"../data/sunspot.feeds.json\").to_dict()\n",
    "\n",
    "feed"
   ]
  },
  {
   "cell_type": "markdown",
   "id": "27d1d906-7510-4b4f-a75a-194ca8244b58",
   "metadata": {},
   "source": [
    "---"
   ]
  },
  {
   "cell_type": "markdown",
   "id": "2a87d6b3-ca5b-404d-bfaf-7f531d28e231",
   "metadata": {},
   "source": [
    "```python\n",
    "{\n",
    "    \"string\": 'fadd8d7c13a18c251ded1f645ffea18a37f1c2de', \n",
    "    \"masked\": 'FileHash-SHA1',\n",
    "    \"label\": {\n",
    "        \"label\": \"indicator\", \n",
    "        \"group\": 2, \n",
    "        \"role\": None\n",
    "}\n",
    "```"
   ]
  },
  {
   "cell_type": "code",
   "execution_count": null,
   "id": "6964564c-5411-4d35-a0cf-eb0206a8a7fc",
   "metadata": {},
   "outputs": [],
   "source": [
    "# indicator process\n",
    "Indicator = namedtuple(\"Indicator\", [\"index\", \"indicator\", \"type\", \"role\"])\n",
    "\n",
    "indicators = (\n",
    "    seq(feed.get(\"indicators\"))\n",
    "    .filter(lambda indicator: indicator.get(\"type\") != \"YARA\")  # ignore yara\n",
    "    .enumerate()\n",
    "    .starmap(\n",
    "        lambda index, indicator: (\n",
    "            index,\n",
    "            *itemgetter(\"indicator\", \"type\", \"role\")(indicator),  # flatten\n",
    "        )\n",
    "    )\n",
    "    .starmap(\n",
    "        lambda index, indicator, type, role: (\n",
    "            index,\n",
    "            indicator,\n",
    "            type,\n",
    "            role if role != \"\" else None,  # replace \"\" with None\n",
    "        )\n",
    "    )\n",
    "    .map(lambda fields: Indicator(*fields))\n",
    "    .to_list()\n",
    ")"
   ]
  },
  {
   "cell_type": "code",
   "execution_count": 19,
   "id": "22986bcb-a941-4867-9243-25e497d8eaec",
   "metadata": {},
   "outputs": [],
   "source": [
    "from operator import itemgetter"
   ]
  },
  {
   "cell_type": "code",
   "execution_count": 24,
   "id": "2c492315-aa5e-4276-a8dd-7680eff0db5f",
   "metadata": {},
   "outputs": [],
   "source": [
    "class Label(object):\n",
    "    def __init__(self, feed):\n",
    "        self.feed = feed\n",
    "\n",
    "    @staticmethod\n",
    "    def get_label(indicator):\n",
    "        _indicator, _type, _role = itemgetter(\"indicator\", \"type\", \"role\")(indicator)\n",
    "        \"\"\"\n",
    "        Todo: ignore yara\n",
    "        \"\"\"\n",
    "        target = _indicator\n",
    "        replacement = \"<{}>\".format(_type)\n",
    "        label = \"Indicator\" if _role is None else \"Indicator-{}\".format(_role.title())\n",
    "        return target, replacement, label\n",
    "\n",
    "    \"\"\"\n",
    "    tags or keyword is replacement\n",
    "    \"\"\""
   ]
  },
  {
   "cell_type": "code",
   "execution_count": 25,
   "id": "d3f444a8-e924-4cde-a267-7f4286a568a8",
   "metadata": {},
   "outputs": [],
   "source": [
    "l = Label(feed)"
   ]
  },
  {
   "cell_type": "markdown",
   "id": "8acb36dc-155d-42c1-8c5a-bc66743aa146",
   "metadata": {},
   "source": [
    "- CVE\n",
    "- FileHash-SHA256\n",
    "- IPv4\n",
    "- YARA\n"
   ]
  },
  {
   "cell_type": "markdown",
   "id": "a98c8dc9-fe1d-4bb9-babb-a0ba8d1aa6c9",
   "metadata": {},
   "source": [
    "```bash\n",
    "cat *.json | jq -c '.objects[] | select(.id | contains(\"indicator\"))'\n",
    "```"
   ]
  },
  {
   "cell_type": "markdown",
   "id": "fcb92e80-8868-4189-bddb-cb58070d9fc9",
   "metadata": {},
   "source": [
    "feed.indicators[].type | stix.objects[].type | stix.objects[].pattern_type | stix.objects[].labels\n",
    "-----------------------|---------------------|------------------------|-----------------------\n",
    "CVE                    | \"vulnerability\"     |                        |\n",
    "URL                    |                     |                   | [\"malicious-activity\"]\n",
    "domain                 | \"indicator\"         |           | [\"malicious-activity\"]\n",
    "FileHash-MD5           | \"indicator\"         | \"stix\"       | [\"malicious-activity\"]\n",
    "FileHash-SHA1          | \"indicator\"         |         | [\"malicious-activity\"]\n",
    "FileHash-SHA256        | \"indicator\"         |         | [\"malicious-activity\"]\n",
    "IPv4                   |                     |         | \n",
    "YARA                   | \"indicator\"         |         | []\n",
    "AttackTechnique*       | \"attack-pattern\"    |\n",
    "?                      | \"malware\"           |                        | [\"adware\"]\n",
    "adversery*             | \"threat-actor\"      |                        | [\"activist\"]\n",
    "\n",
    "\n",
    "**stix.objects[].type**\n",
    "- identity\n",
    "- indicator\n",
    "    - **.pattern (.pattern_type)**\n",
    "        - domain-name:value (stix)\n",
    "        - email-message:from_ref.value (stix)\n",
    "        - file:hashes.'SHA-1' (stix)\n",
    "        - file:hashes.'SHA-256' (stix)\n",
    "        - file:hashes.MD5 (stix)\n",
    "        - ipv4-addr:value (stix)\n",
    "        - ipv6-addr:value (stix)\n",
    "        - mutex:value (stix)\n",
    "        - url:value (stix)\n",
    "        - rule / import (yara)\n",
    "    \n",
    "- report\n",
    "- threat-actor\n",
    "    - name: .name, description: .description, aliases: .aliases}\n",
    "- vulnerability\n",
    "    - **.name**\n",
    "\n",
    "\n",
    "  \"activist\"\n",
    "  \"backdoor\"\n",
    "  \"command_and_control\"\n",
    "  \"file_scanning\"\n",
    "  \"hacking_tool\"\n",
    "  \"malware_hosting\"\n",
    "  \"memory_scanning\"\n",
    "  \"phishing\"\n",
    "  \"ransomware\"\n",
    "  \"rat\"\n",
    "  \"scanning_host\"\n",
    "  \"threat-report\"\n",
    "  \"trojan\"\n",
    "  \"unknown\"\n",
    "  \"worm\""
   ]
  },
  {
   "cell_type": "code",
   "execution_count": 27,
   "id": "65a7f5a8-9c87-40fc-a8c7-3739efff6f22",
   "metadata": {},
   "outputs": [
    {
     "name": "stdout",
     "output_type": "stream",
     "text": [
      "----------------------------------------------------------------  -----------------  -----------------------\n",
      "097549cf7d0f76f0d99edf8b2d91c60977fd6a96e4b8c3c94b0b1733dc026d3e  <FileHash-SHA256>  Indicator\n",
      "1631a90eb5395c4e19c7dbcbf611bbe6444ff312eb7937e286e4637cb9e72944  <FileHash-SHA256>  Indicator\n",
      "2b6f1ebb2208e93ade4a6424555d6a8341fd6d9f60c25e44afe11008f5c1aad1  <FileHash-SHA256>  Indicator\n",
      "4edc7770464a14f54d17f36dc9d0fe854f68b346b27b35a6f5839adf1f13f8ea  <FileHash-SHA256>  Indicator\n",
      "511df0e2df9bfa5521b588cc4bb5f8c5a321801b803394ebc493db1ef3c78fa1  <FileHash-SHA256>  Indicator\n",
      "65149e036fff06026d80ac9ad4d156332822dc93142cf1a122b1841ec8de34b5  <FileHash-SHA256>  Indicator\n",
      "811157f9c7003ba8d17b45eb3cf09bef2cecd2701cedb675274949296a6a183d  <FileHash-SHA256>  Indicator\n",
      "b75f163ca9b9240bf4b37ad92bc7556b40a17e27c2b8ed5c8991385fe07d17d0  <FileHash-SHA256>  Indicator\n",
      "CVE-2021-26858                                                    <CVE>              Indicator\n",
      "CVE-2021-26855                                                    <CVE>              Indicator\n",
      "CVE-2021-27065                                                    <CVE>              Indicator\n",
      "CVE-2021-26857                                                    <CVE>              Indicator\n",
      "893cd3583b49cb706b3e55ecb2ed0757b977a21f5c72e041392d1256f31166e2  <FileHash-SHA256>  Indicator\n",
      "2fa06333188795110bba14a482020699a96f76fb1ceb80cbfa2df9d3008b5b0a  <FileHash-SHA256>  Indicator\n",
      "406b680edc9a1bb0e2c7c451c56904857848b5f15570401450b73b232ff38928  <FileHash-SHA256>  Indicator\n",
      "165.232.154.116                                                   <IPv4>             Indicator\n",
      "028b507521a74862b27e0e0c7b4e672b3f8758a9                          <YARA>             Indicator\n",
      "0f6e708599b716dd3b24fdf6c75837d49b61fdd1                          <YARA>             Indicator\n",
      "0fd9bffa49c76ee12e51e3b8ae0609ac                                  <FileHash-MD5>     Indicator\n",
      "4b3039cf227c611c45d2242d1228a121                                  <FileHash-MD5>     Indicator\n",
      "79eb217578bed4c250803bd573b10151                                  <FileHash-MD5>     Indicator\n",
      "0ba9a76f55aaa495670d74d21850d0155ff5d6a5                          <FileHash-SHA1>    Indicator\n",
      "182.18.152.105                                                    <IPv4>             Indicator\n",
      "89.34.111.11                                                      <IPv4>             Indicator-Scanning_Host\n",
      "8a7252d3fd1b2d8e2b39dc1cedbe1e9a42cc0e07                          <YARA>             Indicator-File_Scanning\n",
      "379f9d50e0c0fb8f5489a9d0954e88100397735b                          <YARA>             Indicator\n",
      "be4729822905d1cdc66122b3ae3084721ba49f1e                          <YARA>             Indicator\n",
      "26cc3213d699f6baee818a9cd7c45214e14a931c                          <YARA>             Indicator\n",
      "a170155e35b7e4689c93325087fe4479c164604b                          <YARA>             Indicator\n",
      "fd72bba6dea94c4759731571b17ce20b7e135a8e                          <YARA>             Indicator\n",
      "----------------------------------------------------------------  -----------------  -----------------------\n"
     ]
    }
   ],
   "source": [
    "seq(feed.get(\"indicators\")).map(lambda indicator: Label.get_label(indicator)).show(30)"
   ]
  },
  {
   "cell_type": "code",
   "execution_count": 73,
   "id": "7eb51298-2c40-4a92-8456-1bc88e6d25ce",
   "metadata": {},
   "outputs": [
    {
     "data": {
      "text/plain": [
       "('501487b025f25ddf1ca32deb57a2b4db43ccf6635c1edc74b9cff54ce0e5bcfe',\n",
       " '<FileHash-SHA256>',\n",
       " 'Indicator')"
      ]
     },
     "execution_count": 73,
     "metadata": {},
     "output_type": "execute_result"
    }
   ],
   "source": [
    "attribs = Label.get_label(feed.get(\"indicators\")[1])\n",
    "attribs"
   ]
  },
  {
   "cell_type": "code",
   "execution_count": 35,
   "id": "a18a05a5-10e5-4dbe-8cf7-c3ba15c94b68",
   "metadata": {},
   "outputs": [],
   "source": [
    "text = \"\"\"IOCs\n",
    "\n",
    "SHA1\n",
    "fadd8d7c13a18c251ded1f645ffea18a37f1c2de\n",
    "\n",
    "SHA256\n",
    "501487b025f25ddf1ca32deb57a2b4db43ccf6635c1edc74b9cff54ce0e5bcfe\n",
    "\n",
    "MITRE ATT&CK\n",
    "Data from Local System – T1005\n",
    "Modify Registry – T1112\n",
    "Query Registry – T1012\n",
    "System Information Discovery – T1082\n",
    "Data Encrypted for Impact – T1486\n",
    "File Deletion – T1070.004\n",
    "Command and Scripting Interpreter: Windows Command Shell – T1059.003\n",
    "Windows Management Instrumentation – T1047\n",
    "\n",
    "501487b025f25ddf1ca32deb57a2b4db43ccf6635c1edc74b9cff54ce0e5bcfe\n",
    "\"\"\""
   ]
  },
  {
   "cell_type": "code",
   "execution_count": null,
   "id": "a9ae6e54-6f0b-43b0-9002-f89888a4664e",
   "metadata": {},
   "outputs": [],
   "source": [
    "expr = Keyword(indicators[2].indicator)\n",
    "parser = (\n",
    "    Group(expr)\n",
    "    .setName(indicators[2].type)\n",
    "    .setParseAction(lambda string, loc, tokens: tokens.asDict())\n",
    ")"
   ]
  },
  {
   "cell_type": "markdown",
   "id": "36b27071-2ec6-4225-95c8-11aee6770713",
   "metadata": {},
   "source": [
    "---"
   ]
  },
  {
   "cell_type": "code",
   "execution_count": 38,
   "id": "91b1b42b-8b13-4260-8684-318b82a45cbb",
   "metadata": {},
   "outputs": [],
   "source": [
    "from pyparsing import Group, OneOrMore, MatchFirst"
   ]
  },
  {
   "cell_type": "code",
   "execution_count": 79,
   "id": "9c9dab87-bd32-42e6-825c-464006089093",
   "metadata": {},
   "outputs": [
    {
     "data": {
      "text/plain": [
       "[{'integer': '123'}, {'integer': '321'}]"
      ]
     },
     "execution_count": 79,
     "metadata": {},
     "output_type": "execute_result"
    }
   ],
   "source": [
    "seq(Word(nums).setResultsName(\"integer\").scanString(\"123 abc 321\")).starmap(\n",
    "    lambda tokens, start, end: tokens.asDict()\n",
    ").to_list()"
   ]
  },
  {
   "cell_type": "code",
   "execution_count": 59,
   "id": "b1bd61f2-9d05-490d-859b-0c0223d9ca29",
   "metadata": {},
   "outputs": [],
   "source": [
    "expr1 = Keyword(indicators[1].indicator)\n",
    "parser1 = Group(expr1)(indicators[1].type)\n",
    "\n",
    "expr2 = Keyword(indicators[2].indicator)\n",
    "parser2 = Group(expr2).setResultsName(indicators[2].type)"
   ]
  },
  {
   "cell_type": "code",
   "execution_count": null,
   "id": "f7f0e214-8599-48cc-b2e0-fc97e87e4a38",
   "metadata": {},
   "outputs": [],
   "source": []
  },
  {
   "cell_type": "code",
   "execution_count": 60,
   "id": "72f0b98f-9cf0-483b-8a67-d8ddfbe5bfc4",
   "metadata": {},
   "outputs": [],
   "source": [
    "p = MatchFirst([parser1, parser2])\n",
    "_p = OneOrMore(parser1 | parser2)"
   ]
  },
  {
   "cell_type": "code",
   "execution_count": 61,
   "id": "8689e6d6-e337-4a4a-8948-266e122ffd6f",
   "metadata": {},
   "outputs": [
    {
     "data": {
      "text/plain": [
       "[(([(['fadd8d7c13a18c251ded1f645ffea18a37f1c2de'], {})], {'FileHash-SHA1': [(['fadd8d7c13a18c251ded1f645ffea18a37f1c2de'], {})]}),\n",
       "  11,\n",
       "  51),\n",
       " (([(['501487b025f25ddf1ca32deb57a2b4db43ccf6635c1edc74b9cff54ce0e5bcfe'], {})], {'FileHash-SHA256': [(['501487b025f25ddf1ca32deb57a2b4db43ccf6635c1edc74b9cff54ce0e5bcfe'], {})]}),\n",
       "  60,\n",
       "  124),\n",
       " (([(['501487b025f25ddf1ca32deb57a2b4db43ccf6635c1edc74b9cff54ce0e5bcfe'], {})], {'FileHash-SHA256': [(['501487b025f25ddf1ca32deb57a2b4db43ccf6635c1edc74b9cff54ce0e5bcfe'], {})]}),\n",
       "  427,\n",
       "  491)]"
      ]
     },
     "execution_count": 61,
     "metadata": {},
     "output_type": "execute_result"
    }
   ],
   "source": [
    "seq(p.scanString(text)).to_list()  # .map(lambda result: (result.get_name(), result[0]))"
   ]
  },
  {
   "cell_type": "code",
   "execution_count": 62,
   "id": "cab963cf-955a-4e72-a6d3-047c827713cf",
   "metadata": {},
   "outputs": [
    {
     "data": {
      "text/plain": [
       "[(([(['fadd8d7c13a18c251ded1f645ffea18a37f1c2de'], {})], {'FileHash-SHA1': [(['fadd8d7c13a18c251ded1f645ffea18a37f1c2de'], {})]}),\n",
       "  11,\n",
       "  51),\n",
       " (([(['501487b025f25ddf1ca32deb57a2b4db43ccf6635c1edc74b9cff54ce0e5bcfe'], {})], {'FileHash-SHA256': [(['501487b025f25ddf1ca32deb57a2b4db43ccf6635c1edc74b9cff54ce0e5bcfe'], {})]}),\n",
       "  60,\n",
       "  124),\n",
       " (([(['501487b025f25ddf1ca32deb57a2b4db43ccf6635c1edc74b9cff54ce0e5bcfe'], {})], {'FileHash-SHA256': [(['501487b025f25ddf1ca32deb57a2b4db43ccf6635c1edc74b9cff54ce0e5bcfe'], {})]}),\n",
       "  427,\n",
       "  491)]"
      ]
     },
     "execution_count": 62,
     "metadata": {},
     "output_type": "execute_result"
    }
   ],
   "source": [
    "seq(\n",
    "    _p.scanString(text)\n",
    ").to_list()  # .map(lambda result: (result.get_name(), result[0]))"
   ]
  },
  {
   "cell_type": "code",
   "execution_count": 673,
   "id": "0c4c95a2-3e1b-4c67-b8e1-a3df6cac22c9",
   "metadata": {},
   "outputs": [
    {
     "data": {
      "text/plain": [
       "[('FileHash-SHA1', (['fadd8d7c13a18c251ded1f645ffea18a37f1c2de'], {})),\n",
       " ('FileHash-SHA256',\n",
       "  (['501487b025f25ddf1ca32deb57a2b4db43ccf6635c1edc74b9cff54ce0e5bcfe'], {})),\n",
       " ('FileHash-SHA256',\n",
       "  (['501487b025f25ddf1ca32deb57a2b4db43ccf6635c1edc74b9cff54ce0e5bcfe'], {}))]"
      ]
     },
     "execution_count": 673,
     "metadata": {},
     "output_type": "execute_result"
    }
   ],
   "source": [
    "seq(_p.scanString(text)).starmap(\n",
    "    lambda tokens, start, end: (tokens.getName(), tokens[0])\n",
    ").to_list()"
   ]
  },
  {
   "cell_type": "markdown",
   "id": "08a08021-264d-47df-8e18-2c1c3a3c846a",
   "metadata": {},
   "source": [
    "---"
   ]
  },
  {
   "cell_type": "code",
   "execution_count": 56,
   "id": "5a99b6d9-e041-43c1-b58a-edf2c72554f6",
   "metadata": {},
   "outputs": [],
   "source": [
    "from pyparsing import CaselessKeyword"
   ]
  },
  {
   "cell_type": "code",
   "execution_count": 180,
   "id": "405c1ff4-9ac5-49b5-9fe7-33a13ca4bd14",
   "metadata": {},
   "outputs": [
    {
     "name": "stdout",
     "output_type": "stream",
     "text": [
      "{'content': '',\n",
      " 'created': '2021-03-09T15:29:16',\n",
      " 'description': 'SHA256 of fadd8d7c13a18c251ded1f645ffea18a37f1c2de',\n",
      " 'expiration': None,\n",
      " 'id': 2892282606,\n",
      " 'indicator': '501487b025f25ddf1ca32deb57a2b4db43ccf6635c1edc74b9cff54ce0e5bcfe',\n",
      " 'is_active': 1,\n",
      " 'role': None,\n",
      " 'title': 'Ransom:Win32/Death.DB!MTB',\n",
      " 'type': 'FileHash-SHA256'}\n"
     ]
    },
    {
     "data": {
      "text/plain": [
       "[({'FileHash-SHA256': '501487b025f25ddf1ca32deb57a2b4db43ccf6635c1edc74b9cff54ce0e5bcfe'},\n",
       "  (60, 124))]"
      ]
     },
     "execution_count": 180,
     "metadata": {},
     "output_type": "execute_result"
    }
   ],
   "source": [
    "# example\n",
    "from pprint import pprint\n",
    "\n",
    "pprint(feed.get(\"indicators\")[1])\n",
    "\n",
    "seq(\n",
    "    CaselessKeyword(feed.get(\"indicators\")[1].get(\"indicator\"))\n",
    "    .setResultsName(feed.get(\"indicators\")[1].get(\"type\"))\n",
    "    .scanString(text)\n",
    ").starmap(lambda string, loc, tokens: (string.asDict(), (loc, tokens))).to_list()"
   ]
  },
  {
   "cell_type": "code",
   "execution_count": 203,
   "id": "9d63e9b8-2191-4ebe-ad39-7aee8478d82a",
   "metadata": {},
   "outputs": [
    {
     "name": "stdout",
     "output_type": "stream",
     "text": [
      "{'content': '',\n",
      " 'created': '2021-03-09T15:29:16',\n",
      " 'description': 'SHA256 of fadd8d7c13a18c251ded1f645ffea18a37f1c2de',\n",
      " 'expiration': None,\n",
      " 'id': 2892282606,\n",
      " 'indicator': '501487b025f25ddf1ca32deb57a2b4db43ccf6635c1edc74b9cff54ce0e5bcfe',\n",
      " 'is_active': 1,\n",
      " 'role': None,\n",
      " 'title': 'Ransom:Win32/Death.DB!MTB',\n",
      " 'type': 'FileHash-SHA256'}\n"
     ]
    },
    {
     "data": {
      "text/plain": [
       "{(60, 124): 'FileHash-SHA256'}"
      ]
     },
     "execution_count": 203,
     "metadata": {},
     "output_type": "execute_result"
    }
   ],
   "source": [
    "# example\n",
    "from pprint import pprint\n",
    "\n",
    "pprint(feed.get(\"indicators\")[1])\n",
    "\n",
    "seq(\n",
    "    CaselessKeyword(feed.get(\"indicators\")[1].get(\"indicator\"))\n",
    "    .setResultsName(feed.get(\"indicators\")[1].get(\"type\"))\n",
    "    .scanString(text)\n",
    ").starmap(lambda string, loc, tokens: ((loc, tokens), string.getName())).to_dict()"
   ]
  },
  {
   "cell_type": "code",
   "execution_count": 243,
   "id": "f975f54d-0963-489b-8ad8-3f397bed5dd0",
   "metadata": {},
   "outputs": [
    {
     "data": {
      "text/plain": [
       "{(60,\n",
       "  124): (['501487b025f25ddf1ca32deb57a2b4db43ccf6635c1edc74b9cff54ce0e5bcfe'], {'FileHash-SHA256': ['501487b025f25ddf1ca32deb57a2b4db43ccf6635c1edc74b9cff54ce0e5bcfe']})}"
      ]
     },
     "execution_count": 243,
     "metadata": {},
     "output_type": "execute_result"
    }
   ],
   "source": [
    "seq(\n",
    "    CaselessKeyword(feed.get(\"indicators\")[1].get(\"indicator\"))\n",
    "    .setResultsName(feed.get(\"indicators\")[1].get(\"type\"))\n",
    "    .addParseAction(lambda string, loc, tokens: tokens)\n",
    "    .scanString(text)\n",
    ").starmap(lambda string, loc, tokens: ((loc, tokens), string)).to_dict()"
   ]
  },
  {
   "cell_type": "code",
   "execution_count": 256,
   "id": "bd7fa7d8-7400-4aee-9935-c15d795c3c73",
   "metadata": {},
   "outputs": [
    {
     "data": {
      "text/plain": [
       "{'FileHash-SHA256': (60, 124)}"
      ]
     },
     "execution_count": 256,
     "metadata": {},
     "output_type": "execute_result"
    }
   ],
   "source": [
    "# sample\n",
    "seq(\n",
    "    CaselessKeyword(feed.get(\"indicators\")[1].get(\"indicator\")).setResultsName(\n",
    "        feed.get(\"indicators\")[1].get(\"type\")\n",
    "    )\n",
    "    # .addParseAction(lambda string, loc, tokens: tokens)\n",
    "    .scanString(text)\n",
    ").starmap(lambda results, start, end: (results.getName(), (start, end))).to_dict()"
   ]
  },
  {
   "cell_type": "code",
   "execution_count": 395,
   "id": "51cb447a-9731-434b-ad54-81f0cf78d234",
   "metadata": {},
   "outputs": [
    {
     "data": {
      "text/html": [
       "<table>\n",
       "<tbody>\n",
       "<tr><td>[(&#x27;FileHash-SHA256&#x27;, &#x27;501487b025f25ddf1ca32deb57a2b4db43ccf6635c1edc74b9cff54ce0e5bcfe&#x27;, None)]</td><td style=\"text-align: right;\"> 60</td><td style=\"text-align: right;\">124</td></tr>\n",
       "<tr><td>[(&#x27;FileHash-SHA256&#x27;, &#x27;501487b025f25ddf1ca32deb57a2b4db43ccf6635c1edc74b9cff54ce0e5bcfe&#x27;, None)]</td><td style=\"text-align: right;\">427</td><td style=\"text-align: right;\">491</td></tr>\n",
       "</tbody>\n",
       "</table>"
      ],
      "text/plain": [
       "[(([('FileHash-SHA256', '501487b025f25ddf1ca32deb57a2b4db43ccf6635c1edc74b9cff54ce0e5bcfe', None)], {'FileHash-SHA256': ['FileHash-SHA256']}), 60, 124), (([('FileHash-SHA256', '501487b025f25ddf1ca32deb57a2b4db43ccf6635c1edc74b9cff54ce0e5bcfe', None)], {'FileHash-SHA256': ['FileHash-SHA256']}), 427, 491)]"
      ]
     },
     "execution_count": 395,
     "metadata": {},
     "output_type": "execute_result"
    }
   ],
   "source": [
    "# parser\n",
    "seq(\n",
    "    CaselessKeyword(feed.get(\"indicators\")[1].get(\"indicator\"))\n",
    "    .setResultsName(feed.get(\"indicators\")[1].get(\"type\"))\n",
    "    .addParseAction(\n",
    "        lambda string, loc, tokens: (\n",
    "            tokens.getName(),\n",
    "            tokens.get(tokens.getName()),\n",
    "            feed.get(\"indicators\")[1].get(\"role\"),\n",
    "            # tokens.asDict(),\n",
    "        )\n",
    "    )\n",
    "    .scanString(text)\n",
    ")  # .to_list()"
   ]
  },
  {
   "cell_type": "code",
   "execution_count": 410,
   "id": "ae450c2d-6df0-41b1-bf8d-7e12fae1f95a",
   "metadata": {},
   "outputs": [
    {
     "data": {
      "text/plain": [
       "[(([('FileHash-SHA256', None)], {'FileHash-SHA256': ['FileHash-SHA256']}),\n",
       "  60,\n",
       "  124),\n",
       " (([('FileHash-SHA256', None)], {'FileHash-SHA256': ['FileHash-SHA256']}),\n",
       "  427,\n",
       "  491)]"
      ]
     },
     "execution_count": 410,
     "metadata": {},
     "output_type": "execute_result"
    }
   ],
   "source": [
    "seq(\n",
    "    CaselessKeyword(feed.get(\"indicators\")[1].get(\"indicator\"))\n",
    "    .setResultsName(feed.get(\"indicators\")[1].get(\"type\"))\n",
    "    .addParseAction(\n",
    "        lambda string, loc, tokens: (\n",
    "            tokens.getName(),\n",
    "            feed.get(\"indicators\")[1].get(\"role\"),\n",
    "            # tokens.asDict(),\n",
    "        )\n",
    "    )\n",
    "    .scanString(text)\n",
    ").to_list()"
   ]
  },
  {
   "cell_type": "code",
   "execution_count": 591,
   "id": "c386292d-e5b4-4899-9b18-0a5f6f2263f1",
   "metadata": {},
   "outputs": [
    {
     "data": {
      "text/html": [
       "<table>\n",
       "<tbody>\n",
       "<tr><td>[(&#x27;FileHash-SHA256&#x27;,)]</td><td style=\"text-align: right;\"> 60</td><td style=\"text-align: right;\">124</td></tr>\n",
       "<tr><td>[(&#x27;FileHash-SHA256&#x27;,)]</td><td style=\"text-align: right;\">427</td><td style=\"text-align: right;\">491</td></tr>\n",
       "</tbody>\n",
       "</table>"
      ],
      "text/plain": [
       "[(([('FileHash-SHA256',)], {'FileHash-SHA256': ['FileHash-SHA256']}), 60, 124), (([('FileHash-SHA256',)], {'FileHash-SHA256': ['FileHash-SHA256']}), 427, 491)]"
      ]
     },
     "execution_count": 591,
     "metadata": {},
     "output_type": "execute_result"
    }
   ],
   "source": [
    "seq(\n",
    "    CaselessKeyword(feed.get(\"indicators\")[1].get(\"indicator\"))\n",
    "    .setResultsName(feed.get(\"indicators\")[1].get(\"type\"))\n",
    "    .setParseAction(\n",
    "        lambda string, loc, tokens: (\n",
    "            # tokens\n",
    "            tokens.getName(),\n",
    "            # feed.get(\"indicators\")[1].get(\"role\"),\n",
    "            # tokens.asDict(),\n",
    "        )\n",
    "    )\n",
    "    .scanString(text)\n",
    ")"
   ]
  },
  {
   "cell_type": "code",
   "execution_count": 435,
   "id": "f213f29c-ed50-4c79-89c8-b1fe59001f36",
   "metadata": {},
   "outputs": [
    {
     "data": {
      "text/html": [
       "<table>\n",
       "<tbody>\n",
       "<tr><td>[(&#x27;FileHash-SHA256&#x27;, None)]</td><td style=\"text-align: right;\"> 60</td><td style=\"text-align: right;\">124</td></tr>\n",
       "<tr><td>[(&#x27;FileHash-SHA256&#x27;, None)]</td><td style=\"text-align: right;\">427</td><td style=\"text-align: right;\">491</td></tr>\n",
       "</tbody>\n",
       "</table>"
      ],
      "text/plain": [
       "[(([('FileHash-SHA256', None)], {}), 60, 124), (([('FileHash-SHA256', None)], {}), 427, 491)]"
      ]
     },
     "execution_count": 435,
     "metadata": {},
     "output_type": "execute_result"
    }
   ],
   "source": [
    "seq(\n",
    "    CaselessKeyword(feed.get(\"indicators\")[1].get(\"indicator\"))\n",
    "    # .setResultsName(feed.get(\"indicators\")[1].get(\"type\"))\n",
    "    .setParseAction(\n",
    "        lambda string, loc, tokens: (\n",
    "            feed.get(\"indicators\")[1].get(\"type\"),\n",
    "            # tokens.getName(),\n",
    "            feed.get(\"indicators\")[1].get(\"role\"),\n",
    "            # tokens.asDict(),\n",
    "        )\n",
    "    ).scanString(text)\n",
    ")  # .to_list()"
   ]
  },
  {
   "cell_type": "code",
   "execution_count": 595,
   "id": "524c1b8d-d8ae-44b2-9ff0-0e2f187a6df5",
   "metadata": {},
   "outputs": [
    {
     "data": {
      "text/plain": [
       "'IOCs\\n\\nSHA1\\nfadd8d7c13a18c251ded1f645ffea18a37f1c2de\\n\\nSHA256\\n501487b025f25ddf1ca32deb57a2b4db43ccf6635c1edc74b9cff54ce0e5bcfe\\n\\nMITRE ATT&CK\\nData from Local System – T1005\\nModify Registry – T1112\\nQuery Registry – T1012\\nSystem Information Discovery – T1082\\nData Encrypted for Impact – T1486\\nFile Deletion – T1070.004\\nCommand and Scripting Interpreter: Windows Command Shell – T1059.003\\nWindows Management Instrumentation – T1047\\n\\n501487b025f25ddf1ca32deb57a2b4db43ccf6635c1edc74b9cff54ce0e5bcfe\\n'"
      ]
     },
     "execution_count": 595,
     "metadata": {},
     "output_type": "execute_result"
    }
   ],
   "source": [
    "text"
   ]
  },
  {
   "cell_type": "code",
   "execution_count": 594,
   "id": "25ce4723-2bca-4b02-861a-673b49d25a89",
   "metadata": {},
   "outputs": [
    {
     "data": {
      "text/plain": [
       "'IOCs\\n\\nSHA1\\nfadd8d7c13a18c251ded1f645ffea18a37f1c2de\\n\\nSHA256\\n<MASK>\\n\\nMITRE ATT&CK\\nData from Local System – T1005\\nModify Registry – T1112\\nQuery Registry – T1012\\nSystem Information Discovery – T1082\\nData Encrypted for Impact – T1486\\nFile Deletion – T1070.004\\nCommand and Scripting Interpreter: Windows Command Shell – T1059.003\\nWindows Management Instrumentation – T1047\\n\\n501487b025f25ddf1ca32deb57a2b4db43ccf6635c1edc74b9cff54ce0e5bcfe\\n'"
      ]
     },
     "execution_count": 594,
     "metadata": {},
     "output_type": "execute_result"
    }
   ],
   "source": [
    "text[:60] + \"<MASK>\" + text[124:]"
   ]
  },
  {
   "cell_type": "markdown",
   "id": "a354163f-a1a8-44db-a4f5-219d51ec94bc",
   "metadata": {},
   "source": [
    "---"
   ]
  },
  {
   "cell_type": "code",
   "execution_count": 579,
   "id": "af10abbb-5763-4b68-a1a1-8237c9cc3e7f",
   "metadata": {},
   "outputs": [],
   "source": [
    "# indicator process\n",
    "Indicator = namedtuple(\"Indicator\", [\"index\", \"indicator\", \"type\", \"role\"])\n",
    "\n",
    "indicators = (\n",
    "    seq(feed.get(\"indicators\"))\n",
    "    .filter(lambda indicator: indicator.get(\"type\") != \"YARA\")  # ignore yara\n",
    "    .enumerate()\n",
    "    .starmap(\n",
    "        lambda index, indicator: (\n",
    "            index,\n",
    "            *itemgetter(\"indicator\", \"type\", \"role\")(indicator),  # flatten\n",
    "        )\n",
    "    )\n",
    "    .starmap(\n",
    "        lambda index, indicator, type, role: (\n",
    "            index,\n",
    "            indicator,\n",
    "            type,\n",
    "            role if role != \"\" else None,  # replace \"\" with None\n",
    "        )\n",
    "    )\n",
    "    .map(lambda fields: Indicator(*fields))\n",
    ")"
   ]
  },
  {
   "cell_type": "code",
   "execution_count": 596,
   "id": "232e3de5-0a29-46d2-b936-f3125b131772",
   "metadata": {},
   "outputs": [
    {
     "name": "stdout",
     "output_type": "stream",
     "text": [
      "CPU times: user 2 µs, sys: 1 µs, total: 3 µs\n",
      "Wall time: 4.77 µs\n"
     ]
    },
    {
     "data": {
      "text/html": [
       "<table>\n",
       "<thead>\n",
       "<tr><th style=\"text-align: right;\">  index</th><th>indicator                                                       </th><th>type           </th><th>role  </th></tr>\n",
       "</thead>\n",
       "<tbody>\n",
       "<tr><td style=\"text-align: right;\">      0</td><td>136bd70f7aa98f52861879d7dca03cf2                                </td><td>FileHash-MD5   </td><td>      </td></tr>\n",
       "<tr><td style=\"text-align: right;\">      1</td><td>501487b025f25ddf1ca32deb57a2b4db43ccf6635c1edc74b9cff54ce0e5bcfe</td><td>FileHash-SHA256</td><td>      </td></tr>\n",
       "<tr><td style=\"text-align: right;\">      2</td><td>fadd8d7c13a18c251ded1f645ffea18a37f1c2de                        </td><td>FileHash-SHA1  </td><td>      </td></tr>\n",
       "<tr><td style=\"text-align: right;\">      3</td><td>6x7dp6h3w6q3ugjv4yv5gycj3femb24kysgry5b44hhgfwc5ml5qrdad.onion  </td><td>domain         </td><td>      </td></tr>\n",
       "</tbody>\n",
       "</table>"
      ],
      "text/plain": [
       "[Indicator(index=0, indicator='136bd70f7aa98f52861879d7dca03cf2', type='FileHash-MD5', role=None), Indicator(index=1, indicator='501487b025f25ddf1ca32deb57a2b4db43ccf6635c1edc74b9cff54ce0e5bcfe', type='FileHash-SHA256', role=None), Indicator(index=2, indicator='fadd8d7c13a18c251ded1f645ffea18a37f1c2de', type='FileHash-SHA1', role=None), Indicator(index=3, indicator='6x7dp6h3w6q3ugjv4yv5gycj3femb24kysgry5b44hhgfwc5ml5qrdad.onion', type='domain', role=None)]"
      ]
     },
     "execution_count": 596,
     "metadata": {},
     "output_type": "execute_result"
    }
   ],
   "source": [
    "%%time\n",
    "indicators"
   ]
  },
  {
   "cell_type": "code",
   "execution_count": 635,
   "id": "36a4984f-0b66-45f8-a386-8a32cf13b575",
   "metadata": {},
   "outputs": [],
   "source": [
    "from more_itertools import flatten, collapse"
   ]
  },
  {
   "cell_type": "code",
   "execution_count": 636,
   "id": "02cb8e23-e91e-4ba5-b929-0ea421ce6e41",
   "metadata": {
    "tags": []
   },
   "outputs": [],
   "source": [
    "def generate_parser(indicator):\n",
    "    # parser = Keyword(indicator.indicator).setResultsName(indicator.type)\n",
    "    \"\"\"\n",
    "    parser = Keyword(indicator.indicator).setParseAction(\n",
    "        lambda string, loc, tokens: indicator  # {\"group\": indicator.index, \"role\": indicator.role}\n",
    "    )\n",
    "    \"\"\"\n",
    "\n",
    "    parser = Keyword(indicator.indicator).setParseAction(\n",
    "        lambda tokens: (indicator.indicator, indicator.type)\n",
    "    )\n",
    "\n",
    "    return parser"
   ]
  },
  {
   "cell_type": "code",
   "execution_count": null,
   "id": "26809fcc-8429-49f9-a17f-1fdbbf98dc8c",
   "metadata": {},
   "outputs": [],
   "source": []
  },
  {
   "cell_type": "code",
   "execution_count": null,
   "id": "62b46a12-3408-4126-9650-84f18bbfe46a",
   "metadata": {},
   "outputs": [],
   "source": []
  },
  {
   "cell_type": "code",
   "execution_count": 637,
   "id": "a281b2da-e06e-4137-8291-337ae9a6fb41",
   "metadata": {},
   "outputs": [
    {
     "name": "stdout",
     "output_type": "stream",
     "text": [
      "CPU times: user 273 µs, sys: 114 µs, total: 387 µs\n",
      "Wall time: 314 µs\n"
     ]
    },
    {
     "data": {
      "text/html": [
       "<table>\n",
       "<tbody>\n",
       "<tr><td>[(&#x27;501487b025f25ddf1ca32deb57a2b4db43ccf6635c1edc74b9cff54ce0e5bcfe&#x27;, &#x27;FileHash-SHA256&#x27;)]</td><td style=\"text-align: right;\"> 60</td><td style=\"text-align: right;\">124</td></tr>\n",
       "<tr><td>[(&#x27;501487b025f25ddf1ca32deb57a2b4db43ccf6635c1edc74b9cff54ce0e5bcfe&#x27;, &#x27;FileHash-SHA256&#x27;)]</td><td style=\"text-align: right;\">427</td><td style=\"text-align: right;\">491</td></tr>\n",
       "</tbody>\n",
       "</table>"
      ],
      "text/plain": [
       "[(([('501487b025f25ddf1ca32deb57a2b4db43ccf6635c1edc74b9cff54ce0e5bcfe', 'FileHash-SHA256')], {}), 60, 124), (([('501487b025f25ddf1ca32deb57a2b4db43ccf6635c1edc74b9cff54ce0e5bcfe', 'FileHash-SHA256')], {}), 427, 491)]"
      ]
     },
     "execution_count": 637,
     "metadata": {},
     "output_type": "execute_result"
    }
   ],
   "source": [
    "%%time\n",
    "seq(generate_parser(indicators.to_list()[1]).scanString(text))"
   ]
  },
  {
   "cell_type": "code",
   "execution_count": 460,
   "id": "72662ab8-2539-464e-94eb-3be67f43755e",
   "metadata": {},
   "outputs": [
    {
     "data": {
      "text/html": [
       "<table>\n",
       "<tbody>\n",
       "<tr><td>[{&#x27;group&#x27;: 1, &#x27;role&#x27;: None}]</td><td style=\"text-align: right;\"> 60</td><td style=\"text-align: right;\">124</td></tr>\n",
       "<tr><td>[{&#x27;group&#x27;: 1, &#x27;role&#x27;: None}]</td><td style=\"text-align: right;\">427</td><td style=\"text-align: right;\">491</td></tr>\n",
       "<tr><td>[{&#x27;group&#x27;: 2, &#x27;role&#x27;: None}]</td><td style=\"text-align: right;\"> 11</td><td style=\"text-align: right;\"> 51</td></tr>\n",
       "</tbody>\n",
       "</table>"
      ],
      "text/plain": [
       "[(([{'group': 1, 'role': None}], {}), 60, 124), (([{'group': 1, 'role': None}], {}), 427, 491), (([{'group': 2, 'role': None}], {}), 11, 51)]"
      ]
     },
     "execution_count": 460,
     "metadata": {},
     "output_type": "execute_result"
    }
   ],
   "source": [
    "indicators.map(lambda indicator: generate_parser(indicator)).map(\n",
    "    lambda parser: parser.scanString(text)\n",
    ").flatten()"
   ]
  },
  {
   "cell_type": "code",
   "execution_count": 529,
   "id": "d0ed6c6c-a211-4ebf-bd5f-20441f6a69d2",
   "metadata": {},
   "outputs": [
    {
     "data": {
      "text/html": [
       "<table>\n",
       "<tbody>\n",
       "<tr><td style=\"text-align: right;\">2892396777</td><td>8a7252d3fd1b2d8e2b39dc1cedbe1e9a42cc0e07</td><td>YARA</td><td>2021-03-09T18:29:01</td><td>rule WEBSHELL_ASPX_reGeorgTunnel {   \n",
       "      meta:   \n",
       "         author = &quot;threatintel@volexity.com&quot;   \n",
       "         date = &quot;2021-03-01&quot;   \n",
       "         description = &quot;variation on reGeorgtunnel&quot;   \n",
       "         hash = &quot;406b680edc9a1bb0e2c7c451c56904857848b5f15570401450b73b232ff38928&quot;   \n",
       "         reference = &quot;https://github.com/sensepost/reGeorg/blob/master/tunnel.aspx&quot;   \n",
       "      strings:   \n",
       "         $s1 = &quot;System.Net.Sockets&quot;   \n",
       "         $s2 = &quot;System.Text.Encoding.Default.GetString(Convert.FromBase64String(StrTr(Request.Headers.Get&quot;   \n",
       "         $t1 = &quot;.Split(&#x27;|&#x27;)&quot;   \n",
       "         $t2 = &quot;Request.Headers.Get&quot;   \n",
       "         $t3 = &quot;.Substring(&quot;   \n",
       "         $t4 = &quot;new Socket(&quot;   \n",
       "         $t5 = &quot;IPAddress ip;&quot;   \n",
       "      condition:   \n",
       "         all of ($s*) or   \n",
       "         all of ($t*)   \n",
       "   } </td><td>WEBSHELL_ASPX_reGeorgTunnel</td><td>variation on reGeorgtunnel</td><td></td><td style=\"text-align: right;\">1</td><td>file_scanning</td></tr>\n",
       "</tbody>\n",
       "</table>"
      ],
      "text/plain": [
       "[{'id': 2892396777, 'indicator': '8a7252d3fd1b2d8e2b39dc1cedbe1e9a42cc0e07', 'type': 'YARA', 'created': '2021-03-09T18:29:01', 'content': 'rule WEBSHELL_ASPX_reGeorgTunnel {   \\n      meta:   \\n         author = \"threatintel@volexity.com\"   \\n         date = \"2021-03-01\"   \\n         description = \"variation on reGeorgtunnel\"   \\n         hash = \"406b680edc9a1bb0e2c7c451c56904857848b5f15570401450b73b232ff38928\"   \\n         reference = \"https://github.com/sensepost/reGeorg/blob/master/tunnel.aspx\"   \\n      strings:   \\n         $s1 = \"System.Net.Sockets\"   \\n         $s2 = \"System.Text.Encoding.Default.GetString(Convert.FromBase64String(StrTr(Request.Headers.Get\"   \\n         $t1 = \".Split(\\'|\\')\"   \\n         $t2 = \"Request.Headers.Get\"   \\n         $t3 = \".Substring(\"   \\n         $t4 = \"new Socket(\"   \\n         $t5 = \"IPAddress ip;\"   \\n      condition:   \\n         all of ($s*) or   \\n         all of ($t*)   \\n   }', 'title': 'WEBSHELL_ASPX_reGeorgTunnel', 'description': 'variation on reGeorgtunnel', 'expiration': None, 'is_active': 1, 'role': 'file_scanning'}]"
      ]
     },
     "execution_count": 529,
     "metadata": {},
     "output_type": "execute_result"
    }
   ],
   "source": [
    "seq.open(\"../pulse_20210310.json.gz\").map(lambda line: json.loads(line.decode())).map(\n",
    "    lambda feed: feed.get(\"indicators\")\n",
    ").flatten().filter(lambda indicator: indicator.get(\"type\") == \"YARA\").filter(\n",
    "    lambda indicator: \"406b680edc9a1bb0e2c7c451c56904857848b5f15570401450b73b232ff38928\"\n",
    "    in indicator.get(\"content\")\n",
    ")"
   ]
  },
  {
   "cell_type": "markdown",
   "id": "766dd0ab-b578-4a05-bd7c-563509211b59",
   "metadata": {},
   "source": [
    "---"
   ]
  },
  {
   "cell_type": "code",
   "execution_count": 62,
   "id": "151bd794-f70d-4c8a-bdbb-b6c7d3c3264a",
   "metadata": {},
   "outputs": [],
   "source": [
    "text = \"\"\"IOCs\n",
    "\n",
    "SHA1\n",
    "fadd8d7c13a18c251ded1f645ffea18a37f1c2de\n",
    "\n",
    "SHA256\n",
    "501487b025f25ddf1ca32deb57a2b4db43ccf6635c1edc74b9cff54ce0e5bcfe\n",
    "\n",
    "MITRE ATT&CK\n",
    "Data from Local System – T1005\n",
    "Modify Registry – T1112\n",
    "Query Registry – T1012\n",
    "System Information Discovery – T1082\n",
    "Data Encrypted for Impact – T1486\n",
    "File Deletion – T1070.004\n",
    "Command and Scripting Interpreter: Windows Command Shell – T1059.003\n",
    "Windows Management Instrumentation – T1047\n",
    "\"\"\""
   ]
  },
  {
   "cell_type": "code",
   "execution_count": 18,
   "id": "7444433a-bdf8-47d0-95b6-61002e15f9ac",
   "metadata": {},
   "outputs": [],
   "source": [
    "from magpie.src.entity import (\n",
    "    attack_technique,\n",
    "    bitcoin_address,\n",
    "    cve,\n",
    "    defender_threat,\n",
    "    domain,\n",
    "    email,\n",
    "    filehash_md5,\n",
    "    filehash_sha1,\n",
    "    filehash_sha256,\n",
    "    filepath,\n",
    "    hostname,\n",
    "    ipv4,\n",
    "    ipv6,\n",
    "    keyword,\n",
    "    sslcert_fingerprint,\n",
    "    uri,\n",
    "    url,\n",
    ")"
   ]
  },
  {
   "cell_type": "code",
   "execution_count": 19,
   "id": "6ef3cd6c-ca14-4eb0-b8f2-08dc926ac00b",
   "metadata": {},
   "outputs": [],
   "source": [
    "parser = (\n",
    "    defender_threat.parser\n",
    "    | uri.parser\n",
    "    | url.parser\n",
    "    | email.parser\n",
    "    | hostname.parser\n",
    "    | domain.parser\n",
    "    | sslcert_fingerprint.parser\n",
    "    | ipv6.parser\n",
    "    | ipv4.parser\n",
    "    | cve.parser\n",
    "    | attack_technique.parser\n",
    "    | filepath.parser\n",
    "    | filehash_sha256.parser  # len = 64\n",
    "    | filehash_sha1.parser  # len = 40\n",
    "    | bitcoin_address.parser  # len = 34\n",
    "    | filehash_md5.parser  # len = 32\n",
    "    # | keyword.make_parser(self.extracted_keywords)  # generate keywords parser\n",
    ")"
   ]
  },
  {
   "cell_type": "code",
   "execution_count": 23,
   "id": "51891cbe-10a4-4974-838d-922e61ce39c1",
   "metadata": {},
   "outputs": [
    {
     "data": {
      "text/html": [
       "<table>\n",
       "<tbody>\n",
       "<tr><td>{&#x27;FileHash-SHA1&#x27;: &#x27;fadd8d7c13a18c251ded1f645ffea18a37f1c2de&#x27;}                          </td><td>[(&#x27;FileHash-SHA1&#x27;, &#x27;fadd8d7c13a18c251ded1f645ffea18a37f1c2de&#x27;)]                          </td><td>(11, 51)  </td></tr>\n",
       "<tr><td>{&#x27;FileHash-SHA256&#x27;: &#x27;501487b025f25ddf1ca32deb57a2b4db43ccf6635c1edc74b9cff54ce0e5bcfe&#x27;}</td><td>[(&#x27;FileHash-SHA256&#x27;, &#x27;501487b025f25ddf1ca32deb57a2b4db43ccf6635c1edc74b9cff54ce0e5bcfe&#x27;)]</td><td>(60, 124) </td></tr>\n",
       "<tr><td>{&#x27;AttackTechnique&#x27;: &#x27;T1005&#x27;}                                                           </td><td>[(&#x27;AttackTechnique&#x27;, &#x27;T1005&#x27;)]                                                           </td><td>(164, 169)</td></tr>\n",
       "<tr><td>{&#x27;AttackTechnique&#x27;: &#x27;T1112&#x27;}                                                           </td><td>[(&#x27;AttackTechnique&#x27;, &#x27;T1112&#x27;)]                                                           </td><td>(188, 193)</td></tr>\n",
       "<tr><td>{&#x27;AttackTechnique&#x27;: &#x27;T1012&#x27;}                                                           </td><td>[(&#x27;AttackTechnique&#x27;, &#x27;T1012&#x27;)]                                                           </td><td>(211, 216)</td></tr>\n",
       "<tr><td>{&#x27;AttackTechnique&#x27;: &#x27;T1082&#x27;}                                                           </td><td>[(&#x27;AttackTechnique&#x27;, &#x27;T1082&#x27;)]                                                           </td><td>(248, 253)</td></tr>\n",
       "<tr><td>{&#x27;AttackTechnique&#x27;: &#x27;T1486&#x27;}                                                           </td><td>[(&#x27;AttackTechnique&#x27;, &#x27;T1486&#x27;)]                                                           </td><td>(282, 287)</td></tr>\n",
       "<tr><td>{&#x27;AttackTechnique&#x27;: &#x27;T1070.004&#x27;}                                                       </td><td>[(&#x27;AttackTechnique&#x27;, &#x27;T1070.004&#x27;)]                                                       </td><td>(304, 313)</td></tr>\n",
       "<tr><td>{&#x27;AttackTechnique&#x27;: &#x27;T1059.003&#x27;}                                                       </td><td>[(&#x27;AttackTechnique&#x27;, &#x27;T1059.003&#x27;)]                                                       </td><td>(373, 382)</td></tr>\n",
       "<tr><td>{&#x27;AttackTechnique&#x27;: &#x27;T1047&#x27;}                                                           </td><td>[(&#x27;AttackTechnique&#x27;, &#x27;T1047&#x27;)]                                                           </td><td>(420, 425)</td></tr>\n",
       "</tbody>\n",
       "</table>"
      ],
      "text/plain": [
       "[({'FileHash-SHA1': 'fadd8d7c13a18c251ded1f645ffea18a37f1c2de'}, [('FileHash-SHA1', 'fadd8d7c13a18c251ded1f645ffea18a37f1c2de')], (11, 51)), ({'FileHash-SHA256': '501487b025f25ddf1ca32deb57a2b4db43ccf6635c1edc74b9cff54ce0e5bcfe'}, [('FileHash-SHA256', '501487b025f25ddf1ca32deb57a2b4db43ccf6635c1edc74b9cff54ce0e5bcfe')], (60, 124)), ({'AttackTechnique': 'T1005'}, [('AttackTechnique', 'T1005')], (164, 169)), ({'AttackTechnique': 'T1112'}, [('AttackTechnique', 'T1112')], (188, 193)), ({'AttackTechnique': 'T1012'}, [('AttackTechnique', 'T1012')], (211, 216)), ({'AttackTechnique': 'T1082'}, [('AttackTechnique', 'T1082')], (248, 253)), ({'AttackTechnique': 'T1486'}, [('AttackTechnique', 'T1486')], (282, 287)), ({'AttackTechnique': 'T1070.004'}, [('AttackTechnique', 'T1070.004')], (304, 313)), ({'AttackTechnique': 'T1059.003'}, [('AttackTechnique', 'T1059.003')], (373, 382)), ({'AttackTechnique': 'T1047'}, [('AttackTechnique', 'T1047')], (420, 425))]"
      ]
     },
     "execution_count": 23,
     "metadata": {},
     "output_type": "execute_result"
    }
   ],
   "source": [
    "seq(parser.scanString(text)).starmap(\n",
    "    lambda token, start, end: (\n",
    "        token.asDict(),\n",
    "        list(token.items()),\n",
    "        (start, end),\n",
    "    )\n",
    ")"
   ]
  },
  {
   "cell_type": "code",
   "execution_count": 150,
   "id": "132670e8-d055-408f-9bfe-187a304da002",
   "metadata": {},
   "outputs": [
    {
     "data": {
      "text/html": [
       "<table>\n",
       "<tbody>\n",
       "<tr><td>[&#x27;FileHash-SHA1&#x27;, &#x27;_ParseResults__lookup&#x27;, &#x27;__add__&#x27;, &#x27;__bool__&#x27;, &#x27;__class__&#x27;, &#x27;__contains__&#x27;, &#x27;__delattr__&#x27;, &#x27;__delitem__&#x27;, &#x27;__dict__&#x27;, &#x27;__dir__&#x27;, &#x27;__doc__&#x27;, &#x27;__eq__&#x27;, &#x27;__format__&#x27;, &#x27;__ge__&#x27;, &#x27;__getattr__&#x27;, &#x27;__getattribute__&#x27;, &#x27;__getitem__&#x27;, &#x27;__getnewargs__&#x27;, &#x27;__getstate__&#x27;, &#x27;__gt__&#x27;, &#x27;__hash__&#x27;, &#x27;__iadd__&#x27;, &#x27;__init__&#x27;, &#x27;__init_subclass__&#x27;, &#x27;__iter__&#x27;, &#x27;__le__&#x27;, &#x27;__len__&#x27;, &#x27;__lt__&#x27;, &#x27;__module__&#x27;, &#x27;__ne__&#x27;, &#x27;__new__&#x27;, &#x27;__nonzero__&#x27;, &#x27;__radd__&#x27;, &#x27;__reduce__&#x27;, &#x27;__reduce_ex__&#x27;, &#x27;__repr__&#x27;, &#x27;__reversed__&#x27;, &#x27;__setattr__&#x27;, &#x27;__setitem__&#x27;, &#x27;__setstate__&#x27;, &#x27;__sizeof__&#x27;, &#x27;__str__&#x27;, &#x27;__subclasshook__&#x27;, &#x27;__weakref__&#x27;, &#x27;_asStringList&#x27;, &#x27;_iteritems&#x27;, &#x27;_iterkeys&#x27;, &#x27;_itervalues&#x27;, &#x27;append&#x27;, &#x27;asDict&#x27;, &#x27;asList&#x27;, &#x27;asXML&#x27;, &#x27;clear&#x27;, &#x27;copy&#x27;, &#x27;dump&#x27;, &#x27;extend&#x27;, &#x27;from_dict&#x27;, &#x27;get&#x27;, &#x27;getName&#x27;, &#x27;haskeys&#x27;, &#x27;insert&#x27;, &#x27;items&#x27;, &#x27;keys&#x27;, &#x27;pop&#x27;, &#x27;pprint&#x27;, &#x27;values&#x27;]  </td><td>(11, 51)  </td></tr>\n",
       "<tr><td>[&#x27;FileHash-SHA256&#x27;, &#x27;_ParseResults__lookup&#x27;, &#x27;__add__&#x27;, &#x27;__bool__&#x27;, &#x27;__class__&#x27;, &#x27;__contains__&#x27;, &#x27;__delattr__&#x27;, &#x27;__delitem__&#x27;, &#x27;__dict__&#x27;, &#x27;__dir__&#x27;, &#x27;__doc__&#x27;, &#x27;__eq__&#x27;, &#x27;__format__&#x27;, &#x27;__ge__&#x27;, &#x27;__getattr__&#x27;, &#x27;__getattribute__&#x27;, &#x27;__getitem__&#x27;, &#x27;__getnewargs__&#x27;, &#x27;__getstate__&#x27;, &#x27;__gt__&#x27;, &#x27;__hash__&#x27;, &#x27;__iadd__&#x27;, &#x27;__init__&#x27;, &#x27;__init_subclass__&#x27;, &#x27;__iter__&#x27;, &#x27;__le__&#x27;, &#x27;__len__&#x27;, &#x27;__lt__&#x27;, &#x27;__module__&#x27;, &#x27;__ne__&#x27;, &#x27;__new__&#x27;, &#x27;__nonzero__&#x27;, &#x27;__radd__&#x27;, &#x27;__reduce__&#x27;, &#x27;__reduce_ex__&#x27;, &#x27;__repr__&#x27;, &#x27;__reversed__&#x27;, &#x27;__setattr__&#x27;, &#x27;__setitem__&#x27;, &#x27;__setstate__&#x27;, &#x27;__sizeof__&#x27;, &#x27;__str__&#x27;, &#x27;__subclasshook__&#x27;, &#x27;__weakref__&#x27;, &#x27;_asStringList&#x27;, &#x27;_iteritems&#x27;, &#x27;_iterkeys&#x27;, &#x27;_itervalues&#x27;, &#x27;append&#x27;, &#x27;asDict&#x27;, &#x27;asList&#x27;, &#x27;asXML&#x27;, &#x27;clear&#x27;, &#x27;copy&#x27;, &#x27;dump&#x27;, &#x27;extend&#x27;, &#x27;from_dict&#x27;, &#x27;get&#x27;, &#x27;getName&#x27;, &#x27;haskeys&#x27;, &#x27;insert&#x27;, &#x27;items&#x27;, &#x27;keys&#x27;, &#x27;pop&#x27;, &#x27;pprint&#x27;, &#x27;values&#x27;]</td><td>(60, 124) </td></tr>\n",
       "<tr><td>[&#x27;AttackTechnique&#x27;, &#x27;_ParseResults__lookup&#x27;, &#x27;__add__&#x27;, &#x27;__bool__&#x27;, &#x27;__class__&#x27;, &#x27;__contains__&#x27;, &#x27;__delattr__&#x27;, &#x27;__delitem__&#x27;, &#x27;__dict__&#x27;, &#x27;__dir__&#x27;, &#x27;__doc__&#x27;, &#x27;__eq__&#x27;, &#x27;__format__&#x27;, &#x27;__ge__&#x27;, &#x27;__getattr__&#x27;, &#x27;__getattribute__&#x27;, &#x27;__getitem__&#x27;, &#x27;__getnewargs__&#x27;, &#x27;__getstate__&#x27;, &#x27;__gt__&#x27;, &#x27;__hash__&#x27;, &#x27;__iadd__&#x27;, &#x27;__init__&#x27;, &#x27;__init_subclass__&#x27;, &#x27;__iter__&#x27;, &#x27;__le__&#x27;, &#x27;__len__&#x27;, &#x27;__lt__&#x27;, &#x27;__module__&#x27;, &#x27;__ne__&#x27;, &#x27;__new__&#x27;, &#x27;__nonzero__&#x27;, &#x27;__radd__&#x27;, &#x27;__reduce__&#x27;, &#x27;__reduce_ex__&#x27;, &#x27;__repr__&#x27;, &#x27;__reversed__&#x27;, &#x27;__setattr__&#x27;, &#x27;__setitem__&#x27;, &#x27;__setstate__&#x27;, &#x27;__sizeof__&#x27;, &#x27;__str__&#x27;, &#x27;__subclasshook__&#x27;, &#x27;__weakref__&#x27;, &#x27;_asStringList&#x27;, &#x27;_iteritems&#x27;, &#x27;_iterkeys&#x27;, &#x27;_itervalues&#x27;, &#x27;append&#x27;, &#x27;asDict&#x27;, &#x27;asList&#x27;, &#x27;asXML&#x27;, &#x27;clear&#x27;, &#x27;copy&#x27;, &#x27;dump&#x27;, &#x27;extend&#x27;, &#x27;from_dict&#x27;, &#x27;get&#x27;, &#x27;getName&#x27;, &#x27;haskeys&#x27;, &#x27;insert&#x27;, &#x27;items&#x27;, &#x27;keys&#x27;, &#x27;pop&#x27;, &#x27;pprint&#x27;, &#x27;values&#x27;]</td><td>(164, 169)</td></tr>\n",
       "<tr><td>[&#x27;AttackTechnique&#x27;, &#x27;_ParseResults__lookup&#x27;, &#x27;__add__&#x27;, &#x27;__bool__&#x27;, &#x27;__class__&#x27;, &#x27;__contains__&#x27;, &#x27;__delattr__&#x27;, &#x27;__delitem__&#x27;, &#x27;__dict__&#x27;, &#x27;__dir__&#x27;, &#x27;__doc__&#x27;, &#x27;__eq__&#x27;, &#x27;__format__&#x27;, &#x27;__ge__&#x27;, &#x27;__getattr__&#x27;, &#x27;__getattribute__&#x27;, &#x27;__getitem__&#x27;, &#x27;__getnewargs__&#x27;, &#x27;__getstate__&#x27;, &#x27;__gt__&#x27;, &#x27;__hash__&#x27;, &#x27;__iadd__&#x27;, &#x27;__init__&#x27;, &#x27;__init_subclass__&#x27;, &#x27;__iter__&#x27;, &#x27;__le__&#x27;, &#x27;__len__&#x27;, &#x27;__lt__&#x27;, &#x27;__module__&#x27;, &#x27;__ne__&#x27;, &#x27;__new__&#x27;, &#x27;__nonzero__&#x27;, &#x27;__radd__&#x27;, &#x27;__reduce__&#x27;, &#x27;__reduce_ex__&#x27;, &#x27;__repr__&#x27;, &#x27;__reversed__&#x27;, &#x27;__setattr__&#x27;, &#x27;__setitem__&#x27;, &#x27;__setstate__&#x27;, &#x27;__sizeof__&#x27;, &#x27;__str__&#x27;, &#x27;__subclasshook__&#x27;, &#x27;__weakref__&#x27;, &#x27;_asStringList&#x27;, &#x27;_iteritems&#x27;, &#x27;_iterkeys&#x27;, &#x27;_itervalues&#x27;, &#x27;append&#x27;, &#x27;asDict&#x27;, &#x27;asList&#x27;, &#x27;asXML&#x27;, &#x27;clear&#x27;, &#x27;copy&#x27;, &#x27;dump&#x27;, &#x27;extend&#x27;, &#x27;from_dict&#x27;, &#x27;get&#x27;, &#x27;getName&#x27;, &#x27;haskeys&#x27;, &#x27;insert&#x27;, &#x27;items&#x27;, &#x27;keys&#x27;, &#x27;pop&#x27;, &#x27;pprint&#x27;, &#x27;values&#x27;]</td><td>(188, 193)</td></tr>\n",
       "<tr><td>[&#x27;AttackTechnique&#x27;, &#x27;_ParseResults__lookup&#x27;, &#x27;__add__&#x27;, &#x27;__bool__&#x27;, &#x27;__class__&#x27;, &#x27;__contains__&#x27;, &#x27;__delattr__&#x27;, &#x27;__delitem__&#x27;, &#x27;__dict__&#x27;, &#x27;__dir__&#x27;, &#x27;__doc__&#x27;, &#x27;__eq__&#x27;, &#x27;__format__&#x27;, &#x27;__ge__&#x27;, &#x27;__getattr__&#x27;, &#x27;__getattribute__&#x27;, &#x27;__getitem__&#x27;, &#x27;__getnewargs__&#x27;, &#x27;__getstate__&#x27;, &#x27;__gt__&#x27;, &#x27;__hash__&#x27;, &#x27;__iadd__&#x27;, &#x27;__init__&#x27;, &#x27;__init_subclass__&#x27;, &#x27;__iter__&#x27;, &#x27;__le__&#x27;, &#x27;__len__&#x27;, &#x27;__lt__&#x27;, &#x27;__module__&#x27;, &#x27;__ne__&#x27;, &#x27;__new__&#x27;, &#x27;__nonzero__&#x27;, &#x27;__radd__&#x27;, &#x27;__reduce__&#x27;, &#x27;__reduce_ex__&#x27;, &#x27;__repr__&#x27;, &#x27;__reversed__&#x27;, &#x27;__setattr__&#x27;, &#x27;__setitem__&#x27;, &#x27;__setstate__&#x27;, &#x27;__sizeof__&#x27;, &#x27;__str__&#x27;, &#x27;__subclasshook__&#x27;, &#x27;__weakref__&#x27;, &#x27;_asStringList&#x27;, &#x27;_iteritems&#x27;, &#x27;_iterkeys&#x27;, &#x27;_itervalues&#x27;, &#x27;append&#x27;, &#x27;asDict&#x27;, &#x27;asList&#x27;, &#x27;asXML&#x27;, &#x27;clear&#x27;, &#x27;copy&#x27;, &#x27;dump&#x27;, &#x27;extend&#x27;, &#x27;from_dict&#x27;, &#x27;get&#x27;, &#x27;getName&#x27;, &#x27;haskeys&#x27;, &#x27;insert&#x27;, &#x27;items&#x27;, &#x27;keys&#x27;, &#x27;pop&#x27;, &#x27;pprint&#x27;, &#x27;values&#x27;]</td><td>(211, 216)</td></tr>\n",
       "<tr><td>[&#x27;AttackTechnique&#x27;, &#x27;_ParseResults__lookup&#x27;, &#x27;__add__&#x27;, &#x27;__bool__&#x27;, &#x27;__class__&#x27;, &#x27;__contains__&#x27;, &#x27;__delattr__&#x27;, &#x27;__delitem__&#x27;, &#x27;__dict__&#x27;, &#x27;__dir__&#x27;, &#x27;__doc__&#x27;, &#x27;__eq__&#x27;, &#x27;__format__&#x27;, &#x27;__ge__&#x27;, &#x27;__getattr__&#x27;, &#x27;__getattribute__&#x27;, &#x27;__getitem__&#x27;, &#x27;__getnewargs__&#x27;, &#x27;__getstate__&#x27;, &#x27;__gt__&#x27;, &#x27;__hash__&#x27;, &#x27;__iadd__&#x27;, &#x27;__init__&#x27;, &#x27;__init_subclass__&#x27;, &#x27;__iter__&#x27;, &#x27;__le__&#x27;, &#x27;__len__&#x27;, &#x27;__lt__&#x27;, &#x27;__module__&#x27;, &#x27;__ne__&#x27;, &#x27;__new__&#x27;, &#x27;__nonzero__&#x27;, &#x27;__radd__&#x27;, &#x27;__reduce__&#x27;, &#x27;__reduce_ex__&#x27;, &#x27;__repr__&#x27;, &#x27;__reversed__&#x27;, &#x27;__setattr__&#x27;, &#x27;__setitem__&#x27;, &#x27;__setstate__&#x27;, &#x27;__sizeof__&#x27;, &#x27;__str__&#x27;, &#x27;__subclasshook__&#x27;, &#x27;__weakref__&#x27;, &#x27;_asStringList&#x27;, &#x27;_iteritems&#x27;, &#x27;_iterkeys&#x27;, &#x27;_itervalues&#x27;, &#x27;append&#x27;, &#x27;asDict&#x27;, &#x27;asList&#x27;, &#x27;asXML&#x27;, &#x27;clear&#x27;, &#x27;copy&#x27;, &#x27;dump&#x27;, &#x27;extend&#x27;, &#x27;from_dict&#x27;, &#x27;get&#x27;, &#x27;getName&#x27;, &#x27;haskeys&#x27;, &#x27;insert&#x27;, &#x27;items&#x27;, &#x27;keys&#x27;, &#x27;pop&#x27;, &#x27;pprint&#x27;, &#x27;values&#x27;]</td><td>(248, 253)</td></tr>\n",
       "<tr><td>[&#x27;AttackTechnique&#x27;, &#x27;_ParseResults__lookup&#x27;, &#x27;__add__&#x27;, &#x27;__bool__&#x27;, &#x27;__class__&#x27;, &#x27;__contains__&#x27;, &#x27;__delattr__&#x27;, &#x27;__delitem__&#x27;, &#x27;__dict__&#x27;, &#x27;__dir__&#x27;, &#x27;__doc__&#x27;, &#x27;__eq__&#x27;, &#x27;__format__&#x27;, &#x27;__ge__&#x27;, &#x27;__getattr__&#x27;, &#x27;__getattribute__&#x27;, &#x27;__getitem__&#x27;, &#x27;__getnewargs__&#x27;, &#x27;__getstate__&#x27;, &#x27;__gt__&#x27;, &#x27;__hash__&#x27;, &#x27;__iadd__&#x27;, &#x27;__init__&#x27;, &#x27;__init_subclass__&#x27;, &#x27;__iter__&#x27;, &#x27;__le__&#x27;, &#x27;__len__&#x27;, &#x27;__lt__&#x27;, &#x27;__module__&#x27;, &#x27;__ne__&#x27;, &#x27;__new__&#x27;, &#x27;__nonzero__&#x27;, &#x27;__radd__&#x27;, &#x27;__reduce__&#x27;, &#x27;__reduce_ex__&#x27;, &#x27;__repr__&#x27;, &#x27;__reversed__&#x27;, &#x27;__setattr__&#x27;, &#x27;__setitem__&#x27;, &#x27;__setstate__&#x27;, &#x27;__sizeof__&#x27;, &#x27;__str__&#x27;, &#x27;__subclasshook__&#x27;, &#x27;__weakref__&#x27;, &#x27;_asStringList&#x27;, &#x27;_iteritems&#x27;, &#x27;_iterkeys&#x27;, &#x27;_itervalues&#x27;, &#x27;append&#x27;, &#x27;asDict&#x27;, &#x27;asList&#x27;, &#x27;asXML&#x27;, &#x27;clear&#x27;, &#x27;copy&#x27;, &#x27;dump&#x27;, &#x27;extend&#x27;, &#x27;from_dict&#x27;, &#x27;get&#x27;, &#x27;getName&#x27;, &#x27;haskeys&#x27;, &#x27;insert&#x27;, &#x27;items&#x27;, &#x27;keys&#x27;, &#x27;pop&#x27;, &#x27;pprint&#x27;, &#x27;values&#x27;]</td><td>(282, 287)</td></tr>\n",
       "<tr><td>[&#x27;AttackTechnique&#x27;, &#x27;_ParseResults__lookup&#x27;, &#x27;__add__&#x27;, &#x27;__bool__&#x27;, &#x27;__class__&#x27;, &#x27;__contains__&#x27;, &#x27;__delattr__&#x27;, &#x27;__delitem__&#x27;, &#x27;__dict__&#x27;, &#x27;__dir__&#x27;, &#x27;__doc__&#x27;, &#x27;__eq__&#x27;, &#x27;__format__&#x27;, &#x27;__ge__&#x27;, &#x27;__getattr__&#x27;, &#x27;__getattribute__&#x27;, &#x27;__getitem__&#x27;, &#x27;__getnewargs__&#x27;, &#x27;__getstate__&#x27;, &#x27;__gt__&#x27;, &#x27;__hash__&#x27;, &#x27;__iadd__&#x27;, &#x27;__init__&#x27;, &#x27;__init_subclass__&#x27;, &#x27;__iter__&#x27;, &#x27;__le__&#x27;, &#x27;__len__&#x27;, &#x27;__lt__&#x27;, &#x27;__module__&#x27;, &#x27;__ne__&#x27;, &#x27;__new__&#x27;, &#x27;__nonzero__&#x27;, &#x27;__radd__&#x27;, &#x27;__reduce__&#x27;, &#x27;__reduce_ex__&#x27;, &#x27;__repr__&#x27;, &#x27;__reversed__&#x27;, &#x27;__setattr__&#x27;, &#x27;__setitem__&#x27;, &#x27;__setstate__&#x27;, &#x27;__sizeof__&#x27;, &#x27;__str__&#x27;, &#x27;__subclasshook__&#x27;, &#x27;__weakref__&#x27;, &#x27;_asStringList&#x27;, &#x27;_iteritems&#x27;, &#x27;_iterkeys&#x27;, &#x27;_itervalues&#x27;, &#x27;append&#x27;, &#x27;asDict&#x27;, &#x27;asList&#x27;, &#x27;asXML&#x27;, &#x27;clear&#x27;, &#x27;copy&#x27;, &#x27;dump&#x27;, &#x27;extend&#x27;, &#x27;from_dict&#x27;, &#x27;get&#x27;, &#x27;getName&#x27;, &#x27;haskeys&#x27;, &#x27;insert&#x27;, &#x27;items&#x27;, &#x27;keys&#x27;, &#x27;pop&#x27;, &#x27;pprint&#x27;, &#x27;values&#x27;]</td><td>(304, 313)</td></tr>\n",
       "<tr><td>[&#x27;AttackTechnique&#x27;, &#x27;_ParseResults__lookup&#x27;, &#x27;__add__&#x27;, &#x27;__bool__&#x27;, &#x27;__class__&#x27;, &#x27;__contains__&#x27;, &#x27;__delattr__&#x27;, &#x27;__delitem__&#x27;, &#x27;__dict__&#x27;, &#x27;__dir__&#x27;, &#x27;__doc__&#x27;, &#x27;__eq__&#x27;, &#x27;__format__&#x27;, &#x27;__ge__&#x27;, &#x27;__getattr__&#x27;, &#x27;__getattribute__&#x27;, &#x27;__getitem__&#x27;, &#x27;__getnewargs__&#x27;, &#x27;__getstate__&#x27;, &#x27;__gt__&#x27;, &#x27;__hash__&#x27;, &#x27;__iadd__&#x27;, &#x27;__init__&#x27;, &#x27;__init_subclass__&#x27;, &#x27;__iter__&#x27;, &#x27;__le__&#x27;, &#x27;__len__&#x27;, &#x27;__lt__&#x27;, &#x27;__module__&#x27;, &#x27;__ne__&#x27;, &#x27;__new__&#x27;, &#x27;__nonzero__&#x27;, &#x27;__radd__&#x27;, &#x27;__reduce__&#x27;, &#x27;__reduce_ex__&#x27;, &#x27;__repr__&#x27;, &#x27;__reversed__&#x27;, &#x27;__setattr__&#x27;, &#x27;__setitem__&#x27;, &#x27;__setstate__&#x27;, &#x27;__sizeof__&#x27;, &#x27;__str__&#x27;, &#x27;__subclasshook__&#x27;, &#x27;__weakref__&#x27;, &#x27;_asStringList&#x27;, &#x27;_iteritems&#x27;, &#x27;_iterkeys&#x27;, &#x27;_itervalues&#x27;, &#x27;append&#x27;, &#x27;asDict&#x27;, &#x27;asList&#x27;, &#x27;asXML&#x27;, &#x27;clear&#x27;, &#x27;copy&#x27;, &#x27;dump&#x27;, &#x27;extend&#x27;, &#x27;from_dict&#x27;, &#x27;get&#x27;, &#x27;getName&#x27;, &#x27;haskeys&#x27;, &#x27;insert&#x27;, &#x27;items&#x27;, &#x27;keys&#x27;, &#x27;pop&#x27;, &#x27;pprint&#x27;, &#x27;values&#x27;]</td><td>(373, 382)</td></tr>\n",
       "<tr><td>[&#x27;AttackTechnique&#x27;, &#x27;_ParseResults__lookup&#x27;, &#x27;__add__&#x27;, &#x27;__bool__&#x27;, &#x27;__class__&#x27;, &#x27;__contains__&#x27;, &#x27;__delattr__&#x27;, &#x27;__delitem__&#x27;, &#x27;__dict__&#x27;, &#x27;__dir__&#x27;, &#x27;__doc__&#x27;, &#x27;__eq__&#x27;, &#x27;__format__&#x27;, &#x27;__ge__&#x27;, &#x27;__getattr__&#x27;, &#x27;__getattribute__&#x27;, &#x27;__getitem__&#x27;, &#x27;__getnewargs__&#x27;, &#x27;__getstate__&#x27;, &#x27;__gt__&#x27;, &#x27;__hash__&#x27;, &#x27;__iadd__&#x27;, &#x27;__init__&#x27;, &#x27;__init_subclass__&#x27;, &#x27;__iter__&#x27;, &#x27;__le__&#x27;, &#x27;__len__&#x27;, &#x27;__lt__&#x27;, &#x27;__module__&#x27;, &#x27;__ne__&#x27;, &#x27;__new__&#x27;, &#x27;__nonzero__&#x27;, &#x27;__radd__&#x27;, &#x27;__reduce__&#x27;, &#x27;__reduce_ex__&#x27;, &#x27;__repr__&#x27;, &#x27;__reversed__&#x27;, &#x27;__setattr__&#x27;, &#x27;__setitem__&#x27;, &#x27;__setstate__&#x27;, &#x27;__sizeof__&#x27;, &#x27;__str__&#x27;, &#x27;__subclasshook__&#x27;, &#x27;__weakref__&#x27;, &#x27;_asStringList&#x27;, &#x27;_iteritems&#x27;, &#x27;_iterkeys&#x27;, &#x27;_itervalues&#x27;, &#x27;append&#x27;, &#x27;asDict&#x27;, &#x27;asList&#x27;, &#x27;asXML&#x27;, &#x27;clear&#x27;, &#x27;copy&#x27;, &#x27;dump&#x27;, &#x27;extend&#x27;, &#x27;from_dict&#x27;, &#x27;get&#x27;, &#x27;getName&#x27;, &#x27;haskeys&#x27;, &#x27;insert&#x27;, &#x27;items&#x27;, &#x27;keys&#x27;, &#x27;pop&#x27;, &#x27;pprint&#x27;, &#x27;values&#x27;]</td><td>(420, 425)</td></tr>\n",
       "</tbody>\n",
       "</table>"
      ],
      "text/plain": [
       "[(['FileHash-SHA1', '_ParseResults__lookup', '__add__', '__bool__', '__class__', '__contains__', '__delattr__', '__delitem__', '__dict__', '__dir__', '__doc__', '__eq__', '__format__', '__ge__', '__getattr__', '__getattribute__', '__getitem__', '__getnewargs__', '__getstate__', '__gt__', '__hash__', '__iadd__', '__init__', '__init_subclass__', '__iter__', '__le__', '__len__', '__lt__', '__module__', '__ne__', '__new__', '__nonzero__', '__radd__', '__reduce__', '__reduce_ex__', '__repr__', '__reversed__', '__setattr__', '__setitem__', '__setstate__', '__sizeof__', '__str__', '__subclasshook__', '__weakref__', '_asStringList', '_iteritems', '_iterkeys', '_itervalues', 'append', 'asDict', 'asList', 'asXML', 'clear', 'copy', 'dump', 'extend', 'from_dict', 'get', 'getName', 'haskeys', 'insert', 'items', 'keys', 'pop', 'pprint', 'values'], (11, 51)), (['FileHash-SHA256', '_ParseResults__lookup', '__add__', '__bool__', '__class__', '__contains__', '__delattr__', '__delitem__', '__dict__', '__dir__', '__doc__', '__eq__', '__format__', '__ge__', '__getattr__', '__getattribute__', '__getitem__', '__getnewargs__', '__getstate__', '__gt__', '__hash__', '__iadd__', '__init__', '__init_subclass__', '__iter__', '__le__', '__len__', '__lt__', '__module__', '__ne__', '__new__', '__nonzero__', '__radd__', '__reduce__', '__reduce_ex__', '__repr__', '__reversed__', '__setattr__', '__setitem__', '__setstate__', '__sizeof__', '__str__', '__subclasshook__', '__weakref__', '_asStringList', '_iteritems', '_iterkeys', '_itervalues', 'append', 'asDict', 'asList', 'asXML', 'clear', 'copy', 'dump', 'extend', 'from_dict', 'get', 'getName', 'haskeys', 'insert', 'items', 'keys', 'pop', 'pprint', 'values'], (60, 124)), (['AttackTechnique', '_ParseResults__lookup', '__add__', '__bool__', '__class__', '__contains__', '__delattr__', '__delitem__', '__dict__', '__dir__', '__doc__', '__eq__', '__format__', '__ge__', '__getattr__', '__getattribute__', '__getitem__', '__getnewargs__', '__getstate__', '__gt__', '__hash__', '__iadd__', '__init__', '__init_subclass__', '__iter__', '__le__', '__len__', '__lt__', '__module__', '__ne__', '__new__', '__nonzero__', '__radd__', '__reduce__', '__reduce_ex__', '__repr__', '__reversed__', '__setattr__', '__setitem__', '__setstate__', '__sizeof__', '__str__', '__subclasshook__', '__weakref__', '_asStringList', '_iteritems', '_iterkeys', '_itervalues', 'append', 'asDict', 'asList', 'asXML', 'clear', 'copy', 'dump', 'extend', 'from_dict', 'get', 'getName', 'haskeys', 'insert', 'items', 'keys', 'pop', 'pprint', 'values'], (164, 169)), (['AttackTechnique', '_ParseResults__lookup', '__add__', '__bool__', '__class__', '__contains__', '__delattr__', '__delitem__', '__dict__', '__dir__', '__doc__', '__eq__', '__format__', '__ge__', '__getattr__', '__getattribute__', '__getitem__', '__getnewargs__', '__getstate__', '__gt__', '__hash__', '__iadd__', '__init__', '__init_subclass__', '__iter__', '__le__', '__len__', '__lt__', '__module__', '__ne__', '__new__', '__nonzero__', '__radd__', '__reduce__', '__reduce_ex__', '__repr__', '__reversed__', '__setattr__', '__setitem__', '__setstate__', '__sizeof__', '__str__', '__subclasshook__', '__weakref__', '_asStringList', '_iteritems', '_iterkeys', '_itervalues', 'append', 'asDict', 'asList', 'asXML', 'clear', 'copy', 'dump', 'extend', 'from_dict', 'get', 'getName', 'haskeys', 'insert', 'items', 'keys', 'pop', 'pprint', 'values'], (188, 193)), (['AttackTechnique', '_ParseResults__lookup', '__add__', '__bool__', '__class__', '__contains__', '__delattr__', '__delitem__', '__dict__', '__dir__', '__doc__', '__eq__', '__format__', '__ge__', '__getattr__', '__getattribute__', '__getitem__', '__getnewargs__', '__getstate__', '__gt__', '__hash__', '__iadd__', '__init__', '__init_subclass__', '__iter__', '__le__', '__len__', '__lt__', '__module__', '__ne__', '__new__', '__nonzero__', '__radd__', '__reduce__', '__reduce_ex__', '__repr__', '__reversed__', '__setattr__', '__setitem__', '__setstate__', '__sizeof__', '__str__', '__subclasshook__', '__weakref__', '_asStringList', '_iteritems', '_iterkeys', '_itervalues', 'append', 'asDict', 'asList', 'asXML', 'clear', 'copy', 'dump', 'extend', 'from_dict', 'get', 'getName', 'haskeys', 'insert', 'items', 'keys', 'pop', 'pprint', 'values'], (211, 216)), (['AttackTechnique', '_ParseResults__lookup', '__add__', '__bool__', '__class__', '__contains__', '__delattr__', '__delitem__', '__dict__', '__dir__', '__doc__', '__eq__', '__format__', '__ge__', '__getattr__', '__getattribute__', '__getitem__', '__getnewargs__', '__getstate__', '__gt__', '__hash__', '__iadd__', '__init__', '__init_subclass__', '__iter__', '__le__', '__len__', '__lt__', '__module__', '__ne__', '__new__', '__nonzero__', '__radd__', '__reduce__', '__reduce_ex__', '__repr__', '__reversed__', '__setattr__', '__setitem__', '__setstate__', '__sizeof__', '__str__', '__subclasshook__', '__weakref__', '_asStringList', '_iteritems', '_iterkeys', '_itervalues', 'append', 'asDict', 'asList', 'asXML', 'clear', 'copy', 'dump', 'extend', 'from_dict', 'get', 'getName', 'haskeys', 'insert', 'items', 'keys', 'pop', 'pprint', 'values'], (248, 253)), (['AttackTechnique', '_ParseResults__lookup', '__add__', '__bool__', '__class__', '__contains__', '__delattr__', '__delitem__', '__dict__', '__dir__', '__doc__', '__eq__', '__format__', '__ge__', '__getattr__', '__getattribute__', '__getitem__', '__getnewargs__', '__getstate__', '__gt__', '__hash__', '__iadd__', '__init__', '__init_subclass__', '__iter__', '__le__', '__len__', '__lt__', '__module__', '__ne__', '__new__', '__nonzero__', '__radd__', '__reduce__', '__reduce_ex__', '__repr__', '__reversed__', '__setattr__', '__setitem__', '__setstate__', '__sizeof__', '__str__', '__subclasshook__', '__weakref__', '_asStringList', '_iteritems', '_iterkeys', '_itervalues', 'append', 'asDict', 'asList', 'asXML', 'clear', 'copy', 'dump', 'extend', 'from_dict', 'get', 'getName', 'haskeys', 'insert', 'items', 'keys', 'pop', 'pprint', 'values'], (282, 287)), (['AttackTechnique', '_ParseResults__lookup', '__add__', '__bool__', '__class__', '__contains__', '__delattr__', '__delitem__', '__dict__', '__dir__', '__doc__', '__eq__', '__format__', '__ge__', '__getattr__', '__getattribute__', '__getitem__', '__getnewargs__', '__getstate__', '__gt__', '__hash__', '__iadd__', '__init__', '__init_subclass__', '__iter__', '__le__', '__len__', '__lt__', '__module__', '__ne__', '__new__', '__nonzero__', '__radd__', '__reduce__', '__reduce_ex__', '__repr__', '__reversed__', '__setattr__', '__setitem__', '__setstate__', '__sizeof__', '__str__', '__subclasshook__', '__weakref__', '_asStringList', '_iteritems', '_iterkeys', '_itervalues', 'append', 'asDict', 'asList', 'asXML', 'clear', 'copy', 'dump', 'extend', 'from_dict', 'get', 'getName', 'haskeys', 'insert', 'items', 'keys', 'pop', 'pprint', 'values'], (304, 313)), (['AttackTechnique', '_ParseResults__lookup', '__add__', '__bool__', '__class__', '__contains__', '__delattr__', '__delitem__', '__dict__', '__dir__', '__doc__', '__eq__', '__format__', '__ge__', '__getattr__', '__getattribute__', '__getitem__', '__getnewargs__', '__getstate__', '__gt__', '__hash__', '__iadd__', '__init__', '__init_subclass__', '__iter__', '__le__', '__len__', '__lt__', '__module__', '__ne__', '__new__', '__nonzero__', '__radd__', '__reduce__', '__reduce_ex__', '__repr__', '__reversed__', '__setattr__', '__setitem__', '__setstate__', '__sizeof__', '__str__', '__subclasshook__', '__weakref__', '_asStringList', '_iteritems', '_iterkeys', '_itervalues', 'append', 'asDict', 'asList', 'asXML', 'clear', 'copy', 'dump', 'extend', 'from_dict', 'get', 'getName', 'haskeys', 'insert', 'items', 'keys', 'pop', 'pprint', 'values'], (373, 382)), (['AttackTechnique', '_ParseResults__lookup', '__add__', '__bool__', '__class__', '__contains__', '__delattr__', '__delitem__', '__dict__', '__dir__', '__doc__', '__eq__', '__format__', '__ge__', '__getattr__', '__getattribute__', '__getitem__', '__getnewargs__', '__getstate__', '__gt__', '__hash__', '__iadd__', '__init__', '__init_subclass__', '__iter__', '__le__', '__len__', '__lt__', '__module__', '__ne__', '__new__', '__nonzero__', '__radd__', '__reduce__', '__reduce_ex__', '__repr__', '__reversed__', '__setattr__', '__setitem__', '__setstate__', '__sizeof__', '__str__', '__subclasshook__', '__weakref__', '_asStringList', '_iteritems', '_iterkeys', '_itervalues', 'append', 'asDict', 'asList', 'asXML', 'clear', 'copy', 'dump', 'extend', 'from_dict', 'get', 'getName', 'haskeys', 'insert', 'items', 'keys', 'pop', 'pprint', 'values'], (420, 425))]"
      ]
     },
     "execution_count": 150,
     "metadata": {},
     "output_type": "execute_result"
    }
   ],
   "source": [
    "seq(parser.scanString(text)).starmap(\n",
    "    lambda token, start, end: (\n",
    "        token,\n",
    "        (start, end)\n",
    "        # token.getName(),\n",
    "        # token.get(token.getName()),\n",
    "    )\n",
    ").starmap(lambda token, span: (dir(token), span))"
   ]
  },
  {
   "cell_type": "code",
   "execution_count": 127,
   "id": "252d8de9-c45a-4aa5-ae2f-1c82757b5381",
   "metadata": {},
   "outputs": [],
   "source": [
    "from pyparsing import Combine, Optional, Literal, Word, nums\n",
    "\n",
    "expr = Combine(\n",
    "    Literal(\"T1\") + Word(nums, exact=3) + Optional(\".0\" + Word(nums, exact=2))\n",
    ").setResultsName(\"AttackTechnique\")\n",
    "# parser = expr.setResultsName(\"AttackTechnique\")"
   ]
  },
  {
   "cell_type": "code",
   "execution_count": 129,
   "id": "4579d94b-ea70-4bac-a10a-c92c93b99af0",
   "metadata": {},
   "outputs": [
    {
     "data": {
      "text/plain": [
       "[((['IOCs\\n\\nSHA1\\nfadd8d7c13a18c251ded1f645ffea18a37f1c2de\\n\\nSHA256\\n501487b025f25ddf1ca32deb57a2b4db43ccf6635c1edc74b9cff54ce0e5bcfe\\n\\nMITRE ATT&CK\\nData from Local System – T1005\\nModify Registry – T1112\\nQuery Registry – T1012\\nSystem Information Discovery – T1082\\nData Encrypted for Impact – T1486\\nFile Deletion – T1070.004\\nCommand and Scripting Interpreter: Windows Command Shell – T1059.003\\nWindows Management Instrumentation – T1047\\n'], {'AttackTechnique': ['IOCs\\n\\nSHA1\\nfadd8d7c13a18c251ded1f645ffea18a37f1c2de\\n\\nSHA256\\n501487b025f25ddf1ca32deb57a2b4db43ccf6635c1edc74b9cff54ce0e5bcfe\\n\\nMITRE ATT&CK\\nData from Local System – T1005\\nModify Registry – T1112\\nQuery Registry – T1012\\nSystem Information Discovery – T1082\\nData Encrypted for Impact – T1486\\nFile Deletion – T1070.004\\nCommand and Scripting Interpreter: Windows Command Shell – T1059.003\\nWindows Management Instrumentation – T1047\\n']}),\n",
       "  164,\n",
       "  169),\n",
       " ((['IOCs\\n\\nSHA1\\nfadd8d7c13a18c251ded1f645ffea18a37f1c2de\\n\\nSHA256\\n501487b025f25ddf1ca32deb57a2b4db43ccf6635c1edc74b9cff54ce0e5bcfe\\n\\nMITRE ATT&CK\\nData from Local System – T1005\\nModify Registry – T1112\\nQuery Registry – T1012\\nSystem Information Discovery – T1082\\nData Encrypted for Impact – T1486\\nFile Deletion – T1070.004\\nCommand and Scripting Interpreter: Windows Command Shell – T1059.003\\nWindows Management Instrumentation – T1047\\n'], {'AttackTechnique': ['IOCs\\n\\nSHA1\\nfadd8d7c13a18c251ded1f645ffea18a37f1c2de\\n\\nSHA256\\n501487b025f25ddf1ca32deb57a2b4db43ccf6635c1edc74b9cff54ce0e5bcfe\\n\\nMITRE ATT&CK\\nData from Local System – T1005\\nModify Registry – T1112\\nQuery Registry – T1012\\nSystem Information Discovery – T1082\\nData Encrypted for Impact – T1486\\nFile Deletion – T1070.004\\nCommand and Scripting Interpreter: Windows Command Shell – T1059.003\\nWindows Management Instrumentation – T1047\\n']}),\n",
       "  188,\n",
       "  193),\n",
       " ((['IOCs\\n\\nSHA1\\nfadd8d7c13a18c251ded1f645ffea18a37f1c2de\\n\\nSHA256\\n501487b025f25ddf1ca32deb57a2b4db43ccf6635c1edc74b9cff54ce0e5bcfe\\n\\nMITRE ATT&CK\\nData from Local System – T1005\\nModify Registry – T1112\\nQuery Registry – T1012\\nSystem Information Discovery – T1082\\nData Encrypted for Impact – T1486\\nFile Deletion – T1070.004\\nCommand and Scripting Interpreter: Windows Command Shell – T1059.003\\nWindows Management Instrumentation – T1047\\n'], {'AttackTechnique': ['IOCs\\n\\nSHA1\\nfadd8d7c13a18c251ded1f645ffea18a37f1c2de\\n\\nSHA256\\n501487b025f25ddf1ca32deb57a2b4db43ccf6635c1edc74b9cff54ce0e5bcfe\\n\\nMITRE ATT&CK\\nData from Local System – T1005\\nModify Registry – T1112\\nQuery Registry – T1012\\nSystem Information Discovery – T1082\\nData Encrypted for Impact – T1486\\nFile Deletion – T1070.004\\nCommand and Scripting Interpreter: Windows Command Shell – T1059.003\\nWindows Management Instrumentation – T1047\\n']}),\n",
       "  211,\n",
       "  216),\n",
       " ((['IOCs\\n\\nSHA1\\nfadd8d7c13a18c251ded1f645ffea18a37f1c2de\\n\\nSHA256\\n501487b025f25ddf1ca32deb57a2b4db43ccf6635c1edc74b9cff54ce0e5bcfe\\n\\nMITRE ATT&CK\\nData from Local System – T1005\\nModify Registry – T1112\\nQuery Registry – T1012\\nSystem Information Discovery – T1082\\nData Encrypted for Impact – T1486\\nFile Deletion – T1070.004\\nCommand and Scripting Interpreter: Windows Command Shell – T1059.003\\nWindows Management Instrumentation – T1047\\n'], {'AttackTechnique': ['IOCs\\n\\nSHA1\\nfadd8d7c13a18c251ded1f645ffea18a37f1c2de\\n\\nSHA256\\n501487b025f25ddf1ca32deb57a2b4db43ccf6635c1edc74b9cff54ce0e5bcfe\\n\\nMITRE ATT&CK\\nData from Local System – T1005\\nModify Registry – T1112\\nQuery Registry – T1012\\nSystem Information Discovery – T1082\\nData Encrypted for Impact – T1486\\nFile Deletion – T1070.004\\nCommand and Scripting Interpreter: Windows Command Shell – T1059.003\\nWindows Management Instrumentation – T1047\\n']}),\n",
       "  248,\n",
       "  253),\n",
       " ((['IOCs\\n\\nSHA1\\nfadd8d7c13a18c251ded1f645ffea18a37f1c2de\\n\\nSHA256\\n501487b025f25ddf1ca32deb57a2b4db43ccf6635c1edc74b9cff54ce0e5bcfe\\n\\nMITRE ATT&CK\\nData from Local System – T1005\\nModify Registry – T1112\\nQuery Registry – T1012\\nSystem Information Discovery – T1082\\nData Encrypted for Impact – T1486\\nFile Deletion – T1070.004\\nCommand and Scripting Interpreter: Windows Command Shell – T1059.003\\nWindows Management Instrumentation – T1047\\n'], {'AttackTechnique': ['IOCs\\n\\nSHA1\\nfadd8d7c13a18c251ded1f645ffea18a37f1c2de\\n\\nSHA256\\n501487b025f25ddf1ca32deb57a2b4db43ccf6635c1edc74b9cff54ce0e5bcfe\\n\\nMITRE ATT&CK\\nData from Local System – T1005\\nModify Registry – T1112\\nQuery Registry – T1012\\nSystem Information Discovery – T1082\\nData Encrypted for Impact – T1486\\nFile Deletion – T1070.004\\nCommand and Scripting Interpreter: Windows Command Shell – T1059.003\\nWindows Management Instrumentation – T1047\\n']}),\n",
       "  282,\n",
       "  287),\n",
       " ((['IOCs\\n\\nSHA1\\nfadd8d7c13a18c251ded1f645ffea18a37f1c2de\\n\\nSHA256\\n501487b025f25ddf1ca32deb57a2b4db43ccf6635c1edc74b9cff54ce0e5bcfe\\n\\nMITRE ATT&CK\\nData from Local System – T1005\\nModify Registry – T1112\\nQuery Registry – T1012\\nSystem Information Discovery – T1082\\nData Encrypted for Impact – T1486\\nFile Deletion – T1070.004\\nCommand and Scripting Interpreter: Windows Command Shell – T1059.003\\nWindows Management Instrumentation – T1047\\n'], {'AttackTechnique': ['IOCs\\n\\nSHA1\\nfadd8d7c13a18c251ded1f645ffea18a37f1c2de\\n\\nSHA256\\n501487b025f25ddf1ca32deb57a2b4db43ccf6635c1edc74b9cff54ce0e5bcfe\\n\\nMITRE ATT&CK\\nData from Local System – T1005\\nModify Registry – T1112\\nQuery Registry – T1012\\nSystem Information Discovery – T1082\\nData Encrypted for Impact – T1486\\nFile Deletion – T1070.004\\nCommand and Scripting Interpreter: Windows Command Shell – T1059.003\\nWindows Management Instrumentation – T1047\\n']}),\n",
       "  304,\n",
       "  313),\n",
       " ((['IOCs\\n\\nSHA1\\nfadd8d7c13a18c251ded1f645ffea18a37f1c2de\\n\\nSHA256\\n501487b025f25ddf1ca32deb57a2b4db43ccf6635c1edc74b9cff54ce0e5bcfe\\n\\nMITRE ATT&CK\\nData from Local System – T1005\\nModify Registry – T1112\\nQuery Registry – T1012\\nSystem Information Discovery – T1082\\nData Encrypted for Impact – T1486\\nFile Deletion – T1070.004\\nCommand and Scripting Interpreter: Windows Command Shell – T1059.003\\nWindows Management Instrumentation – T1047\\n'], {'AttackTechnique': ['IOCs\\n\\nSHA1\\nfadd8d7c13a18c251ded1f645ffea18a37f1c2de\\n\\nSHA256\\n501487b025f25ddf1ca32deb57a2b4db43ccf6635c1edc74b9cff54ce0e5bcfe\\n\\nMITRE ATT&CK\\nData from Local System – T1005\\nModify Registry – T1112\\nQuery Registry – T1012\\nSystem Information Discovery – T1082\\nData Encrypted for Impact – T1486\\nFile Deletion – T1070.004\\nCommand and Scripting Interpreter: Windows Command Shell – T1059.003\\nWindows Management Instrumentation – T1047\\n']}),\n",
       "  373,\n",
       "  382),\n",
       " ((['IOCs\\n\\nSHA1\\nfadd8d7c13a18c251ded1f645ffea18a37f1c2de\\n\\nSHA256\\n501487b025f25ddf1ca32deb57a2b4db43ccf6635c1edc74b9cff54ce0e5bcfe\\n\\nMITRE ATT&CK\\nData from Local System – T1005\\nModify Registry – T1112\\nQuery Registry – T1012\\nSystem Information Discovery – T1082\\nData Encrypted for Impact – T1486\\nFile Deletion – T1070.004\\nCommand and Scripting Interpreter: Windows Command Shell – T1059.003\\nWindows Management Instrumentation – T1047\\n'], {'AttackTechnique': ['IOCs\\n\\nSHA1\\nfadd8d7c13a18c251ded1f645ffea18a37f1c2de\\n\\nSHA256\\n501487b025f25ddf1ca32deb57a2b4db43ccf6635c1edc74b9cff54ce0e5bcfe\\n\\nMITRE ATT&CK\\nData from Local System – T1005\\nModify Registry – T1112\\nQuery Registry – T1012\\nSystem Information Discovery – T1082\\nData Encrypted for Impact – T1486\\nFile Deletion – T1070.004\\nCommand and Scripting Interpreter: Windows Command Shell – T1059.003\\nWindows Management Instrumentation – T1047\\n']}),\n",
       "  420,\n",
       "  425)]"
      ]
     },
     "execution_count": 129,
     "metadata": {},
     "output_type": "execute_result"
    }
   ],
   "source": [
    "seq(expr.addParseAction(lambda s, l, t: s).scanString(text)).to_list()"
   ]
  },
  {
   "cell_type": "code",
   "execution_count": null,
   "id": "f552380e-06d8-405f-89e6-ba83fda9ae43",
   "metadata": {},
   "outputs": [],
   "source": []
  },
  {
   "cell_type": "code",
   "execution_count": 105,
   "id": "fea04960-728d-488b-aafc-f72fd978c164",
   "metadata": {},
   "outputs": [],
   "source": [
    "from pyparsing import Keyword, CaselessKeyword"
   ]
  },
  {
   "cell_type": "code",
   "execution_count": 106,
   "id": "c6b3ae58-87fe-4252-9e04-b0cd19d04b14",
   "metadata": {},
   "outputs": [],
   "source": [
    "parser = CaselessKeyword(feed_box.indicators[1].indicator).setResultsName(\n",
    "    feed_box.indicators[1].type\n",
    ")"
   ]
  },
  {
   "cell_type": "code",
   "execution_count": 107,
   "id": "0a27e58b-9eb6-440f-beee-1c45dd33b37e",
   "metadata": {},
   "outputs": [
    {
     "data": {
      "text/plain": [
       "[((['501487b025f25ddf1ca32deb57a2b4db43ccf6635c1edc74b9cff54ce0e5bcfe'], {'FileHash-SHA256': ['501487b025f25ddf1ca32deb57a2b4db43ccf6635c1edc74b9cff54ce0e5bcfe']}),\n",
       "  17,\n",
       "  81)]"
      ]
     },
     "execution_count": 107,
     "metadata": {},
     "output_type": "execute_result"
    }
   ],
   "source": [
    "list(\n",
    "    parser.scanString(\n",
    "        \"FileHash-SHA256: 501487b025f25ddf1ca32deb57a2b4db43ccf6635c1edc74b9cff54ce0e5bcfe\"\n",
    "    )\n",
    ")"
   ]
  },
  {
   "cell_type": "code",
   "execution_count": 80,
   "id": "2c046861-1ba4-4c70-b23a-9ef481bda0e0",
   "metadata": {},
   "outputs": [],
   "source": [
    "from magpie.src.entity import filehash_sha256"
   ]
  },
  {
   "cell_type": "code",
   "execution_count": 83,
   "id": "ea032fc7-f992-4b41-a6d0-6421ab8bd8d7",
   "metadata": {},
   "outputs": [
    {
     "data": {
      "text/plain": [
       "<generator object ParserElement.scanString at 0x1141c1bf8>"
      ]
     },
     "execution_count": 83,
     "metadata": {},
     "output_type": "execute_result"
    }
   ],
   "source": [
    "filehash_sha256.expr.scanString(\n",
    "    \"FileHash-SHA256: 501487b025f25ddf1ca32deb57a2b4db43ccf6635c1edc74b9cff54ce0e5bcfe\"\n",
    ")"
   ]
  },
  {
   "cell_type": "code",
   "execution_count": 84,
   "id": "e215fe3b-c8c5-49ec-9fb4-8708c9250b8e",
   "metadata": {},
   "outputs": [
    {
     "data": {
      "text/plain": [
       "[((['501487b025f25ddf1ca32deb57a2b4db43ccf6635c1edc74b9cff54ce0e5bcfe'], {}),\n",
       "  17,\n",
       "  81)]"
      ]
     },
     "execution_count": 84,
     "metadata": {},
     "output_type": "execute_result"
    }
   ],
   "source": [
    "list(\n",
    "    filehash_sha256.expr.scanString(\n",
    "        \"FileHash-SHA256: 501487b025f25ddf1ca32deb57a2b4db43ccf6635c1edc74b9cff54ce0e5bcfe\"\n",
    "    )\n",
    ")"
   ]
  },
  {
   "cell_type": "code",
   "execution_count": 86,
   "id": "f88a0411-2a92-4a54-957d-21be694ad87d",
   "metadata": {},
   "outputs": [
    {
     "data": {
      "text/plain": [
       "[((['501487b025f25ddf1ca32deb57a2b4db43ccf6635c1edc74b9cff54ce0e5bcfe'], {'FileHash-SHA256': ['501487b025f25ddf1ca32deb57a2b4db43ccf6635c1edc74b9cff54ce0e5bcfe']}),\n",
       "  17,\n",
       "  81)]"
      ]
     },
     "execution_count": 86,
     "metadata": {},
     "output_type": "execute_result"
    }
   ],
   "source": [
    "list(\n",
    "    filehash_sha256.parser.scanString(\n",
    "        \"FileHash-SHA256: 501487b025f25ddf1ca32deb57a2b4db43ccf6635c1edc74b9cff54ce0e5bcfe\"\n",
    "    )\n",
    ")"
   ]
  },
  {
   "cell_type": "code",
   "execution_count": null,
   "id": "5fd6a09b-fb7c-47fb-b59b-badeadff5fef",
   "metadata": {},
   "outputs": [],
   "source": []
  },
  {
   "cell_type": "markdown",
   "id": "06914ce6-2e73-42ff-b8e2-d02c73e8ad6a",
   "metadata": {},
   "source": [
    "---"
   ]
  },
  {
   "cell_type": "code",
   "execution_count": 66,
   "id": "a311ce39-f8a0-42b6-90bf-0b6f5f88d544",
   "metadata": {},
   "outputs": [
    {
     "data": {
      "text/plain": [
       "['more_indicators', 'extract_source', 'industries', 'references', 'attack_ids', 'malware_families', 'targeted_countries', 'tags', 'indicators', 'adversary', 'public', 'tlp', 'revision', 'created', 'modified', 'author_name', 'description', 'name', 'id']"
      ]
     },
     "execution_count": 66,
     "metadata": {},
     "output_type": "execute_result"
    }
   ],
   "source": [
    "seq(feed_box.__reversed__())"
   ]
  },
  {
   "cell_type": "code",
   "execution_count": 69,
   "id": "9bd8a0b0-bfce-4c53-9ec1-5e50e1b83aa5",
   "metadata": {},
   "outputs": [
    {
     "data": {
      "text/plain": [
       "<Box: {'id': '6047944bd5bd6b6f323e59fa', 'name': 'HelloKitty Ransomware Lacks Stealth, But Still Strikes Home', 'description': 'HelloKitty is a ransomware family that emerged in late 2020. While it lacks the sophistication of some of the more well-known families such as Ryuk, REvil, and Conti, it has nevertheless struck some notable targets, including CEMIG0. In this post, Sentinel Labs analyzes a recent HelloKitty sample and outlines the basic behaviors and traits associated with this family of ransomware.', 'author_name': 'AlienVault', 'modified': '2021-03-09T15:29:14.999000', 'created': '2021-03-09T15:29:14.999000', 'revision': 1, 'tlp': 'white', 'public': 1, 'adversary': '', 'indicators': [{'id': 2892282605, 'indicator': '136bd70f7aa98f52861879d7dca03cf2', 'type': 'FileHash-MD5', 'created': '2021-03-09T15:29:16', 'content': '', 'title': 'Ransom:Win32/Death.DB!MTB', 'description': 'MD5 of fadd8d7c13a18c251ded1f645ffea18a37f1c2de', 'expiration': None, 'is_active': 1, 'role': None}, {'id': 2892282606, 'indicator': '501487b025f25ddf1ca32deb57a2b4db43ccf6635c1edc74b9cff54ce0e5bcfe', 'type': 'FileHash-SHA256', 'created': '2021-03-09T15:29:16', 'content': '', 'title': 'Ransom:Win32/Death.DB!MTB', 'description': 'SHA256 of fadd8d7c13a18c251ded1f645ffea18a37f1c2de', 'expiration': None, 'is_active': 1, 'role': None}, {'id': 2892282607, 'indicator': 'fadd8d7c13a18c251ded1f645ffea18a37f1c2de', 'type': 'FileHash-SHA1', 'created': '2021-03-09T15:29:16', 'content': '', 'title': 'Ransom:Win32/Death.DB!MTB', 'description': '', 'expiration': None, 'is_active': 1, 'role': None}, {'id': 2892282608, 'indicator': '6x7dp6h3w6q3ugjv4yv5gycj3femb24kysgry5b44hhgfwc5ml5qrdad.onion', 'type': 'domain', 'created': '2021-03-09T15:29:16', 'content': '', 'title': '', 'description': '', 'expiration': None, 'is_active': 1, 'role': None}], 'tags': ['HelloKitty', 'Ransomware'], 'targeted_countries': [], 'malware_families': ['HelloKitty Ransomware', 'Win32:HelloKitty', 'Ransom.HelloKitty'], 'attack_ids': ['T1005', 'T1012', 'T1047', 'T1082', 'T1112', 'T1486', 'T1059.003', 'T1070.004'], 'references': ['https://labs.sentinelone.com/hellokitty-ransomware-lacks-stealth-but-still-strikes-home/'], 'industries': [], 'extract_source': [], 'more_indicators': False}>"
      ]
     },
     "execution_count": 69,
     "metadata": {},
     "output_type": "execute_result"
    }
   ],
   "source": [
    "feed_box"
   ]
  },
  {
   "cell_type": "code",
   "execution_count": 58,
   "id": "b3de0e09-4943-4842-8d3b-c3d683896886",
   "metadata": {},
   "outputs": [
    {
     "name": "stdout",
     "output_type": "stream",
     "text": [
      "------------------  --------------------------------------------------------------------------------------------------------------------------------------------------------------------------------------------------------------------------------------------------------------------------------------------------------------------------------------------------------------------------------------------------------------------------------------------------------------------------------------------------------------------------------------------------------------------------------------------------------------------------------------------------------------------------------------------------------------------------------------------------------------------------------------------------------------------------------------------------------------------------------------------------------------------------------------------------------------------------------------------------------------------------------------------------------------------------------------------------------------------------------------------------------------------------------\n",
      "id                  6047944bd5bd6b6f323e59fa\n",
      "name                HelloKitty Ransomware Lacks Stealth, But Still Strikes Home\n",
      "description         HelloKitty is a ransomware family that emerged in late 2020. While it lacks the sophistication of some of the more well-known families such as Ryuk, REvil, and Conti, it has nevertheless struck some notable targets, including CEMIG0. In this post, Sentinel Labs analyzes a recent HelloKitty sample and outlines the basic behaviors and traits associated with this family of ransomware.\n",
      "author_name         AlienVault\n",
      "modified            2021-03-09T15:29:14.999000\n",
      "created             2021-03-09T15:29:14.999000\n",
      "revision            1\n",
      "tlp                 white\n",
      "public              1\n",
      "adversary\n",
      "indicators          [{'id': 2892282605, 'indicator': '136bd70f7aa98f52861879d7dca03cf2', 'type': 'FileHash-MD5', 'created': '2021-03-09T15:29:16', 'content': '', 'title': 'Ransom:Win32/Death.DB!MTB', 'description': 'MD5 of fadd8d7c13a18c251ded1f645ffea18a37f1c2de', 'expiration': None, 'is_active': 1, 'role': None}, {'id': 2892282606, 'indicator': '501487b025f25ddf1ca32deb57a2b4db43ccf6635c1edc74b9cff54ce0e5bcfe', 'type': 'FileHash-SHA256', 'created': '2021-03-09T15:29:16', 'content': '', 'title': 'Ransom:Win32/Death.DB!MTB', 'description': 'SHA256 of fadd8d7c13a18c251ded1f645ffea18a37f1c2de', 'expiration': None, 'is_active': 1, 'role': None}, {'id': 2892282607, 'indicator': 'fadd8d7c13a18c251ded1f645ffea18a37f1c2de', 'type': 'FileHash-SHA1', 'created': '2021-03-09T15:29:16', 'content': '', 'title': 'Ransom:Win32/Death.DB!MTB', 'description': '', 'expiration': None, 'is_active': 1, 'role': None}, {'id': 2892282608, 'indicator': '6x7dp6h3w6q3ugjv4yv5gycj3femb24kysgry5b44hhgfwc5ml5qrdad.onion', 'type': 'domain', 'created': '2021-03-09T15:29:16', 'content': '', 'title': '', 'description': '', 'expiration': None, 'is_active': 1, 'role': None}]\n",
      "tags                ['HelloKitty', 'Ransomware']\n",
      "targeted_countries  []\n",
      "malware_families    ['HelloKitty Ransomware', 'Win32:HelloKitty', 'Ransom.HelloKitty']\n",
      "attack_ids          ['T1005', 'T1012', 'T1047', 'T1082', 'T1112', 'T1486', 'T1059.003', 'T1070.004']\n",
      "references          ['https://labs.sentinelone.com/hellokitty-ransomware-lacks-stealth-but-still-strikes-home/']\n",
      "industries          []\n",
      "extract_source      []\n",
      "more_indicators     False\n",
      "------------------  --------------------------------------------------------------------------------------------------------------------------------------------------------------------------------------------------------------------------------------------------------------------------------------------------------------------------------------------------------------------------------------------------------------------------------------------------------------------------------------------------------------------------------------------------------------------------------------------------------------------------------------------------------------------------------------------------------------------------------------------------------------------------------------------------------------------------------------------------------------------------------------------------------------------------------------------------------------------------------------------------------------------------------------------------------------------------------------------------------------------------------------------------------------------------------\n"
     ]
    }
   ],
   "source": [
    "seq(feed_box.items()).show(20)"
   ]
  },
  {
   "cell_type": "markdown",
   "id": "7e2c2421-c47c-470a-86e7-1d13d4f27bad",
   "metadata": {},
   "source": [
    "---"
   ]
  },
  {
   "cell_type": "code",
   "execution_count": 34,
   "id": "9e555e1e-7e20-4c07-b0db-2ef365dbe23b",
   "metadata": {},
   "outputs": [
    {
     "data": {
      "text/html": [
       "<table>\n",
       "<tbody>\n",
       "<tr><td>Game studio CD Projekt Red recently                                                                                                                                                                                                                                                                                                                                                </td><td>&lt;Element p at 0x10ef91f88&gt; </td></tr>\n",
       "<tr><td>                                                                                                                                                                                                                                                                                                                                                                                   </td><td>&lt;Element p at 0x10ef91f88&gt; </td></tr>\n",
       "<tr><td>disclosed                                                                                                                                                                                                                                                                                                                                                                          </td><td>&lt;Element a at 0x10ef91608&gt; </td></tr>\n",
       "<tr><td>that it became a victim of a targeted, highly-impactful ransomware. In the days following the disclosure, it was revealed that the ransomware family most likely behind the attack was “HelloKitty”.                                                                                                                                                                               </td><td>&lt;Element a at 0x10ef91608&gt; </td></tr>\n",
       "<tr><td>HelloKitty is a ransomware family that emerged in late 2020. While it lacks the sophistication of some of the more well-known families such as Ryuk, REvil, and Conti, it has nevertheless struck some notable targets, including CEMIG0. In this post, we analyse a recent HelloKitty sample and outline the basic behaviors and traits associated with this family of ransomware.</td><td>&lt;Element p at 0x10ef91808&gt; </td></tr>\n",
       "<tr><td>                                                                                                                                                                                                                                                                                                                                                                                   </td><td>&lt;Element p at 0x10ef91808&gt; </td></tr>\n",
       "<tr><td>Execution and Behavior                                                                                                                                                                                                                                                                                                                                                             </td><td>&lt;Element h2 at 0x10ef91948&gt;</td></tr>\n",
       "<tr><td>                                                                                                                                                                                                                                                                                                                                                                                   </td><td>&lt;Element h2 at 0x10ef91948&gt;</td></tr>\n",
       "<tr><td>The “HelloKitty” name is based on internal mutex names, which are apparent upon execution.                                                                                                                                                                                                                                                                                         </td><td>&lt;Element p at 0x10ef918c8&gt; </td></tr>\n",
       "<tr><td>                                                                                                                                                                                                                                                                                                                                                                                   </td><td>&lt;Element p at 0x10ef918c8&gt; </td></tr>\n",
       "</tbody>\n",
       "</table><p>Showing 10 of 108 rows"
      ],
      "text/plain": [
       "[('Game studio CD Projekt Red recently ', <Element p at 0x10ef91f88>), ('\\n', <Element p at 0x10ef91f88>), ('disclosed', <Element a at 0x10ef91608>), (' that it became a victim of a targeted, highly-impactful ransomware. In the days following the disclosure, it was revealed that the ransomware family most likely behind the attack was “HelloKitty”.', <Element a at 0x10ef91608>), ('HelloKitty is a ransomware family that emerged in late 2020. While it lacks the sophistication of some of the more well-known families such as Ryuk, REvil, and Conti, it has nevertheless struck some notable targets, including CEMIG0. In this post, we analyse a recent HelloKitty sample and outline the basic behaviors and traits associated with this family of ransomware.', <Element p at 0x10ef91808>), ('\\n', <Element p at 0x10ef91808>), ('Execution and Behavior', <Element h2 at 0x10ef91948>), ('\\n', <Element h2 at 0x10ef91948>), ('The “HelloKitty” name is based on internal mutex names, which are apparent upon execution.', <Element p at 0x10ef918c8>), ('\\n', <Element p at 0x10ef918c8>), ('While still somewhat unclear, current intelligence indicates that the primary delivery method of HelloKitty binaries is via phish email or via secondary infection in conjunction with other malware.', <Element p at 0x10ef91148>), ('\\n', <Element p at 0x10ef91148>), ('Once launched, HelloKitty will attempt to disable and terminate a number of processes and services so as to reduce interference with the encryption process. This includes processes and services associated with IIS, MSSQL, Quickbooks, Sharepoint, and more. These actions are carried out via ', <Element p at 0x10ef91248>), ('\\n', <Element p at 0x10ef91248>), ('taskkill.exe', <Element code at 0x10ef91048>), (' and ', <Element code at 0x10ef91048>), ('net.exe', <Element code at 0x10ef910c8>), ('.', <Element code at 0x10ef910c8>), ('In the analyzed sample, this is all done in a very non-stealthy manner. All spawned CMD windows are in the foreground and fully visible. This ‘lack of discreteness’ is atypical for modern ransomware, or any successful malware, for that matter.', <Element p at 0x10ef91108>), ('\\n', <Element p at 0x10ef91108>), ('A full list of processes from the analyzed sample are listed below:', <Element p at 0x10ef8de48>), ('\\n', <Element p at 0x10ef8de48>), ('\\ndsa*\\nNtrtsca\\nds_moni\\nNotifie\\nTmListe\\niVPAgen\\nCNTAoSM\\nIBM*\\nbes10*\\nblack*\\nrobo*\\ncopy*\\nstore.e\\nsql*\\nvee*\\nwrsa*\\nwrsa.ex\\npostg*\\nsage*\\nMSSQLServerADHelper100\\nMSSQL$ISARS\\nMSSQL$MSFW\\nSQLAgent$ISARS\\nSQLAgent$MSFW\\nSQLBrowser\\nReportServer$ISARS\\nSQLWriter\\nWinDefend\\nmr2kserv\\nMSExchangeADTopology\\nMSExchangeFBA\\nMSExchangeIS\\nMSExchangeSA\\nShadowProtectSvc\\nSPAdminV4\\nSPTimerV4\\nSPTraceV4\\nSPUserCodeV4\\nSPWriterV4\\nSPSearch4\\nIISADMIN\\nfirebirdguardiandefaultinstance\\nibmiasrw\\nQBCFMonitorService\\nQBVSS\\nQBPOSDBServiceV12\\n\"IBM Domino Server(CProgramFilesIBMDominodata)\"\\n\"IBM Domino Diagnostics(CProgramFilesIBMDomino)\"\\n\"Simply Accounting Database Connection Manager\"\\nQuickBooksDB1\\nQuickBooksDB2\\nQuickBooksDB3\\nQuickBooksDB4\\nQuickBooksDB5\\nQuickBooksDB6\\nQuickBooksDB7\\nQuickBooksDB8\\nQuickBooksDB9\\nQuickBooksDB10\\nQuickBooksDB11\\nQuickBooksDB12\\nQuickBooksDB13\\nQuickBooksDB14\\nQuickBooksDB15\\nQuickBooksDB16\\nQuickBooksDB17\\nQuickBooksDB18\\nQuickBooksDB19\\nQuickBooksDB20\\nQuickBooksDB21\\nQuickBooksDB22\\nQuickBooksDB23\\nQuickBooksDB24\\nQuickBooksDB25\\n', <Element pre at 0x10ef8d548>), ('\\n', <Element pre at 0x10ef8d548>), ('Additional processes and services that are terminated are identified via PID. For example:', <Element p at 0x10ef8d8c8>), ('\\n', <Element p at 0x10ef8d8c8>), ('taskkill.exe /f /PID \"8512\"', <Element code at 0x10ef8d908>), (None, <Element code at 0x10ef8d908>), ('taskkill.exe /f /PID \"8656\"', <Element code at 0x10ef8d248>), (None, <Element code at 0x10ef8d248>), ('If HelloKitty is unable to stop any specific processes or services, it will leverage the Windows Restart Manager API to further assist in termination.', <Element p at 0x10ef8db88>), ('\\n', <Element p at 0x10ef8db88>), ('HelloKitty will also utilize WMI to gather system details and help identify running processes and any potentially problematic processes. This is done both by name and by PID. A number of examples are shown below:', <Element p at 0x10ef8d9c8>), ('\\n', <Element p at 0x10ef8d9c8>), ('\\nstart iwbemservices::execquery - root\\\\cimv2 : select __path, processid, csname, caption, sessionid, threadcount, workingsetsize, kernelmodetime, usermodetime, parentprocessid from win32_process\\n\\nstart iwbemservices::execquery - root\\\\cimv2 : select __path, processid, csname, caption, sessionid, threadcount, workingsetsize, kernelmodetime, usermodetime, parentprocessid from win32_process where (  caption = \"store.exe\")\\n\\nstart iwbemservices::execquery - root\\\\cimv2 : select __path, processid, csname, caption, sessionid, threadcount, workingsetsize, kernelmodetime, usermodetime, parentprocessid from win32_process where (  caption = \"wrsa.exe\")\\n\\nstart iwbemservices::execquery - root\\\\cimv2 : select __path, processid, csname, caption, sessionid, threadcount, workingsetsize, kernelmodetime, usermodetime, parentprocessid from win32_process where (  processid = 3036)\\n\\nstart iwbemservices::execquery - root\\\\cimv2 : select __path, processid, csname, caption, sessionid, threadcount, workingsetsize, kernelmodetime, usermodetime, parentprocessid from win32_process where (  processid = 4460)\\n\\nstart iwbemservices::execquery - root\\\\cimv2 : select __path, processid, csname, caption, sessionid, threadcount, workingsetsize, kernelmodetime, usermodetime, parentprocessid from win32_process where (  processid = 3052)\\n\\nstart iwbemservices::execquery - root\\\\cimv2 : select __path, processid, csname, caption, sessionid, threadcount, workingsetsize, kernelmodetime, usermodetime, parentprocessid from win32_process where (  processid = 4476)\\n\\nstart iwbemservices::execquery - root\\\\cimv2 : select __path, processid, csname, caption, sessionid, threadcount, workingsetsize, kernelmodetime, usermodetime, parentprocessid from win32_process where (  processid = 1560)\\n\\nstart iwbemservices::execquery - root\\\\cimv2 : select __path, processid, csname, caption, sessionid, threadcount, workingsetsize, kernelmodetime, usermodetime, parentprocessid from win32_process where (  processid = 8124)\\n\\nstart iwbemservices::exe\\n', <Element pre at 0x10ef8d6c8>), ('\\n', <Element pre at 0x10ef8d6c8>), ('Encryption and Ransom Note', <Element h2 at 0x10ef8d808>), ('\\n', <Element h2 at 0x10ef8d808>), ('Encryption is initiated and completed very quickly once applicable services and processes have been terminated. Specific encryption recipes and routines can vary across variants of HelloKitty. Generally speaking, they tend to use a combination of AES-256 & RSA-2048 or even NTRU+AES-128.', <Element p at 0x10ef8d848>), ('\\n', <Element p at 0x10ef8d848>), ('Once encrypted, affected files receive the ', <Element p at 0x10ef89588>), ('\\n', <Element p at 0x10ef89588>), ('.crypted', <Element code at 0x10ef894c8>), (' extension.', <Element code at 0x10ef894c8>), ('Ransom notes are typically customized to directly reference the victim and victim’s environment. Victims are instructed to visit a TOR-based payment and support portal. The following example has been sanitized:', <Element p at 0x10ef89fc8>), ('\\n', <Element p at 0x10ef89fc8>), ('It is also important to note that as of this writing, the onion address associated with HelloKitty ransom notes is not active.', <Element p at 0x10ef89988>), ('\\n', <Element p at 0x10ef89988>), ('6x7dp6h3w6q3ugjv4yv5gycj3femb24kysgry5b44hhgfwc5ml5qrdad.onion', <Element code at 0x10ef89388>), (None, <Element code at 0x10ef89388>), ('Conclusion', <Element h2 at 0x10ef89748>), ('\\n', <Element h2 at 0x10ef89748>), ('HelloKitty may be easier to spot than other modern ransomware families, but upon execution it is no less dangerous. There are currently no known ‘weaknesses’ in the encryption routines, and there are no thirdy-party decrypters available for the HelloKitty ransomware. Therefore, the only true defense is prevention. While this family does not appear to be actively leaking victim data at the moment, that could change at any point, in addition to them choosing to adopt some of the more recent extortion methods that go along with ransomware (DDoS).', <Element p at 0x10ef89c88>), ('\\n', <Element p at 0x10ef89c88>), ('Actors behind the more recent campaign(s) are reportedly attempting to auction the CD Projekt data off in various ‘underground’ forums. At present this sale of this data does appear to be legitimate. Time will tell if additional victim data is dealt with in the same way.', <Element p at 0x10ef89148>), ('\\n', <Element p at 0x10ef89148>), ('To protect yourself against HelloKitty, make sure you are armed with a modern Endpoint Security platform, which is configured correctly and up to date. The SentinelOne Singularity Platform is fully capable of preventing and detecting all malicious behaviors associated with the HelloKitty ransomware family.', <Element p at 0x10ef89d08>), ('\\n', <Element p at 0x10ef89d08>), ('IOCs', <Element h2 at 0x10ef89d48>), ('\\n', <Element h2 at 0x10ef89d48>), ('SHA1', <Element strong at 0x10ef892c8>), (None, <Element strong at 0x10ef892c8>), (None, <Element br at 0x10ef89088>), ('\\nfadd8d7c13a18c251ded1f645ffea18a37f1c2de', <Element br at 0x10ef89088>), ('SHA256', <Element strong at 0x10ef893c8>), (None, <Element strong at 0x10ef893c8>), (None, <Element br at 0x10ef89188>), ('\\n501487b025f25ddf1ca32deb57a2b4db43ccf6635c1edc74b9cff54ce0e5bcfe', <Element br at 0x10ef89188>), ('MITRE ATT&CK', <Element strong at 0x10ef93ec8>), (None, <Element strong at 0x10ef93ec8>), (None, <Element br at 0x10ef93a08>), ('\\nData from Local System – ', <Element br at 0x10ef93a08>), ('T1005', <Element a at 0x10ef93148>), (None, <Element a at 0x10ef93148>), (None, <Element br at 0x10ef93d08>), ('\\nModify Registry – ', <Element br at 0x10ef93d08>), ('T1112', <Element a at 0x10ef93d48>), (None, <Element a at 0x10ef93d48>), (None, <Element br at 0x10ef93088>), ('\\nQuery Registry – ', <Element br at 0x10ef93088>), ('T1012', <Element a at 0x10ef80108>), (None, <Element a at 0x10ef80108>), (None, <Element br at 0x10ef80148>), ('\\nSystem Information Discovery – ', <Element br at 0x10ef80148>), ('T1082', <Element a at 0x10ef80048>), (None, <Element a at 0x10ef80048>), (None, <Element br at 0x10ef80288>), ('\\nData Encrypted for Impact – ', <Element br at 0x10ef80288>), ('T1486', <Element a at 0x10ef80188>), (None, <Element a at 0x10ef80188>), (None, <Element br at 0x10ef80f48>), ('\\nFile Deletion – ', <Element br at 0x10ef80f48>), ('T1070.004', <Element a at 0x10edd0cc8>), (None, <Element a at 0x10edd0cc8>), (None, <Element br at 0x10edd0a88>), ('\\nCommand and Scripting Interpreter: Windows Command Shell – ', <Element br at 0x10edd0a88>), ('T1059.003', <Element a at 0x10edd05c8>), (None, <Element a at 0x10edd05c8>), (None, <Element br at 0x10edd0408>), ('\\nWindows Management Instrumentation – ', <Element br at 0x10edd0408>), ...]"
      ]
     },
     "execution_count": 34,
     "metadata": {},
     "output_type": "execute_result"
    }
   ],
   "source": [
    "a.article_contents.map(\n",
    "    lambda element: [(element.text, element), (element.tail, element)]\n",
    ").flatten()"
   ]
  },
  {
   "cell_type": "code",
   "execution_count": 6,
   "id": "fdfe06ed-5129-43e7-b1b0-d9f1e6818119",
   "metadata": {},
   "outputs": [],
   "source": [
    "class ArticleAnalyzer(object):\n",
    "\n",
    "    ArticlePart = namedtuple(\"ArticlePart\", [\"xpath\", \"tag\"])\n",
    "\n",
    "    def __init__(self, document):\n",
    "        self.document = Document(document, xpath=True)\n",
    "\n",
    "    @staticmethod\n",
    "    def has_printable_content(element):\n",
    "        # check element.text and element.tail is not None and contral char (\\n\\t\\r)\n",
    "        def check(content):\n",
    "            if content is not None:\n",
    "                return content.isspace()\n",
    "            else:\n",
    "                return True\n",
    "\n",
    "        result = not all((check(element.text), check(element.tail)))\n",
    "        return result\n",
    "\n",
    "    @staticmethod\n",
    "    def has_printable_tag(element):\n",
    "        # check element.tag is not script (javascript) or style (css)\n",
    "        result = element.tag not in [\"script\", \"style\"]\n",
    "        return result\n",
    "\n",
    "    @property\n",
    "    def article_parts(self):\n",
    "        cleaned_text = self.document.summary()\n",
    "        all_elements = self.get_elements(cleaned_text, \"//*\")\n",
    "        parts = (\n",
    "            seq(all_elements)\n",
    "            .filter(lambda element: self.has_printable_content(element))\n",
    "            .filter(lambda element: self.has_printable_tag(element))\n",
    "            .map(lambda element: self.ArticlePart(element.get(\"x\"), element.tag))\n",
    "        )\n",
    "        return parts.to_list()\n",
    "\n",
    "    @staticmethod\n",
    "    def get_elements(text, xpath):\n",
    "        root = etree.HTML(text)\n",
    "        elements = root.xpath(xpath)\n",
    "        return elements\n",
    "\n",
    "    @property\n",
    "    def utils(self):\n",
    "        # self.document.title(): original title\n",
    "        # self.document.short_title(): shorter title\n",
    "        # self.document.input: original input\n",
    "        # self.document.content(): document body\n",
    "        # self.document.summary(): cleaned content\n",
    "        # analyzer.get_root(analyzer.raw_html)\n",
    "        # analyzer.get_root(analyzer.document.summary())\n",
    "        pass"
   ]
  },
  {
   "cell_type": "code",
   "execution_count": 7,
   "id": "705fa1dc-eff9-463f-be9a-1b5cf776aa80",
   "metadata": {},
   "outputs": [],
   "source": [
    "aa = ArticleAnalyzer(data)"
   ]
  },
  {
   "cell_type": "code",
   "execution_count": 8,
   "id": "1d9f3856-c76c-4338-bac5-42f2385bc0c6",
   "metadata": {},
   "outputs": [
    {
     "data": {
      "text/plain": [
       "[ArticlePart(xpath='/html/body/div[1]/div/div[2]/div/div/div/div[1]/article/div/section/section/p[1]', tag='p'),\n",
       " ArticlePart(xpath='/html/body/div[1]/div/div[2]/div/div/div/div[1]/article/div/section/section/p[1]/a', tag='a'),\n",
       " ArticlePart(xpath='/html/body/div[1]/div/div[2]/div/div/div/div[1]/article/div/section/section/p[3]', tag='p')]"
      ]
     },
     "execution_count": 8,
     "metadata": {},
     "output_type": "execute_result"
    }
   ],
   "source": [
    "aa.article_parts[:3]"
   ]
  },
  {
   "cell_type": "code",
   "execution_count": 232,
   "id": "3fafb2de-6b53-4738-b5fe-f46c23142420",
   "metadata": {},
   "outputs": [],
   "source": [
    "class ContentExtactor(ArticleAnalyzer):\n",
    "\n",
    "    Content = namedtuple(\"Content\", [\"prop\", \"text\"])\n",
    "\n",
    "    def __init__(self, document):\n",
    "        super().__init__(document)\n",
    "\n",
    "    @property\n",
    "    def part_contents(self):\n",
    "        \n",
    "        # get elements from raw document\n",
    "        raw_text = self.document.input\n",
    "        elements = (\n",
    "            seq(self.article_parts)\n",
    "            .map(lambda part: self.get_elements(raw_text, part.xpath))\n",
    "            .flatten()\n",
    "        )\n",
    "        \"\"\"\n",
    "        contents = seq(cleaned_elements).map(\n",
    "            lambda element: [\n",
    "                self.Content(\"text\", element.text),\n",
    "                self.Content(\"tail\", element.tail),\n",
    "            ],\n",
    "        )\n",
    "        return contents.to_list()\n",
    "        \"\"\"\n",
    "        return elements"
   ]
  },
  {
   "cell_type": "code",
   "execution_count": 233,
   "id": "631e0fb1-fefe-405a-a2e1-8cfc78a55247",
   "metadata": {},
   "outputs": [],
   "source": [
    "ce = ContentExtactor(data)"
   ]
  },
  {
   "cell_type": "code",
   "execution_count": 235,
   "id": "1ad23513-3479-40fc-94af-31171f8fbac1",
   "metadata": {},
   "outputs": [
    {
     "data": {
      "text/plain": [
       "[<Element p at 0x111705f48>,\n",
       " <Element a at 0x111705648>,\n",
       " <Element p at 0x111803ac8>,\n",
       " <Element h2 at 0x111803188>,\n",
       " <Element p at 0x111803308>,\n",
       " <Element p at 0x1116e7f48>,\n",
       " <Element p at 0x1116e7488>,\n",
       " <Element code at 0x1116e2f08>,\n",
       " <Element code at 0x1116e2108>,\n",
       " <Element p at 0x1116e2288>,\n",
       " <Element p at 0x111754dc8>,\n",
       " <Element pre at 0x1117d3308>,\n",
       " <Element p at 0x1117d3708>,\n",
       " <Element code at 0x1117d3788>,\n",
       " <Element code at 0x1117d38c8>,\n",
       " <Element p at 0x1117d3088>,\n",
       " <Element p at 0x11180bb88>,\n",
       " <Element pre at 0x11180bd48>,\n",
       " <Element h2 at 0x11180b9c8>,\n",
       " <Element p at 0x11180b7c8>,\n",
       " <Element p at 0x11180bd08>,\n",
       " <Element code at 0x11180bdc8>,\n",
       " <Element p at 0x11180bac8>,\n",
       " <Element p at 0x11180bf48>,\n",
       " <Element code at 0x11180bf08>,\n",
       " <Element h2 at 0x11180bf88>,\n",
       " <Element p at 0x11180f3c8>,\n",
       " <Element p at 0x11180f2c8>,\n",
       " <Element p at 0x11180f048>,\n",
       " <Element h2 at 0x11180f088>,\n",
       " <Element strong at 0x11180f0c8>,\n",
       " <Element br at 0x11180f108>,\n",
       " <Element strong at 0x11180f188>,\n",
       " <Element br at 0x11180f1c8>,\n",
       " <Element strong at 0x11180f408>,\n",
       " <Element br at 0x11180f488>,\n",
       " <Element a at 0x11180f588>,\n",
       " <Element br at 0x11180f5c8>,\n",
       " <Element a at 0x11180f688>,\n",
       " <Element br at 0x11180f748>,\n",
       " <Element a at 0x11180f808>,\n",
       " <Element br at 0x11180f848>,\n",
       " <Element a at 0x11180f8c8>,\n",
       " <Element br at 0x11180f948>,\n",
       " <Element a at 0x11180f988>,\n",
       " <Element br at 0x11180f9c8>,\n",
       " <Element a at 0x11180fa08>,\n",
       " <Element br at 0x11180fa48>,\n",
       " <Element a at 0x11180fa88>,\n",
       " <Element br at 0x11180fac8>,\n",
       " <Element a at 0x11180fb48>,\n",
       " <Element span at 0x11180fc08>,\n",
       " <Element span at 0x11180fd08>,\n",
       " <Element a at 0x11180fdc8>]"
      ]
     },
     "execution_count": 235,
     "metadata": {},
     "output_type": "execute_result"
    }
   ],
   "source": [
    "ce.part_contents.to_list()"
   ]
  },
  {
   "cell_type": "code",
   "execution_count": null,
   "id": "4378ae43-e43a-4f39-b108-60a66092452d",
   "metadata": {},
   "outputs": [],
   "source": []
  },
  {
   "cell_type": "code",
   "execution_count": 231,
   "id": "6182a4b8-7b7c-4965-ba26-6c4e691067d3",
   "metadata": {},
   "outputs": [
    {
     "data": {
      "text/html": [
       "<table>\n",
       "<thead>\n",
       "<tr><th>prop  </th><th>text                                                                                                                                                                                                                                                                                                                                                                               </th></tr>\n",
       "</thead>\n",
       "<tbody>\n",
       "<tr><td>text  </td><td>Game studio CD Projekt Red recently                                                                                                                                                                                                                                                                                                                                                </td></tr>\n",
       "<tr><td>tail  </td><td>                                                                                                                                                                                                                                                                                                                                                                                   </td></tr>\n",
       "<tr><td>text  </td><td>disclosed                                                                                                                                                                                                                                                                                                                                                                          </td></tr>\n",
       "<tr><td>tail  </td><td>that it became a victim of a targeted, highly-impactful ransomware. In the days following the disclosure, it was revealed that the ransomware family most likely behind the attack was “HelloKitty”.                                                                                                                                                                               </td></tr>\n",
       "<tr><td>text  </td><td>HelloKitty is a ransomware family that emerged in late 2020. While it lacks the sophistication of some of the more well-known families such as Ryuk, REvil, and Conti, it has nevertheless struck some notable targets, including CEMIG0. In this post, we analyse a recent HelloKitty sample and outline the basic behaviors and traits associated with this family of ransomware.</td></tr>\n",
       "<tr><td>tail  </td><td>                                                                                                                                                                                                                                                                                                                                                                                   </td></tr>\n",
       "<tr><td>text  </td><td>Execution and Behavior                                                                                                                                                                                                                                                                                                                                                             </td></tr>\n",
       "<tr><td>tail  </td><td>                                                                                                                                                                                                                                                                                                                                                                                   </td></tr>\n",
       "<tr><td>text  </td><td>The “HelloKitty” name is based on internal mutex names, which are apparent upon execution.                                                                                                                                                                                                                                                                                         </td></tr>\n",
       "<tr><td>tail  </td><td>                                                                                                                                                                                                                                                                                                                                                                                   </td></tr>\n",
       "</tbody>\n",
       "</table><p>Showing 10 of 108 rows"
      ],
      "text/plain": [
       "[Content(prop='text', text='Game studio CD Projekt Red recently '), Content(prop='tail', text='\\n'), Content(prop='text', text='disclosed'), Content(prop='tail', text=' that it became a victim of a targeted, highly-impactful ransomware. In the days following the disclosure, it was revealed that the ransomware family most likely behind the attack was “HelloKitty”.'), Content(prop='text', text='HelloKitty is a ransomware family that emerged in late 2020. While it lacks the sophistication of some of the more well-known families such as Ryuk, REvil, and Conti, it has nevertheless struck some notable targets, including CEMIG0. In this post, we analyse a recent HelloKitty sample and outline the basic behaviors and traits associated with this family of ransomware.'), Content(prop='tail', text='\\n'), Content(prop='text', text='Execution and Behavior'), Content(prop='tail', text='\\n'), Content(prop='text', text='The “HelloKitty” name is based on internal mutex names, which are apparent upon execution.'), Content(prop='tail', text='\\n'), Content(prop='text', text='While still somewhat unclear, current intelligence indicates that the primary delivery method of HelloKitty binaries is via phish email or via secondary infection in conjunction with other malware.'), Content(prop='tail', text='\\n'), Content(prop='text', text='Once launched, HelloKitty will attempt to disable and terminate a number of processes and services so as to reduce interference with the encryption process. This includes processes and services associated with IIS, MSSQL, Quickbooks, Sharepoint, and more. These actions are carried out via '), Content(prop='tail', text='\\n'), Content(prop='text', text='taskkill.exe'), Content(prop='tail', text=' and '), Content(prop='text', text='net.exe'), Content(prop='tail', text='.'), Content(prop='text', text='In the analyzed sample, this is all done in a very non-stealthy manner. All spawned CMD windows are in the foreground and fully visible. This ‘lack of discreteness’ is atypical for modern ransomware, or any successful malware, for that matter.'), Content(prop='tail', text='\\n'), Content(prop='text', text='A full list of processes from the analyzed sample are listed below:'), Content(prop='tail', text='\\n'), Content(prop='text', text='\\ndsa*\\nNtrtsca\\nds_moni\\nNotifie\\nTmListe\\niVPAgen\\nCNTAoSM\\nIBM*\\nbes10*\\nblack*\\nrobo*\\ncopy*\\nstore.e\\nsql*\\nvee*\\nwrsa*\\nwrsa.ex\\npostg*\\nsage*\\nMSSQLServerADHelper100\\nMSSQL$ISARS\\nMSSQL$MSFW\\nSQLAgent$ISARS\\nSQLAgent$MSFW\\nSQLBrowser\\nReportServer$ISARS\\nSQLWriter\\nWinDefend\\nmr2kserv\\nMSExchangeADTopology\\nMSExchangeFBA\\nMSExchangeIS\\nMSExchangeSA\\nShadowProtectSvc\\nSPAdminV4\\nSPTimerV4\\nSPTraceV4\\nSPUserCodeV4\\nSPWriterV4\\nSPSearch4\\nIISADMIN\\nfirebirdguardiandefaultinstance\\nibmiasrw\\nQBCFMonitorService\\nQBVSS\\nQBPOSDBServiceV12\\n\"IBM Domino Server(CProgramFilesIBMDominodata)\"\\n\"IBM Domino Diagnostics(CProgramFilesIBMDomino)\"\\n\"Simply Accounting Database Connection Manager\"\\nQuickBooksDB1\\nQuickBooksDB2\\nQuickBooksDB3\\nQuickBooksDB4\\nQuickBooksDB5\\nQuickBooksDB6\\nQuickBooksDB7\\nQuickBooksDB8\\nQuickBooksDB9\\nQuickBooksDB10\\nQuickBooksDB11\\nQuickBooksDB12\\nQuickBooksDB13\\nQuickBooksDB14\\nQuickBooksDB15\\nQuickBooksDB16\\nQuickBooksDB17\\nQuickBooksDB18\\nQuickBooksDB19\\nQuickBooksDB20\\nQuickBooksDB21\\nQuickBooksDB22\\nQuickBooksDB23\\nQuickBooksDB24\\nQuickBooksDB25\\n'), Content(prop='tail', text='\\n'), Content(prop='text', text='Additional processes and services that are terminated are identified via PID. For example:'), Content(prop='tail', text='\\n'), Content(prop='text', text='taskkill.exe /f /PID \"8512\"'), Content(prop='tail', text=None), Content(prop='text', text='taskkill.exe /f /PID \"8656\"'), Content(prop='tail', text=None), Content(prop='text', text='If HelloKitty is unable to stop any specific processes or services, it will leverage the Windows Restart Manager API to further assist in termination.'), Content(prop='tail', text='\\n'), Content(prop='text', text='HelloKitty will also utilize WMI to gather system details and help identify running processes and any potentially problematic processes. This is done both by name and by PID. A number of examples are shown below:'), Content(prop='tail', text='\\n'), Content(prop='text', text='\\nstart iwbemservices::execquery - root\\\\cimv2 : select __path, processid, csname, caption, sessionid, threadcount, workingsetsize, kernelmodetime, usermodetime, parentprocessid from win32_process\\n\\nstart iwbemservices::execquery - root\\\\cimv2 : select __path, processid, csname, caption, sessionid, threadcount, workingsetsize, kernelmodetime, usermodetime, parentprocessid from win32_process where (  caption = \"store.exe\")\\n\\nstart iwbemservices::execquery - root\\\\cimv2 : select __path, processid, csname, caption, sessionid, threadcount, workingsetsize, kernelmodetime, usermodetime, parentprocessid from win32_process where (  caption = \"wrsa.exe\")\\n\\nstart iwbemservices::execquery - root\\\\cimv2 : select __path, processid, csname, caption, sessionid, threadcount, workingsetsize, kernelmodetime, usermodetime, parentprocessid from win32_process where (  processid = 3036)\\n\\nstart iwbemservices::execquery - root\\\\cimv2 : select __path, processid, csname, caption, sessionid, threadcount, workingsetsize, kernelmodetime, usermodetime, parentprocessid from win32_process where (  processid = 4460)\\n\\nstart iwbemservices::execquery - root\\\\cimv2 : select __path, processid, csname, caption, sessionid, threadcount, workingsetsize, kernelmodetime, usermodetime, parentprocessid from win32_process where (  processid = 3052)\\n\\nstart iwbemservices::execquery - root\\\\cimv2 : select __path, processid, csname, caption, sessionid, threadcount, workingsetsize, kernelmodetime, usermodetime, parentprocessid from win32_process where (  processid = 4476)\\n\\nstart iwbemservices::execquery - root\\\\cimv2 : select __path, processid, csname, caption, sessionid, threadcount, workingsetsize, kernelmodetime, usermodetime, parentprocessid from win32_process where (  processid = 1560)\\n\\nstart iwbemservices::execquery - root\\\\cimv2 : select __path, processid, csname, caption, sessionid, threadcount, workingsetsize, kernelmodetime, usermodetime, parentprocessid from win32_process where (  processid = 8124)\\n\\nstart iwbemservices::exe\\n'), Content(prop='tail', text='\\n'), Content(prop='text', text='Encryption and Ransom Note'), Content(prop='tail', text='\\n'), Content(prop='text', text='Encryption is initiated and completed very quickly once applicable services and processes have been terminated. Specific encryption recipes and routines can vary across variants of HelloKitty. Generally speaking, they tend to use a combination of AES-256 & RSA-2048 or even NTRU+AES-128.'), Content(prop='tail', text='\\n'), Content(prop='text', text='Once encrypted, affected files receive the '), Content(prop='tail', text='\\n'), Content(prop='text', text='.crypted'), Content(prop='tail', text=' extension.'), Content(prop='text', text='Ransom notes are typically customized to directly reference the victim and victim’s environment. Victims are instructed to visit a TOR-based payment and support portal. The following example has been sanitized:'), Content(prop='tail', text='\\n'), Content(prop='text', text='It is also important to note that as of this writing, the onion address associated with HelloKitty ransom notes is not active.'), Content(prop='tail', text='\\n'), Content(prop='text', text='6x7dp6h3w6q3ugjv4yv5gycj3femb24kysgry5b44hhgfwc5ml5qrdad.onion'), Content(prop='tail', text=None), Content(prop='text', text='Conclusion'), Content(prop='tail', text='\\n'), Content(prop='text', text='HelloKitty may be easier to spot than other modern ransomware families, but upon execution it is no less dangerous. There are currently no known ‘weaknesses’ in the encryption routines, and there are no thirdy-party decrypters available for the HelloKitty ransomware. Therefore, the only true defense is prevention. While this family does not appear to be actively leaking victim data at the moment, that could change at any point, in addition to them choosing to adopt some of the more recent extortion methods that go along with ransomware (DDoS).'), Content(prop='tail', text='\\n'), Content(prop='text', text='Actors behind the more recent campaign(s) are reportedly attempting to auction the CD Projekt data off in various ‘underground’ forums. At present this sale of this data does appear to be legitimate. Time will tell if additional victim data is dealt with in the same way.'), Content(prop='tail', text='\\n'), Content(prop='text', text='To protect yourself against HelloKitty, make sure you are armed with a modern Endpoint Security platform, which is configured correctly and up to date. The SentinelOne Singularity Platform is fully capable of preventing and detecting all malicious behaviors associated with the HelloKitty ransomware family.'), Content(prop='tail', text='\\n'), Content(prop='text', text='IOCs'), Content(prop='tail', text='\\n'), Content(prop='text', text='SHA1'), Content(prop='tail', text=None), Content(prop='text', text=None), Content(prop='tail', text='\\nfadd8d7c13a18c251ded1f645ffea18a37f1c2de'), Content(prop='text', text='SHA256'), Content(prop='tail', text=None), Content(prop='text', text=None), Content(prop='tail', text='\\n501487b025f25ddf1ca32deb57a2b4db43ccf6635c1edc74b9cff54ce0e5bcfe'), Content(prop='text', text='MITRE ATT&CK'), Content(prop='tail', text=None), Content(prop='text', text=None), Content(prop='tail', text='\\nData from Local System – '), Content(prop='text', text='T1005'), Content(prop='tail', text=None), Content(prop='text', text=None), Content(prop='tail', text='\\nModify Registry – '), Content(prop='text', text='T1112'), Content(prop='tail', text=None), Content(prop='text', text=None), Content(prop='tail', text='\\nQuery Registry – '), Content(prop='text', text='T1012'), Content(prop='tail', text=None), Content(prop='text', text=None), Content(prop='tail', text='\\nSystem Information Discovery – '), Content(prop='text', text='T1082'), Content(prop='tail', text=None), Content(prop='text', text=None), Content(prop='tail', text='\\nData Encrypted for Impact – '), Content(prop='text', text='T1486'), Content(prop='tail', text=None), Content(prop='text', text=None), Content(prop='tail', text='\\nFile Deletion – '), Content(prop='text', text='T1070.004'), Content(prop='tail', text=None), Content(prop='text', text=None), Content(prop='tail', text='\\nCommand and Scripting Interpreter: Windows Command Shell – '), Content(prop='text', text='T1059.003'), Content(prop='tail', text=None), Content(prop='text', text=None), Content(prop='tail', text='\\nWindows Management Instrumentation – '), ...]"
      ]
     },
     "execution_count": 231,
     "metadata": {},
     "output_type": "execute_result"
    }
   ],
   "source": [
    "seq(ce.part_contents).flatten().map(lambda "
   ]
  },
  {
   "cell_type": "code",
   "execution_count": null,
   "id": "a57b81db-263d-4941-872e-186753fdc491",
   "metadata": {},
   "outputs": [],
   "source": [
    "seq(ce.article_parts).map(lambda part: product([part], "
   ]
  },
  {
   "cell_type": "code",
   "execution_count": 228,
   "id": "fac2df06-163c-42a8-9817-3c6c9a8f8023",
   "metadata": {},
   "outputs": [
    {
     "data": {
      "text/html": [
       "<table>\n",
       "<tbody>\n",
       "<tr><td>ArticlePart(xpath=&#x27;/html/body/div[1]/div/div[2]/div/div/div/div[1]/article/div/section/section/p[1]&#x27;, tag=&#x27;p&#x27;)  </td><td>Content(prop=&#x27;text&#x27;, text=&#x27;Game studio CD Projekt Red recently &#x27;)                                                                                                                                                                                                                                                                                                                                               </td></tr>\n",
       "<tr><td>ArticlePart(xpath=&#x27;/html/body/div[1]/div/div[2]/div/div/div/div[1]/article/div/section/section/p[1]&#x27;, tag=&#x27;p&#x27;)  </td><td>Content(prop=&#x27;tail&#x27;, text=&#x27;\\n&#x27;)                                                                                                                                                                                                                                                                                                                                                                                 </td></tr>\n",
       "<tr><td>ArticlePart(xpath=&#x27;/html/body/div[1]/div/div[2]/div/div/div/div[1]/article/div/section/section/p[1]/a&#x27;, tag=&#x27;a&#x27;)</td><td>Content(prop=&#x27;text&#x27;, text=&#x27;disclosed&#x27;)                                                                                                                                                                                                                                                                                                                                                                          </td></tr>\n",
       "<tr><td>ArticlePart(xpath=&#x27;/html/body/div[1]/div/div[2]/div/div/div/div[1]/article/div/section/section/p[1]/a&#x27;, tag=&#x27;a&#x27;)</td><td>Content(prop=&#x27;tail&#x27;, text=&#x27; that it became a victim of a targeted, highly-impactful ransomware. In the days following the disclosure, it was revealed that the ransomware family most likely behind the attack was “HelloKitty”.&#x27;)                                                                                                                                                                              </td></tr>\n",
       "<tr><td>ArticlePart(xpath=&#x27;/html/body/div[1]/div/div[2]/div/div/div/div[1]/article/div/section/section/p[3]&#x27;, tag=&#x27;p&#x27;)  </td><td>Content(prop=&#x27;text&#x27;, text=&#x27;HelloKitty is a ransomware family that emerged in late 2020. While it lacks the sophistication of some of the more well-known families such as Ryuk, REvil, and Conti, it has nevertheless struck some notable targets, including CEMIG0. In this post, we analyse a recent HelloKitty sample and outline the basic behaviors and traits associated with this family of ransomware.&#x27;)</td></tr>\n",
       "<tr><td>ArticlePart(xpath=&#x27;/html/body/div[1]/div/div[2]/div/div/div/div[1]/article/div/section/section/p[3]&#x27;, tag=&#x27;p&#x27;)  </td><td>Content(prop=&#x27;tail&#x27;, text=&#x27;\\n&#x27;)                                                                                                                                                                                                                                                                                                                                                                                 </td></tr>\n",
       "<tr><td>ArticlePart(xpath=&#x27;/html/body/div[1]/div/div[2]/div/div/div/div[1]/article/div/section/section/h2[1]&#x27;, tag=&#x27;h2&#x27;)</td><td>Content(prop=&#x27;text&#x27;, text=&#x27;Execution and Behavior&#x27;)                                                                                                                                                                                                                                                                                                                                                             </td></tr>\n",
       "<tr><td>ArticlePart(xpath=&#x27;/html/body/div[1]/div/div[2]/div/div/div/div[1]/article/div/section/section/h2[1]&#x27;, tag=&#x27;h2&#x27;)</td><td>Content(prop=&#x27;tail&#x27;, text=&#x27;\\n&#x27;)                                                                                                                                                                                                                                                                                                                                                                                 </td></tr>\n",
       "<tr><td>ArticlePart(xpath=&#x27;/html/body/div[1]/div/div[2]/div/div/div/div[1]/article/div/section/section/p[4]&#x27;, tag=&#x27;p&#x27;)  </td><td>Content(prop=&#x27;text&#x27;, text=&#x27;The “HelloKitty” name is based on internal mutex names, which are apparent upon execution.&#x27;)                                                                                                                                                                                                                                                                                         </td></tr>\n",
       "<tr><td>ArticlePart(xpath=&#x27;/html/body/div[1]/div/div[2]/div/div/div/div[1]/article/div/section/section/p[4]&#x27;, tag=&#x27;p&#x27;)  </td><td>Content(prop=&#x27;tail&#x27;, text=&#x27;\\n&#x27;)                                                                                                                                                                                                                                                                                                                                                                                 </td></tr>\n",
       "</tbody>\n",
       "</table><p>Showing 10 of 108 rows"
      ],
      "text/plain": [
       "[(ArticlePart(xpath='/html/body/div[1]/div/div[2]/div/div/div/div[1]/article/div/section/section/p[1]', tag='p'), Content(prop='text', text='Game studio CD Projekt Red recently ')), (ArticlePart(xpath='/html/body/div[1]/div/div[2]/div/div/div/div[1]/article/div/section/section/p[1]', tag='p'), Content(prop='tail', text='\\n')), (ArticlePart(xpath='/html/body/div[1]/div/div[2]/div/div/div/div[1]/article/div/section/section/p[1]/a', tag='a'), Content(prop='text', text='disclosed')), (ArticlePart(xpath='/html/body/div[1]/div/div[2]/div/div/div/div[1]/article/div/section/section/p[1]/a', tag='a'), Content(prop='tail', text=' that it became a victim of a targeted, highly-impactful ransomware. In the days following the disclosure, it was revealed that the ransomware family most likely behind the attack was “HelloKitty”.')), (ArticlePart(xpath='/html/body/div[1]/div/div[2]/div/div/div/div[1]/article/div/section/section/p[3]', tag='p'), Content(prop='text', text='HelloKitty is a ransomware family that emerged in late 2020. While it lacks the sophistication of some of the more well-known families such as Ryuk, REvil, and Conti, it has nevertheless struck some notable targets, including CEMIG0. In this post, we analyse a recent HelloKitty sample and outline the basic behaviors and traits associated with this family of ransomware.')), (ArticlePart(xpath='/html/body/div[1]/div/div[2]/div/div/div/div[1]/article/div/section/section/p[3]', tag='p'), Content(prop='tail', text='\\n')), (ArticlePart(xpath='/html/body/div[1]/div/div[2]/div/div/div/div[1]/article/div/section/section/h2[1]', tag='h2'), Content(prop='text', text='Execution and Behavior')), (ArticlePart(xpath='/html/body/div[1]/div/div[2]/div/div/div/div[1]/article/div/section/section/h2[1]', tag='h2'), Content(prop='tail', text='\\n')), (ArticlePart(xpath='/html/body/div[1]/div/div[2]/div/div/div/div[1]/article/div/section/section/p[4]', tag='p'), Content(prop='text', text='The “HelloKitty” name is based on internal mutex names, which are apparent upon execution.')), (ArticlePart(xpath='/html/body/div[1]/div/div[2]/div/div/div/div[1]/article/div/section/section/p[4]', tag='p'), Content(prop='tail', text='\\n')), (ArticlePart(xpath='/html/body/div[1]/div/div[2]/div/div/div/div[1]/article/div/section/section/p[6]', tag='p'), Content(prop='text', text='While still somewhat unclear, current intelligence indicates that the primary delivery method of HelloKitty binaries is via phish email or via secondary infection in conjunction with other malware.')), (ArticlePart(xpath='/html/body/div[1]/div/div[2]/div/div/div/div[1]/article/div/section/section/p[6]', tag='p'), Content(prop='tail', text='\\n')), (ArticlePart(xpath='/html/body/div[1]/div/div[2]/div/div/div/div[1]/article/div/section/section/p[7]', tag='p'), Content(prop='text', text='Once launched, HelloKitty will attempt to disable and terminate a number of processes and services so as to reduce interference with the encryption process. This includes processes and services associated with IIS, MSSQL, Quickbooks, Sharepoint, and more. These actions are carried out via ')), (ArticlePart(xpath='/html/body/div[1]/div/div[2]/div/div/div/div[1]/article/div/section/section/p[7]', tag='p'), Content(prop='tail', text='\\n')), (ArticlePart(xpath='/html/body/div[1]/div/div[2]/div/div/div/div[1]/article/div/section/section/p[7]/code[1]', tag='code'), Content(prop='text', text='taskkill.exe')), (ArticlePart(xpath='/html/body/div[1]/div/div[2]/div/div/div/div[1]/article/div/section/section/p[7]/code[1]', tag='code'), Content(prop='tail', text=' and ')), (ArticlePart(xpath='/html/body/div[1]/div/div[2]/div/div/div/div[1]/article/div/section/section/p[7]/code[2]', tag='code'), Content(prop='text', text='net.exe')), (ArticlePart(xpath='/html/body/div[1]/div/div[2]/div/div/div/div[1]/article/div/section/section/p[7]/code[2]', tag='code'), Content(prop='tail', text='.')), (ArticlePart(xpath='/html/body/div[1]/div/div[2]/div/div/div/div[1]/article/div/section/section/p[8]', tag='p'), Content(prop='text', text='In the analyzed sample, this is all done in a very non-stealthy manner. All spawned CMD windows are in the foreground and fully visible. This ‘lack of discreteness’ is atypical for modern ransomware, or any successful malware, for that matter.')), (ArticlePart(xpath='/html/body/div[1]/div/div[2]/div/div/div/div[1]/article/div/section/section/p[8]', tag='p'), Content(prop='tail', text='\\n')), (ArticlePart(xpath='/html/body/div[1]/div/div[2]/div/div/div/div[1]/article/div/section/section/p[10]', tag='p'), Content(prop='text', text='A full list of processes from the analyzed sample are listed below:')), (ArticlePart(xpath='/html/body/div[1]/div/div[2]/div/div/div/div[1]/article/div/section/section/p[10]', tag='p'), Content(prop='tail', text='\\n')), (ArticlePart(xpath='/html/body/div[1]/div/div[2]/div/div/div/div[1]/article/div/section/section/pre[1]', tag='pre'), Content(prop='text', text='\\ndsa*\\nNtrtsca\\nds_moni\\nNotifie\\nTmListe\\niVPAgen\\nCNTAoSM\\nIBM*\\nbes10*\\nblack*\\nrobo*\\ncopy*\\nstore.e\\nsql*\\nvee*\\nwrsa*\\nwrsa.ex\\npostg*\\nsage*\\nMSSQLServerADHelper100\\nMSSQL$ISARS\\nMSSQL$MSFW\\nSQLAgent$ISARS\\nSQLAgent$MSFW\\nSQLBrowser\\nReportServer$ISARS\\nSQLWriter\\nWinDefend\\nmr2kserv\\nMSExchangeADTopology\\nMSExchangeFBA\\nMSExchangeIS\\nMSExchangeSA\\nShadowProtectSvc\\nSPAdminV4\\nSPTimerV4\\nSPTraceV4\\nSPUserCodeV4\\nSPWriterV4\\nSPSearch4\\nIISADMIN\\nfirebirdguardiandefaultinstance\\nibmiasrw\\nQBCFMonitorService\\nQBVSS\\nQBPOSDBServiceV12\\n\"IBM Domino Server(CProgramFilesIBMDominodata)\"\\n\"IBM Domino Diagnostics(CProgramFilesIBMDomino)\"\\n\"Simply Accounting Database Connection Manager\"\\nQuickBooksDB1\\nQuickBooksDB2\\nQuickBooksDB3\\nQuickBooksDB4\\nQuickBooksDB5\\nQuickBooksDB6\\nQuickBooksDB7\\nQuickBooksDB8\\nQuickBooksDB9\\nQuickBooksDB10\\nQuickBooksDB11\\nQuickBooksDB12\\nQuickBooksDB13\\nQuickBooksDB14\\nQuickBooksDB15\\nQuickBooksDB16\\nQuickBooksDB17\\nQuickBooksDB18\\nQuickBooksDB19\\nQuickBooksDB20\\nQuickBooksDB21\\nQuickBooksDB22\\nQuickBooksDB23\\nQuickBooksDB24\\nQuickBooksDB25\\n')), (ArticlePart(xpath='/html/body/div[1]/div/div[2]/div/div/div/div[1]/article/div/section/section/pre[1]', tag='pre'), Content(prop='tail', text='\\n')), (ArticlePart(xpath='/html/body/div[1]/div/div[2]/div/div/div/div[1]/article/div/section/section/p[11]', tag='p'), Content(prop='text', text='Additional processes and services that are terminated are identified via PID. For example:')), (ArticlePart(xpath='/html/body/div[1]/div/div[2]/div/div/div/div[1]/article/div/section/section/p[11]', tag='p'), Content(prop='tail', text='\\n')), (ArticlePart(xpath='/html/body/div[1]/div/div[2]/div/div/div/div[1]/article/div/section/section/p[12]/code[1]', tag='code'), Content(prop='text', text='taskkill.exe /f /PID \"8512\"')), (ArticlePart(xpath='/html/body/div[1]/div/div[2]/div/div/div/div[1]/article/div/section/section/p[12]/code[1]', tag='code'), Content(prop='tail', text=None)), (ArticlePart(xpath='/html/body/div[1]/div/div[2]/div/div/div/div[1]/article/div/section/section/p[12]/code[2]', tag='code'), Content(prop='text', text='taskkill.exe /f /PID \"8656\"')), (ArticlePart(xpath='/html/body/div[1]/div/div[2]/div/div/div/div[1]/article/div/section/section/p[12]/code[2]', tag='code'), Content(prop='tail', text=None)), (ArticlePart(xpath='/html/body/div[1]/div/div[2]/div/div/div/div[1]/article/div/section/section/p[13]', tag='p'), Content(prop='text', text='If HelloKitty is unable to stop any specific processes or services, it will leverage the Windows Restart Manager API to further assist in termination.')), (ArticlePart(xpath='/html/body/div[1]/div/div[2]/div/div/div/div[1]/article/div/section/section/p[13]', tag='p'), Content(prop='tail', text='\\n')), (ArticlePart(xpath='/html/body/div[1]/div/div[2]/div/div/div/div[1]/article/div/section/section/p[15]', tag='p'), Content(prop='text', text='HelloKitty will also utilize WMI to gather system details and help identify running processes and any potentially problematic processes. This is done both by name and by PID. A number of examples are shown below:')), (ArticlePart(xpath='/html/body/div[1]/div/div[2]/div/div/div/div[1]/article/div/section/section/p[15]', tag='p'), Content(prop='tail', text='\\n')), (ArticlePart(xpath='/html/body/div[1]/div/div[2]/div/div/div/div[1]/article/div/section/section/pre[2]', tag='pre'), Content(prop='text', text='\\nstart iwbemservices::execquery - root\\\\cimv2 : select __path, processid, csname, caption, sessionid, threadcount, workingsetsize, kernelmodetime, usermodetime, parentprocessid from win32_process\\n\\nstart iwbemservices::execquery - root\\\\cimv2 : select __path, processid, csname, caption, sessionid, threadcount, workingsetsize, kernelmodetime, usermodetime, parentprocessid from win32_process where (  caption = \"store.exe\")\\n\\nstart iwbemservices::execquery - root\\\\cimv2 : select __path, processid, csname, caption, sessionid, threadcount, workingsetsize, kernelmodetime, usermodetime, parentprocessid from win32_process where (  caption = \"wrsa.exe\")\\n\\nstart iwbemservices::execquery - root\\\\cimv2 : select __path, processid, csname, caption, sessionid, threadcount, workingsetsize, kernelmodetime, usermodetime, parentprocessid from win32_process where (  processid = 3036)\\n\\nstart iwbemservices::execquery - root\\\\cimv2 : select __path, processid, csname, caption, sessionid, threadcount, workingsetsize, kernelmodetime, usermodetime, parentprocessid from win32_process where (  processid = 4460)\\n\\nstart iwbemservices::execquery - root\\\\cimv2 : select __path, processid, csname, caption, sessionid, threadcount, workingsetsize, kernelmodetime, usermodetime, parentprocessid from win32_process where (  processid = 3052)\\n\\nstart iwbemservices::execquery - root\\\\cimv2 : select __path, processid, csname, caption, sessionid, threadcount, workingsetsize, kernelmodetime, usermodetime, parentprocessid from win32_process where (  processid = 4476)\\n\\nstart iwbemservices::execquery - root\\\\cimv2 : select __path, processid, csname, caption, sessionid, threadcount, workingsetsize, kernelmodetime, usermodetime, parentprocessid from win32_process where (  processid = 1560)\\n\\nstart iwbemservices::execquery - root\\\\cimv2 : select __path, processid, csname, caption, sessionid, threadcount, workingsetsize, kernelmodetime, usermodetime, parentprocessid from win32_process where (  processid = 8124)\\n\\nstart iwbemservices::exe\\n')), (ArticlePart(xpath='/html/body/div[1]/div/div[2]/div/div/div/div[1]/article/div/section/section/pre[2]', tag='pre'), Content(prop='tail', text='\\n')), (ArticlePart(xpath='/html/body/div[1]/div/div[2]/div/div/div/div[1]/article/div/section/section/h2[2]', tag='h2'), Content(prop='text', text='Encryption and Ransom Note')), (ArticlePart(xpath='/html/body/div[1]/div/div[2]/div/div/div/div[1]/article/div/section/section/h2[2]', tag='h2'), Content(prop='tail', text='\\n')), (ArticlePart(xpath='/html/body/div[1]/div/div[2]/div/div/div/div[1]/article/div/section/section/p[16]', tag='p'), Content(prop='text', text='Encryption is initiated and completed very quickly once applicable services and processes have been terminated. Specific encryption recipes and routines can vary across variants of HelloKitty. Generally speaking, they tend to use a combination of AES-256 & RSA-2048 or even NTRU+AES-128.')), (ArticlePart(xpath='/html/body/div[1]/div/div[2]/div/div/div/div[1]/article/div/section/section/p[16]', tag='p'), Content(prop='tail', text='\\n')), (ArticlePart(xpath='/html/body/div[1]/div/div[2]/div/div/div/div[1]/article/div/section/section/p[17]', tag='p'), Content(prop='text', text='Once encrypted, affected files receive the ')), (ArticlePart(xpath='/html/body/div[1]/div/div[2]/div/div/div/div[1]/article/div/section/section/p[17]', tag='p'), Content(prop='tail', text='\\n')), (ArticlePart(xpath='/html/body/div[1]/div/div[2]/div/div/div/div[1]/article/div/section/section/p[17]/code', tag='code'), Content(prop='text', text='.crypted')), (ArticlePart(xpath='/html/body/div[1]/div/div[2]/div/div/div/div[1]/article/div/section/section/p[17]/code', tag='code'), Content(prop='tail', text=' extension.')), (ArticlePart(xpath='/html/body/div[1]/div/div[2]/div/div/div/div[1]/article/div/section/section/p[19]', tag='p'), Content(prop='text', text='Ransom notes are typically customized to directly reference the victim and victim’s environment. Victims are instructed to visit a TOR-based payment and support portal. The following example has been sanitized:')), (ArticlePart(xpath='/html/body/div[1]/div/div[2]/div/div/div/div[1]/article/div/section/section/p[19]', tag='p'), Content(prop='tail', text='\\n')), (ArticlePart(xpath='/html/body/div[1]/div/div[2]/div/div/div/div[1]/article/div/section/section/p[21]', tag='p'), Content(prop='text', text='It is also important to note that as of this writing, the onion address associated with HelloKitty ransom notes is not active.')), (ArticlePart(xpath='/html/body/div[1]/div/div[2]/div/div/div/div[1]/article/div/section/section/p[21]', tag='p'), Content(prop='tail', text='\\n')), (ArticlePart(xpath='/html/body/div[1]/div/div[2]/div/div/div/div[1]/article/div/section/section/p[22]/code', tag='code'), Content(prop='text', text='6x7dp6h3w6q3ugjv4yv5gycj3femb24kysgry5b44hhgfwc5ml5qrdad.onion')), (ArticlePart(xpath='/html/body/div[1]/div/div[2]/div/div/div/div[1]/article/div/section/section/p[22]/code', tag='code'), Content(prop='tail', text=None)), (ArticlePart(xpath='/html/body/div[1]/div/div[2]/div/div/div/div[1]/article/div/section/section/h2[3]', tag='h2'), Content(prop='text', text='Conclusion')), (ArticlePart(xpath='/html/body/div[1]/div/div[2]/div/div/div/div[1]/article/div/section/section/h2[3]', tag='h2'), Content(prop='tail', text='\\n')), (ArticlePart(xpath='/html/body/div[1]/div/div[2]/div/div/div/div[1]/article/div/section/section/p[23]', tag='p'), Content(prop='text', text='HelloKitty may be easier to spot than other modern ransomware families, but upon execution it is no less dangerous. There are currently no known ‘weaknesses’ in the encryption routines, and there are no thirdy-party decrypters available for the HelloKitty ransomware. Therefore, the only true defense is prevention. While this family does not appear to be actively leaking victim data at the moment, that could change at any point, in addition to them choosing to adopt some of the more recent extortion methods that go along with ransomware (DDoS).')), (ArticlePart(xpath='/html/body/div[1]/div/div[2]/div/div/div/div[1]/article/div/section/section/p[23]', tag='p'), Content(prop='tail', text='\\n')), (ArticlePart(xpath='/html/body/div[1]/div/div[2]/div/div/div/div[1]/article/div/section/section/p[24]', tag='p'), Content(prop='text', text='Actors behind the more recent campaign(s) are reportedly attempting to auction the CD Projekt data off in various ‘underground’ forums. At present this sale of this data does appear to be legitimate. Time will tell if additional victim data is dealt with in the same way.')), (ArticlePart(xpath='/html/body/div[1]/div/div[2]/div/div/div/div[1]/article/div/section/section/p[24]', tag='p'), Content(prop='tail', text='\\n')), (ArticlePart(xpath='/html/body/div[1]/div/div[2]/div/div/div/div[1]/article/div/section/section/p[25]', tag='p'), Content(prop='text', text='To protect yourself against HelloKitty, make sure you are armed with a modern Endpoint Security platform, which is configured correctly and up to date. The SentinelOne Singularity Platform is fully capable of preventing and detecting all malicious behaviors associated with the HelloKitty ransomware family.')), (ArticlePart(xpath='/html/body/div[1]/div/div[2]/div/div/div/div[1]/article/div/section/section/p[25]', tag='p'), Content(prop='tail', text='\\n')), (ArticlePart(xpath='/html/body/div[1]/div/div[2]/div/div/div/div[1]/article/div/section/section/h2[4]', tag='h2'), Content(prop='text', text='IOCs')), (ArticlePart(xpath='/html/body/div[1]/div/div[2]/div/div/div/div[1]/article/div/section/section/h2[4]', tag='h2'), Content(prop='tail', text='\\n')), (ArticlePart(xpath='/html/body/div[1]/div/div[2]/div/div/div/div[1]/article/div/section/section/p[26]/strong', tag='strong'), Content(prop='text', text='SHA1')), (ArticlePart(xpath='/html/body/div[1]/div/div[2]/div/div/div/div[1]/article/div/section/section/p[26]/strong', tag='strong'), Content(prop='tail', text=None)), (ArticlePart(xpath='/html/body/div[1]/div/div[2]/div/div/div/div[1]/article/div/section/section/p[26]/br', tag='br'), Content(prop='text', text=None)), (ArticlePart(xpath='/html/body/div[1]/div/div[2]/div/div/div/div[1]/article/div/section/section/p[26]/br', tag='br'), Content(prop='tail', text='\\nfadd8d7c13a18c251ded1f645ffea18a37f1c2de')), (ArticlePart(xpath='/html/body/div[1]/div/div[2]/div/div/div/div[1]/article/div/section/section/p[27]/strong', tag='strong'), Content(prop='text', text='SHA256')), (ArticlePart(xpath='/html/body/div[1]/div/div[2]/div/div/div/div[1]/article/div/section/section/p[27]/strong', tag='strong'), Content(prop='tail', text=None)), (ArticlePart(xpath='/html/body/div[1]/div/div[2]/div/div/div/div[1]/article/div/section/section/p[27]/br', tag='br'), Content(prop='text', text=None)), (ArticlePart(xpath='/html/body/div[1]/div/div[2]/div/div/div/div[1]/article/div/section/section/p[27]/br', tag='br'), Content(prop='tail', text='\\n501487b025f25ddf1ca32deb57a2b4db43ccf6635c1edc74b9cff54ce0e5bcfe')), (ArticlePart(xpath='/html/body/div[1]/div/div[2]/div/div/div/div[1]/article/div/section/section/p[28]/strong', tag='strong'), Content(prop='text', text='MITRE ATT&CK')), (ArticlePart(xpath='/html/body/div[1]/div/div[2]/div/div/div/div[1]/article/div/section/section/p[28]/strong', tag='strong'), Content(prop='tail', text=None)), (ArticlePart(xpath='/html/body/div[1]/div/div[2]/div/div/div/div[1]/article/div/section/section/p[28]/br[1]', tag='br'), Content(prop='text', text=None)), (ArticlePart(xpath='/html/body/div[1]/div/div[2]/div/div/div/div[1]/article/div/section/section/p[28]/br[1]', tag='br'), Content(prop='tail', text='\\nData from Local System – ')), (ArticlePart(xpath='/html/body/div[1]/div/div[2]/div/div/div/div[1]/article/div/section/section/p[28]/a[1]', tag='a'), Content(prop='text', text='T1005')), (ArticlePart(xpath='/html/body/div[1]/div/div[2]/div/div/div/div[1]/article/div/section/section/p[28]/a[1]', tag='a'), Content(prop='tail', text=None)), (ArticlePart(xpath='/html/body/div[1]/div/div[2]/div/div/div/div[1]/article/div/section/section/p[28]/br[2]', tag='br'), Content(prop='text', text=None)), (ArticlePart(xpath='/html/body/div[1]/div/div[2]/div/div/div/div[1]/article/div/section/section/p[28]/br[2]', tag='br'), Content(prop='tail', text='\\nModify Registry – ')), (ArticlePart(xpath='/html/body/div[1]/div/div[2]/div/div/div/div[1]/article/div/section/section/p[28]/a[2]', tag='a'), Content(prop='text', text='T1112')), (ArticlePart(xpath='/html/body/div[1]/div/div[2]/div/div/div/div[1]/article/div/section/section/p[28]/a[2]', tag='a'), Content(prop='tail', text=None)), (ArticlePart(xpath='/html/body/div[1]/div/div[2]/div/div/div/div[1]/article/div/section/section/p[28]/br[3]', tag='br'), Content(prop='text', text=None)), (ArticlePart(xpath='/html/body/div[1]/div/div[2]/div/div/div/div[1]/article/div/section/section/p[28]/br[3]', tag='br'), Content(prop='tail', text='\\nQuery Registry – ')), (ArticlePart(xpath='/html/body/div[1]/div/div[2]/div/div/div/div[1]/article/div/section/section/p[28]/a[3]', tag='a'), Content(prop='text', text='T1012')), (ArticlePart(xpath='/html/body/div[1]/div/div[2]/div/div/div/div[1]/article/div/section/section/p[28]/a[3]', tag='a'), Content(prop='tail', text=None)), (ArticlePart(xpath='/html/body/div[1]/div/div[2]/div/div/div/div[1]/article/div/section/section/p[28]/br[4]', tag='br'), Content(prop='text', text=None)), (ArticlePart(xpath='/html/body/div[1]/div/div[2]/div/div/div/div[1]/article/div/section/section/p[28]/br[4]', tag='br'), Content(prop='tail', text='\\nSystem Information Discovery – ')), (ArticlePart(xpath='/html/body/div[1]/div/div[2]/div/div/div/div[1]/article/div/section/section/p[28]/a[4]', tag='a'), Content(prop='text', text='T1082')), (ArticlePart(xpath='/html/body/div[1]/div/div[2]/div/div/div/div[1]/article/div/section/section/p[28]/a[4]', tag='a'), Content(prop='tail', text=None)), (ArticlePart(xpath='/html/body/div[1]/div/div[2]/div/div/div/div[1]/article/div/section/section/p[28]/br[5]', tag='br'), Content(prop='text', text=None)), (ArticlePart(xpath='/html/body/div[1]/div/div[2]/div/div/div/div[1]/article/div/section/section/p[28]/br[5]', tag='br'), Content(prop='tail', text='\\nData Encrypted for Impact – ')), (ArticlePart(xpath='/html/body/div[1]/div/div[2]/div/div/div/div[1]/article/div/section/section/p[28]/a[5]', tag='a'), Content(prop='text', text='T1486')), (ArticlePart(xpath='/html/body/div[1]/div/div[2]/div/div/div/div[1]/article/div/section/section/p[28]/a[5]', tag='a'), Content(prop='tail', text=None)), (ArticlePart(xpath='/html/body/div[1]/div/div[2]/div/div/div/div[1]/article/div/section/section/p[28]/br[6]', tag='br'), Content(prop='text', text=None)), (ArticlePart(xpath='/html/body/div[1]/div/div[2]/div/div/div/div[1]/article/div/section/section/p[28]/br[6]', tag='br'), Content(prop='tail', text='\\nFile Deletion – ')), (ArticlePart(xpath='/html/body/div[1]/div/div[2]/div/div/div/div[1]/article/div/section/section/p[28]/a[6]', tag='a'), Content(prop='text', text='T1070.004')), (ArticlePart(xpath='/html/body/div[1]/div/div[2]/div/div/div/div[1]/article/div/section/section/p[28]/a[6]', tag='a'), Content(prop='tail', text=None)), (ArticlePart(xpath='/html/body/div[1]/div/div[2]/div/div/div/div[1]/article/div/section/section/p[28]/br[7]', tag='br'), Content(prop='text', text=None)), (ArticlePart(xpath='/html/body/div[1]/div/div[2]/div/div/div/div[1]/article/div/section/section/p[28]/br[7]', tag='br'), Content(prop='tail', text='\\nCommand and Scripting Interpreter: Windows Command Shell – ')), (ArticlePart(xpath='/html/body/div[1]/div/div[2]/div/div/div/div[1]/article/div/section/section/p[28]/a[7]', tag='a'), Content(prop='text', text='T1059.003')), (ArticlePart(xpath='/html/body/div[1]/div/div[2]/div/div/div/div[1]/article/div/section/section/p[28]/a[7]', tag='a'), Content(prop='tail', text=None)), (ArticlePart(xpath='/html/body/div[1]/div/div[2]/div/div/div/div[1]/article/div/section/section/p[28]/br[8]', tag='br'), Content(prop='text', text=None)), (ArticlePart(xpath='/html/body/div[1]/div/div[2]/div/div/div/div[1]/article/div/section/section/p[28]/br[8]', tag='br'), Content(prop='tail', text='\\nWindows Management Instrumentation – ')), ...]"
      ]
     },
     "execution_count": 228,
     "metadata": {},
     "output_type": "execute_result"
    }
   ],
   "source": [
    "seq(ce.article_parts).zip(ce.part_contents).starmap(\n",
    "    lambda part, contents: product([part], contents)\n",
    ").flatten()"
   ]
  },
  {
   "cell_type": "markdown",
   "id": "ce29f5a8-3127-4509-af7a-fc3685480db2",
   "metadata": {},
   "source": [
    "---"
   ]
  },
  {
   "cell_type": "code",
   "execution_count": 22,
   "id": "4b3a45cc-4c49-44ee-9dfe-c4ca7c98983a",
   "metadata": {},
   "outputs": [],
   "source": [
    "class DocumentAnalyzer(object):\n",
    "\n",
    "    Content = namedtuple(\"Content\", [\"xpath\", \"tag\", \"prop\", \"text\"])\n",
    "\n",
    "    def __init__(self, document):\n",
    "        self.document = Document(document, xpath=True)\n",
    "\n",
    "    @staticmethod\n",
    "    def has_printable_content(element):\n",
    "        # check element.text and element.tail is not None and contral char (\\n\\t\\r)\n",
    "        def check(content):\n",
    "            if content is not None:\n",
    "                return content.isspace()\n",
    "            else:\n",
    "                return True\n",
    "\n",
    "        result = not all((check(element.text), check(element.tail)))\n",
    "        return result\n",
    "\n",
    "    @staticmethod\n",
    "    def has_printable_tag(element):\n",
    "        # check element.tag is not script (javascript) or style (css)\n",
    "        result = element.tag not in [\"script\", \"style\"]\n",
    "        return result\n",
    "\n",
    "    def get_printable_elements(self):\n",
    "        cleaned_document = self.document.summary()\n",
    "        root = etree.HTML(cleaned_document)\n",
    "        elements = root.xpath(\"//*\")\n",
    "        printable_elements = (\n",
    "            seq(elements)\n",
    "            .filter(lambda element: self.has_printable_content(element))\n",
    "            .filter(lambda element: self.has_printable_tag(element))\n",
    "        )\n",
    "        return printable_elements.to_list()\n",
    "\n",
    "    def query_elements(xpath):\n",
    "        pass\n",
    "\n",
    "    @property\n",
    "    def utils(self):\n",
    "        # self.document.title(): original title\n",
    "        # self.document.short_title(): shorter title\n",
    "        # self.document.input: original input\n",
    "        # self.document.content(): document body\n",
    "        # self.document.summary(): cleaned content\n",
    "        # analyzer.get_root(analyzer.raw_html)\n",
    "        # analyzer.get_root(analyzer.document.summary())\n",
    "        pass\n",
    "\n",
    "    @property\n",
    "    def contents(self):\n",
    "        # elements' content\n",
    "        printable_elements = self.get_printable_elements()\n",
    "        # format element's content with namedtuple\n",
    "        contents = (\n",
    "            seq(printable_elements)\n",
    "            .map(\n",
    "                lambda element: [\n",
    "                    (element, \"text\", element.text),\n",
    "                    (element, \"tail\", element.tail),\n",
    "                ]\n",
    "            )\n",
    "            .flatten()\n",
    "            .starmap(\n",
    "                lambda element, prop, text: self.Content(\n",
    "                    # element.sourceline,\n",
    "                    element.attrib.get(\"x\"),\n",
    "                    element.tag,\n",
    "                    prop,\n",
    "                    text,\n",
    "                )\n",
    "            )\n",
    "        ).filter(lambda content: content.text is not None)\n",
    "\n",
    "        return contents.to_list()"
   ]
  },
  {
   "cell_type": "code",
   "execution_count": 23,
   "id": "aebc33f1-2e75-4337-b7e6-879b400b3cb2",
   "metadata": {},
   "outputs": [],
   "source": [
    "da = DocumentAnalyzer(data)"
   ]
  },
  {
   "cell_type": "code",
   "execution_count": 87,
   "id": "dca99d7f-816d-4d7b-88d7-dbed2d4c4240",
   "metadata": {},
   "outputs": [
    {
     "data": {
      "text/html": [
       "<table>\n",
       "<thead>\n",
       "<tr><th>xpath                                                                             </th><th>tag  </th><th>prop  </th><th>text                                                                                                                                                                                                                                                                                                                                                                               </th></tr>\n",
       "</thead>\n",
       "<tbody>\n",
       "<tr><td>/html/body/div[1]/div/div[2]/div/div/div/div[1]/article/div/section/section/p[1]  </td><td>p    </td><td>text  </td><td>Game studio CD Projekt Red recently                                                                                                                                                                                                                                                                                                                                                </td></tr>\n",
       "<tr><td>/html/body/div[1]/div/div[2]/div/div/div/div[1]/article/div/section/section/p[1]  </td><td>p    </td><td>tail  </td><td>                                                                                                                                                                                                                                                                                                                                                                                   </td></tr>\n",
       "<tr><td>/html/body/div[1]/div/div[2]/div/div/div/div[1]/article/div/section/section/p[1]/a</td><td>a    </td><td>text  </td><td>disclosed                                                                                                                                                                                                                                                                                                                                                                          </td></tr>\n",
       "<tr><td>/html/body/div[1]/div/div[2]/div/div/div/div[1]/article/div/section/section/p[1]/a</td><td>a    </td><td>tail  </td><td>that it became a victim of a targeted, highly-impactful ransomware. In the days following the disclosure, it was revealed that the ransomware family most likely behind the attack was “HelloKitty”.                                                                                                                                                                               </td></tr>\n",
       "<tr><td>/html/body/div[1]/div/div[2]/div/div/div/div[1]/article/div/section/section/p[3]  </td><td>p    </td><td>text  </td><td>HelloKitty is a ransomware family that emerged in late 2020. While it lacks the sophistication of some of the more well-known families such as Ryuk, REvil, and Conti, it has nevertheless struck some notable targets, including CEMIG0. In this post, we analyse a recent HelloKitty sample and outline the basic behaviors and traits associated with this family of ransomware.</td></tr>\n",
       "<tr><td>/html/body/div[1]/div/div[2]/div/div/div/div[1]/article/div/section/section/p[3]  </td><td>p    </td><td>tail  </td><td>                                                                                                                                                                                                                                                                                                                                                                                   </td></tr>\n",
       "<tr><td>/html/body/div[1]/div/div[2]/div/div/div/div[1]/article/div/section/section/h2[1] </td><td>h2   </td><td>text  </td><td>Execution and Behavior                                                                                                                                                                                                                                                                                                                                                             </td></tr>\n",
       "<tr><td>/html/body/div[1]/div/div[2]/div/div/div/div[1]/article/div/section/section/h2[1] </td><td>h2   </td><td>tail  </td><td>                                                                                                                                                                                                                                                                                                                                                                                   </td></tr>\n",
       "<tr><td>/html/body/div[1]/div/div[2]/div/div/div/div[1]/article/div/section/section/p[4]  </td><td>p    </td><td>text  </td><td>The “HelloKitty” name is based on internal mutex names, which are apparent upon execution.                                                                                                                                                                                                                                                                                         </td></tr>\n",
       "<tr><td>/html/body/div[1]/div/div[2]/div/div/div/div[1]/article/div/section/section/p[4]  </td><td>p    </td><td>tail  </td><td>                                                                                                                                                                                                                                                                                                                                                                                   </td></tr>\n",
       "</tbody>\n",
       "</table><p>Showing 10 of 84 rows"
      ],
      "text/plain": [
       "[Content(xpath='/html/body/div[1]/div/div[2]/div/div/div/div[1]/article/div/section/section/p[1]', tag='p', prop='text', text='Game studio CD Projekt Red recently '), Content(xpath='/html/body/div[1]/div/div[2]/div/div/div/div[1]/article/div/section/section/p[1]', tag='p', prop='tail', text='\\n'), Content(xpath='/html/body/div[1]/div/div[2]/div/div/div/div[1]/article/div/section/section/p[1]/a', tag='a', prop='text', text='disclosed'), Content(xpath='/html/body/div[1]/div/div[2]/div/div/div/div[1]/article/div/section/section/p[1]/a', tag='a', prop='tail', text=' that it became a victim of a targeted, highly-impactful ransomware. In the days following the disclosure, it was revealed that the ransomware family most likely behind the attack was “HelloKitty”.'), Content(xpath='/html/body/div[1]/div/div[2]/div/div/div/div[1]/article/div/section/section/p[3]', tag='p', prop='text', text='HelloKitty is a ransomware family that emerged in late 2020. While it lacks the sophistication of some of the more well-known families such as Ryuk, REvil, and Conti, it has nevertheless struck some notable targets, including CEMIG0. In this post, we analyse a recent HelloKitty sample and outline the basic behaviors and traits associated with this family of ransomware.'), Content(xpath='/html/body/div[1]/div/div[2]/div/div/div/div[1]/article/div/section/section/p[3]', tag='p', prop='tail', text='\\n'), Content(xpath='/html/body/div[1]/div/div[2]/div/div/div/div[1]/article/div/section/section/h2[1]', tag='h2', prop='text', text='Execution and Behavior'), Content(xpath='/html/body/div[1]/div/div[2]/div/div/div/div[1]/article/div/section/section/h2[1]', tag='h2', prop='tail', text='\\n'), Content(xpath='/html/body/div[1]/div/div[2]/div/div/div/div[1]/article/div/section/section/p[4]', tag='p', prop='text', text='The “HelloKitty” name is based on internal mutex names, which are apparent upon execution.'), Content(xpath='/html/body/div[1]/div/div[2]/div/div/div/div[1]/article/div/section/section/p[4]', tag='p', prop='tail', text='\\n'), Content(xpath='/html/body/div[1]/div/div[2]/div/div/div/div[1]/article/div/section/section/p[6]', tag='p', prop='text', text='While still somewhat unclear, current intelligence indicates that the primary delivery method of HelloKitty binaries is via phish email or via secondary infection in conjunction with other malware.'), Content(xpath='/html/body/div[1]/div/div[2]/div/div/div/div[1]/article/div/section/section/p[6]', tag='p', prop='tail', text='\\n'), Content(xpath='/html/body/div[1]/div/div[2]/div/div/div/div[1]/article/div/section/section/p[7]', tag='p', prop='text', text='Once launched, HelloKitty will attempt to disable and terminate a number of processes and services so as to reduce interference with the encryption process. This includes processes and services associated with IIS, MSSQL, Quickbooks, Sharepoint, and more. These actions are carried out via '), Content(xpath='/html/body/div[1]/div/div[2]/div/div/div/div[1]/article/div/section/section/p[7]', tag='p', prop='tail', text='\\n'), Content(xpath='/html/body/div[1]/div/div[2]/div/div/div/div[1]/article/div/section/section/p[7]/code[1]', tag='code', prop='text', text='taskkill.exe'), Content(xpath='/html/body/div[1]/div/div[2]/div/div/div/div[1]/article/div/section/section/p[7]/code[1]', tag='code', prop='tail', text=' and '), Content(xpath='/html/body/div[1]/div/div[2]/div/div/div/div[1]/article/div/section/section/p[7]/code[2]', tag='code', prop='text', text='net.exe'), Content(xpath='/html/body/div[1]/div/div[2]/div/div/div/div[1]/article/div/section/section/p[7]/code[2]', tag='code', prop='tail', text='.'), Content(xpath='/html/body/div[1]/div/div[2]/div/div/div/div[1]/article/div/section/section/p[8]', tag='p', prop='text', text='In the analyzed sample, this is all done in a very non-stealthy manner. All spawned CMD windows are in the foreground and fully visible. This ‘lack of discreteness’ is atypical for modern ransomware, or any successful malware, for that matter.'), Content(xpath='/html/body/div[1]/div/div[2]/div/div/div/div[1]/article/div/section/section/p[8]', tag='p', prop='tail', text='\\n'), Content(xpath='/html/body/div[1]/div/div[2]/div/div/div/div[1]/article/div/section/section/p[10]', tag='p', prop='text', text='A full list of processes from the analyzed sample are listed below:'), Content(xpath='/html/body/div[1]/div/div[2]/div/div/div/div[1]/article/div/section/section/p[10]', tag='p', prop='tail', text='\\n'), Content(xpath='/html/body/div[1]/div/div[2]/div/div/div/div[1]/article/div/section/section/pre[1]', tag='pre', prop='text', text='\\ndsa*\\nNtrtsca\\nds_moni\\nNotifie\\nTmListe\\niVPAgen\\nCNTAoSM\\nIBM*\\nbes10*\\nblack*\\nrobo*\\ncopy*\\nstore.e\\nsql*\\nvee*\\nwrsa*\\nwrsa.ex\\npostg*\\nsage*\\nMSSQLServerADHelper100\\nMSSQL$ISARS\\nMSSQL$MSFW\\nSQLAgent$ISARS\\nSQLAgent$MSFW\\nSQLBrowser\\nReportServer$ISARS\\nSQLWriter\\nWinDefend\\nmr2kserv\\nMSExchangeADTopology\\nMSExchangeFBA\\nMSExchangeIS\\nMSExchangeSA\\nShadowProtectSvc\\nSPAdminV4\\nSPTimerV4\\nSPTraceV4\\nSPUserCodeV4\\nSPWriterV4\\nSPSearch4\\nIISADMIN\\nfirebirdguardiandefaultinstance\\nibmiasrw\\nQBCFMonitorService\\nQBVSS\\nQBPOSDBServiceV12\\n\"IBM Domino Server(CProgramFilesIBMDominodata)\"\\n\"IBM Domino Diagnostics(CProgramFilesIBMDomino)\"\\n\"Simply Accounting Database Connection Manager\"\\nQuickBooksDB1\\nQuickBooksDB2\\nQuickBooksDB3\\nQuickBooksDB4\\nQuickBooksDB5\\nQuickBooksDB6\\nQuickBooksDB7\\nQuickBooksDB8\\nQuickBooksDB9\\nQuickBooksDB10\\nQuickBooksDB11\\nQuickBooksDB12\\nQuickBooksDB13\\nQuickBooksDB14\\nQuickBooksDB15\\nQuickBooksDB16\\nQuickBooksDB17\\nQuickBooksDB18\\nQuickBooksDB19\\nQuickBooksDB20\\nQuickBooksDB21\\nQuickBooksDB22\\nQuickBooksDB23\\nQuickBooksDB24\\nQuickBooksDB25\\n'), Content(xpath='/html/body/div[1]/div/div[2]/div/div/div/div[1]/article/div/section/section/pre[1]', tag='pre', prop='tail', text='\\n'), Content(xpath='/html/body/div[1]/div/div[2]/div/div/div/div[1]/article/div/section/section/p[11]', tag='p', prop='text', text='Additional processes and services that are terminated are identified via PID. For example:'), Content(xpath='/html/body/div[1]/div/div[2]/div/div/div/div[1]/article/div/section/section/p[11]', tag='p', prop='tail', text='\\n'), Content(xpath='/html/body/div[1]/div/div[2]/div/div/div/div[1]/article/div/section/section/p[12]/code[1]', tag='code', prop='text', text='taskkill.exe /f /PID \"8512\"'), Content(xpath='/html/body/div[1]/div/div[2]/div/div/div/div[1]/article/div/section/section/p[12]/code[2]', tag='code', prop='text', text='taskkill.exe /f /PID \"8656\"'), Content(xpath='/html/body/div[1]/div/div[2]/div/div/div/div[1]/article/div/section/section/p[13]', tag='p', prop='text', text='If HelloKitty is unable to stop any specific processes or services, it will leverage the Windows Restart Manager API to further assist in termination.'), Content(xpath='/html/body/div[1]/div/div[2]/div/div/div/div[1]/article/div/section/section/p[13]', tag='p', prop='tail', text='\\n'), Content(xpath='/html/body/div[1]/div/div[2]/div/div/div/div[1]/article/div/section/section/p[15]', tag='p', prop='text', text='HelloKitty will also utilize WMI to gather system details and help identify running processes and any potentially problematic processes. This is done both by name and by PID. A number of examples are shown below:'), Content(xpath='/html/body/div[1]/div/div[2]/div/div/div/div[1]/article/div/section/section/p[15]', tag='p', prop='tail', text='\\n'), Content(xpath='/html/body/div[1]/div/div[2]/div/div/div/div[1]/article/div/section/section/pre[2]', tag='pre', prop='text', text='\\nstart iwbemservices::execquery - root\\\\cimv2 : select __path, processid, csname, caption, sessionid, threadcount, workingsetsize, kernelmodetime, usermodetime, parentprocessid from win32_process\\n\\nstart iwbemservices::execquery - root\\\\cimv2 : select __path, processid, csname, caption, sessionid, threadcount, workingsetsize, kernelmodetime, usermodetime, parentprocessid from win32_process where (  caption = \"store.exe\")\\n\\nstart iwbemservices::execquery - root\\\\cimv2 : select __path, processid, csname, caption, sessionid, threadcount, workingsetsize, kernelmodetime, usermodetime, parentprocessid from win32_process where (  caption = \"wrsa.exe\")\\n\\nstart iwbemservices::execquery - root\\\\cimv2 : select __path, processid, csname, caption, sessionid, threadcount, workingsetsize, kernelmodetime, usermodetime, parentprocessid from win32_process where (  processid = 3036)\\n\\nstart iwbemservices::execquery - root\\\\cimv2 : select __path, processid, csname, caption, sessionid, threadcount, workingsetsize, kernelmodetime, usermodetime, parentprocessid from win32_process where (  processid = 4460)\\n\\nstart iwbemservices::execquery - root\\\\cimv2 : select __path, processid, csname, caption, sessionid, threadcount, workingsetsize, kernelmodetime, usermodetime, parentprocessid from win32_process where (  processid = 3052)\\n\\nstart iwbemservices::execquery - root\\\\cimv2 : select __path, processid, csname, caption, sessionid, threadcount, workingsetsize, kernelmodetime, usermodetime, parentprocessid from win32_process where (  processid = 4476)\\n\\nstart iwbemservices::execquery - root\\\\cimv2 : select __path, processid, csname, caption, sessionid, threadcount, workingsetsize, kernelmodetime, usermodetime, parentprocessid from win32_process where (  processid = 1560)\\n\\nstart iwbemservices::execquery - root\\\\cimv2 : select __path, processid, csname, caption, sessionid, threadcount, workingsetsize, kernelmodetime, usermodetime, parentprocessid from win32_process where (  processid = 8124)\\n\\nstart iwbemservices::exe\\n'), Content(xpath='/html/body/div[1]/div/div[2]/div/div/div/div[1]/article/div/section/section/pre[2]', tag='pre', prop='tail', text='\\n'), Content(xpath='/html/body/div[1]/div/div[2]/div/div/div/div[1]/article/div/section/section/h2[2]', tag='h2', prop='text', text='Encryption and Ransom Note'), Content(xpath='/html/body/div[1]/div/div[2]/div/div/div/div[1]/article/div/section/section/h2[2]', tag='h2', prop='tail', text='\\n'), Content(xpath='/html/body/div[1]/div/div[2]/div/div/div/div[1]/article/div/section/section/p[16]', tag='p', prop='text', text='Encryption is initiated and completed very quickly once applicable services and processes have been terminated. Specific encryption recipes and routines can vary across variants of HelloKitty. Generally speaking, they tend to use a combination of AES-256 & RSA-2048 or even NTRU+AES-128.'), Content(xpath='/html/body/div[1]/div/div[2]/div/div/div/div[1]/article/div/section/section/p[16]', tag='p', prop='tail', text='\\n'), Content(xpath='/html/body/div[1]/div/div[2]/div/div/div/div[1]/article/div/section/section/p[17]', tag='p', prop='text', text='Once encrypted, affected files receive the '), Content(xpath='/html/body/div[1]/div/div[2]/div/div/div/div[1]/article/div/section/section/p[17]', tag='p', prop='tail', text='\\n'), Content(xpath='/html/body/div[1]/div/div[2]/div/div/div/div[1]/article/div/section/section/p[17]/code', tag='code', prop='text', text='.crypted'), Content(xpath='/html/body/div[1]/div/div[2]/div/div/div/div[1]/article/div/section/section/p[17]/code', tag='code', prop='tail', text=' extension.'), Content(xpath='/html/body/div[1]/div/div[2]/div/div/div/div[1]/article/div/section/section/p[19]', tag='p', prop='text', text='Ransom notes are typically customized to directly reference the victim and victim’s environment. Victims are instructed to visit a TOR-based payment and support portal. The following example has been sanitized:'), Content(xpath='/html/body/div[1]/div/div[2]/div/div/div/div[1]/article/div/section/section/p[19]', tag='p', prop='tail', text='\\n'), Content(xpath='/html/body/div[1]/div/div[2]/div/div/div/div[1]/article/div/section/section/p[21]', tag='p', prop='text', text='It is also important to note that as of this writing, the onion address associated with HelloKitty ransom notes is not active.'), Content(xpath='/html/body/div[1]/div/div[2]/div/div/div/div[1]/article/div/section/section/p[21]', tag='p', prop='tail', text='\\n'), Content(xpath='/html/body/div[1]/div/div[2]/div/div/div/div[1]/article/div/section/section/p[22]/code', tag='code', prop='text', text='6x7dp6h3w6q3ugjv4yv5gycj3femb24kysgry5b44hhgfwc5ml5qrdad.onion'), Content(xpath='/html/body/div[1]/div/div[2]/div/div/div/div[1]/article/div/section/section/h2[3]', tag='h2', prop='text', text='Conclusion'), Content(xpath='/html/body/div[1]/div/div[2]/div/div/div/div[1]/article/div/section/section/h2[3]', tag='h2', prop='tail', text='\\n'), Content(xpath='/html/body/div[1]/div/div[2]/div/div/div/div[1]/article/div/section/section/p[23]', tag='p', prop='text', text='HelloKitty may be easier to spot than other modern ransomware families, but upon execution it is no less dangerous. There are currently no known ‘weaknesses’ in the encryption routines, and there are no thirdy-party decrypters available for the HelloKitty ransomware. Therefore, the only true defense is prevention. While this family does not appear to be actively leaking victim data at the moment, that could change at any point, in addition to them choosing to adopt some of the more recent extortion methods that go along with ransomware (DDoS).'), Content(xpath='/html/body/div[1]/div/div[2]/div/div/div/div[1]/article/div/section/section/p[23]', tag='p', prop='tail', text='\\n'), Content(xpath='/html/body/div[1]/div/div[2]/div/div/div/div[1]/article/div/section/section/p[24]', tag='p', prop='text', text='Actors behind the more recent campaign(s) are reportedly attempting to auction the CD Projekt data off in various ‘underground’ forums. At present this sale of this data does appear to be legitimate. Time will tell if additional victim data is dealt with in the same way.'), Content(xpath='/html/body/div[1]/div/div[2]/div/div/div/div[1]/article/div/section/section/p[24]', tag='p', prop='tail', text='\\n'), Content(xpath='/html/body/div[1]/div/div[2]/div/div/div/div[1]/article/div/section/section/p[25]', tag='p', prop='text', text='To protect yourself against HelloKitty, make sure you are armed with a modern Endpoint Security platform, which is configured correctly and up to date. The SentinelOne Singularity Platform is fully capable of preventing and detecting all malicious behaviors associated with the HelloKitty ransomware family.'), Content(xpath='/html/body/div[1]/div/div[2]/div/div/div/div[1]/article/div/section/section/p[25]', tag='p', prop='tail', text='\\n'), Content(xpath='/html/body/div[1]/div/div[2]/div/div/div/div[1]/article/div/section/section/h2[4]', tag='h2', prop='text', text='IOCs'), Content(xpath='/html/body/div[1]/div/div[2]/div/div/div/div[1]/article/div/section/section/h2[4]', tag='h2', prop='tail', text='\\n'), Content(xpath='/html/body/div[1]/div/div[2]/div/div/div/div[1]/article/div/section/section/p[26]/strong', tag='strong', prop='text', text='SHA1'), Content(xpath='/html/body/div[1]/div/div[2]/div/div/div/div[1]/article/div/section/section/p[26]/br', tag='br', prop='tail', text='\\nfadd8d7c13a18c251ded1f645ffea18a37f1c2de'), Content(xpath='/html/body/div[1]/div/div[2]/div/div/div/div[1]/article/div/section/section/p[27]/strong', tag='strong', prop='text', text='SHA256'), Content(xpath='/html/body/div[1]/div/div[2]/div/div/div/div[1]/article/div/section/section/p[27]/br', tag='br', prop='tail', text='\\n501487b025f25ddf1ca32deb57a2b4db43ccf6635c1edc74b9cff54ce0e5bcfe'), Content(xpath='/html/body/div[1]/div/div[2]/div/div/div/div[1]/article/div/section/section/p[28]/strong', tag='strong', prop='text', text='MITRE ATT&CK'), Content(xpath='/html/body/div[1]/div/div[2]/div/div/div/div[1]/article/div/section/section/p[28]/br[1]', tag='br', prop='tail', text='\\nData from Local System – '), Content(xpath='/html/body/div[1]/div/div[2]/div/div/div/div[1]/article/div/section/section/p[28]/a[1]', tag='a', prop='text', text='T1005'), Content(xpath='/html/body/div[1]/div/div[2]/div/div/div/div[1]/article/div/section/section/p[28]/br[2]', tag='br', prop='tail', text='\\nModify Registry – '), Content(xpath='/html/body/div[1]/div/div[2]/div/div/div/div[1]/article/div/section/section/p[28]/a[2]', tag='a', prop='text', text='T1112'), Content(xpath='/html/body/div[1]/div/div[2]/div/div/div/div[1]/article/div/section/section/p[28]/br[3]', tag='br', prop='tail', text='\\nQuery Registry – '), Content(xpath='/html/body/div[1]/div/div[2]/div/div/div/div[1]/article/div/section/section/p[28]/a[3]', tag='a', prop='text', text='T1012'), Content(xpath='/html/body/div[1]/div/div[2]/div/div/div/div[1]/article/div/section/section/p[28]/br[4]', tag='br', prop='tail', text='\\nSystem Information Discovery – '), Content(xpath='/html/body/div[1]/div/div[2]/div/div/div/div[1]/article/div/section/section/p[28]/a[4]', tag='a', prop='text', text='T1082'), Content(xpath='/html/body/div[1]/div/div[2]/div/div/div/div[1]/article/div/section/section/p[28]/br[5]', tag='br', prop='tail', text='\\nData Encrypted for Impact – '), Content(xpath='/html/body/div[1]/div/div[2]/div/div/div/div[1]/article/div/section/section/p[28]/a[5]', tag='a', prop='text', text='T1486'), Content(xpath='/html/body/div[1]/div/div[2]/div/div/div/div[1]/article/div/section/section/p[28]/br[6]', tag='br', prop='tail', text='\\nFile Deletion – '), Content(xpath='/html/body/div[1]/div/div[2]/div/div/div/div[1]/article/div/section/section/p[28]/a[6]', tag='a', prop='text', text='T1070.004'), Content(xpath='/html/body/div[1]/div/div[2]/div/div/div/div[1]/article/div/section/section/p[28]/br[7]', tag='br', prop='tail', text='\\nCommand and Scripting Interpreter: Windows Command Shell – '), Content(xpath='/html/body/div[1]/div/div[2]/div/div/div/div[1]/article/div/section/section/p[28]/a[7]', tag='a', prop='text', text='T1059.003'), Content(xpath='/html/body/div[1]/div/div[2]/div/div/div/div[1]/article/div/section/section/p[28]/br[8]', tag='br', prop='tail', text='\\nWindows Management Instrumentation – '), Content(xpath='/html/body/div[1]/div/div[2]/div/div/div/div[1]/article/div/section/section/p[28]/a[8]', tag='a', prop='text', text='T1047'), Content(xpath='/html/body/div[1]/div/div[2]/div/div/div/div[1]/article/div/section/section/div/span[2]', tag='span', prop='text', text='Post Views: '), Content(xpath='/html/body/div[1]/div/div[2]/div/div/div/div[1]/article/div/section/section/div/span[2]', tag='span', prop='tail', text='\\n\\t\\t\\t\\t'), Content(xpath='/html/body/div[1]/div/div[2]/div/div/div/div[1]/article/div/section/section/div/span[3]', tag='span', prop='text', text='7,278'), Content(xpath='/html/body/div[1]/div/div[2]/div/div/div/div[1]/article/div/section/section/div/span[3]', tag='span', prop='tail', text='\\n\\t\\t\\t'), Content(xpath='/html/body/div[1]/div/div[2]/div/div/div/div[1]/article/div/section/section/p[29]/a', tag='a', prop='text', text='Ransomware'), Content(xpath='/html/body/div[1]/div/div[2]/div/div/div/div[1]/article/div/section/section/p[29]/a', tag='a', prop='tail', text='\\t\\t\\t\\t\\t')]"
      ]
     },
     "execution_count": 87,
     "metadata": {},
     "output_type": "execute_result"
    }
   ],
   "source": [
    "seq(da.contents)  # .group_by(lambda x: x.xpath)  # .filter(lambda x: x[]"
   ]
  },
  {
   "cell_type": "markdown",
   "id": "d35334df-2fc9-4b1b-ae67-2a1dcb06c795",
   "metadata": {},
   "source": [
    "---"
   ]
  },
  {
   "cell_type": "code",
   "execution_count": 503,
   "id": "b4511cd6-0c7e-4cc9-9d99-b39e2f5b852d",
   "metadata": {},
   "outputs": [],
   "source": [
    "from collections import namedtuple, deque\n",
    "from more_itertools import pairwise, collapse\n",
    "\n",
    "from magpie.src.entity import (\n",
    "    attack_technique,\n",
    "    bitcoin_address,\n",
    "    cve,\n",
    "    defender_threat,\n",
    "    domain,\n",
    "    email,\n",
    "    filehash_md5,\n",
    "    filehash_sha1,\n",
    "    filehash_sha256,\n",
    "    filepath,\n",
    "    hostname,\n",
    "    ipv4,\n",
    "    ipv6,\n",
    "    keyword,\n",
    "    sslcert_fingerprint,\n",
    "    uri,\n",
    "    url,\n",
    ")"
   ]
  },
  {
   "cell_type": "code",
   "execution_count": 504,
   "id": "a581f732-941c-4c6d-8b06-97b578478bd1",
   "metadata": {},
   "outputs": [],
   "source": [
    "_parser = (\n",
    "    defender_threat.parser\n",
    "    | uri.parser\n",
    "    | url.parser\n",
    "    | email.parser\n",
    "    | hostname.parser\n",
    "    | domain.parser\n",
    "    | sslcert_fingerprint.parser\n",
    "    | ipv6.parser\n",
    "    | ipv4.parser\n",
    "    | cve.parser\n",
    "    | attack_technique.parser\n",
    "    | filepath.parser\n",
    "    | filehash_sha256.parser  # len = 64\n",
    "    | filehash_sha1.parser  # len = 40\n",
    "    | bitcoin_address.parser  # len = 34\n",
    "    | filehash_md5.parser  # len = 32\n",
    "    # | keyword.make_parser(self.extracted_keywords)  # generate keywords parser\n",
    ")"
   ]
  },
  {
   "cell_type": "code",
   "execution_count": 505,
   "id": "c7e9def1-9258-4e47-a7da-19b65ca32055",
   "metadata": {},
   "outputs": [
    {
     "data": {
      "text/plain": [
       "'wrsa.ex'"
      ]
     },
     "execution_count": 505,
     "metadata": {},
     "output_type": "execute_result"
    }
   ],
   "source": [
    "'\\ndsa*\\nNtrtsca\\nds_moni\\nNotifie\\nTmListe\\niVPAgen\\nCNTAoSM\\nIBM*\\nbes10*\\nblack*\\nrobo*\\ncopy*\\nstore.e\\nsql*\\nvee*\\nwrsa*\\nwrsa.ex\\npostg*\\nsage*\\nMSSQLServerADHelper100\\nMSSQL$ISARS\\nMSSQL$MSFW\\nSQLAgent$ISARS\\nSQLAgent$MSFW\\nSQLBrowser\\nReportServer$ISARS\\nSQLWriter\\nWinDefend\\nmr2kserv\\nMSExchangeADTopology\\nMSExchangeFBA\\nMSExchangeIS\\nMSExchangeSA\\nShadowProtectSvc\\nSPAdminV4\\nSPTimerV4\\nSPTraceV4\\nSPUserCodeV4\\nSPWriterV4\\nSPSearch4\\nIISADMIN\\nfirebirdguardiandefaultinstance\\nibmiasrw\\nQBCFMonitorService\\nQBVSS\\nQBPOSDBServiceV12\\n\"IBM Domino Server(CProgramFilesIBMDominodata)\"\\n\"IBM Domino Diagnostics(CProgramFilesIBMDomino)\"\\n\"Simply Accounting Database Connection Manager\"\\nQuickBooksDB1\\nQuickBooksDB2\\nQuickBooksDB3\\nQuickBooksDB4\\nQuickBooksDB5\\nQuickBooksDB6\\nQuickBooksDB7\\nQuickBooksDB8\\nQuickBooksDB9\\nQuickBooksDB10\\nQuickBooksDB11\\nQuickBooksDB12\\nQuickBooksDB13\\nQuickBooksDB14\\nQuickBooksDB15\\nQuickBooksDB16\\nQuickBooksDB17\\nQuickBooksDB18\\nQuickBooksDB19\\nQuickBooksDB20\\nQuickBooksDB21\\nQuickBooksDB22\\nQuickBooksDB23\\nQuickBooksDB24\\nQuickBooksDB25\\n'[\n",
    "    109:116\n",
    "]"
   ]
  },
  {
   "cell_type": "code",
   "execution_count": 506,
   "id": "769f15f2-8e3c-487b-83b5-d932fdc39195",
   "metadata": {},
   "outputs": [
    {
     "name": "stdout",
     "output_type": "stream",
     "text": [
      "CPU times: user 56.9 ms, sys: 2.32 ms, total: 59.2 ms\n",
      "Wall time: 80.3 ms\n"
     ]
    },
    {
     "data": {
      "text/html": [
       "<table>\n",
       "<tbody>\n",
       "<tr><td>p   </td><td>Game studio CD Projekt Red recently                                                                                                                                                                                                                                                                                                                                                </td><td>[]                                                           </td></tr>\n",
       "<tr><td>a   </td><td>disclosed                                                                                                                                                                                                                                                                                                                                                                          </td><td>[]                                                           </td></tr>\n",
       "<tr><td>a   </td><td>that it became a victim of a targeted, highly-impactful ransomware. In the days following the disclosure, it was revealed that the ransomware family most likely behind the attack was “HelloKitty”.                                                                                                                                                                               </td><td>[]                                                           </td></tr>\n",
       "<tr><td>p   </td><td>HelloKitty is a ransomware family that emerged in late 2020. While it lacks the sophistication of some of the more well-known families such as Ryuk, REvil, and Conti, it has nevertheless struck some notable targets, including CEMIG0. In this post, we analyse a recent HelloKitty sample and outline the basic behaviors and traits associated with this family of ransomware.</td><td>[]                                                           </td></tr>\n",
       "<tr><td>h2  </td><td>Execution and Behavior                                                                                                                                                                                                                                                                                                                                                             </td><td>[]                                                           </td></tr>\n",
       "<tr><td>p   </td><td>The “HelloKitty” name is based on internal mutex names, which are apparent upon execution.                                                                                                                                                                                                                                                                                         </td><td>[]                                                           </td></tr>\n",
       "<tr><td>p   </td><td>While still somewhat unclear, current intelligence indicates that the primary delivery method of HelloKitty binaries is via phish email or via secondary infection in conjunction with other malware.                                                                                                                                                                              </td><td>[]                                                           </td></tr>\n",
       "<tr><td>p   </td><td>Once launched, HelloKitty will attempt to disable and terminate a number of processes and services so as to reduce interference with the encryption process. This includes processes and services associated with IIS, MSSQL, Quickbooks, Sharepoint, and more. These actions are carried out via                                                                                  </td><td>[]                                                           </td></tr>\n",
       "<tr><td>code</td><td>taskkill.exe                                                                                                                                                                                                                                                                                                                                                                       </td><td>[(([&#x27;taskkill.exe&#x27;], {&#x27;FilePath&#x27;: [&#x27;taskkill.exe&#x27;]}), 0, 12)]</td></tr>\n",
       "<tr><td>code</td><td>and                                                                                                                                                                                                                                                                                                                                                                                </td><td>[]                                                           </td></tr>\n",
       "</tbody>\n",
       "</table><p>Showing 10 of 46 rows"
      ],
      "text/plain": [
       "[('p', 'Game studio CD Projekt Red recently ', []), ('a', 'disclosed', []), ('a', ' that it became a victim of a targeted, highly-impactful ransomware. In the days following the disclosure, it was revealed that the ransomware family most likely behind the attack was “HelloKitty”.', []), ('p', 'HelloKitty is a ransomware family that emerged in late 2020. While it lacks the sophistication of some of the more well-known families such as Ryuk, REvil, and Conti, it has nevertheless struck some notable targets, including CEMIG0. In this post, we analyse a recent HelloKitty sample and outline the basic behaviors and traits associated with this family of ransomware.', []), ('h2', 'Execution and Behavior', []), ('p', 'The “HelloKitty” name is based on internal mutex names, which are apparent upon execution.', []), ('p', 'While still somewhat unclear, current intelligence indicates that the primary delivery method of HelloKitty binaries is via phish email or via secondary infection in conjunction with other malware.', []), ('p', 'Once launched, HelloKitty will attempt to disable and terminate a number of processes and services so as to reduce interference with the encryption process. This includes processes and services associated with IIS, MSSQL, Quickbooks, Sharepoint, and more. These actions are carried out via ', []), ('code', 'taskkill.exe', [((['taskkill.exe'], {'FilePath': ['taskkill.exe']}), 0, 12)]), ('code', ' and ', []), ('code', 'net.exe', [((['net.exe'], {'FilePath': ['net.exe']}), 0, 7)]), ('code', '.', []), ('p', 'In the analyzed sample, this is all done in a very non-stealthy manner. All spawned CMD windows are in the foreground and fully visible. This ‘lack of discreteness’ is atypical for modern ransomware, or any successful malware, for that matter.', []), ('p', 'A full list of processes from the analyzed sample are listed below:', []), ('p', 'Additional processes and services that are terminated are identified via PID. For example:', []), ('code', 'taskkill.exe /f /PID \"8512\"', [((['taskkill.exe'], {'FilePath': ['taskkill.exe']}), 0, 12)]), ('code', 'taskkill.exe /f /PID \"8656\"', [((['taskkill.exe'], {'FilePath': ['taskkill.exe']}), 0, 12)]), ('p', 'If HelloKitty is unable to stop any specific processes or services, it will leverage the Windows Restart Manager API to further assist in termination.', []), ('p', 'HelloKitty will also utilize WMI to gather system details and help identify running processes and any potentially problematic processes. This is done both by name and by PID. A number of examples are shown below:', []), ('h2', 'Encryption and Ransom Note', []), ('p', 'Encryption is initiated and completed very quickly once applicable services and processes have been terminated. Specific encryption recipes and routines can vary across variants of HelloKitty. Generally speaking, they tend to use a combination of AES-256 & RSA-2048 or even NTRU+AES-128.', []), ('p', 'Once encrypted, affected files receive the ', []), ('code', '.crypted', []), ('code', ' extension.', []), ('p', 'Ransom notes are typically customized to directly reference the victim and victim’s environment. Victims are instructed to visit a TOR-based payment and support portal. The following example has been sanitized:', []), ('p', 'It is also important to note that as of this writing, the onion address associated with HelloKitty ransom notes is not active.', []), ('code', '6x7dp6h3w6q3ugjv4yv5gycj3femb24kysgry5b44hhgfwc5ml5qrdad.onion', [((['6x7dp6h3w6q3ugjv4yv5gycj3femb24kysgry5b44hhgfwc5ml5qrdad.onion'], {'domain': ['6x7dp6h3w6q3ugjv4yv5gycj3femb24kysgry5b44hhgfwc5ml5qrdad.onion']}), 0, 62)]), ('h2', 'Conclusion', []), ('p', 'HelloKitty may be easier to spot than other modern ransomware families, but upon execution it is no less dangerous. There are currently no known ‘weaknesses’ in the encryption routines, and there are no thirdy-party decrypters available for the HelloKitty ransomware. Therefore, the only true defense is prevention. While this family does not appear to be actively leaking victim data at the moment, that could change at any point, in addition to them choosing to adopt some of the more recent extortion methods that go along with ransomware (DDoS).', []), ('p', 'Actors behind the more recent campaign(s) are reportedly attempting to auction the CD Projekt data off in various ‘underground’ forums. At present this sale of this data does appear to be legitimate. Time will tell if additional victim data is dealt with in the same way.', []), ('p', 'To protect yourself against HelloKitty, make sure you are armed with a modern Endpoint Security platform, which is configured correctly and up to date. The SentinelOne Singularity Platform is fully capable of preventing and detecting all malicious behaviors associated with the HelloKitty ransomware family.', []), ('h2', 'IOCs', []), ('strong', 'SHA1', []), ('strong', 'SHA256', []), ('strong', 'MITRE ATT&CK', []), ('a', 'T1005', [((['T1005'], {'AttackTechnique': ['T1005']}), 0, 5)]), ('a', 'T1112', [((['T1112'], {'AttackTechnique': ['T1112']}), 0, 5)]), ('a', 'T1012', [((['T1012'], {'AttackTechnique': ['T1012']}), 0, 5)]), ('a', 'T1082', [((['T1082'], {'AttackTechnique': ['T1082']}), 0, 5)]), ('a', 'T1486', [((['T1486'], {'AttackTechnique': ['T1486']}), 0, 5)]), ('a', 'T1070.004', [((['T1070.004'], {'AttackTechnique': ['T1070.004']}), 0, 9)]), ('a', 'T1059.003', [((['T1059.003'], {'AttackTechnique': ['T1059.003']}), 0, 9)]), ('a', 'T1047', [((['T1047'], {'AttackTechnique': ['T1047']}), 0, 5)]), ('span', 'Post Views: ', []), ('span', '7,278', []), ('a', 'Ransomware', [])]"
      ]
     },
     "execution_count": 506,
     "metadata": {},
     "output_type": "execute_result"
    }
   ],
   "source": [
    "%%time\n",
    "seq(da.contents).starmap(\n",
    "    lambda xpath, tag, prop, text: (tag, text, list(_parser.scanString(text)))\n",
    ")"
   ]
  },
  {
   "cell_type": "code",
   "execution_count": 508,
   "id": "1db480f8-d16a-45c8-8400-24dac4ea931f",
   "metadata": {},
   "outputs": [
    {
     "name": "stdout",
     "output_type": "stream",
     "text": [
      "CPU times: user 60.9 ms, sys: 2.54 ms, total: 63.4 ms\n",
      "Wall time: 129 ms\n"
     ]
    },
    {
     "data": {
      "text/html": [
       "<table>\n",
       "<tbody>\n",
       "<tr><td>code</td><td>taskkill.exe                                                  </td><td>[(([&#x27;taskkill.exe&#x27;], {&#x27;FilePath&#x27;: [&#x27;taskkill.exe&#x27;]}), 0, 12)]                                                                                                  </td></tr>\n",
       "<tr><td>code</td><td>net.exe                                                       </td><td>[(([&#x27;net.exe&#x27;], {&#x27;FilePath&#x27;: [&#x27;net.exe&#x27;]}), 0, 7)]                                                                                                             </td></tr>\n",
       "<tr><td>code</td><td>taskkill.exe /f /PID &quot;8512&quot;                                   </td><td>[(([&#x27;taskkill.exe&#x27;], {&#x27;FilePath&#x27;: [&#x27;taskkill.exe&#x27;]}), 0, 12)]                                                                                                  </td></tr>\n",
       "<tr><td>code</td><td>taskkill.exe /f /PID &quot;8656&quot;                                   </td><td>[(([&#x27;taskkill.exe&#x27;], {&#x27;FilePath&#x27;: [&#x27;taskkill.exe&#x27;]}), 0, 12)]                                                                                                  </td></tr>\n",
       "<tr><td>code</td><td>6x7dp6h3w6q3ugjv4yv5gycj3femb24kysgry5b44hhgfwc5ml5qrdad.onion</td><td>[(([&#x27;6x7dp6h3w6q3ugjv4yv5gycj3femb24kysgry5b44hhgfwc5ml5qrdad.onion&#x27;], {&#x27;domain&#x27;: [&#x27;6x7dp6h3w6q3ugjv4yv5gycj3femb24kysgry5b44hhgfwc5ml5qrdad.onion&#x27;]}), 0, 62)]</td></tr>\n",
       "<tr><td>a   </td><td>T1005                                                         </td><td>[(([&#x27;T1005&#x27;], {&#x27;AttackTechnique&#x27;: [&#x27;T1005&#x27;]}), 0, 5)]                                                                                                          </td></tr>\n",
       "<tr><td>a   </td><td>T1112                                                         </td><td>[(([&#x27;T1112&#x27;], {&#x27;AttackTechnique&#x27;: [&#x27;T1112&#x27;]}), 0, 5)]                                                                                                          </td></tr>\n",
       "<tr><td>a   </td><td>T1012                                                         </td><td>[(([&#x27;T1012&#x27;], {&#x27;AttackTechnique&#x27;: [&#x27;T1012&#x27;]}), 0, 5)]                                                                                                          </td></tr>\n",
       "<tr><td>a   </td><td>T1082                                                         </td><td>[(([&#x27;T1082&#x27;], {&#x27;AttackTechnique&#x27;: [&#x27;T1082&#x27;]}), 0, 5)]                                                                                                          </td></tr>\n",
       "<tr><td>a   </td><td>T1486                                                         </td><td>[(([&#x27;T1486&#x27;], {&#x27;AttackTechnique&#x27;: [&#x27;T1486&#x27;]}), 0, 5)]                                                                                                          </td></tr>\n",
       "</tbody>\n",
       "</table><p>Showing 10 of 13 rows"
      ],
      "text/plain": [
       "[('code', 'taskkill.exe', [((['taskkill.exe'], {'FilePath': ['taskkill.exe']}), 0, 12)]), ('code', 'net.exe', [((['net.exe'], {'FilePath': ['net.exe']}), 0, 7)]), ('code', 'taskkill.exe /f /PID \"8512\"', [((['taskkill.exe'], {'FilePath': ['taskkill.exe']}), 0, 12)]), ('code', 'taskkill.exe /f /PID \"8656\"', [((['taskkill.exe'], {'FilePath': ['taskkill.exe']}), 0, 12)]), ('code', '6x7dp6h3w6q3ugjv4yv5gycj3femb24kysgry5b44hhgfwc5ml5qrdad.onion', [((['6x7dp6h3w6q3ugjv4yv5gycj3femb24kysgry5b44hhgfwc5ml5qrdad.onion'], {'domain': ['6x7dp6h3w6q3ugjv4yv5gycj3femb24kysgry5b44hhgfwc5ml5qrdad.onion']}), 0, 62)]), ('a', 'T1005', [((['T1005'], {'AttackTechnique': ['T1005']}), 0, 5)]), ('a', 'T1112', [((['T1112'], {'AttackTechnique': ['T1112']}), 0, 5)]), ('a', 'T1012', [((['T1012'], {'AttackTechnique': ['T1012']}), 0, 5)]), ('a', 'T1082', [((['T1082'], {'AttackTechnique': ['T1082']}), 0, 5)]), ('a', 'T1486', [((['T1486'], {'AttackTechnique': ['T1486']}), 0, 5)]), ('a', 'T1070.004', [((['T1070.004'], {'AttackTechnique': ['T1070.004']}), 0, 9)]), ('a', 'T1059.003', [((['T1059.003'], {'AttackTechnique': ['T1059.003']}), 0, 9)]), ('a', 'T1047', [((['T1047'], {'AttackTechnique': ['T1047']}), 0, 5)])]"
      ]
     },
     "execution_count": 508,
     "metadata": {},
     "output_type": "execute_result"
    }
   ],
   "source": [
    "%%time\n",
    "seq(da.contents).starmap(\n",
    "    lambda xpath, tag, prop, text: (tag, text, list(_parser.scanString(text)))\n",
    ").filter(lambda x: x[2] != [])"
   ]
  },
  {
   "cell_type": "code",
   "execution_count": 478,
   "id": "ea905f5e-e045-4408-a8cc-74ec90979512",
   "metadata": {},
   "outputs": [],
   "source": [
    "class EntityParser(object):\n",
    "\n",
    "    Text = namedtuple(\"Text\", [\"entity\", \"string\", \"span\"])\n",
    "\n",
    "    def __init__(self):\n",
    "        # self.extracted_keywords = extracted_keywords\n",
    "        self.parser = self.construct_parser()\n",
    "\n",
    "    def construct_parser(self):\n",
    "        parser = (\n",
    "            defender_threat.parser\n",
    "            | uri.parser\n",
    "            | url.parser\n",
    "            | email.parser\n",
    "            | hostname.parser\n",
    "            | domain.parser\n",
    "            | sslcert_fingerprint.parser\n",
    "            | ipv6.parser\n",
    "            | ipv4.parser\n",
    "            | cve.parser\n",
    "            | attack_technique.parser\n",
    "            | filepath.parser\n",
    "            | filehash_sha256.parser  # len = 64\n",
    "            | filehash_sha1.parser  # len = 40\n",
    "            | bitcoin_address.parser  # len = 34\n",
    "            | filehash_md5.parser  # len = 32\n",
    "            # | keyword.make_parser(self.extracted_keywords)  # generate keywords parser\n",
    "        )\n",
    "        return parser\n",
    "\n",
    "    def iterscan(self, content):\n",
    "\n",
    "        \"\"\"\n",
    "        for each scanning result, returns a tuple of:\n",
    "            - matched tokens (packaged as a ParseResults object)\n",
    "            - start location of the matched text in the given source string\n",
    "            - end location in the given source string\n",
    "        \"\"\"\n",
    "\n",
    "        # generator\n",
    "        scanning = self.parser.scanString(content.text)\n",
    "        scan_results = (\n",
    "            seq(scanning)\n",
    "            .starmap(lambda token, start, end: ((start, end), token))\n",
    "            .cache()\n",
    "        )\n",
    "\n",
    "        def refill(spans, text=content.text):\n",
    "\n",
    "            # get head and tail index of text\n",
    "            head, tail = 0, len(content.text)\n",
    "\n",
    "            # append head and tail index\n",
    "            indexes = deque(collapse(spans))\n",
    "            indexes.appendleft(head)\n",
    "            indexes.append(tail)\n",
    "            indexes = sorted(set(indexes))\n",
    "\n",
    "            # bi-grams tokenize indexes\n",
    "            filled_spans = pairwise(indexes)\n",
    "\n",
    "            return filled_spans\n",
    "\n",
    "        # filled with other non-entity spans\n",
    "        entity_spans = scan_results.starmap(lambda span, token: span).to_list()\n",
    "        filled_spans = refill(entity_spans, content.text)\n",
    "\n",
    "        scan_results_dict = scan_results.to_dict()\n",
    "\n",
    "        # join together\n",
    "        for span in filled_spans:\n",
    "\n",
    "            token = scan_results_dict.get(span)\n",
    "\n",
    "            if token != None:\n",
    "                entity = token.getName()\n",
    "                string = token.get(entity)\n",
    "                yield self.Text(entity, string, span)\n",
    "\n",
    "            else:\n",
    "                entity = None\n",
    "                start, end = span\n",
    "                string = content.text[start:end]\n",
    "                yield self.Text(None, string, span)"
   ]
  },
  {
   "cell_type": "code",
   "execution_count": 479,
   "id": "f5572f2a-2dbc-4994-ab38-9266d42a91f8",
   "metadata": {},
   "outputs": [],
   "source": [
    "parser = EntityParser()"
   ]
  },
  {
   "cell_type": "code",
   "execution_count": 480,
   "id": "02b7a7c2-f26c-453f-afe8-58209c0b7e9c",
   "metadata": {},
   "outputs": [
    {
     "name": "stdout",
     "output_type": "stream",
     "text": [
      "CPU times: user 58.8 ms, sys: 4.49 ms, total: 63.3 ms\n",
      "Wall time: 106 ms\n"
     ]
    },
    {
     "data": {
      "text/html": [
       "<table>\n",
       "<tbody>\n",
       "<tr><td>Content(xpath=&#x27;/html/body/div[1]/div/div[2]/div/div/div/div[1]/article/div/section/section/p[1]&#x27;, tag=&#x27;p&#x27;, prop=&#x27;text&#x27;, text=&#x27;Game studio CD Projekt Red recently &#x27;)                                                                                                                                                                                                                                                                                                                                               </td><td>Text(entity=None, string=&#x27;Game studio CD Projekt Red recently &#x27;, span=(0, 36))                                                                                                                                                                                                                                                                                                                                                </td></tr>\n",
       "<tr><td>Content(xpath=&#x27;/html/body/div[1]/div/div[2]/div/div/div/div[1]/article/div/section/section/p[1]&#x27;, tag=&#x27;p&#x27;, prop=&#x27;tail&#x27;, text=&#x27;\\n&#x27;)                                                                                                                                                                                                                                                                                                                                                                                 </td><td>Text(entity=None, string=&#x27;\\n&#x27;, span=(0, 1))                                                                                                                                                                                                                                                                                                                                                                                   </td></tr>\n",
       "<tr><td>Content(xpath=&#x27;/html/body/div[1]/div/div[2]/div/div/div/div[1]/article/div/section/section/p[1]/a&#x27;, tag=&#x27;a&#x27;, prop=&#x27;text&#x27;, text=&#x27;disclosed&#x27;)                                                                                                                                                                                                                                                                                                                                                                        </td><td>Text(entity=None, string=&#x27;disclosed&#x27;, span=(0, 9))                                                                                                                                                                                                                                                                                                                                                                            </td></tr>\n",
       "<tr><td>Content(xpath=&#x27;/html/body/div[1]/div/div[2]/div/div/div/div[1]/article/div/section/section/p[1]/a&#x27;, tag=&#x27;a&#x27;, prop=&#x27;tail&#x27;, text=&#x27; that it became a victim of a targeted, highly-impactful ransomware. In the days following the disclosure, it was revealed that the ransomware family most likely behind the attack was “HelloKitty”.&#x27;)                                                                                                                                                                            </td><td>Text(entity=None, string=&#x27; that it became a victim of a targeted, highly-impactful ransomware. In the days following the disclosure, it was revealed that the ransomware family most likely behind the attack was “HelloKitty”.&#x27;, span=(0, 197))                                                                                                                                                                              </td></tr>\n",
       "<tr><td>Content(xpath=&#x27;/html/body/div[1]/div/div[2]/div/div/div/div[1]/article/div/section/section/p[3]&#x27;, tag=&#x27;p&#x27;, prop=&#x27;text&#x27;, text=&#x27;HelloKitty is a ransomware family that emerged in late 2020. While it lacks the sophistication of some of the more well-known families such as Ryuk, REvil, and Conti, it has nevertheless struck some notable targets, including CEMIG0. In this post, we analyse a recent HelloKitty sample and outline the basic behaviors and traits associated with this family of ransomware.&#x27;)</td><td>Text(entity=None, string=&#x27;HelloKitty is a ransomware family that emerged in late 2020. While it lacks the sophistication of some of the more well-known families such as Ryuk, REvil, and Conti, it has nevertheless struck some notable targets, including CEMIG0. In this post, we analyse a recent HelloKitty sample and outline the basic behaviors and traits associated with this family of ransomware.&#x27;, span=(0, 371))</td></tr>\n",
       "<tr><td>Content(xpath=&#x27;/html/body/div[1]/div/div[2]/div/div/div/div[1]/article/div/section/section/p[3]&#x27;, tag=&#x27;p&#x27;, prop=&#x27;tail&#x27;, text=&#x27;\\n&#x27;)                                                                                                                                                                                                                                                                                                                                                                                 </td><td>Text(entity=None, string=&#x27;\\n&#x27;, span=(0, 1))                                                                                                                                                                                                                                                                                                                                                                                   </td></tr>\n",
       "<tr><td>Content(xpath=&#x27;/html/body/div[1]/div/div[2]/div/div/div/div[1]/article/div/section/section/h2[1]&#x27;, tag=&#x27;h2&#x27;, prop=&#x27;text&#x27;, text=&#x27;Execution and Behavior&#x27;)                                                                                                                                                                                                                                                                                                                                                           </td><td>Text(entity=None, string=&#x27;Execution and Behavior&#x27;, span=(0, 22))                                                                                                                                                                                                                                                                                                                                                              </td></tr>\n",
       "<tr><td>Content(xpath=&#x27;/html/body/div[1]/div/div[2]/div/div/div/div[1]/article/div/section/section/h2[1]&#x27;, tag=&#x27;h2&#x27;, prop=&#x27;tail&#x27;, text=&#x27;\\n&#x27;)                                                                                                                                                                                                                                                                                                                                                                               </td><td>Text(entity=None, string=&#x27;\\n&#x27;, span=(0, 1))                                                                                                                                                                                                                                                                                                                                                                                   </td></tr>\n",
       "<tr><td>Content(xpath=&#x27;/html/body/div[1]/div/div[2]/div/div/div/div[1]/article/div/section/section/p[4]&#x27;, tag=&#x27;p&#x27;, prop=&#x27;text&#x27;, text=&#x27;The “HelloKitty” name is based on internal mutex names, which are apparent upon execution.&#x27;)                                                                                                                                                                                                                                                                                         </td><td>Text(entity=None, string=&#x27;The “HelloKitty” name is based on internal mutex names, which are apparent upon execution.&#x27;, span=(0, 90))                                                                                                                                                                                                                                                                                          </td></tr>\n",
       "<tr><td>Content(xpath=&#x27;/html/body/div[1]/div/div[2]/div/div/div/div[1]/article/div/section/section/p[4]&#x27;, tag=&#x27;p&#x27;, prop=&#x27;tail&#x27;, text=&#x27;\\n&#x27;)                                                                                                                                                                                                                                                                                                                                                                                 </td><td>Text(entity=None, string=&#x27;\\n&#x27;, span=(0, 1))                                                                                                                                                                                                                                                                                                                                                                                   </td></tr>\n",
       "</tbody>\n",
       "</table><p>Showing 10 of 96 rows"
      ],
      "text/plain": [
       "[(Content(xpath='/html/body/div[1]/div/div[2]/div/div/div/div[1]/article/div/section/section/p[1]', tag='p', prop='text', text='Game studio CD Projekt Red recently '), Text(entity=None, string='Game studio CD Projekt Red recently ', span=(0, 36))), (Content(xpath='/html/body/div[1]/div/div[2]/div/div/div/div[1]/article/div/section/section/p[1]', tag='p', prop='tail', text='\\n'), Text(entity=None, string='\\n', span=(0, 1))), (Content(xpath='/html/body/div[1]/div/div[2]/div/div/div/div[1]/article/div/section/section/p[1]/a', tag='a', prop='text', text='disclosed'), Text(entity=None, string='disclosed', span=(0, 9))), (Content(xpath='/html/body/div[1]/div/div[2]/div/div/div/div[1]/article/div/section/section/p[1]/a', tag='a', prop='tail', text=' that it became a victim of a targeted, highly-impactful ransomware. In the days following the disclosure, it was revealed that the ransomware family most likely behind the attack was “HelloKitty”.'), Text(entity=None, string=' that it became a victim of a targeted, highly-impactful ransomware. In the days following the disclosure, it was revealed that the ransomware family most likely behind the attack was “HelloKitty”.', span=(0, 197))), (Content(xpath='/html/body/div[1]/div/div[2]/div/div/div/div[1]/article/div/section/section/p[3]', tag='p', prop='text', text='HelloKitty is a ransomware family that emerged in late 2020. While it lacks the sophistication of some of the more well-known families such as Ryuk, REvil, and Conti, it has nevertheless struck some notable targets, including CEMIG0. In this post, we analyse a recent HelloKitty sample and outline the basic behaviors and traits associated with this family of ransomware.'), Text(entity=None, string='HelloKitty is a ransomware family that emerged in late 2020. While it lacks the sophistication of some of the more well-known families such as Ryuk, REvil, and Conti, it has nevertheless struck some notable targets, including CEMIG0. In this post, we analyse a recent HelloKitty sample and outline the basic behaviors and traits associated with this family of ransomware.', span=(0, 371))), (Content(xpath='/html/body/div[1]/div/div[2]/div/div/div/div[1]/article/div/section/section/p[3]', tag='p', prop='tail', text='\\n'), Text(entity=None, string='\\n', span=(0, 1))), (Content(xpath='/html/body/div[1]/div/div[2]/div/div/div/div[1]/article/div/section/section/h2[1]', tag='h2', prop='text', text='Execution and Behavior'), Text(entity=None, string='Execution and Behavior', span=(0, 22))), (Content(xpath='/html/body/div[1]/div/div[2]/div/div/div/div[1]/article/div/section/section/h2[1]', tag='h2', prop='tail', text='\\n'), Text(entity=None, string='\\n', span=(0, 1))), (Content(xpath='/html/body/div[1]/div/div[2]/div/div/div/div[1]/article/div/section/section/p[4]', tag='p', prop='text', text='The “HelloKitty” name is based on internal mutex names, which are apparent upon execution.'), Text(entity=None, string='The “HelloKitty” name is based on internal mutex names, which are apparent upon execution.', span=(0, 90))), (Content(xpath='/html/body/div[1]/div/div[2]/div/div/div/div[1]/article/div/section/section/p[4]', tag='p', prop='tail', text='\\n'), Text(entity=None, string='\\n', span=(0, 1))), (Content(xpath='/html/body/div[1]/div/div[2]/div/div/div/div[1]/article/div/section/section/p[6]', tag='p', prop='text', text='While still somewhat unclear, current intelligence indicates that the primary delivery method of HelloKitty binaries is via phish email or via secondary infection in conjunction with other malware.'), Text(entity=None, string='While still somewhat unclear, current intelligence indicates that the primary delivery method of HelloKitty binaries is via phish email or via secondary infection in conjunction with other malware.', span=(0, 197))), (Content(xpath='/html/body/div[1]/div/div[2]/div/div/div/div[1]/article/div/section/section/p[6]', tag='p', prop='tail', text='\\n'), Text(entity=None, string='\\n', span=(0, 1))), (Content(xpath='/html/body/div[1]/div/div[2]/div/div/div/div[1]/article/div/section/section/p[7]', tag='p', prop='text', text='Once launched, HelloKitty will attempt to disable and terminate a number of processes and services so as to reduce interference with the encryption process. This includes processes and services associated with IIS, MSSQL, Quickbooks, Sharepoint, and more. These actions are carried out via '), Text(entity=None, string='Once launched, HelloKitty will attempt to disable and terminate a number of processes and services so as to reduce interference with the encryption process. This includes processes and services associated with IIS, MSSQL, Quickbooks, Sharepoint, and more. These actions are carried out via ', span=(0, 290))), (Content(xpath='/html/body/div[1]/div/div[2]/div/div/div/div[1]/article/div/section/section/p[7]', tag='p', prop='tail', text='\\n'), Text(entity=None, string='\\n', span=(0, 1))), (Content(xpath='/html/body/div[1]/div/div[2]/div/div/div/div[1]/article/div/section/section/p[7]/code[1]', tag='code', prop='text', text='taskkill.exe'), Text(entity='FilePath', string='taskkill.exe', span=(0, 12))), (Content(xpath='/html/body/div[1]/div/div[2]/div/div/div/div[1]/article/div/section/section/p[7]/code[1]', tag='code', prop='tail', text=' and '), Text(entity=None, string=' and ', span=(0, 5))), (Content(xpath='/html/body/div[1]/div/div[2]/div/div/div/div[1]/article/div/section/section/p[7]/code[2]', tag='code', prop='text', text='net.exe'), Text(entity='FilePath', string='net.exe', span=(0, 7))), (Content(xpath='/html/body/div[1]/div/div[2]/div/div/div/div[1]/article/div/section/section/p[7]/code[2]', tag='code', prop='tail', text='.'), Text(entity=None, string='.', span=(0, 1))), (Content(xpath='/html/body/div[1]/div/div[2]/div/div/div/div[1]/article/div/section/section/p[8]', tag='p', prop='text', text='In the analyzed sample, this is all done in a very non-stealthy manner. All spawned CMD windows are in the foreground and fully visible. This ‘lack of discreteness’ is atypical for modern ransomware, or any successful malware, for that matter.'), Text(entity=None, string='In the analyzed sample, this is all done in a very non-stealthy manner. All spawned CMD windows are in the foreground and fully visible. This ‘lack of discreteness’ is atypical for modern ransomware, or any successful malware, for that matter.', span=(0, 243))), (Content(xpath='/html/body/div[1]/div/div[2]/div/div/div/div[1]/article/div/section/section/p[8]', tag='p', prop='tail', text='\\n'), Text(entity=None, string='\\n', span=(0, 1))), (Content(xpath='/html/body/div[1]/div/div[2]/div/div/div/div[1]/article/div/section/section/p[10]', tag='p', prop='text', text='A full list of processes from the analyzed sample are listed below:'), Text(entity=None, string='A full list of processes from the analyzed sample are listed below:', span=(0, 67))), (Content(xpath='/html/body/div[1]/div/div[2]/div/div/div/div[1]/article/div/section/section/p[10]', tag='p', prop='tail', text='\\n'), Text(entity=None, string='\\n', span=(0, 1))), (Content(xpath='/html/body/div[1]/div/div[2]/div/div/div/div[1]/article/div/section/section/pre[1]', tag='pre', prop='text', text='\\ndsa*\\nNtrtsca\\nds_moni\\nNotifie\\nTmListe\\niVPAgen\\nCNTAoSM\\nIBM*\\nbes10*\\nblack*\\nrobo*\\ncopy*\\nstore.e\\nsql*\\nvee*\\nwrsa*\\nwrsa.ex\\npostg*\\nsage*\\nMSSQLServerADHelper100\\nMSSQL$ISARS\\nMSSQL$MSFW\\nSQLAgent$ISARS\\nSQLAgent$MSFW\\nSQLBrowser\\nReportServer$ISARS\\nSQLWriter\\nWinDefend\\nmr2kserv\\nMSExchangeADTopology\\nMSExchangeFBA\\nMSExchangeIS\\nMSExchangeSA\\nShadowProtectSvc\\nSPAdminV4\\nSPTimerV4\\nSPTraceV4\\nSPUserCodeV4\\nSPWriterV4\\nSPSearch4\\nIISADMIN\\nfirebirdguardiandefaultinstance\\nibmiasrw\\nQBCFMonitorService\\nQBVSS\\nQBPOSDBServiceV12\\n\"IBM Domino Server(CProgramFilesIBMDominodata)\"\\n\"IBM Domino Diagnostics(CProgramFilesIBMDomino)\"\\n\"Simply Accounting Database Connection Manager\"\\nQuickBooksDB1\\nQuickBooksDB2\\nQuickBooksDB3\\nQuickBooksDB4\\nQuickBooksDB5\\nQuickBooksDB6\\nQuickBooksDB7\\nQuickBooksDB8\\nQuickBooksDB9\\nQuickBooksDB10\\nQuickBooksDB11\\nQuickBooksDB12\\nQuickBooksDB13\\nQuickBooksDB14\\nQuickBooksDB15\\nQuickBooksDB16\\nQuickBooksDB17\\nQuickBooksDB18\\nQuickBooksDB19\\nQuickBooksDB20\\nQuickBooksDB21\\nQuickBooksDB22\\nQuickBooksDB23\\nQuickBooksDB24\\nQuickBooksDB25\\n'), Text(entity=None, string='\\ndsa*\\nNtrtsca\\nds_moni\\nNotifie\\nTmListe\\niVPAgen\\nCNTAoSM\\nIBM*\\nbes10*\\nblack*\\nrobo*\\ncopy*\\n', span=(0, 85))), (Content(xpath='/html/body/div[1]/div/div[2]/div/div/div/div[1]/article/div/section/section/pre[1]', tag='pre', prop='text', text='\\ndsa*\\nNtrtsca\\nds_moni\\nNotifie\\nTmListe\\niVPAgen\\nCNTAoSM\\nIBM*\\nbes10*\\nblack*\\nrobo*\\ncopy*\\nstore.e\\nsql*\\nvee*\\nwrsa*\\nwrsa.ex\\npostg*\\nsage*\\nMSSQLServerADHelper100\\nMSSQL$ISARS\\nMSSQL$MSFW\\nSQLAgent$ISARS\\nSQLAgent$MSFW\\nSQLBrowser\\nReportServer$ISARS\\nSQLWriter\\nWinDefend\\nmr2kserv\\nMSExchangeADTopology\\nMSExchangeFBA\\nMSExchangeIS\\nMSExchangeSA\\nShadowProtectSvc\\nSPAdminV4\\nSPTimerV4\\nSPTraceV4\\nSPUserCodeV4\\nSPWriterV4\\nSPSearch4\\nIISADMIN\\nfirebirdguardiandefaultinstance\\nibmiasrw\\nQBCFMonitorService\\nQBVSS\\nQBPOSDBServiceV12\\n\"IBM Domino Server(CProgramFilesIBMDominodata)\"\\n\"IBM Domino Diagnostics(CProgramFilesIBMDomino)\"\\n\"Simply Accounting Database Connection Manager\"\\nQuickBooksDB1\\nQuickBooksDB2\\nQuickBooksDB3\\nQuickBooksDB4\\nQuickBooksDB5\\nQuickBooksDB6\\nQuickBooksDB7\\nQuickBooksDB8\\nQuickBooksDB9\\nQuickBooksDB10\\nQuickBooksDB11\\nQuickBooksDB12\\nQuickBooksDB13\\nQuickBooksDB14\\nQuickBooksDB15\\nQuickBooksDB16\\nQuickBooksDB17\\nQuickBooksDB18\\nQuickBooksDB19\\nQuickBooksDB20\\nQuickBooksDB21\\nQuickBooksDB22\\nQuickBooksDB23\\nQuickBooksDB24\\nQuickBooksDB25\\n'), Text(entity='FilePath', string='store.e', span=(85, 92))), (Content(xpath='/html/body/div[1]/div/div[2]/div/div/div/div[1]/article/div/section/section/pre[1]', tag='pre', prop='text', text='\\ndsa*\\nNtrtsca\\nds_moni\\nNotifie\\nTmListe\\niVPAgen\\nCNTAoSM\\nIBM*\\nbes10*\\nblack*\\nrobo*\\ncopy*\\nstore.e\\nsql*\\nvee*\\nwrsa*\\nwrsa.ex\\npostg*\\nsage*\\nMSSQLServerADHelper100\\nMSSQL$ISARS\\nMSSQL$MSFW\\nSQLAgent$ISARS\\nSQLAgent$MSFW\\nSQLBrowser\\nReportServer$ISARS\\nSQLWriter\\nWinDefend\\nmr2kserv\\nMSExchangeADTopology\\nMSExchangeFBA\\nMSExchangeIS\\nMSExchangeSA\\nShadowProtectSvc\\nSPAdminV4\\nSPTimerV4\\nSPTraceV4\\nSPUserCodeV4\\nSPWriterV4\\nSPSearch4\\nIISADMIN\\nfirebirdguardiandefaultinstance\\nibmiasrw\\nQBCFMonitorService\\nQBVSS\\nQBPOSDBServiceV12\\n\"IBM Domino Server(CProgramFilesIBMDominodata)\"\\n\"IBM Domino Diagnostics(CProgramFilesIBMDomino)\"\\n\"Simply Accounting Database Connection Manager\"\\nQuickBooksDB1\\nQuickBooksDB2\\nQuickBooksDB3\\nQuickBooksDB4\\nQuickBooksDB5\\nQuickBooksDB6\\nQuickBooksDB7\\nQuickBooksDB8\\nQuickBooksDB9\\nQuickBooksDB10\\nQuickBooksDB11\\nQuickBooksDB12\\nQuickBooksDB13\\nQuickBooksDB14\\nQuickBooksDB15\\nQuickBooksDB16\\nQuickBooksDB17\\nQuickBooksDB18\\nQuickBooksDB19\\nQuickBooksDB20\\nQuickBooksDB21\\nQuickBooksDB22\\nQuickBooksDB23\\nQuickBooksDB24\\nQuickBooksDB25\\n'), Text(entity=None, string='\\nsql*\\nvee*\\nwrsa*\\n', span=(92, 109))), (Content(xpath='/html/body/div[1]/div/div[2]/div/div/div/div[1]/article/div/section/section/pre[1]', tag='pre', prop='text', text='\\ndsa*\\nNtrtsca\\nds_moni\\nNotifie\\nTmListe\\niVPAgen\\nCNTAoSM\\nIBM*\\nbes10*\\nblack*\\nrobo*\\ncopy*\\nstore.e\\nsql*\\nvee*\\nwrsa*\\nwrsa.ex\\npostg*\\nsage*\\nMSSQLServerADHelper100\\nMSSQL$ISARS\\nMSSQL$MSFW\\nSQLAgent$ISARS\\nSQLAgent$MSFW\\nSQLBrowser\\nReportServer$ISARS\\nSQLWriter\\nWinDefend\\nmr2kserv\\nMSExchangeADTopology\\nMSExchangeFBA\\nMSExchangeIS\\nMSExchangeSA\\nShadowProtectSvc\\nSPAdminV4\\nSPTimerV4\\nSPTraceV4\\nSPUserCodeV4\\nSPWriterV4\\nSPSearch4\\nIISADMIN\\nfirebirdguardiandefaultinstance\\nibmiasrw\\nQBCFMonitorService\\nQBVSS\\nQBPOSDBServiceV12\\n\"IBM Domino Server(CProgramFilesIBMDominodata)\"\\n\"IBM Domino Diagnostics(CProgramFilesIBMDomino)\"\\n\"Simply Accounting Database Connection Manager\"\\nQuickBooksDB1\\nQuickBooksDB2\\nQuickBooksDB3\\nQuickBooksDB4\\nQuickBooksDB5\\nQuickBooksDB6\\nQuickBooksDB7\\nQuickBooksDB8\\nQuickBooksDB9\\nQuickBooksDB10\\nQuickBooksDB11\\nQuickBooksDB12\\nQuickBooksDB13\\nQuickBooksDB14\\nQuickBooksDB15\\nQuickBooksDB16\\nQuickBooksDB17\\nQuickBooksDB18\\nQuickBooksDB19\\nQuickBooksDB20\\nQuickBooksDB21\\nQuickBooksDB22\\nQuickBooksDB23\\nQuickBooksDB24\\nQuickBooksDB25\\n'), Text(entity='FilePath', string='wrsa.ex', span=(109, 116))), (Content(xpath='/html/body/div[1]/div/div[2]/div/div/div/div[1]/article/div/section/section/pre[1]', tag='pre', prop='text', text='\\ndsa*\\nNtrtsca\\nds_moni\\nNotifie\\nTmListe\\niVPAgen\\nCNTAoSM\\nIBM*\\nbes10*\\nblack*\\nrobo*\\ncopy*\\nstore.e\\nsql*\\nvee*\\nwrsa*\\nwrsa.ex\\npostg*\\nsage*\\nMSSQLServerADHelper100\\nMSSQL$ISARS\\nMSSQL$MSFW\\nSQLAgent$ISARS\\nSQLAgent$MSFW\\nSQLBrowser\\nReportServer$ISARS\\nSQLWriter\\nWinDefend\\nmr2kserv\\nMSExchangeADTopology\\nMSExchangeFBA\\nMSExchangeIS\\nMSExchangeSA\\nShadowProtectSvc\\nSPAdminV4\\nSPTimerV4\\nSPTraceV4\\nSPUserCodeV4\\nSPWriterV4\\nSPSearch4\\nIISADMIN\\nfirebirdguardiandefaultinstance\\nibmiasrw\\nQBCFMonitorService\\nQBVSS\\nQBPOSDBServiceV12\\n\"IBM Domino Server(CProgramFilesIBMDominodata)\"\\n\"IBM Domino Diagnostics(CProgramFilesIBMDomino)\"\\n\"Simply Accounting Database Connection Manager\"\\nQuickBooksDB1\\nQuickBooksDB2\\nQuickBooksDB3\\nQuickBooksDB4\\nQuickBooksDB5\\nQuickBooksDB6\\nQuickBooksDB7\\nQuickBooksDB8\\nQuickBooksDB9\\nQuickBooksDB10\\nQuickBooksDB11\\nQuickBooksDB12\\nQuickBooksDB13\\nQuickBooksDB14\\nQuickBooksDB15\\nQuickBooksDB16\\nQuickBooksDB17\\nQuickBooksDB18\\nQuickBooksDB19\\nQuickBooksDB20\\nQuickBooksDB21\\nQuickBooksDB22\\nQuickBooksDB23\\nQuickBooksDB24\\nQuickBooksDB25\\n'), Text(entity=None, string='\\npostg*\\nsage*\\nMSSQLServerADHelper100\\nMSSQL$ISARS\\nMSSQL$MSFW\\nSQLAgent$ISARS\\nSQLAgent$MSFW\\nSQLBrowser\\nReportServer$ISARS\\nSQLWriter\\nWinDefend\\nmr2kserv\\nMSExchangeADTopology\\nMSExchangeFBA\\nMSExchangeIS\\nMSExchangeSA\\nShadowProtectSvc\\nSPAdminV4\\nSPTimerV4\\nSPTraceV4\\nSPUserCodeV4\\nSPWriterV4\\nSPSearch4\\nIISADMIN\\nfirebirdguardiandefaultinstance\\nibmiasrw\\nQBCFMonitorService\\nQBVSS\\nQBPOSDBServiceV12\\n\"IBM Domino Server(CProgramFilesIBMDominodata)\"\\n\"IBM Domino Diagnostics(CProgramFilesIBMDomino)\"\\n\"Simply Accounting Database Connection Manager\"\\nQuickBooksDB1\\nQuickBooksDB2\\nQuickBooksDB3\\nQuickBooksDB4\\nQuickBooksDB5\\nQuickBooksDB6\\nQuickBooksDB7\\nQuickBooksDB8\\nQuickBooksDB9\\nQuickBooksDB10\\nQuickBooksDB11\\nQuickBooksDB12\\nQuickBooksDB13\\nQuickBooksDB14\\nQuickBooksDB15\\nQuickBooksDB16\\nQuickBooksDB17\\nQuickBooksDB18\\nQuickBooksDB19\\nQuickBooksDB20\\nQuickBooksDB21\\nQuickBooksDB22\\nQuickBooksDB23\\nQuickBooksDB24\\nQuickBooksDB25\\n', span=(116, 1010))), (Content(xpath='/html/body/div[1]/div/div[2]/div/div/div/div[1]/article/div/section/section/pre[1]', tag='pre', prop='tail', text='\\n'), Text(entity=None, string='\\n', span=(0, 1))), (Content(xpath='/html/body/div[1]/div/div[2]/div/div/div/div[1]/article/div/section/section/p[11]', tag='p', prop='text', text='Additional processes and services that are terminated are identified via PID. For example:'), Text(entity=None, string='Additional processes and services that are terminated are identified via PID. For example:', span=(0, 90))), (Content(xpath='/html/body/div[1]/div/div[2]/div/div/div/div[1]/article/div/section/section/p[11]', tag='p', prop='tail', text='\\n'), Text(entity=None, string='\\n', span=(0, 1))), (Content(xpath='/html/body/div[1]/div/div[2]/div/div/div/div[1]/article/div/section/section/p[12]/code[1]', tag='code', prop='text', text='taskkill.exe /f /PID \"8512\"'), Text(entity='FilePath', string='taskkill.exe', span=(0, 12))), (Content(xpath='/html/body/div[1]/div/div[2]/div/div/div/div[1]/article/div/section/section/p[12]/code[1]', tag='code', prop='text', text='taskkill.exe /f /PID \"8512\"'), Text(entity=None, string=' /f /PID \"8512\"', span=(12, 27))), (Content(xpath='/html/body/div[1]/div/div[2]/div/div/div/div[1]/article/div/section/section/p[12]/code[2]', tag='code', prop='text', text='taskkill.exe /f /PID \"8656\"'), Text(entity='FilePath', string='taskkill.exe', span=(0, 12))), (Content(xpath='/html/body/div[1]/div/div[2]/div/div/div/div[1]/article/div/section/section/p[12]/code[2]', tag='code', prop='text', text='taskkill.exe /f /PID \"8656\"'), Text(entity=None, string=' /f /PID \"8656\"', span=(12, 27))), (Content(xpath='/html/body/div[1]/div/div[2]/div/div/div/div[1]/article/div/section/section/p[13]', tag='p', prop='text', text='If HelloKitty is unable to stop any specific processes or services, it will leverage the Windows Restart Manager API to further assist in termination.'), Text(entity=None, string='If HelloKitty is unable to stop any specific processes or services, it will leverage the Windows Restart Manager API to further assist in termination.', span=(0, 150))), (Content(xpath='/html/body/div[1]/div/div[2]/div/div/div/div[1]/article/div/section/section/p[13]', tag='p', prop='tail', text='\\n'), Text(entity=None, string='\\n', span=(0, 1))), (Content(xpath='/html/body/div[1]/div/div[2]/div/div/div/div[1]/article/div/section/section/p[15]', tag='p', prop='text', text='HelloKitty will also utilize WMI to gather system details and help identify running processes and any potentially problematic processes. This is done both by name and by PID. A number of examples are shown below:'), Text(entity=None, string='HelloKitty will also utilize WMI to gather system details and help identify running processes and any potentially problematic processes. This is done both by name and by PID. A number of examples are shown below:', span=(0, 212))), (Content(xpath='/html/body/div[1]/div/div[2]/div/div/div/div[1]/article/div/section/section/p[15]', tag='p', prop='tail', text='\\n'), Text(entity=None, string='\\n', span=(0, 1))), (Content(xpath='/html/body/div[1]/div/div[2]/div/div/div/div[1]/article/div/section/section/pre[2]', tag='pre', prop='text', text='\\nstart iwbemservices::execquery - root\\\\cimv2 : select __path, processid, csname, caption, sessionid, threadcount, workingsetsize, kernelmodetime, usermodetime, parentprocessid from win32_process\\n\\nstart iwbemservices::execquery - root\\\\cimv2 : select __path, processid, csname, caption, sessionid, threadcount, workingsetsize, kernelmodetime, usermodetime, parentprocessid from win32_process where (  caption = \"store.exe\")\\n\\nstart iwbemservices::execquery - root\\\\cimv2 : select __path, processid, csname, caption, sessionid, threadcount, workingsetsize, kernelmodetime, usermodetime, parentprocessid from win32_process where (  caption = \"wrsa.exe\")\\n\\nstart iwbemservices::execquery - root\\\\cimv2 : select __path, processid, csname, caption, sessionid, threadcount, workingsetsize, kernelmodetime, usermodetime, parentprocessid from win32_process where (  processid = 3036)\\n\\nstart iwbemservices::execquery - root\\\\cimv2 : select __path, processid, csname, caption, sessionid, threadcount, workingsetsize, kernelmodetime, usermodetime, parentprocessid from win32_process where (  processid = 4460)\\n\\nstart iwbemservices::execquery - root\\\\cimv2 : select __path, processid, csname, caption, sessionid, threadcount, workingsetsize, kernelmodetime, usermodetime, parentprocessid from win32_process where (  processid = 3052)\\n\\nstart iwbemservices::execquery - root\\\\cimv2 : select __path, processid, csname, caption, sessionid, threadcount, workingsetsize, kernelmodetime, usermodetime, parentprocessid from win32_process where (  processid = 4476)\\n\\nstart iwbemservices::execquery - root\\\\cimv2 : select __path, processid, csname, caption, sessionid, threadcount, workingsetsize, kernelmodetime, usermodetime, parentprocessid from win32_process where (  processid = 1560)\\n\\nstart iwbemservices::execquery - root\\\\cimv2 : select __path, processid, csname, caption, sessionid, threadcount, workingsetsize, kernelmodetime, usermodetime, parentprocessid from win32_process where (  processid = 8124)\\n\\nstart iwbemservices::exe\\n'), Text(entity=None, string='\\nstart iwbemservices::execquery - root\\\\cimv2 : select __path, processid, csname, caption, sessionid, threadcount, workingsetsize, kernelmodetime, usermodetime, parentprocessid from win32_process\\n\\nstart iwbemservices::execquery - root\\\\cimv2 : select __path, processid, csname, caption, sessionid, threadcount, workingsetsize, kernelmodetime, usermodetime, parentprocessid from win32_process where (  caption = \"', span=(0, 410))), (Content(xpath='/html/body/div[1]/div/div[2]/div/div/div/div[1]/article/div/section/section/pre[2]', tag='pre', prop='text', text='\\nstart iwbemservices::execquery - root\\\\cimv2 : select __path, processid, csname, caption, sessionid, threadcount, workingsetsize, kernelmodetime, usermodetime, parentprocessid from win32_process\\n\\nstart iwbemservices::execquery - root\\\\cimv2 : select __path, processid, csname, caption, sessionid, threadcount, workingsetsize, kernelmodetime, usermodetime, parentprocessid from win32_process where (  caption = \"store.exe\")\\n\\nstart iwbemservices::execquery - root\\\\cimv2 : select __path, processid, csname, caption, sessionid, threadcount, workingsetsize, kernelmodetime, usermodetime, parentprocessid from win32_process where (  caption = \"wrsa.exe\")\\n\\nstart iwbemservices::execquery - root\\\\cimv2 : select __path, processid, csname, caption, sessionid, threadcount, workingsetsize, kernelmodetime, usermodetime, parentprocessid from win32_process where (  processid = 3036)\\n\\nstart iwbemservices::execquery - root\\\\cimv2 : select __path, processid, csname, caption, sessionid, threadcount, workingsetsize, kernelmodetime, usermodetime, parentprocessid from win32_process where (  processid = 4460)\\n\\nstart iwbemservices::execquery - root\\\\cimv2 : select __path, processid, csname, caption, sessionid, threadcount, workingsetsize, kernelmodetime, usermodetime, parentprocessid from win32_process where (  processid = 3052)\\n\\nstart iwbemservices::execquery - root\\\\cimv2 : select __path, processid, csname, caption, sessionid, threadcount, workingsetsize, kernelmodetime, usermodetime, parentprocessid from win32_process where (  processid = 4476)\\n\\nstart iwbemservices::execquery - root\\\\cimv2 : select __path, processid, csname, caption, sessionid, threadcount, workingsetsize, kernelmodetime, usermodetime, parentprocessid from win32_process where (  processid = 1560)\\n\\nstart iwbemservices::execquery - root\\\\cimv2 : select __path, processid, csname, caption, sessionid, threadcount, workingsetsize, kernelmodetime, usermodetime, parentprocessid from win32_process where (  processid = 8124)\\n\\nstart iwbemservices::exe\\n'), Text(entity='FilePath', string='store.exe', span=(410, 419))), (Content(xpath='/html/body/div[1]/div/div[2]/div/div/div/div[1]/article/div/section/section/pre[2]', tag='pre', prop='text', text='\\nstart iwbemservices::execquery - root\\\\cimv2 : select __path, processid, csname, caption, sessionid, threadcount, workingsetsize, kernelmodetime, usermodetime, parentprocessid from win32_process\\n\\nstart iwbemservices::execquery - root\\\\cimv2 : select __path, processid, csname, caption, sessionid, threadcount, workingsetsize, kernelmodetime, usermodetime, parentprocessid from win32_process where (  caption = \"store.exe\")\\n\\nstart iwbemservices::execquery - root\\\\cimv2 : select __path, processid, csname, caption, sessionid, threadcount, workingsetsize, kernelmodetime, usermodetime, parentprocessid from win32_process where (  caption = \"wrsa.exe\")\\n\\nstart iwbemservices::execquery - root\\\\cimv2 : select __path, processid, csname, caption, sessionid, threadcount, workingsetsize, kernelmodetime, usermodetime, parentprocessid from win32_process where (  processid = 3036)\\n\\nstart iwbemservices::execquery - root\\\\cimv2 : select __path, processid, csname, caption, sessionid, threadcount, workingsetsize, kernelmodetime, usermodetime, parentprocessid from win32_process where (  processid = 4460)\\n\\nstart iwbemservices::execquery - root\\\\cimv2 : select __path, processid, csname, caption, sessionid, threadcount, workingsetsize, kernelmodetime, usermodetime, parentprocessid from win32_process where (  processid = 3052)\\n\\nstart iwbemservices::execquery - root\\\\cimv2 : select __path, processid, csname, caption, sessionid, threadcount, workingsetsize, kernelmodetime, usermodetime, parentprocessid from win32_process where (  processid = 4476)\\n\\nstart iwbemservices::execquery - root\\\\cimv2 : select __path, processid, csname, caption, sessionid, threadcount, workingsetsize, kernelmodetime, usermodetime, parentprocessid from win32_process where (  processid = 1560)\\n\\nstart iwbemservices::execquery - root\\\\cimv2 : select __path, processid, csname, caption, sessionid, threadcount, workingsetsize, kernelmodetime, usermodetime, parentprocessid from win32_process where (  processid = 8124)\\n\\nstart iwbemservices::exe\\n'), Text(entity=None, string='\")\\n\\nstart iwbemservices::execquery - root\\\\cimv2 : select __path, processid, csname, caption, sessionid, threadcount, workingsetsize, kernelmodetime, usermodetime, parentprocessid from win32_process where (  caption = \"', span=(419, 637))), (Content(xpath='/html/body/div[1]/div/div[2]/div/div/div/div[1]/article/div/section/section/pre[2]', tag='pre', prop='text', text='\\nstart iwbemservices::execquery - root\\\\cimv2 : select __path, processid, csname, caption, sessionid, threadcount, workingsetsize, kernelmodetime, usermodetime, parentprocessid from win32_process\\n\\nstart iwbemservices::execquery - root\\\\cimv2 : select __path, processid, csname, caption, sessionid, threadcount, workingsetsize, kernelmodetime, usermodetime, parentprocessid from win32_process where (  caption = \"store.exe\")\\n\\nstart iwbemservices::execquery - root\\\\cimv2 : select __path, processid, csname, caption, sessionid, threadcount, workingsetsize, kernelmodetime, usermodetime, parentprocessid from win32_process where (  caption = \"wrsa.exe\")\\n\\nstart iwbemservices::execquery - root\\\\cimv2 : select __path, processid, csname, caption, sessionid, threadcount, workingsetsize, kernelmodetime, usermodetime, parentprocessid from win32_process where (  processid = 3036)\\n\\nstart iwbemservices::execquery - root\\\\cimv2 : select __path, processid, csname, caption, sessionid, threadcount, workingsetsize, kernelmodetime, usermodetime, parentprocessid from win32_process where (  processid = 4460)\\n\\nstart iwbemservices::execquery - root\\\\cimv2 : select __path, processid, csname, caption, sessionid, threadcount, workingsetsize, kernelmodetime, usermodetime, parentprocessid from win32_process where (  processid = 3052)\\n\\nstart iwbemservices::execquery - root\\\\cimv2 : select __path, processid, csname, caption, sessionid, threadcount, workingsetsize, kernelmodetime, usermodetime, parentprocessid from win32_process where (  processid = 4476)\\n\\nstart iwbemservices::execquery - root\\\\cimv2 : select __path, processid, csname, caption, sessionid, threadcount, workingsetsize, kernelmodetime, usermodetime, parentprocessid from win32_process where (  processid = 1560)\\n\\nstart iwbemservices::execquery - root\\\\cimv2 : select __path, processid, csname, caption, sessionid, threadcount, workingsetsize, kernelmodetime, usermodetime, parentprocessid from win32_process where (  processid = 8124)\\n\\nstart iwbemservices::exe\\n'), Text(entity='FilePath', string='wrsa.exe', span=(637, 645))), (Content(xpath='/html/body/div[1]/div/div[2]/div/div/div/div[1]/article/div/section/section/pre[2]', tag='pre', prop='text', text='\\nstart iwbemservices::execquery - root\\\\cimv2 : select __path, processid, csname, caption, sessionid, threadcount, workingsetsize, kernelmodetime, usermodetime, parentprocessid from win32_process\\n\\nstart iwbemservices::execquery - root\\\\cimv2 : select __path, processid, csname, caption, sessionid, threadcount, workingsetsize, kernelmodetime, usermodetime, parentprocessid from win32_process where (  caption = \"store.exe\")\\n\\nstart iwbemservices::execquery - root\\\\cimv2 : select __path, processid, csname, caption, sessionid, threadcount, workingsetsize, kernelmodetime, usermodetime, parentprocessid from win32_process where (  caption = \"wrsa.exe\")\\n\\nstart iwbemservices::execquery - root\\\\cimv2 : select __path, processid, csname, caption, sessionid, threadcount, workingsetsize, kernelmodetime, usermodetime, parentprocessid from win32_process where (  processid = 3036)\\n\\nstart iwbemservices::execquery - root\\\\cimv2 : select __path, processid, csname, caption, sessionid, threadcount, workingsetsize, kernelmodetime, usermodetime, parentprocessid from win32_process where (  processid = 4460)\\n\\nstart iwbemservices::execquery - root\\\\cimv2 : select __path, processid, csname, caption, sessionid, threadcount, workingsetsize, kernelmodetime, usermodetime, parentprocessid from win32_process where (  processid = 3052)\\n\\nstart iwbemservices::execquery - root\\\\cimv2 : select __path, processid, csname, caption, sessionid, threadcount, workingsetsize, kernelmodetime, usermodetime, parentprocessid from win32_process where (  processid = 4476)\\n\\nstart iwbemservices::execquery - root\\\\cimv2 : select __path, processid, csname, caption, sessionid, threadcount, workingsetsize, kernelmodetime, usermodetime, parentprocessid from win32_process where (  processid = 1560)\\n\\nstart iwbemservices::execquery - root\\\\cimv2 : select __path, processid, csname, caption, sessionid, threadcount, workingsetsize, kernelmodetime, usermodetime, parentprocessid from win32_process where (  processid = 8124)\\n\\nstart iwbemservices::exe\\n'), Text(entity=None, string='\")\\n\\nstart iwbemservices::execquery - root\\\\cimv2 : select __path, processid, csname, caption, sessionid, threadcount, workingsetsize, kernelmodetime, usermodetime, parentprocessid from win32_process where (  processid = 3036)\\n\\nstart iwbemservices::execquery - root\\\\cimv2 : select __path, processid, csname, caption, sessionid, threadcount, workingsetsize, kernelmodetime, usermodetime, parentprocessid from win32_process where (  processid = 4460)\\n\\nstart iwbemservices::execquery - root\\\\cimv2 : select __path, processid, csname, caption, sessionid, threadcount, workingsetsize, kernelmodetime, usermodetime, parentprocessid from win32_process where (  processid = 3052)\\n\\nstart iwbemservices::execquery - root\\\\cimv2 : select __path, processid, csname, caption, sessionid, threadcount, workingsetsize, kernelmodetime, usermodetime, parentprocessid from win32_process where (  processid = 4476)\\n\\nstart iwbemservices::execquery - root\\\\cimv2 : select __path, processid, csname, caption, sessionid, threadcount, workingsetsize, kernelmodetime, usermodetime, parentprocessid from win32_process where (  processid = 1560)\\n\\nstart iwbemservices::execquery - root\\\\cimv2 : select __path, processid, csname, caption, sessionid, threadcount, workingsetsize, kernelmodetime, usermodetime, parentprocessid from win32_process where (  processid = 8124)\\n\\nstart iwbemservices::exe\\n', span=(645, 2006))), (Content(xpath='/html/body/div[1]/div/div[2]/div/div/div/div[1]/article/div/section/section/pre[2]', tag='pre', prop='tail', text='\\n'), Text(entity=None, string='\\n', span=(0, 1))), (Content(xpath='/html/body/div[1]/div/div[2]/div/div/div/div[1]/article/div/section/section/h2[2]', tag='h2', prop='text', text='Encryption and Ransom Note'), Text(entity=None, string='Encryption and Ransom Note', span=(0, 26))), (Content(xpath='/html/body/div[1]/div/div[2]/div/div/div/div[1]/article/div/section/section/h2[2]', tag='h2', prop='tail', text='\\n'), Text(entity=None, string='\\n', span=(0, 1))), (Content(xpath='/html/body/div[1]/div/div[2]/div/div/div/div[1]/article/div/section/section/p[16]', tag='p', prop='text', text='Encryption is initiated and completed very quickly once applicable services and processes have been terminated. Specific encryption recipes and routines can vary across variants of HelloKitty. Generally speaking, they tend to use a combination of AES-256 & RSA-2048 or even NTRU+AES-128.'), Text(entity=None, string='Encryption is initiated and completed very quickly once applicable services and processes have been terminated. Specific encryption recipes and routines can vary across variants of HelloKitty. Generally speaking, they tend to use a combination of AES-256 & RSA-2048 or even NTRU+AES-128.', span=(0, 287))), (Content(xpath='/html/body/div[1]/div/div[2]/div/div/div/div[1]/article/div/section/section/p[16]', tag='p', prop='tail', text='\\n'), Text(entity=None, string='\\n', span=(0, 1))), (Content(xpath='/html/body/div[1]/div/div[2]/div/div/div/div[1]/article/div/section/section/p[17]', tag='p', prop='text', text='Once encrypted, affected files receive the '), Text(entity=None, string='Once encrypted, affected files receive the ', span=(0, 43))), (Content(xpath='/html/body/div[1]/div/div[2]/div/div/div/div[1]/article/div/section/section/p[17]', tag='p', prop='tail', text='\\n'), Text(entity=None, string='\\n', span=(0, 1))), (Content(xpath='/html/body/div[1]/div/div[2]/div/div/div/div[1]/article/div/section/section/p[17]/code', tag='code', prop='text', text='.crypted'), Text(entity=None, string='.crypted', span=(0, 8))), (Content(xpath='/html/body/div[1]/div/div[2]/div/div/div/div[1]/article/div/section/section/p[17]/code', tag='code', prop='tail', text=' extension.'), Text(entity=None, string=' extension.', span=(0, 11))), (Content(xpath='/html/body/div[1]/div/div[2]/div/div/div/div[1]/article/div/section/section/p[19]', tag='p', prop='text', text='Ransom notes are typically customized to directly reference the victim and victim’s environment. Victims are instructed to visit a TOR-based payment and support portal. The following example has been sanitized:'), Text(entity=None, string='Ransom notes are typically customized to directly reference the victim and victim’s environment. Victims are instructed to visit a TOR-based payment and support portal. The following example has been sanitized:', span=(0, 210))), (Content(xpath='/html/body/div[1]/div/div[2]/div/div/div/div[1]/article/div/section/section/p[19]', tag='p', prop='tail', text='\\n'), Text(entity=None, string='\\n', span=(0, 1))), (Content(xpath='/html/body/div[1]/div/div[2]/div/div/div/div[1]/article/div/section/section/p[21]', tag='p', prop='text', text='It is also important to note that as of this writing, the onion address associated with HelloKitty ransom notes is not active.'), Text(entity=None, string='It is also important to note that as of this writing, the onion address associated with HelloKitty ransom notes is not active.', span=(0, 126))), (Content(xpath='/html/body/div[1]/div/div[2]/div/div/div/div[1]/article/div/section/section/p[21]', tag='p', prop='tail', text='\\n'), Text(entity=None, string='\\n', span=(0, 1))), (Content(xpath='/html/body/div[1]/div/div[2]/div/div/div/div[1]/article/div/section/section/p[22]/code', tag='code', prop='text', text='6x7dp6h3w6q3ugjv4yv5gycj3femb24kysgry5b44hhgfwc5ml5qrdad.onion'), Text(entity='domain', string='6x7dp6h3w6q3ugjv4yv5gycj3femb24kysgry5b44hhgfwc5ml5qrdad.onion', span=(0, 62))), (Content(xpath='/html/body/div[1]/div/div[2]/div/div/div/div[1]/article/div/section/section/h2[3]', tag='h2', prop='text', text='Conclusion'), Text(entity=None, string='Conclusion', span=(0, 10))), (Content(xpath='/html/body/div[1]/div/div[2]/div/div/div/div[1]/article/div/section/section/h2[3]', tag='h2', prop='tail', text='\\n'), Text(entity=None, string='\\n', span=(0, 1))), (Content(xpath='/html/body/div[1]/div/div[2]/div/div/div/div[1]/article/div/section/section/p[23]', tag='p', prop='text', text='HelloKitty may be easier to spot than other modern ransomware families, but upon execution it is no less dangerous. There are currently no known ‘weaknesses’ in the encryption routines, and there are no thirdy-party decrypters available for the HelloKitty ransomware. Therefore, the only true defense is prevention. While this family does not appear to be actively leaking victim data at the moment, that could change at any point, in addition to them choosing to adopt some of the more recent extortion methods that go along with ransomware (DDoS).'), Text(entity=None, string='HelloKitty may be easier to spot than other modern ransomware families, but upon execution it is no less dangerous. There are currently no known ‘weaknesses’ in the encryption routines, and there are no thirdy-party decrypters available for the HelloKitty ransomware. Therefore, the only true defense is prevention. While this family does not appear to be actively leaking victim data at the moment, that could change at any point, in addition to them choosing to adopt some of the more recent extortion methods that go along with ransomware (DDoS).', span=(0, 549))), (Content(xpath='/html/body/div[1]/div/div[2]/div/div/div/div[1]/article/div/section/section/p[23]', tag='p', prop='tail', text='\\n'), Text(entity=None, string='\\n', span=(0, 1))), (Content(xpath='/html/body/div[1]/div/div[2]/div/div/div/div[1]/article/div/section/section/p[24]', tag='p', prop='text', text='Actors behind the more recent campaign(s) are reportedly attempting to auction the CD Projekt data off in various ‘underground’ forums. At present this sale of this data does appear to be legitimate. Time will tell if additional victim data is dealt with in the same way.'), Text(entity=None, string='Actors behind the more recent campaign(s) are reportedly attempting to auction the CD Projekt data off in various ‘underground’ forums. At present this sale of this data does appear to be legitimate. Time will tell if additional victim data is dealt with in the same way.', span=(0, 271))), (Content(xpath='/html/body/div[1]/div/div[2]/div/div/div/div[1]/article/div/section/section/p[24]', tag='p', prop='tail', text='\\n'), Text(entity=None, string='\\n', span=(0, 1))), (Content(xpath='/html/body/div[1]/div/div[2]/div/div/div/div[1]/article/div/section/section/p[25]', tag='p', prop='text', text='To protect yourself against HelloKitty, make sure you are armed with a modern Endpoint Security platform, which is configured correctly and up to date. The SentinelOne Singularity Platform is fully capable of preventing and detecting all malicious behaviors associated with the HelloKitty ransomware family.'), Text(entity=None, string='To protect yourself against HelloKitty, make sure you are armed with a modern Endpoint Security platform, which is configured correctly and up to date. The SentinelOne Singularity Platform is fully capable of preventing and detecting all malicious behaviors associated with the HelloKitty ransomware family.', span=(0, 307))), (Content(xpath='/html/body/div[1]/div/div[2]/div/div/div/div[1]/article/div/section/section/p[25]', tag='p', prop='tail', text='\\n'), Text(entity=None, string='\\n', span=(0, 1))), (Content(xpath='/html/body/div[1]/div/div[2]/div/div/div/div[1]/article/div/section/section/h2[4]', tag='h2', prop='text', text='IOCs'), Text(entity=None, string='IOCs', span=(0, 4))), (Content(xpath='/html/body/div[1]/div/div[2]/div/div/div/div[1]/article/div/section/section/h2[4]', tag='h2', prop='tail', text='\\n'), Text(entity=None, string='\\n', span=(0, 1))), (Content(xpath='/html/body/div[1]/div/div[2]/div/div/div/div[1]/article/div/section/section/p[26]/strong', tag='strong', prop='text', text='SHA1'), Text(entity=None, string='SHA1', span=(0, 4))), (Content(xpath='/html/body/div[1]/div/div[2]/div/div/div/div[1]/article/div/section/section/p[26]/br', tag='br', prop='tail', text='\\nfadd8d7c13a18c251ded1f645ffea18a37f1c2de'), Text(entity=None, string='\\n', span=(0, 1))), (Content(xpath='/html/body/div[1]/div/div[2]/div/div/div/div[1]/article/div/section/section/p[26]/br', tag='br', prop='tail', text='\\nfadd8d7c13a18c251ded1f645ffea18a37f1c2de'), Text(entity='FileHash-SHA1', string='fadd8d7c13a18c251ded1f645ffea18a37f1c2de', span=(1, 41))), (Content(xpath='/html/body/div[1]/div/div[2]/div/div/div/div[1]/article/div/section/section/p[27]/strong', tag='strong', prop='text', text='SHA256'), Text(entity=None, string='SHA256', span=(0, 6))), (Content(xpath='/html/body/div[1]/div/div[2]/div/div/div/div[1]/article/div/section/section/p[27]/br', tag='br', prop='tail', text='\\n501487b025f25ddf1ca32deb57a2b4db43ccf6635c1edc74b9cff54ce0e5bcfe'), Text(entity=None, string='\\n', span=(0, 1))), (Content(xpath='/html/body/div[1]/div/div[2]/div/div/div/div[1]/article/div/section/section/p[27]/br', tag='br', prop='tail', text='\\n501487b025f25ddf1ca32deb57a2b4db43ccf6635c1edc74b9cff54ce0e5bcfe'), Text(entity='FileHash-SHA256', string='501487b025f25ddf1ca32deb57a2b4db43ccf6635c1edc74b9cff54ce0e5bcfe', span=(1, 65))), (Content(xpath='/html/body/div[1]/div/div[2]/div/div/div/div[1]/article/div/section/section/p[28]/strong', tag='strong', prop='text', text='MITRE ATT&CK'), Text(entity=None, string='MITRE ATT&CK', span=(0, 12))), (Content(xpath='/html/body/div[1]/div/div[2]/div/div/div/div[1]/article/div/section/section/p[28]/br[1]', tag='br', prop='tail', text='\\nData from Local System – '), Text(entity=None, string='\\nData from Local System – ', span=(0, 26))), (Content(xpath='/html/body/div[1]/div/div[2]/div/div/div/div[1]/article/div/section/section/p[28]/a[1]', tag='a', prop='text', text='T1005'), Text(entity='AttackTechnique', string='T1005', span=(0, 5))), (Content(xpath='/html/body/div[1]/div/div[2]/div/div/div/div[1]/article/div/section/section/p[28]/br[2]', tag='br', prop='tail', text='\\nModify Registry – '), Text(entity=None, string='\\nModify Registry – ', span=(0, 19))), (Content(xpath='/html/body/div[1]/div/div[2]/div/div/div/div[1]/article/div/section/section/p[28]/a[2]', tag='a', prop='text', text='T1112'), Text(entity='AttackTechnique', string='T1112', span=(0, 5))), (Content(xpath='/html/body/div[1]/div/div[2]/div/div/div/div[1]/article/div/section/section/p[28]/br[3]', tag='br', prop='tail', text='\\nQuery Registry – '), Text(entity=None, string='\\nQuery Registry – ', span=(0, 18))), (Content(xpath='/html/body/div[1]/div/div[2]/div/div/div/div[1]/article/div/section/section/p[28]/a[3]', tag='a', prop='text', text='T1012'), Text(entity='AttackTechnique', string='T1012', span=(0, 5))), (Content(xpath='/html/body/div[1]/div/div[2]/div/div/div/div[1]/article/div/section/section/p[28]/br[4]', tag='br', prop='tail', text='\\nSystem Information Discovery – '), Text(entity=None, string='\\nSystem Information Discovery – ', span=(0, 32))), (Content(xpath='/html/body/div[1]/div/div[2]/div/div/div/div[1]/article/div/section/section/p[28]/a[4]', tag='a', prop='text', text='T1082'), Text(entity='AttackTechnique', string='T1082', span=(0, 5))), (Content(xpath='/html/body/div[1]/div/div[2]/div/div/div/div[1]/article/div/section/section/p[28]/br[5]', tag='br', prop='tail', text='\\nData Encrypted for Impact – '), Text(entity=None, string='\\nData Encrypted for Impact – ', span=(0, 29))), (Content(xpath='/html/body/div[1]/div/div[2]/div/div/div/div[1]/article/div/section/section/p[28]/a[5]', tag='a', prop='text', text='T1486'), Text(entity='AttackTechnique', string='T1486', span=(0, 5))), (Content(xpath='/html/body/div[1]/div/div[2]/div/div/div/div[1]/article/div/section/section/p[28]/br[6]', tag='br', prop='tail', text='\\nFile Deletion – '), Text(entity=None, string='\\nFile Deletion – ', span=(0, 17))), (Content(xpath='/html/body/div[1]/div/div[2]/div/div/div/div[1]/article/div/section/section/p[28]/a[6]', tag='a', prop='text', text='T1070.004'), Text(entity='AttackTechnique', string='T1070.004', span=(0, 9))), (Content(xpath='/html/body/div[1]/div/div[2]/div/div/div/div[1]/article/div/section/section/p[28]/br[7]', tag='br', prop='tail', text='\\nCommand and Scripting Interpreter: Windows Command Shell – '), Text(entity=None, string='\\nCommand and Scripting Interpreter: Windows Command Shell – ', span=(0, 60))), (Content(xpath='/html/body/div[1]/div/div[2]/div/div/div/div[1]/article/div/section/section/p[28]/a[7]', tag='a', prop='text', text='T1059.003'), Text(entity='AttackTechnique', string='T1059.003', span=(0, 9))), (Content(xpath='/html/body/div[1]/div/div[2]/div/div/div/div[1]/article/div/section/section/p[28]/br[8]', tag='br', prop='tail', text='\\nWindows Management Instrumentation – '), Text(entity=None, string='\\nWindows Management Instrumentation – ', span=(0, 38))), (Content(xpath='/html/body/div[1]/div/div[2]/div/div/div/div[1]/article/div/section/section/p[28]/a[8]', tag='a', prop='text', text='T1047'), Text(entity='AttackTechnique', string='T1047', span=(0, 5))), (Content(xpath='/html/body/div[1]/div/div[2]/div/div/div/div[1]/article/div/section/section/div/span[2]', tag='span', prop='text', text='Post Views: '), Text(entity=None, string='Post Views: ', span=(0, 12))), (Content(xpath='/html/body/div[1]/div/div[2]/div/div/div/div[1]/article/div/section/section/div/span[2]', tag='span', prop='tail', text='\\n\\t\\t\\t\\t'), Text(entity=None, string='\\n\\t\\t\\t\\t', span=(0, 5))), (Content(xpath='/html/body/div[1]/div/div[2]/div/div/div/div[1]/article/div/section/section/div/span[3]', tag='span', prop='text', text='7,278'), Text(entity=None, string='7,278', span=(0, 5))), (Content(xpath='/html/body/div[1]/div/div[2]/div/div/div/div[1]/article/div/section/section/div/span[3]', tag='span', prop='tail', text='\\n\\t\\t\\t'), Text(entity=None, string='\\n\\t\\t\\t', span=(0, 4))), (Content(xpath='/html/body/div[1]/div/div[2]/div/div/div/div[1]/article/div/section/section/p[29]/a', tag='a', prop='text', text='Ransomware'), Text(entity=None, string='Ransomware', span=(0, 10))), (Content(xpath='/html/body/div[1]/div/div[2]/div/div/div/div[1]/article/div/section/section/p[29]/a', tag='a', prop='tail', text='\\t\\t\\t\\t\\t'), Text(entity=None, string='\\t\\t\\t\\t\\t', span=(0, 5)))]"
      ]
     },
     "execution_count": 480,
     "metadata": {},
     "output_type": "execute_result"
    }
   ],
   "source": [
    "%%time\n",
    "seq(da.contents).map(\n",
    "    lambda content: product([content], parser.iterscan(content))\n",
    ").flatten()"
   ]
  },
  {
   "cell_type": "code",
   "execution_count": 472,
   "id": "58741a1f-0211-4758-802e-666d5c1b3cf7",
   "metadata": {},
   "outputs": [
    {
     "name": "stdout",
     "output_type": "stream",
     "text": [
      "CPU times: user 2.7 s, sys: 16.6 ms, total: 2.72 s\n",
      "Wall time: 3 s\n"
     ]
    },
    {
     "data": {
      "text/plain": [
       "[('ction/p[1]',\n",
       "  'p',\n",
       "  'text',\n",
       "  None,\n",
       "  'Game studio CD Projekt Red recently ',\n",
       "  (0, 36)),\n",
       " ('ction/p[1]', 'p', 'tail', None, '\\n', (0, 1)),\n",
       " ('ion/p[1]/a', 'a', 'text', None, 'disclosed', (0, 9)),\n",
       " ('ion/p[1]/a',\n",
       "  'a',\n",
       "  'tail',\n",
       "  None,\n",
       "  ' that it became a victim of a targeted, highly-impactful ransomware. In the days following the disclosure, it was revealed that the ransomware family most likely behind the attack was “HelloKitty”.',\n",
       "  (0, 197)),\n",
       " ('ction/p[3]',\n",
       "  'p',\n",
       "  'text',\n",
       "  None,\n",
       "  'HelloKitty is a ransomware family that emerged in late 2020. While it lacks the sophistication of some of the more well-known families such as Ryuk, REvil, and Conti, it has nevertheless struck some notable targets, including CEMIG0. In this post, we analyse a recent HelloKitty sample and outline the basic behaviors and traits associated with this family of ransomware.',\n",
       "  (0, 371)),\n",
       " ('ction/p[3]', 'p', 'tail', None, '\\n', (0, 1)),\n",
       " ('tion/h2[1]', 'h2', 'text', None, 'Execution and Behavior', (0, 22)),\n",
       " ('tion/h2[1]', 'h2', 'tail', None, '\\n', (0, 1)),\n",
       " ('ction/p[4]',\n",
       "  'p',\n",
       "  'text',\n",
       "  None,\n",
       "  'The “HelloKitty” name is based on internal mutex names, which are apparent upon execution.',\n",
       "  (0, 90)),\n",
       " ('ction/p[4]', 'p', 'tail', None, '\\n', (0, 1)),\n",
       " ('ction/p[6]',\n",
       "  'p',\n",
       "  'text',\n",
       "  None,\n",
       "  'While still somewhat unclear, current intelligence indicates that the primary delivery method of HelloKitty binaries is via phish email or via secondary infection in conjunction with other malware.',\n",
       "  (0, 197)),\n",
       " ('ction/p[6]', 'p', 'tail', None, '\\n', (0, 1)),\n",
       " ('ction/p[7]',\n",
       "  'p',\n",
       "  'text',\n",
       "  None,\n",
       "  'Once launched, HelloKitty will attempt to disable and terminate a number of processes and services so as to reduce interference with the encryption process. This includes processes and services associated with IIS, MSSQL, Quickbooks, Sharepoint, and more. These actions are carried out via ',\n",
       "  (0, 290)),\n",
       " ('ction/p[7]', 'p', 'tail', None, '\\n', (0, 1)),\n",
       " ('7]/code[1]', 'code', 'text', 'FilePath', 'taskkill.exe', (0, 12)),\n",
       " ('7]/code[1]', 'code', 'tail', None, ' and ', (0, 5)),\n",
       " ('7]/code[2]', 'code', 'text', 'FilePath', 'net.exe', (0, 7)),\n",
       " ('7]/code[2]', 'code', 'tail', None, '.', (0, 1)),\n",
       " ('ction/p[8]',\n",
       "  'p',\n",
       "  'text',\n",
       "  None,\n",
       "  'In the analyzed sample, this is all done in a very non-stealthy manner. All spawned CMD windows are in the foreground and fully visible. This ‘lack of discreteness’ is atypical for modern ransomware, or any successful malware, for that matter.',\n",
       "  (0, 243)),\n",
       " ('ction/p[8]', 'p', 'tail', None, '\\n', (0, 1)),\n",
       " ('tion/p[10]',\n",
       "  'p',\n",
       "  'text',\n",
       "  None,\n",
       "  'A full list of processes from the analyzed sample are listed below:',\n",
       "  (0, 67)),\n",
       " ('tion/p[10]', 'p', 'tail', None, '\\n', (0, 1)),\n",
       " ('ion/pre[1]',\n",
       "  'pre',\n",
       "  'text',\n",
       "  None,\n",
       "  '\\ndsa*\\nNtrtsca\\nds_moni\\nNotifie\\nTmListe\\niVPAgen\\nCNTAoSM\\nIBM*\\nbes10*\\nblack*\\nrobo*\\ncopy*\\n',\n",
       "  (0, 85)),\n",
       " ('ion/pre[1]', 'pre', 'text', 'FilePath', 'store.e', (85, 92)),\n",
       " ('ion/pre[1]', 'pre', 'text', None, '\\nsql*\\nvee*\\nwrsa*\\n', (92, 109)),\n",
       " ('ion/pre[1]', 'pre', 'text', 'FilePath', 'wrsa.ex', (109, 116)),\n",
       " ('ion/pre[1]',\n",
       "  'pre',\n",
       "  'text',\n",
       "  None,\n",
       "  '\\npostg*\\nsage*\\nMSSQLServerADHelper100\\nMSSQL$ISARS\\nMSSQL$MSFW\\nSQLAgent$ISARS\\nSQLAgent$MSFW\\nSQLBrowser\\nReportServer$ISARS\\nSQLWriter\\nWinDefend\\nmr2kserv\\nMSExchangeADTopology\\nMSExchangeFBA\\nMSExchangeIS\\nMSExchangeSA\\nShadowProtectSvc\\nSPAdminV4\\nSPTimerV4\\nSPTraceV4\\nSPUserCodeV4\\nSPWriterV4\\nSPSearch4\\nIISADMIN\\nfirebirdguardiandefaultinstance\\nibmiasrw\\nQBCFMonitorService\\nQBVSS\\nQBPOSDBServiceV12\\n\"IBM Domino Server(CProgramFilesIBMDominodata)\"\\n\"IBM Domino Diagnostics(CProgramFilesIBMDomino)\"\\n\"Simply Accounting Database Connection Manager\"\\nQuickBooksDB1\\nQuickBooksDB2\\nQuickBooksDB3\\nQuickBooksDB4\\nQuickBooksDB5\\nQuickBooksDB6\\nQuickBooksDB7\\nQuickBooksDB8\\nQuickBooksDB9\\nQuickBooksDB10\\nQuickBooksDB11\\nQuickBooksDB12\\nQuickBooksDB13\\nQuickBooksDB14\\nQuickBooksDB15\\nQuickBooksDB16\\nQuickBooksDB17\\nQuickBooksDB18\\nQuickBooksDB19\\nQuickBooksDB20\\nQuickBooksDB21\\nQuickBooksDB22\\nQuickBooksDB23\\nQuickBooksDB24\\nQuickBooksDB25\\n',\n",
       "  (116, 1010)),\n",
       " ('ion/pre[1]', 'pre', 'tail', None, '\\n', (0, 1)),\n",
       " ('tion/p[11]',\n",
       "  'p',\n",
       "  'text',\n",
       "  None,\n",
       "  'Additional processes and services that are terminated are identified via PID. For example:',\n",
       "  (0, 90)),\n",
       " ('tion/p[11]', 'p', 'tail', None, '\\n', (0, 1)),\n",
       " ('2]/code[1]', 'code', 'text', 'FilePath', 'taskkill.exe', (0, 12)),\n",
       " ('2]/code[1]', 'code', 'text', None, ' /f /PID \"8512\"', (12, 27)),\n",
       " ('2]/code[2]', 'code', 'text', 'FilePath', 'taskkill.exe', (0, 12)),\n",
       " ('2]/code[2]', 'code', 'text', None, ' /f /PID \"8656\"', (12, 27)),\n",
       " ('tion/p[13]',\n",
       "  'p',\n",
       "  'text',\n",
       "  None,\n",
       "  'If HelloKitty is unable to stop any specific processes or services, it will leverage the Windows Restart Manager API to further assist in termination.',\n",
       "  (0, 150)),\n",
       " ('tion/p[13]', 'p', 'tail', None, '\\n', (0, 1)),\n",
       " ('tion/p[15]',\n",
       "  'p',\n",
       "  'text',\n",
       "  None,\n",
       "  'HelloKitty will also utilize WMI to gather system details and help identify running processes and any potentially problematic processes. This is done both by name and by PID. A number of examples are shown below:',\n",
       "  (0, 212)),\n",
       " ('tion/p[15]', 'p', 'tail', None, '\\n', (0, 1)),\n",
       " ('ion/pre[2]',\n",
       "  'pre',\n",
       "  'text',\n",
       "  None,\n",
       "  '\\nstart iwbemservices::execquery - root\\\\cimv2 : select __path, processid, csname, caption, sessionid, threadcount, workingsetsize, kernelmodetime, usermodetime, parentprocessid from win32_process\\n\\nstart iwbemservices::execquery - root\\\\cimv2 : select __path, processid, csname, caption, sessionid, threadcount, workingsetsize, kernelmodetime, usermodetime, parentprocessid from win32_process where (  caption = \"',\n",
       "  (0, 410)),\n",
       " ('ion/pre[2]', 'pre', 'text', 'FilePath', 'store.exe', (410, 419)),\n",
       " ('ion/pre[2]',\n",
       "  'pre',\n",
       "  'text',\n",
       "  None,\n",
       "  '\")\\n\\nstart iwbemservices::execquery - root\\\\cimv2 : select __path, processid, csname, caption, sessionid, threadcount, workingsetsize, kernelmodetime, usermodetime, parentprocessid from win32_process where (  caption = \"',\n",
       "  (419, 637)),\n",
       " ('ion/pre[2]', 'pre', 'text', 'FilePath', 'wrsa.exe', (637, 645)),\n",
       " ('ion/pre[2]',\n",
       "  'pre',\n",
       "  'text',\n",
       "  None,\n",
       "  '\")\\n\\nstart iwbemservices::execquery - root\\\\cimv2 : select __path, processid, csname, caption, sessionid, threadcount, workingsetsize, kernelmodetime, usermodetime, parentprocessid from win32_process where (  processid = 3036)\\n\\nstart iwbemservices::execquery - root\\\\cimv2 : select __path, processid, csname, caption, sessionid, threadcount, workingsetsize, kernelmodetime, usermodetime, parentprocessid from win32_process where (  processid = 4460)\\n\\nstart iwbemservices::execquery - root\\\\cimv2 : select __path, processid, csname, caption, sessionid, threadcount, workingsetsize, kernelmodetime, usermodetime, parentprocessid from win32_process where (  processid = 3052)\\n\\nstart iwbemservices::execquery - root\\\\cimv2 : select __path, processid, csname, caption, sessionid, threadcount, workingsetsize, kernelmodetime, usermodetime, parentprocessid from win32_process where (  processid = 4476)\\n\\nstart iwbemservices::execquery - root\\\\cimv2 : select __path, processid, csname, caption, sessionid, threadcount, workingsetsize, kernelmodetime, usermodetime, parentprocessid from win32_process where (  processid = 1560)\\n\\nstart iwbemservices::execquery - root\\\\cimv2 : select __path, processid, csname, caption, sessionid, threadcount, workingsetsize, kernelmodetime, usermodetime, parentprocessid from win32_process where (  processid = 8124)\\n\\nstart iwbemservices::exe\\n',\n",
       "  (645, 2006)),\n",
       " ('ion/pre[2]', 'pre', 'tail', None, '\\n', (0, 1)),\n",
       " ('tion/h2[2]', 'h2', 'text', None, 'Encryption and Ransom Note', (0, 26)),\n",
       " ('tion/h2[2]', 'h2', 'tail', None, '\\n', (0, 1)),\n",
       " ('tion/p[16]',\n",
       "  'p',\n",
       "  'text',\n",
       "  None,\n",
       "  'Encryption is initiated and completed very quickly once applicable services and processes have been terminated. Specific encryption recipes and routines can vary across variants of HelloKitty. Generally speaking, they tend to use a combination of AES-256 & RSA-2048 or even NTRU+AES-128.',\n",
       "  (0, 287)),\n",
       " ('tion/p[16]', 'p', 'tail', None, '\\n', (0, 1)),\n",
       " ('tion/p[17]',\n",
       "  'p',\n",
       "  'text',\n",
       "  None,\n",
       "  'Once encrypted, affected files receive the ',\n",
       "  (0, 43)),\n",
       " ('tion/p[17]', 'p', 'tail', None, '\\n', (0, 1)),\n",
       " ('p[17]/code', 'code', 'text', None, '.crypted', (0, 8)),\n",
       " ('p[17]/code', 'code', 'tail', None, ' extension.', (0, 11)),\n",
       " ('tion/p[19]',\n",
       "  'p',\n",
       "  'text',\n",
       "  None,\n",
       "  'Ransom notes are typically customized to directly reference the victim and victim’s environment. Victims are instructed to visit a TOR-based payment and support portal. The following example has been sanitized:',\n",
       "  (0, 210)),\n",
       " ('tion/p[19]', 'p', 'tail', None, '\\n', (0, 1)),\n",
       " ('tion/p[21]',\n",
       "  'p',\n",
       "  'text',\n",
       "  None,\n",
       "  'It is also important to note that as of this writing, the onion address associated with HelloKitty ransom notes is not active.',\n",
       "  (0, 126)),\n",
       " ('tion/p[21]', 'p', 'tail', None, '\\n', (0, 1)),\n",
       " ('p[22]/code',\n",
       "  'code',\n",
       "  'text',\n",
       "  'domain',\n",
       "  '6x7dp6h3w6q3ugjv4yv5gycj3femb24kysgry5b44hhgfwc5ml5qrdad.onion',\n",
       "  (0, 62)),\n",
       " ('tion/h2[3]', 'h2', 'text', None, 'Conclusion', (0, 10)),\n",
       " ('tion/h2[3]', 'h2', 'tail', None, '\\n', (0, 1)),\n",
       " ('tion/p[23]',\n",
       "  'p',\n",
       "  'text',\n",
       "  None,\n",
       "  'HelloKitty may be easier to spot than other modern ransomware families, but upon execution it is no less dangerous. There are currently no known ‘weaknesses’ in the encryption routines, and there are no thirdy-party decrypters available for the HelloKitty ransomware. Therefore, the only true defense is prevention. While this family does not appear to be actively leaking victim data at the moment, that could change at any point, in addition to them choosing to adopt some of the more recent extortion methods that go along with ransomware (DDoS).',\n",
       "  (0, 549)),\n",
       " ('tion/p[23]', 'p', 'tail', None, '\\n', (0, 1)),\n",
       " ('tion/p[24]',\n",
       "  'p',\n",
       "  'text',\n",
       "  None,\n",
       "  'Actors behind the more recent campaign(s) are reportedly attempting to auction the CD Projekt data off in various ‘underground’ forums. At present this sale of this data does appear to be legitimate. Time will tell if additional victim data is dealt with in the same way.',\n",
       "  (0, 271)),\n",
       " ('tion/p[24]', 'p', 'tail', None, '\\n', (0, 1)),\n",
       " ('tion/p[25]',\n",
       "  'p',\n",
       "  'text',\n",
       "  None,\n",
       "  'To protect yourself against HelloKitty, make sure you are armed with a modern Endpoint Security platform, which is configured correctly and up to date. The SentinelOne Singularity Platform is fully capable of preventing and detecting all malicious behaviors associated with the HelloKitty ransomware family.',\n",
       "  (0, 307)),\n",
       " ('tion/p[25]', 'p', 'tail', None, '\\n', (0, 1)),\n",
       " ('tion/h2[4]', 'h2', 'text', None, 'IOCs', (0, 4)),\n",
       " ('tion/h2[4]', 'h2', 'tail', None, '\\n', (0, 1)),\n",
       " ('26]/strong', 'strong', 'text', None, 'SHA1', (0, 4)),\n",
       " ('n/p[26]/br', 'br', 'tail', None, '\\n', (0, 1)),\n",
       " ('n/p[26]/br',\n",
       "  'br',\n",
       "  'tail',\n",
       "  'FileHash-SHA1',\n",
       "  'fadd8d7c13a18c251ded1f645ffea18a37f1c2de',\n",
       "  (1, 41)),\n",
       " ('27]/strong', 'strong', 'text', None, 'SHA256', (0, 6)),\n",
       " ('n/p[27]/br', 'br', 'tail', None, '\\n', (0, 1)),\n",
       " ('n/p[27]/br',\n",
       "  'br',\n",
       "  'tail',\n",
       "  'FileHash-SHA256',\n",
       "  '501487b025f25ddf1ca32deb57a2b4db43ccf6635c1edc74b9cff54ce0e5bcfe',\n",
       "  (1, 65)),\n",
       " ('28]/strong', 'strong', 'text', None, 'MITRE ATT&CK', (0, 12)),\n",
       " ('[28]/br[1]', 'br', 'tail', None, '\\nData from Local System – ', (0, 26)),\n",
       " ('p[28]/a[1]', 'a', 'text', 'AttackTechnique', 'T1005', (0, 5)),\n",
       " ('[28]/br[2]', 'br', 'tail', None, '\\nModify Registry – ', (0, 19)),\n",
       " ('p[28]/a[2]', 'a', 'text', 'AttackTechnique', 'T1112', (0, 5)),\n",
       " ('[28]/br[3]', 'br', 'tail', None, '\\nQuery Registry – ', (0, 18)),\n",
       " ('p[28]/a[3]', 'a', 'text', 'AttackTechnique', 'T1012', (0, 5)),\n",
       " ('[28]/br[4]',\n",
       "  'br',\n",
       "  'tail',\n",
       "  None,\n",
       "  '\\nSystem Information Discovery – ',\n",
       "  (0, 32)),\n",
       " ('p[28]/a[4]', 'a', 'text', 'AttackTechnique', 'T1082', (0, 5)),\n",
       " ('[28]/br[5]', 'br', 'tail', None, '\\nData Encrypted for Impact – ', (0, 29)),\n",
       " ('p[28]/a[5]', 'a', 'text', 'AttackTechnique', 'T1486', (0, 5)),\n",
       " ('[28]/br[6]', 'br', 'tail', None, '\\nFile Deletion – ', (0, 17)),\n",
       " ('p[28]/a[6]', 'a', 'text', 'AttackTechnique', 'T1070.004', (0, 9)),\n",
       " ('[28]/br[7]',\n",
       "  'br',\n",
       "  'tail',\n",
       "  None,\n",
       "  '\\nCommand and Scripting Interpreter: Windows Command Shell – ',\n",
       "  (0, 60)),\n",
       " ('p[28]/a[7]', 'a', 'text', 'AttackTechnique', 'T1059.003', (0, 9)),\n",
       " ('[28]/br[8]',\n",
       "  'br',\n",
       "  'tail',\n",
       "  None,\n",
       "  '\\nWindows Management Instrumentation – ',\n",
       "  (0, 38)),\n",
       " ('p[28]/a[8]', 'a', 'text', 'AttackTechnique', 'T1047', (0, 5)),\n",
       " ('iv/span[2]', 'span', 'text', None, 'Post Views: ', (0, 12)),\n",
       " ('iv/span[2]', 'span', 'tail', None, '\\n\\t\\t\\t\\t', (0, 5)),\n",
       " ('iv/span[3]', 'span', 'text', None, '7,278', (0, 5)),\n",
       " ('iv/span[3]', 'span', 'tail', None, '\\n\\t\\t\\t', (0, 4)),\n",
       " ('on/p[29]/a', 'a', 'text', None, 'Ransomware', (0, 10)),\n",
       " ('on/p[29]/a', 'a', 'tail', None, '\\t\\t\\t\\t\\t', (0, 5))]"
      ]
     },
     "execution_count": 472,
     "metadata": {},
     "output_type": "execute_result"
    }
   ],
   "source": [
    "%%time\n",
    "seq(da.contents).map(\n",
    "    lambda content: product([content], parser.iterscan(content.text))\n",
    ").flatten().starmap(lambda content, text: (content.xpath[-10:], content.tag, content.prop, text.entity, text.string, text.span)).to_list()"
   ]
  },
  {
   "cell_type": "code",
   "execution_count": 449,
   "id": "97c9ac88-5bef-47f2-8d01-50ec73c0e0b8",
   "metadata": {},
   "outputs": [
    {
     "data": {
      "text/html": [
       "<table>\n",
       "<tbody>\n",
       "<tr><td>/html/body/div[1]/div/div[2]/div/div/div/div[1]/article/div/section/section/p[1]  </td><td>p </td><td>text</td><td>Game studio CD Projekt Red recently                                                                                                                                                                                                                                                                                                                                                </td><td>[Text(entity=None, string=&#x27;Game studio CD Projekt Red recently &#x27;, span=(0, 36))]                                                                                                                                                                                                                                                                                                                                                </td></tr>\n",
       "<tr><td>/html/body/div[1]/div/div[2]/div/div/div/div[1]/article/div/section/section/p[1]  </td><td>p </td><td>tail</td><td>                                                                                                                                                                                                                                                                                                                                                                                   </td><td>[Text(entity=None, string=&#x27;\\n&#x27;, span=(0, 1))]                                                                                                                                                                                                                                                                                                                                                                                   </td></tr>\n",
       "<tr><td>/html/body/div[1]/div/div[2]/div/div/div/div[1]/article/div/section/section/p[1]/a</td><td>a </td><td>text</td><td>disclosed                                                                                                                                                                                                                                                                                                                                                                          </td><td>[Text(entity=None, string=&#x27;disclosed&#x27;, span=(0, 9))]                                                                                                                                                                                                                                                                                                                                                                            </td></tr>\n",
       "<tr><td>/html/body/div[1]/div/div[2]/div/div/div/div[1]/article/div/section/section/p[1]/a</td><td>a </td><td>tail</td><td>that it became a victim of a targeted, highly-impactful ransomware. In the days following the disclosure, it was revealed that the ransomware family most likely behind the attack was “HelloKitty”.                                                                                                                                                                               </td><td>[Text(entity=None, string=&#x27; that it became a victim of a targeted, highly-impactful ransomware. In the days following the disclosure, it was revealed that the ransomware family most likely behind the attack was “HelloKitty”.&#x27;, span=(0, 197))]                                                                                                                                                                              </td></tr>\n",
       "<tr><td>/html/body/div[1]/div/div[2]/div/div/div/div[1]/article/div/section/section/p[3]  </td><td>p </td><td>text</td><td>HelloKitty is a ransomware family that emerged in late 2020. While it lacks the sophistication of some of the more well-known families such as Ryuk, REvil, and Conti, it has nevertheless struck some notable targets, including CEMIG0. In this post, we analyse a recent HelloKitty sample and outline the basic behaviors and traits associated with this family of ransomware.</td><td>[Text(entity=None, string=&#x27;HelloKitty is a ransomware family that emerged in late 2020. While it lacks the sophistication of some of the more well-known families such as Ryuk, REvil, and Conti, it has nevertheless struck some notable targets, including CEMIG0. In this post, we analyse a recent HelloKitty sample and outline the basic behaviors and traits associated with this family of ransomware.&#x27;, span=(0, 371))]</td></tr>\n",
       "<tr><td>/html/body/div[1]/div/div[2]/div/div/div/div[1]/article/div/section/section/p[3]  </td><td>p </td><td>tail</td><td>                                                                                                                                                                                                                                                                                                                                                                                   </td><td>[Text(entity=None, string=&#x27;\\n&#x27;, span=(0, 1))]                                                                                                                                                                                                                                                                                                                                                                                   </td></tr>\n",
       "<tr><td>/html/body/div[1]/div/div[2]/div/div/div/div[1]/article/div/section/section/h2[1] </td><td>h2</td><td>text</td><td>Execution and Behavior                                                                                                                                                                                                                                                                                                                                                             </td><td>[Text(entity=None, string=&#x27;Execution and Behavior&#x27;, span=(0, 22))]                                                                                                                                                                                                                                                                                                                                                              </td></tr>\n",
       "<tr><td>/html/body/div[1]/div/div[2]/div/div/div/div[1]/article/div/section/section/h2[1] </td><td>h2</td><td>tail</td><td>                                                                                                                                                                                                                                                                                                                                                                                   </td><td>[Text(entity=None, string=&#x27;\\n&#x27;, span=(0, 1))]                                                                                                                                                                                                                                                                                                                                                                                   </td></tr>\n",
       "<tr><td>/html/body/div[1]/div/div[2]/div/div/div/div[1]/article/div/section/section/p[4]  </td><td>p </td><td>text</td><td>The “HelloKitty” name is based on internal mutex names, which are apparent upon execution.                                                                                                                                                                                                                                                                                         </td><td>[Text(entity=None, string=&#x27;The “HelloKitty” name is based on internal mutex names, which are apparent upon execution.&#x27;, span=(0, 90))]                                                                                                                                                                                                                                                                                          </td></tr>\n",
       "<tr><td>/html/body/div[1]/div/div[2]/div/div/div/div[1]/article/div/section/section/p[4]  </td><td>p </td><td>tail</td><td>                                                                                                                                                                                                                                                                                                                                                                                   </td><td>[Text(entity=None, string=&#x27;\\n&#x27;, span=(0, 1))]                                                                                                                                                                                                                                                                                                                                                                                   </td></tr>\n",
       "</tbody>\n",
       "</table><p>Showing 10 of 84 rows"
      ],
      "text/plain": [
       "[('/html/body/div[1]/div/div[2]/div/div/div/div[1]/article/div/section/section/p[1]', 'p', 'text', 'Game studio CD Projekt Red recently ', [Text(entity=None, string='Game studio CD Projekt Red recently ', span=(0, 36))]), ('/html/body/div[1]/div/div[2]/div/div/div/div[1]/article/div/section/section/p[1]', 'p', 'tail', '\\n', [Text(entity=None, string='\\n', span=(0, 1))]), ('/html/body/div[1]/div/div[2]/div/div/div/div[1]/article/div/section/section/p[1]/a', 'a', 'text', 'disclosed', [Text(entity=None, string='disclosed', span=(0, 9))]), ('/html/body/div[1]/div/div[2]/div/div/div/div[1]/article/div/section/section/p[1]/a', 'a', 'tail', ' that it became a victim of a targeted, highly-impactful ransomware. In the days following the disclosure, it was revealed that the ransomware family most likely behind the attack was “HelloKitty”.', [Text(entity=None, string=' that it became a victim of a targeted, highly-impactful ransomware. In the days following the disclosure, it was revealed that the ransomware family most likely behind the attack was “HelloKitty”.', span=(0, 197))]), ('/html/body/div[1]/div/div[2]/div/div/div/div[1]/article/div/section/section/p[3]', 'p', 'text', 'HelloKitty is a ransomware family that emerged in late 2020. While it lacks the sophistication of some of the more well-known families such as Ryuk, REvil, and Conti, it has nevertheless struck some notable targets, including CEMIG0. In this post, we analyse a recent HelloKitty sample and outline the basic behaviors and traits associated with this family of ransomware.', [Text(entity=None, string='HelloKitty is a ransomware family that emerged in late 2020. While it lacks the sophistication of some of the more well-known families such as Ryuk, REvil, and Conti, it has nevertheless struck some notable targets, including CEMIG0. In this post, we analyse a recent HelloKitty sample and outline the basic behaviors and traits associated with this family of ransomware.', span=(0, 371))]), ('/html/body/div[1]/div/div[2]/div/div/div/div[1]/article/div/section/section/p[3]', 'p', 'tail', '\\n', [Text(entity=None, string='\\n', span=(0, 1))]), ('/html/body/div[1]/div/div[2]/div/div/div/div[1]/article/div/section/section/h2[1]', 'h2', 'text', 'Execution and Behavior', [Text(entity=None, string='Execution and Behavior', span=(0, 22))]), ('/html/body/div[1]/div/div[2]/div/div/div/div[1]/article/div/section/section/h2[1]', 'h2', 'tail', '\\n', [Text(entity=None, string='\\n', span=(0, 1))]), ('/html/body/div[1]/div/div[2]/div/div/div/div[1]/article/div/section/section/p[4]', 'p', 'text', 'The “HelloKitty” name is based on internal mutex names, which are apparent upon execution.', [Text(entity=None, string='The “HelloKitty” name is based on internal mutex names, which are apparent upon execution.', span=(0, 90))]), ('/html/body/div[1]/div/div[2]/div/div/div/div[1]/article/div/section/section/p[4]', 'p', 'tail', '\\n', [Text(entity=None, string='\\n', span=(0, 1))]), ('/html/body/div[1]/div/div[2]/div/div/div/div[1]/article/div/section/section/p[6]', 'p', 'text', 'While still somewhat unclear, current intelligence indicates that the primary delivery method of HelloKitty binaries is via phish email or via secondary infection in conjunction with other malware.', [Text(entity=None, string='While still somewhat unclear, current intelligence indicates that the primary delivery method of HelloKitty binaries is via phish email or via secondary infection in conjunction with other malware.', span=(0, 197))]), ('/html/body/div[1]/div/div[2]/div/div/div/div[1]/article/div/section/section/p[6]', 'p', 'tail', '\\n', [Text(entity=None, string='\\n', span=(0, 1))]), ('/html/body/div[1]/div/div[2]/div/div/div/div[1]/article/div/section/section/p[7]', 'p', 'text', 'Once launched, HelloKitty will attempt to disable and terminate a number of processes and services so as to reduce interference with the encryption process. This includes processes and services associated with IIS, MSSQL, Quickbooks, Sharepoint, and more. These actions are carried out via ', [Text(entity=None, string='Once launched, HelloKitty will attempt to disable and terminate a number of processes and services so as to reduce interference with the encryption process. This includes processes and services associated with IIS, MSSQL, Quickbooks, Sharepoint, and more. These actions are carried out via ', span=(0, 290))]), ('/html/body/div[1]/div/div[2]/div/div/div/div[1]/article/div/section/section/p[7]', 'p', 'tail', '\\n', [Text(entity=None, string='\\n', span=(0, 1))]), ('/html/body/div[1]/div/div[2]/div/div/div/div[1]/article/div/section/section/p[7]/code[1]', 'code', 'text', 'taskkill.exe', [Text(entity='FilePath', string='taskkill.exe', span=(0, 12))]), ('/html/body/div[1]/div/div[2]/div/div/div/div[1]/article/div/section/section/p[7]/code[1]', 'code', 'tail', ' and ', [Text(entity=None, string=' and ', span=(0, 5))]), ('/html/body/div[1]/div/div[2]/div/div/div/div[1]/article/div/section/section/p[7]/code[2]', 'code', 'text', 'net.exe', [Text(entity='FilePath', string='net.exe', span=(0, 7))]), ('/html/body/div[1]/div/div[2]/div/div/div/div[1]/article/div/section/section/p[7]/code[2]', 'code', 'tail', '.', [Text(entity=None, string='.', span=(0, 1))]), ('/html/body/div[1]/div/div[2]/div/div/div/div[1]/article/div/section/section/p[8]', 'p', 'text', 'In the analyzed sample, this is all done in a very non-stealthy manner. All spawned CMD windows are in the foreground and fully visible. This ‘lack of discreteness’ is atypical for modern ransomware, or any successful malware, for that matter.', [Text(entity=None, string='In the analyzed sample, this is all done in a very non-stealthy manner. All spawned CMD windows are in the foreground and fully visible. This ‘lack of discreteness’ is atypical for modern ransomware, or any successful malware, for that matter.', span=(0, 243))]), ('/html/body/div[1]/div/div[2]/div/div/div/div[1]/article/div/section/section/p[8]', 'p', 'tail', '\\n', [Text(entity=None, string='\\n', span=(0, 1))]), ('/html/body/div[1]/div/div[2]/div/div/div/div[1]/article/div/section/section/p[10]', 'p', 'text', 'A full list of processes from the analyzed sample are listed below:', [Text(entity=None, string='A full list of processes from the analyzed sample are listed below:', span=(0, 67))]), ('/html/body/div[1]/div/div[2]/div/div/div/div[1]/article/div/section/section/p[10]', 'p', 'tail', '\\n', [Text(entity=None, string='\\n', span=(0, 1))]), ('/html/body/div[1]/div/div[2]/div/div/div/div[1]/article/div/section/section/pre[1]', 'pre', 'text', '\\ndsa*\\nNtrtsca\\nds_moni\\nNotifie\\nTmListe\\niVPAgen\\nCNTAoSM\\nIBM*\\nbes10*\\nblack*\\nrobo*\\ncopy*\\nstore.e\\nsql*\\nvee*\\nwrsa*\\nwrsa.ex\\npostg*\\nsage*\\nMSSQLServerADHelper100\\nMSSQL$ISARS\\nMSSQL$MSFW\\nSQLAgent$ISARS\\nSQLAgent$MSFW\\nSQLBrowser\\nReportServer$ISARS\\nSQLWriter\\nWinDefend\\nmr2kserv\\nMSExchangeADTopology\\nMSExchangeFBA\\nMSExchangeIS\\nMSExchangeSA\\nShadowProtectSvc\\nSPAdminV4\\nSPTimerV4\\nSPTraceV4\\nSPUserCodeV4\\nSPWriterV4\\nSPSearch4\\nIISADMIN\\nfirebirdguardiandefaultinstance\\nibmiasrw\\nQBCFMonitorService\\nQBVSS\\nQBPOSDBServiceV12\\n\"IBM Domino Server(CProgramFilesIBMDominodata)\"\\n\"IBM Domino Diagnostics(CProgramFilesIBMDomino)\"\\n\"Simply Accounting Database Connection Manager\"\\nQuickBooksDB1\\nQuickBooksDB2\\nQuickBooksDB3\\nQuickBooksDB4\\nQuickBooksDB5\\nQuickBooksDB6\\nQuickBooksDB7\\nQuickBooksDB8\\nQuickBooksDB9\\nQuickBooksDB10\\nQuickBooksDB11\\nQuickBooksDB12\\nQuickBooksDB13\\nQuickBooksDB14\\nQuickBooksDB15\\nQuickBooksDB16\\nQuickBooksDB17\\nQuickBooksDB18\\nQuickBooksDB19\\nQuickBooksDB20\\nQuickBooksDB21\\nQuickBooksDB22\\nQuickBooksDB23\\nQuickBooksDB24\\nQuickBooksDB25\\n', [Text(entity=None, string='\\ndsa*\\nNtrtsca\\nds_moni\\nNotifie\\nTmListe\\niVPAgen\\nCNTAoSM\\nIBM*\\nbes10*\\nblack*\\nrobo*\\ncopy*\\n', span=(0, 85)), Text(entity='FilePath', string='store.e', span=(85, 92)), Text(entity=None, string='\\nsql*\\nvee*\\nwrsa*\\n', span=(92, 109)), Text(entity='FilePath', string='wrsa.ex', span=(109, 116)), Text(entity=None, string='\\npostg*\\nsage*\\nMSSQLServerADHelper100\\nMSSQL$ISARS\\nMSSQL$MSFW\\nSQLAgent$ISARS\\nSQLAgent$MSFW\\nSQLBrowser\\nReportServer$ISARS\\nSQLWriter\\nWinDefend\\nmr2kserv\\nMSExchangeADTopology\\nMSExchangeFBA\\nMSExchangeIS\\nMSExchangeSA\\nShadowProtectSvc\\nSPAdminV4\\nSPTimerV4\\nSPTraceV4\\nSPUserCodeV4\\nSPWriterV4\\nSPSearch4\\nIISADMIN\\nfirebirdguardiandefaultinstance\\nibmiasrw\\nQBCFMonitorService\\nQBVSS\\nQBPOSDBServiceV12\\n\"IBM Domino Server(CProgramFilesIBMDominodata)\"\\n\"IBM Domino Diagnostics(CProgramFilesIBMDomino)\"\\n\"Simply Accounting Database Connection Manager\"\\nQuickBooksDB1\\nQuickBooksDB2\\nQuickBooksDB3\\nQuickBooksDB4\\nQuickBooksDB5\\nQuickBooksDB6\\nQuickBooksDB7\\nQuickBooksDB8\\nQuickBooksDB9\\nQuickBooksDB10\\nQuickBooksDB11\\nQuickBooksDB12\\nQuickBooksDB13\\nQuickBooksDB14\\nQuickBooksDB15\\nQuickBooksDB16\\nQuickBooksDB17\\nQuickBooksDB18\\nQuickBooksDB19\\nQuickBooksDB20\\nQuickBooksDB21\\nQuickBooksDB22\\nQuickBooksDB23\\nQuickBooksDB24\\nQuickBooksDB25\\n', span=(116, 1010))]), ('/html/body/div[1]/div/div[2]/div/div/div/div[1]/article/div/section/section/pre[1]', 'pre', 'tail', '\\n', [Text(entity=None, string='\\n', span=(0, 1))]), ('/html/body/div[1]/div/div[2]/div/div/div/div[1]/article/div/section/section/p[11]', 'p', 'text', 'Additional processes and services that are terminated are identified via PID. For example:', [Text(entity=None, string='Additional processes and services that are terminated are identified via PID. For example:', span=(0, 90))]), ('/html/body/div[1]/div/div[2]/div/div/div/div[1]/article/div/section/section/p[11]', 'p', 'tail', '\\n', [Text(entity=None, string='\\n', span=(0, 1))]), ('/html/body/div[1]/div/div[2]/div/div/div/div[1]/article/div/section/section/p[12]/code[1]', 'code', 'text', 'taskkill.exe /f /PID \"8512\"', [Text(entity='FilePath', string='taskkill.exe', span=(0, 12)), Text(entity=None, string=' /f /PID \"8512\"', span=(12, 27))]), ('/html/body/div[1]/div/div[2]/div/div/div/div[1]/article/div/section/section/p[12]/code[2]', 'code', 'text', 'taskkill.exe /f /PID \"8656\"', [Text(entity='FilePath', string='taskkill.exe', span=(0, 12)), Text(entity=None, string=' /f /PID \"8656\"', span=(12, 27))]), ('/html/body/div[1]/div/div[2]/div/div/div/div[1]/article/div/section/section/p[13]', 'p', 'text', 'If HelloKitty is unable to stop any specific processes or services, it will leverage the Windows Restart Manager API to further assist in termination.', [Text(entity=None, string='If HelloKitty is unable to stop any specific processes or services, it will leverage the Windows Restart Manager API to further assist in termination.', span=(0, 150))]), ('/html/body/div[1]/div/div[2]/div/div/div/div[1]/article/div/section/section/p[13]', 'p', 'tail', '\\n', [Text(entity=None, string='\\n', span=(0, 1))]), ('/html/body/div[1]/div/div[2]/div/div/div/div[1]/article/div/section/section/p[15]', 'p', 'text', 'HelloKitty will also utilize WMI to gather system details and help identify running processes and any potentially problematic processes. This is done both by name and by PID. A number of examples are shown below:', [Text(entity=None, string='HelloKitty will also utilize WMI to gather system details and help identify running processes and any potentially problematic processes. This is done both by name and by PID. A number of examples are shown below:', span=(0, 212))]), ('/html/body/div[1]/div/div[2]/div/div/div/div[1]/article/div/section/section/p[15]', 'p', 'tail', '\\n', [Text(entity=None, string='\\n', span=(0, 1))]), ('/html/body/div[1]/div/div[2]/div/div/div/div[1]/article/div/section/section/pre[2]', 'pre', 'text', '\\nstart iwbemservices::execquery - root\\\\cimv2 : select __path, processid, csname, caption, sessionid, threadcount, workingsetsize, kernelmodetime, usermodetime, parentprocessid from win32_process\\n\\nstart iwbemservices::execquery - root\\\\cimv2 : select __path, processid, csname, caption, sessionid, threadcount, workingsetsize, kernelmodetime, usermodetime, parentprocessid from win32_process where (  caption = \"store.exe\")\\n\\nstart iwbemservices::execquery - root\\\\cimv2 : select __path, processid, csname, caption, sessionid, threadcount, workingsetsize, kernelmodetime, usermodetime, parentprocessid from win32_process where (  caption = \"wrsa.exe\")\\n\\nstart iwbemservices::execquery - root\\\\cimv2 : select __path, processid, csname, caption, sessionid, threadcount, workingsetsize, kernelmodetime, usermodetime, parentprocessid from win32_process where (  processid = 3036)\\n\\nstart iwbemservices::execquery - root\\\\cimv2 : select __path, processid, csname, caption, sessionid, threadcount, workingsetsize, kernelmodetime, usermodetime, parentprocessid from win32_process where (  processid = 4460)\\n\\nstart iwbemservices::execquery - root\\\\cimv2 : select __path, processid, csname, caption, sessionid, threadcount, workingsetsize, kernelmodetime, usermodetime, parentprocessid from win32_process where (  processid = 3052)\\n\\nstart iwbemservices::execquery - root\\\\cimv2 : select __path, processid, csname, caption, sessionid, threadcount, workingsetsize, kernelmodetime, usermodetime, parentprocessid from win32_process where (  processid = 4476)\\n\\nstart iwbemservices::execquery - root\\\\cimv2 : select __path, processid, csname, caption, sessionid, threadcount, workingsetsize, kernelmodetime, usermodetime, parentprocessid from win32_process where (  processid = 1560)\\n\\nstart iwbemservices::execquery - root\\\\cimv2 : select __path, processid, csname, caption, sessionid, threadcount, workingsetsize, kernelmodetime, usermodetime, parentprocessid from win32_process where (  processid = 8124)\\n\\nstart iwbemservices::exe\\n', [Text(entity=None, string='\\nstart iwbemservices::execquery - root\\\\cimv2 : select __path, processid, csname, caption, sessionid, threadcount, workingsetsize, kernelmodetime, usermodetime, parentprocessid from win32_process\\n\\nstart iwbemservices::execquery - root\\\\cimv2 : select __path, processid, csname, caption, sessionid, threadcount, workingsetsize, kernelmodetime, usermodetime, parentprocessid from win32_process where (  caption = \"', span=(0, 410)), Text(entity='FilePath', string='store.exe', span=(410, 419)), Text(entity=None, string='\")\\n\\nstart iwbemservices::execquery - root\\\\cimv2 : select __path, processid, csname, caption, sessionid, threadcount, workingsetsize, kernelmodetime, usermodetime, parentprocessid from win32_process where (  caption = \"', span=(419, 637)), Text(entity='FilePath', string='wrsa.exe', span=(637, 645)), Text(entity=None, string='\")\\n\\nstart iwbemservices::execquery - root\\\\cimv2 : select __path, processid, csname, caption, sessionid, threadcount, workingsetsize, kernelmodetime, usermodetime, parentprocessid from win32_process where (  processid = 3036)\\n\\nstart iwbemservices::execquery - root\\\\cimv2 : select __path, processid, csname, caption, sessionid, threadcount, workingsetsize, kernelmodetime, usermodetime, parentprocessid from win32_process where (  processid = 4460)\\n\\nstart iwbemservices::execquery - root\\\\cimv2 : select __path, processid, csname, caption, sessionid, threadcount, workingsetsize, kernelmodetime, usermodetime, parentprocessid from win32_process where (  processid = 3052)\\n\\nstart iwbemservices::execquery - root\\\\cimv2 : select __path, processid, csname, caption, sessionid, threadcount, workingsetsize, kernelmodetime, usermodetime, parentprocessid from win32_process where (  processid = 4476)\\n\\nstart iwbemservices::execquery - root\\\\cimv2 : select __path, processid, csname, caption, sessionid, threadcount, workingsetsize, kernelmodetime, usermodetime, parentprocessid from win32_process where (  processid = 1560)\\n\\nstart iwbemservices::execquery - root\\\\cimv2 : select __path, processid, csname, caption, sessionid, threadcount, workingsetsize, kernelmodetime, usermodetime, parentprocessid from win32_process where (  processid = 8124)\\n\\nstart iwbemservices::exe\\n', span=(645, 2006))]), ('/html/body/div[1]/div/div[2]/div/div/div/div[1]/article/div/section/section/pre[2]', 'pre', 'tail', '\\n', [Text(entity=None, string='\\n', span=(0, 1))]), ('/html/body/div[1]/div/div[2]/div/div/div/div[1]/article/div/section/section/h2[2]', 'h2', 'text', 'Encryption and Ransom Note', [Text(entity=None, string='Encryption and Ransom Note', span=(0, 26))]), ('/html/body/div[1]/div/div[2]/div/div/div/div[1]/article/div/section/section/h2[2]', 'h2', 'tail', '\\n', [Text(entity=None, string='\\n', span=(0, 1))]), ('/html/body/div[1]/div/div[2]/div/div/div/div[1]/article/div/section/section/p[16]', 'p', 'text', 'Encryption is initiated and completed very quickly once applicable services and processes have been terminated. Specific encryption recipes and routines can vary across variants of HelloKitty. Generally speaking, they tend to use a combination of AES-256 & RSA-2048 or even NTRU+AES-128.', [Text(entity=None, string='Encryption is initiated and completed very quickly once applicable services and processes have been terminated. Specific encryption recipes and routines can vary across variants of HelloKitty. Generally speaking, they tend to use a combination of AES-256 & RSA-2048 or even NTRU+AES-128.', span=(0, 287))]), ('/html/body/div[1]/div/div[2]/div/div/div/div[1]/article/div/section/section/p[16]', 'p', 'tail', '\\n', [Text(entity=None, string='\\n', span=(0, 1))]), ('/html/body/div[1]/div/div[2]/div/div/div/div[1]/article/div/section/section/p[17]', 'p', 'text', 'Once encrypted, affected files receive the ', [Text(entity=None, string='Once encrypted, affected files receive the ', span=(0, 43))]), ('/html/body/div[1]/div/div[2]/div/div/div/div[1]/article/div/section/section/p[17]', 'p', 'tail', '\\n', [Text(entity=None, string='\\n', span=(0, 1))]), ('/html/body/div[1]/div/div[2]/div/div/div/div[1]/article/div/section/section/p[17]/code', 'code', 'text', '.crypted', [Text(entity=None, string='.crypted', span=(0, 8))]), ('/html/body/div[1]/div/div[2]/div/div/div/div[1]/article/div/section/section/p[17]/code', 'code', 'tail', ' extension.', [Text(entity=None, string=' extension.', span=(0, 11))]), ('/html/body/div[1]/div/div[2]/div/div/div/div[1]/article/div/section/section/p[19]', 'p', 'text', 'Ransom notes are typically customized to directly reference the victim and victim’s environment. Victims are instructed to visit a TOR-based payment and support portal. The following example has been sanitized:', [Text(entity=None, string='Ransom notes are typically customized to directly reference the victim and victim’s environment. Victims are instructed to visit a TOR-based payment and support portal. The following example has been sanitized:', span=(0, 210))]), ('/html/body/div[1]/div/div[2]/div/div/div/div[1]/article/div/section/section/p[19]', 'p', 'tail', '\\n', [Text(entity=None, string='\\n', span=(0, 1))]), ('/html/body/div[1]/div/div[2]/div/div/div/div[1]/article/div/section/section/p[21]', 'p', 'text', 'It is also important to note that as of this writing, the onion address associated with HelloKitty ransom notes is not active.', [Text(entity=None, string='It is also important to note that as of this writing, the onion address associated with HelloKitty ransom notes is not active.', span=(0, 126))]), ('/html/body/div[1]/div/div[2]/div/div/div/div[1]/article/div/section/section/p[21]', 'p', 'tail', '\\n', [Text(entity=None, string='\\n', span=(0, 1))]), ('/html/body/div[1]/div/div[2]/div/div/div/div[1]/article/div/section/section/p[22]/code', 'code', 'text', '6x7dp6h3w6q3ugjv4yv5gycj3femb24kysgry5b44hhgfwc5ml5qrdad.onion', [Text(entity='domain', string='6x7dp6h3w6q3ugjv4yv5gycj3femb24kysgry5b44hhgfwc5ml5qrdad.onion', span=(0, 62))]), ('/html/body/div[1]/div/div[2]/div/div/div/div[1]/article/div/section/section/h2[3]', 'h2', 'text', 'Conclusion', [Text(entity=None, string='Conclusion', span=(0, 10))]), ('/html/body/div[1]/div/div[2]/div/div/div/div[1]/article/div/section/section/h2[3]', 'h2', 'tail', '\\n', [Text(entity=None, string='\\n', span=(0, 1))]), ('/html/body/div[1]/div/div[2]/div/div/div/div[1]/article/div/section/section/p[23]', 'p', 'text', 'HelloKitty may be easier to spot than other modern ransomware families, but upon execution it is no less dangerous. There are currently no known ‘weaknesses’ in the encryption routines, and there are no thirdy-party decrypters available for the HelloKitty ransomware. Therefore, the only true defense is prevention. While this family does not appear to be actively leaking victim data at the moment, that could change at any point, in addition to them choosing to adopt some of the more recent extortion methods that go along with ransomware (DDoS).', [Text(entity=None, string='HelloKitty may be easier to spot than other modern ransomware families, but upon execution it is no less dangerous. There are currently no known ‘weaknesses’ in the encryption routines, and there are no thirdy-party decrypters available for the HelloKitty ransomware. Therefore, the only true defense is prevention. While this family does not appear to be actively leaking victim data at the moment, that could change at any point, in addition to them choosing to adopt some of the more recent extortion methods that go along with ransomware (DDoS).', span=(0, 549))]), ('/html/body/div[1]/div/div[2]/div/div/div/div[1]/article/div/section/section/p[23]', 'p', 'tail', '\\n', [Text(entity=None, string='\\n', span=(0, 1))]), ('/html/body/div[1]/div/div[2]/div/div/div/div[1]/article/div/section/section/p[24]', 'p', 'text', 'Actors behind the more recent campaign(s) are reportedly attempting to auction the CD Projekt data off in various ‘underground’ forums. At present this sale of this data does appear to be legitimate. Time will tell if additional victim data is dealt with in the same way.', [Text(entity=None, string='Actors behind the more recent campaign(s) are reportedly attempting to auction the CD Projekt data off in various ‘underground’ forums. At present this sale of this data does appear to be legitimate. Time will tell if additional victim data is dealt with in the same way.', span=(0, 271))]), ('/html/body/div[1]/div/div[2]/div/div/div/div[1]/article/div/section/section/p[24]', 'p', 'tail', '\\n', [Text(entity=None, string='\\n', span=(0, 1))]), ('/html/body/div[1]/div/div[2]/div/div/div/div[1]/article/div/section/section/p[25]', 'p', 'text', 'To protect yourself against HelloKitty, make sure you are armed with a modern Endpoint Security platform, which is configured correctly and up to date. The SentinelOne Singularity Platform is fully capable of preventing and detecting all malicious behaviors associated with the HelloKitty ransomware family.', [Text(entity=None, string='To protect yourself against HelloKitty, make sure you are armed with a modern Endpoint Security platform, which is configured correctly and up to date. The SentinelOne Singularity Platform is fully capable of preventing and detecting all malicious behaviors associated with the HelloKitty ransomware family.', span=(0, 307))]), ('/html/body/div[1]/div/div[2]/div/div/div/div[1]/article/div/section/section/p[25]', 'p', 'tail', '\\n', [Text(entity=None, string='\\n', span=(0, 1))]), ('/html/body/div[1]/div/div[2]/div/div/div/div[1]/article/div/section/section/h2[4]', 'h2', 'text', 'IOCs', [Text(entity=None, string='IOCs', span=(0, 4))]), ('/html/body/div[1]/div/div[2]/div/div/div/div[1]/article/div/section/section/h2[4]', 'h2', 'tail', '\\n', [Text(entity=None, string='\\n', span=(0, 1))]), ('/html/body/div[1]/div/div[2]/div/div/div/div[1]/article/div/section/section/p[26]/strong', 'strong', 'text', 'SHA1', [Text(entity=None, string='SHA1', span=(0, 4))]), ('/html/body/div[1]/div/div[2]/div/div/div/div[1]/article/div/section/section/p[26]/br', 'br', 'tail', '\\nfadd8d7c13a18c251ded1f645ffea18a37f1c2de', [Text(entity=None, string='\\n', span=(0, 1)), Text(entity='FileHash-SHA1', string='fadd8d7c13a18c251ded1f645ffea18a37f1c2de', span=(1, 41))]), ('/html/body/div[1]/div/div[2]/div/div/div/div[1]/article/div/section/section/p[27]/strong', 'strong', 'text', 'SHA256', [Text(entity=None, string='SHA256', span=(0, 6))]), ('/html/body/div[1]/div/div[2]/div/div/div/div[1]/article/div/section/section/p[27]/br', 'br', 'tail', '\\n501487b025f25ddf1ca32deb57a2b4db43ccf6635c1edc74b9cff54ce0e5bcfe', [Text(entity=None, string='\\n', span=(0, 1)), Text(entity='FileHash-SHA256', string='501487b025f25ddf1ca32deb57a2b4db43ccf6635c1edc74b9cff54ce0e5bcfe', span=(1, 65))]), ('/html/body/div[1]/div/div[2]/div/div/div/div[1]/article/div/section/section/p[28]/strong', 'strong', 'text', 'MITRE ATT&CK', [Text(entity=None, string='MITRE ATT&CK', span=(0, 12))]), ('/html/body/div[1]/div/div[2]/div/div/div/div[1]/article/div/section/section/p[28]/br[1]', 'br', 'tail', '\\nData from Local System – ', [Text(entity=None, string='\\nData from Local System – ', span=(0, 26))]), ('/html/body/div[1]/div/div[2]/div/div/div/div[1]/article/div/section/section/p[28]/a[1]', 'a', 'text', 'T1005', [Text(entity='AttackTechnique', string='T1005', span=(0, 5))]), ('/html/body/div[1]/div/div[2]/div/div/div/div[1]/article/div/section/section/p[28]/br[2]', 'br', 'tail', '\\nModify Registry – ', [Text(entity=None, string='\\nModify Registry – ', span=(0, 19))]), ('/html/body/div[1]/div/div[2]/div/div/div/div[1]/article/div/section/section/p[28]/a[2]', 'a', 'text', 'T1112', [Text(entity='AttackTechnique', string='T1112', span=(0, 5))]), ('/html/body/div[1]/div/div[2]/div/div/div/div[1]/article/div/section/section/p[28]/br[3]', 'br', 'tail', '\\nQuery Registry – ', [Text(entity=None, string='\\nQuery Registry – ', span=(0, 18))]), ('/html/body/div[1]/div/div[2]/div/div/div/div[1]/article/div/section/section/p[28]/a[3]', 'a', 'text', 'T1012', [Text(entity='AttackTechnique', string='T1012', span=(0, 5))]), ('/html/body/div[1]/div/div[2]/div/div/div/div[1]/article/div/section/section/p[28]/br[4]', 'br', 'tail', '\\nSystem Information Discovery – ', [Text(entity=None, string='\\nSystem Information Discovery – ', span=(0, 32))]), ('/html/body/div[1]/div/div[2]/div/div/div/div[1]/article/div/section/section/p[28]/a[4]', 'a', 'text', 'T1082', [Text(entity='AttackTechnique', string='T1082', span=(0, 5))]), ('/html/body/div[1]/div/div[2]/div/div/div/div[1]/article/div/section/section/p[28]/br[5]', 'br', 'tail', '\\nData Encrypted for Impact – ', [Text(entity=None, string='\\nData Encrypted for Impact – ', span=(0, 29))]), ('/html/body/div[1]/div/div[2]/div/div/div/div[1]/article/div/section/section/p[28]/a[5]', 'a', 'text', 'T1486', [Text(entity='AttackTechnique', string='T1486', span=(0, 5))]), ('/html/body/div[1]/div/div[2]/div/div/div/div[1]/article/div/section/section/p[28]/br[6]', 'br', 'tail', '\\nFile Deletion – ', [Text(entity=None, string='\\nFile Deletion – ', span=(0, 17))]), ('/html/body/div[1]/div/div[2]/div/div/div/div[1]/article/div/section/section/p[28]/a[6]', 'a', 'text', 'T1070.004', [Text(entity='AttackTechnique', string='T1070.004', span=(0, 9))]), ('/html/body/div[1]/div/div[2]/div/div/div/div[1]/article/div/section/section/p[28]/br[7]', 'br', 'tail', '\\nCommand and Scripting Interpreter: Windows Command Shell – ', [Text(entity=None, string='\\nCommand and Scripting Interpreter: Windows Command Shell – ', span=(0, 60))]), ('/html/body/div[1]/div/div[2]/div/div/div/div[1]/article/div/section/section/p[28]/a[7]', 'a', 'text', 'T1059.003', [Text(entity='AttackTechnique', string='T1059.003', span=(0, 9))]), ('/html/body/div[1]/div/div[2]/div/div/div/div[1]/article/div/section/section/p[28]/br[8]', 'br', 'tail', '\\nWindows Management Instrumentation – ', [Text(entity=None, string='\\nWindows Management Instrumentation – ', span=(0, 38))]), ('/html/body/div[1]/div/div[2]/div/div/div/div[1]/article/div/section/section/p[28]/a[8]', 'a', 'text', 'T1047', [Text(entity='AttackTechnique', string='T1047', span=(0, 5))]), ('/html/body/div[1]/div/div[2]/div/div/div/div[1]/article/div/section/section/div/span[2]', 'span', 'text', 'Post Views: ', [Text(entity=None, string='Post Views: ', span=(0, 12))]), ('/html/body/div[1]/div/div[2]/div/div/div/div[1]/article/div/section/section/div/span[2]', 'span', 'tail', '\\n\\t\\t\\t\\t', [Text(entity=None, string='\\n\\t\\t\\t\\t', span=(0, 5))]), ('/html/body/div[1]/div/div[2]/div/div/div/div[1]/article/div/section/section/div/span[3]', 'span', 'text', '7,278', [Text(entity=None, string='7,278', span=(0, 5))]), ('/html/body/div[1]/div/div[2]/div/div/div/div[1]/article/div/section/section/div/span[3]', 'span', 'tail', '\\n\\t\\t\\t', [Text(entity=None, string='\\n\\t\\t\\t', span=(0, 4))]), ('/html/body/div[1]/div/div[2]/div/div/div/div[1]/article/div/section/section/p[29]/a', 'a', 'text', 'Ransomware', [Text(entity=None, string='Ransomware', span=(0, 10))]), ('/html/body/div[1]/div/div[2]/div/div/div/div[1]/article/div/section/section/p[29]/a', 'a', 'tail', '\\t\\t\\t\\t\\t', [Text(entity=None, string='\\t\\t\\t\\t\\t', span=(0, 5))])]"
      ]
     },
     "execution_count": 449,
     "metadata": {},
     "output_type": "execute_result"
    }
   ],
   "source": [
    "seq(da.contents).starmap(\n",
    "    lambda xpath, tag, prop, text: (xpath, tag, prop, text, list(parser.iterscan(text)))\n",
    ")  # .filter(lambda x: x[4] is True)"
   ]
  },
  {
   "cell_type": "code",
   "execution_count": 424,
   "id": "a2c28727-8aec-441c-ad59-98218beaea9f",
   "metadata": {},
   "outputs": [
    {
     "data": {
      "text/plain": [
       "[('taskkill.exe /f /PID \"8656\"', None)]"
      ]
     },
     "execution_count": 424,
     "metadata": {},
     "output_type": "execute_result"
    }
   ],
   "source": [
    "seq(\n",
    "    etree.HTML(da.document.input).xpath(\n",
    "        \"/html/body/div[1]/div/div[2]/div/div/div/div[1]/article/div/section/section/p[12]/code[2]\"\n",
    "    )\n",
    ").map(lambda element: (element.text, element.tail)).to_list()"
   ]
  },
  {
   "cell_type": "code",
   "execution_count": 416,
   "id": "f4f08ab6-e9ee-41ac-813c-4ca85de797ce",
   "metadata": {},
   "outputs": [
    {
     "data": {
      "text/plain": [
       "[('/html/body/div[1]/div/div[2]/div/div/div/div[1]/article/div/section/section/p[1]',\n",
       "  'p',\n",
       "  'text',\n",
       "  'Game studio CD Projekt Red recently '),\n",
       " ('/html/body/div[1]/div/div[2]/div/div/div/div[1]/article/div/section/section/p[1]',\n",
       "  'p',\n",
       "  'tail',\n",
       "  '\\n'),\n",
       " ('/html/body/div[1]/div/div[2]/div/div/div/div[1]/article/div/section/section/p[1]/a',\n",
       "  'a',\n",
       "  'text',\n",
       "  'disclosed'),\n",
       " ('/html/body/div[1]/div/div[2]/div/div/div/div[1]/article/div/section/section/p[1]/a',\n",
       "  'a',\n",
       "  'tail',\n",
       "  ' that it became a victim of a targeted, highly-impactful ransomware. In the days following the disclosure, it was revealed that the ransomware family most likely behind the attack was “HelloKitty”.'),\n",
       " ('/html/body/div[1]/div/div[2]/div/div/div/div[1]/article/div/section/section/p[3]',\n",
       "  'p',\n",
       "  'text',\n",
       "  'HelloKitty is a ransomware family that emerged in late 2020. While it lacks the sophistication of some of the more well-known families such as Ryuk, REvil, and Conti, it has nevertheless struck some notable targets, including CEMIG0. In this post, we analyse a recent HelloKitty sample and outline the basic behaviors and traits associated with this family of ransomware.'),\n",
       " ('/html/body/div[1]/div/div[2]/div/div/div/div[1]/article/div/section/section/p[3]',\n",
       "  'p',\n",
       "  'tail',\n",
       "  '\\n'),\n",
       " ('/html/body/div[1]/div/div[2]/div/div/div/div[1]/article/div/section/section/h2[1]',\n",
       "  'h2',\n",
       "  'text',\n",
       "  'Execution and Behavior'),\n",
       " ('/html/body/div[1]/div/div[2]/div/div/div/div[1]/article/div/section/section/h2[1]',\n",
       "  'h2',\n",
       "  'tail',\n",
       "  '\\n'),\n",
       " ('/html/body/div[1]/div/div[2]/div/div/div/div[1]/article/div/section/section/p[4]',\n",
       "  'p',\n",
       "  'text',\n",
       "  'The “HelloKitty” name is based on internal mutex names, which are apparent upon execution.'),\n",
       " ('/html/body/div[1]/div/div[2]/div/div/div/div[1]/article/div/section/section/p[4]',\n",
       "  'p',\n",
       "  'tail',\n",
       "  '\\n'),\n",
       " ('/html/body/div[1]/div/div[2]/div/div/div/div[1]/article/div/section/section/p[6]',\n",
       "  'p',\n",
       "  'text',\n",
       "  'While still somewhat unclear, current intelligence indicates that the primary delivery method of HelloKitty binaries is via phish email or via secondary infection in conjunction with other malware.'),\n",
       " ('/html/body/div[1]/div/div[2]/div/div/div/div[1]/article/div/section/section/p[6]',\n",
       "  'p',\n",
       "  'tail',\n",
       "  '\\n'),\n",
       " ('/html/body/div[1]/div/div[2]/div/div/div/div[1]/article/div/section/section/p[7]',\n",
       "  'p',\n",
       "  'text',\n",
       "  'Once launched, HelloKitty will attempt to disable and terminate a number of processes and services so as to reduce interference with the encryption process. This includes processes and services associated with IIS, MSSQL, Quickbooks, Sharepoint, and more. These actions are carried out via '),\n",
       " ('/html/body/div[1]/div/div[2]/div/div/div/div[1]/article/div/section/section/p[7]',\n",
       "  'p',\n",
       "  'tail',\n",
       "  '\\n'),\n",
       " ('/html/body/div[1]/div/div[2]/div/div/div/div[1]/article/div/section/section/p[7]/code[1]',\n",
       "  'code',\n",
       "  'text',\n",
       "  'taskkill.exe'),\n",
       " ('/html/body/div[1]/div/div[2]/div/div/div/div[1]/article/div/section/section/p[7]/code[1]',\n",
       "  'code',\n",
       "  'tail',\n",
       "  ' and '),\n",
       " ('/html/body/div[1]/div/div[2]/div/div/div/div[1]/article/div/section/section/p[7]/code[2]',\n",
       "  'code',\n",
       "  'text',\n",
       "  'net.exe'),\n",
       " ('/html/body/div[1]/div/div[2]/div/div/div/div[1]/article/div/section/section/p[7]/code[2]',\n",
       "  'code',\n",
       "  'tail',\n",
       "  '.'),\n",
       " ('/html/body/div[1]/div/div[2]/div/div/div/div[1]/article/div/section/section/p[8]',\n",
       "  'p',\n",
       "  'text',\n",
       "  'In the analyzed sample, this is all done in a very non-stealthy manner. All spawned CMD windows are in the foreground and fully visible. This ‘lack of discreteness’ is atypical for modern ransomware, or any successful malware, for that matter.'),\n",
       " ('/html/body/div[1]/div/div[2]/div/div/div/div[1]/article/div/section/section/p[8]',\n",
       "  'p',\n",
       "  'tail',\n",
       "  '\\n'),\n",
       " ('/html/body/div[1]/div/div[2]/div/div/div/div[1]/article/div/section/section/p[10]',\n",
       "  'p',\n",
       "  'text',\n",
       "  'A full list of processes from the analyzed sample are listed below:'),\n",
       " ('/html/body/div[1]/div/div[2]/div/div/div/div[1]/article/div/section/section/p[10]',\n",
       "  'p',\n",
       "  'tail',\n",
       "  '\\n'),\n",
       " ('/html/body/div[1]/div/div[2]/div/div/div/div[1]/article/div/section/section/pre[1]',\n",
       "  'pre',\n",
       "  'text',\n",
       "  '\\ndsa*\\nNtrtsca\\nds_moni\\nNotifie\\nTmListe\\niVPAgen\\nCNTAoSM\\nIBM*\\nbes10*\\nblack*\\nrobo*\\ncopy*\\nstore.e\\nsql*\\nvee*\\nwrsa*\\nwrsa.ex\\npostg*\\nsage*\\nMSSQLServerADHelper100\\nMSSQL$ISARS\\nMSSQL$MSFW\\nSQLAgent$ISARS\\nSQLAgent$MSFW\\nSQLBrowser\\nReportServer$ISARS\\nSQLWriter\\nWinDefend\\nmr2kserv\\nMSExchangeADTopology\\nMSExchangeFBA\\nMSExchangeIS\\nMSExchangeSA\\nShadowProtectSvc\\nSPAdminV4\\nSPTimerV4\\nSPTraceV4\\nSPUserCodeV4\\nSPWriterV4\\nSPSearch4\\nIISADMIN\\nfirebirdguardiandefaultinstance\\nibmiasrw\\nQBCFMonitorService\\nQBVSS\\nQBPOSDBServiceV12\\n\"IBM Domino Server(CProgramFilesIBMDominodata)\"\\n\"IBM Domino Diagnostics(CProgramFilesIBMDomino)\"\\n\"Simply Accounting Database Connection Manager\"\\nQuickBooksDB1\\nQuickBooksDB2\\nQuickBooksDB3\\nQuickBooksDB4\\nQuickBooksDB5\\nQuickBooksDB6\\nQuickBooksDB7\\nQuickBooksDB8\\nQuickBooksDB9\\nQuickBooksDB10\\nQuickBooksDB11\\nQuickBooksDB12\\nQuickBooksDB13\\nQuickBooksDB14\\nQuickBooksDB15\\nQuickBooksDB16\\nQuickBooksDB17\\nQuickBooksDB18\\nQuickBooksDB19\\nQuickBooksDB20\\nQuickBooksDB21\\nQuickBooksDB22\\nQuickBooksDB23\\nQuickBooksDB24\\nQuickBooksDB25\\n'),\n",
       " ('/html/body/div[1]/div/div[2]/div/div/div/div[1]/article/div/section/section/pre[1]',\n",
       "  'pre',\n",
       "  'tail',\n",
       "  '\\n'),\n",
       " ('/html/body/div[1]/div/div[2]/div/div/div/div[1]/article/div/section/section/p[11]',\n",
       "  'p',\n",
       "  'text',\n",
       "  'Additional processes and services that are terminated are identified via PID. For example:'),\n",
       " ('/html/body/div[1]/div/div[2]/div/div/div/div[1]/article/div/section/section/p[11]',\n",
       "  'p',\n",
       "  'tail',\n",
       "  '\\n'),\n",
       " ('/html/body/div[1]/div/div[2]/div/div/div/div[1]/article/div/section/section/p[12]/code[1]',\n",
       "  'code',\n",
       "  'text',\n",
       "  'taskkill.exe /f /PID \"8512\"'),\n",
       " ('/html/body/div[1]/div/div[2]/div/div/div/div[1]/article/div/section/section/p[12]/code[1]',\n",
       "  'code',\n",
       "  'tail',\n",
       "  None),\n",
       " ('/html/body/div[1]/div/div[2]/div/div/div/div[1]/article/div/section/section/p[12]/code[2]',\n",
       "  'code',\n",
       "  'text',\n",
       "  'taskkill.exe /f /PID \"8656\"'),\n",
       " ('/html/body/div[1]/div/div[2]/div/div/div/div[1]/article/div/section/section/p[12]/code[2]',\n",
       "  'code',\n",
       "  'tail',\n",
       "  None),\n",
       " ('/html/body/div[1]/div/div[2]/div/div/div/div[1]/article/div/section/section/p[13]',\n",
       "  'p',\n",
       "  'text',\n",
       "  'If HelloKitty is unable to stop any specific processes or services, it will leverage the Windows Restart Manager API to further assist in termination.'),\n",
       " ('/html/body/div[1]/div/div[2]/div/div/div/div[1]/article/div/section/section/p[13]',\n",
       "  'p',\n",
       "  'tail',\n",
       "  '\\n'),\n",
       " ('/html/body/div[1]/div/div[2]/div/div/div/div[1]/article/div/section/section/p[15]',\n",
       "  'p',\n",
       "  'text',\n",
       "  'HelloKitty will also utilize WMI to gather system details and help identify running processes and any potentially problematic processes. This is done both by name and by PID. A number of examples are shown below:'),\n",
       " ('/html/body/div[1]/div/div[2]/div/div/div/div[1]/article/div/section/section/p[15]',\n",
       "  'p',\n",
       "  'tail',\n",
       "  '\\n'),\n",
       " ('/html/body/div[1]/div/div[2]/div/div/div/div[1]/article/div/section/section/pre[2]',\n",
       "  'pre',\n",
       "  'text',\n",
       "  '\\nstart iwbemservices::execquery - root\\\\cimv2 : select __path, processid, csname, caption, sessionid, threadcount, workingsetsize, kernelmodetime, usermodetime, parentprocessid from win32_process\\n\\nstart iwbemservices::execquery - root\\\\cimv2 : select __path, processid, csname, caption, sessionid, threadcount, workingsetsize, kernelmodetime, usermodetime, parentprocessid from win32_process where (  caption = \"store.exe\")\\n\\nstart iwbemservices::execquery - root\\\\cimv2 : select __path, processid, csname, caption, sessionid, threadcount, workingsetsize, kernelmodetime, usermodetime, parentprocessid from win32_process where (  caption = \"wrsa.exe\")\\n\\nstart iwbemservices::execquery - root\\\\cimv2 : select __path, processid, csname, caption, sessionid, threadcount, workingsetsize, kernelmodetime, usermodetime, parentprocessid from win32_process where (  processid = 3036)\\n\\nstart iwbemservices::execquery - root\\\\cimv2 : select __path, processid, csname, caption, sessionid, threadcount, workingsetsize, kernelmodetime, usermodetime, parentprocessid from win32_process where (  processid = 4460)\\n\\nstart iwbemservices::execquery - root\\\\cimv2 : select __path, processid, csname, caption, sessionid, threadcount, workingsetsize, kernelmodetime, usermodetime, parentprocessid from win32_process where (  processid = 3052)\\n\\nstart iwbemservices::execquery - root\\\\cimv2 : select __path, processid, csname, caption, sessionid, threadcount, workingsetsize, kernelmodetime, usermodetime, parentprocessid from win32_process where (  processid = 4476)\\n\\nstart iwbemservices::execquery - root\\\\cimv2 : select __path, processid, csname, caption, sessionid, threadcount, workingsetsize, kernelmodetime, usermodetime, parentprocessid from win32_process where (  processid = 1560)\\n\\nstart iwbemservices::execquery - root\\\\cimv2 : select __path, processid, csname, caption, sessionid, threadcount, workingsetsize, kernelmodetime, usermodetime, parentprocessid from win32_process where (  processid = 8124)\\n\\nstart iwbemservices::exe\\n'),\n",
       " ('/html/body/div[1]/div/div[2]/div/div/div/div[1]/article/div/section/section/pre[2]',\n",
       "  'pre',\n",
       "  'tail',\n",
       "  '\\n'),\n",
       " ('/html/body/div[1]/div/div[2]/div/div/div/div[1]/article/div/section/section/h2[2]',\n",
       "  'h2',\n",
       "  'text',\n",
       "  'Encryption and Ransom Note'),\n",
       " ('/html/body/div[1]/div/div[2]/div/div/div/div[1]/article/div/section/section/h2[2]',\n",
       "  'h2',\n",
       "  'tail',\n",
       "  '\\n'),\n",
       " ('/html/body/div[1]/div/div[2]/div/div/div/div[1]/article/div/section/section/p[16]',\n",
       "  'p',\n",
       "  'text',\n",
       "  'Encryption is initiated and completed very quickly once applicable services and processes have been terminated. Specific encryption recipes and routines can vary across variants of HelloKitty. Generally speaking, they tend to use a combination of AES-256 & RSA-2048 or even NTRU+AES-128.'),\n",
       " ('/html/body/div[1]/div/div[2]/div/div/div/div[1]/article/div/section/section/p[16]',\n",
       "  'p',\n",
       "  'tail',\n",
       "  '\\n'),\n",
       " ('/html/body/div[1]/div/div[2]/div/div/div/div[1]/article/div/section/section/p[17]',\n",
       "  'p',\n",
       "  'text',\n",
       "  'Once encrypted, affected files receive the '),\n",
       " ('/html/body/div[1]/div/div[2]/div/div/div/div[1]/article/div/section/section/p[17]',\n",
       "  'p',\n",
       "  'tail',\n",
       "  '\\n'),\n",
       " ('/html/body/div[1]/div/div[2]/div/div/div/div[1]/article/div/section/section/p[17]/code',\n",
       "  'code',\n",
       "  'text',\n",
       "  '.crypted'),\n",
       " ('/html/body/div[1]/div/div[2]/div/div/div/div[1]/article/div/section/section/p[17]/code',\n",
       "  'code',\n",
       "  'tail',\n",
       "  ' extension.'),\n",
       " ('/html/body/div[1]/div/div[2]/div/div/div/div[1]/article/div/section/section/p[19]',\n",
       "  'p',\n",
       "  'text',\n",
       "  'Ransom notes are typically customized to directly reference the victim and victim’s environment. Victims are instructed to visit a TOR-based payment and support portal. The following example has been sanitized:'),\n",
       " ('/html/body/div[1]/div/div[2]/div/div/div/div[1]/article/div/section/section/p[19]',\n",
       "  'p',\n",
       "  'tail',\n",
       "  '\\n'),\n",
       " ('/html/body/div[1]/div/div[2]/div/div/div/div[1]/article/div/section/section/p[21]',\n",
       "  'p',\n",
       "  'text',\n",
       "  'It is also important to note that as of this writing, the onion address associated with HelloKitty ransom notes is not active.'),\n",
       " ('/html/body/div[1]/div/div[2]/div/div/div/div[1]/article/div/section/section/p[21]',\n",
       "  'p',\n",
       "  'tail',\n",
       "  '\\n'),\n",
       " ('/html/body/div[1]/div/div[2]/div/div/div/div[1]/article/div/section/section/p[22]/code',\n",
       "  'code',\n",
       "  'text',\n",
       "  '6x7dp6h3w6q3ugjv4yv5gycj3femb24kysgry5b44hhgfwc5ml5qrdad.onion'),\n",
       " ('/html/body/div[1]/div/div[2]/div/div/div/div[1]/article/div/section/section/p[22]/code',\n",
       "  'code',\n",
       "  'tail',\n",
       "  None),\n",
       " ('/html/body/div[1]/div/div[2]/div/div/div/div[1]/article/div/section/section/h2[3]',\n",
       "  'h2',\n",
       "  'text',\n",
       "  'Conclusion'),\n",
       " ('/html/body/div[1]/div/div[2]/div/div/div/div[1]/article/div/section/section/h2[3]',\n",
       "  'h2',\n",
       "  'tail',\n",
       "  '\\n'),\n",
       " ('/html/body/div[1]/div/div[2]/div/div/div/div[1]/article/div/section/section/p[23]',\n",
       "  'p',\n",
       "  'text',\n",
       "  'HelloKitty may be easier to spot than other modern ransomware families, but upon execution it is no less dangerous. There are currently no known ‘weaknesses’ in the encryption routines, and there are no thirdy-party decrypters available for the HelloKitty ransomware. Therefore, the only true defense is prevention. While this family does not appear to be actively leaking victim data at the moment, that could change at any point, in addition to them choosing to adopt some of the more recent extortion methods that go along with ransomware (DDoS).'),\n",
       " ('/html/body/div[1]/div/div[2]/div/div/div/div[1]/article/div/section/section/p[23]',\n",
       "  'p',\n",
       "  'tail',\n",
       "  '\\n'),\n",
       " ('/html/body/div[1]/div/div[2]/div/div/div/div[1]/article/div/section/section/p[24]',\n",
       "  'p',\n",
       "  'text',\n",
       "  'Actors behind the more recent campaign(s) are reportedly attempting to auction the CD Projekt data off in various ‘underground’ forums. At present this sale of this data does appear to be legitimate. Time will tell if additional victim data is dealt with in the same way.'),\n",
       " ('/html/body/div[1]/div/div[2]/div/div/div/div[1]/article/div/section/section/p[24]',\n",
       "  'p',\n",
       "  'tail',\n",
       "  '\\n'),\n",
       " ('/html/body/div[1]/div/div[2]/div/div/div/div[1]/article/div/section/section/p[25]',\n",
       "  'p',\n",
       "  'text',\n",
       "  'To protect yourself against HelloKitty, make sure you are armed with a modern Endpoint Security platform, which is configured correctly and up to date. The SentinelOne Singularity Platform is fully capable of preventing and detecting all malicious behaviors associated with the HelloKitty ransomware family.'),\n",
       " ('/html/body/div[1]/div/div[2]/div/div/div/div[1]/article/div/section/section/p[25]',\n",
       "  'p',\n",
       "  'tail',\n",
       "  '\\n'),\n",
       " ('/html/body/div[1]/div/div[2]/div/div/div/div[1]/article/div/section/section/h2[4]',\n",
       "  'h2',\n",
       "  'text',\n",
       "  'IOCs'),\n",
       " ('/html/body/div[1]/div/div[2]/div/div/div/div[1]/article/div/section/section/h2[4]',\n",
       "  'h2',\n",
       "  'tail',\n",
       "  '\\n'),\n",
       " ('/html/body/div[1]/div/div[2]/div/div/div/div[1]/article/div/section/section/p[26]/strong',\n",
       "  'strong',\n",
       "  'text',\n",
       "  'SHA1'),\n",
       " ('/html/body/div[1]/div/div[2]/div/div/div/div[1]/article/div/section/section/p[26]/strong',\n",
       "  'strong',\n",
       "  'tail',\n",
       "  None),\n",
       " ('/html/body/div[1]/div/div[2]/div/div/div/div[1]/article/div/section/section/p[26]/br',\n",
       "  'br',\n",
       "  'text',\n",
       "  None),\n",
       " ('/html/body/div[1]/div/div[2]/div/div/div/div[1]/article/div/section/section/p[26]/br',\n",
       "  'br',\n",
       "  'tail',\n",
       "  '\\nfadd8d7c13a18c251ded1f645ffea18a37f1c2de'),\n",
       " ('/html/body/div[1]/div/div[2]/div/div/div/div[1]/article/div/section/section/p[27]/strong',\n",
       "  'strong',\n",
       "  'text',\n",
       "  'SHA256'),\n",
       " ('/html/body/div[1]/div/div[2]/div/div/div/div[1]/article/div/section/section/p[27]/strong',\n",
       "  'strong',\n",
       "  'tail',\n",
       "  None),\n",
       " ('/html/body/div[1]/div/div[2]/div/div/div/div[1]/article/div/section/section/p[27]/br',\n",
       "  'br',\n",
       "  'text',\n",
       "  None),\n",
       " ('/html/body/div[1]/div/div[2]/div/div/div/div[1]/article/div/section/section/p[27]/br',\n",
       "  'br',\n",
       "  'tail',\n",
       "  '\\n501487b025f25ddf1ca32deb57a2b4db43ccf6635c1edc74b9cff54ce0e5bcfe'),\n",
       " ('/html/body/div[1]/div/div[2]/div/div/div/div[1]/article/div/section/section/p[28]/strong',\n",
       "  'strong',\n",
       "  'text',\n",
       "  'MITRE ATT&CK'),\n",
       " ('/html/body/div[1]/div/div[2]/div/div/div/div[1]/article/div/section/section/p[28]/strong',\n",
       "  'strong',\n",
       "  'tail',\n",
       "  None),\n",
       " ('/html/body/div[1]/div/div[2]/div/div/div/div[1]/article/div/section/section/p[28]/br[1]',\n",
       "  'br',\n",
       "  'text',\n",
       "  None),\n",
       " ('/html/body/div[1]/div/div[2]/div/div/div/div[1]/article/div/section/section/p[28]/br[1]',\n",
       "  'br',\n",
       "  'tail',\n",
       "  '\\nData from Local System – '),\n",
       " ('/html/body/div[1]/div/div[2]/div/div/div/div[1]/article/div/section/section/p[28]/a[1]',\n",
       "  'a',\n",
       "  'text',\n",
       "  'T1005'),\n",
       " ('/html/body/div[1]/div/div[2]/div/div/div/div[1]/article/div/section/section/p[28]/a[1]',\n",
       "  'a',\n",
       "  'tail',\n",
       "  None),\n",
       " ('/html/body/div[1]/div/div[2]/div/div/div/div[1]/article/div/section/section/p[28]/br[2]',\n",
       "  'br',\n",
       "  'text',\n",
       "  None),\n",
       " ('/html/body/div[1]/div/div[2]/div/div/div/div[1]/article/div/section/section/p[28]/br[2]',\n",
       "  'br',\n",
       "  'tail',\n",
       "  '\\nModify Registry – '),\n",
       " ('/html/body/div[1]/div/div[2]/div/div/div/div[1]/article/div/section/section/p[28]/a[2]',\n",
       "  'a',\n",
       "  'text',\n",
       "  'T1112'),\n",
       " ('/html/body/div[1]/div/div[2]/div/div/div/div[1]/article/div/section/section/p[28]/a[2]',\n",
       "  'a',\n",
       "  'tail',\n",
       "  None),\n",
       " ('/html/body/div[1]/div/div[2]/div/div/div/div[1]/article/div/section/section/p[28]/br[3]',\n",
       "  'br',\n",
       "  'text',\n",
       "  None),\n",
       " ('/html/body/div[1]/div/div[2]/div/div/div/div[1]/article/div/section/section/p[28]/br[3]',\n",
       "  'br',\n",
       "  'tail',\n",
       "  '\\nQuery Registry – '),\n",
       " ('/html/body/div[1]/div/div[2]/div/div/div/div[1]/article/div/section/section/p[28]/a[3]',\n",
       "  'a',\n",
       "  'text',\n",
       "  'T1012'),\n",
       " ('/html/body/div[1]/div/div[2]/div/div/div/div[1]/article/div/section/section/p[28]/a[3]',\n",
       "  'a',\n",
       "  'tail',\n",
       "  None),\n",
       " ('/html/body/div[1]/div/div[2]/div/div/div/div[1]/article/div/section/section/p[28]/br[4]',\n",
       "  'br',\n",
       "  'text',\n",
       "  None),\n",
       " ('/html/body/div[1]/div/div[2]/div/div/div/div[1]/article/div/section/section/p[28]/br[4]',\n",
       "  'br',\n",
       "  'tail',\n",
       "  '\\nSystem Information Discovery – '),\n",
       " ('/html/body/div[1]/div/div[2]/div/div/div/div[1]/article/div/section/section/p[28]/a[4]',\n",
       "  'a',\n",
       "  'text',\n",
       "  'T1082'),\n",
       " ('/html/body/div[1]/div/div[2]/div/div/div/div[1]/article/div/section/section/p[28]/a[4]',\n",
       "  'a',\n",
       "  'tail',\n",
       "  None),\n",
       " ('/html/body/div[1]/div/div[2]/div/div/div/div[1]/article/div/section/section/p[28]/br[5]',\n",
       "  'br',\n",
       "  'text',\n",
       "  None),\n",
       " ('/html/body/div[1]/div/div[2]/div/div/div/div[1]/article/div/section/section/p[28]/br[5]',\n",
       "  'br',\n",
       "  'tail',\n",
       "  '\\nData Encrypted for Impact – '),\n",
       " ('/html/body/div[1]/div/div[2]/div/div/div/div[1]/article/div/section/section/p[28]/a[5]',\n",
       "  'a',\n",
       "  'text',\n",
       "  'T1486'),\n",
       " ('/html/body/div[1]/div/div[2]/div/div/div/div[1]/article/div/section/section/p[28]/a[5]',\n",
       "  'a',\n",
       "  'tail',\n",
       "  None),\n",
       " ('/html/body/div[1]/div/div[2]/div/div/div/div[1]/article/div/section/section/p[28]/br[6]',\n",
       "  'br',\n",
       "  'text',\n",
       "  None),\n",
       " ('/html/body/div[1]/div/div[2]/div/div/div/div[1]/article/div/section/section/p[28]/br[6]',\n",
       "  'br',\n",
       "  'tail',\n",
       "  '\\nFile Deletion – '),\n",
       " ('/html/body/div[1]/div/div[2]/div/div/div/div[1]/article/div/section/section/p[28]/a[6]',\n",
       "  'a',\n",
       "  'text',\n",
       "  'T1070.004'),\n",
       " ('/html/body/div[1]/div/div[2]/div/div/div/div[1]/article/div/section/section/p[28]/a[6]',\n",
       "  'a',\n",
       "  'tail',\n",
       "  None),\n",
       " ('/html/body/div[1]/div/div[2]/div/div/div/div[1]/article/div/section/section/p[28]/br[7]',\n",
       "  'br',\n",
       "  'text',\n",
       "  None),\n",
       " ('/html/body/div[1]/div/div[2]/div/div/div/div[1]/article/div/section/section/p[28]/br[7]',\n",
       "  'br',\n",
       "  'tail',\n",
       "  '\\nCommand and Scripting Interpreter: Windows Command Shell – '),\n",
       " ('/html/body/div[1]/div/div[2]/div/div/div/div[1]/article/div/section/section/p[28]/a[7]',\n",
       "  'a',\n",
       "  'text',\n",
       "  'T1059.003'),\n",
       " ('/html/body/div[1]/div/div[2]/div/div/div/div[1]/article/div/section/section/p[28]/a[7]',\n",
       "  'a',\n",
       "  'tail',\n",
       "  None),\n",
       " ('/html/body/div[1]/div/div[2]/div/div/div/div[1]/article/div/section/section/p[28]/br[8]',\n",
       "  'br',\n",
       "  'text',\n",
       "  None),\n",
       " ('/html/body/div[1]/div/div[2]/div/div/div/div[1]/article/div/section/section/p[28]/br[8]',\n",
       "  'br',\n",
       "  'tail',\n",
       "  '\\nWindows Management Instrumentation – '),\n",
       " ('/html/body/div[1]/div/div[2]/div/div/div/div[1]/article/div/section/section/p[28]/a[8]',\n",
       "  'a',\n",
       "  'text',\n",
       "  'T1047'),\n",
       " ('/html/body/div[1]/div/div[2]/div/div/div/div[1]/article/div/section/section/p[28]/a[8]',\n",
       "  'a',\n",
       "  'tail',\n",
       "  None),\n",
       " ('/html/body/div[1]/div/div[2]/div/div/div/div[1]/article/div/section/section/div/span[2]',\n",
       "  'span',\n",
       "  'text',\n",
       "  'Post Views: '),\n",
       " ('/html/body/div[1]/div/div[2]/div/div/div/div[1]/article/div/section/section/div/span[2]',\n",
       "  'span',\n",
       "  'tail',\n",
       "  '\\n\\t\\t\\t\\t'),\n",
       " ('/html/body/div[1]/div/div[2]/div/div/div/div[1]/article/div/section/section/div/span[3]',\n",
       "  'span',\n",
       "  'text',\n",
       "  '7,278'),\n",
       " ('/html/body/div[1]/div/div[2]/div/div/div/div[1]/article/div/section/section/div/span[3]',\n",
       "  'span',\n",
       "  'tail',\n",
       "  '\\n\\t\\t\\t'),\n",
       " ('/html/body/div[1]/div/div[2]/div/div/div/div[1]/article/div/section/section/p[29]/a',\n",
       "  'a',\n",
       "  'text',\n",
       "  'Ransomware'),\n",
       " ('/html/body/div[1]/div/div[2]/div/div/div/div[1]/article/div/section/section/p[29]/a',\n",
       "  'a',\n",
       "  'tail',\n",
       "  '\\t\\t\\t\\t\\t')]"
      ]
     },
     "execution_count": 416,
     "metadata": {},
     "output_type": "execute_result"
    }
   ],
   "source": [
    "da.contents"
   ]
  },
  {
   "cell_type": "markdown",
   "id": "cd9af68f-1546-4a17-b833-d3aad1068437",
   "metadata": {},
   "source": [
    "---"
   ]
  },
  {
   "cell_type": "code",
   "execution_count": 25,
   "id": "0aa82fb8-7cf7-4c90-8074-03a2779ec133",
   "metadata": {},
   "outputs": [
    {
     "name": "stderr",
     "output_type": "stream",
     "text": [
      "None of PyTorch, TensorFlow >= 2.0, or Flax have been found. Models won't be available and only tokenizers, configuration and file/data utilities can be used.\n"
     ]
    }
   ],
   "source": [
    "from transformers import AutoTokenizer"
   ]
  },
  {
   "cell_type": "code",
   "execution_count": 26,
   "id": "b6a5e134-b9b5-4020-ba39-56e01b02783f",
   "metadata": {},
   "outputs": [],
   "source": [
    "model_checkpoint = \"distilbert-base-uncased\"\n",
    "tokenizer = AutoTokenizer.from_pretrained(model_checkpoint)"
   ]
  },
  {
   "cell_type": "code",
   "execution_count": 27,
   "id": "d1220eb6-b83e-4a5d-a6af-98eef379484c",
   "metadata": {},
   "outputs": [
    {
     "data": {
      "text/plain": [
       "['hello',\n",
       " '##kit',\n",
       " '##ty',\n",
       " 'ransom',\n",
       " '##ware',\n",
       " 'lacks',\n",
       " 'stealth',\n",
       " ',',\n",
       " 'but',\n",
       " 'still',\n",
       " 'strikes',\n",
       " 'home']"
      ]
     },
     "execution_count": 27,
     "metadata": {},
     "output_type": "execute_result"
    }
   ],
   "source": [
    "tokenizer.tokenize(\"HelloKitty Ransomware Lacks Stealth, But Still Strikes Home\")"
   ]
  },
  {
   "cell_type": "code",
   "execution_count": 30,
   "id": "05ef138f-92ae-4b7e-8897-46864274635d",
   "metadata": {},
   "outputs": [
    {
     "data": {
      "text/plain": [
       "12"
      ]
     },
     "execution_count": 30,
     "metadata": {},
     "output_type": "execute_result"
    }
   ],
   "source": [
    "len(tokenizer.tokenize(\"HelloKitty Ransomware Lacks Stealth, But Still Strikes Home\"))"
   ]
  },
  {
   "cell_type": "code",
   "execution_count": 29,
   "id": "f279ea30-efa6-4530-93c8-48200b465b7c",
   "metadata": {},
   "outputs": [
    {
     "data": {
      "text/plain": [
       "{'input_ids': [101, 7592, 23615, 3723, 16540, 8059, 14087, 22150, 1010, 2021, 2145, 9326, 2188, 102], 'attention_mask': [1, 1, 1, 1, 1, 1, 1, 1, 1, 1, 1, 1, 1, 1]}"
      ]
     },
     "execution_count": 29,
     "metadata": {},
     "output_type": "execute_result"
    }
   ],
   "source": [
    "tokenizer(\"HelloKitty Ransomware Lacks Stealth, But Still Strikes Home\")"
   ]
  },
  {
   "cell_type": "code",
   "execution_count": 32,
   "id": "a14d17dd-dbca-47aa-adb8-93ba0ac14e66",
   "metadata": {},
   "outputs": [
    {
     "data": {
      "text/plain": [
       "['[CLS]',\n",
       " 'hello',\n",
       " '##kit',\n",
       " '##ty',\n",
       " 'ransom',\n",
       " '##ware',\n",
       " 'lacks',\n",
       " 'stealth',\n",
       " ',',\n",
       " 'but',\n",
       " 'still',\n",
       " 'strikes',\n",
       " 'home',\n",
       " '[SEP]']"
      ]
     },
     "execution_count": 32,
     "metadata": {},
     "output_type": "execute_result"
    }
   ],
   "source": [
    "tokenizer.convert_ids_to_tokens(\n",
    "    [\n",
    "        101,\n",
    "        7592,\n",
    "        23615,\n",
    "        3723,\n",
    "        16540,\n",
    "        8059,\n",
    "        14087,\n",
    "        22150,\n",
    "        1010,\n",
    "        2021,\n",
    "        2145,\n",
    "        9326,\n",
    "        2188,\n",
    "        102,\n",
    "    ]\n",
    ")"
   ]
  },
  {
   "cell_type": "code",
   "execution_count": 31,
   "id": "3ea3c9e5-f7e5-42de-86bb-1fba59ee0be3",
   "metadata": {},
   "outputs": [
    {
     "data": {
      "text/plain": [
       "['SPECIAL_TOKENS_ATTRIBUTES',\n",
       " '__annotations__',\n",
       " '__call__',\n",
       " '__class__',\n",
       " '__delattr__',\n",
       " '__dict__',\n",
       " '__dir__',\n",
       " '__doc__',\n",
       " '__eq__',\n",
       " '__format__',\n",
       " '__ge__',\n",
       " '__getattribute__',\n",
       " '__gt__',\n",
       " '__hash__',\n",
       " '__init__',\n",
       " '__init_subclass__',\n",
       " '__le__',\n",
       " '__len__',\n",
       " '__lt__',\n",
       " '__module__',\n",
       " '__ne__',\n",
       " '__new__',\n",
       " '__reduce__',\n",
       " '__reduce_ex__',\n",
       " '__repr__',\n",
       " '__setattr__',\n",
       " '__sizeof__',\n",
       " '__str__',\n",
       " '__subclasshook__',\n",
       " '__weakref__',\n",
       " '_add_tokens',\n",
       " '_additional_special_tokens',\n",
       " '_batch_encode_plus',\n",
       " '_bos_token',\n",
       " '_cls_token',\n",
       " '_convert_encoding',\n",
       " '_convert_id_to_token',\n",
       " '_convert_token_to_id_with_added_voc',\n",
       " '_create_or_get_repo',\n",
       " '_decode',\n",
       " '_decode_use_source_tokenizer',\n",
       " '_encode_plus',\n",
       " '_eos_token',\n",
       " '_eventual_warn_about_too_long_sequence',\n",
       " '_from_pretrained',\n",
       " '_get_padding_truncation_strategies',\n",
       " '_get_repo_url_from_name',\n",
       " '_mask_token',\n",
       " '_pad',\n",
       " '_pad_token',\n",
       " '_pad_token_type_id',\n",
       " '_push_to_hub',\n",
       " '_save_pretrained',\n",
       " '_sep_token',\n",
       " '_tokenizer',\n",
       " '_unk_token',\n",
       " 'add_special_tokens',\n",
       " 'add_tokens',\n",
       " 'additional_special_tokens',\n",
       " 'additional_special_tokens_ids',\n",
       " 'all_special_ids',\n",
       " 'all_special_tokens',\n",
       " 'all_special_tokens_extended',\n",
       " 'as_target_tokenizer',\n",
       " 'backend_tokenizer',\n",
       " 'batch_decode',\n",
       " 'batch_encode_plus',\n",
       " 'bos_token',\n",
       " 'bos_token_id',\n",
       " 'build_inputs_with_special_tokens',\n",
       " 'can_save_slow_tokenizer',\n",
       " 'clean_up_tokenization',\n",
       " 'cls_token',\n",
       " 'cls_token_id',\n",
       " 'convert_ids_to_tokens',\n",
       " 'convert_tokens_to_ids',\n",
       " 'convert_tokens_to_string',\n",
       " 'create_token_type_ids_from_sequences',\n",
       " 'decode',\n",
       " 'decoder',\n",
       " 'deprecation_warnings',\n",
       " 'do_lower_case',\n",
       " 'encode',\n",
       " 'encode_plus',\n",
       " 'eos_token',\n",
       " 'eos_token_id',\n",
       " 'from_pretrained',\n",
       " 'get_added_vocab',\n",
       " 'get_special_tokens_mask',\n",
       " 'get_vocab',\n",
       " 'init_inputs',\n",
       " 'init_kwargs',\n",
       " 'is_fast',\n",
       " 'mask_token',\n",
       " 'mask_token_id',\n",
       " 'max_len_sentences_pair',\n",
       " 'max_len_single_sentence',\n",
       " 'max_model_input_sizes',\n",
       " 'model_input_names',\n",
       " 'model_max_length',\n",
       " 'name_or_path',\n",
       " 'num_special_tokens_to_add',\n",
       " 'pad',\n",
       " 'pad_token',\n",
       " 'pad_token_id',\n",
       " 'pad_token_type_id',\n",
       " 'padding_side',\n",
       " 'prepare_for_model',\n",
       " 'prepare_seq2seq_batch',\n",
       " 'pretrained_init_configuration',\n",
       " 'pretrained_vocab_files_map',\n",
       " 'push_to_hub',\n",
       " 'sanitize_special_tokens',\n",
       " 'save_pretrained',\n",
       " 'save_vocabulary',\n",
       " 'sep_token',\n",
       " 'sep_token_id',\n",
       " 'set_truncation_and_padding',\n",
       " 'slow_tokenizer_class',\n",
       " 'special_tokens_map',\n",
       " 'special_tokens_map_extended',\n",
       " 'tokenize',\n",
       " 'train_new_from_iterator',\n",
       " 'truncate_sequences',\n",
       " 'unk_token',\n",
       " 'unk_token_id',\n",
       " 'verbose',\n",
       " 'vocab',\n",
       " 'vocab_files_names',\n",
       " 'vocab_size']"
      ]
     },
     "execution_count": 31,
     "metadata": {},
     "output_type": "execute_result"
    }
   ],
   "source": [
    "dir(tokenizer)"
   ]
  },
  {
   "cell_type": "code",
   "execution_count": null,
   "id": "9e491675-c695-42a3-8a02-acd9c06a3dac",
   "metadata": {},
   "outputs": [],
   "source": []
  }
 ],
 "metadata": {
  "kernelspec": {
   "display_name": "magpie",
   "language": "python",
   "name": "python3"
  },
  "language_info": {
   "codemirror_mode": {
    "name": "ipython",
    "version": 3
   },
   "file_extension": ".py",
   "mimetype": "text/x-python",
   "name": "python",
   "nbconvert_exporter": "python",
   "pygments_lexer": "ipython3",
   "version": "3.6.13"
  },
  "vscode": {
   "interpreter": {
    "hash": "55050e98319b7073ef7d052c1c5d52cd576318600045c5fc014a2ed6fc3ecc4d"
   }
  }
 },
 "nbformat": 4,
 "nbformat_minor": 5
}
